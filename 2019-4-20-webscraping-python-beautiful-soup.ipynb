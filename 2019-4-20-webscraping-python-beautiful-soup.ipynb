{
 "cells": [
  {
   "cell_type": "markdown",
   "metadata": {},
   "source": [
    "Scraping Hollywood - Beautiful Soup and Movie Data"
   ]
  },
  {
   "attachments": {},
   "cell_type": "markdown",
   "metadata": {},
   "source": [
    "In my last post about Hollywood movies, I didn't specifically address the engineering challenge of scraping all the data for that analysis. Below, I will go through the process to identify data for scraping using Beautiful Soup (https://www.crummy.com/software/BeautifulSoup/bs4/doc/ )"
   ]
  },
  {
   "cell_type": "markdown",
   "metadata": {},
   "source": [
    "The first step is to identify the data you want to scrape, it's helpful if it's already in some sort of html structure that beautiful soup can use to locate on the page. As you can see, the target page I went after already has sort of a table structure, this means there are html tags we can find with BS. \n",
    "\n",
    "Ok, let's get started!"
   ]
  },
  {
   "cell_type": "code",
   "execution_count": 4,
   "metadata": {},
   "outputs": [],
   "source": []
  },
  {
   "cell_type": "code",
   "execution_count": 25,
   "metadata": {},
   "outputs": [],
   "source": [
    "# import libraries\n",
    "import pandas as pd\n",
    "import numpy as np\n",
    "import requests\n",
    "from bs4 import BeautifulSoup\n",
    "\n",
    "# define BS target url\n",
    "url = ['https://www.the-numbers.com/movie/budgets/all']\n",
    "\n",
    "# I'm sharing a technique for scraping a large list of files, it will only execute once now,\n",
    "# but replace url with a list of pages and this will make sense\n",
    "\n",
    "raw_list = []\n",
    "\n",
    "for url in url:\n",
    "  r = requests.get(url)\n",
    "  soup = BeautifulSoup(r.text)\n",
    "  for x in soup.find_all('tr'):\n",
    "    raw_list.append(x.get_text())\n",
    "\n",
    "data = pd.Series(raw_list)\n",
    "df = data.str.split('\\n', expand=True)"
   ]
  },
  {
   "cell_type": "markdown",
   "metadata": {},
   "source": [
    "So what happened above?\n",
    "\n",
    "We store our string outputs from Beautiful Soup in raw_list.\n",
    "\n",
    "The for loop iterates through every url in our url variable (one in the sample but you can add as many pages as you like) and uses requests.get() to generate a response object r. This response object gives it's text output to BS, which creates our soup object.\n",
    "\n",
    "The power of the soup object is that we can search by html tag. In this case, after (a lot!) of trial and error I found that the <tr> tag demarchated the data I needed.\n",
    "    \n",
    "Finally, by appending all of the data bracketed by the <tr> tag into a list, it ended up saved on different lines, with a '\\n' between elements. This is actually ideal for casting into a dataframe because I could simply save the list as a pandas Series and then perform '.str.split('\\n', expand=True)' \n",
    "\n",
    "By using 'data.str' I treat the series elements as strings.\n",
    "\n",
    "By using '.split('\\n', expand=True)' I split each element along a delimiter, in this case a return ('\\n') and expand each item returned into a new colum (expand=True).\n",
    "\n",
    "We  get the following output:\n",
    " "
   ]
  },
  {
   "cell_type": "code",
   "execution_count": 26,
   "metadata": {},
   "outputs": [
    {
     "data": {
      "text/html": [
       "<div>\n",
       "<style scoped>\n",
       "    .dataframe tbody tr th:only-of-type {\n",
       "        vertical-align: middle;\n",
       "    }\n",
       "\n",
       "    .dataframe tbody tr th {\n",
       "        vertical-align: top;\n",
       "    }\n",
       "\n",
       "    .dataframe thead th {\n",
       "        text-align: right;\n",
       "    }\n",
       "</style>\n",
       "<table border=\"1\" class=\"dataframe\">\n",
       "  <thead>\n",
       "    <tr style=\"text-align: right;\">\n",
       "      <th></th>\n",
       "      <th>0</th>\n",
       "      <th>1</th>\n",
       "      <th>2</th>\n",
       "      <th>3</th>\n",
       "      <th>4</th>\n",
       "      <th>5</th>\n",
       "      <th>6</th>\n",
       "    </tr>\n",
       "  </thead>\n",
       "  <tbody>\n",
       "    <tr>\n",
       "      <th>0</th>\n",
       "      <td>Release DateMovieProduction BudgetDomestic Gr...</td>\n",
       "      <td>None</td>\n",
       "      <td>None</td>\n",
       "      <td>None</td>\n",
       "      <td>None</td>\n",
       "      <td>None</td>\n",
       "      <td>None</td>\n",
       "    </tr>\n",
       "    <tr>\n",
       "      <th>1</th>\n",
       "      <td>1</td>\n",
       "      <td>Dec 18, 2009</td>\n",
       "      <td>Avatar</td>\n",
       "      <td>$425,000,000</td>\n",
       "      <td>$760,507,625</td>\n",
       "      <td>$2,776,345,279</td>\n",
       "      <td></td>\n",
       "    </tr>\n",
       "    <tr>\n",
       "      <th>2</th>\n",
       "      <td>2</td>\n",
       "      <td>May 20, 2011</td>\n",
       "      <td>Pirates of the Caribbean: On Stranger Tides</td>\n",
       "      <td>$410,600,000</td>\n",
       "      <td>$241,063,875</td>\n",
       "      <td>$1,045,663,875</td>\n",
       "      <td></td>\n",
       "    </tr>\n",
       "    <tr>\n",
       "      <th>3</th>\n",
       "      <td>3</td>\n",
       "      <td>May 1, 2015</td>\n",
       "      <td>Avengers: Age of Ultron</td>\n",
       "      <td>$330,600,000</td>\n",
       "      <td>$459,005,868</td>\n",
       "      <td>$1,403,013,963</td>\n",
       "      <td></td>\n",
       "    </tr>\n",
       "    <tr>\n",
       "      <th>4</th>\n",
       "      <td>4</td>\n",
       "      <td>Dec 15, 2017</td>\n",
       "      <td>Star Wars Ep. VIII: The Last Jedi</td>\n",
       "      <td>$317,000,000</td>\n",
       "      <td>$620,181,382</td>\n",
       "      <td>$1,316,721,747</td>\n",
       "      <td></td>\n",
       "    </tr>\n",
       "  </tbody>\n",
       "</table>\n",
       "</div>"
      ],
      "text/plain": [
       "                                                   0             1  \\\n",
       "0   Release DateMovieProduction BudgetDomestic Gr...          None   \n",
       "1                                                  1  Dec 18, 2009   \n",
       "2                                                  2  May 20, 2011   \n",
       "3                                                  3   May 1, 2015   \n",
       "4                                                  4  Dec 15, 2017   \n",
       "\n",
       "                                             2             3             4  \\\n",
       "0                                         None          None          None   \n",
       "1                                       Avatar  $425,000,000  $760,507,625   \n",
       "2  Pirates of the Caribbean: On Stranger Tides  $410,600,000  $241,063,875   \n",
       "3                      Avengers: Age of Ultron  $330,600,000  $459,005,868   \n",
       "4            Star Wars Ep. VIII: The Last Jedi  $317,000,000  $620,181,382   \n",
       "\n",
       "                5     6  \n",
       "0            None  None  \n",
       "1  $2,776,345,279        \n",
       "2  $1,045,663,875        \n",
       "3  $1,403,013,963        \n",
       "4  $1,316,721,747        "
      ]
     },
     "execution_count": 26,
     "metadata": {},
     "output_type": "execute_result"
    }
   ],
   "source": [
    "df.head()"
   ]
  },
  {
   "cell_type": "markdown",
   "metadata": {},
   "source": [
    "Refering back to our source page, we can see what the column headings ought to be and rename them."
   ]
  },
  {
   "cell_type": "code",
   "execution_count": 28,
   "metadata": {},
   "outputs": [
    {
     "data": {
      "text/html": [
       "<div>\n",
       "<style scoped>\n",
       "    .dataframe tbody tr th:only-of-type {\n",
       "        vertical-align: middle;\n",
       "    }\n",
       "\n",
       "    .dataframe tbody tr th {\n",
       "        vertical-align: top;\n",
       "    }\n",
       "\n",
       "    .dataframe thead th {\n",
       "        text-align: right;\n",
       "    }\n",
       "</style>\n",
       "<table border=\"1\" class=\"dataframe\">\n",
       "  <thead>\n",
       "    <tr style=\"text-align: right;\">\n",
       "      <th></th>\n",
       "      <th>Release Date</th>\n",
       "      <th>Movie</th>\n",
       "      <th>Production Budget</th>\n",
       "      <th>Domestic Gross</th>\n",
       "      <th>Worldwide Gross</th>\n",
       "    </tr>\n",
       "  </thead>\n",
       "  <tbody>\n",
       "    <tr>\n",
       "      <th>1</th>\n",
       "      <td>Dec 18, 2009</td>\n",
       "      <td>Avatar</td>\n",
       "      <td>$425,000,000</td>\n",
       "      <td>$760,507,625</td>\n",
       "      <td>$2,776,345,279</td>\n",
       "    </tr>\n",
       "    <tr>\n",
       "      <th>2</th>\n",
       "      <td>May 20, 2011</td>\n",
       "      <td>Pirates of the Caribbean: On Stranger Tides</td>\n",
       "      <td>$410,600,000</td>\n",
       "      <td>$241,063,875</td>\n",
       "      <td>$1,045,663,875</td>\n",
       "    </tr>\n",
       "    <tr>\n",
       "      <th>3</th>\n",
       "      <td>May 1, 2015</td>\n",
       "      <td>Avengers: Age of Ultron</td>\n",
       "      <td>$330,600,000</td>\n",
       "      <td>$459,005,868</td>\n",
       "      <td>$1,403,013,963</td>\n",
       "    </tr>\n",
       "    <tr>\n",
       "      <th>4</th>\n",
       "      <td>Dec 15, 2017</td>\n",
       "      <td>Star Wars Ep. VIII: The Last Jedi</td>\n",
       "      <td>$317,000,000</td>\n",
       "      <td>$620,181,382</td>\n",
       "      <td>$1,316,721,747</td>\n",
       "    </tr>\n",
       "    <tr>\n",
       "      <th>5</th>\n",
       "      <td>Dec 18, 2015</td>\n",
       "      <td>Star Wars Ep. VII: The Force Awakens</td>\n",
       "      <td>$306,000,000</td>\n",
       "      <td>$936,662,225</td>\n",
       "      <td>$2,053,311,220</td>\n",
       "    </tr>\n",
       "  </tbody>\n",
       "</table>\n",
       "</div>"
      ],
      "text/plain": [
       "   Release Date                                        Movie  \\\n",
       "1  Dec 18, 2009                                       Avatar   \n",
       "2  May 20, 2011  Pirates of the Caribbean: On Stranger Tides   \n",
       "3   May 1, 2015                      Avengers: Age of Ultron   \n",
       "4  Dec 15, 2017            Star Wars Ep. VIII: The Last Jedi   \n",
       "5  Dec 18, 2015         Star Wars Ep. VII: The Force Awakens   \n",
       "\n",
       "  Production Budget Domestic Gross Worldwide Gross  \n",
       "1      $425,000,000   $760,507,625  $2,776,345,279  \n",
       "2      $410,600,000   $241,063,875  $1,045,663,875  \n",
       "3      $330,600,000   $459,005,868  $1,403,013,963  \n",
       "4      $317,000,000   $620,181,382  $1,316,721,747  \n",
       "5      $306,000,000   $936,662,225  $2,053,311,220  "
      ]
     },
     "execution_count": 28,
     "metadata": {},
     "output_type": "execute_result"
    }
   ],
   "source": [
    "# cleaning column names, and dropping nans\n",
    "df = df.drop(columns = [0,6]).drop([0]).dropna(how='all').rename(columns={1: 'Release Date', 2:'Movie', \n",
    "                                        3:'Production Budget', 4: 'Domestic Gross', 5:'Worldwide Gross'})\n",
    "df.head()"
   ]
  },
  {
   "cell_type": "markdown",
   "metadata": {},
   "source": [
    "Now we end up with a good looking dataframe. We still need to check the dtypes, remove some nulls, etc, but you can check my post here on how to remove nans.\n",
    "\n",
    "Thanks for reading!"
   ]
  }
 ],
 "metadata": {
  "kernelspec": {
   "display_name": "Python 3",
   "language": "python",
   "name": "python3"
  },
  "language_info": {
   "codemirror_mode": {
    "name": "ipython",
    "version": 3
   },
   "file_extension": ".py",
   "mimetype": "text/x-python",
   "name": "python",
   "nbconvert_exporter": "python",
   "pygments_lexer": "ipython3",
   "version": "3.7.0"
  }
 },
 "nbformat": 4,
 "nbformat_minor": 2
}
