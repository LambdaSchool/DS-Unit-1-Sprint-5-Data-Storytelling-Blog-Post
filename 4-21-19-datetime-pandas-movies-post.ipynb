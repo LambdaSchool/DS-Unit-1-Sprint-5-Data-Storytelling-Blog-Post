{
 "cells": [
  {
   "cell_type": "markdown",
   "metadata": {},
   "source": [
    "Datetime Objects in Pandas - Strengths and Limitations\n",
    "\n",
    "In my last post about movie budgets, one of the key feature categeories was the Release Dates of films. Dates are an interesting linguistic structure bceause different cultures represent them differently for example 2019-04-21 or YYYY-MM-DD, this is totally intuitive, biggest unti to smallest unit, year then month then day. \n",
    "\n",
    "Of course in the USA the standard date format is MM-DD-YYYY, which makes absolutely no sense to me but has to be delt with in most US source datasets.\n",
    "\n",
    "Let's see how this shows up in my movie dataset:\n"
   ]
  },
  {
   "cell_type": "code",
   "execution_count": null,
   "metadata": {},
   "outputs": [],
   "source": [
    "# Import libraries \n",
    "import pandas as pd\n",
    "import numpy as np\n",
    "import matplotlib\n",
    "import matplotlib.pyplot as plt"
   ]
  },
  {
   "cell_type": "code",
   "execution_count": null,
   "metadata": {},
   "outputs": [],
   "source": [
    "# load data and relabel\n",
    "df = pd.read_csv('the_numbers_2009.csv')\n",
    "\n",
    "# cleaning column names, and dropping nans\n",
    "df = df.drop(columns = ['Unnamed: 0', '0', '6']).drop([0]).dropna(how='all').rename(columns={'1': 'Release Date', '2':'Movie',\n",
    "                                '3':'Production Budget', '4': 'Domestic Gross', '5':'Worldwide Gross'})"
   ]
  },
  {
   "cell_type": "code",
   "execution_count": null,
   "metadata": {},
   "outputs": [],
   "source": [
    "# Now we can set dtypes before describing our data\n",
    "df.dtypes"
   ]
  },
  {
   "cell_type": "code",
   "execution_count": null,
   "metadata": {},
   "outputs": [],
   "source": [
    "df.head()"
   ]
  },
  {
   "cell_type": "markdown",
   "metadata": {},
   "source": [
    "Note that Release date is listed as an 'object', in fact all features are, this means that pandas read all of these features as strings, because they all contained characters, numbers, and symbols, no clear datatype was identified by the pandas parser.\n",
    "\n",
    "The Movie category can stay a string, while the three numerical categories can be easily cast to float.\n",
    "\n",
    "What I would like to focus on is how we deal with dates. Pandas actually has a very sophisticated function that can parse our dates (even in DD-MMM-YY format) into a datetime object."
   ]
  },
  {
   "cell_type": "code",
   "execution_count": 5,
   "metadata": {},
   "outputs": [],
   "source": [
    "# and now I'll cast our dates into datetime objects\n",
    "df['Release Date'] = pd.to_datetime(df['Release Date'],  infer_datetime_format=True)"
   ]
  },
  {
   "cell_type": "code",
   "execution_count": 9,
   "metadata": {},
   "outputs": [
    {
     "data": {
      "text/plain": [
       "Release Date         datetime64[ns]\n",
       "Movie                        object\n",
       "Production Budget            object\n",
       "Domestic Gross               object\n",
       "Worldwide Gross              object\n",
       "dtype: object"
      ]
     },
     "execution_count": 9,
     "metadata": {},
     "output_type": "execute_result"
    }
   ],
   "source": [
    "df.dtypes"
   ]
  },
  {
   "cell_type": "code",
   "execution_count": null,
   "metadata": {},
   "outputs": [],
   "source": [
    "dates = matplotlib.dates.date2num(df['Release Date'])\n",
    "budgets = df['Production Budget']\n",
    "gross = df['Worldwide Gross']\n",
    "\n",
    "plt.plot_date(dates, budgets, c = 'red')\n"
   ]
  },
  {
   "cell_type": "code",
   "execution_count": 8,
   "metadata": {
    "scrolled": true
   },
   "outputs": [
    {
     "data": {
      "text/plain": [
       "(count                    5729\n",
       " unique                   2396\n",
       " top       2015-12-31 00:00:00\n",
       " freq                       24\n",
       " first     1969-01-01 00:00:00\n",
       " last      2068-12-11 00:00:00\n",
       " Name: Release Date, dtype: object, dtype('<M8[ns]'))"
      ]
     },
     "execution_count": 8,
     "metadata": {},
     "output_type": "execute_result"
    }
   ],
   "source": [
    "df['Release Date'].describe()"
   ]
  },
  {
   "cell_type": "markdown",
   "metadata": {},
   "source": [
    "This one line of code has turned our strings into a datetime object, infering the date format automatically. However, when we look at the values, we can see some future dates that don't make sense. No movies have been planned for realease in 2068 to my knowledge, so let's explore that.\n",
    "\n",
    "Actually, matplot lib has a very handy "
   ]
  }
 ],
 "metadata": {
  "kernelspec": {
   "display_name": "Python 3",
   "language": "python",
   "name": "python3"
  },
  "language_info": {
   "codemirror_mode": {
    "name": "ipython",
    "version": 3
   },
   "file_extension": ".py",
   "mimetype": "text/x-python",
   "name": "python",
   "nbconvert_exporter": "python",
   "pygments_lexer": "ipython3",
   "version": "3.7.0"
  }
 },
 "nbformat": 4,
 "nbformat_minor": 2
}
