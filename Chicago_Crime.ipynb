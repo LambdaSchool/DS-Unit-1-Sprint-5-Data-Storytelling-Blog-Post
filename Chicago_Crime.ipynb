{
 "cells": [
  {
   "cell_type": "code",
   "execution_count": 1,
   "metadata": {},
   "outputs": [],
   "source": [
    "import matplotlib.pyplot as plt\n",
    "import seaborn as sns\n",
    "import numpy as np\n",
    "import pandas as pd\n",
    "\n",
    "import folium\n",
    "from folium.plugins import HeatMap"
   ]
  },
  {
   "cell_type": "code",
   "execution_count": 8,
   "metadata": {},
   "outputs": [
    {
     "name": "stdout",
     "output_type": "stream",
     "text": [
      "/Users/connorheraty/Desktop/Chicago_Crime\n"
     ]
    }
   ],
   "source": [
    "cd Chicago_Crime"
   ]
  },
  {
   "cell_type": "code",
   "execution_count": null,
   "metadata": {},
   "outputs": [],
   "source": [
    "# Load csv locally\n",
    "df = pd.read_csv('Crimes_-_2001_to_present.csv')\n",
    "pd.set_option('display.max_columns', None)\n",
    "pd.set_option('display.max_rows', None)"
   ]
  },
  {
   "cell_type": "code",
   "execution_count": null,
   "metadata": {},
   "outputs": [],
   "source": [
    "# Drop all rows not used in analysis\n",
    "df = df.drop(['ID',\n",
    "              'Case Number',\n",
    "              'Block',\n",
    "              'IUCR',\n",
    "              'FBI Code',\n",
    "              'Updated On',\n",
    "              'Location',\n",
    "              'Beat',\n",
    "              'X Coordinate',\n",
    "              'Y Coordinate',\n",
    "              'Ward',\n",
    "              'Domestic',\n",
    "              'District',\n",
    "              'Location Description',\n",
    "              'Arrest'], axis=1)\n",
    "\n",
    "df = df.rename({'Primary Type' : 'crime_type'}, axis=1)"
   ]
  },
  {
   "cell_type": "code",
   "execution_count": null,
   "metadata": {},
   "outputs": [],
   "source": [
    "df.head()"
   ]
  },
  {
   "cell_type": "code",
   "execution_count": null,
   "metadata": {},
   "outputs": [],
   "source": [
    "# Create 3 seperate dataframes for 2002, 2010, 2018 for analysis\n",
    "_2010_df = df[df['Year'] == 2010]\n",
    "_2010_df = _2010_df.reset_index()\n",
    "\n",
    "_2002_df = df[df['Year'] == 2002]\n",
    "_2002_df = _2002_df.reset_index()\n",
    "\n",
    "_2018_df = df[df['Year'] == 2018]\n",
    "_2018_df = _2018_df.reset_index()"
   ]
  },
  {
   "cell_type": "code",
   "execution_count": null,
   "metadata": {},
   "outputs": [],
   "source": [
    "# Create groupby tables for each dataframe totaling crimes by crimetype\n",
    "_2018_group = (_2018_df\n",
    "             .groupby('crime_type')\n",
    "             .crime_type.agg(['count'])\n",
    "             .rename({'crime_type':'Crime'}, axis=1))\n",
    "\n",
    "_2018_group = pd.DataFrame(_2018_group)\n",
    "_2018_crime_type = _2018_group.reset_index()\n",
    "_2018_crime_type = _2018_crime_type.sort_values('count', ascending=False)\n",
    "\n",
    "_2010_group = (_2010_df\n",
    "             .groupby('crime_type')\n",
    "             .crime_type.agg(['count'])\n",
    "             .rename({'crime_type':'Crime'}, axis=1))\n",
    "\n",
    "_2010_group = pd.DataFrame(_2010_group)\n",
    "_2010_crime_type = _2010_group.reset_index()\n",
    "_2010_crime_type = _2010_crime_type.sort_values('count', ascending=False)\n",
    "\n",
    "_2002_group = (_2002_df\n",
    "             .groupby('crime_type')\n",
    "             .crime_type.agg(['count'])\n",
    "             .rename({'crime_type':'Crime'}, axis=1))\n",
    "\n",
    "_2002_group = pd.DataFrame(_2002_group)\n",
    "_2002_crime_type = _2002_group.reset_index()\n",
    "_2002_crime_type = _2002_crime_type.sort_values('count', ascending=False)"
   ]
  },
  {
   "cell_type": "code",
   "execution_count": null,
   "metadata": {},
   "outputs": [],
   "source": [
    "# Merge, rename, and sort maain table\n",
    "df_test = pd.merge(_2018_crime_type, _2002_crime_type, on = 'crime_type')\n",
    "df_test = pd.merge(df_test, _2010_crime_type, on='crime_type')\n",
    "df_top10 = df_test.rename({'count_x' : '2018', 'count_y' : '2002', 'count' : '2010'}, axis=1).head(10)\n",
    "df_top10 = df_top10.sort_values('2002', ascending=False)\n",
    "df_top10"
   ]
  },
  {
   "cell_type": "code",
   "execution_count": null,
   "metadata": {},
   "outputs": [],
   "source": [
    "plt.style.use('fivethirtyeight')\n",
    "\n",
    "fig, ax = plt.subplots(nrows=1, ncols=1, figsize=(30,15))\n",
    "\n",
    "\n",
    "n_groups = 10\n",
    "index = np.arange(n_groups)\n",
    "width = .35\n",
    "\n",
    "rects1 = ax.bar(index-width/1.5, df_top10['2002'], width,\n",
    "               color='SkyBlue', label='2002')\n",
    "rects2 = ax.bar(index, df_top10['2010'], width,\n",
    "               color='White', label='2010')\n",
    "rects2 = ax.bar(index+width/1.5, df_top10['2018'], width,\n",
    "               color='IndianRed', label='2018')\n",
    "\n",
    "\n",
    "ax.set_ylabel('Number of Crimes', fontsize=30)\n",
    "ax.set_yticks([0, 20000, 40000, 60000, 80000, 100000])\n",
    "ax.set_yticklabels(['0', '20,000','40,000', '60,000', '80,000', '100,000'],\n",
    "                   fontsize=20)\n",
    "\n",
    "ax.set_xticks(index)\n",
    "ax.set_xticklabels(['Theft', 'Battery', 'Criminal Damage', 'Narcotics', 'Other Offense',\n",
    "                    'Assault', 'Burglary', 'Motor Vehicle Theft', 'Robbery', 'Deceptive Practice'],\n",
    "                  fontsize=20)\n",
    "\n",
    "ax.legend(fontsize='xx-large')\n",
    "\n",
    "ax.text(x = -1.2, y = 110000,\n",
    "    s =\"What crimes are being committed in Chicago?\",\n",
    "    fontsize = 40, weight = 'bold', alpha=.75)\n",
    "\n",
    "ax.text(x = -1.2, y = 105000,\n",
    "    s =\"Top 10 List\",\n",
    "    fontsize = 30, alpha=.75)\n",
    "\n",
    "\n",
    "\n",
    "#Add informational bar at bottom of graph\n",
    "ax.text(x = -1.6, y = -7000, \n",
    "    s = '    connorpheraty.github.io                                                                            Source: Chicago Data Portal   ',\n",
    "    fontsize = 25, color = '#f0f0f0', backgroundcolor = '#585859', family = 'monospace')\n",
    "\n",
    "ax.set_facecolor('#919191')\n",
    "\n",
    "plt.show()"
   ]
  },
  {
   "cell_type": "code",
   "execution_count": null,
   "metadata": {},
   "outputs": [],
   "source": [
    "#------------------------------------------ Moving on -----------------------------------------------#"
   ]
  },
  {
   "cell_type": "code",
   "execution_count": null,
   "metadata": {},
   "outputs": [],
   "source": [
    "# Database containing only possession offenses of Cannabis for 30 grams or less\n",
    "df_marij_main = df[df['Description'] == 'POSS: CANNABIS 30GMS OR LESS']\n",
    "\n",
    "# Database containing all other narcotics offenses\n",
    "df_narc = df[df['crime_type'] == 'NARCOTICS']\n",
    "df_narc_main = df_narc[df_narc['Description'] != 'POSS: CANNABIS 30GMS OR LESS']"
   ]
  },
  {
   "cell_type": "code",
   "execution_count": null,
   "metadata": {},
   "outputs": [],
   "source": [
    "# Create \n",
    "df_narc = df_narc_main.groupby('Year')['crime_type'].count()\n",
    "df_narc = pd.DataFrame(df_narc)\n",
    "df_narc = df_narc.reset_index()\n",
    "\n",
    "df_marij = df_marij_main.groupby('Year')['crime_type'].count()\n",
    "df_marij = pd.DataFrame(df_marij)\n",
    "df_marij = df_marij.reset_index()"
   ]
  },
  {
   "cell_type": "code",
   "execution_count": null,
   "metadata": {},
   "outputs": [],
   "source": [
    "fig, ax = plt.subplots(nrows=1, ncols=1, figsize=(30,15))\n",
    "\n",
    "\n",
    "n_groups = 19\n",
    "index = np.arange(n_groups)\n",
    "width = .35\n",
    "\n",
    "rects1 = ax.bar(index - width/2, df_narc['crime_type'], width,\n",
    "               color='IndianRed')\n",
    "rects2 = ax.bar(index + width/2, df_marij['crime_type'], width,\n",
    "               color='SkyBlue')\n",
    "\n",
    "\n",
    "ax.set_ylabel('Number of Offenses', fontsize=30)\n",
    "ax.set_yticks([0, 5000, 10000, 15000, 20000, 25000, 30000, 35000, 40000])\n",
    "ax.set_yticklabels(['0', '5,000','10,000', '15,000', '20,000', '25,000',\n",
    "                    '30,000', '35,000', '40,000'],\n",
    "                   fontsize=20)\n",
    "\n",
    "ax.set_xticks(index)\n",
    "ax.set_xticklabels(['2001', '2002', '2003', '2004', '2005',\n",
    "                    '2006', '2007', '2008', '2009', '2010',\n",
    "                    '2011', '2012', '2013', '2014', '2015',\n",
    "                    '2016', '2017', '2018', '2019'], fontsize=20)\n",
    "\n",
    "ax.legend((rects1[0], rects2[0]), ('Other Narcotics Offenses', 'Marijuana Offenses'), fontsize = 'xx-large')\n",
    "\n",
    "ax.text(x = -2, y = 45000,\n",
    "    s =\"An Armistice in Chicago's Drug War\",\n",
    "    fontsize = 40, weight = 'bold', alpha=.75)\n",
    "\n",
    "ax.text(x = -2, y = 43000,\n",
    "    s =\"The Windy City has seen drug offenses decrease year over year since 2007\",\n",
    "    fontsize = 30, alpha=.75)\n",
    "\n",
    "\n",
    "\n",
    "#Add informational bar at bottom of graph\n",
    "ax.text(x = -2.5, y = -2500, \n",
    "    s = '      connorpheraty.github.io                                                                         Source: Chicago Data Portal   ',\n",
    "    fontsize = 25, color = '#f0f0f0', backgroundcolor = '#585859', family ='monospace')\n",
    "\n",
    "plt.show()"
   ]
  },
  {
   "cell_type": "code",
   "execution_count": null,
   "metadata": {},
   "outputs": [],
   "source": [
    "#------------------------------------------ Moving on -----------------------------------------------#"
   ]
  },
  {
   "cell_type": "code",
   "execution_count": null,
   "metadata": {},
   "outputs": [],
   "source": [
    "df_marij_2002 = df_marij_main[df_marij_main['Year'] == 2002]\n",
    "df_marij_2018 = df_marij_main[df_marij_main['Year'] == 2018]\n",
    "\n",
    "df_narc_2002 = df_narc_main[df_narc_main['Year'] == 2002]\n",
    "df_narc_2018 = df_narc_main[df_narc_main['Year'] == 2018]"
   ]
  },
  {
   "cell_type": "code",
   "execution_count": null,
   "metadata": {},
   "outputs": [],
   "source": [
    "# Function to generate folium map\n",
    "def generateBaseMap(default_location=[41.896494, -87.690561], default_zoom_start=12):\n",
    "    base_map = folium.Map(location = default_location, control_scale=True, zoom_start= default_zoom_start)\n",
    "    return base_map"
   ]
  },
  {
   "cell_type": "code",
   "execution_count": null,
   "metadata": {},
   "outputs": [],
   "source": [
    "# Running folium function and formatting background\n",
    "base_map = generateBaseMap()\n",
    "folium.TileLayer('cartodbpositron').add_to(base_map)"
   ]
  },
  {
   "cell_type": "code",
   "execution_count": null,
   "metadata": {},
   "outputs": [],
   "source": [
    "# Plotting 'Non-Marijuana' possession offenses for 2002\n",
    "df_copy = df_narc_2002.copy()\n",
    "df_copy['count'] = 1\n",
    "base_map = generateBaseMap()\n",
    "folium.TileLayer('cartodbpositron').add_to(base_map)\n",
    "HeatMap(data=df_copy[['Latitude', 'Longitude', 'count']].groupby(['Latitude', 'Longitude']).sum().reset_index().values.tolist(),\n",
    "       radius=8, max_zoom=13).add_to(base_map)\n",
    "\n",
    "base_map"
   ]
  },
  {
   "cell_type": "code",
   "execution_count": null,
   "metadata": {},
   "outputs": [],
   "source": [
    "# Plotting 'Non-Marijuana' possession offenses for 2018\n",
    "df_copy = df_narc_2018.copy()\n",
    "df_copy['count'] = 1\n",
    "base_map = generateBaseMap()\n",
    "folium.TileLayer('cartodbpositron').add_to(base_map)\n",
    "HeatMap(data=df_copy[['Latitude', 'Longitude', 'count']].groupby(['Latitude', 'Longitude']).sum().reset_index().values.tolist(),\n",
    "       radius=8, max_zoom=13).add_to(base_map)\n",
    "\n",
    "base_map"
   ]
  },
  {
   "cell_type": "code",
   "execution_count": null,
   "metadata": {},
   "outputs": [],
   "source": [
    "# Plotting Marijuana possession offenses for 2002\n",
    "df_copy = df_marij_2002.copy()\n",
    "df_copy['count'] = 1\n",
    "base_map = generateBaseMap()\n",
    "folium.TileLayer('cartodbpositron').add_to(base_map)\n",
    "HeatMap(data=df_copy[['Latitude', 'Longitude', 'count']].groupby(['Latitude', 'Longitude']).sum().reset_index().values.tolist(),\n",
    "       radius=8, max_zoom=13).add_to(base_map)\n",
    "\n",
    "base_map"
   ]
  },
  {
   "cell_type": "code",
   "execution_count": null,
   "metadata": {},
   "outputs": [],
   "source": [
    "# Plotting Marijuana possession offenses for 2018\n",
    "df_copy = df_marij_2018.copy()\n",
    "df_copy['count'] = 1\n",
    "base_map = generateBaseMap()\n",
    "folium.TileLayer('cartodbpositron').add_to(base_map)\n",
    "HeatMap(data=df_copy[['Latitude', 'Longitude', 'count']].groupby(['Latitude', 'Longitude']).sum().reset_index().values.tolist(),\n",
    "       radius=8, max_zoom=13).add_to(base_map)\n",
    "\n",
    "base_map"
   ]
  },
  {
   "cell_type": "code",
   "execution_count": null,
   "metadata": {},
   "outputs": [],
   "source": [
    "#------------------------------------------ Moving on -----------------------------------------------#"
   ]
  },
  {
   "cell_type": "code",
   "execution_count": null,
   "metadata": {},
   "outputs": [],
   "source": [
    "# Dictionary containing neighborhood name, neighborhood location, and 2010 population\n",
    "\n",
    "chi_dict = {\n",
    "    '1.0': ('Rogers Park', 'Far North Side', 54991),\n",
    "    '2.0': ('West Ridge', 'Far North Side', 71942),\n",
    "    '3.0': ('Uptown', 'Far North Side', 56362),\n",
    "    '4.0': ('Lincoln Square', 'Far North Side', 39493),\n",
    "    '5.0': ('North Center', 'Far North Side', 31867),\n",
    "    '6.0': ('Lake View', 'North Side', 94368),\n",
    "    '7.0': ('Lincoln Park', 'North Side', 64116),\n",
    "    '8.0': ('Near North Side', 'Central', 80484),\n",
    "    '9.0': ('Edison Park', 'Far North Side', 11187),\n",
    "    '10.0': ('Norwood Park', 'Far North Side', 37023),\n",
    "    '11.0': ('Jefferson Park','Far North Side', 25448),\n",
    "    '12.0': ('Forest Glen', 'Far North Side', 18508),\n",
    "    '13.0': ('North Park', 'Far North Side', 17931),\n",
    "    '14.0': ('Albany Park', 'Far North Side', 51542),\n",
    "    '15.0': ('Portage Park', 'Northwest Side', 64124),\n",
    "    '16.0': ('Irving Park', 'Northwest Side', 53359),\n",
    "    '17.0': ('Dunning', 'Northwest Side', 41932),\n",
    "    '18.0': ('Montclare', 'Northwest Side', 13426),\n",
    "    '19.0': ('Belmont Cragin', 'Northwest Side', 78743),\n",
    "    '20.0': ('Hermosa', 'Northwest Side', 25010),\n",
    "    '21.0': ('Avondale', 'North Side', 39262),\n",
    "    '22.0': ('Logan Square', 'North Side', 73595),\n",
    "    '23.0': ('Humboldt Park', 'West Side', 56323),\n",
    "    '24.0': ('West Town', 'West Side', 81432),\n",
    "    '25.0': ('Austin', 'West Side', 98514),\n",
    "    '26.0': ('W. Garfield Park', 'West Side', 18001),\n",
    "    '27.0': ('E. Garfield Park', 'West Side', 20567),\n",
    "    '28.0': ('Near West Side', 'West Side', 54881),\n",
    "    '29.0': ('North Lawndale', 'West Side', 35912),\n",
    "    '30.0': ('South Lawndale', 'West Side', 79288),\n",
    "    '31.0': ('Lower West Side', 'West Side', 35769),\n",
    "    '32.0': ('The Loop', 'Central', 29283),\n",
    "    '33.0': ('Near South Side', 'Central', 21390),\n",
    "    '34.0': ('Armour Square', 'South Side', 13391),\n",
    "    '35.0': ('Douglas', 'South Side', 18238),\n",
    "    '36.0': ('Oakland', 'South Side', 5918),\n",
    "    '37.0': ('Fuller Park', 'South Side', 2876),\n",
    "    '38.0': ('Grand Boulevard', 'South Side', 21929),\n",
    "    '39.0': ('Kenwood', 'South Side', 17841),\n",
    "    '40.0': ('Washington Park', 'South Side', 11717),\n",
    "    '41.0': ('Hyde Park', 'South Side', 25681),\n",
    "    '42.0': ('Woodlawn', 'South Side', 25983),\n",
    "    '43.0': ('South Shore', 'South Side', 49767),\n",
    "    '44.0': ('Chatham', 'Far Southeast Side', 31028),\n",
    "    '45.0': ('Avalon Park', 'Far Southeast Side', 10185),\n",
    "    '46.0': ('South Chicago', 'Far Southeast Side', 31198),\n",
    "    '47.0': ('Burnside', 'Far Southeast Side', 2916),\n",
    "    '48.0': ('Calumet Heights', 'Far Southeast Side', 13812),\n",
    "    '49.0': ('Roseland', 'Far Southeast Side', 44619),\n",
    "    '50.0': ('Pullman', 'Far Southeast Side', 7325),\n",
    "    '51.0': ('South Deering', 'Far Southeast Side', 15109),\n",
    "    '52.0': ('East Side', 'Far Southeast Side', 23042),\n",
    "    '53.0': ('West Pullman', 'Far Southeast Side', 29651),\n",
    "    '54.0': ('Riverdale', 'Far Southeast Side', 6482),\n",
    "    '55.0': ('Hegeswisch', 'Far Southeast Side', 9426),\n",
    "    '56.0': ('Garfield Ridge', 'Southwest Side', 34513),\n",
    "    '57.0': ('Archer Heights', 'Southwest Side', 13393),\n",
    "    '58.0': ('Brighton Park', 'Southwest Side', 45368),\n",
    "    '59.0': ('McKinley Park', 'Southwest Side', 15612),\n",
    "    '60.0': ('Bridgeport', 'South Side', 31977),\n",
    "    '61.0': ('New City', 'Southwest Side', 44377),\n",
    "    '62.0': ('West Eisdon', 'Southwest Side', 18109),\n",
    "    '63.0': ('Gage Park', 'Southwest Side', 39894),\n",
    "    '64.0': ('Clearing', 'Southwest Side', 23139),\n",
    "    '65.0': ('West Lawn', 'Southwest Side', 33355),\n",
    "    '66.0': ('Chicago Lawn', 'Southwest Side', 55628),\n",
    "    '67.0': ('West Englewood', 'Southwest Side', 35505),\n",
    "    '68.0': ('Englewood', 'Southwest Side', 30654),\n",
    "    '69.0': ('Greater Grand Crossing', 'South Side', 32602),\n",
    "    '70.0': ('Ashburn', 'Far Southwest Side', 41081),\n",
    "    '71.0': ('Auburn Gresham', 'Far Southwest Side', 48743),\n",
    "    '72.0': ('Beverly', 'Far Southwest Side', 20034),\n",
    "    '73.0': ('Washington Heights', 'Far Southwest Side', 26493),\n",
    "    '74.0': ('Mount Greenwood', 'Far Southwest Side', 19093),\n",
    "    '75.0': ('Morgan Park', 'Far Southwest Side', 22544),\n",
    "    '76.0': (\"O'Hare\", 'Far North Side', 12756)\n",
    "    \n",
    "}"
   ]
  },
  {
   "cell_type": "code",
   "execution_count": null,
   "metadata": {},
   "outputs": [],
   "source": [
    "# Add column of 1's for counting \n",
    "df_marij_main['Count'] = 1"
   ]
  },
  {
   "cell_type": "code",
   "execution_count": null,
   "metadata": {},
   "outputs": [],
   "source": [
    "#Eliminate years 2001 and 2019 (incomplete)\n",
    "df_marij_main = df_marij_main[df_marij_main['Year'] != 2001]\n",
    "df_marij_main = df_marij_main[df_marij_main['Year'] != 2019]"
   ]
  },
  {
   "cell_type": "code",
   "execution_count": null,
   "metadata": {},
   "outputs": [],
   "source": [
    "# Groupby dataframe for Community area and Year\n",
    "df_test = df_marij_main.groupby(['Community Area', 'Year']).Count.agg('sum')"
   ]
  },
  {
   "cell_type": "code",
   "execution_count": null,
   "metadata": {},
   "outputs": [],
   "source": [
    "# Apply chi_dict to community area values\n",
    "df_test = pd.DataFrame(df_test)\n",
    "df_test = df_test.reset_index()\n",
    "df_test['Community Area'] = df_test['Community Area'].astype(str)\n",
    "df_test['Community'] = df_test['Community Area'].map(chi_dict)\n",
    "df_test[['Neighborhood', 'Side', 'Population']] = df_test['Community'].apply(pd.Series) #unpack tuple\n",
    "df_test = df_test.drop('Community', axis=1)"
   ]
  },
  {
   "cell_type": "code",
   "execution_count": null,
   "metadata": {},
   "outputs": [],
   "source": [
    "# Eliminate community area 0's\n",
    "df_test = df_test[2:]"
   ]
  },
  {
   "cell_type": "code",
   "execution_count": null,
   "metadata": {},
   "outputs": [],
   "source": [
    "# Create column showing incidences per 100,000 residents (per capita)\n",
    "df_test['PerCapita'] = (df_test['Count'] / df_test['Population']) * 100000"
   ]
  },
  {
   "cell_type": "code",
   "execution_count": null,
   "metadata": {},
   "outputs": [],
   "source": [
    "# Groupby dataframe on geographical location ('side')\n",
    "df_group = df_test.groupby(['Side', 'Year']).PerCapita.agg(['sum'])\n",
    "df_group = df_group.reset_index()\n",
    "df_group"
   ]
  },
  {
   "cell_type": "code",
   "execution_count": null,
   "metadata": {},
   "outputs": [],
   "source": [
    "#Creating individual dataframes for each region to plot\n",
    "\n",
    "df_group_central = df_group[df_group['Side'] == 'Central']\n",
    "df_group_far_north = df_group[df_group['Side'] == 'Far North Side']\n",
    "df_group_north = df_group[df_group['Side'] == 'North Side']\n",
    "df_group_northwest = df_group[df_group['Side'] == 'Northwest Side']\n",
    "df_group_south = df_group[df_group['Side'] == 'South Side']\n",
    "df_group_southwest = df_group[df_group['Side'] == 'Southwest Side']\n",
    "df_group_west = df_group[df_group['Side'] == 'West Side']\n",
    "df_group_far_southeast = df_group[df_group['Side'] == 'Far Southeast Side']\n",
    "df_group_far_southwest = df_group[df_group['Side'] == 'Far Southwest Side']"
   ]
  },
  {
   "cell_type": "code",
   "execution_count": null,
   "metadata": {
    "scrolled": false
   },
   "outputs": [],
   "source": [
    "fig, ax = plt.subplots(nrows=1, ncols=1, figsize=(30,15))\n",
    "\n",
    "n_groups = 17\n",
    "index = np.arange(n_groups)\n",
    "\n",
    "#Each individual lineplot\n",
    "central = ax.plot(df_group_central['Year'], df_group_central['sum'], color = 'Green')\n",
    "northwest = ax.plot(df_group_northwest['Year'], df_group_northwest['sum'], color = '#6141f4')\n",
    "north = ax.plot(df_group_north['Year'], df_group_north['sum'], color = 'Blue')\n",
    "west = ax.plot(df_group_west['Year'], df_group_west['sum'], linewidth=8, color ='#581845')\n",
    "far_north = ax.plot(df_group_far_north['Year'], df_group_far_north['sum'], color = '#D8E0BB')\n",
    "south = ax.plot(df_group_south['Year'], df_group_south['sum'], linewidth = 8, color = '#900C3F')\n",
    "southwest = ax.plot(df_group_southwest['Year'], df_group_southwest['sum'], linewidth = 8, color= '#FF5733')\n",
    "far_southwest = ax.plot(df_group_far_southwest['Year'], df_group_far_southwest['sum'], linewidth = 8, color = '#FFC300')\n",
    "far_southeast = ax.plot(df_group_far_southeast['Year'], df_group_far_southeast['sum'], linewidth = 8, color= '#C70039')\n",
    "\n",
    "\n",
    "\n",
    "# Labeling\n",
    "ax.set_ylabel('Marijuana Offenses (per 100,000 inhabitants)', fontsize=30)\n",
    "ax.set_yticks([0, 4000, 8000, 12000, 16000, 20000])\n",
    "ax.set_yticklabels(['0', '4,000','8,000', '12,000', '16,000', '20,000'], fontsize=20)\n",
    "ax.set_xticklabels(['2000', '2002', '2004',\n",
    "                    '2006', '2008', '2010',\n",
    "                    '2012', '2014',\n",
    "                    '2016', '2018'], fontsize=20)\n",
    "\n",
    "\n",
    "# Legend\n",
    "ax.legend((west[0], south[0], far_southeast[0],\n",
    "           southwest[0], far_southwest[0], far_north[0],\n",
    "           central[0], northwest[0], north[0]),\n",
    "          ('West Side', 'South Side', 'Far Southeast Side',\n",
    "           'Southwest Side', 'Far Southwest Side', 'Far North Side',\n",
    "           'Central Side', 'Northwest Side', 'North Side'), fontsize = 'xx-large')\n",
    "\n",
    "# Descriptive Text\n",
    "ax.text(x = 2000.5, y = 22500,\n",
    "    s =\"An Armistice in Chicago's Drug War\",\n",
    "    fontsize = 40, weight = 'bold', alpha=.75)\n",
    "\n",
    "ax.text(x = 2000.5, y = 21500,\n",
    "    s =\"Marijuana Offenses per Capita\",\n",
    "    fontsize = 30, alpha=.75)\n",
    "\n",
    "\n",
    "\n",
    "#Informational bar at bottom of graph\n",
    "ax.text(x = 2000, y = -2500, \n",
    "    s = '   connorpheraty.github.io                                                                              Source: Chicago Data Portal   ',\n",
    "    fontsize = 25, color = '#f0f0f0', backgroundcolor = '#585859', family ='monospace')\n",
    "\n",
    "plt.show()"
   ]
  },
  {
   "cell_type": "code",
   "execution_count": null,
   "metadata": {},
   "outputs": [],
   "source": []
  },
  {
   "cell_type": "code",
   "execution_count": null,
   "metadata": {},
   "outputs": [],
   "source": []
  }
 ],
 "metadata": {
  "kernelspec": {
   "display_name": "Python 3",
   "language": "python",
   "name": "python3"
  },
  "language_info": {
   "codemirror_mode": {
    "name": "ipython",
    "version": 3
   },
   "file_extension": ".py",
   "mimetype": "text/x-python",
   "name": "python",
   "nbconvert_exporter": "python",
   "pygments_lexer": "ipython3",
   "version": "3.7.1"
  }
 },
 "nbformat": 4,
 "nbformat_minor": 2
}
