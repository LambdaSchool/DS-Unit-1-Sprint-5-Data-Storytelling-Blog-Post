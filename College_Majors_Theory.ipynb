{
  "nbformat": 4,
  "nbformat_minor": 0,
  "metadata": {
    "colab": {
      "name": "College Majors Theory.ipynb",
      "version": "0.3.2",
      "provenance": [],
      "include_colab_link": true
    },
    "kernelspec": {
      "name": "python3",
      "display_name": "Python 3"
    }
  },
  "cells": [
    {
      "cell_type": "markdown",
      "metadata": {
        "id": "view-in-github",
        "colab_type": "text"
      },
      "source": [
        "<a href=\"https://colab.research.google.com/github/tbradshaw91/DS-Unit-1-Sprint-5-Data-Storytelling-Blog-Post/blob/master/College_Majors_Theory.ipynb\" target=\"_parent\"><img src=\"https://colab.research.google.com/assets/colab-badge.svg\" alt=\"Open In Colab\"/></a>"
      ]
    },
    {
      "metadata": {
        "id": "zoe-dlPAzsjX",
        "colab_type": "text"
      },
      "cell_type": "markdown",
      "source": [
        "**Pulling in all of the dataframes related to my research. I may or may not use them all, but it is good to have all of my data in one place to reference.  **"
      ]
    },
    {
      "metadata": {
        "id": "QfTs2lv20RcY",
        "colab_type": "text"
      },
      "cell_type": "markdown",
      "source": [
        "**Data Source: data.world, pulled together from fivethirtyeight**"
      ]
    },
    {
      "metadata": {
        "id": "eOdxtMQoyfv2",
        "colab_type": "code",
        "colab": {}
      },
      "cell_type": "code",
      "source": [
        "import pandas as pd \n",
        "\n",
        "# Pulling in my DF\n",
        "ages_df = 'https://query.data.world/s/gpe2sgsocg7ru2jccqrueoxtgyanvq'\n",
        "\n",
        "# Assigning a new name to call it\n",
        "ages = pd.read_csv(ages_df)"
      ],
      "execution_count": 0,
      "outputs": []
    },
    {
      "metadata": {
        "id": "lYr4KqEHzL7x",
        "colab_type": "code",
        "colab": {}
      },
      "cell_type": "code",
      "source": [
        "grad_students_df = 'https://query.data.world/s/dokg22nzpeop44ucb5jddqnafhdpof'\n",
        "grad_students = pd.read_csv(grad_students_df)"
      ],
      "execution_count": 0,
      "outputs": []
    },
    {
      "metadata": {
        "id": "FIzA9-CUz5H1",
        "colab_type": "code",
        "colab": {}
      },
      "cell_type": "code",
      "source": [
        "majors_list_df = 'https://query.data.world/s/gm4rcgbkotyels5353ux45uoowkyrh'\n",
        "majors_list = pd.read_csv(majors_list_df)"
      ],
      "execution_count": 0,
      "outputs": []
    },
    {
      "metadata": {
        "id": "0zYoCY7F0OTw",
        "colab_type": "code",
        "colab": {}
      },
      "cell_type": "code",
      "source": [
        "recent_grads_df = 'https://query.data.world/s/e64g4m5iajb4afuc2u5gdg4hl5phmp'\n",
        "recent_grads = pd.read_csv(recent_grads_df)"
      ],
      "execution_count": 0,
      "outputs": []
    },
    {
      "metadata": {
        "id": "EXI8h9IE00bu",
        "colab_type": "code",
        "colab": {}
      },
      "cell_type": "code",
      "source": [
        "women_stem_df = 'https://query.data.world/s/fwefnniaqi5qzse5ijnipvrf6fbzgh'\n",
        "women_stem = pd.read_csv(women_stem_df)"
      ],
      "execution_count": 0,
      "outputs": []
    },
    {
      "metadata": {
        "id": "ZEGfJDp91Z_M",
        "colab_type": "text"
      },
      "cell_type": "markdown",
      "source": [
        "**Now that I have all of my data loaded, I am going to check out what each DF has to offer, look at the shape and select a couple of frames to begin visualizing.**"
      ]
    },
    {
      "metadata": {
        "id": "s1ykYTzAd_Eu",
        "colab_type": "code",
        "outputId": "f0e19fae-f854-4de6-c11f-238e320848b4",
        "colab": {
          "base_uri": "https://localhost:8080/",
          "height": 323
        }
      },
      "cell_type": "code",
      "source": [
        "ages.head()"
      ],
      "execution_count": 27,
      "outputs": [
        {
          "output_type": "execute_result",
          "data": {
            "text/html": [
              "<div>\n",
              "<style scoped>\n",
              "    .dataframe tbody tr th:only-of-type {\n",
              "        vertical-align: middle;\n",
              "    }\n",
              "\n",
              "    .dataframe tbody tr th {\n",
              "        vertical-align: top;\n",
              "    }\n",
              "\n",
              "    .dataframe thead th {\n",
              "        text-align: right;\n",
              "    }\n",
              "</style>\n",
              "<table border=\"1\" class=\"dataframe\">\n",
              "  <thead>\n",
              "    <tr style=\"text-align: right;\">\n",
              "      <th></th>\n",
              "      <th>Major_code</th>\n",
              "      <th>Major</th>\n",
              "      <th>Major_category</th>\n",
              "      <th>Total</th>\n",
              "      <th>Employed</th>\n",
              "      <th>Employed_full_time_year_round</th>\n",
              "      <th>Unemployed</th>\n",
              "      <th>Unemployment_rate</th>\n",
              "      <th>Median</th>\n",
              "      <th>P25th</th>\n",
              "      <th>P75th</th>\n",
              "    </tr>\n",
              "  </thead>\n",
              "  <tbody>\n",
              "    <tr>\n",
              "      <th>0</th>\n",
              "      <td>1100</td>\n",
              "      <td>GENERAL AGRICULTURE</td>\n",
              "      <td>Agriculture &amp; Natural Resources</td>\n",
              "      <td>128148</td>\n",
              "      <td>90245</td>\n",
              "      <td>74078</td>\n",
              "      <td>2423</td>\n",
              "      <td>0.026147</td>\n",
              "      <td>50000</td>\n",
              "      <td>34000</td>\n",
              "      <td>80000.0</td>\n",
              "    </tr>\n",
              "    <tr>\n",
              "      <th>1</th>\n",
              "      <td>1101</td>\n",
              "      <td>AGRICULTURE PRODUCTION AND MANAGEMENT</td>\n",
              "      <td>Agriculture &amp; Natural Resources</td>\n",
              "      <td>95326</td>\n",
              "      <td>76865</td>\n",
              "      <td>64240</td>\n",
              "      <td>2266</td>\n",
              "      <td>0.028636</td>\n",
              "      <td>54000</td>\n",
              "      <td>36000</td>\n",
              "      <td>80000.0</td>\n",
              "    </tr>\n",
              "    <tr>\n",
              "      <th>2</th>\n",
              "      <td>1102</td>\n",
              "      <td>AGRICULTURAL ECONOMICS</td>\n",
              "      <td>Agriculture &amp; Natural Resources</td>\n",
              "      <td>33955</td>\n",
              "      <td>26321</td>\n",
              "      <td>22810</td>\n",
              "      <td>821</td>\n",
              "      <td>0.030248</td>\n",
              "      <td>63000</td>\n",
              "      <td>40000</td>\n",
              "      <td>98000.0</td>\n",
              "    </tr>\n",
              "    <tr>\n",
              "      <th>3</th>\n",
              "      <td>1103</td>\n",
              "      <td>ANIMAL SCIENCES</td>\n",
              "      <td>Agriculture &amp; Natural Resources</td>\n",
              "      <td>103549</td>\n",
              "      <td>81177</td>\n",
              "      <td>64937</td>\n",
              "      <td>3619</td>\n",
              "      <td>0.042679</td>\n",
              "      <td>46000</td>\n",
              "      <td>30000</td>\n",
              "      <td>72000.0</td>\n",
              "    </tr>\n",
              "    <tr>\n",
              "      <th>4</th>\n",
              "      <td>1104</td>\n",
              "      <td>FOOD SCIENCE</td>\n",
              "      <td>Agriculture &amp; Natural Resources</td>\n",
              "      <td>24280</td>\n",
              "      <td>17281</td>\n",
              "      <td>12722</td>\n",
              "      <td>894</td>\n",
              "      <td>0.049188</td>\n",
              "      <td>62000</td>\n",
              "      <td>38500</td>\n",
              "      <td>90000.0</td>\n",
              "    </tr>\n",
              "  </tbody>\n",
              "</table>\n",
              "</div>"
            ],
            "text/plain": [
              "   Major_code                                  Major  \\\n",
              "0        1100                    GENERAL AGRICULTURE   \n",
              "1        1101  AGRICULTURE PRODUCTION AND MANAGEMENT   \n",
              "2        1102                 AGRICULTURAL ECONOMICS   \n",
              "3        1103                        ANIMAL SCIENCES   \n",
              "4        1104                           FOOD SCIENCE   \n",
              "\n",
              "                    Major_category   Total  Employed  \\\n",
              "0  Agriculture & Natural Resources  128148     90245   \n",
              "1  Agriculture & Natural Resources   95326     76865   \n",
              "2  Agriculture & Natural Resources   33955     26321   \n",
              "3  Agriculture & Natural Resources  103549     81177   \n",
              "4  Agriculture & Natural Resources   24280     17281   \n",
              "\n",
              "   Employed_full_time_year_round  Unemployed  Unemployment_rate  Median  \\\n",
              "0                          74078        2423           0.026147   50000   \n",
              "1                          64240        2266           0.028636   54000   \n",
              "2                          22810         821           0.030248   63000   \n",
              "3                          64937        3619           0.042679   46000   \n",
              "4                          12722         894           0.049188   62000   \n",
              "\n",
              "   P25th    P75th  \n",
              "0  34000  80000.0  \n",
              "1  36000  80000.0  \n",
              "2  40000  98000.0  \n",
              "3  30000  72000.0  \n",
              "4  38500  90000.0  "
            ]
          },
          "metadata": {
            "tags": []
          },
          "execution_count": 27
        }
      ]
    },
    {
      "metadata": {
        "id": "BQRNI7fie1Gu",
        "colab_type": "code",
        "colab": {}
      },
      "cell_type": "code",
      "source": [
        "grad_students.head()"
      ],
      "execution_count": 0,
      "outputs": []
    },
    {
      "metadata": {
        "id": "pHFruruKfKwG",
        "colab_type": "code",
        "colab": {}
      },
      "cell_type": "code",
      "source": [
        "majors_list.head()"
      ],
      "execution_count": 0,
      "outputs": []
    },
    {
      "metadata": {
        "id": "rq1cm3o8fd1A",
        "colab_type": "code",
        "colab": {}
      },
      "cell_type": "code",
      "source": [
        "recent_grads.head()"
      ],
      "execution_count": 0,
      "outputs": []
    },
    {
      "metadata": {
        "id": "xa-HeNTUftur",
        "colab_type": "code",
        "colab": {}
      },
      "cell_type": "code",
      "source": [
        "women_stem.head()"
      ],
      "execution_count": 0,
      "outputs": []
    },
    {
      "metadata": {
        "id": "9bSNeaeVf1R3",
        "colab_type": "text"
      },
      "cell_type": "markdown",
      "source": [
        "**Going to dive into Women Stem and Ages **"
      ]
    },
    {
      "metadata": {
        "id": "xmIiwUCuf6hO",
        "colab_type": "code",
        "outputId": "4bd680a4-08fe-4fd4-de1a-a7c5b09e5b0d",
        "colab": {
          "base_uri": "https://localhost:8080/",
          "height": 68
        }
      },
      "cell_type": "code",
      "source": [
        "# No Nulls? Sweet...\n",
        "stem.isnull().sum()\n",
        "\n",
        "# What about the shape and columns?\n",
        "stem.shape #76,9\n",
        "stem.columns"
      ],
      "execution_count": 0,
      "outputs": [
        {
          "output_type": "execute_result",
          "data": {
            "text/plain": [
              "Index(['Rank', 'Major_code', 'Major', 'Major_category', 'Total', 'Men',\n",
              "       'Women', 'ShareWomen', 'Median'],\n",
              "      dtype='object')"
            ]
          },
          "metadata": {
            "tags": []
          },
          "execution_count": 24
        }
      ]
    }
  ]
}