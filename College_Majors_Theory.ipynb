{
  "nbformat": 4,
  "nbformat_minor": 0,
  "metadata": {
    "colab": {
      "name": "College Majors Theory.ipynb",
      "version": "0.3.2",
      "provenance": [],
      "include_colab_link": true
    },
    "kernelspec": {
      "name": "python3",
      "display_name": "Python 3"
    }
  },
  "cells": [
    {
      "cell_type": "markdown",
      "metadata": {
        "id": "view-in-github",
        "colab_type": "text"
      },
      "source": [
        "<a href=\"https://colab.research.google.com/github/tbradshaw91/DS-Unit-1-Sprint-5-Data-Storytelling-Blog-Post/blob/master/College_Majors_Theory.ipynb\" target=\"_parent\"><img src=\"https://colab.research.google.com/assets/colab-badge.svg\" alt=\"Open In Colab\"/></a>"
      ]
    },
    {
      "metadata": {
        "id": "8ZppZLOsSCcL",
        "colab_type": "text"
      },
      "cell_type": "markdown",
      "source": [
        "## ** -- College Majors Theory -- **"
      ]
    },
    {
      "metadata": {
        "id": "QfTs2lv20RcY",
        "colab_type": "text"
      },
      "cell_type": "markdown",
      "source": [
        "**Data Source: Data.world & Pew Research -- Originally put together by fivethirtyeight**\n",
        "\n",
        "\n",
        "\n",
        "---\n",
        "\n"
      ]
    },
    {
      "metadata": {
        "id": "P8dVvocvI492",
        "colab_type": "code",
        "colab": {
          "base_uri": "https://localhost:8080/",
          "height": 446
        },
        "outputId": "bb5e17e5-8c56-4666-940d-048c3a87c284"
      },
      "cell_type": "code",
      "source": [
        "!pip install --upgrade seaborn"
      ],
      "execution_count": 2,
      "outputs": [
        {
          "output_type": "stream",
          "text": [
            "Collecting seaborn\n",
            "\u001b[?25l  Downloading https://files.pythonhosted.org/packages/a8/76/220ba4420459d9c4c9c9587c6ce607bf56c25b3d3d2de62056efe482dadc/seaborn-0.9.0-py3-none-any.whl (208kB)\n",
            "\u001b[K    100% |████████████████████████████████| 215kB 14.1MB/s \n",
            "\u001b[?25hRequirement already satisfied, skipping upgrade: pandas>=0.15.2 in /usr/local/lib/python3.6/dist-packages (from seaborn) (0.23.4)\n",
            "Requirement already satisfied, skipping upgrade: matplotlib>=1.4.3 in /usr/local/lib/python3.6/dist-packages (from seaborn) (3.0.3)\n",
            "Requirement already satisfied, skipping upgrade: numpy>=1.9.3 in /usr/local/lib/python3.6/dist-packages (from seaborn) (1.16.2)\n",
            "Requirement already satisfied, skipping upgrade: scipy>=0.14.0 in /usr/local/lib/python3.6/dist-packages (from seaborn) (1.2.1)\n",
            "Requirement already satisfied, skipping upgrade: pytz>=2011k in /usr/local/lib/python3.6/dist-packages (from pandas>=0.15.2->seaborn) (2018.9)\n",
            "Requirement already satisfied, skipping upgrade: python-dateutil>=2.5.0 in /usr/local/lib/python3.6/dist-packages (from pandas>=0.15.2->seaborn) (2.5.3)\n",
            "Requirement already satisfied, skipping upgrade: cycler>=0.10 in /usr/local/lib/python3.6/dist-packages (from matplotlib>=1.4.3->seaborn) (0.10.0)\n",
            "Requirement already satisfied, skipping upgrade: pyparsing!=2.0.4,!=2.1.2,!=2.1.6,>=2.0.1 in /usr/local/lib/python3.6/dist-packages (from matplotlib>=1.4.3->seaborn) (2.4.0)\n",
            "Requirement already satisfied, skipping upgrade: kiwisolver>=1.0.1 in /usr/local/lib/python3.6/dist-packages (from matplotlib>=1.4.3->seaborn) (1.0.1)\n",
            "Requirement already satisfied, skipping upgrade: six>=1.5 in /usr/local/lib/python3.6/dist-packages (from python-dateutil>=2.5.0->pandas>=0.15.2->seaborn) (1.11.0)\n",
            "Requirement already satisfied, skipping upgrade: setuptools in /usr/local/lib/python3.6/dist-packages (from kiwisolver>=1.0.1->matplotlib>=1.4.3->seaborn) (40.9.0)\n",
            "Installing collected packages: seaborn\n",
            "  Found existing installation: seaborn 0.7.1\n",
            "    Uninstalling seaborn-0.7.1:\n",
            "      Successfully uninstalled seaborn-0.7.1\n",
            "Successfully installed seaborn-0.9.0\n"
          ],
          "name": "stdout"
        },
        {
          "output_type": "display_data",
          "data": {
            "application/vnd.colab-display-data+json": {
              "pip_warning": {
                "packages": [
                  "seaborn"
                ]
              }
            }
          },
          "metadata": {
            "tags": []
          }
        }
      ]
    },
    {
      "metadata": {
        "id": "zoe-dlPAzsjX",
        "colab_type": "text"
      },
      "cell_type": "markdown",
      "source": [
        "**Pulling in all of the dataframes related to my research. I may or may not use them all, but it is good to have all of my data in one place to reference.  **"
      ]
    },
    {
      "metadata": {
        "id": "p9mrEpX0JQfs",
        "colab_type": "code",
        "outputId": "0c5a1ab8-1d16-4a26-c1e5-7c335bd56b4c",
        "colab": {
          "base_uri": "https://localhost:8080/",
          "height": 34
        }
      },
      "cell_type": "code",
      "source": [
        "import seaborn as sns\n",
        "sns.__version__"
      ],
      "execution_count": 295,
      "outputs": [
        {
          "output_type": "execute_result",
          "data": {
            "text/plain": [
              "'0.9.0'"
            ]
          },
          "metadata": {
            "tags": []
          },
          "execution_count": 295
        }
      ]
    },
    {
      "metadata": {
        "id": "tBJNmdXlu6Zd",
        "colab_type": "code",
        "colab": {}
      },
      "cell_type": "code",
      "source": [
        "import matplotlib.pyplot as plt\n",
        "import numpy as np"
      ],
      "execution_count": 0,
      "outputs": []
    },
    {
      "metadata": {
        "id": "eOdxtMQoyfv2",
        "colab_type": "code",
        "colab": {}
      },
      "cell_type": "code",
      "source": [
        "import pandas as pd \n",
        "\n",
        "# Pulling in my DF\n",
        "ages_df = 'https://query.data.world/s/gpe2sgsocg7ru2jccqrueoxtgyanvq'\n",
        "\n",
        "# Assigning a new name to call it\n",
        "ages = pd.read_csv(ages_df)"
      ],
      "execution_count": 0,
      "outputs": []
    },
    {
      "metadata": {
        "id": "lYr4KqEHzL7x",
        "colab_type": "code",
        "colab": {}
      },
      "cell_type": "code",
      "source": [
        "grad_students_df = 'https://query.data.world/s/dokg22nzpeop44ucb5jddqnafhdpof'\n",
        "grad_students = pd.read_csv(grad_students_df)"
      ],
      "execution_count": 0,
      "outputs": []
    },
    {
      "metadata": {
        "id": "FIzA9-CUz5H1",
        "colab_type": "code",
        "colab": {}
      },
      "cell_type": "code",
      "source": [
        "majors_list_df = 'https://query.data.world/s/gm4rcgbkotyels5353ux45uoowkyrh'\n",
        "majors_list = pd.read_csv(majors_list_df)"
      ],
      "execution_count": 0,
      "outputs": []
    },
    {
      "metadata": {
        "id": "0zYoCY7F0OTw",
        "colab_type": "code",
        "colab": {}
      },
      "cell_type": "code",
      "source": [
        "recent_grads_df = 'https://query.data.world/s/e64g4m5iajb4afuc2u5gdg4hl5phmp'\n",
        "recent_grads = pd.read_csv(recent_grads_df)"
      ],
      "execution_count": 0,
      "outputs": []
    },
    {
      "metadata": {
        "id": "EXI8h9IE00bu",
        "colab_type": "code",
        "colab": {}
      },
      "cell_type": "code",
      "source": [
        "women_stem_df = 'https://query.data.world/s/fwefnniaqi5qzse5ijnipvrf6fbzgh'\n",
        "women_stem = pd.read_csv(women_stem_df)"
      ],
      "execution_count": 0,
      "outputs": []
    },
    {
      "metadata": {
        "id": "ZEGfJDp91Z_M",
        "colab_type": "text"
      },
      "cell_type": "markdown",
      "source": [
        "**Now that I have all of my data loaded, I am going to check out what each DF has to offer, look at the shape and select a couple of frames to begin visualizing.**"
      ]
    },
    {
      "metadata": {
        "id": "s1ykYTzAd_Eu",
        "colab_type": "code",
        "colab": {}
      },
      "cell_type": "code",
      "source": [
        "ages.head()"
      ],
      "execution_count": 0,
      "outputs": []
    },
    {
      "metadata": {
        "id": "UBAtUSou45In",
        "colab_type": "code",
        "outputId": "0d8ab403-d621-4441-c5a1-8fef9934cfdf",
        "colab": {
          "base_uri": "https://localhost:8080/",
          "height": 34
        }
      },
      "cell_type": "code",
      "source": [
        "ages.shape"
      ],
      "execution_count": 8,
      "outputs": [
        {
          "output_type": "execute_result",
          "data": {
            "text/plain": [
              "(173, 11)"
            ]
          },
          "metadata": {
            "tags": []
          },
          "execution_count": 8
        }
      ]
    },
    {
      "metadata": {
        "id": "KfRXcvx26s9y",
        "colab_type": "text"
      },
      "cell_type": "markdown",
      "source": [
        "**Note: Grad Students are presumably 25 + **"
      ]
    },
    {
      "metadata": {
        "id": "BQRNI7fie1Gu",
        "colab_type": "code",
        "colab": {}
      },
      "cell_type": "code",
      "source": [
        "grad_students.head()"
      ],
      "execution_count": 0,
      "outputs": []
    },
    {
      "metadata": {
        "id": "XW3ifSsN5C3j",
        "colab_type": "code",
        "outputId": "e969a286-9bde-4b3f-a6e1-599a448a20b0",
        "colab": {
          "base_uri": "https://localhost:8080/",
          "height": 34
        }
      },
      "cell_type": "code",
      "source": [
        "grad_students.shape"
      ],
      "execution_count": 9,
      "outputs": [
        {
          "output_type": "execute_result",
          "data": {
            "text/plain": [
              "(173, 22)"
            ]
          },
          "metadata": {
            "tags": []
          },
          "execution_count": 9
        }
      ]
    },
    {
      "metadata": {
        "id": "pHFruruKfKwG",
        "colab_type": "code",
        "colab": {}
      },
      "cell_type": "code",
      "source": [
        "majors_list.head()"
      ],
      "execution_count": 0,
      "outputs": []
    },
    {
      "metadata": {
        "id": "-tAGEwiK63Gd",
        "colab_type": "text"
      },
      "cell_type": "markdown",
      "source": [
        "**Note: Recent Grads are presumably <28**"
      ]
    },
    {
      "metadata": {
        "id": "rq1cm3o8fd1A",
        "colab_type": "code",
        "colab": {}
      },
      "cell_type": "code",
      "source": [
        "recent_grads.head()"
      ],
      "execution_count": 0,
      "outputs": []
    },
    {
      "metadata": {
        "id": "xa-HeNTUftur",
        "colab_type": "code",
        "colab": {}
      },
      "cell_type": "code",
      "source": [
        "women_stem.head()"
      ],
      "execution_count": 0,
      "outputs": []
    },
    {
      "metadata": {
        "id": "G8xmBLML85jC",
        "colab_type": "code",
        "outputId": "679370e6-7d21-441b-c7fd-18d59dcfe10f",
        "colab": {
          "base_uri": "https://localhost:8080/",
          "height": 34
        }
      },
      "cell_type": "code",
      "source": [
        "women_stem.shape"
      ],
      "execution_count": 10,
      "outputs": [
        {
          "output_type": "execute_result",
          "data": {
            "text/plain": [
              "(76, 9)"
            ]
          },
          "metadata": {
            "tags": []
          },
          "execution_count": 10
        }
      ]
    },
    {
      "metadata": {
        "id": "Ppxl0MB_3AIk",
        "colab_type": "text"
      },
      "cell_type": "markdown",
      "source": [
        "I aim to perform a basic analysis to solve the question of why there are not more women in technology? My belief is that women are not pursuing stem related degrees. Thus, there are not enough qualified female applicants for tech related job openings. I believe if I am able to prove my theory, we can then begin the conversation of how do we get more women interested in pursuing a stem degree. "
      ]
    },
    {
      "metadata": {
        "id": "ZC2Gvk__9G9A",
        "colab_type": "text"
      },
      "cell_type": "markdown",
      "source": [
        "**Since the goal is to examine what women go to school for, it is beneficial to look at all the degrees sorted into women, then go into stem specifically **"
      ]
    },
    {
      "metadata": {
        "id": "I5jzcqtF9fQe",
        "colab_type": "code",
        "outputId": "91fb4e92-df2b-4b82-dc96-d15fa6cb2338",
        "colab": {
          "base_uri": "https://localhost:8080/",
          "height": 102
        }
      },
      "cell_type": "code",
      "source": [
        "# Will need to look at recent grads in order to achieve this\n",
        "recent_grads.columns\n",
        "\n",
        "# The columns that matter for this are major, major category, total and men, women"
      ],
      "execution_count": 301,
      "outputs": [
        {
          "output_type": "execute_result",
          "data": {
            "text/plain": [
              "Index(['Rank', 'Major_code', 'Major', 'Major_category', 'Total', 'Sample_size',\n",
              "       'Men', 'Women', 'ShareWomen', 'Employed', 'Full_time', 'Part_time',\n",
              "       'Full_time_year_round', 'Unemployed', 'Unemployment_rate', 'Median',\n",
              "       'P25th', 'P75th', 'College_jobs', 'Non_college_jobs', 'Low_wage_jobs'],\n",
              "      dtype='object')"
            ]
          },
          "metadata": {
            "tags": []
          },
          "execution_count": 301
        }
      ]
    },
    {
      "metadata": {
        "id": "qOO1_CwWCnVE",
        "colab_type": "code",
        "colab": {}
      },
      "cell_type": "code",
      "source": [
        "# First I will check for nulls\n",
        "recent_grads.isna().sum()\n",
        "\n",
        "# We have 1 in Unemployment Rate, but I am not concerned about it since I am not focusing on unemployment just yet. "
      ],
      "execution_count": 0,
      "outputs": []
    },
    {
      "metadata": {
        "id": "Ob9QGvot-CUV",
        "colab_type": "code",
        "colab": {}
      },
      "cell_type": "code",
      "source": [
        "# Create a new DF for these cols exactly\n",
        "what_majors = (recent_grads[['Major_code', 'Major', 'Major_category', 'Total', 'Men', 'Women']])"
      ],
      "execution_count": 0,
      "outputs": []
    },
    {
      "metadata": {
        "id": "unX2qj0VEc5w",
        "colab_type": "code",
        "colab": {}
      },
      "cell_type": "code",
      "source": [
        "what_majors.head()"
      ],
      "execution_count": 0,
      "outputs": []
    },
    {
      "metadata": {
        "id": "fVG7aZJ7DUDC",
        "colab_type": "text"
      },
      "cell_type": "markdown",
      "source": [
        "\n",
        "\n",
        "---\n",
        "\n"
      ]
    },
    {
      "metadata": {
        "id": "7_qx2HeOH-hA",
        "colab_type": "text"
      },
      "cell_type": "markdown",
      "source": [
        "**Working on visualizations aimed towards:**\n",
        "\n",
        "** Total first, in order to see a high level, non gender pov **\n",
        "*   Total vs Major\n",
        "\n",
        "\n",
        "** Majors from a high level then filtered down by specifics and gender **\n",
        "\n",
        "*   Major vs Men\n",
        "*   Major vs Women\n",
        "\n"
      ]
    },
    {
      "metadata": {
        "id": "atbKTs7YEyYO",
        "colab_type": "code",
        "colab": {}
      },
      "cell_type": "code",
      "source": [
        "# This doesn't tell me much, a plot that allows for categorical variables would be a better indicator unless i was to encode things\n",
        "# Adding the Major_code is a way to visualize using numeric values only\n",
        "what_majors.plot.scatter(x='Total', y='Women');\n",
        "what_majors.plot.scatter(x='Total', y='Men');"
      ],
      "execution_count": 0,
      "outputs": []
    },
    {
      "metadata": {
        "id": "MU_dfteNcrmN",
        "colab_type": "text"
      },
      "cell_type": "markdown",
      "source": [
        "**Creating a DF for Major Category and Totals**"
      ]
    },
    {
      "metadata": {
        "id": "DFwM280Ycegd",
        "colab_type": "code",
        "colab": {}
      },
      "cell_type": "code",
      "source": [
        "totals_mc = (what_majors[['Total', 'Major_category', 'Major']])"
      ],
      "execution_count": 0,
      "outputs": []
    },
    {
      "metadata": {
        "id": "yAW9PhWOdwuI",
        "colab_type": "text"
      },
      "cell_type": "markdown",
      "source": [
        "**By sorting values high to low, I was able to see the top 10 categories both sexes pursue in college**"
      ]
    },
    {
      "metadata": {
        "id": "yskAEHigdf4M",
        "colab_type": "code",
        "outputId": "bf025278-212d-44a3-c279-f96cd81abfd1",
        "colab": {
          "base_uri": "https://localhost:8080/",
          "height": 359
        }
      },
      "cell_type": "code",
      "source": [
        "totals_mc.sort_values(by='Total', ascending=False).head(10)"
      ],
      "execution_count": 304,
      "outputs": [
        {
          "output_type": "execute_result",
          "data": {
            "text/html": [
              "<div>\n",
              "<style scoped>\n",
              "    .dataframe tbody tr th:only-of-type {\n",
              "        vertical-align: middle;\n",
              "    }\n",
              "\n",
              "    .dataframe tbody tr th {\n",
              "        vertical-align: top;\n",
              "    }\n",
              "\n",
              "    .dataframe thead th {\n",
              "        text-align: right;\n",
              "    }\n",
              "</style>\n",
              "<table border=\"1\" class=\"dataframe\">\n",
              "  <thead>\n",
              "    <tr style=\"text-align: right;\">\n",
              "      <th></th>\n",
              "      <th>Total</th>\n",
              "      <th>Major_category</th>\n",
              "      <th>Major</th>\n",
              "    </tr>\n",
              "  </thead>\n",
              "  <tbody>\n",
              "    <tr>\n",
              "      <th>145</th>\n",
              "      <td>393735</td>\n",
              "      <td>Psychology &amp; Social Work</td>\n",
              "      <td>PSYCHOLOGY</td>\n",
              "    </tr>\n",
              "    <tr>\n",
              "      <th>76</th>\n",
              "      <td>329927</td>\n",
              "      <td>Business</td>\n",
              "      <td>BUSINESS MANAGEMENT AND ADMINISTRATION</td>\n",
              "    </tr>\n",
              "    <tr>\n",
              "      <th>123</th>\n",
              "      <td>280709</td>\n",
              "      <td>Biology &amp; Life Science</td>\n",
              "      <td>BIOLOGY</td>\n",
              "    </tr>\n",
              "    <tr>\n",
              "      <th>57</th>\n",
              "      <td>234590</td>\n",
              "      <td>Business</td>\n",
              "      <td>GENERAL BUSINESS</td>\n",
              "    </tr>\n",
              "    <tr>\n",
              "      <th>93</th>\n",
              "      <td>213996</td>\n",
              "      <td>Communications &amp; Journalism</td>\n",
              "      <td>COMMUNICATIONS</td>\n",
              "    </tr>\n",
              "    <tr>\n",
              "      <th>34</th>\n",
              "      <td>209394</td>\n",
              "      <td>Health</td>\n",
              "      <td>NURSING</td>\n",
              "    </tr>\n",
              "    <tr>\n",
              "      <th>77</th>\n",
              "      <td>205211</td>\n",
              "      <td>Business</td>\n",
              "      <td>MARKETING AND MARKETING RESEARCH</td>\n",
              "    </tr>\n",
              "    <tr>\n",
              "      <th>40</th>\n",
              "      <td>198633</td>\n",
              "      <td>Business</td>\n",
              "      <td>ACCOUNTING</td>\n",
              "    </tr>\n",
              "    <tr>\n",
              "      <th>137</th>\n",
              "      <td>194673</td>\n",
              "      <td>Humanities &amp; Liberal Arts</td>\n",
              "      <td>ENGLISH LANGUAGE AND LITERATURE</td>\n",
              "    </tr>\n",
              "    <tr>\n",
              "      <th>78</th>\n",
              "      <td>182621</td>\n",
              "      <td>Social Science</td>\n",
              "      <td>POLITICAL SCIENCE AND GOVERNMENT</td>\n",
              "    </tr>\n",
              "  </tbody>\n",
              "</table>\n",
              "</div>"
            ],
            "text/plain": [
              "      Total               Major_category  \\\n",
              "145  393735     Psychology & Social Work   \n",
              "76   329927                     Business   \n",
              "123  280709       Biology & Life Science   \n",
              "57   234590                     Business   \n",
              "93   213996  Communications & Journalism   \n",
              "34   209394                       Health   \n",
              "77   205211                     Business   \n",
              "40   198633                     Business   \n",
              "137  194673    Humanities & Liberal Arts   \n",
              "78   182621               Social Science   \n",
              "\n",
              "                                      Major  \n",
              "145                              PSYCHOLOGY  \n",
              "76   BUSINESS MANAGEMENT AND ADMINISTRATION  \n",
              "123                                 BIOLOGY  \n",
              "57                         GENERAL BUSINESS  \n",
              "93                           COMMUNICATIONS  \n",
              "34                                  NURSING  \n",
              "77         MARKETING AND MARKETING RESEARCH  \n",
              "40                               ACCOUNTING  \n",
              "137         ENGLISH LANGUAGE AND LITERATURE  \n",
              "78         POLITICAL SCIENCE AND GOVERNMENT  "
            ]
          },
          "metadata": {
            "tags": []
          },
          "execution_count": 304
        }
      ]
    },
    {
      "metadata": {
        "id": "HpyLY-1QnCxe",
        "colab_type": "text"
      },
      "cell_type": "markdown",
      "source": [
        "**Based on this, most people go for a degree in Psychology**"
      ]
    },
    {
      "metadata": {
        "id": "2FGOB531fX7k",
        "colab_type": "text"
      },
      "cell_type": "markdown",
      "source": [
        "**Something to mess with...there are multiple business categories being shown, I changed this by switching from Major_category to just Major since it is more precise. If I decide to change this, I can refer back to below **"
      ]
    },
    {
      "metadata": {
        "id": "oyrMQWVd-uOl",
        "colab_type": "code",
        "outputId": "12261d39-3185-4ebf-ec08-ca58d815f521",
        "colab": {
          "base_uri": "https://localhost:8080/",
          "height": 34
        }
      },
      "cell_type": "code",
      "source": [
        "#import numpy as np\n",
        "\n",
        "#repeater = ['Business']\n",
        "\n",
        "#def clean_title(x):\n",
        "  #if isinstance(x, str):\n",
        "   \n",
        "    #return x.strip().title()\n",
        "  \n",
        "  #else: \n",
        "    #return 'Robot'\n",
        "  \n",
        "#[clean_title(x) for x in repeater]\n",
        "#---------\n",
        "#df['emp_title'] = df['emp_title'].apply(clean_title)"
      ],
      "execution_count": 0,
      "outputs": [
        {
          "output_type": "execute_result",
          "data": {
            "text/plain": [
              "['Business']"
            ]
          },
          "metadata": {
            "tags": []
          },
          "execution_count": 36
        }
      ]
    },
    {
      "metadata": {
        "id": "ywSyz2sLd-1l",
        "colab_type": "code",
        "outputId": "34858c5e-1f0e-41be-ea1b-0f9134f07b96",
        "colab": {
          "base_uri": "https://localhost:8080/",
          "height": 359
        }
      },
      "cell_type": "code",
      "source": [
        "# Just pulling the top 10 largest\n",
        "total_count = totals_mc.nlargest(10, 'Total')\n",
        "total_count"
      ],
      "execution_count": 305,
      "outputs": [
        {
          "output_type": "execute_result",
          "data": {
            "text/html": [
              "<div>\n",
              "<style scoped>\n",
              "    .dataframe tbody tr th:only-of-type {\n",
              "        vertical-align: middle;\n",
              "    }\n",
              "\n",
              "    .dataframe tbody tr th {\n",
              "        vertical-align: top;\n",
              "    }\n",
              "\n",
              "    .dataframe thead th {\n",
              "        text-align: right;\n",
              "    }\n",
              "</style>\n",
              "<table border=\"1\" class=\"dataframe\">\n",
              "  <thead>\n",
              "    <tr style=\"text-align: right;\">\n",
              "      <th></th>\n",
              "      <th>Total</th>\n",
              "      <th>Major_category</th>\n",
              "      <th>Major</th>\n",
              "    </tr>\n",
              "  </thead>\n",
              "  <tbody>\n",
              "    <tr>\n",
              "      <th>145</th>\n",
              "      <td>393735</td>\n",
              "      <td>Psychology &amp; Social Work</td>\n",
              "      <td>PSYCHOLOGY</td>\n",
              "    </tr>\n",
              "    <tr>\n",
              "      <th>76</th>\n",
              "      <td>329927</td>\n",
              "      <td>Business</td>\n",
              "      <td>BUSINESS MANAGEMENT AND ADMINISTRATION</td>\n",
              "    </tr>\n",
              "    <tr>\n",
              "      <th>123</th>\n",
              "      <td>280709</td>\n",
              "      <td>Biology &amp; Life Science</td>\n",
              "      <td>BIOLOGY</td>\n",
              "    </tr>\n",
              "    <tr>\n",
              "      <th>57</th>\n",
              "      <td>234590</td>\n",
              "      <td>Business</td>\n",
              "      <td>GENERAL BUSINESS</td>\n",
              "    </tr>\n",
              "    <tr>\n",
              "      <th>93</th>\n",
              "      <td>213996</td>\n",
              "      <td>Communications &amp; Journalism</td>\n",
              "      <td>COMMUNICATIONS</td>\n",
              "    </tr>\n",
              "    <tr>\n",
              "      <th>34</th>\n",
              "      <td>209394</td>\n",
              "      <td>Health</td>\n",
              "      <td>NURSING</td>\n",
              "    </tr>\n",
              "    <tr>\n",
              "      <th>77</th>\n",
              "      <td>205211</td>\n",
              "      <td>Business</td>\n",
              "      <td>MARKETING AND MARKETING RESEARCH</td>\n",
              "    </tr>\n",
              "    <tr>\n",
              "      <th>40</th>\n",
              "      <td>198633</td>\n",
              "      <td>Business</td>\n",
              "      <td>ACCOUNTING</td>\n",
              "    </tr>\n",
              "    <tr>\n",
              "      <th>137</th>\n",
              "      <td>194673</td>\n",
              "      <td>Humanities &amp; Liberal Arts</td>\n",
              "      <td>ENGLISH LANGUAGE AND LITERATURE</td>\n",
              "    </tr>\n",
              "    <tr>\n",
              "      <th>78</th>\n",
              "      <td>182621</td>\n",
              "      <td>Social Science</td>\n",
              "      <td>POLITICAL SCIENCE AND GOVERNMENT</td>\n",
              "    </tr>\n",
              "  </tbody>\n",
              "</table>\n",
              "</div>"
            ],
            "text/plain": [
              "      Total               Major_category  \\\n",
              "145  393735     Psychology & Social Work   \n",
              "76   329927                     Business   \n",
              "123  280709       Biology & Life Science   \n",
              "57   234590                     Business   \n",
              "93   213996  Communications & Journalism   \n",
              "34   209394                       Health   \n",
              "77   205211                     Business   \n",
              "40   198633                     Business   \n",
              "137  194673    Humanities & Liberal Arts   \n",
              "78   182621               Social Science   \n",
              "\n",
              "                                      Major  \n",
              "145                              PSYCHOLOGY  \n",
              "76   BUSINESS MANAGEMENT AND ADMINISTRATION  \n",
              "123                                 BIOLOGY  \n",
              "57                         GENERAL BUSINESS  \n",
              "93                           COMMUNICATIONS  \n",
              "34                                  NURSING  \n",
              "77         MARKETING AND MARKETING RESEARCH  \n",
              "40                               ACCOUNTING  \n",
              "137         ENGLISH LANGUAGE AND LITERATURE  \n",
              "78         POLITICAL SCIENCE AND GOVERNMENT  "
            ]
          },
          "metadata": {
            "tags": []
          },
          "execution_count": 305
        }
      ]
    },
    {
      "metadata": {
        "id": "uPbmcAXnToOV",
        "colab_type": "text"
      },
      "cell_type": "markdown",
      "source": [
        "### **The Top 10 Majors Pursued By Men And Women.. Number 1 Is Psychology**"
      ]
    },
    {
      "metadata": {
        "id": "nPXruzgddjNQ",
        "colab_type": "code",
        "outputId": "458932d3-1fe8-410e-bd1a-57aadbbecbfa",
        "colab": {
          "base_uri": "https://localhost:8080/",
          "height": 545
        }
      },
      "cell_type": "code",
      "source": [
        "# Using the five thirty eight style\n",
        "plt.style.context('fivethirtyeight')\n",
        "# Plotting the top 10 largest\n",
        "cmap = ['#fff100', '#ff8c00', '#e81123', '#ec008c', '#68217a', '#00188f', '#00bcf2', '#00b294', '#009e49', '#bad80a']\n",
        "ax = total_count.plot.barh(x='Major', y='Total', figsize=(12,8), color=cmap)\n",
        "# Title and Subtitle\n",
        "ax.text(s=\"A Look At The Ten Most Popular Degrees \", y=10.6, x=-5, fontsize=17, fontweight='semibold')\n",
        "ax.text(s=\"Comprised of Male and Female Students \", y=10, x=-5, fontsize=14, fontstyle='italic')\n",
        "# The little details\n",
        "ax.spines['top'].set_visible(False)\n",
        "ax.spines['right'].set_visible(False)\n",
        "ax.spines['bottom'].set_visible(False)\n",
        "ax.spines['left'].set_visible(False)\n",
        "ax.set_ylabel('')\n",
        "ax.yaxis.set_visible(False)\n",
        "ax.get_legend().remove()\n",
        "# Setting Labels\n",
        "ax.text(x=194000,y=8.9, s=\"Political Science & Government\", fontsize=12, fontweight='light', color=('#000000'));\n",
        "ax.text(x=204000,y=7.9, s=\"English Language & Literature\", fontsize=12, fontweight='light', color=('#000000'));\n",
        "ax.text(x=208000,y=6.9, s=\"Accounting\", fontsize=12, fontweight='light', color=('#000000'));\n",
        "ax.text(x=215000,y=5.9, s=\"Marketing & Market Research\", fontsize=12, fontweight='light', color=('#000000'));\n",
        "ax.text(x=218000,y=4.9, s=\"Nursing\", fontsize=12, fontweight='light', color=('#000000'));\n",
        "ax.text(x=222000,y=3.9, s=\"Communications\", fontsize=12, fontweight='light', color=('#000000'));\n",
        "ax.text(x=242000,y=2.9, s=\"General Business\", fontsize=12, fontweight='light', color=('#000000'));\n",
        "ax.text(x=288000,y=1.9, s=\"Biology\", fontsize=12, fontweight='light', color=('#000000'));\n",
        "ax.text(x=337000,y=.9, s=\"Business Management & Administration\", fontsize=12, fontweight='light', color=('#000000'));\n",
        "ax.text(x=400000,y=-0.10, s=\"Psychology\", fontsize=12, fontweight='light', color=('#000000'));"
      ],
      "execution_count": 373,
      "outputs": [
        {
          "output_type": "display_data",
          "data": {
            "image/png": "[encoded data removed]",
            "text/plain": [
              "<Figure size 864x576 with 1 Axes>"
            ]
          },
          "metadata": {
            "tags": []
          }
        }
      ]
    },
    {
      "metadata": {
        "id": "7zBT58f3DhJI",
        "colab_type": "text"
      },
      "cell_type": "markdown",
      "source": [
        "\n",
        "\n",
        "---\n",
        "\n"
      ]
    },
    {
      "metadata": {
        "id": "0cNEcDPVsAvC",
        "colab_type": "text"
      },
      "cell_type": "markdown",
      "source": [
        "**Let's sort this into Men**"
      ]
    },
    {
      "metadata": {
        "id": "38tEC_9_sEST",
        "colab_type": "code",
        "colab": {}
      },
      "cell_type": "code",
      "source": [
        "men_majors = (what_majors[['Men', 'Major_category', 'Major']])"
      ],
      "execution_count": 0,
      "outputs": []
    },
    {
      "metadata": {
        "id": "kEmQEsXEBN8-",
        "colab_type": "text"
      },
      "cell_type": "markdown",
      "source": [
        "**Top 10 things Men major in **"
      ]
    },
    {
      "metadata": {
        "id": "AbsMyHtj_4QV",
        "colab_type": "code",
        "outputId": "31f9aaeb-f4ad-4f74-beaf-399507334bb2",
        "colab": {
          "base_uri": "https://localhost:8080/",
          "height": 359
        }
      },
      "cell_type": "code",
      "source": [
        "men_majors.sort_values(by='Men', ascending=False).head(10)"
      ],
      "execution_count": 309,
      "outputs": [
        {
          "output_type": "execute_result",
          "data": {
            "text/html": [
              "<div>\n",
              "<style scoped>\n",
              "    .dataframe tbody tr th:only-of-type {\n",
              "        vertical-align: middle;\n",
              "    }\n",
              "\n",
              "    .dataframe tbody tr th {\n",
              "        vertical-align: top;\n",
              "    }\n",
              "\n",
              "    .dataframe thead th {\n",
              "        text-align: right;\n",
              "    }\n",
              "</style>\n",
              "<table border=\"1\" class=\"dataframe\">\n",
              "  <thead>\n",
              "    <tr style=\"text-align: right;\">\n",
              "      <th></th>\n",
              "      <th>Men</th>\n",
              "      <th>Major_category</th>\n",
              "      <th>Major</th>\n",
              "    </tr>\n",
              "  </thead>\n",
              "  <tbody>\n",
              "    <tr>\n",
              "      <th>79</th>\n",
              "      <td>173809</td>\n",
              "      <td>Social Science</td>\n",
              "      <td>GEOGRAPHY</td>\n",
              "    </tr>\n",
              "    <tr>\n",
              "      <th>70</th>\n",
              "      <td>132238</td>\n",
              "      <td>Psychology &amp; Social Work</td>\n",
              "      <td>INDUSTRIAL AND ORGANIZATIONAL PSYCHOLOGY</td>\n",
              "    </tr>\n",
              "    <tr>\n",
              "      <th>36</th>\n",
              "      <td>115030</td>\n",
              "      <td>Social Science</td>\n",
              "      <td>ECONOMICS</td>\n",
              "    </tr>\n",
              "    <tr>\n",
              "      <th>123</th>\n",
              "      <td>111762</td>\n",
              "      <td>Biology &amp; Life Science</td>\n",
              "      <td>BIOLOGY</td>\n",
              "    </tr>\n",
              "    <tr>\n",
              "      <th>21</th>\n",
              "      <td>99743</td>\n",
              "      <td>Agriculture &amp; Natural Resources</td>\n",
              "      <td>FOOD SCIENCE</td>\n",
              "    </tr>\n",
              "    <tr>\n",
              "      <th>48</th>\n",
              "      <td>94519</td>\n",
              "      <td>Biology &amp; Life Science</td>\n",
              "      <td>PHARMACOLOGY</td>\n",
              "    </tr>\n",
              "    <tr>\n",
              "      <th>78</th>\n",
              "      <td>93880</td>\n",
              "      <td>Social Science</td>\n",
              "      <td>POLITICAL SCIENCE AND GOVERNMENT</td>\n",
              "    </tr>\n",
              "    <tr>\n",
              "      <th>35</th>\n",
              "      <td>89749</td>\n",
              "      <td>Business</td>\n",
              "      <td>FINANCE</td>\n",
              "    </tr>\n",
              "    <tr>\n",
              "      <th>145</th>\n",
              "      <td>86648</td>\n",
              "      <td>Psychology &amp; Social Work</td>\n",
              "      <td>PSYCHOLOGY</td>\n",
              "    </tr>\n",
              "    <tr>\n",
              "      <th>12</th>\n",
              "      <td>80320</td>\n",
              "      <td>Engineering</td>\n",
              "      <td>BIOMEDICAL ENGINEERING</td>\n",
              "    </tr>\n",
              "  </tbody>\n",
              "</table>\n",
              "</div>"
            ],
            "text/plain": [
              "        Men                   Major_category  \\\n",
              "79   173809                   Social Science   \n",
              "70   132238         Psychology & Social Work   \n",
              "36   115030                   Social Science   \n",
              "123  111762           Biology & Life Science   \n",
              "21    99743  Agriculture & Natural Resources   \n",
              "48    94519           Biology & Life Science   \n",
              "78    93880                   Social Science   \n",
              "35    89749                         Business   \n",
              "145   86648         Psychology & Social Work   \n",
              "12    80320                      Engineering   \n",
              "\n",
              "                                        Major  \n",
              "79                                  GEOGRAPHY  \n",
              "70   INDUSTRIAL AND ORGANIZATIONAL PSYCHOLOGY  \n",
              "36                                  ECONOMICS  \n",
              "123                                   BIOLOGY  \n",
              "21                               FOOD SCIENCE  \n",
              "48                               PHARMACOLOGY  \n",
              "78           POLITICAL SCIENCE AND GOVERNMENT  \n",
              "35                                    FINANCE  \n",
              "145                                PSYCHOLOGY  \n",
              "12                     BIOMEDICAL ENGINEERING  "
            ]
          },
          "metadata": {
            "tags": []
          },
          "execution_count": 309
        }
      ]
    },
    {
      "metadata": {
        "id": "wgSbkXljc2WT",
        "colab_type": "code",
        "colab": {}
      },
      "cell_type": "code",
      "source": [
        "# Sorting the top 10 mens counts, I already did this above \n",
        "# but this is just assigning it to a variable\n",
        "men = men_majors.nlargest(10, 'Men')"
      ],
      "execution_count": 0,
      "outputs": []
    },
    {
      "metadata": {
        "id": "Z4GHHCLRhAWr",
        "colab_type": "text"
      },
      "cell_type": "markdown",
      "source": [
        "**As with above, I simply changed the X to Major instead of MC and that simplified the majors without having to combine. Although I may want to later**"
      ]
    },
    {
      "metadata": {
        "id": "sP8szRsNTz_n",
        "colab_type": "text"
      },
      "cell_type": "markdown",
      "source": [
        "### **The Top Major Men Go For Is Geology...That Was Surprising**"
      ]
    },
    {
      "metadata": {
        "id": "hxjy8jSgdJrK",
        "colab_type": "code",
        "outputId": "b99a4657-a163-49cb-bbe4-bb532bd15437",
        "colab": {
          "base_uri": "https://localhost:8080/",
          "height": 287
        }
      },
      "cell_type": "code",
      "source": [
        "# Plotting top 10 mens categories for majors\n",
        "# Plotting the top 10 largest\n",
        "ax = men.plot.barh(x='Major', y='Men')\n",
        "#fig.patch.set_facecolor('#ececec')\n",
        "# Title and Subtitle\n",
        "ax.text(s=\"Top 10 Majors Acquired By Men \", y=10, x=-5, fontsize=14, fontweight='semibold')\n",
        "# The little details\n",
        "ax.spines['top'].set_visible(False)\n",
        "ax.spines['right'].set_visible(False)\n",
        "ax.spines['bottom'].set_visible(False)\n",
        "ax.spines['left'].set_visible(False)\n",
        "ax.set_ylabel('')\n",
        "ax.get_legend().remove();"
      ],
      "execution_count": 95,
      "outputs": [
        {
          "output_type": "display_data",
          "data": {
            "image/png": "[encoded data removed]",
            "text/plain": [
              "<Figure size 432x288 with 1 Axes>"
            ]
          },
          "metadata": {
            "tags": []
          }
        }
      ]
    },
    {
      "metadata": {
        "id": "t_EyLAaZDji4",
        "colab_type": "text"
      },
      "cell_type": "markdown",
      "source": [
        "\n",
        "\n",
        "---\n",
        "\n"
      ]
    },
    {
      "metadata": {
        "id": "gZ0fhYAYBtsw",
        "colab_type": "text"
      },
      "cell_type": "markdown",
      "source": [
        "**Looking at Women**"
      ]
    },
    {
      "metadata": {
        "id": "6AhZrt8-BxMk",
        "colab_type": "code",
        "colab": {}
      },
      "cell_type": "code",
      "source": [
        "women_majors = (what_majors[['Women', 'Major_category', 'Major']])"
      ],
      "execution_count": 0,
      "outputs": []
    },
    {
      "metadata": {
        "id": "eZJgkLUeB5iA",
        "colab_type": "text"
      },
      "cell_type": "markdown",
      "source": [
        "**Top 10 things Women major in**"
      ]
    },
    {
      "metadata": {
        "id": "7uvG7ftBCHKT",
        "colab_type": "code",
        "outputId": "e665ac93-8255-4f19-dd71-c0034e0e86e3",
        "colab": {
          "base_uri": "https://localhost:8080/",
          "height": 359
        }
      },
      "cell_type": "code",
      "source": [
        "# Sorting the top 10 womens counts\n",
        "women = women_majors.nlargest(10, 'Women')\n",
        "women"
      ],
      "execution_count": 316,
      "outputs": [
        {
          "output_type": "execute_result",
          "data": {
            "text/html": [
              "<div>\n",
              "<style scoped>\n",
              "    .dataframe tbody tr th:only-of-type {\n",
              "        vertical-align: middle;\n",
              "    }\n",
              "\n",
              "    .dataframe tbody tr th {\n",
              "        vertical-align: top;\n",
              "    }\n",
              "\n",
              "    .dataframe thead th {\n",
              "        text-align: right;\n",
              "    }\n",
              "</style>\n",
              "<table border=\"1\" class=\"dataframe\">\n",
              "  <thead>\n",
              "    <tr style=\"text-align: right;\">\n",
              "      <th></th>\n",
              "      <th>Women</th>\n",
              "      <th>Major_category</th>\n",
              "      <th>Major</th>\n",
              "    </tr>\n",
              "  </thead>\n",
              "  <tbody>\n",
              "    <tr>\n",
              "      <th>145</th>\n",
              "      <td>307087</td>\n",
              "      <td>Psychology &amp; Social Work</td>\n",
              "      <td>PSYCHOLOGY</td>\n",
              "    </tr>\n",
              "    <tr>\n",
              "      <th>34</th>\n",
              "      <td>187621</td>\n",
              "      <td>Health</td>\n",
              "      <td>NURSING</td>\n",
              "    </tr>\n",
              "    <tr>\n",
              "      <th>123</th>\n",
              "      <td>168947</td>\n",
              "      <td>Biology &amp; Life Science</td>\n",
              "      <td>BIOLOGY</td>\n",
              "    </tr>\n",
              "    <tr>\n",
              "      <th>138</th>\n",
              "      <td>157833</td>\n",
              "      <td>Education</td>\n",
              "      <td>ELEMENTARY EDUCATION</td>\n",
              "    </tr>\n",
              "    <tr>\n",
              "      <th>79</th>\n",
              "      <td>156118</td>\n",
              "      <td>Social Science</td>\n",
              "      <td>GEOGRAPHY</td>\n",
              "    </tr>\n",
              "    <tr>\n",
              "      <th>97</th>\n",
              "      <td>143377</td>\n",
              "      <td>Physical Sciences</td>\n",
              "      <td>MULTI-DISCIPLINARY OR GENERAL SCIENCE</td>\n",
              "    </tr>\n",
              "    <tr>\n",
              "      <th>140</th>\n",
              "      <td>136446</td>\n",
              "      <td>Humanities &amp; Liberal Arts</td>\n",
              "      <td>LIBERAL ARTS</td>\n",
              "    </tr>\n",
              "    <tr>\n",
              "      <th>80</th>\n",
              "      <td>126354</td>\n",
              "      <td>Biology &amp; Life Science</td>\n",
              "      <td>MICROBIOLOGY</td>\n",
              "    </tr>\n",
              "    <tr>\n",
              "      <th>113</th>\n",
              "      <td>116825</td>\n",
              "      <td>Education</td>\n",
              "      <td>GENERAL EDUCATION</td>\n",
              "    </tr>\n",
              "    <tr>\n",
              "      <th>48</th>\n",
              "      <td>104114</td>\n",
              "      <td>Biology &amp; Life Science</td>\n",
              "      <td>PHARMACOLOGY</td>\n",
              "    </tr>\n",
              "  </tbody>\n",
              "</table>\n",
              "</div>"
            ],
            "text/plain": [
              "      Women             Major_category                                  Major\n",
              "145  307087   Psychology & Social Work                             PSYCHOLOGY\n",
              "34   187621                     Health                                NURSING\n",
              "123  168947     Biology & Life Science                                BIOLOGY\n",
              "138  157833                  Education                   ELEMENTARY EDUCATION\n",
              "79   156118             Social Science                              GEOGRAPHY\n",
              "97   143377          Physical Sciences  MULTI-DISCIPLINARY OR GENERAL SCIENCE\n",
              "140  136446  Humanities & Liberal Arts                           LIBERAL ARTS\n",
              "80   126354     Biology & Life Science                           MICROBIOLOGY\n",
              "113  116825                  Education                      GENERAL EDUCATION\n",
              "48   104114     Biology & Life Science                           PHARMACOLOGY"
            ]
          },
          "metadata": {
            "tags": []
          },
          "execution_count": 316
        }
      ]
    },
    {
      "metadata": {
        "id": "ExAB4NwKCq8n",
        "colab_type": "text"
      },
      "cell_type": "markdown",
      "source": [
        "### **Based On This Data, It Appears More Women Tend To Major In Psychology Followed By Nursing**\n",
        "\n",
        "\n",
        "\n"
      ]
    },
    {
      "metadata": {
        "id": "2PxlDR3qCohp",
        "colab_type": "code",
        "outputId": "02d9d13c-f7df-491c-de54-861cf5017b7f",
        "colab": {
          "base_uri": "https://localhost:8080/",
          "height": 545
        }
      },
      "cell_type": "code",
      "source": [
        "# Using the five thirty eight style\n",
        "plt.style.context('fivethirtyeight')\n",
        "# Plotting top 10 Womens categories for majors\n",
        "cmap = ['#fff100', '#FFDF00', '#ffae42', '#ffe5b4', '#FFA500', '#FFC0CB', '#c73d32', '#990000', '#65000b', '#7F171F']\n",
        "ax = women.plot.barh(x='Major', y='Women', figsize=(12,8), color=cmap)\n",
        "#fig.patch.set_facecolor('#ececec')\n",
        "# Title and Subtitle\n",
        "ax.text(s=\"What Degrees Are Women Pursuing?\", y=10.6, x=-5, fontsize=17, fontweight='semibold')\n",
        "ax.text(s=\"A Look At The Top Ten Degrees Chosen By Women \", y=10, x=-5, fontsize=14, fontstyle='italic')\n",
        "# The little details\n",
        "ax.spines['top'].set_visible(False)\n",
        "ax.spines['right'].set_visible(False)\n",
        "ax.spines['bottom'].set_visible(False)\n",
        "ax.spines['left'].set_visible(False)\n",
        "ax.set_ylabel('')\n",
        "ax.yaxis.set_visible(False)\n",
        "ax.get_legend().remove()\n",
        "ax.text(x=110000,y=8.9, s=\"Pharmacology\", fontsize=12, fontweight='light', color=('#000000'));\n",
        "ax.text(x=122000,y=7.9, s=\"General Education\", fontsize=12, fontweight='light', color=('#000000'));\n",
        "ax.text(x=132000,y=6.9, s=\"Microbiology\", fontsize=12, fontweight='light', color=('#000000'));\n",
        "ax.text(x=142000,y=5.9, s=\"Liberal Arts\", fontsize=12, fontweight='light', color=('#000000'));\n",
        "ax.text(x=149000,y=4.9, s=\"Multi-Disciplinary or General Science\", fontsize=12, fontweight='light', color=('#000000'));\n",
        "ax.text(x=162000,y=3.9, s=\"Geography\", fontsize=12, fontweight='light', color=('#000000'));\n",
        "ax.text(x=164000,y=2.9, s=\"Elementary Education\", fontsize=12, fontweight='light', color=('#000000'));\n",
        "ax.text(x=175000,y=1.9, s=\"Biology\", fontsize=12, fontweight='light', color=('#000000'));\n",
        "ax.text(x=194000,y=.9, s=\"Nursing\", fontsize=12, fontweight='light', color=('#000000'));\n",
        "ax.text(x=314000,y=-0.10, s=\"Psychology\", fontsize=12, fontweight='light', color=('#000000'));"
      ],
      "execution_count": 377,
      "outputs": [
        {
          "output_type": "display_data",
          "data": {
            "image/png": "[encoded data removed]",
            "text/plain": [
              "<Figure size 864x576 with 1 Axes>"
            ]
          },
          "metadata": {
            "tags": []
          }
        }
      ]
    },
    {
      "metadata": {
        "id": "v3LZYBkQEeHQ",
        "colab_type": "text"
      },
      "cell_type": "markdown",
      "source": [
        "\n",
        "\n",
        "---\n",
        "\n"
      ]
    },
    {
      "metadata": {
        "id": "S5UM7htJEDnq",
        "colab_type": "text"
      },
      "cell_type": "markdown",
      "source": [
        "\n",
        "\n",
        "\n",
        "**I have looked at these things individually, I would like to explore how they are compared to eachother **\n",
        "\n",
        "\n",
        "*   Totals broken into Men and Women\n",
        "*   Via crosstab or pt?\n",
        "*   Histogram of some sort\n",
        "\n",
        "*   Men vs Women in Majors\n",
        "\n"
      ]
    },
    {
      "metadata": {
        "id": "Y3NdelMGGnHS",
        "colab_type": "text"
      },
      "cell_type": "markdown",
      "source": [
        "**Setting up a DF for the things I care about**"
      ]
    },
    {
      "metadata": {
        "id": "KToPn9MxEini",
        "colab_type": "code",
        "colab": {}
      },
      "cell_type": "code",
      "source": [
        "major_df = what_majors[['Major', 'Major_category', 'Men', 'Women', 'Total']]"
      ],
      "execution_count": 0,
      "outputs": []
    },
    {
      "metadata": {
        "id": "ZZh9hkF0EicR",
        "colab_type": "code",
        "colab": {}
      },
      "cell_type": "code",
      "source": [
        "# For this purpose, I am only interested in the top 10\n",
        "# This is essentially another DF sorted by top 10\n",
        "major_totals = major_df.nlargest(10, 'Total')"
      ],
      "execution_count": 0,
      "outputs": []
    },
    {
      "metadata": {
        "id": "OSPz-MDbKKKT",
        "colab_type": "code",
        "colab": {}
      },
      "cell_type": "code",
      "source": [
        "# Grouping Sex\n",
        "# Don't need this, just saving it incase\n",
        "sex = major_df[['Men', 'Women']]\n"
      ],
      "execution_count": 0,
      "outputs": []
    },
    {
      "metadata": {
        "id": "SR1ZhYLFEiRV",
        "colab_type": "code",
        "colab": {}
      },
      "cell_type": "code",
      "source": [
        "# Getting percentage\n",
        "# Don't need this. Just saving this incase\n",
        "percentage = pd.crosstab(index=major_df.Total, columns=major_df.Major, normalize='index') * 100"
      ],
      "execution_count": 0,
      "outputs": []
    },
    {
      "metadata": {
        "id": "DOdHHniFpFc-",
        "colab_type": "code",
        "colab": {}
      },
      "cell_type": "code",
      "source": [
        "major_totals"
      ],
      "execution_count": 0,
      "outputs": []
    },
    {
      "metadata": {
        "id": "34Mr587KEglc",
        "colab_type": "text"
      },
      "cell_type": "markdown",
      "source": [
        "\n",
        "\n",
        "---\n",
        "\n"
      ]
    },
    {
      "metadata": {
        "id": "5KgsYU0HC9Cj",
        "colab_type": "text"
      },
      "cell_type": "markdown",
      "source": [
        "## **Now that I have examined each thing individually, I would like to look at STEM related careers **"
      ]
    },
    {
      "metadata": {
        "id": "TlYPB2Ts3Siy",
        "colab_type": "code",
        "outputId": "6f366fad-44d8-46df-a756-995e9a003488",
        "colab": {
          "base_uri": "https://localhost:8080/",
          "height": 359
        }
      },
      "cell_type": "code",
      "source": [
        "# Looking at everyone involved in stem, these are the top 10 pursuits\n",
        "top_stem = women_stem.nlargest(10, 'Total')\n",
        "top_stem"
      ],
      "execution_count": 325,
      "outputs": [
        {
          "output_type": "execute_result",
          "data": {
            "text/html": [
              "<div>\n",
              "<style scoped>\n",
              "    .dataframe tbody tr th:only-of-type {\n",
              "        vertical-align: middle;\n",
              "    }\n",
              "\n",
              "    .dataframe tbody tr th {\n",
              "        vertical-align: top;\n",
              "    }\n",
              "\n",
              "    .dataframe thead th {\n",
              "        text-align: right;\n",
              "    }\n",
              "</style>\n",
              "<table border=\"1\" class=\"dataframe\">\n",
              "  <thead>\n",
              "    <tr style=\"text-align: right;\">\n",
              "      <th></th>\n",
              "      <th>Rank</th>\n",
              "      <th>Major_code</th>\n",
              "      <th>Major</th>\n",
              "      <th>Major_category</th>\n",
              "      <th>Total</th>\n",
              "      <th>Men</th>\n",
              "      <th>Women</th>\n",
              "      <th>ShareWomen</th>\n",
              "      <th>Median</th>\n",
              "    </tr>\n",
              "  </thead>\n",
              "  <tbody>\n",
              "    <tr>\n",
              "      <th>70</th>\n",
              "      <td>71</td>\n",
              "      <td>3600</td>\n",
              "      <td>BIOLOGY</td>\n",
              "      <td>Biology &amp; Life Science</td>\n",
              "      <td>280709</td>\n",
              "      <td>111762</td>\n",
              "      <td>168947</td>\n",
              "      <td>0.601858</td>\n",
              "      <td>33400</td>\n",
              "    </tr>\n",
              "    <tr>\n",
              "      <th>26</th>\n",
              "      <td>27</td>\n",
              "      <td>6107</td>\n",
              "      <td>NURSING</td>\n",
              "      <td>Health</td>\n",
              "      <td>209394</td>\n",
              "      <td>21773</td>\n",
              "      <td>187621</td>\n",
              "      <td>0.896019</td>\n",
              "      <td>48000</td>\n",
              "    </tr>\n",
              "    <tr>\n",
              "      <th>18</th>\n",
              "      <td>19</td>\n",
              "      <td>2102</td>\n",
              "      <td>COMPUTER SCIENCE</td>\n",
              "      <td>Computers &amp; Mathematics</td>\n",
              "      <td>128319</td>\n",
              "      <td>99743</td>\n",
              "      <td>28576</td>\n",
              "      <td>0.222695</td>\n",
              "      <td>53000</td>\n",
              "    </tr>\n",
              "    <tr>\n",
              "      <th>7</th>\n",
              "      <td>8</td>\n",
              "      <td>2414</td>\n",
              "      <td>MECHANICAL ENGINEERING</td>\n",
              "      <td>Engineering</td>\n",
              "      <td>91227</td>\n",
              "      <td>80320</td>\n",
              "      <td>10907</td>\n",
              "      <td>0.119559</td>\n",
              "      <td>60000</td>\n",
              "    </tr>\n",
              "    <tr>\n",
              "      <th>9</th>\n",
              "      <td>10</td>\n",
              "      <td>2408</td>\n",
              "      <td>ELECTRICAL ENGINEERING</td>\n",
              "      <td>Engineering</td>\n",
              "      <td>81527</td>\n",
              "      <td>65511</td>\n",
              "      <td>16016</td>\n",
              "      <td>0.196450</td>\n",
              "      <td>60000</td>\n",
              "    </tr>\n",
              "    <tr>\n",
              "      <th>33</th>\n",
              "      <td>34</td>\n",
              "      <td>3700</td>\n",
              "      <td>MATHEMATICS</td>\n",
              "      <td>Computers &amp; Mathematics</td>\n",
              "      <td>72397</td>\n",
              "      <td>39956</td>\n",
              "      <td>32441</td>\n",
              "      <td>0.448099</td>\n",
              "      <td>45000</td>\n",
              "    </tr>\n",
              "    <tr>\n",
              "      <th>50</th>\n",
              "      <td>51</td>\n",
              "      <td>5003</td>\n",
              "      <td>CHEMISTRY</td>\n",
              "      <td>Physical Sciences</td>\n",
              "      <td>66530</td>\n",
              "      <td>32923</td>\n",
              "      <td>33607</td>\n",
              "      <td>0.505141</td>\n",
              "      <td>39000</td>\n",
              "    </tr>\n",
              "    <tr>\n",
              "      <th>62</th>\n",
              "      <td>63</td>\n",
              "      <td>5098</td>\n",
              "      <td>MULTI-DISCIPLINARY OR GENERAL SCIENCE</td>\n",
              "      <td>Physical Sciences</td>\n",
              "      <td>62052</td>\n",
              "      <td>27015</td>\n",
              "      <td>35037</td>\n",
              "      <td>0.564639</td>\n",
              "      <td>35000</td>\n",
              "    </tr>\n",
              "    <tr>\n",
              "      <th>16</th>\n",
              "      <td>17</td>\n",
              "      <td>2400</td>\n",
              "      <td>GENERAL ENGINEERING</td>\n",
              "      <td>Engineering</td>\n",
              "      <td>61152</td>\n",
              "      <td>45683</td>\n",
              "      <td>15469</td>\n",
              "      <td>0.252960</td>\n",
              "      <td>56000</td>\n",
              "    </tr>\n",
              "    <tr>\n",
              "      <th>22</th>\n",
              "      <td>23</td>\n",
              "      <td>2406</td>\n",
              "      <td>CIVIL ENGINEERING</td>\n",
              "      <td>Engineering</td>\n",
              "      <td>53153</td>\n",
              "      <td>41081</td>\n",
              "      <td>12072</td>\n",
              "      <td>0.227118</td>\n",
              "      <td>50000</td>\n",
              "    </tr>\n",
              "  </tbody>\n",
              "</table>\n",
              "</div>"
            ],
            "text/plain": [
              "    Rank  Major_code                                  Major  \\\n",
              "70    71        3600                                BIOLOGY   \n",
              "26    27        6107                                NURSING   \n",
              "18    19        2102                       COMPUTER SCIENCE   \n",
              "7      8        2414                 MECHANICAL ENGINEERING   \n",
              "9     10        2408                 ELECTRICAL ENGINEERING   \n",
              "33    34        3700                            MATHEMATICS   \n",
              "50    51        5003                              CHEMISTRY   \n",
              "62    63        5098  MULTI-DISCIPLINARY OR GENERAL SCIENCE   \n",
              "16    17        2400                    GENERAL ENGINEERING   \n",
              "22    23        2406                      CIVIL ENGINEERING   \n",
              "\n",
              "             Major_category   Total     Men   Women  ShareWomen  Median  \n",
              "70   Biology & Life Science  280709  111762  168947    0.601858   33400  \n",
              "26                   Health  209394   21773  187621    0.896019   48000  \n",
              "18  Computers & Mathematics  128319   99743   28576    0.222695   53000  \n",
              "7               Engineering   91227   80320   10907    0.119559   60000  \n",
              "9               Engineering   81527   65511   16016    0.196450   60000  \n",
              "33  Computers & Mathematics   72397   39956   32441    0.448099   45000  \n",
              "50        Physical Sciences   66530   32923   33607    0.505141   39000  \n",
              "62        Physical Sciences   62052   27015   35037    0.564639   35000  \n",
              "16              Engineering   61152   45683   15469    0.252960   56000  \n",
              "22              Engineering   53153   41081   12072    0.227118   50000  "
            ]
          },
          "metadata": {
            "tags": []
          },
          "execution_count": 325
        }
      ]
    },
    {
      "metadata": {
        "id": "ZeWBRae83-BG",
        "colab_type": "text"
      },
      "cell_type": "markdown",
      "source": [
        "### **The Top Stem Major Pursued Is Biology**"
      ]
    },
    {
      "metadata": {
        "id": "Df8x6PAC3EgD",
        "colab_type": "code",
        "outputId": "bed2f7b7-d6fc-4ebe-a7cd-b591ee63c16a",
        "colab": {
          "base_uri": "https://localhost:8080/",
          "height": 545
        }
      },
      "cell_type": "code",
      "source": [
        "# Using the five thirty eight style\n",
        "plt.style.context('fivethirtyeight')\n",
        "# Plotting Top 10 Stem Majors\n",
        "cmap = ['#fff100', '#ff8c00', '#e81123', '#ec008c', '#68217a', '#00188f', '#00bcf2', '#00b294', '#009e49', '#bad80a']\n",
        "ax = top_stem.plot.barh(x='Major', y='Total', figsize=(12,8), color=cmap)\n",
        "# Title and Subtitle\n",
        "ax.text(s=\"Let's Talk S.T.E.M \", y=10.6, x=-5, fontsize=17, fontweight='semibold')\n",
        "ax.text(s=\"Looking At The Top Ten S.T.E.M Related Degrees Chosen By Both Sexes \", y=10, x=-5, fontsize=14, fontstyle='italic')\n",
        "# The little details\n",
        "ax.spines['top'].set_visible(False)\n",
        "ax.spines['right'].set_visible(False)\n",
        "ax.spines['bottom'].set_visible(False)\n",
        "ax.spines['left'].set_visible(False)\n",
        "ax.set_ylabel('')\n",
        "ax.get_legend().remove()\n",
        "ax.yaxis.set_visible(False)\n",
        "# Plotting Labels\n",
        "ax.text(x=60000,y=8.9, s=\"Civil Engineering\", fontsize=12, fontweight='light', color=('#000000'));\n",
        "ax.text(x=69000,y=7.9, s=\"General Engineering\", fontsize=12, fontweight='light', color=('#000000'));\n",
        "ax.text(x=70000,y=6.9, s=\"Multi-Disciplinary or General Science\", fontsize=13, fontweight='light', color=('#000000'));\n",
        "ax.text(x=74000,y=5.9, s=\"Chemistry\", fontsize=12, fontweight='light', color=('#000000'));\n",
        "ax.text(x=80000,y=4.9, s=\"Mathematics\", fontsize=12, fontweight='light', color=('#000000'));\n",
        "ax.text(x=89000,y=3.9, s=\"Electrical Engineering\", fontsize=12, fontweight='light', color=('#000000'));\n",
        "ax.text(x=99000,y=2.9, s=\"Mechanical Engineering\", fontsize=12, fontweight='light', color=('#000000'));\n",
        "ax.text(x=135000,y=1.9, s=\"Computer Science\", fontsize=12, fontweight='light', color=('#000000'));\n",
        "ax.text(x=215000,y=.9, s=\"Nursing\", fontsize=12, fontweight='light', color=('#000000'));\n",
        "ax.text(x=287000,y=-0.10, s=\"Biology\", fontsize=12, fontweight='light', color=('#000000'));"
      ],
      "execution_count": 375,
      "outputs": [
        {
          "output_type": "display_data",
          "data": {
            "image/png": "[encoded data removed]",
            "text/plain": [
              "<Figure size 864x576 with 1 Axes>"
            ]
          },
          "metadata": {
            "tags": []
          }
        }
      ]
    },
    {
      "metadata": {
        "id": "PfKi3_yZtH4J",
        "colab_type": "text"
      },
      "cell_type": "markdown",
      "source": [
        "**Top 10 Stem Related Degrees Women Pursue**"
      ]
    },
    {
      "metadata": {
        "id": "blaSxEufDOG_",
        "colab_type": "code",
        "colab": {}
      },
      "cell_type": "code",
      "source": [
        "# Setting up a DF just for Women\n",
        "stem_chicks = women_stem[['Major', 'Major_category', 'Women', 'Total', 'ShareWomen']]\n",
        "stem_chicks"
      ],
      "execution_count": 0,
      "outputs": []
    },
    {
      "metadata": {
        "id": "smBYKz0cs3bx",
        "colab_type": "code",
        "colab": {}
      },
      "cell_type": "code",
      "source": [
        "# Looking at the top 10 stem careers for women\n",
        "fem_stem = stem_chicks.nlargest(10, 'Women')\n",
        "fem_stem"
      ],
      "execution_count": 0,
      "outputs": []
    },
    {
      "metadata": {
        "id": "f2kqSVpttTwa",
        "colab_type": "text"
      },
      "cell_type": "markdown",
      "source": [
        "### **Based On The Data, The Top STEM Degree Women Pursue Is Nursing **"
      ]
    },
    {
      "metadata": {
        "id": "oYs4NalruD8N",
        "colab_type": "code",
        "outputId": "4fb20f12-eeb4-4757-b6c2-3e9c3bea0106",
        "colab": {
          "base_uri": "https://localhost:8080/",
          "height": 545
        }
      },
      "cell_type": "code",
      "source": [
        "# Using the five thirty eight style\n",
        "plt.style.context('fivethirtyeight')\n",
        "# Plotting Top 10 Womens Stem Majors\n",
        "ax = fem_stem.plot.barh(x='Major', y='Women', figsize=(12,8))\n",
        "# Title and Subtitle\n",
        "ax.text(s=\"Nursing is the highest ranking degree, followed closely by Biology, however Tech is not even among the top five... \", y=10, x=-5, fontsize=14, fontstyle='italic')\n",
        "ax.text(s=\"Looking At The Top Ten S.T.E.M Degrees Chosen By Women \", y=10.6, x=-5, fontsize=17, fontweight='semibold')\n",
        "# The little details\n",
        "#ax.yaxis.set_visible(False)\n",
        "ax.spines['top'].set_visible(False)\n",
        "ax.spines['right'].set_visible(False)\n",
        "ax.spines['bottom'].set_visible(False)\n",
        "ax.spines['left'].set_visible(False)\n",
        "ax.set_ylabel('')\n",
        "ax.get_legend().remove()\n",
        "ax.yaxis.set_visible(False)\n",
        "# Plotting Labels\n",
        "ax.text(x=25000,y=8.9, s=\"Architecture\", fontsize=12, fontweight='light', color=('#000000'));\n",
        "ax.text(x=31000,y=7.9, s=\"General Medicine & Health Services\", fontsize=12, fontweight='light', color=('#000000'));\n",
        "ax.text(x=33000,y=6.9, s=\"Computer Science\", fontsize=12, fontweight='light', color=('#000000'));\n",
        "ax.text(x=37000,y=5.9, s=\"Mathematics\", fontsize=12, fontweight='light', color=('#000000'));\n",
        "ax.text(x=38000,y=4.9, s=\"Chemistry\", fontsize=12, fontweight='light', color=('#000000'));\n",
        "ax.text(x=40000,y=3.9, s=\"Treatment Therapy Professions\", fontsize=12, fontweight='light', color=('#000000'));\n",
        "ax.text(x=40000,y=2.9, s=\"Multi-Disciplinary or General Science\", fontsize=12, fontweight='light', color=('#000000'));\n",
        "ax.text(x=42000,y=1.9, s=\"Communication Disorders Sciences and Services\", fontsize=12, fontweight='light', color=('#000000'));\n",
        "ax.text(x=173000,y=.9, s=\"Biology\", fontsize=12, fontweight='light', color=('#000000'));\n",
        "ax.text(x=192000,y=-0.10, s=\"Nursing\", fontsize=12, fontweight='light', color=('#000000'));"
      ],
      "execution_count": 330,
      "outputs": [
        {
          "output_type": "display_data",
          "data": {
            "image/png": "[encoded data removed]",
            "text/plain": [
              "<Figure size 864x576 with 1 Axes>"
            ]
          },
          "metadata": {
            "tags": []
          }
        }
      ]
    },
    {
      "metadata": {
        "id": "Pmdf13BOfqj_",
        "colab_type": "text"
      },
      "cell_type": "markdown",
      "source": [
        "### **What Share Of Major Percentage Women Hold**"
      ]
    },
    {
      "metadata": {
        "id": "G5_p_NUgewwj",
        "colab_type": "code",
        "colab": {
          "base_uri": "https://localhost:8080/",
          "height": 287
        },
        "outputId": "95503883-29df-4150-86d4-aa5bbe25d463"
      },
      "cell_type": "code",
      "source": [
        "# Using the five thirty eight style\n",
        "plt.style.context('fivethirtyeight')\n",
        "# Plotting Percentage held by Womens Stem Majors\n",
        "ax = fem_stem.plot.barh(x='Major', y='ShareWomen')\n",
        "# Title and Subtitle\n",
        "ax.text(s=\"Percentage Held By Female Stem Majors\", y=10, x=0, fontsize=14, fontweight='semibold')\n",
        "# The little details\n",
        "ax.spines['top'].set_visible(False)\n",
        "ax.spines['right'].set_visible(False)\n",
        "ax.spines['bottom'].set_visible(False)\n",
        "ax.spines['left'].set_visible(False)\n",
        "ax.set_ylabel('')\n",
        "ax.get_legend().remove();"
      ],
      "execution_count": 331,
      "outputs": [
        {
          "output_type": "display_data",
          "data": {
            "image/png": "[encoded data removed]",
            "text/plain": [
              "<Figure size 432x288 with 1 Axes>"
            ]
          },
          "metadata": {
            "tags": []
          }
        }
      ]
    },
    {
      "metadata": {
        "id": "2KaffDho5IPO",
        "colab_type": "text"
      },
      "cell_type": "markdown",
      "source": [
        "**Top 10 Stem Related Degrees Men Pursue**"
      ]
    },
    {
      "metadata": {
        "id": "E8jeRvAPvedu",
        "colab_type": "code",
        "colab": {}
      },
      "cell_type": "code",
      "source": [
        "# Setting up a DF just for Men\n",
        "stem_dudes = women_stem[['Major', 'Major_category', 'Men', 'Total']]\n",
        "stem_dudes"
      ],
      "execution_count": 0,
      "outputs": []
    },
    {
      "metadata": {
        "id": "mUdOFCjMvOC1",
        "colab_type": "code",
        "colab": {}
      },
      "cell_type": "code",
      "source": [
        "men_stem = stem_dudes.nlargest(10, 'Men')\n",
        "men_stem"
      ],
      "execution_count": 0,
      "outputs": []
    },
    {
      "metadata": {
        "id": "X7IeQSlN5Vrc",
        "colab_type": "text"
      },
      "cell_type": "markdown",
      "source": [
        "### **The Top Stem Major Men Pursue Is Biology**"
      ]
    },
    {
      "metadata": {
        "id": "eYZc4Nf4vMku",
        "colab_type": "code",
        "outputId": "a0462044-4fdd-4606-a4da-e4343a3b8f33",
        "colab": {
          "base_uri": "https://localhost:8080/",
          "height": 545
        }
      },
      "cell_type": "code",
      "source": [
        "# Using the five thirty eight style\n",
        "plt.style.context('fivethirtyeight')\n",
        "# Plotting top 10 Men categories for majors\n",
        "ax = men_stem.plot.barh(x='Major', y='Men', figsize=(12,8))\n",
        "# Title and Subtitle\n",
        "ax.text(s=\"Top Ten S.T.E.M Degrees Filtered By Men\", y=10.6, x=-5, fontsize=17, fontweight='semibold')\n",
        "ax.text(s=\"Based on this vizualization, we can conclude that more Men are choosing Tech related degrees than Women  \", y=10, x=-5, fontsize=14, fontstyle='italic')\n",
        "# The little details\n",
        "ax.spines['top'].set_visible(False)\n",
        "ax.spines['right'].set_visible(False)\n",
        "ax.spines['bottom'].set_visible(False)\n",
        "ax.spines['left'].set_visible(False)\n",
        "ax.set_ylabel('')\n",
        "ax.get_legend().remove()\n",
        "ax.yaxis.set_visible(False)\n",
        "# Plotting Labels\n",
        "ax.text(x=29500,y=8.9, s=\"Computer & Information Systems\", fontsize=12, fontweight='light', color=('#000000'));\n",
        "ax.text(x=35000,y=7.9, s=\"Chemistry\", fontsize=12, fontweight='light', color=('#000000'));\n",
        "ax.text(x=35500,y=6.9, s=\"Computer Engineering\", fontsize=12, fontweight='light', color=('#000000'));\n",
        "ax.text(x=42500,y=5.9, s=\"Mathematics\", fontsize=12, fontweight='light', color=('#000000'));\n",
        "ax.text(x=43500,y=4.9, s=\"Civil Engineering\", fontsize=12, fontweight='light', color=('#000000'));\n",
        "ax.text(x=48000,y=3.9, s=\"General Engineering\", fontsize=12, fontweight='light', color=('#000000'));\n",
        "ax.text(x=68000,y=2.9, s=\"Electrical Engineering\", fontsize=12, fontweight='light', color=('#000000'));\n",
        "ax.text(x=83000,y=1.9, s=\"Mechanical Engineering\", fontsize=12, fontweight='light', color=('#000000'));\n",
        "ax.text(x=102000,y=.9, s=\"Computer Science\", fontsize=12, fontweight='light', color=('#000000'));\n",
        "ax.text(x=114500,y=-0.10, s=\"Biology\", fontsize=12, fontweight='light', color=('#000000'));"
      ],
      "execution_count": 370,
      "outputs": [
        {
          "output_type": "display_data",
          "data": {
            "image/png": "[encoded data removed]",
            "text/plain": [
              "<Figure size 864x576 with 1 Axes>"
            ]
          },
          "metadata": {
            "tags": []
          }
        }
      ]
    }
  ]
}