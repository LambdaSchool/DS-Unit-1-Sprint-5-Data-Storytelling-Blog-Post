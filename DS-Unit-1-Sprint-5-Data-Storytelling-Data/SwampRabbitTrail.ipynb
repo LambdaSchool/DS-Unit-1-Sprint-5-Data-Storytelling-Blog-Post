{
  "nbformat": 4,
  "nbformat_minor": 0,
  "metadata": {
    "colab": {
      "name": "SwampRabbitTrail.ipynb",
      "version": "0.3.2",
      "provenance": [],
      "include_colab_link": true
    },
    "kernelspec": {
      "name": "python3",
      "display_name": "Python 3"
    }
  },
  "cells": [
    {
      "cell_type": "markdown",
      "metadata": {
        "id": "view-in-github",
        "colab_type": "text"
      },
      "source": [
        "<a href=\"https://colab.research.google.com/github/standroidbeta/DS-Unit-1-Sprint-5-Data-Storytelling-Blog-Post/blob/master/SwampRabbitTrail.ipynb\" target=\"_parent\"><img src=\"https://colab.research.google.com/assets/colab-badge.svg\" alt=\"Open In Colab\"/></a>"
      ]
    },
    {
      "metadata": {
        "id": "fDgEIEu56UZa",
        "colab_type": "code",
        "colab": {
          "base_uri": "https://localhost:8080/",
          "height": 207
        },
        "outputId": "c23cfc9c-dbf6-4c9c-e23a-4473698694fb"
      },
      "cell_type": "code",
      "source": [
        "import pandas as pd\n",
        "\n",
        "traildata = pd.read_csv('Swamp Rabbit Economic Impact Results.csv')\n",
        "\n",
        "traildata.head()"
      ],
      "execution_count": 3,
      "outputs": [
        {
          "output_type": "execute_result",
          "data": {
            "text/html": [
              "<div>\n",
              "<style scoped>\n",
              "    .dataframe tbody tr th:only-of-type {\n",
              "        vertical-align: middle;\n",
              "    }\n",
              "\n",
              "    .dataframe tbody tr th {\n",
              "        vertical-align: top;\n",
              "    }\n",
              "\n",
              "    .dataframe thead th {\n",
              "        text-align: right;\n",
              "    }\n",
              "</style>\n",
              "<table border=\"1\" class=\"dataframe\">\n",
              "  <thead>\n",
              "    <tr style=\"text-align: right;\">\n",
              "      <th></th>\n",
              "      <th>Greenville Health System Swamp Rabbit Survey Year</th>\n",
              "      <th>Total Users</th>\n",
              "      <th>Users Outside of Greenville County</th>\n",
              "      <th>Percentage Outside of Greenville County</th>\n",
              "      <th>Users outside 50 mile radius of 29617</th>\n",
              "      <th>Percentage of Out of County Users that are outside a 50 mile Radius</th>\n",
              "      <th>Percentage of Total Users that are outside a 50 mile radius</th>\n",
              "      <th>Total Economic Impact</th>\n",
              "      <th></th>\n",
              "    </tr>\n",
              "  </thead>\n",
              "  <tbody>\n",
              "    <tr>\n",
              "      <th>0</th>\n",
              "      <td>2010-2011</td>\n",
              "      <td>359314</td>\n",
              "      <td>35931</td>\n",
              "      <td>0.10</td>\n",
              "      <td>7186</td>\n",
              "      <td>0.20</td>\n",
              "      <td>0.02</td>\n",
              "      <td>3232389</td>\n",
              "      <td></td>\n",
              "    </tr>\n",
              "    <tr>\n",
              "      <th>1</th>\n",
              "      <td>2011-2012</td>\n",
              "      <td>461299</td>\n",
              "      <td>59969</td>\n",
              "      <td>0.13</td>\n",
              "      <td>8396</td>\n",
              "      <td>0.14</td>\n",
              "      <td>0.02</td>\n",
              "      <td>3858397</td>\n",
              "      <td></td>\n",
              "    </tr>\n",
              "    <tr>\n",
              "      <th>2</th>\n",
              "      <td>2012-2013</td>\n",
              "      <td>501236</td>\n",
              "      <td>70173</td>\n",
              "      <td>0.14</td>\n",
              "      <td>14035</td>\n",
              "      <td>0.20</td>\n",
              "      <td>0.03</td>\n",
              "      <td>4855974</td>\n",
              "      <td></td>\n",
              "    </tr>\n",
              "    <tr>\n",
              "      <th>3</th>\n",
              "      <td>2013-2014</td>\n",
              "      <td>501236</td>\n",
              "      <td>90222</td>\n",
              "      <td>0.18</td>\n",
              "      <td>27067</td>\n",
              "      <td>0.30</td>\n",
              "      <td>0.05</td>\n",
              "      <td>6974198</td>\n",
              "      <td></td>\n",
              "    </tr>\n",
              "  </tbody>\n",
              "</table>\n",
              "</div>"
            ],
            "text/plain": [
              "  Greenville Health System Swamp Rabbit Survey Year   Total Users  \\\n",
              "0                                         2010-2011        359314   \n",
              "1                                         2011-2012        461299   \n",
              "2                                         2012-2013        501236   \n",
              "3                                         2013-2014        501236   \n",
              "\n",
              "    Users Outside of Greenville County  \\\n",
              "0                                35931   \n",
              "1                                59969   \n",
              "2                                70173   \n",
              "3                                90222   \n",
              "\n",
              "    Percentage Outside of Greenville County  \\\n",
              "0                                      0.10   \n",
              "1                                      0.13   \n",
              "2                                      0.14   \n",
              "3                                      0.18   \n",
              "\n",
              "    Users outside 50 mile radius of 29617  \\\n",
              "0                                    7186   \n",
              "1                                    8396   \n",
              "2                                   14035   \n",
              "3                                   27067   \n",
              "\n",
              "    Percentage of Out of County Users that are outside a 50 mile Radius  \\\n",
              "0                                               0.20                      \n",
              "1                                               0.14                      \n",
              "2                                               0.20                      \n",
              "3                                               0.30                      \n",
              "\n",
              "    Percentage of Total Users that are outside a 50 mile radius  \\\n",
              "0                                               0.02              \n",
              "1                                               0.02              \n",
              "2                                               0.03              \n",
              "3                                               0.05              \n",
              "\n",
              "    Total Economic Impact     \n",
              "0                 3232389     \n",
              "1                 3858397     \n",
              "2                 4855974     \n",
              "3                 6974198     "
            ]
          },
          "metadata": {
            "tags": []
          },
          "execution_count": 3
        }
      ]
    },
    {
      "metadata": {
        "id": "ZG6PCK3v8PkI",
        "colab_type": "code",
        "colab": {}
      },
      "cell_type": "code",
      "source": [
        ""
      ],
      "execution_count": 0,
      "outputs": []
    }
  ]
}
