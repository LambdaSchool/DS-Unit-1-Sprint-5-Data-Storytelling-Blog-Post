{
  "nbformat": 4,
  "nbformat_minor": 0,
  "metadata": {
    "colab": {
      "name": "Damien_Hirst_Auction_Data.ipynb",
      "version": "0.3.2",
      "provenance": []
    },
    "kernelspec": {
      "name": "python3",
      "display_name": "Python 3"
    }
  },
  "cells": [
    {
      "cell_type": "code",
      "metadata": {
        "id": "STjPZnFyuI92",
        "colab_type": "code",
        "colab": {}
      },
      "source": [
        "# import libraries and settings\n",
        "import pandas as pd\n",
        "import numpy as np\n",
        "import matplotlib.pyplot as plt\n",
        "import seaborn as sns\n",
        "from matplotlib.ticker import FuncFormatter\n",
        "pd.set_option('display.float_format', lambda x: '%.2f' % x)\n",
        "plt.style.use('fivethirtyeight')"
      ],
      "execution_count": 0,
      "outputs": []
    },
    {
      "cell_type": "code",
      "metadata": {
        "id": "8iNQBHReF-VU",
        "colab_type": "code",
        "colab": {
          "base_uri": "https://localhost:8080/",
          "height": 289
        },
        "outputId": "b281e4d0-10f0-44c4-91ed-c2393f95ed51"
      },
      "source": [
        "# import auction data and drop un needed columns\n",
        "auction_history = pd.read_csv('https://raw.githubusercontent.com/AndrewMarksArt/DS-Unit-1-Sprint-5-Data-Storytelling-Blog-Post/master/Damien_Hirst_Auction_Results.csv')\n",
        "auction_history.drop(['ID_Batch_Loop#', 'Artist_Name', 'Date_Created', 'Size'], axis=1, inplace=True)\n",
        "auction_history = auction_history.rename(columns={'Sale_Date': 'Date'})\n",
        "auction_history.head()"
      ],
      "execution_count": 2,
      "outputs": [
        {
          "output_type": "execute_result",
          "data": {
            "text/html": [
              "<div>\n",
              "<style scoped>\n",
              "    .dataframe tbody tr th:only-of-type {\n",
              "        vertical-align: middle;\n",
              "    }\n",
              "\n",
              "    .dataframe tbody tr th {\n",
              "        vertical-align: top;\n",
              "    }\n",
              "\n",
              "    .dataframe thead th {\n",
              "        text-align: right;\n",
              "    }\n",
              "</style>\n",
              "<table border=\"1\" class=\"dataframe\">\n",
              "  <thead>\n",
              "    <tr style=\"text-align: right;\">\n",
              "      <th></th>\n",
              "      <th>Title</th>\n",
              "      <th>Medium</th>\n",
              "      <th>Signed_Edition</th>\n",
              "      <th>Estimate_Range</th>\n",
              "      <th>Realized_Price</th>\n",
              "      <th>Sale</th>\n",
              "      <th>Auction_House</th>\n",
              "      <th>Date</th>\n",
              "    </tr>\n",
              "  </thead>\n",
              "  <tbody>\n",
              "    <tr>\n",
              "      <th>0</th>\n",
              "      <td>SPOT DRAWING NO. 2, 1990</td>\n",
              "      <td>coloured pencil on paper</td>\n",
              "      <td>Signed</td>\n",
              "      <td>80,000 - 120,000 GBP</td>\n",
              "      <td>175,000 GBP</td>\n",
              "      <td>Contemporary Art Day Auction</td>\n",
              "      <td>Sotheby's London</td>\n",
              "      <td>Jun. 27, 2018</td>\n",
              "    </tr>\n",
              "    <tr>\n",
              "      <th>1</th>\n",
              "      <td>Supreme Skate Deck Red #7, 1987</td>\n",
              "      <td>Color silkscreen on plywood in original</td>\n",
              "      <td>from an edition of 500</td>\n",
              "      <td>800 - 1,200 USD</td>\n",
              "      <td>450 USD*</td>\n",
              "      <td>Public Art Auction: Modern &amp; Contemporary Art,...</td>\n",
              "      <td>Santa Monica Auctions</td>\n",
              "      <td>Jun. 04, 2017</td>\n",
              "    </tr>\n",
              "    <tr>\n",
              "      <th>2</th>\n",
              "      <td>Supreme Skate Deck Yellow #6, 1987</td>\n",
              "      <td>Color silkscreen on plywood in original bag</td>\n",
              "      <td>from an edition of 500</td>\n",
              "      <td>800 - 1,200 USD</td>\n",
              "      <td>475 USD*</td>\n",
              "      <td>Public Art Auction: Modern &amp; Contemporary Art,...</td>\n",
              "      <td>Santa Monica Auctions</td>\n",
              "      <td>Jun. 04, 2017</td>\n",
              "    </tr>\n",
              "    <tr>\n",
              "      <th>3</th>\n",
              "      <td>Pharmacy, circa1990</td>\n",
              "      <td>offset lithograph printed in colours</td>\n",
              "      <td>42/200</td>\n",
              "      <td>1,500 - 2,000 GBP</td>\n",
              "      <td>1,500 GBP</td>\n",
              "      <td>Mixed Media: 20th Century Art</td>\n",
              "      <td>Dreweatts &amp; Bloomsbury Auctions, Bloomsbury House</td>\n",
              "      <td>Jul. 16, 2015</td>\n",
              "    </tr>\n",
              "    <tr>\n",
              "      <th>4</th>\n",
              "      <td>The Complete Spot Paintings, 1986-2011</td>\n",
              "      <td>with butterfly and heart drawing on the slipca...</td>\n",
              "      <td>Signed</td>\n",
              "      <td>1,000 - 1,500 GBP</td>\n",
              "      <td>2,375 GBP</td>\n",
              "      <td>Prints &amp; Multiples</td>\n",
              "      <td>Bonhams Knightsbridge</td>\n",
              "      <td>Jun. 03, 2015</td>\n",
              "    </tr>\n",
              "  </tbody>\n",
              "</table>\n",
              "</div>"
            ],
            "text/plain": [
              "                                    Title  ...           Date\n",
              "0                SPOT DRAWING NO. 2, 1990  ...  Jun. 27, 2018\n",
              "1         Supreme Skate Deck Red #7, 1987  ...  Jun. 04, 2017\n",
              "2      Supreme Skate Deck Yellow #6, 1987  ...  Jun. 04, 2017\n",
              "3                     Pharmacy, circa1990  ...  Jul. 16, 2015\n",
              "4  The Complete Spot Paintings, 1986-2011  ...  Jun. 03, 2015\n",
              "\n",
              "[5 rows x 8 columns]"
            ]
          },
          "metadata": {
            "tags": []
          },
          "execution_count": 2
        }
      ]
    },
    {
      "cell_type": "code",
      "metadata": {
        "id": "AXQzuSrhGDKx",
        "colab_type": "code",
        "colab": {
          "base_uri": "https://localhost:8080/",
          "height": 204
        },
        "outputId": "cf7c42f5-98d8-4d10-d027-1bcc8486dc4e"
      },
      "source": [
        "# import fx data and drop the realized price\n",
        "fx = pd.read_csv('https://raw.githubusercontent.com/AndrewMarksArt/DS-Unit-1-Sprint-5-Data-Storytelling-Blog-Post/master/cleaned_fx_data_with_prices.csv')\n",
        "fx.drop(columns=['Realized_Price'], inplace=True)\n",
        "fx.head()"
      ],
      "execution_count": 3,
      "outputs": [
        {
          "output_type": "execute_result",
          "data": {
            "text/html": [
              "<div>\n",
              "<style scoped>\n",
              "    .dataframe tbody tr th:only-of-type {\n",
              "        vertical-align: middle;\n",
              "    }\n",
              "\n",
              "    .dataframe tbody tr th {\n",
              "        vertical-align: top;\n",
              "    }\n",
              "\n",
              "    .dataframe thead th {\n",
              "        text-align: right;\n",
              "    }\n",
              "</style>\n",
              "<table border=\"1\" class=\"dataframe\">\n",
              "  <thead>\n",
              "    <tr style=\"text-align: right;\">\n",
              "      <th></th>\n",
              "      <th>Date</th>\n",
              "      <th>Country</th>\n",
              "      <th>Value</th>\n",
              "    </tr>\n",
              "  </thead>\n",
              "  <tbody>\n",
              "    <tr>\n",
              "      <th>0</th>\n",
              "      <td>2018-06-27</td>\n",
              "      <td>United Kingdom</td>\n",
              "      <td>0.76</td>\n",
              "    </tr>\n",
              "    <tr>\n",
              "      <th>1</th>\n",
              "      <td>2015-07-16</td>\n",
              "      <td>United Kingdom</td>\n",
              "      <td>0.64</td>\n",
              "    </tr>\n",
              "    <tr>\n",
              "      <th>2</th>\n",
              "      <td>2015-06-03</td>\n",
              "      <td>United Kingdom</td>\n",
              "      <td>0.65</td>\n",
              "    </tr>\n",
              "    <tr>\n",
              "      <th>3</th>\n",
              "      <td>2015-03-10</td>\n",
              "      <td>United Kingdom</td>\n",
              "      <td>0.66</td>\n",
              "    </tr>\n",
              "    <tr>\n",
              "      <th>4</th>\n",
              "      <td>2014-10-23</td>\n",
              "      <td>United Kingdom</td>\n",
              "      <td>0.62</td>\n",
              "    </tr>\n",
              "  </tbody>\n",
              "</table>\n",
              "</div>"
            ],
            "text/plain": [
              "         Date         Country  Value\n",
              "0  2018-06-27  United Kingdom   0.76\n",
              "1  2015-07-16  United Kingdom   0.64\n",
              "2  2015-06-03  United Kingdom   0.65\n",
              "3  2015-03-10  United Kingdom   0.66\n",
              "4  2014-10-23  United Kingdom   0.62"
            ]
          },
          "metadata": {
            "tags": []
          },
          "execution_count": 3
        }
      ]
    },
    {
      "cell_type": "code",
      "metadata": {
        "id": "G3CPhVW2xplu",
        "colab_type": "code",
        "colab": {}
      },
      "source": [
        "# create var for the estimate range column from auction data\n",
        "estimate = auction_history['Estimate_Range']\n",
        "\n",
        "# create empty lists that will be used to create new columns \n",
        "low = []\n",
        "high = []\n",
        "currency = []\n",
        "\n",
        "# loop through elements in the estimate range\n",
        "# pull out low estimate, high estimate and currency\n",
        "for i in range(len(estimate)):\n",
        "  est = estimate[i]\n",
        "  try:\n",
        "    temp = est.split()\n",
        "    if len(temp) == 4:\n",
        "      low.append(temp[0])\n",
        "      high.append(temp[2])\n",
        "      currency.append(temp[3])\n",
        "    elif len(temp) == 2:\n",
        "      low.append(temp[0])\n",
        "      high.append(np.nan)\n",
        "      currency.append(temp[1])\n",
        "    else:\n",
        "      low.append(np.nan)\n",
        "      high.append(np.nan)\n",
        "      currency.append(np.nan)\n",
        "  except:\n",
        "    pass\n",
        "\n",
        "# use the lists to create new columns for the auction data \n",
        "auction_history['Low Estimate'] = low\n",
        "auction_history['High Estimate'] = high\n",
        "auction_history['Currency'] = currency\n",
        "\n",
        "# drop estimate range since it is now redundant \n",
        "auction_history.drop(['Estimate_Range'], axis=1, inplace=True)"
      ],
      "execution_count": 0,
      "outputs": []
    },
    {
      "cell_type": "code",
      "metadata": {
        "id": "Q-lng7kAF2uM",
        "colab_type": "code",
        "colab": {}
      },
      "source": [
        "# create var to hold realized prices from aution data\n",
        "prices = auction_history['Realized_Price']\n",
        "\n",
        "# loop through realized prices to remove currency codes\n",
        "for i in range(len(prices)):\n",
        "  try:\n",
        "    temp = prices[i].split()\n",
        "    if len(temp) < 2:\n",
        "      prices[i] = -1\n",
        "    else:\n",
        "      prices[i] = temp[0]\n",
        "  except:\n",
        "    pass\n",
        "  \n",
        "# replace realized prices so new values have no currency codes\n",
        "auction_history['Realized_Price'] = prices"
      ],
      "execution_count": 0,
      "outputs": []
    },
    {
      "cell_type": "code",
      "metadata": {
        "id": "R_gW7dW5x3tX",
        "colab_type": "code",
        "outputId": "07e82e7f-5086-4636-d801-2cd06427e642",
        "colab": {
          "base_uri": "https://localhost:8080/",
          "height": 306
        }
      },
      "source": [
        "auction_history.head()"
      ],
      "execution_count": 7,
      "outputs": [
        {
          "output_type": "execute_result",
          "data": {
            "text/html": [
              "<div>\n",
              "<style scoped>\n",
              "    .dataframe tbody tr th:only-of-type {\n",
              "        vertical-align: middle;\n",
              "    }\n",
              "\n",
              "    .dataframe tbody tr th {\n",
              "        vertical-align: top;\n",
              "    }\n",
              "\n",
              "    .dataframe thead th {\n",
              "        text-align: right;\n",
              "    }\n",
              "</style>\n",
              "<table border=\"1\" class=\"dataframe\">\n",
              "  <thead>\n",
              "    <tr style=\"text-align: right;\">\n",
              "      <th></th>\n",
              "      <th>Title</th>\n",
              "      <th>Medium</th>\n",
              "      <th>Signed_Edition</th>\n",
              "      <th>Realized_Price</th>\n",
              "      <th>Sale</th>\n",
              "      <th>Auction_House</th>\n",
              "      <th>Date</th>\n",
              "      <th>Low Estimate</th>\n",
              "      <th>High Estimate</th>\n",
              "      <th>Currency</th>\n",
              "    </tr>\n",
              "  </thead>\n",
              "  <tbody>\n",
              "    <tr>\n",
              "      <th>0</th>\n",
              "      <td>SPOT DRAWING NO. 2, 1990</td>\n",
              "      <td>coloured pencil on paper</td>\n",
              "      <td>Signed</td>\n",
              "      <td>175,000</td>\n",
              "      <td>Contemporary Art Day Auction</td>\n",
              "      <td>Sotheby's London</td>\n",
              "      <td>Jun. 27, 2018</td>\n",
              "      <td>80,000</td>\n",
              "      <td>120,000</td>\n",
              "      <td>GBP</td>\n",
              "    </tr>\n",
              "    <tr>\n",
              "      <th>1</th>\n",
              "      <td>Supreme Skate Deck Red #7, 1987</td>\n",
              "      <td>Color silkscreen on plywood in original</td>\n",
              "      <td>from an edition of 500</td>\n",
              "      <td>450</td>\n",
              "      <td>Public Art Auction: Modern &amp; Contemporary Art,...</td>\n",
              "      <td>Santa Monica Auctions</td>\n",
              "      <td>Jun. 04, 2017</td>\n",
              "      <td>800</td>\n",
              "      <td>1,200</td>\n",
              "      <td>USD</td>\n",
              "    </tr>\n",
              "    <tr>\n",
              "      <th>2</th>\n",
              "      <td>Supreme Skate Deck Yellow #6, 1987</td>\n",
              "      <td>Color silkscreen on plywood in original bag</td>\n",
              "      <td>from an edition of 500</td>\n",
              "      <td>475</td>\n",
              "      <td>Public Art Auction: Modern &amp; Contemporary Art,...</td>\n",
              "      <td>Santa Monica Auctions</td>\n",
              "      <td>Jun. 04, 2017</td>\n",
              "      <td>800</td>\n",
              "      <td>1,200</td>\n",
              "      <td>USD</td>\n",
              "    </tr>\n",
              "    <tr>\n",
              "      <th>3</th>\n",
              "      <td>Pharmacy, circa1990</td>\n",
              "      <td>offset lithograph printed in colours</td>\n",
              "      <td>42/200</td>\n",
              "      <td>1,500</td>\n",
              "      <td>Mixed Media: 20th Century Art</td>\n",
              "      <td>Dreweatts &amp; Bloomsbury Auctions, Bloomsbury House</td>\n",
              "      <td>Jul. 16, 2015</td>\n",
              "      <td>1,500</td>\n",
              "      <td>2,000</td>\n",
              "      <td>GBP</td>\n",
              "    </tr>\n",
              "    <tr>\n",
              "      <th>4</th>\n",
              "      <td>The Complete Spot Paintings, 1986-2011</td>\n",
              "      <td>with butterfly and heart drawing on the slipca...</td>\n",
              "      <td>Signed</td>\n",
              "      <td>2,375</td>\n",
              "      <td>Prints &amp; Multiples</td>\n",
              "      <td>Bonhams Knightsbridge</td>\n",
              "      <td>Jun. 03, 2015</td>\n",
              "      <td>1,000</td>\n",
              "      <td>1,500</td>\n",
              "      <td>GBP</td>\n",
              "    </tr>\n",
              "  </tbody>\n",
              "</table>\n",
              "</div>"
            ],
            "text/plain": [
              "                                    Title  ... Currency\n",
              "0                SPOT DRAWING NO. 2, 1990  ...      GBP\n",
              "1         Supreme Skate Deck Red #7, 1987  ...      USD\n",
              "2      Supreme Skate Deck Yellow #6, 1987  ...      USD\n",
              "3                     Pharmacy, circa1990  ...      GBP\n",
              "4  The Complete Spot Paintings, 1986-2011  ...      GBP\n",
              "\n",
              "[5 rows x 10 columns]"
            ]
          },
          "metadata": {
            "tags": []
          },
          "execution_count": 7
        }
      ]
    },
    {
      "cell_type": "code",
      "metadata": {
        "id": "j2WEpPAOyElG",
        "colab_type": "code",
        "colab": {}
      },
      "source": [
        "# set var for currency column\n",
        "currency = auction_history['Currency']\n",
        "\n",
        "# loop through currency and remove * and Sold values\n",
        "for i in range(len(currency)):\n",
        "  try:\n",
        "    if '*' in currency[i]:\n",
        "      currency[i] = 'EUR'\n",
        "    if 'Sold' in currency[i]:\n",
        "      currency[i] = np.nan\n",
        "  except:\n",
        "    pass\n",
        "\n",
        "# replace currency with new list that removed * and Sold\n",
        "auction_history['Currency'] = currency"
      ],
      "execution_count": 0,
      "outputs": []
    },
    {
      "cell_type": "code",
      "metadata": {
        "id": "TKKGe2jFyH-u",
        "colab_type": "code",
        "colab": {}
      },
      "source": [
        "# fill remaining NaN's in currency column with 'USD'\n",
        "auction_history['Currency'].fillna('USD', inplace=True)"
      ],
      "execution_count": 0,
      "outputs": []
    },
    {
      "cell_type": "code",
      "metadata": {
        "id": "BafZhLw8yJ9d",
        "colab_type": "code",
        "colab": {}
      },
      "source": [
        "# set up dictionary with currency code as keys and country names as the values\n",
        "country_dict = {'GBP': 'United Kingdom', 'USD': 'United States', 'EUR': 'Europe', 'HKD': 'Hong Kong', 'CNY': 'China', 'CHF': 'Switzerland',\n",
        "             'SEK': 'Sweden', 'JPY': 'Japan', 'KRW': 'South Korea', 'AUD': 'Australia', 'NOK': 'Norway', 'ZAR': 'South Africa', 'DKK': 'Denmark', 'NZD': 'New Zealand', \n",
        "               'TWD': 'Taiwan', 'SGD': 'Singapore', 'MXN': 'Mexico', 'CZK': 'Czech Republic'}"
      ],
      "execution_count": 0,
      "outputs": []
    },
    {
      "cell_type": "code",
      "metadata": {
        "id": "KtmOb1lYyM1O",
        "colab_type": "code",
        "colab": {}
      },
      "source": [
        "# set currency column to new var and create list for countries\n",
        "currency = auction_history['Currency']\n",
        "country = []\n",
        "\n",
        "# loop through currency column and get the country name that corresponds to the currency code \n",
        "for i in range(len(currency)):\n",
        "  try:\n",
        "    country.append(country_dict.get(currency[i]))\n",
        "  except:\n",
        "    pass\n",
        "    \n",
        "# create a county column with the counrty list\n",
        "auction_history['Country'] = country"
      ],
      "execution_count": 0,
      "outputs": []
    },
    {
      "cell_type": "code",
      "metadata": {
        "id": "gvXHow_5yQkl",
        "colab_type": "code",
        "colab": {}
      },
      "source": [
        "# replace no sale date listed with NaN\n",
        "sale = auction_history['Date']\n",
        "for i in range(len(sale)):\n",
        "  try:\n",
        "    if 'no' in sale[i]:\n",
        "      sale[i] = np.nan\n",
        "  except:\n",
        "    pass"
      ],
      "execution_count": 0,
      "outputs": []
    },
    {
      "cell_type": "code",
      "metadata": {
        "id": "py9MrW2JySrc",
        "colab_type": "code",
        "colab": {}
      },
      "source": [
        "auction_history['Date'] = pd.to_datetime(auction_history['Date'])"
      ],
      "execution_count": 0,
      "outputs": []
    },
    {
      "cell_type": "code",
      "metadata": {
        "id": "rAtYm1BsyWS9",
        "colab_type": "code",
        "colab": {}
      },
      "source": [
        "price = []\n",
        "\n",
        "for i in range(len(auction_history['Realized_Price'])):\n",
        "  try:\n",
        "    if 'Not' in auction_history['Realized_Price'][i]:\n",
        "      price.append(0)\n",
        "    elif 'not' in auction_history['Realized_Price'][i]:\n",
        "      price.append(0)\n",
        "    else:\n",
        "      price.append(auction_history['Realized_Price'][i])\n",
        "  except:\n",
        "    price.append(0)\n",
        "\n",
        "auction_history['Realized_Price'] = price\n",
        "\n",
        "auction_history['Realized_Price'] = auction_history['Realized_Price'].str.replace(',','')\n",
        "auction_history['Low Estimate'] = auction_history['Low Estimate'].str.replace(',','')\n",
        "auction_history['High Estimate'] = auction_history['High Estimate'].str.replace(',','')"
      ],
      "execution_count": 0,
      "outputs": []
    },
    {
      "cell_type": "code",
      "metadata": {
        "id": "wbsW7SVkyc6h",
        "colab_type": "code",
        "colab": {}
      },
      "source": [
        "auction_history['Realized_Price'] = auction_history['Realized_Price'].fillna(0)\n",
        "auction_history = auction_history.dropna(subset=['Low Estimate'])\n",
        "low = auction_history['Low Estimate'].where(auction_history['High Estimate'].isnull()).dropna()\n",
        "auction_history['High Estimate'] = auction_history['High Estimate'].fillna(low)"
      ],
      "execution_count": 0,
      "outputs": []
    },
    {
      "cell_type": "code",
      "metadata": {
        "id": "jR4zgMnUzup8",
        "colab_type": "code",
        "colab": {}
      },
      "source": [
        "house = []\n",
        "temp = auction_history['Auction_House']\n",
        "\n",
        "for i in range(len(temp)):\n",
        "  try:\n",
        "    if \"Sotheby's\" in temp[i]:\n",
        "      house.append(\"Sotheby's\")\n",
        "    elif \"Christie's\" in temp[i]:\n",
        "      house.append(\"Christie's\")\n",
        "    elif \"Phillips\" in temp[i]:\n",
        "      house.append(\"Phillips\")\n",
        "    else:\n",
        "      house.append(\"Other\")\n",
        "  except:\n",
        "    house.append(\"Other\")\n",
        "    \n",
        "auction_history['House'] = house"
      ],
      "execution_count": 0,
      "outputs": []
    },
    {
      "cell_type": "code",
      "metadata": {
        "id": "C8Ye4_vG1zlM",
        "colab_type": "code",
        "colab": {}
      },
      "source": [
        "auction_history = auction_history.dropna(subset=['Date'])"
      ],
      "execution_count": 0,
      "outputs": []
    },
    {
      "cell_type": "code",
      "metadata": {
        "id": "GJbpEEqZ2pK5",
        "colab_type": "code",
        "outputId": "a8ff63dd-811b-41fd-a4ee-7c93f9c86701",
        "colab": {
          "base_uri": "https://localhost:8080/",
          "height": 306
        }
      },
      "source": [
        "auction_history.head()"
      ],
      "execution_count": 20,
      "outputs": [
        {
          "output_type": "execute_result",
          "data": {
            "text/html": [
              "<div>\n",
              "<style scoped>\n",
              "    .dataframe tbody tr th:only-of-type {\n",
              "        vertical-align: middle;\n",
              "    }\n",
              "\n",
              "    .dataframe tbody tr th {\n",
              "        vertical-align: top;\n",
              "    }\n",
              "\n",
              "    .dataframe thead th {\n",
              "        text-align: right;\n",
              "    }\n",
              "</style>\n",
              "<table border=\"1\" class=\"dataframe\">\n",
              "  <thead>\n",
              "    <tr style=\"text-align: right;\">\n",
              "      <th></th>\n",
              "      <th>Title</th>\n",
              "      <th>Medium</th>\n",
              "      <th>Signed_Edition</th>\n",
              "      <th>Realized_Price</th>\n",
              "      <th>Sale</th>\n",
              "      <th>Auction_House</th>\n",
              "      <th>Date</th>\n",
              "      <th>Low Estimate</th>\n",
              "      <th>High Estimate</th>\n",
              "      <th>Currency</th>\n",
              "      <th>Country</th>\n",
              "      <th>House</th>\n",
              "    </tr>\n",
              "  </thead>\n",
              "  <tbody>\n",
              "    <tr>\n",
              "      <th>0</th>\n",
              "      <td>SPOT DRAWING NO. 2, 1990</td>\n",
              "      <td>coloured pencil on paper</td>\n",
              "      <td>Signed</td>\n",
              "      <td>175000</td>\n",
              "      <td>Contemporary Art Day Auction</td>\n",
              "      <td>Sotheby's London</td>\n",
              "      <td>2018-06-27</td>\n",
              "      <td>80000</td>\n",
              "      <td>120000</td>\n",
              "      <td>GBP</td>\n",
              "      <td>United Kingdom</td>\n",
              "      <td>Sotheby's</td>\n",
              "    </tr>\n",
              "    <tr>\n",
              "      <th>1</th>\n",
              "      <td>Supreme Skate Deck Red #7, 1987</td>\n",
              "      <td>Color silkscreen on plywood in original</td>\n",
              "      <td>from an edition of 500</td>\n",
              "      <td>450</td>\n",
              "      <td>Public Art Auction: Modern &amp; Contemporary Art,...</td>\n",
              "      <td>Santa Monica Auctions</td>\n",
              "      <td>2017-06-04</td>\n",
              "      <td>800</td>\n",
              "      <td>1200</td>\n",
              "      <td>USD</td>\n",
              "      <td>United States</td>\n",
              "      <td>Other</td>\n",
              "    </tr>\n",
              "    <tr>\n",
              "      <th>2</th>\n",
              "      <td>Supreme Skate Deck Yellow #6, 1987</td>\n",
              "      <td>Color silkscreen on plywood in original bag</td>\n",
              "      <td>from an edition of 500</td>\n",
              "      <td>475</td>\n",
              "      <td>Public Art Auction: Modern &amp; Contemporary Art,...</td>\n",
              "      <td>Santa Monica Auctions</td>\n",
              "      <td>2017-06-04</td>\n",
              "      <td>800</td>\n",
              "      <td>1200</td>\n",
              "      <td>USD</td>\n",
              "      <td>United States</td>\n",
              "      <td>Other</td>\n",
              "    </tr>\n",
              "    <tr>\n",
              "      <th>3</th>\n",
              "      <td>Pharmacy, circa1990</td>\n",
              "      <td>offset lithograph printed in colours</td>\n",
              "      <td>42/200</td>\n",
              "      <td>1500</td>\n",
              "      <td>Mixed Media: 20th Century Art</td>\n",
              "      <td>Dreweatts &amp; Bloomsbury Auctions, Bloomsbury House</td>\n",
              "      <td>2015-07-16</td>\n",
              "      <td>1500</td>\n",
              "      <td>2000</td>\n",
              "      <td>GBP</td>\n",
              "      <td>United Kingdom</td>\n",
              "      <td>Other</td>\n",
              "    </tr>\n",
              "    <tr>\n",
              "      <th>4</th>\n",
              "      <td>The Complete Spot Paintings, 1986-2011</td>\n",
              "      <td>with butterfly and heart drawing on the slipca...</td>\n",
              "      <td>Signed</td>\n",
              "      <td>2375</td>\n",
              "      <td>Prints &amp; Multiples</td>\n",
              "      <td>Bonhams Knightsbridge</td>\n",
              "      <td>2015-06-03</td>\n",
              "      <td>1000</td>\n",
              "      <td>1500</td>\n",
              "      <td>GBP</td>\n",
              "      <td>United Kingdom</td>\n",
              "      <td>Other</td>\n",
              "    </tr>\n",
              "  </tbody>\n",
              "</table>\n",
              "</div>"
            ],
            "text/plain": [
              "                                    Title  ...      House\n",
              "0                SPOT DRAWING NO. 2, 1990  ...  Sotheby's\n",
              "1         Supreme Skate Deck Red #7, 1987  ...      Other\n",
              "2      Supreme Skate Deck Yellow #6, 1987  ...      Other\n",
              "3                     Pharmacy, circa1990  ...      Other\n",
              "4  The Complete Spot Paintings, 1986-2011  ...      Other\n",
              "\n",
              "[5 rows x 12 columns]"
            ]
          },
          "metadata": {
            "tags": []
          },
          "execution_count": 20
        }
      ]
    },
    {
      "cell_type": "code",
      "metadata": {
        "id": "-RPGJ5L72H8r",
        "colab_type": "code",
        "outputId": "19112852-2397-4fb4-b8ca-dd508d3d5d04",
        "colab": {
          "base_uri": "https://localhost:8080/",
          "height": 204
        }
      },
      "source": [
        "fx.head()"
      ],
      "execution_count": 21,
      "outputs": [
        {
          "output_type": "execute_result",
          "data": {
            "text/html": [
              "<div>\n",
              "<style scoped>\n",
              "    .dataframe tbody tr th:only-of-type {\n",
              "        vertical-align: middle;\n",
              "    }\n",
              "\n",
              "    .dataframe tbody tr th {\n",
              "        vertical-align: top;\n",
              "    }\n",
              "\n",
              "    .dataframe thead th {\n",
              "        text-align: right;\n",
              "    }\n",
              "</style>\n",
              "<table border=\"1\" class=\"dataframe\">\n",
              "  <thead>\n",
              "    <tr style=\"text-align: right;\">\n",
              "      <th></th>\n",
              "      <th>Date</th>\n",
              "      <th>Country</th>\n",
              "      <th>Value</th>\n",
              "    </tr>\n",
              "  </thead>\n",
              "  <tbody>\n",
              "    <tr>\n",
              "      <th>0</th>\n",
              "      <td>2018-06-27</td>\n",
              "      <td>United Kingdom</td>\n",
              "      <td>0.76</td>\n",
              "    </tr>\n",
              "    <tr>\n",
              "      <th>1</th>\n",
              "      <td>2015-07-16</td>\n",
              "      <td>United Kingdom</td>\n",
              "      <td>0.64</td>\n",
              "    </tr>\n",
              "    <tr>\n",
              "      <th>2</th>\n",
              "      <td>2015-06-03</td>\n",
              "      <td>United Kingdom</td>\n",
              "      <td>0.65</td>\n",
              "    </tr>\n",
              "    <tr>\n",
              "      <th>3</th>\n",
              "      <td>2015-03-10</td>\n",
              "      <td>United Kingdom</td>\n",
              "      <td>0.66</td>\n",
              "    </tr>\n",
              "    <tr>\n",
              "      <th>4</th>\n",
              "      <td>2014-10-23</td>\n",
              "      <td>United Kingdom</td>\n",
              "      <td>0.62</td>\n",
              "    </tr>\n",
              "  </tbody>\n",
              "</table>\n",
              "</div>"
            ],
            "text/plain": [
              "         Date         Country  Value\n",
              "0  2018-06-27  United Kingdom   0.76\n",
              "1  2015-07-16  United Kingdom   0.64\n",
              "2  2015-06-03  United Kingdom   0.65\n",
              "3  2015-03-10  United Kingdom   0.66\n",
              "4  2014-10-23  United Kingdom   0.62"
            ]
          },
          "metadata": {
            "tags": []
          },
          "execution_count": 21
        }
      ]
    },
    {
      "cell_type": "code",
      "metadata": {
        "id": "HeRLPUmh56B_",
        "colab_type": "code",
        "colab": {}
      },
      "source": [
        "fx['Date'] = pd.to_datetime(fx['Date'])"
      ],
      "execution_count": 0,
      "outputs": []
    },
    {
      "cell_type": "code",
      "metadata": {
        "id": "jZYuFm173UtI",
        "colab_type": "code",
        "colab": {
          "base_uri": "https://localhost:8080/",
          "height": 204
        },
        "outputId": "506ce573-2907-45e7-efdb-dc809880b9bf"
      },
      "source": [
        "sales = auction_history[['Title','House','Low Estimate', 'Realized_Price', 'Date', 'Country']]\n",
        "sales.head()"
      ],
      "execution_count": 23,
      "outputs": [
        {
          "output_type": "execute_result",
          "data": {
            "text/html": [
              "<div>\n",
              "<style scoped>\n",
              "    .dataframe tbody tr th:only-of-type {\n",
              "        vertical-align: middle;\n",
              "    }\n",
              "\n",
              "    .dataframe tbody tr th {\n",
              "        vertical-align: top;\n",
              "    }\n",
              "\n",
              "    .dataframe thead th {\n",
              "        text-align: right;\n",
              "    }\n",
              "</style>\n",
              "<table border=\"1\" class=\"dataframe\">\n",
              "  <thead>\n",
              "    <tr style=\"text-align: right;\">\n",
              "      <th></th>\n",
              "      <th>Title</th>\n",
              "      <th>House</th>\n",
              "      <th>Low Estimate</th>\n",
              "      <th>Realized_Price</th>\n",
              "      <th>Date</th>\n",
              "      <th>Country</th>\n",
              "    </tr>\n",
              "  </thead>\n",
              "  <tbody>\n",
              "    <tr>\n",
              "      <th>0</th>\n",
              "      <td>SPOT DRAWING NO. 2, 1990</td>\n",
              "      <td>Sotheby's</td>\n",
              "      <td>80000</td>\n",
              "      <td>175000</td>\n",
              "      <td>2018-06-27</td>\n",
              "      <td>United Kingdom</td>\n",
              "    </tr>\n",
              "    <tr>\n",
              "      <th>1</th>\n",
              "      <td>Supreme Skate Deck Red #7, 1987</td>\n",
              "      <td>Other</td>\n",
              "      <td>800</td>\n",
              "      <td>450</td>\n",
              "      <td>2017-06-04</td>\n",
              "      <td>United States</td>\n",
              "    </tr>\n",
              "    <tr>\n",
              "      <th>2</th>\n",
              "      <td>Supreme Skate Deck Yellow #6, 1987</td>\n",
              "      <td>Other</td>\n",
              "      <td>800</td>\n",
              "      <td>475</td>\n",
              "      <td>2017-06-04</td>\n",
              "      <td>United States</td>\n",
              "    </tr>\n",
              "    <tr>\n",
              "      <th>3</th>\n",
              "      <td>Pharmacy, circa1990</td>\n",
              "      <td>Other</td>\n",
              "      <td>1500</td>\n",
              "      <td>1500</td>\n",
              "      <td>2015-07-16</td>\n",
              "      <td>United Kingdom</td>\n",
              "    </tr>\n",
              "    <tr>\n",
              "      <th>4</th>\n",
              "      <td>The Complete Spot Paintings, 1986-2011</td>\n",
              "      <td>Other</td>\n",
              "      <td>1000</td>\n",
              "      <td>2375</td>\n",
              "      <td>2015-06-03</td>\n",
              "      <td>United Kingdom</td>\n",
              "    </tr>\n",
              "  </tbody>\n",
              "</table>\n",
              "</div>"
            ],
            "text/plain": [
              "                                    Title      House  ...       Date         Country\n",
              "0                SPOT DRAWING NO. 2, 1990  Sotheby's  ... 2018-06-27  United Kingdom\n",
              "1         Supreme Skate Deck Red #7, 1987      Other  ... 2017-06-04   United States\n",
              "2      Supreme Skate Deck Yellow #6, 1987      Other  ... 2017-06-04   United States\n",
              "3                     Pharmacy, circa1990      Other  ... 2015-07-16  United Kingdom\n",
              "4  The Complete Spot Paintings, 1986-2011      Other  ... 2015-06-03  United Kingdom\n",
              "\n",
              "[5 rows x 6 columns]"
            ]
          },
          "metadata": {
            "tags": []
          },
          "execution_count": 23
        }
      ]
    },
    {
      "cell_type": "code",
      "metadata": {
        "id": "qxcJPyGx22tk",
        "colab_type": "code",
        "colab": {}
      },
      "source": [
        "result = pd.merge(sales, fx, on=['Country','Date'], how='inner').drop_duplicates().reset_index(drop=True)"
      ],
      "execution_count": 0,
      "outputs": []
    },
    {
      "cell_type": "code",
      "metadata": {
        "id": "NwmCtp4j6Y4_",
        "colab_type": "code",
        "outputId": "24974f16-f99c-4a10-bc1d-a717df8eac9d",
        "colab": {
          "base_uri": "https://localhost:8080/",
          "height": 34
        }
      },
      "source": [
        "result.shape"
      ],
      "execution_count": 25,
      "outputs": [
        {
          "output_type": "execute_result",
          "data": {
            "text/plain": [
              "(5503, 7)"
            ]
          },
          "metadata": {
            "tags": []
          },
          "execution_count": 25
        }
      ]
    },
    {
      "cell_type": "code",
      "metadata": {
        "id": "Qzcjv4Zn6bq_",
        "colab_type": "code",
        "outputId": "fca6d8f6-3002-44d2-a1eb-7844adfba70b",
        "colab": {
          "base_uri": "https://localhost:8080/",
          "height": 153
        }
      },
      "source": [
        "result = result.dropna(subset=['Value']).reset_index(drop=True)\n",
        "result.isnull().sum()"
      ],
      "execution_count": 26,
      "outputs": [
        {
          "output_type": "execute_result",
          "data": {
            "text/plain": [
              "Title             0\n",
              "House             0\n",
              "Low Estimate      0\n",
              "Realized_Price    0\n",
              "Date              0\n",
              "Country           0\n",
              "Value             0\n",
              "dtype: int64"
            ]
          },
          "metadata": {
            "tags": []
          },
          "execution_count": 26
        }
      ]
    },
    {
      "cell_type": "code",
      "metadata": {
        "id": "zv-nFYtXBNWZ",
        "colab_type": "code",
        "colab": {}
      },
      "source": [
        "result['Realized_Price'] = result['Realized_Price'].astype(float)\n",
        "result['Low Estimate'] = result['Low Estimate'].astype(float)"
      ],
      "execution_count": 0,
      "outputs": []
    },
    {
      "cell_type": "code",
      "metadata": {
        "id": "BiL_32h0Ad8w",
        "colab_type": "code",
        "colab": {}
      },
      "source": [
        "result['Realized_Price'] = (result['Realized_Price'] / result['Value'])\n",
        "result['Low Estimate'] = (result['Low Estimate'] / result['Value'])"
      ],
      "execution_count": 0,
      "outputs": []
    },
    {
      "cell_type": "code",
      "metadata": {
        "id": "XWIkPPbOB3lY",
        "colab_type": "code",
        "colab": {
          "base_uri": "https://localhost:8080/",
          "height": 204
        },
        "outputId": "26b2b4a5-a789-4364-b215-3c64d773e61f"
      },
      "source": [
        "result.head()"
      ],
      "execution_count": 29,
      "outputs": [
        {
          "output_type": "execute_result",
          "data": {
            "text/html": [
              "<div>\n",
              "<style scoped>\n",
              "    .dataframe tbody tr th:only-of-type {\n",
              "        vertical-align: middle;\n",
              "    }\n",
              "\n",
              "    .dataframe tbody tr th {\n",
              "        vertical-align: top;\n",
              "    }\n",
              "\n",
              "    .dataframe thead th {\n",
              "        text-align: right;\n",
              "    }\n",
              "</style>\n",
              "<table border=\"1\" class=\"dataframe\">\n",
              "  <thead>\n",
              "    <tr style=\"text-align: right;\">\n",
              "      <th></th>\n",
              "      <th>Title</th>\n",
              "      <th>House</th>\n",
              "      <th>Low Estimate</th>\n",
              "      <th>Realized_Price</th>\n",
              "      <th>Date</th>\n",
              "      <th>Country</th>\n",
              "      <th>Value</th>\n",
              "    </tr>\n",
              "  </thead>\n",
              "  <tbody>\n",
              "    <tr>\n",
              "      <th>0</th>\n",
              "      <td>SPOT DRAWING NO. 2, 1990</td>\n",
              "      <td>Sotheby's</td>\n",
              "      <td>105112.00</td>\n",
              "      <td>229932.50</td>\n",
              "      <td>2018-06-27</td>\n",
              "      <td>United Kingdom</td>\n",
              "      <td>0.76</td>\n",
              "    </tr>\n",
              "    <tr>\n",
              "      <th>1</th>\n",
              "      <td>BEAUTIFUL, INTENSE, VIOLENTLY, GORGEOUS, PAINF...</td>\n",
              "      <td>Sotheby's</td>\n",
              "      <td>197085.00</td>\n",
              "      <td>375775.40</td>\n",
              "      <td>2018-06-27</td>\n",
              "      <td>United Kingdom</td>\n",
              "      <td>0.76</td>\n",
              "    </tr>\n",
              "    <tr>\n",
              "      <th>2</th>\n",
              "      <td>FAITHLESS, 2005</td>\n",
              "      <td>Sotheby's</td>\n",
              "      <td>459865.00</td>\n",
              "      <td>438842.60</td>\n",
              "      <td>2018-06-27</td>\n",
              "      <td>United Kingdom</td>\n",
              "      <td>0.76</td>\n",
              "    </tr>\n",
              "    <tr>\n",
              "      <th>3</th>\n",
              "      <td>No News Today, 2006</td>\n",
              "      <td>Other</td>\n",
              "      <td>1970.85</td>\n",
              "      <td>0.00</td>\n",
              "      <td>2018-06-27</td>\n",
              "      <td>United Kingdom</td>\n",
              "      <td>0.76</td>\n",
              "    </tr>\n",
              "    <tr>\n",
              "      <th>4</th>\n",
              "      <td>Supreme Skate Deck Red #7, 1987</td>\n",
              "      <td>Other</td>\n",
              "      <td>800.00</td>\n",
              "      <td>450.00</td>\n",
              "      <td>2017-06-04</td>\n",
              "      <td>United States</td>\n",
              "      <td>1.00</td>\n",
              "    </tr>\n",
              "  </tbody>\n",
              "</table>\n",
              "</div>"
            ],
            "text/plain": [
              "                                               Title  ... Value\n",
              "0                           SPOT DRAWING NO. 2, 1990  ...  0.76\n",
              "1  BEAUTIFUL, INTENSE, VIOLENTLY, GORGEOUS, PAINF...  ...  0.76\n",
              "2                                    FAITHLESS, 2005  ...  0.76\n",
              "3                                No News Today, 2006  ...  0.76\n",
              "4                    Supreme Skate Deck Red #7, 1987  ...  1.00\n",
              "\n",
              "[5 rows x 7 columns]"
            ]
          },
          "metadata": {
            "tags": []
          },
          "execution_count": 29
        }
      ]
    },
    {
      "cell_type": "code",
      "metadata": {
        "id": "OJeE1vfLCfwY",
        "colab_type": "code",
        "colab": {}
      },
      "source": [
        "result['Performance'] = (result['Realized_Price']/result['Low Estimate'])"
      ],
      "execution_count": 0,
      "outputs": []
    },
    {
      "cell_type": "code",
      "metadata": {
        "id": "tFIuacyoCuvn",
        "colab_type": "code",
        "colab": {
          "base_uri": "https://localhost:8080/",
          "height": 204
        },
        "outputId": "d06e9abc-1b4e-4fb6-e1f6-bccc115924c9"
      },
      "source": [
        "result.head()"
      ],
      "execution_count": 31,
      "outputs": [
        {
          "output_type": "execute_result",
          "data": {
            "text/html": [
              "<div>\n",
              "<style scoped>\n",
              "    .dataframe tbody tr th:only-of-type {\n",
              "        vertical-align: middle;\n",
              "    }\n",
              "\n",
              "    .dataframe tbody tr th {\n",
              "        vertical-align: top;\n",
              "    }\n",
              "\n",
              "    .dataframe thead th {\n",
              "        text-align: right;\n",
              "    }\n",
              "</style>\n",
              "<table border=\"1\" class=\"dataframe\">\n",
              "  <thead>\n",
              "    <tr style=\"text-align: right;\">\n",
              "      <th></th>\n",
              "      <th>Title</th>\n",
              "      <th>House</th>\n",
              "      <th>Low Estimate</th>\n",
              "      <th>Realized_Price</th>\n",
              "      <th>Date</th>\n",
              "      <th>Country</th>\n",
              "      <th>Value</th>\n",
              "      <th>Performance</th>\n",
              "    </tr>\n",
              "  </thead>\n",
              "  <tbody>\n",
              "    <tr>\n",
              "      <th>0</th>\n",
              "      <td>SPOT DRAWING NO. 2, 1990</td>\n",
              "      <td>Sotheby's</td>\n",
              "      <td>105112.00</td>\n",
              "      <td>229932.50</td>\n",
              "      <td>2018-06-27</td>\n",
              "      <td>United Kingdom</td>\n",
              "      <td>0.76</td>\n",
              "      <td>2.19</td>\n",
              "    </tr>\n",
              "    <tr>\n",
              "      <th>1</th>\n",
              "      <td>BEAUTIFUL, INTENSE, VIOLENTLY, GORGEOUS, PAINF...</td>\n",
              "      <td>Sotheby's</td>\n",
              "      <td>197085.00</td>\n",
              "      <td>375775.40</td>\n",
              "      <td>2018-06-27</td>\n",
              "      <td>United Kingdom</td>\n",
              "      <td>0.76</td>\n",
              "      <td>1.91</td>\n",
              "    </tr>\n",
              "    <tr>\n",
              "      <th>2</th>\n",
              "      <td>FAITHLESS, 2005</td>\n",
              "      <td>Sotheby's</td>\n",
              "      <td>459865.00</td>\n",
              "      <td>438842.60</td>\n",
              "      <td>2018-06-27</td>\n",
              "      <td>United Kingdom</td>\n",
              "      <td>0.76</td>\n",
              "      <td>0.95</td>\n",
              "    </tr>\n",
              "    <tr>\n",
              "      <th>3</th>\n",
              "      <td>No News Today, 2006</td>\n",
              "      <td>Other</td>\n",
              "      <td>1970.85</td>\n",
              "      <td>0.00</td>\n",
              "      <td>2018-06-27</td>\n",
              "      <td>United Kingdom</td>\n",
              "      <td>0.76</td>\n",
              "      <td>0.00</td>\n",
              "    </tr>\n",
              "    <tr>\n",
              "      <th>4</th>\n",
              "      <td>Supreme Skate Deck Red #7, 1987</td>\n",
              "      <td>Other</td>\n",
              "      <td>800.00</td>\n",
              "      <td>450.00</td>\n",
              "      <td>2017-06-04</td>\n",
              "      <td>United States</td>\n",
              "      <td>1.00</td>\n",
              "      <td>0.56</td>\n",
              "    </tr>\n",
              "  </tbody>\n",
              "</table>\n",
              "</div>"
            ],
            "text/plain": [
              "                                               Title  ... Performance\n",
              "0                           SPOT DRAWING NO. 2, 1990  ...        2.19\n",
              "1  BEAUTIFUL, INTENSE, VIOLENTLY, GORGEOUS, PAINF...  ...        1.91\n",
              "2                                    FAITHLESS, 2005  ...        0.95\n",
              "3                                No News Today, 2006  ...        0.00\n",
              "4                    Supreme Skate Deck Red #7, 1987  ...        0.56\n",
              "\n",
              "[5 rows x 8 columns]"
            ]
          },
          "metadata": {
            "tags": []
          },
          "execution_count": 31
        }
      ]
    },
    {
      "cell_type": "code",
      "metadata": {
        "id": "hKggpxUlbecT",
        "colab_type": "code",
        "colab": {}
      },
      "source": [
        "rating = []\n",
        "score = result['Performance']\n",
        "for i in range(len(score)):\n",
        "  if score[i] < 1:\n",
        "    rating.append(1)\n",
        "  elif (score[i] >= 1) and (score[i] <1.5):\n",
        "    rating.append(2)\n",
        "  elif (score[i] >= 1.5) and (score[i] < 2.5):\n",
        "    rating.append(3)\n",
        "  elif score[i] >= 2.5:\n",
        "    rating.append(4)\n",
        "  else:\n",
        "    rating.append(0)\n",
        "\n",
        "result['Performance'] = rating"
      ],
      "execution_count": 0,
      "outputs": []
    },
    {
      "cell_type": "code",
      "metadata": {
        "id": "vmXFamK7OsOF",
        "colab_type": "code",
        "colab": {
          "base_uri": "https://localhost:8080/",
          "height": 297
        },
        "outputId": "e07e1f25-c56c-4f57-de54-d18d9072f6f9"
      },
      "source": [
        "result.describe()"
      ],
      "execution_count": 33,
      "outputs": [
        {
          "output_type": "execute_result",
          "data": {
            "text/html": [
              "<div>\n",
              "<style scoped>\n",
              "    .dataframe tbody tr th:only-of-type {\n",
              "        vertical-align: middle;\n",
              "    }\n",
              "\n",
              "    .dataframe tbody tr th {\n",
              "        vertical-align: top;\n",
              "    }\n",
              "\n",
              "    .dataframe thead th {\n",
              "        text-align: right;\n",
              "    }\n",
              "</style>\n",
              "<table border=\"1\" class=\"dataframe\">\n",
              "  <thead>\n",
              "    <tr style=\"text-align: right;\">\n",
              "      <th></th>\n",
              "      <th>Low Estimate</th>\n",
              "      <th>Realized_Price</th>\n",
              "      <th>Value</th>\n",
              "      <th>Performance</th>\n",
              "    </tr>\n",
              "  </thead>\n",
              "  <tbody>\n",
              "    <tr>\n",
              "      <th>count</th>\n",
              "      <td>5471.00</td>\n",
              "      <td>5471.00</td>\n",
              "      <td>5471.00</td>\n",
              "      <td>5471.00</td>\n",
              "    </tr>\n",
              "    <tr>\n",
              "      <th>mean</th>\n",
              "      <td>98434.16</td>\n",
              "      <td>108204.63</td>\n",
              "      <td>13.03</td>\n",
              "      <td>1.92</td>\n",
              "    </tr>\n",
              "    <tr>\n",
              "      <th>std</th>\n",
              "      <td>403458.35</td>\n",
              "      <td>598902.49</td>\n",
              "      <td>110.79</td>\n",
              "      <td>0.94</td>\n",
              "    </tr>\n",
              "    <tr>\n",
              "      <th>min</th>\n",
              "      <td>62.51</td>\n",
              "      <td>0.00</td>\n",
              "      <td>0.48</td>\n",
              "      <td>1.00</td>\n",
              "    </tr>\n",
              "    <tr>\n",
              "      <th>25%</th>\n",
              "      <td>3633.05</td>\n",
              "      <td>0.00</td>\n",
              "      <td>0.65</td>\n",
              "      <td>1.00</td>\n",
              "    </tr>\n",
              "    <tr>\n",
              "      <th>50%</th>\n",
              "      <td>7806.50</td>\n",
              "      <td>5000.00</td>\n",
              "      <td>0.80</td>\n",
              "      <td>2.00</td>\n",
              "    </tr>\n",
              "    <tr>\n",
              "      <th>75%</th>\n",
              "      <td>24588.15</td>\n",
              "      <td>21834.90</td>\n",
              "      <td>1.00</td>\n",
              "      <td>3.00</td>\n",
              "    </tr>\n",
              "    <tr>\n",
              "      <th>max</th>\n",
              "      <td>14301600.00</td>\n",
              "      <td>19230644.80</td>\n",
              "      <td>1334.80</td>\n",
              "      <td>4.00</td>\n",
              "    </tr>\n",
              "  </tbody>\n",
              "</table>\n",
              "</div>"
            ],
            "text/plain": [
              "       Low Estimate  Realized_Price   Value  Performance\n",
              "count       5471.00         5471.00 5471.00      5471.00\n",
              "mean       98434.16       108204.63   13.03         1.92\n",
              "std       403458.35       598902.49  110.79         0.94\n",
              "min           62.51            0.00    0.48         1.00\n",
              "25%         3633.05            0.00    0.65         1.00\n",
              "50%         7806.50         5000.00    0.80         2.00\n",
              "75%        24588.15        21834.90    1.00         3.00\n",
              "max     14301600.00     19230644.80 1334.80         4.00"
            ]
          },
          "metadata": {
            "tags": []
          },
          "execution_count": 33
        }
      ]
    },
    {
      "cell_type": "code",
      "metadata": {
        "id": "4lYfwuBq5n5P",
        "colab_type": "code",
        "colab": {
          "base_uri": "https://localhost:8080/",
          "height": 297
        },
        "outputId": "107c2b15-ef76-4cf2-978c-fe93a3a14f08"
      },
      "source": [
        "sale_locations = pd.DataFrame({'Country': ['United Kingdom', 'Europe', 'United States', 'Hong Kong', 'South Korea', 'Japan', 'Australia', 'China'],\n",
        "                               'Count': [2311, 1499, 1348, 121, 54, 52, 32, 26]})\n",
        "sale_locations"
      ],
      "execution_count": 34,
      "outputs": [
        {
          "output_type": "execute_result",
          "data": {
            "text/html": [
              "<div>\n",
              "<style scoped>\n",
              "    .dataframe tbody tr th:only-of-type {\n",
              "        vertical-align: middle;\n",
              "    }\n",
              "\n",
              "    .dataframe tbody tr th {\n",
              "        vertical-align: top;\n",
              "    }\n",
              "\n",
              "    .dataframe thead th {\n",
              "        text-align: right;\n",
              "    }\n",
              "</style>\n",
              "<table border=\"1\" class=\"dataframe\">\n",
              "  <thead>\n",
              "    <tr style=\"text-align: right;\">\n",
              "      <th></th>\n",
              "      <th>Country</th>\n",
              "      <th>Count</th>\n",
              "    </tr>\n",
              "  </thead>\n",
              "  <tbody>\n",
              "    <tr>\n",
              "      <th>0</th>\n",
              "      <td>United Kingdom</td>\n",
              "      <td>2311</td>\n",
              "    </tr>\n",
              "    <tr>\n",
              "      <th>1</th>\n",
              "      <td>Europe</td>\n",
              "      <td>1499</td>\n",
              "    </tr>\n",
              "    <tr>\n",
              "      <th>2</th>\n",
              "      <td>United States</td>\n",
              "      <td>1348</td>\n",
              "    </tr>\n",
              "    <tr>\n",
              "      <th>3</th>\n",
              "      <td>Hong Kong</td>\n",
              "      <td>121</td>\n",
              "    </tr>\n",
              "    <tr>\n",
              "      <th>4</th>\n",
              "      <td>South Korea</td>\n",
              "      <td>54</td>\n",
              "    </tr>\n",
              "    <tr>\n",
              "      <th>5</th>\n",
              "      <td>Japan</td>\n",
              "      <td>52</td>\n",
              "    </tr>\n",
              "    <tr>\n",
              "      <th>6</th>\n",
              "      <td>Australia</td>\n",
              "      <td>32</td>\n",
              "    </tr>\n",
              "    <tr>\n",
              "      <th>7</th>\n",
              "      <td>China</td>\n",
              "      <td>26</td>\n",
              "    </tr>\n",
              "  </tbody>\n",
              "</table>\n",
              "</div>"
            ],
            "text/plain": [
              "          Country  Count\n",
              "0  United Kingdom   2311\n",
              "1          Europe   1499\n",
              "2   United States   1348\n",
              "3       Hong Kong    121\n",
              "4     South Korea     54\n",
              "5           Japan     52\n",
              "6       Australia     32\n",
              "7           China     26"
            ]
          },
          "metadata": {
            "tags": []
          },
          "execution_count": 34
        }
      ]
    },
    {
      "cell_type": "code",
      "metadata": {
        "id": "rwQdxXGh6a9e",
        "colab_type": "code",
        "colab": {
          "base_uri": "https://localhost:8080/",
          "height": 367
        },
        "outputId": "3b0580e1-2a6c-44cf-8205-78ff47b723e7"
      },
      "source": [
        "sns.barplot(x=sale_locations['Count'], y=sale_locations['Country'], palette='PuRd')\n",
        "plt.title(\"Where does Damien Hirst's art sell at auction?\\n\")\n",
        "plt.ylabel(None)\n",
        "plt.xlabel('\\nCounts of Art Work Sold');"
      ],
      "execution_count": 37,
      "outputs": [
        {
          "output_type": "display_data",
          "data": {
            "image/png": "[encoded data removed]",
            "text/plain": [
              "<Figure size 432x288 with 1 Axes>"
            ]
          },
          "metadata": {
            "tags": []
          }
        }
      ]
    },
    {
      "cell_type": "code",
      "metadata": {
        "id": "OImJJJl4Ifxl",
        "colab_type": "code",
        "colab": {
          "base_uri": "https://localhost:8080/",
          "height": 491
        },
        "outputId": "12d4b1b1-a4f3-48b1-d04c-37e577b7f783"
      },
      "source": [
        "high_end = result.sort_values(by=['Realized_Price'], ascending=False)\n",
        "high_end = high_end.head(255)\n",
        "\n",
        "fmt = lambda x: \"${:0,.0f}\".format(x)\n",
        "y_marks = [0,5000000,10000000,15000000,20000000]\n",
        "\n",
        "sns.scatterplot(x=high_end['Date'], y=high_end['Realized_Price'], hue=high_end['Performance'], palette='RdPu',size=high_end['Performance'], sizes=(10,200), alpha=.5, legend=False)\n",
        "plt.title(\"Sale Prices in USD for Damien Hirt's \\nTop 5% of Works at Auction\\n\")\n",
        "\n",
        "plt.yticks(y_marks, [fmt(i) for i in y_marks])\n",
        "plt.ylabel(None)\n",
        "plt.xlabel(\"Date of Sale\");"
      ],
      "execution_count": 41,
      "outputs": [
        {
          "output_type": "stream",
          "text": [
            "/usr/local/lib/python3.6/dist-packages/pandas/plotting/_converter.py:129: FutureWarning: Using an implicitly registered datetime converter for a matplotlib plotting method. The converter was registered by pandas on import. Future versions of pandas will require you to explicitly register matplotlib converters.\n",
            "\n",
            "To register the converters:\n",
            "\t>>> from pandas.plotting import register_matplotlib_converters\n",
            "\t>>> register_matplotlib_converters()\n",
            "  warnings.warn(msg, FutureWarning)\n"
          ],
          "name": "stderr"
        },
        {
          "output_type": "display_data",
          "data": {
            "image/png": "[encoded data removed]",
            "text/plain": [
              "<Figure size 432x288 with 1 Axes>"
            ]
          },
          "metadata": {
            "tags": []
          }
        }
      ]
    },
    {
      "cell_type": "code",
      "metadata": {
        "id": "cL10TUOfg2pn",
        "colab_type": "code",
        "colab": {
          "base_uri": "https://localhost:8080/",
          "height": 369
        },
        "outputId": "f3f30462-3965-4d0b-fdc7-c655f7f65363"
      },
      "source": [
        "low_mkt = result[(result['Realized_Price'] <= result['Realized_Price'].mean())]\n",
        "low_mkt = low_mkt[(low_mkt['Realized_Price'] > 0)]\n",
        "\n",
        "\n",
        "fmt = lambda x: \"${:0,.0f}\".format(x)\n",
        "y_marks = [0,20000,40000,60000,80000,100000]\n",
        "\n",
        "sns.scatterplot(x=low_mkt['Date'], y=low_mkt['Realized_Price'], hue=low_mkt['Performance'], palette='RdPu', size=low_mkt['Performance'], alpha=.5, sizes=(10,100), legend=False)\n",
        "plt.title(\"Auction sales for Damien Hirt's \\nart below the average auction price\\n\")\n",
        "plt.yticks(y_marks, [fmt(i) for i in y_marks])\n",
        "plt.ylabel(None)\n",
        "plt.xlabel('Date of Sale');"
      ],
      "execution_count": 46,
      "outputs": [
        {
          "output_type": "display_data",
          "data": {
            "image/png": "[encoded data removed]",
            "text/plain": [
              "<Figure size 432x288 with 1 Axes>"
            ]
          },
          "metadata": {
            "tags": []
          }
        }
      ]
    },
    {
      "cell_type": "code",
      "metadata": {
        "id": "8z59jOjV9vwG",
        "colab_type": "code",
        "colab": {
          "base_uri": "https://localhost:8080/",
          "height": 102
        },
        "outputId": "c5128d95-ab1f-4673-8a06-5f112d52b6ed"
      },
      "source": [
        "high_end['Performance'].value_counts()"
      ],
      "execution_count": 47,
      "outputs": [
        {
          "output_type": "execute_result",
          "data": {
            "text/plain": [
              "2    147\n",
              "3     77\n",
              "1     20\n",
              "4     11\n",
              "Name: Performance, dtype: int64"
            ]
          },
          "metadata": {
            "tags": []
          },
          "execution_count": 47
        }
      ]
    },
    {
      "cell_type": "code",
      "metadata": {
        "id": "p1iE9SA6hiT-",
        "colab_type": "code",
        "colab": {
          "base_uri": "https://localhost:8080/",
          "height": 102
        },
        "outputId": "51ed1743-6ac7-499c-a9df-45561ac1056d"
      },
      "source": [
        "low_mkt['Performance'].value_counts()"
      ],
      "execution_count": 48,
      "outputs": [
        {
          "output_type": "execute_result",
          "data": {
            "text/plain": [
              "2    1417\n",
              "3     816\n",
              "4     340\n",
              "1     315\n",
              "Name: Performance, dtype: int64"
            ]
          },
          "metadata": {
            "tags": []
          },
          "execution_count": 48
        }
      ]
    },
    {
      "cell_type": "code",
      "metadata": {
        "id": "2ytEMtfHhpaX",
        "colab_type": "code",
        "colab": {
          "base_uri": "https://localhost:8080/",
          "height": 173
        },
        "outputId": "376729bb-6d2f-451a-ab36-653de31bf3d6"
      },
      "source": [
        "low_counts = [2192, 1417, 816, 340]\n",
        "low_percent = [x/4765 for x in low_counts]\n",
        "low_performance = pd.DataFrame({'Rating': ['Poor', 'Good', 'Great', 'Exceptional'], 'Count': low_percent})\n",
        "low_performance"
      ],
      "execution_count": 50,
      "outputs": [
        {
          "output_type": "execute_result",
          "data": {
            "text/html": [
              "<div>\n",
              "<style scoped>\n",
              "    .dataframe tbody tr th:only-of-type {\n",
              "        vertical-align: middle;\n",
              "    }\n",
              "\n",
              "    .dataframe tbody tr th {\n",
              "        vertical-align: top;\n",
              "    }\n",
              "\n",
              "    .dataframe thead th {\n",
              "        text-align: right;\n",
              "    }\n",
              "</style>\n",
              "<table border=\"1\" class=\"dataframe\">\n",
              "  <thead>\n",
              "    <tr style=\"text-align: right;\">\n",
              "      <th></th>\n",
              "      <th>Rating</th>\n",
              "      <th>Count</th>\n",
              "    </tr>\n",
              "  </thead>\n",
              "  <tbody>\n",
              "    <tr>\n",
              "      <th>0</th>\n",
              "      <td>Poor</td>\n",
              "      <td>0.46</td>\n",
              "    </tr>\n",
              "    <tr>\n",
              "      <th>1</th>\n",
              "      <td>Good</td>\n",
              "      <td>0.30</td>\n",
              "    </tr>\n",
              "    <tr>\n",
              "      <th>2</th>\n",
              "      <td>Great</td>\n",
              "      <td>0.17</td>\n",
              "    </tr>\n",
              "    <tr>\n",
              "      <th>3</th>\n",
              "      <td>Exceptional</td>\n",
              "      <td>0.07</td>\n",
              "    </tr>\n",
              "  </tbody>\n",
              "</table>\n",
              "</div>"
            ],
            "text/plain": [
              "        Rating  Count\n",
              "0         Poor   0.46\n",
              "1         Good   0.30\n",
              "2        Great   0.17\n",
              "3  Exceptional   0.07"
            ]
          },
          "metadata": {
            "tags": []
          },
          "execution_count": 50
        }
      ]
    },
    {
      "cell_type": "code",
      "metadata": {
        "id": "skW4FyCpeQJ4",
        "colab_type": "code",
        "colab": {
          "base_uri": "https://localhost:8080/",
          "height": 173
        },
        "outputId": "0a2c2546-dd1e-4f83-f03a-5d76fb252777"
      },
      "source": [
        "high_counts = [20, 147, 77, 11]\n",
        "high_percent = [x/255 for x in high_counts]\n",
        "high_performance = pd.DataFrame({'Rating': ['Poor', 'Good', 'Great', 'Exceptional'], 'Count': high_percent})\n",
        "high_performance"
      ],
      "execution_count": 51,
      "outputs": [
        {
          "output_type": "execute_result",
          "data": {
            "text/html": [
              "<div>\n",
              "<style scoped>\n",
              "    .dataframe tbody tr th:only-of-type {\n",
              "        vertical-align: middle;\n",
              "    }\n",
              "\n",
              "    .dataframe tbody tr th {\n",
              "        vertical-align: top;\n",
              "    }\n",
              "\n",
              "    .dataframe thead th {\n",
              "        text-align: right;\n",
              "    }\n",
              "</style>\n",
              "<table border=\"1\" class=\"dataframe\">\n",
              "  <thead>\n",
              "    <tr style=\"text-align: right;\">\n",
              "      <th></th>\n",
              "      <th>Rating</th>\n",
              "      <th>Count</th>\n",
              "    </tr>\n",
              "  </thead>\n",
              "  <tbody>\n",
              "    <tr>\n",
              "      <th>0</th>\n",
              "      <td>Poor</td>\n",
              "      <td>0.08</td>\n",
              "    </tr>\n",
              "    <tr>\n",
              "      <th>1</th>\n",
              "      <td>Good</td>\n",
              "      <td>0.58</td>\n",
              "    </tr>\n",
              "    <tr>\n",
              "      <th>2</th>\n",
              "      <td>Great</td>\n",
              "      <td>0.30</td>\n",
              "    </tr>\n",
              "    <tr>\n",
              "      <th>3</th>\n",
              "      <td>Exceptional</td>\n",
              "      <td>0.04</td>\n",
              "    </tr>\n",
              "  </tbody>\n",
              "</table>\n",
              "</div>"
            ],
            "text/plain": [
              "        Rating  Count\n",
              "0         Poor   0.08\n",
              "1         Good   0.58\n",
              "2        Great   0.30\n",
              "3  Exceptional   0.04"
            ]
          },
          "metadata": {
            "tags": []
          },
          "execution_count": 51
        }
      ]
    },
    {
      "cell_type": "code",
      "metadata": {
        "id": "iSlTiMe4e5Mz",
        "colab_type": "code",
        "colab": {
          "base_uri": "https://localhost:8080/",
          "height": 369
        },
        "outputId": "ad9a87c9-05ce-4b1b-93bf-afe0531a686b"
      },
      "source": [
        "sns.barplot(x=high_performance['Rating'], y=high_performance['Count'], palette='RdPu')\n",
        "plt.gca().yaxis.set_major_formatter(FuncFormatter(lambda y, _: '{:.0%}'.format(y)))\n",
        "plt.ylabel(None)\n",
        "plt.title(\"Performance of Sales Price vs Low Estimate\\n of Damien Hirst's Most expensive Art\\n\");"
      ],
      "execution_count": 52,
      "outputs": [
        {
          "output_type": "display_data",
          "data": {
            "image/png": "[encoded data removed]",
            "text/plain": [
              "<Figure size 432x288 with 1 Axes>"
            ]
          },
          "metadata": {
            "tags": []
          }
        }
      ]
    },
    {
      "cell_type": "code",
      "metadata": {
        "id": "YSoUTOwvh94q",
        "colab_type": "code",
        "colab": {
          "base_uri": "https://localhost:8080/",
          "height": 369
        },
        "outputId": "013eb6cd-8690-4bb3-cf85-e010181add64"
      },
      "source": [
        "sns.barplot(x=low_performance['Rating'], y=low_performance['Count'], palette='BuPu')\n",
        "plt.gca().yaxis.set_major_formatter(FuncFormatter(lambda y, _: '{:.0%}'.format(y)))\n",
        "plt.ylabel(None)\n",
        "plt.title(\"Performance of Sales Price vs Low Estimate\\n of Damien Hirst's Low Priced Works\\n\");"
      ],
      "execution_count": 53,
      "outputs": [
        {
          "output_type": "display_data",
          "data": {
            "image/png": "[encoded data removed]",
            "text/plain": [
              "<Figure size 432x288 with 1 Axes>"
            ]
          },
          "metadata": {
            "tags": []
          }
        }
      ]
    }
  ]
}