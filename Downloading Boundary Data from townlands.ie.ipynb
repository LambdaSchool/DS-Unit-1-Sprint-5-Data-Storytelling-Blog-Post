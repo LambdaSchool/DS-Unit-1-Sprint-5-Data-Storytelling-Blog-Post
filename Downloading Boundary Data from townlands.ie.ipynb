{
 "cells": [
  {
   "cell_type": "code",
   "execution_count": null,
   "metadata": {},
   "outputs": [],
   "source": [
    "!wget https://www.townlands.ie/static/downloads/townlands.zip\n",
    "!wget https://www.townlands.ie/static/downloads/civil_parishes.zip\n",
    "!wget https://www.townlands.ie/static/downloads/counties.zip\n",
    "\n",
    "!unzip townlands.zip\n",
    "!unzip civil_parishes.zip\n",
    "!unzip counties.zip"
   ]
  }
 ],
 "metadata": {
  "kernelspec": {
   "display_name": "Python 3",
   "language": "python",
   "name": "python3"
  },
  "language_info": {
   "codemirror_mode": {
    "name": "ipython",
    "version": 3
   },
   "file_extension": ".py",
   "mimetype": "text/x-python",
   "name": "python",
   "nbconvert_exporter": "python",
   "pygments_lexer": "ipython3",
   "version": "3.7.3"
  }
 },
 "nbformat": 4,
 "nbformat_minor": 2
}
