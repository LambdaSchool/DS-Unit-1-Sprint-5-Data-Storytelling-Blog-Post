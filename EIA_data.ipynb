{
  "nbformat": 4,
  "nbformat_minor": 0,
  "metadata": {
    "colab": {
      "name": "EIA_data.ipynb",
      "version": "0.3.2",
      "provenance": [],
      "include_colab_link": true
    },
    "language_info": {
      "codemirror_mode": {
        "name": "ipython",
        "version": 3
      },
      "file_extension": ".py",
      "mimetype": "text/x-python",
      "name": "python",
      "nbconvert_exporter": "python",
      "pygments_lexer": "ipython3",
      "version": "3.7.1"
    },
    "kernelspec": {
      "display_name": "Python 3",
      "language": "python",
      "name": "python3"
    }
  },
  "cells": [
    {
      "cell_type": "markdown",
      "metadata": {
        "id": "view-in-github",
        "colab_type": "text"
      },
      "source": [
        "<a href=\"https://colab.research.google.com/github/beverast/DS-Unit-1-Sprint-5-Data-Storytelling-Blog-Post/blob/master/EIA_data.ipynb\" target=\"_parent\"><img src=\"https://colab.research.google.com/assets/colab-badge.svg\" alt=\"Open In Colab\"/></a>"
      ]
    },
    {
      "metadata": {
        "id": "Te_SU-4jQYJq",
        "colab_type": "text"
      },
      "cell_type": "markdown",
      "source": [
        "# EIA Data Analysis"
      ]
    },
    {
      "metadata": {
        "id": "aq7eqB65QYJv",
        "colab_type": "code",
        "colab": {}
      },
      "cell_type": "code",
      "source": [
        "import pandas as pd\n",
        "import matplotlib.pyplot as plt\n",
        "import numpy as np\n",
        "import seaborn as sns"
      ],
      "execution_count": 0,
      "outputs": []
    },
    {
      "metadata": {
        "id": "lXce9pFFQYKE",
        "colab_type": "code",
        "colab": {}
      },
      "cell_type": "code",
      "source": [
        "# Read in CSV \n",
        "us_net_wind_gen = pd.read_csv('./data/Net_generation_wind_United_States_all_sectors_monthly.csv', lineterminator=',')"
      ],
      "execution_count": 0,
      "outputs": []
    },
    {
      "metadata": {
        "id": "ty3SrYODQYKN",
        "colab_type": "code",
        "colab": {}
      },
      "cell_type": "code",
      "source": [
        "# Split column with relevant data into 'thousand_megawatt_hrs' and 'month' columns\n",
        "us_net_wind_gen['thousand_megawatt_hrs'], us_net_wind_gen['month'] = us_net_wind_gen['Net generation wind United States all sectors monthly\\nhttps://www.eia.gov/opendata/qb.php?sdid=ELEC.GEN.WND-US-99.M\\n12:23:19 GMT-0400 (Eastern Daylight Time)\\nSource: U.S. Energy Information Administration\\nMonth'].str.split('\\n', 1).str"
      ],
      "execution_count": 0,
      "outputs": []
    },
    {
      "metadata": {
        "id": "B1Cc3dScQYKX",
        "colab_type": "code",
        "colab": {}
      },
      "cell_type": "code",
      "source": [
        "# Drop column with unusable data and very long name\n",
        "us_net_wind_gen = us_net_wind_gen.drop(labels='Net generation wind United States all sectors monthly\\nhttps://www.eia.gov/opendata/qb.php?sdid=ELEC.GEN.WND-US-99.M\\n12:23:19 GMT-0400 (Eastern Daylight Time)\\nSource: U.S. Energy Information Administration\\nMonth', axis=1)"
      ],
      "execution_count": 0,
      "outputs": []
    },
    {
      "metadata": {
        "id": "1llIpJGDQYKi",
        "colab_type": "code",
        "colab": {},
        "outputId": "30901ed0-ca71-470c-fd81-fed3d2bb553b"
      },
      "cell_type": "code",
      "source": [
        "# Inspect the dataframe\n",
        "us_net_wind_gen.shape"
      ],
      "execution_count": 0,
      "outputs": [
        {
          "output_type": "execute_result",
          "data": {
            "text/plain": [
              "(218, 2)"
            ]
          },
          "metadata": {
            "tags": []
          },
          "execution_count": 73
        }
      ]
    },
    {
      "metadata": {
        "id": "z67cBjLbQYK0",
        "colab_type": "code",
        "colab": {},
        "outputId": "6280fe0e-5535-44ab-eb5f-addc21b0953b"
      },
      "cell_type": "code",
      "source": [
        "us_net_wind_gen.head()"
      ],
      "execution_count": 0,
      "outputs": [
        {
          "output_type": "execute_result",
          "data": {
            "text/html": [
              "<div>\n",
              "<style scoped>\n",
              "    .dataframe tbody tr th:only-of-type {\n",
              "        vertical-align: middle;\n",
              "    }\n",
              "\n",
              "    .dataframe tbody tr th {\n",
              "        vertical-align: top;\n",
              "    }\n",
              "\n",
              "    .dataframe thead th {\n",
              "        text-align: right;\n",
              "    }\n",
              "</style>\n",
              "<table border=\"1\" class=\"dataframe\">\n",
              "  <thead>\n",
              "    <tr style=\"text-align: right;\">\n",
              "      <th></th>\n",
              "      <th>thousand_megawatt_hrs</th>\n",
              "      <th>month</th>\n",
              "    </tr>\n",
              "  </thead>\n",
              "  <tbody>\n",
              "    <tr>\n",
              "      <th>0</th>\n",
              "      <td>Series ID: ELEC.GEN.WND-US-99.M thousand megaw...</td>\n",
              "      <td>Jan 2019</td>\n",
              "    </tr>\n",
              "    <tr>\n",
              "      <th>1</th>\n",
              "      <td>25164.53476</td>\n",
              "      <td>Dec 2018</td>\n",
              "    </tr>\n",
              "    <tr>\n",
              "      <th>2</th>\n",
              "      <td>24824.68328</td>\n",
              "      <td>Nov 2018</td>\n",
              "    </tr>\n",
              "    <tr>\n",
              "      <th>3</th>\n",
              "      <td>22456.95089</td>\n",
              "      <td>Oct 2018</td>\n",
              "    </tr>\n",
              "    <tr>\n",
              "      <th>4</th>\n",
              "      <td>21146.83581</td>\n",
              "      <td>Sep 2018</td>\n",
              "    </tr>\n",
              "  </tbody>\n",
              "</table>\n",
              "</div>"
            ],
            "text/plain": [
              "                               thousand_megawatt_hrs     month\n",
              "0  Series ID: ELEC.GEN.WND-US-99.M thousand megaw...  Jan 2019\n",
              "1                                        25164.53476  Dec 2018\n",
              "2                                        24824.68328  Nov 2018\n",
              "3                                        22456.95089  Oct 2018\n",
              "4                                        21146.83581  Sep 2018"
            ]
          },
          "metadata": {
            "tags": []
          },
          "execution_count": 74
        }
      ]
    },
    {
      "metadata": {
        "id": "GQCcFoQJQYLC",
        "colab_type": "code",
        "colab": {},
        "outputId": "26c05aec-3273-4378-d4de-9035b8ed52e2"
      },
      "cell_type": "code",
      "source": [
        "us_net_wind_gen.tail()"
      ],
      "execution_count": 0,
      "outputs": [
        {
          "output_type": "execute_result",
          "data": {
            "text/html": [
              "<div>\n",
              "<style scoped>\n",
              "    .dataframe tbody tr th:only-of-type {\n",
              "        vertical-align: middle;\n",
              "    }\n",
              "\n",
              "    .dataframe tbody tr th {\n",
              "        vertical-align: top;\n",
              "    }\n",
              "\n",
              "    .dataframe thead th {\n",
              "        text-align: right;\n",
              "    }\n",
              "</style>\n",
              "<table border=\"1\" class=\"dataframe\">\n",
              "  <thead>\n",
              "    <tr style=\"text-align: right;\">\n",
              "      <th></th>\n",
              "      <th>thousand_megawatt_hrs</th>\n",
              "      <th>month</th>\n",
              "    </tr>\n",
              "  </thead>\n",
              "  <tbody>\n",
              "    <tr>\n",
              "      <th>213</th>\n",
              "      <td>635.029</td>\n",
              "      <td>Apr 2001</td>\n",
              "    </tr>\n",
              "    <tr>\n",
              "      <th>214</th>\n",
              "      <td>684.695</td>\n",
              "      <td>Mar 2001</td>\n",
              "    </tr>\n",
              "    <tr>\n",
              "      <th>215</th>\n",
              "      <td>532.12</td>\n",
              "      <td>Feb 2001</td>\n",
              "    </tr>\n",
              "    <tr>\n",
              "      <th>216</th>\n",
              "      <td>431.242</td>\n",
              "      <td>Jan 2001</td>\n",
              "    </tr>\n",
              "    <tr>\n",
              "      <th>217</th>\n",
              "      <td>389.25</td>\n",
              "      <td>NaN</td>\n",
              "    </tr>\n",
              "  </tbody>\n",
              "</table>\n",
              "</div>"
            ],
            "text/plain": [
              "    thousand_megawatt_hrs     month\n",
              "213               635.029  Apr 2001\n",
              "214               684.695  Mar 2001\n",
              "215                532.12  Feb 2001\n",
              "216               431.242  Jan 2001\n",
              "217                389.25       NaN"
            ]
          },
          "metadata": {
            "tags": []
          },
          "execution_count": 75
        }
      ]
    },
    {
      "metadata": {
        "id": "pArQRViPQYLP",
        "colab_type": "code",
        "colab": {}
      },
      "cell_type": "code",
      "source": [
        "# Drop first and last observation\n",
        "us_net_wind_gen = us_net_wind_gen.drop([0,217])"
      ],
      "execution_count": 0,
      "outputs": []
    },
    {
      "metadata": {
        "id": "w8SLZ12xQYLY",
        "colab_type": "code",
        "colab": {},
        "outputId": "1da5c1d0-6e9b-41f7-b90f-3fb3440bcdf0"
      },
      "cell_type": "code",
      "source": [
        "us_net_wind_gen.shape"
      ],
      "execution_count": 0,
      "outputs": [
        {
          "output_type": "execute_result",
          "data": {
            "text/plain": [
              "(216, 2)"
            ]
          },
          "metadata": {
            "tags": []
          },
          "execution_count": 77
        }
      ]
    },
    {
      "metadata": {
        "id": "pGfzMC2PQYLj",
        "colab_type": "code",
        "colab": {},
        "outputId": "e2387871-789a-468e-cdb6-cabc1be36c8e"
      },
      "cell_type": "code",
      "source": [
        "us_net_wind_gen.info()"
      ],
      "execution_count": 0,
      "outputs": [
        {
          "output_type": "stream",
          "text": [
            "<class 'pandas.core.frame.DataFrame'>\n",
            "Int64Index: 216 entries, 1 to 216\n",
            "Data columns (total 2 columns):\n",
            "thousand_megawatt_hrs    216 non-null object\n",
            "month                    216 non-null object\n",
            "dtypes: object(2)\n",
            "memory usage: 5.1+ KB\n"
          ],
          "name": "stdout"
        }
      ]
    },
    {
      "metadata": {
        "id": "03AuzGErQYLv",
        "colab_type": "code",
        "colab": {},
        "outputId": "959401ec-47a6-42df-e7f7-ef6841f16522"
      },
      "cell_type": "code",
      "source": [
        "# Convert dtypes\n",
        "us_net_wind_gen['thousand_megawatt_hrs'] = us_net_wind_gen['thousand_megawatt_hrs'].astype('float')\n",
        "us_net_wind_gen['month'] = pd.to_datetime(us_net_wind_gen['month'])\n",
        "us_net_wind_gen.info()"
      ],
      "execution_count": 0,
      "outputs": [
        {
          "output_type": "stream",
          "text": [
            "<class 'pandas.core.frame.DataFrame'>\n",
            "Int64Index: 216 entries, 1 to 216\n",
            "Data columns (total 2 columns):\n",
            "thousand_megawatt_hrs    216 non-null float64\n",
            "month                    216 non-null datetime64[ns]\n",
            "dtypes: datetime64[ns](1), float64(1)\n",
            "memory usage: 5.1 KB\n"
          ],
          "name": "stdout"
        }
      ]
    },
    {
      "metadata": {
        "id": "K1_hBzqmQYL6",
        "colab_type": "code",
        "colab": {},
        "outputId": "c14d9689-e8ec-48b2-d078-7521fb48b786"
      },
      "cell_type": "code",
      "source": [
        "sns.lineplot(x='month', y='thousand_megawatt_hrs', data=us_net_wind_gen)\n",
        "plt.title('US Net Wind Energy Generation - All Sectors - Monthly');"
      ],
      "execution_count": 0,
      "outputs": [
        {
          "output_type": "display_data",
          "data": {
            "image/png": "[encoded data removed]",
            "text/plain": [
              "<Figure size 432x288 with 1 Axes>"
            ]
          },
          "metadata": {
            "tags": [],
            "needs_background": "light"
          }
        }
      ]
    },
    {
      "metadata": {
        "id": "B3JDbo1qQYMG",
        "colab_type": "code",
        "colab": {},
        "outputId": "3378ed9a-33f8-4405-b0c8-5a92385e49e8"
      },
      "cell_type": "code",
      "source": [
        "# Net generation all energies monthly\n",
        "tx_net_wind_gen = pd.read_csv('./data/Net_generation_wind_Texas_all_sectors_monthly.csv', lineterminator=',')\n",
        "tx_net_wind_gen.columns"
      ],
      "execution_count": 0,
      "outputs": [
        {
          "output_type": "execute_result",
          "data": {
            "text/plain": [
              "Index(['Net generation wind Texas all sectors monthly\\nhttps://www.eia.gov/opendata/qb.php?category=14&sdid=ELEC.GEN.WND-TX-99.M\\n14:02:26 GMT-0400 (Eastern Daylight Time)\\nSource: U.S. Energy Information Administration\\nMonth'], dtype='object')"
            ]
          },
          "metadata": {
            "tags": []
          },
          "execution_count": 99
        }
      ]
    },
    {
      "metadata": {
        "id": "HBrA61-wQYMS",
        "colab_type": "code",
        "colab": {}
      },
      "cell_type": "code",
      "source": [
        "tx_net_wind_gen['thousand_megawatt_hrs'], tx_net_wind_gen['month'] = tx_net_wind_gen['Net generation wind Texas all sectors monthly\\nhttps://www.eia.gov/opendata/qb.php?category=14&sdid=ELEC.GEN.WND-TX-99.M\\n14:02:26 GMT-0400 (Eastern Daylight Time)\\nSource: U.S. Energy Information Administration\\nMonth'].str.split('\\n', 1).str"
      ],
      "execution_count": 0,
      "outputs": []
    },
    {
      "metadata": {
        "id": "MuDVsLLSQYMh",
        "colab_type": "code",
        "colab": {}
      },
      "cell_type": "code",
      "source": [
        "# Same cleaning process as above\n",
        "tx_net_wind_gen = tx_net_wind_gen.drop(labels='Net generation wind Texas all sectors monthly\\nhttps://www.eia.gov/opendata/qb.php?category=14&sdid=ELEC.GEN.WND-TX-99.M\\n14:02:26 GMT-0400 (Eastern Daylight Time)\\nSource: U.S. Energy Information Administration\\nMonth', axis=1)\n",
        "tx_net_wind_gen = tx_net_wind_gen.drop([0,217])\n",
        "tx_net_wind_gen['thousand_megawatt_hrs'] = tx_net_wind_gen['thousand_megawatt_hrs'].astype('float')\n",
        "tx_net_wind_gen['month'] = pd.to_datetime(tx_net_wind_gen['month'])"
      ],
      "execution_count": 0,
      "outputs": []
    },
    {
      "metadata": {
        "id": "HxWSlikrQYMw",
        "colab_type": "code",
        "colab": {},
        "outputId": "800c05d4-9e06-4b80-daa8-80ee153770d2"
      },
      "cell_type": "code",
      "source": [
        "sns.lineplot(x='month', y='thousand_megawatt_hrs', data=tx_net_wind_gen)\n",
        "plt.title('Texas Net Wind Energy Generation - All Sectors - Monthly');"
      ],
      "execution_count": 0,
      "outputs": [
        {
          "output_type": "display_data",
          "data": {
            "image/png": "[encoded data removed]",
            "text/plain": [
              "<Figure size 432x288 with 1 Axes>"
            ]
          },
          "metadata": {
            "tags": [],
            "needs_background": "light"
          }
        }
      ]
    },
    {
      "metadata": {
        "id": "2cHT1Z1BQYM8",
        "colab_type": "code",
        "colab": {}
      },
      "cell_type": "code",
      "source": [
        "tx_reversed = tx_net_wind_gen[::-1]\n",
        "us_reversed = us_net_wind_gen[::-1]"
      ],
      "execution_count": 0,
      "outputs": []
    },
    {
      "metadata": {
        "id": "741INqnyQYNE",
        "colab_type": "code",
        "colab": {},
        "outputId": "d463eada-06be-448d-df39-b6dd5fbe8c76"
      },
      "cell_type": "code",
      "source": [
        "fig = plt.figure()\n",
        "ax1 = fig.add_axes([0.1, 0.5, 0.8, 0.4],\n",
        "                   xticklabels=[], ylim=(0, 30000))\n",
        "ax2 = fig.add_axes([0.1, 0.1, 0.8, 0.4],\n",
        "                   ylim=(0, 30000))\n",
        "\n",
        "\n",
        "ax1.plot(tx_reversed);\n",
        "ax2.plot(us_reversed);"
      ],
      "execution_count": 0,
      "outputs": [
        {
          "output_type": "display_data",
          "data": {
            "image/png": "[encoded data removed]",
            "text/plain": [
              "<Figure size 432x288 with 2 Axes>"
            ]
          },
          "metadata": {
            "tags": [],
            "needs_background": "light"
          }
        }
      ]
    },
    {
      "metadata": {
        "id": "7SbNEkiWQYNT",
        "colab_type": "text"
      },
      "cell_type": "markdown",
      "source": [
        "### Net generation of Natural Gas for All Sectors Jan. 2019"
      ]
    },
    {
      "metadata": {
        "id": "loOjPHPzQYNW",
        "colab_type": "text"
      },
      "cell_type": "markdown",
      "source": [
        "![Net generation: Natural gas: All Sectors: Jan 2019](./data/chart.png)"
      ]
    },
    {
      "metadata": {
        "id": "CIMwqunEQYNZ",
        "colab_type": "code",
        "colab": {}
      },
      "cell_type": "code",
      "source": [
        "Get wind gen, avg elec retail price, etc"
      ],
      "execution_count": 0,
      "outputs": []
    },
    {
      "metadata": {
        "id": "tt-tyrm6QYNj",
        "colab_type": "text"
      },
      "cell_type": "markdown",
      "source": [
        "# Average Retail Price of Electricity (in US cents)"
      ]
    },
    {
      "metadata": {
        "id": "HvWYV68BQYNl",
        "colab_type": "text"
      },
      "cell_type": "markdown",
      "source": [
        "![Average Retail Electricity Price](./data/avg_retail_elec.png)"
      ]
    },
    {
      "metadata": {
        "id": "s8507ysgQYNo",
        "colab_type": "text"
      },
      "cell_type": "markdown",
      "source": [
        "# Fossil Fuel Stock for Coal in January 2019"
      ]
    },
    {
      "metadata": {
        "id": "N-oWm7qQQYNq",
        "colab_type": "text"
      },
      "cell_type": "markdown",
      "source": [
        "Texas has 6,730 tons of coal stock- the most in the US."
      ]
    },
    {
      "metadata": {
        "id": "YO0pd8xlQYNt",
        "colab_type": "text"
      },
      "cell_type": "markdown",
      "source": [
        "![Fossil Fuel Stocks for Coal in January 2019](./data/fossil_fuel_stock_coal_jan2019.png)"
      ]
    },
    {
      "metadata": {
        "id": "RS9nFt_RQYNw",
        "colab_type": "code",
        "colab": {}
      },
      "cell_type": "code",
      "source": [
        ""
      ],
      "execution_count": 0,
      "outputs": []
    }
  ]
}