{
  "nbformat": 4,
  "nbformat_minor": 0,
  "metadata": {
    "colab": {
      "name": "FINAL NOTEBOOK FOR SPRINT 5_Jason Meil_DS3.ipynb",
      "version": "0.3.2",
      "provenance": [],
      "collapsed_sections": [],
      "include_colab_link": true
    },
    "kernelspec": {
      "name": "python3",
      "display_name": "Python 3"
    }
  },
  "cells": [
    {
      "cell_type": "markdown",
      "metadata": {
        "id": "view-in-github",
        "colab_type": "text"
      },
      "source": [
        "<a href=\"https://colab.research.google.com/github/RecursiveOuroboros/DS-Unit-1-Sprint-5-Data-Storytelling-Blog-Post/blob/master/FINAL_NOTEBOOK_FOR_SPRINT_5_Jason_Meil_DS3.ipynb\" target=\"_parent\"><img src=\"https://colab.research.google.com/assets/colab-badge.svg\" alt=\"Open In Colab\"/></a>"
      ]
    },
    {
      "metadata": {
        "id": "9_qpwQY0ocFW",
        "colab_type": "code",
        "colab": {}
      },
      "cell_type": "code",
      "source": [
        "#Importing my dataset from a Github push from CERN\n",
        "import pandas as pd\n",
        "df=pd.read_csv('https://raw.githubusercontent.com/RecursiveOuroboros/DS-Unit-1-Sprint-5-Data-Storytelling-Blog-Post/master/MeasuredStates_T_01ms.csv', header=None)"
      ],
      "execution_count": 0,
      "outputs": []
    },
    {
      "metadata": {
        "id": "oOY1J1KjoodB",
        "colab_type": "code",
        "outputId": "b9a17f4a-e914-4784-fefc-6ddc2fae9293",
        "colab": {
          "base_uri": "https://localhost:8080/",
          "height": 34
        }
      },
      "cell_type": "code",
      "source": [
        "#Checking shape of my data\n",
        "df.shape"
      ],
      "execution_count": 0,
      "outputs": [
        {
          "output_type": "execute_result",
          "data": {
            "text/plain": [
              "(345, 150)"
            ]
          },
          "metadata": {
            "tags": []
          },
          "execution_count": 3
        }
      ]
    },
    {
      "metadata": {
        "id": "HFdhYKAQE4A2",
        "colab_type": "code",
        "outputId": "938ec559-731c-4046-dcd1-8a671808b15a",
        "colab": {
          "base_uri": "https://localhost:8080/",
          "height": 346
        }
      },
      "cell_type": "code",
      "source": [
        "#Getting a description of my data to try and see what I am dealing with. I can already\n",
        "# see correlation in the quartiles in columns 1 and 5, 2 and 9\n",
        "df.describe()"
      ],
      "execution_count": 0,
      "outputs": [
        {
          "output_type": "execute_result",
          "data": {
            "text/html": [
              "<div>\n",
              "<style scoped>\n",
              "    .dataframe tbody tr th:only-of-type {\n",
              "        vertical-align: middle;\n",
              "    }\n",
              "\n",
              "    .dataframe tbody tr th {\n",
              "        vertical-align: top;\n",
              "    }\n",
              "\n",
              "    .dataframe thead th {\n",
              "        text-align: right;\n",
              "    }\n",
              "</style>\n",
              "<table border=\"1\" class=\"dataframe\">\n",
              "  <thead>\n",
              "    <tr style=\"text-align: right;\">\n",
              "      <th></th>\n",
              "      <th>0</th>\n",
              "      <th>1</th>\n",
              "      <th>2</th>\n",
              "      <th>3</th>\n",
              "      <th>4</th>\n",
              "      <th>5</th>\n",
              "      <th>6</th>\n",
              "      <th>7</th>\n",
              "      <th>8</th>\n",
              "      <th>9</th>\n",
              "      <th>...</th>\n",
              "      <th>140</th>\n",
              "      <th>141</th>\n",
              "      <th>142</th>\n",
              "      <th>143</th>\n",
              "      <th>144</th>\n",
              "      <th>145</th>\n",
              "      <th>146</th>\n",
              "      <th>147</th>\n",
              "      <th>148</th>\n",
              "      <th>149</th>\n",
              "    </tr>\n",
              "  </thead>\n",
              "  <tbody>\n",
              "    <tr>\n",
              "      <th>count</th>\n",
              "      <td>345.000000</td>\n",
              "      <td>345.000000</td>\n",
              "      <td>345.000000</td>\n",
              "      <td>345.000000</td>\n",
              "      <td>345.000000</td>\n",
              "      <td>345.000000</td>\n",
              "      <td>345.000000</td>\n",
              "      <td>345.000000</td>\n",
              "      <td>345.000000</td>\n",
              "      <td>345.000000</td>\n",
              "      <td>...</td>\n",
              "      <td>345.000000</td>\n",
              "      <td>345.000000</td>\n",
              "      <td>345.000000</td>\n",
              "      <td>345.000000</td>\n",
              "      <td>345.000000</td>\n",
              "      <td>345.000000</td>\n",
              "      <td>345.000000</td>\n",
              "      <td>345.000000</td>\n",
              "      <td>345.000000</td>\n",
              "      <td>345.000000</td>\n",
              "    </tr>\n",
              "    <tr>\n",
              "      <th>mean</th>\n",
              "      <td>458.255072</td>\n",
              "      <td>494.710145</td>\n",
              "      <td>484.026087</td>\n",
              "      <td>475.866667</td>\n",
              "      <td>472.678261</td>\n",
              "      <td>492.452174</td>\n",
              "      <td>507.875362</td>\n",
              "      <td>503.353623</td>\n",
              "      <td>462.205797</td>\n",
              "      <td>481.762319</td>\n",
              "      <td>...</td>\n",
              "      <td>487.724638</td>\n",
              "      <td>502.788406</td>\n",
              "      <td>497.344928</td>\n",
              "      <td>497.927536</td>\n",
              "      <td>488.417391</td>\n",
              "      <td>478.913043</td>\n",
              "      <td>476.347826</td>\n",
              "      <td>501.742029</td>\n",
              "      <td>488.246377</td>\n",
              "      <td>474.527536</td>\n",
              "    </tr>\n",
              "    <tr>\n",
              "      <th>std</th>\n",
              "      <td>296.208412</td>\n",
              "      <td>299.291581</td>\n",
              "      <td>303.130339</td>\n",
              "      <td>283.205888</td>\n",
              "      <td>297.278847</td>\n",
              "      <td>311.449562</td>\n",
              "      <td>299.800164</td>\n",
              "      <td>299.368312</td>\n",
              "      <td>275.042937</td>\n",
              "      <td>297.623750</td>\n",
              "      <td>...</td>\n",
              "      <td>300.850378</td>\n",
              "      <td>294.452357</td>\n",
              "      <td>296.600359</td>\n",
              "      <td>291.435826</td>\n",
              "      <td>293.011697</td>\n",
              "      <td>291.314440</td>\n",
              "      <td>299.361327</td>\n",
              "      <td>290.152777</td>\n",
              "      <td>288.541431</td>\n",
              "      <td>289.287035</td>\n",
              "    </tr>\n",
              "    <tr>\n",
              "      <th>min</th>\n",
              "      <td>0.000000</td>\n",
              "      <td>3.000000</td>\n",
              "      <td>2.000000</td>\n",
              "      <td>2.000000</td>\n",
              "      <td>0.000000</td>\n",
              "      <td>0.000000</td>\n",
              "      <td>2.000000</td>\n",
              "      <td>4.000000</td>\n",
              "      <td>6.000000</td>\n",
              "      <td>1.000000</td>\n",
              "      <td>...</td>\n",
              "      <td>0.000000</td>\n",
              "      <td>1.000000</td>\n",
              "      <td>1.000000</td>\n",
              "      <td>5.000000</td>\n",
              "      <td>0.000000</td>\n",
              "      <td>4.000000</td>\n",
              "      <td>6.000000</td>\n",
              "      <td>0.000000</td>\n",
              "      <td>0.000000</td>\n",
              "      <td>2.000000</td>\n",
              "    </tr>\n",
              "    <tr>\n",
              "      <th>25%</th>\n",
              "      <td>213.000000</td>\n",
              "      <td>227.000000</td>\n",
              "      <td>215.000000</td>\n",
              "      <td>249.000000</td>\n",
              "      <td>221.000000</td>\n",
              "      <td>213.000000</td>\n",
              "      <td>225.000000</td>\n",
              "      <td>234.000000</td>\n",
              "      <td>238.000000</td>\n",
              "      <td>225.000000</td>\n",
              "      <td>...</td>\n",
              "      <td>214.000000</td>\n",
              "      <td>247.000000</td>\n",
              "      <td>217.000000</td>\n",
              "      <td>240.000000</td>\n",
              "      <td>255.000000</td>\n",
              "      <td>226.000000</td>\n",
              "      <td>220.000000</td>\n",
              "      <td>253.000000</td>\n",
              "      <td>236.000000</td>\n",
              "      <td>199.000000</td>\n",
              "    </tr>\n",
              "    <tr>\n",
              "      <th>50%</th>\n",
              "      <td>401.000000</td>\n",
              "      <td>487.000000</td>\n",
              "      <td>457.000000</td>\n",
              "      <td>448.000000</td>\n",
              "      <td>460.000000</td>\n",
              "      <td>476.000000</td>\n",
              "      <td>530.000000</td>\n",
              "      <td>485.000000</td>\n",
              "      <td>447.000000</td>\n",
              "      <td>457.000000</td>\n",
              "      <td>...</td>\n",
              "      <td>460.000000</td>\n",
              "      <td>494.000000</td>\n",
              "      <td>474.000000</td>\n",
              "      <td>510.000000</td>\n",
              "      <td>467.000000</td>\n",
              "      <td>457.000000</td>\n",
              "      <td>457.000000</td>\n",
              "      <td>482.000000</td>\n",
              "      <td>473.000000</td>\n",
              "      <td>483.000000</td>\n",
              "    </tr>\n",
              "    <tr>\n",
              "      <th>75%</th>\n",
              "      <td>712.000000</td>\n",
              "      <td>747.000000</td>\n",
              "      <td>751.000000</td>\n",
              "      <td>717.000000</td>\n",
              "      <td>706.000000</td>\n",
              "      <td>766.000000</td>\n",
              "      <td>767.000000</td>\n",
              "      <td>764.000000</td>\n",
              "      <td>660.000000</td>\n",
              "      <td>754.000000</td>\n",
              "      <td>...</td>\n",
              "      <td>761.000000</td>\n",
              "      <td>772.000000</td>\n",
              "      <td>763.000000</td>\n",
              "      <td>758.000000</td>\n",
              "      <td>733.000000</td>\n",
              "      <td>725.000000</td>\n",
              "      <td>727.000000</td>\n",
              "      <td>758.000000</td>\n",
              "      <td>725.000000</td>\n",
              "      <td>712.000000</td>\n",
              "    </tr>\n",
              "    <tr>\n",
              "      <th>max</th>\n",
              "      <td>1017.000000</td>\n",
              "      <td>1022.000000</td>\n",
              "      <td>1022.000000</td>\n",
              "      <td>1018.000000</td>\n",
              "      <td>1022.000000</td>\n",
              "      <td>1021.000000</td>\n",
              "      <td>1021.000000</td>\n",
              "      <td>1022.000000</td>\n",
              "      <td>1021.000000</td>\n",
              "      <td>1018.000000</td>\n",
              "      <td>...</td>\n",
              "      <td>1023.000000</td>\n",
              "      <td>1023.000000</td>\n",
              "      <td>1022.000000</td>\n",
              "      <td>1010.000000</td>\n",
              "      <td>1022.000000</td>\n",
              "      <td>1020.000000</td>\n",
              "      <td>1020.000000</td>\n",
              "      <td>1022.000000</td>\n",
              "      <td>1023.000000</td>\n",
              "      <td>1020.000000</td>\n",
              "    </tr>\n",
              "  </tbody>\n",
              "</table>\n",
              "<p>8 rows × 150 columns</p>\n",
              "</div>"
            ],
            "text/plain": [
              "                 0            1            2            3            4  \\\n",
              "count   345.000000   345.000000   345.000000   345.000000   345.000000   \n",
              "mean    458.255072   494.710145   484.026087   475.866667   472.678261   \n",
              "std     296.208412   299.291581   303.130339   283.205888   297.278847   \n",
              "min       0.000000     3.000000     2.000000     2.000000     0.000000   \n",
              "25%     213.000000   227.000000   215.000000   249.000000   221.000000   \n",
              "50%     401.000000   487.000000   457.000000   448.000000   460.000000   \n",
              "75%     712.000000   747.000000   751.000000   717.000000   706.000000   \n",
              "max    1017.000000  1022.000000  1022.000000  1018.000000  1022.000000   \n",
              "\n",
              "                 5            6            7            8            9  ...  \\\n",
              "count   345.000000   345.000000   345.000000   345.000000   345.000000  ...   \n",
              "mean    492.452174   507.875362   503.353623   462.205797   481.762319  ...   \n",
              "std     311.449562   299.800164   299.368312   275.042937   297.623750  ...   \n",
              "min       0.000000     2.000000     4.000000     6.000000     1.000000  ...   \n",
              "25%     213.000000   225.000000   234.000000   238.000000   225.000000  ...   \n",
              "50%     476.000000   530.000000   485.000000   447.000000   457.000000  ...   \n",
              "75%     766.000000   767.000000   764.000000   660.000000   754.000000  ...   \n",
              "max    1021.000000  1021.000000  1022.000000  1021.000000  1018.000000  ...   \n",
              "\n",
              "               140          141          142          143          144  \\\n",
              "count   345.000000   345.000000   345.000000   345.000000   345.000000   \n",
              "mean    487.724638   502.788406   497.344928   497.927536   488.417391   \n",
              "std     300.850378   294.452357   296.600359   291.435826   293.011697   \n",
              "min       0.000000     1.000000     1.000000     5.000000     0.000000   \n",
              "25%     214.000000   247.000000   217.000000   240.000000   255.000000   \n",
              "50%     460.000000   494.000000   474.000000   510.000000   467.000000   \n",
              "75%     761.000000   772.000000   763.000000   758.000000   733.000000   \n",
              "max    1023.000000  1023.000000  1022.000000  1010.000000  1022.000000   \n",
              "\n",
              "               145          146          147          148          149  \n",
              "count   345.000000   345.000000   345.000000   345.000000   345.000000  \n",
              "mean    478.913043   476.347826   501.742029   488.246377   474.527536  \n",
              "std     291.314440   299.361327   290.152777   288.541431   289.287035  \n",
              "min       4.000000     6.000000     0.000000     0.000000     2.000000  \n",
              "25%     226.000000   220.000000   253.000000   236.000000   199.000000  \n",
              "50%     457.000000   457.000000   482.000000   473.000000   483.000000  \n",
              "75%     725.000000   727.000000   758.000000   725.000000   712.000000  \n",
              "max    1020.000000  1020.000000  1022.000000  1023.000000  1020.000000  \n",
              "\n",
              "[8 rows x 150 columns]"
            ]
          },
          "metadata": {
            "tags": []
          },
          "execution_count": 44
        }
      ]
    },
    {
      "metadata": {
        "id": "_y-ZRy4O0pgR",
        "colab_type": "code",
        "colab": {}
      },
      "cell_type": "code",
      "source": [
        "# Drop Nans\n",
        "df=df.dropna()"
      ],
      "execution_count": 0,
      "outputs": []
    },
    {
      "metadata": {
        "id": "-hanMPUe4vRC",
        "colab_type": "code",
        "outputId": "20295e14-c84a-4dd0-c004-5bc86c71450a",
        "colab": {
          "base_uri": "https://localhost:8080/",
          "height": 388
        }
      },
      "cell_type": "code",
      "source": [
        "#Checking Output\n",
        "df.head(10)\n"
      ],
      "execution_count": 0,
      "outputs": [
        {
          "output_type": "execute_result",
          "data": {
            "text/html": [
              "<div>\n",
              "<style scoped>\n",
              "    .dataframe tbody tr th:only-of-type {\n",
              "        vertical-align: middle;\n",
              "    }\n",
              "\n",
              "    .dataframe tbody tr th {\n",
              "        vertical-align: top;\n",
              "    }\n",
              "\n",
              "    .dataframe thead th {\n",
              "        text-align: right;\n",
              "    }\n",
              "</style>\n",
              "<table border=\"1\" class=\"dataframe\">\n",
              "  <thead>\n",
              "    <tr style=\"text-align: right;\">\n",
              "      <th></th>\n",
              "      <th>0</th>\n",
              "      <th>1</th>\n",
              "      <th>2</th>\n",
              "      <th>3</th>\n",
              "      <th>4</th>\n",
              "      <th>5</th>\n",
              "      <th>6</th>\n",
              "      <th>7</th>\n",
              "      <th>8</th>\n",
              "      <th>9</th>\n",
              "      <th>...</th>\n",
              "      <th>140</th>\n",
              "      <th>141</th>\n",
              "      <th>142</th>\n",
              "      <th>143</th>\n",
              "      <th>144</th>\n",
              "      <th>145</th>\n",
              "      <th>146</th>\n",
              "      <th>147</th>\n",
              "      <th>148</th>\n",
              "      <th>149</th>\n",
              "    </tr>\n",
              "  </thead>\n",
              "  <tbody>\n",
              "    <tr>\n",
              "      <th>0</th>\n",
              "      <td>405</td>\n",
              "      <td>65</td>\n",
              "      <td>249</td>\n",
              "      <td>489</td>\n",
              "      <td>455</td>\n",
              "      <td>114</td>\n",
              "      <td>403</td>\n",
              "      <td>193</td>\n",
              "      <td>369</td>\n",
              "      <td>66</td>\n",
              "      <td>...</td>\n",
              "      <td>114</td>\n",
              "      <td>425</td>\n",
              "      <td>241</td>\n",
              "      <td>497</td>\n",
              "      <td>1</td>\n",
              "      <td>55</td>\n",
              "      <td>768</td>\n",
              "      <td>403</td>\n",
              "      <td>449</td>\n",
              "      <td>117</td>\n",
              "    </tr>\n",
              "    <tr>\n",
              "      <th>1</th>\n",
              "      <td>799</td>\n",
              "      <td>830</td>\n",
              "      <td>143</td>\n",
              "      <td>131</td>\n",
              "      <td>4</td>\n",
              "      <td>271</td>\n",
              "      <td>559</td>\n",
              "      <td>642</td>\n",
              "      <td>107</td>\n",
              "      <td>275</td>\n",
              "      <td>...</td>\n",
              "      <td>427</td>\n",
              "      <td>364</td>\n",
              "      <td>584</td>\n",
              "      <td>799</td>\n",
              "      <td>798</td>\n",
              "      <td>275</td>\n",
              "      <td>591</td>\n",
              "      <td>271</td>\n",
              "      <td>159</td>\n",
              "      <td>643</td>\n",
              "    </tr>\n",
              "    <tr>\n",
              "      <th>2</th>\n",
              "      <td>935</td>\n",
              "      <td>671</td>\n",
              "      <td>723</td>\n",
              "      <td>671</td>\n",
              "      <td>575</td>\n",
              "      <td>630</td>\n",
              "      <td>647</td>\n",
              "      <td>775</td>\n",
              "      <td>983</td>\n",
              "      <td>915</td>\n",
              "      <td>...</td>\n",
              "      <td>779</td>\n",
              "      <td>7</td>\n",
              "      <td>787</td>\n",
              "      <td>999</td>\n",
              "      <td>743</td>\n",
              "      <td>230</td>\n",
              "      <td>935</td>\n",
              "      <td>819</td>\n",
              "      <td>798</td>\n",
              "      <td>807</td>\n",
              "    </tr>\n",
              "    <tr>\n",
              "      <th>3</th>\n",
              "      <td>213</td>\n",
              "      <td>197</td>\n",
              "      <td>140</td>\n",
              "      <td>213</td>\n",
              "      <td>4</td>\n",
              "      <td>503</td>\n",
              "      <td>7</td>\n",
              "      <td>387</td>\n",
              "      <td>964</td>\n",
              "      <td>3</td>\n",
              "      <td>...</td>\n",
              "      <td>709</td>\n",
              "      <td>165</td>\n",
              "      <td>9</td>\n",
              "      <td>471</td>\n",
              "      <td>401</td>\n",
              "      <td>421</td>\n",
              "      <td>390</td>\n",
              "      <td>453</td>\n",
              "      <td>197</td>\n",
              "      <td>76</td>\n",
              "    </tr>\n",
              "    <tr>\n",
              "      <th>4</th>\n",
              "      <td>287</td>\n",
              "      <td>217</td>\n",
              "      <td>345</td>\n",
              "      <td>255</td>\n",
              "      <td>799</td>\n",
              "      <td>247</td>\n",
              "      <td>735</td>\n",
              "      <td>286</td>\n",
              "      <td>743</td>\n",
              "      <td>171</td>\n",
              "      <td>...</td>\n",
              "      <td>35</td>\n",
              "      <td>155</td>\n",
              "      <td>223</td>\n",
              "      <td>287</td>\n",
              "      <td>775</td>\n",
              "      <td>287</td>\n",
              "      <td>283</td>\n",
              "      <td>303</td>\n",
              "      <td>227</td>\n",
              "      <td>33</td>\n",
              "    </tr>\n",
              "    <tr>\n",
              "      <th>5</th>\n",
              "      <td>898</td>\n",
              "      <td>648</td>\n",
              "      <td>451</td>\n",
              "      <td>90</td>\n",
              "      <td>905</td>\n",
              "      <td>922</td>\n",
              "      <td>1021</td>\n",
              "      <td>899</td>\n",
              "      <td>990</td>\n",
              "      <td>630</td>\n",
              "      <td>...</td>\n",
              "      <td>931</td>\n",
              "      <td>962</td>\n",
              "      <td>922</td>\n",
              "      <td>39</td>\n",
              "      <td>966</td>\n",
              "      <td>903</td>\n",
              "      <td>968</td>\n",
              "      <td>963</td>\n",
              "      <td>962</td>\n",
              "      <td>626</td>\n",
              "    </tr>\n",
              "    <tr>\n",
              "      <th>6</th>\n",
              "      <td>970</td>\n",
              "      <td>64</td>\n",
              "      <td>872</td>\n",
              "      <td>804</td>\n",
              "      <td>593</td>\n",
              "      <td>791</td>\n",
              "      <td>809</td>\n",
              "      <td>292</td>\n",
              "      <td>731</td>\n",
              "      <td>810</td>\n",
              "      <td>...</td>\n",
              "      <td>868</td>\n",
              "      <td>792</td>\n",
              "      <td>798</td>\n",
              "      <td>672</td>\n",
              "      <td>0</td>\n",
              "      <td>577</td>\n",
              "      <td>843</td>\n",
              "      <td>852</td>\n",
              "      <td>720</td>\n",
              "      <td>790</td>\n",
              "    </tr>\n",
              "    <tr>\n",
              "      <th>7</th>\n",
              "      <td>662</td>\n",
              "      <td>647</td>\n",
              "      <td>279</td>\n",
              "      <td>400</td>\n",
              "      <td>641</td>\n",
              "      <td>918</td>\n",
              "      <td>926</td>\n",
              "      <td>382</td>\n",
              "      <td>550</td>\n",
              "      <td>871</td>\n",
              "      <td>...</td>\n",
              "      <td>540</td>\n",
              "      <td>88</td>\n",
              "      <td>743</td>\n",
              "      <td>65</td>\n",
              "      <td>600</td>\n",
              "      <td>658</td>\n",
              "      <td>669</td>\n",
              "      <td>487</td>\n",
              "      <td>294</td>\n",
              "      <td>668</td>\n",
              "    </tr>\n",
              "    <tr>\n",
              "      <th>8</th>\n",
              "      <td>325</td>\n",
              "      <td>260</td>\n",
              "      <td>71</td>\n",
              "      <td>870</td>\n",
              "      <td>487</td>\n",
              "      <td>499</td>\n",
              "      <td>885</td>\n",
              "      <td>991</td>\n",
              "      <td>473</td>\n",
              "      <td>369</td>\n",
              "      <td>...</td>\n",
              "      <td>4</td>\n",
              "      <td>504</td>\n",
              "      <td>793</td>\n",
              "      <td>375</td>\n",
              "      <td>328</td>\n",
              "      <td>95</td>\n",
              "      <td>615</td>\n",
              "      <td>665</td>\n",
              "      <td>725</td>\n",
              "      <td>359</td>\n",
              "    </tr>\n",
              "    <tr>\n",
              "      <th>9</th>\n",
              "      <td>335</td>\n",
              "      <td>264</td>\n",
              "      <td>664</td>\n",
              "      <td>37</td>\n",
              "      <td>501</td>\n",
              "      <td>266</td>\n",
              "      <td>329</td>\n",
              "      <td>160</td>\n",
              "      <td>406</td>\n",
              "      <td>277</td>\n",
              "      <td>...</td>\n",
              "      <td>256</td>\n",
              "      <td>257</td>\n",
              "      <td>165</td>\n",
              "      <td>776</td>\n",
              "      <td>257</td>\n",
              "      <td>257</td>\n",
              "      <td>388</td>\n",
              "      <td>522</td>\n",
              "      <td>365</td>\n",
              "      <td>236</td>\n",
              "    </tr>\n",
              "  </tbody>\n",
              "</table>\n",
              "<p>10 rows × 150 columns</p>\n",
              "</div>"
            ],
            "text/plain": [
              "   0    1    2    3    4    5     6    7    8    9    ...  140  141  142  143  \\\n",
              "0  405   65  249  489  455  114   403  193  369   66  ...  114  425  241  497   \n",
              "1  799  830  143  131    4  271   559  642  107  275  ...  427  364  584  799   \n",
              "2  935  671  723  671  575  630   647  775  983  915  ...  779    7  787  999   \n",
              "3  213  197  140  213    4  503     7  387  964    3  ...  709  165    9  471   \n",
              "4  287  217  345  255  799  247   735  286  743  171  ...   35  155  223  287   \n",
              "5  898  648  451   90  905  922  1021  899  990  630  ...  931  962  922   39   \n",
              "6  970   64  872  804  593  791   809  292  731  810  ...  868  792  798  672   \n",
              "7  662  647  279  400  641  918   926  382  550  871  ...  540   88  743   65   \n",
              "8  325  260   71  870  487  499   885  991  473  369  ...    4  504  793  375   \n",
              "9  335  264  664   37  501  266   329  160  406  277  ...  256  257  165  776   \n",
              "\n",
              "   144  145  146  147  148  149  \n",
              "0    1   55  768  403  449  117  \n",
              "1  798  275  591  271  159  643  \n",
              "2  743  230  935  819  798  807  \n",
              "3  401  421  390  453  197   76  \n",
              "4  775  287  283  303  227   33  \n",
              "5  966  903  968  963  962  626  \n",
              "6    0  577  843  852  720  790  \n",
              "7  600  658  669  487  294  668  \n",
              "8  328   95  615  665  725  359  \n",
              "9  257  257  388  522  365  236  \n",
              "\n",
              "[10 rows x 150 columns]"
            ]
          },
          "metadata": {
            "tags": []
          },
          "execution_count": 6
        }
      ]
    },
    {
      "metadata": {
        "id": "cGkJAFjDKd-o",
        "colab_type": "code",
        "colab": {}
      },
      "cell_type": "code",
      "source": [
        "# Taking my first random sample of data since the set is too large\n",
        "sample1 = df.sample(n=300, random_state=1)"
      ],
      "execution_count": 0,
      "outputs": []
    },
    {
      "metadata": {
        "id": "lvG9vYm40PX6",
        "colab_type": "code",
        "outputId": "163d5bf9-92b7-4c67-87f8-6ee7ad3d73fb",
        "colab": {
          "base_uri": "https://localhost:8080/",
          "height": 34
        }
      },
      "cell_type": "code",
      "source": [
        "# Checking shape of sample to make sure it is correct\n",
        "sample1.shape"
      ],
      "execution_count": 0,
      "outputs": [
        {
          "output_type": "execute_result",
          "data": {
            "text/plain": [
              "(300, 150)"
            ]
          },
          "metadata": {
            "tags": []
          },
          "execution_count": 45
        }
      ]
    },
    {
      "metadata": {
        "id": "MCOZ6p69Xjdo",
        "colab_type": "code",
        "colab": {}
      },
      "cell_type": "code",
      "source": [
        "#Bringing in Numpy for some calculations\n",
        "import numpy as np"
      ],
      "execution_count": 0,
      "outputs": []
    },
    {
      "metadata": {
        "id": "yUs_t2A13C8f",
        "colab_type": "code",
        "colab": {}
      },
      "cell_type": "code",
      "source": [
        "#casting my columns to string\n",
        "df.columns=df.columns.astype(str)"
      ],
      "execution_count": 0,
      "outputs": []
    },
    {
      "metadata": {
        "id": "ZtWaISMb3WBg",
        "colab_type": "code",
        "colab": {}
      },
      "cell_type": "code",
      "source": [
        "#freq_count(sample1_array) Trying to get a binomial count of how many non-unique values\n",
        "count=[]\n",
        "\n",
        "for x in df.columns:\n",
        "  count.append((np.bincount((df['{}'.format(x)]))))\n",
        "\n",
        "# () Tuples or Function calls\n",
        "# [] Lists or arrays or series, mutable\n",
        "# {} format place holder in string or dictionary"
      ],
      "execution_count": 0,
      "outputs": []
    },
    {
      "metadata": {
        "id": "4jYSfxQJawOp",
        "colab_type": "code",
        "colab": {}
      },
      "cell_type": "code",
      "source": [
        "#importing seaborn for data visualitzations\n",
        "import seaborn as sns\n",
        "import matplotlib.pyplot as plt"
      ],
      "execution_count": 0,
      "outputs": []
    },
    {
      "metadata": {
        "id": "T6jPtukoIjOb",
        "colab_type": "code",
        "outputId": "f33cc540-0c68-4c45-ca4b-b0b10a5026d9",
        "colab": {
          "base_uri": "https://localhost:8080/",
          "height": 340
        }
      },
      "cell_type": "code",
      "source": [
        "# This is a plot of the denisty of the entangled fermions using the whole dataset\n",
        "sns.kdeplot(data=df, shade=True, cbar=True, cmap='mako' )\n"
      ],
      "execution_count": 0,
      "outputs": [
        {
          "output_type": "stream",
          "text": [
            "/usr/local/lib/python3.6/dist-packages/seaborn/distributions.py:679: UserWarning: Passing a 2D dataset for a bivariate plot is deprecated in favor of kdeplot(x, y), and it will cause an error in future versions. Please update your code.\n",
            "  warnings.warn(warn_msg, UserWarning)\n"
          ],
          "name": "stderr"
        },
        {
          "output_type": "execute_result",
          "data": {
            "text/plain": [
              "<matplotlib.axes._subplots.AxesSubplot at 0x7f57553c2c50>"
            ]
          },
          "metadata": {
            "tags": []
          },
          "execution_count": 15
        },
        {
          "output_type": "display_data",
          "data": {
            "image/png": "[encoded data removed]",
            "text/plain": [
              "<Figure size 432x288 with 2 Axes>"
            ]
          },
          "metadata": {
            "tags": []
          }
        }
      ]
    },
    {
      "metadata": {
        "id": "ZaNrqfRWZbBX",
        "colab_type": "code",
        "colab": {}
      },
      "cell_type": "code",
      "source": [
        "#checking dtypes of sample population to confirm integers to pass into random\n",
        "sample1.dtypes"
      ],
      "execution_count": 0,
      "outputs": []
    },
    {
      "metadata": {
        "id": "RDmasjNN6Wi_",
        "colab_type": "code",
        "colab": {}
      },
      "cell_type": "code",
      "source": [
        "# Just resetting my index\n",
        "sample1.reset_index(inplace=True)"
      ],
      "execution_count": 0,
      "outputs": []
    },
    {
      "metadata": {
        "id": "UpG2g_hlZzCi",
        "colab_type": "code",
        "outputId": "3d5efd82-6e6c-4f5b-8d10-417fdbe15edd",
        "colab": {
          "base_uri": "https://localhost:8080/",
          "height": 388
        }
      },
      "cell_type": "code",
      "source": [
        "# Checking to make sure index reset\n",
        "sample1.head(10)"
      ],
      "execution_count": 0,
      "outputs": [
        {
          "output_type": "execute_result",
          "data": {
            "text/html": [
              "<div>\n",
              "<style scoped>\n",
              "    .dataframe tbody tr th:only-of-type {\n",
              "        vertical-align: middle;\n",
              "    }\n",
              "\n",
              "    .dataframe tbody tr th {\n",
              "        vertical-align: top;\n",
              "    }\n",
              "\n",
              "    .dataframe thead th {\n",
              "        text-align: right;\n",
              "    }\n",
              "</style>\n",
              "<table border=\"1\" class=\"dataframe\">\n",
              "  <thead>\n",
              "    <tr style=\"text-align: right;\">\n",
              "      <th></th>\n",
              "      <th>index</th>\n",
              "      <th>0</th>\n",
              "      <th>1</th>\n",
              "      <th>2</th>\n",
              "      <th>3</th>\n",
              "      <th>4</th>\n",
              "      <th>5</th>\n",
              "      <th>6</th>\n",
              "      <th>7</th>\n",
              "      <th>8</th>\n",
              "      <th>...</th>\n",
              "      <th>140</th>\n",
              "      <th>141</th>\n",
              "      <th>142</th>\n",
              "      <th>143</th>\n",
              "      <th>144</th>\n",
              "      <th>145</th>\n",
              "      <th>146</th>\n",
              "      <th>147</th>\n",
              "      <th>148</th>\n",
              "      <th>149</th>\n",
              "    </tr>\n",
              "  </thead>\n",
              "  <tbody>\n",
              "    <tr>\n",
              "      <th>0</th>\n",
              "      <td>307</td>\n",
              "      <td>906</td>\n",
              "      <td>789</td>\n",
              "      <td>970</td>\n",
              "      <td>537</td>\n",
              "      <td>917</td>\n",
              "      <td>970</td>\n",
              "      <td>714</td>\n",
              "      <td>1022</td>\n",
              "      <td>110</td>\n",
              "      <td>...</td>\n",
              "      <td>578</td>\n",
              "      <td>795</td>\n",
              "      <td>730</td>\n",
              "      <td>601</td>\n",
              "      <td>967</td>\n",
              "      <td>584</td>\n",
              "      <td>580</td>\n",
              "      <td>970</td>\n",
              "      <td>61</td>\n",
              "      <td>594</td>\n",
              "    </tr>\n",
              "    <tr>\n",
              "      <th>1</th>\n",
              "      <td>342</td>\n",
              "      <td>163</td>\n",
              "      <td>289</td>\n",
              "      <td>331</td>\n",
              "      <td>323</td>\n",
              "      <td>803</td>\n",
              "      <td>865</td>\n",
              "      <td>444</td>\n",
              "      <td>771</td>\n",
              "      <td>801</td>\n",
              "      <td>...</td>\n",
              "      <td>67</td>\n",
              "      <td>803</td>\n",
              "      <td>947</td>\n",
              "      <td>917</td>\n",
              "      <td>837</td>\n",
              "      <td>401</td>\n",
              "      <td>867</td>\n",
              "      <td>35</td>\n",
              "      <td>137</td>\n",
              "      <td>98</td>\n",
              "    </tr>\n",
              "    <tr>\n",
              "      <th>2</th>\n",
              "      <td>292</td>\n",
              "      <td>4</td>\n",
              "      <td>450</td>\n",
              "      <td>56</td>\n",
              "      <td>448</td>\n",
              "      <td>312</td>\n",
              "      <td>951</td>\n",
              "      <td>32</td>\n",
              "      <td>856</td>\n",
              "      <td>67</td>\n",
              "      <td>...</td>\n",
              "      <td>150</td>\n",
              "      <td>32</td>\n",
              "      <td>168</td>\n",
              "      <td>32</td>\n",
              "      <td>393</td>\n",
              "      <td>64</td>\n",
              "      <td>39</td>\n",
              "      <td>64</td>\n",
              "      <td>322</td>\n",
              "      <td>328</td>\n",
              "    </tr>\n",
              "    <tr>\n",
              "      <th>3</th>\n",
              "      <td>102</td>\n",
              "      <td>924</td>\n",
              "      <td>589</td>\n",
              "      <td>909</td>\n",
              "      <td>541</td>\n",
              "      <td>621</td>\n",
              "      <td>774</td>\n",
              "      <td>406</td>\n",
              "      <td>911</td>\n",
              "      <td>412</td>\n",
              "      <td>...</td>\n",
              "      <td>909</td>\n",
              "      <td>918</td>\n",
              "      <td>653</td>\n",
              "      <td>974</td>\n",
              "      <td>527</td>\n",
              "      <td>595</td>\n",
              "      <td>591</td>\n",
              "      <td>671</td>\n",
              "      <td>646</td>\n",
              "      <td>943</td>\n",
              "    </tr>\n",
              "    <tr>\n",
              "      <th>4</th>\n",
              "      <td>294</td>\n",
              "      <td>179</td>\n",
              "      <td>596</td>\n",
              "      <td>603</td>\n",
              "      <td>607</td>\n",
              "      <td>667</td>\n",
              "      <td>213</td>\n",
              "      <td>767</td>\n",
              "      <td>471</td>\n",
              "      <td>868</td>\n",
              "      <td>...</td>\n",
              "      <td>871</td>\n",
              "      <td>173</td>\n",
              "      <td>741</td>\n",
              "      <td>759</td>\n",
              "      <td>4</td>\n",
              "      <td>743</td>\n",
              "      <td>509</td>\n",
              "      <td>725</td>\n",
              "      <td>23</td>\n",
              "      <td>727</td>\n",
              "    </tr>\n",
              "    <tr>\n",
              "      <th>5</th>\n",
              "      <td>268</td>\n",
              "      <td>51</td>\n",
              "      <td>813</td>\n",
              "      <td>2</td>\n",
              "      <td>3</td>\n",
              "      <td>3</td>\n",
              "      <td>75</td>\n",
              "      <td>153</td>\n",
              "      <td>191</td>\n",
              "      <td>665</td>\n",
              "      <td>...</td>\n",
              "      <td>316</td>\n",
              "      <td>225</td>\n",
              "      <td>58</td>\n",
              "      <td>803</td>\n",
              "      <td>252</td>\n",
              "      <td>92</td>\n",
              "      <td>546</td>\n",
              "      <td>603</td>\n",
              "      <td>555</td>\n",
              "      <td>182</td>\n",
              "    </tr>\n",
              "    <tr>\n",
              "      <th>6</th>\n",
              "      <td>125</td>\n",
              "      <td>126</td>\n",
              "      <td>227</td>\n",
              "      <td>598</td>\n",
              "      <td>737</td>\n",
              "      <td>706</td>\n",
              "      <td>627</td>\n",
              "      <td>738</td>\n",
              "      <td>626</td>\n",
              "      <td>447</td>\n",
              "      <td>...</td>\n",
              "      <td>136</td>\n",
              "      <td>81</td>\n",
              "      <td>127</td>\n",
              "      <td>557</td>\n",
              "      <td>2</td>\n",
              "      <td>361</td>\n",
              "      <td>50</td>\n",
              "      <td>214</td>\n",
              "      <td>206</td>\n",
              "      <td>871</td>\n",
              "    </tr>\n",
              "    <tr>\n",
              "      <th>7</th>\n",
              "      <td>11</td>\n",
              "      <td>96</td>\n",
              "      <td>594</td>\n",
              "      <td>172</td>\n",
              "      <td>524</td>\n",
              "      <td>62</td>\n",
              "      <td>173</td>\n",
              "      <td>653</td>\n",
              "      <td>398</td>\n",
              "      <td>354</td>\n",
              "      <td>...</td>\n",
              "      <td>156</td>\n",
              "      <td>210</td>\n",
              "      <td>510</td>\n",
              "      <td>145</td>\n",
              "      <td>428</td>\n",
              "      <td>405</td>\n",
              "      <td>220</td>\n",
              "      <td>510</td>\n",
              "      <td>595</td>\n",
              "      <td>338</td>\n",
              "    </tr>\n",
              "    <tr>\n",
              "      <th>8</th>\n",
              "      <td>146</td>\n",
              "      <td>240</td>\n",
              "      <td>228</td>\n",
              "      <td>233</td>\n",
              "      <td>102</td>\n",
              "      <td>464</td>\n",
              "      <td>150</td>\n",
              "      <td>54</td>\n",
              "      <td>960</td>\n",
              "      <td>480</td>\n",
              "      <td>...</td>\n",
              "      <td>214</td>\n",
              "      <td>859</td>\n",
              "      <td>344</td>\n",
              "      <td>784</td>\n",
              "      <td>480</td>\n",
              "      <td>216</td>\n",
              "      <td>280</td>\n",
              "      <td>1022</td>\n",
              "      <td>118</td>\n",
              "      <td>369</td>\n",
              "    </tr>\n",
              "    <tr>\n",
              "      <th>9</th>\n",
              "      <td>229</td>\n",
              "      <td>574</td>\n",
              "      <td>334</td>\n",
              "      <td>303</td>\n",
              "      <td>67</td>\n",
              "      <td>374</td>\n",
              "      <td>373</td>\n",
              "      <td>359</td>\n",
              "      <td>895</td>\n",
              "      <td>621</td>\n",
              "      <td>...</td>\n",
              "      <td>579</td>\n",
              "      <td>574</td>\n",
              "      <td>703</td>\n",
              "      <td>558</td>\n",
              "      <td>104</td>\n",
              "      <td>367</td>\n",
              "      <td>447</td>\n",
              "      <td>191</td>\n",
              "      <td>319</td>\n",
              "      <td>439</td>\n",
              "    </tr>\n",
              "  </tbody>\n",
              "</table>\n",
              "<p>10 rows × 151 columns</p>\n",
              "</div>"
            ],
            "text/plain": [
              "   index    0    1    2    3    4    5    6     7    8  ...  140  141  142  \\\n",
              "0    307  906  789  970  537  917  970  714  1022  110  ...  578  795  730   \n",
              "1    342  163  289  331  323  803  865  444   771  801  ...   67  803  947   \n",
              "2    292    4  450   56  448  312  951   32   856   67  ...  150   32  168   \n",
              "3    102  924  589  909  541  621  774  406   911  412  ...  909  918  653   \n",
              "4    294  179  596  603  607  667  213  767   471  868  ...  871  173  741   \n",
              "5    268   51  813    2    3    3   75  153   191  665  ...  316  225   58   \n",
              "6    125  126  227  598  737  706  627  738   626  447  ...  136   81  127   \n",
              "7     11   96  594  172  524   62  173  653   398  354  ...  156  210  510   \n",
              "8    146  240  228  233  102  464  150   54   960  480  ...  214  859  344   \n",
              "9    229  574  334  303   67  374  373  359   895  621  ...  579  574  703   \n",
              "\n",
              "   143  144  145  146   147  148  149  \n",
              "0  601  967  584  580   970   61  594  \n",
              "1  917  837  401  867    35  137   98  \n",
              "2   32  393   64   39    64  322  328  \n",
              "3  974  527  595  591   671  646  943  \n",
              "4  759    4  743  509   725   23  727  \n",
              "5  803  252   92  546   603  555  182  \n",
              "6  557    2  361   50   214  206  871  \n",
              "7  145  428  405  220   510  595  338  \n",
              "8  784  480  216  280  1022  118  369  \n",
              "9  558  104  367  447   191  319  439  \n",
              "\n",
              "[10 rows x 151 columns]"
            ]
          },
          "metadata": {
            "tags": []
          },
          "execution_count": 28
        }
      ]
    },
    {
      "metadata": {
        "id": "KP1q371gbG2C",
        "colab_type": "code",
        "colab": {}
      },
      "cell_type": "code",
      "source": [
        "# Defininf a random generator\n",
        "def pop_random(lst):\n",
        "    idx = random.randrange(0, len(lst))\n",
        "    return lst.pop(idx)"
      ],
      "execution_count": 0,
      "outputs": []
    },
    {
      "metadata": {
        "id": "bCL77wszbrAW",
        "colab_type": "code",
        "colab": {}
      },
      "cell_type": "code",
      "source": [
        "# Setting up random sampling with my df\n",
        "import random\n",
        "import itertools\n",
        "\n",
        "def get_random_pairs(numbers):\n",
        "  # Generate all possible non-repeating pairs\n",
        "  pairs = list(itertools.combinations(numbers, 2))\n",
        "\n",
        "  # Randomly shuffle these pairs\n",
        "  random.shuffle(pairs)\n",
        "  return pairs"
      ],
      "execution_count": 0,
      "outputs": []
    },
    {
      "metadata": {
        "id": "JGYOWI-OcCh0",
        "colab_type": "code",
        "outputId": "5da173f2-78f2-47d7-ce34-35c19b39a1b8",
        "colab": {
          "base_uri": "https://localhost:8080/",
          "height": 54
        }
      },
      "cell_type": "code",
      "source": [
        "#Generate Random Pairs\n",
        "print(get_random_pairs(np.arange(0,150)))"
      ],
      "execution_count": 0,
      "outputs": [
        {
          "output_type": "stream",
          "text": [
            "[(8, 86), (107, 117), (5, 106), (48, 113), (42, 61), (69, 114), (122, 126), (144, 149), (15, 34), (49, 112), (43, 114), (29, 88), (26, 111), (58, 110), (58, 117), (51, 103), (4, 91), (14, 116), (99, 149), (15, 141), (22, 131), (63, 111), (89, 107), (47, 53), (34, 129), (31, 145), (58, 94), (69, 70), (12, 29), (79, 106), (56, 61), (75, 111), (29, 63), (15, 145), (90, 106), (26, 102), (74, 131), (7, 62), (83, 132), (99, 147), (66, 107), (36, 79), (122, 146), (8, 62), (2, 19), (88, 141), (92, 139), (87, 101), (30, 121), (37, 127), (13, 145), (4, 105), (14, 65), (63, 117), (77, 98), (70, 107), (5, 16), (80, 83), (85, 133), (46, 72), (6, 135), (32, 41), (48, 71), (1, 133), (26, 138), (86, 105), (98, 144), (70, 126), (19, 38), (89, 113), (103, 148), (32, 136), (126, 136), (88, 90), (56, 84), (10, 45), (3, 33), (7, 138), (1, 74), (49, 135), (7, 17), (104, 135), (78, 113), (37, 109), (72, 81), (18, 69), (88, 110), (67, 120), (55, 141), (94, 136), (136, 141), (139, 142), (49, 138), (22, 87), (13, 62), (97, 139), (44, 54), (7, 132), (67, 92), (35, 148), (51, 65), (6, 83), (22, 126), (61, 97), (79, 92), (37, 128), (13, 71), (18, 60), (19, 104), (39, 92), (56, 76), (52, 72), (4, 106), (0, 55), (49, 67), (102, 130), (23, 111), (119, 140), (7, 30), (55, 106), (90, 148), (17, 119), (10, 64), (22, 134), (130, 134), (8, 41), (46, 136), (19, 87), (33, 130), (46, 67), (44, 59), (6, 38), (32, 44), (63, 79), (11, 133), (61, 102), (7, 88), (100, 140), (65, 89), (75, 117), (17, 78), (142, 144), (121, 130), (40, 103), (29, 134), (38, 50), (50, 110), (47, 69), (58, 122), (31, 133), (32, 133), (21, 111), (44, 136), (4, 54), (127, 142), (39, 60), (35, 75), (114, 132), (66, 134), (48, 136), (45, 113), (24, 58), (29, 101), (86, 99), (9, 115), (79, 127), (20, 140), (24, 97), (79, 93), (129, 140), (117, 129), (70, 141), (18, 131), (16, 49), (2, 133), (49, 103), (116, 117), (98, 106), (19, 75), (26, 52), (30, 134), (51, 100), (55, 84), (3, 123), (60, 82), (23, 98), (25, 112), (10, 79), (2, 129), (100, 128), (50, 83), (2, 71), (33, 73), (6, 76), (59, 64), (38, 106), (131, 149), (42, 55), (45, 120), (50, 75), (108, 122), (28, 75), (54, 117), (37, 148), (11, 137), (2, 34), (134, 139), (16, 36), (96, 122), (38, 53), (9, 20), (18, 75), (71, 84), (34, 110), (22, 72), (89, 148), (38, 136), (5, 91), (77, 124), (2, 143), (106, 147), (9, 85), (142, 143), (51, 120), (24, 136), (78, 139), (38, 109), (5, 22), (3, 5), (81, 97), (16, 148), (5, 108), (42, 115), (35, 104), (25, 67), (4, 67), (134, 138), (51, 130), (16, 28), (7, 100), (145, 149), (85, 108), (136, 143), (29, 120), (65, 134), (77, 97), (17, 92), (105, 137), (5, 119), (131, 133), (111, 115), (54, 144), (85, 145), (28, 135), (31, 51), (30, 125), (14, 92), (36, 83), (9, 58), (44, 148), (29, 64), (0, 5), (78, 111), (50, 123), (46, 83), (19, 33), (33, 46), (55, 65), (35, 65), (81, 139), (25, 45), (41, 118), (60, 132), (3, 84), (16, 23), (40, 60), (130, 147), (55, 114), (6, 102), (60, 65), (15, 57), (62, 134), (13, 69), (4, 15), (33, 43), (19, 66), (89, 96), (86, 94), (4, 83), (3, 86), (23, 30), (41, 80), (46, 80), (91, 117), (100, 147), (50, 118), (30, 63), (20, 80), (58, 125), (90, 116), (84, 123), (62, 92), (56, 135), (90, 119), (96, 111), (40, 77), (12, 60), (91, 98), (18, 20), (47, 71), (7, 51), (43, 142), (17, 34), (71, 127), (91, 95), (90, 95), (47, 84), (65, 88), (119, 124), (24, 95), (16, 90), (3, 121), (64, 144), (21, 82), (22, 127), (55, 88), (58, 74), (36, 148), (103, 118), (80, 103), (70, 145), (6, 40), (11, 72), (48, 129), (63, 86), (60, 103), (59, 145), (127, 146), (93, 119), (25, 46), (40, 50), (14, 66), (34, 75), (9, 111), (66, 69), (31, 126), (109, 130), (62, 71), (40, 83), (78, 127), (59, 139), (18, 38), (8, 72), (123, 133), (6, 103), (104, 119), (9, 42), (114, 125), (6, 116), (31, 131), (1, 55), (44, 58), (91, 119), (54, 148), (8, 71), (7, 25), (29, 68), (9, 79), (0, 61), (3, 9), (39, 49), (55, 76), (0, 145), (41, 70), (22, 83), (27, 43), (48, 95), (15, 53), (37, 118), (48, 84), (1, 117), (114, 144), (112, 114), (66, 136), (56, 103), (9, 16), (70, 133), (54, 66), (58, 131), (92, 116), (3, 88), (23, 125), (36, 141), (109, 116), (106, 132), (107, 119), (39, 125), (58, 104), (129, 136), (51, 123), (10, 113), (23, 31), (101, 109), (63, 95), (57, 91), (26, 63), (29, 136), (62, 77), (49, 116), (140, 147), (10, 85), (51, 81), (48, 104), (46, 95), (20, 94), (41, 88), (80, 142), (1, 37), (24, 140), (58, 68), (17, 116), (64, 99), (2, 49), (0, 58), (52, 62), (15, 63), (50, 104), (80, 102), (71, 125), (87, 124), (0, 111), (10, 73), (16, 58), (17, 37), (85, 121), (31, 107), (41, 100), (32, 85), (129, 139), (57, 58), (15, 47), (19, 26), (20, 57), (30, 122), (113, 148), (64, 119), (12, 114), (138, 144), (57, 96), (65, 130), (7, 143), (55, 105), (53, 90), (42, 89), (102, 104), (24, 29), (51, 53), (92, 149), (11, 39), (64, 79), (28, 90), (25, 32), (58, 91), (4, 114), (111, 130), (46, 66), (72, 125), (88, 147), (39, 89), (10, 72), (37, 38), (46, 102), (38, 79), (93, 143), (57, 77), (30, 74), (118, 134), (35, 82), (88, 123), (18, 134), (81, 123), (30, 68), (37, 111), (26, 37), (50, 102), (14, 61), (36, 136), (56, 148), (126, 134), (89, 99), (113, 149), (74, 93), (55, 139), (9, 78), (94, 134), (95, 99), (28, 138), (100, 114), (34, 38), (38, 56), (40, 90), (112, 137), (45, 141), (37, 145), (17, 113), (11, 119), (67, 80), (38, 46), (46, 88), (4, 44), (57, 140), (72, 106), (10, 54), (65, 139), (78, 119), (21, 58), (102, 107), (62, 83), (67, 70), (41, 114), (101, 123), (3, 48), (73, 125), (10, 108), (19, 50), (104, 139), (8, 32), (47, 125), (122, 136), (79, 145), (23, 127), (77, 100), (80, 107), (1, 12), (7, 19), (21, 107), (129, 149), (76, 99), (21, 118), (93, 101), (79, 91), (44, 107), (9, 49), (40, 81), (80, 123), (23, 45), (5, 15), (36, 120), (0, 81), (138, 143), (94, 149), (116, 149), (76, 135), (10, 112), (49, 146), (39, 107), (13, 27), (16, 116), (32, 147), (5, 84), (17, 73), (25, 82), (1, 24), (103, 110), (79, 90), (124, 136), (68, 80), (3, 137), (87, 97), (21, 49), (81, 82), (43, 130), (34, 126), (97, 122), (25, 73), (27, 95), (34, 48), (22, 26), (16, 129), (86, 135), (58, 109), (49, 102), (55, 128), (18, 147), (61, 120), (122, 139), (69, 95), (48, 52), (84, 114), (33, 111), (45, 119), (66, 120), (31, 36), (1, 25), (0, 128), (14, 54), (95, 138), (77, 112), (119, 144), (43, 96), (29, 131), (16, 63), (125, 146), (25, 61), (63, 70), (65, 68), (7, 126), (47, 117), (112, 127), (111, 126), (100, 106), (64, 125), (33, 64), (44, 138), (20, 112), (63, 113), (109, 123), (57, 67), (108, 117), (2, 124), (18, 94), (94, 144), (43, 138), (22, 28), (122, 124), (28, 35), (9, 57), (48, 70), (56, 110), (25, 79), (80, 95), (11, 92), (52, 80), (108, 126), (27, 141), (15, 65), (65, 108), (61, 138), (64, 126), (67, 94), (78, 88), (23, 58), (5, 138), (17, 134), (19, 136), (69, 78), (76, 94), (134, 149), (6, 46), (20, 83), (10, 124), (40, 142), (62, 148), (24, 122), (37, 139), (45, 77), (4, 73), (41, 62), (20, 32), (0, 143), (4, 39), (54, 104), (10, 127), (0, 7), (97, 130), (29, 80), (50, 121), (82, 88), (68, 73), (70, 135), (74, 149), (74, 88), (27, 45), (90, 101), (92, 137), (61, 148), (1, 123), (61, 92), (30, 109), (40, 141), (17, 114), (48, 96), (87, 148), (58, 62), (20, 59), (16, 72), (1, 48), (124, 127), (88, 116), (8, 125), (8, 63), (8, 87), (23, 63), (4, 53), (121, 137), (4, 85), (143, 149), (57, 62), (10, 31), (1, 147), (45, 49), (26, 141), (57, 123), (88, 101), (22, 112), (34, 36), (51, 144), (24, 73), (62, 65), (22, 125), (54, 122), (36, 88), (11, 97), (69, 118), (54, 118), (40, 71), (68, 125), (42, 146), (72, 147), (1, 119), (33, 35), (61, 100), (43, 92), (93, 109), (75, 102), (60, 115), (38, 45), (25, 131), (36, 63), (38, 104), (37, 78), (68, 82), (36, 84), (38, 40), (123, 127), (64, 76), (30, 85), (71, 73), (8, 65), (37, 129), (60, 148), (14, 133), (90, 128), (22, 97), (56, 85), (3, 65), (82, 83), (2, 84), (106, 115), (37, 59), (7, 95), (126, 139), (11, 110), (78, 129), (77, 86), (73, 132), (17, 61), (0, 120), (124, 139), (5, 62), (35, 62), (48, 78), (11, 45), (32, 125), (14, 70), (40, 109), (11, 73), (61, 77), (42, 144), (81, 117), (58, 75), (71, 144), (23, 38), (1, 122), (33, 42), (132, 133), (41, 116), (95, 137), (42, 44), (24, 135), (11, 48), (104, 107), (60, 134), (5, 114), (78, 140), (30, 126), (79, 100), (69, 104), (83, 85), (57, 61), (5, 100), (38, 90), (99, 125), (124, 135), (49, 98), (114, 148), (0, 70), (48, 97), (62, 136), (98, 122), (9, 83), (101, 136), (51, 68), (39, 145), (117, 144), (21, 59), (28, 56), (134, 143), (68, 134), (72, 109), (10, 106), (41, 106), (1, 88), (11, 18), (50, 94), (40, 74), (34, 63), (113, 130), (60, 83), (123, 140), (66, 102), (40, 95), (32, 98), (63, 107), (12, 22), (2, 63), (9, 37), (6, 20), (20, 25), (52, 127), (85, 114), (28, 72), (55, 107), (96, 102), (59, 112), (5, 120), (14, 127), (72, 101), (63, 149), (107, 116), (9, 38), (14, 99), (28, 83), (60, 76), (12, 80), (11, 146), (82, 90), (60, 127), (33, 123), (3, 25), (138, 141), (40, 136), (51, 72), (66, 137), (66, 96), (5, 30), (21, 61), (10, 78), (134, 136), (61, 94), (30, 128), (103, 138), (26, 31), (111, 136), (38, 110), (80, 99), (93, 115), (101, 134), (53, 140), (9, 117), (16, 104), (74, 104), (81, 126), (8, 22), (100, 138), (47, 106), (123, 130), (111, 143), (35, 130), (68, 138), (78, 120), (30, 131), (50, 61), (7, 80), (95, 120), (8, 102), (0, 136), (15, 49), (8, 136), (24, 63), (16, 131), (62, 119), (14, 136), (141, 147), (37, 97), (36, 118), (101, 116), (57, 69), (74, 137), (45, 54), (54, 107), (11, 19), (58, 93), (116, 126), (95, 96), (83, 90), (26, 88), (51, 59), (34, 39), (41, 102), (34, 95), (21, 116), (25, 81), (100, 117), (3, 8), (70, 103), (44, 105), (8, 116), (54, 73), (40, 80), (5, 71), (14, 97), (36, 72), (0, 42), (5, 144), (87, 112), (83, 128), (9, 15), (79, 138), (7, 74), (13, 39), (84, 117), (69, 101), (88, 108), (58, 86), (99, 101), (32, 141), (16, 55), (5, 40), (35, 66), (19, 41), (74, 132), (37, 125), (115, 149), (69, 117), (30, 129), (59, 77), (70, 93), (73, 117), (25, 33), (11, 34), (37, 52), (112, 117), (73, 115), (54, 141), (29, 34), (30, 49), (63, 138), (19, 73), (15, 127), (32, 146), (64, 89), (26, 54), (83, 118), (102, 108), (28, 55), (49, 111), (2, 114), (142, 149), (136, 144), (13, 40), (59, 68), (23, 92), (121, 129), (18, 79), (61, 107), (96, 147), (54, 103), (38, 149), (74, 112), (13, 85), (51, 58), (39, 143), (41, 74), (24, 94), (16, 19), (14, 59), (86, 136), (75, 132), (126, 135), (14, 24), (108, 130), (1, 113), (34, 50), (134, 140), (26, 109), (2, 91), (18, 106), (76, 97), (63, 73), (6, 148), (9, 52), (93, 135), (36, 95), (12, 77), (70, 99), (12, 13), (107, 140), (26, 45), (10, 140), (15, 88), (137, 139), (30, 48), (111, 141), (8, 109), (115, 120), (27, 140), (69, 108), (26, 38), (15, 38), (0, 130), (10, 37), (70, 144), (54, 130), (17, 123), (2, 135), (15, 31), (92, 111), (74, 140), (83, 91), (74, 124), (53, 87), (112, 113), (14, 46), (21, 52), (5, 20), (101, 118), (103, 132), (46, 48), (59, 119), (58, 136), (21, 87), (2, 117), (104, 120), (16, 50), (114, 138), (2, 88), (76, 133), (8, 91), (86, 92), (73, 104), (126, 141), (109, 128), (92, 98), (1, 28), (78, 84), (17, 136), (18, 80), (116, 137), (109, 136), (123, 131), (44, 51), (37, 114), (21, 34), (21, 53), (115, 135), (13, 144), (52, 135), (13, 78), (80, 136), (37, 89), (56, 126), (29, 112), (104, 145), (10, 20), (27, 35), (22, 124), (75, 95), (127, 137), (59, 96), (62, 91), (23, 80), (13, 51), (17, 53), (42, 90), (56, 101), (28, 120), (70, 131), (102, 148), (19, 78), (91, 145), (109, 134), (91, 137), (1, 112), (104, 149), (52, 113), (5, 63), (12, 82), (22, 96), (114, 133), (18, 36), (64, 136), (95, 98), (2, 21), (46, 60), (0, 115), (80, 143), (118, 128), (90, 105), (107, 144), (0, 33), (22, 75), (119, 127), (87, 126), (109, 143), (14, 129), (3, 10), (40, 97), (122, 145), (13, 83), (102, 147), (30, 137), (106, 135), (65, 80), (8, 134), (7, 44), (33, 108), (48, 122), (4, 49), (64, 87), (73, 149), (4, 124), (40, 122), (38, 98), (15, 138), (21, 103), (119, 136), (102, 149), (6, 89), (41, 58), (62, 137), (101, 128), (94, 104), (14, 148), (76, 115), (1, 63), (5, 67), (115, 128), (1, 22), (96, 110), (27, 135), (116, 134), (89, 138), (93, 100), (25, 64), (17, 139), (92, 96), (9, 97), (10, 104), (33, 128), (60, 111), (41, 101), (40, 76), (47, 143), (99, 129), (46, 113), (82, 107), (29, 128), (55, 85), (52, 97), (130, 132), (88, 95), (20, 127), (37, 113), (32, 57), (36, 76), (51, 95), (65, 148), (46, 79), (25, 105), (42, 82), (48, 60), (3, 133), (25, 88), (71, 80), (20, 26), (76, 98), (84, 131), (21, 65), (41, 148), (23, 49), (28, 102), (2, 77), (2, 47), (29, 75), (71, 131), (10, 119), (133, 147), (108, 116), (111, 138), (45, 104), (59, 109), (1, 125), (17, 32), (27, 47), (66, 71), (72, 83), (39, 108), (1, 77), (93, 133), (20, 96), (39, 121), (111, 129), (107, 141), (28, 146), (73, 110), (88, 106), (105, 140), (0, 24), (68, 149), (52, 84), (11, 60), (19, 128), (89, 145), (121, 135), (68, 142), (86, 140), (0, 122), (73, 109), (29, 142), (70, 106), (38, 114), (1, 43), (9, 94), (35, 113), (106, 131), (54, 145), (19, 79), (8, 25), (14, 111), (28, 86), (12, 74), (81, 136), (73, 111), (19, 89), (0, 87), (48, 53), (3, 83), (1, 135), (96, 104), (16, 111), (65, 124), (79, 118), (49, 120), (35, 144), (23, 40), (7, 64), (35, 80), (82, 134), (139, 147), (25, 28), (60, 107), (89, 116), (83, 95), (117, 121), (61, 82), (88, 149), (15, 125), (22, 24), (3, 92), (32, 72), (28, 142), (47, 112), (58, 100), (78, 116), (43, 85), (134, 147), (27, 60), (89, 133), (96, 138), (91, 130), (11, 142), (52, 109), (131, 139), (92, 103), (94, 97), (8, 135), (86, 95), (74, 109), (44, 108), (21, 24), (45, 92), (49, 119), (21, 96), (32, 67), (118, 142), (1, 116), (53, 125), (6, 16), (114, 135), (119, 141), (65, 114), (41, 108), (16, 76), (8, 9), (71, 87), (23, 48), (125, 137), (10, 24), (115, 146), (50, 73), (73, 96), (99, 116), (42, 123), (32, 108), (15, 26), (2, 100), (26, 122), (29, 67), (3, 62), (117, 120), (42, 93), (64, 91), (14, 69), (59, 148), (134, 144), (45, 60), (31, 104), (29, 93), (29, 97), (7, 115), (83, 136), (61, 105), (4, 130), (77, 119), (12, 148), (77, 126), (66, 106), (108, 132), (32, 129), (25, 48), (100, 132), (94, 126), (20, 110), (22, 71), (115, 130), (64, 75), (18, 123), (11, 120), (104, 137), (110, 111), (93, 117), (4, 96), (125, 141), (3, 53), (20, 129), (60, 139), (39, 103), (25, 76), (52, 59), (38, 97), (1, 111), (13, 72), (61, 134), (116, 125), (22, 149), (54, 60), (76, 111), (17, 46), (68, 113), (13, 111), (5, 61), (28, 31), (51, 147), (19, 110), (21, 108), (47, 72), (39, 131), (33, 86), (31, 108), (26, 116), (55, 119), (59, 63), (44, 129), (53, 83), (2, 127), (41, 133), (2, 145), (0, 107), (12, 57), (38, 94), (11, 143), (31, 147), (72, 144), (19, 141), (95, 100), (6, 94), (113, 114), (68, 92), (92, 146), (30, 149), (50, 119), (1, 98), (33, 132), (48, 105), (50, 80), (86, 142), (7, 124), (5, 68), (44, 114), (98, 117), (55, 73), (41, 126), (44, 121), (85, 132), (18, 116), (27, 83), (66, 85), (16, 39), (3, 91), (36, 81), (5, 46), (7, 28), (15, 81), (31, 53), (40, 140), (89, 92), (6, 26), (60, 149), (27, 41), (105, 120), (50, 138), (93, 106), (18, 45), (84, 108), (136, 140), (71, 132), (105, 149), (84, 95), (5, 78), (33, 52), (20, 102), (50, 125), (14, 37), (62, 139), (25, 127), (111, 142), (50, 146), (4, 115), (51, 60), (88, 145), (51, 109), (95, 133), (87, 135), (22, 94), (15, 122), (39, 104), (32, 105), (21, 50), (10, 13), (76, 130), (54, 76), (38, 108), (28, 87), (30, 46), (72, 120), (1, 104), (95, 131), (83, 103), (41, 76), (99, 112), (32, 145), (65, 87), (46, 114), (6, 28), (45, 126), (59, 118), (80, 147), (34, 65), (134, 142), (19, 93), (57, 141), (20, 84), (68, 137), (123, 143), (3, 19), (3, 89), (19, 112), (4, 64), (4, 37), (65, 112), (6, 130), (7, 76), (36, 97), (33, 102), (6, 123), (43, 129), (20, 48), (67, 109), (31, 66), (25, 31), (27, 128), (26, 131), (47, 76), (64, 73), (11, 112), (94, 105), (29, 116), (18, 63), (39, 52), (23, 129), (7, 12), (7, 52), (114, 119), (60, 98), (89, 104), (91, 139), (54, 115), (22, 60), (63, 126), (5, 65), (34, 103), (3, 108), (26, 40), (25, 49), (23, 120), (42, 47), (23, 142), (92, 105), (16, 85), (33, 56), (33, 70), (68, 101), (35, 98), (24, 70), (107, 108), (32, 73), (5, 85), (45, 85), (90, 134), (12, 25), (60, 137), (57, 80), (57, 104), (46, 121), (48, 126), (64, 137), (85, 93), (75, 115), (47, 103), (29, 103), (84, 91), (13, 68), (47, 111), (43, 105), (72, 98), (11, 147), (19, 77), (24, 57), (19, 147), (114, 121), (38, 131), (0, 77), (51, 92), (14, 130), (29, 61), (22, 57), (89, 137), (77, 123), (37, 70), (55, 61), (1, 144), (21, 133), (33, 67), (30, 80), (131, 134), (12, 65), (10, 97), (20, 52), (23, 24), (61, 83), (14, 45), (82, 126), (47, 75), (87, 105), (48, 149), (105, 125), (47, 82), (19, 131), (60, 93), (4, 63), (58, 143), (68, 122), (86, 102), (39, 54), (45, 130), (15, 149), (66, 76), (36, 146), (28, 104), (21, 86), (51, 86), (14, 41), (107, 145), (22, 46), (28, 147), (49, 92), (67, 123), (125, 149), (50, 88), (63, 90), (37, 77), (17, 83), (47, 140), (6, 90), (104, 113), (21, 121), (39, 64), (92, 122), (33, 119), (60, 69), (145, 148), (16, 66), (80, 94), (40, 132), (42, 83), (10, 21), (23, 39), (100, 116), (42, 104), (21, 74), (40, 145), (89, 142), (36, 55), (7, 35), (15, 98), (68, 103), (14, 36), (27, 71), (59, 136), (2, 147), (29, 83), (10, 22), (10, 103), (0, 46), (133, 136), (94, 102), (4, 18), (55, 146), (109, 149), (2, 60), (32, 117), (14, 52), (42, 58), (34, 143), (17, 145), (64, 105), (8, 105), (17, 43), (4, 79), (83, 149), (43, 72), (96, 145), (11, 98), (135, 137), (54, 126), (140, 146), (16, 127), (2, 86), (115, 134), (122, 144), (32, 121), (76, 105), (29, 111), (21, 94), (82, 87), (72, 104), (68, 121), (12, 107), (24, 28), (23, 104), (34, 87), (15, 24), (102, 115), (16, 110), (100, 135), (128, 129), (29, 125), (11, 83), (4, 28), (54, 91), (44, 49), (26, 128), (42, 126), (27, 56), (62, 113), (1, 19), (27, 73), (48, 93), (34, 91), (19, 39), (81, 135), (86, 131), (12, 59), (14, 118), (27, 48), (36, 94), (7, 59), (89, 139), (45, 69), (116, 133), (48, 77), (88, 139), (21, 119), (105, 112), (46, 129), (49, 115), (5, 81), (66, 144), (39, 41), (1, 6), (7, 42), (51, 142), (44, 113), (11, 94), (139, 140), (51, 75), (51, 107), (8, 148), (140, 149), (88, 122), (110, 144), (37, 93), (32, 50), (98, 135), (3, 21), (59, 125), (57, 145), (25, 90), (86, 111), (50, 99), (83, 119), (96, 127), (11, 114), (55, 113), (92, 131), (1, 90), (13, 104), (15, 116), (55, 58), (31, 103), (18, 41), (70, 73), (15, 97), (59, 132), (30, 75), (10, 32), (37, 107), (73, 101), (43, 101), (41, 72), (79, 146), (92, 147), (92, 94), (0, 146), (48, 58), (8, 74), (4, 57), (66, 114), (122, 143), (23, 137), (125, 131), (87, 139), (6, 93), (36, 149), (6, 92), (31, 33), (91, 97), (42, 109), (116, 128), (78, 105), (81, 132), (97, 123), (0, 78), (17, 23), (68, 69), (30, 67), (63, 132), (64, 121), (2, 108), (1, 83), (54, 84), (60, 131), (0, 129), (23, 73), (23, 55), (12, 137), (59, 113), (94, 139), (90, 103), (75, 100), (27, 120), (9, 35), (45, 149), (86, 121), (128, 140), (57, 95), (15, 39), (18, 35), (22, 133), (19, 25), (62, 82), (47, 61), (77, 139), (55, 72), (115, 131), (15, 67), (19, 126), (73, 84), (13, 118), (93, 147), (31, 74), (17, 86), (36, 142), (2, 35), (72, 111), (48, 65), (82, 141), (5, 128), (48, 101), (51, 98), (47, 148), (8, 100), (14, 62), (39, 59), (3, 116), (11, 14), (118, 133), (56, 100), (11, 47), (1, 141), (67, 103), (10, 58), (59, 127), (82, 112), (0, 148), (8, 38), (20, 93), (12, 45), (5, 147), (31, 124), (111, 113), (52, 66), (83, 92), (24, 38), (72, 137), (118, 119), (62, 142), (42, 73), (99, 144), (4, 58), (63, 74), (4, 71), (124, 125), (82, 109), (38, 120), (111, 139), (53, 108), (121, 131), (92, 106), (78, 95), (26, 135), (15, 55), (85, 112), (75, 113), (75, 99), (14, 109), (8, 94), (46, 133), (126, 132), (9, 137), (4, 11), (99, 113), (2, 39), (76, 83), (64, 94), (34, 111), (33, 104), (86, 144), (46, 138), (39, 46), (68, 96), (20, 60), (25, 41), (114, 134), (10, 117), (3, 60), (15, 32), (5, 52), (22, 23), (62, 101), (19, 127), (77, 127), (56, 138), (44, 132), (21, 131), (109, 138), (8, 39), (66, 125), (65, 96), (56, 117), (3, 63), (24, 64), (41, 63), (16, 133), (54, 100), (53, 80), (37, 75), (18, 62), (67, 112), (19, 53), (53, 133), (6, 42), (6, 139), (54, 75), (44, 94), (122, 131), (67, 97), (22, 85), (48, 74), (90, 133), (67, 104), (73, 99), (47, 129), (107, 134), (6, 99), (74, 77), (16, 146), (33, 45), (57, 149), (19, 61), (92, 101), (45, 82), (18, 99), (107, 139), (40, 78), (36, 51), (63, 137), (58, 78), (35, 111), (106, 139), (21, 36), (74, 101), (83, 145), (36, 85), (103, 143), (4, 24), (48, 90), (98, 107), (77, 107), (51, 63), (51, 70), (7, 123), (104, 106), (74, 139), (71, 93), (35, 123), (13, 102), (42, 56), (124, 131), (76, 87), (50, 87), (64, 74), (31, 64), (32, 124), (58, 77), (43, 123), (74, 125), (20, 37), (69, 109), (100, 134), (25, 80), (103, 123), (49, 140), (98, 126), (63, 109), (50, 103), (44, 119), (26, 57), (30, 64), (78, 143), (11, 126), (17, 36), (142, 145), (58, 63), (4, 92), (33, 149), (11, 81), (104, 143), (6, 75), (35, 92), (34, 115), (45, 46), (110, 132), (119, 125), (75, 126), (46, 51), (2, 72), (70, 86), (87, 121), (28, 115), (111, 132), (57, 85), (116, 141), (34, 64), (18, 92), (83, 142), (28, 88), (23, 78), (19, 100), (4, 80), (82, 125), (35, 118), (44, 103), (44, 85), (18, 86), (97, 147), (72, 89), (84, 122), (4, 140), (17, 135), (30, 133), (4, 25), (84, 111), (116, 140), (69, 119), (81, 100), (4, 139), (27, 132), (39, 50), (9, 34), (21, 136), (11, 30), (42, 135), (29, 119), (84, 125), (20, 89), (13, 30), (40, 147), (68, 147), (19, 67), (86, 125), (92, 130), (97, 149), (17, 97), (1, 129), (87, 113), (14, 107), (9, 110), (32, 142), (119, 138), (130, 133), (103, 122), (27, 74), (73, 97), (97, 120), (54, 70), (37, 53), (11, 23), (53, 116), (69, 107), (81, 130), (14, 132), (9, 89), (99, 132), (26, 140), (1, 61), (37, 47), (55, 120), (23, 29), (22, 31), (36, 100), (116, 138), (95, 128), (42, 140), (80, 125), (46, 70), (26, 60), (57, 125), (0, 141), (13, 18), (37, 102), (54, 79), (87, 125), (64, 69), (78, 109), (55, 131), (2, 16), (26, 113), (39, 82), (39, 140), (12, 123), (66, 78), (124, 137), (85, 98), (20, 88), (26, 62), (31, 34), (71, 134), (75, 143), (9, 23), (51, 83), (31, 38), (6, 43), (82, 86), (5, 37), (71, 146), (19, 28), (106, 109), (82, 111), (28, 59), (8, 30), (12, 79), (8, 36), (108, 140), (95, 107), (6, 62), (46, 118), (27, 129), (13, 88), (30, 143), (25, 136), (23, 72), (33, 81), (39, 74), (36, 116), (69, 113), (80, 137), (35, 77), (98, 125), (36, 86), (0, 3), (40, 58), (114, 129), (111, 131), (35, 105), (12, 127), (11, 26), (106, 120), (11, 31), (39, 53), (41, 43), (35, 52), (108, 129), (46, 97), (121, 146), (11, 122), (94, 127), (100, 108), (24, 114), (59, 99), (95, 146), (32, 36), (85, 90), (34, 67), (7, 9), (93, 138), (63, 131), (80, 89), (38, 52), (15, 92), (14, 67), (115, 122), (102, 135), (79, 136), (51, 131), (19, 88), (51, 139), (4, 27), (8, 122), (2, 15), (86, 108), (64, 115), (43, 82), (30, 144), (84, 107), (110, 122), (106, 123), (41, 99), (33, 133), (58, 79), (19, 22), (43, 121), (2, 7), (3, 30), (72, 123), (53, 77), (49, 72), (50, 77), (21, 139), (48, 55), (34, 100), (32, 33), (20, 148), (83, 104), (13, 133), (56, 92), (9, 30), (1, 82), (133, 138), (51, 97), (25, 63), (98, 112), (66, 139), (69, 75), (20, 23), (87, 117), (83, 106), (1, 29), (125, 129), (39, 94), (70, 83), (83, 101), (116, 135), (1, 102), (60, 104), (30, 59), (1, 14), (111, 147), (7, 16), (109, 126), (65, 99), (84, 147), (20, 66), (64, 134), (7, 136), (85, 149), (101, 107), (34, 62), (143, 144), (80, 114), (44, 47), (57, 137), (102, 131), (45, 115), (22, 76), (14, 98), (109, 135), (73, 142), (21, 148), (86, 96), (28, 57), (93, 114), (6, 100), (24, 60), (67, 111), (34, 89), (4, 40), (104, 114), (15, 119), (82, 137), (23, 41), (13, 52), (122, 132), (5, 107), (12, 75), (6, 79), (27, 38), (44, 64), (20, 82), (6, 141), (71, 145), (4, 33), (22, 61), (115, 137), (13, 90), (21, 126), (82, 98), (120, 140), (128, 148), (81, 129), (12, 98), (48, 80), (131, 142), (40, 131), (6, 72), (20, 134), (16, 81), (80, 115), (27, 93), (73, 86), (25, 52), (37, 122), (73, 143), (64, 110), (113, 119), (45, 122), (24, 106), (12, 104), (118, 121), (128, 139), (29, 126), (2, 26), (69, 111), (6, 53), (64, 85), (44, 92), (79, 104), (127, 129), (0, 51), (8, 42), (43, 69), (15, 91), (114, 122), (98, 131), (98, 124), (67, 130), (35, 149), (72, 96), (40, 56), (12, 99), (32, 35), (117, 143), (19, 29), (26, 145), (103, 117), (6, 126), (38, 140), (66, 80), (28, 52), (0, 2), (43, 65), (29, 85), (47, 79), (2, 74), (2, 106), (44, 110), (36, 39), (18, 70), (29, 86), (15, 131), (55, 117), (30, 79), (42, 138), (50, 134), (89, 134), (38, 112), (52, 119), (13, 17), (40, 112), (2, 30), (73, 114), (53, 121), (2, 136), (2, 18), (115, 141), (118, 137), (30, 136), (19, 27), (67, 138), (83, 123), (92, 118), (1, 118), (105, 107), (45, 106), (64, 117), (50, 141), (8, 115), (17, 143), (7, 60), (132, 145), (23, 36), (13, 129), (33, 93), (43, 79), (50, 142), (88, 140), (62, 107), (13, 79), (1, 79), (68, 117), (44, 130), (24, 91), (19, 56), (7, 105), (71, 147), (80, 113), (44, 146), (80, 110), (100, 146), (54, 135), (22, 70), (3, 145), (91, 110), (48, 83), (27, 67), (41, 97), (108, 136), (118, 140), (38, 115), (10, 42), (48, 134), (6, 85), (51, 134), (1, 66), (19, 113), (66, 132), (1, 17), (117, 141), (29, 44), (84, 129), (57, 68), (17, 102), (4, 76), (21, 145), (59, 142), (104, 121), (39, 86), (0, 76), (71, 119), (5, 33), (55, 89), (21, 137), (29, 45), (38, 146), (54, 109), (14, 102), (131, 145), (30, 78), (28, 73), (12, 21), (34, 119), (18, 133), (16, 137), (113, 136), (74, 81), (79, 144), (33, 82), (30, 41), (108, 111), (100, 120), (31, 52), (13, 55), (15, 16), (70, 76), (57, 122), (47, 135), (11, 75), (138, 147), (30, 50), (84, 99), (25, 42), (72, 102), (39, 134), (84, 88), (13, 120), (62, 94), (1, 8), (35, 134), (114, 116), (41, 46), (96, 98), (51, 114), (91, 114), (8, 31), (47, 102), (5, 14), (62, 64), (4, 90), (16, 68), (1, 128), (22, 56), (80, 122), (96, 100), (13, 93), (96, 119), (40, 72), (60, 68), (108, 148), (42, 116), (19, 142), (25, 50), (60, 95), (44, 116), (74, 118), (30, 54), (71, 96), (68, 116), (79, 121), (75, 80), (66, 142), (21, 83), (52, 57), (82, 115), (68, 131), (114, 149), (8, 79), (75, 105), (14, 112), (93, 149), (121, 149), (65, 117), (117, 136), (59, 133), (13, 47), (57, 79), (3, 64), (5, 124), (78, 138), (3, 102), (68, 83), (16, 124), (96, 126), (71, 91), (75, 144), (12, 90), (58, 72), (100, 149), (126, 142), (34, 134), (38, 102), (1, 120), (65, 101), (50, 144), (84, 141), (41, 84), (36, 71), (0, 49), (98, 118), (87, 103), (30, 104), (58, 146), (50, 111), (3, 77), (103, 134), (51, 94), (18, 113), (2, 116), (9, 44), (26, 85), (47, 146), (75, 148), (5, 56), (74, 142), (4, 95), (20, 33), (39, 116), (103, 139), (58, 103), (22, 80), (88, 129), (1, 94), (35, 59), (2, 139), (62, 90), (58, 105), (62, 115), (127, 147), (62, 114), (5, 59), (7, 131), (30, 87), (28, 114), (50, 107), (59, 75), (53, 78), (61, 90), (0, 98), (16, 117), (82, 117), (44, 101), (15, 109), (85, 134), (14, 21), (27, 101), (41, 75), (98, 132), (44, 82), (3, 59), (105, 128), (10, 30), (24, 49), (22, 38), (14, 137), (21, 141), (20, 105), (52, 107), (100, 102), (87, 102), (49, 50), (92, 133), (129, 132), (1, 105), (87, 146), (84, 89), (19, 31), (137, 145), (43, 110), (88, 112), (77, 149), (120, 144), (18, 59), (108, 123), (130, 135), (73, 80), (22, 82), (93, 142), (7, 101), (35, 76), (10, 105), (50, 68), (63, 64), (60, 121), (78, 106), (3, 15), (48, 124), (25, 149), (22, 34), (6, 124), (74, 107), (25, 126), (61, 93), (16, 53), (44, 71), (57, 146), (30, 120), (39, 148), (0, 47), (103, 113), (80, 133), (73, 93), (1, 16), (25, 65), (12, 64), (99, 135), (54, 81), (39, 79), (130, 138), (15, 102), (54, 92), (27, 147), (65, 79), (106, 148), (121, 147), (22, 130), (3, 105), (85, 139), (119, 145), (13, 28), (114, 140), (133, 143), (35, 38), (40, 102), (3, 6), (3, 12), (30, 89), (112, 123), (34, 60), (76, 127), (101, 146), (17, 122), (14, 128), (114, 127), (20, 95), (103, 121), (36, 147), (22, 62), (43, 74), (5, 11), (8, 58), (28, 122), (72, 131), (1, 21), (76, 93), (56, 144), (28, 47), (71, 148), (33, 55), (15, 40), (29, 122), (69, 94), (42, 81), (57, 121), (60, 80), (79, 132), (8, 76), (95, 141), (61, 129), (118, 149), (48, 132), (19, 46), (96, 144), (35, 94), (6, 120), (72, 139), (10, 55), (119, 135), (120, 134), (95, 101), (57, 134), (62, 72), (8, 48), (64, 109), (40, 73), (98, 116), (14, 90), (42, 103), (27, 85), (49, 105), (30, 42), (45, 98), (5, 149), (46, 106), (84, 92), (6, 12), (100, 131), (28, 82), (40, 45), (3, 143), (39, 120), (30, 82), (72, 79), (117, 137), (69, 86), (20, 113), (15, 136), (12, 143), (29, 114), (62, 74), (37, 43), (43, 86), (45, 72), (33, 96), (51, 78), (103, 133), (27, 69), (71, 98), (87, 141), (12, 131), (33, 129), (75, 87), (77, 87), (81, 103), (27, 143), (83, 99), (39, 57), (48, 123), (25, 85), (115, 143), (17, 18), (48, 125), (87, 98), (19, 64), (40, 101), (9, 129), (38, 113), (75, 79), (63, 116), (90, 120), (80, 92), (20, 71), (35, 107), (81, 141), (67, 121), (34, 104), (18, 49), (24, 84), (85, 125), (21, 66), (62, 145), (58, 76), (45, 88), (12, 92), (29, 60), (79, 131), (103, 149), (52, 53), (33, 147), (91, 120), (24, 139), (51, 54), (4, 121), (17, 121), (52, 87), (76, 84), (70, 143), (25, 123), (48, 121), (63, 100), (134, 135), (47, 139), (69, 125), (78, 93), (94, 114), (5, 53), (55, 142), (64, 86), (133, 134), (52, 86), (12, 93), (27, 115), (44, 100), (60, 88), (129, 141), (77, 92), (30, 108), (117, 138), (100, 121), (83, 144), (13, 14), (86, 89), (67, 142), (48, 137), (26, 104), (22, 68), (78, 85), (66, 121), (140, 148), (82, 89), (56, 71), (19, 123), (72, 148), (76, 147), (102, 144), (64, 143), (47, 136), (85, 115), (22, 65), (46, 73), (81, 87), (72, 140), (15, 50), (37, 91), (119, 137), (13, 147), (50, 109), (20, 53), (20, 50), (0, 90), (120, 128), (67, 149), (117, 119), (38, 70), (15, 36), (139, 145), (45, 47), (69, 103), (46, 62), (83, 110), (85, 124), (108, 133), (76, 124), (122, 128), (88, 130), (107, 127), (22, 95), (64, 140), (106, 117), (24, 52), (66, 81), (92, 121), (61, 113), (123, 124), (22, 78), (14, 40), (119, 128), (10, 40), (6, 74), (27, 109), (47, 104), (74, 94), (59, 105), (41, 117), (16, 136), (22, 81), (135, 143), (0, 65), (73, 75), (30, 100), (48, 143), (88, 146), (101, 125), (22, 98), (53, 139), (36, 98), (5, 54), (65, 103), (22, 122), (47, 98), (22, 129), (121, 127), (114, 141), (55, 57), (23, 82), (34, 68), (89, 120), (28, 58), (39, 146), (19, 70), (17, 141), (53, 117), (6, 63), (41, 68), (50, 131), (38, 58), (109, 142), (70, 122), (28, 30), (21, 80), (56, 114), (51, 101), (19, 57), (62, 112), (34, 124), (46, 130), (42, 120), (65, 120), (34, 101), (21, 138), (19, 137), (9, 22), (19, 48), (33, 95), (30, 33), (7, 103), (6, 69), (42, 137), (21, 97), (3, 37), (64, 103), (57, 136), (11, 82), (64, 70), (80, 105), (55, 81), (26, 107), (71, 139), (5, 134), (11, 77), (70, 137), (10, 51), (33, 78), (76, 81), (32, 94), (103, 104), (46, 105), (108, 141), (46, 71), (51, 132), (22, 48), (41, 69), (37, 62), (69, 89), (68, 88), (55, 116), (76, 142), (80, 139), (6, 45), (13, 95), (0, 102), (17, 67), (75, 88), (8, 82), (47, 96), (28, 50), (17, 87), (11, 113), (10, 147), (99, 114), (58, 120), (23, 27), (6, 96), (52, 63), (48, 61), (108, 145), (45, 67), (9, 14), (28, 134), (51, 85), (53, 145), (8, 98), (43, 126), (77, 110), (17, 79), (4, 74), (118, 148), (47, 124), (5, 19), (121, 142), (20, 87), (42, 101), (116, 121), (66, 117), (16, 107), (94, 137), (45, 81), (8, 99), (46, 59), (110, 118), (96, 142), (76, 126), (60, 75), (16, 56), (19, 132), (41, 57), (70, 120), (110, 143), (99, 109), (3, 20), (12, 52), (26, 49), (62, 117), (37, 140), (88, 134), (4, 86), (34, 139), (58, 126), (0, 110), (10, 141), (120, 138), (92, 123), (95, 117), (103, 135), (15, 83), (103, 129), (8, 54), (117, 127), (13, 50), (1, 115), (3, 122), (44, 139), (22, 138), (132, 148), (2, 97), (25, 99), (86, 147), (30, 130), (51, 90), (60, 105), (129, 144), (46, 126), (58, 107), (7, 104), (11, 121), (53, 96), (65, 84), (64, 96), (6, 113), (9, 77), (85, 118), (64, 116), (35, 42), (28, 106), (23, 126), (48, 92), (76, 144), (96, 136), (54, 113), (24, 120), (109, 125), (3, 114), (15, 108), (30, 98), (104, 142), (10, 16), (75, 92), (10, 88), (37, 74), (63, 80), (93, 137), (30, 38), (86, 91), (52, 121), (37, 84), (61, 122), (9, 107), (9, 26), (97, 135), (136, 142), (50, 63), (51, 146), (119, 133), (4, 8), (35, 143), (21, 127), (29, 149), (98, 137), (122, 147), (78, 86), (59, 128), (74, 89), (12, 87), (68, 110), (46, 144), (60, 125), (102, 122), (0, 138), (10, 129), (6, 112), (18, 51), (26, 117), (61, 68), (9, 76), (25, 146), (70, 117), (3, 74), (12, 145), (38, 107), (26, 43), (53, 55), (76, 141), (73, 139), (29, 36), (26, 144), (105, 130), (28, 44), (24, 108), (51, 84), (141, 143), (61, 63), (1, 101), (28, 39), (6, 61), (2, 50), (65, 93), (103, 120), (85, 92), (53, 111), (23, 102), (52, 78), (142, 146), (18, 104), (23, 94), (92, 99), (97, 121), (100, 123), (48, 117), (74, 127), (9, 114), (47, 97), (82, 119), (84, 115), (6, 109), (78, 145), (45, 109), (74, 136), (35, 102), (80, 131), (16, 144), (24, 126), (25, 140), (7, 149), (18, 124), (115, 144), (70, 108), (41, 59), (0, 52), (63, 147), (19, 51), (74, 146), (34, 46), (35, 117), (13, 122), (70, 84), (38, 143), (34, 127), (54, 58), (65, 111), (15, 72), (95, 124), (48, 89), (77, 144), (22, 29), (78, 124), (64, 131), (119, 120), (76, 96), (84, 135), (70, 79), (40, 92), (7, 134), (66, 111), (67, 140), (7, 140), (33, 88), (55, 138), (48, 147), (43, 64), (29, 91), (47, 90), (25, 111), (124, 134), (16, 33), (27, 134), (84, 137), (116, 123), (58, 65), (114, 143), (86, 87), (73, 129), (96, 137), (56, 130), (69, 98), (69, 124), (90, 94), (36, 106), (14, 73), (20, 24), (92, 143), (35, 36), (75, 131), (41, 107), (127, 131), (50, 91), (4, 136), (137, 146), (56, 60), (11, 24), (59, 126), (133, 139), (28, 144), (55, 122), (36, 91), (57, 73), (7, 147), (15, 128), (25, 75), (101, 104), (30, 77), (7, 127), (70, 81), (56, 74), (2, 144), (75, 110), (69, 139), (93, 99), (134, 145), (12, 28), (32, 97), (62, 121), (51, 125), (34, 71), (148, 149), (95, 145), (47, 94), (38, 71), (35, 109), (53, 88), (56, 102), (125, 126), (68, 126), (27, 105), (16, 74), (59, 123), (21, 51), (126, 128), (62, 149), (52, 60), (32, 80), (85, 148), (68, 144), (42, 48), (84, 139), (3, 140), (51, 102), (37, 55), (29, 57), (23, 91), (63, 104), (24, 129), (11, 35), (58, 64), (19, 98), (48, 130), (69, 76), (17, 88), (93, 112), (1, 2), (121, 138), (71, 72), (2, 112), (109, 118), (48, 64), (18, 107), (49, 110), (19, 44), (11, 149), (66, 126), (116, 144), (91, 124), (1, 91), (26, 137), (67, 75), (79, 80), (25, 139), (88, 131), (52, 144), (27, 68), (85, 86), (59, 103), (55, 109), (9, 75), (2, 128), (49, 91), (33, 71), (104, 110), (95, 143), (41, 139), (22, 144), (91, 149), (38, 84), (89, 129), (2, 93), (11, 40), (15, 35), (6, 136), (73, 83), (53, 143), (29, 54), (16, 79), (96, 132), (13, 60), (6, 31), (46, 135), (23, 132), (13, 73), (17, 68), (46, 47), (63, 124), (106, 118), (22, 52), (34, 53), (44, 143), (9, 68), (8, 18), (50, 132), (58, 102), (42, 149), (36, 105), (18, 44), (16, 97), (1, 121), (120, 130), (11, 59), (26, 92), (18, 26), (41, 129), (17, 62), (131, 137), (82, 103), (53, 60), (38, 96), (3, 100), (29, 71), (29, 90), (87, 106), (142, 148), (43, 87), (75, 83), (54, 142), (90, 102), (106, 134), (37, 79), (69, 138), (34, 105), (99, 141), (30, 66), (17, 80), (10, 128), (65, 113), (38, 49), (29, 38), (4, 122), (12, 54), (5, 97), (53, 137), (7, 93), (33, 139), (47, 107), (51, 106), (111, 116), (95, 121), (96, 99), (90, 97), (67, 133), (14, 58), (33, 137), (99, 105), (78, 133), (60, 147), (9, 144), (119, 122), (107, 122), (82, 139), (45, 108), (74, 117), (17, 95), (60, 100), (8, 47), (98, 134), (92, 104), (31, 90), (57, 138), (11, 100), (45, 111), (31, 45), (42, 105), (26, 55), (6, 104), (6, 14), (111, 140), (108, 131), (27, 78), (90, 117), (38, 75), (23, 97), (2, 134), (39, 71), (11, 43), (84, 90), (25, 40), (44, 135), (109, 132), (7, 14), (27, 82), (93, 131), (131, 136), (20, 30), (89, 140), (126, 138), (114, 118), (61, 96), (85, 99), (31, 98), (27, 50), (87, 130), (62, 143), (58, 83), (75, 85), (64, 130), (33, 59), (83, 87), (0, 63), (66, 129), (114, 130), (90, 140), (38, 141), (110, 145), (2, 121), (24, 25), (14, 63), (46, 123), (15, 121), (32, 148), (4, 50), (20, 101), (53, 95), (20, 72), (28, 137), (1, 134), (42, 124), (29, 59), (27, 34), (127, 128), (72, 110), (35, 93), (43, 132), (37, 137), (27, 94), (2, 73), (53, 127), (51, 115), (13, 126), (98, 102), (50, 106), (36, 41), (23, 42), (15, 79), (17, 90), (39, 83), (55, 123), (64, 145), (42, 87), (18, 132), (33, 53), (43, 104), (21, 147), (52, 102), (23, 100), (45, 84), (61, 139), (55, 101), (11, 91), (32, 122), (20, 92), (52, 64), (50, 139), (18, 89), (92, 119), (26, 90), (105, 144), (97, 142), (5, 64), (101, 113), (28, 141), (136, 138), (75, 108), (39, 90), (44, 109), (91, 103), (37, 69), (27, 32), (68, 107), (142, 147), (107, 121), (55, 135), (3, 99), (41, 42), (10, 101), (100, 118), (67, 147), (128, 131), (50, 100), (39, 47), (42, 53), (32, 40), (87, 99), (4, 16), (32, 116), (7, 84), (0, 72), (87, 143), (82, 94), (6, 9), (55, 124), (1, 38), (25, 145), (94, 129), (89, 111), (12, 43), (5, 24), (95, 149), (10, 56), (6, 17), (16, 91), (44, 106), (65, 122), (16, 57), (43, 53), (70, 75), (124, 142), (38, 92), (6, 48), (108, 113), (91, 115), (2, 9), (86, 119), (69, 77), (42, 45), (42, 75), (106, 143), (51, 110), (0, 123), (9, 19), (56, 149), (68, 90), (44, 63), (25, 102), (5, 45), (3, 125), (45, 140), (15, 18), (62, 85), (132, 146), (51, 104), (5, 35), (45, 50), (54, 99), (56, 63), (38, 65), (2, 53), (58, 118), (126, 140), (84, 100), (68, 74), (83, 98), (67, 73), (2, 83), (82, 91), (1, 59), (18, 28), (57, 133), (50, 89), (64, 111), (124, 128), (0, 23), (31, 97), (16, 29), (41, 109), (14, 89), (58, 128), (12, 37), (103, 142), (81, 148), (60, 117), (40, 124), (19, 105), (15, 95), (47, 67), (4, 84), (48, 100), (46, 100), (109, 112), (16, 41), (68, 111), (55, 66), (27, 37), (92, 135), (5, 105), (49, 129), (79, 117), (75, 137), (41, 103), (18, 139), (35, 67), (84, 103), (23, 28), (138, 145), (22, 73), (50, 115), (6, 58), (0, 106), (80, 120), (8, 46), (79, 130), (75, 77), (36, 99), (48, 67), (12, 44), (11, 68), (11, 53), (8, 29), (67, 137), (95, 147), (36, 80), (44, 125), (0, 84), (137, 147), (6, 37), (115, 123), (81, 102), (19, 146), (50, 136), (64, 147), (42, 86), (21, 45), (18, 76), (107, 136), (19, 55), (18, 84), (50, 124), (45, 101), (36, 121), (42, 74), (31, 49), (91, 127), (1, 31), (37, 132), (16, 95), (2, 125), (68, 91), (15, 117), (95, 130), (14, 34), (54, 124), (62, 125), (46, 115), (39, 123), (10, 46), (89, 125), (15, 58), (15, 41), (100, 126), (49, 56), (59, 120), (71, 102), (104, 118), (40, 63), (18, 112), (3, 130), (38, 59), (40, 123), (31, 83), (11, 32), (16, 87), (51, 121), (92, 115), (27, 136), (113, 118), (30, 113), (13, 121), (2, 105), (123, 134), (6, 106), (48, 102), (49, 84), (73, 106), (90, 135), (0, 30), (36, 64), (47, 121), (94, 112), (67, 129), (32, 56), (74, 75), (110, 113), (75, 98), (70, 142), (30, 132), (59, 146), (31, 146), (67, 74), (72, 146), (62, 138), (13, 70), (82, 120), (102, 110), (53, 63), (28, 136), (16, 26), (35, 47), (55, 75), (49, 113), (121, 126), (113, 133), (0, 119), (26, 136), (83, 93), (52, 68), (8, 130), (68, 102), (101, 108), (77, 122), (40, 89), (26, 46), (67, 106), (80, 98), (51, 67), (99, 121), (23, 108), (45, 57), (65, 146), (45, 65), (17, 108), (25, 130), (35, 131), (89, 146), (64, 120), (26, 143), (130, 144), (18, 128), (36, 62), (54, 98), (60, 70), (47, 100), (104, 124), (58, 139), (15, 30), (5, 42), (64, 100), (69, 128), (72, 86), (14, 48), (91, 116), (57, 94), (12, 112), (8, 33), (12, 55), (20, 56), (11, 69), (40, 70), (70, 110), (31, 79), (9, 132), (146, 148), (23, 61), (11, 102), (78, 141), (24, 37), (51, 148), (2, 8), (6, 64), (11, 131), (68, 109), (100, 148), (38, 123), (15, 77), (44, 131), (3, 80), (60, 106), (47, 144), (27, 79), (84, 145), (58, 73), (1, 60), (32, 83), (40, 146), (87, 132), (65, 129), (79, 142), (20, 65), (22, 148), (105, 142), (48, 69), (18, 115), (73, 116), (117, 140), (62, 66), (39, 84), (46, 140), (84, 140), (98, 113), (81, 140), (92, 126), (9, 95), (62, 76), (12, 130), (68, 76), (56, 143), (27, 131), (40, 107), (7, 113), (94, 128), (92, 138), (95, 127), (119, 148), (5, 41), (130, 136), (20, 135), (97, 145), (139, 144), (101, 131), (98, 115), (97, 134), (121, 123), (38, 103), (22, 109), (26, 98), (74, 87), (86, 106), (96, 112), (54, 128), (1, 51), (28, 98), (37, 103), (46, 91), (91, 148), (13, 91), (31, 82), (6, 54), (18, 110), (11, 66), (5, 21), (17, 44), (73, 87), (110, 134), (82, 104), (28, 112), (50, 92), (117, 128), (19, 135), (12, 105), (72, 80), (32, 91), (98, 109), (107, 147), (24, 125), (13, 149), (17, 107), (6, 115), (31, 87), (72, 129), (12, 39), (19, 69), (12, 67), (4, 78), (52, 123), (7, 33), (49, 125), (58, 89), (112, 131), (13, 36), (44, 74), (75, 91), (51, 73), (44, 56), (53, 107), (60, 96), (75, 109), (12, 71), (82, 110), (69, 82), (111, 137), (7, 21), (7, 39), (58, 106), (16, 102), (104, 115), (83, 84), (85, 100), (14, 122), (24, 123), (73, 89), (39, 112), (50, 72), (15, 76), (23, 113), (9, 126), (79, 116), (41, 96), (9, 101), (109, 115), (96, 134), (30, 40), (60, 114), (27, 142), (8, 132), (4, 119), (16, 93), (18, 27), (58, 81), (33, 87), (58, 135), (42, 113), (64, 78), (77, 136), (74, 133), (49, 85), (54, 125), (35, 73), (73, 128), (55, 126), (111, 112), (65, 123), (43, 102), (63, 72), (33, 77), (49, 78), (26, 34), (59, 84), (23, 133), (33, 105), (112, 119), (4, 51), (14, 91), (7, 11), (30, 60), (70, 119), (49, 143), (60, 143), (33, 76), (6, 140), (96, 118), (55, 125), (91, 104), (14, 82), (25, 43), (17, 77), (18, 72), (25, 84), (96, 123), (67, 108), (54, 114), (73, 74), (42, 112), (9, 45), (39, 101), (110, 142), (22, 66), (69, 140), (38, 137), (25, 54), (21, 30), (6, 36), (70, 147), (122, 130), (110, 112), (61, 110), (48, 107), (38, 138), (36, 92), (68, 86), (64, 133), (99, 111), (61, 143), (8, 70), (53, 61), (7, 135), (53, 97), (91, 133), (6, 107), (27, 76), (6, 117), (81, 119), (87, 129), (21, 60), (109, 122), (91, 118), (72, 77), (82, 85), (78, 110), (13, 130), (0, 6), (24, 45), (41, 89), (45, 148), (53, 106), (6, 82), (21, 123), (118, 138), (77, 93), (33, 65), (8, 75), (62, 129), (0, 17), (13, 54), (59, 72), (107, 120), (76, 82), (107, 112), (42, 77), (9, 25), (40, 64), (8, 51), (73, 113), (104, 133), (43, 89), (43, 51), (6, 84), (103, 124), (50, 86), (6, 11), (4, 143), (21, 55), (4, 116), (60, 135), (88, 111), (40, 59), (71, 78), (130, 140), (73, 146), (103, 136), (99, 139), (102, 121), (77, 137), (13, 116), (88, 125), (104, 126), (35, 54), (88, 126), (66, 112), (30, 115), (23, 88), (27, 28), (88, 104), (34, 148), (11, 125), (100, 105), (50, 117), (3, 24), (60, 120), (97, 111), (2, 115), (55, 63), (40, 68), (19, 49), (35, 45), (61, 89), (57, 135), (93, 110), (115, 148), (15, 96), (24, 34), (69, 126), (3, 75), (66, 116), (31, 44), (36, 143), (38, 86), (17, 42), (26, 66), (70, 115), (7, 38), (20, 91), (18, 105), (31, 50), (33, 140), (22, 104), (80, 104), (33, 127), (5, 118), (36, 56), (85, 111), (32, 69), (21, 95), (7, 26), (70, 77), (42, 54), (23, 103), (36, 130), (35, 49), (4, 5), (98, 121), (93, 104), (63, 67), (14, 50), (20, 21), (78, 98), (21, 120), (3, 27), (21, 143), (61, 137), (14, 64), (28, 111), (0, 74), (111, 125), (14, 47), (32, 111), (9, 48), (35, 116), (40, 114), (38, 80), (28, 40), (34, 117), (12, 27), (95, 114), (61, 81), (67, 79), (42, 51), (68, 85), (34, 107), (29, 133), (128, 145), (11, 17), (33, 39), (42, 59), (3, 70), (5, 39), (63, 122), (104, 146), (68, 132), (17, 130), (30, 36), (108, 147), (55, 127), (24, 132), (92, 113), (7, 91), (73, 119), (16, 46), (11, 89), (1, 80), (25, 104), (40, 61), (65, 73), (127, 139), (26, 120), (72, 134), (13, 107), (3, 142), (86, 138), (67, 71), (2, 14), (29, 107), (23, 144), (21, 47), (42, 145), (26, 118), (108, 142), (8, 147), (26, 126), (57, 116), (63, 84), (51, 93), (68, 78), (71, 77), (115, 121), (28, 108), (65, 83), (33, 36), (34, 49), (67, 82), (124, 130), (2, 51), (124, 146), (14, 134), (125, 128), (75, 130), (54, 101), (28, 84), (32, 99), (26, 67), (86, 128), (53, 92), (122, 134), (2, 149), (60, 63), (25, 122), (83, 100), (101, 147), (16, 60), (24, 102), (39, 102), (70, 134), (28, 127), (79, 94), (132, 140), (60, 142), (107, 133), (18, 120), (44, 112), (53, 69), (68, 105), (65, 131), (31, 111), (84, 106), (45, 131), (31, 101), (91, 106), (71, 101), (70, 125), (36, 124), (23, 121), (48, 142), (81, 113), (61, 95), (116, 148), (38, 119), (95, 102), (94, 108), (31, 137), (42, 106), (7, 130), (43, 127), (16, 45), (41, 128), (76, 79), (51, 61), (2, 57), (17, 69), (76, 116), (27, 104), (12, 103), (23, 70), (81, 142), (88, 96), (127, 148), (24, 131), (0, 25), (50, 127), (11, 46), (37, 144), (56, 66), (24, 144), (22, 110), (54, 105), (46, 98), (18, 52), (0, 22), (1, 97), (47, 122), (24, 53), (74, 114), (27, 77), (2, 43), (13, 119), (17, 127), (73, 105), (100, 104), (42, 88), (51, 69), (35, 64), (73, 88), (47, 105), (53, 75), (30, 123), (38, 88), (112, 139), (45, 51), (89, 94), (107, 142), (43, 62), (54, 80), (47, 68), (30, 65), (103, 119), (56, 58), (88, 94), (37, 45), (131, 132), (28, 89), (21, 46), (72, 93), (46, 142), (74, 121), (131, 148), (49, 82), (27, 40), (77, 131), (40, 75), (59, 95), (78, 99), (2, 99), (46, 141), (34, 121), (4, 131), (8, 17), (5, 70), (63, 71), (13, 140), (27, 137), (14, 78), (120, 121), (79, 82), (97, 133), (89, 93), (36, 49), (41, 77), (65, 104), (69, 146), (46, 108), (53, 128), (99, 127), (61, 69), (4, 148), (34, 51), (86, 110), (81, 90), (109, 111), (14, 77), (46, 146), (8, 44), (51, 143), (43, 140), (82, 108), (27, 123), (95, 140), (18, 81), (53, 109), (89, 118), (23, 119), (20, 114), (30, 142), (79, 147), (19, 68), (77, 85), (14, 79), (73, 92), (16, 20), (116, 146), (21, 93), (32, 87), (31, 102), (34, 92), (89, 106), (32, 119), (12, 56), (125, 130), (9, 55), (80, 121), (19, 58), (47, 95), (76, 137), (30, 51), (0, 104), (44, 73), (5, 148), (136, 145), (5, 109), (21, 70), (109, 133), (24, 107), (66, 73), (120, 127), (25, 147), (13, 32), (88, 135), (96, 105), (11, 127), (54, 140), (14, 57), (45, 116), (7, 125), (12, 88), (76, 125), (105, 129), (0, 35), (23, 105), (72, 92), (138, 148), (4, 109), (61, 146), (49, 132), (25, 29), (28, 41), (24, 92), (28, 100), (91, 92), (96, 125), (104, 128), (37, 42), (6, 27), (133, 145), (119, 149), (10, 34), (31, 37), (16, 105), (20, 106), (8, 93), (90, 143), (8, 59), (132, 147), (22, 117), (97, 102), (46, 85), (41, 135), (39, 81), (10, 41), (27, 80), (9, 142), (137, 144), (125, 127), (53, 65), (71, 121), (63, 81), (79, 135), (28, 49), (34, 94), (1, 3), (7, 58), (31, 95), (12, 102), (21, 33), (130, 137), (9, 135), (101, 120), (37, 142), (58, 133), (48, 131), (97, 110), (55, 71), (8, 117), (20, 133), (112, 126), (63, 92), (84, 102), (37, 68), (9, 119), (15, 60), (100, 125), (29, 113), (102, 127), (20, 28), (104, 111), (46, 84), (75, 119), (49, 97), (87, 136), (93, 136), (2, 27), (17, 106), (22, 33), (27, 97), (52, 112), (59, 117), (23, 143), (11, 52), (10, 126), (86, 118), (46, 128), (6, 137), (65, 98), (62, 124), (8, 15), (22, 36), (9, 74), (37, 54), (53, 138), (4, 26), (72, 138), (105, 131), (97, 109), (106, 145), (83, 105), (98, 119), (58, 147), (26, 28), (9, 82), (14, 30), (62, 104), (47, 133), (42, 100), (42, 147), (5, 82), (4, 66), (1, 140), (86, 107), (113, 141), (61, 72), (53, 58), (98, 143), (72, 116), (0, 14), (70, 72), (5, 66), (26, 127), (84, 109), (28, 103), (44, 91), (81, 127), (19, 94), (9, 125), (0, 8), (31, 91), (85, 119), (24, 147), (36, 70), (10, 139), (69, 133), (28, 74), (41, 145), (20, 100), (70, 85), (107, 130), (55, 68), (39, 44), (20, 121), (18, 50), (102, 138), (33, 37), (45, 124), (44, 89), (5, 99), (34, 85), (115, 138), (116, 143), (38, 51), (5, 111), (19, 76), (14, 110), (9, 123), (31, 136), (89, 130), (77, 115), (46, 145), (27, 89), (27, 64), (79, 124), (33, 89), (53, 141), (49, 79), (54, 82), (13, 57), (57, 63), (20, 141), (18, 98), (104, 109), (99, 122), (78, 90), (97, 105), (128, 130), (29, 43), (74, 92), (44, 45), (7, 36), (44, 123), (74, 84), (62, 146), (8, 101), (8, 140), (54, 56), (26, 68), (140, 144), (19, 108), (87, 88), (10, 134), (72, 113), (112, 135), (64, 113), (17, 117), (2, 58), (62, 103), (37, 123), (18, 55), (105, 134), (16, 31), (26, 48), (0, 91), (63, 114), (38, 111), (78, 112), (25, 71), (26, 35), (25, 148), (132, 134), (93, 139), (39, 138), (6, 91), (123, 138), (53, 85), (43, 118), (91, 141), (39, 87), (61, 115), (24, 118), (32, 60), (123, 132), (57, 60), (69, 134), (9, 98), (78, 125), (21, 101), (119, 131), (39, 110), (22, 136), (31, 96), (0, 40), (6, 60), (57, 103), (51, 122), (51, 52), (47, 113), (50, 76), (67, 143), (12, 51), (26, 32), (43, 117), (1, 137), (110, 148), (4, 13), (98, 105), (22, 40), (25, 78), (29, 94), (56, 65), (5, 58), (66, 145), (0, 48), (3, 76), (40, 127), (60, 92), (25, 109), (61, 108), (43, 144), (28, 78), (14, 120), (70, 129), (43, 122), (56, 68), (76, 134), (46, 111), (17, 56), (5, 141), (82, 128), (47, 93), (90, 96), (74, 108), (43, 99), (54, 64), (75, 122), (9, 72), (39, 69), (133, 142), (103, 105), (35, 74), (10, 80), (30, 45), (42, 102), (35, 72), (14, 72), (37, 60), (2, 17), (8, 131), (18, 109), (48, 94), (50, 95), (73, 147), (1, 11), (3, 93), (13, 115), (88, 144), (143, 146), (36, 108), (17, 41), (71, 140), (7, 118), (20, 55), (99, 110), (97, 136), (12, 83), (37, 146), (65, 128), (65, 77), (51, 87), (64, 141), (44, 88), (101, 149), (55, 80), (26, 64), (38, 82), (73, 108), (65, 82), (107, 148), (40, 148), (63, 143), (108, 114), (72, 119), (40, 98), (118, 120), (42, 114), (52, 91), (42, 52), (47, 55), (105, 132), (29, 32), (59, 116), (3, 47), (83, 107), (27, 44), (14, 75), (15, 101), (72, 73), (67, 117), (79, 126), (82, 131), (133, 146), (81, 133), (51, 137), (0, 69), (39, 126), (12, 97), (63, 101), (16, 145), (16, 134), (15, 111), (78, 81), (123, 142), (51, 80), (117, 149), (30, 53), (55, 149), (61, 136), (16, 123), (40, 79), (34, 116), (9, 56), (10, 14), (89, 95), (135, 147), (51, 99), (21, 125), (5, 115), (0, 134), (33, 41), (9, 33), (64, 124), (4, 147), (52, 98), (16, 21), (11, 87), (88, 127), (63, 99), (120, 147), (61, 99), (109, 120), (63, 125), (65, 69), (3, 35), (1, 100), (19, 120), (62, 108), (6, 149), (89, 126), (93, 140), (123, 129), (54, 119), (57, 120), (53, 131), (61, 88), (42, 57), (67, 139), (61, 149), (21, 72), (25, 95), (40, 67), (8, 66), (28, 71), (135, 148), (66, 86), (68, 140), (42, 76), (46, 52), (75, 127), (43, 145), (118, 146), (48, 118), (4, 144), (34, 73), (45, 99), (41, 66), (80, 146), (74, 106), (92, 134), (66, 104), (33, 60), (125, 134), (24, 48), (19, 81), (1, 84), (68, 106), (30, 56), (30, 57), (110, 114), (24, 42), (3, 49), (47, 65), (71, 113), (54, 88), (10, 29), (46, 125), (89, 101), (32, 74), (85, 110), (40, 143), (57, 106), (35, 88), (93, 132), (43, 71), (40, 57), (1, 52), (15, 71), (51, 62), (8, 141), (18, 58), (19, 23), (42, 122), (2, 41), (18, 53), (59, 149), (34, 54), (21, 117), (85, 94), (11, 76), (17, 72), (36, 43), (94, 132), (7, 94), (52, 130), (46, 117), (80, 85), (55, 67), (10, 137), (12, 32), (28, 121), (19, 90), (86, 126), (4, 7), (18, 74), (35, 133), (70, 87), (38, 63), (20, 69), (73, 134), (93, 145), (18, 125), (81, 109), (54, 65), (53, 94), (119, 126), (82, 142), (21, 102), (1, 30), (14, 22), (6, 122), (36, 73), (63, 141), (26, 112), (102, 133), (3, 115), (68, 133), (146, 149), (66, 98), (55, 143), (7, 71), (26, 51), (117, 134), (23, 106), (61, 112), (61, 106), (24, 68), (82, 136), (110, 125), (86, 141), (82, 130), (30, 146), (65, 107), (5, 49), (104, 130), (25, 138), (127, 135), (24, 93), (26, 42), (68, 136), (61, 144), (63, 102), (22, 92), (10, 100), (59, 78), (30, 47), (120, 122), (16, 27), (26, 91), (129, 148), (62, 144), (27, 99), (34, 61), (104, 129), (34, 45), (34, 147), (71, 81), (56, 88), (0, 99), (60, 84), (50, 53), (81, 85), (16, 86), (17, 60), (88, 138), (56, 94), (59, 141), (19, 134), (17, 45), (64, 122), (1, 108), (28, 92), (87, 96), (20, 120), (19, 101), (50, 145), (19, 125), (75, 120), (5, 86), (132, 144), (64, 127), (94, 140), (6, 21), (9, 121), (10, 77), (23, 60), (42, 148), (85, 106), (55, 78), (1, 47), (48, 109), (35, 60), (31, 77), (106, 138), (85, 87), (17, 59), (30, 39), (34, 77), (16, 128), (34, 137), (7, 108), (13, 23), (44, 77), (91, 144), (41, 50), (74, 148), (11, 15), (53, 123), (61, 123), (57, 98), (60, 130), (48, 148), (30, 93), (58, 124), (34, 125), (48, 114), (113, 132), (37, 138), (41, 65), (2, 29), (63, 69), (62, 87), (26, 103), (2, 111), (58, 123), (11, 42), (22, 139), (88, 89), (26, 94), (94, 131), (41, 123), (136, 149), (59, 104), (78, 130), (104, 141), (112, 129), (67, 115), (39, 115), (3, 136), (35, 103), (45, 147), (41, 85), (47, 110), (23, 85), (18, 31), (75, 121), (44, 115), (85, 130), (56, 118), (65, 143), (3, 104), (14, 51), (5, 90), (25, 141), (18, 129), (64, 118), (99, 124), (71, 85), (22, 47), (100, 144), (89, 132), (7, 45), (12, 100), (8, 52), (50, 58), (9, 93), (76, 100), (4, 75), (24, 85), (108, 144), (46, 137), (4, 104), (9, 103), (55, 118), (81, 98), (28, 126), (77, 79), (36, 54), (126, 137), (134, 141), (59, 124), (13, 43), (53, 67), (23, 123), (29, 74), (11, 124), (46, 110), (51, 138), (31, 92), (10, 69), (106, 125), (44, 66), (57, 130), (20, 64), (5, 23), (22, 102), (52, 129), (1, 103), (34, 82), (54, 61), (83, 147), (27, 139), (24, 121), (55, 148), (0, 28), (44, 117), (41, 78), (11, 51), (66, 138), (45, 95), (107, 132), (103, 114), (65, 105), (102, 116), (10, 133), (69, 97), (115, 119), (97, 143), (129, 131), (81, 138), (33, 49), (12, 72), (49, 134), (3, 18), (62, 116), (18, 108), (10, 111), (63, 82), (95, 106), (12, 48), (104, 147), (43, 136), (95, 97), (105, 113), (67, 93), (76, 149), (31, 46), (51, 128), (31, 78), (35, 84), (28, 95), (77, 82), (20, 81), (103, 116), (138, 149), (56, 82), (72, 95), (20, 118), (61, 109), (115, 124), (36, 58), (86, 115), (58, 66), (11, 62), (51, 74), (1, 65), (75, 128), (41, 140), (4, 14), (39, 96), (18, 66), (12, 34), (24, 89), (3, 98), (114, 142), (50, 113), (41, 71), (15, 59), (4, 89), (71, 124), (0, 19), (27, 42), (102, 114), (23, 117), (59, 86), (35, 95), (61, 116), (102, 118), (35, 125), (70, 109), (40, 126), (26, 114), (44, 133), (83, 96), (2, 54), (28, 107), (113, 137), (67, 116), (41, 105), (110, 136), (9, 18), (55, 70), (102, 120), (11, 96), (34, 108), (38, 105), (93, 113), (26, 96), (57, 105), (45, 134), (23, 74), (18, 56), (55, 112), (45, 80), (56, 121), (31, 89), (13, 38), (122, 137), (71, 122), (44, 97), (57, 108), (28, 80), (124, 126), (47, 63), (36, 125), (0, 20), (18, 21), (66, 115), (88, 114), (37, 66), (19, 133), (90, 118), (26, 78), (1, 89), (18, 118), (11, 95), (48, 128), (125, 133), (33, 63), (85, 91), (60, 110), (14, 44), (43, 100), (52, 116), (29, 65), (35, 142), (93, 94), (18, 143), (105, 138), (13, 123), (12, 134), (53, 142), (43, 57), (38, 62), (15, 84), (56, 125), (1, 99), (1, 81), (50, 67), (15, 33), (8, 11), (36, 82), (25, 53), (52, 149), (5, 31), (26, 44), (28, 85), (12, 84), (15, 142), (47, 91), (92, 108), (95, 123), (78, 142), (45, 62), (67, 146), (99, 145), (12, 66), (70, 92), (73, 81), (13, 75), (110, 140), (27, 144), (29, 110), (69, 144), (46, 65), (56, 136), (12, 24), (21, 109), (25, 39), (17, 147), (117, 146), (131, 146), (83, 89), (39, 113), (59, 69), (21, 114), (39, 88), (82, 113), (45, 75), (8, 95), (18, 141), (85, 109), (100, 119), (8, 64), (10, 86), (30, 124), (91, 107), (45, 83), (90, 108), (78, 132), (46, 107), (109, 124), (7, 107), (28, 101), (52, 90), (32, 137), (38, 89), (14, 108), (120, 133), (7, 99), (32, 58), (20, 43), (30, 55), (126, 147), (40, 65), (9, 63), (96, 107), (11, 61), (27, 98), (44, 83), (29, 108), (59, 129), (63, 94), (34, 114), (138, 139), (47, 58), (17, 81), (7, 133), (13, 99), (32, 132), (81, 146), (17, 126), (76, 110), (89, 149), (55, 95), (41, 56), (61, 117), (35, 71), (48, 79), (29, 37), (77, 78), (22, 79), (80, 117), (39, 78), (48, 72), (9, 112), (41, 98), (36, 104), (3, 109), (31, 112), (10, 109), (2, 102), (8, 55), (71, 116), (49, 136), (89, 105), (127, 130), (69, 137), (18, 119), (64, 107), (28, 38), (45, 103), (14, 125), (110, 124), (51, 66), (22, 119), (35, 122), (45, 145), (28, 118), (26, 110), (15, 126), (69, 80), (86, 120), (12, 86), (57, 90), (40, 47), (0, 18), (61, 121), (120, 126), (10, 74), (19, 109), (90, 122), (60, 90), (23, 43), (124, 147), (53, 129), (22, 113), (37, 39), (24, 111), (19, 21), (123, 125), (99, 119), (42, 111), (66, 97), (96, 116), (2, 126), (5, 77), (81, 91), (35, 51), (34, 146), (61, 75), (114, 146), (2, 67), (25, 83), (62, 135), (61, 86), (53, 71), (13, 45), (76, 143), (17, 51), (31, 58), (7, 122), (23, 35), (73, 85), (70, 132), (24, 67), (55, 82), (30, 37), (24, 32), (17, 96), (5, 131), (37, 131), (15, 69), (19, 121), (30, 84), (21, 124), (46, 99), (118, 135), (44, 140), (52, 61), (65, 144), (37, 98), (44, 134), (91, 105), (81, 128), (45, 107), (37, 143), (58, 140), (103, 127), (124, 148), (3, 90), (58, 112), (85, 146), (2, 142), (10, 145), (52, 122), (7, 37), (49, 123), (67, 78), (85, 144), (105, 109), (74, 119), (10, 90), (9, 54), (6, 86), (70, 95), (43, 131), (46, 147), (8, 40), (47, 114), (6, 57), (110, 120), (98, 127), (56, 62), (52, 126), (94, 135), (119, 123), (68, 118), (83, 133), (22, 41), (73, 140), (55, 111), (48, 144), (9, 105), (4, 87), (82, 145), (22, 137), (18, 30), (10, 91), (90, 112), (75, 106), (63, 105), (11, 55), (86, 129), (43, 141), (84, 134), (21, 104), (92, 127), (106, 140), (0, 44), (105, 141), (41, 94), (30, 69), (59, 97), (56, 139), (65, 135), (106, 113), (74, 122), (9, 87), (57, 107), (0, 50), (54, 85), (56, 132), (39, 61), (59, 79), (46, 58), (64, 92), (8, 78), (107, 125), (11, 108), (34, 149), (66, 84), (63, 121), (98, 108), (112, 145), (73, 82), (66, 135), (8, 23), (95, 104), (81, 86), (97, 114), (69, 88), (95, 112), (11, 135), (123, 144), (28, 130), (21, 41), (0, 149), (50, 82), (48, 127), (28, 64), (7, 142), (58, 149), (27, 81), (67, 136), (112, 148), (18, 85), (65, 102), (9, 70), (2, 48), (8, 103), (8, 108), (9, 81), (24, 76), (58, 111), (59, 147), (101, 126), (121, 122), (56, 145), (3, 146), (34, 141), (33, 90), (82, 149), (59, 102), (45, 121), (67, 125), (5, 129), (54, 55), (56, 134), (14, 23), (20, 73), (16, 141), (12, 69), (58, 84), (37, 64), (96, 148), (84, 113), (63, 91), (25, 51), (41, 141), (26, 50), (10, 48), (46, 120), (114, 117), (7, 145), (4, 52), (49, 65), (9, 46), (70, 96), (75, 136), (42, 121), (9, 145), (104, 125), (43, 67), (17, 66), (41, 81), (29, 137), (12, 70), (49, 73), (105, 115), (73, 98), (111, 124), (3, 66), (16, 98), (24, 26), (43, 59), (30, 71), (44, 102), (64, 71), (33, 144), (8, 92), (72, 112), (12, 19), (16, 69), (107, 126), (25, 37), (15, 52), (58, 80), (36, 135), (30, 94), (90, 91), (24, 146), (27, 51), (24, 110), (67, 128), (29, 79), (48, 50), (61, 140), (103, 109), (68, 135), (56, 104), (89, 136), (91, 126), (37, 112), (39, 68), (113, 146), (3, 117), (24, 86), (1, 70), (19, 117), (103, 140), (62, 102), (134, 148), (19, 63), (133, 135), (7, 102), (66, 88), (96, 133), (88, 91), (107, 135), (32, 48), (94, 141), (79, 114), (16, 113), (23, 146), (105, 121), (7, 117), (123, 128), (42, 131), (22, 100), (68, 141), (31, 73), (115, 116), (4, 113), (3, 107), (2, 104), (43, 80), (90, 137), (67, 88), (58, 113), (14, 49), (132, 142), (0, 86), (6, 144), (66, 67), (2, 132), (10, 53), (53, 74), (98, 129), (6, 55), (99, 148), (10, 61), (78, 91), (57, 129), (78, 83), (23, 62), (20, 103), (23, 124), (44, 147), (8, 81), (39, 124), (90, 111), (20, 149), (88, 103), (77, 83), (30, 140), (77, 111), (22, 88), (53, 59), (104, 123), (108, 109), (87, 120), (131, 147), (40, 84), (16, 143), (98, 141), (25, 129), (53, 66), (37, 117), (57, 117), (110, 131), (6, 127), (30, 107), (35, 137), (8, 49), (25, 36), (113, 140), (2, 4), (13, 48), (9, 102), (80, 90), (72, 117), (132, 136), (12, 17), (18, 130), (95, 119), (84, 98), (51, 76), (24, 128), (128, 149), (115, 118), (84, 119), (20, 29), (54, 137), (15, 100), (93, 107), (77, 116), (45, 123), (28, 117), (37, 100), (36, 109), (13, 22), (34, 138), (45, 48), (25, 30), (5, 9), (19, 20), (29, 30), (120, 139), (49, 133), (49, 149), (42, 63), (16, 64), (32, 86), (83, 126), (62, 73), (30, 61), (57, 76), (87, 133), (40, 66), (73, 148), (13, 94), (0, 64), (39, 98), (39, 91), (97, 99), (9, 41), (46, 68), (72, 122), (105, 124), (109, 141), (50, 54), (124, 129), (0, 53), (14, 25), (8, 73), (99, 130), (91, 109), (111, 123), (34, 52), (50, 120), (55, 91), (105, 126), (89, 102), (96, 124), (76, 77), (106, 133), (83, 127), (8, 84), (52, 124), (22, 101), (82, 146), (111, 114), (105, 117), (90, 141), (26, 75), (122, 123), (71, 138), (10, 93), (73, 102), (42, 85), (68, 145), (26, 86), (92, 109), (75, 114), (28, 149), (22, 67), (60, 141), (12, 36), (50, 149), (99, 126), (18, 77), (30, 92), (64, 101), (24, 87), (31, 60), (27, 103), (16, 149), (9, 65), (127, 138), (78, 79), (9, 131), (17, 75), (6, 101), (56, 64), (29, 104), (14, 145), (68, 130), (113, 129), (61, 71), (103, 115), (17, 28), (32, 140), (23, 33), (74, 116), (15, 85), (52, 140), (34, 43), (111, 128), (21, 110), (30, 81), (41, 137), (84, 138), (0, 60), (87, 114), (29, 81), (26, 93), (38, 126), (41, 110), (45, 125), (11, 101), (3, 97), (34, 81), (17, 93), (8, 113), (11, 103), (110, 149), (108, 137), (35, 139), (38, 54), (144, 147), (4, 56), (43, 75), (43, 73), (77, 134), (6, 95), (75, 112), (133, 140), (29, 144), (85, 97), (6, 138), (84, 126), (32, 143), (16, 94), (116, 129), (13, 117), (25, 143), (86, 130), (7, 10), (72, 85), (54, 106), (56, 107), (59, 107), (102, 140), (88, 136), (66, 143), (10, 132), (59, 60), (112, 115), (55, 62), (5, 102), (78, 137), (60, 79), (68, 75), (11, 134), (25, 114), (79, 109), (2, 36), (50, 57), (21, 76), (10, 136), (77, 88), (84, 148), (136, 146), (5, 34), (6, 39), (58, 132), (47, 137), (33, 57), (83, 88), (41, 122), (52, 58), (8, 96), (79, 113), (22, 58), (79, 107), (3, 38), (125, 138), (13, 114), (15, 115), (58, 71), (30, 101), (37, 96), (128, 147), (128, 146), (46, 50), (17, 85), (1, 44), (32, 55), (17, 29), (35, 135), (79, 120), (73, 94), (6, 65), (130, 141), (27, 58), (60, 89), (37, 67), (61, 125), (30, 83), (24, 116), (68, 100), (43, 119), (44, 70), (20, 85), (36, 145), (36, 46), (51, 129), (70, 121), (81, 106), (138, 140), (106, 124), (0, 43), (14, 115), (15, 140), (8, 80), (3, 42), (106, 121), (0, 12), (100, 143), (117, 133), (31, 116), (83, 111), (114, 120), (20, 144), (47, 74), (16, 112), (56, 119), (14, 17), (63, 98), (18, 24), (9, 100), (0, 101), (8, 27), (8, 129), (48, 115), (91, 113), (23, 50), (64, 82), (28, 145), (92, 114), (30, 91), (74, 103), (117, 147), (68, 112), (4, 68), (117, 118), (55, 60), (20, 49), (70, 71), (57, 86), (95, 139), (70, 128), (80, 134), (120, 142), (88, 97), (60, 140), (35, 81), (68, 143), (15, 37), (9, 122), (103, 112), (80, 106), (13, 89), (45, 93), (93, 144), (30, 70), (52, 88), (43, 68), (55, 133), (37, 115), (86, 97), (45, 129), (16, 43), (52, 82), (37, 81), (91, 94), (30, 97), (54, 96), (42, 136), (18, 149), (0, 27), (72, 88), (106, 110), (49, 66), (44, 68), (10, 130), (33, 51), (34, 130), (109, 140), (32, 79), (21, 77), (127, 132), (92, 125), (35, 57), (40, 91), (76, 90), (99, 108), (15, 45), (61, 84), (99, 100), (59, 61), (18, 78), (70, 90), (28, 123), (37, 99), (84, 143), (110, 128), (85, 136), (19, 74), (3, 95), (9, 43), (6, 125), (57, 118), (20, 130), (2, 118), (38, 68), (79, 111), (11, 88), (108, 112), (34, 144), (49, 147), (67, 110), (94, 110), (8, 35), (101, 141), (36, 77), (133, 137), (31, 71), (30, 114), (21, 144), (18, 142), (47, 149), (26, 80), (87, 89), (65, 116), (40, 48), (111, 134), (13, 25), (11, 140), (6, 146), (28, 42), (28, 29), (24, 40), (20, 51), (89, 97), (8, 68), (20, 126), (73, 124), (2, 131), (26, 69), (10, 68), (7, 55), (16, 138), (77, 80), (83, 115), (105, 147), (23, 65), (78, 107), (25, 106), (92, 141), (30, 90), (9, 104), (112, 147), (50, 126), (61, 126), (82, 93), (65, 145), (45, 105), (127, 136), (17, 100), (4, 34), (10, 66), (42, 99), (57, 124), (76, 80), (33, 131), (16, 147), (90, 107), (92, 100), (34, 86), (68, 104), (125, 139), (62, 111), (38, 116), (53, 62), (56, 122), (33, 103), (54, 59), (55, 130), (100, 136), (63, 119), (102, 142), (87, 95), (120, 148), (7, 128), (58, 129), (16, 48), (95, 135), (90, 98), (102, 136), (13, 87), (54, 129), (34, 145), (68, 99), (19, 80), (28, 131), (16, 52), (1, 54), (88, 142), (49, 148), (42, 68), (49, 75), (26, 146), (94, 107), (16, 71), (34, 58), (10, 25), (94, 118), (66, 147), (79, 83), (66, 113), (75, 104), (79, 133), (97, 127), (44, 86), (97, 118), (39, 114), (55, 96), (89, 114), (7, 57), (55, 59), (37, 108), (52, 142), (83, 124), (36, 38), (3, 118), (71, 90), (76, 113), (1, 106), (119, 139), (22, 91), (52, 73), (23, 109), (13, 135), (16, 54), (10, 23), (70, 139), (69, 93), (15, 132), (128, 143), (10, 33), (12, 61), (93, 118), (29, 41), (10, 44), (57, 109), (51, 141), (10, 38), (61, 65), (9, 10), (0, 125), (73, 90), (44, 69), (0, 105), (27, 106), (85, 117), (17, 47), (62, 131), (128, 138), (75, 82), (118, 145), (2, 13), (0, 83), (66, 77), (13, 67), (113, 125), (1, 49), (25, 66), (47, 88), (91, 135), (14, 94), (43, 107), (81, 93), (93, 123), (73, 145), (4, 149), (97, 144), (37, 110), (38, 67), (26, 133), (37, 57), (33, 34), (24, 148), (69, 81), (4, 100), (31, 119), (53, 101), (90, 130), (113, 139), (83, 86), (133, 149), (27, 148), (6, 23), (108, 135), (11, 80), (27, 49), (26, 124), (43, 77), (39, 73), (7, 41), (92, 124), (18, 102), (35, 146), (59, 106), (31, 125), (29, 70), (96, 140), (69, 135), (17, 111), (70, 112), (108, 149), (13, 53), (62, 98), (4, 17), (95, 115), (56, 129), (124, 138), (14, 119), (129, 146), (38, 121), (24, 27), (27, 53), (4, 138), (55, 74), (84, 85), (52, 75), (64, 80), (26, 59), (133, 141), (26, 84), (49, 131), (60, 122), (14, 56), (89, 144), (107, 114), (86, 98), (28, 43), (41, 149), (106, 111), (4, 108), (59, 101), (3, 69), (47, 99), (20, 79), (51, 135), (69, 143), (23, 115), (78, 128), (67, 90), (54, 127), (79, 137), (58, 92), (33, 97), (63, 135), (3, 46), (117, 148), (85, 95), (23, 47), (66, 72), (79, 128), (69, 141), (13, 143), (42, 60), (93, 122), (19, 122), (39, 67), (90, 126), (136, 139), (106, 137), (52, 89), (104, 131), (67, 81), (82, 114), (84, 127), (21, 26), (76, 148), (25, 47), (77, 109), (5, 104), (4, 9), (13, 81), (63, 66), (31, 76), (10, 70), (77, 104), (62, 109), (38, 139), (47, 92), (89, 135), (32, 52), (121, 143), (15, 48), (115, 145), (43, 83), (118, 132), (0, 109), (73, 136), (42, 84), (46, 53), (24, 41), (70, 101), (7, 56), (15, 124), (36, 139), (23, 87), (24, 75), (47, 86), (32, 71), (62, 88), (29, 106), (101, 135), (63, 103), (36, 53), (25, 69), (40, 110), (123, 126), (44, 87), (0, 108), (90, 149), (22, 105), (94, 142), (5, 88), (21, 44), (100, 145), (39, 127), (25, 86), (27, 102), (20, 39), (23, 71), (29, 39), (5, 139), (3, 112), (29, 135), (32, 81), (43, 44), (40, 43), (99, 120), (8, 28), (41, 44), (48, 66), (15, 105), (119, 132), (13, 127), (23, 128), (0, 36), (9, 28), (107, 115), (42, 65), (19, 129), (59, 89), (10, 15), (8, 137), (27, 138), (90, 121), (84, 133), (64, 83), (19, 95), (24, 149), (63, 115), (4, 65), (140, 143), (38, 55), (48, 57), (21, 42), (60, 126), (115, 125), (59, 121), (60, 136), (74, 79), (126, 145), (70, 104), (11, 99), (16, 30), (86, 122), (54, 120), (16, 75), (49, 106), (80, 116), (49, 80), (89, 121), (25, 91), (8, 119), (29, 40), (83, 129), (39, 70), (27, 112), (24, 47), (69, 132), (14, 53), (33, 54), (83, 122), (2, 24), (53, 81), (92, 110), (28, 81), (45, 146), (74, 110), (38, 76), (94, 115), (17, 103), (1, 132), (57, 72), (11, 54), (90, 125), (16, 44), (29, 73), (90, 138), (20, 58), (55, 56), (23, 54), (23, 134), (65, 75), (54, 62), (20, 107), (14, 142), (71, 128), (12, 149), (3, 54), (1, 143), (89, 122), (16, 84), (17, 128), (6, 87), (118, 131), (26, 71), (18, 122), (43, 55), (63, 65), (35, 39), (12, 33), (78, 97), (33, 48), (121, 141), (45, 70), (13, 16), (16, 51), (14, 121), (75, 81), (3, 73), (79, 98), (19, 102), (46, 63), (2, 56), (63, 127), (108, 127), (8, 145), (84, 116), (12, 119), (60, 73), (90, 104), (9, 92), (8, 90), (96, 106), (52, 132), (87, 110), (73, 135), (36, 74), (11, 22), (23, 25), (13, 92), (52, 83), (88, 92), (8, 121), (42, 69), (14, 104), (83, 125), (68, 139), (49, 95), (99, 140), (10, 123), (79, 84), (119, 143), (42, 141), (71, 114), (22, 44), (7, 67), (53, 135), (62, 106), (11, 65), (9, 36), (80, 132), (10, 18), (41, 143), (49, 89), (20, 90), (31, 94), (110, 123), (14, 95), (9, 32), (12, 129), (41, 47), (13, 137), (55, 99), (122, 127), (50, 114), (16, 35), (1, 96), (47, 70), (50, 105), (8, 143), (24, 98), (78, 115), (104, 122), (15, 130), (20, 86), (132, 139), (40, 96), (37, 130), (90, 142), (44, 122), (7, 139), (4, 129), (15, 21), (23, 76), (48, 110), (43, 58), (85, 127), (56, 73), (86, 90), (24, 78), (15, 107), (79, 99), (90, 132), (94, 123), (31, 40), (64, 139), (85, 103), (34, 74), (28, 139), (6, 10), (4, 55), (70, 127), (92, 136), (45, 96), (44, 46), (35, 120), (66, 131), (72, 132), (140, 145), (29, 148), (128, 137), (111, 122), (14, 101), (56, 123), (13, 74), (9, 96), (100, 122), (77, 114), (44, 60), (79, 122), (57, 127), (39, 128), (33, 74), (16, 92), (106, 141), (33, 80), (56, 147), (25, 38), (6, 133), (59, 80), (87, 149), (68, 129), (89, 103), (81, 112), (73, 137), (14, 103), (76, 123), (10, 47), (61, 101), (74, 129), (30, 76), (9, 147), (2, 140), (32, 138), (14, 38), (47, 130), (1, 13), (11, 138), (1, 67), (67, 99), (94, 95), (72, 103), (8, 127), (2, 45), (86, 113), (12, 73), (35, 44), (17, 30), (105, 135), (28, 51), (0, 66), (22, 145), (114, 137), (56, 146), (35, 58), (53, 103), (74, 135), (70, 97), (0, 73), (20, 143), (54, 71), (2, 70), (20, 47), (53, 82), (41, 146), (21, 48), (41, 91), (91, 112), (88, 119), (47, 62), (32, 78), (32, 77), (96, 121), (55, 64), (2, 69), (4, 145), (44, 80), (37, 65), (57, 115), (19, 71), (94, 113), (115, 133), (76, 129), (78, 136), (57, 87), (72, 78), (26, 39), (51, 111), (47, 131), (119, 147), (93, 102), (12, 124), (7, 112), (59, 70), (17, 132), (97, 126), (78, 147), (39, 109), (69, 71), (35, 46), (71, 106), (27, 30), (112, 122), (61, 133), (11, 58), (49, 87), (19, 86), (62, 96), (31, 138), (14, 106), (32, 70), (81, 110), (23, 141), (19, 148), (47, 66), (13, 128), (5, 17), (107, 149), (72, 100), (94, 98), (14, 87), (52, 67), (60, 101), (12, 15), (12, 89), (80, 108), (114, 115), (126, 129), (23, 26), (11, 116), (72, 82), (87, 119), (81, 147), (93, 116), (52, 101), (84, 124), (80, 112), (43, 103), (52, 133), (38, 73), (42, 92), (20, 36), (48, 120), (6, 52), (42, 72), (4, 32), (40, 139), (13, 105), (17, 57), (10, 95), (12, 14), (103, 126), (75, 84), (65, 147), (77, 130), (69, 120), (36, 119), (72, 99), (7, 106), (6, 114), (36, 57), (82, 138), (19, 36), (141, 144), (1, 27), (84, 142), (45, 56), (11, 79), (21, 98), (16, 47), (42, 80), (20, 137), (22, 132), (44, 57), (62, 89), (67, 89), (91, 121), (96, 109), (62, 141), (3, 52), (25, 133), (26, 142), (65, 100), (33, 126), (8, 61), (45, 142), (36, 68), (15, 139), (22, 53), (56, 131), (25, 87), (84, 101), (135, 141), (114, 131), (65, 95), (6, 24), (21, 100), (71, 92), (44, 137), (14, 42), (40, 111), (71, 104), (76, 118), (136, 148), (26, 65), (4, 42), (15, 27), (5, 79), (32, 37), (32, 95), (25, 100), (45, 144), (11, 106), (91, 100), (72, 84), (15, 46), (67, 69), (31, 48), (20, 99), (37, 135), (54, 94), (54, 63), (42, 117), (27, 55), (24, 100), (29, 139), (3, 72), (101, 137), (127, 145), (5, 7), (121, 133), (78, 101), (92, 112), (32, 112), (94, 100), (91, 122), (10, 94), (19, 92), (66, 110), (61, 62), (66, 122), (82, 100), (23, 131), (0, 56), (26, 53), (78, 96), (141, 145), (81, 122), (37, 136), (21, 79), (50, 78), (7, 69), (20, 115), (76, 138), (44, 81), (68, 79), (9, 80), (20, 74), (124, 140), (60, 77), (85, 137), (72, 118), (94, 122), (12, 141), (31, 85), (10, 143), (39, 139), (32, 130), (73, 118), (83, 114), (61, 70), (94, 121), (13, 139), (57, 65), (102, 105), (128, 135), (59, 122), (63, 139), (46, 109), (25, 135), (4, 70), (64, 95), (2, 109), (15, 17), (3, 128), (77, 128), (103, 146), (8, 89), (85, 96), (60, 138), (51, 77), (48, 87), (96, 143), (29, 143), (38, 100), (104, 108), (68, 128), (61, 103), (121, 125), (68, 127), (31, 56), (100, 141), (52, 81), (9, 143), (83, 112), (58, 82), (106, 126), (89, 147), (2, 32), (73, 121), (102, 119), (65, 81), (85, 122), (17, 71), (6, 132), (2, 23), (1, 4), (49, 60), (54, 68), (135, 146), (37, 94), (96, 131), (27, 125), (65, 78), (9, 31), (61, 87), (110, 115), (59, 114), (21, 106), (81, 101), (91, 132), (15, 82), (12, 113), (1, 86), (41, 113), (114, 136), (53, 122), (17, 25), (126, 148), (101, 117), (35, 41), (4, 31), (117, 131), (115, 126), (86, 132), (53, 89), (102, 145), (77, 143), (108, 121), (72, 133), (44, 62), (32, 90), (80, 93), (0, 144), (19, 40), (41, 111), (13, 37), (61, 118), (59, 100), (23, 140), (30, 102), (15, 146), (36, 42), (101, 105), (129, 138), (68, 124), (114, 126), (12, 23), (3, 149), (0, 131), (15, 123), (26, 119), (70, 118), (69, 92), (116, 127), (5, 13), (4, 107), (60, 108), (80, 145), (37, 61), (30, 112), (14, 20), (70, 78), (82, 143), (23, 112), (30, 73), (4, 23), (5, 146), (11, 74), (32, 75), (23, 84), (45, 89), (65, 76), (51, 79), (15, 143), (40, 137), (122, 149), (54, 77), (36, 138), (7, 15), (67, 102), (23, 64), (54, 93), (28, 62), (75, 138), (12, 118), (101, 119), (99, 115), (16, 122), (108, 139), (24, 104), (12, 146), (69, 121), (65, 72), (33, 136), (61, 66), (123, 148), (9, 136), (16, 78), (52, 77), (14, 88), (2, 68), (32, 96), (79, 123), (116, 124), (4, 98), (77, 101), (36, 144), (14, 81), (20, 111), (62, 110), (110, 121), (25, 27), (47, 132), (128, 134), (52, 137), (48, 59), (19, 45), (25, 120), (1, 53), (8, 111), (95, 113), (10, 19), (28, 53), (27, 100), (81, 115), (55, 69), (38, 60), (33, 125), (112, 121), (73, 100), (7, 68), (44, 93), (1, 131), (49, 130), (59, 93), (95, 108), (4, 41), (50, 112), (29, 72), (82, 92), (71, 83), (49, 64), (87, 137), (43, 48), (28, 97), (14, 16), (88, 148), (54, 67), (20, 104), (45, 117), (12, 128), (64, 88), (71, 103), (56, 116), (11, 85), (88, 124), (61, 124), (65, 109), (22, 111), (0, 113), (0, 112), (11, 115), (41, 93), (42, 125), (33, 146), (33, 106), (0, 75), (26, 139), (5, 8), (63, 83), (2, 85), (75, 78), (100, 130), (94, 99), (10, 43), (23, 67), (101, 102), (19, 111), (92, 93), (69, 99), (29, 129), (101, 139), (68, 98), (16, 73), (5, 47), (99, 142), (106, 112), (24, 56), (54, 102), (65, 141), (22, 146), (22, 69), (38, 81), (120, 143), (73, 91), (54, 112), (81, 108), (59, 140), (60, 116), (1, 76), (55, 129), (15, 110), (60, 62), (26, 115), (23, 135), (8, 85), (94, 101), (16, 88), (0, 127), (52, 136), (23, 101), (25, 35), (0, 133), (45, 78), (135, 144), (113, 122), (8, 110), (59, 110), (30, 148), (37, 133), (18, 127), (132, 141), (76, 119), (124, 149), (32, 120), (40, 144), (45, 66), (104, 132), (3, 36), (10, 65), (61, 142), (82, 99), (15, 25), (21, 67), (122, 133), (53, 114), (32, 59), (67, 96), (11, 86), (89, 123), (94, 125), (55, 87), (31, 81), (20, 147), (101, 110), (62, 68), (7, 72), (33, 66), (7, 13), (31, 142), (16, 118), (6, 47), (62, 147), (84, 97), (75, 107), (144, 148), (35, 97), (27, 108), (74, 144), (31, 128), (37, 48), (13, 35), (110, 129), (49, 94), (48, 99), (61, 147), (85, 140), (3, 103), (36, 66), (30, 35), (3, 45), (40, 128), (13, 24), (12, 50), (79, 140), (15, 87), (62, 95), (84, 130), (10, 27), (74, 123), (127, 141), (78, 131), (121, 128), (114, 124), (116, 130), (3, 41), (42, 79), (98, 114), (10, 144), (59, 94), (38, 93), (70, 82), (76, 121), (20, 44), (31, 47), (25, 97), (27, 86), (2, 66), (17, 70), (23, 86), (59, 73), (8, 24), (19, 119), (11, 104), (87, 145), (3, 7), (7, 97), (46, 92), (29, 127), (124, 143), (5, 28), (79, 81), (11, 27), (5, 130), (84, 149), (28, 66), (37, 86), (94, 109), (64, 104), (80, 140), (27, 107), (9, 61), (42, 127), (17, 99), (15, 118), (52, 93), (65, 133), (0, 89), (22, 140), (82, 123), (0, 1), (15, 51), (10, 84), (20, 68), (13, 21), (86, 112), (67, 122), (110, 130), (18, 37), (49, 117), (6, 15), (37, 92), (36, 59), (3, 127), (49, 55), (50, 96), (120, 146), (4, 45), (101, 129), (30, 96), (59, 115), (76, 117), (55, 147), (22, 90), (97, 140), (3, 55), (21, 68), (55, 121), (0, 10), (44, 65), (111, 117), (7, 141), (47, 56), (50, 128), (5, 80), (20, 67), (16, 24), (35, 141), (16, 109), (39, 43), (1, 41), (26, 134), (111, 148), (13, 96), (36, 44), (44, 99), (19, 30), (27, 146), (9, 11), (23, 34), (65, 74), (81, 105), (89, 115), (0, 54), (83, 117), (54, 69), (30, 32), (40, 113), (18, 32), (32, 89), (19, 59), (91, 93), (34, 90), (13, 41), (65, 126), (37, 72), (28, 109), (39, 119), (81, 95), (31, 54), (42, 132), (36, 117), (33, 40), (106, 119), (60, 128), (107, 131), (50, 147), (25, 124), (1, 15), (25, 34), (26, 33), (11, 132), (68, 87), (43, 94), (65, 91), (46, 89), (32, 84), (119, 129), (22, 45), (25, 110), (15, 86), (20, 131), (5, 48), (101, 148), (66, 108), (101, 121), (32, 66), (74, 147), (11, 118), (16, 108), (35, 129), (85, 101), (66, 75), (72, 90), (87, 116), (90, 139), (44, 145), (8, 14), (12, 125), (131, 135), (25, 107), (94, 143), (21, 71), (82, 121), (4, 61), (35, 87), (62, 93), (14, 32), (25, 144), (9, 71), (129, 142), (66, 148), (118, 124), (61, 145), (122, 148), (18, 71), (123, 136), (93, 124), (93, 103), (28, 76), (18, 39), (25, 103), (17, 89), (34, 109), (68, 81), (0, 93), (38, 42), (38, 133), (35, 99), (13, 141), (38, 77), (1, 114), (61, 141), (98, 140), (27, 113), (3, 96), (61, 128), (49, 52), (23, 99), (113, 135), (27, 62), (38, 142), (1, 95), (26, 129), (103, 137), (31, 75), (33, 99), (91, 140), (63, 130), (66, 109), (91, 125), (5, 10), (2, 55), (83, 141), (101, 103), (23, 139), (73, 76), (42, 50), (44, 98), (33, 98), (11, 21), (51, 119), (113, 127), (91, 111), (127, 133), (112, 125), (29, 77), (71, 108), (22, 37), (11, 70), (111, 146), (25, 60), (7, 85), (70, 146), (26, 147), (117, 122), (28, 37), (95, 148), (62, 70), (97, 148), (48, 75), (48, 146), (113, 142), (29, 123), (10, 26), (58, 87), (55, 145), (46, 56), (62, 120), (38, 64), (52, 65), (82, 135), (38, 144), (63, 85), (29, 117), (36, 134), (31, 100), (40, 108), (26, 82), (4, 20), (107, 110), (101, 140), (48, 86), (56, 105), (63, 87), (12, 115), (95, 122), (36, 111), (17, 109), (105, 122), (57, 83), (44, 50), (25, 77), (17, 131), (31, 67), (59, 98), (21, 113), (2, 82), (18, 73), (14, 19), (8, 126), (53, 86), (50, 60), (43, 135), (8, 104), (7, 121), (130, 146), (20, 122), (1, 32), (116, 122), (75, 96), (2, 138), (56, 86), (13, 131), (80, 82), (61, 91), (26, 148), (49, 77), (25, 26), (39, 133), (11, 111), (5, 136), (10, 148), (25, 128), (113, 131), (35, 43), (71, 130), (23, 37), (31, 32), (72, 121), (1, 69), (28, 99), (48, 49), (104, 136), (67, 114), (77, 108), (8, 13), (81, 111), (16, 142), (34, 83), (67, 86), (113, 117), (11, 64), (52, 70), (100, 110), (22, 93), (1, 5), (56, 120), (41, 120), (83, 148), (9, 90), (63, 144), (40, 121), (42, 130), (17, 63), (13, 42), (7, 54), (56, 83), (90, 145), (77, 105), (126, 127), (32, 149), (32, 123), (3, 26), (36, 50), (6, 44), (66, 133), (18, 61), (52, 92), (9, 134), (52, 104), (9, 149), (104, 105), (34, 113), (85, 143), (7, 20), (105, 118), (38, 135), (20, 142), (132, 138), (42, 139), (31, 148), (32, 135), (6, 50), (31, 69), (31, 118), (28, 54), (23, 116), (80, 129), (31, 134), (69, 149), (78, 94), (118, 129), (125, 147), (29, 138), (19, 84), (51, 91), (82, 127), (34, 70), (87, 109), (75, 145), (36, 114), (29, 62), (59, 138), (107, 138), (0, 88), (51, 112), (129, 130), (47, 49), (127, 144), (37, 73), (19, 97), (78, 104), (4, 126), (42, 133), (20, 62), (0, 79), (71, 105), (67, 72), (34, 84), (7, 137), (77, 117), (96, 128), (33, 94), (118, 125), (48, 112), (59, 130), (31, 63), (92, 128), (29, 98), (56, 99), (23, 95), (22, 74), (10, 52), (13, 26), (6, 49), (51, 105), (28, 48), (32, 54), (51, 133), (46, 116), (45, 94), (22, 54), (17, 142), (10, 142), (97, 124), (29, 31), (67, 145), (115, 127), (36, 75), (81, 92), (48, 141), (73, 131), (33, 114), (29, 147), (90, 129), (53, 126), (25, 101), (73, 130), (40, 62), (99, 102), (76, 139), (67, 141), (115, 142), (13, 65), (56, 79), (52, 146), (5, 110), (27, 127), (88, 121), (69, 115), (91, 131), (10, 131), (9, 50), (67, 68), (8, 56), (12, 126), (135, 149), (17, 105), (60, 113), (80, 130), (3, 51), (80, 109), (19, 34), (75, 90), (36, 60), (10, 99), (69, 100), (76, 136), (26, 77), (15, 61), (27, 52), (77, 141), (104, 148), (36, 113), (33, 38), (60, 129), (57, 112), (39, 135), (41, 51), (65, 138), (81, 88), (37, 134), (28, 116), (87, 144), (60, 91), (3, 147), (31, 132), (44, 142), (31, 39), (64, 149), (81, 99), (1, 35), (36, 107), (39, 48), (74, 97), (40, 120), (12, 53), (21, 29), (84, 118), (113, 145), (65, 92), (36, 89), (29, 87), (69, 87), (24, 99), (72, 105), (43, 78), (72, 76), (19, 35), (29, 42), (37, 76), (39, 147), (50, 56), (105, 114), (12, 139), (19, 43), (23, 118), (3, 71), (11, 105), (101, 106), (58, 101), (5, 101), (59, 90), (42, 118), (54, 138), (26, 125), (71, 120), (83, 97), (4, 123), (35, 48), (132, 135), (67, 98), (87, 134), (14, 114), (123, 145), (20, 63), (43, 98), (112, 142), (21, 81), (43, 95), (13, 31), (3, 129), (79, 125), (29, 140), (22, 77), (76, 120), (53, 104), (9, 47), (28, 94), (37, 87), (17, 54), (42, 62), (97, 115), (43, 47), (118, 139), (53, 98), (62, 100), (46, 139), (10, 149), (91, 129), (22, 118), (44, 124), (29, 48), (14, 80), (51, 118), (126, 131), (62, 122), (57, 97), (46, 90), (105, 111), (41, 124), (53, 148), (2, 96), (38, 125), (88, 113), (50, 97), (18, 117), (6, 97), (15, 28), (88, 128), (102, 125), (5, 122), (130, 143), (14, 143), (18, 47), (46, 143), (0, 41), (3, 79), (31, 110), (47, 78), (13, 100), (7, 73), (19, 62), (88, 93), (129, 135), (37, 56), (62, 86), (103, 130), (39, 99), (11, 37), (12, 144), (45, 139), (5, 29), (73, 107), (55, 108), (49, 114), (7, 77), (43, 112), (18, 145), (27, 36), (46, 76), (77, 113), (10, 110), (1, 136), (29, 51), (58, 141), (135, 136), (32, 131), (47, 142), (8, 139), (69, 96), (5, 38), (47, 128), (6, 77), (16, 120), (14, 76), (35, 140), (7, 49), (4, 35), (74, 145), (42, 108), (58, 95), (32, 46), (73, 141), (43, 134), (83, 120), (23, 53), (24, 62), (25, 137), (16, 80), (12, 138), (17, 74), (19, 143), (17, 55), (75, 134), (29, 50), (66, 101), (18, 82), (66, 79), (36, 47), (87, 94), (43, 109), (31, 144), (19, 37), (78, 146), (84, 112), (10, 120), (19, 24), (61, 80), (135, 139), (26, 87), (74, 86), (83, 139), (25, 44), (57, 111), (72, 149), (26, 30), (20, 146), (21, 25), (20, 77), (85, 113), (45, 91), (43, 50), (28, 70), (60, 87), (7, 92), (22, 147), (32, 39), (73, 144), (4, 102), (113, 143), (35, 86), (31, 62), (74, 78), (24, 127), (97, 138), (69, 142), (78, 82), (38, 122), (28, 125), (9, 133), (1, 126), (60, 64), (120, 129), (135, 142), (18, 43), (24, 77), (10, 17), (61, 127), (51, 113), (22, 43), (80, 119), (53, 102), (48, 116), (49, 63), (89, 91), (87, 123), (83, 121), (76, 95), (49, 90), (51, 57), (32, 102), (116, 118), (38, 124), (1, 34), (69, 90), (68, 77), (1, 18), (71, 111), (33, 124), (4, 142), (103, 106), (67, 144), (47, 101), (49, 141), (24, 96), (19, 83), (129, 147), (139, 141), (2, 20), (13, 84), (110, 147), (13, 77), (40, 99), (77, 125), (35, 61), (57, 88), (74, 90), (50, 84), (0, 82), (79, 103), (20, 116), (27, 31), (85, 104), (83, 94), (111, 120), (25, 89), (117, 142), (23, 89), (99, 131), (11, 44), (45, 76), (0, 31), (6, 143), (41, 82), (33, 69), (12, 35), (136, 137), (87, 122), (39, 51), (60, 97), (41, 115), (32, 76), (16, 38), (12, 117), (80, 81), (140, 142), (56, 128), (71, 110), (1, 92), (70, 94), (89, 109), (7, 98), (51, 117), (11, 141), (84, 86), (27, 57), (35, 56), (52, 76), (79, 88), (31, 123), (36, 61), (84, 94), (105, 106), (138, 142), (49, 128), (117, 145), (8, 120), (113, 126), (29, 76), (46, 127), (33, 112), (30, 103), (52, 96), (3, 32), (102, 126), (104, 140), (20, 75), (7, 129), (29, 99), (55, 110), (47, 83), (126, 143), (10, 49), (46, 134), (32, 104), (3, 58), (7, 90), (16, 62), (30, 31), (45, 110), (121, 145), (65, 70), (54, 123), (3, 43), (49, 100), (51, 96), (1, 130), (27, 66), (22, 42), (56, 77), (25, 70), (12, 40), (55, 134), (9, 91), (32, 109), (111, 127), (87, 107), (67, 124), (59, 71), (27, 149), (10, 63), (5, 112), (67, 101), (103, 147), (73, 78), (71, 135), (5, 83), (16, 67), (137, 142), (91, 99), (40, 138), (14, 71), (43, 125), (1, 145), (55, 132), (81, 144), (18, 34), (1, 73), (66, 127), (77, 138), (34, 35), (92, 145), (77, 91), (3, 31), (49, 101), (100, 103), (18, 64), (9, 67), (15, 99), (51, 140), (14, 146), (28, 93), (62, 97), (51, 149), (2, 59), (74, 113), (71, 76), (33, 91), (12, 41), (60, 81), (98, 103), (57, 89), (15, 22), (91, 101), (68, 114), (74, 115), (71, 99), (32, 103), (18, 46), (26, 101), (84, 96), (7, 29), (21, 69), (29, 115), (21, 99), (109, 137), (109, 117), (80, 135), (26, 76), (26, 83), (53, 149), (75, 149), (0, 137), (4, 29), (8, 144), (128, 144), (25, 134), (60, 119), (59, 135), (31, 106), (93, 148), (20, 109), (10, 67), (42, 91), (22, 30), (37, 88), (41, 131), (16, 34), (61, 114), (64, 97), (36, 87), (17, 64), (11, 57), (71, 117), (60, 72), (36, 132), (33, 141), (70, 130), (73, 123), (57, 82), (43, 70), (40, 129), (5, 133), (0, 62), (42, 97), (74, 111), (23, 130), (140, 141), (60, 123), (57, 132), (4, 103), (52, 128), (22, 39), (33, 121), (47, 109), (46, 75), (63, 88), (27, 118), (17, 58), (20, 136), (113, 123), (36, 90), (92, 117), (37, 95), (76, 109), (100, 133), (43, 81), (76, 112), (49, 127), (60, 146), (3, 11), (3, 78), (96, 146), (122, 135), (57, 142), (95, 144), (5, 57), (56, 127), (45, 102), (29, 145), (103, 108), (25, 118), (97, 103), (14, 96), (124, 132), (4, 118), (102, 103), (32, 45), (62, 79), (53, 105), (20, 40), (57, 84), (15, 80), (112, 132), (20, 27), (59, 111), (90, 99), (44, 128), (104, 144), (59, 74), (99, 137), (14, 55), (56, 109), (45, 143), (102, 109), (66, 91), (11, 67), (2, 101), (102, 117), (46, 81), (33, 116), (47, 85), (1, 20), (89, 90), (4, 135), (22, 63), (34, 102), (59, 88), (82, 101), (35, 100), (17, 101), (14, 68), (33, 148), (1, 40), (4, 6), (4, 141), (81, 96), (53, 120), (75, 147), (7, 82), (61, 73), (12, 147), (117, 139), (93, 125), (86, 93), (71, 109), (39, 66), (30, 145), (58, 145), (87, 131), (65, 90), (110, 127), (24, 117), (57, 119), (95, 136), (31, 43), (15, 113), (116, 119), (11, 25), (11, 50), (66, 87), (10, 59), (92, 107), (77, 148), (35, 90), (58, 114), (76, 91), (37, 49), (38, 145), (31, 135), (42, 143), (9, 109), (0, 16), (7, 96), (8, 114), (5, 89), (45, 136), (26, 36), (36, 127), (4, 48), (27, 54), (104, 127), (25, 57), (31, 42), (72, 124), (111, 119), (14, 33), (66, 149), (84, 105), (85, 135), (43, 106), (62, 105), (13, 148), (17, 115), (14, 139), (106, 130), (63, 129), (82, 144), (11, 148), (85, 107), (47, 48), (4, 137), (28, 32), (27, 117), (100, 124), (49, 58), (5, 32), (30, 58), (18, 54), (45, 53), (17, 76), (32, 134), (69, 130), (13, 86), (65, 132), (79, 149), (102, 113), (12, 18), (42, 64), (50, 140), (43, 133), (28, 96), (22, 114), (4, 132), (16, 37), (21, 88), (14, 28), (54, 83), (17, 21), (92, 140), (109, 113), (72, 130), (31, 88), (5, 73), (74, 126), (15, 106), (6, 22), (9, 118), (30, 106), (53, 119), (6, 7), (39, 122), (32, 88), (47, 77), (19, 52), (62, 75), (95, 126), (97, 141), (45, 74), (67, 148), (2, 46), (46, 122), (41, 142), (41, 119), (73, 126), (95, 116), (6, 67), (32, 118), (22, 103), (91, 128), (27, 133), (40, 54), (79, 96), (78, 118), (58, 116), (30, 34), (26, 123), (24, 119), (62, 140), (40, 42), (77, 95), (58, 90), (17, 140), (66, 130), (45, 52), (48, 85), (18, 148), (2, 113), (19, 124), (15, 70), (125, 148), (98, 136), (43, 120), (41, 73), (56, 142), (102, 134), (74, 98), (49, 76), (78, 117), (29, 78), (47, 50), (79, 110), (5, 25), (109, 129), (40, 134), (53, 79), (54, 116), (107, 109), (135, 138), (30, 116), (5, 143), (46, 104), (0, 103), (14, 113), (10, 146), (16, 22), (0, 71), (105, 145), (33, 145), (64, 146), (15, 120), (14, 86), (72, 142), (39, 132), (40, 93), (24, 81), (12, 62), (39, 85), (55, 94), (20, 132), (10, 82), (24, 105), (57, 92), (51, 71), (3, 13), (36, 128), (23, 69), (44, 141), (3, 141), (6, 145), (2, 6), (5, 117), (18, 65), (2, 148), (71, 75), (39, 95), (16, 139), (6, 121), (2, 103), (29, 92), (32, 127), (57, 113), (52, 138), (67, 91), (103, 111), (41, 86), (58, 97), (35, 68), (24, 109), (33, 113), (31, 93), (4, 77), (20, 35), (33, 58), (46, 69), (68, 70), (92, 97), (47, 118), (12, 116), (1, 46), (24, 39), (37, 83), (80, 124), (40, 106), (22, 108), (64, 148), (96, 135), (15, 90), (42, 95), (6, 108), (31, 140), (46, 132), (64, 102), (31, 35), (50, 70), (10, 83), (60, 67), (117, 124), (113, 116), (7, 81), (108, 146), (47, 52), (62, 130), (56, 78), (32, 110), (70, 113), (66, 93), (7, 50), (113, 144), (5, 96), (57, 74), (40, 51), (67, 84), (79, 95), (118, 126), (61, 119), (12, 38), (23, 93), (21, 73), (12, 109), (37, 51), (22, 25), (21, 27), (0, 126), (40, 116), (16, 89), (53, 130), (27, 92), (24, 44), (114, 128), (46, 64), (20, 128), (30, 99), (33, 110), (4, 146), (58, 134), (12, 63), (18, 68), (59, 83), (64, 129), (12, 111), (30, 110), (3, 119), (5, 121), (62, 81), (98, 148), (92, 148), (28, 91), (51, 64), (14, 135), (6, 56), (130, 139), (78, 126), (48, 98), (26, 73), (87, 115), (45, 87), (0, 21), (66, 74), (70, 98), (76, 85), (81, 149), (28, 105), (96, 129), (28, 69), (0, 100), (86, 133), (77, 120), (5, 145), (36, 65), (110, 135), (16, 40), (60, 102), (58, 138), (38, 129), (23, 32), (58, 70), (95, 118), (79, 129), (74, 128), (2, 110), (39, 97), (82, 96), (112, 140), (3, 135), (45, 59), (44, 84), (23, 138), (19, 144), (56, 96), (91, 147), (63, 106), (65, 125), (43, 108), (54, 143), (112, 118), (14, 35), (2, 123), (54, 78), (120, 123), (29, 146), (5, 123), (35, 110), (110, 116), (2, 61), (38, 148), (11, 129), (52, 94), (113, 121), (6, 41), (25, 92), (76, 108), (13, 29), (144, 145), (48, 133), (80, 118), (119, 134), (90, 144), (78, 92), (21, 92), (73, 79), (68, 120), (15, 29), (52, 95), (6, 70), (42, 43), (81, 143), (10, 118), (69, 131), (35, 108), (57, 71), (24, 35), (4, 72), (46, 131), (60, 85), (21, 32), (29, 69), (71, 95), (26, 149), (95, 129), (23, 68), (84, 128), (11, 12), (5, 44), (36, 112), (26, 105), (75, 146), (17, 52), (100, 111), (32, 38), (17, 31), (6, 131), (45, 61), (16, 70), (85, 120), (83, 113), (46, 93), (139, 149), (13, 136), (27, 145), (26, 74), (100, 107), (28, 65), (56, 72), (59, 92), (22, 128), (29, 52), (39, 80), (36, 140), (26, 72), (106, 149), (7, 109), (5, 140), (7, 53), (67, 87), (20, 125), (43, 115), (8, 20), (123, 135), (81, 116), (51, 56), (63, 134), (122, 125), (53, 134), (70, 114), (27, 121), (86, 101), (95, 109), (93, 130), (49, 108), (7, 66), (10, 81), (60, 99), (80, 126), (37, 141), (12, 20), (6, 147), (57, 59), (111, 149), (145, 147), (4, 93), (105, 139), (26, 108), (24, 90), (99, 146), (116, 132), (97, 137), (66, 90), (36, 122), (101, 138), (86, 88), (7, 48), (25, 121), (18, 101), (56, 141), (16, 42), (24, 50), (62, 99), (9, 106), (44, 120), (65, 86), (81, 131), (15, 74), (94, 111), (38, 74), (120, 131), (48, 111), (38, 41), (99, 106), (114, 147), (89, 143), (53, 70), (17, 91), (74, 96), (68, 108), (3, 94), (0, 95), (35, 106), (39, 118), (25, 62), (36, 37), (44, 127), (13, 15), (66, 89), (58, 85), (36, 40), (77, 142), (85, 131), (65, 110), (2, 3), (77, 118), (34, 59), (16, 125), (79, 97), (81, 121), (44, 76), (115, 147), (70, 88), (86, 123), (34, 44), (14, 18), (85, 88), (73, 138), (15, 94), (36, 69), (15, 147), (25, 55), (2, 146), (13, 49), (12, 26), (22, 142), (99, 118), (41, 104), (27, 110), (83, 143), (31, 80), (6, 30), (145, 146), (12, 68), (9, 139), (1, 149), (72, 128), (14, 140), (1, 23), (111, 121), (95, 125), (31, 72), (101, 115), (58, 108), (112, 134), (69, 73), (110, 117), (24, 69), (98, 110), (15, 89), (40, 88), (49, 124), (107, 128), (29, 35), (3, 134), (7, 148), (28, 77), (52, 147), (60, 124), (26, 29), (134, 137), (99, 143), (2, 122), (98, 120), (26, 97), (6, 25), (34, 106), (39, 144), (99, 138), (129, 145), (123, 137), (11, 139), (79, 112), (48, 54), (49, 86), (45, 97), (66, 68), (85, 123), (39, 62), (20, 108), (2, 62), (60, 61), (38, 91), (102, 132), (6, 128), (27, 63), (82, 116), (66, 83), (101, 144), (12, 42), (19, 60), (29, 121), (20, 98), (0, 34), (71, 137), (4, 82), (70, 136), (96, 120), (52, 145), (106, 116), (20, 42), (116, 147), (22, 86), (48, 106), (129, 143), (92, 142), (35, 145), (48, 62), (18, 140), (71, 97), (77, 147), (78, 135), (50, 81), (77, 84), (19, 140), (52, 100), (71, 86), (21, 28), (16, 99), (21, 142), (124, 133), (7, 22), (24, 79), (61, 85), (76, 78), (55, 104), (85, 138), (40, 135), (2, 25), (74, 82), (3, 82), (1, 107), (36, 67), (109, 148), (128, 136), (10, 89), (39, 129), (65, 97), (38, 39), (57, 128), (105, 146), (59, 82), (47, 115), (52, 103), (97, 100), (33, 61), (56, 113), (56, 140), (18, 29), (47, 119), (25, 94), (14, 117), (75, 76), (51, 145), (60, 71), (58, 142), (30, 111), (31, 122), (61, 111), (50, 64), (11, 20), (29, 132), (16, 77), (39, 141), (26, 121), (14, 138), (62, 118), (93, 141), (3, 56), (24, 88), (31, 143), (33, 138), (53, 112), (77, 145), (24, 130), (59, 66), (137, 143), (42, 70), (61, 64), (25, 125), (80, 111), (36, 93), (17, 38), (74, 85), (9, 59), (24, 145), (112, 124), (54, 95), (19, 72), (42, 128), (35, 114), (22, 32), (12, 94), (29, 89), (10, 107), (105, 110), (86, 100), (14, 100), (17, 110), (81, 94), (129, 137), (39, 55), (118, 143), (62, 123), (77, 99), (64, 112), (28, 61), (14, 85), (109, 146), (58, 148), (59, 144), (99, 133), (103, 131), (76, 131), (32, 128), (78, 148), (55, 86), (5, 127), (68, 119), (23, 145), (5, 60), (43, 52), (108, 120), (13, 19), (95, 110), (70, 74), (2, 11), (88, 137), (31, 84), (13, 106), (32, 113), (53, 147), (47, 147), (93, 111), (15, 73), (71, 115), (67, 131), (11, 93), (28, 133), (40, 87), (1, 110), (17, 50), (34, 78), (18, 57), (104, 116), (97, 113), (133, 144), (42, 78), (65, 106), (58, 88), (21, 89), (27, 33), (125, 136), (49, 126), (31, 120), (108, 134), (105, 119), (49, 54), (93, 120), (41, 48), (130, 142), (46, 74), (125, 142), (56, 59), (54, 87), (4, 101), (10, 11), (16, 17), (107, 123), (31, 121), (35, 128), (35, 112), (96, 115), (43, 113), (48, 138), (17, 138), (56, 111), (98, 138), (50, 108), (18, 95), (24, 71), (75, 129), (39, 77), (37, 105), (0, 26), (82, 95), (54, 121), (38, 147), (113, 138), (37, 40), (33, 135), (42, 98), (98, 145), (74, 138), (38, 128), (64, 68), (52, 106), (111, 135), (24, 66), (7, 79), (66, 82), (99, 107), (86, 146), (74, 120), (25, 142), (48, 63), (11, 56), (115, 136), (106, 108), (35, 50), (92, 132), (57, 114), (117, 126), (28, 36), (69, 91), (19, 47), (11, 29), (37, 41), (2, 31), (18, 121), (56, 93), (79, 139), (64, 66), (83, 138), (0, 57), (34, 135), (2, 80), (46, 101), (62, 80), (129, 133), (26, 89), (75, 140), (34, 57), (13, 142), (18, 48), (57, 66), (24, 138), (56, 81), (39, 137), (3, 110), (24, 113), (7, 87), (50, 133), (106, 142), (62, 69), (32, 139), (50, 79), (38, 95), (31, 57), (54, 133), (96, 101), (63, 145), (20, 38), (6, 59), (117, 132), (58, 96), (57, 101), (51, 55), (54, 132), (118, 123), (13, 125), (17, 120), (5, 76), (78, 122), (25, 119), (42, 129), (22, 99), (25, 108), (57, 144), (19, 138), (36, 101), (3, 23), (81, 89), (2, 89), (6, 35), (30, 88), (25, 68), (120, 135), (3, 50), (11, 144), (1, 33), (0, 39), (37, 90), (5, 132), (0, 13), (43, 76), (48, 56), (1, 42), (11, 28), (5, 113), (37, 58), (2, 75), (63, 96), (30, 138), (1, 148), (39, 45), (2, 119), (40, 52), (75, 93), (9, 21), (107, 118), (21, 129), (122, 141), (44, 149), (11, 16), (88, 109), (9, 124), (112, 116), (89, 127), (76, 101), (24, 65), (22, 115), (43, 97), (106, 128), (114, 139), (38, 47), (34, 80), (10, 50), (71, 94), (21, 134), (102, 141), (2, 87), (58, 60), (32, 49), (77, 96), (6, 8), (47, 134), (109, 114), (33, 62), (84, 121), (21, 78), (15, 103), (11, 13), (71, 123), (130, 131), (52, 120), (26, 130), (131, 143), (7, 86), (45, 71), (71, 143), (37, 126), (17, 104), (86, 103), (78, 102), (2, 79), (12, 106), (57, 148), (25, 117), (79, 141), (90, 113), (57, 147), (65, 85), (9, 39), (9, 73), (25, 72), (85, 126), (93, 129), (42, 142), (3, 67), (81, 104), (108, 118), (9, 40), (42, 96), (105, 133), (2, 12), (35, 91), (77, 146), (16, 101), (27, 116), (33, 134), (36, 131), (21, 115), (0, 140), (8, 149), (17, 144), (85, 116), (3, 126), (111, 145), (76, 102), (63, 78), (3, 138), (97, 128), (43, 90), (108, 125), (13, 34), (6, 134), (32, 101), (1, 78), (53, 84), (37, 124), (8, 69), (7, 144), (37, 71), (5, 87), (41, 53), (5, 126), (46, 78), (43, 139), (52, 125), (7, 32), (3, 34), (4, 10), (56, 69), (49, 74), (43, 56), (21, 40), (66, 70), (73, 77), (7, 27), (1, 58), (27, 111), (77, 102), (49, 145), (112, 120), (66, 99), (33, 122), (40, 55), (68, 84), (123, 147), (41, 52), (17, 149), (4, 62), (23, 83), (49, 121), (32, 65), (90, 100), (34, 56), (69, 72), (54, 110), (17, 27), (93, 96), (43, 147), (47, 120), (17, 35), (24, 51), (35, 70), (115, 129), (82, 102), (87, 128), (93, 121), (119, 142), (10, 102), (15, 62), (38, 117), (1, 85), (34, 128), (32, 93), (32, 100), (16, 115), (65, 127), (143, 145), (53, 110), (79, 89), (82, 106), (52, 110), (77, 140), (52, 134), (16, 126), (5, 26), (88, 100), (26, 70), (54, 136), (1, 75), (29, 105), (109, 121), (45, 68), (34, 97), (58, 98), (8, 21), (63, 89), (19, 116), (64, 123), (63, 75), (53, 73), (79, 105), (68, 148), (17, 124), (86, 137), (19, 54), (65, 67), (33, 109), (122, 138), (137, 138), (6, 13), (18, 22), (47, 57), (35, 121), (116, 131), (52, 111), (26, 106), (87, 111), (101, 124), (2, 38), (11, 38), (6, 111), (56, 89), (18, 91), (5, 142), (77, 133), (29, 118), (28, 129), (43, 148), (125, 144), (3, 16), (68, 89), (9, 120), (8, 123), (38, 61), (52, 115), (66, 123), (106, 129), (9, 24), (18, 100), (73, 95), (89, 131), (90, 124), (131, 144), (83, 109), (65, 142), (13, 80), (12, 140), (47, 89), (8, 83), (64, 67), (22, 143), (52, 85), (97, 146), (12, 136), (25, 116), (24, 141), (41, 64), (97, 125), (64, 81), (7, 111), (1, 39), (65, 118), (83, 135), (72, 135), (2, 52), (1, 57), (65, 137), (53, 68), (60, 144), (84, 87), (21, 149), (31, 130), (8, 60), (44, 96), (50, 90), (77, 94), (1, 139), (41, 92), (55, 137), (100, 115), (56, 112), (14, 105), (6, 129), (12, 81), (114, 145), (13, 56), (40, 115), (110, 126), (114, 123), (96, 130), (13, 112), (126, 133), (15, 133), (46, 55), (17, 65), (87, 142), (21, 62), (94, 120), (48, 76), (14, 39), (2, 42), (33, 83), (30, 44), (50, 69), (8, 10), (82, 97), (0, 4), (61, 78), (8, 138), (82, 122), (59, 137), (39, 72), (15, 54), (29, 47), (83, 102), (91, 134), (7, 78), (97, 119), (0, 38), (56, 91), (15, 93), (68, 95), (95, 134), (63, 118), (52, 114), (53, 115), (98, 104), (3, 144), (50, 74), (101, 145), (36, 52), (71, 112), (69, 127), (100, 137), (137, 141), (60, 78), (9, 99), (147, 148), (65, 119), (44, 118), (108, 138), (24, 133), (92, 102), (2, 64), (98, 139), (0, 94), (81, 134), (9, 27), (52, 56), (71, 142), (8, 124), (38, 134), (75, 103), (112, 141), (40, 44), (24, 36), (32, 115), (41, 130), (3, 39), (64, 77), (65, 115), (13, 33), (132, 137), (61, 130), (27, 59), (5, 98), (54, 134), (36, 48), (72, 145), (5, 92), (46, 124), (51, 82), (25, 56), (34, 47), (31, 114), (27, 130), (9, 29), (6, 81), (63, 136), (33, 107), (11, 36), (97, 131), (14, 84), (9, 62), (4, 133), (17, 118), (132, 143), (27, 65), (67, 126), (13, 97), (45, 112), (6, 29), (77, 89), (94, 117), (106, 127), (126, 130), (51, 124), (9, 146), (79, 115), (64, 106), (47, 73), (59, 91), (56, 97), (28, 128), (2, 78), (11, 84), (43, 137), (67, 135), (40, 105), (67, 77), (82, 129), (25, 74), (109, 139), (28, 63), (9, 17), (31, 113), (18, 90), (98, 146), (29, 58), (14, 43), (13, 20), (80, 86), (113, 134), (46, 148), (38, 132), (50, 148), (116, 136), (21, 85), (31, 59), (20, 54), (53, 93), (67, 85), (34, 118), (94, 124), (8, 26), (96, 139), (2, 22), (23, 81), (40, 117), (69, 122), (72, 91), (21, 37), (56, 115), (3, 57), (0, 135), (4, 97), (99, 104), (6, 118), (57, 100), (0, 9), (32, 68), (7, 63), (85, 142), (60, 74), (107, 129), (7, 43), (56, 70), (12, 46), (14, 31), (121, 124), (101, 127), (48, 82), (6, 88), (118, 147), (42, 134), (73, 122), (87, 90), (66, 118), (3, 124), (42, 67), (50, 129), (6, 18), (59, 131), (21, 31), (12, 49), (6, 98), (45, 90), (70, 105), (39, 136), (69, 112), (63, 108), (7, 47), (101, 132), (103, 144), (33, 100), (9, 13), (34, 132), (27, 61), (48, 81), (6, 78), (23, 57), (72, 143), (88, 118), (13, 132), (49, 70), (113, 124), (6, 80), (10, 121), (4, 69), (62, 63), (50, 98), (138, 146), (15, 148), (43, 143), (32, 51), (66, 100), (8, 19), (71, 107), (87, 118), (41, 87), (82, 105), (13, 108), (10, 62), (75, 118), (65, 140), (54, 86), (31, 117), (139, 146), (99, 103), (57, 143), (8, 16), (22, 106), (51, 126), (20, 138), (63, 120), (58, 61), (82, 147), (31, 55), (40, 100), (123, 139), (24, 33), (49, 139), (10, 98), (84, 110), (90, 123), (4, 111), (2, 33), (80, 91), (58, 67), (44, 61), (95, 103), (87, 147), (128, 142), (78, 149), (17, 22), (46, 82), (79, 101), (14, 126), (8, 34), (54, 149), (74, 134), (1, 109), (111, 118), (73, 112), (9, 130), (19, 96), (117, 135), (18, 23), (47, 54), (10, 114), (7, 146), (127, 149), (43, 128), (55, 77), (136, 147), (37, 149), (64, 135), (65, 66), (16, 106), (36, 110), (57, 110), (89, 117), (78, 114), (55, 144), (8, 45), (21, 43), (24, 46), (49, 96), (30, 62), (40, 130), (26, 81), (6, 119), (18, 146), (20, 70), (72, 107), (122, 142), (121, 132), (34, 96), (8, 118), (2, 137), (121, 148), (1, 68), (48, 140), (34, 37), (46, 54), (56, 67), (16, 83), (10, 75), (20, 61), (46, 57), (53, 144), (128, 133), (55, 83), (54, 139), (102, 143), (47, 108), (93, 95), (81, 137), (35, 40), (132, 149), (45, 128), (32, 62), (41, 112), (13, 61), (56, 95), (65, 149), (28, 132), (54, 146), (72, 87), (62, 78), (77, 129), (10, 28), (24, 30), (23, 96), (23, 90), (33, 118), (48, 91), (82, 132), (25, 132), (0, 117), (10, 36), (72, 94), (108, 128), (47, 81), (76, 140), (69, 148), (1, 93), (18, 93), (90, 136), (71, 89), (90, 114), (64, 108), (59, 143), (7, 34), (56, 98), (60, 145), (130, 148), (0, 45), (46, 103), (75, 101), (31, 141), (27, 114), (19, 139), (18, 83), (13, 44), (80, 96), (21, 64), (55, 103), (141, 146), (79, 86), (73, 120), (27, 124), (5, 93), (41, 125), (24, 103), (12, 133), (107, 113), (46, 49), (10, 138), (69, 116), (0, 121), (75, 139), (16, 119), (60, 66), (3, 61), (31, 41), (28, 148), (24, 54), (28, 110), (134, 146), (56, 108), (47, 60), (87, 100), (5, 43), (126, 144), (47, 59), (71, 133), (47, 123), (28, 79), (62, 132), (15, 78), (74, 100), (80, 87), (91, 138), (12, 76), (19, 32), (7, 40), (49, 53), (115, 117), (48, 68), (63, 77), (94, 148), (91, 96), (18, 96), (35, 132), (39, 56), (50, 130), (80, 101), (90, 92), (90, 146), (20, 97), (73, 127), (47, 145), (32, 114), (19, 85), (39, 40), (94, 138), (55, 140), (99, 128), (86, 149), (9, 88), (16, 132), (116, 120), (9, 148), (2, 92), (118, 130), (91, 123), (30, 95), (40, 119), (53, 91), (34, 79), (13, 58), (15, 23), (22, 116), (56, 124), (17, 137), (10, 96), (50, 116), (47, 64), (76, 114), (29, 53), (73, 103), (45, 118), (131, 138), (106, 122), (57, 126), (97, 107), (109, 131), (5, 27), (37, 85), (26, 27), (43, 45), (43, 60), (26, 41), (80, 148), (34, 136), (12, 85), (109, 145), (24, 43), (69, 105), (29, 141), (131, 141), (40, 133), (63, 112), (56, 80), (11, 107), (84, 136), (89, 100), (16, 18), (79, 143), (48, 139), (81, 124), (34, 72), (29, 66), (16, 82), (83, 131), (16, 25), (109, 147), (40, 53), (41, 95), (4, 46), (118, 141), (32, 63), (89, 112), (30, 147), (52, 131), (50, 55), (41, 83), (94, 116), (36, 129), (64, 114), (54, 72), (52, 117), (30, 105), (147, 149), (2, 120), (52, 79), (18, 126), (14, 27), (22, 49), (97, 106), (101, 130), (30, 52), (86, 124), (68, 115), (40, 85), (102, 128), (34, 140), (40, 149), (39, 149), (61, 74), (125, 132), (64, 138), (93, 134), (19, 118), (60, 94), (4, 125), (9, 51), (9, 84), (22, 64), (23, 107), (2, 107), (26, 56), (56, 57), (58, 144), (64, 65), (31, 65), (20, 31), (67, 132), (69, 136), (41, 144), (12, 91), (1, 50), (70, 80), (71, 79), (50, 85), (37, 106), (70, 123), (63, 123), (75, 116), (38, 78), (87, 127), (0, 97), (144, 146), (44, 52), (102, 124), (82, 133), (124, 141), (2, 76), (46, 96), (5, 95), (27, 72), (75, 89), (36, 133), (12, 135), (54, 57), (95, 111), (53, 54), (72, 127), (4, 19), (36, 115), (23, 51), (4, 22), (44, 126), (2, 28), (105, 136), (12, 120), (7, 110), (105, 143), (55, 97), (1, 127), (103, 145), (64, 90), (81, 107), (102, 112), (67, 95), (43, 146), (31, 115), (68, 97), (21, 112), (14, 141), (10, 92), (101, 143), (110, 119), (4, 60), (28, 34), (63, 140), (25, 93), (91, 136), (60, 109), (15, 135), (4, 59), (102, 111), (51, 89), (53, 146), (63, 133), (127, 140), (24, 134), (39, 58), (117, 123), (10, 125), (23, 77), (113, 115), (48, 119), (52, 143), (25, 98), (2, 44), (9, 116), (11, 136), (0, 37), (0, 114), (56, 106), (21, 84), (78, 100), (16, 114), (76, 106), (131, 140), (32, 53), (23, 75), (49, 93), (2, 90), (7, 119), (110, 137), (6, 32), (63, 142), (120, 145), (3, 148), (29, 33), (19, 114), (17, 19), (41, 67), (107, 124), (90, 147), (47, 127), (78, 121), (92, 129), (94, 103), (49, 69), (110, 146), (18, 97), (89, 119), (34, 40), (24, 82), (122, 140), (27, 87), (43, 116), (20, 22), (104, 134), (91, 108), (28, 143), (4, 127), (22, 89), (104, 112), (87, 140), (21, 38), (66, 124), (33, 50), (14, 26), (19, 145), (50, 101), (4, 36), (50, 137), (89, 124), (37, 121), (34, 42), (44, 48), (31, 70), (98, 133), (1, 124), (36, 45), (35, 136), (91, 102), (12, 31), (45, 100), (5, 135), (29, 55), (97, 98), (3, 131), (40, 69), (50, 135), (112, 130), (48, 73), (50, 59), (50, 143), (75, 94), (28, 68), (33, 120), (60, 133), (49, 57), (69, 129), (80, 84), (41, 60), (81, 114), (32, 34), (72, 75), (123, 146), (105, 123), (29, 102), (57, 93), (18, 33), (18, 136), (4, 99), (84, 144), (27, 119), (97, 104), (93, 126), (46, 61), (89, 110), (49, 122), (78, 80), (122, 129), (6, 142), (98, 142), (70, 102), (57, 99), (51, 88), (96, 113), (21, 39), (59, 81), (4, 110), (68, 72), (121, 140), (23, 56), (74, 130), (44, 144), (17, 148), (3, 68), (103, 141), (31, 61), (64, 142), (16, 59), (40, 125), (3, 85), (0, 32), (50, 62), (75, 97), (28, 67), (77, 132), (25, 115), (61, 132), (8, 53), (112, 143), (76, 88), (38, 48), (82, 124), (1, 26), (46, 112), (7, 70), (33, 143), (13, 64), (1, 142), (51, 127), (1, 71), (125, 140), (18, 42), (20, 117), (4, 81), (21, 23), (10, 115), (76, 132), (15, 137), (0, 11), (13, 76), (93, 127), (32, 61), (23, 59), (93, 105), (43, 66), (19, 106), (45, 135), (86, 114), (8, 142), (21, 105), (36, 96), (137, 148), (30, 127), (86, 109), (43, 111), (67, 76), (61, 76), (11, 41), (5, 103), (27, 122), (57, 131), (9, 138), (1, 36), (5, 36), (3, 111), (45, 55), (20, 139), (72, 126), (27, 75), (107, 137), (3, 40), (99, 117), (5, 51), (102, 129), (62, 126), (53, 64), (43, 49), (24, 137), (0, 132), (34, 98), (83, 116), (4, 38), (34, 142), (99, 134), (48, 145), (33, 72), (72, 97), (3, 120), (21, 22), (1, 10), (100, 129), (53, 56), (30, 118), (41, 121), (123, 149), (95, 142), (18, 67), (29, 100), (42, 110), (39, 65), (78, 144), (8, 133), (41, 127), (12, 122), (30, 139), (32, 126), (33, 142), (38, 127), (105, 116), (23, 46), (27, 46), (53, 72), (74, 141), (107, 111), (81, 125), (88, 102), (6, 33), (37, 147), (14, 15), (106, 144), (55, 100), (23, 44), (0, 96), (128, 132), (94, 145), (52, 99), (44, 79), (49, 137), (98, 130), (15, 64), (80, 138), (82, 84), (9, 108), (41, 134), (55, 93), (11, 130), (67, 100), (3, 28), (39, 63), (68, 71), (19, 107), (89, 98), (95, 132), (20, 145), (3, 44), (76, 145), (44, 111), (75, 86), (23, 79), (4, 94), (11, 145), (11, 33), (13, 66), (27, 91), (16, 140), (59, 134), (80, 100), (47, 141), (43, 54), (18, 103), (66, 95), (52, 54), (56, 75), (55, 79), (23, 66), (35, 127), (39, 142), (18, 114), (39, 93), (90, 109), (37, 116), (63, 148), (71, 129), (21, 56), (62, 133), (108, 115), (12, 95), (88, 143), (70, 91), (38, 101), (46, 119), (2, 10), (44, 78), (121, 139), (98, 101), (41, 90), (53, 118), (37, 46), (103, 107), (57, 75), (53, 136), (5, 94), (27, 70), (45, 132), (8, 107), (85, 141), (39, 111), (87, 104), (10, 76), (20, 119), (10, 135), (42, 71), (26, 61), (22, 51), (70, 138), (106, 114), (17, 84), (58, 99), (37, 63), (18, 137), (21, 128), (1, 146), (44, 72), (5, 72), (35, 126), (70, 124), (9, 128), (8, 43), (69, 85), (69, 147), (22, 35), (38, 130), (44, 55), (8, 57), (16, 65), (0, 139), (83, 134), (74, 99), (35, 69), (45, 137), (53, 132), (40, 118), (31, 109), (48, 51), (94, 96), (13, 82), (4, 112), (41, 49), (14, 74), (40, 41), (112, 136), (88, 107), (5, 55), (53, 124), (35, 96), (36, 102), (58, 127), (29, 84), (91, 143), (58, 69), (9, 53), (38, 57), (117, 130), (1, 56), (54, 131), (43, 63), (82, 118), (54, 74), (12, 58), (67, 105), (38, 87), (76, 86), (37, 82), (13, 103), (5, 6), (101, 133), (5, 12), (29, 124), (79, 87), (27, 29), (86, 127), (7, 61), (52, 69), (96, 97), (130, 145), (86, 134), (124, 144), (39, 105), (29, 96), (30, 141), (27, 90), (90, 131), (58, 59), (3, 87), (13, 110), (88, 115), (32, 107), (22, 120), (55, 98), (67, 134), (40, 104), (38, 99), (34, 123), (5, 18), (2, 98), (13, 134), (17, 49), (5, 116), (11, 71), (1, 7), (87, 108), (1, 9), (109, 127), (56, 133), (35, 63), (30, 117), (1, 138), (108, 143), (78, 89), (35, 78), (116, 145), (64, 98), (79, 119), (84, 146), (46, 77), (35, 79), (101, 142), (3, 17), (86, 145), (66, 103), (43, 61), (24, 61), (32, 106), (105, 127), (63, 146), (12, 101), (37, 119), (87, 138), (82, 148), (93, 128), (46, 87), (2, 141), (66, 119), (8, 77), (54, 147), (71, 100), (86, 117), (49, 118), (53, 76), (113, 147), (6, 19), (49, 144), (124, 145), (68, 123), (69, 123), (92, 95), (9, 86), (104, 117), (51, 116), (24, 59), (71, 88), (2, 5), (15, 66), (97, 132), (98, 111), (4, 21), (31, 105), (117, 125), (127, 143), (146, 147), (4, 134), (80, 141), (59, 67), (9, 69), (141, 142), (36, 126), (120, 137), (37, 44), (61, 67), (35, 83), (38, 44), (24, 101), (49, 61), (82, 140), (116, 139), (119, 146), (7, 24), (16, 121), (112, 144), (41, 138), (85, 89), (49, 104), (52, 55), (10, 12), (18, 88), (36, 103), (23, 122), (35, 124), (34, 41), (49, 71), (93, 98), (118, 136), (30, 72), (71, 118), (81, 118), (15, 56), (30, 86), (78, 108), (27, 39), (23, 147), (102, 137), (16, 100), (100, 113), (49, 62), (79, 134), (50, 93), (19, 115), (37, 120), (17, 26), (28, 33), (28, 60), (29, 109), (69, 74), (39, 117), (38, 83), (111, 133), (20, 45), (29, 49), (120, 141), (40, 94), (8, 106), (49, 109), (100, 139), (49, 88), (106, 107), (89, 128), (34, 66), (0, 29), (7, 89), (49, 142), (31, 149), (20, 124), (66, 128), (13, 101), (77, 121), (78, 134), (45, 127), (53, 99), (80, 97), (70, 89), (45, 58), (86, 116), (99, 136), (24, 143), (75, 124), (0, 92), (8, 37), (38, 118), (101, 112), (35, 119), (86, 148), (96, 117), (94, 146), (96, 114), (63, 110), (88, 99), (47, 51), (33, 115), (28, 140), (66, 94), (11, 128), (15, 44), (70, 148), (57, 139), (63, 93), (41, 54), (17, 129), (100, 109), (94, 133), (41, 79), (34, 69), (121, 134), (31, 99), (42, 107), (5, 125), (21, 130), (74, 83), (9, 127), (110, 133), (4, 12), (43, 91), (85, 102), (49, 99), (137, 140), (102, 139), (96, 108), (34, 93), (65, 136), (16, 130), (29, 56), (37, 104), (69, 84), (6, 73), (10, 87), (5, 75), (56, 137), (77, 81), (34, 131), (7, 23), (37, 80), (39, 106), (15, 42), (60, 86), (66, 105), (31, 86), (66, 146), (55, 115), (21, 140), (15, 75), (19, 149), (128, 141), (19, 130), (115, 140), (63, 128), (63, 76), (45, 86), (32, 47), (32, 92), (91, 142), (24, 80), (18, 87), (28, 45), (41, 61), (15, 68), (12, 30), (71, 126), (22, 55), (52, 148), (17, 98), (33, 84), (69, 106), (15, 112), (42, 49), (97, 108), (12, 132), (8, 88), (6, 105), (93, 97), (26, 99), (17, 39), (30, 135), (12, 47), (13, 138), (12, 16), (72, 114), (111, 144), (67, 83), (7, 8), (72, 74), (96, 149), (5, 74), (78, 87), (63, 68), (20, 34), (31, 129), (17, 94), (76, 103), (97, 117), (28, 113), (32, 64), (58, 137), (39, 130), (7, 18), (31, 139), (13, 146), (69, 102), (74, 95), (99, 123), (45, 133), (35, 101), (93, 146), (65, 121), (11, 109), (98, 149), (33, 68), (9, 66), (7, 31), (24, 112), (35, 53), (8, 97), (61, 104), (49, 83), (26, 95), (98, 128), (32, 42), (43, 93), (29, 46), (12, 108), (34, 120), (10, 39), (4, 117), (49, 51), (43, 124), (12, 110), (94, 147), (118, 144), (9, 12), (35, 55), (0, 118), (20, 46), (50, 65), (26, 58), (112, 128), (100, 127), (41, 55), (45, 63), (88, 117), (8, 128), (96, 103), (123, 141), (22, 84), (35, 115), (1, 62), (88, 132), (71, 136), (126, 149), (71, 141), (6, 34), (56, 87), (79, 85), (103, 125), (1, 45), (109, 144), (21, 132), (85, 105), (55, 92), (125, 145), (100, 112), (94, 130), (19, 91), (91, 146), (38, 85), (25, 113), (76, 128), (50, 66), (10, 60), (52, 139), (22, 59), (108, 124), (24, 142), (24, 31), (72, 108), (15, 114), (15, 19), (5, 50), (69, 79), (113, 128), (64, 132), (9, 113), (87, 91), (57, 64), (9, 141), (21, 122), (118, 127), (21, 91), (25, 96), (2, 37), (107, 143), (40, 49), (100, 101), (97, 101), (67, 118), (72, 136), (75, 142), (34, 112), (2, 65), (21, 146), (115, 139), (10, 122), (38, 66), (63, 97), (1, 72), (13, 63), (1, 64), (0, 116), (120, 132), (77, 106), (2, 95), (3, 101), (6, 71), (50, 122), (98, 100), (42, 119), (48, 88), (101, 111), (23, 136), (83, 137), (100, 142), (89, 108), (71, 82), (106, 136), (49, 81), (19, 65), (14, 83), (109, 110), (85, 147), (127, 134), (6, 51), (5, 137), (21, 54), (50, 51), (102, 106), (139, 143), (50, 52), (76, 146), (14, 60), (70, 111), (23, 149), (2, 94), (22, 27), (78, 103), (67, 119), (57, 70), (32, 144), (25, 58), (64, 128), (107, 146), (24, 72), (88, 133), (41, 45), (27, 84), (31, 68), (0, 15), (110, 141), (16, 103), (48, 103), (26, 100), (79, 108), (61, 98), (15, 20), (48, 135), (32, 82), (98, 99), (139, 148), (37, 50), (33, 85), (4, 88), (98, 147), (34, 88), (38, 72), (3, 29), (35, 138), (8, 50), (80, 88), (93, 108), (27, 126), (35, 147), (34, 55), (125, 135), (35, 37), (53, 57), (0, 85), (66, 141), (116, 142), (62, 128), (18, 138), (12, 78), (11, 49), (16, 61), (97, 116), (34, 76), (66, 140), (8, 112), (92, 144), (16, 135), (88, 105), (74, 76), (143, 147), (58, 115), (8, 146), (15, 129), (47, 116), (40, 82), (137, 149), (1, 87), (18, 19), (21, 35), (74, 102), (24, 124), (28, 124), (68, 93), (48, 108), (54, 97), (22, 123), (83, 146), (69, 145), (20, 123), (18, 40), (112, 149), (21, 135), (57, 81), (10, 57), (14, 149), (47, 87), (11, 78), (66, 92), (54, 108), (120, 125), (28, 46), (17, 20), (75, 133), (19, 99), (97, 112), (113, 120), (110, 138), (38, 69), (3, 22), (23, 110), (74, 80), (47, 126), (68, 146), (35, 89), (125, 143), (13, 98), (121, 136), (38, 43), (62, 84), (33, 75), (23, 52), (22, 107), (41, 132), (105, 148), (23, 148), (33, 117), (6, 66), (22, 135), (46, 86), (12, 96), (112, 146), (29, 130), (94, 106), (141, 149), (120, 149), (62, 67), (75, 125), (106, 146), (79, 102), (90, 93), (81, 83), (3, 4), (7, 83), (13, 59), (64, 72), (90, 110), (12, 121), (4, 128), (43, 149), (88, 120), (45, 114), (50, 71), (43, 46), (17, 33), (4, 47), (67, 107), (11, 63), (24, 83), (101, 114), (90, 115), (87, 93), (121, 144), (0, 67), (53, 100), (41, 147), (52, 105), (73, 133), (72, 115), (85, 129), (71, 74), (16, 96), (13, 124), (25, 59), (104, 138), (44, 67), (3, 81), (4, 30), (4, 43), (24, 74), (5, 69), (84, 120), (58, 119), (49, 68), (6, 110), (15, 43), (49, 107), (58, 130), (129, 134), (46, 149), (17, 112), (37, 101), (27, 88), (29, 82), (14, 147), (52, 141), (44, 53), (57, 78), (55, 90), (42, 46), (62, 127), (141, 148), (46, 94), (18, 144), (22, 50), (74, 91), (70, 100), (17, 40), (44, 104), (3, 139), (105, 108), (65, 71), (0, 59), (34, 133), (96, 141), (47, 80), (97, 129), (112, 138), (43, 84), (77, 135), (70, 140), (17, 125), (40, 86), (3, 113), (51, 136), (0, 124), (59, 76), (75, 135), (10, 116), (35, 85), (59, 62), (65, 94), (69, 110), (120, 124), (21, 75), (79, 148), (69, 83), (92, 120), (57, 102), (17, 48), (7, 116), (15, 134), (33, 79), (24, 55), (18, 111), (52, 118), (42, 66), (52, 71), (30, 43), (74, 143), (49, 59), (70, 116), (23, 114), (3, 132), (14, 29), (13, 109), (80, 127), (86, 143), (45, 138), (84, 104), (3, 14), (44, 90), (15, 144), (7, 46), (77, 90), (55, 136), (95, 105), (143, 148), (77, 103), (7, 120), (59, 85), (80, 149), (14, 131), (52, 108), (71, 149), (41, 136), (67, 127), (8, 67), (17, 146), (0, 80), (89, 141), (52, 74), (85, 128), (75, 123), (102, 146), (108, 119), (115, 132), (76, 92), (39, 75), (26, 47), (126, 146), (19, 42), (39, 100), (39, 76), (94, 119), (76, 104), (18, 135), (33, 92), (108, 110), (81, 120), (9, 60), (61, 135), (44, 95), (45, 73), (112, 133), (83, 108), (3, 106), (58, 121), (72, 141), (76, 122), (56, 90), (18, 25), (119, 130), (64, 84), (19, 103), (4, 120), (20, 41), (67, 113), (86, 104), (61, 79), (0, 68), (133, 148), (110, 139), (14, 93), (0, 142), (130, 149), (9, 140), (55, 102), (74, 105), (13, 46), (31, 127), (0, 147), (22, 141), (14, 124), (60, 118), (45, 79), (103, 128), (2, 81), (28, 119), (80, 144), (14, 123), (70, 149), (44, 75), (98, 123), (21, 90), (88, 98), (33, 44), (84, 132), (75, 141), (19, 82), (109, 119), (36, 78), (119, 121), (59, 108), (2, 40), (43, 88), (101, 122), (27, 96), (80, 128), (51, 108), (34, 99), (90, 127), (26, 132), (17, 24), (135, 140), (45, 64), (21, 63), (11, 123), (2, 130), (6, 68), (30, 119), (40, 46), (9, 64), (59, 65), (34, 122), (7, 65), (20, 78), (76, 107), (59, 87), (12, 142), (68, 94), (15, 104), (26, 79), (76, 89), (83, 140), (11, 90), (29, 95), (120, 136), (21, 57), (24, 115), (102, 123), (17, 82), (81, 145), (84, 93), (135, 145), (83, 130), (32, 43), (16, 32), (53, 113), (61, 131), (54, 111), (78, 123), (7, 114), (118, 122), (8, 12), (10, 35), (47, 138), (39, 42), (14, 144), (54, 89), (42, 94), (11, 117), (36, 123), (86, 139), (54, 90), (33, 101), (22, 121), (17, 133), (7, 75), (13, 113), (64, 93), (36, 137), (10, 71), (87, 92), (20, 76), (81, 84), (60, 112), (33, 47)]\n"
          ],
          "name": "stdout"
        }
      ]
    },
    {
      "metadata": {
        "id": "ZRxL6nZDbULZ",
        "colab_type": "code",
        "colab": {}
      },
      "cell_type": "code",
      "source": [
        "lst=sample1.columns"
      ],
      "execution_count": 0,
      "outputs": []
    },
    {
      "metadata": {
        "id": "1BQnNGORaROB",
        "colab_type": "code",
        "colab": {}
      },
      "cell_type": "code",
      "source": [
        "for n in range(5):\n",
        "  random.randomint\n",
        "  sns.lmplot(x=x, y=y)\n",
        "  "
      ],
      "execution_count": 0,
      "outputs": []
    },
    {
      "metadata": {
        "id": "oBDKJTG4eFKt",
        "colab_type": "code",
        "outputId": "df2bd05f-318c-47cf-d07d-08a9b9ca298a",
        "colab": {
          "base_uri": "https://localhost:8080/",
          "height": 392
        }
      },
      "cell_type": "code",
      "source": [
        "# Rand 1\n",
        "sns.lmplot(x='49', y='112', data=sample1)\n",
        "ax = plt.gca()\n",
        "ax.set_title(\"Random Sample 1\")"
      ],
      "execution_count": 97,
      "outputs": [
        {
          "output_type": "execute_result",
          "data": {
            "text/plain": [
              "Text(0.5, 1.0, 'Random Sample 1')"
            ]
          },
          "metadata": {
            "tags": []
          },
          "execution_count": 97
        },
        {
          "output_type": "display_data",
          "data": {
            "image/png": "[encoded data removed]",
            "text/plain": [
              "<Figure size 360x360 with 1 Axes>"
            ]
          },
          "metadata": {
            "tags": []
          }
        }
      ]
    },
    {
      "metadata": {
        "id": "QAHJYRLdabQN",
        "colab_type": "code",
        "outputId": "520c47b0-6c75-4532-bc7a-52efd0d018b5",
        "colab": {
          "base_uri": "https://localhost:8080/",
          "height": 392
        }
      },
      "cell_type": "code",
      "source": [
        "# Rand 2\n",
        "sns.lmplot(x='8', y='86', data=sample1)\n",
        "ax = plt.gca()\n",
        "ax.set_title(\"Random Sample 2\")"
      ],
      "execution_count": 96,
      "outputs": [
        {
          "output_type": "execute_result",
          "data": {
            "text/plain": [
              "Text(0.5, 1.0, 'Random Sample 2')"
            ]
          },
          "metadata": {
            "tags": []
          },
          "execution_count": 96
        },
        {
          "output_type": "display_data",
          "data": {
            "image/png": "[encoded data removed]",
            "text/plain": [
              "<Figure size 360x360 with 1 Axes>"
            ]
          },
          "metadata": {
            "tags": []
          }
        }
      ]
    },
    {
      "metadata": {
        "id": "fW3oeisqcvJZ",
        "colab_type": "code",
        "outputId": "eed13b17-50ff-4d97-fd6f-4796e32b4e92",
        "colab": {
          "base_uri": "https://localhost:8080/",
          "height": 392
        }
      },
      "cell_type": "code",
      "source": [
        "# Rand 3\n",
        "sns.lmplot(x='107', y='117', data=sample1)\n",
        "ax = plt.gca()\n",
        "ax.set_title(\"Random Sample 3\")"
      ],
      "execution_count": 95,
      "outputs": [
        {
          "output_type": "execute_result",
          "data": {
            "text/plain": [
              "Text(0.5, 1.0, 'Random Sample 3')"
            ]
          },
          "metadata": {
            "tags": []
          },
          "execution_count": 95
        },
        {
          "output_type": "display_data",
          "data": {
            "image/png": "[encoded data removed]",
            "text/plain": [
              "<Figure size 360x360 with 1 Axes>"
            ]
          },
          "metadata": {
            "tags": []
          }
        }
      ]
    },
    {
      "metadata": {
        "id": "f8HrlagwHvPE",
        "colab_type": "code",
        "outputId": "13b19031-9b66-4ccf-832a-b5fae6119914",
        "colab": {
          "base_uri": "https://localhost:8080/",
          "height": 392
        }
      },
      "cell_type": "code",
      "source": [
        "# Rand 4\n",
        "sns.lmplot(x='26', y='111', data=sample1)\n",
        "ax = plt.gca()\n",
        "ax.set_title(\"Random Sample 4\")\n",
        "ax.txt"
      ],
      "execution_count": 92,
      "outputs": [
        {
          "output_type": "execute_result",
          "data": {
            "text/plain": [
              "Text(0.5, 1.0, 'Random Sample 4')"
            ]
          },
          "metadata": {
            "tags": []
          },
          "execution_count": 92
        },
        {
          "output_type": "display_data",
          "data": {
            "image/png": "[encoded data removed]",
            "text/plain": [
              "<Figure size 360x360 with 1 Axes>"
            ]
          },
          "metadata": {
            "tags": []
          }
        }
      ]
    },
    {
      "metadata": {
        "id": "ZvnVsXf0--B0",
        "colab_type": "code",
        "colab": {}
      },
      "cell_type": "code",
      "source": [
        "from scipy import stats"
      ],
      "execution_count": 0,
      "outputs": []
    },
    {
      "metadata": {
        "id": "rCOcpmUk-WDh",
        "colab_type": "code",
        "outputId": "2ab5da1d-0f87-449b-83c7-db5ad1095aff",
        "colab": {
          "base_uri": "https://localhost:8080/",
          "height": 85
        }
      },
      "cell_type": "code",
      "source": [
        "# Ttesting the random plots\n",
        "print(stats.ttest_ind(sample1['49'], sample1['112']))\n",
        "print(stats.ttest_ind(sample1['8'], sample1['86']))\n",
        "print(stats.ttest_ind(sample1['107'], sample1['117']))\n",
        "print(stats.ttest_ind(sample1['26'], sample1['111']))"
      ],
      "execution_count": 0,
      "outputs": [
        {
          "output_type": "stream",
          "text": [
            "Ttest_indResult(statistic=0.7026901364499967, pvalue=0.48252231950602575)\n",
            "Ttest_indResult(statistic=-1.3077774492804652, pvalue=0.19145132595514353)\n",
            "Ttest_indResult(statistic=1.650326913076135, pvalue=0.09940117220835383)\n",
            "Ttest_indResult(statistic=-1.4957496431989035, pvalue=0.13524644622886695)\n"
          ],
          "name": "stdout"
        }
      ]
    },
    {
      "metadata": {
        "id": "N5sg-iyXBq9_",
        "colab_type": "code",
        "colab": {}
      },
      "cell_type": "code",
      "source": [
        "# Preparing and assigning cross tabs to random samples for Chi2\n",
        "Chi1 =pd.crosstab(sample1['49'],sample1['112'])\n",
        "Chi2 =pd.crosstab(sample1['8'],sample1['86'])\n",
        "Chi3 =pd.crosstab(sample1['107'],sample1['117'])\n",
        "Chi4 =pd.crosstab(sample1['26'],sample1['111'])"
      ],
      "execution_count": 0,
      "outputs": []
    },
    {
      "metadata": {
        "id": "Tenhseu2CCyf",
        "colab_type": "code",
        "outputId": "e44326d2-cbf0-42db-d84b-dd607ea921c2",
        "colab": {
          "base_uri": "https://localhost:8080/",
          "height": 289
        }
      },
      "cell_type": "code",
      "source": [
        "stats.chi2_contingency(Chi1)"
      ],
      "execution_count": 0,
      "outputs": [
        {
          "output_type": "execute_result",
          "data": {
            "text/plain": [
              "(65449.999999999985,\n",
              " 0.29901008150621566,\n",
              " 65260,\n",
              " array([[0.00333333, 0.00333333, 0.00333333, ..., 0.00333333, 0.00333333,\n",
              "         0.00666667],\n",
              "        [0.00333333, 0.00333333, 0.00333333, ..., 0.00333333, 0.00333333,\n",
              "         0.00666667],\n",
              "        [0.00333333, 0.00333333, 0.00333333, ..., 0.00333333, 0.00333333,\n",
              "         0.00666667],\n",
              "        ...,\n",
              "        [0.00333333, 0.00333333, 0.00333333, ..., 0.00333333, 0.00333333,\n",
              "         0.00666667],\n",
              "        [0.00333333, 0.00333333, 0.00333333, ..., 0.00333333, 0.00333333,\n",
              "         0.00666667],\n",
              "        [0.00333333, 0.00333333, 0.00333333, ..., 0.00333333, 0.00333333,\n",
              "         0.00666667]]))"
            ]
          },
          "metadata": {
            "tags": []
          },
          "execution_count": 61
        }
      ]
    },
    {
      "metadata": {
        "id": "xtmQ1QZbCoc4",
        "colab_type": "code",
        "outputId": "974c7211-4612-425d-f24a-b75c9887323d",
        "colab": {
          "base_uri": "https://localhost:8080/",
          "height": 289
        }
      },
      "cell_type": "code",
      "source": [
        "# Pvalue is significant\n",
        "#Chi2 was 8 and 86\n",
        "stats.chi2_contingency(Chi2)"
      ],
      "execution_count": 0,
      "outputs": [
        {
          "output_type": "execute_result",
          "data": {
            "text/plain": [
              "(68749.99999999999,\n",
              " 0.042260638091146,\n",
              " 68112,\n",
              " array([[0.00333333, 0.00333333, 0.00333333, ..., 0.00333333, 0.00666667,\n",
              "         0.00333333],\n",
              "        [0.00333333, 0.00333333, 0.00333333, ..., 0.00333333, 0.00666667,\n",
              "         0.00333333],\n",
              "        [0.00333333, 0.00333333, 0.00333333, ..., 0.00333333, 0.00666667,\n",
              "         0.00333333],\n",
              "        ...,\n",
              "        [0.00333333, 0.00333333, 0.00333333, ..., 0.00333333, 0.00666667,\n",
              "         0.00333333],\n",
              "        [0.00333333, 0.00333333, 0.00333333, ..., 0.00333333, 0.00666667,\n",
              "         0.00333333],\n",
              "        [0.00333333, 0.00333333, 0.00333333, ..., 0.00333333, 0.00666667,\n",
              "         0.00333333]]))"
            ]
          },
          "metadata": {
            "tags": []
          },
          "execution_count": 62
        }
      ]
    },
    {
      "metadata": {
        "id": "mbPb0b8BCs9d",
        "colab_type": "code",
        "outputId": "da10f680-ce7e-4292-912a-8e6cf575fb76",
        "colab": {
          "base_uri": "https://localhost:8080/",
          "height": 289
        }
      },
      "cell_type": "code",
      "source": [
        "stats.chi2_contingency(Chi3)"
      ],
      "execution_count": 0,
      "outputs": [
        {
          "output_type": "execute_result",
          "data": {
            "text/plain": [
              "(67183.33333333331,\n",
              " 0.16146661848079366,\n",
              " 66822,\n",
              " array([[0.00333333, 0.00666667, 0.00333333, ..., 0.00333333, 0.00333333,\n",
              "         0.00333333],\n",
              "        [0.00333333, 0.00666667, 0.00333333, ..., 0.00333333, 0.00333333,\n",
              "         0.00333333],\n",
              "        [0.00333333, 0.00666667, 0.00333333, ..., 0.00333333, 0.00333333,\n",
              "         0.00333333],\n",
              "        ...,\n",
              "        [0.00333333, 0.00666667, 0.00333333, ..., 0.00333333, 0.00333333,\n",
              "         0.00333333],\n",
              "        [0.00333333, 0.00666667, 0.00333333, ..., 0.00333333, 0.00333333,\n",
              "         0.00333333],\n",
              "        [0.00333333, 0.00666667, 0.00333333, ..., 0.00333333, 0.00333333,\n",
              "         0.00333333]]))"
            ]
          },
          "metadata": {
            "tags": []
          },
          "execution_count": 63
        }
      ]
    },
    {
      "metadata": {
        "id": "UlnDLM-CC0UE",
        "colab_type": "code",
        "outputId": "e6b0dcde-cc33-44fd-cd5e-1992a3284b9a",
        "colab": {
          "base_uri": "https://localhost:8080/",
          "height": 289
        }
      },
      "cell_type": "code",
      "source": [
        "stats.chi2_contingency(Chi4)"
      ],
      "execution_count": 0,
      "outputs": [
        {
          "output_type": "execute_result",
          "data": {
            "text/plain": [
              "(65449.999999999985,\n",
              " 0.29901008150621566,\n",
              " 65260,\n",
              " array([[0.00333333, 0.00333333, 0.00333333, ..., 0.00333333, 0.00333333,\n",
              "         0.00666667],\n",
              "        [0.00333333, 0.00333333, 0.00333333, ..., 0.00333333, 0.00333333,\n",
              "         0.00666667],\n",
              "        [0.00333333, 0.00333333, 0.00333333, ..., 0.00333333, 0.00333333,\n",
              "         0.00666667],\n",
              "        ...,\n",
              "        [0.00333333, 0.00333333, 0.00333333, ..., 0.00333333, 0.00333333,\n",
              "         0.00666667],\n",
              "        [0.00333333, 0.00333333, 0.00333333, ..., 0.00333333, 0.00333333,\n",
              "         0.00666667],\n",
              "        [0.00333333, 0.00333333, 0.00333333, ..., 0.00333333, 0.00333333,\n",
              "         0.00666667]]))"
            ]
          },
          "metadata": {
            "tags": []
          },
          "execution_count": 64
        }
      ]
    },
    {
      "metadata": {
        "id": "KhGtvtvqT5lV",
        "colab_type": "code",
        "colab": {}
      },
      "cell_type": "code",
      "source": [
        "selected_features = ['49', '112', '8', '86', '107', '117', '26', '111']"
      ],
      "execution_count": 0,
      "outputs": []
    },
    {
      "metadata": {
        "id": "O-EuaCIbFuD9",
        "colab_type": "code",
        "colab": {
          "base_uri": "https://localhost:8080/",
          "height": 318
        },
        "outputId": "c15a373d-2adc-4611-9111-48c6fa88dc58"
      },
      "cell_type": "code",
      "source": [
        "sns.set(style=\"white\", palette=\"dark\", color_codes=True)\n",
        "sns.distplot(df[selected_features] ,kde=False, color=sns.color_palette(n_colors=8))\n",
        "plt.ylabel(\"Frequency of Entanglment\")\n",
        "plt.xlabel(\"Collision Runs Grouped by 200\")\n",
        "plt.title(\"Frequeny of Entanglment\")"
      ],
      "execution_count": 87,
      "outputs": [
        {
          "output_type": "execute_result",
          "data": {
            "text/plain": [
              "Text(0.5, 1.0, 'Frequeny of Entanglment')"
            ]
          },
          "metadata": {
            "tags": []
          },
          "execution_count": 87
        },
        {
          "output_type": "display_data",
          "data": {
            "image/png": "[encoded data removed]",
            "text/plain": [
              "<Figure size 432x288 with 1 Axes>"
            ]
          },
          "metadata": {
            "tags": []
          }
        }
      ]
    },
    {
      "metadata": {
        "id": "0owNLapz7G0o",
        "colab_type": "code",
        "colab": {}
      },
      "cell_type": "code",
      "source": [
        "corr1=sample1.corr().abs()"
      ],
      "execution_count": 0,
      "outputs": []
    },
    {
      "metadata": {
        "id": "1kW-m69E7lHp",
        "colab_type": "code",
        "colab": {}
      },
      "cell_type": "code",
      "source": [
        "unstack = corr1.unstack()\n",
        "corr2 = unstack.sort_values(kind=\"quicksort\")"
      ],
      "execution_count": 0,
      "outputs": []
    },
    {
      "metadata": {
        "id": "23MUleUk_iOo",
        "colab_type": "code",
        "colab": {}
      },
      "cell_type": "code",
      "source": [
        "# This is the whole data frame rows on y col on x showing each of the numbers banding based on the ion chaings in their integer rep. from binary showing the entangled runs\n",
        "\n",
        "plt.figure(figsize=(20, 10))\n",
        "sns.heatmap(data=df, y=df['bin'])"
      ],
      "execution_count": 0,
      "outputs": []
    },
    {
      "metadata": {
        "id": "-Xt4YsMBOVWg",
        "colab_type": "code",
        "colab": {}
      },
      "cell_type": "code",
      "source": [
        "df.columns.astype(str)"
      ],
      "execution_count": 0,
      "outputs": []
    },
    {
      "metadata": {
        "id": "Mw2BSM8IeSaH",
        "colab_type": "code",
        "colab": {}
      },
      "cell_type": "code",
      "source": [
        "# for x in df.columns:\n",
        "#   [  np.array(df[{}.format(x)])]"
      ],
      "execution_count": 0,
      "outputs": []
    },
    {
      "metadata": {
        "id": "LHMgy97HdhCR",
        "colab_type": "code",
        "colab": {}
      },
      "cell_type": "code",
      "source": [
        "df.columns.values"
      ],
      "execution_count": 0,
      "outputs": []
    },
    {
      "metadata": {
        "id": "BRhU7VwhdANy",
        "colab_type": "code",
        "colab": {}
      },
      "cell_type": "code",
      "source": [
        "np.array(df.columns.values())"
      ],
      "execution_count": 0,
      "outputs": []
    },
    {
      "metadata": {
        "id": "JAUg8AF0Emv3",
        "colab_type": "code",
        "colab": {}
      },
      "cell_type": "code",
      "source": [
        "import matplotlib.pyplot as plt\n",
        "import seaborn as sns "
      ],
      "execution_count": 0,
      "outputs": []
    },
    {
      "metadata": {
        "id": "9rNemS_0Zt0l",
        "colab_type": "code",
        "colab": {}
      },
      "cell_type": "code",
      "source": [
        "sample1_corr = sample1.corr()\n",
        "print(sample1_corr)"
      ],
      "execution_count": 0,
      "outputs": []
    },
    {
      "metadata": {
        "id": "2VMn8S7K1oTu",
        "colab_type": "code",
        "colab": {}
      },
      "cell_type": "code",
      "source": [
        "sample1.columns=sample1.columns.astype(str)"
      ],
      "execution_count": 0,
      "outputs": []
    },
    {
      "metadata": {
        "id": "TsKaj4P-0vdb",
        "colab_type": "code",
        "colab": {}
      },
      "cell_type": "code",
      "source": [
        "#sample1.columns.value_counts()\n",
        "for x in sample1.columns:\n",
        "  print(sample1['{}'.format(x)].value_counts())\n",
        "  "
      ],
      "execution_count": 0,
      "outputs": []
    },
    {
      "metadata": {
        "id": "n5HTf8fXHGOe",
        "colab_type": "code",
        "colab": {}
      },
      "cell_type": "code",
      "source": [
        "decoherence=pd.read_csv('https://raw.githubusercontent.com/RecursiveOuroboros/DS-Unit-1-Sprint-5-Data-Storytelling-Blog-Post/master/Zee.csv')"
      ],
      "execution_count": 0,
      "outputs": []
    },
    {
      "metadata": {
        "id": "N0fRHo7rJBBC",
        "colab_type": "code",
        "colab": {
          "base_uri": "https://localhost:8080/",
          "height": 233
        },
        "outputId": "9db9a0c3-0f41-445a-c086-99c084fa473e"
      },
      "cell_type": "code",
      "source": [
        "decoherence.head(5)"
      ],
      "execution_count": 103,
      "outputs": [
        {
          "output_type": "execute_result",
          "data": {
            "text/html": [
              "<div>\n",
              "<style scoped>\n",
              "    .dataframe tbody tr th:only-of-type {\n",
              "        vertical-align: middle;\n",
              "    }\n",
              "\n",
              "    .dataframe tbody tr th {\n",
              "        vertical-align: top;\n",
              "    }\n",
              "\n",
              "    .dataframe thead th {\n",
              "        text-align: right;\n",
              "    }\n",
              "</style>\n",
              "<table border=\"1\" class=\"dataframe\">\n",
              "  <thead>\n",
              "    <tr style=\"text-align: right;\">\n",
              "      <th></th>\n",
              "      <th>Run</th>\n",
              "      <th>Event</th>\n",
              "      <th>pt1</th>\n",
              "      <th>eta1</th>\n",
              "      <th>phi1</th>\n",
              "      <th>Q1</th>\n",
              "      <th>type1</th>\n",
              "      <th>sigmaEtaEta1</th>\n",
              "      <th>HoverE1</th>\n",
              "      <th>isoTrack1</th>\n",
              "      <th>...</th>\n",
              "      <th>pt2</th>\n",
              "      <th>eta2</th>\n",
              "      <th>phi2</th>\n",
              "      <th>Q2</th>\n",
              "      <th>type2</th>\n",
              "      <th>sigmaEtaEta2</th>\n",
              "      <th>HoverE2</th>\n",
              "      <th>isoTrack2</th>\n",
              "      <th>isoEcal2</th>\n",
              "      <th>isoHcal2</th>\n",
              "    </tr>\n",
              "  </thead>\n",
              "  <tbody>\n",
              "    <tr>\n",
              "      <th>0</th>\n",
              "      <td>163286</td>\n",
              "      <td>109060857</td>\n",
              "      <td>37.5667</td>\n",
              "      <td>2.2892</td>\n",
              "      <td>2.0526</td>\n",
              "      <td>-1</td>\n",
              "      <td>EE</td>\n",
              "      <td>0.0251</td>\n",
              "      <td>0.0090</td>\n",
              "      <td>0.0000</td>\n",
              "      <td>...</td>\n",
              "      <td>45.4315</td>\n",
              "      <td>1.4706</td>\n",
              "      <td>-1.1630</td>\n",
              "      <td>1</td>\n",
              "      <td>EB</td>\n",
              "      <td>0.0008</td>\n",
              "      <td>0.000</td>\n",
              "      <td>0.0000</td>\n",
              "      <td>1.0190</td>\n",
              "      <td>0.0000</td>\n",
              "    </tr>\n",
              "    <tr>\n",
              "      <th>1</th>\n",
              "      <td>163286</td>\n",
              "      <td>109275715</td>\n",
              "      <td>36.2901</td>\n",
              "      <td>-0.8373</td>\n",
              "      <td>-1.5859</td>\n",
              "      <td>1</td>\n",
              "      <td>EB</td>\n",
              "      <td>0.0078</td>\n",
              "      <td>0.0438</td>\n",
              "      <td>0.0000</td>\n",
              "      <td>...</td>\n",
              "      <td>60.5754</td>\n",
              "      <td>-0.4896</td>\n",
              "      <td>1.0496</td>\n",
              "      <td>-1</td>\n",
              "      <td>EB</td>\n",
              "      <td>0.0112</td>\n",
              "      <td>0.000</td>\n",
              "      <td>0.7185</td>\n",
              "      <td>1.8461</td>\n",
              "      <td>0.0000</td>\n",
              "    </tr>\n",
              "    <tr>\n",
              "      <th>2</th>\n",
              "      <td>163286</td>\n",
              "      <td>109075352</td>\n",
              "      <td>25.9705</td>\n",
              "      <td>-0.6974</td>\n",
              "      <td>1.6360</td>\n",
              "      <td>-1</td>\n",
              "      <td>EB</td>\n",
              "      <td>0.0097</td>\n",
              "      <td>0.0407</td>\n",
              "      <td>6.2870</td>\n",
              "      <td>...</td>\n",
              "      <td>45.2954</td>\n",
              "      <td>-2.0401</td>\n",
              "      <td>3.1187</td>\n",
              "      <td>1</td>\n",
              "      <td>EE</td>\n",
              "      <td>0.0260</td>\n",
              "      <td>0.028</td>\n",
              "      <td>15.2170</td>\n",
              "      <td>4.5337</td>\n",
              "      <td>3.8370</td>\n",
              "    </tr>\n",
              "    <tr>\n",
              "      <th>3</th>\n",
              "      <td>163286</td>\n",
              "      <td>109169766</td>\n",
              "      <td>41.0075</td>\n",
              "      <td>1.4619</td>\n",
              "      <td>-0.5325</td>\n",
              "      <td>1</td>\n",
              "      <td>EB</td>\n",
              "      <td>0.0088</td>\n",
              "      <td>0.0000</td>\n",
              "      <td>0.0000</td>\n",
              "      <td>...</td>\n",
              "      <td>45.9013</td>\n",
              "      <td>1.1561</td>\n",
              "      <td>2.4786</td>\n",
              "      <td>-1</td>\n",
              "      <td>EB</td>\n",
              "      <td>0.0086</td>\n",
              "      <td>0.000</td>\n",
              "      <td>0.0000</td>\n",
              "      <td>2.4388</td>\n",
              "      <td>0.5676</td>\n",
              "    </tr>\n",
              "    <tr>\n",
              "      <th>4</th>\n",
              "      <td>163286</td>\n",
              "      <td>108947653</td>\n",
              "      <td>39.8985</td>\n",
              "      <td>-0.5927</td>\n",
              "      <td>-2.3947</td>\n",
              "      <td>1</td>\n",
              "      <td>EB</td>\n",
              "      <td>0.0153</td>\n",
              "      <td>0.0000</td>\n",
              "      <td>2.5435</td>\n",
              "      <td>...</td>\n",
              "      <td>34.8931</td>\n",
              "      <td>-2.2444</td>\n",
              "      <td>0.6106</td>\n",
              "      <td>-1</td>\n",
              "      <td>EE</td>\n",
              "      <td>0.0290</td>\n",
              "      <td>0.000</td>\n",
              "      <td>12.4229</td>\n",
              "      <td>0.4534</td>\n",
              "      <td>0.9096</td>\n",
              "    </tr>\n",
              "  </tbody>\n",
              "</table>\n",
              "<p>5 rows × 22 columns</p>\n",
              "</div>"
            ],
            "text/plain": [
              "      Run      Event      pt1    eta1    phi1  Q1 type1  sigmaEtaEta1  \\\n",
              "0  163286  109060857  37.5667  2.2892  2.0526  -1    EE        0.0251   \n",
              "1  163286  109275715  36.2901 -0.8373 -1.5859   1    EB        0.0078   \n",
              "2  163286  109075352  25.9705 -0.6974  1.6360  -1    EB        0.0097   \n",
              "3  163286  109169766  41.0075  1.4619 -0.5325   1    EB        0.0088   \n",
              "4  163286  108947653  39.8985 -0.5927 -2.3947   1    EB        0.0153   \n",
              "\n",
              "   HoverE1  isoTrack1  ...      pt2    eta2    phi2  Q2  type2  sigmaEtaEta2  \\\n",
              "0   0.0090     0.0000  ...  45.4315  1.4706 -1.1630   1     EB        0.0008   \n",
              "1   0.0438     0.0000  ...  60.5754 -0.4896  1.0496  -1     EB        0.0112   \n",
              "2   0.0407     6.2870  ...  45.2954 -2.0401  3.1187   1     EE        0.0260   \n",
              "3   0.0000     0.0000  ...  45.9013  1.1561  2.4786  -1     EB        0.0086   \n",
              "4   0.0000     2.5435  ...  34.8931 -2.2444  0.6106  -1     EE        0.0290   \n",
              "\n",
              "  HoverE2  isoTrack2  isoEcal2  isoHcal2  \n",
              "0   0.000     0.0000    1.0190    0.0000  \n",
              "1   0.000     0.7185    1.8461    0.0000  \n",
              "2   0.028    15.2170    4.5337    3.8370  \n",
              "3   0.000     0.0000    2.4388    0.5676  \n",
              "4   0.000    12.4229    0.4534    0.9096  \n",
              "\n",
              "[5 rows x 22 columns]"
            ]
          },
          "metadata": {
            "tags": []
          },
          "execution_count": 103
        }
      ]
    },
    {
      "metadata": {
        "id": "7HGcSRoZOA0W",
        "colab_type": "code",
        "colab": {}
      },
      "cell_type": "code",
      "source": [
        "decoherence = decoherence.rename(columns={'eta2': 'Angular Momentum', 'eta1': 'Superposition'})"
      ],
      "execution_count": 0,
      "outputs": []
    },
    {
      "metadata": {
        "id": "dpQGfoX712xe",
        "colab_type": "code",
        "colab": {
          "base_uri": "https://localhost:8080/",
          "height": 392
        },
        "outputId": "6ae86f9a-b323-468a-e875-19bc501a7469"
      },
      "cell_type": "code",
      "source": [
        "sns.lmplot(x=\"Superposition\", y=\"Angular Momentum\", data=decoherence)\n",
        "ax = plt.gca()\n",
        "ax.set_title(\"Subatomic Particle Entanglement\")"
      ],
      "execution_count": 114,
      "outputs": [
        {
          "output_type": "execute_result",
          "data": {
            "text/plain": [
              "Text(0.5, 1.0, 'Subatomic Particle Entanglement')"
            ]
          },
          "metadata": {
            "tags": []
          },
          "execution_count": 114
        },
        {
          "output_type": "display_data",
          "data": {
            "image/png": "[encoded data removed]",
            "text/plain": [
              "<Figure size 360x360 with 1 Axes>"
            ]
          },
          "metadata": {
            "tags": []
          }
        }
      ]
    },
    {
      "metadata": {
        "id": "J-Y-oN4cEylS",
        "colab_type": "code",
        "colab": {}
      },
      "cell_type": "code",
      "source": [
        "plt.figure(figsize=(20, 10))\n",
        "sns.heatmap(data=sample1_corr)\n",
        "#fig, ax = plt.subplots(figsize=(10,10))"
      ],
      "execution_count": 0,
      "outputs": []
    },
    {
      "metadata": {
        "id": "pXqVN-owsMXd",
        "colab_type": "code",
        "colab": {}
      },
      "cell_type": "code",
      "source": [
        "# initialize list of lists \n",
        "particles = [['Up Quark', .6667, 0.05, 0.0, .333, 0.667, 0.0 ], ['Charm Quark', 15], ['Top Quark', 14], ['Down Quark', 15], ['Strange Quark', 14], ['Bottom Quark', 15], ['Gluon', 14], ['Electron', 15], ['Muon', 14], ['Tau', 15], ['Photon', 14], ['Z_Boson', 15], ['Higgs_Boson', 14], ['W Boson', 15]] \n",
        "  \n",
        "# Create the pandas DataFrame \n",
        "part_chart = pd.DataFrame(data, columns = ['Name', 'Eigenstate X', 'Eigenstate Y', 'Eigenstate Z', 'Prob_x', 'Prob_y', 'Prob_z']) \n",
        "  \n",
        "# print dataframe. \n",
        "part_chart"
      ],
      "execution_count": 0,
      "outputs": []
    },
    {
      "metadata": {
        "id": "RGzS8V2V7rFO",
        "colab_type": "code",
        "colab": {}
      },
      "cell_type": "code",
      "source": [
        "#building dataframe for spin probabilities of particles\n",
        "pd.Dataframe{'Quarks': [-0.5], 'Leptons': [-0.5], 'Electrons': [-0.5], 'Neutrinos': [-0.5], 'Photon': [-0.5], 'Leptons': [-0.5],}"
      ],
      "execution_count": 0,
      "outputs": []
    }
  ]
}