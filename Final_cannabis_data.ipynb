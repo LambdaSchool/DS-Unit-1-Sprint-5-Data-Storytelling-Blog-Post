{
  "nbformat": 4,
  "nbformat_minor": 0,
  "metadata": {
    "colab": {
      "name": "Final_cannabis_data.ipynb",
      "version": "0.3.2",
      "provenance": [],
      "collapsed_sections": [],
      "include_colab_link": true
    },
    "kernelspec": {
      "name": "python3",
      "display_name": "Python 3"
    }
  },
  "cells": [
    {
      "cell_type": "markdown",
      "metadata": {
        "id": "view-in-github",
        "colab_type": "text"
      },
      "source": [
        "<a href=\"https://colab.research.google.com/github/jtkernan7/DS-Unit-1-Sprint-5-Data-Storytelling-Blog-Post/blob/master/Final_cannabis_data.ipynb\" target=\"_parent\"><img src=\"https://colab.research.google.com/assets/colab-badge.svg\" alt=\"Open In Colab\"/></a>"
      ]
    },
    {
      "cell_type": "code",
      "metadata": {
        "id": "vmqxZqTtUmXL",
        "colab_type": "code",
        "colab": {}
      },
      "source": [
        "import pandas as pd\n",
        "import numpy as np\n",
        "import matplotlib.pyplot as plt"
      ],
      "execution_count": 0,
      "outputs": []
    },
    {
      "cell_type": "code",
      "metadata": {
        "id": "jJrlpE3WTpPV",
        "colab_type": "code",
        "colab": {}
      },
      "source": [
        "df = pd.read_csv('https://raw.githubusercontent.com/jasonong/List-of-US-States/master/states.csv')"
      ],
      "execution_count": 0,
      "outputs": []
    },
    {
      "cell_type": "code",
      "metadata": {
        "id": "Liy0LkO4U9FI",
        "colab_type": "code",
        "outputId": "f16c428a-c233-4909-8d28-bcad1f86d7ac",
        "colab": {
          "base_uri": "https://localhost:8080/",
          "height": 204
        }
      },
      "source": [
        "df.head()"
      ],
      "execution_count": 3,
      "outputs": [
        {
          "output_type": "execute_result",
          "data": {
            "text/html": [
              "<div>\n",
              "<style scoped>\n",
              "    .dataframe tbody tr th:only-of-type {\n",
              "        vertical-align: middle;\n",
              "    }\n",
              "\n",
              "    .dataframe tbody tr th {\n",
              "        vertical-align: top;\n",
              "    }\n",
              "\n",
              "    .dataframe thead th {\n",
              "        text-align: right;\n",
              "    }\n",
              "</style>\n",
              "<table border=\"1\" class=\"dataframe\">\n",
              "  <thead>\n",
              "    <tr style=\"text-align: right;\">\n",
              "      <th></th>\n",
              "      <th>State</th>\n",
              "      <th>Abbreviation</th>\n",
              "    </tr>\n",
              "  </thead>\n",
              "  <tbody>\n",
              "    <tr>\n",
              "      <th>0</th>\n",
              "      <td>Alabama</td>\n",
              "      <td>AL</td>\n",
              "    </tr>\n",
              "    <tr>\n",
              "      <th>1</th>\n",
              "      <td>Alaska</td>\n",
              "      <td>AK</td>\n",
              "    </tr>\n",
              "    <tr>\n",
              "      <th>2</th>\n",
              "      <td>Arizona</td>\n",
              "      <td>AZ</td>\n",
              "    </tr>\n",
              "    <tr>\n",
              "      <th>3</th>\n",
              "      <td>Arkansas</td>\n",
              "      <td>AR</td>\n",
              "    </tr>\n",
              "    <tr>\n",
              "      <th>4</th>\n",
              "      <td>California</td>\n",
              "      <td>CA</td>\n",
              "    </tr>\n",
              "  </tbody>\n",
              "</table>\n",
              "</div>"
            ],
            "text/plain": [
              "        State Abbreviation\n",
              "0     Alabama           AL\n",
              "1      Alaska           AK\n",
              "2     Arizona           AZ\n",
              "3    Arkansas           AR\n",
              "4  California           CA"
            ]
          },
          "metadata": {
            "tags": []
          },
          "execution_count": 3
        }
      ]
    },
    {
      "cell_type": "code",
      "metadata": {
        "id": "LPOU1nCRVCsO",
        "colab_type": "code",
        "colab": {}
      },
      "source": [
        "data = {'Alabama':[342.72,229.20,0,0,1],'Alaska':[298.14,305.15,1,1,1],'Arizona':[296.69,232.85,0,1,1],\n",
        "        'Arkansas':[331.06,240.27,0,1,1], 'California':[256.61,206.82,1,1,1], 'Colorado':[241.67,200.15,1,1,1],\n",
        "        'Connecticut':[332.97,280.61,0,1,1], 'Delaware':[340.60,264.44,0,1,1], 'Florida':[298.76,227.55,0,1,1], 'Georgia':[317.87,234.60,0,0,1],\n",
        "       'Hawaii':[313.92,267.13,0,1,1], 'Idaho':[274.09,244.30,0,0,0], 'Illinois':[353.50,297.18,0,1,1],'Indiana':[332.24,235.46,0,0,1],'Iowa':[362.74,308,0,0,1],\n",
        "       'Kansas':[343.02,283.13,0,0,0], 'Kentucky':[338.85,202.69,0,0,1],'Louisiana':[358.33,258.03,0,1,1],'Maine':[287.98,232.75,1,1,1], 'Maryland':[360.60,283.28,0,1,1], \n",
        "       'Massachusetts':[340.46,283.07,1,1,1], 'Michigan':[289.99,273.00,1,1,1], 'Minnesota':[330.42,279.76,0,1,1], 'Mississippi':[349.95,170.7,0,0,1], 'Missouri':[353.90,272.14,0,1,1],\n",
        "       'Montana':[268.53,244.66,0,1,1], 'Nebraska':[309.98, 248.50,0,0,0], 'Nevada':[270.21,234.14,1,1,1], 'New Hampshire':[334.59,301.63,0,1,1], 'New Jersey':[343.63,298.38,0,1,1], 'New Mexico':[284.09, 228.36,0,1,1],\n",
        "       'New York':[337.87,270.50,0,1,1], 'North Carolina':[341.88,270.33,0,0,1], 'North Dakota':[383.60,329.56,0,1,1], 'Ohio':[330.23,235.03,0,1,1], 'Oklahoma':[344.50, 265.79,0,1,1], 'Oregon':[210.65,187.04,1,1,1],\n",
        "       'Pennsylvania':[357.52,287.21,0,1,1], 'Rhode Island':[307.64,254.62,0,1,1], 'South Carolina':[335.72,227.53,0,0,1], 'South Dakota':[350.84,335.26,0,0,1], 'Tennessee':[344.92,250.16,0,0,1], 'Texas': [324.45,243.19,0,0,1],\n",
        "       'Utah':[281.01,244.05,0,1,1], 'Vermont': [345.15, 299.72,1,1,1], 'Virginia':[364.87, 311.23,0,0,1], 'Washington':[232.86,197.83,1,1,1], 'West Virginia':[362.95,256.38,0,1,1], 'Wisconsin':[344.20,287.16,0,0,1],\n",
        "        'Wyoming':[318.22,321.63,0,0,1]}"
      ],
      "execution_count": 0,
      "outputs": []
    },
    {
      "cell_type": "code",
      "metadata": {
        "id": "96r2PsuUYE08",
        "colab_type": "code",
        "colab": {}
      },
      "source": [
        "df = pd.DataFrame.from_dict(data)"
      ],
      "execution_count": 0,
      "outputs": []
    },
    {
      "cell_type": "code",
      "metadata": {
        "id": "kcgDTUmsYLbq",
        "colab_type": "code",
        "colab": {}
      },
      "source": [
        "df = df.T"
      ],
      "execution_count": 0,
      "outputs": []
    },
    {
      "cell_type": "code",
      "metadata": {
        "id": "i1Hxue-Lna7D",
        "colab_type": "code",
        "colab": {}
      },
      "source": [
        "df[2]= df[2].astype(int)\n",
        "df[3]= df[3].astype(int)\n",
        "df[4]= df[4].astype(int)"
      ],
      "execution_count": 0,
      "outputs": []
    },
    {
      "cell_type": "code",
      "metadata": {
        "id": "OHxn9CVRbeVL",
        "colab_type": "code",
        "colab": {}
      },
      "source": [
        "df = df.rename(columns={0:'High Quality',1:'Medium Quality', 2:'Recreationally Legal', 3:'Medically Legal', 4:'Legal CBD'})"
      ],
      "execution_count": 0,
      "outputs": []
    },
    {
      "cell_type": "code",
      "metadata": {
        "id": "AkX8khd8nYs6",
        "colab_type": "code",
        "colab": {}
      },
      "source": [
        "df = df.reset_index()\n",
        "df = df.rename(columns={'index':'State'})"
      ],
      "execution_count": 0,
      "outputs": []
    },
    {
      "cell_type": "code",
      "metadata": {
        "id": "QxAzC2-NzvBO",
        "colab_type": "code",
        "colab": {}
      },
      "source": [
        "df"
      ],
      "execution_count": 0,
      "outputs": []
    },
    {
      "cell_type": "code",
      "metadata": {
        "id": "AOkW6K2obaie",
        "colab_type": "code",
        "outputId": "f8398310-d3df-4654-ea08-b36545f93669",
        "colab": {
          "base_uri": "https://localhost:8080/",
          "height": 297
        }
      },
      "source": [
        "df.describe()"
      ],
      "execution_count": 9,
      "outputs": [
        {
          "output_type": "execute_result",
          "data": {
            "text/html": [
              "<div>\n",
              "<style scoped>\n",
              "    .dataframe tbody tr th:only-of-type {\n",
              "        vertical-align: middle;\n",
              "    }\n",
              "\n",
              "    .dataframe tbody tr th {\n",
              "        vertical-align: top;\n",
              "    }\n",
              "\n",
              "    .dataframe thead th {\n",
              "        text-align: right;\n",
              "    }\n",
              "</style>\n",
              "<table border=\"1\" class=\"dataframe\">\n",
              "  <thead>\n",
              "    <tr style=\"text-align: right;\">\n",
              "      <th></th>\n",
              "      <th>High Quality</th>\n",
              "      <th>Medium Quality</th>\n",
              "      <th>Recreationally Legal</th>\n",
              "      <th>Medically Legal</th>\n",
              "      <th>Legal CBD</th>\n",
              "    </tr>\n",
              "  </thead>\n",
              "  <tbody>\n",
              "    <tr>\n",
              "      <th>count</th>\n",
              "      <td>50.000000</td>\n",
              "      <td>50.000000</td>\n",
              "      <td>50.000000</td>\n",
              "      <td>50.000000</td>\n",
              "      <td>50.000000</td>\n",
              "    </tr>\n",
              "    <tr>\n",
              "      <th>mean</th>\n",
              "      <td>321.543800</td>\n",
              "      <td>258.843000</td>\n",
              "      <td>0.200000</td>\n",
              "      <td>0.660000</td>\n",
              "      <td>0.940000</td>\n",
              "    </tr>\n",
              "    <tr>\n",
              "      <th>std</th>\n",
              "      <td>37.491629</td>\n",
              "      <td>37.395768</td>\n",
              "      <td>0.404061</td>\n",
              "      <td>0.478518</td>\n",
              "      <td>0.239898</td>\n",
              "    </tr>\n",
              "    <tr>\n",
              "      <th>min</th>\n",
              "      <td>210.650000</td>\n",
              "      <td>170.700000</td>\n",
              "      <td>0.000000</td>\n",
              "      <td>0.000000</td>\n",
              "      <td>0.000000</td>\n",
              "    </tr>\n",
              "    <tr>\n",
              "      <th>25%</th>\n",
              "      <td>298.295000</td>\n",
              "      <td>234.255000</td>\n",
              "      <td>0.000000</td>\n",
              "      <td>0.000000</td>\n",
              "      <td>1.000000</td>\n",
              "    </tr>\n",
              "    <tr>\n",
              "      <th>50%</th>\n",
              "      <td>333.780000</td>\n",
              "      <td>257.205000</td>\n",
              "      <td>0.000000</td>\n",
              "      <td>1.000000</td>\n",
              "      <td>1.000000</td>\n",
              "    </tr>\n",
              "    <tr>\n",
              "      <th>75%</th>\n",
              "      <td>344.815000</td>\n",
              "      <td>283.242500</td>\n",
              "      <td>0.000000</td>\n",
              "      <td>1.000000</td>\n",
              "      <td>1.000000</td>\n",
              "    </tr>\n",
              "    <tr>\n",
              "      <th>max</th>\n",
              "      <td>383.600000</td>\n",
              "      <td>335.260000</td>\n",
              "      <td>1.000000</td>\n",
              "      <td>1.000000</td>\n",
              "      <td>1.000000</td>\n",
              "    </tr>\n",
              "  </tbody>\n",
              "</table>\n",
              "</div>"
            ],
            "text/plain": [
              "       High Quality  Medium Quality  ...  Medically Legal  Legal CBD\n",
              "count     50.000000       50.000000  ...        50.000000  50.000000\n",
              "mean     321.543800      258.843000  ...         0.660000   0.940000\n",
              "std       37.491629       37.395768  ...         0.478518   0.239898\n",
              "min      210.650000      170.700000  ...         0.000000   0.000000\n",
              "25%      298.295000      234.255000  ...         0.000000   1.000000\n",
              "50%      333.780000      257.205000  ...         1.000000   1.000000\n",
              "75%      344.815000      283.242500  ...         1.000000   1.000000\n",
              "max      383.600000      335.260000  ...         1.000000   1.000000\n",
              "\n",
              "[8 rows x 5 columns]"
            ]
          },
          "metadata": {
            "tags": []
          },
          "execution_count": 9
        }
      ]
    },
    {
      "cell_type": "code",
      "metadata": {
        "id": "TlKHwV8rv9Wl",
        "colab_type": "code",
        "colab": {}
      },
      "source": [
        "cbdIllegal = df[df['Legal CBD']==0]"
      ],
      "execution_count": 0,
      "outputs": []
    },
    {
      "cell_type": "code",
      "metadata": {
        "id": "PxrknOCdwJF3",
        "colab_type": "code",
        "colab": {
          "base_uri": "https://localhost:8080/",
          "height": 142
        },
        "outputId": "31faea57-395d-4dd5-e620-68ead3b6edde"
      },
      "source": [
        "cbdIllegal"
      ],
      "execution_count": 11,
      "outputs": [
        {
          "output_type": "execute_result",
          "data": {
            "text/html": [
              "<div>\n",
              "<style scoped>\n",
              "    .dataframe tbody tr th:only-of-type {\n",
              "        vertical-align: middle;\n",
              "    }\n",
              "\n",
              "    .dataframe tbody tr th {\n",
              "        vertical-align: top;\n",
              "    }\n",
              "\n",
              "    .dataframe thead th {\n",
              "        text-align: right;\n",
              "    }\n",
              "</style>\n",
              "<table border=\"1\" class=\"dataframe\">\n",
              "  <thead>\n",
              "    <tr style=\"text-align: right;\">\n",
              "      <th></th>\n",
              "      <th>State</th>\n",
              "      <th>High Quality</th>\n",
              "      <th>Medium Quality</th>\n",
              "      <th>Recreationally Legal</th>\n",
              "      <th>Medically Legal</th>\n",
              "      <th>Legal CBD</th>\n",
              "    </tr>\n",
              "  </thead>\n",
              "  <tbody>\n",
              "    <tr>\n",
              "      <th>11</th>\n",
              "      <td>Idaho</td>\n",
              "      <td>274.09</td>\n",
              "      <td>244.30</td>\n",
              "      <td>0</td>\n",
              "      <td>0</td>\n",
              "      <td>0</td>\n",
              "    </tr>\n",
              "    <tr>\n",
              "      <th>15</th>\n",
              "      <td>Kansas</td>\n",
              "      <td>343.02</td>\n",
              "      <td>283.13</td>\n",
              "      <td>0</td>\n",
              "      <td>0</td>\n",
              "      <td>0</td>\n",
              "    </tr>\n",
              "    <tr>\n",
              "      <th>26</th>\n",
              "      <td>Nebraska</td>\n",
              "      <td>309.98</td>\n",
              "      <td>248.50</td>\n",
              "      <td>0</td>\n",
              "      <td>0</td>\n",
              "      <td>0</td>\n",
              "    </tr>\n",
              "  </tbody>\n",
              "</table>\n",
              "</div>"
            ],
            "text/plain": [
              "       State  High Quality  ...  Medically Legal  Legal CBD\n",
              "11     Idaho        274.09  ...                0          0\n",
              "15    Kansas        343.02  ...                0          0\n",
              "26  Nebraska        309.98  ...                0          0\n",
              "\n",
              "[3 rows x 6 columns]"
            ]
          },
          "metadata": {
            "tags": []
          },
          "execution_count": 11
        }
      ]
    },
    {
      "cell_type": "code",
      "metadata": {
        "id": "jWhENm64jabZ",
        "colab_type": "code",
        "outputId": "626d2c63-69d9-4924-aa01-bbe236f20c50",
        "colab": {
          "base_uri": "https://localhost:8080/",
          "height": 359
        }
      },
      "source": [
        "df.sample(10)"
      ],
      "execution_count": 12,
      "outputs": [
        {
          "output_type": "execute_result",
          "data": {
            "text/html": [
              "<div>\n",
              "<style scoped>\n",
              "    .dataframe tbody tr th:only-of-type {\n",
              "        vertical-align: middle;\n",
              "    }\n",
              "\n",
              "    .dataframe tbody tr th {\n",
              "        vertical-align: top;\n",
              "    }\n",
              "\n",
              "    .dataframe thead th {\n",
              "        text-align: right;\n",
              "    }\n",
              "</style>\n",
              "<table border=\"1\" class=\"dataframe\">\n",
              "  <thead>\n",
              "    <tr style=\"text-align: right;\">\n",
              "      <th></th>\n",
              "      <th>State</th>\n",
              "      <th>High Quality</th>\n",
              "      <th>Medium Quality</th>\n",
              "      <th>Recreationally Legal</th>\n",
              "      <th>Medically Legal</th>\n",
              "    </tr>\n",
              "  </thead>\n",
              "  <tbody>\n",
              "    <tr>\n",
              "      <th>46</th>\n",
              "      <td>Washington</td>\n",
              "      <td>232.86</td>\n",
              "      <td>197.83</td>\n",
              "      <td>1</td>\n",
              "      <td>1</td>\n",
              "    </tr>\n",
              "    <tr>\n",
              "      <th>27</th>\n",
              "      <td>Nevada</td>\n",
              "      <td>270.21</td>\n",
              "      <td>234.14</td>\n",
              "      <td>1</td>\n",
              "      <td>1</td>\n",
              "    </tr>\n",
              "    <tr>\n",
              "      <th>20</th>\n",
              "      <td>Massachusetts</td>\n",
              "      <td>340.46</td>\n",
              "      <td>283.07</td>\n",
              "      <td>1</td>\n",
              "      <td>1</td>\n",
              "    </tr>\n",
              "    <tr>\n",
              "      <th>4</th>\n",
              "      <td>California</td>\n",
              "      <td>256.61</td>\n",
              "      <td>206.82</td>\n",
              "      <td>1</td>\n",
              "      <td>1</td>\n",
              "    </tr>\n",
              "    <tr>\n",
              "      <th>0</th>\n",
              "      <td>Alabama</td>\n",
              "      <td>342.72</td>\n",
              "      <td>229.20</td>\n",
              "      <td>0</td>\n",
              "      <td>0</td>\n",
              "    </tr>\n",
              "    <tr>\n",
              "      <th>19</th>\n",
              "      <td>Maryland</td>\n",
              "      <td>360.60</td>\n",
              "      <td>283.28</td>\n",
              "      <td>0</td>\n",
              "      <td>1</td>\n",
              "    </tr>\n",
              "    <tr>\n",
              "      <th>48</th>\n",
              "      <td>Wisconsin</td>\n",
              "      <td>344.20</td>\n",
              "      <td>287.16</td>\n",
              "      <td>0</td>\n",
              "      <td>0</td>\n",
              "    </tr>\n",
              "    <tr>\n",
              "      <th>26</th>\n",
              "      <td>Nebraska</td>\n",
              "      <td>309.98</td>\n",
              "      <td>248.50</td>\n",
              "      <td>0</td>\n",
              "      <td>0</td>\n",
              "    </tr>\n",
              "    <tr>\n",
              "      <th>17</th>\n",
              "      <td>Louisiana</td>\n",
              "      <td>358.33</td>\n",
              "      <td>258.03</td>\n",
              "      <td>0</td>\n",
              "      <td>1</td>\n",
              "    </tr>\n",
              "    <tr>\n",
              "      <th>49</th>\n",
              "      <td>Wyoming</td>\n",
              "      <td>318.22</td>\n",
              "      <td>321.63</td>\n",
              "      <td>0</td>\n",
              "      <td>0</td>\n",
              "    </tr>\n",
              "  </tbody>\n",
              "</table>\n",
              "</div>"
            ],
            "text/plain": [
              "            State  High Quality  ...  Recreationally Legal  Medically Legal\n",
              "46     Washington        232.86  ...                     1                1\n",
              "27         Nevada        270.21  ...                     1                1\n",
              "20  Massachusetts        340.46  ...                     1                1\n",
              "4      California        256.61  ...                     1                1\n",
              "0         Alabama        342.72  ...                     0                0\n",
              "19       Maryland        360.60  ...                     0                1\n",
              "48      Wisconsin        344.20  ...                     0                0\n",
              "26       Nebraska        309.98  ...                     0                0\n",
              "17      Louisiana        358.33  ...                     0                1\n",
              "49        Wyoming        318.22  ...                     0                0\n",
              "\n",
              "[10 rows x 5 columns]"
            ]
          },
          "metadata": {
            "tags": []
          },
          "execution_count": 12
        }
      ]
    },
    {
      "cell_type": "code",
      "metadata": {
        "id": "XSHFxa1RqaU-",
        "colab_type": "code",
        "colab": {}
      },
      "source": [
        "df['Recreationally and Medically Legal'] = (df['Medically Legal'] ==1) & (df['Recreationally Legal'] ==1)\n"
      ],
      "execution_count": 0,
      "outputs": []
    },
    {
      "cell_type": "code",
      "metadata": {
        "id": "RUxFAjiMr9mv",
        "colab_type": "code",
        "colab": {}
      },
      "source": [
        "df['Recreationally and Medically Legal'] = df['Recreationally and Medically Legal'].astype(int)"
      ],
      "execution_count": 0,
      "outputs": []
    },
    {
      "cell_type": "code",
      "metadata": {
        "id": "WtaCInFzsKZm",
        "colab_type": "code",
        "outputId": "fed27301-f2c6-457f-8cbb-674a200d1af2",
        "colab": {
          "base_uri": "https://localhost:8080/",
          "height": 297
        }
      },
      "source": [
        "df.describe()"
      ],
      "execution_count": 15,
      "outputs": [
        {
          "output_type": "execute_result",
          "data": {
            "text/html": [
              "<div>\n",
              "<style scoped>\n",
              "    .dataframe tbody tr th:only-of-type {\n",
              "        vertical-align: middle;\n",
              "    }\n",
              "\n",
              "    .dataframe tbody tr th {\n",
              "        vertical-align: top;\n",
              "    }\n",
              "\n",
              "    .dataframe thead th {\n",
              "        text-align: right;\n",
              "    }\n",
              "</style>\n",
              "<table border=\"1\" class=\"dataframe\">\n",
              "  <thead>\n",
              "    <tr style=\"text-align: right;\">\n",
              "      <th></th>\n",
              "      <th>High Quality</th>\n",
              "      <th>Medium Quality</th>\n",
              "      <th>Recreationally Legal</th>\n",
              "      <th>Medically Legal</th>\n",
              "      <th>Recreationally and Medically Legal</th>\n",
              "    </tr>\n",
              "  </thead>\n",
              "  <tbody>\n",
              "    <tr>\n",
              "      <th>count</th>\n",
              "      <td>50.000000</td>\n",
              "      <td>50.000000</td>\n",
              "      <td>50.000000</td>\n",
              "      <td>50.000000</td>\n",
              "      <td>50.000000</td>\n",
              "    </tr>\n",
              "    <tr>\n",
              "      <th>mean</th>\n",
              "      <td>321.543800</td>\n",
              "      <td>258.843000</td>\n",
              "      <td>0.200000</td>\n",
              "      <td>0.660000</td>\n",
              "      <td>0.200000</td>\n",
              "    </tr>\n",
              "    <tr>\n",
              "      <th>std</th>\n",
              "      <td>37.491629</td>\n",
              "      <td>37.395768</td>\n",
              "      <td>0.404061</td>\n",
              "      <td>0.478518</td>\n",
              "      <td>0.404061</td>\n",
              "    </tr>\n",
              "    <tr>\n",
              "      <th>min</th>\n",
              "      <td>210.650000</td>\n",
              "      <td>170.700000</td>\n",
              "      <td>0.000000</td>\n",
              "      <td>0.000000</td>\n",
              "      <td>0.000000</td>\n",
              "    </tr>\n",
              "    <tr>\n",
              "      <th>25%</th>\n",
              "      <td>298.295000</td>\n",
              "      <td>234.255000</td>\n",
              "      <td>0.000000</td>\n",
              "      <td>0.000000</td>\n",
              "      <td>0.000000</td>\n",
              "    </tr>\n",
              "    <tr>\n",
              "      <th>50%</th>\n",
              "      <td>333.780000</td>\n",
              "      <td>257.205000</td>\n",
              "      <td>0.000000</td>\n",
              "      <td>1.000000</td>\n",
              "      <td>0.000000</td>\n",
              "    </tr>\n",
              "    <tr>\n",
              "      <th>75%</th>\n",
              "      <td>344.815000</td>\n",
              "      <td>283.242500</td>\n",
              "      <td>0.000000</td>\n",
              "      <td>1.000000</td>\n",
              "      <td>0.000000</td>\n",
              "    </tr>\n",
              "    <tr>\n",
              "      <th>max</th>\n",
              "      <td>383.600000</td>\n",
              "      <td>335.260000</td>\n",
              "      <td>1.000000</td>\n",
              "      <td>1.000000</td>\n",
              "      <td>1.000000</td>\n",
              "    </tr>\n",
              "  </tbody>\n",
              "</table>\n",
              "</div>"
            ],
            "text/plain": [
              "       High Quality  ...  Recreationally and Medically Legal\n",
              "count     50.000000  ...                           50.000000\n",
              "mean     321.543800  ...                            0.200000\n",
              "std       37.491629  ...                            0.404061\n",
              "min      210.650000  ...                            0.000000\n",
              "25%      298.295000  ...                            0.000000\n",
              "50%      333.780000  ...                            0.000000\n",
              "75%      344.815000  ...                            0.000000\n",
              "max      383.600000  ...                            1.000000\n",
              "\n",
              "[8 rows x 5 columns]"
            ]
          },
          "metadata": {
            "tags": []
          },
          "execution_count": 15
        }
      ]
    },
    {
      "cell_type": "code",
      "metadata": {
        "id": "bpJ2s-vpa3c8",
        "colab_type": "code",
        "outputId": "ec5de482-a3a3-4718-9fa5-ad2ea9a2ce4a",
        "colab": {
          "base_uri": "https://localhost:8080/",
          "height": 173
        }
      },
      "source": [
        "df.pivot_table(columns = 'Recreationally and Medically Legal')"
      ],
      "execution_count": 16,
      "outputs": [
        {
          "output_type": "execute_result",
          "data": {
            "text/html": [
              "<div>\n",
              "<style scoped>\n",
              "    .dataframe tbody tr th:only-of-type {\n",
              "        vertical-align: middle;\n",
              "    }\n",
              "\n",
              "    .dataframe tbody tr th {\n",
              "        vertical-align: top;\n",
              "    }\n",
              "\n",
              "    .dataframe thead th {\n",
              "        text-align: right;\n",
              "    }\n",
              "</style>\n",
              "<table border=\"1\" class=\"dataframe\">\n",
              "  <thead>\n",
              "    <tr style=\"text-align: right;\">\n",
              "      <th>Recreationally and Medically Legal</th>\n",
              "      <th>0</th>\n",
              "      <th>1</th>\n",
              "    </tr>\n",
              "  </thead>\n",
              "  <tbody>\n",
              "    <tr>\n",
              "      <th>High Quality</th>\n",
              "      <td>332.58675</td>\n",
              "      <td>277.372</td>\n",
              "    </tr>\n",
              "    <tr>\n",
              "      <th>Medically Legal</th>\n",
              "      <td>0.57500</td>\n",
              "      <td>1.000</td>\n",
              "    </tr>\n",
              "    <tr>\n",
              "      <th>Medium Quality</th>\n",
              "      <td>263.06200</td>\n",
              "      <td>241.967</td>\n",
              "    </tr>\n",
              "    <tr>\n",
              "      <th>Recreationally Legal</th>\n",
              "      <td>0.00000</td>\n",
              "      <td>1.000</td>\n",
              "    </tr>\n",
              "  </tbody>\n",
              "</table>\n",
              "</div>"
            ],
            "text/plain": [
              "Recreationally and Medically Legal          0        1\n",
              "High Quality                        332.58675  277.372\n",
              "Medically Legal                       0.57500    1.000\n",
              "Medium Quality                      263.06200  241.967\n",
              "Recreationally Legal                  0.00000    1.000"
            ]
          },
          "metadata": {
            "tags": []
          },
          "execution_count": 16
        }
      ]
    },
    {
      "cell_type": "code",
      "metadata": {
        "id": "uIH_Zs39JuTk",
        "colab_type": "code",
        "colab": {}
      },
      "source": [
        ""
      ],
      "execution_count": 0,
      "outputs": []
    },
    {
      "cell_type": "code",
      "metadata": {
        "id": "ouRUGzFIb0B4",
        "colab_type": "code",
        "colab": {}
      },
      "source": [
        "medLegal = df[df['Medically Legal'] == 1]\n",
        "medIllegal = df[df['Medically Legal'] == 0]"
      ],
      "execution_count": 0,
      "outputs": []
    },
    {
      "cell_type": "code",
      "metadata": {
        "id": "hHJURSOncB09",
        "colab_type": "code",
        "colab": {
          "base_uri": "https://localhost:8080/",
          "height": 297
        },
        "outputId": "b441bb80-5b9a-4377-e71b-370f1776f6fa"
      },
      "source": [
        "medLegal.describe()"
      ],
      "execution_count": 18,
      "outputs": [
        {
          "output_type": "execute_result",
          "data": {
            "text/html": [
              "<div>\n",
              "<style scoped>\n",
              "    .dataframe tbody tr th:only-of-type {\n",
              "        vertical-align: middle;\n",
              "    }\n",
              "\n",
              "    .dataframe tbody tr th {\n",
              "        vertical-align: top;\n",
              "    }\n",
              "\n",
              "    .dataframe thead th {\n",
              "        text-align: right;\n",
              "    }\n",
              "</style>\n",
              "<table border=\"1\" class=\"dataframe\">\n",
              "  <thead>\n",
              "    <tr style=\"text-align: right;\">\n",
              "      <th></th>\n",
              "      <th>High Quality</th>\n",
              "      <th>Medium Quality</th>\n",
              "      <th>Recreationally Legal</th>\n",
              "      <th>Medically Legal</th>\n",
              "      <th>Recreationally and Medically Legal</th>\n",
              "    </tr>\n",
              "  </thead>\n",
              "  <tbody>\n",
              "    <tr>\n",
              "      <th>count</th>\n",
              "      <td>33.000000</td>\n",
              "      <td>33.000000</td>\n",
              "      <td>33.000000</td>\n",
              "      <td>33.0</td>\n",
              "      <td>33.000000</td>\n",
              "    </tr>\n",
              "    <tr>\n",
              "      <th>mean</th>\n",
              "      <td>314.564545</td>\n",
              "      <td>258.760000</td>\n",
              "      <td>0.303030</td>\n",
              "      <td>1.0</td>\n",
              "      <td>0.303030</td>\n",
              "    </tr>\n",
              "    <tr>\n",
              "      <th>std</th>\n",
              "      <td>42.061031</td>\n",
              "      <td>34.233724</td>\n",
              "      <td>0.466694</td>\n",
              "      <td>0.0</td>\n",
              "      <td>0.466694</td>\n",
              "    </tr>\n",
              "    <tr>\n",
              "      <th>min</th>\n",
              "      <td>210.650000</td>\n",
              "      <td>187.040000</td>\n",
              "      <td>0.000000</td>\n",
              "      <td>1.0</td>\n",
              "      <td>0.000000</td>\n",
              "    </tr>\n",
              "    <tr>\n",
              "      <th>25%</th>\n",
              "      <td>287.980000</td>\n",
              "      <td>234.140000</td>\n",
              "      <td>0.000000</td>\n",
              "      <td>1.0</td>\n",
              "      <td>0.000000</td>\n",
              "    </tr>\n",
              "    <tr>\n",
              "      <th>50%</th>\n",
              "      <td>330.420000</td>\n",
              "      <td>264.440000</td>\n",
              "      <td>0.000000</td>\n",
              "      <td>1.0</td>\n",
              "      <td>0.000000</td>\n",
              "    </tr>\n",
              "    <tr>\n",
              "      <th>75%</th>\n",
              "      <td>344.500000</td>\n",
              "      <td>283.070000</td>\n",
              "      <td>1.000000</td>\n",
              "      <td>1.0</td>\n",
              "      <td>1.000000</td>\n",
              "    </tr>\n",
              "    <tr>\n",
              "      <th>max</th>\n",
              "      <td>383.600000</td>\n",
              "      <td>329.560000</td>\n",
              "      <td>1.000000</td>\n",
              "      <td>1.0</td>\n",
              "      <td>1.000000</td>\n",
              "    </tr>\n",
              "  </tbody>\n",
              "</table>\n",
              "</div>"
            ],
            "text/plain": [
              "       High Quality  ...  Recreationally and Medically Legal\n",
              "count     33.000000  ...                           33.000000\n",
              "mean     314.564545  ...                            0.303030\n",
              "std       42.061031  ...                            0.466694\n",
              "min      210.650000  ...                            0.000000\n",
              "25%      287.980000  ...                            0.000000\n",
              "50%      330.420000  ...                            0.000000\n",
              "75%      344.500000  ...                            1.000000\n",
              "max      383.600000  ...                            1.000000\n",
              "\n",
              "[8 rows x 5 columns]"
            ]
          },
          "metadata": {
            "tags": []
          },
          "execution_count": 18
        }
      ]
    },
    {
      "cell_type": "code",
      "metadata": {
        "id": "WWBfvyUAcPW8",
        "colab_type": "code",
        "colab": {
          "base_uri": "https://localhost:8080/",
          "height": 297
        },
        "outputId": "a5052991-b532-4d1b-e628-5b8b4470d45a"
      },
      "source": [
        "medIllegal.describe()"
      ],
      "execution_count": 19,
      "outputs": [
        {
          "output_type": "execute_result",
          "data": {
            "text/html": [
              "<div>\n",
              "<style scoped>\n",
              "    .dataframe tbody tr th:only-of-type {\n",
              "        vertical-align: middle;\n",
              "    }\n",
              "\n",
              "    .dataframe tbody tr th {\n",
              "        vertical-align: top;\n",
              "    }\n",
              "\n",
              "    .dataframe thead th {\n",
              "        text-align: right;\n",
              "    }\n",
              "</style>\n",
              "<table border=\"1\" class=\"dataframe\">\n",
              "  <thead>\n",
              "    <tr style=\"text-align: right;\">\n",
              "      <th></th>\n",
              "      <th>High Quality</th>\n",
              "      <th>Medium Quality</th>\n",
              "      <th>Recreationally Legal</th>\n",
              "      <th>Medically Legal</th>\n",
              "      <th>Recreationally and Medically Legal</th>\n",
              "    </tr>\n",
              "  </thead>\n",
              "  <tbody>\n",
              "    <tr>\n",
              "      <th>count</th>\n",
              "      <td>17.000000</td>\n",
              "      <td>17.000000</td>\n",
              "      <td>17.0</td>\n",
              "      <td>17.0</td>\n",
              "      <td>17.0</td>\n",
              "    </tr>\n",
              "    <tr>\n",
              "      <th>mean</th>\n",
              "      <td>335.091765</td>\n",
              "      <td>259.004118</td>\n",
              "      <td>0.0</td>\n",
              "      <td>0.0</td>\n",
              "      <td>0.0</td>\n",
              "    </tr>\n",
              "    <tr>\n",
              "      <th>std</th>\n",
              "      <td>21.701935</td>\n",
              "      <td>44.031756</td>\n",
              "      <td>0.0</td>\n",
              "      <td>0.0</td>\n",
              "      <td>0.0</td>\n",
              "    </tr>\n",
              "    <tr>\n",
              "      <th>min</th>\n",
              "      <td>274.090000</td>\n",
              "      <td>170.700000</td>\n",
              "      <td>0.0</td>\n",
              "      <td>0.0</td>\n",
              "      <td>0.0</td>\n",
              "    </tr>\n",
              "    <tr>\n",
              "      <th>25%</th>\n",
              "      <td>324.450000</td>\n",
              "      <td>234.600000</td>\n",
              "      <td>0.0</td>\n",
              "      <td>0.0</td>\n",
              "      <td>0.0</td>\n",
              "    </tr>\n",
              "    <tr>\n",
              "      <th>50%</th>\n",
              "      <td>341.880000</td>\n",
              "      <td>248.500000</td>\n",
              "      <td>0.0</td>\n",
              "      <td>0.0</td>\n",
              "      <td>0.0</td>\n",
              "    </tr>\n",
              "    <tr>\n",
              "      <th>75%</th>\n",
              "      <td>344.920000</td>\n",
              "      <td>287.160000</td>\n",
              "      <td>0.0</td>\n",
              "      <td>0.0</td>\n",
              "      <td>0.0</td>\n",
              "    </tr>\n",
              "    <tr>\n",
              "      <th>max</th>\n",
              "      <td>364.870000</td>\n",
              "      <td>335.260000</td>\n",
              "      <td>0.0</td>\n",
              "      <td>0.0</td>\n",
              "      <td>0.0</td>\n",
              "    </tr>\n",
              "  </tbody>\n",
              "</table>\n",
              "</div>"
            ],
            "text/plain": [
              "       High Quality  ...  Recreationally and Medically Legal\n",
              "count     17.000000  ...                                17.0\n",
              "mean     335.091765  ...                                 0.0\n",
              "std       21.701935  ...                                 0.0\n",
              "min      274.090000  ...                                 0.0\n",
              "25%      324.450000  ...                                 0.0\n",
              "50%      341.880000  ...                                 0.0\n",
              "75%      344.920000  ...                                 0.0\n",
              "max      364.870000  ...                                 0.0\n",
              "\n",
              "[8 rows x 5 columns]"
            ]
          },
          "metadata": {
            "tags": []
          },
          "execution_count": 19
        }
      ]
    },
    {
      "cell_type": "code",
      "metadata": {
        "id": "DH0OnhPPcWRj",
        "colab_type": "code",
        "colab": {}
      },
      "source": [
        "recLegal = df[df['Recreationally Legal'] == 1]\n",
        "recIllegal = df[df['Recreationally Legal'] == 0]"
      ],
      "execution_count": 0,
      "outputs": []
    },
    {
      "cell_type": "code",
      "metadata": {
        "id": "HSlJDRdJcsBB",
        "colab_type": "code",
        "colab": {
          "base_uri": "https://localhost:8080/",
          "height": 297
        },
        "outputId": "4f513195-9ebb-427e-b394-be0a0c9e0d25"
      },
      "source": [
        "recLegal.describe()"
      ],
      "execution_count": 21,
      "outputs": [
        {
          "output_type": "execute_result",
          "data": {
            "text/html": [
              "<div>\n",
              "<style scoped>\n",
              "    .dataframe tbody tr th:only-of-type {\n",
              "        vertical-align: middle;\n",
              "    }\n",
              "\n",
              "    .dataframe tbody tr th {\n",
              "        vertical-align: top;\n",
              "    }\n",
              "\n",
              "    .dataframe thead th {\n",
              "        text-align: right;\n",
              "    }\n",
              "</style>\n",
              "<table border=\"1\" class=\"dataframe\">\n",
              "  <thead>\n",
              "    <tr style=\"text-align: right;\">\n",
              "      <th></th>\n",
              "      <th>High Quality</th>\n",
              "      <th>Medium Quality</th>\n",
              "      <th>Recreationally Legal</th>\n",
              "      <th>Medically Legal</th>\n",
              "      <th>Recreationally and Medically Legal</th>\n",
              "    </tr>\n",
              "  </thead>\n",
              "  <tbody>\n",
              "    <tr>\n",
              "      <th>count</th>\n",
              "      <td>10.000000</td>\n",
              "      <td>10.000000</td>\n",
              "      <td>10.0</td>\n",
              "      <td>10.0</td>\n",
              "      <td>10.0</td>\n",
              "    </tr>\n",
              "    <tr>\n",
              "      <th>mean</th>\n",
              "      <td>277.372000</td>\n",
              "      <td>241.967000</td>\n",
              "      <td>1.0</td>\n",
              "      <td>1.0</td>\n",
              "      <td>1.0</td>\n",
              "    </tr>\n",
              "    <tr>\n",
              "      <th>std</th>\n",
              "      <td>44.054433</td>\n",
              "      <td>44.814733</td>\n",
              "      <td>0.0</td>\n",
              "      <td>0.0</td>\n",
              "      <td>0.0</td>\n",
              "    </tr>\n",
              "    <tr>\n",
              "      <th>min</th>\n",
              "      <td>210.650000</td>\n",
              "      <td>187.040000</td>\n",
              "      <td>1.0</td>\n",
              "      <td>1.0</td>\n",
              "      <td>1.0</td>\n",
              "    </tr>\n",
              "    <tr>\n",
              "      <th>25%</th>\n",
              "      <td>245.405000</td>\n",
              "      <td>201.817500</td>\n",
              "      <td>1.0</td>\n",
              "      <td>1.0</td>\n",
              "      <td>1.0</td>\n",
              "    </tr>\n",
              "    <tr>\n",
              "      <th>50%</th>\n",
              "      <td>279.095000</td>\n",
              "      <td>233.445000</td>\n",
              "      <td>1.0</td>\n",
              "      <td>1.0</td>\n",
              "      <td>1.0</td>\n",
              "    </tr>\n",
              "    <tr>\n",
              "      <th>75%</th>\n",
              "      <td>296.102500</td>\n",
              "      <td>280.552500</td>\n",
              "      <td>1.0</td>\n",
              "      <td>1.0</td>\n",
              "      <td>1.0</td>\n",
              "    </tr>\n",
              "    <tr>\n",
              "      <th>max</th>\n",
              "      <td>345.150000</td>\n",
              "      <td>305.150000</td>\n",
              "      <td>1.0</td>\n",
              "      <td>1.0</td>\n",
              "      <td>1.0</td>\n",
              "    </tr>\n",
              "  </tbody>\n",
              "</table>\n",
              "</div>"
            ],
            "text/plain": [
              "       High Quality  ...  Recreationally and Medically Legal\n",
              "count     10.000000  ...                                10.0\n",
              "mean     277.372000  ...                                 1.0\n",
              "std       44.054433  ...                                 0.0\n",
              "min      210.650000  ...                                 1.0\n",
              "25%      245.405000  ...                                 1.0\n",
              "50%      279.095000  ...                                 1.0\n",
              "75%      296.102500  ...                                 1.0\n",
              "max      345.150000  ...                                 1.0\n",
              "\n",
              "[8 rows x 5 columns]"
            ]
          },
          "metadata": {
            "tags": []
          },
          "execution_count": 21
        }
      ]
    },
    {
      "cell_type": "code",
      "metadata": {
        "id": "wquukkoJcvFE",
        "colab_type": "code",
        "colab": {
          "base_uri": "https://localhost:8080/",
          "height": 297
        },
        "outputId": "e5d5cb71-da0f-4f51-9aee-85ef66f26fc6"
      },
      "source": [
        "recIllegal.describe()"
      ],
      "execution_count": 22,
      "outputs": [
        {
          "output_type": "execute_result",
          "data": {
            "text/html": [
              "<div>\n",
              "<style scoped>\n",
              "    .dataframe tbody tr th:only-of-type {\n",
              "        vertical-align: middle;\n",
              "    }\n",
              "\n",
              "    .dataframe tbody tr th {\n",
              "        vertical-align: top;\n",
              "    }\n",
              "\n",
              "    .dataframe thead th {\n",
              "        text-align: right;\n",
              "    }\n",
              "</style>\n",
              "<table border=\"1\" class=\"dataframe\">\n",
              "  <thead>\n",
              "    <tr style=\"text-align: right;\">\n",
              "      <th></th>\n",
              "      <th>High Quality</th>\n",
              "      <th>Medium Quality</th>\n",
              "      <th>Recreationally Legal</th>\n",
              "      <th>Medically Legal</th>\n",
              "      <th>Recreationally and Medically Legal</th>\n",
              "    </tr>\n",
              "  </thead>\n",
              "  <tbody>\n",
              "    <tr>\n",
              "      <th>count</th>\n",
              "      <td>40.000000</td>\n",
              "      <td>40.000000</td>\n",
              "      <td>40.0</td>\n",
              "      <td>40.000000</td>\n",
              "      <td>40.0</td>\n",
              "    </tr>\n",
              "    <tr>\n",
              "      <th>mean</th>\n",
              "      <td>332.586750</td>\n",
              "      <td>263.062000</td>\n",
              "      <td>0.0</td>\n",
              "      <td>0.575000</td>\n",
              "      <td>0.0</td>\n",
              "    </tr>\n",
              "    <tr>\n",
              "      <th>std</th>\n",
              "      <td>26.320998</td>\n",
              "      <td>34.673752</td>\n",
              "      <td>0.0</td>\n",
              "      <td>0.500641</td>\n",
              "      <td>0.0</td>\n",
              "    </tr>\n",
              "    <tr>\n",
              "      <th>min</th>\n",
              "      <td>268.530000</td>\n",
              "      <td>170.700000</td>\n",
              "      <td>0.0</td>\n",
              "      <td>0.000000</td>\n",
              "      <td>0.0</td>\n",
              "    </tr>\n",
              "    <tr>\n",
              "      <th>25%</th>\n",
              "      <td>318.132500</td>\n",
              "      <td>239.067500</td>\n",
              "      <td>0.0</td>\n",
              "      <td>0.000000</td>\n",
              "      <td>0.0</td>\n",
              "    </tr>\n",
              "    <tr>\n",
              "      <th>50%</th>\n",
              "      <td>338.360000</td>\n",
              "      <td>261.235000</td>\n",
              "      <td>0.0</td>\n",
              "      <td>1.000000</td>\n",
              "      <td>0.0</td>\n",
              "    </tr>\n",
              "    <tr>\n",
              "      <th>75%</th>\n",
              "      <td>350.172500</td>\n",
              "      <td>284.250000</td>\n",
              "      <td>0.0</td>\n",
              "      <td>1.000000</td>\n",
              "      <td>0.0</td>\n",
              "    </tr>\n",
              "    <tr>\n",
              "      <th>max</th>\n",
              "      <td>383.600000</td>\n",
              "      <td>335.260000</td>\n",
              "      <td>0.0</td>\n",
              "      <td>1.000000</td>\n",
              "      <td>0.0</td>\n",
              "    </tr>\n",
              "  </tbody>\n",
              "</table>\n",
              "</div>"
            ],
            "text/plain": [
              "       High Quality  ...  Recreationally and Medically Legal\n",
              "count     40.000000  ...                                40.0\n",
              "mean     332.586750  ...                                 0.0\n",
              "std       26.320998  ...                                 0.0\n",
              "min      268.530000  ...                                 0.0\n",
              "25%      318.132500  ...                                 0.0\n",
              "50%      338.360000  ...                                 0.0\n",
              "75%      350.172500  ...                                 0.0\n",
              "max      383.600000  ...                                 0.0\n",
              "\n",
              "[8 rows x 5 columns]"
            ]
          },
          "metadata": {
            "tags": []
          },
          "execution_count": 22
        }
      ]
    },
    {
      "cell_type": "code",
      "metadata": {
        "id": "eE-GvRdhemb-",
        "colab_type": "code",
        "colab": {}
      },
      "source": [
        "medLegalOnly = df[(df['Medically Legal'] == 1) & (df['Recreationally Legal'] == 0)]\n"
      ],
      "execution_count": 0,
      "outputs": []
    },
    {
      "cell_type": "code",
      "metadata": {
        "id": "c9D72qlenAGR",
        "colab_type": "code",
        "colab": {}
      },
      "source": [
        "df['Medically Legal Only'] = (df['Medically Legal'] == 1) & (df['Recreationally Legal'] == 0)"
      ],
      "execution_count": 0,
      "outputs": []
    },
    {
      "cell_type": "code",
      "metadata": {
        "id": "hfOUHcuLnfy7",
        "colab_type": "code",
        "colab": {}
      },
      "source": [
        "df['Medically Legal Only'] = df['Medically Legal Only'].astype(int)"
      ],
      "execution_count": 0,
      "outputs": []
    },
    {
      "cell_type": "code",
      "metadata": {
        "id": "GlgcE_-anSdb",
        "colab_type": "code",
        "outputId": "d00e9701-6859-4570-f76e-3a5222004a5d",
        "colab": {
          "base_uri": "https://localhost:8080/",
          "height": 204
        }
      },
      "source": [
        "df.head()"
      ],
      "execution_count": 26,
      "outputs": [
        {
          "output_type": "execute_result",
          "data": {
            "text/html": [
              "<div>\n",
              "<style scoped>\n",
              "    .dataframe tbody tr th:only-of-type {\n",
              "        vertical-align: middle;\n",
              "    }\n",
              "\n",
              "    .dataframe tbody tr th {\n",
              "        vertical-align: top;\n",
              "    }\n",
              "\n",
              "    .dataframe thead th {\n",
              "        text-align: right;\n",
              "    }\n",
              "</style>\n",
              "<table border=\"1\" class=\"dataframe\">\n",
              "  <thead>\n",
              "    <tr style=\"text-align: right;\">\n",
              "      <th></th>\n",
              "      <th>State</th>\n",
              "      <th>High Quality</th>\n",
              "      <th>Medium Quality</th>\n",
              "      <th>Recreationally Legal</th>\n",
              "      <th>Medically Legal</th>\n",
              "      <th>Recreationally and Medically Legal</th>\n",
              "      <th>Medically Legal Only</th>\n",
              "    </tr>\n",
              "  </thead>\n",
              "  <tbody>\n",
              "    <tr>\n",
              "      <th>0</th>\n",
              "      <td>Alabama</td>\n",
              "      <td>342.72</td>\n",
              "      <td>229.20</td>\n",
              "      <td>0</td>\n",
              "      <td>0</td>\n",
              "      <td>0</td>\n",
              "      <td>0</td>\n",
              "    </tr>\n",
              "    <tr>\n",
              "      <th>1</th>\n",
              "      <td>Alaska</td>\n",
              "      <td>298.14</td>\n",
              "      <td>305.15</td>\n",
              "      <td>1</td>\n",
              "      <td>1</td>\n",
              "      <td>1</td>\n",
              "      <td>0</td>\n",
              "    </tr>\n",
              "    <tr>\n",
              "      <th>2</th>\n",
              "      <td>Arizona</td>\n",
              "      <td>296.69</td>\n",
              "      <td>232.85</td>\n",
              "      <td>0</td>\n",
              "      <td>1</td>\n",
              "      <td>0</td>\n",
              "      <td>1</td>\n",
              "    </tr>\n",
              "    <tr>\n",
              "      <th>3</th>\n",
              "      <td>Arkansas</td>\n",
              "      <td>331.06</td>\n",
              "      <td>240.27</td>\n",
              "      <td>0</td>\n",
              "      <td>1</td>\n",
              "      <td>0</td>\n",
              "      <td>1</td>\n",
              "    </tr>\n",
              "    <tr>\n",
              "      <th>4</th>\n",
              "      <td>California</td>\n",
              "      <td>256.61</td>\n",
              "      <td>206.82</td>\n",
              "      <td>1</td>\n",
              "      <td>1</td>\n",
              "      <td>1</td>\n",
              "      <td>0</td>\n",
              "    </tr>\n",
              "  </tbody>\n",
              "</table>\n",
              "</div>"
            ],
            "text/plain": [
              "        State  ...  Medically Legal Only\n",
              "0     Alabama  ...                     0\n",
              "1      Alaska  ...                     0\n",
              "2     Arizona  ...                     1\n",
              "3    Arkansas  ...                     1\n",
              "4  California  ...                     0\n",
              "\n",
              "[5 rows x 7 columns]"
            ]
          },
          "metadata": {
            "tags": []
          },
          "execution_count": 26
        }
      ]
    },
    {
      "cell_type": "code",
      "metadata": {
        "id": "LHkx1rJ1i2yB",
        "colab_type": "code",
        "outputId": "7ed7e49c-95d8-493a-e0ca-ac222b7ab1f3",
        "colab": {
          "base_uri": "https://localhost:8080/",
          "height": 297
        }
      },
      "source": [
        "medLegalOnly.describe()"
      ],
      "execution_count": 27,
      "outputs": [
        {
          "output_type": "execute_result",
          "data": {
            "text/html": [
              "<div>\n",
              "<style scoped>\n",
              "    .dataframe tbody tr th:only-of-type {\n",
              "        vertical-align: middle;\n",
              "    }\n",
              "\n",
              "    .dataframe tbody tr th {\n",
              "        vertical-align: top;\n",
              "    }\n",
              "\n",
              "    .dataframe thead th {\n",
              "        text-align: right;\n",
              "    }\n",
              "</style>\n",
              "<table border=\"1\" class=\"dataframe\">\n",
              "  <thead>\n",
              "    <tr style=\"text-align: right;\">\n",
              "      <th></th>\n",
              "      <th>High Quality</th>\n",
              "      <th>Medium Quality</th>\n",
              "      <th>Recreationally Legal</th>\n",
              "      <th>Medically Legal</th>\n",
              "      <th>Recreationally and Medically Legal</th>\n",
              "    </tr>\n",
              "  </thead>\n",
              "  <tbody>\n",
              "    <tr>\n",
              "      <th>count</th>\n",
              "      <td>23.000000</td>\n",
              "      <td>23.000000</td>\n",
              "      <td>23.0</td>\n",
              "      <td>23.0</td>\n",
              "      <td>23.0</td>\n",
              "    </tr>\n",
              "    <tr>\n",
              "      <th>mean</th>\n",
              "      <td>330.735217</td>\n",
              "      <td>266.061304</td>\n",
              "      <td>0.0</td>\n",
              "      <td>1.0</td>\n",
              "      <td>0.0</td>\n",
              "    </tr>\n",
              "    <tr>\n",
              "      <th>std</th>\n",
              "      <td>29.617174</td>\n",
              "      <td>26.441130</td>\n",
              "      <td>0.0</td>\n",
              "      <td>0.0</td>\n",
              "      <td>0.0</td>\n",
              "    </tr>\n",
              "    <tr>\n",
              "      <th>min</th>\n",
              "      <td>268.530000</td>\n",
              "      <td>227.550000</td>\n",
              "      <td>0.0</td>\n",
              "      <td>1.0</td>\n",
              "      <td>0.0</td>\n",
              "    </tr>\n",
              "    <tr>\n",
              "      <th>25%</th>\n",
              "      <td>310.780000</td>\n",
              "      <td>244.355000</td>\n",
              "      <td>0.0</td>\n",
              "      <td>1.0</td>\n",
              "      <td>0.0</td>\n",
              "    </tr>\n",
              "    <tr>\n",
              "      <th>50%</th>\n",
              "      <td>334.590000</td>\n",
              "      <td>265.790000</td>\n",
              "      <td>0.0</td>\n",
              "      <td>1.0</td>\n",
              "      <td>0.0</td>\n",
              "    </tr>\n",
              "    <tr>\n",
              "      <th>75%</th>\n",
              "      <td>353.700000</td>\n",
              "      <td>281.945000</td>\n",
              "      <td>0.0</td>\n",
              "      <td>1.0</td>\n",
              "      <td>0.0</td>\n",
              "    </tr>\n",
              "    <tr>\n",
              "      <th>max</th>\n",
              "      <td>383.600000</td>\n",
              "      <td>329.560000</td>\n",
              "      <td>0.0</td>\n",
              "      <td>1.0</td>\n",
              "      <td>0.0</td>\n",
              "    </tr>\n",
              "  </tbody>\n",
              "</table>\n",
              "</div>"
            ],
            "text/plain": [
              "       High Quality  ...  Recreationally and Medically Legal\n",
              "count     23.000000  ...                                23.0\n",
              "mean     330.735217  ...                                 0.0\n",
              "std       29.617174  ...                                 0.0\n",
              "min      268.530000  ...                                 0.0\n",
              "25%      310.780000  ...                                 0.0\n",
              "50%      334.590000  ...                                 0.0\n",
              "75%      353.700000  ...                                 0.0\n",
              "max      383.600000  ...                                 0.0\n",
              "\n",
              "[8 rows x 5 columns]"
            ]
          },
          "metadata": {
            "tags": []
          },
          "execution_count": 27
        }
      ]
    },
    {
      "cell_type": "code",
      "metadata": {
        "id": "txHa_8qXjb3F",
        "colab_type": "code",
        "colab": {}
      },
      "source": [
        "from scipy.stats import ttest_ind, ttest_ind_from_stats, ttest_rel"
      ],
      "execution_count": 0,
      "outputs": []
    },
    {
      "cell_type": "code",
      "metadata": {
        "id": "N8pxWzwOjwEH",
        "colab_type": "code",
        "colab": {}
      },
      "source": [
        "highMedLegalOnly = medLegalOnly['High Quality']\n",
        "highMedLegal = medLegal['High Quality']\n",
        "highMedIllegal = medIllegal['High Quality']\n",
        "highRecLegal = recLegal['High Quality']\n",
        "highRecIllegal = recIllegal['High Quality']"
      ],
      "execution_count": 0,
      "outputs": []
    },
    {
      "cell_type": "code",
      "metadata": {
        "id": "Fwh9jFZujeVA",
        "colab_type": "code",
        "colab": {}
      },
      "source": [
        "midMedLegalOnly = medLegalOnly['Medium Quality']\n",
        "midMedLegal = medLegal['Medium Quality']\n",
        "midMedIllegal = medIllegal['Medium Quality']\n",
        "midRecLegal = recLegal['Medium Quality']\n",
        "midRecIllegal = recIllegal['Medium Quality']"
      ],
      "execution_count": 0,
      "outputs": []
    },
    {
      "cell_type": "code",
      "metadata": {
        "id": "pxDH5bcRJ2TE",
        "colab_type": "code",
        "outputId": "baf03c7b-1584-4336-de4c-6831f723eab4",
        "colab": {
          "base_uri": "https://localhost:8080/",
          "height": 51
        }
      },
      "source": [
        "#major sig difference between high quality cannabis of rec legal and illegal states\n",
        "stat, pvalue = ttest_ind(highRecIllegal, highRecLegal)\n",
        "print(pvalue <=.05)\n",
        "print(stat, pvalue)"
      ],
      "execution_count": 31,
      "outputs": [
        {
          "output_type": "stream",
          "text": [
            "True\n",
            "5.1298936417779695 5.172246631200142e-06\n"
          ],
          "name": "stdout"
        }
      ]
    },
    {
      "cell_type": "code",
      "metadata": {
        "id": "xd0fFL1ss5EU",
        "colab_type": "code",
        "outputId": "e5733344-4fae-4c0f-da5a-6f341d082d57",
        "colab": {
          "base_uri": "https://localhost:8080/",
          "height": 51
        }
      },
      "source": [
        "#no statistical sig between illegal and legal mids\n",
        "stat, pvalue = ttest_ind(midRecIllegal, midRecLegal)\n",
        "print(pvalue <=.05)\n",
        "print(stat, pvalue)"
      ],
      "execution_count": 32,
      "outputs": [
        {
          "output_type": "stream",
          "text": [
            "False\n",
            "1.6218460969044644 0.1113874239505639\n"
          ],
          "name": "stdout"
        }
      ]
    },
    {
      "cell_type": "code",
      "metadata": {
        "id": "pa2ZTjiDJ7bv",
        "colab_type": "code",
        "colab": {}
      },
      "source": [
        ""
      ],
      "execution_count": 0,
      "outputs": []
    },
    {
      "cell_type": "code",
      "metadata": {
        "id": "YHm9usF8lJ6G",
        "colab_type": "code",
        "outputId": "9156a99e-e403-4f20-a7d1-de777447202f",
        "colab": {
          "base_uri": "https://localhost:8080/",
          "height": 51
        }
      },
      "source": [
        "#rec prices statistically lower for rec than med for high quality\n",
        "stat, pvalue = ttest_ind(highMedLegalOnly, highRecLegal)\n",
        "print(pvalue <=.05)\n",
        "print(stat, pvalue)"
      ],
      "execution_count": 33,
      "outputs": [
        {
          "output_type": "stream",
          "text": [
            "True\n",
            "4.090838467188429 0.00028360978386585535\n"
          ],
          "name": "stdout"
        }
      ]
    },
    {
      "cell_type": "code",
      "metadata": {
        "id": "jQCrzvsFDkQD",
        "colab_type": "code",
        "outputId": "845aeb95-b953-4938-fa8e-1680b0dab588",
        "colab": {
          "base_uri": "https://localhost:8080/",
          "height": 51
        }
      },
      "source": [
        "#medical and illegal states have statstical difference in price for high quality\n",
        "stat, pvalue = ttest_ind(highMedLegalOnly, highMedIllegal)\n",
        "print(pvalue <=.05)\n",
        "print(stat, pvalue)"
      ],
      "execution_count": 34,
      "outputs": [
        {
          "output_type": "stream",
          "text": [
            "False\n",
            "-0.5125711236028987 0.6112181023769516\n"
          ],
          "name": "stdout"
        }
      ]
    },
    {
      "cell_type": "code",
      "metadata": {
        "id": "TAghIJPcEXwB",
        "colab_type": "code",
        "outputId": "a8ac3825-34a1-4acc-c2b2-acd0cb42014e",
        "colab": {
          "base_uri": "https://localhost:8080/",
          "height": 51
        }
      },
      "source": [
        "#medical and recreational do not have a statistical difference in price at a 95 percent sig test for mids\n",
        "stat, pvalue = ttest_ind(midMedLegalOnly, midRecLegal)\n",
        "print(pvalue <=.05)\n",
        "print(stat, pvalue)"
      ],
      "execution_count": 35,
      "outputs": [
        {
          "output_type": "stream",
          "text": [
            "False\n",
            "1.9362616222870723 0.0619986627088453\n"
          ],
          "name": "stdout"
        }
      ]
    },
    {
      "cell_type": "code",
      "metadata": {
        "id": "8zpaX9nRFz8O",
        "colab_type": "code",
        "outputId": "af79be08-b7d4-48ab-9fe7-3b20dabe8a68",
        "colab": {
          "base_uri": "https://localhost:8080/",
          "height": 51
        }
      },
      "source": [
        "#they do with a 90 percent sig test tho\n",
        "stat, pvalue = ttest_ind(midMedLegalOnly, midRecLegal)\n",
        "print(pvalue <=.10)\n",
        "print(stat, pvalue)"
      ],
      "execution_count": 36,
      "outputs": [
        {
          "output_type": "stream",
          "text": [
            "True\n",
            "1.9362616222870723 0.0619986627088453\n"
          ],
          "name": "stdout"
        }
      ]
    },
    {
      "cell_type": "code",
      "metadata": {
        "id": "9Uiu-YDID7-w",
        "colab_type": "code",
        "outputId": "4eccebb0-b7c9-457c-8d47-0339039433cb",
        "colab": {
          "base_uri": "https://localhost:8080/",
          "height": 51
        }
      },
      "source": [
        "#medical and illegal have no statistical difference in price for mids\n",
        "stat, pvalue = ttest_ind(midMedLegalOnly, midMedIllegal)\n",
        "print(pvalue <=.05)\n",
        "print(stat, pvalue)"
      ],
      "execution_count": 37,
      "outputs": [
        {
          "output_type": "stream",
          "text": [
            "False\n",
            "0.6314151804457449 0.5315492219678151\n"
          ],
          "name": "stdout"
        }
      ]
    },
    {
      "cell_type": "code",
      "metadata": {
        "id": "vu06d4YZHRVc",
        "colab_type": "code",
        "outputId": "e1edeb36-8a55-4e79-9515-9c6770686547",
        "colab": {
          "base_uri": "https://localhost:8080/",
          "height": 51
        }
      },
      "source": [
        "#no statistical signficance between mids in rec legal and  fully illegal states\n",
        "stat, pvalue = ttest_ind(midRecLegal, midMedIllegal)\n",
        "print(pvalue <=.05)\n",
        "print(stat, pvalue)"
      ],
      "execution_count": 38,
      "outputs": [
        {
          "output_type": "stream",
          "text": [
            "False\n",
            "-0.964685559258137 0.343941896247297\n"
          ],
          "name": "stdout"
        }
      ]
    },
    {
      "cell_type": "code",
      "metadata": {
        "id": "N5dwIa_MmDnA",
        "colab_type": "code",
        "colab": {}
      },
      "source": [
        "import matplotlib.pyplot as plt\n",
        "import seaborn as sns"
      ],
      "execution_count": 0,
      "outputs": []
    },
    {
      "cell_type": "code",
      "metadata": {
        "id": "M91AM66tq6GK",
        "colab_type": "code",
        "colab": {}
      },
      "source": [
        "def status(df):\n",
        "  if df['Recreationally and Medically Legal'] == 1:\n",
        "    return 'Recreationally and Medically Legal'\n",
        "  elif df['Medically Legal Only'] == 1:\n",
        "    return 'Medically Legal Only'\n",
        "  else:\n",
        "    return \"Illegal\""
      ],
      "execution_count": 0,
      "outputs": []
    },
    {
      "cell_type": "code",
      "metadata": {
        "id": "ek5tpQ44qcAm",
        "colab_type": "code",
        "colab": {}
      },
      "source": [
        "df = df.assign(Status =df.apply(status, axis=1))"
      ],
      "execution_count": 0,
      "outputs": []
    },
    {
      "cell_type": "code",
      "metadata": {
        "id": "G-jp7VwCsJi3",
        "colab_type": "code",
        "outputId": "6c594a1d-422a-4a14-f896-ac81610ab802",
        "colab": {
          "base_uri": "https://localhost:8080/",
          "height": 204
        }
      },
      "source": [
        "df.head()"
      ],
      "execution_count": 42,
      "outputs": [
        {
          "output_type": "execute_result",
          "data": {
            "text/html": [
              "<div>\n",
              "<style scoped>\n",
              "    .dataframe tbody tr th:only-of-type {\n",
              "        vertical-align: middle;\n",
              "    }\n",
              "\n",
              "    .dataframe tbody tr th {\n",
              "        vertical-align: top;\n",
              "    }\n",
              "\n",
              "    .dataframe thead th {\n",
              "        text-align: right;\n",
              "    }\n",
              "</style>\n",
              "<table border=\"1\" class=\"dataframe\">\n",
              "  <thead>\n",
              "    <tr style=\"text-align: right;\">\n",
              "      <th></th>\n",
              "      <th>State</th>\n",
              "      <th>High Quality</th>\n",
              "      <th>Medium Quality</th>\n",
              "      <th>Recreationally Legal</th>\n",
              "      <th>Medically Legal</th>\n",
              "      <th>Recreationally and Medically Legal</th>\n",
              "      <th>Medically Legal Only</th>\n",
              "      <th>Status</th>\n",
              "    </tr>\n",
              "  </thead>\n",
              "  <tbody>\n",
              "    <tr>\n",
              "      <th>0</th>\n",
              "      <td>Alabama</td>\n",
              "      <td>342.72</td>\n",
              "      <td>229.20</td>\n",
              "      <td>0</td>\n",
              "      <td>0</td>\n",
              "      <td>0</td>\n",
              "      <td>0</td>\n",
              "      <td>Illegal</td>\n",
              "    </tr>\n",
              "    <tr>\n",
              "      <th>1</th>\n",
              "      <td>Alaska</td>\n",
              "      <td>298.14</td>\n",
              "      <td>305.15</td>\n",
              "      <td>1</td>\n",
              "      <td>1</td>\n",
              "      <td>1</td>\n",
              "      <td>0</td>\n",
              "      <td>Recreationally and Medically Legal</td>\n",
              "    </tr>\n",
              "    <tr>\n",
              "      <th>2</th>\n",
              "      <td>Arizona</td>\n",
              "      <td>296.69</td>\n",
              "      <td>232.85</td>\n",
              "      <td>0</td>\n",
              "      <td>1</td>\n",
              "      <td>0</td>\n",
              "      <td>1</td>\n",
              "      <td>Medically Legal Only</td>\n",
              "    </tr>\n",
              "    <tr>\n",
              "      <th>3</th>\n",
              "      <td>Arkansas</td>\n",
              "      <td>331.06</td>\n",
              "      <td>240.27</td>\n",
              "      <td>0</td>\n",
              "      <td>1</td>\n",
              "      <td>0</td>\n",
              "      <td>1</td>\n",
              "      <td>Medically Legal Only</td>\n",
              "    </tr>\n",
              "    <tr>\n",
              "      <th>4</th>\n",
              "      <td>California</td>\n",
              "      <td>256.61</td>\n",
              "      <td>206.82</td>\n",
              "      <td>1</td>\n",
              "      <td>1</td>\n",
              "      <td>1</td>\n",
              "      <td>0</td>\n",
              "      <td>Recreationally and Medically Legal</td>\n",
              "    </tr>\n",
              "  </tbody>\n",
              "</table>\n",
              "</div>"
            ],
            "text/plain": [
              "        State  ...                              Status\n",
              "0     Alabama  ...                             Illegal\n",
              "1      Alaska  ...  Recreationally and Medically Legal\n",
              "2     Arizona  ...                Medically Legal Only\n",
              "3    Arkansas  ...                Medically Legal Only\n",
              "4  California  ...  Recreationally and Medically Legal\n",
              "\n",
              "[5 rows x 8 columns]"
            ]
          },
          "metadata": {
            "tags": []
          },
          "execution_count": 42
        }
      ]
    },
    {
      "cell_type": "code",
      "metadata": {
        "id": "USdS7bLIsjAD",
        "colab_type": "code",
        "outputId": "95a4b2dc-ab1e-4e5d-83dc-2ea8b60dac25",
        "colab": {
          "base_uri": "https://localhost:8080/",
          "height": 369
        }
      },
      "source": [
        "sns.relplot(x='High Quality', y='Medium Quality', hue='Status',  data=df);"
      ],
      "execution_count": 43,
      "outputs": [
        {
          "output_type": "display_data",
          "data": {
            "image/png": "[encoded data removed]",
            "text/plain": [
              "<Figure size 570.25x360 with 1 Axes>"
            ]
          },
          "metadata": {
            "tags": []
          }
        }
      ]
    },
    {
      "cell_type": "code",
      "metadata": {
        "id": "FhhxP19Otq8n",
        "colab_type": "code",
        "outputId": "c08dbaed-796f-40f5-84e8-92e961aefaa6",
        "colab": {
          "base_uri": "https://localhost:8080/",
          "height": 369
        }
      },
      "source": [
        "g = sns.relplot(x = 'Medium Quality' , y='High Quality', col = 'Status',  hue = 'Status' , data=df);"
      ],
      "execution_count": 44,
      "outputs": [
        {
          "output_type": "display_data",
          "data": {
            "image/png": "[encoded data removed]",
            "text/plain": [
              "<Figure size 1290.25x360 with 3 Axes>"
            ]
          },
          "metadata": {
            "tags": []
          }
        }
      ]
    },
    {
      "cell_type": "code",
      "metadata": {
        "id": "gjzQDlmLwDti",
        "colab_type": "code",
        "colab": {
          "base_uri": "https://localhost:8080/",
          "height": 170
        },
        "outputId": "24a35323-4e4a-4a78-ebee-c07e2cf8e7cb"
      },
      "source": [
        "highMedLegalOnly.describe()"
      ],
      "execution_count": 45,
      "outputs": [
        {
          "output_type": "execute_result",
          "data": {
            "text/plain": [
              "count     23.000000\n",
              "mean     330.735217\n",
              "std       29.617174\n",
              "min      268.530000\n",
              "25%      310.780000\n",
              "50%      334.590000\n",
              "75%      353.700000\n",
              "max      383.600000\n",
              "Name: High Quality, dtype: float64"
            ]
          },
          "metadata": {
            "tags": []
          },
          "execution_count": 45
        }
      ]
    },
    {
      "cell_type": "code",
      "metadata": {
        "id": "pgoFGBB6wHYP",
        "colab_type": "code",
        "colab": {
          "base_uri": "https://localhost:8080/",
          "height": 170
        },
        "outputId": "cfd07a44-99a5-457e-afd8-52e0b82ad16b"
      },
      "source": [
        "highMedIllegal.describe()"
      ],
      "execution_count": 46,
      "outputs": [
        {
          "output_type": "execute_result",
          "data": {
            "text/plain": [
              "count     17.000000\n",
              "mean     335.091765\n",
              "std       21.701935\n",
              "min      274.090000\n",
              "25%      324.450000\n",
              "50%      341.880000\n",
              "75%      344.920000\n",
              "max      364.870000\n",
              "Name: High Quality, dtype: float64"
            ]
          },
          "metadata": {
            "tags": []
          },
          "execution_count": 46
        }
      ]
    },
    {
      "cell_type": "code",
      "metadata": {
        "id": "ja2Hez_KwPWX",
        "colab_type": "code",
        "colab": {
          "base_uri": "https://localhost:8080/",
          "height": 170
        },
        "outputId": "0b63243d-09ee-47e9-bf7d-a54ec41bc5a1"
      },
      "source": [
        "highRecLegal.describe()"
      ],
      "execution_count": 47,
      "outputs": [
        {
          "output_type": "execute_result",
          "data": {
            "text/plain": [
              "count     10.000000\n",
              "mean     277.372000\n",
              "std       44.054433\n",
              "min      210.650000\n",
              "25%      245.405000\n",
              "50%      279.095000\n",
              "75%      296.102500\n",
              "max      345.150000\n",
              "Name: High Quality, dtype: float64"
            ]
          },
          "metadata": {
            "tags": []
          },
          "execution_count": 47
        }
      ]
    },
    {
      "cell_type": "code",
      "metadata": {
        "id": "czpxEAUOwXSU",
        "colab_type": "code",
        "colab": {
          "base_uri": "https://localhost:8080/",
          "height": 170
        },
        "outputId": "6084ece3-af6a-41d5-8401-2e0b2b96d12f"
      },
      "source": [
        "# highMeans, highSTD = (335.09,330.74,277.37), ()\n",
        "midMedIllegal.describe()"
      ],
      "execution_count": 48,
      "outputs": [
        {
          "output_type": "execute_result",
          "data": {
            "text/plain": [
              "count     17.000000\n",
              "mean     259.004118\n",
              "std       44.031756\n",
              "min      170.700000\n",
              "25%      234.600000\n",
              "50%      248.500000\n",
              "75%      287.160000\n",
              "max      335.260000\n",
              "Name: Medium Quality, dtype: float64"
            ]
          },
          "metadata": {
            "tags": []
          },
          "execution_count": 48
        }
      ]
    },
    {
      "cell_type": "code",
      "metadata": {
        "id": "FNisWGR_xqdC",
        "colab_type": "code",
        "colab": {
          "base_uri": "https://localhost:8080/",
          "height": 170
        },
        "outputId": "8d0c510a-d86d-4c42-8140-3214ff075ff3"
      },
      "source": [
        "midMedLegalOnly.describe()"
      ],
      "execution_count": 49,
      "outputs": [
        {
          "output_type": "execute_result",
          "data": {
            "text/plain": [
              "count     23.000000\n",
              "mean     266.061304\n",
              "std       26.441130\n",
              "min      227.550000\n",
              "25%      244.355000\n",
              "50%      265.790000\n",
              "75%      281.945000\n",
              "max      329.560000\n",
              "Name: Medium Quality, dtype: float64"
            ]
          },
          "metadata": {
            "tags": []
          },
          "execution_count": 49
        }
      ]
    },
    {
      "cell_type": "code",
      "metadata": {
        "id": "QIjYtTabxu8f",
        "colab_type": "code",
        "colab": {
          "base_uri": "https://localhost:8080/",
          "height": 170
        },
        "outputId": "10546bee-da5b-4a7f-9104-7ae2b06d1e0a"
      },
      "source": [
        "midRecLegal.describe()"
      ],
      "execution_count": 50,
      "outputs": [
        {
          "output_type": "execute_result",
          "data": {
            "text/plain": [
              "count     10.000000\n",
              "mean     241.967000\n",
              "std       44.814733\n",
              "min      187.040000\n",
              "25%      201.817500\n",
              "50%      233.445000\n",
              "75%      280.552500\n",
              "max      305.150000\n",
              "Name: Medium Quality, dtype: float64"
            ]
          },
          "metadata": {
            "tags": []
          },
          "execution_count": 50
        }
      ]
    },
    {
      "cell_type": "code",
      "metadata": {
        "id": "IyRd12Vgw5qF",
        "colab_type": "code",
        "outputId": "750d27b7-a650-440b-9c06-48ef9876c7eb",
        "colab": {
          "base_uri": "https://localhost:8080/",
          "height": 297
        }
      },
      "source": [
        "import matplotlib\n",
        "import matplotlib.pyplot as plt\n",
        "import numpy as np\n",
        "\n",
        "\n",
        "high_means, high_std = (335.09, 330.74, 277.37), (21.7,29.6,44)\n",
        "mid_means, mid_std = (259.00, 266.06, 241.97), (44.03,26.44,44.81)\n",
        "\n",
        "ind = np.arange(len(high_means))  # the x locations for the groups\n",
        "width = 0.35  # the width of the bars\n",
        "\n",
        "fig, ax = plt.subplots()\n",
        "rects1 = ax.bar(ind - width/2, high_means, width, yerr=high_std,\n",
        "                label='High Quality')\n",
        "rects2 = ax.bar(ind + width/2, mid_means, width, yerr=mid_std,\n",
        "                label='Medium Quality')\n",
        "\n",
        "# Add some text for labels, title and custom x-axis tick labels, etc.\n",
        "ax.set_ylabel('Cannabis Price')\n",
        "ax.set_title(\"Cannabis Price by Legality\")\n",
        "ax.set_xticks(ind)\n",
        "ax.set_xticklabels(('Illegal', 'Med Legal Only', 'Rec And Med Legal'))\n",
        "ax.legend()\n",
        "\n",
        "\n",
        "def autolabel(rects, xpos='center'):\n",
        "    \"\"\"\n",
        "    Attach a text label above each bar in *rects*, displaying its height.\n",
        "\n",
        "    *xpos* indicates which side to place the text w.r.t. the center of\n",
        "    the bar. It can be one of the following {'center', 'right', 'left'}.\n",
        "    \"\"\"\n",
        "\n",
        "    ha = {'center': 'center', 'right': 'left', 'left': 'right'}\n",
        "    offset = {'center': 0, 'right': 1, 'left': -1}\n",
        "\n",
        "    for rect in rects:\n",
        "        height = rect.get_height()\n",
        "        ax.annotate('{}'.format(height),\n",
        "                    xy=(rect.get_x() + rect.get_width() / 2, height),\n",
        "                    xytext=(offset[xpos]*3, 3),  # use 3 points offset\n",
        "                    textcoords=\"offset points\",  # in both directions\n",
        "                    ha=ha[xpos], va='bottom')\n",
        "\n",
        "\n",
        "autolabel(rects1, \"left\")\n",
        "autolabel(rects2, \"right\")\n",
        "fig.subplots_adjust(bottom=0.5)\n",
        "fig.tight_layout()\n",
        "\n",
        "plt.show()"
      ],
      "execution_count": 55,
      "outputs": [
        {
          "output_type": "display_data",
          "data": {
            "image/png": "[encoded data removed]",
            "text/plain": [
              "<Figure size 432x288 with 1 Axes>"
            ]
          },
          "metadata": {
            "tags": []
          }
        }
      ]
    },
    {
      "cell_type": "code",
      "metadata": {
        "id": "t2tqPHM40TQj",
        "colab_type": "code",
        "colab": {}
      },
      "source": [
        "# import matplotlib.animation as animation"
      ],
      "execution_count": 0,
      "outputs": []
    },
    {
      "cell_type": "code",
      "metadata": {
        "id": "sRje1MFJ1iQU",
        "colab_type": "code",
        "outputId": "f8380a6e-b025-460f-f100-f3c1ab947269",
        "colab": {
          "base_uri": "https://localhost:8080/",
          "height": 297
        }
      },
      "source": [
        "import matplotlib\n",
        "import matplotlib.pyplot as plt\n",
        "import numpy as np\n",
        "\n",
        "\n",
        "high_means, high_std = (335.09, 330.74, 277.37), (21.7,29.6,44)\n",
        "mid_means, mid_std = (259.00, 266.06, 241.97), (44.03,26.44,44.81)\n",
        "\n",
        "ind = np.arange(len(high_means))  # the x locations for the groups\n",
        "width = 0.35  # the width of the bars\n",
        "\n",
        "fig, ax = plt.subplots()\n",
        "rects1 = ax.bar(ind - width/2, high_means, width, \n",
        "                label='High Quality')\n",
        "rects2 = ax.bar(ind + width/2, mid_means, width, \n",
        "                label='Medium Quality')\n",
        "\n",
        "# Add some text for labels, title and custom x-axis tick labels, etc.\n",
        "ax.set_ylim([0,375])\n",
        "ax.set_ylabel('Average Cannabis Price')\n",
        "ax.set_title(\"Cannabis Price by Legality\")\n",
        "ax.set_xticks(ind)\n",
        "ax.set_xticklabels(('Illegal', 'Med Legal Only', 'Rec And Med Legal'))\n",
        "ax.legend()\n",
        "\n",
        "\n",
        "def autolabel(rects, xpos='center'):\n",
        "    \"\"\"\n",
        "    Attach a text label above each bar in *rects*, displaying its height.\n",
        "\n",
        "    *xpos* indicates which side to place the text w.r.t. the center of\n",
        "    the bar. It can be one of the following {'center', 'right', 'left'}.\n",
        "    \"\"\"\n",
        "\n",
        "    ha = {'center': 'center', 'right': 'left', 'left': 'right'}\n",
        "    offset = {'center': 0, 'right': 1, 'left': -1}\n",
        "\n",
        "    for rect in rects:\n",
        "        height = rect.get_height()\n",
        "        ax.annotate('{}'.format(height),\n",
        "                    xy=(rect.get_x() + rect.get_width() / 2, height),\n",
        "                    xytext=(offset[xpos]*3, 3),  # use 3 points offset\n",
        "                    textcoords=\"offset points\",  # in both directions\n",
        "                    ha=ha[xpos], va='bottom')\n",
        "\n",
        "\n",
        "autolabel(rects1)\n",
        "autolabel(rects2)\n",
        "fig.subplots_adjust(bottom=0.5)\n",
        "fig.tight_layout()\n",
        "\n",
        "plt.show()"
      ],
      "execution_count": 54,
      "outputs": [
        {
          "output_type": "display_data",
          "data": {
            "image/png": "[encoded data removed]",
            "text/plain": [
              "<Figure size 432x288 with 1 Axes>"
            ]
          },
          "metadata": {
            "tags": []
          }
        }
      ]
    }
  ]
}