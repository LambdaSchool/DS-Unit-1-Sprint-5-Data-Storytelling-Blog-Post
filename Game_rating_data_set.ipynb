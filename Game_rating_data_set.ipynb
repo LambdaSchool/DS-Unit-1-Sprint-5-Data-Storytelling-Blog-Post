{
  "nbformat": 4,
  "nbformat_minor": 0,
  "metadata": {
    "colab": {
      "name": "Game rating data set",
      "version": "0.3.2",
      "provenance": [],
      "collapsed_sections": [],
      "include_colab_link": true
    },
    "kernelspec": {
      "name": "python3",
      "display_name": "Python 3"
    }
  },
  "cells": [
    {
      "cell_type": "markdown",
      "metadata": {
        "id": "view-in-github",
        "colab_type": "text"
      },
      "source": [
        "<a href=\"https://colab.research.google.com/github/ty3117/Tyler_Sheppard_DS-Unit-1-Sprint-5-Data-Storytelling-Blog-Post/blob/master/Game_rating_data_set.ipynb\" target=\"_parent\"><img src=\"https://colab.research.google.com/assets/colab-badge.svg\" alt=\"Open In Colab\"/></a>"
      ]
    },
    {
      "cell_type": "code",
      "metadata": {
        "id": "x0Rjpc0nrEtq",
        "colab_type": "code",
        "colab": {
          "base_uri": "https://localhost:8080/",
          "height": 518
        },
        "outputId": "0a458ede-e74a-4ae6-cc8f-aec40eae43be"
      },
      "source": [
        "import pandas as pd\n",
        "\n",
        "df = pd.read_csv('https://raw.githubusercontent.com/ty3117/Project-1-data-set/master/jvc.csv')\n",
        "df.head()"
      ],
      "execution_count": 24,
      "outputs": [
        {
          "output_type": "execute_result",
          "data": {
            "text/html": [
              "<div>\n",
              "<style scoped>\n",
              "    .dataframe tbody tr th:only-of-type {\n",
              "        vertical-align: middle;\n",
              "    }\n",
              "\n",
              "    .dataframe tbody tr th {\n",
              "        vertical-align: top;\n",
              "    }\n",
              "\n",
              "    .dataframe thead th {\n",
              "        text-align: right;\n",
              "    }\n",
              "</style>\n",
              "<table border=\"1\" class=\"dataframe\">\n",
              "  <thead>\n",
              "    <tr style=\"text-align: right;\">\n",
              "      <th></th>\n",
              "      <th>Unnamed: 0</th>\n",
              "      <th>game_fr</th>\n",
              "      <th>game_en</th>\n",
              "      <th>platform</th>\n",
              "      <th>website_rating</th>\n",
              "      <th>public_rating</th>\n",
              "      <th>publishor/developer</th>\n",
              "      <th>release</th>\n",
              "      <th>type</th>\n",
              "      <th>classification</th>\n",
              "      <th>url</th>\n",
              "      <th>description</th>\n",
              "    </tr>\n",
              "  </thead>\n",
              "  <tbody>\n",
              "    <tr>\n",
              "      <th>0</th>\n",
              "      <td>1</td>\n",
              "      <td>.hack//G.U. Last Recode</td>\n",
              "      <td>.hack//G.U. Last Recode</td>\n",
              "      <td>PS4</td>\n",
              "      <td>14/20</td>\n",
              "      <td>--/20</td>\n",
              "      <td>Bandai Namco Entertainment</td>\n",
              "      <td>03 Novembre 2017</td>\n",
              "      <td>RPG</td>\n",
              "      <td>+12 ans</td>\n",
              "      <td>http://www.jeuxvideo.com/jeux/ps4/jeu-674262/</td>\n",
              "      <td>Au contraire d’autres titres, None ,''.hack'' ...</td>\n",
              "    </tr>\n",
              "    <tr>\n",
              "      <th>1</th>\n",
              "      <td>2</td>\n",
              "      <td>.hack//G.U. Vol.1//Rebirth</td>\n",
              "      <td>.hack//G.U. Vol. 1//Rebirth</td>\n",
              "      <td>PS2</td>\n",
              "      <td>15/20</td>\n",
              "      <td>18.2/20</td>\n",
              "      <td>Bandai Namco CyberConnect2</td>\n",
              "      <td>Date de sortie inconnue</td>\n",
              "      <td>RPG</td>\n",
              "      <td>+7 ans</td>\n",
              "      <td>http://www.jeuxvideo.com/jeux/playstation-2-ps...</td>\n",
              "      <td>Avec plus de 20 œuvres de fiction sur de mult...</td>\n",
              "    </tr>\n",
              "    <tr>\n",
              "      <th>2</th>\n",
              "      <td>3</td>\n",
              "      <td>.hack//Infection Part 1</td>\n",
              "      <td>.hack//Infection: Part 1</td>\n",
              "      <td>PS2</td>\n",
              "      <td>15/20</td>\n",
              "      <td>15.1/20</td>\n",
              "      <td>CyberConnect2 Bandai</td>\n",
              "      <td>26 Mars 2004</td>\n",
              "      <td>RPG</td>\n",
              "      <td>+12 ans</td>\n",
              "      <td>http://www.jeuxvideo.com/jeux/playstation-2-ps...</td>\n",
              "      <td>S'appuyant sur la maxime « Mieux vaut tard qu...</td>\n",
              "    </tr>\n",
              "    <tr>\n",
              "      <th>3</th>\n",
              "      <td>4</td>\n",
              "      <td>.hack//Mutation Part 2</td>\n",
              "      <td>.hack//Mutation: Part 2</td>\n",
              "      <td>PS2</td>\n",
              "      <td>14/20</td>\n",
              "      <td>16.4/20</td>\n",
              "      <td>Bandai CyberConnect2</td>\n",
              "      <td>18 Juin 2004</td>\n",
              "      <td>RPG</td>\n",
              "      <td>+12 ans</td>\n",
              "      <td>http://www.jeuxvideo.com/jeux/playstation-2-ps...</td>\n",
              "      <td>Voici enfin le second volet de la quadrilogie...</td>\n",
              "    </tr>\n",
              "    <tr>\n",
              "      <th>4</th>\n",
              "      <td>5</td>\n",
              "      <td>.hack//Outbreak Part 3</td>\n",
              "      <td>.hack//Outbreak: Part 3</td>\n",
              "      <td>PS2</td>\n",
              "      <td>13/20</td>\n",
              "      <td>15.3/20</td>\n",
              "      <td>CyberConnect2 Atari</td>\n",
              "      <td>17 Septembre 2004</td>\n",
              "      <td>RPG</td>\n",
              "      <td>+12 ans</td>\n",
              "      <td>http://www.jeuxvideo.com/jeux/playstation-2-ps...</td>\n",
              "      <td>Comme la maxime «Jamais deux sans trois» ne c...</td>\n",
              "    </tr>\n",
              "  </tbody>\n",
              "</table>\n",
              "</div>"
            ],
            "text/plain": [
              "   Unnamed: 0  ...                                        description\n",
              "0           1  ...  Au contraire d’autres titres, None ,''.hack'' ...\n",
              "1           2  ...   Avec plus de 20 œuvres de fiction sur de mult...\n",
              "2           3  ...   S'appuyant sur la maxime « Mieux vaut tard qu...\n",
              "3           4  ...   Voici enfin le second volet de la quadrilogie...\n",
              "4           5  ...   Comme la maxime «Jamais deux sans trois» ne c...\n",
              "\n",
              "[5 rows x 12 columns]"
            ]
          },
          "metadata": {
            "tags": []
          },
          "execution_count": 24
        }
      ]
    },
    {
      "cell_type": "code",
      "metadata": {
        "id": "zADVVwIRrIVr",
        "colab_type": "code",
        "colab": {}
      },
      "source": [
        ""
      ],
      "execution_count": 0,
      "outputs": []
    }
  ]
}