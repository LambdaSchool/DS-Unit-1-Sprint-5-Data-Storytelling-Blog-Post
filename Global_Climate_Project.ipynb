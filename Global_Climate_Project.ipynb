{
  "nbformat": 4,
  "nbformat_minor": 0,
  "metadata": {
    "colab": {
      "name": "Global Climate Project",
      "version": "0.3.2",
      "provenance": [],
      "include_colab_link": true
    },
    "kernelspec": {
      "name": "python3",
      "display_name": "Python 3"
    }
  },
  "cells": [
    {
      "cell_type": "markdown",
      "metadata": {
        "id": "view-in-github",
        "colab_type": "text"
      },
      "source": [
        "<a href=\"https://colab.research.google.com/github/nickwinters1/DS-Unit-1-Sprint-5-Data-Storytelling-Blog-Post/blob/master/Global_Climate_Project.ipynb\" target=\"_parent\"><img src=\"https://colab.research.google.com/assets/colab-badge.svg\" alt=\"Open In Colab\"/></a>"
      ]
    },
    {
      "metadata": {
        "id": "FTYpTwdpkpmv",
        "colab_type": "code",
        "colab": {
          "base_uri": "https://localhost:8080/",
          "height": 310
        },
        "outputId": "cc493936-ec7a-4845-e7ce-72a1054a9668"
      },
      "cell_type": "code",
      "source": [
        "!pip install --upgrade seaborn"
      ],
      "execution_count": 1,
      "outputs": [
        {
          "output_type": "stream",
          "text": [
            "Requirement already up-to-date: seaborn in /usr/local/lib/python3.6/dist-packages (0.9.0)\n",
            "Requirement already satisfied, skipping upgrade: scipy>=0.14.0 in /usr/local/lib/python3.6/dist-packages (from seaborn) (1.2.1)\n",
            "Requirement already satisfied, skipping upgrade: numpy>=1.9.3 in /usr/local/lib/python3.6/dist-packages (from seaborn) (1.16.2)\n",
            "Requirement already satisfied, skipping upgrade: pandas>=0.15.2 in /usr/local/lib/python3.6/dist-packages (from seaborn) (0.23.4)\n",
            "Requirement already satisfied, skipping upgrade: matplotlib>=1.4.3 in /usr/local/lib/python3.6/dist-packages (from seaborn) (3.0.3)\n",
            "Requirement already satisfied, skipping upgrade: python-dateutil>=2.5.0 in /usr/local/lib/python3.6/dist-packages (from pandas>=0.15.2->seaborn) (2.5.3)\n",
            "Requirement already satisfied, skipping upgrade: pytz>=2011k in /usr/local/lib/python3.6/dist-packages (from pandas>=0.15.2->seaborn) (2018.9)\n",
            "Requirement already satisfied, skipping upgrade: cycler>=0.10 in /usr/local/lib/python3.6/dist-packages (from matplotlib>=1.4.3->seaborn) (0.10.0)\n",
            "Requirement already satisfied, skipping upgrade: pyparsing!=2.0.4,!=2.1.2,!=2.1.6,>=2.0.1 in /usr/local/lib/python3.6/dist-packages (from matplotlib>=1.4.3->seaborn) (2.4.0)\n",
            "Requirement already satisfied, skipping upgrade: kiwisolver>=1.0.1 in /usr/local/lib/python3.6/dist-packages (from matplotlib>=1.4.3->seaborn) (1.0.1)\n",
            "Requirement already satisfied, skipping upgrade: six>=1.5 in /usr/local/lib/python3.6/dist-packages (from python-dateutil>=2.5.0->pandas>=0.15.2->seaborn) (1.11.0)\n",
            "Requirement already satisfied, skipping upgrade: setuptools in /usr/local/lib/python3.6/dist-packages (from kiwisolver>=1.0.1->matplotlib>=1.4.3->seaborn) (40.9.0)\n"
          ],
          "name": "stdout"
        }
      ]
    },
    {
      "metadata": {
        "id": "eQ9EHDveEBfw",
        "colab_type": "code",
        "outputId": "26458903-36e9-4b80-ffa8-b46e12317cf5",
        "colab": {
          "base_uri": "https://localhost:8080/",
          "height": 34
        }
      },
      "cell_type": "code",
      "source": [
        "import pandas as pd\n",
        "import matplotlib.pyplot as plt\n",
        "import numpy as np\n",
        "import seaborn as sns\n",
        "sns.__version__"
      ],
      "execution_count": 2,
      "outputs": [
        {
          "output_type": "execute_result",
          "data": {
            "text/plain": [
              "'0.9.0'"
            ]
          },
          "metadata": {
            "tags": []
          },
          "execution_count": 2
        }
      ]
    },
    {
      "metadata": {
        "id": "Pi1m7VKXOmag",
        "colab_type": "code",
        "colab": {
          "base_uri": "https://localhost:8080/",
          "height": 390
        },
        "outputId": "36a37faf-b09c-49ec-c212-2584148a2f04"
      },
      "cell_type": "code",
      "source": [
        "global_mean_temperature = pd.DataFrame(\n",
        "    {\n",
        "        \"Year\": [2006,2007,2008,2009,2010,2011,2012,2013,2014,2015,2016],\n",
        "        \"Temperature_Mean\": [.62,.64,.52,.63,.70,.59,.62,.65,.73,.87,.99]\n",
        "    }\n",
        ")\n",
        "global_mean_temperature\n",
        "#Now we have a dataframe with the year and the global temperature mean"
      ],
      "execution_count": 71,
      "outputs": [
        {
          "output_type": "execute_result",
          "data": {
            "text/html": [
              "<div>\n",
              "<style scoped>\n",
              "    .dataframe tbody tr th:only-of-type {\n",
              "        vertical-align: middle;\n",
              "    }\n",
              "\n",
              "    .dataframe tbody tr th {\n",
              "        vertical-align: top;\n",
              "    }\n",
              "\n",
              "    .dataframe thead th {\n",
              "        text-align: right;\n",
              "    }\n",
              "</style>\n",
              "<table border=\"1\" class=\"dataframe\">\n",
              "  <thead>\n",
              "    <tr style=\"text-align: right;\">\n",
              "      <th></th>\n",
              "      <th>Year</th>\n",
              "      <th>Temperature_Mean</th>\n",
              "    </tr>\n",
              "  </thead>\n",
              "  <tbody>\n",
              "    <tr>\n",
              "      <th>0</th>\n",
              "      <td>2006</td>\n",
              "      <td>0.62</td>\n",
              "    </tr>\n",
              "    <tr>\n",
              "      <th>1</th>\n",
              "      <td>2007</td>\n",
              "      <td>0.64</td>\n",
              "    </tr>\n",
              "    <tr>\n",
              "      <th>2</th>\n",
              "      <td>2008</td>\n",
              "      <td>0.52</td>\n",
              "    </tr>\n",
              "    <tr>\n",
              "      <th>3</th>\n",
              "      <td>2009</td>\n",
              "      <td>0.63</td>\n",
              "    </tr>\n",
              "    <tr>\n",
              "      <th>4</th>\n",
              "      <td>2010</td>\n",
              "      <td>0.70</td>\n",
              "    </tr>\n",
              "    <tr>\n",
              "      <th>5</th>\n",
              "      <td>2011</td>\n",
              "      <td>0.59</td>\n",
              "    </tr>\n",
              "    <tr>\n",
              "      <th>6</th>\n",
              "      <td>2012</td>\n",
              "      <td>0.62</td>\n",
              "    </tr>\n",
              "    <tr>\n",
              "      <th>7</th>\n",
              "      <td>2013</td>\n",
              "      <td>0.65</td>\n",
              "    </tr>\n",
              "    <tr>\n",
              "      <th>8</th>\n",
              "      <td>2014</td>\n",
              "      <td>0.73</td>\n",
              "    </tr>\n",
              "    <tr>\n",
              "      <th>9</th>\n",
              "      <td>2015</td>\n",
              "      <td>0.87</td>\n",
              "    </tr>\n",
              "    <tr>\n",
              "      <th>10</th>\n",
              "      <td>2016</td>\n",
              "      <td>0.99</td>\n",
              "    </tr>\n",
              "  </tbody>\n",
              "</table>\n",
              "</div>"
            ],
            "text/plain": [
              "    Year  Temperature_Mean\n",
              "0   2006              0.62\n",
              "1   2007              0.64\n",
              "2   2008              0.52\n",
              "3   2009              0.63\n",
              "4   2010              0.70\n",
              "5   2011              0.59\n",
              "6   2012              0.62\n",
              "7   2013              0.65\n",
              "8   2014              0.73\n",
              "9   2015              0.87\n",
              "10  2016              0.99"
            ]
          },
          "metadata": {
            "tags": []
          },
          "execution_count": 71
        }
      ]
    },
    {
      "metadata": {
        "id": "VSpUGd_opUIr",
        "colab_type": "text"
      },
      "cell_type": "markdown",
      "source": [
        "Here is the link to the Temperature page: https://data.giss.nasa.gov/gistemp/\n",
        "\n",
        "Here is a link to the Temperature mean data I used: https://data.giss.nasa.gov/gistemp/tabledata_v3/GLB.Ts+dSST.csv"
      ]
    },
    {
      "metadata": {
        "id": "6zGMLXtFe1Hn",
        "colab_type": "code",
        "colab": {
          "base_uri": "https://localhost:8080/",
          "height": 386
        },
        "outputId": "f5bcb229-737c-4841-e726-a07f82850e2f"
      },
      "cell_type": "code",
      "source": [
        "sns.relplot('Year','Temperature_Mean', data=global_mean_temperature, alpha=1.0)\n",
        "#let's plot the data to show the yearly temperature mean from 2008 to 2018"
      ],
      "execution_count": 72,
      "outputs": [
        {
          "output_type": "execute_result",
          "data": {
            "text/plain": [
              "<seaborn.axisgrid.FacetGrid at 0x7fe62fb251d0>"
            ]
          },
          "metadata": {
            "tags": []
          },
          "execution_count": 72
        },
        {
          "output_type": "display_data",
          "data": {
            "image/png": "[encoded data removed]",
            "text/plain": [
              "<Figure size 360x360 with 1 Axes>"
            ]
          },
          "metadata": {
            "tags": []
          }
        }
      ]
    },
    {
      "metadata": {
        "id": "XoBN7lot4ng9",
        "colab_type": "code",
        "colab": {
          "base_uri": "https://localhost:8080/",
          "height": 283
        },
        "outputId": "49efade5-4794-46b8-9f1f-b33cfeacb193"
      },
      "cell_type": "code",
      "source": [
        "lines = global_mean_temperature.plot.line(x='Year', y='Temperature_Mean')"
      ],
      "execution_count": 82,
      "outputs": [
        {
          "output_type": "display_data",
          "data": {
            "image/png": "[encoded data removed]",
            "text/plain": [
              "<Figure size 432x288 with 1 Axes>"
            ]
          },
          "metadata": {
            "tags": []
          }
        }
      ]
    },
    {
      "metadata": {
        "id": "CAVXqF6_VkmO",
        "colab_type": "text"
      },
      "cell_type": "markdown",
      "source": [
        "As you can see the global mean temperature has been steadily increasing, but in 2017 in began to decrease!"
      ]
    },
    {
      "metadata": {
        "id": "CYVcvxVgZbU1",
        "colab_type": "code",
        "colab": {
          "base_uri": "https://localhost:8080/",
          "height": 390
        },
        "outputId": "5c0dfc59-7803-4f41-83ac-d3460ceba916"
      },
      "cell_type": "code",
      "source": [
        "global_mean_carbon = pd.DataFrame(\n",
        "    {\n",
        "        \"Year\": [2006,2007,2008,2009,2010,2011,2012,2013,2014,2015,2016],\n",
        "        \"Carbon_Mean\": [380.94,382.68,384.78,386.29,388.57,390.45,392.46,395.19,397.12,399.41,402.86]\n",
        "    }\n",
        ")\n",
        "global_mean_carbon\n",
        "#We are going to make a new dataframe with year and the yearly carbon mean"
      ],
      "execution_count": 74,
      "outputs": [
        {
          "output_type": "execute_result",
          "data": {
            "text/html": [
              "<div>\n",
              "<style scoped>\n",
              "    .dataframe tbody tr th:only-of-type {\n",
              "        vertical-align: middle;\n",
              "    }\n",
              "\n",
              "    .dataframe tbody tr th {\n",
              "        vertical-align: top;\n",
              "    }\n",
              "\n",
              "    .dataframe thead th {\n",
              "        text-align: right;\n",
              "    }\n",
              "</style>\n",
              "<table border=\"1\" class=\"dataframe\">\n",
              "  <thead>\n",
              "    <tr style=\"text-align: right;\">\n",
              "      <th></th>\n",
              "      <th>Year</th>\n",
              "      <th>Carbon_Mean</th>\n",
              "    </tr>\n",
              "  </thead>\n",
              "  <tbody>\n",
              "    <tr>\n",
              "      <th>0</th>\n",
              "      <td>2006</td>\n",
              "      <td>380.94</td>\n",
              "    </tr>\n",
              "    <tr>\n",
              "      <th>1</th>\n",
              "      <td>2007</td>\n",
              "      <td>382.68</td>\n",
              "    </tr>\n",
              "    <tr>\n",
              "      <th>2</th>\n",
              "      <td>2008</td>\n",
              "      <td>384.78</td>\n",
              "    </tr>\n",
              "    <tr>\n",
              "      <th>3</th>\n",
              "      <td>2009</td>\n",
              "      <td>386.29</td>\n",
              "    </tr>\n",
              "    <tr>\n",
              "      <th>4</th>\n",
              "      <td>2010</td>\n",
              "      <td>388.57</td>\n",
              "    </tr>\n",
              "    <tr>\n",
              "      <th>5</th>\n",
              "      <td>2011</td>\n",
              "      <td>390.45</td>\n",
              "    </tr>\n",
              "    <tr>\n",
              "      <th>6</th>\n",
              "      <td>2012</td>\n",
              "      <td>392.46</td>\n",
              "    </tr>\n",
              "    <tr>\n",
              "      <th>7</th>\n",
              "      <td>2013</td>\n",
              "      <td>395.19</td>\n",
              "    </tr>\n",
              "    <tr>\n",
              "      <th>8</th>\n",
              "      <td>2014</td>\n",
              "      <td>397.12</td>\n",
              "    </tr>\n",
              "    <tr>\n",
              "      <th>9</th>\n",
              "      <td>2015</td>\n",
              "      <td>399.41</td>\n",
              "    </tr>\n",
              "    <tr>\n",
              "      <th>10</th>\n",
              "      <td>2016</td>\n",
              "      <td>402.86</td>\n",
              "    </tr>\n",
              "  </tbody>\n",
              "</table>\n",
              "</div>"
            ],
            "text/plain": [
              "    Year  Carbon_Mean\n",
              "0   2006       380.94\n",
              "1   2007       382.68\n",
              "2   2008       384.78\n",
              "3   2009       386.29\n",
              "4   2010       388.57\n",
              "5   2011       390.45\n",
              "6   2012       392.46\n",
              "7   2013       395.19\n",
              "8   2014       397.12\n",
              "9   2015       399.41\n",
              "10  2016       402.86"
            ]
          },
          "metadata": {
            "tags": []
          },
          "execution_count": 74
        }
      ]
    },
    {
      "metadata": {
        "id": "qBYiPsxgk-gB",
        "colab_type": "text"
      },
      "cell_type": "markdown",
      "source": [
        "Here is the link to the Carbon page: https://www.esrl.noaa.gov/gmd/ccgg/trends/gl_data.html\n",
        "\n",
        "Here is a link to the carbon mean data I used: ftp://aftp.cmdl.noaa.gov/products/trends/co2/co2_annmean_gl.txt"
      ]
    },
    {
      "metadata": {
        "id": "IVds69Z5eYUd",
        "colab_type": "code",
        "colab": {
          "base_uri": "https://localhost:8080/",
          "height": 386
        },
        "outputId": "67d4700c-fce2-4d17-84c5-6626c0db77fd"
      },
      "cell_type": "code",
      "source": [
        "sns.relplot('Year','Carbon_Mean', data=global_mean_carbon, alpha=1.0)\n",
        "#We are going to plot the dataframe to show the yearly carbon mean"
      ],
      "execution_count": 75,
      "outputs": [
        {
          "output_type": "execute_result",
          "data": {
            "text/plain": [
              "<seaborn.axisgrid.FacetGrid at 0x7fe630140ef0>"
            ]
          },
          "metadata": {
            "tags": []
          },
          "execution_count": 75
        },
        {
          "output_type": "display_data",
          "data": {
            "image/png": "[encoded data removed]",
            "text/plain": [
              "<Figure size 360x360 with 1 Axes>"
            ]
          },
          "metadata": {
            "tags": []
          }
        }
      ]
    },
    {
      "metadata": {
        "id": "Uy3kUarA42Gb",
        "colab_type": "code",
        "colab": {
          "base_uri": "https://localhost:8080/",
          "height": 283
        },
        "outputId": "5897f7f6-4bd4-4007-d2ae-add236ff00a9"
      },
      "cell_type": "code",
      "source": [
        "lines = global_mean_carbon.plot.line(x='Year', y='Carbon_Mean')"
      ],
      "execution_count": 76,
      "outputs": [
        {
          "output_type": "display_data",
          "data": {
            "image/png": "[encoded data removed]",
            "text/plain": [
              "<Figure size 432x288 with 1 Axes>"
            ]
          },
          "metadata": {
            "tags": []
          }
        }
      ]
    },
    {
      "metadata": {
        "id": "40u0LoftlWKS",
        "colab_type": "text"
      },
      "cell_type": "markdown",
      "source": [
        "As you can see there is a steady increase in the global carbon mean each year"
      ]
    },
    {
      "metadata": {
        "id": "5vMSMu9qggYG",
        "colab_type": "code",
        "colab": {
          "base_uri": "https://localhost:8080/",
          "height": 390
        },
        "outputId": "48cbd1d9-ea52-4961-cb6f-9d393fa3cbe0"
      },
      "cell_type": "code",
      "source": [
        "global_mean_carbon_and_temperature = pd.DataFrame(\n",
        "    {\n",
        "        \"Year\": [2006,2007,2008,2009,2010,2011,2012,2013,2014,2015,2016],\n",
        "        \"Carbon_Mean\": [380.94,382.68,384.78,386.29,388.57,390.45,392.46,395.19,397.12,399.41,402.86],\n",
        "        \"Temperature_Mean\": [.62,.64,.52,.63,.70,.59,.62,.65,.73,.87,.99]\n",
        "    }\n",
        ")\n",
        "global_mean_carbon_and_temperature\n",
        "#Let's make a dataframe that has the year, the global carbon annual mean, and the global temperature annual mean"
      ],
      "execution_count": 77,
      "outputs": [
        {
          "output_type": "execute_result",
          "data": {
            "text/html": [
              "<div>\n",
              "<style scoped>\n",
              "    .dataframe tbody tr th:only-of-type {\n",
              "        vertical-align: middle;\n",
              "    }\n",
              "\n",
              "    .dataframe tbody tr th {\n",
              "        vertical-align: top;\n",
              "    }\n",
              "\n",
              "    .dataframe thead th {\n",
              "        text-align: right;\n",
              "    }\n",
              "</style>\n",
              "<table border=\"1\" class=\"dataframe\">\n",
              "  <thead>\n",
              "    <tr style=\"text-align: right;\">\n",
              "      <th></th>\n",
              "      <th>Year</th>\n",
              "      <th>Carbon_Mean</th>\n",
              "      <th>Temperature_Mean</th>\n",
              "    </tr>\n",
              "  </thead>\n",
              "  <tbody>\n",
              "    <tr>\n",
              "      <th>0</th>\n",
              "      <td>2006</td>\n",
              "      <td>380.94</td>\n",
              "      <td>0.62</td>\n",
              "    </tr>\n",
              "    <tr>\n",
              "      <th>1</th>\n",
              "      <td>2007</td>\n",
              "      <td>382.68</td>\n",
              "      <td>0.64</td>\n",
              "    </tr>\n",
              "    <tr>\n",
              "      <th>2</th>\n",
              "      <td>2008</td>\n",
              "      <td>384.78</td>\n",
              "      <td>0.52</td>\n",
              "    </tr>\n",
              "    <tr>\n",
              "      <th>3</th>\n",
              "      <td>2009</td>\n",
              "      <td>386.29</td>\n",
              "      <td>0.63</td>\n",
              "    </tr>\n",
              "    <tr>\n",
              "      <th>4</th>\n",
              "      <td>2010</td>\n",
              "      <td>388.57</td>\n",
              "      <td>0.70</td>\n",
              "    </tr>\n",
              "    <tr>\n",
              "      <th>5</th>\n",
              "      <td>2011</td>\n",
              "      <td>390.45</td>\n",
              "      <td>0.59</td>\n",
              "    </tr>\n",
              "    <tr>\n",
              "      <th>6</th>\n",
              "      <td>2012</td>\n",
              "      <td>392.46</td>\n",
              "      <td>0.62</td>\n",
              "    </tr>\n",
              "    <tr>\n",
              "      <th>7</th>\n",
              "      <td>2013</td>\n",
              "      <td>395.19</td>\n",
              "      <td>0.65</td>\n",
              "    </tr>\n",
              "    <tr>\n",
              "      <th>8</th>\n",
              "      <td>2014</td>\n",
              "      <td>397.12</td>\n",
              "      <td>0.73</td>\n",
              "    </tr>\n",
              "    <tr>\n",
              "      <th>9</th>\n",
              "      <td>2015</td>\n",
              "      <td>399.41</td>\n",
              "      <td>0.87</td>\n",
              "    </tr>\n",
              "    <tr>\n",
              "      <th>10</th>\n",
              "      <td>2016</td>\n",
              "      <td>402.86</td>\n",
              "      <td>0.99</td>\n",
              "    </tr>\n",
              "  </tbody>\n",
              "</table>\n",
              "</div>"
            ],
            "text/plain": [
              "    Year  Carbon_Mean  Temperature_Mean\n",
              "0   2006       380.94              0.62\n",
              "1   2007       382.68              0.64\n",
              "2   2008       384.78              0.52\n",
              "3   2009       386.29              0.63\n",
              "4   2010       388.57              0.70\n",
              "5   2011       390.45              0.59\n",
              "6   2012       392.46              0.62\n",
              "7   2013       395.19              0.65\n",
              "8   2014       397.12              0.73\n",
              "9   2015       399.41              0.87\n",
              "10  2016       402.86              0.99"
            ]
          },
          "metadata": {
            "tags": []
          },
          "execution_count": 77
        }
      ]
    },
    {
      "metadata": {
        "id": "7RNwqkMwjA_g",
        "colab_type": "code",
        "colab": {
          "base_uri": "https://localhost:8080/",
          "height": 386
        },
        "outputId": "60c41feb-c7a6-4f0a-b958-8e60b9573d15"
      },
      "cell_type": "code",
      "source": [
        "sns.relplot('Carbon_Mean','Temperature_Mean', data=global_mean_carbon_and_temperature, alpha=1.0)\n",
        "#We are now comparing the carbon mean (X Axis), to the temperature mean (Y Axis)"
      ],
      "execution_count": 78,
      "outputs": [
        {
          "output_type": "execute_result",
          "data": {
            "text/plain": [
              "<seaborn.axisgrid.FacetGrid at 0x7fe62f83a128>"
            ]
          },
          "metadata": {
            "tags": []
          },
          "execution_count": 78
        },
        {
          "output_type": "display_data",
          "data": {
            "image/png": "[encoded data removed]",
            "text/plain": [
              "<Figure size 360x360 with 1 Axes>"
            ]
          },
          "metadata": {
            "tags": []
          }
        }
      ]
    },
    {
      "metadata": {
        "id": "TrBAdP9Nl78V",
        "colab_type": "text"
      },
      "cell_type": "markdown",
      "source": [
        "As you can see there is a increase in temperature mean as the carbon mean increases"
      ]
    },
    {
      "metadata": {
        "id": "dyz82t7tjJMH",
        "colab_type": "code",
        "colab": {
          "base_uri": "https://localhost:8080/",
          "height": 284
        },
        "outputId": "dadbd213-4228-4e56-9620-e15cb6c9cbf2"
      },
      "cell_type": "code",
      "source": [
        "lines = global_mean_carbon_and_temperature.plot.line(x='Carbon_Mean', y='Temperature_Mean')"
      ],
      "execution_count": 79,
      "outputs": [
        {
          "output_type": "display_data",
          "data": {
            "image/png": "[encoded data removed]",
            "text/plain": [
              "<Figure size 432x288 with 1 Axes>"
            ]
          },
          "metadata": {
            "tags": []
          }
        }
      ]
    },
    {
      "metadata": {
        "id": "PKIBO6vUL3HH",
        "colab_type": "code",
        "colab": {
          "base_uri": "https://localhost:8080/",
          "height": 287
        },
        "outputId": "d424f417-c844-4f45-b4b8-03a48b655aec"
      },
      "cell_type": "code",
      "source": [
        "import numpy as np \n",
        "from pandas import DataFrame\n",
        "import seaborn as sns\n",
        "%matplotlib inline\n",
        "\n",
        "Index= ['2008', '2009', '2010', '2011', '2012', '2013', '2014', '2015', '2016', '2017', '2018']\n",
        "Cols = ['Carbon_Mean', 'Temperature_Mean']\n",
        "global_mean_carbon_and_temperature = DataFrame(abs(np.random.randn(11, 2)), index=Index, columns=Cols)\n",
        "\n",
        "sns.heatmap(global_mean_carbon_and_temperature, annot=True)\n"
      ],
      "execution_count": 80,
      "outputs": [
        {
          "output_type": "execute_result",
          "data": {
            "text/plain": [
              "<matplotlib.axes._subplots.AxesSubplot at 0x7fe62f6d0550>"
            ]
          },
          "metadata": {
            "tags": []
          },
          "execution_count": 80
        },
        {
          "output_type": "display_data",
          "data": {
            "image/png": "[encoded data removed]",
            "text/plain": [
              "<Figure size 432x288 with 2 Axes>"
            ]
          },
          "metadata": {
            "tags": []
          }
        }
      ]
    },
    {
      "metadata": {
        "id": "NQ8F0riNOOZX",
        "colab_type": "code",
        "colab": {
          "base_uri": "https://localhost:8080/",
          "height": 270
        },
        "outputId": "b7c8a252-a992-4989-9ce9-1e37813668cf"
      },
      "cell_type": "code",
      "source": [
        "ax = sns.heatmap(global_mean_carbon_and_temperature, linewidths=.5)"
      ],
      "execution_count": 81,
      "outputs": [
        {
          "output_type": "display_data",
          "data": {
            "image/png": "[encoded data removed]",
            "text/plain": [
              "<Figure size 432x288 with 2 Axes>"
            ]
          },
          "metadata": {
            "tags": []
          }
        }
      ]
    }
  ]
}