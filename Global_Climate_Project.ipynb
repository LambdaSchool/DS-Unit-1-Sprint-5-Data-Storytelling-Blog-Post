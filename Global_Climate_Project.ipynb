{
  "nbformat": 4,
  "nbformat_minor": 0,
  "metadata": {
    "colab": {
      "name": "Global Climate Project",
      "version": "0.3.2",
      "provenance": [],
      "include_colab_link": true
    },
    "kernelspec": {
      "name": "python3",
      "display_name": "Python 3"
    }
  },
  "cells": [
    {
      "cell_type": "markdown",
      "metadata": {
        "id": "view-in-github",
        "colab_type": "text"
      },
      "source": [
        "<a href=\"https://colab.research.google.com/github/nickwinters1/DS-Unit-1-Sprint-5-Data-Storytelling-Blog-Post/blob/master/Global_Climate_Project.ipynb\" target=\"_parent\"><img src=\"https://colab.research.google.com/assets/colab-badge.svg\" alt=\"Open In Colab\"/></a>"
      ]
    },
    {
      "metadata": {
        "id": "FTYpTwdpkpmv",
        "colab_type": "code",
        "colab": {
          "base_uri": "https://localhost:8080/",
          "height": 389
        },
        "outputId": "24fdc82b-02c1-49c2-dbd7-63f4012cdd95"
      },
      "cell_type": "code",
      "source": [
        "!pip install --upgrade seaborn"
      ],
      "execution_count": 2,
      "outputs": [
        {
          "output_type": "stream",
          "text": [
            "Collecting seaborn\n",
            "\u001b[?25l  Downloading https://files.pythonhosted.org/packages/a8/76/220ba4420459d9c4c9c9587c6ce607bf56c25b3d3d2de62056efe482dadc/seaborn-0.9.0-py3-none-any.whl (208kB)\n",
            "\r\u001b[K    4% |█▋                              | 10kB 12.5MB/s eta 0:00:01\r\u001b[K    9% |███▏                            | 20kB 3.6MB/s eta 0:00:01\r\u001b[K    14% |████▊                           | 30kB 5.1MB/s eta 0:00:01\r\u001b[K    19% |██████▎                         | 40kB 3.1MB/s eta 0:00:01\r\u001b[K    24% |███████▉                        | 51kB 3.8MB/s eta 0:00:01\r\u001b[K    29% |█████████▌                      | 61kB 4.5MB/s eta 0:00:01\r\u001b[K    34% |███████████                     | 71kB 5.2MB/s eta 0:00:01\r\u001b[K    39% |████████████▋                   | 81kB 5.8MB/s eta 0:00:01\r\u001b[K    44% |██████████████▏                 | 92kB 6.5MB/s eta 0:00:01\r\u001b[K    49% |███████████████▊                | 102kB 5.1MB/s eta 0:00:01\r\u001b[K    54% |█████████████████▎              | 112kB 5.2MB/s eta 0:00:01\r\u001b[K    59% |███████████████████             | 122kB 6.7MB/s eta 0:00:01\r\u001b[K    63% |████████████████████▌           | 133kB 6.7MB/s eta 0:00:01\r\u001b[K    68% |██████████████████████          | 143kB 12.2MB/s eta 0:00:01\r\u001b[K    73% |███████████████████████▋        | 153kB 12.5MB/s eta 0:00:01\r\u001b[K    78% |█████████████████████████▏      | 163kB 12.5MB/s eta 0:00:01\r\u001b[K    83% |██████████████████████████▊     | 174kB 12.1MB/s eta 0:00:01\r\u001b[K    88% |████████████████████████████▍   | 184kB 12.3MB/s eta 0:00:01\r\u001b[K    93% |██████████████████████████████  | 194kB 12.3MB/s eta 0:00:01\r\u001b[K    98% |███████████████████████████████▌| 204kB 13.9MB/s eta 0:00:01\r\u001b[K    100% |████████████████████████████████| 215kB 11.5MB/s \n",
            "\u001b[?25hRequirement already satisfied, skipping upgrade: matplotlib>=1.4.3 in /usr/local/lib/python3.6/dist-packages (from seaborn) (3.0.3)\n",
            "Requirement already satisfied, skipping upgrade: pandas>=0.15.2 in /usr/local/lib/python3.6/dist-packages (from seaborn) (0.23.4)\n",
            "Requirement already satisfied, skipping upgrade: scipy>=0.14.0 in /usr/local/lib/python3.6/dist-packages (from seaborn) (1.2.1)\n",
            "Requirement already satisfied, skipping upgrade: numpy>=1.9.3 in /usr/local/lib/python3.6/dist-packages (from seaborn) (1.16.2)\n",
            "Requirement already satisfied, skipping upgrade: pyparsing!=2.0.4,!=2.1.2,!=2.1.6,>=2.0.1 in /usr/local/lib/python3.6/dist-packages (from matplotlib>=1.4.3->seaborn) (2.4.0)\n",
            "Requirement already satisfied, skipping upgrade: kiwisolver>=1.0.1 in /usr/local/lib/python3.6/dist-packages (from matplotlib>=1.4.3->seaborn) (1.0.1)\n",
            "Requirement already satisfied, skipping upgrade: cycler>=0.10 in /usr/local/lib/python3.6/dist-packages (from matplotlib>=1.4.3->seaborn) (0.10.0)\n",
            "Requirement already satisfied, skipping upgrade: python-dateutil>=2.1 in /usr/local/lib/python3.6/dist-packages (from matplotlib>=1.4.3->seaborn) (2.5.3)\n",
            "Requirement already satisfied, skipping upgrade: pytz>=2011k in /usr/local/lib/python3.6/dist-packages (from pandas>=0.15.2->seaborn) (2018.9)\n",
            "Requirement already satisfied, skipping upgrade: setuptools in /usr/local/lib/python3.6/dist-packages (from kiwisolver>=1.0.1->matplotlib>=1.4.3->seaborn) (40.9.0)\n",
            "Requirement already satisfied, skipping upgrade: six in /usr/local/lib/python3.6/dist-packages (from cycler>=0.10->matplotlib>=1.4.3->seaborn) (1.11.0)\n",
            "Installing collected packages: seaborn\n",
            "  Found existing installation: seaborn 0.7.1\n",
            "    Uninstalling seaborn-0.7.1:\n",
            "      Successfully uninstalled seaborn-0.7.1\n",
            "Successfully installed seaborn-0.9.0\n"
          ],
          "name": "stdout"
        }
      ]
    },
    {
      "metadata": {
        "id": "eQ9EHDveEBfw",
        "colab_type": "code",
        "outputId": "f8ef7c50-85e2-49d0-fc39-9117a19b20c9",
        "colab": {
          "base_uri": "https://localhost:8080/",
          "height": 34
        }
      },
      "cell_type": "code",
      "source": [
        "import pandas as pd\n",
        "import matplotlib.pyplot as plt\n",
        "import numpy as np\n",
        "import seaborn as sns\n",
        "sns.__version__"
      ],
      "execution_count": 3,
      "outputs": [
        {
          "output_type": "execute_result",
          "data": {
            "text/plain": [
              "'0.9.0'"
            ]
          },
          "metadata": {
            "tags": []
          },
          "execution_count": 3
        }
      ]
    },
    {
      "metadata": {
        "id": "Q6yFGjyZV1h5",
        "colab_type": "code",
        "colab": {
          "resources": {
            "http://localhost:8080/nbextensions/google.colab/files.js": {
              "data": "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",
              "ok": true,
              "headers": [
                [
                  "content-type",
                  "application/javascript"
                ]
              ],
              "status": 200,
              "status_text": ""
            }
          },
          "base_uri": "https://localhost:8080/",
          "height": 75
        },
        "outputId": "8849f960-9ce4-4135-9b0d-48fb78f55433"
      },
      "cell_type": "code",
      "source": [
        "from google.colab import files\n",
        "uploaded = files.upload()"
      ],
      "execution_count": 96,
      "outputs": [
        {
          "output_type": "display_data",
          "data": {
            "text/html": [
              "\n",
              "     <input type=\"file\" id=\"files-41e70bad-da5d-43b9-8eb5-df6ab1f410d6\" name=\"files[]\" multiple disabled />\n",
              "     <output id=\"result-41e70bad-da5d-43b9-8eb5-df6ab1f410d6\">\n",
              "      Upload widget is only available when the cell has been executed in the\n",
              "      current browser session. Please rerun this cell to enable.\n",
              "      </output>\n",
              "      <script src=\"/nbextensions/google.colab/files.js\"></script> "
            ],
            "text/plain": [
              "<IPython.core.display.HTML object>"
            ]
          },
          "metadata": {
            "tags": []
          }
        },
        {
          "output_type": "stream",
          "text": [
            "Saving GLB.Ts+dSST.csv to GLB.Ts+dSST.csv\n"
          ],
          "name": "stdout"
        }
      ]
    },
    {
      "metadata": {
        "id": "1QO7Tm4rS8_a",
        "colab_type": "text"
      },
      "cell_type": "markdown",
      "source": [
        "Here is the link to the Global Mean Temperature page on Nasas website: https://data.giss.nasa.gov/gistemp/\n",
        "\n",
        "Here is the link to the CSV file I used: https://data.giss.nasa.gov/gistemp/tabledata_v3/GLB.Ts+dSST.csv"
      ]
    },
    {
      "metadata": {
        "id": "6cTfmp9Ldxph",
        "colab_type": "code",
        "colab": {
          "base_uri": "https://localhost:8080/",
          "height": 204
        },
        "outputId": "19a4ca56-2b29-4f37-fc13-a78ab86050d9"
      },
      "cell_type": "code",
      "source": [
        "global_mean_temperature = pd.read_csv('GLB.Ts+dSST.csv', header=None, names=['Year', 'Jan', 'Feb', 'Mar', 'Apr', 'May', 'Jun', 'Jul', 'Aug', 'Sep', 'Oct', 'Nov', 'Dec', 'J_D', 'D_N', 'DJF', 'MAM', 'JJA', 'SON'], na_values=[\"?\"])\n",
        "global_mean_temperature.head()\n",
        "#We were able to load the data, but we need to get rid of the first two rows since they aren't useful and we also only need data for the years 2008 through 2018"
      ],
      "execution_count": 97,
      "outputs": [
        {
          "output_type": "execute_result",
          "data": {
            "text/html": [
              "<div>\n",
              "<style scoped>\n",
              "    .dataframe tbody tr th:only-of-type {\n",
              "        vertical-align: middle;\n",
              "    }\n",
              "\n",
              "    .dataframe tbody tr th {\n",
              "        vertical-align: top;\n",
              "    }\n",
              "\n",
              "    .dataframe thead th {\n",
              "        text-align: right;\n",
              "    }\n",
              "</style>\n",
              "<table border=\"1\" class=\"dataframe\">\n",
              "  <thead>\n",
              "    <tr style=\"text-align: right;\">\n",
              "      <th></th>\n",
              "      <th>Year</th>\n",
              "      <th>Jan</th>\n",
              "      <th>Feb</th>\n",
              "      <th>Mar</th>\n",
              "      <th>Apr</th>\n",
              "      <th>May</th>\n",
              "      <th>Jun</th>\n",
              "      <th>Jul</th>\n",
              "      <th>Aug</th>\n",
              "      <th>Sep</th>\n",
              "      <th>Oct</th>\n",
              "      <th>Nov</th>\n",
              "      <th>Dec</th>\n",
              "      <th>J_D</th>\n",
              "      <th>D_N</th>\n",
              "      <th>DJF</th>\n",
              "      <th>MAM</th>\n",
              "      <th>JJA</th>\n",
              "      <th>SON</th>\n",
              "    </tr>\n",
              "  </thead>\n",
              "  <tbody>\n",
              "    <tr>\n",
              "      <th>0</th>\n",
              "      <td>Land-Ocean: Global Means</td>\n",
              "      <td>NaN</td>\n",
              "      <td>NaN</td>\n",
              "      <td>NaN</td>\n",
              "      <td>NaN</td>\n",
              "      <td>NaN</td>\n",
              "      <td>NaN</td>\n",
              "      <td>NaN</td>\n",
              "      <td>NaN</td>\n",
              "      <td>NaN</td>\n",
              "      <td>NaN</td>\n",
              "      <td>NaN</td>\n",
              "      <td>NaN</td>\n",
              "      <td>NaN</td>\n",
              "      <td>NaN</td>\n",
              "      <td>NaN</td>\n",
              "      <td>NaN</td>\n",
              "      <td>NaN</td>\n",
              "      <td>NaN</td>\n",
              "    </tr>\n",
              "    <tr>\n",
              "      <th>1</th>\n",
              "      <td>Year</td>\n",
              "      <td>Jan</td>\n",
              "      <td>Feb</td>\n",
              "      <td>Mar</td>\n",
              "      <td>Apr</td>\n",
              "      <td>May</td>\n",
              "      <td>Jun</td>\n",
              "      <td>Jul</td>\n",
              "      <td>Aug</td>\n",
              "      <td>Sep</td>\n",
              "      <td>Oct</td>\n",
              "      <td>Nov</td>\n",
              "      <td>Dec</td>\n",
              "      <td>J-D</td>\n",
              "      <td>D-N</td>\n",
              "      <td>DJF</td>\n",
              "      <td>MAM</td>\n",
              "      <td>JJA</td>\n",
              "      <td>SON</td>\n",
              "    </tr>\n",
              "    <tr>\n",
              "      <th>2</th>\n",
              "      <td>1880</td>\n",
              "      <td>-.30</td>\n",
              "      <td>-.19</td>\n",
              "      <td>-.12</td>\n",
              "      <td>-.20</td>\n",
              "      <td>-.12</td>\n",
              "      <td>-.24</td>\n",
              "      <td>-.21</td>\n",
              "      <td>-.10</td>\n",
              "      <td>-.17</td>\n",
              "      <td>-.24</td>\n",
              "      <td>-.21</td>\n",
              "      <td>-.23</td>\n",
              "      <td>-.19</td>\n",
              "      <td>***</td>\n",
              "      <td>***</td>\n",
              "      <td>-.15</td>\n",
              "      <td>-.18</td>\n",
              "      <td>-.20</td>\n",
              "    </tr>\n",
              "    <tr>\n",
              "      <th>3</th>\n",
              "      <td>1881</td>\n",
              "      <td>-.16</td>\n",
              "      <td>-.18</td>\n",
              "      <td>.03</td>\n",
              "      <td>.03</td>\n",
              "      <td>.01</td>\n",
              "      <td>-.21</td>\n",
              "      <td>-.07</td>\n",
              "      <td>-.03</td>\n",
              "      <td>-.15</td>\n",
              "      <td>-.21</td>\n",
              "      <td>-.23</td>\n",
              "      <td>-.12</td>\n",
              "      <td>-.11</td>\n",
              "      <td>-.12</td>\n",
              "      <td>-.19</td>\n",
              "      <td>.03</td>\n",
              "      <td>-.11</td>\n",
              "      <td>-.19</td>\n",
              "    </tr>\n",
              "    <tr>\n",
              "      <th>4</th>\n",
              "      <td>1882</td>\n",
              "      <td>.13</td>\n",
              "      <td>.14</td>\n",
              "      <td>.03</td>\n",
              "      <td>-.20</td>\n",
              "      <td>-.17</td>\n",
              "      <td>-.27</td>\n",
              "      <td>-.21</td>\n",
              "      <td>-.06</td>\n",
              "      <td>-.11</td>\n",
              "      <td>-.25</td>\n",
              "      <td>-.17</td>\n",
              "      <td>-.25</td>\n",
              "      <td>-.12</td>\n",
              "      <td>-.10</td>\n",
              "      <td>.05</td>\n",
              "      <td>-.11</td>\n",
              "      <td>-.18</td>\n",
              "      <td>-.18</td>\n",
              "    </tr>\n",
              "  </tbody>\n",
              "</table>\n",
              "</div>"
            ],
            "text/plain": [
              "                       Year   Jan   Feb   Mar   Apr   May   Jun   Jul   Aug  \\\n",
              "0  Land-Ocean: Global Means   NaN   NaN   NaN   NaN   NaN   NaN   NaN   NaN   \n",
              "1                      Year   Jan   Feb   Mar   Apr   May   Jun   Jul   Aug   \n",
              "2                      1880  -.30  -.19  -.12  -.20  -.12  -.24  -.21  -.10   \n",
              "3                      1881  -.16  -.18   .03   .03   .01  -.21  -.07  -.03   \n",
              "4                      1882   .13   .14   .03  -.20  -.17  -.27  -.21  -.06   \n",
              "\n",
              "    Sep   Oct   Nov   Dec   J_D   D_N   DJF   MAM   JJA   SON  \n",
              "0   NaN   NaN   NaN   NaN   NaN   NaN   NaN   NaN   NaN   NaN  \n",
              "1   Sep   Oct   Nov   Dec   J-D   D-N   DJF   MAM   JJA   SON  \n",
              "2  -.17  -.24  -.21  -.23  -.19   ***   ***  -.15  -.18  -.20  \n",
              "3  -.15  -.21  -.23  -.12  -.11  -.12  -.19   .03  -.11  -.19  \n",
              "4  -.11  -.25  -.17  -.25  -.12  -.10   .05  -.11  -.18  -.18  "
            ]
          },
          "metadata": {
            "tags": []
          },
          "execution_count": 97
        }
      ]
    },
    {
      "metadata": {
        "id": "5FEKEA3ygMRb",
        "colab_type": "code",
        "colab": {
          "base_uri": "https://localhost:8080/",
          "height": 421
        },
        "outputId": "820b5fec-086d-4d4e-e9ae-7ff975cd0719"
      },
      "cell_type": "code",
      "source": [
        "global_mean_temperature = global_mean_temperature.iloc[130:]\n",
        "global_mean_temperature\n",
        "#Now that we have the first two rows removed along with the other rows we will not be using, now we need to remove all uneccesary columns. All we want in the dataframe is the year, and the yearly mean (J_D) "
      ],
      "execution_count": 98,
      "outputs": [
        {
          "output_type": "execute_result",
          "data": {
            "text/html": [
              "<div>\n",
              "<style scoped>\n",
              "    .dataframe tbody tr th:only-of-type {\n",
              "        vertical-align: middle;\n",
              "    }\n",
              "\n",
              "    .dataframe tbody tr th {\n",
              "        vertical-align: top;\n",
              "    }\n",
              "\n",
              "    .dataframe thead th {\n",
              "        text-align: right;\n",
              "    }\n",
              "</style>\n",
              "<table border=\"1\" class=\"dataframe\">\n",
              "  <thead>\n",
              "    <tr style=\"text-align: right;\">\n",
              "      <th></th>\n",
              "      <th>Year</th>\n",
              "      <th>Jan</th>\n",
              "      <th>Feb</th>\n",
              "      <th>Mar</th>\n",
              "      <th>Apr</th>\n",
              "      <th>May</th>\n",
              "      <th>Jun</th>\n",
              "      <th>Jul</th>\n",
              "      <th>Aug</th>\n",
              "      <th>Sep</th>\n",
              "      <th>Oct</th>\n",
              "      <th>Nov</th>\n",
              "      <th>Dec</th>\n",
              "      <th>J_D</th>\n",
              "      <th>D_N</th>\n",
              "      <th>DJF</th>\n",
              "      <th>MAM</th>\n",
              "      <th>JJA</th>\n",
              "      <th>SON</th>\n",
              "    </tr>\n",
              "  </thead>\n",
              "  <tbody>\n",
              "    <tr>\n",
              "      <th>130</th>\n",
              "      <td>2008</td>\n",
              "      <td>.23</td>\n",
              "      <td>.34</td>\n",
              "      <td>.73</td>\n",
              "      <td>.51</td>\n",
              "      <td>.47</td>\n",
              "      <td>.46</td>\n",
              "      <td>.59</td>\n",
              "      <td>.44</td>\n",
              "      <td>.63</td>\n",
              "      <td>.63</td>\n",
              "      <td>.65</td>\n",
              "      <td>.53</td>\n",
              "      <td>.52</td>\n",
              "      <td>.51</td>\n",
              "      <td>.34</td>\n",
              "      <td>.57</td>\n",
              "      <td>.49</td>\n",
              "      <td>.64</td>\n",
              "    </tr>\n",
              "    <tr>\n",
              "      <th>131</th>\n",
              "      <td>2009</td>\n",
              "      <td>.61</td>\n",
              "      <td>.50</td>\n",
              "      <td>.52</td>\n",
              "      <td>.59</td>\n",
              "      <td>.64</td>\n",
              "      <td>.65</td>\n",
              "      <td>.70</td>\n",
              "      <td>.66</td>\n",
              "      <td>.68</td>\n",
              "      <td>.63</td>\n",
              "      <td>.76</td>\n",
              "      <td>.65</td>\n",
              "      <td>.63</td>\n",
              "      <td>.62</td>\n",
              "      <td>.55</td>\n",
              "      <td>.58</td>\n",
              "      <td>.67</td>\n",
              "      <td>.69</td>\n",
              "    </tr>\n",
              "    <tr>\n",
              "      <th>132</th>\n",
              "      <td>2010</td>\n",
              "      <td>.73</td>\n",
              "      <td>.79</td>\n",
              "      <td>.92</td>\n",
              "      <td>.85</td>\n",
              "      <td>.74</td>\n",
              "      <td>.62</td>\n",
              "      <td>.59</td>\n",
              "      <td>.63</td>\n",
              "      <td>.59</td>\n",
              "      <td>.69</td>\n",
              "      <td>.77</td>\n",
              "      <td>.46</td>\n",
              "      <td>.70</td>\n",
              "      <td>.71</td>\n",
              "      <td>.73</td>\n",
              "      <td>.83</td>\n",
              "      <td>.61</td>\n",
              "      <td>.68</td>\n",
              "    </tr>\n",
              "    <tr>\n",
              "      <th>133</th>\n",
              "      <td>2011</td>\n",
              "      <td>.49</td>\n",
              "      <td>.51</td>\n",
              "      <td>.62</td>\n",
              "      <td>.62</td>\n",
              "      <td>.51</td>\n",
              "      <td>.58</td>\n",
              "      <td>.71</td>\n",
              "      <td>.72</td>\n",
              "      <td>.55</td>\n",
              "      <td>.63</td>\n",
              "      <td>.56</td>\n",
              "      <td>.53</td>\n",
              "      <td>.59</td>\n",
              "      <td>.58</td>\n",
              "      <td>.49</td>\n",
              "      <td>.58</td>\n",
              "      <td>.67</td>\n",
              "      <td>.58</td>\n",
              "    </tr>\n",
              "    <tr>\n",
              "      <th>134</th>\n",
              "      <td>2012</td>\n",
              "      <td>.45</td>\n",
              "      <td>.48</td>\n",
              "      <td>.56</td>\n",
              "      <td>.68</td>\n",
              "      <td>.75</td>\n",
              "      <td>.63</td>\n",
              "      <td>.53</td>\n",
              "      <td>.62</td>\n",
              "      <td>.72</td>\n",
              "      <td>.75</td>\n",
              "      <td>.73</td>\n",
              "      <td>.52</td>\n",
              "      <td>.62</td>\n",
              "      <td>.62</td>\n",
              "      <td>.49</td>\n",
              "      <td>.66</td>\n",
              "      <td>.59</td>\n",
              "      <td>.73</td>\n",
              "    </tr>\n",
              "    <tr>\n",
              "      <th>135</th>\n",
              "      <td>2013</td>\n",
              "      <td>.67</td>\n",
              "      <td>.55</td>\n",
              "      <td>.66</td>\n",
              "      <td>.53</td>\n",
              "      <td>.58</td>\n",
              "      <td>.65</td>\n",
              "      <td>.58</td>\n",
              "      <td>.67</td>\n",
              "      <td>.77</td>\n",
              "      <td>.67</td>\n",
              "      <td>.78</td>\n",
              "      <td>.65</td>\n",
              "      <td>.65</td>\n",
              "      <td>.64</td>\n",
              "      <td>.58</td>\n",
              "      <td>.59</td>\n",
              "      <td>.63</td>\n",
              "      <td>.74</td>\n",
              "    </tr>\n",
              "    <tr>\n",
              "      <th>136</th>\n",
              "      <td>2014</td>\n",
              "      <td>.73</td>\n",
              "      <td>.52</td>\n",
              "      <td>.76</td>\n",
              "      <td>.77</td>\n",
              "      <td>.85</td>\n",
              "      <td>.67</td>\n",
              "      <td>.56</td>\n",
              "      <td>.81</td>\n",
              "      <td>.88</td>\n",
              "      <td>.81</td>\n",
              "      <td>.66</td>\n",
              "      <td>.78</td>\n",
              "      <td>.73</td>\n",
              "      <td>.72</td>\n",
              "      <td>.63</td>\n",
              "      <td>.79</td>\n",
              "      <td>.68</td>\n",
              "      <td>.79</td>\n",
              "    </tr>\n",
              "    <tr>\n",
              "      <th>137</th>\n",
              "      <td>2015</td>\n",
              "      <td>.81</td>\n",
              "      <td>.87</td>\n",
              "      <td>.90</td>\n",
              "      <td>.75</td>\n",
              "      <td>.75</td>\n",
              "      <td>.79</td>\n",
              "      <td>.72</td>\n",
              "      <td>.78</td>\n",
              "      <td>.82</td>\n",
              "      <td>1.07</td>\n",
              "      <td>1.03</td>\n",
              "      <td>1.11</td>\n",
              "      <td>.87</td>\n",
              "      <td>.84</td>\n",
              "      <td>.82</td>\n",
              "      <td>.80</td>\n",
              "      <td>.76</td>\n",
              "      <td>.97</td>\n",
              "    </tr>\n",
              "    <tr>\n",
              "      <th>138</th>\n",
              "      <td>2016</td>\n",
              "      <td>1.16</td>\n",
              "      <td>1.34</td>\n",
              "      <td>1.31</td>\n",
              "      <td>1.07</td>\n",
              "      <td>.91</td>\n",
              "      <td>.78</td>\n",
              "      <td>.82</td>\n",
              "      <td>1.01</td>\n",
              "      <td>.88</td>\n",
              "      <td>.90</td>\n",
              "      <td>.91</td>\n",
              "      <td>.83</td>\n",
              "      <td>.99</td>\n",
              "      <td>1.02</td>\n",
              "      <td>1.20</td>\n",
              "      <td>1.10</td>\n",
              "      <td>.87</td>\n",
              "      <td>.90</td>\n",
              "    </tr>\n",
              "    <tr>\n",
              "      <th>139</th>\n",
              "      <td>2017</td>\n",
              "      <td>.98</td>\n",
              "      <td>1.13</td>\n",
              "      <td>1.13</td>\n",
              "      <td>.93</td>\n",
              "      <td>.90</td>\n",
              "      <td>.70</td>\n",
              "      <td>.83</td>\n",
              "      <td>.87</td>\n",
              "      <td>.76</td>\n",
              "      <td>.88</td>\n",
              "      <td>.86</td>\n",
              "      <td>.89</td>\n",
              "      <td>.91</td>\n",
              "      <td>.90</td>\n",
              "      <td>.98</td>\n",
              "      <td>.99</td>\n",
              "      <td>.80</td>\n",
              "      <td>.83</td>\n",
              "    </tr>\n",
              "    <tr>\n",
              "      <th>140</th>\n",
              "      <td>2018</td>\n",
              "      <td>.78</td>\n",
              "      <td>.84</td>\n",
              "      <td>.91</td>\n",
              "      <td>.88</td>\n",
              "      <td>.82</td>\n",
              "      <td>.75</td>\n",
              "      <td>.79</td>\n",
              "      <td>.73</td>\n",
              "      <td>.76</td>\n",
              "      <td>.99</td>\n",
              "      <td>.78</td>\n",
              "      <td>.90</td>\n",
              "      <td>.83</td>\n",
              "      <td>.83</td>\n",
              "      <td>.84</td>\n",
              "      <td>.87</td>\n",
              "      <td>.76</td>\n",
              "      <td>.85</td>\n",
              "    </tr>\n",
              "    <tr>\n",
              "      <th>141</th>\n",
              "      <td>2019</td>\n",
              "      <td>.87</td>\n",
              "      <td>.90</td>\n",
              "      <td>1.11</td>\n",
              "      <td>***</td>\n",
              "      <td>***</td>\n",
              "      <td>***</td>\n",
              "      <td>***</td>\n",
              "      <td>***</td>\n",
              "      <td>***</td>\n",
              "      <td>***</td>\n",
              "      <td>***</td>\n",
              "      <td>***</td>\n",
              "      <td>***</td>\n",
              "      <td>***</td>\n",
              "      <td>.89</td>\n",
              "      <td>***</td>\n",
              "      <td>***</td>\n",
              "      <td>***</td>\n",
              "    </tr>\n",
              "  </tbody>\n",
              "</table>\n",
              "</div>"
            ],
            "text/plain": [
              "     Year   Jan   Feb   Mar   Apr  May  Jun  Jul   Aug  Sep   Oct   Nov   Dec  \\\n",
              "130  2008   .23   .34   .73   .51  .47  .46  .59   .44  .63   .63   .65   .53   \n",
              "131  2009   .61   .50   .52   .59  .64  .65  .70   .66  .68   .63   .76   .65   \n",
              "132  2010   .73   .79   .92   .85  .74  .62  .59   .63  .59   .69   .77   .46   \n",
              "133  2011   .49   .51   .62   .62  .51  .58  .71   .72  .55   .63   .56   .53   \n",
              "134  2012   .45   .48   .56   .68  .75  .63  .53   .62  .72   .75   .73   .52   \n",
              "135  2013   .67   .55   .66   .53  .58  .65  .58   .67  .77   .67   .78   .65   \n",
              "136  2014   .73   .52   .76   .77  .85  .67  .56   .81  .88   .81   .66   .78   \n",
              "137  2015   .81   .87   .90   .75  .75  .79  .72   .78  .82  1.07  1.03  1.11   \n",
              "138  2016  1.16  1.34  1.31  1.07  .91  .78  .82  1.01  .88   .90   .91   .83   \n",
              "139  2017   .98  1.13  1.13   .93  .90  .70  .83   .87  .76   .88   .86   .89   \n",
              "140  2018   .78   .84   .91   .88  .82  .75  .79   .73  .76   .99   .78   .90   \n",
              "141  2019   .87   .90  1.11   ***  ***  ***  ***   ***  ***   ***   ***   ***   \n",
              "\n",
              "     J_D   D_N   DJF   MAM  JJA  SON  \n",
              "130  .52   .51   .34   .57  .49  .64  \n",
              "131  .63   .62   .55   .58  .67  .69  \n",
              "132  .70   .71   .73   .83  .61  .68  \n",
              "133  .59   .58   .49   .58  .67  .58  \n",
              "134  .62   .62   .49   .66  .59  .73  \n",
              "135  .65   .64   .58   .59  .63  .74  \n",
              "136  .73   .72   .63   .79  .68  .79  \n",
              "137  .87   .84   .82   .80  .76  .97  \n",
              "138  .99  1.02  1.20  1.10  .87  .90  \n",
              "139  .91   .90   .98   .99  .80  .83  \n",
              "140  .83   .83   .84   .87  .76  .85  \n",
              "141  ***   ***   .89   ***  ***  ***  "
            ]
          },
          "metadata": {
            "tags": []
          },
          "execution_count": 98
        }
      ]
    },
    {
      "metadata": {
        "id": "Pi1m7VKXOmag",
        "colab_type": "code",
        "colab": {
          "base_uri": "https://localhost:8080/",
          "height": 390
        },
        "outputId": "36fa30b3-2c08-4c8b-b414-55e815a51347"
      },
      "cell_type": "code",
      "source": [
        "#global_mean_temperature.drop(columns=['Jan', 'Feb', 'Mar', 'Apr', 'May', 'Jun', 'Jul', 'Aug', 'Sep', 'Oct', 'Nov', 'Dec', 'D_N', 'DJF', 'MAM', 'JJA', 'SON'])\n",
        "#del global_mean_temperature['Jan', 'Feb', 'Mar', 'Apr', 'May', 'Jun', 'Jul', 'Aug', 'Sep', 'Oct', 'Nov', 'Dec', 'D_N', 'DJF', 'MAM', 'JJA', 'SON']\n",
        "#global_mean_temperature.head()\n",
        "global_mean_temperature = pd.DataFrame(\n",
        "    {\n",
        "        \"Year\": [2008,2009,2010,2011,2012,2013,2014,2015,2016,2017,2018],\n",
        "        \"Temperature_Mean\": [.52,.63,.70,.59,.62,.65,.73,.87,.99,.91,.83]\n",
        "    }\n",
        ")\n",
        "global_mean_temperature\n",
        "#Now we have a dataframe with the year and the global temperature mean"
      ],
      "execution_count": 99,
      "outputs": [
        {
          "output_type": "execute_result",
          "data": {
            "text/html": [
              "<div>\n",
              "<style scoped>\n",
              "    .dataframe tbody tr th:only-of-type {\n",
              "        vertical-align: middle;\n",
              "    }\n",
              "\n",
              "    .dataframe tbody tr th {\n",
              "        vertical-align: top;\n",
              "    }\n",
              "\n",
              "    .dataframe thead th {\n",
              "        text-align: right;\n",
              "    }\n",
              "</style>\n",
              "<table border=\"1\" class=\"dataframe\">\n",
              "  <thead>\n",
              "    <tr style=\"text-align: right;\">\n",
              "      <th></th>\n",
              "      <th>Year</th>\n",
              "      <th>Temperature_Mean</th>\n",
              "    </tr>\n",
              "  </thead>\n",
              "  <tbody>\n",
              "    <tr>\n",
              "      <th>0</th>\n",
              "      <td>2008</td>\n",
              "      <td>0.52</td>\n",
              "    </tr>\n",
              "    <tr>\n",
              "      <th>1</th>\n",
              "      <td>2009</td>\n",
              "      <td>0.63</td>\n",
              "    </tr>\n",
              "    <tr>\n",
              "      <th>2</th>\n",
              "      <td>2010</td>\n",
              "      <td>0.70</td>\n",
              "    </tr>\n",
              "    <tr>\n",
              "      <th>3</th>\n",
              "      <td>2011</td>\n",
              "      <td>0.59</td>\n",
              "    </tr>\n",
              "    <tr>\n",
              "      <th>4</th>\n",
              "      <td>2012</td>\n",
              "      <td>0.62</td>\n",
              "    </tr>\n",
              "    <tr>\n",
              "      <th>5</th>\n",
              "      <td>2013</td>\n",
              "      <td>0.65</td>\n",
              "    </tr>\n",
              "    <tr>\n",
              "      <th>6</th>\n",
              "      <td>2014</td>\n",
              "      <td>0.73</td>\n",
              "    </tr>\n",
              "    <tr>\n",
              "      <th>7</th>\n",
              "      <td>2015</td>\n",
              "      <td>0.87</td>\n",
              "    </tr>\n",
              "    <tr>\n",
              "      <th>8</th>\n",
              "      <td>2016</td>\n",
              "      <td>0.99</td>\n",
              "    </tr>\n",
              "    <tr>\n",
              "      <th>9</th>\n",
              "      <td>2017</td>\n",
              "      <td>0.91</td>\n",
              "    </tr>\n",
              "    <tr>\n",
              "      <th>10</th>\n",
              "      <td>2018</td>\n",
              "      <td>0.83</td>\n",
              "    </tr>\n",
              "  </tbody>\n",
              "</table>\n",
              "</div>"
            ],
            "text/plain": [
              "    Year  Temperature_Mean\n",
              "0   2008              0.52\n",
              "1   2009              0.63\n",
              "2   2010              0.70\n",
              "3   2011              0.59\n",
              "4   2012              0.62\n",
              "5   2013              0.65\n",
              "6   2014              0.73\n",
              "7   2015              0.87\n",
              "8   2016              0.99\n",
              "9   2017              0.91\n",
              "10  2018              0.83"
            ]
          },
          "metadata": {
            "tags": []
          },
          "execution_count": 99
        }
      ]
    },
    {
      "metadata": {
        "id": "6zGMLXtFe1Hn",
        "colab_type": "code",
        "colab": {
          "base_uri": "https://localhost:8080/",
          "height": 386
        },
        "outputId": "217d072a-664a-43a2-c15f-28125333f80a"
      },
      "cell_type": "code",
      "source": [
        "sns.relplot('Year','Temperature_Mean', data=global_mean_temperature, alpha=1.0)\n",
        "#let's plot the data to show the yearly temperature mean from 2008 to 2018"
      ],
      "execution_count": 100,
      "outputs": [
        {
          "output_type": "execute_result",
          "data": {
            "text/plain": [
              "<seaborn.axisgrid.FacetGrid at 0x7fc98901d5c0>"
            ]
          },
          "metadata": {
            "tags": []
          },
          "execution_count": 100
        },
        {
          "output_type": "display_data",
          "data": {
            "image/png": "[encoded data removed]",
            "text/plain": [
              "<Figure size 360x360 with 1 Axes>"
            ]
          },
          "metadata": {
            "tags": []
          }
        }
      ]
    },
    {
      "metadata": {
        "id": "CAVXqF6_VkmO",
        "colab_type": "text"
      },
      "cell_type": "markdown",
      "source": [
        "As you can see the global mean temperature has been steadily increasing, but in 2017 in began to decrease!"
      ]
    },
    {
      "metadata": {
        "id": "CYVcvxVgZbU1",
        "colab_type": "code",
        "colab": {
          "base_uri": "https://localhost:8080/",
          "height": 390
        },
        "outputId": "7454e3dd-4d13-45dc-de01-6461046c48a1"
      },
      "cell_type": "code",
      "source": [
        "global_mean_carbon = pd.DataFrame(\n",
        "    {\n",
        "        \"Year\": [2008,2009,2010,2011,2012,2013,2014,2015,2016,2017,2018],\n",
        "        \"Carbon_Mean\": [384.78,386.29,388.57,390.45,392.46,395.19,397.12,399.41,402.86,405.00,407.40]\n",
        "    }\n",
        ")\n",
        "global_mean_carbon\n",
        "#We are going to make a new dataframe with year and the yearly carbon mean"
      ],
      "execution_count": 101,
      "outputs": [
        {
          "output_type": "execute_result",
          "data": {
            "text/html": [
              "<div>\n",
              "<style scoped>\n",
              "    .dataframe tbody tr th:only-of-type {\n",
              "        vertical-align: middle;\n",
              "    }\n",
              "\n",
              "    .dataframe tbody tr th {\n",
              "        vertical-align: top;\n",
              "    }\n",
              "\n",
              "    .dataframe thead th {\n",
              "        text-align: right;\n",
              "    }\n",
              "</style>\n",
              "<table border=\"1\" class=\"dataframe\">\n",
              "  <thead>\n",
              "    <tr style=\"text-align: right;\">\n",
              "      <th></th>\n",
              "      <th>Year</th>\n",
              "      <th>Carbon_Mean</th>\n",
              "    </tr>\n",
              "  </thead>\n",
              "  <tbody>\n",
              "    <tr>\n",
              "      <th>0</th>\n",
              "      <td>2008</td>\n",
              "      <td>384.78</td>\n",
              "    </tr>\n",
              "    <tr>\n",
              "      <th>1</th>\n",
              "      <td>2009</td>\n",
              "      <td>386.29</td>\n",
              "    </tr>\n",
              "    <tr>\n",
              "      <th>2</th>\n",
              "      <td>2010</td>\n",
              "      <td>388.57</td>\n",
              "    </tr>\n",
              "    <tr>\n",
              "      <th>3</th>\n",
              "      <td>2011</td>\n",
              "      <td>390.45</td>\n",
              "    </tr>\n",
              "    <tr>\n",
              "      <th>4</th>\n",
              "      <td>2012</td>\n",
              "      <td>392.46</td>\n",
              "    </tr>\n",
              "    <tr>\n",
              "      <th>5</th>\n",
              "      <td>2013</td>\n",
              "      <td>395.19</td>\n",
              "    </tr>\n",
              "    <tr>\n",
              "      <th>6</th>\n",
              "      <td>2014</td>\n",
              "      <td>397.12</td>\n",
              "    </tr>\n",
              "    <tr>\n",
              "      <th>7</th>\n",
              "      <td>2015</td>\n",
              "      <td>399.41</td>\n",
              "    </tr>\n",
              "    <tr>\n",
              "      <th>8</th>\n",
              "      <td>2016</td>\n",
              "      <td>402.86</td>\n",
              "    </tr>\n",
              "    <tr>\n",
              "      <th>9</th>\n",
              "      <td>2017</td>\n",
              "      <td>405.00</td>\n",
              "    </tr>\n",
              "    <tr>\n",
              "      <th>10</th>\n",
              "      <td>2018</td>\n",
              "      <td>407.40</td>\n",
              "    </tr>\n",
              "  </tbody>\n",
              "</table>\n",
              "</div>"
            ],
            "text/plain": [
              "    Year  Carbon_Mean\n",
              "0   2008       384.78\n",
              "1   2009       386.29\n",
              "2   2010       388.57\n",
              "3   2011       390.45\n",
              "4   2012       392.46\n",
              "5   2013       395.19\n",
              "6   2014       397.12\n",
              "7   2015       399.41\n",
              "8   2016       402.86\n",
              "9   2017       405.00\n",
              "10  2018       407.40"
            ]
          },
          "metadata": {
            "tags": []
          },
          "execution_count": 101
        }
      ]
    },
    {
      "metadata": {
        "id": "qBYiPsxgk-gB",
        "colab_type": "text"
      },
      "cell_type": "markdown",
      "source": [
        "Here is the link to the Carbon page: https://www.esrl.noaa.gov/gmd/ccgg/trends/gl_data.html\n",
        "\n",
        "Here is a link to the carbon mean data I used: ftp://aftp.cmdl.noaa.gov/products/trends/co2/co2_annmean_gl.txt"
      ]
    },
    {
      "metadata": {
        "id": "IVds69Z5eYUd",
        "colab_type": "code",
        "colab": {
          "base_uri": "https://localhost:8080/",
          "height": 386
        },
        "outputId": "76eb9709-4ab8-4c03-87da-adaa83dea8dc"
      },
      "cell_type": "code",
      "source": [
        "sns.relplot('Year','Carbon_Mean', data=global_mean_carbon, alpha=1.0)\n",
        "#We are going to plot the dataframe to show the yearly carbon mean"
      ],
      "execution_count": 102,
      "outputs": [
        {
          "output_type": "execute_result",
          "data": {
            "text/plain": [
              "<seaborn.axisgrid.FacetGrid at 0x7fc988fd1a58>"
            ]
          },
          "metadata": {
            "tags": []
          },
          "execution_count": 102
        },
        {
          "output_type": "display_data",
          "data": {
            "image/png": "[encoded data removed]",
            "text/plain": [
              "<Figure size 360x360 with 1 Axes>"
            ]
          },
          "metadata": {
            "tags": []
          }
        }
      ]
    },
    {
      "metadata": {
        "id": "40u0LoftlWKS",
        "colab_type": "text"
      },
      "cell_type": "markdown",
      "source": [
        "As you can see there is a steady increase in the global carbon mean each year"
      ]
    },
    {
      "metadata": {
        "id": "5vMSMu9qggYG",
        "colab_type": "code",
        "colab": {
          "base_uri": "https://localhost:8080/",
          "height": 390
        },
        "outputId": "be13d417-8679-441c-b920-80c96b4b9f6b"
      },
      "cell_type": "code",
      "source": [
        "global_mean_carbon_and_temperature = pd.DataFrame(\n",
        "    {\n",
        "        \"Year\": [2008,2009,2010,2011,2012,2013,2014,2015,2016,2017,2018],\n",
        "        \"Carbon_Mean\": [384.78,386.29,388.57,390.45,392.46,395.19,397.12,399.41,402.86,405.00,407.40],\n",
        "        \"Temperature_Mean\": [.64,.78,.90,.78,.76,.81,.87,.97,1.25,1.14,1.06]\n",
        "    }\n",
        ")\n",
        "global_mean_carbon_and_temperature\n",
        "#Let's make a dataframe that has the year, the global carbon annual mean, and the global temperature annual mean"
      ],
      "execution_count": 103,
      "outputs": [
        {
          "output_type": "execute_result",
          "data": {
            "text/html": [
              "<div>\n",
              "<style scoped>\n",
              "    .dataframe tbody tr th:only-of-type {\n",
              "        vertical-align: middle;\n",
              "    }\n",
              "\n",
              "    .dataframe tbody tr th {\n",
              "        vertical-align: top;\n",
              "    }\n",
              "\n",
              "    .dataframe thead th {\n",
              "        text-align: right;\n",
              "    }\n",
              "</style>\n",
              "<table border=\"1\" class=\"dataframe\">\n",
              "  <thead>\n",
              "    <tr style=\"text-align: right;\">\n",
              "      <th></th>\n",
              "      <th>Year</th>\n",
              "      <th>Carbon_Mean</th>\n",
              "      <th>Temperature_Mean</th>\n",
              "    </tr>\n",
              "  </thead>\n",
              "  <tbody>\n",
              "    <tr>\n",
              "      <th>0</th>\n",
              "      <td>2008</td>\n",
              "      <td>384.78</td>\n",
              "      <td>0.64</td>\n",
              "    </tr>\n",
              "    <tr>\n",
              "      <th>1</th>\n",
              "      <td>2009</td>\n",
              "      <td>386.29</td>\n",
              "      <td>0.78</td>\n",
              "    </tr>\n",
              "    <tr>\n",
              "      <th>2</th>\n",
              "      <td>2010</td>\n",
              "      <td>388.57</td>\n",
              "      <td>0.90</td>\n",
              "    </tr>\n",
              "    <tr>\n",
              "      <th>3</th>\n",
              "      <td>2011</td>\n",
              "      <td>390.45</td>\n",
              "      <td>0.78</td>\n",
              "    </tr>\n",
              "    <tr>\n",
              "      <th>4</th>\n",
              "      <td>2012</td>\n",
              "      <td>392.46</td>\n",
              "      <td>0.76</td>\n",
              "    </tr>\n",
              "    <tr>\n",
              "      <th>5</th>\n",
              "      <td>2013</td>\n",
              "      <td>395.19</td>\n",
              "      <td>0.81</td>\n",
              "    </tr>\n",
              "    <tr>\n",
              "      <th>6</th>\n",
              "      <td>2014</td>\n",
              "      <td>397.12</td>\n",
              "      <td>0.87</td>\n",
              "    </tr>\n",
              "    <tr>\n",
              "      <th>7</th>\n",
              "      <td>2015</td>\n",
              "      <td>399.41</td>\n",
              "      <td>0.97</td>\n",
              "    </tr>\n",
              "    <tr>\n",
              "      <th>8</th>\n",
              "      <td>2016</td>\n",
              "      <td>402.86</td>\n",
              "      <td>1.25</td>\n",
              "    </tr>\n",
              "    <tr>\n",
              "      <th>9</th>\n",
              "      <td>2017</td>\n",
              "      <td>405.00</td>\n",
              "      <td>1.14</td>\n",
              "    </tr>\n",
              "    <tr>\n",
              "      <th>10</th>\n",
              "      <td>2018</td>\n",
              "      <td>407.40</td>\n",
              "      <td>1.06</td>\n",
              "    </tr>\n",
              "  </tbody>\n",
              "</table>\n",
              "</div>"
            ],
            "text/plain": [
              "    Year  Carbon_Mean  Temperature_Mean\n",
              "0   2008       384.78              0.64\n",
              "1   2009       386.29              0.78\n",
              "2   2010       388.57              0.90\n",
              "3   2011       390.45              0.78\n",
              "4   2012       392.46              0.76\n",
              "5   2013       395.19              0.81\n",
              "6   2014       397.12              0.87\n",
              "7   2015       399.41              0.97\n",
              "8   2016       402.86              1.25\n",
              "9   2017       405.00              1.14\n",
              "10  2018       407.40              1.06"
            ]
          },
          "metadata": {
            "tags": []
          },
          "execution_count": 103
        }
      ]
    },
    {
      "metadata": {
        "id": "7RNwqkMwjA_g",
        "colab_type": "code",
        "colab": {
          "base_uri": "https://localhost:8080/",
          "height": 386
        },
        "outputId": "625033fd-522d-4b06-9442-7ab7c304ba6f"
      },
      "cell_type": "code",
      "source": [
        "sns.relplot('Carbon_Mean','Temperature_Mean', data=global_mean_carbon_and_temperature, alpha=1.0)\n",
        "#We are now comparing the carbon mean (X Axis), to the temperature mean (Y Axis)"
      ],
      "execution_count": 104,
      "outputs": [
        {
          "output_type": "execute_result",
          "data": {
            "text/plain": [
              "<seaborn.axisgrid.FacetGrid at 0x7fc989098240>"
            ]
          },
          "metadata": {
            "tags": []
          },
          "execution_count": 104
        },
        {
          "output_type": "display_data",
          "data": {
            "image/png": "[encoded data removed]",
            "text/plain": [
              "<Figure size 360x360 with 1 Axes>"
            ]
          },
          "metadata": {
            "tags": []
          }
        }
      ]
    },
    {
      "metadata": {
        "id": "TrBAdP9Nl78V",
        "colab_type": "text"
      },
      "cell_type": "markdown",
      "source": [
        "As you can see there is a increase in temperature mean as the carbon mean increases"
      ]
    },
    {
      "metadata": {
        "id": "dyz82t7tjJMH",
        "colab_type": "code",
        "colab": {
          "base_uri": "https://localhost:8080/",
          "height": 291
        },
        "outputId": "ca0ab3af-7d92-40cf-b998-b7a8353b82d1"
      },
      "cell_type": "code",
      "source": [
        "lines = global_mean_carbon_and_temperature.plot.line(x='Carbon_Mean', y='Temperature_Mean')"
      ],
      "execution_count": 105,
      "outputs": [
        {
          "output_type": "display_data",
          "data": {
            "image/png": "[encoded data removed]",
            "text/plain": [
              "<Figure size 432x288 with 1 Axes>"
            ]
          },
          "metadata": {
            "tags": []
          }
        }
      ]
    },
    {
      "metadata": {
        "id": "PKIBO6vUL3HH",
        "colab_type": "code",
        "colab": {
          "base_uri": "https://localhost:8080/",
          "height": 292
        },
        "outputId": "136f3f48-dd53-4840-d2a5-426471390a84"
      },
      "cell_type": "code",
      "source": [
        "import numpy as np \n",
        "from pandas import DataFrame\n",
        "import seaborn as sns\n",
        "%matplotlib inline\n",
        "\n",
        "Index= ['2008', '2009', '2010', '2011', '2012', '2013', '2014', '2015', '2016', '2017', '2018']\n",
        "Cols = ['Carbon_Mean', 'Temperature_Mean']\n",
        "global_mean_carbon_and_temperature = DataFrame(abs(np.random.randn(11, 2)), index=Index, columns=Cols)\n",
        "\n",
        "sns.heatmap(global_mean_carbon_and_temperature, annot=True)\n"
      ],
      "execution_count": 106,
      "outputs": [
        {
          "output_type": "execute_result",
          "data": {
            "text/plain": [
              "<matplotlib.axes._subplots.AxesSubplot at 0x7fc988e82cf8>"
            ]
          },
          "metadata": {
            "tags": []
          },
          "execution_count": 106
        },
        {
          "output_type": "display_data",
          "data": {
            "image/png": "[encoded data removed]",
            "text/plain": [
              "<Figure size 432x288 with 2 Axes>"
            ]
          },
          "metadata": {
            "tags": []
          }
        }
      ]
    },
    {
      "metadata": {
        "id": "NQ8F0riNOOZX",
        "colab_type": "code",
        "colab": {
          "base_uri": "https://localhost:8080/",
          "height": 275
        },
        "outputId": "0494c013-b1e1-42c1-933c-97c1b8c84f4a"
      },
      "cell_type": "code",
      "source": [
        "ax = sns.heatmap(global_mean_carbon_and_temperature, linewidths=.5)"
      ],
      "execution_count": 109,
      "outputs": [
        {
          "output_type": "display_data",
          "data": {
            "image/png": "[encoded data removed]",
            "text/plain": [
              "<Figure size 432x288 with 2 Axes>"
            ]
          },
          "metadata": {
            "tags": []
          }
        }
      ]
    },
    {
      "metadata": {
        "id": "8FTWOokAPfzZ",
        "colab_type": "code",
        "colab": {}
      },
      "cell_type": "code",
      "source": [
        ""
      ],
      "execution_count": 0,
      "outputs": []
    }
  ]
}