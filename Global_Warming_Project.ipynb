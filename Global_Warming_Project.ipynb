{
  "nbformat": 4,
  "nbformat_minor": 0,
  "metadata": {
    "colab": {
      "name": "Global Warming Project",
      "version": "0.3.2",
      "provenance": [],
      "include_colab_link": true
    },
    "kernelspec": {
      "name": "python3",
      "display_name": "Python 3"
    }
  },
  "cells": [
    {
      "cell_type": "markdown",
      "metadata": {
        "id": "view-in-github",
        "colab_type": "text"
      },
      "source": [
        "<a href=\"https://colab.research.google.com/github/nickwinters1/DS-Unit-1-Sprint-5-Data-Storytelling-Blog-Post/blob/master/Global_Warming_Project.ipynb\" target=\"_parent\"><img src=\"https://colab.research.google.com/assets/colab-badge.svg\" alt=\"Open In Colab\"/></a>"
      ]
    },
    {
      "metadata": {
        "id": "FTYpTwdpkpmv",
        "colab_type": "code",
        "colab": {
          "base_uri": "https://localhost:8080/",
          "height": 369
        },
        "outputId": "24fdc82b-02c1-49c2-dbd7-63f4012cdd95"
      },
      "cell_type": "code",
      "source": [
        "!pip install --upgrade seaborn"
      ],
      "execution_count": 2,
      "outputs": [
        {
          "output_type": "stream",
          "text": [
            "Collecting seaborn\n",
            "\u001b[?25l  Downloading https://files.pythonhosted.org/packages/a8/76/220ba4420459d9c4c9c9587c6ce607bf56c25b3d3d2de62056efe482dadc/seaborn-0.9.0-py3-none-any.whl (208kB)\n",
            "\r\u001b[K    4% |█▋                              | 10kB 12.5MB/s eta 0:00:01\r\u001b[K    9% |███▏                            | 20kB 3.6MB/s eta 0:00:01\r\u001b[K    14% |████▊                           | 30kB 5.1MB/s eta 0:00:01\r\u001b[K    19% |██████▎                         | 40kB 3.1MB/s eta 0:00:01\r\u001b[K    24% |███████▉                        | 51kB 3.8MB/s eta 0:00:01\r\u001b[K    29% |█████████▌                      | 61kB 4.5MB/s eta 0:00:01\r\u001b[K    34% |███████████                     | 71kB 5.2MB/s eta 0:00:01\r\u001b[K    39% |████████████▋                   | 81kB 5.8MB/s eta 0:00:01\r\u001b[K    44% |██████████████▏                 | 92kB 6.5MB/s eta 0:00:01\r\u001b[K    49% |███████████████▊                | 102kB 5.1MB/s eta 0:00:01\r\u001b[K    54% |█████████████████▎              | 112kB 5.2MB/s eta 0:00:01\r\u001b[K    59% |███████████████████             | 122kB 6.7MB/s eta 0:00:01\r\u001b[K    63% |████████████████████▌           | 133kB 6.7MB/s eta 0:00:01\r\u001b[K    68% |██████████████████████          | 143kB 12.2MB/s eta 0:00:01\r\u001b[K    73% |███████████████████████▋        | 153kB 12.5MB/s eta 0:00:01\r\u001b[K    78% |█████████████████████████▏      | 163kB 12.5MB/s eta 0:00:01\r\u001b[K    83% |██████████████████████████▊     | 174kB 12.1MB/s eta 0:00:01\r\u001b[K    88% |████████████████████████████▍   | 184kB 12.3MB/s eta 0:00:01\r\u001b[K    93% |██████████████████████████████  | 194kB 12.3MB/s eta 0:00:01\r\u001b[K    98% |███████████████████████████████▌| 204kB 13.9MB/s eta 0:00:01\r\u001b[K    100% |████████████████████████████████| 215kB 11.5MB/s \n",
            "\u001b[?25hRequirement already satisfied, skipping upgrade: matplotlib>=1.4.3 in /usr/local/lib/python3.6/dist-packages (from seaborn) (3.0.3)\n",
            "Requirement already satisfied, skipping upgrade: pandas>=0.15.2 in /usr/local/lib/python3.6/dist-packages (from seaborn) (0.23.4)\n",
            "Requirement already satisfied, skipping upgrade: scipy>=0.14.0 in /usr/local/lib/python3.6/dist-packages (from seaborn) (1.2.1)\n",
            "Requirement already satisfied, skipping upgrade: numpy>=1.9.3 in /usr/local/lib/python3.6/dist-packages (from seaborn) (1.16.2)\n",
            "Requirement already satisfied, skipping upgrade: pyparsing!=2.0.4,!=2.1.2,!=2.1.6,>=2.0.1 in /usr/local/lib/python3.6/dist-packages (from matplotlib>=1.4.3->seaborn) (2.4.0)\n",
            "Requirement already satisfied, skipping upgrade: kiwisolver>=1.0.1 in /usr/local/lib/python3.6/dist-packages (from matplotlib>=1.4.3->seaborn) (1.0.1)\n",
            "Requirement already satisfied, skipping upgrade: cycler>=0.10 in /usr/local/lib/python3.6/dist-packages (from matplotlib>=1.4.3->seaborn) (0.10.0)\n",
            "Requirement already satisfied, skipping upgrade: python-dateutil>=2.1 in /usr/local/lib/python3.6/dist-packages (from matplotlib>=1.4.3->seaborn) (2.5.3)\n",
            "Requirement already satisfied, skipping upgrade: pytz>=2011k in /usr/local/lib/python3.6/dist-packages (from pandas>=0.15.2->seaborn) (2018.9)\n",
            "Requirement already satisfied, skipping upgrade: setuptools in /usr/local/lib/python3.6/dist-packages (from kiwisolver>=1.0.1->matplotlib>=1.4.3->seaborn) (40.9.0)\n",
            "Requirement already satisfied, skipping upgrade: six in /usr/local/lib/python3.6/dist-packages (from cycler>=0.10->matplotlib>=1.4.3->seaborn) (1.11.0)\n",
            "Installing collected packages: seaborn\n",
            "  Found existing installation: seaborn 0.7.1\n",
            "    Uninstalling seaborn-0.7.1:\n",
            "      Successfully uninstalled seaborn-0.7.1\n",
            "Successfully installed seaborn-0.9.0\n"
          ],
          "name": "stdout"
        }
      ]
    },
    {
      "metadata": {
        "id": "eQ9EHDveEBfw",
        "colab_type": "code",
        "outputId": "f8ef7c50-85e2-49d0-fc39-9117a19b20c9",
        "colab": {
          "base_uri": "https://localhost:8080/",
          "height": 34
        }
      },
      "cell_type": "code",
      "source": [
        "import pandas as pd\n",
        "import matplotlib.pyplot as plt\n",
        "import numpy as np\n",
        "import seaborn as sns\n",
        "sns.__version__"
      ],
      "execution_count": 3,
      "outputs": [
        {
          "output_type": "execute_result",
          "data": {
            "text/plain": [
              "'0.9.0'"
            ]
          },
          "metadata": {
            "tags": []
          },
          "execution_count": 3
        }
      ]
    },
    {
      "metadata": {
        "id": "Q6yFGjyZV1h5",
        "colab_type": "code",
        "colab": {
          "resources": {
            "http://localhost:8080/nbextensions/google.colab/files.js": {
              "data": "Ly8gQ29weXJpZ2h0IDIwMTcgR29vZ2xlIExMQwovLwovLyBMaWNlbnNlZCB1bmRlciB0aGUgQXBhY2hlIExpY2Vuc2UsIFZlcnNpb24gMi4wICh0aGUgIkxpY2Vuc2UiKTsKLy8geW91IG1heSBub3QgdXNlIHRoaXMgZmlsZSBleGNlcHQgaW4gY29tcGxpYW5jZSB3aXRoIHRoZSBMaWNlbnNlLgovLyBZb3UgbWF5IG9idGFpbiBhIGNvcHkgb2YgdGhlIExpY2Vuc2UgYXQKLy8KLy8gICAgICBodHRwOi8vd3d3LmFwYWNoZS5vcmcvbGljZW5zZXMvTElDRU5TRS0yLjAKLy8KLy8gVW5sZXNzIHJlcXVpcmVkIGJ5IGFwcGxpY2FibGUgbGF3IG9yIGFncmVlZCB0byBpbiB3cml0aW5nLCBzb2Z0d2FyZQovLyBkaXN0cmlidXRlZCB1bmRlciB0aGUgTGljZW5zZSBpcyBkaXN0cmlidXRlZCBvbiBhbiAiQVMgSVMiIEJBU0lTLAovLyBXSVRIT1VUIFdBUlJBTlRJRVMgT1IgQ09ORElUSU9OUyBPRiBBTlkgS0lORCwgZWl0aGVyIGV4cHJlc3Mgb3IgaW1wbGllZC4KLy8gU2VlIHRoZSBMaWNlbnNlIGZvciB0aGUgc3BlY2lmaWMgbGFuZ3VhZ2UgZ292ZXJuaW5nIHBlcm1pc3Npb25zIGFuZAovLyBsaW1pdGF0aW9ucyB1bmRlciB0aGUgTGljZW5zZS4KCi8qKgogKiBAZmlsZW92ZXJ2aWV3IEhlbHBlcnMgZm9yIGdvb2dsZS5jb2xhYiBQeXRob24gbW9kdWxlLgogKi8KKGZ1bmN0aW9uKHNjb3BlKSB7CmZ1bmN0aW9uIHNwYW4odGV4dCwgc3R5bGVBdHRyaWJ1dGVzID0ge30pIHsKICBjb25zdCBlbGVtZW50ID0gZG9jdW1lbnQuY3JlYXRlRWxlbWVudCgnc3BhbicpOwogIGVsZW1lbnQudGV4dENvbnRlbnQgPSB0ZXh0OwogIGZvciAoY29uc3Qga2V5IG9mIE9iamVjdC5rZXlzKHN0eWxlQXR0cmlidXRlcykpIHsKICAgIGVsZW1lbnQuc3R5bGVba2V5XSA9IHN0eWxlQXR0cmlidXRlc1trZXldOwogIH0KICByZXR1cm4gZWxlbWVudDsKfQoKLy8gTWF4IG51bWJlciBvZiBieXRlcyB3aGljaCB3aWxsIGJlIHVwbG9hZGVkIGF0IGEgdGltZS4KY29uc3QgTUFYX1BBWUxPQURfU0laRSA9IDEwMCAqIDEwMjQ7Ci8vIE1heCBhbW91bnQgb2YgdGltZSB0byBibG9jayB3YWl0aW5nIGZvciB0aGUgdXNlci4KY29uc3QgRklMRV9DSEFOR0VfVElNRU9VVF9NUyA9IDMwICogMTAwMDsKCmZ1bmN0aW9uIF91cGxvYWRGaWxlcyhpbnB1dElkLCBvdXRwdXRJZCkgewogIGNvbnN0IHN0ZXBzID0gdXBsb2FkRmlsZXNTdGVwKGlucHV0SWQsIG91dHB1dElkKTsKICBjb25zdCBvdXRwdXRFbGVtZW50ID0gZG9jdW1lbnQuZ2V0RWxlbWVudEJ5SWQob3V0cHV0SWQpOwogIC8vIENhY2hlIHN0ZXBzIG9uIHRoZSBvdXRwdXRFbGVtZW50IHRvIG1ha2UgaXQgYXZhaWxhYmxlIGZvciB0aGUgbmV4dCBjYWxsCiAgLy8gdG8gdXBsb2FkRmlsZXNDb250aW51ZSBmcm9tIFB5dGhvbi4KICBvdXRwdXRFbGVtZW50LnN0ZXBzID0gc3RlcHM7CgogIHJldHVybiBfdXBsb2FkRmlsZXNDb250aW51ZShvdXRwdXRJZCk7Cn0KCi8vIFRoaXMgaXMgcm91Z2hseSBhbiBhc3luYyBnZW5lcmF0b3IgKG5vdCBzdXBwb3J0ZWQgaW4gdGhlIGJyb3dzZXIgeWV0KSwKLy8gd2hlcmUgdGhlcmUgYXJlIG11bHRpcGxlIGFzeW5jaHJvbm91cyBzdGVwcyBhbmQgdGhlIFB5dGhvbiBzaWRlIGlzIGdvaW5nCi8vIHRvIHBvbGwgZm9yIGNvbXBsZXRpb24gb2YgZWFjaCBzdGVwLgovLyBUaGlzIHVzZXMgYSBQcm9taXNlIHRvIGJsb2NrIHRoZSBweXRob24gc2lkZSBvbiBjb21wbGV0aW9uIG9mIGVhY2ggc3RlcCwKLy8gdGhlbiBwYXNzZXMgdGhlIHJlc3VsdCBvZiB0aGUgcHJldmlvdXMgc3RlcCBhcyB0aGUgaW5wdXQgdG8gdGhlIG5leHQgc3RlcC4KZnVuY3Rpb24gX3VwbG9hZEZpbGVzQ29udGludWUob3V0cHV0SWQpIHsKICBjb25zdCBvdXRwdXRFbGVtZW50ID0gZG9jdW1lbnQuZ2V0RWxlbWVudEJ5SWQob3V0cHV0SWQpOwogIGNvbnN0IHN0ZXBzID0gb3V0cHV0RWxlbWVudC5zdGVwczsKCiAgY29uc3QgbmV4dCA9IHN0ZXBzLm5leHQob3V0cHV0RWxlbWVudC5sYXN0UHJvbWlzZVZhbHVlKTsKICByZXR1cm4gUHJvbWlzZS5yZXNvbHZlKG5leHQudmFsdWUucHJvbWlzZSkudGhlbigodmFsdWUpID0+IHsKICAgIC8vIENhY2hlIHRoZSBsYXN0IHByb21pc2UgdmFsdWUgdG8gbWFrZSBpdCBhdmFpbGFibGUgdG8gdGhlIG5leHQKICAgIC8vIHN0ZXAgb2YgdGhlIGdlbmVyYXRvci4KICAgIG91dHB1dEVsZW1lbnQubGFzdFByb21pc2VWYWx1ZSA9IHZhbHVlOwogICAgcmV0dXJuIG5leHQudmFsdWUucmVzcG9uc2U7CiAgfSk7Cn0KCi8qKgogKiBHZW5lcmF0b3IgZnVuY3Rpb24gd2hpY2ggaXMgY2FsbGVkIGJldHdlZW4gZWFjaCBhc3luYyBzdGVwIG9mIHRoZSB1cGxvYWQKICogcHJvY2Vzcy4KICogQHBhcmFtIHtzdHJpbmd9IGlucHV0SWQgRWxlbWVudCBJRCBvZiB0aGUgaW5wdXQgZmlsZSBwaWNrZXIgZWxlbWVudC4KICogQHBhcmFtIHtzdHJpbmd9IG91dHB1dElkIEVsZW1lbnQgSUQgb2YgdGhlIG91dHB1dCBkaXNwbGF5LgogKiBAcmV0dXJuIHshSXRlcmFibGU8IU9iamVjdD59IEl0ZXJhYmxlIG9mIG5leHQgc3RlcHMuCiAqLwpmdW5jdGlvbiogdXBsb2FkRmlsZXNTdGVwKGlucHV0SWQsIG91dHB1dElkKSB7CiAgY29uc3QgaW5wdXRFbGVtZW50ID0gZG9jdW1lbnQuZ2V0RWxlbWVudEJ5SWQoaW5wdXRJZCk7CiAgaW5wdXRFbGVtZW50LmRpc2FibGVkID0gZmFsc2U7CgogIGNvbnN0IG91dHB1dEVsZW1lbnQgPSBkb2N1bWVudC5nZXRFbGVtZW50QnlJZChvdXRwdXRJZCk7CiAgb3V0cHV0RWxlbWVudC5pbm5lckhUTUwgPSAnJzsKCiAgY29uc3QgcGlja2VkUHJvbWlzZSA9IG5ldyBQcm9taXNlKChyZXNvbHZlKSA9PiB7CiAgICBpbnB1dEVsZW1lbnQuYWRkRXZlbnRMaXN0ZW5lcignY2hhbmdlJywgKGUpID0+IHsKICAgICAgcmVzb2x2ZShlLnRhcmdldC5maWxlcyk7CiAgICB9KTsKICB9KTsKCiAgY29uc3QgY2FuY2VsID0gZG9jdW1lbnQuY3JlYXRlRWxlbWVudCgnYnV0dG9uJyk7CiAgaW5wdXRFbGVtZW50LnBhcmVudEVsZW1lbnQuYXBwZW5kQ2hpbGQoY2FuY2VsKTsKICBjYW5jZWwudGV4dENvbnRlbnQgPSAnQ2FuY2VsIHVwbG9hZCc7CiAgY29uc3QgY2FuY2VsUHJvbWlzZSA9IG5ldyBQcm9taXNlKChyZXNvbHZlKSA9PiB7CiAgICBjYW5jZWwub25jbGljayA9ICgpID0+IHsKICAgICAgcmVzb2x2ZShudWxsKTsKICAgIH07CiAgfSk7CgogIC8vIENhbmNlbCB1cGxvYWQgaWYgdXNlciBoYXNuJ3QgcGlja2VkIGFueXRoaW5nIGluIHRpbWVvdXQuCiAgY29uc3QgdGltZW91dFByb21pc2UgPSBuZXcgUHJvbWlzZSgocmVzb2x2ZSkgPT4gewogICAgc2V0VGltZW91dCgoKSA9PiB7CiAgICAgIHJlc29sdmUobnVsbCk7CiAgICB9LCBGSUxFX0NIQU5HRV9USU1FT1VUX01TKTsKICB9KTsKCiAgLy8gV2FpdCBmb3IgdGhlIHVzZXIgdG8gcGljayB0aGUgZmlsZXMuCiAgY29uc3QgZmlsZXMgPSB5aWVsZCB7CiAgICBwcm9taXNlOiBQcm9taXNlLnJhY2UoW3BpY2tlZFByb21pc2UsIHRpbWVvdXRQcm9taXNlLCBjYW5jZWxQcm9taXNlXSksCiAgICByZXNwb25zZTogewogICAgICBhY3Rpb246ICdzdGFydGluZycsCiAgICB9CiAgfTsKCiAgaWYgKCFmaWxlcykgewogICAgcmV0dXJuIHsKICAgICAgcmVzcG9uc2U6IHsKICAgICAgICBhY3Rpb246ICdjb21wbGV0ZScsCiAgICAgIH0KICAgIH07CiAgfQoKICBjYW5jZWwucmVtb3ZlKCk7CgogIC8vIERpc2FibGUgdGhlIGlucHV0IGVsZW1lbnQgc2luY2UgZnVydGhlciBwaWNrcyBhcmUgbm90IGFsbG93ZWQuCiAgaW5wdXRFbGVtZW50LmRpc2FibGVkID0gdHJ1ZTsKCiAgZm9yIChjb25zdCBmaWxlIG9mIGZpbGVzKSB7CiAgICBjb25zdCBsaSA9IGRvY3VtZW50LmNyZWF0ZUVsZW1lbnQoJ2xpJyk7CiAgICBsaS5hcHBlbmQoc3BhbihmaWxlLm5hbWUsIHtmb250V2VpZ2h0OiAnYm9sZCd9KSk7CiAgICBsaS5hcHBlbmQoc3BhbigKICAgICAgICBgKCR7ZmlsZS50eXBlIHx8ICduL2EnfSkgLSAke2ZpbGUuc2l6ZX0gYnl0ZXMsIGAgKwogICAgICAgIGBsYXN0IG1vZGlmaWVkOiAkewogICAgICAgICAgICBmaWxlLmxhc3RNb2RpZmllZERhdGUgPyBmaWxlLmxhc3RNb2RpZmllZERhdGUudG9Mb2NhbGVEYXRlU3RyaW5nKCkgOgogICAgICAgICAgICAgICAgICAgICAgICAgICAgICAgICAgICAnbi9hJ30gLSBgKSk7CiAgICBjb25zdCBwZXJjZW50ID0gc3BhbignMCUgZG9uZScpOwogICAgbGkuYXBwZW5kQ2hpbGQocGVyY2VudCk7CgogICAgb3V0cHV0RWxlbWVudC5hcHBlbmRDaGlsZChsaSk7CgogICAgY29uc3QgZmlsZURhdGFQcm9taXNlID0gbmV3IFByb21pc2UoKHJlc29sdmUpID0+IHsKICAgICAgY29uc3QgcmVhZGVyID0gbmV3IEZpbGVSZWFkZXIoKTsKICAgICAgcmVhZGVyLm9ubG9hZCA9IChlKSA9PiB7CiAgICAgICAgcmVzb2x2ZShlLnRhcmdldC5yZXN1bHQpOwogICAgICB9OwogICAgICByZWFkZXIucmVhZEFzQXJyYXlCdWZmZXIoZmlsZSk7CiAgICB9KTsKICAgIC8vIFdhaXQgZm9yIHRoZSBkYXRhIHRvIGJlIHJlYWR5LgogICAgbGV0IGZpbGVEYXRhID0geWllbGQgewogICAgICBwcm9taXNlOiBmaWxlRGF0YVByb21pc2UsCiAgICAgIHJlc3BvbnNlOiB7CiAgICAgICAgYWN0aW9uOiAnY29udGludWUnLAogICAgICB9CiAgICB9OwoKICAgIC8vIFVzZSBhIGNodW5rZWQgc2VuZGluZyB0byBhdm9pZCBtZXNzYWdlIHNpemUgbGltaXRzLiBTZWUgYi82MjExNTY2MC4KICAgIGxldCBwb3NpdGlvbiA9IDA7CiAgICB3aGlsZSAocG9zaXRpb24gPCBmaWxlRGF0YS5ieXRlTGVuZ3RoKSB7CiAgICAgIGNvbnN0IGxlbmd0aCA9IE1hdGgubWluKGZpbGVEYXRhLmJ5dGVMZW5ndGggLSBwb3NpdGlvbiwgTUFYX1BBWUxPQURfU0laRSk7CiAgICAgIGNvbnN0IGNodW5rID0gbmV3IFVpbnQ4QXJyYXkoZmlsZURhdGEsIHBvc2l0aW9uLCBsZW5ndGgpOwogICAgICBwb3NpdGlvbiArPSBsZW5ndGg7CgogICAgICBjb25zdCBiYXNlNjQgPSBidG9hKFN0cmluZy5mcm9tQ2hhckNvZGUuYXBwbHkobnVsbCwgY2h1bmspKTsKICAgICAgeWllbGQgewogICAgICAgIHJlc3BvbnNlOiB7CiAgICAgICAgICBhY3Rpb246ICdhcHBlbmQnLAogICAgICAgICAgZmlsZTogZmlsZS5uYW1lLAogICAgICAgICAgZGF0YTogYmFzZTY0LAogICAgICAgIH0sCiAgICAgIH07CiAgICAgIHBlcmNlbnQudGV4dENvbnRlbnQgPQogICAgICAgICAgYCR7TWF0aC5yb3VuZCgocG9zaXRpb24gLyBmaWxlRGF0YS5ieXRlTGVuZ3RoKSAqIDEwMCl9JSBkb25lYDsKICAgIH0KICB9CgogIC8vIEFsbCBkb25lLgogIHlpZWxkIHsKICAgIHJlc3BvbnNlOiB7CiAgICAgIGFjdGlvbjogJ2NvbXBsZXRlJywKICAgIH0KICB9Owp9CgpzY29wZS5nb29nbGUgPSBzY29wZS5nb29nbGUgfHwge307CnNjb3BlLmdvb2dsZS5jb2xhYiA9IHNjb3BlLmdvb2dsZS5jb2xhYiB8fCB7fTsKc2NvcGUuZ29vZ2xlLmNvbGFiLl9maWxlcyA9IHsKICBfdXBsb2FkRmlsZXMsCiAgX3VwbG9hZEZpbGVzQ29udGludWUsCn07Cn0pKHNlbGYpOwo=",
              "ok": true,
              "headers": [
                [
                  "content-type",
                  "application/javascript"
                ]
              ],
              "status": 200,
              "status_text": ""
            }
          },
          "base_uri": "https://localhost:8080/",
          "height": 75
        },
        "outputId": "89f8a35f-7494-41f6-82cc-24bbd91be996"
      },
      "cell_type": "code",
      "source": [
        "from google.colab import files\n",
        "uploaded = files.upload()"
      ],
      "execution_count": 4,
      "outputs": [
        {
          "output_type": "display_data",
          "data": {
            "text/html": [
              "\n",
              "     <input type=\"file\" id=\"files-e95a48eb-4e08-4eed-bc1a-5dfa03203c14\" name=\"files[]\" multiple disabled />\n",
              "     <output id=\"result-e95a48eb-4e08-4eed-bc1a-5dfa03203c14\">\n",
              "      Upload widget is only available when the cell has been executed in the\n",
              "      current browser session. Please rerun this cell to enable.\n",
              "      </output>\n",
              "      <script src=\"/nbextensions/google.colab/files.js\"></script> "
            ],
            "text/plain": [
              "<IPython.core.display.HTML object>"
            ]
          },
          "metadata": {
            "tags": []
          }
        },
        {
          "output_type": "stream",
          "text": [
            "Saving GLB.Ts.csv to GLB.Ts.csv\n"
          ],
          "name": "stdout"
        }
      ]
    },
    {
      "metadata": {
        "id": "1QO7Tm4rS8_a",
        "colab_type": "text"
      },
      "cell_type": "markdown",
      "source": [
        "Here is the link to the Global Mean Temperature page on Nasas website: https://data.giss.nasa.gov/gistemp/\n",
        "\n",
        "Here is the link to the CSV file I used: https://data.giss.nasa.gov/gistemp/tabledata_v3/GLB.Ts+dSST.csv"
      ]
    },
    {
      "metadata": {
        "id": "6cTfmp9Ldxph",
        "colab_type": "code",
        "colab": {
          "base_uri": "https://localhost:8080/",
          "height": 204
        },
        "outputId": "df537d0f-ac76-4057-9505-ad712e3bed3c"
      },
      "cell_type": "code",
      "source": [
        "global_mean_temperature = pd.read_csv('GLB.Ts.csv', header=None, names=['Year', 'Jan', 'Feb', 'Mar', 'Apr', 'May', 'Jun', 'Jul', 'Aug', 'Sep', 'Oct', 'Nov', 'Dec', 'J_D', 'D_N', 'DJF', 'MAM', 'JJA', 'SON'], na_values=[\"?\"])\n",
        "global_mean_temperature.head()\n",
        "#We were able to load the data, but we need to get rid of the first two rows since they aren't useful and we also only need data for the years 2008 through 2018"
      ],
      "execution_count": 57,
      "outputs": [
        {
          "output_type": "execute_result",
          "data": {
            "text/html": [
              "<div>\n",
              "<style scoped>\n",
              "    .dataframe tbody tr th:only-of-type {\n",
              "        vertical-align: middle;\n",
              "    }\n",
              "\n",
              "    .dataframe tbody tr th {\n",
              "        vertical-align: top;\n",
              "    }\n",
              "\n",
              "    .dataframe thead th {\n",
              "        text-align: right;\n",
              "    }\n",
              "</style>\n",
              "<table border=\"1\" class=\"dataframe\">\n",
              "  <thead>\n",
              "    <tr style=\"text-align: right;\">\n",
              "      <th></th>\n",
              "      <th>Year</th>\n",
              "      <th>Jan</th>\n",
              "      <th>Feb</th>\n",
              "      <th>Mar</th>\n",
              "      <th>Apr</th>\n",
              "      <th>May</th>\n",
              "      <th>Jun</th>\n",
              "      <th>Jul</th>\n",
              "      <th>Aug</th>\n",
              "      <th>Sep</th>\n",
              "      <th>Oct</th>\n",
              "      <th>Nov</th>\n",
              "      <th>Dec</th>\n",
              "      <th>J_D</th>\n",
              "      <th>D_N</th>\n",
              "      <th>DJF</th>\n",
              "      <th>MAM</th>\n",
              "      <th>JJA</th>\n",
              "      <th>SON</th>\n",
              "    </tr>\n",
              "  </thead>\n",
              "  <tbody>\n",
              "    <tr>\n",
              "      <th>0</th>\n",
              "      <td>Station: Global Means</td>\n",
              "      <td>NaN</td>\n",
              "      <td>NaN</td>\n",
              "      <td>NaN</td>\n",
              "      <td>NaN</td>\n",
              "      <td>NaN</td>\n",
              "      <td>NaN</td>\n",
              "      <td>NaN</td>\n",
              "      <td>NaN</td>\n",
              "      <td>NaN</td>\n",
              "      <td>NaN</td>\n",
              "      <td>NaN</td>\n",
              "      <td>NaN</td>\n",
              "      <td>NaN</td>\n",
              "      <td>NaN</td>\n",
              "      <td>NaN</td>\n",
              "      <td>NaN</td>\n",
              "      <td>NaN</td>\n",
              "      <td>NaN</td>\n",
              "    </tr>\n",
              "    <tr>\n",
              "      <th>1</th>\n",
              "      <td>Year</td>\n",
              "      <td>Jan</td>\n",
              "      <td>Feb</td>\n",
              "      <td>Mar</td>\n",
              "      <td>Apr</td>\n",
              "      <td>May</td>\n",
              "      <td>Jun</td>\n",
              "      <td>Jul</td>\n",
              "      <td>Aug</td>\n",
              "      <td>Sep</td>\n",
              "      <td>Oct</td>\n",
              "      <td>Nov</td>\n",
              "      <td>Dec</td>\n",
              "      <td>J-D</td>\n",
              "      <td>D-N</td>\n",
              "      <td>DJF</td>\n",
              "      <td>MAM</td>\n",
              "      <td>JJA</td>\n",
              "      <td>SON</td>\n",
              "    </tr>\n",
              "    <tr>\n",
              "      <th>2</th>\n",
              "      <td>1880</td>\n",
              "      <td>-.85</td>\n",
              "      <td>-.42</td>\n",
              "      <td>-.49</td>\n",
              "      <td>-.68</td>\n",
              "      <td>-.38</td>\n",
              "      <td>-.50</td>\n",
              "      <td>-.49</td>\n",
              "      <td>.05</td>\n",
              "      <td>-.52</td>\n",
              "      <td>-.68</td>\n",
              "      <td>-.53</td>\n",
              "      <td>-.55</td>\n",
              "      <td>-.51</td>\n",
              "      <td>***</td>\n",
              "      <td>***</td>\n",
              "      <td>-.52</td>\n",
              "      <td>-.32</td>\n",
              "      <td>-.58</td>\n",
              "    </tr>\n",
              "    <tr>\n",
              "      <th>3</th>\n",
              "      <td>1881</td>\n",
              "      <td>-.81</td>\n",
              "      <td>-.64</td>\n",
              "      <td>-.38</td>\n",
              "      <td>-.29</td>\n",
              "      <td>-.06</td>\n",
              "      <td>-1.16</td>\n",
              "      <td>-.58</td>\n",
              "      <td>-.30</td>\n",
              "      <td>-.38</td>\n",
              "      <td>-.52</td>\n",
              "      <td>-.61</td>\n",
              "      <td>-.19</td>\n",
              "      <td>-.50</td>\n",
              "      <td>-.53</td>\n",
              "      <td>-.67</td>\n",
              "      <td>-.25</td>\n",
              "      <td>-.68</td>\n",
              "      <td>-.50</td>\n",
              "    </tr>\n",
              "    <tr>\n",
              "      <th>4</th>\n",
              "      <td>1882</td>\n",
              "      <td>.06</td>\n",
              "      <td>-.16</td>\n",
              "      <td>-.13</td>\n",
              "      <td>-.64</td>\n",
              "      <td>-.43</td>\n",
              "      <td>-1.07</td>\n",
              "      <td>-.76</td>\n",
              "      <td>-.17</td>\n",
              "      <td>-.13</td>\n",
              "      <td>-.36</td>\n",
              "      <td>-.44</td>\n",
              "      <td>-.72</td>\n",
              "      <td>-.41</td>\n",
              "      <td>-.37</td>\n",
              "      <td>-.10</td>\n",
              "      <td>-.40</td>\n",
              "      <td>-.67</td>\n",
              "      <td>-.31</td>\n",
              "    </tr>\n",
              "  </tbody>\n",
              "</table>\n",
              "</div>"
            ],
            "text/plain": [
              "                    Year   Jan   Feb   Mar   Apr   May    Jun   Jul   Aug  \\\n",
              "0  Station: Global Means   NaN   NaN   NaN   NaN   NaN    NaN   NaN   NaN   \n",
              "1                   Year   Jan   Feb   Mar   Apr   May    Jun   Jul   Aug   \n",
              "2                   1880  -.85  -.42  -.49  -.68  -.38   -.50  -.49   .05   \n",
              "3                   1881  -.81  -.64  -.38  -.29  -.06  -1.16  -.58  -.30   \n",
              "4                   1882   .06  -.16  -.13  -.64  -.43  -1.07  -.76  -.17   \n",
              "\n",
              "    Sep   Oct   Nov   Dec   J_D   D_N   DJF   MAM   JJA   SON  \n",
              "0   NaN   NaN   NaN   NaN   NaN   NaN   NaN   NaN   NaN   NaN  \n",
              "1   Sep   Oct   Nov   Dec   J-D   D-N   DJF   MAM   JJA   SON  \n",
              "2  -.52  -.68  -.53  -.55  -.51   ***   ***  -.52  -.32  -.58  \n",
              "3  -.38  -.52  -.61  -.19  -.50  -.53  -.67  -.25  -.68  -.50  \n",
              "4  -.13  -.36  -.44  -.72  -.41  -.37  -.10  -.40  -.67  -.31  "
            ]
          },
          "metadata": {
            "tags": []
          },
          "execution_count": 57
        }
      ]
    },
    {
      "metadata": {
        "id": "5FEKEA3ygMRb",
        "colab_type": "code",
        "colab": {
          "base_uri": "https://localhost:8080/",
          "height": 421
        },
        "outputId": "ccb6f64c-6227-4f27-8e66-154de160a1e3"
      },
      "cell_type": "code",
      "source": [
        "global_mean_temperature = global_mean_temperature.iloc[130:]\n",
        "global_mean_temperature\n",
        "#Now that we have the first two rows removed along with the other rows we will not be using, now we need to remove all uneccesary columns. All we want in the dataframe is the year, and the yearly mean (J_D) "
      ],
      "execution_count": 58,
      "outputs": [
        {
          "output_type": "execute_result",
          "data": {
            "text/html": [
              "<div>\n",
              "<style scoped>\n",
              "    .dataframe tbody tr th:only-of-type {\n",
              "        vertical-align: middle;\n",
              "    }\n",
              "\n",
              "    .dataframe tbody tr th {\n",
              "        vertical-align: top;\n",
              "    }\n",
              "\n",
              "    .dataframe thead th {\n",
              "        text-align: right;\n",
              "    }\n",
              "</style>\n",
              "<table border=\"1\" class=\"dataframe\">\n",
              "  <thead>\n",
              "    <tr style=\"text-align: right;\">\n",
              "      <th></th>\n",
              "      <th>Year</th>\n",
              "      <th>Jan</th>\n",
              "      <th>Feb</th>\n",
              "      <th>Mar</th>\n",
              "      <th>Apr</th>\n",
              "      <th>May</th>\n",
              "      <th>Jun</th>\n",
              "      <th>Jul</th>\n",
              "      <th>Aug</th>\n",
              "      <th>Sep</th>\n",
              "      <th>Oct</th>\n",
              "      <th>Nov</th>\n",
              "      <th>Dec</th>\n",
              "      <th>J_D</th>\n",
              "      <th>D_N</th>\n",
              "      <th>DJF</th>\n",
              "      <th>MAM</th>\n",
              "      <th>JJA</th>\n",
              "      <th>SON</th>\n",
              "    </tr>\n",
              "  </thead>\n",
              "  <tbody>\n",
              "    <tr>\n",
              "      <th>130</th>\n",
              "      <td>2008</td>\n",
              "      <td>.47</td>\n",
              "      <td>.44</td>\n",
              "      <td>.89</td>\n",
              "      <td>.65</td>\n",
              "      <td>.55</td>\n",
              "      <td>.50</td>\n",
              "      <td>.73</td>\n",
              "      <td>.40</td>\n",
              "      <td>.81</td>\n",
              "      <td>.73</td>\n",
              "      <td>.80</td>\n",
              "      <td>.72</td>\n",
              "      <td>.64</td>\n",
              "      <td>.64</td>\n",
              "      <td>.54</td>\n",
              "      <td>.70</td>\n",
              "      <td>.55</td>\n",
              "      <td>.78</td>\n",
              "    </tr>\n",
              "    <tr>\n",
              "      <th>131</th>\n",
              "      <td>2009</td>\n",
              "      <td>.74</td>\n",
              "      <td>.74</td>\n",
              "      <td>.65</td>\n",
              "      <td>.74</td>\n",
              "      <td>.83</td>\n",
              "      <td>.80</td>\n",
              "      <td>.86</td>\n",
              "      <td>.85</td>\n",
              "      <td>.88</td>\n",
              "      <td>.71</td>\n",
              "      <td>.83</td>\n",
              "      <td>.75</td>\n",
              "      <td>.78</td>\n",
              "      <td>.78</td>\n",
              "      <td>.73</td>\n",
              "      <td>.74</td>\n",
              "      <td>.84</td>\n",
              "      <td>.81</td>\n",
              "    </tr>\n",
              "    <tr>\n",
              "      <th>132</th>\n",
              "      <td>2010</td>\n",
              "      <td>.95</td>\n",
              "      <td>1.03</td>\n",
              "      <td>1.10</td>\n",
              "      <td>.98</td>\n",
              "      <td>.96</td>\n",
              "      <td>.83</td>\n",
              "      <td>.72</td>\n",
              "      <td>.81</td>\n",
              "      <td>.85</td>\n",
              "      <td>.93</td>\n",
              "      <td>1.00</td>\n",
              "      <td>.68</td>\n",
              "      <td>.90</td>\n",
              "      <td>.91</td>\n",
              "      <td>.91</td>\n",
              "      <td>1.01</td>\n",
              "      <td>.79</td>\n",
              "      <td>.93</td>\n",
              "    </tr>\n",
              "    <tr>\n",
              "      <th>133</th>\n",
              "      <td>2011</td>\n",
              "      <td>.70</td>\n",
              "      <td>.67</td>\n",
              "      <td>.75</td>\n",
              "      <td>.81</td>\n",
              "      <td>.64</td>\n",
              "      <td>.73</td>\n",
              "      <td>.89</td>\n",
              "      <td>.96</td>\n",
              "      <td>.77</td>\n",
              "      <td>.83</td>\n",
              "      <td>.78</td>\n",
              "      <td>.80</td>\n",
              "      <td>.78</td>\n",
              "      <td>.77</td>\n",
              "      <td>.69</td>\n",
              "      <td>.73</td>\n",
              "      <td>.86</td>\n",
              "      <td>.79</td>\n",
              "    </tr>\n",
              "    <tr>\n",
              "      <th>134</th>\n",
              "      <td>2012</td>\n",
              "      <td>.61</td>\n",
              "      <td>.57</td>\n",
              "      <td>.69</td>\n",
              "      <td>.78</td>\n",
              "      <td>.93</td>\n",
              "      <td>.71</td>\n",
              "      <td>.55</td>\n",
              "      <td>.86</td>\n",
              "      <td>.88</td>\n",
              "      <td>.91</td>\n",
              "      <td>.92</td>\n",
              "      <td>.71</td>\n",
              "      <td>.76</td>\n",
              "      <td>.77</td>\n",
              "      <td>.66</td>\n",
              "      <td>.80</td>\n",
              "      <td>.71</td>\n",
              "      <td>.91</td>\n",
              "    </tr>\n",
              "    <tr>\n",
              "      <th>135</th>\n",
              "      <td>2013</td>\n",
              "      <td>.97</td>\n",
              "      <td>.73</td>\n",
              "      <td>.84</td>\n",
              "      <td>.66</td>\n",
              "      <td>.65</td>\n",
              "      <td>.87</td>\n",
              "      <td>.66</td>\n",
              "      <td>.79</td>\n",
              "      <td>1.01</td>\n",
              "      <td>.84</td>\n",
              "      <td>.88</td>\n",
              "      <td>.82</td>\n",
              "      <td>.81</td>\n",
              "      <td>.80</td>\n",
              "      <td>.80</td>\n",
              "      <td>.72</td>\n",
              "      <td>.77</td>\n",
              "      <td>.91</td>\n",
              "    </tr>\n",
              "    <tr>\n",
              "      <th>136</th>\n",
              "      <td>2014</td>\n",
              "      <td>.94</td>\n",
              "      <td>.63</td>\n",
              "      <td>.75</td>\n",
              "      <td>.87</td>\n",
              "      <td>1.04</td>\n",
              "      <td>.77</td>\n",
              "      <td>.71</td>\n",
              "      <td>.85</td>\n",
              "      <td>1.09</td>\n",
              "      <td>1.01</td>\n",
              "      <td>.80</td>\n",
              "      <td>.97</td>\n",
              "      <td>.87</td>\n",
              "      <td>.86</td>\n",
              "      <td>.80</td>\n",
              "      <td>.89</td>\n",
              "      <td>.77</td>\n",
              "      <td>.97</td>\n",
              "    </tr>\n",
              "    <tr>\n",
              "      <th>137</th>\n",
              "      <td>2015</td>\n",
              "      <td>.94</td>\n",
              "      <td>1.07</td>\n",
              "      <td>1.10</td>\n",
              "      <td>.78</td>\n",
              "      <td>.84</td>\n",
              "      <td>.84</td>\n",
              "      <td>.70</td>\n",
              "      <td>.87</td>\n",
              "      <td>.80</td>\n",
              "      <td>1.19</td>\n",
              "      <td>1.19</td>\n",
              "      <td>1.38</td>\n",
              "      <td>.97</td>\n",
              "      <td>.94</td>\n",
              "      <td>.99</td>\n",
              "      <td>.90</td>\n",
              "      <td>.80</td>\n",
              "      <td>1.06</td>\n",
              "    </tr>\n",
              "    <tr>\n",
              "      <th>138</th>\n",
              "      <td>2016</td>\n",
              "      <td>1.36</td>\n",
              "      <td>1.64</td>\n",
              "      <td>1.63</td>\n",
              "      <td>1.35</td>\n",
              "      <td>1.14</td>\n",
              "      <td>.89</td>\n",
              "      <td>.96</td>\n",
              "      <td>1.32</td>\n",
              "      <td>1.10</td>\n",
              "      <td>1.22</td>\n",
              "      <td>1.20</td>\n",
              "      <td>1.14</td>\n",
              "      <td>1.25</td>\n",
              "      <td>1.27</td>\n",
              "      <td>1.46</td>\n",
              "      <td>1.37</td>\n",
              "      <td>1.06</td>\n",
              "      <td>1.18</td>\n",
              "    </tr>\n",
              "    <tr>\n",
              "      <th>139</th>\n",
              "      <td>2017</td>\n",
              "      <td>1.14</td>\n",
              "      <td>1.42</td>\n",
              "      <td>1.37</td>\n",
              "      <td>1.16</td>\n",
              "      <td>1.23</td>\n",
              "      <td>.78</td>\n",
              "      <td>1.08</td>\n",
              "      <td>1.11</td>\n",
              "      <td>.97</td>\n",
              "      <td>1.17</td>\n",
              "      <td>1.06</td>\n",
              "      <td>1.16</td>\n",
              "      <td>1.14</td>\n",
              "      <td>1.14</td>\n",
              "      <td>1.23</td>\n",
              "      <td>1.25</td>\n",
              "      <td>.99</td>\n",
              "      <td>1.07</td>\n",
              "    </tr>\n",
              "    <tr>\n",
              "      <th>140</th>\n",
              "      <td>2018</td>\n",
              "      <td>1.03</td>\n",
              "      <td>1.15</td>\n",
              "      <td>1.21</td>\n",
              "      <td>1.20</td>\n",
              "      <td>1.01</td>\n",
              "      <td>.87</td>\n",
              "      <td>1.07</td>\n",
              "      <td>.91</td>\n",
              "      <td>.90</td>\n",
              "      <td>1.12</td>\n",
              "      <td>.98</td>\n",
              "      <td>1.22</td>\n",
              "      <td>1.06</td>\n",
              "      <td>1.05</td>\n",
              "      <td>1.11</td>\n",
              "      <td>1.14</td>\n",
              "      <td>.95</td>\n",
              "      <td>1.00</td>\n",
              "    </tr>\n",
              "    <tr>\n",
              "      <th>141</th>\n",
              "      <td>2019</td>\n",
              "      <td>1.09</td>\n",
              "      <td>1.17</td>\n",
              "      <td>1.39</td>\n",
              "      <td>***</td>\n",
              "      <td>***</td>\n",
              "      <td>***</td>\n",
              "      <td>***</td>\n",
              "      <td>***</td>\n",
              "      <td>***</td>\n",
              "      <td>***</td>\n",
              "      <td>***</td>\n",
              "      <td>***</td>\n",
              "      <td>***</td>\n",
              "      <td>***</td>\n",
              "      <td>1.16</td>\n",
              "      <td>***</td>\n",
              "      <td>***</td>\n",
              "      <td>***</td>\n",
              "    </tr>\n",
              "  </tbody>\n",
              "</table>\n",
              "</div>"
            ],
            "text/plain": [
              "     Year   Jan   Feb   Mar   Apr   May  Jun   Jul   Aug   Sep   Oct   Nov  \\\n",
              "130  2008   .47   .44   .89   .65   .55  .50   .73   .40   .81   .73   .80   \n",
              "131  2009   .74   .74   .65   .74   .83  .80   .86   .85   .88   .71   .83   \n",
              "132  2010   .95  1.03  1.10   .98   .96  .83   .72   .81   .85   .93  1.00   \n",
              "133  2011   .70   .67   .75   .81   .64  .73   .89   .96   .77   .83   .78   \n",
              "134  2012   .61   .57   .69   .78   .93  .71   .55   .86   .88   .91   .92   \n",
              "135  2013   .97   .73   .84   .66   .65  .87   .66   .79  1.01   .84   .88   \n",
              "136  2014   .94   .63   .75   .87  1.04  .77   .71   .85  1.09  1.01   .80   \n",
              "137  2015   .94  1.07  1.10   .78   .84  .84   .70   .87   .80  1.19  1.19   \n",
              "138  2016  1.36  1.64  1.63  1.35  1.14  .89   .96  1.32  1.10  1.22  1.20   \n",
              "139  2017  1.14  1.42  1.37  1.16  1.23  .78  1.08  1.11   .97  1.17  1.06   \n",
              "140  2018  1.03  1.15  1.21  1.20  1.01  .87  1.07   .91   .90  1.12   .98   \n",
              "141  2019  1.09  1.17  1.39   ***   ***  ***   ***   ***   ***   ***   ***   \n",
              "\n",
              "      Dec   J_D   D_N   DJF   MAM   JJA   SON  \n",
              "130   .72   .64   .64   .54   .70   .55   .78  \n",
              "131   .75   .78   .78   .73   .74   .84   .81  \n",
              "132   .68   .90   .91   .91  1.01   .79   .93  \n",
              "133   .80   .78   .77   .69   .73   .86   .79  \n",
              "134   .71   .76   .77   .66   .80   .71   .91  \n",
              "135   .82   .81   .80   .80   .72   .77   .91  \n",
              "136   .97   .87   .86   .80   .89   .77   .97  \n",
              "137  1.38   .97   .94   .99   .90   .80  1.06  \n",
              "138  1.14  1.25  1.27  1.46  1.37  1.06  1.18  \n",
              "139  1.16  1.14  1.14  1.23  1.25   .99  1.07  \n",
              "140  1.22  1.06  1.05  1.11  1.14   .95  1.00  \n",
              "141   ***   ***   ***  1.16   ***   ***   ***  "
            ]
          },
          "metadata": {
            "tags": []
          },
          "execution_count": 58
        }
      ]
    },
    {
      "metadata": {
        "id": "Pi1m7VKXOmag",
        "colab_type": "code",
        "colab": {
          "base_uri": "https://localhost:8080/",
          "height": 390
        },
        "outputId": "c6152765-405d-4f92-f1fc-0983f338e20b"
      },
      "cell_type": "code",
      "source": [
        "#global_mean_temperature.drop(columns=['Jan', 'Feb', 'Mar', 'Apr', 'May', 'Jun', 'Jul', 'Aug', 'Sep', 'Oct', 'Nov', 'Dec', 'D_N', 'DJF', 'MAM', 'JJA', 'SON'])\n",
        "#del global_mean_temperature['Jan', 'Feb', 'Mar', 'Apr', 'May', 'Jun', 'Jul', 'Aug', 'Sep', 'Oct', 'Nov', 'Dec', 'D_N', 'DJF', 'MAM', 'JJA', 'SON']\n",
        "#global_mean_temperature.head()\n",
        "global_mean_temperature = pd.DataFrame(\n",
        "    {\n",
        "        \"Year\": [2008,2009,2010,2011,2012,2013,2014,2015,2016,2017,2018],\n",
        "        \"Temperature_Mean\": [.64,.78,.90,.78,.76,.81,.87,.97,1.25,1.14,1.06]\n",
        "    }\n",
        ")\n",
        "global_mean_temperature"
      ],
      "execution_count": 59,
      "outputs": [
        {
          "output_type": "execute_result",
          "data": {
            "text/html": [
              "<div>\n",
              "<style scoped>\n",
              "    .dataframe tbody tr th:only-of-type {\n",
              "        vertical-align: middle;\n",
              "    }\n",
              "\n",
              "    .dataframe tbody tr th {\n",
              "        vertical-align: top;\n",
              "    }\n",
              "\n",
              "    .dataframe thead th {\n",
              "        text-align: right;\n",
              "    }\n",
              "</style>\n",
              "<table border=\"1\" class=\"dataframe\">\n",
              "  <thead>\n",
              "    <tr style=\"text-align: right;\">\n",
              "      <th></th>\n",
              "      <th>Year</th>\n",
              "      <th>Temperature_Mean</th>\n",
              "    </tr>\n",
              "  </thead>\n",
              "  <tbody>\n",
              "    <tr>\n",
              "      <th>0</th>\n",
              "      <td>2008</td>\n",
              "      <td>0.64</td>\n",
              "    </tr>\n",
              "    <tr>\n",
              "      <th>1</th>\n",
              "      <td>2009</td>\n",
              "      <td>0.78</td>\n",
              "    </tr>\n",
              "    <tr>\n",
              "      <th>2</th>\n",
              "      <td>2010</td>\n",
              "      <td>0.90</td>\n",
              "    </tr>\n",
              "    <tr>\n",
              "      <th>3</th>\n",
              "      <td>2011</td>\n",
              "      <td>0.78</td>\n",
              "    </tr>\n",
              "    <tr>\n",
              "      <th>4</th>\n",
              "      <td>2012</td>\n",
              "      <td>0.76</td>\n",
              "    </tr>\n",
              "    <tr>\n",
              "      <th>5</th>\n",
              "      <td>2013</td>\n",
              "      <td>0.81</td>\n",
              "    </tr>\n",
              "    <tr>\n",
              "      <th>6</th>\n",
              "      <td>2014</td>\n",
              "      <td>0.87</td>\n",
              "    </tr>\n",
              "    <tr>\n",
              "      <th>7</th>\n",
              "      <td>2015</td>\n",
              "      <td>0.97</td>\n",
              "    </tr>\n",
              "    <tr>\n",
              "      <th>8</th>\n",
              "      <td>2016</td>\n",
              "      <td>1.25</td>\n",
              "    </tr>\n",
              "    <tr>\n",
              "      <th>9</th>\n",
              "      <td>2017</td>\n",
              "      <td>1.14</td>\n",
              "    </tr>\n",
              "    <tr>\n",
              "      <th>10</th>\n",
              "      <td>2018</td>\n",
              "      <td>1.06</td>\n",
              "    </tr>\n",
              "  </tbody>\n",
              "</table>\n",
              "</div>"
            ],
            "text/plain": [
              "    Year  Temperature_Mean\n",
              "0   2008              0.64\n",
              "1   2009              0.78\n",
              "2   2010              0.90\n",
              "3   2011              0.78\n",
              "4   2012              0.76\n",
              "5   2013              0.81\n",
              "6   2014              0.87\n",
              "7   2015              0.97\n",
              "8   2016              1.25\n",
              "9   2017              1.14\n",
              "10  2018              1.06"
            ]
          },
          "metadata": {
            "tags": []
          },
          "execution_count": 59
        }
      ]
    },
    {
      "metadata": {
        "id": "6zGMLXtFe1Hn",
        "colab_type": "code",
        "colab": {
          "base_uri": "https://localhost:8080/",
          "height": 386
        },
        "outputId": "e7d658ea-dc58-4af9-ae3d-017ba4bcb39c"
      },
      "cell_type": "code",
      "source": [
        "sns.relplot('Year','Temperature_Mean', data=global_mean_temperature, alpha=1.0)"
      ],
      "execution_count": 60,
      "outputs": [
        {
          "output_type": "execute_result",
          "data": {
            "text/plain": [
              "<seaborn.axisgrid.FacetGrid at 0x7fc98d5a5320>"
            ]
          },
          "metadata": {
            "tags": []
          },
          "execution_count": 60
        },
        {
          "output_type": "display_data",
          "data": {
            "image/png": "[encoded data removed]",
            "text/plain": [
              "<Figure size 360x360 with 1 Axes>"
            ]
          },
          "metadata": {
            "tags": []
          }
        }
      ]
    },
    {
      "metadata": {
        "id": "CAVXqF6_VkmO",
        "colab_type": "text"
      },
      "cell_type": "markdown",
      "source": [
        "As you can see the global mean temperature has been steadily increasing, but in 2017 in began to decrease!"
      ]
    },
    {
      "metadata": {
        "id": "CYVcvxVgZbU1",
        "colab_type": "code",
        "colab": {
          "base_uri": "https://localhost:8080/",
          "height": 390
        },
        "outputId": "94a5a74c-aa9c-49c7-83bf-fb4137c0ea90"
      },
      "cell_type": "code",
      "source": [
        "global_mean_carbon = pd.DataFrame(\n",
        "    {\n",
        "        \"Year\": [2008,2009,2010,2011,2012,2013,2014,2015,2016,2017,2018],\n",
        "        \"Carbon_Mean\": [384.78,386.29,388.57,390.45,392.46,395.19,397.12,399.41,402.86,405.00,407.40]\n",
        "    }\n",
        ")\n",
        "global_mean_carbon"
      ],
      "execution_count": 61,
      "outputs": [
        {
          "output_type": "execute_result",
          "data": {
            "text/html": [
              "<div>\n",
              "<style scoped>\n",
              "    .dataframe tbody tr th:only-of-type {\n",
              "        vertical-align: middle;\n",
              "    }\n",
              "\n",
              "    .dataframe tbody tr th {\n",
              "        vertical-align: top;\n",
              "    }\n",
              "\n",
              "    .dataframe thead th {\n",
              "        text-align: right;\n",
              "    }\n",
              "</style>\n",
              "<table border=\"1\" class=\"dataframe\">\n",
              "  <thead>\n",
              "    <tr style=\"text-align: right;\">\n",
              "      <th></th>\n",
              "      <th>Year</th>\n",
              "      <th>Carbon_Mean</th>\n",
              "    </tr>\n",
              "  </thead>\n",
              "  <tbody>\n",
              "    <tr>\n",
              "      <th>0</th>\n",
              "      <td>2008</td>\n",
              "      <td>384.78</td>\n",
              "    </tr>\n",
              "    <tr>\n",
              "      <th>1</th>\n",
              "      <td>2009</td>\n",
              "      <td>386.29</td>\n",
              "    </tr>\n",
              "    <tr>\n",
              "      <th>2</th>\n",
              "      <td>2010</td>\n",
              "      <td>388.57</td>\n",
              "    </tr>\n",
              "    <tr>\n",
              "      <th>3</th>\n",
              "      <td>2011</td>\n",
              "      <td>390.45</td>\n",
              "    </tr>\n",
              "    <tr>\n",
              "      <th>4</th>\n",
              "      <td>2012</td>\n",
              "      <td>392.46</td>\n",
              "    </tr>\n",
              "    <tr>\n",
              "      <th>5</th>\n",
              "      <td>2013</td>\n",
              "      <td>395.19</td>\n",
              "    </tr>\n",
              "    <tr>\n",
              "      <th>6</th>\n",
              "      <td>2014</td>\n",
              "      <td>397.12</td>\n",
              "    </tr>\n",
              "    <tr>\n",
              "      <th>7</th>\n",
              "      <td>2015</td>\n",
              "      <td>399.41</td>\n",
              "    </tr>\n",
              "    <tr>\n",
              "      <th>8</th>\n",
              "      <td>2016</td>\n",
              "      <td>402.86</td>\n",
              "    </tr>\n",
              "    <tr>\n",
              "      <th>9</th>\n",
              "      <td>2017</td>\n",
              "      <td>405.00</td>\n",
              "    </tr>\n",
              "    <tr>\n",
              "      <th>10</th>\n",
              "      <td>2018</td>\n",
              "      <td>407.40</td>\n",
              "    </tr>\n",
              "  </tbody>\n",
              "</table>\n",
              "</div>"
            ],
            "text/plain": [
              "    Year  Carbon_Mean\n",
              "0   2008       384.78\n",
              "1   2009       386.29\n",
              "2   2010       388.57\n",
              "3   2011       390.45\n",
              "4   2012       392.46\n",
              "5   2013       395.19\n",
              "6   2014       397.12\n",
              "7   2015       399.41\n",
              "8   2016       402.86\n",
              "9   2017       405.00\n",
              "10  2018       407.40"
            ]
          },
          "metadata": {
            "tags": []
          },
          "execution_count": 61
        }
      ]
    },
    {
      "metadata": {
        "id": "IVds69Z5eYUd",
        "colab_type": "code",
        "colab": {
          "base_uri": "https://localhost:8080/",
          "height": 386
        },
        "outputId": "a0bdd4b9-d6dc-4cce-951d-1e93b7326565"
      },
      "cell_type": "code",
      "source": [
        "sns.relplot('Year','Carbon_Mean', data=global_mean_carbon, alpha=1.0)"
      ],
      "execution_count": 62,
      "outputs": [
        {
          "output_type": "execute_result",
          "data": {
            "text/plain": [
              "<seaborn.axisgrid.FacetGrid at 0x7fc98b127160>"
            ]
          },
          "metadata": {
            "tags": []
          },
          "execution_count": 62
        },
        {
          "output_type": "display_data",
          "data": {
            "image/png": "[encoded data removed]",
            "text/plain": [
              "<Figure size 360x360 with 1 Axes>"
            ]
          },
          "metadata": {
            "tags": []
          }
        }
      ]
    },
    {
      "metadata": {
        "id": "5vMSMu9qggYG",
        "colab_type": "code",
        "colab": {
          "base_uri": "https://localhost:8080/",
          "height": 390
        },
        "outputId": "7d3a243b-3a0d-4ae9-fbb8-005822e1e6b8"
      },
      "cell_type": "code",
      "source": [
        "global_mean_carbon_and_temperature = pd.DataFrame(\n",
        "    {\n",
        "        \"Year\": [2008,2009,2010,2011,2012,2013,2014,2015,2016,2017,2018],\n",
        "        \"Carbon_Mean\": [384.78,386.29,388.57,390.45,392.46,395.19,397.12,399.41,402.86,405.00,407.40],\n",
        "        \"Temperature_Mean\": [.64,.78,.90,.78,.76,.81,.87,.97,1.25,1.14,1.06]\n",
        "    }\n",
        ")\n",
        "global_mean_carbon_and_temperature"
      ],
      "execution_count": 63,
      "outputs": [
        {
          "output_type": "execute_result",
          "data": {
            "text/html": [
              "<div>\n",
              "<style scoped>\n",
              "    .dataframe tbody tr th:only-of-type {\n",
              "        vertical-align: middle;\n",
              "    }\n",
              "\n",
              "    .dataframe tbody tr th {\n",
              "        vertical-align: top;\n",
              "    }\n",
              "\n",
              "    .dataframe thead th {\n",
              "        text-align: right;\n",
              "    }\n",
              "</style>\n",
              "<table border=\"1\" class=\"dataframe\">\n",
              "  <thead>\n",
              "    <tr style=\"text-align: right;\">\n",
              "      <th></th>\n",
              "      <th>Year</th>\n",
              "      <th>Carbon_Mean</th>\n",
              "      <th>Temperature_Mean</th>\n",
              "    </tr>\n",
              "  </thead>\n",
              "  <tbody>\n",
              "    <tr>\n",
              "      <th>0</th>\n",
              "      <td>2008</td>\n",
              "      <td>384.78</td>\n",
              "      <td>0.64</td>\n",
              "    </tr>\n",
              "    <tr>\n",
              "      <th>1</th>\n",
              "      <td>2009</td>\n",
              "      <td>386.29</td>\n",
              "      <td>0.78</td>\n",
              "    </tr>\n",
              "    <tr>\n",
              "      <th>2</th>\n",
              "      <td>2010</td>\n",
              "      <td>388.57</td>\n",
              "      <td>0.90</td>\n",
              "    </tr>\n",
              "    <tr>\n",
              "      <th>3</th>\n",
              "      <td>2011</td>\n",
              "      <td>390.45</td>\n",
              "      <td>0.78</td>\n",
              "    </tr>\n",
              "    <tr>\n",
              "      <th>4</th>\n",
              "      <td>2012</td>\n",
              "      <td>392.46</td>\n",
              "      <td>0.76</td>\n",
              "    </tr>\n",
              "    <tr>\n",
              "      <th>5</th>\n",
              "      <td>2013</td>\n",
              "      <td>395.19</td>\n",
              "      <td>0.81</td>\n",
              "    </tr>\n",
              "    <tr>\n",
              "      <th>6</th>\n",
              "      <td>2014</td>\n",
              "      <td>397.12</td>\n",
              "      <td>0.87</td>\n",
              "    </tr>\n",
              "    <tr>\n",
              "      <th>7</th>\n",
              "      <td>2015</td>\n",
              "      <td>399.41</td>\n",
              "      <td>0.97</td>\n",
              "    </tr>\n",
              "    <tr>\n",
              "      <th>8</th>\n",
              "      <td>2016</td>\n",
              "      <td>402.86</td>\n",
              "      <td>1.25</td>\n",
              "    </tr>\n",
              "    <tr>\n",
              "      <th>9</th>\n",
              "      <td>2017</td>\n",
              "      <td>405.00</td>\n",
              "      <td>1.14</td>\n",
              "    </tr>\n",
              "    <tr>\n",
              "      <th>10</th>\n",
              "      <td>2018</td>\n",
              "      <td>407.40</td>\n",
              "      <td>1.06</td>\n",
              "    </tr>\n",
              "  </tbody>\n",
              "</table>\n",
              "</div>"
            ],
            "text/plain": [
              "    Year  Carbon_Mean  Temperature_Mean\n",
              "0   2008       384.78              0.64\n",
              "1   2009       386.29              0.78\n",
              "2   2010       388.57              0.90\n",
              "3   2011       390.45              0.78\n",
              "4   2012       392.46              0.76\n",
              "5   2013       395.19              0.81\n",
              "6   2014       397.12              0.87\n",
              "7   2015       399.41              0.97\n",
              "8   2016       402.86              1.25\n",
              "9   2017       405.00              1.14\n",
              "10  2018       407.40              1.06"
            ]
          },
          "metadata": {
            "tags": []
          },
          "execution_count": 63
        }
      ]
    },
    {
      "metadata": {
        "id": "7RNwqkMwjA_g",
        "colab_type": "code",
        "colab": {
          "base_uri": "https://localhost:8080/",
          "height": 386
        },
        "outputId": "f3c36882-35bb-489b-e2ac-a3c2cffdb8a1"
      },
      "cell_type": "code",
      "source": [
        "sns.relplot('Carbon_Mean','Temperature_Mean', data=global_mean_carbon_and_temperature, alpha=1.0)"
      ],
      "execution_count": 64,
      "outputs": [
        {
          "output_type": "execute_result",
          "data": {
            "text/plain": [
              "<seaborn.axisgrid.FacetGrid at 0x7fc98b0b3fd0>"
            ]
          },
          "metadata": {
            "tags": []
          },
          "execution_count": 64
        },
        {
          "output_type": "display_data",
          "data": {
            "image/png": "[encoded data removed]",
            "text/plain": [
              "<Figure size 360x360 with 1 Axes>"
            ]
          },
          "metadata": {
            "tags": []
          }
        }
      ]
    },
    {
      "metadata": {
        "id": "dyz82t7tjJMH",
        "colab_type": "code",
        "colab": {
          "base_uri": "https://localhost:8080/",
          "height": 386
        },
        "outputId": "92507f31-a722-4048-ee21-e61bdce8bda0"
      },
      "cell_type": "code",
      "source": [
        "sns.relplot('Temperature_Mean','Carbon_Mean', data=global_mean_carbon_and_temperature, alpha=1.0)"
      ],
      "execution_count": 65,
      "outputs": [
        {
          "output_type": "execute_result",
          "data": {
            "text/plain": [
              "<seaborn.axisgrid.FacetGrid at 0x7fc98b010828>"
            ]
          },
          "metadata": {
            "tags": []
          },
          "execution_count": 65
        },
        {
          "output_type": "display_data",
          "data": {
            "image/png": "[encoded data removed]",
            "text/plain": [
              "<Figure size 360x360 with 1 Axes>"
            ]
          },
          "metadata": {
            "tags": []
          }
        }
      ]
    }
  ]
}