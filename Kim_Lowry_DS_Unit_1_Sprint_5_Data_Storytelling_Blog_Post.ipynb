{
  "nbformat": 4,
  "nbformat_minor": 0,
  "metadata": {
    "colab": {
      "name": "Kim_Lowry_DS-Unit-1-Sprint-5-Data-Storytelling-Blog-Post.ipynb",
      "version": "0.3.2",
      "provenance": [],
      "collapsed_sections": [],
      "include_colab_link": true
    },
    "kernelspec": {
      "name": "python3",
      "display_name": "Python 3"
    }
  },
  "cells": [
    {
      "cell_type": "markdown",
      "metadata": {
        "id": "view-in-github",
        "colab_type": "text"
      },
      "source": [
        "<a href=\"https://colab.research.google.com/github/hBar2013/DS-Unit-1-Sprint-5-Data-Storytelling-Blog-Post/blob/master/Kim_Lowry_DS_Unit_1_Sprint_5_Data_Storytelling_Blog_Post.ipynb\" target=\"_parent\"><img src=\"https://colab.research.google.com/assets/colab-badge.svg\" alt=\"Open In Colab\"/></a>"
      ]
    },
    {
      "cell_type": "markdown",
      "metadata": {
        "id": "CJv86bkrNX4t",
        "colab_type": "text"
      },
      "source": [
        "##PROJECT DESCRIPTION\n",
        "\n",
        "I will examine the trends and impact to climate change in land use changes from 1990 to 2014 in a series of data vizualiztions using data from the World Resource Institute's CAIT dataset, Global Forest Watch, and the UN's FAOSTAT Food and Agriculture datasets. The project will be structured as follows:\n",
        "\n",
        "Section 1:  Deforestation trends and overall impact to CO2 emmissions\n",
        "\n",
        "a. Map the overall trend in deforestation over time and the estimated average carbon release associated with that loss.\n",
        "b. Map the average carbon sink loss year-on-year associated with the deforestation\n",
        "\n",
        "Section 2: What's driving deforestation?\n",
        "a. for the same period map the land use change sectors by percentage of deforestation over time\n",
        "\n",
        "Section 3: Deep dive into one land use change sector. What are the additional sector impacts to all GHG emmissions \n",
        "a. deep dive into the top sectors (accounting for the largest percentage of deforestation)"
      ]
    }
  ]
}