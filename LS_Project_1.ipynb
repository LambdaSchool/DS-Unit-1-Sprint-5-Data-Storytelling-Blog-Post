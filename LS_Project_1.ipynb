{
  "nbformat": 4,
  "nbformat_minor": 0,
  "metadata": {
    "colab": {
      "name": "LS Project 1.ipynb",
      "version": "0.3.2",
      "provenance": [],
      "collapsed_sections": [],
      "include_colab_link": true
    },
    "kernelspec": {
      "name": "python3",
      "display_name": "Python 3"
    }
  },
  "cells": [
    {
      "cell_type": "markdown",
      "metadata": {
        "id": "view-in-github",
        "colab_type": "text"
      },
      "source": [
        "<a href=\"https://colab.research.google.com/github/ElisabethShah/DS-Unit-1-Sprint-5-Data-Storytelling-Blog-Post/blob/master/LS_Project_1.ipynb\" target=\"_parent\"><img src=\"https://colab.research.google.com/assets/colab-badge.svg\" alt=\"Open In Colab\"/></a>"
      ]
    },
    {
      "cell_type": "code",
      "metadata": {
        "id": "olNDcN71r1rk",
        "colab_type": "code",
        "outputId": "051028d3-37c3-4ff1-b017-d98c2cc142db",
        "colab": {
          "base_uri": "https://localhost:8080/",
          "height": 54
        }
      },
      "source": [
        "!pip install us"
      ],
      "execution_count": 1,
      "outputs": [
        {
          "output_type": "stream",
          "text": [
            "Requirement already satisfied: us in /usr/local/lib/python3.6/dist-packages (1.0.0)\n",
            "Requirement already satisfied: jellyfish==0.5.6 in /usr/local/lib/python3.6/dist-packages (from us) (0.5.6)\n"
          ],
          "name": "stdout"
        }
      ]
    },
    {
      "cell_type": "code",
      "metadata": {
        "id": "T0FTASX2MLCN",
        "colab_type": "code",
        "colab": {}
      },
      "source": [
        "import matplotlib.pyplot as plt\n",
        "import numpy as np\n",
        "import pandas as pd\n",
        "import plotly\n",
        "import plotly.plotly as py\n",
        "import plotly.graph_objs as go\n",
        "import seaborn as sns\n",
        "from scipy.stats import ttest_ind\n",
        "import re\n",
        "import us"
      ],
      "execution_count": 0,
      "outputs": []
    },
    {
      "cell_type": "code",
      "metadata": {
        "id": "aM-t-4CSTGg4",
        "colab_type": "code",
        "colab": {}
      },
      "source": [
        "plotly.tools.set_credentials_file(username='elisabethdawn', api_key='UdLMj8B6qByw1MXxyCnM')"
      ],
      "execution_count": 0,
      "outputs": []
    },
    {
      "cell_type": "code",
      "metadata": {
        "id": "XbppbpbyHsAw",
        "colab_type": "code",
        "colab": {}
      },
      "source": [
        "congress = pd.read_csv('https://raw.githubusercontent.com/ElisabethShah/'\n",
        "                       'DS-Unit-1-Sprint-5-Data-Storytelling-Blog-Post/master/'\n",
        "                       'data/PersonalWealth2013', \n",
        "                       header=0,\n",
        "                       usecols=[0, 1, 2, 3, 4, 5],\n",
        "                       names=['name', 'chamber', 'party', 'min_net_worth', \n",
        "                              'avg_net_worth', 'max_net_worth'])"
      ],
      "execution_count": 0,
      "outputs": []
    },
    {
      "cell_type": "code",
      "metadata": {
        "id": "n1CA1FiCMHaE",
        "colab_type": "code",
        "outputId": "c1397ed6-cda6-461e-ae11-7e4985fe9d2e",
        "colab": {
          "base_uri": "https://localhost:8080/",
          "height": 206
        }
      },
      "source": [
        "congress.head()"
      ],
      "execution_count": 5,
      "outputs": [
        {
          "output_type": "execute_result",
          "data": {
            "text/html": [
              "<div>\n",
              "<style scoped>\n",
              "    .dataframe tbody tr th:only-of-type {\n",
              "        vertical-align: middle;\n",
              "    }\n",
              "\n",
              "    .dataframe tbody tr th {\n",
              "        vertical-align: top;\n",
              "    }\n",
              "\n",
              "    .dataframe thead th {\n",
              "        text-align: right;\n",
              "    }\n",
              "</style>\n",
              "<table border=\"1\" class=\"dataframe\">\n",
              "  <thead>\n",
              "    <tr style=\"text-align: right;\">\n",
              "      <th></th>\n",
              "      <th>name</th>\n",
              "      <th>chamber</th>\n",
              "      <th>party</th>\n",
              "      <th>min_net_worth</th>\n",
              "      <th>avg_net_worth</th>\n",
              "      <th>max_net_worth</th>\n",
              "    </tr>\n",
              "  </thead>\n",
              "  <tbody>\n",
              "    <tr>\n",
              "      <th>0</th>\n",
              "      <td>Darrell Issa (R-Calif)</td>\n",
              "      <td>H</td>\n",
              "      <td>R</td>\n",
              "      <td>$292,250,034</td>\n",
              "      <td>$448,425,019</td>\n",
              "      <td>$604,600,004</td>\n",
              "    </tr>\n",
              "    <tr>\n",
              "      <th>1</th>\n",
              "      <td>Mark Warner (D-Va)</td>\n",
              "      <td>S</td>\n",
              "      <td>D</td>\n",
              "      <td>$95,134,301</td>\n",
              "      <td>$254,168,650</td>\n",
              "      <td>$413,203,000</td>\n",
              "    </tr>\n",
              "    <tr>\n",
              "      <th>2</th>\n",
              "      <td>John K. Delaney (D-Md)</td>\n",
              "      <td>H</td>\n",
              "      <td>D</td>\n",
              "      <td>$109,038,155</td>\n",
              "      <td>$222,410,577</td>\n",
              "      <td>$335,782,999</td>\n",
              "    </tr>\n",
              "    <tr>\n",
              "      <th>3</th>\n",
              "      <td>Jared Polis (D-Colo)</td>\n",
              "      <td>H</td>\n",
              "      <td>D</td>\n",
              "      <td>$70,227,432</td>\n",
              "      <td>$213,224,214</td>\n",
              "      <td>$356,220,997</td>\n",
              "    </tr>\n",
              "    <tr>\n",
              "      <th>4</th>\n",
              "      <td>Dave Trott (R-Mich)</td>\n",
              "      <td>H</td>\n",
              "      <td>R</td>\n",
              "      <td>$89,945,456</td>\n",
              "      <td>$200,509,228</td>\n",
              "      <td>$311,073,000</td>\n",
              "    </tr>\n",
              "  </tbody>\n",
              "</table>\n",
              "</div>"
            ],
            "text/plain": [
              "                     name chamber  ... avg_net_worth max_net_worth\n",
              "0  Darrell Issa (R-Calif)       H  ...  $448,425,019  $604,600,004\n",
              "1      Mark Warner (D-Va)       S  ...  $254,168,650  $413,203,000\n",
              "2  John K. Delaney (D-Md)       H  ...  $222,410,577  $335,782,999\n",
              "3    Jared Polis (D-Colo)       H  ...  $213,224,214  $356,220,997\n",
              "4     Dave Trott (R-Mich)       H  ...  $200,509,228  $311,073,000\n",
              "\n",
              "[5 rows x 6 columns]"
            ]
          },
          "metadata": {
            "tags": []
          },
          "execution_count": 5
        }
      ]
    },
    {
      "cell_type": "code",
      "metadata": {
        "id": "sPRZ9PBwQ5iw",
        "colab_type": "code",
        "outputId": "631ebfdb-26d3-4dcf-af29-7ea7511452a9",
        "colab": {
          "base_uri": "https://localhost:8080/",
          "height": 206
        }
      },
      "source": [
        "congress.tail()"
      ],
      "execution_count": 6,
      "outputs": [
        {
          "output_type": "execute_result",
          "data": {
            "text/html": [
              "<div>\n",
              "<style scoped>\n",
              "    .dataframe tbody tr th:only-of-type {\n",
              "        vertical-align: middle;\n",
              "    }\n",
              "\n",
              "    .dataframe tbody tr th {\n",
              "        vertical-align: top;\n",
              "    }\n",
              "\n",
              "    .dataframe thead th {\n",
              "        text-align: right;\n",
              "    }\n",
              "</style>\n",
              "<table border=\"1\" class=\"dataframe\">\n",
              "  <thead>\n",
              "    <tr style=\"text-align: right;\">\n",
              "      <th></th>\n",
              "      <th>name</th>\n",
              "      <th>chamber</th>\n",
              "      <th>party</th>\n",
              "      <th>min_net_worth</th>\n",
              "      <th>avg_net_worth</th>\n",
              "      <th>max_net_worth</th>\n",
              "    </tr>\n",
              "  </thead>\n",
              "  <tbody>\n",
              "    <tr>\n",
              "      <th>528</th>\n",
              "      <td>Ruben Hinojosa (D-Texas)</td>\n",
              "      <td>H</td>\n",
              "      <td>D</td>\n",
              "      <td>-$5,045,927</td>\n",
              "      <td>-$1,865,466</td>\n",
              "      <td>$1,314,995</td>\n",
              "    </tr>\n",
              "    <tr>\n",
              "      <th>529</th>\n",
              "      <td>Jeff Fortenberry (R-Neb)</td>\n",
              "      <td>H</td>\n",
              "      <td>R</td>\n",
              "      <td>-$4,445,993</td>\n",
              "      <td>-$2,042,997</td>\n",
              "      <td>$359,998</td>\n",
              "    </tr>\n",
              "    <tr>\n",
              "      <th>530</th>\n",
              "      <td>Emanuel Cleaver (D-Mo)</td>\n",
              "      <td>H</td>\n",
              "      <td>D</td>\n",
              "      <td>-$4,637,988</td>\n",
              "      <td>-$2,291,495</td>\n",
              "      <td>$54,998</td>\n",
              "    </tr>\n",
              "    <tr>\n",
              "      <th>531</th>\n",
              "      <td>Alcee L. Hastings (D-Fla)</td>\n",
              "      <td>H</td>\n",
              "      <td>D</td>\n",
              "      <td>-$7,348,999</td>\n",
              "      <td>-$4,732,002</td>\n",
              "      <td>-$2,115,006</td>\n",
              "    </tr>\n",
              "    <tr>\n",
              "      <th>532</th>\n",
              "      <td>David Valadao (R-Calif)</td>\n",
              "      <td>H</td>\n",
              "      <td>R</td>\n",
              "      <td>-$23,998,997</td>\n",
              "      <td>-$11,592,002</td>\n",
              "      <td>$814,993</td>\n",
              "    </tr>\n",
              "  </tbody>\n",
              "</table>\n",
              "</div>"
            ],
            "text/plain": [
              "                          name chamber  ... avg_net_worth max_net_worth\n",
              "528   Ruben Hinojosa (D-Texas)       H  ...   -$1,865,466    $1,314,995\n",
              "529   Jeff Fortenberry (R-Neb)       H  ...   -$2,042,997      $359,998\n",
              "530     Emanuel Cleaver (D-Mo)       H  ...   -$2,291,495       $54,998\n",
              "531  Alcee L. Hastings (D-Fla)       H  ...   -$4,732,002   -$2,115,006\n",
              "532    David Valadao (R-Calif)       H  ...  -$11,592,002      $814,993\n",
              "\n",
              "[5 rows x 6 columns]"
            ]
          },
          "metadata": {
            "tags": []
          },
          "execution_count": 6
        }
      ]
    },
    {
      "cell_type": "code",
      "metadata": {
        "id": "N6hGn-YGMag9",
        "colab_type": "code",
        "outputId": "0f9728bd-4a71-429d-b44a-3f04f1abb823",
        "colab": {
          "base_uri": "https://localhost:8080/",
          "height": 175
        }
      },
      "source": [
        "congress.describe(include='all')"
      ],
      "execution_count": 7,
      "outputs": [
        {
          "output_type": "execute_result",
          "data": {
            "text/html": [
              "<div>\n",
              "<style scoped>\n",
              "    .dataframe tbody tr th:only-of-type {\n",
              "        vertical-align: middle;\n",
              "    }\n",
              "\n",
              "    .dataframe tbody tr th {\n",
              "        vertical-align: top;\n",
              "    }\n",
              "\n",
              "    .dataframe thead th {\n",
              "        text-align: right;\n",
              "    }\n",
              "</style>\n",
              "<table border=\"1\" class=\"dataframe\">\n",
              "  <thead>\n",
              "    <tr style=\"text-align: right;\">\n",
              "      <th></th>\n",
              "      <th>name</th>\n",
              "      <th>chamber</th>\n",
              "      <th>party</th>\n",
              "      <th>min_net_worth</th>\n",
              "      <th>avg_net_worth</th>\n",
              "      <th>max_net_worth</th>\n",
              "    </tr>\n",
              "  </thead>\n",
              "  <tbody>\n",
              "    <tr>\n",
              "      <th>count</th>\n",
              "      <td>533</td>\n",
              "      <td>533</td>\n",
              "      <td>533</td>\n",
              "      <td>533</td>\n",
              "      <td>533</td>\n",
              "      <td>533</td>\n",
              "    </tr>\n",
              "    <tr>\n",
              "      <th>unique</th>\n",
              "      <td>533</td>\n",
              "      <td>2</td>\n",
              "      <td>3</td>\n",
              "      <td>514</td>\n",
              "      <td>515</td>\n",
              "      <td>500</td>\n",
              "    </tr>\n",
              "    <tr>\n",
              "      <th>top</th>\n",
              "      <td>Joseph Crowley (D-NY)</td>\n",
              "      <td>H</td>\n",
              "      <td>R</td>\n",
              "      <td>$0</td>\n",
              "      <td>$0</td>\n",
              "      <td>$0</td>\n",
              "    </tr>\n",
              "    <tr>\n",
              "      <th>freq</th>\n",
              "      <td>1</td>\n",
              "      <td>433</td>\n",
              "      <td>299</td>\n",
              "      <td>6</td>\n",
              "      <td>6</td>\n",
              "      <td>6</td>\n",
              "    </tr>\n",
              "  </tbody>\n",
              "</table>\n",
              "</div>"
            ],
            "text/plain": [
              "                         name chamber  ... avg_net_worth max_net_worth\n",
              "count                     533     533  ...           533           533\n",
              "unique                    533       2  ...           515           500\n",
              "top     Joseph Crowley (D-NY)       H  ...            $0            $0\n",
              "freq                        1     433  ...             6             6\n",
              "\n",
              "[4 rows x 6 columns]"
            ]
          },
          "metadata": {
            "tags": []
          },
          "execution_count": 7
        }
      ]
    },
    {
      "cell_type": "code",
      "metadata": {
        "id": "OpHrlS5-42bq",
        "colab_type": "code",
        "colab": {}
      },
      "source": [
        "removepunc = str.maketrans({'$': None, ',': None})"
      ],
      "execution_count": 0,
      "outputs": []
    },
    {
      "cell_type": "code",
      "metadata": {
        "id": "lu41dBLK6IoW",
        "colab_type": "code",
        "colab": {}
      },
      "source": [
        "congress['min_net_worth'] = congress['min_net_worth'].str.translate(removepunc)\n",
        "congress['avg_net_worth'] = congress['avg_net_worth'].str.translate(removepunc)\n",
        "congress['max_net_worth'] = congress['max_net_worth'].str.translate(removepunc)\n",
        "\n",
        "congress['min_net_worth'] = congress['min_net_worth'].astype(float)\n",
        "congress['avg_net_worth'] = congress['avg_net_worth'].astype(float)\n",
        "congress['max_net_worth'] = congress['max_net_worth'].astype(float)"
      ],
      "execution_count": 0,
      "outputs": []
    },
    {
      "cell_type": "code",
      "metadata": {
        "id": "F46QHaEj6qqs",
        "colab_type": "code",
        "outputId": "a2f9a994-bbc1-44ad-8f09-a4a3cbe59808",
        "colab": {
          "base_uri": "https://localhost:8080/",
          "height": 394
        }
      },
      "source": [
        "congress.describe(include='all')"
      ],
      "execution_count": 10,
      "outputs": [
        {
          "output_type": "execute_result",
          "data": {
            "text/html": [
              "<div>\n",
              "<style scoped>\n",
              "    .dataframe tbody tr th:only-of-type {\n",
              "        vertical-align: middle;\n",
              "    }\n",
              "\n",
              "    .dataframe tbody tr th {\n",
              "        vertical-align: top;\n",
              "    }\n",
              "\n",
              "    .dataframe thead th {\n",
              "        text-align: right;\n",
              "    }\n",
              "</style>\n",
              "<table border=\"1\" class=\"dataframe\">\n",
              "  <thead>\n",
              "    <tr style=\"text-align: right;\">\n",
              "      <th></th>\n",
              "      <th>name</th>\n",
              "      <th>chamber</th>\n",
              "      <th>party</th>\n",
              "      <th>min_net_worth</th>\n",
              "      <th>avg_net_worth</th>\n",
              "      <th>max_net_worth</th>\n",
              "    </tr>\n",
              "  </thead>\n",
              "  <tbody>\n",
              "    <tr>\n",
              "      <th>count</th>\n",
              "      <td>533</td>\n",
              "      <td>533</td>\n",
              "      <td>533</td>\n",
              "      <td>5.330000e+02</td>\n",
              "      <td>5.330000e+02</td>\n",
              "      <td>5.330000e+02</td>\n",
              "    </tr>\n",
              "    <tr>\n",
              "      <th>unique</th>\n",
              "      <td>533</td>\n",
              "      <td>2</td>\n",
              "      <td>3</td>\n",
              "      <td>NaN</td>\n",
              "      <td>NaN</td>\n",
              "      <td>NaN</td>\n",
              "    </tr>\n",
              "    <tr>\n",
              "      <th>top</th>\n",
              "      <td>Joseph Crowley (D-NY)</td>\n",
              "      <td>H</td>\n",
              "      <td>R</td>\n",
              "      <td>NaN</td>\n",
              "      <td>NaN</td>\n",
              "      <td>NaN</td>\n",
              "    </tr>\n",
              "    <tr>\n",
              "      <th>freq</th>\n",
              "      <td>1</td>\n",
              "      <td>433</td>\n",
              "      <td>299</td>\n",
              "      <td>NaN</td>\n",
              "      <td>NaN</td>\n",
              "      <td>NaN</td>\n",
              "    </tr>\n",
              "    <tr>\n",
              "      <th>mean</th>\n",
              "      <td>NaN</td>\n",
              "      <td>NaN</td>\n",
              "      <td>NaN</td>\n",
              "      <td>3.343219e+06</td>\n",
              "      <td>8.069579e+06</td>\n",
              "      <td>1.279594e+07</td>\n",
              "    </tr>\n",
              "    <tr>\n",
              "      <th>std</th>\n",
              "      <td>NaN</td>\n",
              "      <td>NaN</td>\n",
              "      <td>NaN</td>\n",
              "      <td>1.686426e+07</td>\n",
              "      <td>3.061713e+07</td>\n",
              "      <td>4.617892e+07</td>\n",
              "    </tr>\n",
              "    <tr>\n",
              "      <th>min</th>\n",
              "      <td>NaN</td>\n",
              "      <td>NaN</td>\n",
              "      <td>NaN</td>\n",
              "      <td>-3.753489e+07</td>\n",
              "      <td>-1.159200e+07</td>\n",
              "      <td>-2.115006e+06</td>\n",
              "    </tr>\n",
              "    <tr>\n",
              "      <th>25%</th>\n",
              "      <td>NaN</td>\n",
              "      <td>NaN</td>\n",
              "      <td>NaN</td>\n",
              "      <td>6.901000e+04</td>\n",
              "      <td>3.075080e+05</td>\n",
              "      <td>5.250000e+05</td>\n",
              "    </tr>\n",
              "    <tr>\n",
              "      <th>50%</th>\n",
              "      <td>NaN</td>\n",
              "      <td>NaN</td>\n",
              "      <td>NaN</td>\n",
              "      <td>4.370200e+05</td>\n",
              "      <td>1.029505e+06</td>\n",
              "      <td>1.634992e+06</td>\n",
              "    </tr>\n",
              "    <tr>\n",
              "      <th>75%</th>\n",
              "      <td>NaN</td>\n",
              "      <td>NaN</td>\n",
              "      <td>NaN</td>\n",
              "      <td>1.748037e+06</td>\n",
              "      <td>3.808003e+06</td>\n",
              "      <td>6.105000e+06</td>\n",
              "    </tr>\n",
              "    <tr>\n",
              "      <th>max</th>\n",
              "      <td>NaN</td>\n",
              "      <td>NaN</td>\n",
              "      <td>NaN</td>\n",
              "      <td>2.922500e+08</td>\n",
              "      <td>4.484250e+08</td>\n",
              "      <td>6.046000e+08</td>\n",
              "    </tr>\n",
              "  </tbody>\n",
              "</table>\n",
              "</div>"
            ],
            "text/plain": [
              "                         name chamber  ... avg_net_worth  max_net_worth\n",
              "count                     533     533  ...  5.330000e+02   5.330000e+02\n",
              "unique                    533       2  ...           NaN            NaN\n",
              "top     Joseph Crowley (D-NY)       H  ...           NaN            NaN\n",
              "freq                        1     433  ...           NaN            NaN\n",
              "mean                      NaN     NaN  ...  8.069579e+06   1.279594e+07\n",
              "std                       NaN     NaN  ...  3.061713e+07   4.617892e+07\n",
              "min                       NaN     NaN  ... -1.159200e+07  -2.115006e+06\n",
              "25%                       NaN     NaN  ...  3.075080e+05   5.250000e+05\n",
              "50%                       NaN     NaN  ...  1.029505e+06   1.634992e+06\n",
              "75%                       NaN     NaN  ...  3.808003e+06   6.105000e+06\n",
              "max                       NaN     NaN  ...  4.484250e+08   6.046000e+08\n",
              "\n",
              "[11 rows x 6 columns]"
            ]
          },
          "metadata": {
            "tags": []
          },
          "execution_count": 10
        }
      ]
    },
    {
      "cell_type": "code",
      "metadata": {
        "id": "-9cezKvaZyjW",
        "colab_type": "code",
        "colab": {}
      },
      "source": [
        "congress['state_abbr'] = congress['name'].str.extract('-([^\\s]+?)\\)')"
      ],
      "execution_count": 0,
      "outputs": []
    },
    {
      "cell_type": "code",
      "metadata": {
        "id": "W0LAkRQUbJgz",
        "colab_type": "code",
        "outputId": "b6880ba5-1656-4472-b43a-fa5bc4c4a63b",
        "colab": {
          "base_uri": "https://localhost:8080/",
          "height": 394
        }
      },
      "source": [
        "congress.describe(include='all')"
      ],
      "execution_count": 12,
      "outputs": [
        {
          "output_type": "execute_result",
          "data": {
            "text/html": [
              "<div>\n",
              "<style scoped>\n",
              "    .dataframe tbody tr th:only-of-type {\n",
              "        vertical-align: middle;\n",
              "    }\n",
              "\n",
              "    .dataframe tbody tr th {\n",
              "        vertical-align: top;\n",
              "    }\n",
              "\n",
              "    .dataframe thead th {\n",
              "        text-align: right;\n",
              "    }\n",
              "</style>\n",
              "<table border=\"1\" class=\"dataframe\">\n",
              "  <thead>\n",
              "    <tr style=\"text-align: right;\">\n",
              "      <th></th>\n",
              "      <th>name</th>\n",
              "      <th>chamber</th>\n",
              "      <th>party</th>\n",
              "      <th>min_net_worth</th>\n",
              "      <th>avg_net_worth</th>\n",
              "      <th>max_net_worth</th>\n",
              "      <th>state_abbr</th>\n",
              "    </tr>\n",
              "  </thead>\n",
              "  <tbody>\n",
              "    <tr>\n",
              "      <th>count</th>\n",
              "      <td>533</td>\n",
              "      <td>533</td>\n",
              "      <td>533</td>\n",
              "      <td>5.330000e+02</td>\n",
              "      <td>5.330000e+02</td>\n",
              "      <td>5.330000e+02</td>\n",
              "      <td>533</td>\n",
              "    </tr>\n",
              "    <tr>\n",
              "      <th>unique</th>\n",
              "      <td>533</td>\n",
              "      <td>2</td>\n",
              "      <td>3</td>\n",
              "      <td>NaN</td>\n",
              "      <td>NaN</td>\n",
              "      <td>NaN</td>\n",
              "      <td>50</td>\n",
              "    </tr>\n",
              "    <tr>\n",
              "      <th>top</th>\n",
              "      <td>Joseph Crowley (D-NY)</td>\n",
              "      <td>H</td>\n",
              "      <td>R</td>\n",
              "      <td>NaN</td>\n",
              "      <td>NaN</td>\n",
              "      <td>NaN</td>\n",
              "      <td>Calif</td>\n",
              "    </tr>\n",
              "    <tr>\n",
              "      <th>freq</th>\n",
              "      <td>1</td>\n",
              "      <td>433</td>\n",
              "      <td>299</td>\n",
              "      <td>NaN</td>\n",
              "      <td>NaN</td>\n",
              "      <td>NaN</td>\n",
              "      <td>54</td>\n",
              "    </tr>\n",
              "    <tr>\n",
              "      <th>mean</th>\n",
              "      <td>NaN</td>\n",
              "      <td>NaN</td>\n",
              "      <td>NaN</td>\n",
              "      <td>3.343219e+06</td>\n",
              "      <td>8.069579e+06</td>\n",
              "      <td>1.279594e+07</td>\n",
              "      <td>NaN</td>\n",
              "    </tr>\n",
              "    <tr>\n",
              "      <th>std</th>\n",
              "      <td>NaN</td>\n",
              "      <td>NaN</td>\n",
              "      <td>NaN</td>\n",
              "      <td>1.686426e+07</td>\n",
              "      <td>3.061713e+07</td>\n",
              "      <td>4.617892e+07</td>\n",
              "      <td>NaN</td>\n",
              "    </tr>\n",
              "    <tr>\n",
              "      <th>min</th>\n",
              "      <td>NaN</td>\n",
              "      <td>NaN</td>\n",
              "      <td>NaN</td>\n",
              "      <td>-3.753489e+07</td>\n",
              "      <td>-1.159200e+07</td>\n",
              "      <td>-2.115006e+06</td>\n",
              "      <td>NaN</td>\n",
              "    </tr>\n",
              "    <tr>\n",
              "      <th>25%</th>\n",
              "      <td>NaN</td>\n",
              "      <td>NaN</td>\n",
              "      <td>NaN</td>\n",
              "      <td>6.901000e+04</td>\n",
              "      <td>3.075080e+05</td>\n",
              "      <td>5.250000e+05</td>\n",
              "      <td>NaN</td>\n",
              "    </tr>\n",
              "    <tr>\n",
              "      <th>50%</th>\n",
              "      <td>NaN</td>\n",
              "      <td>NaN</td>\n",
              "      <td>NaN</td>\n",
              "      <td>4.370200e+05</td>\n",
              "      <td>1.029505e+06</td>\n",
              "      <td>1.634992e+06</td>\n",
              "      <td>NaN</td>\n",
              "    </tr>\n",
              "    <tr>\n",
              "      <th>75%</th>\n",
              "      <td>NaN</td>\n",
              "      <td>NaN</td>\n",
              "      <td>NaN</td>\n",
              "      <td>1.748037e+06</td>\n",
              "      <td>3.808003e+06</td>\n",
              "      <td>6.105000e+06</td>\n",
              "      <td>NaN</td>\n",
              "    </tr>\n",
              "    <tr>\n",
              "      <th>max</th>\n",
              "      <td>NaN</td>\n",
              "      <td>NaN</td>\n",
              "      <td>NaN</td>\n",
              "      <td>2.922500e+08</td>\n",
              "      <td>4.484250e+08</td>\n",
              "      <td>6.046000e+08</td>\n",
              "      <td>NaN</td>\n",
              "    </tr>\n",
              "  </tbody>\n",
              "</table>\n",
              "</div>"
            ],
            "text/plain": [
              "                         name chamber  ... max_net_worth  state_abbr\n",
              "count                     533     533  ...  5.330000e+02         533\n",
              "unique                    533       2  ...           NaN          50\n",
              "top     Joseph Crowley (D-NY)       H  ...           NaN       Calif\n",
              "freq                        1     433  ...           NaN          54\n",
              "mean                      NaN     NaN  ...  1.279594e+07         NaN\n",
              "std                       NaN     NaN  ...  4.617892e+07         NaN\n",
              "min                       NaN     NaN  ... -2.115006e+06         NaN\n",
              "25%                       NaN     NaN  ...  5.250000e+05         NaN\n",
              "50%                       NaN     NaN  ...  1.634992e+06         NaN\n",
              "75%                       NaN     NaN  ...  6.105000e+06         NaN\n",
              "max                       NaN     NaN  ...  6.046000e+08         NaN\n",
              "\n",
              "[11 rows x 7 columns]"
            ]
          },
          "metadata": {
            "tags": []
          },
          "execution_count": 12
        }
      ]
    },
    {
      "cell_type": "code",
      "metadata": {
        "id": "6qAHly0wcY96",
        "colab_type": "code",
        "outputId": "1f20be98-d98e-473d-e854-d931913c124d",
        "colab": {
          "base_uri": "https://localhost:8080/",
          "height": 129
        }
      },
      "source": [
        "congress['state_abbr'].unique()"
      ],
      "execution_count": 13,
      "outputs": [
        {
          "output_type": "execute_result",
          "data": {
            "text/plain": [
              "array(['Calif', 'Va', 'Md', 'Colo', 'Mich', 'Texas', 'Conn', 'Fla',\n",
              "       'Wash', 'NY', 'Tenn', 'Idaho', 'Ohio', 'NJ', 'Mass', 'Maine', 'ND',\n",
              "       'Wis', 'Ariz', 'Ga', 'Ky', 'La', 'Mo', 'NM', 'Mont', 'NC', 'Ill',\n",
              "       'Pa', 'SD', 'Wyo', 'Iowa', 'Ala', 'WVa', 'Del', 'Ore', 'Okla',\n",
              "       'RI', 'Ind', 'Vt', 'SC', 'Minn', 'Ark', 'Nev', 'Utah', 'NH', 'Neb',\n",
              "       'Miss', 'Kan', 'Hawaii', 'Alaska'], dtype=object)"
            ]
          },
          "metadata": {
            "tags": []
          },
          "execution_count": 13
        }
      ]
    },
    {
      "cell_type": "code",
      "metadata": {
        "id": "OLIHFQBsb9rO",
        "colab_type": "code",
        "colab": {}
      },
      "source": [
        "states = pd.read_html('https://raw.githubusercontent.com/ElisabethShah/DS-Unit-1-Sprint-5-Data-Storytelling-Blog-Post/master/data/StateTable.html')[0]"
      ],
      "execution_count": 0,
      "outputs": []
    },
    {
      "cell_type": "code",
      "metadata": {
        "id": "yk2TY0mGfGQA",
        "colab_type": "code",
        "outputId": "166f449c-1b2d-4eb3-bfd5-a7d9a0d59c37",
        "colab": {
          "base_uri": "https://localhost:8080/",
          "height": 206
        }
      },
      "source": [
        "states.head()"
      ],
      "execution_count": 15,
      "outputs": [
        {
          "output_type": "execute_result",
          "data": {
            "text/html": [
              "<div>\n",
              "<style scoped>\n",
              "    .dataframe tbody tr th:only-of-type {\n",
              "        vertical-align: middle;\n",
              "    }\n",
              "\n",
              "    .dataframe tbody tr th {\n",
              "        vertical-align: top;\n",
              "    }\n",
              "\n",
              "    .dataframe thead th {\n",
              "        text-align: right;\n",
              "    }\n",
              "</style>\n",
              "<table border=\"1\" class=\"dataframe\">\n",
              "  <thead>\n",
              "    <tr style=\"text-align: right;\">\n",
              "      <th></th>\n",
              "      <th>State</th>\n",
              "      <th>Traditionalabbreviation</th>\n",
              "      <th>Otherabbreviations</th>\n",
              "    </tr>\n",
              "  </thead>\n",
              "  <tbody>\n",
              "    <tr>\n",
              "      <th>0</th>\n",
              "      <td>Alabama</td>\n",
              "      <td>Ala.</td>\n",
              "      <td>NaN</td>\n",
              "    </tr>\n",
              "    <tr>\n",
              "      <th>1</th>\n",
              "      <td>Alaska</td>\n",
              "      <td>Alaska</td>\n",
              "      <td>NaN</td>\n",
              "    </tr>\n",
              "    <tr>\n",
              "      <th>2</th>\n",
              "      <td>Arizona</td>\n",
              "      <td>Ariz.</td>\n",
              "      <td>NaN</td>\n",
              "    </tr>\n",
              "    <tr>\n",
              "      <th>3</th>\n",
              "      <td>Arkansas</td>\n",
              "      <td>Ark.</td>\n",
              "      <td>NaN</td>\n",
              "    </tr>\n",
              "    <tr>\n",
              "      <th>4</th>\n",
              "      <td>California</td>\n",
              "      <td>Calif.</td>\n",
              "      <td>Cal.</td>\n",
              "    </tr>\n",
              "  </tbody>\n",
              "</table>\n",
              "</div>"
            ],
            "text/plain": [
              "        State Traditionalabbreviation Otherabbreviations\n",
              "0     Alabama                    Ala.                NaN\n",
              "1      Alaska                  Alaska                NaN\n",
              "2     Arizona                   Ariz.                NaN\n",
              "3    Arkansas                    Ark.                NaN\n",
              "4  California                  Calif.               Cal."
            ]
          },
          "metadata": {
            "tags": []
          },
          "execution_count": 15
        }
      ]
    },
    {
      "cell_type": "code",
      "metadata": {
        "id": "b4IlfiZC8Rfi",
        "colab_type": "code",
        "colab": {}
      },
      "source": [
        "states.columns = ['state', 'trad_abbr', 'other_abbr']"
      ],
      "execution_count": 0,
      "outputs": []
    },
    {
      "cell_type": "code",
      "metadata": {
        "id": "mO5vsNGckkwi",
        "colab_type": "code",
        "colab": {}
      },
      "source": [
        "deletechars = str.maketrans({'.': None, ' ': None})"
      ],
      "execution_count": 0,
      "outputs": []
    },
    {
      "cell_type": "code",
      "metadata": {
        "id": "a9MO_YcHnghr",
        "colab_type": "code",
        "colab": {}
      },
      "source": [
        "states['no_punc'] = states['trad_abbr'].str.translate(deletechars)"
      ],
      "execution_count": 0,
      "outputs": []
    },
    {
      "cell_type": "code",
      "metadata": {
        "id": "rPVsef0Vnv7D",
        "colab_type": "code",
        "outputId": "fe829f9a-d689-467c-95fa-934319c7c946",
        "colab": {
          "base_uri": "https://localhost:8080/",
          "height": 129
        }
      },
      "source": [
        "states['no_punc'].unique()"
      ],
      "execution_count": 19,
      "outputs": [
        {
          "output_type": "execute_result",
          "data": {
            "text/plain": [
              "array(['Ala', 'Alaska', 'Ariz', 'Ark', 'Calif', 'Colo', 'Conn', 'Del',\n",
              "       'DC', 'Fla', 'Ga', 'Hawaii', 'Idaho', 'Ill', 'Ind', 'Iowa', 'Kans',\n",
              "       'Ky', 'La', 'Maine', 'Md', 'Mass', 'Mich', 'Minn', 'Miss', 'Mo',\n",
              "       'Mont', 'Nebr', 'Nev', 'NH', 'NJ', 'NMex', 'NY', 'NC', 'NDak',\n",
              "       'Ohio', 'Okla', 'Oreg', 'Pa', 'RI', 'SC', 'SDak', 'Tenn', 'Tex',\n",
              "       'Utah', 'Vt', 'Va', 'Wash', 'WVa', 'Wis', 'Wyo'], dtype=object)"
            ]
          },
          "metadata": {
            "tags": []
          },
          "execution_count": 19
        }
      ]
    },
    {
      "cell_type": "code",
      "metadata": {
        "id": "Olw7MnsGydtP",
        "colab_type": "code",
        "colab": {}
      },
      "source": [
        "congress = congress.merge(states[['state', 'no_punc']], \n",
        "                          left_on='state_abbr', right_on='no_punc',\n",
        "                          how='left')\n",
        "\n",
        "congress = congress.drop(columns=['no_punc'])"
      ],
      "execution_count": 0,
      "outputs": []
    },
    {
      "cell_type": "code",
      "metadata": {
        "id": "vvQNpV9GzuAI",
        "colab_type": "code",
        "outputId": "a158d3f5-8f05-41dd-d462-0a7702916f2c",
        "colab": {
          "base_uri": "https://localhost:8080/",
          "height": 36
        }
      },
      "source": [
        "congress[congress['state'].isnull()]['state_abbr'].unique()"
      ],
      "execution_count": 21,
      "outputs": [
        {
          "output_type": "execute_result",
          "data": {
            "text/plain": [
              "array(['Texas', 'ND', 'NM', 'SD', 'Ore', 'Neb', 'Kan'], dtype=object)"
            ]
          },
          "metadata": {
            "tags": []
          },
          "execution_count": 21
        }
      ]
    },
    {
      "cell_type": "code",
      "metadata": {
        "id": "XnMVznQZsfiJ",
        "colab_type": "code",
        "colab": {}
      },
      "source": [
        "def state_name(text):\n",
        "  state = us.states.lookup(text)\n",
        "  if state:\n",
        "    return state.name\n",
        "  else:\n",
        "    return np.NaN\n",
        "\n",
        "congress.loc[congress['state'].isnull(), 'state'] = congress['state_abbr'].apply(state_name)"
      ],
      "execution_count": 0,
      "outputs": []
    },
    {
      "cell_type": "code",
      "metadata": {
        "id": "svBhz2TbuFHj",
        "colab_type": "code",
        "outputId": "4cf249c4-7295-4cb2-ad82-554654eea9cc",
        "colab": {
          "base_uri": "https://localhost:8080/",
          "height": 36
        }
      },
      "source": [
        "congress[congress['state'].isnull()]['state_abbr'].unique()"
      ],
      "execution_count": 23,
      "outputs": [
        {
          "output_type": "execute_result",
          "data": {
            "text/plain": [
              "array(['Ore', 'Neb', 'Kan'], dtype=object)"
            ]
          },
          "metadata": {
            "tags": []
          },
          "execution_count": 23
        }
      ]
    },
    {
      "cell_type": "code",
      "metadata": {
        "id": "yzoX4h9B0TwH",
        "colab_type": "code",
        "colab": {}
      },
      "source": [
        "state_lookup = {'Ore': 'Oregon', \n",
        "                'Neb': 'Nebraska', \n",
        "                'Kan': 'Kansas'}"
      ],
      "execution_count": 0,
      "outputs": []
    },
    {
      "cell_type": "code",
      "metadata": {
        "id": "lCMDFbDb02Rv",
        "colab_type": "code",
        "colab": {}
      },
      "source": [
        "for state_abbr in state_lookup:\n",
        "  congress.loc[congress['state_abbr']==state_abbr, 'state'] = state_lookup[state_abbr]"
      ],
      "execution_count": 0,
      "outputs": []
    },
    {
      "cell_type": "code",
      "metadata": {
        "id": "iS25Cd0j2did",
        "colab_type": "code",
        "outputId": "cd0b13a7-902f-40b9-8105-8739fc807677",
        "colab": {
          "base_uri": "https://localhost:8080/",
          "height": 394
        }
      },
      "source": [
        "congress.describe(include='all')"
      ],
      "execution_count": 26,
      "outputs": [
        {
          "output_type": "execute_result",
          "data": {
            "text/html": [
              "<div>\n",
              "<style scoped>\n",
              "    .dataframe tbody tr th:only-of-type {\n",
              "        vertical-align: middle;\n",
              "    }\n",
              "\n",
              "    .dataframe tbody tr th {\n",
              "        vertical-align: top;\n",
              "    }\n",
              "\n",
              "    .dataframe thead th {\n",
              "        text-align: right;\n",
              "    }\n",
              "</style>\n",
              "<table border=\"1\" class=\"dataframe\">\n",
              "  <thead>\n",
              "    <tr style=\"text-align: right;\">\n",
              "      <th></th>\n",
              "      <th>name</th>\n",
              "      <th>chamber</th>\n",
              "      <th>party</th>\n",
              "      <th>min_net_worth</th>\n",
              "      <th>avg_net_worth</th>\n",
              "      <th>max_net_worth</th>\n",
              "      <th>state_abbr</th>\n",
              "      <th>state</th>\n",
              "    </tr>\n",
              "  </thead>\n",
              "  <tbody>\n",
              "    <tr>\n",
              "      <th>count</th>\n",
              "      <td>533</td>\n",
              "      <td>533</td>\n",
              "      <td>533</td>\n",
              "      <td>5.330000e+02</td>\n",
              "      <td>5.330000e+02</td>\n",
              "      <td>5.330000e+02</td>\n",
              "      <td>533</td>\n",
              "      <td>533</td>\n",
              "    </tr>\n",
              "    <tr>\n",
              "      <th>unique</th>\n",
              "      <td>533</td>\n",
              "      <td>2</td>\n",
              "      <td>3</td>\n",
              "      <td>NaN</td>\n",
              "      <td>NaN</td>\n",
              "      <td>NaN</td>\n",
              "      <td>50</td>\n",
              "      <td>50</td>\n",
              "    </tr>\n",
              "    <tr>\n",
              "      <th>top</th>\n",
              "      <td>Joseph Crowley (D-NY)</td>\n",
              "      <td>H</td>\n",
              "      <td>R</td>\n",
              "      <td>NaN</td>\n",
              "      <td>NaN</td>\n",
              "      <td>NaN</td>\n",
              "      <td>Calif</td>\n",
              "      <td>California</td>\n",
              "    </tr>\n",
              "    <tr>\n",
              "      <th>freq</th>\n",
              "      <td>1</td>\n",
              "      <td>433</td>\n",
              "      <td>299</td>\n",
              "      <td>NaN</td>\n",
              "      <td>NaN</td>\n",
              "      <td>NaN</td>\n",
              "      <td>54</td>\n",
              "      <td>54</td>\n",
              "    </tr>\n",
              "    <tr>\n",
              "      <th>mean</th>\n",
              "      <td>NaN</td>\n",
              "      <td>NaN</td>\n",
              "      <td>NaN</td>\n",
              "      <td>3.343219e+06</td>\n",
              "      <td>8.069579e+06</td>\n",
              "      <td>1.279594e+07</td>\n",
              "      <td>NaN</td>\n",
              "      <td>NaN</td>\n",
              "    </tr>\n",
              "    <tr>\n",
              "      <th>std</th>\n",
              "      <td>NaN</td>\n",
              "      <td>NaN</td>\n",
              "      <td>NaN</td>\n",
              "      <td>1.686426e+07</td>\n",
              "      <td>3.061713e+07</td>\n",
              "      <td>4.617892e+07</td>\n",
              "      <td>NaN</td>\n",
              "      <td>NaN</td>\n",
              "    </tr>\n",
              "    <tr>\n",
              "      <th>min</th>\n",
              "      <td>NaN</td>\n",
              "      <td>NaN</td>\n",
              "      <td>NaN</td>\n",
              "      <td>-3.753489e+07</td>\n",
              "      <td>-1.159200e+07</td>\n",
              "      <td>-2.115006e+06</td>\n",
              "      <td>NaN</td>\n",
              "      <td>NaN</td>\n",
              "    </tr>\n",
              "    <tr>\n",
              "      <th>25%</th>\n",
              "      <td>NaN</td>\n",
              "      <td>NaN</td>\n",
              "      <td>NaN</td>\n",
              "      <td>6.901000e+04</td>\n",
              "      <td>3.075080e+05</td>\n",
              "      <td>5.250000e+05</td>\n",
              "      <td>NaN</td>\n",
              "      <td>NaN</td>\n",
              "    </tr>\n",
              "    <tr>\n",
              "      <th>50%</th>\n",
              "      <td>NaN</td>\n",
              "      <td>NaN</td>\n",
              "      <td>NaN</td>\n",
              "      <td>4.370200e+05</td>\n",
              "      <td>1.029505e+06</td>\n",
              "      <td>1.634992e+06</td>\n",
              "      <td>NaN</td>\n",
              "      <td>NaN</td>\n",
              "    </tr>\n",
              "    <tr>\n",
              "      <th>75%</th>\n",
              "      <td>NaN</td>\n",
              "      <td>NaN</td>\n",
              "      <td>NaN</td>\n",
              "      <td>1.748037e+06</td>\n",
              "      <td>3.808003e+06</td>\n",
              "      <td>6.105000e+06</td>\n",
              "      <td>NaN</td>\n",
              "      <td>NaN</td>\n",
              "    </tr>\n",
              "    <tr>\n",
              "      <th>max</th>\n",
              "      <td>NaN</td>\n",
              "      <td>NaN</td>\n",
              "      <td>NaN</td>\n",
              "      <td>2.922500e+08</td>\n",
              "      <td>4.484250e+08</td>\n",
              "      <td>6.046000e+08</td>\n",
              "      <td>NaN</td>\n",
              "      <td>NaN</td>\n",
              "    </tr>\n",
              "  </tbody>\n",
              "</table>\n",
              "</div>"
            ],
            "text/plain": [
              "                         name chamber  ... state_abbr       state\n",
              "count                     533     533  ...        533         533\n",
              "unique                    533       2  ...         50          50\n",
              "top     Joseph Crowley (D-NY)       H  ...      Calif  California\n",
              "freq                        1     433  ...         54          54\n",
              "mean                      NaN     NaN  ...        NaN         NaN\n",
              "std                       NaN     NaN  ...        NaN         NaN\n",
              "min                       NaN     NaN  ...        NaN         NaN\n",
              "25%                       NaN     NaN  ...        NaN         NaN\n",
              "50%                       NaN     NaN  ...        NaN         NaN\n",
              "75%                       NaN     NaN  ...        NaN         NaN\n",
              "max                       NaN     NaN  ...        NaN         NaN\n",
              "\n",
              "[11 rows x 8 columns]"
            ]
          },
          "metadata": {
            "tags": []
          },
          "execution_count": 26
        }
      ]
    },
    {
      "cell_type": "code",
      "metadata": {
        "id": "rhulMIOJ3Hzj",
        "colab_type": "code",
        "colab": {}
      },
      "source": [
        "congress = congress.drop(columns=['state_abbr'])"
      ],
      "execution_count": 0,
      "outputs": []
    },
    {
      "cell_type": "code",
      "metadata": {
        "id": "Rj5ycVOJMebb",
        "colab_type": "code",
        "colab": {}
      },
      "source": [
        "house = congress[congress['chamber']=='H']\n",
        "senate = congress[congress['chamber']=='S']"
      ],
      "execution_count": 0,
      "outputs": []
    },
    {
      "cell_type": "code",
      "metadata": {
        "id": "MLzdLTauNbZ7",
        "colab_type": "code",
        "outputId": "896b783e-39c8-4ca2-c886-4caa45c181bb",
        "colab": {
          "base_uri": "https://localhost:8080/",
          "height": 394
        }
      },
      "source": [
        "house.describe(include='all')"
      ],
      "execution_count": 29,
      "outputs": [
        {
          "output_type": "execute_result",
          "data": {
            "text/html": [
              "<div>\n",
              "<style scoped>\n",
              "    .dataframe tbody tr th:only-of-type {\n",
              "        vertical-align: middle;\n",
              "    }\n",
              "\n",
              "    .dataframe tbody tr th {\n",
              "        vertical-align: top;\n",
              "    }\n",
              "\n",
              "    .dataframe thead th {\n",
              "        text-align: right;\n",
              "    }\n",
              "</style>\n",
              "<table border=\"1\" class=\"dataframe\">\n",
              "  <thead>\n",
              "    <tr style=\"text-align: right;\">\n",
              "      <th></th>\n",
              "      <th>name</th>\n",
              "      <th>chamber</th>\n",
              "      <th>party</th>\n",
              "      <th>min_net_worth</th>\n",
              "      <th>avg_net_worth</th>\n",
              "      <th>max_net_worth</th>\n",
              "      <th>state</th>\n",
              "    </tr>\n",
              "  </thead>\n",
              "  <tbody>\n",
              "    <tr>\n",
              "      <th>count</th>\n",
              "      <td>433</td>\n",
              "      <td>433</td>\n",
              "      <td>433</td>\n",
              "      <td>4.330000e+02</td>\n",
              "      <td>4.330000e+02</td>\n",
              "      <td>4.330000e+02</td>\n",
              "      <td>433</td>\n",
              "    </tr>\n",
              "    <tr>\n",
              "      <th>unique</th>\n",
              "      <td>433</td>\n",
              "      <td>1</td>\n",
              "      <td>2</td>\n",
              "      <td>NaN</td>\n",
              "      <td>NaN</td>\n",
              "      <td>NaN</td>\n",
              "      <td>50</td>\n",
              "    </tr>\n",
              "    <tr>\n",
              "      <th>top</th>\n",
              "      <td>Joseph Crowley (D-NY)</td>\n",
              "      <td>H</td>\n",
              "      <td>R</td>\n",
              "      <td>NaN</td>\n",
              "      <td>NaN</td>\n",
              "      <td>NaN</td>\n",
              "      <td>California</td>\n",
              "    </tr>\n",
              "    <tr>\n",
              "      <th>freq</th>\n",
              "      <td>1</td>\n",
              "      <td>433</td>\n",
              "      <td>245</td>\n",
              "      <td>NaN</td>\n",
              "      <td>NaN</td>\n",
              "      <td>NaN</td>\n",
              "      <td>52</td>\n",
              "    </tr>\n",
              "    <tr>\n",
              "      <th>mean</th>\n",
              "      <td>NaN</td>\n",
              "      <td>NaN</td>\n",
              "      <td>NaN</td>\n",
              "      <td>2.990854e+06</td>\n",
              "      <td>7.501081e+06</td>\n",
              "      <td>1.201131e+07</td>\n",
              "      <td>NaN</td>\n",
              "    </tr>\n",
              "    <tr>\n",
              "      <th>std</th>\n",
              "      <td>NaN</td>\n",
              "      <td>NaN</td>\n",
              "      <td>NaN</td>\n",
              "      <td>1.758249e+07</td>\n",
              "      <td>3.094218e+07</td>\n",
              "      <td>4.622990e+07</td>\n",
              "      <td>NaN</td>\n",
              "    </tr>\n",
              "    <tr>\n",
              "      <th>min</th>\n",
              "      <td>NaN</td>\n",
              "      <td>NaN</td>\n",
              "      <td>NaN</td>\n",
              "      <td>-3.753489e+07</td>\n",
              "      <td>-1.159200e+07</td>\n",
              "      <td>-2.115006e+06</td>\n",
              "      <td>NaN</td>\n",
              "    </tr>\n",
              "    <tr>\n",
              "      <th>25%</th>\n",
              "      <td>NaN</td>\n",
              "      <td>NaN</td>\n",
              "      <td>NaN</td>\n",
              "      <td>3.700400e+04</td>\n",
              "      <td>2.635190e+05</td>\n",
              "      <td>4.959980e+05</td>\n",
              "      <td>NaN</td>\n",
              "    </tr>\n",
              "    <tr>\n",
              "      <th>50%</th>\n",
              "      <td>NaN</td>\n",
              "      <td>NaN</td>\n",
              "      <td>NaN</td>\n",
              "      <td>3.030220e+05</td>\n",
              "      <td>8.435070e+05</td>\n",
              "      <td>1.395000e+06</td>\n",
              "      <td>NaN</td>\n",
              "    </tr>\n",
              "    <tr>\n",
              "      <th>75%</th>\n",
              "      <td>NaN</td>\n",
              "      <td>NaN</td>\n",
              "      <td>NaN</td>\n",
              "      <td>1.421020e+06</td>\n",
              "      <td>3.111020e+06</td>\n",
              "      <td>5.140000e+06</td>\n",
              "      <td>NaN</td>\n",
              "    </tr>\n",
              "    <tr>\n",
              "      <th>max</th>\n",
              "      <td>NaN</td>\n",
              "      <td>NaN</td>\n",
              "      <td>NaN</td>\n",
              "      <td>2.922500e+08</td>\n",
              "      <td>4.484250e+08</td>\n",
              "      <td>6.046000e+08</td>\n",
              "      <td>NaN</td>\n",
              "    </tr>\n",
              "  </tbody>\n",
              "</table>\n",
              "</div>"
            ],
            "text/plain": [
              "                         name chamber  ... max_net_worth       state\n",
              "count                     433     433  ...  4.330000e+02         433\n",
              "unique                    433       1  ...           NaN          50\n",
              "top     Joseph Crowley (D-NY)       H  ...           NaN  California\n",
              "freq                        1     433  ...           NaN          52\n",
              "mean                      NaN     NaN  ...  1.201131e+07         NaN\n",
              "std                       NaN     NaN  ...  4.622990e+07         NaN\n",
              "min                       NaN     NaN  ... -2.115006e+06         NaN\n",
              "25%                       NaN     NaN  ...  4.959980e+05         NaN\n",
              "50%                       NaN     NaN  ...  1.395000e+06         NaN\n",
              "75%                       NaN     NaN  ...  5.140000e+06         NaN\n",
              "max                       NaN     NaN  ...  6.046000e+08         NaN\n",
              "\n",
              "[11 rows x 7 columns]"
            ]
          },
          "metadata": {
            "tags": []
          },
          "execution_count": 29
        }
      ]
    },
    {
      "cell_type": "code",
      "metadata": {
        "id": "UcOUQeIbNhbA",
        "colab_type": "code",
        "outputId": "32895ccd-3304-416b-c646-dd3bcf601905",
        "colab": {
          "base_uri": "https://localhost:8080/",
          "height": 394
        }
      },
      "source": [
        "senate.describe(include='all')"
      ],
      "execution_count": 30,
      "outputs": [
        {
          "output_type": "execute_result",
          "data": {
            "text/html": [
              "<div>\n",
              "<style scoped>\n",
              "    .dataframe tbody tr th:only-of-type {\n",
              "        vertical-align: middle;\n",
              "    }\n",
              "\n",
              "    .dataframe tbody tr th {\n",
              "        vertical-align: top;\n",
              "    }\n",
              "\n",
              "    .dataframe thead th {\n",
              "        text-align: right;\n",
              "    }\n",
              "</style>\n",
              "<table border=\"1\" class=\"dataframe\">\n",
              "  <thead>\n",
              "    <tr style=\"text-align: right;\">\n",
              "      <th></th>\n",
              "      <th>name</th>\n",
              "      <th>chamber</th>\n",
              "      <th>party</th>\n",
              "      <th>min_net_worth</th>\n",
              "      <th>avg_net_worth</th>\n",
              "      <th>max_net_worth</th>\n",
              "      <th>state</th>\n",
              "    </tr>\n",
              "  </thead>\n",
              "  <tbody>\n",
              "    <tr>\n",
              "      <th>count</th>\n",
              "      <td>100</td>\n",
              "      <td>100</td>\n",
              "      <td>100</td>\n",
              "      <td>1.000000e+02</td>\n",
              "      <td>1.000000e+02</td>\n",
              "      <td>1.000000e+02</td>\n",
              "      <td>100</td>\n",
              "    </tr>\n",
              "    <tr>\n",
              "      <th>unique</th>\n",
              "      <td>100</td>\n",
              "      <td>1</td>\n",
              "      <td>3</td>\n",
              "      <td>NaN</td>\n",
              "      <td>NaN</td>\n",
              "      <td>NaN</td>\n",
              "      <td>50</td>\n",
              "    </tr>\n",
              "    <tr>\n",
              "      <th>top</th>\n",
              "      <td>Lisa Murkowski (R-Alaska)</td>\n",
              "      <td>S</td>\n",
              "      <td>R</td>\n",
              "      <td>NaN</td>\n",
              "      <td>NaN</td>\n",
              "      <td>NaN</td>\n",
              "      <td>Florida</td>\n",
              "    </tr>\n",
              "    <tr>\n",
              "      <th>freq</th>\n",
              "      <td>1</td>\n",
              "      <td>100</td>\n",
              "      <td>54</td>\n",
              "      <td>NaN</td>\n",
              "      <td>NaN</td>\n",
              "      <td>NaN</td>\n",
              "      <td>2</td>\n",
              "    </tr>\n",
              "    <tr>\n",
              "      <th>mean</th>\n",
              "      <td>NaN</td>\n",
              "      <td>NaN</td>\n",
              "      <td>NaN</td>\n",
              "      <td>4.868958e+06</td>\n",
              "      <td>1.053117e+07</td>\n",
              "      <td>1.619339e+07</td>\n",
              "      <td>NaN</td>\n",
              "    </tr>\n",
              "    <tr>\n",
              "      <th>std</th>\n",
              "      <td>NaN</td>\n",
              "      <td>NaN</td>\n",
              "      <td>NaN</td>\n",
              "      <td>1.328241e+07</td>\n",
              "      <td>2.918950e+07</td>\n",
              "      <td>4.603393e+07</td>\n",
              "      <td>NaN</td>\n",
              "    </tr>\n",
              "    <tr>\n",
              "      <th>min</th>\n",
              "      <td>NaN</td>\n",
              "      <td>NaN</td>\n",
              "      <td>NaN</td>\n",
              "      <td>-4.368992e+06</td>\n",
              "      <td>3.250000e+04</td>\n",
              "      <td>5.000000e+04</td>\n",
              "      <td>NaN</td>\n",
              "    </tr>\n",
              "    <tr>\n",
              "      <th>25%</th>\n",
              "      <td>NaN</td>\n",
              "      <td>NaN</td>\n",
              "      <td>NaN</td>\n",
              "      <td>3.250162e+05</td>\n",
              "      <td>6.966465e+05</td>\n",
              "      <td>1.103250e+06</td>\n",
              "      <td>NaN</td>\n",
              "    </tr>\n",
              "    <tr>\n",
              "      <th>50%</th>\n",
              "      <td>NaN</td>\n",
              "      <td>NaN</td>\n",
              "      <td>NaN</td>\n",
              "      <td>1.216018e+06</td>\n",
              "      <td>2.794518e+06</td>\n",
              "      <td>4.116000e+06</td>\n",
              "      <td>NaN</td>\n",
              "    </tr>\n",
              "    <tr>\n",
              "      <th>75%</th>\n",
              "      <td>NaN</td>\n",
              "      <td>NaN</td>\n",
              "      <td>NaN</td>\n",
              "      <td>3.611299e+06</td>\n",
              "      <td>6.734801e+06</td>\n",
              "      <td>9.616250e+06</td>\n",
              "      <td>NaN</td>\n",
              "    </tr>\n",
              "    <tr>\n",
              "      <th>max</th>\n",
              "      <td>NaN</td>\n",
              "      <td>NaN</td>\n",
              "      <td>NaN</td>\n",
              "      <td>9.513430e+07</td>\n",
              "      <td>2.541686e+08</td>\n",
              "      <td>4.132030e+08</td>\n",
              "      <td>NaN</td>\n",
              "    </tr>\n",
              "  </tbody>\n",
              "</table>\n",
              "</div>"
            ],
            "text/plain": [
              "                             name chamber  ... max_net_worth    state\n",
              "count                         100     100  ...  1.000000e+02      100\n",
              "unique                        100       1  ...           NaN       50\n",
              "top     Lisa Murkowski (R-Alaska)       S  ...           NaN  Florida\n",
              "freq                            1     100  ...           NaN        2\n",
              "mean                          NaN     NaN  ...  1.619339e+07      NaN\n",
              "std                           NaN     NaN  ...  4.603393e+07      NaN\n",
              "min                           NaN     NaN  ...  5.000000e+04      NaN\n",
              "25%                           NaN     NaN  ...  1.103250e+06      NaN\n",
              "50%                           NaN     NaN  ...  4.116000e+06      NaN\n",
              "75%                           NaN     NaN  ...  9.616250e+06      NaN\n",
              "max                           NaN     NaN  ...  4.132030e+08      NaN\n",
              "\n",
              "[11 rows x 7 columns]"
            ]
          },
          "metadata": {
            "tags": []
          },
          "execution_count": 30
        }
      ]
    },
    {
      "cell_type": "code",
      "metadata": {
        "id": "4pOiRyPoNjwb",
        "colab_type": "code",
        "outputId": "d089f15b-b234-40dc-ce0b-c89c75fa1d02",
        "colab": {
          "base_uri": "https://localhost:8080/",
          "height": 584
        }
      },
      "source": [
        "df = pd.read_csv('https://raw.githubusercontent.com/plotly/datasets/master/2011_us_ag_exports.csv')\n",
        "\n",
        "for col in df.columns:\n",
        "    df[col] = df[col].astype(str)\n",
        "\n",
        "scl = [\n",
        "    [0.0, 'rgb(242,240,247)'],\n",
        "    [0.2, 'rgb(218,218,235)'],\n",
        "    [0.4, 'rgb(188,189,220)'],\n",
        "    [0.6, 'rgb(158,154,200)'],\n",
        "    [0.8, 'rgb(117,107,177)'],\n",
        "    [1.0, 'rgb(84,39,143)']\n",
        "]\n",
        "\n",
        "df['text'] = df['state'] + '<br>' + \\\n",
        "    'Beef ' + df['beef'] + ' Dairy ' + df['dairy'] + '<br>' + \\\n",
        "    'Fruits ' + df['total fruits'] + ' Veggies ' + df['total veggies'] + '<br>' + \\\n",
        "    'Wheat ' + df['wheat'] + ' Corn ' + df['corn']\n",
        "\n",
        "data = [go.Choropleth(\n",
        "    colorscale = scl,\n",
        "    autocolorscale = False,\n",
        "    locations = df['code'],\n",
        "    z = df['total exports'].astype(float),\n",
        "    locationmode = 'USA-states',\n",
        "    text = df['text'],\n",
        "    marker = go.choropleth.Marker(\n",
        "        line = go.choropleth.marker.Line(\n",
        "            color = 'rgb(255,255,255)',\n",
        "            width = 2\n",
        "        )),\n",
        "    colorbar = go.choropleth.ColorBar(\n",
        "        title = \"Millions USD\")\n",
        ")]\n",
        "\n",
        "layout = go.Layout(\n",
        "    title = go.layout.Title(\n",
        "        text = '2011 US Agriculture Exports by State<br>(Hover for breakdown)'\n",
        "    ),\n",
        "    geo = go.layout.Geo(\n",
        "        scope = 'usa',\n",
        "        projection = go.layout.geo.Projection(type = 'albers usa'),\n",
        "        showlakes = True,\n",
        "        lakecolor = 'rgb(255, 255, 255)'),\n",
        ")\n",
        "\n",
        "fig = go.Figure(data = data, layout = layout)\n",
        "py.iplot(fig, filename = 'd3-cloropleth-map')"
      ],
      "execution_count": 31,
      "outputs": [
        {
          "output_type": "stream",
          "text": [
            "High five! You successfully sent some data to your account on plotly. View your plot in your browser at https://plot.ly/~elisabethdawn/0 or inside your plot.ly account where it is named 'd3-cloropleth-map'\n"
          ],
          "name": "stdout"
        },
        {
          "output_type": "execute_result",
          "data": {
            "text/html": [
              "<iframe id=\"igraph\" scrolling=\"no\" style=\"border:none;\" seamless=\"seamless\" src=\"https://plot.ly/~elisabethdawn/0.embed\" height=\"525px\" width=\"100%\"></iframe>"
            ],
            "text/plain": [
              "<plotly.tools.PlotlyDisplay object>"
            ]
          },
          "metadata": {
            "tags": []
          },
          "execution_count": 31
        }
      ]
    },
    {
      "cell_type": "code",
      "metadata": {
        "id": "udCO4k-DaeC5",
        "colab_type": "code",
        "outputId": "465d524b-0d0b-434e-8af5-03401854a3ca",
        "colab": {
          "base_uri": "https://localhost:8080/",
          "height": 206
        }
      },
      "source": [
        "senate.head()"
      ],
      "execution_count": 32,
      "outputs": [
        {
          "output_type": "execute_result",
          "data": {
            "text/html": [
              "<div>\n",
              "<style scoped>\n",
              "    .dataframe tbody tr th:only-of-type {\n",
              "        vertical-align: middle;\n",
              "    }\n",
              "\n",
              "    .dataframe tbody tr th {\n",
              "        vertical-align: top;\n",
              "    }\n",
              "\n",
              "    .dataframe thead th {\n",
              "        text-align: right;\n",
              "    }\n",
              "</style>\n",
              "<table border=\"1\" class=\"dataframe\">\n",
              "  <thead>\n",
              "    <tr style=\"text-align: right;\">\n",
              "      <th></th>\n",
              "      <th>name</th>\n",
              "      <th>chamber</th>\n",
              "      <th>party</th>\n",
              "      <th>min_net_worth</th>\n",
              "      <th>avg_net_worth</th>\n",
              "      <th>max_net_worth</th>\n",
              "      <th>state</th>\n",
              "    </tr>\n",
              "  </thead>\n",
              "  <tbody>\n",
              "    <tr>\n",
              "      <th>1</th>\n",
              "      <td>Mark Warner (D-Va)</td>\n",
              "      <td>S</td>\n",
              "      <td>D</td>\n",
              "      <td>95134301.0</td>\n",
              "      <td>254168650.0</td>\n",
              "      <td>413203000.0</td>\n",
              "      <td>Virginia</td>\n",
              "    </tr>\n",
              "    <tr>\n",
              "      <th>7</th>\n",
              "      <td>Richard Blumenthal (D-Conn)</td>\n",
              "      <td>S</td>\n",
              "      <td>D</td>\n",
              "      <td>79915815.0</td>\n",
              "      <td>99581170.0</td>\n",
              "      <td>119246525.0</td>\n",
              "      <td>Connecticut</td>\n",
              "    </tr>\n",
              "    <tr>\n",
              "      <th>11</th>\n",
              "      <td>Dianne Feinstein (D-Calif)</td>\n",
              "      <td>S</td>\n",
              "      <td>D</td>\n",
              "      <td>42023117.0</td>\n",
              "      <td>77235068.0</td>\n",
              "      <td>112447020.0</td>\n",
              "      <td>California</td>\n",
              "    </tr>\n",
              "    <tr>\n",
              "      <th>14</th>\n",
              "      <td>Bob Corker (R-Tenn)</td>\n",
              "      <td>S</td>\n",
              "      <td>R</td>\n",
              "      <td>19118035.0</td>\n",
              "      <td>54419017.0</td>\n",
              "      <td>89720000.0</td>\n",
              "      <td>Tennessee</td>\n",
              "    </tr>\n",
              "    <tr>\n",
              "      <th>15</th>\n",
              "      <td>James E. Risch (R-Idaho)</td>\n",
              "      <td>S</td>\n",
              "      <td>R</td>\n",
              "      <td>19188056.0</td>\n",
              "      <td>53630527.0</td>\n",
              "      <td>88072998.0</td>\n",
              "      <td>Idaho</td>\n",
              "    </tr>\n",
              "  </tbody>\n",
              "</table>\n",
              "</div>"
            ],
            "text/plain": [
              "                           name chamber  ... max_net_worth        state\n",
              "1            Mark Warner (D-Va)       S  ...   413203000.0     Virginia\n",
              "7   Richard Blumenthal (D-Conn)       S  ...   119246525.0  Connecticut\n",
              "11   Dianne Feinstein (D-Calif)       S  ...   112447020.0   California\n",
              "14          Bob Corker (R-Tenn)       S  ...    89720000.0    Tennessee\n",
              "15     James E. Risch (R-Idaho)       S  ...    88072998.0        Idaho\n",
              "\n",
              "[5 rows x 7 columns]"
            ]
          },
          "metadata": {
            "tags": []
          },
          "execution_count": 32
        }
      ]
    },
    {
      "cell_type": "code",
      "metadata": {
        "id": "dZIqE_VKvqVN",
        "colab_type": "code",
        "colab": {}
      },
      "source": [
        "senate = senate.sort_values('state').reset_index(drop=True)"
      ],
      "execution_count": 0,
      "outputs": []
    },
    {
      "cell_type": "code",
      "metadata": {
        "id": "_lW-kD0owmJU",
        "colab_type": "code",
        "outputId": "b440a8a5-d2d5-48ca-b514-5d88e6916b7b",
        "colab": {
          "base_uri": "https://localhost:8080/",
          "height": 54
        }
      },
      "source": [
        "np.corrcoef(x=senate['avg_net_worth'][senate.index % 2 == 0], y=senate['avg_net_worth'][senate.index % 2 != 0])"
      ],
      "execution_count": 34,
      "outputs": [
        {
          "output_type": "execute_result",
          "data": {
            "text/plain": [
              "array([[ 1.        , -0.03349647],\n",
              "       [-0.03349647,  1.        ]])"
            ]
          },
          "metadata": {
            "tags": []
          },
          "execution_count": 34
        }
      ]
    },
    {
      "cell_type": "code",
      "metadata": {
        "id": "52ueIo49ygfJ",
        "colab_type": "code",
        "outputId": "ba4c26af-c1f6-4567-c2fc-b0e875d50b4b",
        "colab": {
          "base_uri": "https://localhost:8080/",
          "height": 36
        }
      },
      "source": [
        "ttest_ind(senate['avg_net_worth'][senate['party']=='R'], senate['avg_net_worth'][senate['party']=='D'], equal_var=False)"
      ],
      "execution_count": 35,
      "outputs": [
        {
          "output_type": "execute_result",
          "data": {
            "text/plain": [
              "Ttest_indResult(statistic=-0.6308698990205475, pvalue=0.5309860769235722)"
            ]
          },
          "metadata": {
            "tags": []
          },
          "execution_count": 35
        }
      ]
    },
    {
      "cell_type": "code",
      "metadata": {
        "id": "C_WE22D1zs48",
        "colab_type": "code",
        "outputId": "816b71c4-7013-4be5-b9e7-2a80c104a465",
        "colab": {
          "base_uri": "https://localhost:8080/",
          "height": 36
        }
      },
      "source": [
        "ttest_ind(house['avg_net_worth'][house['party']=='R'], house['avg_net_worth'][house['party']=='D'], equal_var=False)"
      ],
      "execution_count": 36,
      "outputs": [
        {
          "output_type": "execute_result",
          "data": {
            "text/plain": [
              "Ttest_indResult(statistic=0.3447048800868635, pvalue=0.7304844462816487)"
            ]
          },
          "metadata": {
            "tags": []
          },
          "execution_count": 36
        }
      ]
    },
    {
      "cell_type": "code",
      "metadata": {
        "id": "xTyyP9Db9y4u",
        "colab_type": "code",
        "outputId": "93baa756-6b79-457c-ef8e-1021c4b78a65",
        "colab": {
          "base_uri": "https://localhost:8080/",
          "height": 36
        }
      },
      "source": [
        "ttest_ind(congress['avg_net_worth'][congress['party']=='R'], congress['avg_net_worth'][congress['party']=='D'], equal_var=False)"
      ],
      "execution_count": 37,
      "outputs": [
        {
          "output_type": "execute_result",
          "data": {
            "text/plain": [
              "Ttest_indResult(statistic=0.007712266798422995, pvalue=0.9938495696346045)"
            ]
          },
          "metadata": {
            "tags": []
          },
          "execution_count": 37
        }
      ]
    },
    {
      "cell_type": "code",
      "metadata": {
        "id": "nrZArh-d975T",
        "colab_type": "code",
        "outputId": "25847640-2f46-4f95-a3fd-e660c1ddc926",
        "colab": {
          "base_uri": "https://localhost:8080/",
          "height": 36
        }
      },
      "source": [
        "ttest_ind(house['avg_net_worth'], senate['avg_net_worth'], equal_var=False)"
      ],
      "execution_count": 38,
      "outputs": [
        {
          "output_type": "execute_result",
          "data": {
            "text/plain": [
              "Ttest_indResult(statistic=-0.924969839138727, pvalue=0.35642253609825425)"
            ]
          },
          "metadata": {
            "tags": []
          },
          "execution_count": 38
        }
      ]
    },
    {
      "cell_type": "code",
      "metadata": {
        "id": "R_Nwc-xpCLD2",
        "colab_type": "code",
        "outputId": "4a29641d-73ad-4979-f20f-63730b27178c",
        "colab": {
          "base_uri": "https://localhost:8080/",
          "height": 36
        }
      },
      "source": [
        "house['avg_net_worth'].median()"
      ],
      "execution_count": 39,
      "outputs": [
        {
          "output_type": "execute_result",
          "data": {
            "text/plain": [
              "843507.0"
            ]
          },
          "metadata": {
            "tags": []
          },
          "execution_count": 39
        }
      ]
    },
    {
      "cell_type": "code",
      "metadata": {
        "id": "lIGQ1XWVCO28",
        "colab_type": "code",
        "outputId": "8db4374b-157a-4f27-8071-ef25784e3825",
        "colab": {
          "base_uri": "https://localhost:8080/",
          "height": 36
        }
      },
      "source": [
        "senate['avg_net_worth'].median()"
      ],
      "execution_count": 40,
      "outputs": [
        {
          "output_type": "execute_result",
          "data": {
            "text/plain": [
              "2794518.0"
            ]
          },
          "metadata": {
            "tags": []
          },
          "execution_count": 40
        }
      ]
    },
    {
      "cell_type": "code",
      "metadata": {
        "id": "65_mIRKfFhI-",
        "colab_type": "code",
        "outputId": "ecd76d16-c7fe-425e-dc6c-ded6ab83f3ba",
        "colab": {
          "base_uri": "https://localhost:8080/",
          "height": 36
        }
      },
      "source": [
        "congress['avg_net_worth'][congress['party']=='R'].median()"
      ],
      "execution_count": 41,
      "outputs": [
        {
          "output_type": "execute_result",
          "data": {
            "text/plain": [
              "1107017.0"
            ]
          },
          "metadata": {
            "tags": []
          },
          "execution_count": 41
        }
      ]
    },
    {
      "cell_type": "code",
      "metadata": {
        "id": "68fjVaeqFzjG",
        "colab_type": "code",
        "outputId": "525990e8-9a2b-4061-a18a-9387b3b5cca2",
        "colab": {
          "base_uri": "https://localhost:8080/",
          "height": 36
        }
      },
      "source": [
        "congress['avg_net_worth'][congress['party']=='D'].median()"
      ],
      "execution_count": 42,
      "outputs": [
        {
          "output_type": "execute_result",
          "data": {
            "text/plain": [
              "946511.0"
            ]
          },
          "metadata": {
            "tags": []
          },
          "execution_count": 42
        }
      ]
    },
    {
      "cell_type": "code",
      "metadata": {
        "id": "wwJAuEPB-Hnd",
        "colab_type": "code",
        "outputId": "cbf7047a-a388-48b1-8cf3-930242c2c42a",
        "colab": {
          "base_uri": "https://localhost:8080/",
          "height": 291
        }
      },
      "source": [
        "sns.distplot(congress['avg_net_worth']);"
      ],
      "execution_count": 43,
      "outputs": [
        {
          "output_type": "display_data",
          "data": {
            "image/png": "[encoded data removed]",
            "text/plain": [
              "<Figure size 432x288 with 1 Axes>"
            ]
          },
          "metadata": {
            "tags": []
          }
        }
      ]
    },
    {
      "cell_type": "code",
      "metadata": {
        "id": "C9LSFY4jxNST",
        "colab_type": "code",
        "colab": {
          "base_uri": "https://localhost:8080/",
          "height": 223
        },
        "outputId": "60ac444d-72e4-470c-f6c7-bcbb63fc1031"
      },
      "source": [
        "max_net_by_state = congress[['state', 'max_net_worth']].groupby(by='state').max()\n",
        "print(max_net_by_state.index)"
      ],
      "execution_count": 44,
      "outputs": [
        {
          "output_type": "stream",
          "text": [
            "Index(['Alabama', 'Alaska', 'Arizona', 'Arkansas', 'California', 'Colorado',\n",
            "       'Connecticut', 'Delaware', 'Florida', 'Georgia', 'Hawaii', 'Idaho',\n",
            "       'Illinois', 'Indiana', 'Iowa', 'Kansas', 'Kentucky', 'Louisiana',\n",
            "       'Maine', 'Maryland', 'Massachusetts', 'Michigan', 'Minnesota',\n",
            "       'Mississippi', 'Missouri', 'Montana', 'Nebraska', 'Nevada',\n",
            "       'New Hampshire', 'New Jersey', 'New Mexico', 'New York',\n",
            "       'North Carolina', 'North Dakota', 'Ohio', 'Oklahoma', 'Oregon',\n",
            "       'Pennsylvania', 'Rhode Island', 'South Carolina', 'South Dakota',\n",
            "       'Tennessee', 'Texas', 'Utah', 'Vermont', 'Virginia', 'Washington',\n",
            "       'West Virginia', 'Wisconsin', 'Wyoming'],\n",
            "      dtype='object', name='state')\n"
          ],
          "name": "stdout"
        }
      ]
    },
    {
      "cell_type": "code",
      "metadata": {
        "id": "eUpfYXHDA1Yo",
        "colab_type": "code",
        "colab": {
          "base_uri": "https://localhost:8080/",
          "height": 761
        },
        "outputId": "596bc313-2d9c-4be5-ded5-9fc1db765949"
      },
      "source": [
        "scl = [\n",
        "    [0.0, 'rgb(242,240,247)'],\n",
        "    [0.2, 'rgb(218,218,235)'],\n",
        "    [0.4, 'rgb(188,189,220)'],\n",
        "    [0.6, 'rgb(158,154,200)'],\n",
        "    [0.8, 'rgb(117,107,177)'],\n",
        "    [1.0, 'rgb(84,39,143)']\n",
        "]\n",
        "\n",
        "max_net_by_state['text'] = '{}<br>{}'.format(max_net_by_state['state'], \n",
        "                                             max_net_by_state['max_net_worth'])\n",
        "\n",
        "data = [go.Choropleth(\n",
        "    colorscale = scl,\n",
        "    autocolorscale = False,\n",
        "    locations = max_net_by_state['state'],\n",
        "    z = max_net_by_state['max_net_worth'].astype(float),\n",
        "    locationmode = 'USA-states',\n",
        "    text = max_net_by_state['text'],\n",
        "    marker = go.choropleth.Marker(\n",
        "        line = go.choropleth.marker.Line(\n",
        "            color = 'rgb(255,255,255)',\n",
        "            width = 2\n",
        "        )),\n",
        "    colorbar = go.choropleth.ColorBar(\n",
        "        title = \"Millions USD\")\n",
        ")]\n",
        "\n",
        "layout = go.Layout(\n",
        "    title = go.layout.Title(\n",
        "        text = 'Maximum Estimated Net Worth of Any Legislator From State'\n",
        "    ),\n",
        "    geo = go.layout.Geo(\n",
        "        scope = 'usa',\n",
        "        projection = go.layout.geo.Projection(type = 'albers usa'),\n",
        "        showlakes = True,\n",
        "        lakecolor = 'rgb(255, 255, 255)'),\n",
        ")\n",
        "\n",
        "fig = go.Figure(data = data, layout = layout)\n",
        "py.iplot(fig, filename = 'd3-cloropleth-map')"
      ],
      "execution_count": 45,
      "outputs": [
        {
          "output_type": "error",
          "ename": "KeyError",
          "evalue": "ignored",
          "traceback": [
            "\u001b[0;31m---------------------------------------------------------------------------\u001b[0m",
            "\u001b[0;31mKeyError\u001b[0m                                  Traceback (most recent call last)",
            "\u001b[0;32m/usr/local/lib/python3.6/dist-packages/pandas/core/indexes/base.py\u001b[0m in \u001b[0;36mget_loc\u001b[0;34m(self, key, method, tolerance)\u001b[0m\n\u001b[1;32m   2656\u001b[0m             \u001b[0;32mtry\u001b[0m\u001b[0;34m:\u001b[0m\u001b[0;34m\u001b[0m\u001b[0;34m\u001b[0m\u001b[0m\n\u001b[0;32m-> 2657\u001b[0;31m                 \u001b[0;32mreturn\u001b[0m \u001b[0mself\u001b[0m\u001b[0;34m.\u001b[0m\u001b[0m_engine\u001b[0m\u001b[0;34m.\u001b[0m\u001b[0mget_loc\u001b[0m\u001b[0;34m(\u001b[0m\u001b[0mkey\u001b[0m\u001b[0;34m)\u001b[0m\u001b[0;34m\u001b[0m\u001b[0;34m\u001b[0m\u001b[0m\n\u001b[0m\u001b[1;32m   2658\u001b[0m             \u001b[0;32mexcept\u001b[0m \u001b[0mKeyError\u001b[0m\u001b[0;34m:\u001b[0m\u001b[0;34m\u001b[0m\u001b[0;34m\u001b[0m\u001b[0m\n",
            "\u001b[0;32mpandas/_libs/index.pyx\u001b[0m in \u001b[0;36mpandas._libs.index.IndexEngine.get_loc\u001b[0;34m()\u001b[0m\n",
            "\u001b[0;32mpandas/_libs/index.pyx\u001b[0m in \u001b[0;36mpandas._libs.index.IndexEngine.get_loc\u001b[0;34m()\u001b[0m\n",
            "\u001b[0;32mpandas/_libs/hashtable_class_helper.pxi\u001b[0m in \u001b[0;36mpandas._libs.hashtable.PyObjectHashTable.get_item\u001b[0;34m()\u001b[0m\n",
            "\u001b[0;32mpandas/_libs/hashtable_class_helper.pxi\u001b[0m in \u001b[0;36mpandas._libs.hashtable.PyObjectHashTable.get_item\u001b[0;34m()\u001b[0m\n",
            "\u001b[0;31mKeyError\u001b[0m: 'state'",
            "\nDuring handling of the above exception, another exception occurred:\n",
            "\u001b[0;31mKeyError\u001b[0m                                  Traceback (most recent call last)",
            "\u001b[0;32m<ipython-input-45-098738df587b>\u001b[0m in \u001b[0;36m<module>\u001b[0;34m()\u001b[0m\n\u001b[1;32m      8\u001b[0m ]\n\u001b[1;32m      9\u001b[0m \u001b[0;34m\u001b[0m\u001b[0m\n\u001b[0;32m---> 10\u001b[0;31m max_net_by_state['text'] = '{}<br>{}'.format(max_net_by_state['state'], \n\u001b[0m\u001b[1;32m     11\u001b[0m                                              max_net_by_state['max_net_worth'])\n\u001b[1;32m     12\u001b[0m \u001b[0;34m\u001b[0m\u001b[0m\n",
            "\u001b[0;32m/usr/local/lib/python3.6/dist-packages/pandas/core/frame.py\u001b[0m in \u001b[0;36m__getitem__\u001b[0;34m(self, key)\u001b[0m\n\u001b[1;32m   2925\u001b[0m             \u001b[0;32mif\u001b[0m \u001b[0mself\u001b[0m\u001b[0;34m.\u001b[0m\u001b[0mcolumns\u001b[0m\u001b[0;34m.\u001b[0m\u001b[0mnlevels\u001b[0m \u001b[0;34m>\u001b[0m \u001b[0;36m1\u001b[0m\u001b[0;34m:\u001b[0m\u001b[0;34m\u001b[0m\u001b[0;34m\u001b[0m\u001b[0m\n\u001b[1;32m   2926\u001b[0m                 \u001b[0;32mreturn\u001b[0m \u001b[0mself\u001b[0m\u001b[0;34m.\u001b[0m\u001b[0m_getitem_multilevel\u001b[0m\u001b[0;34m(\u001b[0m\u001b[0mkey\u001b[0m\u001b[0;34m)\u001b[0m\u001b[0;34m\u001b[0m\u001b[0;34m\u001b[0m\u001b[0m\n\u001b[0;32m-> 2927\u001b[0;31m             \u001b[0mindexer\u001b[0m \u001b[0;34m=\u001b[0m \u001b[0mself\u001b[0m\u001b[0;34m.\u001b[0m\u001b[0mcolumns\u001b[0m\u001b[0;34m.\u001b[0m\u001b[0mget_loc\u001b[0m\u001b[0;34m(\u001b[0m\u001b[0mkey\u001b[0m\u001b[0;34m)\u001b[0m\u001b[0;34m\u001b[0m\u001b[0;34m\u001b[0m\u001b[0m\n\u001b[0m\u001b[1;32m   2928\u001b[0m             \u001b[0;32mif\u001b[0m \u001b[0mis_integer\u001b[0m\u001b[0;34m(\u001b[0m\u001b[0mindexer\u001b[0m\u001b[0;34m)\u001b[0m\u001b[0;34m:\u001b[0m\u001b[0;34m\u001b[0m\u001b[0;34m\u001b[0m\u001b[0m\n\u001b[1;32m   2929\u001b[0m                 \u001b[0mindexer\u001b[0m \u001b[0;34m=\u001b[0m \u001b[0;34m[\u001b[0m\u001b[0mindexer\u001b[0m\u001b[0;34m]\u001b[0m\u001b[0;34m\u001b[0m\u001b[0;34m\u001b[0m\u001b[0m\n",
            "\u001b[0;32m/usr/local/lib/python3.6/dist-packages/pandas/core/indexes/base.py\u001b[0m in \u001b[0;36mget_loc\u001b[0;34m(self, key, method, tolerance)\u001b[0m\n\u001b[1;32m   2657\u001b[0m                 \u001b[0;32mreturn\u001b[0m \u001b[0mself\u001b[0m\u001b[0;34m.\u001b[0m\u001b[0m_engine\u001b[0m\u001b[0;34m.\u001b[0m\u001b[0mget_loc\u001b[0m\u001b[0;34m(\u001b[0m\u001b[0mkey\u001b[0m\u001b[0;34m)\u001b[0m\u001b[0;34m\u001b[0m\u001b[0;34m\u001b[0m\u001b[0m\n\u001b[1;32m   2658\u001b[0m             \u001b[0;32mexcept\u001b[0m \u001b[0mKeyError\u001b[0m\u001b[0;34m:\u001b[0m\u001b[0;34m\u001b[0m\u001b[0;34m\u001b[0m\u001b[0m\n\u001b[0;32m-> 2659\u001b[0;31m                 \u001b[0;32mreturn\u001b[0m \u001b[0mself\u001b[0m\u001b[0;34m.\u001b[0m\u001b[0m_engine\u001b[0m\u001b[0;34m.\u001b[0m\u001b[0mget_loc\u001b[0m\u001b[0;34m(\u001b[0m\u001b[0mself\u001b[0m\u001b[0;34m.\u001b[0m\u001b[0m_maybe_cast_indexer\u001b[0m\u001b[0;34m(\u001b[0m\u001b[0mkey\u001b[0m\u001b[0;34m)\u001b[0m\u001b[0;34m)\u001b[0m\u001b[0;34m\u001b[0m\u001b[0;34m\u001b[0m\u001b[0m\n\u001b[0m\u001b[1;32m   2660\u001b[0m         \u001b[0mindexer\u001b[0m \u001b[0;34m=\u001b[0m \u001b[0mself\u001b[0m\u001b[0;34m.\u001b[0m\u001b[0mget_indexer\u001b[0m\u001b[0;34m(\u001b[0m\u001b[0;34m[\u001b[0m\u001b[0mkey\u001b[0m\u001b[0;34m]\u001b[0m\u001b[0;34m,\u001b[0m \u001b[0mmethod\u001b[0m\u001b[0;34m=\u001b[0m\u001b[0mmethod\u001b[0m\u001b[0;34m,\u001b[0m \u001b[0mtolerance\u001b[0m\u001b[0;34m=\u001b[0m\u001b[0mtolerance\u001b[0m\u001b[0;34m)\u001b[0m\u001b[0;34m\u001b[0m\u001b[0;34m\u001b[0m\u001b[0m\n\u001b[1;32m   2661\u001b[0m         \u001b[0;32mif\u001b[0m \u001b[0mindexer\u001b[0m\u001b[0;34m.\u001b[0m\u001b[0mndim\u001b[0m \u001b[0;34m>\u001b[0m \u001b[0;36m1\u001b[0m \u001b[0;32mor\u001b[0m \u001b[0mindexer\u001b[0m\u001b[0;34m.\u001b[0m\u001b[0msize\u001b[0m \u001b[0;34m>\u001b[0m \u001b[0;36m1\u001b[0m\u001b[0;34m:\u001b[0m\u001b[0;34m\u001b[0m\u001b[0;34m\u001b[0m\u001b[0m\n",
            "\u001b[0;32mpandas/_libs/index.pyx\u001b[0m in \u001b[0;36mpandas._libs.index.IndexEngine.get_loc\u001b[0;34m()\u001b[0m\n",
            "\u001b[0;32mpandas/_libs/index.pyx\u001b[0m in \u001b[0;36mpandas._libs.index.IndexEngine.get_loc\u001b[0;34m()\u001b[0m\n",
            "\u001b[0;32mpandas/_libs/hashtable_class_helper.pxi\u001b[0m in \u001b[0;36mpandas._libs.hashtable.PyObjectHashTable.get_item\u001b[0;34m()\u001b[0m\n",
            "\u001b[0;32mpandas/_libs/hashtable_class_helper.pxi\u001b[0m in \u001b[0;36mpandas._libs.hashtable.PyObjectHashTable.get_item\u001b[0;34m()\u001b[0m\n",
            "\u001b[0;31mKeyError\u001b[0m: 'state'"
          ]
        }
      ]
    },
    {
      "cell_type": "code",
      "metadata": {
        "id": "LYQjESSkz7_U",
        "colab_type": "code",
        "colab": {}
      },
      "source": [
        "max_net_by_state['text']"
      ],
      "execution_count": 0,
      "outputs": []
    },
    {
      "cell_type": "code",
      "metadata": {
        "id": "wY0GpnIOy4Rb",
        "colab_type": "code",
        "colab": {}
      },
      "source": [
        ""
      ],
      "execution_count": 0,
      "outputs": []
    }
  ]
}