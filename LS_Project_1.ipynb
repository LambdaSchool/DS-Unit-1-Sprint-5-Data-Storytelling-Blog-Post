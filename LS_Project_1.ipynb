{
  "nbformat": 4,
  "nbformat_minor": 0,
  "metadata": {
    "colab": {
      "name": "LS Project 1.ipynb",
      "version": "0.3.2",
      "provenance": [],
      "collapsed_sections": []
    },
    "kernelspec": {
      "name": "python3",
      "display_name": "Python 3"
    }
  },
  "cells": [
    {
      "cell_type": "code",
      "metadata": {
        "id": "XQ4WzLpsbngr",
        "colab_type": "code",
        "colab": {
          "base_uri": "https://localhost:8080/",
          "height": 256
        },
        "outputId": "386a76ac-4c64-4e7f-e25e-a24aca14f666"
      },
      "source": [
        "!pip install us"
      ],
      "execution_count": 18,
      "outputs": [
        {
          "output_type": "stream",
          "text": [
            "Collecting us\n",
            "  Downloading https://files.pythonhosted.org/packages/72/83/8731cbf5afcf3434c0b24cfc520c11fd27bfc8a6878114662f4e3dbdab71/us-1.0.0.tar.gz\n",
            "Collecting jellyfish==0.5.6 (from us)\n",
            "\u001b[?25l  Downloading https://files.pythonhosted.org/packages/94/48/ddb1458d966f0a84e472d059d87a9d1527df7768a725132fc1d810728386/jellyfish-0.5.6.tar.gz (132kB)\n",
            "\u001b[K     |████████████████████████████████| 133kB 6.9MB/s \n",
            "\u001b[?25hBuilding wheels for collected packages: us, jellyfish\n",
            "  Building wheel for us (setup.py) ... \u001b[?25l\u001b[?25hdone\n",
            "  Stored in directory: /root/.cache/pip/wheels/b3/98/40/cb8be35d7779a0ae4372c84e7a585c947bfc41540fd8999e53\n",
            "  Building wheel for jellyfish (setup.py) ... \u001b[?25l\u001b[?25hdone\n",
            "  Stored in directory: /root/.cache/pip/wheels/3b/29/06/8d686d24f742cb89e7bde7f26f18cb9e89b3c8bcd6999cb12a\n",
            "Successfully built us jellyfish\n",
            "Installing collected packages: jellyfish, us\n",
            "Successfully installed jellyfish-0.5.6 us-1.0.0\n"
          ],
          "name": "stdout"
        }
      ]
    },
    {
      "cell_type": "code",
      "metadata": {
        "id": "T0FTASX2MLCN",
        "colab_type": "code",
        "colab": {}
      },
      "source": [
        "import pandas as pd\n",
        "import plotly\n",
        "import plotly.plotly as py\n",
        "import plotly.graph_objs as go\n",
        "import re\n",
        "import us"
      ],
      "execution_count": 0,
      "outputs": []
    },
    {
      "cell_type": "code",
      "metadata": {
        "id": "aM-t-4CSTGg4",
        "colab_type": "code",
        "colab": {}
      },
      "source": [
        "plotly.tools.set_credentials_file(username='elisabethdawn', api_key='UdLMj8B6qByw1MXxyCnM')"
      ],
      "execution_count": 0,
      "outputs": []
    },
    {
      "cell_type": "code",
      "metadata": {
        "id": "XbppbpbyHsAw",
        "colab_type": "code",
        "colab": {}
      },
      "source": [
        "congress = pd.read_csv('https://raw.githubusercontent.com/ElisabethShah/DS-Unit-1-Sprint-5-Data-Storytelling-Blog-Post/master/data/PersonalWealth2013')"
      ],
      "execution_count": 0,
      "outputs": []
    },
    {
      "cell_type": "code",
      "metadata": {
        "id": "n1CA1FiCMHaE",
        "colab_type": "code",
        "outputId": "a93ba7f9-b58b-4e08-c067-d560105c8bfe",
        "colab": {
          "base_uri": "https://localhost:8080/",
          "height": 206
        }
      },
      "source": [
        "congress.head()"
      ],
      "execution_count": 4,
      "outputs": [
        {
          "output_type": "execute_result",
          "data": {
            "text/html": [
              "<div>\n",
              "<style scoped>\n",
              "    .dataframe tbody tr th:only-of-type {\n",
              "        vertical-align: middle;\n",
              "    }\n",
              "\n",
              "    .dataframe tbody tr th {\n",
              "        vertical-align: top;\n",
              "    }\n",
              "\n",
              "    .dataframe thead th {\n",
              "        text-align: right;\n",
              "    }\n",
              "</style>\n",
              "<table border=\"1\" class=\"dataframe\">\n",
              "  <thead>\n",
              "    <tr style=\"text-align: right;\">\n",
              "      <th></th>\n",
              "      <th>Name</th>\n",
              "      <th>Chamber</th>\n",
              "      <th>Party</th>\n",
              "      <th>Min. Net Worth</th>\n",
              "      <th>Avg. Net Worth</th>\n",
              "      <th>Max. Net Worth</th>\n",
              "      <th>Research by the Center for Responsive Politics</th>\n",
              "    </tr>\n",
              "  </thead>\n",
              "  <tbody>\n",
              "    <tr>\n",
              "      <th>0</th>\n",
              "      <td>Darrell Issa (R-Calif)</td>\n",
              "      <td>H</td>\n",
              "      <td>R</td>\n",
              "      <td>$292,250,034</td>\n",
              "      <td>$448,425,019</td>\n",
              "      <td>$604,600,004</td>\n",
              "      <td>Research by the Center for Responsive Politics</td>\n",
              "    </tr>\n",
              "    <tr>\n",
              "      <th>1</th>\n",
              "      <td>Mark Warner (D-Va)</td>\n",
              "      <td>S</td>\n",
              "      <td>D</td>\n",
              "      <td>$95,134,301</td>\n",
              "      <td>$254,168,650</td>\n",
              "      <td>$413,203,000</td>\n",
              "      <td>Research by the Center for Responsive Politics</td>\n",
              "    </tr>\n",
              "    <tr>\n",
              "      <th>2</th>\n",
              "      <td>John K. Delaney (D-Md)</td>\n",
              "      <td>H</td>\n",
              "      <td>D</td>\n",
              "      <td>$109,038,155</td>\n",
              "      <td>$222,410,577</td>\n",
              "      <td>$335,782,999</td>\n",
              "      <td>Research by the Center for Responsive Politics</td>\n",
              "    </tr>\n",
              "    <tr>\n",
              "      <th>3</th>\n",
              "      <td>Jared Polis (D-Colo)</td>\n",
              "      <td>H</td>\n",
              "      <td>D</td>\n",
              "      <td>$70,227,432</td>\n",
              "      <td>$213,224,214</td>\n",
              "      <td>$356,220,997</td>\n",
              "      <td>Research by the Center for Responsive Politics</td>\n",
              "    </tr>\n",
              "    <tr>\n",
              "      <th>4</th>\n",
              "      <td>Dave Trott (R-Mich)</td>\n",
              "      <td>H</td>\n",
              "      <td>R</td>\n",
              "      <td>$89,945,456</td>\n",
              "      <td>$200,509,228</td>\n",
              "      <td>$311,073,000</td>\n",
              "      <td>Research by the Center for Responsive Politics</td>\n",
              "    </tr>\n",
              "  </tbody>\n",
              "</table>\n",
              "</div>"
            ],
            "text/plain": [
              "                     Name  ...  Research by the Center for Responsive Politics\n",
              "0  Darrell Issa (R-Calif)  ...  Research by the Center for Responsive Politics\n",
              "1      Mark Warner (D-Va)  ...  Research by the Center for Responsive Politics\n",
              "2  John K. Delaney (D-Md)  ...  Research by the Center for Responsive Politics\n",
              "3    Jared Polis (D-Colo)  ...  Research by the Center for Responsive Politics\n",
              "4     Dave Trott (R-Mich)  ...  Research by the Center for Responsive Politics\n",
              "\n",
              "[5 rows x 7 columns]"
            ]
          },
          "metadata": {
            "tags": []
          },
          "execution_count": 4
        }
      ]
    },
    {
      "cell_type": "code",
      "metadata": {
        "id": "sPRZ9PBwQ5iw",
        "colab_type": "code",
        "outputId": "e73e1543-ba25-469d-99fc-2cca23270362",
        "colab": {
          "base_uri": "https://localhost:8080/",
          "height": 206
        }
      },
      "source": [
        "congress.tail()"
      ],
      "execution_count": 5,
      "outputs": [
        {
          "output_type": "execute_result",
          "data": {
            "text/html": [
              "<div>\n",
              "<style scoped>\n",
              "    .dataframe tbody tr th:only-of-type {\n",
              "        vertical-align: middle;\n",
              "    }\n",
              "\n",
              "    .dataframe tbody tr th {\n",
              "        vertical-align: top;\n",
              "    }\n",
              "\n",
              "    .dataframe thead th {\n",
              "        text-align: right;\n",
              "    }\n",
              "</style>\n",
              "<table border=\"1\" class=\"dataframe\">\n",
              "  <thead>\n",
              "    <tr style=\"text-align: right;\">\n",
              "      <th></th>\n",
              "      <th>Name</th>\n",
              "      <th>Chamber</th>\n",
              "      <th>Party</th>\n",
              "      <th>Min. Net Worth</th>\n",
              "      <th>Avg. Net Worth</th>\n",
              "      <th>Max. Net Worth</th>\n",
              "      <th>Research by the Center for Responsive Politics</th>\n",
              "    </tr>\n",
              "  </thead>\n",
              "  <tbody>\n",
              "    <tr>\n",
              "      <th>528</th>\n",
              "      <td>Ruben Hinojosa (D-Texas)</td>\n",
              "      <td>H</td>\n",
              "      <td>D</td>\n",
              "      <td>-$5,045,927</td>\n",
              "      <td>-$1,865,466</td>\n",
              "      <td>$1,314,995</td>\n",
              "      <td>Research by the Center for Responsive Politics</td>\n",
              "    </tr>\n",
              "    <tr>\n",
              "      <th>529</th>\n",
              "      <td>Jeff Fortenberry (R-Neb)</td>\n",
              "      <td>H</td>\n",
              "      <td>R</td>\n",
              "      <td>-$4,445,993</td>\n",
              "      <td>-$2,042,997</td>\n",
              "      <td>$359,998</td>\n",
              "      <td>Research by the Center for Responsive Politics</td>\n",
              "    </tr>\n",
              "    <tr>\n",
              "      <th>530</th>\n",
              "      <td>Emanuel Cleaver (D-Mo)</td>\n",
              "      <td>H</td>\n",
              "      <td>D</td>\n",
              "      <td>-$4,637,988</td>\n",
              "      <td>-$2,291,495</td>\n",
              "      <td>$54,998</td>\n",
              "      <td>Research by the Center for Responsive Politics</td>\n",
              "    </tr>\n",
              "    <tr>\n",
              "      <th>531</th>\n",
              "      <td>Alcee L. Hastings (D-Fla)</td>\n",
              "      <td>H</td>\n",
              "      <td>D</td>\n",
              "      <td>-$7,348,999</td>\n",
              "      <td>-$4,732,002</td>\n",
              "      <td>-$2,115,006</td>\n",
              "      <td>Research by the Center for Responsive Politics</td>\n",
              "    </tr>\n",
              "    <tr>\n",
              "      <th>532</th>\n",
              "      <td>David Valadao (R-Calif)</td>\n",
              "      <td>H</td>\n",
              "      <td>R</td>\n",
              "      <td>-$23,998,997</td>\n",
              "      <td>-$11,592,002</td>\n",
              "      <td>$814,993</td>\n",
              "      <td>Research by the Center for Responsive Politics</td>\n",
              "    </tr>\n",
              "  </tbody>\n",
              "</table>\n",
              "</div>"
            ],
            "text/plain": [
              "                          Name  ...  Research by the Center for Responsive Politics\n",
              "528   Ruben Hinojosa (D-Texas)  ...  Research by the Center for Responsive Politics\n",
              "529   Jeff Fortenberry (R-Neb)  ...  Research by the Center for Responsive Politics\n",
              "530     Emanuel Cleaver (D-Mo)  ...  Research by the Center for Responsive Politics\n",
              "531  Alcee L. Hastings (D-Fla)  ...  Research by the Center for Responsive Politics\n",
              "532    David Valadao (R-Calif)  ...  Research by the Center for Responsive Politics\n",
              "\n",
              "[5 rows x 7 columns]"
            ]
          },
          "metadata": {
            "tags": []
          },
          "execution_count": 5
        }
      ]
    },
    {
      "cell_type": "code",
      "metadata": {
        "id": "N6hGn-YGMag9",
        "colab_type": "code",
        "outputId": "48b7bee9-f7d2-4a1b-c999-05cca988feb1",
        "colab": {
          "base_uri": "https://localhost:8080/",
          "height": 175
        }
      },
      "source": [
        "congress.describe(include='all')"
      ],
      "execution_count": 6,
      "outputs": [
        {
          "output_type": "execute_result",
          "data": {
            "text/html": [
              "<div>\n",
              "<style scoped>\n",
              "    .dataframe tbody tr th:only-of-type {\n",
              "        vertical-align: middle;\n",
              "    }\n",
              "\n",
              "    .dataframe tbody tr th {\n",
              "        vertical-align: top;\n",
              "    }\n",
              "\n",
              "    .dataframe thead th {\n",
              "        text-align: right;\n",
              "    }\n",
              "</style>\n",
              "<table border=\"1\" class=\"dataframe\">\n",
              "  <thead>\n",
              "    <tr style=\"text-align: right;\">\n",
              "      <th></th>\n",
              "      <th>Name</th>\n",
              "      <th>Chamber</th>\n",
              "      <th>Party</th>\n",
              "      <th>Min. Net Worth</th>\n",
              "      <th>Avg. Net Worth</th>\n",
              "      <th>Max. Net Worth</th>\n",
              "      <th>Research by the Center for Responsive Politics</th>\n",
              "    </tr>\n",
              "  </thead>\n",
              "  <tbody>\n",
              "    <tr>\n",
              "      <th>count</th>\n",
              "      <td>533</td>\n",
              "      <td>533</td>\n",
              "      <td>533</td>\n",
              "      <td>533</td>\n",
              "      <td>533</td>\n",
              "      <td>533</td>\n",
              "      <td>533</td>\n",
              "    </tr>\n",
              "    <tr>\n",
              "      <th>unique</th>\n",
              "      <td>533</td>\n",
              "      <td>2</td>\n",
              "      <td>3</td>\n",
              "      <td>514</td>\n",
              "      <td>515</td>\n",
              "      <td>500</td>\n",
              "      <td>1</td>\n",
              "    </tr>\n",
              "    <tr>\n",
              "      <th>top</th>\n",
              "      <td>Amy Klobuchar (D-Minn)</td>\n",
              "      <td>H</td>\n",
              "      <td>R</td>\n",
              "      <td>$0</td>\n",
              "      <td>$0</td>\n",
              "      <td>$0</td>\n",
              "      <td>Research by the Center for Responsive Politics</td>\n",
              "    </tr>\n",
              "    <tr>\n",
              "      <th>freq</th>\n",
              "      <td>1</td>\n",
              "      <td>433</td>\n",
              "      <td>299</td>\n",
              "      <td>6</td>\n",
              "      <td>6</td>\n",
              "      <td>6</td>\n",
              "      <td>533</td>\n",
              "    </tr>\n",
              "  </tbody>\n",
              "</table>\n",
              "</div>"
            ],
            "text/plain": [
              "                          Name  ...  Research by the Center for Responsive Politics\n",
              "count                      533  ...                                             533\n",
              "unique                     533  ...                                               1\n",
              "top     Amy Klobuchar (D-Minn)  ...  Research by the Center for Responsive Politics\n",
              "freq                         1  ...                                             533\n",
              "\n",
              "[4 rows x 7 columns]"
            ]
          },
          "metadata": {
            "tags": []
          },
          "execution_count": 6
        }
      ]
    },
    {
      "cell_type": "code",
      "metadata": {
        "id": "-9cezKvaZyjW",
        "colab_type": "code",
        "colab": {}
      },
      "source": [
        "congress['State'] = congress['Name'].str.extract('-(.+?)\\)')"
      ],
      "execution_count": 0,
      "outputs": []
    },
    {
      "cell_type": "code",
      "metadata": {
        "id": "6qAHly0wcY96",
        "colab_type": "code",
        "colab": {
          "base_uri": "https://localhost:8080/",
          "height": 127
        },
        "outputId": "2db7b31a-b03e-4891-832e-9354a024a4d3"
      },
      "source": [
        "congress['State'].head()"
      ],
      "execution_count": 26,
      "outputs": [
        {
          "output_type": "execute_result",
          "data": {
            "text/plain": [
              "0    Calif\n",
              "1       Va\n",
              "2       Md\n",
              "3     Colo\n",
              "4     Mich\n",
              "Name: State, dtype: object"
            ]
          },
          "metadata": {
            "tags": []
          },
          "execution_count": 26
        }
      ]
    },
    {
      "cell_type": "code",
      "metadata": {
        "id": "OLIHFQBsb9rO",
        "colab_type": "code",
        "colab": {
          "base_uri": "https://localhost:8080/",
          "height": 1156
        },
        "outputId": "508a7d29-9444-4950-cb07-eaa4fcc56f5c"
      },
      "source": [
        "congress['State'].apply(us.states.lookup)"
      ],
      "execution_count": 25,
      "outputs": [
        {
          "output_type": "execute_result",
          "data": {
            "text/plain": [
              "0                None\n",
              "1            Virginia\n",
              "2            Maryland\n",
              "3                None\n",
              "4                None\n",
              "5               Texas\n",
              "6                None\n",
              "7                None\n",
              "8                None\n",
              "9                None\n",
              "10               None\n",
              "11               None\n",
              "12               None\n",
              "13           New York\n",
              "14               None\n",
              "15              Idaho\n",
              "16               Ohio\n",
              "17         New Jersey\n",
              "18         New Jersey\n",
              "19           Virginia\n",
              "20               None\n",
              "21              Texas\n",
              "22               None\n",
              "23              Maine\n",
              "24       North Dakota\n",
              "25               None\n",
              "26               None\n",
              "27           Virginia\n",
              "28               None\n",
              "29           New York\n",
              "            ...      \n",
              "503    North Carolina\n",
              "504              None\n",
              "505          New York\n",
              "506              None\n",
              "507          New York\n",
              "508              None\n",
              "509              None\n",
              "510         Louisiana\n",
              "511              None\n",
              "512              None\n",
              "513              None\n",
              "514            Hawaii\n",
              "515              None\n",
              "516           Georgia\n",
              "517              None\n",
              "518             Idaho\n",
              "519              None\n",
              "520              None\n",
              "521    North Carolina\n",
              "522          New York\n",
              "523              None\n",
              "524              None\n",
              "525             Texas\n",
              "526              None\n",
              "527    North Carolina\n",
              "528             Texas\n",
              "529              None\n",
              "530          Missouri\n",
              "531              None\n",
              "532              None\n",
              "Name: State, Length: 533, dtype: object"
            ]
          },
          "metadata": {
            "tags": []
          },
          "execution_count": 25
        }
      ]
    },
    {
      "cell_type": "code",
      "metadata": {
        "id": "W0LAkRQUbJgz",
        "colab_type": "code",
        "colab": {
          "base_uri": "https://localhost:8080/",
          "height": 175
        },
        "outputId": "89a44eea-daee-4b43-e5b6-6d643b3ea509"
      },
      "source": [
        "congress.describe(include='all')"
      ],
      "execution_count": 17,
      "outputs": [
        {
          "output_type": "execute_result",
          "data": {
            "text/html": [
              "<div>\n",
              "<style scoped>\n",
              "    .dataframe tbody tr th:only-of-type {\n",
              "        vertical-align: middle;\n",
              "    }\n",
              "\n",
              "    .dataframe tbody tr th {\n",
              "        vertical-align: top;\n",
              "    }\n",
              "\n",
              "    .dataframe thead th {\n",
              "        text-align: right;\n",
              "    }\n",
              "</style>\n",
              "<table border=\"1\" class=\"dataframe\">\n",
              "  <thead>\n",
              "    <tr style=\"text-align: right;\">\n",
              "      <th></th>\n",
              "      <th>Name</th>\n",
              "      <th>Chamber</th>\n",
              "      <th>Party</th>\n",
              "      <th>Min. Net Worth</th>\n",
              "      <th>Avg. Net Worth</th>\n",
              "      <th>Max. Net Worth</th>\n",
              "      <th>Research by the Center for Responsive Politics</th>\n",
              "      <th>State</th>\n",
              "    </tr>\n",
              "  </thead>\n",
              "  <tbody>\n",
              "    <tr>\n",
              "      <th>count</th>\n",
              "      <td>533</td>\n",
              "      <td>533</td>\n",
              "      <td>533</td>\n",
              "      <td>533</td>\n",
              "      <td>533</td>\n",
              "      <td>533</td>\n",
              "      <td>533</td>\n",
              "      <td>533</td>\n",
              "    </tr>\n",
              "    <tr>\n",
              "      <th>unique</th>\n",
              "      <td>533</td>\n",
              "      <td>2</td>\n",
              "      <td>3</td>\n",
              "      <td>514</td>\n",
              "      <td>515</td>\n",
              "      <td>500</td>\n",
              "      <td>1</td>\n",
              "      <td>53</td>\n",
              "    </tr>\n",
              "    <tr>\n",
              "      <th>top</th>\n",
              "      <td>Amy Klobuchar (D-Minn)</td>\n",
              "      <td>H</td>\n",
              "      <td>R</td>\n",
              "      <td>$0</td>\n",
              "      <td>$0</td>\n",
              "      <td>$0</td>\n",
              "      <td>Research by the Center for Responsive Politics</td>\n",
              "      <td>Calif</td>\n",
              "    </tr>\n",
              "    <tr>\n",
              "      <th>freq</th>\n",
              "      <td>1</td>\n",
              "      <td>433</td>\n",
              "      <td>299</td>\n",
              "      <td>6</td>\n",
              "      <td>6</td>\n",
              "      <td>6</td>\n",
              "      <td>533</td>\n",
              "      <td>53</td>\n",
              "    </tr>\n",
              "  </tbody>\n",
              "</table>\n",
              "</div>"
            ],
            "text/plain": [
              "                          Name  ...  State\n",
              "count                      533  ...    533\n",
              "unique                     533  ...     53\n",
              "top     Amy Klobuchar (D-Minn)  ...  Calif\n",
              "freq                         1  ...     53\n",
              "\n",
              "[4 rows x 8 columns]"
            ]
          },
          "metadata": {
            "tags": []
          },
          "execution_count": 17
        }
      ]
    },
    {
      "cell_type": "code",
      "metadata": {
        "id": "Rj5ycVOJMebb",
        "colab_type": "code",
        "colab": {}
      },
      "source": [
        "house = congress[congress['Chamber']=='H']\n",
        "senate = congress[congress['Chamber']=='S']"
      ],
      "execution_count": 0,
      "outputs": []
    },
    {
      "cell_type": "code",
      "metadata": {
        "id": "MLzdLTauNbZ7",
        "colab_type": "code",
        "outputId": "74c6a881-f6bb-4482-9bbb-5deeb3a74bcb",
        "colab": {
          "base_uri": "https://localhost:8080/",
          "height": 175
        }
      },
      "source": [
        "house.describe(include='all')"
      ],
      "execution_count": 8,
      "outputs": [
        {
          "output_type": "execute_result",
          "data": {
            "text/html": [
              "<div>\n",
              "<style scoped>\n",
              "    .dataframe tbody tr th:only-of-type {\n",
              "        vertical-align: middle;\n",
              "    }\n",
              "\n",
              "    .dataframe tbody tr th {\n",
              "        vertical-align: top;\n",
              "    }\n",
              "\n",
              "    .dataframe thead th {\n",
              "        text-align: right;\n",
              "    }\n",
              "</style>\n",
              "<table border=\"1\" class=\"dataframe\">\n",
              "  <thead>\n",
              "    <tr style=\"text-align: right;\">\n",
              "      <th></th>\n",
              "      <th>Name</th>\n",
              "      <th>Chamber</th>\n",
              "      <th>Party</th>\n",
              "      <th>Min. Net Worth</th>\n",
              "      <th>Avg. Net Worth</th>\n",
              "      <th>Max. Net Worth</th>\n",
              "      <th>Research by the Center for Responsive Politics</th>\n",
              "    </tr>\n",
              "  </thead>\n",
              "  <tbody>\n",
              "    <tr>\n",
              "      <th>count</th>\n",
              "      <td>433</td>\n",
              "      <td>433</td>\n",
              "      <td>433</td>\n",
              "      <td>433</td>\n",
              "      <td>433</td>\n",
              "      <td>433</td>\n",
              "      <td>433</td>\n",
              "    </tr>\n",
              "    <tr>\n",
              "      <th>unique</th>\n",
              "      <td>433</td>\n",
              "      <td>1</td>\n",
              "      <td>2</td>\n",
              "      <td>418</td>\n",
              "      <td>418</td>\n",
              "      <td>405</td>\n",
              "      <td>1</td>\n",
              "    </tr>\n",
              "    <tr>\n",
              "      <th>top</th>\n",
              "      <td>Joe Barton (R-Texas)</td>\n",
              "      <td>H</td>\n",
              "      <td>R</td>\n",
              "      <td>$0</td>\n",
              "      <td>$0</td>\n",
              "      <td>$0</td>\n",
              "      <td>Research by the Center for Responsive Politics</td>\n",
              "    </tr>\n",
              "    <tr>\n",
              "      <th>freq</th>\n",
              "      <td>1</td>\n",
              "      <td>433</td>\n",
              "      <td>245</td>\n",
              "      <td>6</td>\n",
              "      <td>6</td>\n",
              "      <td>6</td>\n",
              "      <td>433</td>\n",
              "    </tr>\n",
              "  </tbody>\n",
              "</table>\n",
              "</div>"
            ],
            "text/plain": [
              "                        Name  ...  Research by the Center for Responsive Politics\n",
              "count                    433  ...                                             433\n",
              "unique                   433  ...                                               1\n",
              "top     Joe Barton (R-Texas)  ...  Research by the Center for Responsive Politics\n",
              "freq                       1  ...                                             433\n",
              "\n",
              "[4 rows x 7 columns]"
            ]
          },
          "metadata": {
            "tags": []
          },
          "execution_count": 8
        }
      ]
    },
    {
      "cell_type": "code",
      "metadata": {
        "id": "UcOUQeIbNhbA",
        "colab_type": "code",
        "outputId": "e3ddabdc-cc2c-46be-9ef9-46a277b46869",
        "colab": {
          "base_uri": "https://localhost:8080/",
          "height": 175
        }
      },
      "source": [
        "senate.describe(include='all')"
      ],
      "execution_count": 9,
      "outputs": [
        {
          "output_type": "execute_result",
          "data": {
            "text/html": [
              "<div>\n",
              "<style scoped>\n",
              "    .dataframe tbody tr th:only-of-type {\n",
              "        vertical-align: middle;\n",
              "    }\n",
              "\n",
              "    .dataframe tbody tr th {\n",
              "        vertical-align: top;\n",
              "    }\n",
              "\n",
              "    .dataframe thead th {\n",
              "        text-align: right;\n",
              "    }\n",
              "</style>\n",
              "<table border=\"1\" class=\"dataframe\">\n",
              "  <thead>\n",
              "    <tr style=\"text-align: right;\">\n",
              "      <th></th>\n",
              "      <th>Name</th>\n",
              "      <th>Chamber</th>\n",
              "      <th>Party</th>\n",
              "      <th>Min. Net Worth</th>\n",
              "      <th>Avg. Net Worth</th>\n",
              "      <th>Max. Net Worth</th>\n",
              "      <th>Research by the Center for Responsive Politics</th>\n",
              "    </tr>\n",
              "  </thead>\n",
              "  <tbody>\n",
              "    <tr>\n",
              "      <th>count</th>\n",
              "      <td>100</td>\n",
              "      <td>100</td>\n",
              "      <td>100</td>\n",
              "      <td>100</td>\n",
              "      <td>100</td>\n",
              "      <td>100</td>\n",
              "      <td>100</td>\n",
              "    </tr>\n",
              "    <tr>\n",
              "      <th>unique</th>\n",
              "      <td>100</td>\n",
              "      <td>1</td>\n",
              "      <td>3</td>\n",
              "      <td>100</td>\n",
              "      <td>100</td>\n",
              "      <td>100</td>\n",
              "      <td>1</td>\n",
              "    </tr>\n",
              "    <tr>\n",
              "      <th>top</th>\n",
              "      <td>Tom Carper (D-Del)</td>\n",
              "      <td>S</td>\n",
              "      <td>R</td>\n",
              "      <td>$352,014</td>\n",
              "      <td>$16,097,514</td>\n",
              "      <td>$4,517,000</td>\n",
              "      <td>Research by the Center for Responsive Politics</td>\n",
              "    </tr>\n",
              "    <tr>\n",
              "      <th>freq</th>\n",
              "      <td>1</td>\n",
              "      <td>100</td>\n",
              "      <td>54</td>\n",
              "      <td>1</td>\n",
              "      <td>1</td>\n",
              "      <td>1</td>\n",
              "      <td>100</td>\n",
              "    </tr>\n",
              "  </tbody>\n",
              "</table>\n",
              "</div>"
            ],
            "text/plain": [
              "                      Name  ...  Research by the Center for Responsive Politics\n",
              "count                  100  ...                                             100\n",
              "unique                 100  ...                                               1\n",
              "top     Tom Carper (D-Del)  ...  Research by the Center for Responsive Politics\n",
              "freq                     1  ...                                             100\n",
              "\n",
              "[4 rows x 7 columns]"
            ]
          },
          "metadata": {
            "tags": []
          },
          "execution_count": 9
        }
      ]
    },
    {
      "cell_type": "code",
      "metadata": {
        "id": "4pOiRyPoNjwb",
        "colab_type": "code",
        "outputId": "fd79f5fc-7a74-4d28-a632-d5fb45f08b29",
        "colab": {
          "base_uri": "https://localhost:8080/",
          "height": 584
        }
      },
      "source": [
        "df = pd.read_csv('https://raw.githubusercontent.com/plotly/datasets/master/2011_us_ag_exports.csv')\n",
        "\n",
        "for col in df.columns:\n",
        "    df[col] = df[col].astype(str)\n",
        "\n",
        "scl = [\n",
        "    [0.0, 'rgb(242,240,247)'],\n",
        "    [0.2, 'rgb(218,218,235)'],\n",
        "    [0.4, 'rgb(188,189,220)'],\n",
        "    [0.6, 'rgb(158,154,200)'],\n",
        "    [0.8, 'rgb(117,107,177)'],\n",
        "    [1.0, 'rgb(84,39,143)']\n",
        "]\n",
        "\n",
        "df['text'] = df['state'] + '<br>' + \\\n",
        "    'Beef ' + df['beef'] + ' Dairy ' + df['dairy'] + '<br>' + \\\n",
        "    'Fruits ' + df['total fruits'] + ' Veggies ' + df['total veggies'] + '<br>' + \\\n",
        "    'Wheat ' + df['wheat'] + ' Corn ' + df['corn']\n",
        "\n",
        "data = [go.Choropleth(\n",
        "    colorscale = scl,\n",
        "    autocolorscale = False,\n",
        "    locations = df['code'],\n",
        "    z = df['total exports'].astype(float),\n",
        "    locationmode = 'USA-states',\n",
        "    text = df['text'],\n",
        "    marker = go.choropleth.Marker(\n",
        "        line = go.choropleth.marker.Line(\n",
        "            color = 'rgb(255,255,255)',\n",
        "            width = 2\n",
        "        )),\n",
        "    colorbar = go.choropleth.ColorBar(\n",
        "        title = \"Millions USD\")\n",
        ")]\n",
        "\n",
        "layout = go.Layout(\n",
        "    title = go.layout.Title(\n",
        "        text = '2011 US Agriculture Exports by State<br>(Hover for breakdown)'\n",
        "    ),\n",
        "    geo = go.layout.Geo(\n",
        "        scope = 'usa',\n",
        "        projection = go.layout.geo.Projection(type = 'albers usa'),\n",
        "        showlakes = True,\n",
        "        lakecolor = 'rgb(255, 255, 255)'),\n",
        ")\n",
        "\n",
        "fig = go.Figure(data = data, layout = layout)\n",
        "py.iplot(fig, filename = 'd3-cloropleth-map')"
      ],
      "execution_count": 10,
      "outputs": [
        {
          "output_type": "stream",
          "text": [
            "High five! You successfully sent some data to your account on plotly. View your plot in your browser at https://plot.ly/~elisabethdawn/0 or inside your plot.ly account where it is named 'd3-cloropleth-map'\n"
          ],
          "name": "stdout"
        },
        {
          "output_type": "execute_result",
          "data": {
            "text/html": [
              "<iframe id=\"igraph\" scrolling=\"no\" style=\"border:none;\" seamless=\"seamless\" src=\"https://plot.ly/~elisabethdawn/0.embed\" height=\"525px\" width=\"100%\"></iframe>"
            ],
            "text/plain": [
              "<plotly.tools.PlotlyDisplay object>"
            ]
          },
          "metadata": {
            "tags": []
          },
          "execution_count": 10
        }
      ]
    },
    {
      "cell_type": "code",
      "metadata": {
        "id": "wKNbLBO7R4m4",
        "colab_type": "code",
        "colab": {
          "base_uri": "https://localhost:8080/",
          "height": 127
        },
        "outputId": "9eb97a0c-9f9b-4264-dcb0-c78cc62d9d39"
      },
      "source": [
        "df.code.head()"
      ],
      "execution_count": 11,
      "outputs": [
        {
          "output_type": "execute_result",
          "data": {
            "text/plain": [
              "0    AL\n",
              "1    AK\n",
              "2    AZ\n",
              "3    AR\n",
              "4    CA\n",
              "Name: code, dtype: object"
            ]
          },
          "metadata": {
            "tags": []
          },
          "execution_count": 11
        }
      ]
    },
    {
      "cell_type": "code",
      "metadata": {
        "id": "udCO4k-DaeC5",
        "colab_type": "code",
        "colab": {}
      },
      "source": [
        ""
      ],
      "execution_count": 0,
      "outputs": []
    }
  ]
}