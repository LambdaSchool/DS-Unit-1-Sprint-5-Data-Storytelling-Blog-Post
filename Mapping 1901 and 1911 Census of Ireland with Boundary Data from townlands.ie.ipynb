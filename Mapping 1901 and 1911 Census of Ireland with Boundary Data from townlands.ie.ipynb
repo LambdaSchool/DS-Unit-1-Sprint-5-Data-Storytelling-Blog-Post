{
 "cells": [
  {
   "cell_type": "code",
   "execution_count": null,
   "metadata": {},
   "outputs": [],
   "source": [
    "import pandas as pd\n",
    "import matplotlib.pyplot as plt\n",
    "import geopandas as gpd\n",
    "import folium"
   ]
  },
  {
   "cell_type": "code",
   "execution_count": null,
   "metadata": {},
   "outputs": [],
   "source": [
    "townlands_to_map = pd.read_csv(\"townland_or_street_to_townlands_ie_urls.csv\")\n",
    "\n",
    "census_1901_df = pd.read_csv(\"census_1901_combined.csv\", index_col=0)\n",
    "census_1911_df = pd.read_csv(\"census_1911_combined.csv\", index_col=0)"
   ]
  },
  {
   "cell_type": "code",
   "execution_count": null,
   "metadata": {},
   "outputs": [],
   "source": [
    "census_1901_df = census_1901_df.merge(\n",
    "    townlands_to_map, on=['county', 'ded', 'townland_or_street'])\n",
    "census_1901_df"
   ]
  },
  {
   "cell_type": "code",
   "execution_count": null,
   "metadata": {},
   "outputs": [],
   "source": [
    "census_1911_df = census_1911_df.merge(\n",
    "    townlands_to_map, on=['county', 'ded', 'townland_or_street'])\n",
    "census_1911_df"
   ]
  },
  {
   "cell_type": "code",
   "execution_count": null,
   "metadata": {},
   "outputs": [],
   "source": [
    "census_1911_marital_status = census_1911_df[(census_1911_df['marital_status'] == 'Married')\n",
    "                                | (census_1911_df['marital_status'] == 'Widow')\n",
    "                                | (census_1911_df['marital_status'] == 'Widower')]\n",
    "\n",
    "pt_marital_status = pd.crosstab(census_1911_marital_status['townland_to_map_url'], \n",
    "                 census_1911_marital_status['marital_status'], normalize='index').reset_index()\n",
    "\n",
    "pt_marital_status['Widowed'] = pt_marital_status['Widow'] + pt_marital_status['Widower']\n",
    "\n",
    "pt_marital_status = pt_marital_status.drop('Widow', axis=1)\n",
    "pt_marital_status = pt_marital_status.drop('Widower', axis=1)"
   ]
  },
  {
   "cell_type": "code",
   "execution_count": null,
   "metadata": {},
   "outputs": [],
   "source": [
    "census_1911_religion = census_1911_df[(census_1911_df['religion'] == 'Roman Catholic')\n",
    "                                | (census_1911_df['religion'] == 'Presbyterian')\n",
    "                                | (census_1911_df['religion'] == 'Church of Ireland')]\n",
    "\n",
    "pt_religion = pd.crosstab(census_1911_religion['townland_to_map_url'], \n",
    "                          census_1911_religion['religion'], normalize='index').reset_index()"
   ]
  },
  {
   "cell_type": "code",
   "execution_count": null,
   "metadata": {},
   "outputs": [],
   "source": [
    "gjson = gpd.read_file('townland_boundaries_from_townlands_ie.geojson')\n",
    "boundaries = folium.features.GeoJson(gjson)"
   ]
  },
  {
   "cell_type": "code",
   "execution_count": null,
   "metadata": {},
   "outputs": [],
   "source": [
    "def embed_map(m):\n",
    "    from IPython.display import HTML\n",
    "\n",
    "    m.save('index.html')\n",
    "    with open('index.html') as f:\n",
    "        html = f.read()\n",
    "\n",
    "    iframe = '<iframe srcdoc=\"{srcdoc}\" style=\"width: 100%; height: 750px; border: none\"></iframe>'\n",
    "    srcdoc = html.replace('\"', '&quot;')\n",
    "    return HTML(iframe.format(srcdoc=srcdoc))"
   ]
  },
  {
   "cell_type": "code",
   "execution_count": null,
   "metadata": {},
   "outputs": [],
   "source": [
    "mourne_map_marital_status = folium.Map(location=[54.1450, -6.04043], zoom_start=11, \n",
    "                        tiles='cartodbpositron')\n",
    "\n",
    "mourne_map_marital_status.add_child(boundaries)\n",
    "\n",
    "mourne_map_marital_status.choropleth(\n",
    "    geo_data=gjson,\n",
    "    name='choropleth',\n",
    "    data=pt_marital_status,\n",
    "    columns=['townland_to_map_url', 'Widowed'],\n",
    "    key_on='feature.properties.T_IE_URL',\n",
    "    fill_color='YlOrBr',\n",
    "    fill_opacity=0.7,\n",
    "    line_opacity=0.2,\n",
    "    legend_name='Widowed (%)'\n",
    ")\n",
    "folium.LayerControl().add_to(mourne_map_marital_status)\n",
    "\n",
    "#embed_map(mourne_map_marital_status)"
   ]
  },
  {
   "cell_type": "code",
   "execution_count": null,
   "metadata": {},
   "outputs": [],
   "source": [
    "mourne_map_catholic = folium.Map(location=[54.1450, -6.04043], zoom_start=11, \n",
    "                        tiles='cartodbpositron')\n",
    "\n",
    "mourne_map_catholic.add_child(boundaries)\n",
    "\n",
    "mourne_map_catholic.choropleth(\n",
    "    geo_data=gjson,\n",
    "    name='choropleth',\n",
    "    data=pt_religion,\n",
    "    columns=['townland_to_map_url', 'Roman Catholic'],\n",
    "    key_on='feature.properties.T_IE_URL',\n",
    "    fill_color='YlOrBr',\n",
    "    fill_opacity=0.7,\n",
    "    line_opacity=0.2,\n",
    "    legend_name='Roman Catholic (%)'\n",
    ")\n",
    "folium.LayerControl().add_to(mourne_map_catholic)\n",
    "\n",
    "embed_map(mourne_map_catholic)"
   ]
  },
  {
   "cell_type": "code",
   "execution_count": null,
   "metadata": {},
   "outputs": [],
   "source": [
    "mourne_map_presbyterian = folium.Map(location=[54.1450, -6.04043], zoom_start=11, \n",
    "                        tiles='cartodbpositron')\n",
    "\n",
    "mourne_map_presbyterian.add_child(boundaries)\n",
    "\n",
    "mourne_map_presbyterian.choropleth(\n",
    "    geo_data=gjson,\n",
    "    name='choropleth',\n",
    "    data=pt_religion,\n",
    "    columns=['townland_to_map_url', 'Presbyterian'],\n",
    "    key_on='feature.properties.T_IE_URL',\n",
    "    fill_color='YlOrBr',\n",
    "    fill_opacity=0.7,\n",
    "    line_opacity=0.2,\n",
    "    legend_name='Presbyterian (%)'\n",
    ")\n",
    "folium.LayerControl().add_to(mourne_map_presbyterian)\n",
    "\n",
    "embed_map(mourne_map_presbyterian)"
   ]
  },
  {
   "cell_type": "code",
   "execution_count": null,
   "metadata": {},
   "outputs": [],
   "source": [
    "mourne_map_anglican = folium.Map(location=[54.1450, -6.04043], zoom_start=11, \n",
    "                        tiles='cartodbpositron')\n",
    "\n",
    "mourne_map_anglican.add_child(boundaries)\n",
    "\n",
    "mourne_map_anglican.choropleth(\n",
    "    geo_data=gjson,\n",
    "    name='choropleth',\n",
    "    data=pt_religion,\n",
    "    columns=['townland_to_map_url', 'Church of Ireland'],\n",
    "    key_on='feature.properties.T_IE_URL',\n",
    "    fill_color='YlOrBr',\n",
    "    fill_opacity=0.7,\n",
    "    line_opacity=0.2,\n",
    "    legend_name='Church of Ireland (%)'\n",
    ")\n",
    "folium.LayerControl().add_to(mourne_map_anglican)\n",
    "\n",
    "embed_map(mourne_map_anglican)"
   ]
  },
  {
   "cell_type": "code",
   "execution_count": null,
   "metadata": {},
   "outputs": [],
   "source": [
    "slemish_map_marital_status = folium.Map(location=[54.9530892, -6.043359],\n",
    "                  zoom_start=11,\n",
    "                  tiles='cartodbpositron')\n",
    "\n",
    "slemish_map_marital_status.add_child(boundaries)\n",
    "\n",
    "slemish_map_marital_status.choropleth(\n",
    "    geo_data=gjson,\n",
    "    name='choropleth',\n",
    "    data=pt_marital_status,\n",
    "    columns=['townland_to_map_url', 'Widowed'],\n",
    "    key_on='feature.properties.T_IE_URL',\n",
    "    fill_color='YlOrBr',\n",
    "    fill_opacity=0.7,\n",
    "    line_opacity=0.2,\n",
    "    legend_name='Widowed (%)'\n",
    ")\n",
    "folium.LayerControl().add_to(slemish_map_marital_status)\n",
    "\n",
    "#embed_map(slemish_map_marital_status)"
   ]
  },
  {
   "cell_type": "code",
   "execution_count": null,
   "metadata": {},
   "outputs": [],
   "source": [
    "slemish_map_catholic = folium.Map(location=[54.9530892, -6.043359],\n",
    "                  zoom_start=11,\n",
    "                  tiles='cartodbpositron')\n",
    "\n",
    "slemish_map_catholic.add_child(boundaries)\n",
    "\n",
    "slemish_map_catholic.choropleth(\n",
    "    geo_data=gjson,\n",
    "    name='choropleth',\n",
    "    data=pt_religion,\n",
    "    columns=['townland_to_map_url', 'Roman Catholic'],\n",
    "    key_on='feature.properties.T_IE_URL',\n",
    "    fill_color='YlOrBr',\n",
    "    fill_opacity=0.7,\n",
    "    line_opacity=0.2,\n",
    "    legend_name='Roman Catholic (%)'\n",
    ")\n",
    "folium.LayerControl().add_to(slemish_map_catholic)\n",
    "\n",
    "embed_map(slemish_map_catholic)"
   ]
  },
  {
   "cell_type": "code",
   "execution_count": null,
   "metadata": {},
   "outputs": [],
   "source": [
    "slemish_map_presbyterian = folium.Map(location=[54.9530892, -6.043359],\n",
    "                  zoom_start=11,\n",
    "                  tiles='cartodbpositron')\n",
    "\n",
    "slemish_map_presbyterian.add_child(boundaries)\n",
    "\n",
    "slemish_map_presbyterian.choropleth(\n",
    "    geo_data=gjson,\n",
    "    name='choropleth',\n",
    "    data=pt_religion,\n",
    "    columns=['townland_to_map_url', 'Presbyterian'],\n",
    "    key_on='feature.properties.T_IE_URL',\n",
    "    fill_color='YlOrBr',\n",
    "    fill_opacity=0.7,\n",
    "    line_opacity=0.2,\n",
    "    legend_name='Presbyterian (%)'\n",
    ")\n",
    "folium.LayerControl().add_to(slemish_map_presbyterian)\n",
    "\n",
    "embed_map(slemish_map_presbyterian)"
   ]
  },
  {
   "cell_type": "code",
   "execution_count": null,
   "metadata": {},
   "outputs": [],
   "source": [
    "slemish_map_anglican = folium.Map(location=[54.9530892, -6.043359],\n",
    "                  zoom_start=11,\n",
    "                  tiles='cartodbpositron')\n",
    "\n",
    "slemish_map_anglican.add_child(boundaries)\n",
    "\n",
    "slemish_map_anglican.choropleth(\n",
    "    geo_data=gjson,\n",
    "    name='choropleth',\n",
    "    data=pt_religion,\n",
    "    columns=['townland_to_map_url', 'Church of Ireland'],\n",
    "    key_on='feature.properties.T_IE_URL',\n",
    "    fill_color='YlOrBr',\n",
    "    fill_opacity=0.7,\n",
    "    line_opacity=0.2,\n",
    "    legend_name='Church of Ireland (%)'\n",
    ")\n",
    "folium.LayerControl().add_to(slemish_map_anglican)\n",
    "\n",
    "embed_map(slemish_map_anglican)"
   ]
  },
  {
   "cell_type": "code",
   "execution_count": null,
   "metadata": {},
   "outputs": [],
   "source": [
    "ballinamallard_map_marital_status = folium.Map(location=[54.4287082, -7.5471696],\n",
    "                  zoom_start=11,\n",
    "                  tiles='cartodbpositron')\n",
    "\n",
    "ballinamallard_map_marital_status.add_child(boundaries)\n",
    "\n",
    "ballinamallard_map_marital_status.choropleth(\n",
    "    geo_data=gjson,\n",
    "    name='choropleth',\n",
    "    data=pt_marital_status,\n",
    "    columns=['townland_to_map_url', 'Widowed'],\n",
    "    key_on='feature.properties.T_IE_URL',\n",
    "    fill_color='YlOrBr',\n",
    "    fill_opacity=0.7,\n",
    "    line_opacity=0.2,\n",
    "    legend_name='Widowed (%)'\n",
    ")\n",
    "folium.LayerControl().add_to(ballinamallard_map_marital_status)\n",
    "\n",
    "#embed_map(ballinamallard_map_marital_status)"
   ]
  },
  {
   "cell_type": "code",
   "execution_count": null,
   "metadata": {},
   "outputs": [],
   "source": [
    "ballinamallard_map_catholic = folium.Map(location=[54.4287082, -7.5471696],\n",
    "                  zoom_start=11,\n",
    "                  tiles='cartodbpositron')\n",
    "\n",
    "ballinamallard_map_catholic.add_child(boundaries)\n",
    "\n",
    "ballinamallard_map_catholic.choropleth(\n",
    "    geo_data=gjson,\n",
    "    name='choropleth',\n",
    "    data=pt_religion,\n",
    "    columns=['townland_to_map_url', 'Roman Catholic'],\n",
    "    key_on='feature.properties.T_IE_URL',\n",
    "    fill_color='YlOrBr',\n",
    "    fill_opacity=0.7,\n",
    "    line_opacity=0.2,\n",
    "    legend_name='Roman Catholic (%)'\n",
    ")\n",
    "folium.LayerControl().add_to(ballinamallard_map_catholic)\n",
    "\n",
    "embed_map(ballinamallard_map_catholic)"
   ]
  },
  {
   "cell_type": "code",
   "execution_count": null,
   "metadata": {},
   "outputs": [],
   "source": [
    "ballinamallard_map_presbyterian = folium.Map(location=[54.4287082, -7.5471696],\n",
    "                  zoom_start=11,\n",
    "                  tiles='cartodbpositron')\n",
    "\n",
    "ballinamallard_map_presbyterian.add_child(boundaries)\n",
    "\n",
    "ballinamallard_map_presbyterian.choropleth(\n",
    "    geo_data=gjson,\n",
    "    name='choropleth',\n",
    "    data=pt_religion,\n",
    "    columns=['townland_to_map_url', 'Presbyterian'],\n",
    "    key_on='feature.properties.T_IE_URL',\n",
    "    fill_color='YlOrBr',\n",
    "    fill_opacity=0.7,\n",
    "    line_opacity=0.2,\n",
    "    legend_name='Presbyterian (%)'\n",
    ")\n",
    "folium.LayerControl().add_to(ballinamallard_map_presbyterian)\n",
    "\n",
    "embed_map(ballinamallard_map_presbyterian)"
   ]
  },
  {
   "cell_type": "code",
   "execution_count": null,
   "metadata": {},
   "outputs": [],
   "source": [
    "ballinamallard_map_anglican = folium.Map(location=[54.4287082, -7.5471696],\n",
    "                  zoom_start=11,\n",
    "                  tiles='cartodbpositron')\n",
    "\n",
    "ballinamallard_map_anglican.add_child(boundaries)\n",
    "\n",
    "ballinamallard_map_anglican.choropleth(\n",
    "    geo_data=gjson,\n",
    "    name='choropleth',\n",
    "    data=pt_religion,\n",
    "    columns=['townland_to_map_url', 'Church of Ireland'],\n",
    "    key_on='feature.properties.T_IE_URL',\n",
    "    fill_color='YlOrBr',\n",
    "    fill_opacity=0.7,\n",
    "    line_opacity=0.2,\n",
    "    legend_name='Church of Ireland (%)'\n",
    ")\n",
    "folium.LayerControl().add_to(ballinamallard_map_anglican)\n",
    "\n",
    "embed_map(ballinamallard_map_anglican)"
   ]
  },
  {
   "cell_type": "code",
   "execution_count": null,
   "metadata": {},
   "outputs": [],
   "source": []
  }
 ],
 "metadata": {
  "kernelspec": {
   "display_name": "Python 3",
   "language": "python",
   "name": "python3"
  },
  "language_info": {
   "codemirror_mode": {
    "name": "ipython",
    "version": 3
   },
   "file_extension": ".py",
   "mimetype": "text/x-python",
   "name": "python",
   "nbconvert_exporter": "python",
   "pygments_lexer": "ipython3",
   "version": "3.7.3"
  }
 },
 "nbformat": 4,
 "nbformat_minor": 2
}
