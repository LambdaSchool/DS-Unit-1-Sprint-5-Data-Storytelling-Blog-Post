{
 "cells": [
  {
   "cell_type": "code",
   "execution_count": 1,
   "metadata": {
    "colab": {},
    "colab_type": "code",
    "id": "C5_KBoxsD_f3"
   },
   "outputs": [],
   "source": [
    "import pandas as pd\n",
    "import numpy as np\n",
    "import requests\n",
    "from bs4 import BeautifulSoup\n",
    "import matplotlib\n",
    "import matplotlib.pyplot as plt"
   ]
  },
  {
   "cell_type": "code",
   "execution_count": 0,
   "metadata": {
    "colab": {},
    "colab_type": "code",
    "id": "2wEi7lHsEtjF"
   },
   "outputs": [],
   "source": [
    "urls = ['https://www.the-numbers.com/movie/budgets/all', 'https://www.the-numbers.com/movie/budgets/all/101',\n",
    "      'https://www.the-numbers.com/movie/budgets/all/201', 'https://www.the-numbers.com/movie/budgets/all/301',\n",
    "      'https://www.the-numbers.com/movie/budgets/all/401', 'https://www.the-numbers.com/movie/budgets/all/501',\n",
    "       'https://www.the-numbers.com/movie/budgets/all/601', 'https://www.the-numbers.com/movie/budgets/all/701',\n",
    "       'https://www.the-numbers.com/movie/budgets/all/801', 'https://www.the-numbers.com/movie/budgets/all/901',\n",
    "       'https://www.the-numbers.com/movie/budgets/all/1001', 'https://www.the-numbers.com/movie/budgets/all/1101',\n",
    "       'https://www.the-numbers.com/movie/budgets/all/1201', 'https://www.the-numbers.com/movie/budgets/all/1301',\n",
    "       'https://www.the-numbers.com/movie/budgets/all/1401', 'https://www.the-numbers.com/movie/budgets/all/1501',\n",
    "        'https://www.the-numbers.com/movie/budgets/all/1601', 'https://www.the-numbers.com/movie/budgets/all/1701',\n",
    "        'https://www.the-numbers.com/movie/budgets/all/1801', 'https://www.the-numbers.com/movie/budgets/all/1901',\n",
    "        'https://www.the-numbers.com/movie/budgets/all/2001', 'https://www.the-numbers.com/movie/budgets/all/2101',\n",
    "        'https://www.the-numbers.com/movie/budgets/all/2201', 'https://www.the-numbers.com/movie/budgets/all/2301',\n",
    "        'https://www.the-numbers.com/movie/budgets/all/2401', 'https://www.the-numbers.com/movie/budgets/all/2501',\n",
    "        'https://www.the-numbers.com/movie/budgets/all/2601', 'https://www.the-numbers.com/movie/budgets/all/2701',\n",
    "        'https://www.the-numbers.com/movie/budgets/all/2801', 'https://www.the-numbers.com/movie/budgets/all/2901',\n",
    "        'https://www.the-numbers.com/movie/budgets/all/3001', 'https://www.the-numbers.com/movie/budgets/all/3101',\n",
    "        'https://www.the-numbers.com/movie/budgets/all/3201', 'https://www.the-numbers.com/movie/budgets/all/3301',\n",
    "        'https://www.the-numbers.com/movie/budgets/all/3401', 'https://www.the-numbers.com/movie/budgets/all/3501',\n",
    "        'https://www.the-numbers.com/movie/budgets/all/3601', 'https://www.the-numbers.com/movie/budgets/all/3701',\n",
    "        'https://www.the-numbers.com/movie/budgets/all/3801', 'https://www.the-numbers.com/movie/budgets/all/3901',\n",
    "        'https://www.the-numbers.com/movie/budgets/all/4001', 'https://www.the-numbers.com/movie/budgets/all/4101',\n",
    "        'https://www.the-numbers.com/movie/budgets/all/4201', 'https://www.the-numbers.com/movie/budgets/all/4301',\n",
    "        'https://www.the-numbers.com/movie/budgets/all/4401', 'https://www.the-numbers.com/movie/budgets/all/4501',\n",
    "        'https://www.the-numbers.com/movie/budgets/all/4601', 'https://www.the-numbers.com/movie/budgets/all/4701',\n",
    "        'https://www.the-numbers.com/movie/budgets/all/4801', 'https://www.the-numbers.com/movie/budgets/all/4901',\n",
    "        'https://www.the-numbers.com/movie/budgets/all/5001', 'https://www.the-numbers.com/movie/budgets/all/5101',\n",
    "        'https://www.the-numbers.com/movie/budgets/all/5201', 'https://www.the-numbers.com/movie/budgets/all/5301',\n",
    "        'https://www.the-numbers.com/movie/budgets/all/5401', 'https://www.the-numbers.com/movie/budgets/all/5501',\n",
    "        'https://www.the-numbers.com/movie/budgets/all/5601', 'https://www.the-numbers.com/movie/budgets/all/5701',\n",
    "        ]\n",
    "\n",
    "raw_list = []\n",
    "\n",
    "for url in urls:\n",
    "#   print(url)\n",
    "  r = requests.get(url)\n",
    "  soup = BeautifulSoup(r.text)\n",
    "  for x in soup.find_all('tr'):\n",
    "#     print(x.get_text())\n",
    "    raw_list.append(x.get_text())\n",
    "\n",
    "data = pd.Series(raw_list)\n",
    "df = data.str.split('\\n', expand=True)\n",
    "\n"
   ]
  },
  {
   "cell_type": "code",
   "execution_count": 0,
   "metadata": {
    "colab": {
     "base_uri": "https://localhost:8080/",
     "height": 195
    },
    "colab_type": "code",
    "executionInfo": {
     "elapsed": 528,
     "status": "ok",
     "timestamp": 1554423625690,
     "user": {
      "displayName": "Nedderlander Sup?",
      "photoUrl": "https://lh6.googleusercontent.com/-qzI8S3fvyi0/AAAAAAAAAAI/AAAAAAAAB-c/TpDRAnskIaM/s64/photo.jpg",
      "userId": "06599839148120495949"
     },
     "user_tz": 420
    },
    "id": "rt1Ub9e03OwO",
    "outputId": "267c7ee6-39d5-4414-e285-d26a2c5a66b5"
   },
   "outputs": [
    {
     "data": {
      "text/html": [
       "<div>\n",
       "<style scoped>\n",
       "    .dataframe tbody tr th:only-of-type {\n",
       "        vertical-align: middle;\n",
       "    }\n",
       "\n",
       "    .dataframe tbody tr th {\n",
       "        vertical-align: top;\n",
       "    }\n",
       "\n",
       "    .dataframe thead th {\n",
       "        text-align: right;\n",
       "    }\n",
       "</style>\n",
       "<table border=\"1\" class=\"dataframe\">\n",
       "  <thead>\n",
       "    <tr style=\"text-align: right;\">\n",
       "      <th></th>\n",
       "      <th>0</th>\n",
       "      <th>1</th>\n",
       "      <th>2</th>\n",
       "      <th>3</th>\n",
       "      <th>4</th>\n",
       "      <th>5</th>\n",
       "      <th>6</th>\n",
       "    </tr>\n",
       "  </thead>\n",
       "  <tbody>\n",
       "    <tr>\n",
       "      <th>0</th>\n",
       "      <td>Release DateMovieProduction BudgetDomestic Gr...</td>\n",
       "      <td>None</td>\n",
       "      <td>None</td>\n",
       "      <td>None</td>\n",
       "      <td>None</td>\n",
       "      <td>None</td>\n",
       "      <td>None</td>\n",
       "    </tr>\n",
       "    <tr>\n",
       "      <th>1</th>\n",
       "      <td>1</td>\n",
       "      <td>Dec 18, 2009</td>\n",
       "      <td>Avatar</td>\n",
       "      <td>$425,000,000</td>\n",
       "      <td>$760,507,625</td>\n",
       "      <td>$2,776,345,279</td>\n",
       "      <td></td>\n",
       "    </tr>\n",
       "    <tr>\n",
       "      <th>2</th>\n",
       "      <td>2</td>\n",
       "      <td>May 20, 2011</td>\n",
       "      <td>Pirates of the Caribbean: On Stranger Tides</td>\n",
       "      <td>$410,600,000</td>\n",
       "      <td>$241,063,875</td>\n",
       "      <td>$1,045,663,875</td>\n",
       "      <td></td>\n",
       "    </tr>\n",
       "    <tr>\n",
       "      <th>3</th>\n",
       "      <td>3</td>\n",
       "      <td>May 1, 2015</td>\n",
       "      <td>Avengers: Age of Ultron</td>\n",
       "      <td>$330,600,000</td>\n",
       "      <td>$459,005,868</td>\n",
       "      <td>$1,403,013,963</td>\n",
       "      <td></td>\n",
       "    </tr>\n",
       "    <tr>\n",
       "      <th>4</th>\n",
       "      <td>4</td>\n",
       "      <td>Dec 15, 2017</td>\n",
       "      <td>Star Wars Ep. VIII: The Last Jedi</td>\n",
       "      <td>$317,000,000</td>\n",
       "      <td>$620,181,382</td>\n",
       "      <td>$1,316,721,747</td>\n",
       "      <td></td>\n",
       "    </tr>\n",
       "  </tbody>\n",
       "</table>\n",
       "</div>"
      ],
      "text/plain": [
       "                                                   0             1  \\\n",
       "0   Release DateMovieProduction BudgetDomestic Gr...          None   \n",
       "1                                                  1  Dec 18, 2009   \n",
       "2                                                  2  May 20, 2011   \n",
       "3                                                  3   May 1, 2015   \n",
       "4                                                  4  Dec 15, 2017   \n",
       "\n",
       "                                             2             3             4  \\\n",
       "0                                         None          None          None   \n",
       "1                                       Avatar  $425,000,000  $760,507,625   \n",
       "2  Pirates of the Caribbean: On Stranger Tides  $410,600,000  $241,063,875   \n",
       "3                      Avengers: Age of Ultron  $330,600,000  $459,005,868   \n",
       "4            Star Wars Ep. VIII: The Last Jedi  $317,000,000  $620,181,382   \n",
       "\n",
       "                5     6  \n",
       "0            None  None  \n",
       "1  $2,776,345,279        \n",
       "2  $1,045,663,875        \n",
       "3  $1,403,013,963        \n",
       "4  $1,316,721,747        "
      ]
     },
     "execution_count": 164,
     "metadata": {
      "tags": []
     },
     "output_type": "execute_result"
    }
   ],
   "source": [
    "df.head()"
   ]
  },
  {
   "cell_type": "code",
   "execution_count": 0,
   "metadata": {
    "colab": {},
    "colab_type": "code",
    "id": "uGpBdRUr2k8W"
   },
   "outputs": [],
   "source": [
    "r = requests.get('https://www.the-numbers.com/movie/budgets/all')\n",
    "soup= BeautifulSoup(r.text)\n",
    "\n",
    "frames = pd.DataFrame()\n",
    "the_list = []\n",
    "\n",
    "for x in soup.find_all('tr'):\n",
    "  the_list.append(x.get_text())\n",
    "\n",
    "data = pd.Series(the_list)\n",
    "df = data.str.split('\\n', expand=True)"
   ]
  },
  {
   "cell_type": "code",
   "execution_count": 0,
   "metadata": {
    "colab": {},
    "colab_type": "code",
    "id": "w-OHgZl307CY"
   },
   "outputs": [],
   "source": [
    "# download data at the end of work\n",
    "from google.colab import files\n",
    "df.to_csv('df.csv')\n",
    "files.download('df.csv')"
   ]
  },
  {
   "cell_type": "code",
   "execution_count": 0,
   "metadata": {
    "colab": {
     "base_uri": "https://localhost:8080/",
     "height": 74,
     "resources": {
      "http://localhost:8080/nbextensions/google.colab/files.js": {
       "data": "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",
       "headers": [
        [
         "content-type",
         "application/javascript"
        ]
       ],
       "ok": true,
       "status": 200,
       "status_text": ""
      }
     }
    },
    "colab_type": "code",
    "executionInfo": {
     "elapsed": 14276,
     "status": "ok",
     "timestamp": 1555343280097,
     "user": {
      "displayName": "Nedderlander Sup?",
      "photoUrl": "https://lh6.googleusercontent.com/-qzI8S3fvyi0/AAAAAAAAAAI/AAAAAAAAB-c/TpDRAnskIaM/s64/photo.jpg",
      "userId": "06599839148120495949"
     },
     "user_tz": 420
    },
    "id": "5_lxzJooj7Uf",
    "outputId": "38bdbdc0-beda-4e53-c239-2cd722f7e8e5"
   },
   "outputs": [
    {
     "data": {
      "text/html": [
       "\n",
       "     <input type=\"file\" id=\"files-4cef771e-efa2-4981-8774-b7901f16aefa\" name=\"files[]\" multiple disabled />\n",
       "     <output id=\"result-4cef771e-efa2-4981-8774-b7901f16aefa\">\n",
       "      Upload widget is only available when the cell has been executed in the\n",
       "      current browser session. Please rerun this cell to enable.\n",
       "      </output>\n",
       "      <script src=\"/nbextensions/google.colab/files.js\"></script> "
      ],
      "text/plain": [
       "<IPython.core.display.HTML object>"
      ]
     },
     "metadata": {
      "tags": []
     },
     "output_type": "display_data"
    },
    {
     "name": "stdout",
     "output_type": "stream",
     "text": [
      "Saving df (1).csv to df (1).csv\n"
     ]
    }
   ],
   "source": [
    "# upload work file\n",
    "from google.colab import files\n",
    "uploaded = files.upload()"
   ]
  },
  {
   "cell_type": "code",
   "execution_count": 159,
   "metadata": {
    "colab": {},
    "colab_type": "code",
    "id": "gGPyINXJoSwd"
   },
   "outputs": [
    {
     "ename": "FileNotFoundError",
     "evalue": "File b'df (1).csv' does not exist",
     "output_type": "error",
     "traceback": [
      "\u001b[1;31m---------------------------------------------------------------------------\u001b[0m",
      "\u001b[1;31mFileNotFoundError\u001b[0m                         Traceback (most recent call last)",
      "\u001b[1;32m<ipython-input-159-bf81c6cf5e9e>\u001b[0m in \u001b[0;36m<module>\u001b[1;34m()\u001b[0m\n\u001b[1;32m----> 1\u001b[1;33m \u001b[0mdf\u001b[0m \u001b[1;33m=\u001b[0m \u001b[0mpd\u001b[0m\u001b[1;33m.\u001b[0m\u001b[0mread_csv\u001b[0m\u001b[1;33m(\u001b[0m\u001b[1;34m'df (1).csv'\u001b[0m\u001b[1;33m)\u001b[0m\u001b[1;33m\u001b[0m\u001b[0m\n\u001b[0m",
      "\u001b[1;32m~\\Anaconda3\\lib\\site-packages\\pandas\\io\\parsers.py\u001b[0m in \u001b[0;36mparser_f\u001b[1;34m(filepath_or_buffer, sep, delimiter, header, names, index_col, usecols, squeeze, prefix, mangle_dupe_cols, dtype, engine, converters, true_values, false_values, skipinitialspace, skiprows, nrows, na_values, keep_default_na, na_filter, verbose, skip_blank_lines, parse_dates, infer_datetime_format, keep_date_col, date_parser, dayfirst, iterator, chunksize, compression, thousands, decimal, lineterminator, quotechar, quoting, escapechar, comment, encoding, dialect, tupleize_cols, error_bad_lines, warn_bad_lines, skipfooter, doublequote, delim_whitespace, low_memory, memory_map, float_precision)\u001b[0m\n\u001b[0;32m    676\u001b[0m                     skip_blank_lines=skip_blank_lines)\n\u001b[0;32m    677\u001b[0m \u001b[1;33m\u001b[0m\u001b[0m\n\u001b[1;32m--> 678\u001b[1;33m         \u001b[1;32mreturn\u001b[0m \u001b[0m_read\u001b[0m\u001b[1;33m(\u001b[0m\u001b[0mfilepath_or_buffer\u001b[0m\u001b[1;33m,\u001b[0m \u001b[0mkwds\u001b[0m\u001b[1;33m)\u001b[0m\u001b[1;33m\u001b[0m\u001b[0m\n\u001b[0m\u001b[0;32m    679\u001b[0m \u001b[1;33m\u001b[0m\u001b[0m\n\u001b[0;32m    680\u001b[0m     \u001b[0mparser_f\u001b[0m\u001b[1;33m.\u001b[0m\u001b[0m__name__\u001b[0m \u001b[1;33m=\u001b[0m \u001b[0mname\u001b[0m\u001b[1;33m\u001b[0m\u001b[0m\n",
      "\u001b[1;32m~\\Anaconda3\\lib\\site-packages\\pandas\\io\\parsers.py\u001b[0m in \u001b[0;36m_read\u001b[1;34m(filepath_or_buffer, kwds)\u001b[0m\n\u001b[0;32m    438\u001b[0m \u001b[1;33m\u001b[0m\u001b[0m\n\u001b[0;32m    439\u001b[0m     \u001b[1;31m# Create the parser.\u001b[0m\u001b[1;33m\u001b[0m\u001b[1;33m\u001b[0m\u001b[0m\n\u001b[1;32m--> 440\u001b[1;33m     \u001b[0mparser\u001b[0m \u001b[1;33m=\u001b[0m \u001b[0mTextFileReader\u001b[0m\u001b[1;33m(\u001b[0m\u001b[0mfilepath_or_buffer\u001b[0m\u001b[1;33m,\u001b[0m \u001b[1;33m**\u001b[0m\u001b[0mkwds\u001b[0m\u001b[1;33m)\u001b[0m\u001b[1;33m\u001b[0m\u001b[0m\n\u001b[0m\u001b[0;32m    441\u001b[0m \u001b[1;33m\u001b[0m\u001b[0m\n\u001b[0;32m    442\u001b[0m     \u001b[1;32mif\u001b[0m \u001b[0mchunksize\u001b[0m \u001b[1;32mor\u001b[0m \u001b[0miterator\u001b[0m\u001b[1;33m:\u001b[0m\u001b[1;33m\u001b[0m\u001b[0m\n",
      "\u001b[1;32m~\\Anaconda3\\lib\\site-packages\\pandas\\io\\parsers.py\u001b[0m in \u001b[0;36m__init__\u001b[1;34m(self, f, engine, **kwds)\u001b[0m\n\u001b[0;32m    785\u001b[0m             \u001b[0mself\u001b[0m\u001b[1;33m.\u001b[0m\u001b[0moptions\u001b[0m\u001b[1;33m[\u001b[0m\u001b[1;34m'has_index_names'\u001b[0m\u001b[1;33m]\u001b[0m \u001b[1;33m=\u001b[0m \u001b[0mkwds\u001b[0m\u001b[1;33m[\u001b[0m\u001b[1;34m'has_index_names'\u001b[0m\u001b[1;33m]\u001b[0m\u001b[1;33m\u001b[0m\u001b[0m\n\u001b[0;32m    786\u001b[0m \u001b[1;33m\u001b[0m\u001b[0m\n\u001b[1;32m--> 787\u001b[1;33m         \u001b[0mself\u001b[0m\u001b[1;33m.\u001b[0m\u001b[0m_make_engine\u001b[0m\u001b[1;33m(\u001b[0m\u001b[0mself\u001b[0m\u001b[1;33m.\u001b[0m\u001b[0mengine\u001b[0m\u001b[1;33m)\u001b[0m\u001b[1;33m\u001b[0m\u001b[0m\n\u001b[0m\u001b[0;32m    788\u001b[0m \u001b[1;33m\u001b[0m\u001b[0m\n\u001b[0;32m    789\u001b[0m     \u001b[1;32mdef\u001b[0m \u001b[0mclose\u001b[0m\u001b[1;33m(\u001b[0m\u001b[0mself\u001b[0m\u001b[1;33m)\u001b[0m\u001b[1;33m:\u001b[0m\u001b[1;33m\u001b[0m\u001b[0m\n",
      "\u001b[1;32m~\\Anaconda3\\lib\\site-packages\\pandas\\io\\parsers.py\u001b[0m in \u001b[0;36m_make_engine\u001b[1;34m(self, engine)\u001b[0m\n\u001b[0;32m   1012\u001b[0m     \u001b[1;32mdef\u001b[0m \u001b[0m_make_engine\u001b[0m\u001b[1;33m(\u001b[0m\u001b[0mself\u001b[0m\u001b[1;33m,\u001b[0m \u001b[0mengine\u001b[0m\u001b[1;33m=\u001b[0m\u001b[1;34m'c'\u001b[0m\u001b[1;33m)\u001b[0m\u001b[1;33m:\u001b[0m\u001b[1;33m\u001b[0m\u001b[0m\n\u001b[0;32m   1013\u001b[0m         \u001b[1;32mif\u001b[0m \u001b[0mengine\u001b[0m \u001b[1;33m==\u001b[0m \u001b[1;34m'c'\u001b[0m\u001b[1;33m:\u001b[0m\u001b[1;33m\u001b[0m\u001b[0m\n\u001b[1;32m-> 1014\u001b[1;33m             \u001b[0mself\u001b[0m\u001b[1;33m.\u001b[0m\u001b[0m_engine\u001b[0m \u001b[1;33m=\u001b[0m \u001b[0mCParserWrapper\u001b[0m\u001b[1;33m(\u001b[0m\u001b[0mself\u001b[0m\u001b[1;33m.\u001b[0m\u001b[0mf\u001b[0m\u001b[1;33m,\u001b[0m \u001b[1;33m**\u001b[0m\u001b[0mself\u001b[0m\u001b[1;33m.\u001b[0m\u001b[0moptions\u001b[0m\u001b[1;33m)\u001b[0m\u001b[1;33m\u001b[0m\u001b[0m\n\u001b[0m\u001b[0;32m   1015\u001b[0m         \u001b[1;32melse\u001b[0m\u001b[1;33m:\u001b[0m\u001b[1;33m\u001b[0m\u001b[0m\n\u001b[0;32m   1016\u001b[0m             \u001b[1;32mif\u001b[0m \u001b[0mengine\u001b[0m \u001b[1;33m==\u001b[0m \u001b[1;34m'python'\u001b[0m\u001b[1;33m:\u001b[0m\u001b[1;33m\u001b[0m\u001b[0m\n",
      "\u001b[1;32m~\\Anaconda3\\lib\\site-packages\\pandas\\io\\parsers.py\u001b[0m in \u001b[0;36m__init__\u001b[1;34m(self, src, **kwds)\u001b[0m\n\u001b[0;32m   1706\u001b[0m         \u001b[0mkwds\u001b[0m\u001b[1;33m[\u001b[0m\u001b[1;34m'usecols'\u001b[0m\u001b[1;33m]\u001b[0m \u001b[1;33m=\u001b[0m \u001b[0mself\u001b[0m\u001b[1;33m.\u001b[0m\u001b[0musecols\u001b[0m\u001b[1;33m\u001b[0m\u001b[0m\n\u001b[0;32m   1707\u001b[0m \u001b[1;33m\u001b[0m\u001b[0m\n\u001b[1;32m-> 1708\u001b[1;33m         \u001b[0mself\u001b[0m\u001b[1;33m.\u001b[0m\u001b[0m_reader\u001b[0m \u001b[1;33m=\u001b[0m \u001b[0mparsers\u001b[0m\u001b[1;33m.\u001b[0m\u001b[0mTextReader\u001b[0m\u001b[1;33m(\u001b[0m\u001b[0msrc\u001b[0m\u001b[1;33m,\u001b[0m \u001b[1;33m**\u001b[0m\u001b[0mkwds\u001b[0m\u001b[1;33m)\u001b[0m\u001b[1;33m\u001b[0m\u001b[0m\n\u001b[0m\u001b[0;32m   1709\u001b[0m \u001b[1;33m\u001b[0m\u001b[0m\n\u001b[0;32m   1710\u001b[0m         \u001b[0mpassed_names\u001b[0m \u001b[1;33m=\u001b[0m \u001b[0mself\u001b[0m\u001b[1;33m.\u001b[0m\u001b[0mnames\u001b[0m \u001b[1;32mis\u001b[0m \u001b[1;32mNone\u001b[0m\u001b[1;33m\u001b[0m\u001b[0m\n",
      "\u001b[1;32mpandas\\_libs\\parsers.pyx\u001b[0m in \u001b[0;36mpandas._libs.parsers.TextReader.__cinit__\u001b[1;34m()\u001b[0m\n",
      "\u001b[1;32mpandas\\_libs\\parsers.pyx\u001b[0m in \u001b[0;36mpandas._libs.parsers.TextReader._setup_parser_source\u001b[1;34m()\u001b[0m\n",
      "\u001b[1;31mFileNotFoundError\u001b[0m: File b'df (1).csv' does not exist"
     ]
    }
   ],
   "source": [
    "df = pd.read_csv('df (1).csv')"
   ]
  },
  {
   "cell_type": "code",
   "execution_count": 2,
   "metadata": {},
   "outputs": [
    {
     "ename": "FileNotFoundError",
     "evalue": "File b'the_numbers_2009.csv' does not exist",
     "output_type": "error",
     "traceback": [
      "\u001b[1;31m---------------------------------------------------------------------------\u001b[0m",
      "\u001b[1;31mFileNotFoundError\u001b[0m                         Traceback (most recent call last)",
      "\u001b[1;32m<ipython-input-2-9a0316c348fb>\u001b[0m in \u001b[0;36m<module>\u001b[1;34m()\u001b[0m\n\u001b[1;32m----> 1\u001b[1;33m \u001b[0mdf\u001b[0m \u001b[1;33m=\u001b[0m \u001b[0mpd\u001b[0m\u001b[1;33m.\u001b[0m\u001b[0mread_csv\u001b[0m\u001b[1;33m(\u001b[0m\u001b[1;34m'the_numbers_2009.csv'\u001b[0m\u001b[1;33m)\u001b[0m\u001b[1;33m\u001b[0m\u001b[0m\n\u001b[0m",
      "\u001b[1;32m~\\Anaconda3\\lib\\site-packages\\pandas\\io\\parsers.py\u001b[0m in \u001b[0;36mparser_f\u001b[1;34m(filepath_or_buffer, sep, delimiter, header, names, index_col, usecols, squeeze, prefix, mangle_dupe_cols, dtype, engine, converters, true_values, false_values, skipinitialspace, skiprows, nrows, na_values, keep_default_na, na_filter, verbose, skip_blank_lines, parse_dates, infer_datetime_format, keep_date_col, date_parser, dayfirst, iterator, chunksize, compression, thousands, decimal, lineterminator, quotechar, quoting, escapechar, comment, encoding, dialect, tupleize_cols, error_bad_lines, warn_bad_lines, skipfooter, doublequote, delim_whitespace, low_memory, memory_map, float_precision)\u001b[0m\n\u001b[0;32m    676\u001b[0m                     skip_blank_lines=skip_blank_lines)\n\u001b[0;32m    677\u001b[0m \u001b[1;33m\u001b[0m\u001b[0m\n\u001b[1;32m--> 678\u001b[1;33m         \u001b[1;32mreturn\u001b[0m \u001b[0m_read\u001b[0m\u001b[1;33m(\u001b[0m\u001b[0mfilepath_or_buffer\u001b[0m\u001b[1;33m,\u001b[0m \u001b[0mkwds\u001b[0m\u001b[1;33m)\u001b[0m\u001b[1;33m\u001b[0m\u001b[0m\n\u001b[0m\u001b[0;32m    679\u001b[0m \u001b[1;33m\u001b[0m\u001b[0m\n\u001b[0;32m    680\u001b[0m     \u001b[0mparser_f\u001b[0m\u001b[1;33m.\u001b[0m\u001b[0m__name__\u001b[0m \u001b[1;33m=\u001b[0m \u001b[0mname\u001b[0m\u001b[1;33m\u001b[0m\u001b[0m\n",
      "\u001b[1;32m~\\Anaconda3\\lib\\site-packages\\pandas\\io\\parsers.py\u001b[0m in \u001b[0;36m_read\u001b[1;34m(filepath_or_buffer, kwds)\u001b[0m\n\u001b[0;32m    438\u001b[0m \u001b[1;33m\u001b[0m\u001b[0m\n\u001b[0;32m    439\u001b[0m     \u001b[1;31m# Create the parser.\u001b[0m\u001b[1;33m\u001b[0m\u001b[1;33m\u001b[0m\u001b[0m\n\u001b[1;32m--> 440\u001b[1;33m     \u001b[0mparser\u001b[0m \u001b[1;33m=\u001b[0m \u001b[0mTextFileReader\u001b[0m\u001b[1;33m(\u001b[0m\u001b[0mfilepath_or_buffer\u001b[0m\u001b[1;33m,\u001b[0m \u001b[1;33m**\u001b[0m\u001b[0mkwds\u001b[0m\u001b[1;33m)\u001b[0m\u001b[1;33m\u001b[0m\u001b[0m\n\u001b[0m\u001b[0;32m    441\u001b[0m \u001b[1;33m\u001b[0m\u001b[0m\n\u001b[0;32m    442\u001b[0m     \u001b[1;32mif\u001b[0m \u001b[0mchunksize\u001b[0m \u001b[1;32mor\u001b[0m \u001b[0miterator\u001b[0m\u001b[1;33m:\u001b[0m\u001b[1;33m\u001b[0m\u001b[0m\n",
      "\u001b[1;32m~\\Anaconda3\\lib\\site-packages\\pandas\\io\\parsers.py\u001b[0m in \u001b[0;36m__init__\u001b[1;34m(self, f, engine, **kwds)\u001b[0m\n\u001b[0;32m    785\u001b[0m             \u001b[0mself\u001b[0m\u001b[1;33m.\u001b[0m\u001b[0moptions\u001b[0m\u001b[1;33m[\u001b[0m\u001b[1;34m'has_index_names'\u001b[0m\u001b[1;33m]\u001b[0m \u001b[1;33m=\u001b[0m \u001b[0mkwds\u001b[0m\u001b[1;33m[\u001b[0m\u001b[1;34m'has_index_names'\u001b[0m\u001b[1;33m]\u001b[0m\u001b[1;33m\u001b[0m\u001b[0m\n\u001b[0;32m    786\u001b[0m \u001b[1;33m\u001b[0m\u001b[0m\n\u001b[1;32m--> 787\u001b[1;33m         \u001b[0mself\u001b[0m\u001b[1;33m.\u001b[0m\u001b[0m_make_engine\u001b[0m\u001b[1;33m(\u001b[0m\u001b[0mself\u001b[0m\u001b[1;33m.\u001b[0m\u001b[0mengine\u001b[0m\u001b[1;33m)\u001b[0m\u001b[1;33m\u001b[0m\u001b[0m\n\u001b[0m\u001b[0;32m    788\u001b[0m \u001b[1;33m\u001b[0m\u001b[0m\n\u001b[0;32m    789\u001b[0m     \u001b[1;32mdef\u001b[0m \u001b[0mclose\u001b[0m\u001b[1;33m(\u001b[0m\u001b[0mself\u001b[0m\u001b[1;33m)\u001b[0m\u001b[1;33m:\u001b[0m\u001b[1;33m\u001b[0m\u001b[0m\n",
      "\u001b[1;32m~\\Anaconda3\\lib\\site-packages\\pandas\\io\\parsers.py\u001b[0m in \u001b[0;36m_make_engine\u001b[1;34m(self, engine)\u001b[0m\n\u001b[0;32m   1012\u001b[0m     \u001b[1;32mdef\u001b[0m \u001b[0m_make_engine\u001b[0m\u001b[1;33m(\u001b[0m\u001b[0mself\u001b[0m\u001b[1;33m,\u001b[0m \u001b[0mengine\u001b[0m\u001b[1;33m=\u001b[0m\u001b[1;34m'c'\u001b[0m\u001b[1;33m)\u001b[0m\u001b[1;33m:\u001b[0m\u001b[1;33m\u001b[0m\u001b[0m\n\u001b[0;32m   1013\u001b[0m         \u001b[1;32mif\u001b[0m \u001b[0mengine\u001b[0m \u001b[1;33m==\u001b[0m \u001b[1;34m'c'\u001b[0m\u001b[1;33m:\u001b[0m\u001b[1;33m\u001b[0m\u001b[0m\n\u001b[1;32m-> 1014\u001b[1;33m             \u001b[0mself\u001b[0m\u001b[1;33m.\u001b[0m\u001b[0m_engine\u001b[0m \u001b[1;33m=\u001b[0m \u001b[0mCParserWrapper\u001b[0m\u001b[1;33m(\u001b[0m\u001b[0mself\u001b[0m\u001b[1;33m.\u001b[0m\u001b[0mf\u001b[0m\u001b[1;33m,\u001b[0m \u001b[1;33m**\u001b[0m\u001b[0mself\u001b[0m\u001b[1;33m.\u001b[0m\u001b[0moptions\u001b[0m\u001b[1;33m)\u001b[0m\u001b[1;33m\u001b[0m\u001b[0m\n\u001b[0m\u001b[0;32m   1015\u001b[0m         \u001b[1;32melse\u001b[0m\u001b[1;33m:\u001b[0m\u001b[1;33m\u001b[0m\u001b[0m\n\u001b[0;32m   1016\u001b[0m             \u001b[1;32mif\u001b[0m \u001b[0mengine\u001b[0m \u001b[1;33m==\u001b[0m \u001b[1;34m'python'\u001b[0m\u001b[1;33m:\u001b[0m\u001b[1;33m\u001b[0m\u001b[0m\n",
      "\u001b[1;32m~\\Anaconda3\\lib\\site-packages\\pandas\\io\\parsers.py\u001b[0m in \u001b[0;36m__init__\u001b[1;34m(self, src, **kwds)\u001b[0m\n\u001b[0;32m   1706\u001b[0m         \u001b[0mkwds\u001b[0m\u001b[1;33m[\u001b[0m\u001b[1;34m'usecols'\u001b[0m\u001b[1;33m]\u001b[0m \u001b[1;33m=\u001b[0m \u001b[0mself\u001b[0m\u001b[1;33m.\u001b[0m\u001b[0musecols\u001b[0m\u001b[1;33m\u001b[0m\u001b[0m\n\u001b[0;32m   1707\u001b[0m \u001b[1;33m\u001b[0m\u001b[0m\n\u001b[1;32m-> 1708\u001b[1;33m         \u001b[0mself\u001b[0m\u001b[1;33m.\u001b[0m\u001b[0m_reader\u001b[0m \u001b[1;33m=\u001b[0m \u001b[0mparsers\u001b[0m\u001b[1;33m.\u001b[0m\u001b[0mTextReader\u001b[0m\u001b[1;33m(\u001b[0m\u001b[0msrc\u001b[0m\u001b[1;33m,\u001b[0m \u001b[1;33m**\u001b[0m\u001b[0mkwds\u001b[0m\u001b[1;33m)\u001b[0m\u001b[1;33m\u001b[0m\u001b[0m\n\u001b[0m\u001b[0;32m   1709\u001b[0m \u001b[1;33m\u001b[0m\u001b[0m\n\u001b[0;32m   1710\u001b[0m         \u001b[0mpassed_names\u001b[0m \u001b[1;33m=\u001b[0m \u001b[0mself\u001b[0m\u001b[1;33m.\u001b[0m\u001b[0mnames\u001b[0m \u001b[1;32mis\u001b[0m \u001b[1;32mNone\u001b[0m\u001b[1;33m\u001b[0m\u001b[0m\n",
      "\u001b[1;32mpandas\\_libs\\parsers.pyx\u001b[0m in \u001b[0;36mpandas._libs.parsers.TextReader.__cinit__\u001b[1;34m()\u001b[0m\n",
      "\u001b[1;32mpandas\\_libs\\parsers.pyx\u001b[0m in \u001b[0;36mpandas._libs.parsers.TextReader._setup_parser_source\u001b[1;34m()\u001b[0m\n",
      "\u001b[1;31mFileNotFoundError\u001b[0m: File b'the_numbers_2009.csv' does not exist"
     ]
    }
   ],
   "source": [
    "df = pd.read_csv('the_numbers_2009.csv')"
   ]
  },
  {
   "cell_type": "code",
   "execution_count": 204,
   "metadata": {
    "colab": {
     "base_uri": "https://localhost:8080/",
     "height": 195
    },
    "colab_type": "code",
    "executionInfo": {
     "elapsed": 3688,
     "status": "ok",
     "timestamp": 1555343280102,
     "user": {
      "displayName": "Nedderlander Sup?",
      "photoUrl": "https://lh6.googleusercontent.com/-qzI8S3fvyi0/AAAAAAAAAAI/AAAAAAAAB-c/TpDRAnskIaM/s64/photo.jpg",
      "userId": "06599839148120495949"
     },
     "user_tz": 420
    },
    "id": "k9e9Bx9QAHHm",
    "outputId": "fad7fd6c-1c82-48cd-a681-6fe245796b45"
   },
   "outputs": [
    {
     "data": {
      "text/html": [
       "<div>\n",
       "<style scoped>\n",
       "    .dataframe tbody tr th:only-of-type {\n",
       "        vertical-align: middle;\n",
       "    }\n",
       "\n",
       "    .dataframe tbody tr th {\n",
       "        vertical-align: top;\n",
       "    }\n",
       "\n",
       "    .dataframe thead th {\n",
       "        text-align: right;\n",
       "    }\n",
       "</style>\n",
       "<table border=\"1\" class=\"dataframe\">\n",
       "  <thead>\n",
       "    <tr style=\"text-align: right;\">\n",
       "      <th></th>\n",
       "      <th>Unnamed: 0</th>\n",
       "      <th>0</th>\n",
       "      <th>1</th>\n",
       "      <th>2</th>\n",
       "      <th>3</th>\n",
       "      <th>4</th>\n",
       "      <th>5</th>\n",
       "      <th>6</th>\n",
       "    </tr>\n",
       "  </thead>\n",
       "  <tbody>\n",
       "    <tr>\n",
       "      <th>0</th>\n",
       "      <td>0</td>\n",
       "      <td>Release DateMovieProduction BudgetDomestic Gr...</td>\n",
       "      <td>NaN</td>\n",
       "      <td>NaN</td>\n",
       "      <td>NaN</td>\n",
       "      <td>NaN</td>\n",
       "      <td>NaN</td>\n",
       "      <td>$nan</td>\n",
       "    </tr>\n",
       "    <tr>\n",
       "      <th>1</th>\n",
       "      <td>1</td>\n",
       "      <td>1</td>\n",
       "      <td>18-Dec-09</td>\n",
       "      <td>Avatar</td>\n",
       "      <td>$425,000,000</td>\n",
       "      <td>$760,507,625</td>\n",
       "      <td>$2,776,345,279</td>\n",
       "      <td>$nan</td>\n",
       "    </tr>\n",
       "    <tr>\n",
       "      <th>2</th>\n",
       "      <td>2</td>\n",
       "      <td>2</td>\n",
       "      <td>20-May-11</td>\n",
       "      <td>Pirates of the Caribbean: On Stranger Tides</td>\n",
       "      <td>$410,600,000</td>\n",
       "      <td>$241,063,875</td>\n",
       "      <td>$1,045,663,875</td>\n",
       "      <td>$nan</td>\n",
       "    </tr>\n",
       "    <tr>\n",
       "      <th>3</th>\n",
       "      <td>3</td>\n",
       "      <td>3</td>\n",
       "      <td>1-May-15</td>\n",
       "      <td>Avengers: Age of Ultron</td>\n",
       "      <td>$330,600,000</td>\n",
       "      <td>$459,005,868</td>\n",
       "      <td>$1,403,013,963</td>\n",
       "      <td>$nan</td>\n",
       "    </tr>\n",
       "    <tr>\n",
       "      <th>4</th>\n",
       "      <td>4</td>\n",
       "      <td>4</td>\n",
       "      <td>15-Dec-17</td>\n",
       "      <td>Star Wars Ep. VIII: The Last Jedi</td>\n",
       "      <td>$317,000,000</td>\n",
       "      <td>$620,181,382</td>\n",
       "      <td>$1,316,721,747</td>\n",
       "      <td>$nan</td>\n",
       "    </tr>\n",
       "  </tbody>\n",
       "</table>\n",
       "</div>"
      ],
      "text/plain": [
       "   Unnamed: 0                                                  0          1  \\\n",
       "0           0   Release DateMovieProduction BudgetDomestic Gr...        NaN   \n",
       "1           1                                                  1  18-Dec-09   \n",
       "2           2                                                  2  20-May-11   \n",
       "3           3                                                  3   1-May-15   \n",
       "4           4                                                  4  15-Dec-17   \n",
       "\n",
       "                                             2              3              4  \\\n",
       "0                                          NaN            NaN            NaN   \n",
       "1                                       Avatar  $425,000,000   $760,507,625    \n",
       "2  Pirates of the Caribbean: On Stranger Tides  $410,600,000   $241,063,875    \n",
       "3                      Avengers: Age of Ultron  $330,600,000   $459,005,868    \n",
       "4            Star Wars Ep. VIII: The Last Jedi  $317,000,000   $620,181,382    \n",
       "\n",
       "                 5    6  \n",
       "0              NaN $nan  \n",
       "1  $2,776,345,279  $nan  \n",
       "2  $1,045,663,875  $nan  \n",
       "3  $1,403,013,963  $nan  \n",
       "4  $1,316,721,747  $nan  "
      ]
     },
     "execution_count": 204,
     "metadata": {},
     "output_type": "execute_result"
    }
   ],
   "source": [
    "df.head()"
   ]
  },
  {
   "cell_type": "code",
   "execution_count": 205,
   "metadata": {
    "colab": {
     "base_uri": "https://localhost:8080/",
     "height": 34
    },
    "colab_type": "code",
    "executionInfo": {
     "elapsed": 1811,
     "status": "ok",
     "timestamp": 1555343280104,
     "user": {
      "displayName": "Nedderlander Sup?",
      "photoUrl": "https://lh6.googleusercontent.com/-qzI8S3fvyi0/AAAAAAAAAAI/AAAAAAAAB-c/TpDRAnskIaM/s64/photo.jpg",
      "userId": "06599839148120495949"
     },
     "user_tz": 420
    },
    "id": "LNLJOFteknk_",
    "outputId": "cbfbfa98-dcf7-4615-99ce-6d10c1f107ee"
   },
   "outputs": [
    {
     "data": {
      "text/plain": [
       "['Unnamed: 0', '0', '1', '2', '3', '4', '5', '6']"
      ]
     },
     "execution_count": 205,
     "metadata": {},
     "output_type": "execute_result"
    }
   ],
   "source": [
    "df.columns.tolist()"
   ]
  },
  {
   "cell_type": "code",
   "execution_count": 206,
   "metadata": {
    "colab": {
     "base_uri": "https://localhost:8080/",
     "height": 34
    },
    "colab_type": "code",
    "executionInfo": {
     "elapsed": 345,
     "status": "ok",
     "timestamp": 1555343280320,
     "user": {
      "displayName": "Nedderlander Sup?",
      "photoUrl": "https://lh6.googleusercontent.com/-qzI8S3fvyi0/AAAAAAAAAAI/AAAAAAAAB-c/TpDRAnskIaM/s64/photo.jpg",
      "userId": "06599839148120495949"
     },
     "user_tz": 420
    },
    "id": "viSDodGSBLyd",
    "outputId": "1e675ef7-c9bf-496f-9a0c-815b14dc4535"
   },
   "outputs": [
    {
     "data": {
      "text/plain": [
       "(5787, 8)"
      ]
     },
     "execution_count": 206,
     "metadata": {},
     "output_type": "execute_result"
    }
   ],
   "source": [
    "df.shape"
   ]
  },
  {
   "cell_type": "code",
   "execution_count": 207,
   "metadata": {
    "colab": {
     "base_uri": "https://localhost:8080/",
     "height": 34
    },
    "colab_type": "code",
    "executionInfo": {
     "elapsed": 447,
     "status": "ok",
     "timestamp": 1555343283427,
     "user": {
      "displayName": "Nedderlander Sup?",
      "photoUrl": "https://lh6.googleusercontent.com/-qzI8S3fvyi0/AAAAAAAAAAI/AAAAAAAAB-c/TpDRAnskIaM/s64/photo.jpg",
      "userId": "06599839148120495949"
     },
     "user_tz": 420
    },
    "id": "a9Oer6BlExWj",
    "outputId": "86eb8dbc-c00a-41a1-fe25-19f1eb581cda"
   },
   "outputs": [
    {
     "data": {
      "text/plain": [
       "(5729, 5)"
      ]
     },
     "execution_count": 207,
     "metadata": {},
     "output_type": "execute_result"
    }
   ],
   "source": [
    "# cleaning column names, and dropping nans\n",
    "df = df.drop(columns = ['Unnamed: 0', '0', '6']).drop([0]).dropna(how='all').rename(columns={'1': 'Release Date', '2':'Movie',\n",
    "                                                                                        '3':'Production Budget', '4': 'Domestic Gross', '5':'Worldwide Gross'})\n",
    "df.shape"
   ]
  },
  {
   "cell_type": "code",
   "execution_count": 208,
   "metadata": {
    "colab": {
     "base_uri": "https://localhost:8080/",
     "height": 118
    },
    "colab_type": "code",
    "executionInfo": {
     "elapsed": 561,
     "status": "ok",
     "timestamp": 1555343285087,
     "user": {
      "displayName": "Nedderlander Sup?",
      "photoUrl": "https://lh6.googleusercontent.com/-qzI8S3fvyi0/AAAAAAAAAAI/AAAAAAAAB-c/TpDRAnskIaM/s64/photo.jpg",
      "userId": "06599839148120495949"
     },
     "user_tz": 420
    },
    "id": "ZFWtqKJjCIof",
    "outputId": "0588a437-0c7b-44fe-a75d-bfe56aaa8e7f"
   },
   "outputs": [
    {
     "data": {
      "text/plain": [
       "Release Date         object\n",
       "Movie                object\n",
       "Production Budget    object\n",
       "Domestic Gross       object\n",
       "Worldwide Gross      object\n",
       "dtype: object"
      ]
     },
     "execution_count": 208,
     "metadata": {},
     "output_type": "execute_result"
    }
   ],
   "source": [
    "# we lost 58 rows, which makes sense, the original list is of 5,731 movies so we lost about 2, \n",
    "# the dropped rows were mostly title rows that got caught in the webscraper\n",
    "\n",
    "# Now we can set dtypes before describing our data\n",
    "df.dtypes\n",
    "\n"
   ]
  },
  {
   "cell_type": "code",
   "execution_count": 209,
   "metadata": {
    "colab": {
     "base_uri": "https://localhost:8080/",
     "height": 195
    },
    "colab_type": "code",
    "executionInfo": {
     "elapsed": 495,
     "status": "ok",
     "timestamp": 1555343286516,
     "user": {
      "displayName": "Nedderlander Sup?",
      "photoUrl": "https://lh6.googleusercontent.com/-qzI8S3fvyi0/AAAAAAAAAAI/AAAAAAAAB-c/TpDRAnskIaM/s64/photo.jpg",
      "userId": "06599839148120495949"
     },
     "user_tz": 420
    },
    "id": "k8Q7bJo0Tw-8",
    "outputId": "d412786a-3925-4da3-812a-ebd772cebf49"
   },
   "outputs": [
    {
     "data": {
      "text/html": [
       "<div>\n",
       "<style scoped>\n",
       "    .dataframe tbody tr th:only-of-type {\n",
       "        vertical-align: middle;\n",
       "    }\n",
       "\n",
       "    .dataframe tbody tr th {\n",
       "        vertical-align: top;\n",
       "    }\n",
       "\n",
       "    .dataframe thead th {\n",
       "        text-align: right;\n",
       "    }\n",
       "</style>\n",
       "<table border=\"1\" class=\"dataframe\">\n",
       "  <thead>\n",
       "    <tr style=\"text-align: right;\">\n",
       "      <th></th>\n",
       "      <th>Release Date</th>\n",
       "      <th>Movie</th>\n",
       "      <th>Production Budget</th>\n",
       "      <th>Domestic Gross</th>\n",
       "      <th>Worldwide Gross</th>\n",
       "    </tr>\n",
       "  </thead>\n",
       "  <tbody>\n",
       "    <tr>\n",
       "      <th>1</th>\n",
       "      <td>18-Dec-09</td>\n",
       "      <td>Avatar</td>\n",
       "      <td>$425,000,000</td>\n",
       "      <td>$760,507,625</td>\n",
       "      <td>$2,776,345,279</td>\n",
       "    </tr>\n",
       "    <tr>\n",
       "      <th>2</th>\n",
       "      <td>20-May-11</td>\n",
       "      <td>Pirates of the Caribbean: On Stranger Tides</td>\n",
       "      <td>$410,600,000</td>\n",
       "      <td>$241,063,875</td>\n",
       "      <td>$1,045,663,875</td>\n",
       "    </tr>\n",
       "    <tr>\n",
       "      <th>3</th>\n",
       "      <td>1-May-15</td>\n",
       "      <td>Avengers: Age of Ultron</td>\n",
       "      <td>$330,600,000</td>\n",
       "      <td>$459,005,868</td>\n",
       "      <td>$1,403,013,963</td>\n",
       "    </tr>\n",
       "    <tr>\n",
       "      <th>4</th>\n",
       "      <td>15-Dec-17</td>\n",
       "      <td>Star Wars Ep. VIII: The Last Jedi</td>\n",
       "      <td>$317,000,000</td>\n",
       "      <td>$620,181,382</td>\n",
       "      <td>$1,316,721,747</td>\n",
       "    </tr>\n",
       "    <tr>\n",
       "      <th>5</th>\n",
       "      <td>18-Dec-15</td>\n",
       "      <td>Star Wars Ep. VII: The Force Awakens</td>\n",
       "      <td>$306,000,000</td>\n",
       "      <td>$936,662,225</td>\n",
       "      <td>$2,053,311,220</td>\n",
       "    </tr>\n",
       "  </tbody>\n",
       "</table>\n",
       "</div>"
      ],
      "text/plain": [
       "  Release Date                                        Movie Production Budget  \\\n",
       "1    18-Dec-09                                       Avatar     $425,000,000    \n",
       "2    20-May-11  Pirates of the Caribbean: On Stranger Tides     $410,600,000    \n",
       "3     1-May-15                      Avengers: Age of Ultron     $330,600,000    \n",
       "4    15-Dec-17            Star Wars Ep. VIII: The Last Jedi     $317,000,000    \n",
       "5    18-Dec-15         Star Wars Ep. VII: The Force Awakens     $306,000,000    \n",
       "\n",
       "  Domestic Gross  Worldwide Gross  \n",
       "1  $760,507,625   $2,776,345,279   \n",
       "2  $241,063,875   $1,045,663,875   \n",
       "3  $459,005,868   $1,403,013,963   \n",
       "4  $620,181,382   $1,316,721,747   \n",
       "5  $936,662,225   $2,053,311,220   "
      ]
     },
     "execution_count": 209,
     "metadata": {},
     "output_type": "execute_result"
    }
   ],
   "source": [
    "df.head()"
   ]
  },
  {
   "cell_type": "code",
   "execution_count": 282,
   "metadata": {},
   "outputs": [
    {
     "data": {
      "text/html": [
       "<div>\n",
       "<style scoped>\n",
       "    .dataframe tbody tr th:only-of-type {\n",
       "        vertical-align: middle;\n",
       "    }\n",
       "\n",
       "    .dataframe tbody tr th {\n",
       "        vertical-align: top;\n",
       "    }\n",
       "\n",
       "    .dataframe thead th {\n",
       "        text-align: right;\n",
       "    }\n",
       "</style>\n",
       "<table border=\"1\" class=\"dataframe\">\n",
       "  <thead>\n",
       "    <tr style=\"text-align: right;\">\n",
       "      <th></th>\n",
       "      <th>Release Date</th>\n",
       "      <th>Movie</th>\n",
       "      <th>Production Budget</th>\n",
       "      <th>Domestic Gross</th>\n",
       "      <th>Worldwide Gross</th>\n",
       "    </tr>\n",
       "  </thead>\n",
       "  <tbody>\n",
       "    <tr>\n",
       "      <th>4817</th>\n",
       "      <td>2063-05-29</td>\n",
       "      <td>Hud</td>\n",
       "      <td>$2,500,000.00</td>\n",
       "      <td>$10,000,000.00</td>\n",
       "      <td>$10,000,000.00</td>\n",
       "    </tr>\n",
       "  </tbody>\n",
       "</table>\n",
       "</div>"
      ],
      "text/plain": [
       "     Release Date Movie  Production Budget  Domestic Gross  Worldwide Gross\n",
       "4817   2063-05-29   Hud      $2,500,000.00  $10,000,000.00   $10,000,000.00"
      ]
     },
     "execution_count": 282,
     "metadata": {},
     "output_type": "execute_result"
    }
   ],
   "source": [
    "df[df['Movie'] == 'Hud']\n",
    "# looks like some dates are encoded indirectly"
   ]
  },
  {
   "cell_type": "code",
   "execution_count": 281,
   "metadata": {
    "colab": {},
    "colab_type": "code",
    "id": "MNNjgDk_Cc-F"
   },
   "outputs": [],
   "source": [
    "# so everything is an object when we should have dates and budgets\n",
    "\n",
    "# I'm going to replace dollars with floats now:\n",
    "df[ df.columns[2:]] = df[df.columns[2:]].replace('[$,]', '', regex=True).astype(float)\n",
    "\n",
    "# and then this re-formats our floats as dollars:\n",
    "pd.options.display.float_format = '${:,.2f}'.format\n",
    "\n",
    "# and now I'll cast our dates into datetime objects\n",
    "df['Release Date'] = pd.to_datetime(df['Release Date'],infer_datetime_format=True)"
   ]
  },
  {
   "cell_type": "code",
   "execution_count": 211,
   "metadata": {
    "colab": {
     "base_uri": "https://localhost:8080/",
     "height": 118
    },
    "colab_type": "code",
    "executionInfo": {
     "elapsed": 400,
     "status": "ok",
     "timestamp": 1555286879743,
     "user": {
      "displayName": "Nedderlander Sup?",
      "photoUrl": "https://lh6.googleusercontent.com/-qzI8S3fvyi0/AAAAAAAAAAI/AAAAAAAAB-c/TpDRAnskIaM/s64/photo.jpg",
      "userId": "06599839148120495949"
     },
     "user_tz": 420
    },
    "id": "8MNgTuK5YELG",
    "outputId": "2fff59b5-9c35-4ee9-ee02-7affcaaeb6d9"
   },
   "outputs": [
    {
     "data": {
      "text/plain": [
       "Release Date         datetime64[ns]\n",
       "Movie                        object\n",
       "Production Budget           float64\n",
       "Domestic Gross              float64\n",
       "Worldwide Gross             float64\n",
       "dtype: object"
      ]
     },
     "execution_count": 211,
     "metadata": {},
     "output_type": "execute_result"
    }
   ],
   "source": [
    "df.dtypes\n",
    "# now we have dates and numbers along with a title, time to do some exploratory stats and graphing"
   ]
  },
  {
   "cell_type": "code",
   "execution_count": 212,
   "metadata": {
    "colab": {
     "base_uri": "https://localhost:8080/",
     "height": 284
    },
    "colab_type": "code",
    "executionInfo": {
     "elapsed": 308,
     "status": "ok",
     "timestamp": 1555286882295,
     "user": {
      "displayName": "Nedderlander Sup?",
      "photoUrl": "https://lh6.googleusercontent.com/-qzI8S3fvyi0/AAAAAAAAAAI/AAAAAAAAB-c/TpDRAnskIaM/s64/photo.jpg",
      "userId": "06599839148120495949"
     },
     "user_tz": 420
    },
    "id": "eIstdwAyaseU",
    "outputId": "86ec0628-4e83-4a0d-f22e-d9a1d827de01",
    "scrolled": true
   },
   "outputs": [
    {
     "data": {
      "text/plain": [
       "(       Production Budget  Domestic Gross   Worldwide Gross\n",
       " count          $5,729.00       $5,729.00         $5,729.00\n",
       " mean      $31,428,130.83  $41,955,842.90    $91,578,296.75\n",
       " std       $41,505,954.69  $68,317,848.02   $174,939,479.15\n",
       " min            $1,100.00           $0.00             $0.00\n",
       " 25%        $5,000,000.00   $1,436,000.00     $4,142,507.00\n",
       " 50%       $17,000,000.00  $17,266,505.00    $28,012,862.00\n",
       " 75%       $40,000,000.00  $52,474,616.00    $97,658,712.00\n",
       " max      $425,000,000.00 $936,662,225.00 $2,776,345,279.00, (5729, 5))"
      ]
     },
     "execution_count": 212,
     "metadata": {},
     "output_type": "execute_result"
    }
   ],
   "source": [
    "df.describe(), df.shape\n",
    "# we can see that our money format for floats is messing around with our description, but the count makes sense, no missing values.\n",
    "# The mean of our production budget is much higher than our mode, so this means we have a heavy skew to the right on budgets, \n",
    "# this won't surprise us based on what we know about hollywood"
   ]
  },
  {
   "cell_type": "code",
   "execution_count": 213,
   "metadata": {},
   "outputs": [
    {
     "data": {
      "text/plain": [
       "(       Production Budget  Domestic Gross   Worldwide Gross\n",
       " count          $5,193.00       $5,193.00         $5,193.00\n",
       " mean      $33,897,517.73  $46,286,351.62   $100,725,464.81\n",
       " std       $42,599,347.59  $70,346,865.13   $181,267,432.83\n",
       " min            $1,100.00         $388.00           $401.00\n",
       " 25%        $6,500,000.00   $4,299,773.00     $8,130,727.00\n",
       " 50%       $20,000,000.00  $21,995,263.00    $35,417,162.00\n",
       " 75%       $44,000,000.00  $57,712,751.00   $109,253,745.00\n",
       " max      $425,000,000.00 $936,662,225.00 $2,776,345,279.00, (5193, 5))"
      ]
     },
     "execution_count": 213,
     "metadata": {},
     "output_type": "execute_result"
    }
   ],
   "source": [
    "# However, we have some empty columns with Domestic Gross and Worldwide Gross, I think those are either errors or \n",
    "# unreleased films so I'm going to drop them\n",
    "\n",
    "df = df[df['Domestic Gross'] != 0]\n",
    "\n",
    "df.describe(), df.shape\n",
    "\n",
    "# this reduces our height by 536 movies, too bad but they were probably noise"
   ]
  },
  {
   "cell_type": "code",
   "execution_count": 214,
   "metadata": {
    "colab": {
     "base_uri": "https://localhost:8080/",
     "height": 298
    },
    "colab_type": "code",
    "executionInfo": {
     "elapsed": 480,
     "status": "ok",
     "timestamp": 1555286889095,
     "user": {
      "displayName": "Nedderlander Sup?",
      "photoUrl": "https://lh6.googleusercontent.com/-qzI8S3fvyi0/AAAAAAAAAAI/AAAAAAAAB-c/TpDRAnskIaM/s64/photo.jpg",
      "userId": "06599839148120495949"
     },
     "user_tz": 420
    },
    "id": "ewHF_DIBauES",
    "outputId": "5d3e0004-7b0f-4da8-baf6-2c3429608da1"
   },
   "outputs": [],
   "source": [
    "# from pandas.plotting import scatter_matrix\n",
    "# scatter_matrix(df, alpha=0.2, figsize=(12,12), diagonal = 'hist');\n",
    "\n",
    "# df['Production Budget'].hist()"
   ]
  },
  {
   "cell_type": "code",
   "execution_count": 215,
   "metadata": {
    "colab": {
     "base_uri": "https://localhost:8080/",
     "height": 136
    },
    "colab_type": "code",
    "executionInfo": {
     "elapsed": 362,
     "status": "ok",
     "timestamp": 1555343393128,
     "user": {
      "displayName": "Nedderlander Sup?",
      "photoUrl": "https://lh6.googleusercontent.com/-qzI8S3fvyi0/AAAAAAAAAAI/AAAAAAAAB-c/TpDRAnskIaM/s64/photo.jpg",
      "userId": "06599839148120495949"
     },
     "user_tz": 420
    },
    "id": "-NCzacD22WQ6",
    "outputId": "b7e99487-bf27-4a62-b378-5894b62a2224"
   },
   "outputs": [
    {
     "data": {
      "text/plain": [
       "Release Date         datetime64[ns]\n",
       "Movie                        object\n",
       "Production Budget           float64\n",
       "Domestic Gross              float64\n",
       "Worldwide Gross             float64\n",
       "dtype: object"
      ]
     },
     "execution_count": 215,
     "metadata": {},
     "output_type": "execute_result"
    }
   ],
   "source": [
    "df.dtypes"
   ]
  },
  {
   "cell_type": "code",
   "execution_count": 216,
   "metadata": {
    "colab": {},
    "colab_type": "code",
    "id": "NtU-X83-QvAw"
   },
   "outputs": [
    {
     "data": {
      "text/html": [
       "<div>\n",
       "<style scoped>\n",
       "    .dataframe tbody tr th:only-of-type {\n",
       "        vertical-align: middle;\n",
       "    }\n",
       "\n",
       "    .dataframe tbody tr th {\n",
       "        vertical-align: top;\n",
       "    }\n",
       "\n",
       "    .dataframe thead th {\n",
       "        text-align: right;\n",
       "    }\n",
       "</style>\n",
       "<table border=\"1\" class=\"dataframe\">\n",
       "  <thead>\n",
       "    <tr style=\"text-align: right;\">\n",
       "      <th></th>\n",
       "      <th>Release Date</th>\n",
       "      <th>Movie</th>\n",
       "      <th>Production Budget</th>\n",
       "      <th>Domestic Gross</th>\n",
       "      <th>Worldwide Gross</th>\n",
       "    </tr>\n",
       "  </thead>\n",
       "  <tbody>\n",
       "    <tr>\n",
       "      <th>2895</th>\n",
       "      <td>2002-11-27</td>\n",
       "      <td>Wes Craven Presents: They</td>\n",
       "      <td>$17,000,000.00</td>\n",
       "      <td>$12,840,842.00</td>\n",
       "      <td>$16,140,842.00</td>\n",
       "    </tr>\n",
       "    <tr>\n",
       "      <th>5123</th>\n",
       "      <td>2013-04-05</td>\n",
       "      <td>Eddie: The Sleepwalking Cannibal</td>\n",
       "      <td>$1,400,000.00</td>\n",
       "      <td>$1,632.00</td>\n",
       "      <td>$1,632.00</td>\n",
       "    </tr>\n",
       "    <tr>\n",
       "      <th>4118</th>\n",
       "      <td>1989-06-30</td>\n",
       "      <td>Do the Right Thing</td>\n",
       "      <td>$6,000,000.00</td>\n",
       "      <td>$26,004,026.00</td>\n",
       "      <td>$26,004,026.00</td>\n",
       "    </tr>\n",
       "    <tr>\n",
       "      <th>912</th>\n",
       "      <td>2009-04-17</td>\n",
       "      <td>State of Play</td>\n",
       "      <td>$60,000,000.00</td>\n",
       "      <td>$37,017,955.00</td>\n",
       "      <td>$88,832,210.00</td>\n",
       "    </tr>\n",
       "  </tbody>\n",
       "</table>\n",
       "</div>"
      ],
      "text/plain": [
       "     Release Date                             Movie  Production Budget  \\\n",
       "2895   2002-11-27         Wes Craven Presents: They     $17,000,000.00   \n",
       "5123   2013-04-05  Eddie: The Sleepwalking Cannibal      $1,400,000.00   \n",
       "4118   1989-06-30                Do the Right Thing      $6,000,000.00   \n",
       "912    2009-04-17                     State of Play     $60,000,000.00   \n",
       "\n",
       "      Domestic Gross  Worldwide Gross  \n",
       "2895  $12,840,842.00   $16,140,842.00  \n",
       "5123       $1,632.00        $1,632.00  \n",
       "4118  $26,004,026.00   $26,004,026.00  \n",
       "912   $37,017,955.00   $88,832,210.00  "
      ]
     },
     "execution_count": 216,
     "metadata": {},
     "output_type": "execute_result"
    }
   ],
   "source": [
    "df.sample(4)"
   ]
  },
  {
   "cell_type": "code",
   "execution_count": 217,
   "metadata": {
    "colab": {},
    "colab_type": "code",
    "id": "OGi7MHj2toyN"
   },
   "outputs": [
    {
     "data": {
      "text/plain": [
       "[<matplotlib.lines.Line2D at 0xc5a9b70>]"
      ]
     },
     "execution_count": 217,
     "metadata": {},
     "output_type": "execute_result"
    },
    {
     "data": {
      "image/png": "[encoded data removed]",
      "text/plain": [
       "<Figure size 432x288 with 1 Axes>"
      ]
     },
     "metadata": {
      "needs_background": "light"
     },
     "output_type": "display_data"
    }
   ],
   "source": [
    "dates = matplotlib.dates.date2num(df['Release Date'])\n",
    "budgets = df['Production Budget']\n",
    "gross = df['Worldwide Gross']\n",
    "\n",
    "plt.plot_date(dates, budgets, c = 'red')\n",
    "\n",
    "# plt.scatter(df['Release Date'], df['Production Budget'], s=100, c = 'red')\n"
   ]
  },
  {
   "cell_type": "code",
   "execution_count": 218,
   "metadata": {},
   "outputs": [
    {
     "data": {
      "text/plain": [
       "count                    5193\n",
       "unique                   2207\n",
       "top       2000-12-22 00:00:00\n",
       "freq                        9\n",
       "first     1969-01-01 00:00:00\n",
       "last      2068-12-11 00:00:00\n",
       "Name: Release Date, dtype: object"
      ]
     },
     "execution_count": 218,
     "metadata": {},
     "output_type": "execute_result"
    }
   ],
   "source": [
    "df['Release Date'].describe()\n",
    "# This is problematic as we see movies being released in the future, some manual checking confirms that most of these are \n",
    "# filmes were 19xx has been inputed as 20xx "
   ]
  },
  {
   "cell_type": "code",
   "execution_count": 219,
   "metadata": {},
   "outputs": [
    {
     "data": {
      "text/html": [
       "<div>\n",
       "<style scoped>\n",
       "    .dataframe tbody tr th:only-of-type {\n",
       "        vertical-align: middle;\n",
       "    }\n",
       "\n",
       "    .dataframe tbody tr th {\n",
       "        vertical-align: top;\n",
       "    }\n",
       "\n",
       "    .dataframe thead th {\n",
       "        text-align: right;\n",
       "    }\n",
       "</style>\n",
       "<table border=\"1\" class=\"dataframe\">\n",
       "  <thead>\n",
       "    <tr style=\"text-align: right;\">\n",
       "      <th></th>\n",
       "      <th>Release Date</th>\n",
       "      <th>Movie</th>\n",
       "      <th>Production Budget</th>\n",
       "      <th>Domestic Gross</th>\n",
       "      <th>Worldwide Gross</th>\n",
       "    </tr>\n",
       "  </thead>\n",
       "  <tbody>\n",
       "    <tr>\n",
       "      <th>3356</th>\n",
       "      <td>1970-01-01</td>\n",
       "      <td>Patton</td>\n",
       "      <td>$12,000,000.00</td>\n",
       "      <td>$62,500,000.00</td>\n",
       "      <td>$62,500,000.00</td>\n",
       "    </tr>\n",
       "    <tr>\n",
       "      <th>2443</th>\n",
       "      <td>1970-01-01</td>\n",
       "      <td>Darling Lili</td>\n",
       "      <td>$22,000,000.00</td>\n",
       "      <td>$5,000,000.00</td>\n",
       "      <td>$5,000,000.00</td>\n",
       "    </tr>\n",
       "    <tr>\n",
       "      <th>3507</th>\n",
       "      <td>1970-01-01</td>\n",
       "      <td>The Molly Maguires</td>\n",
       "      <td>$11,000,000.00</td>\n",
       "      <td>$2,200,000.00</td>\n",
       "      <td>$2,200,000.00</td>\n",
       "    </tr>\n",
       "    <tr>\n",
       "      <th>4583</th>\n",
       "      <td>1970-01-01</td>\n",
       "      <td>M*A*S*H</td>\n",
       "      <td>$3,500,000.00</td>\n",
       "      <td>$81,600,000.00</td>\n",
       "      <td>$81,600,000.00</td>\n",
       "    </tr>\n",
       "    <tr>\n",
       "      <th>5225</th>\n",
       "      <td>1970-01-01</td>\n",
       "      <td>Beyond the Valley of the Dolls</td>\n",
       "      <td>$1,000,000.00</td>\n",
       "      <td>$9,000,000.00</td>\n",
       "      <td>$9,000,000.00</td>\n",
       "    </tr>\n",
       "    <tr>\n",
       "      <th>4816</th>\n",
       "      <td>1971-01-01</td>\n",
       "      <td>Escape from the Planet of the Apes</td>\n",
       "      <td>$2,500,000.00</td>\n",
       "      <td>$12,300,000.00</td>\n",
       "      <td>$12,300,000.00</td>\n",
       "    </tr>\n",
       "    <tr>\n",
       "      <th>5658</th>\n",
       "      <td>1971-01-01</td>\n",
       "      <td>Sweet Sweetback's Baad Asssss Song</td>\n",
       "      <td>$150,000.00</td>\n",
       "      <td>$15,200,000.00</td>\n",
       "      <td>$15,200,000.00</td>\n",
       "    </tr>\n",
       "    <tr>\n",
       "      <th>3768</th>\n",
       "      <td>1971-01-01</td>\n",
       "      <td>Fiddler on the Roof</td>\n",
       "      <td>$9,000,000.00</td>\n",
       "      <td>$80,500,000.00</td>\n",
       "      <td>$80,500,000.00</td>\n",
       "    </tr>\n",
       "    <tr>\n",
       "      <th>5358</th>\n",
       "      <td>1971-01-01</td>\n",
       "      <td>Billy Jack</td>\n",
       "      <td>$800,000.00</td>\n",
       "      <td>$98,000,000.00</td>\n",
       "      <td>$98,000,000.00</td>\n",
       "    </tr>\n",
       "    <tr>\n",
       "      <th>4086</th>\n",
       "      <td>1971-01-01</td>\n",
       "      <td>The Andromeda Strain</td>\n",
       "      <td>$6,500,000.00</td>\n",
       "      <td>$12,376,563.00</td>\n",
       "      <td>$12,376,563.00</td>\n",
       "    </tr>\n",
       "    <tr>\n",
       "      <th>...</th>\n",
       "      <td>...</td>\n",
       "      <td>...</td>\n",
       "      <td>...</td>\n",
       "      <td>...</td>\n",
       "      <td>...</td>\n",
       "    </tr>\n",
       "    <tr>\n",
       "      <th>391</th>\n",
       "      <td>2019-03-15</td>\n",
       "      <td>Wonder Park</td>\n",
       "      <td>$100,000,000.00</td>\n",
       "      <td>$39,549,886.00</td>\n",
       "      <td>$53,769,245.00</td>\n",
       "    </tr>\n",
       "    <tr>\n",
       "      <th>2293</th>\n",
       "      <td>2019-03-15</td>\n",
       "      <td>Captive State</td>\n",
       "      <td>$25,000,000.00</td>\n",
       "      <td>$5,949,855.00</td>\n",
       "      <td>$6,483,371.00</td>\n",
       "    </tr>\n",
       "    <tr>\n",
       "      <th>5164</th>\n",
       "      <td>2051-09-18</td>\n",
       "      <td>The Day the Earth Stood Still</td>\n",
       "      <td>$1,200,000.00</td>\n",
       "      <td>$3,700,000.00</td>\n",
       "      <td>$3,700,000.00</td>\n",
       "    </tr>\n",
       "    <tr>\n",
       "      <th>5018</th>\n",
       "      <td>2051-09-18</td>\n",
       "      <td>A Streetcar Named Desire</td>\n",
       "      <td>$1,800,000.00</td>\n",
       "      <td>$8,000,000.00</td>\n",
       "      <td>$8,000,000.00</td>\n",
       "    </tr>\n",
       "    <tr>\n",
       "      <th>4689</th>\n",
       "      <td>2061-12-19</td>\n",
       "      <td>Judgment at Nuremberg</td>\n",
       "      <td>$3,000,000.00</td>\n",
       "      <td>$10,000,000.00</td>\n",
       "      <td>$10,000,000.00</td>\n",
       "    </tr>\n",
       "    <tr>\n",
       "      <th>4774</th>\n",
       "      <td>2061-12-19</td>\n",
       "      <td>Pocketful of Miracles</td>\n",
       "      <td>$2,900,000.00</td>\n",
       "      <td>$5,000,000.00</td>\n",
       "      <td>$5,000,000.00</td>\n",
       "    </tr>\n",
       "    <tr>\n",
       "      <th>4817</th>\n",
       "      <td>2063-05-29</td>\n",
       "      <td>Hud</td>\n",
       "      <td>$2,500,000.00</td>\n",
       "      <td>$10,000,000.00</td>\n",
       "      <td>$10,000,000.00</td>\n",
       "    </tr>\n",
       "    <tr>\n",
       "      <th>2898</th>\n",
       "      <td>2063-05-29</td>\n",
       "      <td>55 Days at Peking</td>\n",
       "      <td>$17,000,000.00</td>\n",
       "      <td>$10,000,000.00</td>\n",
       "      <td>$10,000,000.00</td>\n",
       "    </tr>\n",
       "    <tr>\n",
       "      <th>1345</th>\n",
       "      <td>2063-06-12</td>\n",
       "      <td>Cleopatra</td>\n",
       "      <td>$42,000,000.00</td>\n",
       "      <td>$57,000,000.00</td>\n",
       "      <td>$71,000,000.00</td>\n",
       "    </tr>\n",
       "    <tr>\n",
       "      <th>4793</th>\n",
       "      <td>2063-06-12</td>\n",
       "      <td>Donovan's Reef</td>\n",
       "      <td>$2,686,000.00</td>\n",
       "      <td>$6,600,000.00</td>\n",
       "      <td>$6,600,000.00</td>\n",
       "    </tr>\n",
       "  </tbody>\n",
       "</table>\n",
       "<p>4198 rows × 5 columns</p>\n",
       "</div>"
      ],
      "text/plain": [
       "     Release Date                               Movie  Production Budget  \\\n",
       "3356   1970-01-01                              Patton     $12,000,000.00   \n",
       "2443   1970-01-01                        Darling Lili     $22,000,000.00   \n",
       "3507   1970-01-01                  The Molly Maguires     $11,000,000.00   \n",
       "4583   1970-01-01                             M*A*S*H      $3,500,000.00   \n",
       "5225   1970-01-01      Beyond the Valley of the Dolls      $1,000,000.00   \n",
       "4816   1971-01-01  Escape from the Planet of the Apes      $2,500,000.00   \n",
       "5658   1971-01-01  Sweet Sweetback's Baad Asssss Song        $150,000.00   \n",
       "3768   1971-01-01                 Fiddler on the Roof      $9,000,000.00   \n",
       "5358   1971-01-01                          Billy Jack        $800,000.00   \n",
       "4086   1971-01-01                The Andromeda Strain      $6,500,000.00   \n",
       "...           ...                                 ...                ...   \n",
       "391    2019-03-15                         Wonder Park    $100,000,000.00   \n",
       "2293   2019-03-15                       Captive State     $25,000,000.00   \n",
       "5164   2051-09-18       The Day the Earth Stood Still      $1,200,000.00   \n",
       "5018   2051-09-18            A Streetcar Named Desire      $1,800,000.00   \n",
       "4689   2061-12-19               Judgment at Nuremberg      $3,000,000.00   \n",
       "4774   2061-12-19               Pocketful of Miracles      $2,900,000.00   \n",
       "4817   2063-05-29                                 Hud      $2,500,000.00   \n",
       "2898   2063-05-29                   55 Days at Peking     $17,000,000.00   \n",
       "1345   2063-06-12                           Cleopatra     $42,000,000.00   \n",
       "4793   2063-06-12                      Donovan's Reef      $2,686,000.00   \n",
       "\n",
       "      Domestic Gross  Worldwide Gross  \n",
       "3356  $62,500,000.00   $62,500,000.00  \n",
       "2443   $5,000,000.00    $5,000,000.00  \n",
       "3507   $2,200,000.00    $2,200,000.00  \n",
       "4583  $81,600,000.00   $81,600,000.00  \n",
       "5225   $9,000,000.00    $9,000,000.00  \n",
       "4816  $12,300,000.00   $12,300,000.00  \n",
       "5658  $15,200,000.00   $15,200,000.00  \n",
       "3768  $80,500,000.00   $80,500,000.00  \n",
       "5358  $98,000,000.00   $98,000,000.00  \n",
       "4086  $12,376,563.00   $12,376,563.00  \n",
       "...              ...              ...  \n",
       "391   $39,549,886.00   $53,769,245.00  \n",
       "2293   $5,949,855.00    $6,483,371.00  \n",
       "5164   $3,700,000.00    $3,700,000.00  \n",
       "5018   $8,000,000.00    $8,000,000.00  \n",
       "4689  $10,000,000.00   $10,000,000.00  \n",
       "4774   $5,000,000.00    $5,000,000.00  \n",
       "4817  $10,000,000.00   $10,000,000.00  \n",
       "2898  $10,000,000.00   $10,000,000.00  \n",
       "1345  $57,000,000.00   $71,000,000.00  \n",
       "4793   $6,600,000.00    $6,600,000.00  \n",
       "\n",
       "[4198 rows x 5 columns]"
      ]
     },
     "execution_count": 219,
     "metadata": {},
     "output_type": "execute_result"
    }
   ],
   "source": [
    "# df[df['Release Date'].dt.year > 2019].duplicated()#unique().sum()\n",
    "# looks like quite a few release dates are duplicated, this is important to keep in mind when I deal with the mis\n",
    "# labeled release dates\n",
    "df[df.duplicated(subset='Release Date', keep=False) == True].sort_values('Release Date')"
   ]
  },
  {
   "cell_type": "code",
   "execution_count": 343,
   "metadata": {},
   "outputs": [
    {
     "name": "stderr",
     "output_type": "stream",
     "text": [
      "C:\\Users\\Lenovo\\Anaconda3\\lib\\site-packages\\ipykernel_launcher.py:5: SettingWithCopyWarning: \n",
      "A value is trying to be set on a copy of a slice from a DataFrame.\n",
      "Try using .loc[row_indexer,col_indexer] = value instead\n",
      "\n",
      "See the caveats in the documentation: http://pandas.pydata.org/pandas-docs/stable/indexing.html#indexing-view-versus-copy\n",
      "  \"\"\"\n"
     ]
    },
    {
     "data": {
      "text/plain": [
       "(     Release Date                         Movie  Production Budget  \\\n",
       " 1345   1963-06-12                     Cleopatra     $42,000,000.00   \n",
       " 2614   1965-02-15  The Greatest Story Ever Told     $20,000,000.00   \n",
       " 2742   1962-11-08          Mutiny on The Bounty     $19,000,000.00   \n",
       " 2749   1964-01-01  The Fall of the Roman Empire     $19,000,000.00   \n",
       " 2870   1964-10-22                  My Fair Lady     $17,000,000.00   \n",
       " \n",
       "       Domestic Gross  Worldwide Gross  \n",
       " 1345  $57,000,000.00   $71,000,000.00  \n",
       " 2614  $15,473,333.00   $15,473,333.00  \n",
       " 2742  $13,680,000.00   $13,680,000.00  \n",
       " 2749   $4,750,000.00    $4,750,000.00  \n",
       " 2870  $72,000,000.00   $72,071,636.00  , count                     133\n",
       " unique                    129\n",
       " top       1961-12-19 00:00:00\n",
       " freq                        2\n",
       " first     1920-09-17 00:00:00\n",
       " last      1968-12-11 00:00:00\n",
       " Name: Release Date, dtype: object, (133, 5))"
      ]
     },
     "execution_count": 343,
     "metadata": {},
     "output_type": "execute_result"
    }
   ],
   "source": [
    "# so I create a mask of movies that have release dates in the future\n",
    "year_mask = df[df['Release Date'].dt.year > 2019]\n",
    "\n",
    "# Then I apply a lambda function that subtracts 100 years from these dates\n",
    "year_mask['Release Date'] = year_mask['Release Date'].apply(lambda x : pd.datetime(x.year -100, x.month, x.day))\n",
    "\n",
    "# now they look about right\n",
    "year_mask.head(), year_mask['Release Date'].describe(), year_mask.shape"
   ]
  },
  {
   "cell_type": "code",
   "execution_count": 349,
   "metadata": {},
   "outputs": [],
   "source": [
    "# I will now replace these new values into my original datasest\n",
    "df.loc[df['Movie'].isin(year_mask['Movie']), 'Release Date'] = year_mask['Release Date']"
   ]
  },
  {
   "cell_type": "code",
   "execution_count": 352,
   "metadata": {},
   "outputs": [
    {
     "data": {
      "text/plain": [
       "(5193, 5)"
      ]
     },
     "execution_count": 352,
     "metadata": {},
     "output_type": "execute_result"
    }
   ],
   "source": [
    "# df['Release Date'].describe()\n",
    "# df.head()\n",
    "df.shape\n",
    "# ok it looks right"
   ]
  },
  {
   "cell_type": "code",
   "execution_count": 354,
   "metadata": {},
   "outputs": [
    {
     "data": {
      "text/plain": [
       "[<matplotlib.lines.Line2D at 0xb4d2080>]"
      ]
     },
     "execution_count": 354,
     "metadata": {},
     "output_type": "execute_result"
    },
    {
     "data": {
      "image/png": "[encoded data removed]",
      "text/plain": [
       "<Figure size 432x288 with 1 Axes>"
      ]
     },
     "metadata": {
      "needs_background": "light"
     },
     "output_type": "display_data"
    }
   ],
   "source": [
    "dates = matplotlib.dates.date2num(df['Release Date'])\n",
    "budgets = df['Production Budget']\n",
    "gross = df['Worldwide Gross']\n",
    "plt.plot_date(dates, budgets, c = 'red')"
   ]
  },
  {
   "cell_type": "code",
   "execution_count": null,
   "metadata": {},
   "outputs": [],
   "source": [
    "# this is "
   ]
  }
 ],
 "metadata": {
  "colab": {
   "collapsed_sections": [],
   "name": "2019_4_5_Scraping_Movies.ipynb",
   "provenance": [
    {
     "file_id": "1YzBztTOFT86mrcKcDpzUK7mzY0GDSPeZ",
     "timestamp": 1554476216410
    }
   ],
   "version": "0.3.2"
  },
  "kernelspec": {
   "display_name": "Python 3",
   "language": "python",
   "name": "python3"
  },
  "language_info": {
   "codemirror_mode": {
    "name": "ipython",
    "version": 3
   },
   "file_extension": ".py",
   "mimetype": "text/x-python",
   "name": "python",
   "nbconvert_exporter": "python",
   "pygments_lexer": "ipython3",
   "version": "3.7.0"
  }
 },
 "nbformat": 4,
 "nbformat_minor": 1
}
