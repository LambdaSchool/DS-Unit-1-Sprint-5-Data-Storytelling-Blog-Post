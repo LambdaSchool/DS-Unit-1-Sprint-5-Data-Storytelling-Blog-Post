{
  "nbformat": 4,
  "nbformat_minor": 0,
  "metadata": {
    "colab": {
      "name": "NBA-salary-analysis.ipynb",
      "version": "0.3.2",
      "provenance": [],
      "include_colab_link": true
    },
    "kernelspec": {
      "name": "python3",
      "display_name": "Python 3"
    }
  },
  "cells": [
    {
      "cell_type": "markdown",
      "metadata": {
        "id": "view-in-github",
        "colab_type": "text"
      },
      "source": [
        "<a href=\"https://colab.research.google.com/github/martinclehman/DS-Unit-1-Sprint-5-Data-Storytelling-Blog-Post/blob/master/NBA_salary_analysis.ipynb\" target=\"_parent\"><img src=\"https://colab.research.google.com/assets/colab-badge.svg\" alt=\"Open In Colab\"/></a>"
      ]
    },
    {
      "cell_type": "code",
      "metadata": {
        "id": "4Ugcl2koWMIP",
        "colab_type": "code",
        "colab": {}
      },
      "source": [
        "import pandas as pd"
      ],
      "execution_count": 0,
      "outputs": []
    },
    {
      "cell_type": "code",
      "metadata": {
        "id": "mJ3UrAlXWOLx",
        "colab_type": "code",
        "colab": {}
      },
      "source": [
        "df = pd.read_csv(\"NBA_season1718_salary.csv\")"
      ],
      "execution_count": 0,
      "outputs": []
    },
    {
      "cell_type": "code",
      "metadata": {
        "id": "mefcYTc5Wlwz",
        "colab_type": "code",
        "outputId": "698e7a9c-c0fd-4ad7-9cd5-6289e4e3e2d0",
        "colab": {
          "base_uri": "https://localhost:8080/",
          "height": 204
        }
      },
      "source": [
        "df.head()"
      ],
      "execution_count": 8,
      "outputs": [
        {
          "output_type": "execute_result",
          "data": {
            "text/html": [
              "<div>\n",
              "<style scoped>\n",
              "    .dataframe tbody tr th:only-of-type {\n",
              "        vertical-align: middle;\n",
              "    }\n",
              "\n",
              "    .dataframe tbody tr th {\n",
              "        vertical-align: top;\n",
              "    }\n",
              "\n",
              "    .dataframe thead th {\n",
              "        text-align: right;\n",
              "    }\n",
              "</style>\n",
              "<table border=\"1\" class=\"dataframe\">\n",
              "  <thead>\n",
              "    <tr style=\"text-align: right;\">\n",
              "      <th></th>\n",
              "      <th>Unnamed: 0</th>\n",
              "      <th>Player</th>\n",
              "      <th>Tm</th>\n",
              "      <th>season17_18</th>\n",
              "    </tr>\n",
              "  </thead>\n",
              "  <tbody>\n",
              "    <tr>\n",
              "      <th>0</th>\n",
              "      <td>1</td>\n",
              "      <td>Stephen Curry</td>\n",
              "      <td>GSW</td>\n",
              "      <td>34682550.0</td>\n",
              "    </tr>\n",
              "    <tr>\n",
              "      <th>1</th>\n",
              "      <td>2</td>\n",
              "      <td>LeBron James</td>\n",
              "      <td>CLE</td>\n",
              "      <td>33285709.0</td>\n",
              "    </tr>\n",
              "    <tr>\n",
              "      <th>2</th>\n",
              "      <td>3</td>\n",
              "      <td>Paul Millsap</td>\n",
              "      <td>DEN</td>\n",
              "      <td>31269231.0</td>\n",
              "    </tr>\n",
              "    <tr>\n",
              "      <th>3</th>\n",
              "      <td>4</td>\n",
              "      <td>Gordon Hayward</td>\n",
              "      <td>BOS</td>\n",
              "      <td>29727900.0</td>\n",
              "    </tr>\n",
              "    <tr>\n",
              "      <th>4</th>\n",
              "      <td>5</td>\n",
              "      <td>Blake Griffin</td>\n",
              "      <td>DET</td>\n",
              "      <td>29512900.0</td>\n",
              "    </tr>\n",
              "  </tbody>\n",
              "</table>\n",
              "</div>"
            ],
            "text/plain": [
              "   Unnamed: 0          Player   Tm  season17_18\n",
              "0           1   Stephen Curry  GSW   34682550.0\n",
              "1           2    LeBron James  CLE   33285709.0\n",
              "2           3    Paul Millsap  DEN   31269231.0\n",
              "3           4  Gordon Hayward  BOS   29727900.0\n",
              "4           5   Blake Griffin  DET   29512900.0"
            ]
          },
          "metadata": {
            "tags": []
          },
          "execution_count": 8
        }
      ]
    },
    {
      "cell_type": "code",
      "metadata": {
        "id": "cfb27bhTWPWK",
        "colab_type": "code",
        "colab": {}
      },
      "source": [
        "df2 = pd.read_csv(\"stats_adv.txt\")"
      ],
      "execution_count": 0,
      "outputs": []
    },
    {
      "cell_type": "code",
      "metadata": {
        "id": "Gu6sWq4LWmeK",
        "colab_type": "code",
        "outputId": "72a908f7-5b3e-4a6b-85fa-958094ea9510",
        "colab": {
          "base_uri": "https://localhost:8080/",
          "height": 309
        }
      },
      "source": [
        "df2.head(5)"
      ],
      "execution_count": 10,
      "outputs": [
        {
          "output_type": "execute_result",
          "data": {
            "text/html": [
              "<div>\n",
              "<style scoped>\n",
              "    .dataframe tbody tr th:only-of-type {\n",
              "        vertical-align: middle;\n",
              "    }\n",
              "\n",
              "    .dataframe tbody tr th {\n",
              "        vertical-align: top;\n",
              "    }\n",
              "\n",
              "    .dataframe thead th {\n",
              "        text-align: right;\n",
              "    }\n",
              "</style>\n",
              "<table border=\"1\" class=\"dataframe\">\n",
              "  <thead>\n",
              "    <tr style=\"text-align: right;\">\n",
              "      <th></th>\n",
              "      <th>Rk</th>\n",
              "      <th>Player</th>\n",
              "      <th>Pos</th>\n",
              "      <th>Age</th>\n",
              "      <th>Tm</th>\n",
              "      <th>G</th>\n",
              "      <th>MP</th>\n",
              "      <th>PER</th>\n",
              "      <th>TS%</th>\n",
              "      <th>3PAr</th>\n",
              "      <th>FTr</th>\n",
              "      <th>ORB%</th>\n",
              "      <th>DRB%</th>\n",
              "      <th>TRB%</th>\n",
              "      <th>AST%</th>\n",
              "      <th>STL%</th>\n",
              "      <th>BLK%</th>\n",
              "      <th>TOV%</th>\n",
              "      <th>USG%</th>\n",
              "      <th>Unnamed: 19</th>\n",
              "      <th>OWS</th>\n",
              "      <th>DWS</th>\n",
              "      <th>WS</th>\n",
              "      <th>WS/48</th>\n",
              "      <th>Unnamed: 24</th>\n",
              "      <th>OBPM</th>\n",
              "      <th>DBPM</th>\n",
              "      <th>BPM</th>\n",
              "      <th>VORP</th>\n",
              "    </tr>\n",
              "  </thead>\n",
              "  <tbody>\n",
              "    <tr>\n",
              "      <th>0</th>\n",
              "      <td>1</td>\n",
              "      <td>Álex Abrines\\abrinal01</td>\n",
              "      <td>SG</td>\n",
              "      <td>25</td>\n",
              "      <td>OKC</td>\n",
              "      <td>31</td>\n",
              "      <td>588</td>\n",
              "      <td>6.3</td>\n",
              "      <td>0.507</td>\n",
              "      <td>0.809</td>\n",
              "      <td>0.083</td>\n",
              "      <td>0.9</td>\n",
              "      <td>7.8</td>\n",
              "      <td>4.2</td>\n",
              "      <td>4.3</td>\n",
              "      <td>1.3</td>\n",
              "      <td>0.9</td>\n",
              "      <td>7.9</td>\n",
              "      <td>12.2</td>\n",
              "      <td>NaN</td>\n",
              "      <td>0.1</td>\n",
              "      <td>0.6</td>\n",
              "      <td>0.6</td>\n",
              "      <td>0.053</td>\n",
              "      <td>NaN</td>\n",
              "      <td>-2.4</td>\n",
              "      <td>-0.9</td>\n",
              "      <td>-3.4</td>\n",
              "      <td>-0.2</td>\n",
              "    </tr>\n",
              "    <tr>\n",
              "      <th>1</th>\n",
              "      <td>2</td>\n",
              "      <td>Quincy Acy\\acyqu01</td>\n",
              "      <td>PF</td>\n",
              "      <td>28</td>\n",
              "      <td>PHO</td>\n",
              "      <td>10</td>\n",
              "      <td>123</td>\n",
              "      <td>2.9</td>\n",
              "      <td>0.379</td>\n",
              "      <td>0.833</td>\n",
              "      <td>0.556</td>\n",
              "      <td>2.7</td>\n",
              "      <td>20.1</td>\n",
              "      <td>11.3</td>\n",
              "      <td>8.2</td>\n",
              "      <td>0.4</td>\n",
              "      <td>2.7</td>\n",
              "      <td>15.2</td>\n",
              "      <td>9.2</td>\n",
              "      <td>NaN</td>\n",
              "      <td>-0.1</td>\n",
              "      <td>0.0</td>\n",
              "      <td>-0.1</td>\n",
              "      <td>-0.022</td>\n",
              "      <td>NaN</td>\n",
              "      <td>-5.7</td>\n",
              "      <td>-0.3</td>\n",
              "      <td>-5.9</td>\n",
              "      <td>-0.1</td>\n",
              "    </tr>\n",
              "    <tr>\n",
              "      <th>2</th>\n",
              "      <td>3</td>\n",
              "      <td>Jaylen Adams\\adamsja01</td>\n",
              "      <td>PG</td>\n",
              "      <td>22</td>\n",
              "      <td>ATL</td>\n",
              "      <td>34</td>\n",
              "      <td>428</td>\n",
              "      <td>7.6</td>\n",
              "      <td>0.474</td>\n",
              "      <td>0.673</td>\n",
              "      <td>0.082</td>\n",
              "      <td>2.6</td>\n",
              "      <td>12.3</td>\n",
              "      <td>7.4</td>\n",
              "      <td>19.8</td>\n",
              "      <td>1.5</td>\n",
              "      <td>1.0</td>\n",
              "      <td>19.7</td>\n",
              "      <td>13.5</td>\n",
              "      <td>NaN</td>\n",
              "      <td>-0.1</td>\n",
              "      <td>0.2</td>\n",
              "      <td>0.1</td>\n",
              "      <td>0.011</td>\n",
              "      <td>NaN</td>\n",
              "      <td>-3.1</td>\n",
              "      <td>-1.3</td>\n",
              "      <td>-4.4</td>\n",
              "      <td>-0.3</td>\n",
              "    </tr>\n",
              "    <tr>\n",
              "      <th>3</th>\n",
              "      <td>4</td>\n",
              "      <td>Steven Adams\\adamsst01</td>\n",
              "      <td>C</td>\n",
              "      <td>25</td>\n",
              "      <td>OKC</td>\n",
              "      <td>80</td>\n",
              "      <td>2669</td>\n",
              "      <td>18.5</td>\n",
              "      <td>0.591</td>\n",
              "      <td>0.002</td>\n",
              "      <td>0.361</td>\n",
              "      <td>14.7</td>\n",
              "      <td>14.8</td>\n",
              "      <td>14.7</td>\n",
              "      <td>6.6</td>\n",
              "      <td>2.0</td>\n",
              "      <td>2.4</td>\n",
              "      <td>12.6</td>\n",
              "      <td>16.4</td>\n",
              "      <td>NaN</td>\n",
              "      <td>5.1</td>\n",
              "      <td>4.0</td>\n",
              "      <td>9.1</td>\n",
              "      <td>0.163</td>\n",
              "      <td>NaN</td>\n",
              "      <td>0.6</td>\n",
              "      <td>2.1</td>\n",
              "      <td>2.7</td>\n",
              "      <td>3.2</td>\n",
              "    </tr>\n",
              "    <tr>\n",
              "      <th>4</th>\n",
              "      <td>5</td>\n",
              "      <td>Bam Adebayo\\adebaba01</td>\n",
              "      <td>C</td>\n",
              "      <td>21</td>\n",
              "      <td>MIA</td>\n",
              "      <td>82</td>\n",
              "      <td>1913</td>\n",
              "      <td>17.9</td>\n",
              "      <td>0.623</td>\n",
              "      <td>0.031</td>\n",
              "      <td>0.465</td>\n",
              "      <td>9.2</td>\n",
              "      <td>24.0</td>\n",
              "      <td>16.6</td>\n",
              "      <td>14.2</td>\n",
              "      <td>1.8</td>\n",
              "      <td>3.0</td>\n",
              "      <td>17.1</td>\n",
              "      <td>15.8</td>\n",
              "      <td>NaN</td>\n",
              "      <td>3.4</td>\n",
              "      <td>3.4</td>\n",
              "      <td>6.8</td>\n",
              "      <td>0.171</td>\n",
              "      <td>NaN</td>\n",
              "      <td>-0.6</td>\n",
              "      <td>3.6</td>\n",
              "      <td>3.0</td>\n",
              "      <td>2.4</td>\n",
              "    </tr>\n",
              "  </tbody>\n",
              "</table>\n",
              "</div>"
            ],
            "text/plain": [
              "   Rk                  Player Pos  Age   Tm  ...  Unnamed: 24  OBPM  DBPM  BPM  VORP\n",
              "0   1  Álex Abrines\\abrinal01  SG   25  OKC  ...          NaN  -2.4  -0.9 -3.4  -0.2\n",
              "1   2      Quincy Acy\\acyqu01  PF   28  PHO  ...          NaN  -5.7  -0.3 -5.9  -0.1\n",
              "2   3  Jaylen Adams\\adamsja01  PG   22  ATL  ...          NaN  -3.1  -1.3 -4.4  -0.3\n",
              "3   4  Steven Adams\\adamsst01   C   25  OKC  ...          NaN   0.6   2.1  2.7   3.2\n",
              "4   5   Bam Adebayo\\adebaba01   C   21  MIA  ...          NaN  -0.6   3.6  3.0   2.4\n",
              "\n",
              "[5 rows x 29 columns]"
            ]
          },
          "metadata": {
            "tags": []
          },
          "execution_count": 10
        }
      ]
    },
    {
      "cell_type": "code",
      "metadata": {
        "id": "NctUMvFrurW1",
        "colab_type": "code",
        "outputId": "ad2843ee-711a-4dbf-b7c8-4f035ead9e4b",
        "colab": {
          "base_uri": "https://localhost:8080/",
          "height": 34
        }
      },
      "source": [
        "df2.shape"
      ],
      "execution_count": 11,
      "outputs": [
        {
          "output_type": "execute_result",
          "data": {
            "text/plain": [
              "(708, 29)"
            ]
          },
          "metadata": {
            "tags": []
          },
          "execution_count": 11
        }
      ]
    },
    {
      "cell_type": "code",
      "metadata": {
        "id": "bsOWBN3qWnja",
        "colab_type": "code",
        "outputId": "86047abb-95a8-4f79-f3d8-b78a6aa77b65",
        "colab": {
          "base_uri": "https://localhost:8080/",
          "height": 119
        }
      },
      "source": [
        "#Clean up 'Player' Feature to keep name\n",
        "df2['Player'] = df2['Player'].apply(lambda x: x.split('\\\\',1)[0])\n",
        "df2['Player'].head(5)"
      ],
      "execution_count": 12,
      "outputs": [
        {
          "output_type": "execute_result",
          "data": {
            "text/plain": [
              "0    Álex Abrines\n",
              "1      Quincy Acy\n",
              "2    Jaylen Adams\n",
              "3    Steven Adams\n",
              "4     Bam Adebayo\n",
              "Name: Player, dtype: object"
            ]
          },
          "metadata": {
            "tags": []
          },
          "execution_count": 12
        }
      ]
    },
    {
      "cell_type": "code",
      "metadata": {
        "id": "r8apS1x9XRkK",
        "colab_type": "code",
        "outputId": "006ed2c4-2494-433a-9891-83d61dd07ced",
        "colab": {
          "base_uri": "https://localhost:8080/",
          "height": 230
        }
      },
      "source": [
        "# Need to drop duplicate data when player is traded mid-season to play for multiple teams\n",
        "df2[15:18]"
      ],
      "execution_count": 13,
      "outputs": [
        {
          "output_type": "execute_result",
          "data": {
            "text/html": [
              "<div>\n",
              "<style scoped>\n",
              "    .dataframe tbody tr th:only-of-type {\n",
              "        vertical-align: middle;\n",
              "    }\n",
              "\n",
              "    .dataframe tbody tr th {\n",
              "        vertical-align: top;\n",
              "    }\n",
              "\n",
              "    .dataframe thead th {\n",
              "        text-align: right;\n",
              "    }\n",
              "</style>\n",
              "<table border=\"1\" class=\"dataframe\">\n",
              "  <thead>\n",
              "    <tr style=\"text-align: right;\">\n",
              "      <th></th>\n",
              "      <th>Rk</th>\n",
              "      <th>Player</th>\n",
              "      <th>Pos</th>\n",
              "      <th>Age</th>\n",
              "      <th>Tm</th>\n",
              "      <th>G</th>\n",
              "      <th>MP</th>\n",
              "      <th>PER</th>\n",
              "      <th>TS%</th>\n",
              "      <th>3PAr</th>\n",
              "      <th>FTr</th>\n",
              "      <th>ORB%</th>\n",
              "      <th>DRB%</th>\n",
              "      <th>TRB%</th>\n",
              "      <th>AST%</th>\n",
              "      <th>STL%</th>\n",
              "      <th>BLK%</th>\n",
              "      <th>TOV%</th>\n",
              "      <th>USG%</th>\n",
              "      <th>Unnamed: 19</th>\n",
              "      <th>OWS</th>\n",
              "      <th>DWS</th>\n",
              "      <th>WS</th>\n",
              "      <th>WS/48</th>\n",
              "      <th>Unnamed: 24</th>\n",
              "      <th>OBPM</th>\n",
              "      <th>DBPM</th>\n",
              "      <th>BPM</th>\n",
              "      <th>VORP</th>\n",
              "    </tr>\n",
              "  </thead>\n",
              "  <tbody>\n",
              "    <tr>\n",
              "      <th>15</th>\n",
              "      <td>16</td>\n",
              "      <td>Ryan Anderson</td>\n",
              "      <td>PF</td>\n",
              "      <td>30</td>\n",
              "      <td>TOT</td>\n",
              "      <td>25</td>\n",
              "      <td>322</td>\n",
              "      <td>4.6</td>\n",
              "      <td>0.414</td>\n",
              "      <td>0.580</td>\n",
              "      <td>0.232</td>\n",
              "      <td>6.1</td>\n",
              "      <td>12.5</td>\n",
              "      <td>9.2</td>\n",
              "      <td>7.8</td>\n",
              "      <td>0.6</td>\n",
              "      <td>0.3</td>\n",
              "      <td>15.5</td>\n",
              "      <td>12.0</td>\n",
              "      <td>NaN</td>\n",
              "      <td>-0.3</td>\n",
              "      <td>0.0</td>\n",
              "      <td>-0.2</td>\n",
              "      <td>-0.035</td>\n",
              "      <td>NaN</td>\n",
              "      <td>-4.5</td>\n",
              "      <td>-2.0</td>\n",
              "      <td>-6.4</td>\n",
              "      <td>-0.4</td>\n",
              "    </tr>\n",
              "    <tr>\n",
              "      <th>16</th>\n",
              "      <td>16</td>\n",
              "      <td>Ryan Anderson</td>\n",
              "      <td>PF</td>\n",
              "      <td>30</td>\n",
              "      <td>PHO</td>\n",
              "      <td>15</td>\n",
              "      <td>278</td>\n",
              "      <td>4.6</td>\n",
              "      <td>0.423</td>\n",
              "      <td>0.567</td>\n",
              "      <td>0.233</td>\n",
              "      <td>5.5</td>\n",
              "      <td>12.5</td>\n",
              "      <td>9.0</td>\n",
              "      <td>8.1</td>\n",
              "      <td>0.5</td>\n",
              "      <td>0.3</td>\n",
              "      <td>15.4</td>\n",
              "      <td>12.1</td>\n",
              "      <td>NaN</td>\n",
              "      <td>-0.2</td>\n",
              "      <td>0.0</td>\n",
              "      <td>-0.2</td>\n",
              "      <td>-0.039</td>\n",
              "      <td>NaN</td>\n",
              "      <td>-4.4</td>\n",
              "      <td>-2.1</td>\n",
              "      <td>-6.5</td>\n",
              "      <td>-0.3</td>\n",
              "    </tr>\n",
              "    <tr>\n",
              "      <th>17</th>\n",
              "      <td>16</td>\n",
              "      <td>Ryan Anderson</td>\n",
              "      <td>PF</td>\n",
              "      <td>30</td>\n",
              "      <td>MIA</td>\n",
              "      <td>10</td>\n",
              "      <td>44</td>\n",
              "      <td>4.5</td>\n",
              "      <td>0.354</td>\n",
              "      <td>0.667</td>\n",
              "      <td>0.222</td>\n",
              "      <td>9.7</td>\n",
              "      <td>12.1</td>\n",
              "      <td>10.9</td>\n",
              "      <td>5.8</td>\n",
              "      <td>1.1</td>\n",
              "      <td>0.0</td>\n",
              "      <td>16.8</td>\n",
              "      <td>11.6</td>\n",
              "      <td>NaN</td>\n",
              "      <td>0.0</td>\n",
              "      <td>0.0</td>\n",
              "      <td>0.0</td>\n",
              "      <td>-0.009</td>\n",
              "      <td>NaN</td>\n",
              "      <td>-4.9</td>\n",
              "      <td>-0.8</td>\n",
              "      <td>-5.8</td>\n",
              "      <td>0.0</td>\n",
              "    </tr>\n",
              "  </tbody>\n",
              "</table>\n",
              "</div>"
            ],
            "text/plain": [
              "    Rk         Player Pos  Age   Tm  ...  Unnamed: 24  OBPM  DBPM  BPM  VORP\n",
              "15  16  Ryan Anderson  PF   30  TOT  ...          NaN  -4.5  -2.0 -6.4  -0.4\n",
              "16  16  Ryan Anderson  PF   30  PHO  ...          NaN  -4.4  -2.1 -6.5  -0.3\n",
              "17  16  Ryan Anderson  PF   30  MIA  ...          NaN  -4.9  -0.8 -5.8   0.0\n",
              "\n",
              "[3 rows x 29 columns]"
            ]
          },
          "metadata": {
            "tags": []
          },
          "execution_count": 13
        }
      ]
    },
    {
      "cell_type": "code",
      "metadata": {
        "id": "Hj1x_6mYoaeL",
        "colab_type": "code",
        "colab": {}
      },
      "source": [
        "df2['Player'] = df2['Player'].drop_duplicates('first')"
      ],
      "execution_count": 0,
      "outputs": []
    },
    {
      "cell_type": "code",
      "metadata": {
        "id": "iDP9EU1FuS5q",
        "colab_type": "code",
        "outputId": "da650108-59e9-4add-b795-cc1cc27f03a7",
        "colab": {
          "base_uri": "https://localhost:8080/",
          "height": 527
        }
      },
      "source": [
        "df2.isna().sum()"
      ],
      "execution_count": 15,
      "outputs": [
        {
          "output_type": "execute_result",
          "data": {
            "text/plain": [
              "Rk               0\n",
              "Player         178\n",
              "Pos              0\n",
              "Age              0\n",
              "Tm               0\n",
              "G                0\n",
              "MP               0\n",
              "PER              0\n",
              "TS%              6\n",
              "3PAr             6\n",
              "FTr              6\n",
              "ORB%             0\n",
              "DRB%             0\n",
              "TRB%             0\n",
              "AST%             0\n",
              "STL%             0\n",
              "BLK%             0\n",
              "TOV%             6\n",
              "USG%             0\n",
              "Unnamed: 19    708\n",
              "OWS              0\n",
              "DWS              0\n",
              "WS               0\n",
              "WS/48            0\n",
              "Unnamed: 24    708\n",
              "OBPM             0\n",
              "DBPM             0\n",
              "BPM              0\n",
              "VORP             0\n",
              "dtype: int64"
            ]
          },
          "metadata": {
            "tags": []
          },
          "execution_count": 15
        }
      ]
    },
    {
      "cell_type": "code",
      "metadata": {
        "id": "dVxk0ybkuH1Y",
        "colab_type": "code",
        "colab": {}
      },
      "source": [
        "# Remove NaN columns\n",
        "df2 = df2.dropna(axis=1,how='all')"
      ],
      "execution_count": 0,
      "outputs": []
    },
    {
      "cell_type": "code",
      "metadata": {
        "id": "M0RIAKnJuiu6",
        "colab_type": "code",
        "colab": {}
      },
      "source": [
        "# Remove rows with NaN's\n",
        "df2 = df2.dropna()"
      ],
      "execution_count": 0,
      "outputs": []
    },
    {
      "cell_type": "code",
      "metadata": {
        "id": "-sRemdBsrzEr",
        "colab_type": "code",
        "outputId": "72431dfe-1287-4d57-b2fb-750687905948",
        "colab": {
          "base_uri": "https://localhost:8080/",
          "height": 142
        }
      },
      "source": [
        "df2[15:18]"
      ],
      "execution_count": 18,
      "outputs": [
        {
          "output_type": "execute_result",
          "data": {
            "text/html": [
              "<div>\n",
              "<style scoped>\n",
              "    .dataframe tbody tr th:only-of-type {\n",
              "        vertical-align: middle;\n",
              "    }\n",
              "\n",
              "    .dataframe tbody tr th {\n",
              "        vertical-align: top;\n",
              "    }\n",
              "\n",
              "    .dataframe thead th {\n",
              "        text-align: right;\n",
              "    }\n",
              "</style>\n",
              "<table border=\"1\" class=\"dataframe\">\n",
              "  <thead>\n",
              "    <tr style=\"text-align: right;\">\n",
              "      <th></th>\n",
              "      <th>Rk</th>\n",
              "      <th>Player</th>\n",
              "      <th>Pos</th>\n",
              "      <th>Age</th>\n",
              "      <th>Tm</th>\n",
              "      <th>G</th>\n",
              "      <th>MP</th>\n",
              "      <th>PER</th>\n",
              "      <th>TS%</th>\n",
              "      <th>3PAr</th>\n",
              "      <th>FTr</th>\n",
              "      <th>ORB%</th>\n",
              "      <th>DRB%</th>\n",
              "      <th>TRB%</th>\n",
              "      <th>AST%</th>\n",
              "      <th>STL%</th>\n",
              "      <th>BLK%</th>\n",
              "      <th>TOV%</th>\n",
              "      <th>USG%</th>\n",
              "      <th>OWS</th>\n",
              "      <th>DWS</th>\n",
              "      <th>WS</th>\n",
              "      <th>WS/48</th>\n",
              "      <th>OBPM</th>\n",
              "      <th>DBPM</th>\n",
              "      <th>BPM</th>\n",
              "      <th>VORP</th>\n",
              "    </tr>\n",
              "  </thead>\n",
              "  <tbody>\n",
              "    <tr>\n",
              "      <th>15</th>\n",
              "      <td>16</td>\n",
              "      <td>Ryan Anderson</td>\n",
              "      <td>PF</td>\n",
              "      <td>30</td>\n",
              "      <td>TOT</td>\n",
              "      <td>25</td>\n",
              "      <td>322</td>\n",
              "      <td>4.6</td>\n",
              "      <td>0.414</td>\n",
              "      <td>0.580</td>\n",
              "      <td>0.232</td>\n",
              "      <td>6.1</td>\n",
              "      <td>12.5</td>\n",
              "      <td>9.2</td>\n",
              "      <td>7.8</td>\n",
              "      <td>0.6</td>\n",
              "      <td>0.3</td>\n",
              "      <td>15.5</td>\n",
              "      <td>12.0</td>\n",
              "      <td>-0.3</td>\n",
              "      <td>0.0</td>\n",
              "      <td>-0.2</td>\n",
              "      <td>-0.035</td>\n",
              "      <td>-4.5</td>\n",
              "      <td>-2.0</td>\n",
              "      <td>-6.4</td>\n",
              "      <td>-0.4</td>\n",
              "    </tr>\n",
              "    <tr>\n",
              "      <th>18</th>\n",
              "      <td>17</td>\n",
              "      <td>Ike Anigbogu</td>\n",
              "      <td>C</td>\n",
              "      <td>20</td>\n",
              "      <td>IND</td>\n",
              "      <td>3</td>\n",
              "      <td>6</td>\n",
              "      <td>-6.0</td>\n",
              "      <td>0.000</td>\n",
              "      <td>0.000</td>\n",
              "      <td>0.000</td>\n",
              "      <td>18.9</td>\n",
              "      <td>36.2</td>\n",
              "      <td>27.7</td>\n",
              "      <td>19.4</td>\n",
              "      <td>0.0</td>\n",
              "      <td>14.8</td>\n",
              "      <td>25.0</td>\n",
              "      <td>29.1</td>\n",
              "      <td>-0.1</td>\n",
              "      <td>0.0</td>\n",
              "      <td>-0.1</td>\n",
              "      <td>-0.480</td>\n",
              "      <td>-22.5</td>\n",
              "      <td>8.5</td>\n",
              "      <td>-14.0</td>\n",
              "      <td>0.0</td>\n",
              "    </tr>\n",
              "    <tr>\n",
              "      <th>19</th>\n",
              "      <td>18</td>\n",
              "      <td>Giannis Antetokounmpo</td>\n",
              "      <td>PF</td>\n",
              "      <td>24</td>\n",
              "      <td>MIL</td>\n",
              "      <td>72</td>\n",
              "      <td>2358</td>\n",
              "      <td>30.9</td>\n",
              "      <td>0.644</td>\n",
              "      <td>0.163</td>\n",
              "      <td>0.550</td>\n",
              "      <td>7.3</td>\n",
              "      <td>30.0</td>\n",
              "      <td>19.3</td>\n",
              "      <td>30.3</td>\n",
              "      <td>1.8</td>\n",
              "      <td>3.9</td>\n",
              "      <td>14.8</td>\n",
              "      <td>32.3</td>\n",
              "      <td>8.9</td>\n",
              "      <td>5.5</td>\n",
              "      <td>14.4</td>\n",
              "      <td>0.292</td>\n",
              "      <td>5.7</td>\n",
              "      <td>5.0</td>\n",
              "      <td>10.8</td>\n",
              "      <td>7.6</td>\n",
              "    </tr>\n",
              "  </tbody>\n",
              "</table>\n",
              "</div>"
            ],
            "text/plain": [
              "    Rk                 Player Pos  Age   Tm  ...  WS/48  OBPM  DBPM   BPM  VORP\n",
              "15  16          Ryan Anderson  PF   30  TOT  ... -0.035  -4.5  -2.0  -6.4  -0.4\n",
              "18  17           Ike Anigbogu   C   20  IND  ... -0.480 -22.5   8.5 -14.0   0.0\n",
              "19  18  Giannis Antetokounmpo  PF   24  MIL  ...  0.292   5.7   5.0  10.8   7.6\n",
              "\n",
              "[3 rows x 27 columns]"
            ]
          },
          "metadata": {
            "tags": []
          },
          "execution_count": 18
        }
      ]
    },
    {
      "cell_type": "code",
      "metadata": {
        "id": "UvgQ0rM_r40f",
        "colab_type": "code",
        "outputId": "3c26db2d-ec7d-4f8c-9657-dae0f986122f",
        "colab": {
          "base_uri": "https://localhost:8080/",
          "height": 34
        }
      },
      "source": [
        "df2.shape"
      ],
      "execution_count": 19,
      "outputs": [
        {
          "output_type": "execute_result",
          "data": {
            "text/plain": [
              "(526, 27)"
            ]
          },
          "metadata": {
            "tags": []
          },
          "execution_count": 19
        }
      ]
    },
    {
      "cell_type": "code",
      "metadata": {
        "id": "DxXMGHdpuocw",
        "colab_type": "code",
        "outputId": "d380486d-acf8-4436-abb4-c2f8073cde03",
        "colab": {
          "base_uri": "https://localhost:8080/",
          "height": 204
        }
      },
      "source": [
        "df2.tail(5)"
      ],
      "execution_count": 20,
      "outputs": [
        {
          "output_type": "execute_result",
          "data": {
            "text/html": [
              "<div>\n",
              "<style scoped>\n",
              "    .dataframe tbody tr th:only-of-type {\n",
              "        vertical-align: middle;\n",
              "    }\n",
              "\n",
              "    .dataframe tbody tr th {\n",
              "        vertical-align: top;\n",
              "    }\n",
              "\n",
              "    .dataframe thead th {\n",
              "        text-align: right;\n",
              "    }\n",
              "</style>\n",
              "<table border=\"1\" class=\"dataframe\">\n",
              "  <thead>\n",
              "    <tr style=\"text-align: right;\">\n",
              "      <th></th>\n",
              "      <th>Rk</th>\n",
              "      <th>Player</th>\n",
              "      <th>Pos</th>\n",
              "      <th>Age</th>\n",
              "      <th>Tm</th>\n",
              "      <th>G</th>\n",
              "      <th>MP</th>\n",
              "      <th>PER</th>\n",
              "      <th>TS%</th>\n",
              "      <th>3PAr</th>\n",
              "      <th>FTr</th>\n",
              "      <th>ORB%</th>\n",
              "      <th>DRB%</th>\n",
              "      <th>TRB%</th>\n",
              "      <th>AST%</th>\n",
              "      <th>STL%</th>\n",
              "      <th>BLK%</th>\n",
              "      <th>TOV%</th>\n",
              "      <th>USG%</th>\n",
              "      <th>OWS</th>\n",
              "      <th>DWS</th>\n",
              "      <th>WS</th>\n",
              "      <th>WS/48</th>\n",
              "      <th>OBPM</th>\n",
              "      <th>DBPM</th>\n",
              "      <th>BPM</th>\n",
              "      <th>VORP</th>\n",
              "    </tr>\n",
              "  </thead>\n",
              "  <tbody>\n",
              "    <tr>\n",
              "      <th>699</th>\n",
              "      <td>526</td>\n",
              "      <td>Trae Young</td>\n",
              "      <td>PG</td>\n",
              "      <td>20</td>\n",
              "      <td>ATL</td>\n",
              "      <td>81</td>\n",
              "      <td>2503</td>\n",
              "      <td>17.0</td>\n",
              "      <td>0.539</td>\n",
              "      <td>0.384</td>\n",
              "      <td>0.330</td>\n",
              "      <td>2.6</td>\n",
              "      <td>10.2</td>\n",
              "      <td>6.3</td>\n",
              "      <td>40.5</td>\n",
              "      <td>1.3</td>\n",
              "      <td>0.5</td>\n",
              "      <td>17.6</td>\n",
              "      <td>28.4</td>\n",
              "      <td>2.5</td>\n",
              "      <td>0.7</td>\n",
              "      <td>3.3</td>\n",
              "      <td>0.062</td>\n",
              "      <td>1.8</td>\n",
              "      <td>-2.8</td>\n",
              "      <td>-1.1</td>\n",
              "      <td>0.6</td>\n",
              "    </tr>\n",
              "    <tr>\n",
              "      <th>700</th>\n",
              "      <td>527</td>\n",
              "      <td>Cody Zeller</td>\n",
              "      <td>C</td>\n",
              "      <td>26</td>\n",
              "      <td>CHO</td>\n",
              "      <td>49</td>\n",
              "      <td>1243</td>\n",
              "      <td>17.2</td>\n",
              "      <td>0.611</td>\n",
              "      <td>0.064</td>\n",
              "      <td>0.409</td>\n",
              "      <td>9.4</td>\n",
              "      <td>19.7</td>\n",
              "      <td>14.5</td>\n",
              "      <td>12.1</td>\n",
              "      <td>1.5</td>\n",
              "      <td>2.9</td>\n",
              "      <td>13.2</td>\n",
              "      <td>16.3</td>\n",
              "      <td>2.6</td>\n",
              "      <td>1.2</td>\n",
              "      <td>3.9</td>\n",
              "      <td>0.150</td>\n",
              "      <td>0.2</td>\n",
              "      <td>1.7</td>\n",
              "      <td>2.0</td>\n",
              "      <td>1.2</td>\n",
              "    </tr>\n",
              "    <tr>\n",
              "      <th>701</th>\n",
              "      <td>528</td>\n",
              "      <td>Tyler Zeller</td>\n",
              "      <td>C</td>\n",
              "      <td>29</td>\n",
              "      <td>TOT</td>\n",
              "      <td>6</td>\n",
              "      <td>93</td>\n",
              "      <td>17.3</td>\n",
              "      <td>0.607</td>\n",
              "      <td>0.033</td>\n",
              "      <td>0.600</td>\n",
              "      <td>12.9</td>\n",
              "      <td>15.7</td>\n",
              "      <td>14.2</td>\n",
              "      <td>6.7</td>\n",
              "      <td>0.5</td>\n",
              "      <td>3.1</td>\n",
              "      <td>9.5</td>\n",
              "      <td>20.1</td>\n",
              "      <td>0.2</td>\n",
              "      <td>0.1</td>\n",
              "      <td>0.3</td>\n",
              "      <td>0.167</td>\n",
              "      <td>-1.0</td>\n",
              "      <td>-1.2</td>\n",
              "      <td>-2.2</td>\n",
              "      <td>0.0</td>\n",
              "    </tr>\n",
              "    <tr>\n",
              "      <th>704</th>\n",
              "      <td>529</td>\n",
              "      <td>Ante Žižić</td>\n",
              "      <td>C</td>\n",
              "      <td>22</td>\n",
              "      <td>CLE</td>\n",
              "      <td>59</td>\n",
              "      <td>1082</td>\n",
              "      <td>16.2</td>\n",
              "      <td>0.590</td>\n",
              "      <td>0.000</td>\n",
              "      <td>0.399</td>\n",
              "      <td>10.6</td>\n",
              "      <td>22.8</td>\n",
              "      <td>16.4</td>\n",
              "      <td>7.7</td>\n",
              "      <td>0.6</td>\n",
              "      <td>1.8</td>\n",
              "      <td>13.6</td>\n",
              "      <td>18.2</td>\n",
              "      <td>1.7</td>\n",
              "      <td>0.3</td>\n",
              "      <td>2.0</td>\n",
              "      <td>0.087</td>\n",
              "      <td>-1.7</td>\n",
              "      <td>-1.4</td>\n",
              "      <td>-3.1</td>\n",
              "      <td>-0.3</td>\n",
              "    </tr>\n",
              "    <tr>\n",
              "      <th>705</th>\n",
              "      <td>530</td>\n",
              "      <td>Ivica Zubac</td>\n",
              "      <td>C</td>\n",
              "      <td>21</td>\n",
              "      <td>TOT</td>\n",
              "      <td>59</td>\n",
              "      <td>1040</td>\n",
              "      <td>18.9</td>\n",
              "      <td>0.604</td>\n",
              "      <td>0.000</td>\n",
              "      <td>0.332</td>\n",
              "      <td>11.9</td>\n",
              "      <td>24.2</td>\n",
              "      <td>18.2</td>\n",
              "      <td>9.1</td>\n",
              "      <td>0.6</td>\n",
              "      <td>4.0</td>\n",
              "      <td>13.9</td>\n",
              "      <td>20.3</td>\n",
              "      <td>1.9</td>\n",
              "      <td>1.3</td>\n",
              "      <td>3.2</td>\n",
              "      <td>0.148</td>\n",
              "      <td>-1.2</td>\n",
              "      <td>1.0</td>\n",
              "      <td>-0.3</td>\n",
              "      <td>0.5</td>\n",
              "    </tr>\n",
              "  </tbody>\n",
              "</table>\n",
              "</div>"
            ],
            "text/plain": [
              "      Rk        Player Pos  Age   Tm   G  ...   WS  WS/48  OBPM  DBPM  BPM  VORP\n",
              "699  526    Trae Young  PG   20  ATL  81  ...  3.3  0.062   1.8  -2.8 -1.1   0.6\n",
              "700  527   Cody Zeller   C   26  CHO  49  ...  3.9  0.150   0.2   1.7  2.0   1.2\n",
              "701  528  Tyler Zeller   C   29  TOT   6  ...  0.3  0.167  -1.0  -1.2 -2.2   0.0\n",
              "704  529    Ante Žižić   C   22  CLE  59  ...  2.0  0.087  -1.7  -1.4 -3.1  -0.3\n",
              "705  530   Ivica Zubac   C   21  TOT  59  ...  3.2  0.148  -1.2   1.0 -0.3   0.5\n",
              "\n",
              "[5 rows x 27 columns]"
            ]
          },
          "metadata": {
            "tags": []
          },
          "execution_count": 20
        }
      ]
    },
    {
      "cell_type": "code",
      "metadata": {
        "id": "qdRXG6cYu0_J",
        "colab_type": "code",
        "outputId": "661001ea-9ece-43d6-adb1-09a9166350b8",
        "colab": {
          "base_uri": "https://localhost:8080/",
          "height": 34
        }
      },
      "source": [
        "df2.shape"
      ],
      "execution_count": 21,
      "outputs": [
        {
          "output_type": "execute_result",
          "data": {
            "text/plain": [
              "(526, 27)"
            ]
          },
          "metadata": {
            "tags": []
          },
          "execution_count": 21
        }
      ]
    },
    {
      "cell_type": "code",
      "metadata": {
        "id": "7fC3NuS4u4fC",
        "colab_type": "code",
        "colab": {}
      },
      "source": [
        ""
      ],
      "execution_count": 0,
      "outputs": []
    },
    {
      "cell_type": "code",
      "metadata": {
        "id": "ZP8Xa-lVvEa3",
        "colab_type": "code",
        "colab": {}
      },
      "source": [
        ""
      ],
      "execution_count": 0,
      "outputs": []
    },
    {
      "cell_type": "code",
      "metadata": {
        "id": "16liir9PvEdf",
        "colab_type": "code",
        "colab": {}
      },
      "source": [
        "merged = pd.merge(df,df2,how='inner', on='Player')"
      ],
      "execution_count": 0,
      "outputs": []
    },
    {
      "cell_type": "code",
      "metadata": {
        "id": "IyYOmHUVvaZt",
        "colab_type": "code",
        "outputId": "d9775786-769e-469d-dcb7-e702d6f19da6",
        "colab": {
          "base_uri": "https://localhost:8080/",
          "height": 326
        }
      },
      "source": [
        "merged.head()"
      ],
      "execution_count": 23,
      "outputs": [
        {
          "output_type": "execute_result",
          "data": {
            "text/html": [
              "<div>\n",
              "<style scoped>\n",
              "    .dataframe tbody tr th:only-of-type {\n",
              "        vertical-align: middle;\n",
              "    }\n",
              "\n",
              "    .dataframe tbody tr th {\n",
              "        vertical-align: top;\n",
              "    }\n",
              "\n",
              "    .dataframe thead th {\n",
              "        text-align: right;\n",
              "    }\n",
              "</style>\n",
              "<table border=\"1\" class=\"dataframe\">\n",
              "  <thead>\n",
              "    <tr style=\"text-align: right;\">\n",
              "      <th></th>\n",
              "      <th>Unnamed: 0</th>\n",
              "      <th>Player</th>\n",
              "      <th>Tm_x</th>\n",
              "      <th>season17_18</th>\n",
              "      <th>Rk</th>\n",
              "      <th>Pos</th>\n",
              "      <th>Age</th>\n",
              "      <th>Tm_y</th>\n",
              "      <th>G</th>\n",
              "      <th>MP</th>\n",
              "      <th>PER</th>\n",
              "      <th>TS%</th>\n",
              "      <th>3PAr</th>\n",
              "      <th>FTr</th>\n",
              "      <th>ORB%</th>\n",
              "      <th>DRB%</th>\n",
              "      <th>TRB%</th>\n",
              "      <th>AST%</th>\n",
              "      <th>STL%</th>\n",
              "      <th>BLK%</th>\n",
              "      <th>TOV%</th>\n",
              "      <th>USG%</th>\n",
              "      <th>OWS</th>\n",
              "      <th>DWS</th>\n",
              "      <th>WS</th>\n",
              "      <th>WS/48</th>\n",
              "      <th>OBPM</th>\n",
              "      <th>DBPM</th>\n",
              "      <th>BPM</th>\n",
              "      <th>VORP</th>\n",
              "    </tr>\n",
              "  </thead>\n",
              "  <tbody>\n",
              "    <tr>\n",
              "      <th>0</th>\n",
              "      <td>1</td>\n",
              "      <td>Stephen Curry</td>\n",
              "      <td>GSW</td>\n",
              "      <td>34682550.0</td>\n",
              "      <td>124</td>\n",
              "      <td>PG</td>\n",
              "      <td>30</td>\n",
              "      <td>GSW</td>\n",
              "      <td>69</td>\n",
              "      <td>2331</td>\n",
              "      <td>24.4</td>\n",
              "      <td>0.641</td>\n",
              "      <td>0.604</td>\n",
              "      <td>0.214</td>\n",
              "      <td>2.2</td>\n",
              "      <td>14.2</td>\n",
              "      <td>8.4</td>\n",
              "      <td>24.2</td>\n",
              "      <td>1.9</td>\n",
              "      <td>0.9</td>\n",
              "      <td>11.6</td>\n",
              "      <td>30.4</td>\n",
              "      <td>7.2</td>\n",
              "      <td>2.5</td>\n",
              "      <td>9.7</td>\n",
              "      <td>0.199</td>\n",
              "      <td>7.7</td>\n",
              "      <td>-1.4</td>\n",
              "      <td>6.3</td>\n",
              "      <td>4.9</td>\n",
              "    </tr>\n",
              "    <tr>\n",
              "      <th>1</th>\n",
              "      <td>2</td>\n",
              "      <td>LeBron James</td>\n",
              "      <td>CLE</td>\n",
              "      <td>33285709.0</td>\n",
              "      <td>258</td>\n",
              "      <td>SF</td>\n",
              "      <td>34</td>\n",
              "      <td>LAL</td>\n",
              "      <td>55</td>\n",
              "      <td>1937</td>\n",
              "      <td>25.6</td>\n",
              "      <td>0.588</td>\n",
              "      <td>0.299</td>\n",
              "      <td>0.382</td>\n",
              "      <td>3.1</td>\n",
              "      <td>21.3</td>\n",
              "      <td>12.4</td>\n",
              "      <td>39.4</td>\n",
              "      <td>1.7</td>\n",
              "      <td>1.4</td>\n",
              "      <td>13.3</td>\n",
              "      <td>31.6</td>\n",
              "      <td>4.7</td>\n",
              "      <td>2.6</td>\n",
              "      <td>7.2</td>\n",
              "      <td>0.179</td>\n",
              "      <td>6.2</td>\n",
              "      <td>1.9</td>\n",
              "      <td>8.1</td>\n",
              "      <td>4.9</td>\n",
              "    </tr>\n",
              "    <tr>\n",
              "      <th>2</th>\n",
              "      <td>3</td>\n",
              "      <td>Paul Millsap</td>\n",
              "      <td>DEN</td>\n",
              "      <td>31269231.0</td>\n",
              "      <td>351</td>\n",
              "      <td>PF</td>\n",
              "      <td>33</td>\n",
              "      <td>DEN</td>\n",
              "      <td>70</td>\n",
              "      <td>1895</td>\n",
              "      <td>17.9</td>\n",
              "      <td>0.570</td>\n",
              "      <td>0.239</td>\n",
              "      <td>0.374</td>\n",
              "      <td>8.7</td>\n",
              "      <td>20.2</td>\n",
              "      <td>14.4</td>\n",
              "      <td>10.6</td>\n",
              "      <td>2.2</td>\n",
              "      <td>2.5</td>\n",
              "      <td>10.9</td>\n",
              "      <td>19.6</td>\n",
              "      <td>3.2</td>\n",
              "      <td>2.9</td>\n",
              "      <td>6.1</td>\n",
              "      <td>0.155</td>\n",
              "      <td>0.5</td>\n",
              "      <td>1.9</td>\n",
              "      <td>2.4</td>\n",
              "      <td>2.1</td>\n",
              "    </tr>\n",
              "    <tr>\n",
              "      <th>3</th>\n",
              "      <td>4</td>\n",
              "      <td>Gordon Hayward</td>\n",
              "      <td>BOS</td>\n",
              "      <td>29727900.0</td>\n",
              "      <td>218</td>\n",
              "      <td>PF</td>\n",
              "      <td>28</td>\n",
              "      <td>BOS</td>\n",
              "      <td>72</td>\n",
              "      <td>1863</td>\n",
              "      <td>15.6</td>\n",
              "      <td>0.575</td>\n",
              "      <td>0.364</td>\n",
              "      <td>0.294</td>\n",
              "      <td>2.9</td>\n",
              "      <td>15.5</td>\n",
              "      <td>9.2</td>\n",
              "      <td>18.4</td>\n",
              "      <td>1.6</td>\n",
              "      <td>1.1</td>\n",
              "      <td>12.8</td>\n",
              "      <td>19.0</td>\n",
              "      <td>2.6</td>\n",
              "      <td>2.3</td>\n",
              "      <td>4.9</td>\n",
              "      <td>0.126</td>\n",
              "      <td>0.1</td>\n",
              "      <td>0.4</td>\n",
              "      <td>0.5</td>\n",
              "      <td>1.2</td>\n",
              "    </tr>\n",
              "    <tr>\n",
              "      <th>4</th>\n",
              "      <td>5</td>\n",
              "      <td>Blake Griffin</td>\n",
              "      <td>DET</td>\n",
              "      <td>29512900.0</td>\n",
              "      <td>202</td>\n",
              "      <td>PF</td>\n",
              "      <td>29</td>\n",
              "      <td>DET</td>\n",
              "      <td>75</td>\n",
              "      <td>2622</td>\n",
              "      <td>21.0</td>\n",
              "      <td>0.581</td>\n",
              "      <td>0.389</td>\n",
              "      <td>0.410</td>\n",
              "      <td>4.0</td>\n",
              "      <td>20.1</td>\n",
              "      <td>11.8</td>\n",
              "      <td>27.1</td>\n",
              "      <td>1.0</td>\n",
              "      <td>0.9</td>\n",
              "      <td>13.8</td>\n",
              "      <td>30.2</td>\n",
              "      <td>5.1</td>\n",
              "      <td>2.9</td>\n",
              "      <td>8.0</td>\n",
              "      <td>0.147</td>\n",
              "      <td>4.2</td>\n",
              "      <td>0.4</td>\n",
              "      <td>4.6</td>\n",
              "      <td>4.4</td>\n",
              "    </tr>\n",
              "  </tbody>\n",
              "</table>\n",
              "</div>"
            ],
            "text/plain": [
              "   Unnamed: 0          Player Tm_x  season17_18  ...  OBPM DBPM  BPM VORP\n",
              "0           1   Stephen Curry  GSW   34682550.0  ...   7.7 -1.4  6.3  4.9\n",
              "1           2    LeBron James  CLE   33285709.0  ...   6.2  1.9  8.1  4.9\n",
              "2           3    Paul Millsap  DEN   31269231.0  ...   0.5  1.9  2.4  2.1\n",
              "3           4  Gordon Hayward  BOS   29727900.0  ...   0.1  0.4  0.5  1.2\n",
              "4           5   Blake Griffin  DET   29512900.0  ...   4.2  0.4  4.6  4.4\n",
              "\n",
              "[5 rows x 30 columns]"
            ]
          },
          "metadata": {
            "tags": []
          },
          "execution_count": 23
        }
      ]
    },
    {
      "cell_type": "code",
      "metadata": {
        "id": "hB7x-TgavddZ",
        "colab_type": "code",
        "colab": {}
      },
      "source": [
        ""
      ],
      "execution_count": 0,
      "outputs": []
    },
    {
      "cell_type": "code",
      "metadata": {
        "id": "1l-teocdwJua",
        "colab_type": "code",
        "colab": {}
      },
      "source": [
        "merged['season17_18'] = merged['season17_18']/1000000"
      ],
      "execution_count": 0,
      "outputs": []
    },
    {
      "cell_type": "code",
      "metadata": {
        "id": "LUsSaXLAxYou",
        "colab_type": "code",
        "outputId": "b0da403c-b810-4127-c4b7-e7600515e5c2",
        "colab": {
          "base_uri": "https://localhost:8080/",
          "height": 326
        }
      },
      "source": [
        "merged = merged.rename(columns={\"season17_18\": \"Salary\"})\n",
        "merged.head(5)"
      ],
      "execution_count": 25,
      "outputs": [
        {
          "output_type": "execute_result",
          "data": {
            "text/html": [
              "<div>\n",
              "<style scoped>\n",
              "    .dataframe tbody tr th:only-of-type {\n",
              "        vertical-align: middle;\n",
              "    }\n",
              "\n",
              "    .dataframe tbody tr th {\n",
              "        vertical-align: top;\n",
              "    }\n",
              "\n",
              "    .dataframe thead th {\n",
              "        text-align: right;\n",
              "    }\n",
              "</style>\n",
              "<table border=\"1\" class=\"dataframe\">\n",
              "  <thead>\n",
              "    <tr style=\"text-align: right;\">\n",
              "      <th></th>\n",
              "      <th>Unnamed: 0</th>\n",
              "      <th>Player</th>\n",
              "      <th>Tm_x</th>\n",
              "      <th>Salary</th>\n",
              "      <th>Rk</th>\n",
              "      <th>Pos</th>\n",
              "      <th>Age</th>\n",
              "      <th>Tm_y</th>\n",
              "      <th>G</th>\n",
              "      <th>MP</th>\n",
              "      <th>PER</th>\n",
              "      <th>TS%</th>\n",
              "      <th>3PAr</th>\n",
              "      <th>FTr</th>\n",
              "      <th>ORB%</th>\n",
              "      <th>DRB%</th>\n",
              "      <th>TRB%</th>\n",
              "      <th>AST%</th>\n",
              "      <th>STL%</th>\n",
              "      <th>BLK%</th>\n",
              "      <th>TOV%</th>\n",
              "      <th>USG%</th>\n",
              "      <th>OWS</th>\n",
              "      <th>DWS</th>\n",
              "      <th>WS</th>\n",
              "      <th>WS/48</th>\n",
              "      <th>OBPM</th>\n",
              "      <th>DBPM</th>\n",
              "      <th>BPM</th>\n",
              "      <th>VORP</th>\n",
              "    </tr>\n",
              "  </thead>\n",
              "  <tbody>\n",
              "    <tr>\n",
              "      <th>0</th>\n",
              "      <td>1</td>\n",
              "      <td>Stephen Curry</td>\n",
              "      <td>GSW</td>\n",
              "      <td>34.682550</td>\n",
              "      <td>124</td>\n",
              "      <td>PG</td>\n",
              "      <td>30</td>\n",
              "      <td>GSW</td>\n",
              "      <td>69</td>\n",
              "      <td>2331</td>\n",
              "      <td>24.4</td>\n",
              "      <td>0.641</td>\n",
              "      <td>0.604</td>\n",
              "      <td>0.214</td>\n",
              "      <td>2.2</td>\n",
              "      <td>14.2</td>\n",
              "      <td>8.4</td>\n",
              "      <td>24.2</td>\n",
              "      <td>1.9</td>\n",
              "      <td>0.9</td>\n",
              "      <td>11.6</td>\n",
              "      <td>30.4</td>\n",
              "      <td>7.2</td>\n",
              "      <td>2.5</td>\n",
              "      <td>9.7</td>\n",
              "      <td>0.199</td>\n",
              "      <td>7.7</td>\n",
              "      <td>-1.4</td>\n",
              "      <td>6.3</td>\n",
              "      <td>4.9</td>\n",
              "    </tr>\n",
              "    <tr>\n",
              "      <th>1</th>\n",
              "      <td>2</td>\n",
              "      <td>LeBron James</td>\n",
              "      <td>CLE</td>\n",
              "      <td>33.285709</td>\n",
              "      <td>258</td>\n",
              "      <td>SF</td>\n",
              "      <td>34</td>\n",
              "      <td>LAL</td>\n",
              "      <td>55</td>\n",
              "      <td>1937</td>\n",
              "      <td>25.6</td>\n",
              "      <td>0.588</td>\n",
              "      <td>0.299</td>\n",
              "      <td>0.382</td>\n",
              "      <td>3.1</td>\n",
              "      <td>21.3</td>\n",
              "      <td>12.4</td>\n",
              "      <td>39.4</td>\n",
              "      <td>1.7</td>\n",
              "      <td>1.4</td>\n",
              "      <td>13.3</td>\n",
              "      <td>31.6</td>\n",
              "      <td>4.7</td>\n",
              "      <td>2.6</td>\n",
              "      <td>7.2</td>\n",
              "      <td>0.179</td>\n",
              "      <td>6.2</td>\n",
              "      <td>1.9</td>\n",
              "      <td>8.1</td>\n",
              "      <td>4.9</td>\n",
              "    </tr>\n",
              "    <tr>\n",
              "      <th>2</th>\n",
              "      <td>3</td>\n",
              "      <td>Paul Millsap</td>\n",
              "      <td>DEN</td>\n",
              "      <td>31.269231</td>\n",
              "      <td>351</td>\n",
              "      <td>PF</td>\n",
              "      <td>33</td>\n",
              "      <td>DEN</td>\n",
              "      <td>70</td>\n",
              "      <td>1895</td>\n",
              "      <td>17.9</td>\n",
              "      <td>0.570</td>\n",
              "      <td>0.239</td>\n",
              "      <td>0.374</td>\n",
              "      <td>8.7</td>\n",
              "      <td>20.2</td>\n",
              "      <td>14.4</td>\n",
              "      <td>10.6</td>\n",
              "      <td>2.2</td>\n",
              "      <td>2.5</td>\n",
              "      <td>10.9</td>\n",
              "      <td>19.6</td>\n",
              "      <td>3.2</td>\n",
              "      <td>2.9</td>\n",
              "      <td>6.1</td>\n",
              "      <td>0.155</td>\n",
              "      <td>0.5</td>\n",
              "      <td>1.9</td>\n",
              "      <td>2.4</td>\n",
              "      <td>2.1</td>\n",
              "    </tr>\n",
              "    <tr>\n",
              "      <th>3</th>\n",
              "      <td>4</td>\n",
              "      <td>Gordon Hayward</td>\n",
              "      <td>BOS</td>\n",
              "      <td>29.727900</td>\n",
              "      <td>218</td>\n",
              "      <td>PF</td>\n",
              "      <td>28</td>\n",
              "      <td>BOS</td>\n",
              "      <td>72</td>\n",
              "      <td>1863</td>\n",
              "      <td>15.6</td>\n",
              "      <td>0.575</td>\n",
              "      <td>0.364</td>\n",
              "      <td>0.294</td>\n",
              "      <td>2.9</td>\n",
              "      <td>15.5</td>\n",
              "      <td>9.2</td>\n",
              "      <td>18.4</td>\n",
              "      <td>1.6</td>\n",
              "      <td>1.1</td>\n",
              "      <td>12.8</td>\n",
              "      <td>19.0</td>\n",
              "      <td>2.6</td>\n",
              "      <td>2.3</td>\n",
              "      <td>4.9</td>\n",
              "      <td>0.126</td>\n",
              "      <td>0.1</td>\n",
              "      <td>0.4</td>\n",
              "      <td>0.5</td>\n",
              "      <td>1.2</td>\n",
              "    </tr>\n",
              "    <tr>\n",
              "      <th>4</th>\n",
              "      <td>5</td>\n",
              "      <td>Blake Griffin</td>\n",
              "      <td>DET</td>\n",
              "      <td>29.512900</td>\n",
              "      <td>202</td>\n",
              "      <td>PF</td>\n",
              "      <td>29</td>\n",
              "      <td>DET</td>\n",
              "      <td>75</td>\n",
              "      <td>2622</td>\n",
              "      <td>21.0</td>\n",
              "      <td>0.581</td>\n",
              "      <td>0.389</td>\n",
              "      <td>0.410</td>\n",
              "      <td>4.0</td>\n",
              "      <td>20.1</td>\n",
              "      <td>11.8</td>\n",
              "      <td>27.1</td>\n",
              "      <td>1.0</td>\n",
              "      <td>0.9</td>\n",
              "      <td>13.8</td>\n",
              "      <td>30.2</td>\n",
              "      <td>5.1</td>\n",
              "      <td>2.9</td>\n",
              "      <td>8.0</td>\n",
              "      <td>0.147</td>\n",
              "      <td>4.2</td>\n",
              "      <td>0.4</td>\n",
              "      <td>4.6</td>\n",
              "      <td>4.4</td>\n",
              "    </tr>\n",
              "  </tbody>\n",
              "</table>\n",
              "</div>"
            ],
            "text/plain": [
              "   Unnamed: 0          Player Tm_x     Salary  ...  OBPM DBPM  BPM VORP\n",
              "0           1   Stephen Curry  GSW  34.682550  ...   7.7 -1.4  6.3  4.9\n",
              "1           2    LeBron James  CLE  33.285709  ...   6.2  1.9  8.1  4.9\n",
              "2           3    Paul Millsap  DEN  31.269231  ...   0.5  1.9  2.4  2.1\n",
              "3           4  Gordon Hayward  BOS  29.727900  ...   0.1  0.4  0.5  1.2\n",
              "4           5   Blake Griffin  DET  29.512900  ...   4.2  0.4  4.6  4.4\n",
              "\n",
              "[5 rows x 30 columns]"
            ]
          },
          "metadata": {
            "tags": []
          },
          "execution_count": 25
        }
      ]
    },
    {
      "cell_type": "code",
      "metadata": {
        "id": "xSuy8K7PxpD7",
        "colab_type": "code",
        "colab": {}
      },
      "source": [
        "# Cut data for players having played at least 10 games\n",
        "merged = merged[merged['G']>10]"
      ],
      "execution_count": 0,
      "outputs": []
    },
    {
      "cell_type": "markdown",
      "metadata": {
        "id": "J6tUnaOQv7dC",
        "colab_type": "text"
      },
      "source": [
        "I can use it to discover questions like \"how correlated is performance and salary in the nba\", \"who is the most overpaid/underpaid player in the nba?\", \"is offensive skill valued at a higher premium than defensive skill?\", and if more development is needed, make further inferences on team salary and success."
      ]
    },
    {
      "cell_type": "code",
      "metadata": {
        "id": "730QdABewLaP",
        "colab_type": "code",
        "outputId": "94b2e48d-0c6b-4bac-dbf6-b8e2d77066e7",
        "colab": {
          "base_uri": "https://localhost:8080/",
          "height": 382
        }
      },
      "source": [
        "import matplotlib.pyplot as plt\n",
        "import seaborn as sns\n",
        "\n",
        "#plot data\n",
        "sns.relplot(x='Salary', y='PER', data=merged);\n",
        "\n",
        "#labels\n",
        "plt.title('PER Rating vs Salary')\n",
        "plt.xlabel('Salary (millions)');\n",
        "plt.ylabel('PER Rating');"
      ],
      "execution_count": 27,
      "outputs": [
        {
          "output_type": "display_data",
          "data": {
            "image/png": "[encoded data removed]",
            "text/plain": [
              "<Figure size 360x360 with 1 Axes>"
            ]
          },
          "metadata": {
            "tags": []
          }
        }
      ]
    },
    {
      "cell_type": "code",
      "metadata": {
        "id": "NuLcrxT2xhZn",
        "colab_type": "code",
        "outputId": "2e67dd5b-f6c4-4b14-a2fa-a75d9e028f81",
        "colab": {
          "base_uri": "https://localhost:8080/",
          "height": 230
        }
      },
      "source": [
        "merged[(merged['Salary']>15) & (merged['PER'] <10)]"
      ],
      "execution_count": 28,
      "outputs": [
        {
          "output_type": "execute_result",
          "data": {
            "text/html": [
              "<div>\n",
              "<style scoped>\n",
              "    .dataframe tbody tr th:only-of-type {\n",
              "        vertical-align: middle;\n",
              "    }\n",
              "\n",
              "    .dataframe tbody tr th {\n",
              "        vertical-align: top;\n",
              "    }\n",
              "\n",
              "    .dataframe thead th {\n",
              "        text-align: right;\n",
              "    }\n",
              "</style>\n",
              "<table border=\"1\" class=\"dataframe\">\n",
              "  <thead>\n",
              "    <tr style=\"text-align: right;\">\n",
              "      <th></th>\n",
              "      <th>Unnamed: 0</th>\n",
              "      <th>Player</th>\n",
              "      <th>Tm_x</th>\n",
              "      <th>Salary</th>\n",
              "      <th>Rk</th>\n",
              "      <th>Pos</th>\n",
              "      <th>Age</th>\n",
              "      <th>Tm_y</th>\n",
              "      <th>G</th>\n",
              "      <th>MP</th>\n",
              "      <th>PER</th>\n",
              "      <th>TS%</th>\n",
              "      <th>3PAr</th>\n",
              "      <th>FTr</th>\n",
              "      <th>ORB%</th>\n",
              "      <th>DRB%</th>\n",
              "      <th>TRB%</th>\n",
              "      <th>AST%</th>\n",
              "      <th>STL%</th>\n",
              "      <th>BLK%</th>\n",
              "      <th>TOV%</th>\n",
              "      <th>USG%</th>\n",
              "      <th>OWS</th>\n",
              "      <th>DWS</th>\n",
              "      <th>WS</th>\n",
              "      <th>WS/48</th>\n",
              "      <th>OBPM</th>\n",
              "      <th>DBPM</th>\n",
              "      <th>BPM</th>\n",
              "      <th>VORP</th>\n",
              "    </tr>\n",
              "  </thead>\n",
              "  <tbody>\n",
              "    <tr>\n",
              "      <th>22</th>\n",
              "      <td>25</td>\n",
              "      <td>Chandler Parsons</td>\n",
              "      <td>MEM</td>\n",
              "      <td>23.112004</td>\n",
              "      <td>396</td>\n",
              "      <td>SF</td>\n",
              "      <td>30</td>\n",
              "      <td>MEM</td>\n",
              "      <td>25</td>\n",
              "      <td>496</td>\n",
              "      <td>8.5</td>\n",
              "      <td>0.484</td>\n",
              "      <td>0.516</td>\n",
              "      <td>0.137</td>\n",
              "      <td>0.9</td>\n",
              "      <td>15.2</td>\n",
              "      <td>7.9</td>\n",
              "      <td>13.4</td>\n",
              "      <td>1.9</td>\n",
              "      <td>1.0</td>\n",
              "      <td>14.2</td>\n",
              "      <td>20.3</td>\n",
              "      <td>-0.6</td>\n",
              "      <td>0.6</td>\n",
              "      <td>0.0</td>\n",
              "      <td>-0.004</td>\n",
              "      <td>-3.7</td>\n",
              "      <td>-0.6</td>\n",
              "      <td>-4.3</td>\n",
              "      <td>-0.3</td>\n",
              "    </tr>\n",
              "    <tr>\n",
              "      <th>39</th>\n",
              "      <td>42</td>\n",
              "      <td>Ryan Anderson</td>\n",
              "      <td>HOU</td>\n",
              "      <td>19.578455</td>\n",
              "      <td>16</td>\n",
              "      <td>PF</td>\n",
              "      <td>30</td>\n",
              "      <td>TOT</td>\n",
              "      <td>25</td>\n",
              "      <td>322</td>\n",
              "      <td>4.6</td>\n",
              "      <td>0.414</td>\n",
              "      <td>0.580</td>\n",
              "      <td>0.232</td>\n",
              "      <td>6.1</td>\n",
              "      <td>12.5</td>\n",
              "      <td>9.2</td>\n",
              "      <td>7.8</td>\n",
              "      <td>0.6</td>\n",
              "      <td>0.3</td>\n",
              "      <td>15.5</td>\n",
              "      <td>12.0</td>\n",
              "      <td>-0.3</td>\n",
              "      <td>0.0</td>\n",
              "      <td>-0.2</td>\n",
              "      <td>-0.035</td>\n",
              "      <td>-4.5</td>\n",
              "      <td>-2.0</td>\n",
              "      <td>-6.4</td>\n",
              "      <td>-0.4</td>\n",
              "    </tr>\n",
              "    <tr>\n",
              "      <th>41</th>\n",
              "      <td>44</td>\n",
              "      <td>Allen Crabbe</td>\n",
              "      <td>BRK</td>\n",
              "      <td>19.332500</td>\n",
              "      <td>117</td>\n",
              "      <td>SG</td>\n",
              "      <td>26</td>\n",
              "      <td>BRK</td>\n",
              "      <td>43</td>\n",
              "      <td>1133</td>\n",
              "      <td>7.7</td>\n",
              "      <td>0.519</td>\n",
              "      <td>0.694</td>\n",
              "      <td>0.150</td>\n",
              "      <td>1.5</td>\n",
              "      <td>12.2</td>\n",
              "      <td>6.9</td>\n",
              "      <td>5.8</td>\n",
              "      <td>1.0</td>\n",
              "      <td>0.9</td>\n",
              "      <td>10.4</td>\n",
              "      <td>16.4</td>\n",
              "      <td>-0.2</td>\n",
              "      <td>1.0</td>\n",
              "      <td>0.8</td>\n",
              "      <td>0.035</td>\n",
              "      <td>-1.9</td>\n",
              "      <td>-0.5</td>\n",
              "      <td>-2.5</td>\n",
              "      <td>-0.1</td>\n",
              "    </tr>\n",
              "  </tbody>\n",
              "</table>\n",
              "</div>"
            ],
            "text/plain": [
              "    Unnamed: 0            Player Tm_x     Salary  ...  OBPM DBPM  BPM VORP\n",
              "22          25  Chandler Parsons  MEM  23.112004  ...  -3.7 -0.6 -4.3 -0.3\n",
              "39          42     Ryan Anderson  HOU  19.578455  ...  -4.5 -2.0 -6.4 -0.4\n",
              "41          44      Allen Crabbe  BRK  19.332500  ...  -1.9 -0.5 -2.5 -0.1\n",
              "\n",
              "[3 rows x 30 columns]"
            ]
          },
          "metadata": {
            "tags": []
          },
          "execution_count": 28
        }
      ]
    },
    {
      "cell_type": "code",
      "metadata": {
        "id": "HctYvEX80miY",
        "colab_type": "code",
        "outputId": "16eff5ab-06dd-4004-ec40-42d55252bf4d",
        "colab": {
          "base_uri": "https://localhost:8080/",
          "height": 295
        }
      },
      "source": [
        "merged[(merged['Salary']<10) & (merged['PER'] >22)]"
      ],
      "execution_count": 29,
      "outputs": [
        {
          "output_type": "execute_result",
          "data": {
            "text/html": [
              "<div>\n",
              "<style scoped>\n",
              "    .dataframe tbody tr th:only-of-type {\n",
              "        vertical-align: middle;\n",
              "    }\n",
              "\n",
              "    .dataframe tbody tr th {\n",
              "        vertical-align: top;\n",
              "    }\n",
              "\n",
              "    .dataframe thead th {\n",
              "        text-align: right;\n",
              "    }\n",
              "</style>\n",
              "<table border=\"1\" class=\"dataframe\">\n",
              "  <thead>\n",
              "    <tr style=\"text-align: right;\">\n",
              "      <th></th>\n",
              "      <th>Unnamed: 0</th>\n",
              "      <th>Player</th>\n",
              "      <th>Tm_x</th>\n",
              "      <th>Salary</th>\n",
              "      <th>Rk</th>\n",
              "      <th>Pos</th>\n",
              "      <th>Age</th>\n",
              "      <th>Tm_y</th>\n",
              "      <th>G</th>\n",
              "      <th>MP</th>\n",
              "      <th>PER</th>\n",
              "      <th>TS%</th>\n",
              "      <th>3PAr</th>\n",
              "      <th>FTr</th>\n",
              "      <th>ORB%</th>\n",
              "      <th>DRB%</th>\n",
              "      <th>TRB%</th>\n",
              "      <th>AST%</th>\n",
              "      <th>STL%</th>\n",
              "      <th>BLK%</th>\n",
              "      <th>TOV%</th>\n",
              "      <th>USG%</th>\n",
              "      <th>OWS</th>\n",
              "      <th>DWS</th>\n",
              "      <th>WS</th>\n",
              "      <th>WS/48</th>\n",
              "      <th>OBPM</th>\n",
              "      <th>DBPM</th>\n",
              "      <th>BPM</th>\n",
              "      <th>VORP</th>\n",
              "    </tr>\n",
              "  </thead>\n",
              "  <tbody>\n",
              "    <tr>\n",
              "      <th>153</th>\n",
              "      <td>172</td>\n",
              "      <td>Karl-Anthony Towns</td>\n",
              "      <td>MIN</td>\n",
              "      <td>6.216840</td>\n",
              "      <td>480</td>\n",
              "      <td>C</td>\n",
              "      <td>23</td>\n",
              "      <td>MIN</td>\n",
              "      <td>77</td>\n",
              "      <td>2545</td>\n",
              "      <td>26.3</td>\n",
              "      <td>0.622</td>\n",
              "      <td>0.270</td>\n",
              "      <td>0.342</td>\n",
              "      <td>10.9</td>\n",
              "      <td>29.3</td>\n",
              "      <td>20.0</td>\n",
              "      <td>17.2</td>\n",
              "      <td>1.3</td>\n",
              "      <td>4.2</td>\n",
              "      <td>13.7</td>\n",
              "      <td>28.9</td>\n",
              "      <td>7.2</td>\n",
              "      <td>3.2</td>\n",
              "      <td>10.4</td>\n",
              "      <td>0.197</td>\n",
              "      <td>4.8</td>\n",
              "      <td>2.0</td>\n",
              "      <td>6.8</td>\n",
              "      <td>5.7</td>\n",
              "    </tr>\n",
              "    <tr>\n",
              "      <th>155</th>\n",
              "      <td>174</td>\n",
              "      <td>Joel Embiid</td>\n",
              "      <td>PHI</td>\n",
              "      <td>6.100266</td>\n",
              "      <td>155</td>\n",
              "      <td>C</td>\n",
              "      <td>24</td>\n",
              "      <td>PHI</td>\n",
              "      <td>64</td>\n",
              "      <td>2154</td>\n",
              "      <td>26.1</td>\n",
              "      <td>0.593</td>\n",
              "      <td>0.219</td>\n",
              "      <td>0.541</td>\n",
              "      <td>8.1</td>\n",
              "      <td>34.0</td>\n",
              "      <td>21.4</td>\n",
              "      <td>18.4</td>\n",
              "      <td>1.0</td>\n",
              "      <td>4.4</td>\n",
              "      <td>13.2</td>\n",
              "      <td>33.3</td>\n",
              "      <td>4.9</td>\n",
              "      <td>3.8</td>\n",
              "      <td>8.7</td>\n",
              "      <td>0.194</td>\n",
              "      <td>2.0</td>\n",
              "      <td>2.1</td>\n",
              "      <td>4.1</td>\n",
              "      <td>3.3</td>\n",
              "    </tr>\n",
              "    <tr>\n",
              "      <th>245</th>\n",
              "      <td>290</td>\n",
              "      <td>Clint Capela</td>\n",
              "      <td>HOU</td>\n",
              "      <td>2.334520</td>\n",
              "      <td>89</td>\n",
              "      <td>C</td>\n",
              "      <td>24</td>\n",
              "      <td>HOU</td>\n",
              "      <td>67</td>\n",
              "      <td>2249</td>\n",
              "      <td>23.8</td>\n",
              "      <td>0.658</td>\n",
              "      <td>0.000</td>\n",
              "      <td>0.357</td>\n",
              "      <td>14.4</td>\n",
              "      <td>27.6</td>\n",
              "      <td>20.8</td>\n",
              "      <td>7.1</td>\n",
              "      <td>1.0</td>\n",
              "      <td>3.9</td>\n",
              "      <td>10.0</td>\n",
              "      <td>18.2</td>\n",
              "      <td>7.8</td>\n",
              "      <td>3.0</td>\n",
              "      <td>10.8</td>\n",
              "      <td>0.230</td>\n",
              "      <td>1.3</td>\n",
              "      <td>1.6</td>\n",
              "      <td>2.9</td>\n",
              "      <td>2.8</td>\n",
              "    </tr>\n",
              "    <tr>\n",
              "      <th>306</th>\n",
              "      <td>393</td>\n",
              "      <td>Montrezl Harrell</td>\n",
              "      <td>LAC</td>\n",
              "      <td>1.471382</td>\n",
              "      <td>208</td>\n",
              "      <td>C</td>\n",
              "      <td>25</td>\n",
              "      <td>LAC</td>\n",
              "      <td>82</td>\n",
              "      <td>2158</td>\n",
              "      <td>23.4</td>\n",
              "      <td>0.636</td>\n",
              "      <td>0.019</td>\n",
              "      <td>0.466</td>\n",
              "      <td>9.3</td>\n",
              "      <td>16.7</td>\n",
              "      <td>13.1</td>\n",
              "      <td>12.5</td>\n",
              "      <td>1.6</td>\n",
              "      <td>4.0</td>\n",
              "      <td>11.0</td>\n",
              "      <td>23.5</td>\n",
              "      <td>6.1</td>\n",
              "      <td>2.6</td>\n",
              "      <td>8.7</td>\n",
              "      <td>0.193</td>\n",
              "      <td>2.6</td>\n",
              "      <td>1.6</td>\n",
              "      <td>4.2</td>\n",
              "      <td>3.4</td>\n",
              "    </tr>\n",
              "  </tbody>\n",
              "</table>\n",
              "</div>"
            ],
            "text/plain": [
              "     Unnamed: 0              Player Tm_x    Salary  ...  OBPM DBPM  BPM VORP\n",
              "153         172  Karl-Anthony Towns  MIN  6.216840  ...   4.8  2.0  6.8  5.7\n",
              "155         174         Joel Embiid  PHI  6.100266  ...   2.0  2.1  4.1  3.3\n",
              "245         290        Clint Capela  HOU  2.334520  ...   1.3  1.6  2.9  2.8\n",
              "306         393    Montrezl Harrell  LAC  1.471382  ...   2.6  1.6  4.2  3.4\n",
              "\n",
              "[4 rows x 30 columns]"
            ]
          },
          "metadata": {
            "tags": []
          },
          "execution_count": 29
        }
      ]
    },
    {
      "cell_type": "code",
      "metadata": {
        "id": "nd5380LH11fY",
        "colab_type": "code",
        "outputId": "47ba9ab1-5a07-4ffd-9948-716f70fa50e1",
        "colab": {
          "base_uri": "https://localhost:8080/",
          "height": 34
        }
      },
      "source": [
        "from sklearn.linear_model import LinearRegression\n",
        "\n",
        "model = LinearRegression()\n",
        "model.fit(merged[['Salary']],merged['PER'])\n"
      ],
      "execution_count": 30,
      "outputs": [
        {
          "output_type": "execute_result",
          "data": {
            "text/plain": [
              "LinearRegression(copy_X=True, fit_intercept=True, n_jobs=None, normalize=False)"
            ]
          },
          "metadata": {
            "tags": []
          },
          "execution_count": 30
        }
      ]
    },
    {
      "cell_type": "code",
      "metadata": {
        "id": "bWOdmGINebx4",
        "colab_type": "code",
        "outputId": "2830092d-dc28-4116-c65b-c1070eee1dc6",
        "colab": {
          "base_uri": "https://localhost:8080/",
          "height": 399
        }
      },
      "source": [
        "predictions = model.predict\n",
        "\n",
        "salary = [[s/10] for s in range(360)]\n",
        "predictions = model.predict(salary)\n",
        "\n",
        "sns.relplot(x='Salary', y='PER', data=merged);\n",
        "\n",
        "#plot data\n",
        "plt.plot(salary,predictions,color='y');\n",
        "\n",
        "#labels\n",
        "plt.title('PER Rating vs Salary 2017-2018')\n",
        "plt.xlabel('Salary (millions)');\n",
        "plt.ylabel('PER Rating');\n",
        "\n",
        "plt.plot(merged.loc[idx_underpaid]['Salary'],merged.loc[idx_underpaid]['PER'],marker='.',color='r',markersize=8);\n",
        "plt.plot(merged.loc[idx_overpaid]['Salary'],merged.loc[idx_overpaid]['PER'],marker='.',color='r',markersize=8);\n",
        "\n",
        "plt.text(6.4,30, \"Giannis Antetokounmpo\", fontsize=10, color='r')\n",
        "plt.text(20.3,3.6, \"Ryan Anderson\", fontsize=10, color='r')"
      ],
      "execution_count": 66,
      "outputs": [
        {
          "output_type": "execute_result",
          "data": {
            "text/plain": [
              "Text(20.3, 3.6, 'Ryan Anderson')"
            ]
          },
          "metadata": {
            "tags": []
          },
          "execution_count": 66
        },
        {
          "output_type": "display_data",
          "data": {
            "image/png": "[encoded data removed]",
            "text/plain": [
              "<Figure size 360x360 with 1 Axes>"
            ]
          },
          "metadata": {
            "tags": []
          }
        }
      ]
    },
    {
      "cell_type": "code",
      "metadata": {
        "id": "X2Np1Aw-g150",
        "colab_type": "code",
        "colab": {}
      },
      "source": [
        "idx_overpaid  = (merged['PER']-model.predict(merged[['Salary']])).idxmin(axis=0)\n",
        "\n",
        "idx_underpaid = (merged['PER']-model.predict(merged[['Salary']])).idxmax(axis=0)\n",
        "\n",
        "merged['error']=merged['PER']-model.predict(merged[['Salary']])"
      ],
      "execution_count": 0,
      "outputs": []
    },
    {
      "cell_type": "code",
      "metadata": {
        "id": "Tp1Nr3BwyvGm",
        "colab_type": "code",
        "colab": {
          "base_uri": "https://localhost:8080/",
          "height": 34
        },
        "outputId": "de4820e2-dcf1-4c8c-e922-1a43cb1c204e"
      },
      "source": [
        "merged.loc[idx_underpaid]['PER']"
      ],
      "execution_count": 40,
      "outputs": [
        {
          "output_type": "execute_result",
          "data": {
            "text/plain": [
              "30.9"
            ]
          },
          "metadata": {
            "tags": []
          },
          "execution_count": 40
        }
      ]
    },
    {
      "cell_type": "code",
      "metadata": {
        "id": "66OhCLHxibZU",
        "colab_type": "code",
        "outputId": "0cfad715-4a9b-412d-a5ec-55b93d14b434",
        "colab": {
          "base_uri": "https://localhost:8080/",
          "height": 561
        }
      },
      "source": [
        "# The most underpaid player\n",
        "\n",
        "merged.loc[idx_underpaid]"
      ],
      "execution_count": 33,
      "outputs": [
        {
          "output_type": "execute_result",
          "data": {
            "text/plain": [
              "Unnamed: 0                       33\n",
              "Player        Giannis Antetokounmpo\n",
              "Tm_x                            MIL\n",
              "Salary                      22.4719\n",
              "Rk                               18\n",
              "Pos                              PF\n",
              "Age                              24\n",
              "Tm_y                            MIL\n",
              "G                                72\n",
              "MP                             2358\n",
              "PER                            30.9\n",
              "TS%                           0.644\n",
              "3PAr                          0.163\n",
              "FTr                            0.55\n",
              "ORB%                            7.3\n",
              "DRB%                             30\n",
              "TRB%                           19.3\n",
              "AST%                           30.3\n",
              "STL%                            1.8\n",
              "BLK%                            3.9\n",
              "TOV%                           14.8\n",
              "USG%                           32.3\n",
              "OWS                             8.9\n",
              "DWS                             5.5\n",
              "WS                             14.4\n",
              "WS/48                         0.292\n",
              "OBPM                            5.7\n",
              "DBPM                              5\n",
              "BPM                            10.8\n",
              "VORP                            7.6\n",
              "error                       12.9049\n",
              "Name: 30, dtype: object"
            ]
          },
          "metadata": {
            "tags": []
          },
          "execution_count": 33
        }
      ]
    },
    {
      "cell_type": "code",
      "metadata": {
        "id": "dekgzU2LmGTI",
        "colab_type": "code",
        "outputId": "e2c69dcd-fdd8-4cf6-d021-f987137f0102",
        "colab": {
          "base_uri": "https://localhost:8080/",
          "height": 561
        }
      },
      "source": [
        "merged.loc[idx_overpaid]"
      ],
      "execution_count": 34,
      "outputs": [
        {
          "output_type": "execute_result",
          "data": {
            "text/plain": [
              "Unnamed: 0               42\n",
              "Player        Ryan Anderson\n",
              "Tm_x                    HOU\n",
              "Salary              19.5785\n",
              "Rk                       16\n",
              "Pos                      PF\n",
              "Age                      30\n",
              "Tm_y                    TOT\n",
              "G                        25\n",
              "MP                      322\n",
              "PER                     4.6\n",
              "TS%                   0.414\n",
              "3PAr                   0.58\n",
              "FTr                   0.232\n",
              "ORB%                    6.1\n",
              "DRB%                   12.5\n",
              "TRB%                    9.2\n",
              "AST%                    7.8\n",
              "STL%                    0.6\n",
              "BLK%                    0.3\n",
              "TOV%                   15.5\n",
              "USG%                     12\n",
              "OWS                    -0.3\n",
              "DWS                       0\n",
              "WS                     -0.2\n",
              "WS/48                -0.035\n",
              "OBPM                   -4.5\n",
              "DBPM                     -2\n",
              "BPM                    -6.4\n",
              "VORP                   -0.4\n",
              "error              -12.5837\n",
              "Name: 39, dtype: object"
            ]
          },
          "metadata": {
            "tags": []
          },
          "execution_count": 34
        }
      ]
    },
    {
      "cell_type": "code",
      "metadata": {
        "id": "ZTDnl_VllMOS",
        "colab_type": "code",
        "colab": {}
      },
      "source": [
        ""
      ],
      "execution_count": 0,
      "outputs": []
    },
    {
      "cell_type": "code",
      "metadata": {
        "id": "E4eSF_9GnaD3",
        "colab_type": "code",
        "outputId": "d563fa6c-0b75-4db3-ae63-5a92054a486b",
        "colab": {
          "base_uri": "https://localhost:8080/",
          "height": 399
        }
      },
      "source": [
        "sns.relplot(x='Salary', y='OWS', data=merged, color='g');\n",
        "\n",
        "#labels\n",
        "plt.title('Offensive Win Shares vs Salary')\n",
        "plt.xlabel('Salary (millions)');\n",
        "plt.ylabel('Offensive Win Shares');\n",
        "\n",
        "plt.text(5,10, \"Corr=.454\", fontsize=10, color='g', weight = 'bold')"
      ],
      "execution_count": 35,
      "outputs": [
        {
          "output_type": "execute_result",
          "data": {
            "text/plain": [
              "Text(5, 10, 'Corr=.454')"
            ]
          },
          "metadata": {
            "tags": []
          },
          "execution_count": 35
        },
        {
          "output_type": "display_data",
          "data": {
            "image/png": "[encoded data removed]",
            "text/plain": [
              "<Figure size 360x360 with 1 Axes>"
            ]
          },
          "metadata": {
            "tags": []
          }
        }
      ]
    },
    {
      "cell_type": "code",
      "metadata": {
        "id": "7PYKo4wqsZZL",
        "colab_type": "code",
        "outputId": "2a891cf6-4ba0-44df-e3f2-a9bae9f903c3",
        "colab": {
          "base_uri": "https://localhost:8080/",
          "height": 399
        }
      },
      "source": [
        "sns.relplot(x='Salary', y='DWS', data=merged, color='r');\n",
        "\n",
        "#labels\n",
        "plt.title('Defensive Win Shares vs Salary')\n",
        "plt.xlabel('Salary (millions)');\n",
        "plt.ylabel('Defensive Win Shares');\n",
        "\n",
        "plt.text(5,5.2, \"Corr=.412\", fontsize=10, color='r', weight = 'bold')"
      ],
      "execution_count": 36,
      "outputs": [
        {
          "output_type": "execute_result",
          "data": {
            "text/plain": [
              "Text(5, 5.2, 'Corr=.412')"
            ]
          },
          "metadata": {
            "tags": []
          },
          "execution_count": 36
        },
        {
          "output_type": "display_data",
          "data": {
            "image/png": "[encoded data removed]",
            "text/plain": [
              "<Figure size 360x360 with 1 Axes>"
            ]
          },
          "metadata": {
            "tags": []
          }
        }
      ]
    },
    {
      "cell_type": "code",
      "metadata": {
        "id": "ODPmy-lnrWQW",
        "colab_type": "code",
        "outputId": "234e20bf-6e7d-4bed-cded-d17b6a86d98f",
        "colab": {
          "base_uri": "https://localhost:8080/",
          "height": 51
        }
      },
      "source": [
        "# Compare correlations \n",
        "import numpy as np\n",
        "\n",
        "np.corrcoef(merged['Salary'],merged['OWS'])"
      ],
      "execution_count": 37,
      "outputs": [
        {
          "output_type": "execute_result",
          "data": {
            "text/plain": [
              "array([[1.        , 0.45405113],\n",
              "       [0.45405113, 1.        ]])"
            ]
          },
          "metadata": {
            "tags": []
          },
          "execution_count": 37
        }
      ]
    },
    {
      "cell_type": "code",
      "metadata": {
        "id": "QM3teOTirxaX",
        "colab_type": "code",
        "outputId": "bf7e1770-e8e8-487b-a113-10acee8773e2",
        "colab": {
          "base_uri": "https://localhost:8080/",
          "height": 51
        }
      },
      "source": [
        "np.corrcoef(merged['Salary'],merged['DWS'])"
      ],
      "execution_count": 38,
      "outputs": [
        {
          "output_type": "execute_result",
          "data": {
            "text/plain": [
              "array([[1.      , 0.411519],\n",
              "       [0.411519, 1.      ]])"
            ]
          },
          "metadata": {
            "tags": []
          },
          "execution_count": 38
        }
      ]
    },
    {
      "cell_type": "code",
      "metadata": {
        "id": "ZYxawQ8Ur3yw",
        "colab_type": "code",
        "colab": {}
      },
      "source": [
        ""
      ],
      "execution_count": 0,
      "outputs": []
    }
  ]
}