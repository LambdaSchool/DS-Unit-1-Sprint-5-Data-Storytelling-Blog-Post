{
  "nbformat": 4,
  "nbformat_minor": 0,
  "metadata": {
    "colab": {
      "name": "Project1",
      "version": "0.3.2",
      "provenance": [],
      "include_colab_link": true
    },
    "kernelspec": {
      "name": "python3",
      "display_name": "Python 3"
    }
  },
  "cells": [
    {
      "cell_type": "markdown",
      "metadata": {
        "id": "view-in-github",
        "colab_type": "text"
      },
      "source": [
        "<a href=\"https://colab.research.google.com/github/NicoMontoya/DS-Unit-1-Sprint-5-Data-Storytelling-Blog-Post/blob/master/Project1.ipynb\" target=\"_parent\"><img src=\"https://colab.research.google.com/assets/colab-badge.svg\" alt=\"Open In Colab\"/></a>"
      ]
    },
    {
      "metadata": {
        "id": "SRKztu-LKFy7",
        "colab_type": "text"
      },
      "cell_type": "markdown",
      "source": [
        "Have explored the data a little bit.  Now I will form a strategy!\n",
        "\n",
        "first: \n",
        "- analyze top 100.  Breakdown of lefties vs righties in the latest ranking available.\n",
        "- determine if difference from general population is statistically significant.\n",
        "- compare to years past\n",
        "\n",
        "second:\n",
        "- analyze matches within each year of top 100 vs top 100 players.\n",
        "- determine if lefties win more or less\n",
        "\n",
        "Third/ bonus:\n",
        "- analyze matches based on surface.\n",
        "- determine if lefties have any advantage on a particular surface\n",
        "\n",
        "Fourth\n",
        "- do the exact same analysis for women"
      ]
    },
    {
      "metadata": {
        "id": "7AHcgpdeKG-w",
        "colab_type": "code",
        "colab": {}
      },
      "cell_type": "code",
      "source": [
        "## perform classic imports\n",
        "import pandas as pd\n",
        "import matplotlib.pyplot as plt\n",
        "import numpy as np\n",
        "import datetime as dt\n",
        "from scipy import stats\n",
        "\n",
        "pd.set_option('display.max_columns', None)"
      ],
      "execution_count": 0,
      "outputs": []
    },
    {
      "metadata": {
        "id": "7Xnwt9jzQqFA",
        "colab_type": "text"
      },
      "cell_type": "markdown",
      "source": [
        "## Wrangle ATP data to get top 100 players and matches they played against each other"
      ]
    },
    {
      "metadata": {
        "id": "IL2sOJKPP8I0",
        "colab_type": "code",
        "colab": {}
      },
      "cell_type": "code",
      "source": [
        "## import player data\n",
        "players_columns = ['player_id', 'first_name', 'last_name', 'hand', 'birth_date', 'country_code']\n",
        "players = pd.read_csv('https://raw.githubusercontent.com/JeffSackmann/tennis_atp/master/atp_players.csv', names=players_columns, encoding = 'ISO-8859-1')"
      ],
      "execution_count": 0,
      "outputs": []
    },
    {
      "metadata": {
        "id": "ONq8MjhWKR7G",
        "colab_type": "code",
        "colab": {}
      },
      "cell_type": "code",
      "source": [
        "## import ranking data for 2018\n",
        "rankings_columns = ['ranking_date', 'ranking', 'player_id', 'ranking_points']\n",
        "current_ranking = pd.read_csv('https://raw.githubusercontent.com/JeffSackmann/tennis_atp/master/atp_rankings_current.csv', names=rankings_columns)"
      ],
      "execution_count": 0,
      "outputs": []
    },
    {
      "metadata": {
        "id": "41inxQmhQ7dg",
        "colab_type": "code",
        "colab": {}
      },
      "cell_type": "code",
      "source": [
        "## merge players data with current rankings data\n",
        "current_ranking = pd.merge(players, current_ranking, on='player_id')"
      ],
      "execution_count": 0,
      "outputs": []
    },
    {
      "metadata": {
        "id": "CFO6dGkGK2Rr",
        "colab_type": "code",
        "colab": {}
      },
      "cell_type": "code",
      "source": [
        "current_ranking['ranking_date'] = pd.to_datetime(current_ranking['ranking_date'], format='%Y%m%d')"
      ],
      "execution_count": 0,
      "outputs": []
    },
    {
      "metadata": {
        "id": "Y-bCJAO4LeKs",
        "colab_type": "code",
        "colab": {}
      },
      "cell_type": "code",
      "source": [
        "year_end_ranking2018 = current_ranking[current_ranking['ranking_date'] == '2018-09-24'].sort_values(by='ranking')"
      ],
      "execution_count": 0,
      "outputs": []
    },
    {
      "metadata": {
        "id": "zGdvBRp1Ls2N",
        "colab_type": "code",
        "colab": {}
      },
      "cell_type": "code",
      "source": [
        "year_end_ranking2018 = year_end_ranking2018.head(100)"
      ],
      "execution_count": 0,
      "outputs": []
    },
    {
      "metadata": {
        "id": "B6nYI32fUGK_",
        "colab_type": "code",
        "colab": {}
      },
      "cell_type": "code",
      "source": [
        "year_end_ranking2018 = year_end_ranking2018.replace({'R':0, 'L':1, 'U':0})"
      ],
      "execution_count": 0,
      "outputs": []
    },
    {
      "metadata": {
        "id": "OcSWiwA0MGC3",
        "colab_type": "code",
        "outputId": "82664383-4455-4894-cc55-d5e25873d9ca",
        "colab": {
          "base_uri": "https://localhost:8080/",
          "height": 91
        }
      },
      "cell_type": "code",
      "source": [
        "# import ranking data for 2010's\n",
        "ranking2010s = pd.read_csv('https://raw.githubusercontent.com/JeffSackmann/tennis_atp/master/atp_rankings_10s.csv', names=rankings_columns)"
      ],
      "execution_count": 10,
      "outputs": [
        {
          "output_type": "stream",
          "text": [
            "/usr/local/lib/python3.6/dist-packages/IPython/core/interactiveshell.py:2718: DtypeWarning: Columns (3) have mixed types. Specify dtype option on import or set low_memory=False.\n",
            "  interactivity=interactivity, compiler=compiler, result=result)\n"
          ],
          "name": "stderr"
        }
      ]
    },
    {
      "metadata": {
        "id": "Ju_GBkouMpOQ",
        "colab_type": "code",
        "colab": {}
      },
      "cell_type": "code",
      "source": [
        "ranking2010s['ranking_date'] = pd.to_datetime(ranking2010s['ranking_date'], format='%Y%m%d')"
      ],
      "execution_count": 0,
      "outputs": []
    },
    {
      "metadata": {
        "id": "Of7K0w4VRpsk",
        "colab_type": "code",
        "colab": {}
      },
      "cell_type": "code",
      "source": [
        "## merge ranking2010s with players data\n",
        "ranking2010s = pd.merge(players, ranking2010s, on='player_id')\n",
        "ranking2010s = ranking2010s.replace({'R':0, 'L':1})"
      ],
      "execution_count": 0,
      "outputs": []
    },
    {
      "metadata": {
        "id": "Qs6y2rfDNOCS",
        "colab_type": "code",
        "colab": {}
      },
      "cell_type": "code",
      "source": [
        "year_end_ranking2017 = ranking2010s[ranking2010s['ranking_date'] == '2017-12-25'].sort_values(by='ranking')"
      ],
      "execution_count": 0,
      "outputs": []
    },
    {
      "metadata": {
        "id": "WZ6DlTmdNgv9",
        "colab_type": "code",
        "colab": {}
      },
      "cell_type": "code",
      "source": [
        "year_end_ranking2017 = year_end_ranking2017.head(100)"
      ],
      "execution_count": 0,
      "outputs": []
    },
    {
      "metadata": {
        "id": "HQ4OcnZtNsSo",
        "colab_type": "code",
        "colab": {}
      },
      "cell_type": "code",
      "source": [
        "year_end_ranking2016 = ranking2010s[ranking2010s['ranking_date'] == '2016-12-26'].sort_values(by='ranking')"
      ],
      "execution_count": 0,
      "outputs": []
    },
    {
      "metadata": {
        "id": "WfIk7D7AN1-O",
        "colab_type": "code",
        "colab": {}
      },
      "cell_type": "code",
      "source": [
        "year_end_ranking2016 = year_end_ranking2016.head(100)"
      ],
      "execution_count": 0,
      "outputs": []
    },
    {
      "metadata": {
        "id": "A0WiD9l5OpCk",
        "colab_type": "code",
        "colab": {}
      },
      "cell_type": "code",
      "source": [
        "year_end_ranking2015 = ranking2010s[ranking2010s['ranking_date'] == '2015-12-28'].sort_values(by='ranking')"
      ],
      "execution_count": 0,
      "outputs": []
    },
    {
      "metadata": {
        "id": "imK6fb9gOxwM",
        "colab_type": "code",
        "colab": {}
      },
      "cell_type": "code",
      "source": [
        "year_end_ranking2015 = year_end_ranking2015.head(100)"
      ],
      "execution_count": 0,
      "outputs": []
    },
    {
      "metadata": {
        "id": "R2i9EibcO7wg",
        "colab_type": "code",
        "colab": {}
      },
      "cell_type": "code",
      "source": [
        "year_end_ranking2014 = ranking2010s[ranking2010s['ranking_date'] == '2014-12-29'].sort_values(by='ranking')\n",
        "year_end_ranking2014 = year_end_ranking2014.head(100)"
      ],
      "execution_count": 0,
      "outputs": []
    },
    {
      "metadata": {
        "id": "MCJwAUYVPPZM",
        "colab_type": "code",
        "colab": {}
      },
      "cell_type": "code",
      "source": [
        "year_end_ranking2013 = ranking2010s[ranking2010s['ranking_date'] == '2013-12-30'].sort_values(by='ranking')\n",
        "year_end_ranking2013 = year_end_ranking2013.head(100)"
      ],
      "execution_count": 0,
      "outputs": []
    },
    {
      "metadata": {
        "id": "xxV3pOKZPYp3",
        "colab_type": "code",
        "colab": {}
      },
      "cell_type": "code",
      "source": [
        "year_end_ranking2012 = ranking2010s[ranking2010s['ranking_date'] == '2012-12-31'].sort_values(by='ranking')\n",
        "year_end_ranking2012 = year_end_ranking2012.head(100)"
      ],
      "execution_count": 0,
      "outputs": []
    },
    {
      "metadata": {
        "id": "ufiSTg9MPiDW",
        "colab_type": "code",
        "colab": {}
      },
      "cell_type": "code",
      "source": [
        "year_end_ranking2011 = ranking2010s[ranking2010s['ranking_date'] == '2011-12-26'].sort_values(by='ranking')\n",
        "year_end_ranking2011 = year_end_ranking2011.head(100)"
      ],
      "execution_count": 0,
      "outputs": []
    },
    {
      "metadata": {
        "id": "-HohePdRPw-R",
        "colab_type": "code",
        "colab": {}
      },
      "cell_type": "code",
      "source": [
        "year_end_ranking2010 = ranking2010s[ranking2010s['ranking_date'] == '2010-12-27'].sort_values(by='ranking')\n",
        "year_end_ranking2010 = year_end_ranking2010.head(100)"
      ],
      "execution_count": 0,
      "outputs": []
    },
    {
      "metadata": {
        "id": "AEbqb_P6baPZ",
        "colab_type": "text"
      },
      "cell_type": "markdown",
      "source": [
        "Let's analyze the top 100 rankings for the last 9 years for men"
      ]
    },
    {
      "metadata": {
        "id": "5Ko8NkjPJT2l",
        "colab_type": "code",
        "colab": {}
      },
      "cell_type": "code",
      "source": [
        "## ATP dataframe contains top 100 men and their data\n",
        "## for the corresponding year\n",
        "atpyear_end_rankings = [year_end_ranking2010, year_end_ranking2011, year_end_ranking2012,\n",
        "                       year_end_ranking2013, year_end_ranking2014, year_end_ranking2015,\n",
        "                       year_end_ranking2016, year_end_ranking2017, year_end_ranking2018]\n",
        "atpdf = pd.concat(atpyear_end_rankings)"
      ],
      "execution_count": 0,
      "outputs": []
    },
    {
      "metadata": {
        "id": "4niWvwDeJzP1",
        "colab_type": "code",
        "colab": {}
      },
      "cell_type": "code",
      "source": [
        "## ATP crosstab gives a break down of lefties and righties in the top 100 \n",
        "## for the given year\n",
        "ATPct = pd.crosstab(atpdf['ranking_date'].dt.year, atpdf['hand'], normalize=True)\n"
      ],
      "execution_count": 0,
      "outputs": []
    },
    {
      "metadata": {
        "id": "irSOi-LWcd2S",
        "colab_type": "text"
      },
      "cell_type": "markdown",
      "source": [
        "## Wrangle womens data to get top 100 and the matches they played against each other"
      ]
    },
    {
      "metadata": {
        "id": "le9bP8tycbw-",
        "colab_type": "code",
        "colab": {}
      },
      "cell_type": "code",
      "source": [
        "#import women players info\n",
        "wtaplayers = pd.read_csv('https://raw.githubusercontent.com/JeffSackmann/tennis_wta/master/wta_players.csv', names=players_columns, encoding='ISO-8859-1')\n"
      ],
      "execution_count": 0,
      "outputs": []
    },
    {
      "metadata": {
        "id": "KzUawAwNdGi0",
        "colab_type": "code",
        "colab": {}
      },
      "cell_type": "code",
      "source": [
        "#import recent rankings\n",
        "wtarankings_columns = ['ranking_date', 'ranking', 'player_id', 'ranking_points', 'tours']\n",
        "wtacurrent_ranking = pd.read_csv('https://raw.githubusercontent.com/JeffSackmann/tennis_wta/master/wta_rankings_current.csv', names=wtarankings_columns)"
      ],
      "execution_count": 0,
      "outputs": []
    },
    {
      "metadata": {
        "id": "EQ4w9DE-2kqy",
        "colab_type": "code",
        "colab": {}
      },
      "cell_type": "code",
      "source": [
        "wtacurrent_ranking['ranking_date'] = pd.to_datetime(wtacurrent_ranking['ranking_date'], format='%Y%m%d')"
      ],
      "execution_count": 0,
      "outputs": []
    },
    {
      "metadata": {
        "id": "H1x6Ev7kfQWx",
        "colab_type": "code",
        "colab": {}
      },
      "cell_type": "code",
      "source": [
        "wtacurrent_ranking = pd.merge(wtaplayers, wtacurrent_ranking, on='player_id')\n",
        "wtacurrent_ranking = wtacurrent_ranking.replace({'R':0, 'U':0, 'L':1})"
      ],
      "execution_count": 0,
      "outputs": []
    },
    {
      "metadata": {
        "id": "dD5ijBln26QQ",
        "colab_type": "code",
        "colab": {}
      },
      "cell_type": "code",
      "source": [
        "wtayear_end_ranking2018 = wtacurrent_ranking[wtacurrent_ranking['ranking_date'] == '2018-12-24'].sort_values(by='ranking').head(100)"
      ],
      "execution_count": 0,
      "outputs": []
    },
    {
      "metadata": {
        "id": "7PrtMf483gQq",
        "colab_type": "code",
        "colab": {}
      },
      "cell_type": "code",
      "source": [
        "# import rankings for 2010s womens\n",
        "wtaranking2010s = pd.read_csv('https://raw.githubusercontent.com/JeffSackmann/tennis_wta/master/wta_rankings_10s.csv', names = wtarankings_columns)"
      ],
      "execution_count": 0,
      "outputs": []
    },
    {
      "metadata": {
        "id": "1Z40toB55EoO",
        "colab_type": "code",
        "colab": {}
      },
      "cell_type": "code",
      "source": [
        "wtaranking2010s = pd.merge(wtaplayers, wtaranking2010s, on='player_id')"
      ],
      "execution_count": 0,
      "outputs": []
    },
    {
      "metadata": {
        "id": "Kol960nk5U4W",
        "colab_type": "code",
        "colab": {}
      },
      "cell_type": "code",
      "source": [
        "wtaranking2010s['ranking_date'] = pd.to_datetime(wtaranking2010s['ranking_date'], format='%Y%m%d')"
      ],
      "execution_count": 0,
      "outputs": []
    },
    {
      "metadata": {
        "id": "pBsOBcOkDBac",
        "colab_type": "code",
        "colab": {}
      },
      "cell_type": "code",
      "source": [
        "wtaranking2010s = wtaranking2010s.replace({'R':0, 'L':1, 'U':0})"
      ],
      "execution_count": 0,
      "outputs": []
    },
    {
      "metadata": {
        "id": "A01moBoM59P2",
        "colab_type": "code",
        "colab": {}
      },
      "cell_type": "code",
      "source": [
        "wtayear_end_ranking2017 = wtaranking2010s[wtaranking2010s['ranking_date']=='2017-11-20'].sort_values(by='ranking').head(100)"
      ],
      "execution_count": 0,
      "outputs": []
    },
    {
      "metadata": {
        "id": "UYCu77Hw6cKl",
        "colab_type": "code",
        "colab": {}
      },
      "cell_type": "code",
      "source": [
        "wtayear_end_ranking2016 = wtaranking2010s[wtaranking2010s['ranking_date']=='2016-12-26'].sort_values(by='ranking').head(100)"
      ],
      "execution_count": 0,
      "outputs": []
    },
    {
      "metadata": {
        "id": "_32LrdLe6ouR",
        "colab_type": "code",
        "colab": {}
      },
      "cell_type": "code",
      "source": [
        "wtayear_end_ranking2015 = wtaranking2010s[wtaranking2010s['ranking_date']=='2015-12-28'].sort_values(by='ranking').head(100)"
      ],
      "execution_count": 0,
      "outputs": []
    },
    {
      "metadata": {
        "id": "wc60oZgH6w6q",
        "colab_type": "code",
        "colab": {}
      },
      "cell_type": "code",
      "source": [
        "wtayear_end_ranking2014 = wtaranking2010s[wtaranking2010s['ranking_date']=='2014-12-29'].sort_values(by='ranking').head(100)"
      ],
      "execution_count": 0,
      "outputs": []
    },
    {
      "metadata": {
        "id": "-ecZot2O69z7",
        "colab_type": "code",
        "colab": {}
      },
      "cell_type": "code",
      "source": [
        "wtayear_end_ranking2013 = wtaranking2010s[wtaranking2010s['ranking_date']=='2013-12-30'].sort_values(by='ranking').head(100)"
      ],
      "execution_count": 0,
      "outputs": []
    },
    {
      "metadata": {
        "id": "z7swnwUm7FFG",
        "colab_type": "code",
        "colab": {}
      },
      "cell_type": "code",
      "source": [
        "wtayear_end_ranking2012 = wtaranking2010s[wtaranking2010s['ranking_date']=='2012-12-31'].sort_values(by='ranking').head(100)"
      ],
      "execution_count": 0,
      "outputs": []
    },
    {
      "metadata": {
        "id": "UN-IclQt7Nnx",
        "colab_type": "code",
        "colab": {}
      },
      "cell_type": "code",
      "source": [
        "wtayear_end_ranking2011 = wtaranking2010s[wtaranking2010s['ranking_date']=='2011-12-26'].sort_values(by='ranking').head(100)"
      ],
      "execution_count": 0,
      "outputs": []
    },
    {
      "metadata": {
        "id": "Xzen3TZh71Cw",
        "colab_type": "code",
        "colab": {}
      },
      "cell_type": "code",
      "source": [
        "wtayear_end_ranking2010 = wtaranking2010s[wtaranking2010s['ranking_date']=='2010-12-27'].sort_values(by='ranking').head(100)"
      ],
      "execution_count": 0,
      "outputs": []
    },
    {
      "metadata": {
        "id": "LGg7HXrQFPzf",
        "colab_type": "code",
        "colab": {}
      },
      "cell_type": "code",
      "source": [
        "## WTA dataframe contains data of top 100 women and their info\n",
        "wtayear_end_rankings = [wtayear_end_ranking2010,wtayear_end_ranking2011, wtayear_end_ranking2012,\n",
        "                    wtayear_end_ranking2013, wtayear_end_ranking2014, wtayear_end_ranking2015, wtayear_end_ranking2016,\n",
        "                    wtayear_end_ranking2017, wtayear_end_ranking2018]\n",
        "wtadf = pd.concat(wtayear_end_rankings)"
      ],
      "execution_count": 0,
      "outputs": []
    },
    {
      "metadata": {
        "id": "M_hD06SxH0LG",
        "colab_type": "code",
        "colab": {}
      },
      "cell_type": "code",
      "source": [
        "## crosstab shows the breakdown of righties and lefties in the top 100 for each year\n",
        "\n",
        "WTAct = pd.crosstab(wtadf['ranking_date'].dt.year, wtadf['hand'], normalize='index')\n"
      ],
      "execution_count": 0,
      "outputs": []
    },
    {
      "metadata": {
        "id": "1Ie7fwzGR4DO",
        "colab_type": "text"
      },
      "cell_type": "markdown",
      "source": [
        "## T-test to see if there is a significant difference between mean lefties of population and number of lefties in the top 100 of the ATP and WTA"
      ]
    },
    {
      "metadata": {
        "id": "tTvhUnUXSRC1",
        "colab_type": "code",
        "outputId": "a8edc20d-a8cd-4f87-ac23-6ec3ca0f2f83",
        "colab": {
          "base_uri": "https://localhost:8080/",
          "height": 34
        }
      },
      "cell_type": "code",
      "source": [
        "stats.ttest_1samp(ATPct[1], .10)"
      ],
      "execution_count": 47,
      "outputs": [
        {
          "output_type": "execute_result",
          "data": {
            "text/plain": [
              "Ttest_1sampResult(statistic=7.098852075328917, pvalue=0.00010210861082756907)"
            ]
          },
          "metadata": {
            "tags": []
          },
          "execution_count": 47
        }
      ]
    },
    {
      "metadata": {
        "id": "W4ZBYxDESgZS",
        "colab_type": "code",
        "outputId": "3782c4f6-38d8-411c-919d-29c75eaa8e20",
        "colab": {
          "base_uri": "https://localhost:8080/",
          "height": 34
        }
      },
      "cell_type": "code",
      "source": [
        "stats.ttest_1samp(WTAct[1], .10)"
      ],
      "execution_count": 48,
      "outputs": [
        {
          "output_type": "execute_result",
          "data": {
            "text/plain": [
              "Ttest_1sampResult(statistic=-3.5068322372799012, pvalue=0.007998608765899168)"
            ]
          },
          "metadata": {
            "tags": []
          },
          "execution_count": 48
        }
      ]
    },
    {
      "metadata": {
        "id": "XCrw6f44St6z",
        "colab_type": "code",
        "outputId": "0526ee81-b981-4b4d-852f-f9a06ce5a2de",
        "colab": {
          "base_uri": "https://localhost:8080/",
          "height": 297
        }
      },
      "cell_type": "code",
      "source": [
        "ATPct.describe()"
      ],
      "execution_count": 49,
      "outputs": [
        {
          "output_type": "execute_result",
          "data": {
            "text/html": [
              "<div>\n",
              "<style scoped>\n",
              "    .dataframe tbody tr th:only-of-type {\n",
              "        vertical-align: middle;\n",
              "    }\n",
              "\n",
              "    .dataframe tbody tr th {\n",
              "        vertical-align: top;\n",
              "    }\n",
              "\n",
              "    .dataframe thead th {\n",
              "        text-align: right;\n",
              "    }\n",
              "</style>\n",
              "<table border=\"1\" class=\"dataframe\">\n",
              "  <thead>\n",
              "    <tr style=\"text-align: right;\">\n",
              "      <th>hand</th>\n",
              "      <th>0</th>\n",
              "      <th>1</th>\n",
              "    </tr>\n",
              "  </thead>\n",
              "  <tbody>\n",
              "    <tr>\n",
              "      <th>count</th>\n",
              "      <td>9.000000</td>\n",
              "      <td>9.000000</td>\n",
              "    </tr>\n",
              "    <tr>\n",
              "      <th>mean</th>\n",
              "      <td>0.855556</td>\n",
              "      <td>0.144444</td>\n",
              "    </tr>\n",
              "    <tr>\n",
              "      <th>std</th>\n",
              "      <td>0.018782</td>\n",
              "      <td>0.018782</td>\n",
              "    </tr>\n",
              "    <tr>\n",
              "      <th>min</th>\n",
              "      <td>0.820000</td>\n",
              "      <td>0.120000</td>\n",
              "    </tr>\n",
              "    <tr>\n",
              "      <th>25%</th>\n",
              "      <td>0.840000</td>\n",
              "      <td>0.130000</td>\n",
              "    </tr>\n",
              "    <tr>\n",
              "      <th>50%</th>\n",
              "      <td>0.860000</td>\n",
              "      <td>0.140000</td>\n",
              "    </tr>\n",
              "    <tr>\n",
              "      <th>75%</th>\n",
              "      <td>0.870000</td>\n",
              "      <td>0.160000</td>\n",
              "    </tr>\n",
              "    <tr>\n",
              "      <th>max</th>\n",
              "      <td>0.880000</td>\n",
              "      <td>0.180000</td>\n",
              "    </tr>\n",
              "  </tbody>\n",
              "</table>\n",
              "</div>"
            ],
            "text/plain": [
              "hand          0         1\n",
              "count  9.000000  9.000000\n",
              "mean   0.855556  0.144444\n",
              "std    0.018782  0.018782\n",
              "min    0.820000  0.120000\n",
              "25%    0.840000  0.130000\n",
              "50%    0.860000  0.140000\n",
              "75%    0.870000  0.160000\n",
              "max    0.880000  0.180000"
            ]
          },
          "metadata": {
            "tags": []
          },
          "execution_count": 49
        }
      ]
    },
    {
      "metadata": {
        "id": "obkN98WZS-Jf",
        "colab_type": "code",
        "colab": {}
      },
      "cell_type": "code",
      "source": [
        "atpdf['hand'] = atpdf['hand'].astype(int)"
      ],
      "execution_count": 0,
      "outputs": []
    },
    {
      "metadata": {
        "id": "n3SXbwDVTnrC",
        "colab_type": "code",
        "outputId": "6d4c50fa-f418-4f61-a268-e04029f9c27a",
        "colab": {
          "base_uri": "https://localhost:8080/",
          "height": 297
        }
      },
      "cell_type": "code",
      "source": [
        "atpdf.describe()"
      ],
      "execution_count": 51,
      "outputs": [
        {
          "output_type": "execute_result",
          "data": {
            "text/html": [
              "<div>\n",
              "<style scoped>\n",
              "    .dataframe tbody tr th:only-of-type {\n",
              "        vertical-align: middle;\n",
              "    }\n",
              "\n",
              "    .dataframe tbody tr th {\n",
              "        vertical-align: top;\n",
              "    }\n",
              "\n",
              "    .dataframe thead th {\n",
              "        text-align: right;\n",
              "    }\n",
              "</style>\n",
              "<table border=\"1\" class=\"dataframe\">\n",
              "  <thead>\n",
              "    <tr style=\"text-align: right;\">\n",
              "      <th></th>\n",
              "      <th>player_id</th>\n",
              "      <th>hand</th>\n",
              "      <th>birth_date</th>\n",
              "      <th>ranking</th>\n",
              "    </tr>\n",
              "  </thead>\n",
              "  <tbody>\n",
              "    <tr>\n",
              "      <th>count</th>\n",
              "      <td>900.000000</td>\n",
              "      <td>900.000000</td>\n",
              "      <td>9.000000e+02</td>\n",
              "      <td>900.00000</td>\n",
              "    </tr>\n",
              "    <tr>\n",
              "      <th>mean</th>\n",
              "      <td>105385.355556</td>\n",
              "      <td>0.144444</td>\n",
              "      <td>1.986571e+07</td>\n",
              "      <td>50.50000</td>\n",
              "    </tr>\n",
              "    <tr>\n",
              "      <th>std</th>\n",
              "      <td>4572.649840</td>\n",
              "      <td>0.351735</td>\n",
              "      <td>4.270342e+04</td>\n",
              "      <td>28.88212</td>\n",
              "    </tr>\n",
              "    <tr>\n",
              "      <th>min</th>\n",
              "      <td>100644.000000</td>\n",
              "      <td>0.000000</td>\n",
              "      <td>1.976042e+07</td>\n",
              "      <td>1.00000</td>\n",
              "    </tr>\n",
              "    <tr>\n",
              "      <th>25%</th>\n",
              "      <td>104269.000000</td>\n",
              "      <td>0.000000</td>\n",
              "      <td>1.983112e+07</td>\n",
              "      <td>25.75000</td>\n",
              "    </tr>\n",
              "    <tr>\n",
              "      <th>50%</th>\n",
              "      <td>104792.000000</td>\n",
              "      <td>0.000000</td>\n",
              "      <td>1.986090e+07</td>\n",
              "      <td>50.50000</td>\n",
              "    </tr>\n",
              "    <tr>\n",
              "      <th>75%</th>\n",
              "      <td>105380.500000</td>\n",
              "      <td>0.000000</td>\n",
              "      <td>1.989072e+07</td>\n",
              "      <td>75.25000</td>\n",
              "    </tr>\n",
              "    <tr>\n",
              "      <th>max</th>\n",
              "      <td>200282.000000</td>\n",
              "      <td>1.000000</td>\n",
              "      <td>1.999042e+07</td>\n",
              "      <td>100.00000</td>\n",
              "    </tr>\n",
              "  </tbody>\n",
              "</table>\n",
              "</div>"
            ],
            "text/plain": [
              "           player_id        hand    birth_date    ranking\n",
              "count     900.000000  900.000000  9.000000e+02  900.00000\n",
              "mean   105385.355556    0.144444  1.986571e+07   50.50000\n",
              "std      4572.649840    0.351735  4.270342e+04   28.88212\n",
              "min    100644.000000    0.000000  1.976042e+07    1.00000\n",
              "25%    104269.000000    0.000000  1.983112e+07   25.75000\n",
              "50%    104792.000000    0.000000  1.986090e+07   50.50000\n",
              "75%    105380.500000    0.000000  1.989072e+07   75.25000\n",
              "max    200282.000000    1.000000  1.999042e+07  100.00000"
            ]
          },
          "metadata": {
            "tags": []
          },
          "execution_count": 51
        }
      ]
    },
    {
      "metadata": {
        "id": "VjUuTsJjTs3R",
        "colab_type": "code",
        "outputId": "a8b2021f-1a18-4f21-fa36-4f47226c0124",
        "colab": {
          "base_uri": "https://localhost:8080/",
          "height": 34
        }
      },
      "cell_type": "code",
      "source": [
        "## reject null hypothesis and say that men lefties show up more in the game of tennis\n",
        "## compared to world population\n",
        "\n",
        "stats.ttest_1samp(atpdf['hand'], .10)"
      ],
      "execution_count": 52,
      "outputs": [
        {
          "output_type": "execute_result",
          "data": {
            "text/plain": [
              "Ttest_1sampResult(statistic=3.790729530002155, pvalue=0.000160224068609131)"
            ]
          },
          "metadata": {
            "tags": []
          },
          "execution_count": 52
        }
      ]
    },
    {
      "metadata": {
        "id": "raKmCFQGSt1p",
        "colab_type": "code",
        "outputId": "c1823abc-cae7-4cf9-c503-dd1a8f0043a8",
        "colab": {
          "base_uri": "https://localhost:8080/",
          "height": 297
        }
      },
      "cell_type": "code",
      "source": [
        "WTAct.describe()"
      ],
      "execution_count": 53,
      "outputs": [
        {
          "output_type": "execute_result",
          "data": {
            "text/html": [
              "<div>\n",
              "<style scoped>\n",
              "    .dataframe tbody tr th:only-of-type {\n",
              "        vertical-align: middle;\n",
              "    }\n",
              "\n",
              "    .dataframe tbody tr th {\n",
              "        vertical-align: top;\n",
              "    }\n",
              "\n",
              "    .dataframe thead th {\n",
              "        text-align: right;\n",
              "    }\n",
              "</style>\n",
              "<table border=\"1\" class=\"dataframe\">\n",
              "  <thead>\n",
              "    <tr style=\"text-align: right;\">\n",
              "      <th>hand</th>\n",
              "      <th>0.0</th>\n",
              "      <th>1.0</th>\n",
              "    </tr>\n",
              "  </thead>\n",
              "  <tbody>\n",
              "    <tr>\n",
              "      <th>count</th>\n",
              "      <td>9.000000</td>\n",
              "      <td>9.000000</td>\n",
              "    </tr>\n",
              "    <tr>\n",
              "      <th>mean</th>\n",
              "      <td>0.918889</td>\n",
              "      <td>0.081111</td>\n",
              "    </tr>\n",
              "    <tr>\n",
              "      <th>std</th>\n",
              "      <td>0.016159</td>\n",
              "      <td>0.016159</td>\n",
              "    </tr>\n",
              "    <tr>\n",
              "      <th>min</th>\n",
              "      <td>0.900000</td>\n",
              "      <td>0.060000</td>\n",
              "    </tr>\n",
              "    <tr>\n",
              "      <th>25%</th>\n",
              "      <td>0.900000</td>\n",
              "      <td>0.070000</td>\n",
              "    </tr>\n",
              "    <tr>\n",
              "      <th>50%</th>\n",
              "      <td>0.920000</td>\n",
              "      <td>0.080000</td>\n",
              "    </tr>\n",
              "    <tr>\n",
              "      <th>75%</th>\n",
              "      <td>0.930000</td>\n",
              "      <td>0.100000</td>\n",
              "    </tr>\n",
              "    <tr>\n",
              "      <th>max</th>\n",
              "      <td>0.940000</td>\n",
              "      <td>0.100000</td>\n",
              "    </tr>\n",
              "  </tbody>\n",
              "</table>\n",
              "</div>"
            ],
            "text/plain": [
              "hand        0.0       1.0\n",
              "count  9.000000  9.000000\n",
              "mean   0.918889  0.081111\n",
              "std    0.016159  0.016159\n",
              "min    0.900000  0.060000\n",
              "25%    0.900000  0.070000\n",
              "50%    0.920000  0.080000\n",
              "75%    0.930000  0.100000\n",
              "max    0.940000  0.100000"
            ]
          },
          "metadata": {
            "tags": []
          },
          "execution_count": 53
        }
      ]
    },
    {
      "metadata": {
        "id": "nE9NsjWtUG-F",
        "colab_type": "code",
        "outputId": "73e6d336-677c-4fa3-97f3-5ba2d998ca02",
        "colab": {
          "base_uri": "https://localhost:8080/",
          "height": 297
        }
      },
      "cell_type": "code",
      "source": [
        "wtadf['hand'] = wtadf['hand'].astype(int)\n",
        "wtadf.describe()"
      ],
      "execution_count": 54,
      "outputs": [
        {
          "output_type": "execute_result",
          "data": {
            "text/html": [
              "<div>\n",
              "<style scoped>\n",
              "    .dataframe tbody tr th:only-of-type {\n",
              "        vertical-align: middle;\n",
              "    }\n",
              "\n",
              "    .dataframe tbody tr th {\n",
              "        vertical-align: top;\n",
              "    }\n",
              "\n",
              "    .dataframe thead th {\n",
              "        text-align: right;\n",
              "    }\n",
              "</style>\n",
              "<table border=\"1\" class=\"dataframe\">\n",
              "  <thead>\n",
              "    <tr style=\"text-align: right;\">\n",
              "      <th></th>\n",
              "      <th>player_id</th>\n",
              "      <th>hand</th>\n",
              "      <th>birth_date</th>\n",
              "      <th>ranking</th>\n",
              "      <th>ranking_points</th>\n",
              "      <th>tours</th>\n",
              "    </tr>\n",
              "  </thead>\n",
              "  <tbody>\n",
              "    <tr>\n",
              "      <th>count</th>\n",
              "      <td>900.000000</td>\n",
              "      <td>900.000000</td>\n",
              "      <td>9.000000e+02</td>\n",
              "      <td>900.00000</td>\n",
              "      <td>900.000000</td>\n",
              "      <td>588.000000</td>\n",
              "    </tr>\n",
              "    <tr>\n",
              "      <th>mean</th>\n",
              "      <td>202238.350000</td>\n",
              "      <td>0.081111</td>\n",
              "      <td>1.988854e+07</td>\n",
              "      <td>50.50000</td>\n",
              "      <td>1697.753333</td>\n",
              "      <td>22.066327</td>\n",
              "    </tr>\n",
              "    <tr>\n",
              "      <th>std</th>\n",
              "      <td>2593.418202</td>\n",
              "      <td>0.273157</td>\n",
              "      <td>4.540391e+04</td>\n",
              "      <td>28.88212</td>\n",
              "      <td>1529.814735</td>\n",
              "      <td>4.961249</td>\n",
              "    </tr>\n",
              "    <tr>\n",
              "      <th>min</th>\n",
              "      <td>200002.000000</td>\n",
              "      <td>0.000000</td>\n",
              "      <td>1.970093e+07</td>\n",
              "      <td>1.00000</td>\n",
              "      <td>581.000000</td>\n",
              "      <td>0.000000</td>\n",
              "    </tr>\n",
              "    <tr>\n",
              "      <th>25%</th>\n",
              "      <td>201435.000000</td>\n",
              "      <td>0.000000</td>\n",
              "      <td>1.986033e+07</td>\n",
              "      <td>25.75000</td>\n",
              "      <td>806.750000</td>\n",
              "      <td>20.000000</td>\n",
              "    </tr>\n",
              "    <tr>\n",
              "      <th>50%</th>\n",
              "      <td>201517.000000</td>\n",
              "      <td>0.000000</td>\n",
              "      <td>1.989053e+07</td>\n",
              "      <td>50.50000</td>\n",
              "      <td>1109.000000</td>\n",
              "      <td>23.000000</td>\n",
              "    </tr>\n",
              "    <tr>\n",
              "      <th>75%</th>\n",
              "      <td>201620.000000</td>\n",
              "      <td>0.000000</td>\n",
              "      <td>1.992032e+07</td>\n",
              "      <td>75.25000</td>\n",
              "      <td>1845.750000</td>\n",
              "      <td>25.000000</td>\n",
              "    </tr>\n",
              "    <tr>\n",
              "      <th>max</th>\n",
              "      <td>216153.000000</td>\n",
              "      <td>1.000000</td>\n",
              "      <td>2.001083e+07</td>\n",
              "      <td>100.00000</td>\n",
              "      <td>13260.000000</td>\n",
              "      <td>34.000000</td>\n",
              "    </tr>\n",
              "  </tbody>\n",
              "</table>\n",
              "</div>"
            ],
            "text/plain": [
              "           player_id        hand    birth_date    ranking  ranking_points  \\\n",
              "count     900.000000  900.000000  9.000000e+02  900.00000      900.000000   \n",
              "mean   202238.350000    0.081111  1.988854e+07   50.50000     1697.753333   \n",
              "std      2593.418202    0.273157  4.540391e+04   28.88212     1529.814735   \n",
              "min    200002.000000    0.000000  1.970093e+07    1.00000      581.000000   \n",
              "25%    201435.000000    0.000000  1.986033e+07   25.75000      806.750000   \n",
              "50%    201517.000000    0.000000  1.989053e+07   50.50000     1109.000000   \n",
              "75%    201620.000000    0.000000  1.992032e+07   75.25000     1845.750000   \n",
              "max    216153.000000    1.000000  2.001083e+07  100.00000    13260.000000   \n",
              "\n",
              "            tours  \n",
              "count  588.000000  \n",
              "mean    22.066327  \n",
              "std      4.961249  \n",
              "min      0.000000  \n",
              "25%     20.000000  \n",
              "50%     23.000000  \n",
              "75%     25.000000  \n",
              "max     34.000000  "
            ]
          },
          "metadata": {
            "tags": []
          },
          "execution_count": 54
        }
      ]
    },
    {
      "metadata": {
        "id": "cooSc6ACUO9C",
        "colab_type": "code",
        "outputId": "9022eb72-cb88-417c-8c50-2c88e4e20418",
        "colab": {
          "base_uri": "https://localhost:8080/",
          "height": 34
        }
      },
      "cell_type": "code",
      "source": [
        "## reject null hypothesis and say women lefties show up less in tennis than mean population\n",
        "stats.ttest_1samp(wtadf['hand'], .10)"
      ],
      "execution_count": 55,
      "outputs": [
        {
          "output_type": "execute_result",
          "data": {
            "text/plain": [
              "Ttest_1sampResult(statistic=-2.07450546095252, pvalue=0.03831645576759973)"
            ]
          },
          "metadata": {
            "tags": []
          },
          "execution_count": 55
        }
      ]
    },
    {
      "metadata": {
        "id": "dGqhZh9qSWfa",
        "colab_type": "code",
        "colab": {
          "base_uri": "https://localhost:8080/",
          "height": 193
        },
        "outputId": "87cb5478-a5c8-4c84-f382-446338647616"
      },
      "cell_type": "code",
      "source": [
        "ATP_WTA = pd.concat([atpdf, wtadf])"
      ],
      "execution_count": 297,
      "outputs": [
        {
          "output_type": "stream",
          "text": [
            "/usr/local/lib/python3.6/dist-packages/ipykernel_launcher.py:1: FutureWarning: Sorting because non-concatenation axis is not aligned. A future version\n",
            "of pandas will change to not sort by default.\n",
            "\n",
            "To accept the future behavior, pass 'sort=False'.\n",
            "\n",
            "To retain the current behavior and silence the warning, pass 'sort=True'.\n",
            "\n",
            "  \"\"\"Entry point for launching an IPython kernel.\n"
          ],
          "name": "stderr"
        }
      ]
    },
    {
      "metadata": {
        "id": "gL0mTPgRSrOb",
        "colab_type": "code",
        "colab": {
          "base_uri": "https://localhost:8080/",
          "height": 34
        },
        "outputId": "ab9790d6-f44c-42f4-9c2a-8459b67d1426"
      },
      "cell_type": "code",
      "source": [
        "## fail to reject null hypothesis when data is combined for men and women.\n",
        "\n",
        "stats.ttest_1samp(ATP_WTA['hand'], .10)"
      ],
      "execution_count": 301,
      "outputs": [
        {
          "output_type": "execute_result",
          "data": {
            "text/plain": [
              "Ttest_1sampResult(statistic=1.7133375797959451, pvalue=0.0868227377176928)"
            ]
          },
          "metadata": {
            "tags": []
          },
          "execution_count": 301
        }
      ]
    },
    {
      "metadata": {
        "id": "1uU8KQ9HGhDu",
        "colab_type": "text"
      },
      "cell_type": "markdown",
      "source": [
        "## Import data for match statistics"
      ]
    },
    {
      "metadata": {
        "id": "0IQYUtrvGqtl",
        "colab_type": "code",
        "colab": {}
      },
      "cell_type": "code",
      "source": [
        "#import 2018 match statistics\n",
        "atpmatches2018 = pd.read_csv('https://raw.githubusercontent.com/JeffSackmann/tennis_atp/master/atp_matches_2018.csv')\n",
        "atpmatches2017 = pd.read_csv('https://raw.githubusercontent.com/JeffSackmann/tennis_atp/master/atp_matches_2017.csv')\n",
        "atpmatches2016 = pd.read_csv('https://raw.githubusercontent.com/JeffSackmann/tennis_atp/master/atp_matches_2016.csv')\n",
        "atpmatches2015 = pd.read_csv('https://raw.githubusercontent.com/JeffSackmann/tennis_atp/master/atp_matches_2015.csv')\n",
        "atpmatches2014 = pd.read_csv('https://raw.githubusercontent.com/JeffSackmann/tennis_atp/master/atp_matches_2014.csv')\n",
        "atpmatches2013 = pd.read_csv('https://raw.githubusercontent.com/JeffSackmann/tennis_atp/master/atp_matches_2013.csv')\n",
        "atpmatches2012 = pd.read_csv('https://raw.githubusercontent.com/JeffSackmann/tennis_atp/master/atp_matches_2012.csv')\n",
        "atpmatches2011 = pd.read_csv('https://raw.githubusercontent.com/JeffSackmann/tennis_atp/master/atp_matches_2011.csv')\n",
        "atpmatches2010 = pd.read_csv('https://raw.githubusercontent.com/JeffSackmann/tennis_atp/master/atp_matches_2010.csv')"
      ],
      "execution_count": 0,
      "outputs": []
    },
    {
      "metadata": {
        "id": "fLVP4QUvKk94",
        "colab_type": "code",
        "colab": {}
      },
      "cell_type": "code",
      "source": [
        "atpmatches2018 = atpmatches2018[atpmatches2018['winner_rank']<=100]\n",
        "atpmatches2018 = atpmatches2018[atpmatches2018['loser_rank']<=100]\n",
        "atpmatches2018 = atpmatches2018.replace({'R':0, 'U':0, 'L':1})"
      ],
      "execution_count": 0,
      "outputs": []
    },
    {
      "metadata": {
        "id": "ZiMWa1cOQvLA",
        "colab_type": "code",
        "colab": {}
      },
      "cell_type": "code",
      "source": [
        "atpmatches2017 = atpmatches2017[atpmatches2017['winner_rank']<=100]\n",
        "atpmatches2017 = atpmatches2017[atpmatches2017['loser_rank']<=100]\n",
        "atpmatches2017 = atpmatches2017.replace({'R':0, 'L':1})"
      ],
      "execution_count": 0,
      "outputs": []
    },
    {
      "metadata": {
        "id": "W0FsRn9EQ_5N",
        "colab_type": "code",
        "colab": {}
      },
      "cell_type": "code",
      "source": [
        "atpmatches2016 = atpmatches2016[atpmatches2016['winner_rank']<=100]\n",
        "atpmatches2016 = atpmatches2016[atpmatches2016['loser_rank']<=100]\n",
        "atpmatches2016 = atpmatches2016.replace({'R':0, 'L':1})"
      ],
      "execution_count": 0,
      "outputs": []
    },
    {
      "metadata": {
        "id": "ceNaa1u1SRkH",
        "colab_type": "code",
        "colab": {}
      },
      "cell_type": "code",
      "source": [
        "atpmatches2015 = atpmatches2015[atpmatches2015['winner_rank']<=100]\n",
        "atpmatches2015 = atpmatches2015[atpmatches2015['loser_rank']<=100]\n",
        "atpmatches2015 = atpmatches2015.replace({'R':0, 'L':1})"
      ],
      "execution_count": 0,
      "outputs": []
    },
    {
      "metadata": {
        "id": "v_RRiozHSWJ0",
        "colab_type": "code",
        "colab": {}
      },
      "cell_type": "code",
      "source": [
        "atpmatches2014 = atpmatches2014[atpmatches2014['winner_rank']<=100]\n",
        "atpmatches2014 = atpmatches2014[atpmatches2014['loser_rank']<=100]\n",
        "atpmatches2014 = atpmatches2014.replace({'R':0, 'L':1})"
      ],
      "execution_count": 0,
      "outputs": []
    },
    {
      "metadata": {
        "id": "mhS4Ba6ZSd1S",
        "colab_type": "code",
        "colab": {}
      },
      "cell_type": "code",
      "source": [
        "atpmatches2013 = atpmatches2013[atpmatches2013['winner_rank']<=100]\n",
        "atpmatches2013 = atpmatches2013[atpmatches2013['loser_rank']<=100]\n",
        "atpmatches2013 = atpmatches2013.replace({'R':0, 'L':1})"
      ],
      "execution_count": 0,
      "outputs": []
    },
    {
      "metadata": {
        "id": "cIbF57VTShsi",
        "colab_type": "code",
        "colab": {}
      },
      "cell_type": "code",
      "source": [
        "atpmatches2012 = atpmatches2012[atpmatches2012['winner_rank']<=100]\n",
        "atpmatches2012 = atpmatches2012[atpmatches2012['loser_rank']<=100]\n",
        "atpmatches2012 = atpmatches2012.replace({'R':0, 'L':1})"
      ],
      "execution_count": 0,
      "outputs": []
    },
    {
      "metadata": {
        "id": "4oE2x3XeSmOU",
        "colab_type": "code",
        "colab": {}
      },
      "cell_type": "code",
      "source": [
        "atpmatches2011 = atpmatches2011[atpmatches2011['winner_rank']<=100]\n",
        "atpmatches2011 = atpmatches2011[atpmatches2011['loser_rank']<=100]\n",
        "atpmatches2011 = atpmatches2011.replace({'R':0, 'L':1})"
      ],
      "execution_count": 0,
      "outputs": []
    },
    {
      "metadata": {
        "id": "4VghuqoBSrQ9",
        "colab_type": "code",
        "colab": {}
      },
      "cell_type": "code",
      "source": [
        "atpmatches2010 = atpmatches2010[atpmatches2010['winner_rank']<=100]\n",
        "atpmatches2010 = atpmatches2010[atpmatches2010['loser_rank']<=100]\n",
        "atpmatches2010 = atpmatches2010.replace({'R':0, 'L':1})"
      ],
      "execution_count": 0,
      "outputs": []
    },
    {
      "metadata": {
        "id": "2m9QIQegWev7",
        "colab_type": "code",
        "colab": {}
      },
      "cell_type": "code",
      "source": [
        "atp_matches = [atpmatches2018, atpmatches2017, atpmatches2016, atpmatches2015, atpmatches2014, atpmatches2013,\n",
        "              atpmatches2012, atpmatches2011, atpmatches2010]\n",
        "ATPmatchesdf = pd.concat(atp_matches)"
      ],
      "execution_count": 0,
      "outputs": []
    },
    {
      "metadata": {
        "id": "uILRc6GlW7JB",
        "colab_type": "code",
        "colab": {}
      },
      "cell_type": "code",
      "source": [
        "## ATP matches dataframe gives all the matches played between the top 100 players.\n",
        "ATPmatchesdf = ATPmatchesdf.replace('U', 0)"
      ],
      "execution_count": 0,
      "outputs": []
    },
    {
      "metadata": {
        "id": "F7ey-vvQXguV",
        "colab_type": "code",
        "colab": {}
      },
      "cell_type": "code",
      "source": [
        "ATPmatchesdf['tourney_date'] = pd.to_datetime(ATPmatchesdf['tourney_date'], format='%Y%m%d')"
      ],
      "execution_count": 0,
      "outputs": []
    },
    {
      "metadata": {
        "id": "u2lymxxQYaZp",
        "colab_type": "code",
        "colab": {}
      },
      "cell_type": "code",
      "source": [
        "## breakdown of percent matches won for righties and lefties of total matches in the year\n",
        "ATPmatchesct = pd.crosstab(ATPmatchesdf['tourney_date'].dt.year, ATPmatchesdf['winner_hand'], normalize='index')"
      ],
      "execution_count": 0,
      "outputs": []
    },
    {
      "metadata": {
        "id": "kh20IdT-v4oe",
        "colab_type": "code",
        "colab": {}
      },
      "cell_type": "code",
      "source": [
        "# import wta 2018 matches\n",
        "wtamatches2018 = pd.read_csv('https://raw.githubusercontent.com/JeffSackmann/tennis_wta/master/wta_matches_2018.csv')\n",
        "wtamatches2017 = pd.read_csv('https://raw.githubusercontent.com/JeffSackmann/tennis_wta/master/wta_matches_2017.csv')\n",
        "wtamatches2016 = pd.read_csv('https://raw.githubusercontent.com/JeffSackmann/tennis_wta/master/wta_matches_2016.csv')\n",
        "wtamatches2015 = pd.read_csv('https://raw.githubusercontent.com/JeffSackmann/tennis_wta/master/wta_matches_2015.csv')\n",
        "wtamatches2014 = pd.read_csv('https://raw.githubusercontent.com/JeffSackmann/tennis_wta/master/wta_matches_2014.csv')\n",
        "wtamatches2013 = pd.read_csv('https://raw.githubusercontent.com/JeffSackmann/tennis_wta/master/wta_matches_2013.csv')\n",
        "wtamatches2012 = pd.read_csv('https://raw.githubusercontent.com/JeffSackmann/tennis_wta/master/wta_matches_2012.csv', encoding='ISO-8859-1')\n",
        "wtamatches2011 = pd.read_csv('https://raw.githubusercontent.com/JeffSackmann/tennis_wta/master/wta_matches_2011.csv')\n",
        "wtamatches2010 = pd.read_csv('https://raw.githubusercontent.com/JeffSackmann/tennis_wta/master/wta_matches_2010.csv')"
      ],
      "execution_count": 0,
      "outputs": []
    },
    {
      "metadata": {
        "id": "KCJj-r_txwMO",
        "colab_type": "code",
        "colab": {}
      },
      "cell_type": "code",
      "source": [
        "wtamatches2010 = wtamatches2010[wtamatches2010['winner_rank']<=100]\n",
        "wtamatches2010 = wtamatches2010[wtamatches2010['loser_rank']<=100]\n",
        "wtamatches2010 = wtamatches2010.replace({'R':0, 'L':1, 'U':0})\n",
        "\n",
        "wtamatches2011 = wtamatches2011[wtamatches2011['winner_rank']<=100]\n",
        "wtamatches2011 = wtamatches2011[wtamatches2011['loser_rank']<=100]\n",
        "wtamatches2011 = wtamatches2011.replace({'R':0, 'L':1, 'U':0})\n",
        "\n",
        "wtamatches2012 = wtamatches2012[wtamatches2012['winner_rank']<=100]\n",
        "wtamatches2012 = wtamatches2012[wtamatches2012['loser_rank']<=100]\n",
        "wtamatches2012 = wtamatches2012.replace({'R':0, 'L':1, 'U':0})\n",
        "\n",
        "wtamatches2013 = wtamatches2013[wtamatches2013['winner_rank']<=100]\n",
        "wtamatches2013 = wtamatches2013[wtamatches2013['loser_rank']<=100]\n",
        "wtamatches2013 = wtamatches2013.replace({'R':0, 'L':1, 'U':0})\n",
        "\n",
        "wtamatches2014 = wtamatches2014[wtamatches2014['winner_rank']<=100]\n",
        "wtamatches2014 = wtamatches2014[wtamatches2014['loser_rank']<=100]\n",
        "wtamatches2014 = wtamatches2014.replace({'R':0, 'L':1, 'U':0})\n",
        "\n",
        "wtamatches2015 = wtamatches2015[wtamatches2015['winner_rank']<=100]\n",
        "wtamatches2015 = wtamatches2015[wtamatches2015['loser_rank']<=100]\n",
        "wtamatches2015 = wtamatches2015.replace({'R':0, 'L':1, 'U':0})\n",
        "\n",
        "wtamatches2016 = wtamatches2016[wtamatches2016['winner_rank']<=100]\n",
        "wtamatches2016 = wtamatches2016[wtamatches2016['loser_rank']<=100]\n",
        "wtamatches2016 = wtamatches2016.replace({'R':0, 'L':1, 'U':0})\n",
        "\n",
        "wtamatches2017 = wtamatches2017[wtamatches2017['winner_rank']<=100]\n",
        "wtamatches2017 = wtamatches2017[wtamatches2017['loser_rank']<=100]\n",
        "wtamatches2017 = wtamatches2017.replace({'R':0, 'L':1, 'U':0})\n",
        "\n",
        "wtamatches2018 = wtamatches2018[wtamatches2018['winner_rank']<=100]\n",
        "wtamatches2018 = wtamatches2018[wtamatches2018['loser_rank']<=100]\n",
        "wtamatches2018 = wtamatches2018.replace({'R':0, 'L':1, 'U':0})"
      ],
      "execution_count": 0,
      "outputs": []
    },
    {
      "metadata": {
        "id": "trsy1zy-yPAL",
        "colab_type": "code",
        "colab": {}
      },
      "cell_type": "code",
      "source": [
        "## WTA matches dataframe shows all matches played between the top 100 girls\n",
        "wta_matches = [wtamatches2018, wtamatches2017, wtamatches2016, wtamatches2015, \n",
        "               wtamatches2014, wtamatches2013, wtamatches2012, wtamatches2011, \n",
        "               wtamatches2010]\n",
        "\n",
        "WTAmatchesdf = pd.concat(wta_matches)\n",
        "WTAmatchesdf['tourney_date'] = pd.to_datetime(WTAmatchesdf['tourney_date'], format='%Y%m%d')"
      ],
      "execution_count": 0,
      "outputs": []
    },
    {
      "metadata": {
        "id": "0e0yeIR71l5W",
        "colab_type": "code",
        "colab": {}
      },
      "cell_type": "code",
      "source": [
        "## WTA matches crosstab gives breakdown of percent matches won between lefties and righties\n",
        "## based on all matches played for the given year\n",
        "WTAmatchesct = pd.crosstab(WTAmatchesdf['tourney_date'].dt.year, WTAmatchesdf['winner_hand'], normalize='index')"
      ],
      "execution_count": 0,
      "outputs": []
    },
    {
      "metadata": {
        "id": "vFQ7cVpcUE89",
        "colab_type": "text"
      },
      "cell_type": "markdown",
      "source": [
        "## visualizations"
      ]
    },
    {
      "metadata": {
        "id": "n5Kh-mVyEUXJ",
        "colab_type": "code",
        "outputId": "c4ef374f-0a53-421f-f28b-544ccba33eb6",
        "colab": {
          "base_uri": "https://localhost:8080/",
          "height": 279
        }
      },
      "cell_type": "code",
      "source": [
        "plt.style.use('bmh')\n",
        "fig, ax = plt.subplots()\n",
        "\n",
        "ind = np.arange(9)\n",
        "\n",
        "width = 0.35\n",
        "p1 = ax.bar(ind, WTAct[1], width, color='#bbff99')\n",
        "p2 = ax.bar(ind+width, WTAmatchesct[1], width, color='#333333')\n",
        "\n",
        "ax.set_xticks(ind + width / 2)\n",
        "ax.set_xticklabels(('2010', '2011', '2012', '2013', '2014', \n",
        "                    '2015', '2016', '2017', '2018'))\n",
        "\n",
        "ax.set_yticklabels(('0','', '', '', '', '10'))\n",
        "\n",
        "ind1 = np.arange(.2)\n",
        "\n",
        "\n",
        "x1 = np.linspace(.1, .1, 10)\n",
        "\n",
        "ax.plot(x1, 'o', color='yellow')\n",
        "\n",
        "ax.set_title('WTA Lefties', color='black')\n",
        "\n",
        "#ax.legend(('Baseline', '# Lefties', '% Matches Won'))\n",
        "\n",
        "ax.text(x=-1.1, y=.12, s='12', \n",
        "        fontsize=10)\n",
        "\n",
        "\n",
        "plt.show()"
      ],
      "execution_count": 212,
      "outputs": [
        {
          "output_type": "display_data",
          "data": {
            "image/png": "[encoded data removed]",
            "text/plain": [
              "<Figure size 432x288 with 1 Axes>"
            ]
          },
          "metadata": {
            "tags": []
          }
        }
      ]
    },
    {
      "metadata": {
        "id": "dHW8Gk0Q7aFC",
        "colab_type": "code",
        "outputId": "31fe7d9e-dc5c-4376-d802-eb89173ea2f8",
        "colab": {
          "base_uri": "https://localhost:8080/",
          "height": 279
        }
      },
      "cell_type": "code",
      "source": [
        "plt.style.use('bmh')\n",
        "fig, ax = plt.subplots()\n",
        "\n",
        "ind = np.arange(9)\n",
        "\n",
        "x = ['2010', '2011', '2012', '2013', '2014', '2015', '2016', '2017', '2018']\n",
        "y = ATPct[1]\n",
        "\n",
        "y2 = ATPmatchesct[1]\n",
        "\n",
        "width = 0.35\n",
        "p2 = ax.bar(x, y, width, color='#bbff99')\n",
        "p3 = ax.bar(ind+width, y2, width, color='#333333')\n",
        "\n",
        "ax.set_xticks(ind + width / 2)\n",
        "ax.set_xticklabels(('2010', '2011', '2012', '2013', '2014', \n",
        "                    '2015', '2016', '2017', '2018'))\n",
        "\n",
        "ax.set_yticklabels(('0','', '', '', '10', '','', ''))\n",
        "\n",
        "\n",
        "ind1 = np.arange(.2)\n",
        "\n",
        "\n",
        "x1 = np.linspace(.1, .1, 10)\n",
        "\n",
        "ax.plot(x1, 'o', color='yellow')\n",
        "\n",
        "ax.set_title('ATP Lefties', color='black')\n",
        "\n",
        "ax.legend(('Baseline', '# Lefties', '% Matches Won'))\n",
        "\n",
        "ax.text(x=-1.1, y=.19, s='20', \n",
        "        fontsize=10)\n",
        "\n",
        "\n",
        "plt.show()"
      ],
      "execution_count": 191,
      "outputs": [
        {
          "output_type": "display_data",
          "data": {
            "image/png": "[encoded data removed]",
            "text/plain": [
              "<Figure size 432x288 with 1 Axes>"
            ]
          },
          "metadata": {
            "tags": []
          }
        }
      ]
    },
    {
      "metadata": {
        "id": "vceIAaJgxeWw",
        "colab_type": "code",
        "colab": {}
      },
      "cell_type": "code",
      "source": [
        "ATPmatches_clay = ATPmatchesdf[ATPmatchesdf['surface']=='Clay']"
      ],
      "execution_count": 0,
      "outputs": []
    },
    {
      "metadata": {
        "id": "lsgNkl9WyNyp",
        "colab_type": "code",
        "colab": {}
      },
      "cell_type": "code",
      "source": [
        "ATP_clay = pd.crosstab(ATPmatches_clay['tourney_date'].dt.year, ATPmatches_clay['winner_hand'], normalize='index')"
      ],
      "execution_count": 0,
      "outputs": []
    },
    {
      "metadata": {
        "id": "KTyQUcDkylFE",
        "colab_type": "code",
        "colab": {}
      },
      "cell_type": "code",
      "source": [
        "ATPmatches_hard = ATPmatchesdf[ATPmatchesdf['surface']=='Hard']\n",
        "ATP_hard = pd.crosstab(ATPmatches_hard['tourney_date'].dt.year, ATPmatches_hard['winner_hand'], normalize='index')"
      ],
      "execution_count": 0,
      "outputs": []
    },
    {
      "metadata": {
        "id": "Tn4QNp7TyrOS",
        "colab_type": "code",
        "colab": {}
      },
      "cell_type": "code",
      "source": [
        "ATPmatches_grass = ATPmatchesdf[ATPmatchesdf['surface']=='Grass']\n",
        "ATP_grass = pd.crosstab(ATPmatches_grass['tourney_date'].dt.year, ATPmatches_grass['winner_hand'], normalize='index')"
      ],
      "execution_count": 0,
      "outputs": []
    },
    {
      "metadata": {
        "id": "vxar9xLSzZL2",
        "colab_type": "code",
        "colab": {
          "base_uri": "https://localhost:8080/",
          "height": 279
        },
        "outputId": "7d52a05d-b2d7-41b0-b765-5c8e88dffc07"
      },
      "cell_type": "code",
      "source": [
        "plt.style.use('bmh')\n",
        "fig, ax = plt.subplots()\n",
        "\n",
        "ind = np.arange(9)\n",
        "\n",
        "x = ['2010', '2011', '2012', '2013', '2014', '2015', '2016', '2017', '2018']\n",
        "y = ATP_hard[1]\n",
        "\n",
        "y2 = ATP_clay[1]\n",
        "\n",
        "y3 = ATP_grass[1]\n",
        "\n",
        "\n",
        "width = 0.35\n",
        "p2 = ax.bar(x, y,width, color='#007acc',align='edge')\n",
        "p3 = ax.bar(ind+width, y2,width+.05, color='#ff661a', align='edge')\n",
        "p4 = ax.bar(ind+width+width,y3, width, color='green')\n",
        "\n",
        "\n",
        "ax.set_xticks(ind + (2*width) / 2)\n",
        "ax.set_xticklabels(('2010', '2011', '2012', '2013', '2014', \n",
        "                    '2015', '2016', '2017', '2018'))\n",
        "\n",
        "ax.set_yticklabels(('0','', '', '', '10', '','', ''))\n",
        "\n",
        "\n",
        "ind1 = np.arange(.2)\n",
        "\n",
        "\n",
        "\n",
        "ax.set_title('ATP Lefties % Matches Won on Each Surface', color='black')\n",
        "\n",
        "ax.legend(('Hard', 'Clay', 'Grass'))\n",
        "\n",
        "ax.text(x=-.9, y=.20, s='20', \n",
        "        fontsize=10)\n",
        "\n",
        "\n",
        "plt.show()"
      ],
      "execution_count": 253,
      "outputs": [
        {
          "output_type": "display_data",
          "data": {
            "image/png": "[encoded data removed]",
            "text/plain": [
              "<Figure size 432x288 with 1 Axes>"
            ]
          },
          "metadata": {
            "tags": []
          }
        }
      ]
    },
    {
      "metadata": {
        "id": "nuAwcKzm37hy",
        "colab_type": "code",
        "colab": {}
      },
      "cell_type": "code",
      "source": [
        "WTAmatches_grass = WTAmatchesdf[WTAmatchesdf['surface']=='Grass']\n",
        "WTA_grass = pd.crosstab(WTAmatches_grass['tourney_date'].dt.year, WTAmatches_grass['winner_hand'], normalize='index')"
      ],
      "execution_count": 0,
      "outputs": []
    },
    {
      "metadata": {
        "id": "1ym0b5ON4IK9",
        "colab_type": "code",
        "colab": {}
      },
      "cell_type": "code",
      "source": [
        "WTAmatches_clay = WTAmatchesdf[WTAmatchesdf['surface']=='Clay']\n",
        "WTA_clay = pd.crosstab(WTAmatches_clay['tourney_date'].dt.year, WTAmatches_clay['winner_hand'], normalize='index')"
      ],
      "execution_count": 0,
      "outputs": []
    },
    {
      "metadata": {
        "id": "MtyTn4ac4heF",
        "colab_type": "code",
        "colab": {}
      },
      "cell_type": "code",
      "source": [
        "WTAmatches_hard = WTAmatchesdf[WTAmatchesdf['surface']=='Hard']\n",
        "WTA_hard = pd.crosstab(WTAmatches_hard['tourney_date'].dt.year, WTAmatches_hard['winner_hand'], normalize='index')"
      ],
      "execution_count": 0,
      "outputs": []
    },
    {
      "metadata": {
        "id": "_HrJRjRt4q2n",
        "colab_type": "code",
        "colab": {
          "base_uri": "https://localhost:8080/",
          "height": 279
        },
        "outputId": "8668dffc-c3d2-4413-f3e6-726d63bab05d"
      },
      "cell_type": "code",
      "source": [
        "plt.style.use('bmh')\n",
        "fig, ax = plt.subplots()\n",
        "\n",
        "ind = np.arange(9)\n",
        "\n",
        "x = ['2010', '2011', '2012', '2013', '2014', '2015', '2016', '2017', '2018']\n",
        "y = WTA_hard[1]\n",
        "\n",
        "y2 = WTA_clay[1]\n",
        "\n",
        "y3 = WTA_grass[1]\n",
        "\n",
        "\n",
        "width = 0.35\n",
        "p2 = ax.bar(x, y,width, color='#007acc',align='edge')\n",
        "p3 = ax.bar(ind+width, y2,width+.05, color='#ff661a', align='edge')\n",
        "p4 = ax.bar(ind+width+width,y3, width, color='green')\n",
        "\n",
        "\n",
        "ax.set_xticks(ind + (2*width) / 2)\n",
        "ax.set_xticklabels(('2010', '2011', '2012', '2013', '2014', \n",
        "                    '2015', '2016', '2017', '2018'))\n",
        "\n",
        "ax.set_yticklabels(('0','', '', '', '10', '','', ''))\n",
        "\n",
        "\n",
        "ind1 = np.arange(.2)\n",
        "\n",
        "\n",
        "\n",
        "ax.set_title('WTA Lefties % Matches Won on Each Surface', color='black')\n",
        "\n",
        "ax.legend(('Hard', 'Clay', 'Grass'))\n",
        "\n",
        "ax.text(x=-.9, y=.20, s='20', \n",
        "        fontsize=10)\n",
        "\n",
        "\n",
        "plt.show()"
      ],
      "execution_count": 261,
      "outputs": [
        {
          "output_type": "display_data",
          "data": {
            "image/png": "[encoded data removed]",
            "text/plain": [
              "<Figure size 432x288 with 1 Axes>"
            ]
          },
          "metadata": {
            "tags": []
          }
        }
      ]
    }
  ]
}