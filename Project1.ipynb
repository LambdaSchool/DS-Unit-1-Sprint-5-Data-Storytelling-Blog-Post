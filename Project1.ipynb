{
  "nbformat": 4,
  "nbformat_minor": 0,
  "metadata": {
    "colab": {
      "name": "Project1",
      "version": "0.3.2",
      "provenance": [],
      "include_colab_link": true
    },
    "kernelspec": {
      "name": "python3",
      "display_name": "Python 3"
    }
  },
  "cells": [
    {
      "cell_type": "markdown",
      "metadata": {
        "id": "view-in-github",
        "colab_type": "text"
      },
      "source": [
        "<a href=\"https://colab.research.google.com/github/NicoMontoya/DS-Unit-1-Sprint-5-Data-Storytelling-Blog-Post/blob/master/Project1.ipynb\" target=\"_parent\"><img src=\"https://colab.research.google.com/assets/colab-badge.svg\" alt=\"Open In Colab\"/></a>"
      ]
    },
    {
      "metadata": {
        "id": "SRKztu-LKFy7",
        "colab_type": "text"
      },
      "cell_type": "markdown",
      "source": [
        "Have explored the data a little bit.  Now I will form a strategy!\n",
        "\n",
        "first: \n",
        "- analyze top 100.  Breakdown of lefties vs righties in the latest ranking available.\n",
        "- determine if difference from general population is statistically significant.\n",
        "- compare to years past\n",
        "\n",
        "second:\n",
        "- analyze matches within each year of top 100 vs top 100 players.\n",
        "- determine if lefties win more or less\n",
        "\n",
        "Third/ bonus:\n",
        "- analyze matches based on surface.\n",
        "- determine if lefties have any advantage on a particular surface\n",
        "\n",
        "Fourth\n",
        "- do the exact same analysis for women"
      ]
    },
    {
      "metadata": {
        "id": "7AHcgpdeKG-w",
        "colab_type": "code",
        "colab": {}
      },
      "cell_type": "code",
      "source": [
        "## performa classic imports\n",
        "import pandas as pd\n",
        "import matplotlib.pyplot as plt\n",
        "import numpy as np\n",
        "import datetime as dt\n",
        "from scipy import stats"
      ],
      "execution_count": 0,
      "outputs": []
    },
    {
      "metadata": {
        "id": "IL2sOJKPP8I0",
        "colab_type": "code",
        "colab": {}
      },
      "cell_type": "code",
      "source": [
        "## import player data\n",
        "players_columns = ['player_id', 'first_name', 'last_name', 'hand', 'birth_date', 'country_code']\n",
        "players = pd.read_csv('https://raw.githubusercontent.com/JeffSackmann/tennis_atp/master/atp_players.csv', names=players_columns, encoding = 'ISO-8859-1')"
      ],
      "execution_count": 0,
      "outputs": []
    },
    {
      "metadata": {
        "id": "ONq8MjhWKR7G",
        "colab_type": "code",
        "colab": {}
      },
      "cell_type": "code",
      "source": [
        "## import ranking data for 2018\n",
        "rankings_columns = ['ranking_date', 'ranking', 'player_id', 'ranking_points']\n",
        "current_ranking = pd.read_csv('https://raw.githubusercontent.com/JeffSackmann/tennis_atp/master/atp_rankings_current.csv', names=rankings_columns)"
      ],
      "execution_count": 0,
      "outputs": []
    },
    {
      "metadata": {
        "id": "41inxQmhQ7dg",
        "colab_type": "code",
        "colab": {}
      },
      "cell_type": "code",
      "source": [
        "## merge players data with current rankings data\n",
        "current_ranking = pd.merge(players, current_ranking, on='player_id')"
      ],
      "execution_count": 0,
      "outputs": []
    },
    {
      "metadata": {
        "id": "CFO6dGkGK2Rr",
        "colab_type": "code",
        "colab": {}
      },
      "cell_type": "code",
      "source": [
        "current_ranking['ranking_date'] = pd.to_datetime(current_ranking['ranking_date'], format='%Y%m%d')"
      ],
      "execution_count": 0,
      "outputs": []
    },
    {
      "metadata": {
        "id": "Y-bCJAO4LeKs",
        "colab_type": "code",
        "colab": {}
      },
      "cell_type": "code",
      "source": [
        "year_end_ranking2018 = current_ranking[current_ranking['ranking_date'] == '2018-09-24'].sort_values(by='ranking')"
      ],
      "execution_count": 0,
      "outputs": []
    },
    {
      "metadata": {
        "id": "zGdvBRp1Ls2N",
        "colab_type": "code",
        "colab": {}
      },
      "cell_type": "code",
      "source": [
        "year_end_ranking2018 = year_end_ranking2018.head(100)"
      ],
      "execution_count": 0,
      "outputs": []
    },
    {
      "metadata": {
        "id": "B6nYI32fUGK_",
        "colab_type": "code",
        "colab": {}
      },
      "cell_type": "code",
      "source": [
        "year_end_ranking2018 = year_end_ranking2018.replace({'R':0, 'L':1, 'U':0})"
      ],
      "execution_count": 0,
      "outputs": []
    },
    {
      "metadata": {
        "id": "gPSh6G8CUBC9",
        "colab_type": "code",
        "colab": {
          "base_uri": "https://localhost:8080/",
          "height": 204
        },
        "outputId": "b552cd4d-825d-4cfe-c640-1b695acd2256"
      },
      "cell_type": "code",
      "source": [
        "year_end_ranking2018.head()"
      ],
      "execution_count": 616,
      "outputs": [
        {
          "output_type": "execute_result",
          "data": {
            "text/html": [
              "<div>\n",
              "<style scoped>\n",
              "    .dataframe tbody tr th:only-of-type {\n",
              "        vertical-align: middle;\n",
              "    }\n",
              "\n",
              "    .dataframe tbody tr th {\n",
              "        vertical-align: top;\n",
              "    }\n",
              "\n",
              "    .dataframe thead th {\n",
              "        text-align: right;\n",
              "    }\n",
              "</style>\n",
              "<table border=\"1\" class=\"dataframe\">\n",
              "  <thead>\n",
              "    <tr style=\"text-align: right;\">\n",
              "      <th></th>\n",
              "      <th>player_id</th>\n",
              "      <th>first_name</th>\n",
              "      <th>last_name</th>\n",
              "      <th>hand</th>\n",
              "      <th>birth_date</th>\n",
              "      <th>country_code</th>\n",
              "      <th>ranking_date</th>\n",
              "      <th>ranking</th>\n",
              "      <th>ranking_points</th>\n",
              "    </tr>\n",
              "  </thead>\n",
              "  <tbody>\n",
              "    <tr>\n",
              "      <th>3735</th>\n",
              "      <td>104745</td>\n",
              "      <td>Rafael</td>\n",
              "      <td>Nadal</td>\n",
              "      <td>1</td>\n",
              "      <td>19860603.0</td>\n",
              "      <td>ESP</td>\n",
              "      <td>2018-09-24</td>\n",
              "      <td>1</td>\n",
              "      <td>8760</td>\n",
              "    </tr>\n",
              "    <tr>\n",
              "      <th>617</th>\n",
              "      <td>103819</td>\n",
              "      <td>Roger</td>\n",
              "      <td>Federer</td>\n",
              "      <td>0</td>\n",
              "      <td>19810808.0</td>\n",
              "      <td>SUI</td>\n",
              "      <td>2018-09-24</td>\n",
              "      <td>2</td>\n",
              "      <td>6900</td>\n",
              "    </tr>\n",
              "    <tr>\n",
              "      <th>4752</th>\n",
              "      <td>104925</td>\n",
              "      <td>Novak</td>\n",
              "      <td>Djokovic</td>\n",
              "      <td>0</td>\n",
              "      <td>19870522.0</td>\n",
              "      <td>SRB</td>\n",
              "      <td>2018-09-24</td>\n",
              "      <td>3</td>\n",
              "      <td>6445</td>\n",
              "    </tr>\n",
              "    <tr>\n",
              "      <th>7447</th>\n",
              "      <td>105223</td>\n",
              "      <td>Juan Martin</td>\n",
              "      <td>Del Potro</td>\n",
              "      <td>0</td>\n",
              "      <td>19880923.0</td>\n",
              "      <td>ARG</td>\n",
              "      <td>2018-09-24</td>\n",
              "      <td>4</td>\n",
              "      <td>5980</td>\n",
              "    </tr>\n",
              "    <tr>\n",
              "      <th>32</th>\n",
              "      <td>100644</td>\n",
              "      <td>Alexander</td>\n",
              "      <td>Zverev</td>\n",
              "      <td>0</td>\n",
              "      <td>19970420.0</td>\n",
              "      <td>GER</td>\n",
              "      <td>2018-09-24</td>\n",
              "      <td>5</td>\n",
              "      <td>4890</td>\n",
              "    </tr>\n",
              "  </tbody>\n",
              "</table>\n",
              "</div>"
            ],
            "text/plain": [
              "      player_id   first_name  last_name  hand  birth_date country_code  \\\n",
              "3735     104745       Rafael      Nadal     1  19860603.0          ESP   \n",
              "617      103819        Roger    Federer     0  19810808.0          SUI   \n",
              "4752     104925        Novak   Djokovic     0  19870522.0          SRB   \n",
              "7447     105223  Juan Martin  Del Potro     0  19880923.0          ARG   \n",
              "32       100644    Alexander     Zverev     0  19970420.0          GER   \n",
              "\n",
              "     ranking_date  ranking  ranking_points  \n",
              "3735   2018-09-24        1            8760  \n",
              "617    2018-09-24        2            6900  \n",
              "4752   2018-09-24        3            6445  \n",
              "7447   2018-09-24        4            5980  \n",
              "32     2018-09-24        5            4890  "
            ]
          },
          "metadata": {
            "tags": []
          },
          "execution_count": 616
        }
      ]
    },
    {
      "metadata": {
        "id": "OcSWiwA0MGC3",
        "colab_type": "code",
        "colab": {
          "base_uri": "https://localhost:8080/",
          "height": 91
        },
        "outputId": "bc8ea2c0-dd4b-498a-b61f-6c056ab0909e"
      },
      "cell_type": "code",
      "source": [
        "# import ranking data for 2010's\n",
        "ranking2010s = pd.read_csv('https://raw.githubusercontent.com/JeffSackmann/tennis_atp/master/atp_rankings_10s.csv', names=rankings_columns)"
      ],
      "execution_count": 617,
      "outputs": [
        {
          "output_type": "stream",
          "text": [
            "/usr/local/lib/python3.6/dist-packages/IPython/core/interactiveshell.py:2718: DtypeWarning: Columns (3) have mixed types. Specify dtype option on import or set low_memory=False.\n",
            "  interactivity=interactivity, compiler=compiler, result=result)\n"
          ],
          "name": "stderr"
        }
      ]
    },
    {
      "metadata": {
        "id": "Ju_GBkouMpOQ",
        "colab_type": "code",
        "colab": {}
      },
      "cell_type": "code",
      "source": [
        "ranking2010s['ranking_date'] = pd.to_datetime(ranking2010s['ranking_date'], format='%Y%m%d')"
      ],
      "execution_count": 0,
      "outputs": []
    },
    {
      "metadata": {
        "id": "Of7K0w4VRpsk",
        "colab_type": "code",
        "colab": {}
      },
      "cell_type": "code",
      "source": [
        "## merge ranking2010s with players data\n",
        "ranking2010s = pd.merge(players, ranking2010s, on='player_id')\n",
        "ranking2010s = ranking2010s.replace({'R':0, 'L':1})"
      ],
      "execution_count": 0,
      "outputs": []
    },
    {
      "metadata": {
        "id": "Qs6y2rfDNOCS",
        "colab_type": "code",
        "colab": {}
      },
      "cell_type": "code",
      "source": [
        "year_end_ranking2017 = ranking2010s[ranking2010s['ranking_date'] == '2017-12-25'].sort_values(by='ranking')"
      ],
      "execution_count": 0,
      "outputs": []
    },
    {
      "metadata": {
        "id": "WZ6DlTmdNgv9",
        "colab_type": "code",
        "colab": {}
      },
      "cell_type": "code",
      "source": [
        "year_end_ranking2017 = year_end_ranking2017.head(100)"
      ],
      "execution_count": 0,
      "outputs": []
    },
    {
      "metadata": {
        "id": "HQ4OcnZtNsSo",
        "colab_type": "code",
        "colab": {}
      },
      "cell_type": "code",
      "source": [
        "year_end_ranking2016 = ranking2010s[ranking2010s['ranking_date'] == '2016-12-26'].sort_values(by='ranking')"
      ],
      "execution_count": 0,
      "outputs": []
    },
    {
      "metadata": {
        "id": "WfIk7D7AN1-O",
        "colab_type": "code",
        "colab": {}
      },
      "cell_type": "code",
      "source": [
        "year_end_ranking2016 = year_end_ranking2016.head(100)"
      ],
      "execution_count": 0,
      "outputs": []
    },
    {
      "metadata": {
        "id": "A0WiD9l5OpCk",
        "colab_type": "code",
        "colab": {}
      },
      "cell_type": "code",
      "source": [
        "year_end_ranking2015 = ranking2010s[ranking2010s['ranking_date'] == '2015-12-28'].sort_values(by='ranking')"
      ],
      "execution_count": 0,
      "outputs": []
    },
    {
      "metadata": {
        "id": "imK6fb9gOxwM",
        "colab_type": "code",
        "colab": {}
      },
      "cell_type": "code",
      "source": [
        "year_end_ranking2015 = year_end_ranking2015.head(100)"
      ],
      "execution_count": 0,
      "outputs": []
    },
    {
      "metadata": {
        "id": "R2i9EibcO7wg",
        "colab_type": "code",
        "colab": {}
      },
      "cell_type": "code",
      "source": [
        "year_end_ranking2014 = ranking2010s[ranking2010s['ranking_date'] == '2014-12-29'].sort_values(by='ranking')\n",
        "year_end_ranking2014 = year_end_ranking2014.head(100)"
      ],
      "execution_count": 0,
      "outputs": []
    },
    {
      "metadata": {
        "id": "MCJwAUYVPPZM",
        "colab_type": "code",
        "colab": {}
      },
      "cell_type": "code",
      "source": [
        "year_end_ranking2013 = ranking2010s[ranking2010s['ranking_date'] == '2013-12-30'].sort_values(by='ranking')\n",
        "year_end_ranking2013 = year_end_ranking2013.head(100)"
      ],
      "execution_count": 0,
      "outputs": []
    },
    {
      "metadata": {
        "id": "xxV3pOKZPYp3",
        "colab_type": "code",
        "colab": {}
      },
      "cell_type": "code",
      "source": [
        "year_end_ranking2012 = ranking2010s[ranking2010s['ranking_date'] == '2012-12-31'].sort_values(by='ranking')\n",
        "year_end_ranking2012 = year_end_ranking2012.head(100)"
      ],
      "execution_count": 0,
      "outputs": []
    },
    {
      "metadata": {
        "id": "ufiSTg9MPiDW",
        "colab_type": "code",
        "colab": {}
      },
      "cell_type": "code",
      "source": [
        "year_end_ranking2011 = ranking2010s[ranking2010s['ranking_date'] == '2011-12-26'].sort_values(by='ranking')\n",
        "year_end_ranking2011 = year_end_ranking2011.head(100)"
      ],
      "execution_count": 0,
      "outputs": []
    },
    {
      "metadata": {
        "id": "-HohePdRPw-R",
        "colab_type": "code",
        "colab": {}
      },
      "cell_type": "code",
      "source": [
        "year_end_ranking2010 = ranking2010s[ranking2010s['ranking_date'] == '2010-12-27'].sort_values(by='ranking')\n",
        "year_end_ranking2010 = year_end_ranking2010.head(100)"
      ],
      "execution_count": 0,
      "outputs": []
    },
    {
      "metadata": {
        "id": "AEbqb_P6baPZ",
        "colab_type": "text"
      },
      "cell_type": "markdown",
      "source": [
        "Let's analyze the top 100 rankings for the last 9 years for men"
      ]
    },
    {
      "metadata": {
        "id": "5Ko8NkjPJT2l",
        "colab_type": "code",
        "colab": {}
      },
      "cell_type": "code",
      "source": [
        "atpyear_end_rankings = [year_end_ranking2010, year_end_ranking2011, year_end_ranking2012,\n",
        "                       year_end_ranking2013, year_end_ranking2014, year_end_ranking2015,\n",
        "                       year_end_ranking2016, year_end_ranking2017, year_end_ranking2018]\n",
        "atpdf = pd.concat(atpyear_end_rankings)"
      ],
      "execution_count": 0,
      "outputs": []
    },
    {
      "metadata": {
        "id": "4niWvwDeJzP1",
        "colab_type": "code",
        "colab": {}
      },
      "cell_type": "code",
      "source": [
        "ATPct = pd.crosstab(atpdf['ranking_date'], atpdf['hand'], normalize='index')"
      ],
      "execution_count": 0,
      "outputs": []
    },
    {
      "metadata": {
        "id": "irSOi-LWcd2S",
        "colab_type": "text"
      },
      "cell_type": "markdown",
      "source": [
        "Let's bring in the women"
      ]
    },
    {
      "metadata": {
        "id": "le9bP8tycbw-",
        "colab_type": "code",
        "colab": {}
      },
      "cell_type": "code",
      "source": [
        "#import women players info\n",
        "wtaplayers = pd.read_csv('https://raw.githubusercontent.com/JeffSackmann/tennis_wta/master/wta_players.csv', names=players_columns, encoding='ISO-8859-1')\n"
      ],
      "execution_count": 0,
      "outputs": []
    },
    {
      "metadata": {
        "id": "KzUawAwNdGi0",
        "colab_type": "code",
        "colab": {}
      },
      "cell_type": "code",
      "source": [
        "#import recent rankings\n",
        "wtarankings_columns = ['ranking_date', 'ranking', 'player_id', 'ranking_points', 'tours']\n",
        "wtacurrent_ranking = pd.read_csv('https://raw.githubusercontent.com/JeffSackmann/tennis_wta/master/wta_rankings_current.csv', names=wtarankings_columns)"
      ],
      "execution_count": 0,
      "outputs": []
    },
    {
      "metadata": {
        "id": "EQ4w9DE-2kqy",
        "colab_type": "code",
        "colab": {}
      },
      "cell_type": "code",
      "source": [
        "wtacurrent_ranking['ranking_date'] = pd.to_datetime(wtacurrent_ranking['ranking_date'], format='%Y%m%d')"
      ],
      "execution_count": 0,
      "outputs": []
    },
    {
      "metadata": {
        "id": "H1x6Ev7kfQWx",
        "colab_type": "code",
        "colab": {}
      },
      "cell_type": "code",
      "source": [
        "wtacurrent_ranking = pd.merge(wtaplayers, wtacurrent_ranking, on='player_id')\n",
        "wtacurrent_ranking = wtacurrent_ranking.replace({'R':0, 'U':0, 'L':1})"
      ],
      "execution_count": 0,
      "outputs": []
    },
    {
      "metadata": {
        "id": "dD5ijBln26QQ",
        "colab_type": "code",
        "colab": {}
      },
      "cell_type": "code",
      "source": [
        "wtayear_end_ranking2018 = wtacurrent_ranking[wtacurrent_ranking['ranking_date'] == '2018-12-24'].sort_values(by='ranking').head(100)"
      ],
      "execution_count": 0,
      "outputs": []
    },
    {
      "metadata": {
        "id": "7PrtMf483gQq",
        "colab_type": "code",
        "colab": {}
      },
      "cell_type": "code",
      "source": [
        "# import rankings for 2010s womens\n",
        "wtaranking2010s = pd.read_csv('https://raw.githubusercontent.com/JeffSackmann/tennis_wta/master/wta_rankings_10s.csv', names = wtarankings_columns)"
      ],
      "execution_count": 0,
      "outputs": []
    },
    {
      "metadata": {
        "id": "1Z40toB55EoO",
        "colab_type": "code",
        "colab": {}
      },
      "cell_type": "code",
      "source": [
        "wtaranking2010s = pd.merge(wtaplayers, wtaranking2010s, on='player_id')"
      ],
      "execution_count": 0,
      "outputs": []
    },
    {
      "metadata": {
        "id": "Kol960nk5U4W",
        "colab_type": "code",
        "colab": {}
      },
      "cell_type": "code",
      "source": [
        "wtaranking2010s['ranking_date'] = pd.to_datetime(wtaranking2010s['ranking_date'], format='%Y%m%d')"
      ],
      "execution_count": 0,
      "outputs": []
    },
    {
      "metadata": {
        "id": "pBsOBcOkDBac",
        "colab_type": "code",
        "colab": {}
      },
      "cell_type": "code",
      "source": [
        "wtaranking2010s = wtaranking2010s.replace({'R':0, 'L':1, 'U':0})"
      ],
      "execution_count": 0,
      "outputs": []
    },
    {
      "metadata": {
        "id": "A01moBoM59P2",
        "colab_type": "code",
        "colab": {}
      },
      "cell_type": "code",
      "source": [
        "wtayear_end_ranking2017 = wtaranking2010s[wtaranking2010s['ranking_date']=='2017-11-20'].sort_values(by='ranking').head(100)"
      ],
      "execution_count": 0,
      "outputs": []
    },
    {
      "metadata": {
        "id": "UYCu77Hw6cKl",
        "colab_type": "code",
        "colab": {}
      },
      "cell_type": "code",
      "source": [
        "wtayear_end_ranking2016 = wtaranking2010s[wtaranking2010s['ranking_date']=='2016-12-26'].sort_values(by='ranking').head(100)"
      ],
      "execution_count": 0,
      "outputs": []
    },
    {
      "metadata": {
        "id": "_32LrdLe6ouR",
        "colab_type": "code",
        "colab": {}
      },
      "cell_type": "code",
      "source": [
        "wtayear_end_ranking2015 = wtaranking2010s[wtaranking2010s['ranking_date']=='2015-12-28'].sort_values(by='ranking').head(100)"
      ],
      "execution_count": 0,
      "outputs": []
    },
    {
      "metadata": {
        "id": "wc60oZgH6w6q",
        "colab_type": "code",
        "colab": {}
      },
      "cell_type": "code",
      "source": [
        "wtayear_end_ranking2014 = wtaranking2010s[wtaranking2010s['ranking_date']=='2014-12-29'].sort_values(by='ranking').head(100)"
      ],
      "execution_count": 0,
      "outputs": []
    },
    {
      "metadata": {
        "id": "-ecZot2O69z7",
        "colab_type": "code",
        "colab": {}
      },
      "cell_type": "code",
      "source": [
        "wtayear_end_ranking2013 = wtaranking2010s[wtaranking2010s['ranking_date']=='2013-12-30'].sort_values(by='ranking').head(100)"
      ],
      "execution_count": 0,
      "outputs": []
    },
    {
      "metadata": {
        "id": "z7swnwUm7FFG",
        "colab_type": "code",
        "colab": {}
      },
      "cell_type": "code",
      "source": [
        "wtayear_end_ranking2012 = wtaranking2010s[wtaranking2010s['ranking_date']=='2012-12-31'].sort_values(by='ranking').head(100)"
      ],
      "execution_count": 0,
      "outputs": []
    },
    {
      "metadata": {
        "id": "UN-IclQt7Nnx",
        "colab_type": "code",
        "colab": {}
      },
      "cell_type": "code",
      "source": [
        "wtayear_end_ranking2011 = wtaranking2010s[wtaranking2010s['ranking_date']=='2011-12-26'].sort_values(by='ranking').head(100)"
      ],
      "execution_count": 0,
      "outputs": []
    },
    {
      "metadata": {
        "id": "Xzen3TZh71Cw",
        "colab_type": "code",
        "colab": {}
      },
      "cell_type": "code",
      "source": [
        "wtayear_end_ranking2010 = wtaranking2010s[wtaranking2010s['ranking_date']=='2010-12-27'].sort_values(by='ranking').head(100)"
      ],
      "execution_count": 0,
      "outputs": []
    },
    {
      "metadata": {
        "id": "LGg7HXrQFPzf",
        "colab_type": "code",
        "colab": {}
      },
      "cell_type": "code",
      "source": [
        "wtayear_end_rankings = [wtayear_end_ranking2010,wtayear_end_ranking2011, wtayear_end_ranking2012,\n",
        "                    wtayear_end_ranking2013, wtayear_end_ranking2014, wtayear_end_ranking2015, wtayear_end_ranking2016,\n",
        "                    wtayear_end_ranking2017, wtayear_end_ranking2018]\n",
        "wtadf = pd.concat(wtayear_end_rankings)"
      ],
      "execution_count": 0,
      "outputs": []
    },
    {
      "metadata": {
        "id": "M_hD06SxH0LG",
        "colab_type": "code",
        "colab": {}
      },
      "cell_type": "code",
      "source": [
        "WTAct = pd.crosstab(wtadf['ranking_date'], wtadf['hand'], normalize='index')"
      ],
      "execution_count": 0,
      "outputs": []
    },
    {
      "metadata": {
        "id": "HkFJwITrKE41",
        "colab_type": "code",
        "colab": {
          "base_uri": "https://localhost:8080/",
          "height": 359
        },
        "outputId": "d2512836-2954-4b84-d8f4-24c0532a967a"
      },
      "cell_type": "code",
      "source": [
        "ATPct"
      ],
      "execution_count": 693,
      "outputs": [
        {
          "output_type": "execute_result",
          "data": {
            "text/html": [
              "<div>\n",
              "<style scoped>\n",
              "    .dataframe tbody tr th:only-of-type {\n",
              "        vertical-align: middle;\n",
              "    }\n",
              "\n",
              "    .dataframe tbody tr th {\n",
              "        vertical-align: top;\n",
              "    }\n",
              "\n",
              "    .dataframe thead th {\n",
              "        text-align: right;\n",
              "    }\n",
              "</style>\n",
              "<table border=\"1\" class=\"dataframe\">\n",
              "  <thead>\n",
              "    <tr style=\"text-align: right;\">\n",
              "      <th>hand</th>\n",
              "      <th>0</th>\n",
              "      <th>1</th>\n",
              "    </tr>\n",
              "    <tr>\n",
              "      <th>ranking_date</th>\n",
              "      <th></th>\n",
              "      <th></th>\n",
              "    </tr>\n",
              "  </thead>\n",
              "  <tbody>\n",
              "    <tr>\n",
              "      <th>2010-12-27</th>\n",
              "      <td>0.88</td>\n",
              "      <td>0.12</td>\n",
              "    </tr>\n",
              "    <tr>\n",
              "      <th>2011-12-26</th>\n",
              "      <td>0.84</td>\n",
              "      <td>0.16</td>\n",
              "    </tr>\n",
              "    <tr>\n",
              "      <th>2012-12-31</th>\n",
              "      <td>0.87</td>\n",
              "      <td>0.13</td>\n",
              "    </tr>\n",
              "    <tr>\n",
              "      <th>2013-12-30</th>\n",
              "      <td>0.86</td>\n",
              "      <td>0.14</td>\n",
              "    </tr>\n",
              "    <tr>\n",
              "      <th>2014-12-29</th>\n",
              "      <td>0.86</td>\n",
              "      <td>0.14</td>\n",
              "    </tr>\n",
              "    <tr>\n",
              "      <th>2015-12-28</th>\n",
              "      <td>0.87</td>\n",
              "      <td>0.13</td>\n",
              "    </tr>\n",
              "    <tr>\n",
              "      <th>2016-12-26</th>\n",
              "      <td>0.82</td>\n",
              "      <td>0.18</td>\n",
              "    </tr>\n",
              "    <tr>\n",
              "      <th>2017-12-25</th>\n",
              "      <td>0.84</td>\n",
              "      <td>0.16</td>\n",
              "    </tr>\n",
              "    <tr>\n",
              "      <th>2018-09-24</th>\n",
              "      <td>0.86</td>\n",
              "      <td>0.14</td>\n",
              "    </tr>\n",
              "  </tbody>\n",
              "</table>\n",
              "</div>"
            ],
            "text/plain": [
              "hand             0     1\n",
              "ranking_date            \n",
              "2010-12-27    0.88  0.12\n",
              "2011-12-26    0.84  0.16\n",
              "2012-12-31    0.87  0.13\n",
              "2013-12-30    0.86  0.14\n",
              "2014-12-29    0.86  0.14\n",
              "2015-12-28    0.87  0.13\n",
              "2016-12-26    0.82  0.18\n",
              "2017-12-25    0.84  0.16\n",
              "2018-09-24    0.86  0.14"
            ]
          },
          "metadata": {
            "tags": []
          },
          "execution_count": 693
        }
      ]
    },
    {
      "metadata": {
        "id": "-LYbNamEKGht",
        "colab_type": "code",
        "colab": {
          "base_uri": "https://localhost:8080/",
          "height": 359
        },
        "outputId": "9a76664f-665c-466e-a901-707f2c608080"
      },
      "cell_type": "code",
      "source": [
        "WTAct"
      ],
      "execution_count": 694,
      "outputs": [
        {
          "output_type": "execute_result",
          "data": {
            "text/html": [
              "<div>\n",
              "<style scoped>\n",
              "    .dataframe tbody tr th:only-of-type {\n",
              "        vertical-align: middle;\n",
              "    }\n",
              "\n",
              "    .dataframe tbody tr th {\n",
              "        vertical-align: top;\n",
              "    }\n",
              "\n",
              "    .dataframe thead th {\n",
              "        text-align: right;\n",
              "    }\n",
              "</style>\n",
              "<table border=\"1\" class=\"dataframe\">\n",
              "  <thead>\n",
              "    <tr style=\"text-align: right;\">\n",
              "      <th>hand</th>\n",
              "      <th>0.0</th>\n",
              "      <th>1.0</th>\n",
              "    </tr>\n",
              "    <tr>\n",
              "      <th>ranking_date</th>\n",
              "      <th></th>\n",
              "      <th></th>\n",
              "    </tr>\n",
              "  </thead>\n",
              "  <tbody>\n",
              "    <tr>\n",
              "      <th>2010-12-27</th>\n",
              "      <td>0.90</td>\n",
              "      <td>0.10</td>\n",
              "    </tr>\n",
              "    <tr>\n",
              "      <th>2011-12-26</th>\n",
              "      <td>0.92</td>\n",
              "      <td>0.08</td>\n",
              "    </tr>\n",
              "    <tr>\n",
              "      <th>2012-12-31</th>\n",
              "      <td>0.90</td>\n",
              "      <td>0.10</td>\n",
              "    </tr>\n",
              "    <tr>\n",
              "      <th>2013-12-30</th>\n",
              "      <td>0.93</td>\n",
              "      <td>0.07</td>\n",
              "    </tr>\n",
              "    <tr>\n",
              "      <th>2014-12-29</th>\n",
              "      <td>0.94</td>\n",
              "      <td>0.06</td>\n",
              "    </tr>\n",
              "    <tr>\n",
              "      <th>2015-12-28</th>\n",
              "      <td>0.94</td>\n",
              "      <td>0.06</td>\n",
              "    </tr>\n",
              "    <tr>\n",
              "      <th>2016-12-26</th>\n",
              "      <td>0.92</td>\n",
              "      <td>0.08</td>\n",
              "    </tr>\n",
              "    <tr>\n",
              "      <th>2017-11-20</th>\n",
              "      <td>0.90</td>\n",
              "      <td>0.10</td>\n",
              "    </tr>\n",
              "    <tr>\n",
              "      <th>2018-12-24</th>\n",
              "      <td>0.92</td>\n",
              "      <td>0.08</td>\n",
              "    </tr>\n",
              "  </tbody>\n",
              "</table>\n",
              "</div>"
            ],
            "text/plain": [
              "hand           0.0   1.0\n",
              "ranking_date            \n",
              "2010-12-27    0.90  0.10\n",
              "2011-12-26    0.92  0.08\n",
              "2012-12-31    0.90  0.10\n",
              "2013-12-30    0.93  0.07\n",
              "2014-12-29    0.94  0.06\n",
              "2015-12-28    0.94  0.06\n",
              "2016-12-26    0.92  0.08\n",
              "2017-11-20    0.90  0.10\n",
              "2018-12-24    0.92  0.08"
            ]
          },
          "metadata": {
            "tags": []
          },
          "execution_count": 694
        }
      ]
    }
  ]
}