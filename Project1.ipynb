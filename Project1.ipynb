{
  "nbformat": 4,
  "nbformat_minor": 0,
  "metadata": {
    "colab": {
      "name": "Project1",
      "version": "0.3.2",
      "provenance": [],
      "include_colab_link": true
    },
    "kernelspec": {
      "name": "python3",
      "display_name": "Python 3"
    }
  },
  "cells": [
    {
      "cell_type": "markdown",
      "metadata": {
        "id": "view-in-github",
        "colab_type": "text"
      },
      "source": [
        "<a href=\"https://colab.research.google.com/github/NicoMontoya/DS-Unit-1-Sprint-5-Data-Storytelling-Blog-Post/blob/master/Project1.ipynb\" target=\"_parent\"><img src=\"https://colab.research.google.com/assets/colab-badge.svg\" alt=\"Open In Colab\"/></a>"
      ]
    },
    {
      "metadata": {
        "id": "awshFenuLDqp",
        "colab_type": "text"
      },
      "cell_type": "markdown",
      "source": [
        "## Lefty vs Righty in tennis. Who wins?\n",
        "\n",
        "The popular belief in the tennis community is that left handed tennis players have an advantage over right handed tennis players.  Pinnacle.com has a few articles on the subject.  I was also able to find a study that even includes some data at the amateur level.. although the data is not completely transparent.  \n",
        "\n",
        "Beyond tennis, there are handfuls of articles and studies done when it comes to dominance in sport based on the dominant hand.  Google is magical.  My goal is to provide a comprehensive comparison for the lay person who is interested in the topic, particularly regarding tennis.  \n",
        "\n",
        "I myself am a left-handed tennis player, who always liked the idea that I had an advantage, yet it did not seem to make winning matches any easier.  To quench my own curiosity, and as a fun experiment, I will analyze some data that includes players in the ATP and their performance against left-handed players.  \n",
        "\n",
        "Caveats:\n",
        "- I am left-handed myself, so yes. I am rooting for a particular team in this study..\n",
        "- The best information out there is at the top level of the game.  It would be even more interesting to do this with amateur data. One day I might.\n",
        "- There are better and more interesting methods out there I may not currently know about. If interested, please reach out, let me know about them and I will be happy to think about implementing it in future versions of this project :)\n",
        "\n",
        "\n",
        "\n",
        "\n",
        "\n",
        "\n"
      ]
    },
    {
      "metadata": {
        "id": "ITdNNgWPLC-s",
        "colab_type": "code",
        "colab": {}
      },
      "cell_type": "code",
      "source": [
        "## import initial data\n",
        "import pandas as pd\n",
        "import numpy as np\n",
        "import matplotlib.pyplot as plt\n",
        "from scipy import stats\n",
        "import datetime as dt"
      ],
      "execution_count": 0,
      "outputs": []
    },
    {
      "metadata": {
        "id": "SmI8DvnbTavI",
        "colab_type": "code",
        "colab": {}
      },
      "cell_type": "code",
      "source": [
        "matches_2016 = pd.read_csv('https://raw.githubusercontent.com/JeffSackmann/tennis_atp/master/atp_matches_2016.csv')\n",
        "pd.set_option('display.max_columns', 500)"
      ],
      "execution_count": 0,
      "outputs": []
    },
    {
      "metadata": {
        "id": "oPEbh04gaqgF",
        "colab_type": "code",
        "colab": {}
      },
      "cell_type": "code",
      "source": [
        "players_columns = ['player_id', 'first_name', 'last_name', 'hand', 'birth_date', 'country_code']\n",
        "atp_players = pd.read_csv('https://raw.githubusercontent.com/JeffSackmann/tennis_atp/master/atp_players.csv', names=players_columns,encoding=\"ISO-8859-1\")\n"
      ],
      "execution_count": 0,
      "outputs": []
    },
    {
      "metadata": {
        "id": "GpyZiIaHbpBh",
        "colab_type": "code",
        "outputId": "98e0c075-c942-4efa-e303-11dd448b9d82",
        "colab": {
          "base_uri": "https://localhost:8080/",
          "height": 91
        }
      },
      "cell_type": "code",
      "source": [
        "ranking_columns = ['ranking_date', 'ranking', 'player_id', 'ranking_points']\n",
        "rankings = pd.read_csv('https://raw.githubusercontent.com/JeffSackmann/tennis_atp/master/atp_rankings_10s.csv', names=ranking_columns)"
      ],
      "execution_count": 5,
      "outputs": [
        {
          "output_type": "stream",
          "text": [
            "/usr/local/lib/python3.6/dist-packages/IPython/core/interactiveshell.py:2718: DtypeWarning: Columns (3) have mixed types. Specify dtype option on import or set low_memory=False.\n",
            "  interactivity=interactivity, compiler=compiler, result=result)\n"
          ],
          "name": "stderr"
        }
      ]
    },
    {
      "metadata": {
        "id": "9Dz8-jyEc_zV",
        "colab_type": "code",
        "colab": {}
      },
      "cell_type": "code",
      "source": [
        "rankings['ranking_date'] = pd.to_datetime(rankings['ranking_date'],format='%Y%m%d', errors='ignore')"
      ],
      "execution_count": 0,
      "outputs": []
    },
    {
      "metadata": {
        "id": "GedfJiQ7dvye",
        "colab_type": "code",
        "colab": {}
      },
      "cell_type": "code",
      "source": [
        "rankings2016 = rankings[rankings['ranking_date'].dt.year == 2016]"
      ],
      "execution_count": 0,
      "outputs": []
    },
    {
      "metadata": {
        "id": "F3l69wo2m7_8",
        "colab_type": "code",
        "colab": {}
      },
      "cell_type": "code",
      "source": [
        "rankings_players_2016 = pd.merge(rankings2016, atp_players, on='player_id').sort_values(by=['ranking_date', 'ranking'])"
      ],
      "execution_count": 0,
      "outputs": []
    },
    {
      "metadata": {
        "id": "LMxroWJ6oCsb",
        "colab_type": "code",
        "colab": {}
      },
      "cell_type": "code",
      "source": [
        "year_end_ranking_2016 = rankings_players_2016[rankings_players_2016['ranking_date'] == '2016-12-26']"
      ],
      "execution_count": 0,
      "outputs": []
    },
    {
      "metadata": {
        "id": "bb6sj6C0pDUD",
        "colab_type": "code",
        "outputId": "ccda7a5e-3716-49a2-99fc-ea3c353ec90f",
        "colab": {
          "base_uri": "https://localhost:8080/",
          "height": 85
        }
      },
      "cell_type": "code",
      "source": [
        "year_end_ranking_2016['hand'].value_counts()"
      ],
      "execution_count": 10,
      "outputs": [
        {
          "output_type": "execute_result",
          "data": {
            "text/plain": [
              "R    1034\n",
              "U     889\n",
              "L     155\n",
              "Name: hand, dtype: int64"
            ]
          },
          "metadata": {
            "tags": []
          },
          "execution_count": 10
        }
      ]
    },
    {
      "metadata": {
        "id": "7tZecwUoEOAb",
        "colab_type": "code",
        "colab": {}
      },
      "cell_type": "code",
      "source": [
        "top100_ranking = year_end_ranking_2016[year_end_ranking_2016['ranking'] <= 100]"
      ],
      "execution_count": 0,
      "outputs": []
    },
    {
      "metadata": {
        "id": "ljSvei8KFCBJ",
        "colab_type": "code",
        "outputId": "01cd0097-5745-4c3b-eaf4-0635d9cdc9ea",
        "colab": {
          "base_uri": "https://localhost:8080/",
          "height": 68
        }
      },
      "cell_type": "code",
      "source": [
        "top100_ranking['hand'].value_counts()"
      ],
      "execution_count": 12,
      "outputs": [
        {
          "output_type": "execute_result",
          "data": {
            "text/plain": [
              "R    82\n",
              "L    18\n",
              "Name: hand, dtype: int64"
            ]
          },
          "metadata": {
            "tags": []
          },
          "execution_count": 12
        }
      ]
    },
    {
      "metadata": {
        "id": "FPOaMEA18nfh",
        "colab_type": "code",
        "colab": {}
      },
      "cell_type": "code",
      "source": [
        "winner_top_100 = matches_2016[matches_2016['winner_rank'] <= 100]"
      ],
      "execution_count": 0,
      "outputs": []
    },
    {
      "metadata": {
        "id": "zXzsAb-FF-Jr",
        "colab_type": "code",
        "colab": {}
      },
      "cell_type": "code",
      "source": [
        "top100_matches = winner_top_100[winner_top_100['loser_rank'] <= 100].sort_values(by='winner_rank')"
      ],
      "execution_count": 0,
      "outputs": []
    },
    {
      "metadata": {
        "id": "OPkFVJTHGWHf",
        "colab_type": "code",
        "outputId": "ebc8edd0-a995-410b-a76a-78ea68c581a3",
        "colab": {
          "base_uri": "https://localhost:8080/",
          "height": 34
        }
      },
      "cell_type": "code",
      "source": [
        "top100_matches.shape"
      ],
      "execution_count": 17,
      "outputs": [
        {
          "output_type": "execute_result",
          "data": {
            "text/plain": [
              "(1776, 49)"
            ]
          },
          "metadata": {
            "tags": []
          },
          "execution_count": 17
        }
      ]
    },
    {
      "metadata": {
        "id": "lX6klGjHJmC5",
        "colab_type": "code",
        "outputId": "4c7c490b-d1fc-4e2d-cb32-9832d08291ba",
        "colab": {
          "base_uri": "https://localhost:8080/",
          "height": 68
        }
      },
      "cell_type": "code",
      "source": [
        "top100_matches['winner_hand'].value_counts(normalize=True)\n"
      ],
      "execution_count": 18,
      "outputs": [
        {
          "output_type": "execute_result",
          "data": {
            "text/plain": [
              "R    0.86768\n",
              "L    0.13232\n",
              "Name: winner_hand, dtype: float64"
            ]
          },
          "metadata": {
            "tags": []
          },
          "execution_count": 18
        }
      ]
    },
    {
      "metadata": {
        "id": "KAO2nK95Jsc0",
        "colab_type": "code",
        "outputId": "2af25f1e-17c0-4eb8-b488-c6bb8dde3ea5",
        "colab": {
          "base_uri": "https://localhost:8080/",
          "height": 68
        }
      },
      "cell_type": "code",
      "source": [
        "top100_matches['loser_hand'].value_counts(normalize=True)"
      ],
      "execution_count": 19,
      "outputs": [
        {
          "output_type": "execute_result",
          "data": {
            "text/plain": [
              "R    0.845721\n",
              "L    0.154279\n",
              "Name: loser_hand, dtype: float64"
            ]
          },
          "metadata": {
            "tags": []
          },
          "execution_count": 19
        }
      ]
    },
    {
      "metadata": {
        "id": "c4WHKm5sNb8J",
        "colab_type": "code",
        "outputId": "3556b9d6-06ec-4894-a3e8-46d8541b6a59",
        "colab": {
          "base_uri": "https://localhost:8080/",
          "height": 68
        }
      },
      "cell_type": "code",
      "source": [
        "top100_ranking['hand'].value_counts(normalize=True)"
      ],
      "execution_count": 20,
      "outputs": [
        {
          "output_type": "execute_result",
          "data": {
            "text/plain": [
              "R    0.82\n",
              "L    0.18\n",
              "Name: hand, dtype: float64"
            ]
          },
          "metadata": {
            "tags": []
          },
          "execution_count": 20
        }
      ]
    },
    {
      "metadata": {
        "id": "D0skswYARUCr",
        "colab_type": "text"
      },
      "cell_type": "markdown",
      "source": [
        "In 2016, there were 1,776 matches played between players ranked in the top 100.\n",
        "\n",
        "By year end ranking, there were 82 right handeres and 18 left handers in the top 100. "
      ]
    },
    {
      "metadata": {
        "id": "6LIgVq09I54W",
        "colab_type": "code",
        "colab": {
          "base_uri": "https://localhost:8080/",
          "height": 283
        },
        "outputId": "c4231b4d-8a10-4928-9a61-c3dba26ec3cc"
      },
      "cell_type": "code",
      "source": [
        "top100_ranking['hand'].value_counts().plot.bar()"
      ],
      "execution_count": 21,
      "outputs": [
        {
          "output_type": "execute_result",
          "data": {
            "text/plain": [
              "<matplotlib.axes._subplots.AxesSubplot at 0x7f4fde91d780>"
            ]
          },
          "metadata": {
            "tags": []
          },
          "execution_count": 21
        },
        {
          "output_type": "display_data",
          "data": {
            "image/png": "[encoded data removed]",
            "text/plain": [
              "<Figure size 432x288 with 1 Axes>"
            ]
          },
          "metadata": {
            "tags": []
          }
        }
      ]
    },
    {
      "metadata": {
        "id": "BkqC-oovJYFE",
        "colab_type": "text"
      },
      "cell_type": "markdown",
      "source": [
        "Start simple, 10% of the population is said to be left handed.  Yet 18% of the top 100 in 2016 were left handed.  We can test against the null hypothesis of 10 percent to see if there is a significant difference."
      ]
    },
    {
      "metadata": {
        "id": "b62R2ALqLBNJ",
        "colab_type": "code",
        "colab": {
          "base_uri": "https://localhost:8080/",
          "height": 119
        },
        "outputId": "f13fc04d-ecc6-471c-a318-6d12b43f7372"
      },
      "cell_type": "code",
      "source": [
        "top100_ranking['hand'] = top100_ranking['hand'].replace({'R':0, 'L':1})"
      ],
      "execution_count": 23,
      "outputs": [
        {
          "output_type": "stream",
          "text": [
            "/usr/local/lib/python3.6/dist-packages/ipykernel_launcher.py:1: SettingWithCopyWarning: \n",
            "A value is trying to be set on a copy of a slice from a DataFrame.\n",
            "Try using .loc[row_indexer,col_indexer] = value instead\n",
            "\n",
            "See the caveats in the documentation: http://pandas.pydata.org/pandas-docs/stable/indexing.html#indexing-view-versus-copy\n",
            "  \"\"\"Entry point for launching an IPython kernel.\n"
          ],
          "name": "stderr"
        }
      ]
    },
    {
      "metadata": {
        "id": "T_07vRPVJuKh",
        "colab_type": "code",
        "colab": {
          "base_uri": "https://localhost:8080/",
          "height": 34
        },
        "outputId": "4adb29cd-aef8-4bcf-d826-60c93d514ef0"
      },
      "cell_type": "code",
      "source": [
        "stats.ttest_1samp(top100_ranking['hand'], .10)"
      ],
      "execution_count": 28,
      "outputs": [
        {
          "output_type": "execute_result",
          "data": {
            "text/plain": [
              "Ttest_1sampResult(statistic=2.071879081131248, pvalue=0.040876488001518975)"
            ]
          },
          "metadata": {
            "tags": []
          },
          "execution_count": 28
        }
      ]
    },
    {
      "metadata": {
        "id": "ZYKFbPyvLrzq",
        "colab_type": "text"
      },
      "cell_type": "markdown",
      "source": [
        "Null hypothesis = 10% of the population is made up of left handers.\n",
        "\n",
        "Alternative hypothesis = In tennis, left handers make up more of the population than the average population in the ATP top 100 rankings. > than .10.\n",
        "\n",
        "A t-statistic of .04 allows us to reject the null hypothesis and say that in 2016, a statistically significant number of left handers made up more of the top 100 in the ATP tennis rankings.\n",
        "\n",
        "Interesting.. let's keep digging\n",
        "\n"
      ]
    }
  ]
}