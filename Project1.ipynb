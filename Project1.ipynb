{
  "nbformat": 4,
  "nbformat_minor": 0,
  "metadata": {
    "colab": {
      "name": "Project1",
      "version": "0.3.2",
      "provenance": [],
      "include_colab_link": true
    },
    "kernelspec": {
      "name": "python3",
      "display_name": "Python 3"
    }
  },
  "cells": [
    {
      "cell_type": "markdown",
      "metadata": {
        "id": "view-in-github",
        "colab_type": "text"
      },
      "source": [
        "<a href=\"https://colab.research.google.com/github/NicoMontoya/DS-Unit-1-Sprint-5-Data-Storytelling-Blog-Post/blob/master/Project1.ipynb\" target=\"_parent\"><img src=\"https://colab.research.google.com/assets/colab-badge.svg\" alt=\"Open In Colab\"/></a>"
      ]
    },
    {
      "metadata": {
        "id": "SRKztu-LKFy7",
        "colab_type": "text"
      },
      "cell_type": "markdown",
      "source": [
        "Have explored the data a little bit.  Now I will form a strategy!\n",
        "\n",
        "first: \n",
        "- analyze top 100.  Breakdown of lefties vs righties in the latest ranking available.\n",
        "- determine if difference from general population is statistically significant.\n",
        "- compare to years past\n",
        "\n",
        "second:\n",
        "- analyze matches within each year of top 100 vs top 100 players.\n",
        "- determine if lefties win more or less\n",
        "\n",
        "Third/ bonus:\n",
        "- analyze matches based on surface.\n",
        "- determine if lefties have any advantage on a particular surface\n",
        "\n",
        "Fourth\n",
        "- do the exact same analysis for women"
      ]
    },
    {
      "metadata": {
        "id": "7AHcgpdeKG-w",
        "colab_type": "code",
        "colab": {}
      },
      "cell_type": "code",
      "source": [
        "## performa classic imports\n",
        "import pandas as pd\n",
        "import matplotlib.pyplot as plt\n",
        "import numpy as np\n",
        "import datetime as dt\n",
        "from scipy import stats\n",
        "\n",
        "pd.set_option('display.max_columns', None)"
      ],
      "execution_count": 0,
      "outputs": []
    },
    {
      "metadata": {
        "id": "IL2sOJKPP8I0",
        "colab_type": "code",
        "colab": {}
      },
      "cell_type": "code",
      "source": [
        "## import player data\n",
        "players_columns = ['player_id', 'first_name', 'last_name', 'hand', 'birth_date', 'country_code']\n",
        "players = pd.read_csv('https://raw.githubusercontent.com/JeffSackmann/tennis_atp/master/atp_players.csv', names=players_columns, encoding = 'ISO-8859-1')"
      ],
      "execution_count": 0,
      "outputs": []
    },
    {
      "metadata": {
        "id": "ONq8MjhWKR7G",
        "colab_type": "code",
        "colab": {}
      },
      "cell_type": "code",
      "source": [
        "## import ranking data for 2018\n",
        "rankings_columns = ['ranking_date', 'ranking', 'player_id', 'ranking_points']\n",
        "current_ranking = pd.read_csv('https://raw.githubusercontent.com/JeffSackmann/tennis_atp/master/atp_rankings_current.csv', names=rankings_columns)"
      ],
      "execution_count": 0,
      "outputs": []
    },
    {
      "metadata": {
        "id": "41inxQmhQ7dg",
        "colab_type": "code",
        "colab": {}
      },
      "cell_type": "code",
      "source": [
        "## merge players data with current rankings data\n",
        "current_ranking = pd.merge(players, current_ranking, on='player_id')"
      ],
      "execution_count": 0,
      "outputs": []
    },
    {
      "metadata": {
        "id": "CFO6dGkGK2Rr",
        "colab_type": "code",
        "colab": {}
      },
      "cell_type": "code",
      "source": [
        "current_ranking['ranking_date'] = pd.to_datetime(current_ranking['ranking_date'], format='%Y%m%d')"
      ],
      "execution_count": 0,
      "outputs": []
    },
    {
      "metadata": {
        "id": "Y-bCJAO4LeKs",
        "colab_type": "code",
        "colab": {}
      },
      "cell_type": "code",
      "source": [
        "year_end_ranking2018 = current_ranking[current_ranking['ranking_date'] == '2018-09-24'].sort_values(by='ranking')"
      ],
      "execution_count": 0,
      "outputs": []
    },
    {
      "metadata": {
        "id": "zGdvBRp1Ls2N",
        "colab_type": "code",
        "colab": {}
      },
      "cell_type": "code",
      "source": [
        "year_end_ranking2018 = year_end_ranking2018.head(100)"
      ],
      "execution_count": 0,
      "outputs": []
    },
    {
      "metadata": {
        "id": "B6nYI32fUGK_",
        "colab_type": "code",
        "colab": {}
      },
      "cell_type": "code",
      "source": [
        "year_end_ranking2018 = year_end_ranking2018.replace({'R':0, 'L':1, 'U':0})"
      ],
      "execution_count": 0,
      "outputs": []
    },
    {
      "metadata": {
        "id": "gPSh6G8CUBC9",
        "colab_type": "code",
        "outputId": "e4e4bea9-16b3-42f9-e254-7a7239d9ef04",
        "colab": {
          "base_uri": "https://localhost:8080/",
          "height": 204
        }
      },
      "cell_type": "code",
      "source": [
        "year_end_ranking2018.head()"
      ],
      "execution_count": 390,
      "outputs": [
        {
          "output_type": "execute_result",
          "data": {
            "text/html": [
              "<div>\n",
              "<style scoped>\n",
              "    .dataframe tbody tr th:only-of-type {\n",
              "        vertical-align: middle;\n",
              "    }\n",
              "\n",
              "    .dataframe tbody tr th {\n",
              "        vertical-align: top;\n",
              "    }\n",
              "\n",
              "    .dataframe thead th {\n",
              "        text-align: right;\n",
              "    }\n",
              "</style>\n",
              "<table border=\"1\" class=\"dataframe\">\n",
              "  <thead>\n",
              "    <tr style=\"text-align: right;\">\n",
              "      <th></th>\n",
              "      <th>player_id</th>\n",
              "      <th>first_name</th>\n",
              "      <th>last_name</th>\n",
              "      <th>hand</th>\n",
              "      <th>birth_date</th>\n",
              "      <th>country_code</th>\n",
              "      <th>ranking_date</th>\n",
              "      <th>ranking</th>\n",
              "      <th>ranking_points</th>\n",
              "    </tr>\n",
              "  </thead>\n",
              "  <tbody>\n",
              "    <tr>\n",
              "      <th>3735</th>\n",
              "      <td>104745</td>\n",
              "      <td>Rafael</td>\n",
              "      <td>Nadal</td>\n",
              "      <td>1</td>\n",
              "      <td>19860603.0</td>\n",
              "      <td>ESP</td>\n",
              "      <td>2018-09-24</td>\n",
              "      <td>1</td>\n",
              "      <td>8760</td>\n",
              "    </tr>\n",
              "    <tr>\n",
              "      <th>617</th>\n",
              "      <td>103819</td>\n",
              "      <td>Roger</td>\n",
              "      <td>Federer</td>\n",
              "      <td>0</td>\n",
              "      <td>19810808.0</td>\n",
              "      <td>SUI</td>\n",
              "      <td>2018-09-24</td>\n",
              "      <td>2</td>\n",
              "      <td>6900</td>\n",
              "    </tr>\n",
              "    <tr>\n",
              "      <th>4752</th>\n",
              "      <td>104925</td>\n",
              "      <td>Novak</td>\n",
              "      <td>Djokovic</td>\n",
              "      <td>0</td>\n",
              "      <td>19870522.0</td>\n",
              "      <td>SRB</td>\n",
              "      <td>2018-09-24</td>\n",
              "      <td>3</td>\n",
              "      <td>6445</td>\n",
              "    </tr>\n",
              "    <tr>\n",
              "      <th>7447</th>\n",
              "      <td>105223</td>\n",
              "      <td>Juan Martin</td>\n",
              "      <td>Del Potro</td>\n",
              "      <td>0</td>\n",
              "      <td>19880923.0</td>\n",
              "      <td>ARG</td>\n",
              "      <td>2018-09-24</td>\n",
              "      <td>4</td>\n",
              "      <td>5980</td>\n",
              "    </tr>\n",
              "    <tr>\n",
              "      <th>32</th>\n",
              "      <td>100644</td>\n",
              "      <td>Alexander</td>\n",
              "      <td>Zverev</td>\n",
              "      <td>0</td>\n",
              "      <td>19970420.0</td>\n",
              "      <td>GER</td>\n",
              "      <td>2018-09-24</td>\n",
              "      <td>5</td>\n",
              "      <td>4890</td>\n",
              "    </tr>\n",
              "  </tbody>\n",
              "</table>\n",
              "</div>"
            ],
            "text/plain": [
              "      player_id   first_name  last_name  hand  birth_date country_code  \\\n",
              "3735     104745       Rafael      Nadal     1  19860603.0          ESP   \n",
              "617      103819        Roger    Federer     0  19810808.0          SUI   \n",
              "4752     104925        Novak   Djokovic     0  19870522.0          SRB   \n",
              "7447     105223  Juan Martin  Del Potro     0  19880923.0          ARG   \n",
              "32       100644    Alexander     Zverev     0  19970420.0          GER   \n",
              "\n",
              "     ranking_date  ranking  ranking_points  \n",
              "3735   2018-09-24        1            8760  \n",
              "617    2018-09-24        2            6900  \n",
              "4752   2018-09-24        3            6445  \n",
              "7447   2018-09-24        4            5980  \n",
              "32     2018-09-24        5            4890  "
            ]
          },
          "metadata": {
            "tags": []
          },
          "execution_count": 390
        }
      ]
    },
    {
      "metadata": {
        "id": "OcSWiwA0MGC3",
        "colab_type": "code",
        "outputId": "7b146432-b18d-486f-cc92-e029317621f9",
        "colab": {
          "base_uri": "https://localhost:8080/",
          "height": 91
        }
      },
      "cell_type": "code",
      "source": [
        "# import ranking data for 2010's\n",
        "ranking2010s = pd.read_csv('https://raw.githubusercontent.com/JeffSackmann/tennis_atp/master/atp_rankings_10s.csv', names=rankings_columns)"
      ],
      "execution_count": 391,
      "outputs": [
        {
          "output_type": "stream",
          "text": [
            "/usr/local/lib/python3.6/dist-packages/IPython/core/interactiveshell.py:2718: DtypeWarning: Columns (3) have mixed types. Specify dtype option on import or set low_memory=False.\n",
            "  interactivity=interactivity, compiler=compiler, result=result)\n"
          ],
          "name": "stderr"
        }
      ]
    },
    {
      "metadata": {
        "id": "Ju_GBkouMpOQ",
        "colab_type": "code",
        "colab": {}
      },
      "cell_type": "code",
      "source": [
        "ranking2010s['ranking_date'] = pd.to_datetime(ranking2010s['ranking_date'], format='%Y%m%d')"
      ],
      "execution_count": 0,
      "outputs": []
    },
    {
      "metadata": {
        "id": "Of7K0w4VRpsk",
        "colab_type": "code",
        "colab": {}
      },
      "cell_type": "code",
      "source": [
        "## merge ranking2010s with players data\n",
        "ranking2010s = pd.merge(players, ranking2010s, on='player_id')\n",
        "ranking2010s = ranking2010s.replace({'R':0, 'L':1})"
      ],
      "execution_count": 0,
      "outputs": []
    },
    {
      "metadata": {
        "id": "Qs6y2rfDNOCS",
        "colab_type": "code",
        "colab": {}
      },
      "cell_type": "code",
      "source": [
        "year_end_ranking2017 = ranking2010s[ranking2010s['ranking_date'] == '2017-12-25'].sort_values(by='ranking')"
      ],
      "execution_count": 0,
      "outputs": []
    },
    {
      "metadata": {
        "id": "WZ6DlTmdNgv9",
        "colab_type": "code",
        "colab": {}
      },
      "cell_type": "code",
      "source": [
        "year_end_ranking2017 = year_end_ranking2017.head(100)"
      ],
      "execution_count": 0,
      "outputs": []
    },
    {
      "metadata": {
        "id": "HQ4OcnZtNsSo",
        "colab_type": "code",
        "colab": {}
      },
      "cell_type": "code",
      "source": [
        "year_end_ranking2016 = ranking2010s[ranking2010s['ranking_date'] == '2016-12-26'].sort_values(by='ranking')"
      ],
      "execution_count": 0,
      "outputs": []
    },
    {
      "metadata": {
        "id": "WfIk7D7AN1-O",
        "colab_type": "code",
        "colab": {}
      },
      "cell_type": "code",
      "source": [
        "year_end_ranking2016 = year_end_ranking2016.head(100)"
      ],
      "execution_count": 0,
      "outputs": []
    },
    {
      "metadata": {
        "id": "A0WiD9l5OpCk",
        "colab_type": "code",
        "colab": {}
      },
      "cell_type": "code",
      "source": [
        "year_end_ranking2015 = ranking2010s[ranking2010s['ranking_date'] == '2015-12-28'].sort_values(by='ranking')"
      ],
      "execution_count": 0,
      "outputs": []
    },
    {
      "metadata": {
        "id": "imK6fb9gOxwM",
        "colab_type": "code",
        "colab": {}
      },
      "cell_type": "code",
      "source": [
        "year_end_ranking2015 = year_end_ranking2015.head(100)"
      ],
      "execution_count": 0,
      "outputs": []
    },
    {
      "metadata": {
        "id": "R2i9EibcO7wg",
        "colab_type": "code",
        "colab": {}
      },
      "cell_type": "code",
      "source": [
        "year_end_ranking2014 = ranking2010s[ranking2010s['ranking_date'] == '2014-12-29'].sort_values(by='ranking')\n",
        "year_end_ranking2014 = year_end_ranking2014.head(100)"
      ],
      "execution_count": 0,
      "outputs": []
    },
    {
      "metadata": {
        "id": "MCJwAUYVPPZM",
        "colab_type": "code",
        "colab": {}
      },
      "cell_type": "code",
      "source": [
        "year_end_ranking2013 = ranking2010s[ranking2010s['ranking_date'] == '2013-12-30'].sort_values(by='ranking')\n",
        "year_end_ranking2013 = year_end_ranking2013.head(100)"
      ],
      "execution_count": 0,
      "outputs": []
    },
    {
      "metadata": {
        "id": "xxV3pOKZPYp3",
        "colab_type": "code",
        "colab": {}
      },
      "cell_type": "code",
      "source": [
        "year_end_ranking2012 = ranking2010s[ranking2010s['ranking_date'] == '2012-12-31'].sort_values(by='ranking')\n",
        "year_end_ranking2012 = year_end_ranking2012.head(100)"
      ],
      "execution_count": 0,
      "outputs": []
    },
    {
      "metadata": {
        "id": "ufiSTg9MPiDW",
        "colab_type": "code",
        "colab": {}
      },
      "cell_type": "code",
      "source": [
        "year_end_ranking2011 = ranking2010s[ranking2010s['ranking_date'] == '2011-12-26'].sort_values(by='ranking')\n",
        "year_end_ranking2011 = year_end_ranking2011.head(100)"
      ],
      "execution_count": 0,
      "outputs": []
    },
    {
      "metadata": {
        "id": "-HohePdRPw-R",
        "colab_type": "code",
        "colab": {}
      },
      "cell_type": "code",
      "source": [
        "year_end_ranking2010 = ranking2010s[ranking2010s['ranking_date'] == '2010-12-27'].sort_values(by='ranking')\n",
        "year_end_ranking2010 = year_end_ranking2010.head(100)"
      ],
      "execution_count": 0,
      "outputs": []
    },
    {
      "metadata": {
        "id": "AEbqb_P6baPZ",
        "colab_type": "text"
      },
      "cell_type": "markdown",
      "source": [
        "Let's analyze the top 100 rankings for the last 9 years for men"
      ]
    },
    {
      "metadata": {
        "id": "5Ko8NkjPJT2l",
        "colab_type": "code",
        "colab": {}
      },
      "cell_type": "code",
      "source": [
        "atpyear_end_rankings = [year_end_ranking2010, year_end_ranking2011, year_end_ranking2012,\n",
        "                       year_end_ranking2013, year_end_ranking2014, year_end_ranking2015,\n",
        "                       year_end_ranking2016, year_end_ranking2017, year_end_ranking2018]\n",
        "atpdf = pd.concat(atpyear_end_rankings)"
      ],
      "execution_count": 0,
      "outputs": []
    },
    {
      "metadata": {
        "id": "4niWvwDeJzP1",
        "colab_type": "code",
        "colab": {}
      },
      "cell_type": "code",
      "source": [
        "ATPct = pd.crosstab(atpdf['ranking_date'].dt.year, atpdf['hand'], normalize='index')"
      ],
      "execution_count": 0,
      "outputs": []
    },
    {
      "metadata": {
        "id": "irSOi-LWcd2S",
        "colab_type": "text"
      },
      "cell_type": "markdown",
      "source": [
        "Let's bring in the women"
      ]
    },
    {
      "metadata": {
        "id": "le9bP8tycbw-",
        "colab_type": "code",
        "colab": {}
      },
      "cell_type": "code",
      "source": [
        "#import women players info\n",
        "wtaplayers = pd.read_csv('https://raw.githubusercontent.com/JeffSackmann/tennis_wta/master/wta_players.csv', names=players_columns, encoding='ISO-8859-1')\n"
      ],
      "execution_count": 0,
      "outputs": []
    },
    {
      "metadata": {
        "id": "KzUawAwNdGi0",
        "colab_type": "code",
        "colab": {}
      },
      "cell_type": "code",
      "source": [
        "#import recent rankings\n",
        "wtarankings_columns = ['ranking_date', 'ranking', 'player_id', 'ranking_points', 'tours']\n",
        "wtacurrent_ranking = pd.read_csv('https://raw.githubusercontent.com/JeffSackmann/tennis_wta/master/wta_rankings_current.csv', names=wtarankings_columns)"
      ],
      "execution_count": 0,
      "outputs": []
    },
    {
      "metadata": {
        "id": "EQ4w9DE-2kqy",
        "colab_type": "code",
        "colab": {}
      },
      "cell_type": "code",
      "source": [
        "wtacurrent_ranking['ranking_date'] = pd.to_datetime(wtacurrent_ranking['ranking_date'], format='%Y%m%d')"
      ],
      "execution_count": 0,
      "outputs": []
    },
    {
      "metadata": {
        "id": "H1x6Ev7kfQWx",
        "colab_type": "code",
        "colab": {}
      },
      "cell_type": "code",
      "source": [
        "wtacurrent_ranking = pd.merge(wtaplayers, wtacurrent_ranking, on='player_id')\n",
        "wtacurrent_ranking = wtacurrent_ranking.replace({'R':0, 'U':0, 'L':1})"
      ],
      "execution_count": 0,
      "outputs": []
    },
    {
      "metadata": {
        "id": "dD5ijBln26QQ",
        "colab_type": "code",
        "colab": {}
      },
      "cell_type": "code",
      "source": [
        "wtayear_end_ranking2018 = wtacurrent_ranking[wtacurrent_ranking['ranking_date'] == '2018-12-24'].sort_values(by='ranking').head(100)"
      ],
      "execution_count": 0,
      "outputs": []
    },
    {
      "metadata": {
        "id": "7PrtMf483gQq",
        "colab_type": "code",
        "colab": {}
      },
      "cell_type": "code",
      "source": [
        "# import rankings for 2010s womens\n",
        "wtaranking2010s = pd.read_csv('https://raw.githubusercontent.com/JeffSackmann/tennis_wta/master/wta_rankings_10s.csv', names = wtarankings_columns)"
      ],
      "execution_count": 0,
      "outputs": []
    },
    {
      "metadata": {
        "id": "1Z40toB55EoO",
        "colab_type": "code",
        "colab": {}
      },
      "cell_type": "code",
      "source": [
        "wtaranking2010s = pd.merge(wtaplayers, wtaranking2010s, on='player_id')"
      ],
      "execution_count": 0,
      "outputs": []
    },
    {
      "metadata": {
        "id": "Kol960nk5U4W",
        "colab_type": "code",
        "colab": {}
      },
      "cell_type": "code",
      "source": [
        "wtaranking2010s['ranking_date'] = pd.to_datetime(wtaranking2010s['ranking_date'], format='%Y%m%d')"
      ],
      "execution_count": 0,
      "outputs": []
    },
    {
      "metadata": {
        "id": "pBsOBcOkDBac",
        "colab_type": "code",
        "colab": {}
      },
      "cell_type": "code",
      "source": [
        "wtaranking2010s = wtaranking2010s.replace({'R':0, 'L':1, 'U':0})"
      ],
      "execution_count": 0,
      "outputs": []
    },
    {
      "metadata": {
        "id": "A01moBoM59P2",
        "colab_type": "code",
        "colab": {}
      },
      "cell_type": "code",
      "source": [
        "wtayear_end_ranking2017 = wtaranking2010s[wtaranking2010s['ranking_date']=='2017-11-20'].sort_values(by='ranking').head(100)"
      ],
      "execution_count": 0,
      "outputs": []
    },
    {
      "metadata": {
        "id": "UYCu77Hw6cKl",
        "colab_type": "code",
        "colab": {}
      },
      "cell_type": "code",
      "source": [
        "wtayear_end_ranking2016 = wtaranking2010s[wtaranking2010s['ranking_date']=='2016-12-26'].sort_values(by='ranking').head(100)"
      ],
      "execution_count": 0,
      "outputs": []
    },
    {
      "metadata": {
        "id": "_32LrdLe6ouR",
        "colab_type": "code",
        "colab": {}
      },
      "cell_type": "code",
      "source": [
        "wtayear_end_ranking2015 = wtaranking2010s[wtaranking2010s['ranking_date']=='2015-12-28'].sort_values(by='ranking').head(100)"
      ],
      "execution_count": 0,
      "outputs": []
    },
    {
      "metadata": {
        "id": "wc60oZgH6w6q",
        "colab_type": "code",
        "colab": {}
      },
      "cell_type": "code",
      "source": [
        "wtayear_end_ranking2014 = wtaranking2010s[wtaranking2010s['ranking_date']=='2014-12-29'].sort_values(by='ranking').head(100)"
      ],
      "execution_count": 0,
      "outputs": []
    },
    {
      "metadata": {
        "id": "-ecZot2O69z7",
        "colab_type": "code",
        "colab": {}
      },
      "cell_type": "code",
      "source": [
        "wtayear_end_ranking2013 = wtaranking2010s[wtaranking2010s['ranking_date']=='2013-12-30'].sort_values(by='ranking').head(100)"
      ],
      "execution_count": 0,
      "outputs": []
    },
    {
      "metadata": {
        "id": "z7swnwUm7FFG",
        "colab_type": "code",
        "colab": {}
      },
      "cell_type": "code",
      "source": [
        "wtayear_end_ranking2012 = wtaranking2010s[wtaranking2010s['ranking_date']=='2012-12-31'].sort_values(by='ranking').head(100)"
      ],
      "execution_count": 0,
      "outputs": []
    },
    {
      "metadata": {
        "id": "UN-IclQt7Nnx",
        "colab_type": "code",
        "colab": {}
      },
      "cell_type": "code",
      "source": [
        "wtayear_end_ranking2011 = wtaranking2010s[wtaranking2010s['ranking_date']=='2011-12-26'].sort_values(by='ranking').head(100)"
      ],
      "execution_count": 0,
      "outputs": []
    },
    {
      "metadata": {
        "id": "Xzen3TZh71Cw",
        "colab_type": "code",
        "colab": {}
      },
      "cell_type": "code",
      "source": [
        "wtayear_end_ranking2010 = wtaranking2010s[wtaranking2010s['ranking_date']=='2010-12-27'].sort_values(by='ranking').head(100)"
      ],
      "execution_count": 0,
      "outputs": []
    },
    {
      "metadata": {
        "id": "LGg7HXrQFPzf",
        "colab_type": "code",
        "colab": {}
      },
      "cell_type": "code",
      "source": [
        "wtayear_end_rankings = [wtayear_end_ranking2010,wtayear_end_ranking2011, wtayear_end_ranking2012,\n",
        "                    wtayear_end_ranking2013, wtayear_end_ranking2014, wtayear_end_ranking2015, wtayear_end_ranking2016,\n",
        "                    wtayear_end_ranking2017, wtayear_end_ranking2018]\n",
        "wtadf = pd.concat(wtayear_end_rankings)"
      ],
      "execution_count": 0,
      "outputs": []
    },
    {
      "metadata": {
        "id": "M_hD06SxH0LG",
        "colab_type": "code",
        "colab": {}
      },
      "cell_type": "code",
      "source": [
        "WTAct = pd.crosstab(wtadf['ranking_date'].dt.year, wtadf['hand'], normalize='index')"
      ],
      "execution_count": 0,
      "outputs": []
    },
    {
      "metadata": {
        "id": "HkFJwITrKE41",
        "colab_type": "code",
        "outputId": "925740b3-b6b9-4651-f3fc-9df6704b331d",
        "colab": {
          "base_uri": "https://localhost:8080/",
          "height": 316
        }
      },
      "cell_type": "code",
      "source": [
        "ATPct[1].plot.bar(color='blue')"
      ],
      "execution_count": 426,
      "outputs": [
        {
          "output_type": "execute_result",
          "data": {
            "text/plain": [
              "<matplotlib.axes._subplots.AxesSubplot at 0x7f85bc415cc0>"
            ]
          },
          "metadata": {
            "tags": []
          },
          "execution_count": 426
        },
        {
          "output_type": "display_data",
          "data": {
            "image/png": "[encoded data removed]",
            "text/plain": [
              "<Figure size 432x288 with 1 Axes>"
            ]
          },
          "metadata": {
            "tags": []
          }
        }
      ]
    },
    {
      "metadata": {
        "id": "-LYbNamEKGht",
        "colab_type": "code",
        "outputId": "23b7ebd6-3435-4e8b-b644-7c66977de9da",
        "colab": {
          "base_uri": "https://localhost:8080/",
          "height": 316
        }
      },
      "cell_type": "code",
      "source": [
        "WTAct[1].plot.bar(color='pink')"
      ],
      "execution_count": 427,
      "outputs": [
        {
          "output_type": "execute_result",
          "data": {
            "text/plain": [
              "<matplotlib.axes._subplots.AxesSubplot at 0x7f85bc44fc88>"
            ]
          },
          "metadata": {
            "tags": []
          },
          "execution_count": 427
        },
        {
          "output_type": "display_data",
          "data": {
            "image/png": "[encoded data removed]",
            "text/plain": [
              "<Figure size 432x288 with 1 Axes>"
            ]
          },
          "metadata": {
            "tags": []
          }
        }
      ]
    },
    {
      "metadata": {
        "id": "tTvhUnUXSRC1",
        "colab_type": "code",
        "outputId": "0796f86a-416c-4079-88c2-2f4e07da6309",
        "colab": {
          "base_uri": "https://localhost:8080/",
          "height": 34
        }
      },
      "cell_type": "code",
      "source": [
        "stats.ttest_1samp(ATPct[1], .10)"
      ],
      "execution_count": 428,
      "outputs": [
        {
          "output_type": "execute_result",
          "data": {
            "text/plain": [
              "Ttest_1sampResult(statistic=7.098852075328917, pvalue=0.00010210861082756907)"
            ]
          },
          "metadata": {
            "tags": []
          },
          "execution_count": 428
        }
      ]
    },
    {
      "metadata": {
        "id": "W4ZBYxDESgZS",
        "colab_type": "code",
        "outputId": "f5d249a7-e346-4cf6-a592-bc3e81b2e621",
        "colab": {
          "base_uri": "https://localhost:8080/",
          "height": 34
        }
      },
      "cell_type": "code",
      "source": [
        "stats.ttest_1samp(WTAct[1], .10)"
      ],
      "execution_count": 429,
      "outputs": [
        {
          "output_type": "execute_result",
          "data": {
            "text/plain": [
              "Ttest_1sampResult(statistic=-3.5068322372799012, pvalue=0.007998608765899168)"
            ]
          },
          "metadata": {
            "tags": []
          },
          "execution_count": 429
        }
      ]
    },
    {
      "metadata": {
        "id": "XCrw6f44St6z",
        "colab_type": "code",
        "outputId": "fd349eae-e3df-40f7-89df-737fbe7ac966",
        "colab": {
          "base_uri": "https://localhost:8080/",
          "height": 297
        }
      },
      "cell_type": "code",
      "source": [
        "ATPct.describe()"
      ],
      "execution_count": 430,
      "outputs": [
        {
          "output_type": "execute_result",
          "data": {
            "text/html": [
              "<div>\n",
              "<style scoped>\n",
              "    .dataframe tbody tr th:only-of-type {\n",
              "        vertical-align: middle;\n",
              "    }\n",
              "\n",
              "    .dataframe tbody tr th {\n",
              "        vertical-align: top;\n",
              "    }\n",
              "\n",
              "    .dataframe thead th {\n",
              "        text-align: right;\n",
              "    }\n",
              "</style>\n",
              "<table border=\"1\" class=\"dataframe\">\n",
              "  <thead>\n",
              "    <tr style=\"text-align: right;\">\n",
              "      <th>hand</th>\n",
              "      <th>0</th>\n",
              "      <th>1</th>\n",
              "    </tr>\n",
              "  </thead>\n",
              "  <tbody>\n",
              "    <tr>\n",
              "      <th>count</th>\n",
              "      <td>9.000000</td>\n",
              "      <td>9.000000</td>\n",
              "    </tr>\n",
              "    <tr>\n",
              "      <th>mean</th>\n",
              "      <td>0.855556</td>\n",
              "      <td>0.144444</td>\n",
              "    </tr>\n",
              "    <tr>\n",
              "      <th>std</th>\n",
              "      <td>0.018782</td>\n",
              "      <td>0.018782</td>\n",
              "    </tr>\n",
              "    <tr>\n",
              "      <th>min</th>\n",
              "      <td>0.820000</td>\n",
              "      <td>0.120000</td>\n",
              "    </tr>\n",
              "    <tr>\n",
              "      <th>25%</th>\n",
              "      <td>0.840000</td>\n",
              "      <td>0.130000</td>\n",
              "    </tr>\n",
              "    <tr>\n",
              "      <th>50%</th>\n",
              "      <td>0.860000</td>\n",
              "      <td>0.140000</td>\n",
              "    </tr>\n",
              "    <tr>\n",
              "      <th>75%</th>\n",
              "      <td>0.870000</td>\n",
              "      <td>0.160000</td>\n",
              "    </tr>\n",
              "    <tr>\n",
              "      <th>max</th>\n",
              "      <td>0.880000</td>\n",
              "      <td>0.180000</td>\n",
              "    </tr>\n",
              "  </tbody>\n",
              "</table>\n",
              "</div>"
            ],
            "text/plain": [
              "hand          0         1\n",
              "count  9.000000  9.000000\n",
              "mean   0.855556  0.144444\n",
              "std    0.018782  0.018782\n",
              "min    0.820000  0.120000\n",
              "25%    0.840000  0.130000\n",
              "50%    0.860000  0.140000\n",
              "75%    0.870000  0.160000\n",
              "max    0.880000  0.180000"
            ]
          },
          "metadata": {
            "tags": []
          },
          "execution_count": 430
        }
      ]
    },
    {
      "metadata": {
        "id": "obkN98WZS-Jf",
        "colab_type": "code",
        "colab": {}
      },
      "cell_type": "code",
      "source": [
        "atpdf['hand'] = atpdf['hand'].astype(int)"
      ],
      "execution_count": 0,
      "outputs": []
    },
    {
      "metadata": {
        "id": "n3SXbwDVTnrC",
        "colab_type": "code",
        "outputId": "c708e68a-1f9c-493e-aae4-f113ed6268bd",
        "colab": {
          "base_uri": "https://localhost:8080/",
          "height": 297
        }
      },
      "cell_type": "code",
      "source": [
        "atpdf.describe()"
      ],
      "execution_count": 432,
      "outputs": [
        {
          "output_type": "execute_result",
          "data": {
            "text/html": [
              "<div>\n",
              "<style scoped>\n",
              "    .dataframe tbody tr th:only-of-type {\n",
              "        vertical-align: middle;\n",
              "    }\n",
              "\n",
              "    .dataframe tbody tr th {\n",
              "        vertical-align: top;\n",
              "    }\n",
              "\n",
              "    .dataframe thead th {\n",
              "        text-align: right;\n",
              "    }\n",
              "</style>\n",
              "<table border=\"1\" class=\"dataframe\">\n",
              "  <thead>\n",
              "    <tr style=\"text-align: right;\">\n",
              "      <th></th>\n",
              "      <th>player_id</th>\n",
              "      <th>hand</th>\n",
              "      <th>birth_date</th>\n",
              "      <th>ranking</th>\n",
              "    </tr>\n",
              "  </thead>\n",
              "  <tbody>\n",
              "    <tr>\n",
              "      <th>count</th>\n",
              "      <td>900.000000</td>\n",
              "      <td>900.000000</td>\n",
              "      <td>9.000000e+02</td>\n",
              "      <td>900.00000</td>\n",
              "    </tr>\n",
              "    <tr>\n",
              "      <th>mean</th>\n",
              "      <td>105385.355556</td>\n",
              "      <td>0.144444</td>\n",
              "      <td>1.986571e+07</td>\n",
              "      <td>50.50000</td>\n",
              "    </tr>\n",
              "    <tr>\n",
              "      <th>std</th>\n",
              "      <td>4572.649840</td>\n",
              "      <td>0.351735</td>\n",
              "      <td>4.270342e+04</td>\n",
              "      <td>28.88212</td>\n",
              "    </tr>\n",
              "    <tr>\n",
              "      <th>min</th>\n",
              "      <td>100644.000000</td>\n",
              "      <td>0.000000</td>\n",
              "      <td>1.976042e+07</td>\n",
              "      <td>1.00000</td>\n",
              "    </tr>\n",
              "    <tr>\n",
              "      <th>25%</th>\n",
              "      <td>104269.000000</td>\n",
              "      <td>0.000000</td>\n",
              "      <td>1.983112e+07</td>\n",
              "      <td>25.75000</td>\n",
              "    </tr>\n",
              "    <tr>\n",
              "      <th>50%</th>\n",
              "      <td>104792.000000</td>\n",
              "      <td>0.000000</td>\n",
              "      <td>1.986090e+07</td>\n",
              "      <td>50.50000</td>\n",
              "    </tr>\n",
              "    <tr>\n",
              "      <th>75%</th>\n",
              "      <td>105380.500000</td>\n",
              "      <td>0.000000</td>\n",
              "      <td>1.989072e+07</td>\n",
              "      <td>75.25000</td>\n",
              "    </tr>\n",
              "    <tr>\n",
              "      <th>max</th>\n",
              "      <td>200282.000000</td>\n",
              "      <td>1.000000</td>\n",
              "      <td>1.999042e+07</td>\n",
              "      <td>100.00000</td>\n",
              "    </tr>\n",
              "  </tbody>\n",
              "</table>\n",
              "</div>"
            ],
            "text/plain": [
              "           player_id        hand    birth_date    ranking\n",
              "count     900.000000  900.000000  9.000000e+02  900.00000\n",
              "mean   105385.355556    0.144444  1.986571e+07   50.50000\n",
              "std      4572.649840    0.351735  4.270342e+04   28.88212\n",
              "min    100644.000000    0.000000  1.976042e+07    1.00000\n",
              "25%    104269.000000    0.000000  1.983112e+07   25.75000\n",
              "50%    104792.000000    0.000000  1.986090e+07   50.50000\n",
              "75%    105380.500000    0.000000  1.989072e+07   75.25000\n",
              "max    200282.000000    1.000000  1.999042e+07  100.00000"
            ]
          },
          "metadata": {
            "tags": []
          },
          "execution_count": 432
        }
      ]
    },
    {
      "metadata": {
        "id": "VjUuTsJjTs3R",
        "colab_type": "code",
        "outputId": "8e6eb035-2fee-48df-f248-8a9a130ccc39",
        "colab": {
          "base_uri": "https://localhost:8080/",
          "height": 34
        }
      },
      "cell_type": "code",
      "source": [
        "stats.ttest_1samp(atpdf['hand'], .10)"
      ],
      "execution_count": 433,
      "outputs": [
        {
          "output_type": "execute_result",
          "data": {
            "text/plain": [
              "Ttest_1sampResult(statistic=3.790729530002155, pvalue=0.000160224068609131)"
            ]
          },
          "metadata": {
            "tags": []
          },
          "execution_count": 433
        }
      ]
    },
    {
      "metadata": {
        "id": "raKmCFQGSt1p",
        "colab_type": "code",
        "outputId": "05e00fd7-bfc7-4c38-d296-1335d50c2108",
        "colab": {
          "base_uri": "https://localhost:8080/",
          "height": 297
        }
      },
      "cell_type": "code",
      "source": [
        "WTAct.describe()"
      ],
      "execution_count": 434,
      "outputs": [
        {
          "output_type": "execute_result",
          "data": {
            "text/html": [
              "<div>\n",
              "<style scoped>\n",
              "    .dataframe tbody tr th:only-of-type {\n",
              "        vertical-align: middle;\n",
              "    }\n",
              "\n",
              "    .dataframe tbody tr th {\n",
              "        vertical-align: top;\n",
              "    }\n",
              "\n",
              "    .dataframe thead th {\n",
              "        text-align: right;\n",
              "    }\n",
              "</style>\n",
              "<table border=\"1\" class=\"dataframe\">\n",
              "  <thead>\n",
              "    <tr style=\"text-align: right;\">\n",
              "      <th>hand</th>\n",
              "      <th>0.0</th>\n",
              "      <th>1.0</th>\n",
              "    </tr>\n",
              "  </thead>\n",
              "  <tbody>\n",
              "    <tr>\n",
              "      <th>count</th>\n",
              "      <td>9.000000</td>\n",
              "      <td>9.000000</td>\n",
              "    </tr>\n",
              "    <tr>\n",
              "      <th>mean</th>\n",
              "      <td>0.918889</td>\n",
              "      <td>0.081111</td>\n",
              "    </tr>\n",
              "    <tr>\n",
              "      <th>std</th>\n",
              "      <td>0.016159</td>\n",
              "      <td>0.016159</td>\n",
              "    </tr>\n",
              "    <tr>\n",
              "      <th>min</th>\n",
              "      <td>0.900000</td>\n",
              "      <td>0.060000</td>\n",
              "    </tr>\n",
              "    <tr>\n",
              "      <th>25%</th>\n",
              "      <td>0.900000</td>\n",
              "      <td>0.070000</td>\n",
              "    </tr>\n",
              "    <tr>\n",
              "      <th>50%</th>\n",
              "      <td>0.920000</td>\n",
              "      <td>0.080000</td>\n",
              "    </tr>\n",
              "    <tr>\n",
              "      <th>75%</th>\n",
              "      <td>0.930000</td>\n",
              "      <td>0.100000</td>\n",
              "    </tr>\n",
              "    <tr>\n",
              "      <th>max</th>\n",
              "      <td>0.940000</td>\n",
              "      <td>0.100000</td>\n",
              "    </tr>\n",
              "  </tbody>\n",
              "</table>\n",
              "</div>"
            ],
            "text/plain": [
              "hand        0.0       1.0\n",
              "count  9.000000  9.000000\n",
              "mean   0.918889  0.081111\n",
              "std    0.016159  0.016159\n",
              "min    0.900000  0.060000\n",
              "25%    0.900000  0.070000\n",
              "50%    0.920000  0.080000\n",
              "75%    0.930000  0.100000\n",
              "max    0.940000  0.100000"
            ]
          },
          "metadata": {
            "tags": []
          },
          "execution_count": 434
        }
      ]
    },
    {
      "metadata": {
        "id": "nE9NsjWtUG-F",
        "colab_type": "code",
        "outputId": "3039ee6b-f854-4521-ceb4-0a12ce4a5536",
        "colab": {
          "base_uri": "https://localhost:8080/",
          "height": 297
        }
      },
      "cell_type": "code",
      "source": [
        "wtadf['hand'] = wtadf['hand'].astype(int)\n",
        "wtadf.describe()"
      ],
      "execution_count": 435,
      "outputs": [
        {
          "output_type": "execute_result",
          "data": {
            "text/html": [
              "<div>\n",
              "<style scoped>\n",
              "    .dataframe tbody tr th:only-of-type {\n",
              "        vertical-align: middle;\n",
              "    }\n",
              "\n",
              "    .dataframe tbody tr th {\n",
              "        vertical-align: top;\n",
              "    }\n",
              "\n",
              "    .dataframe thead th {\n",
              "        text-align: right;\n",
              "    }\n",
              "</style>\n",
              "<table border=\"1\" class=\"dataframe\">\n",
              "  <thead>\n",
              "    <tr style=\"text-align: right;\">\n",
              "      <th></th>\n",
              "      <th>player_id</th>\n",
              "      <th>hand</th>\n",
              "      <th>birth_date</th>\n",
              "      <th>ranking</th>\n",
              "      <th>ranking_points</th>\n",
              "      <th>tours</th>\n",
              "    </tr>\n",
              "  </thead>\n",
              "  <tbody>\n",
              "    <tr>\n",
              "      <th>count</th>\n",
              "      <td>900.000000</td>\n",
              "      <td>900.000000</td>\n",
              "      <td>9.000000e+02</td>\n",
              "      <td>900.00000</td>\n",
              "      <td>900.000000</td>\n",
              "      <td>588.000000</td>\n",
              "    </tr>\n",
              "    <tr>\n",
              "      <th>mean</th>\n",
              "      <td>202238.350000</td>\n",
              "      <td>0.081111</td>\n",
              "      <td>1.988854e+07</td>\n",
              "      <td>50.50000</td>\n",
              "      <td>1697.753333</td>\n",
              "      <td>22.066327</td>\n",
              "    </tr>\n",
              "    <tr>\n",
              "      <th>std</th>\n",
              "      <td>2593.418202</td>\n",
              "      <td>0.273157</td>\n",
              "      <td>4.540391e+04</td>\n",
              "      <td>28.88212</td>\n",
              "      <td>1529.814735</td>\n",
              "      <td>4.961249</td>\n",
              "    </tr>\n",
              "    <tr>\n",
              "      <th>min</th>\n",
              "      <td>200002.000000</td>\n",
              "      <td>0.000000</td>\n",
              "      <td>1.970093e+07</td>\n",
              "      <td>1.00000</td>\n",
              "      <td>581.000000</td>\n",
              "      <td>0.000000</td>\n",
              "    </tr>\n",
              "    <tr>\n",
              "      <th>25%</th>\n",
              "      <td>201435.000000</td>\n",
              "      <td>0.000000</td>\n",
              "      <td>1.986033e+07</td>\n",
              "      <td>25.75000</td>\n",
              "      <td>806.750000</td>\n",
              "      <td>20.000000</td>\n",
              "    </tr>\n",
              "    <tr>\n",
              "      <th>50%</th>\n",
              "      <td>201517.000000</td>\n",
              "      <td>0.000000</td>\n",
              "      <td>1.989053e+07</td>\n",
              "      <td>50.50000</td>\n",
              "      <td>1109.000000</td>\n",
              "      <td>23.000000</td>\n",
              "    </tr>\n",
              "    <tr>\n",
              "      <th>75%</th>\n",
              "      <td>201620.000000</td>\n",
              "      <td>0.000000</td>\n",
              "      <td>1.992032e+07</td>\n",
              "      <td>75.25000</td>\n",
              "      <td>1845.750000</td>\n",
              "      <td>25.000000</td>\n",
              "    </tr>\n",
              "    <tr>\n",
              "      <th>max</th>\n",
              "      <td>216153.000000</td>\n",
              "      <td>1.000000</td>\n",
              "      <td>2.001083e+07</td>\n",
              "      <td>100.00000</td>\n",
              "      <td>13260.000000</td>\n",
              "      <td>34.000000</td>\n",
              "    </tr>\n",
              "  </tbody>\n",
              "</table>\n",
              "</div>"
            ],
            "text/plain": [
              "           player_id        hand    birth_date    ranking  ranking_points  \\\n",
              "count     900.000000  900.000000  9.000000e+02  900.00000      900.000000   \n",
              "mean   202238.350000    0.081111  1.988854e+07   50.50000     1697.753333   \n",
              "std      2593.418202    0.273157  4.540391e+04   28.88212     1529.814735   \n",
              "min    200002.000000    0.000000  1.970093e+07    1.00000      581.000000   \n",
              "25%    201435.000000    0.000000  1.986033e+07   25.75000      806.750000   \n",
              "50%    201517.000000    0.000000  1.989053e+07   50.50000     1109.000000   \n",
              "75%    201620.000000    0.000000  1.992032e+07   75.25000     1845.750000   \n",
              "max    216153.000000    1.000000  2.001083e+07  100.00000    13260.000000   \n",
              "\n",
              "            tours  \n",
              "count  588.000000  \n",
              "mean    22.066327  \n",
              "std      4.961249  \n",
              "min      0.000000  \n",
              "25%     20.000000  \n",
              "50%     23.000000  \n",
              "75%     25.000000  \n",
              "max     34.000000  "
            ]
          },
          "metadata": {
            "tags": []
          },
          "execution_count": 435
        }
      ]
    },
    {
      "metadata": {
        "id": "cooSc6ACUO9C",
        "colab_type": "code",
        "outputId": "d8d0efaf-8a5d-4c31-98aa-9e2065038690",
        "colab": {
          "base_uri": "https://localhost:8080/",
          "height": 34
        }
      },
      "cell_type": "code",
      "source": [
        "stats.ttest_1samp(wtadf['hand'], .10)"
      ],
      "execution_count": 436,
      "outputs": [
        {
          "output_type": "execute_result",
          "data": {
            "text/plain": [
              "Ttest_1sampResult(statistic=-2.07450546095252, pvalue=0.03831645576759973)"
            ]
          },
          "metadata": {
            "tags": []
          },
          "execution_count": 436
        }
      ]
    },
    {
      "metadata": {
        "id": "1uU8KQ9HGhDu",
        "colab_type": "text"
      },
      "cell_type": "markdown",
      "source": [
        "Now let's look at match statistics. Top 100 vs top 100.  "
      ]
    },
    {
      "metadata": {
        "id": "0IQYUtrvGqtl",
        "colab_type": "code",
        "colab": {}
      },
      "cell_type": "code",
      "source": [
        "#import 2018 match statistics\n",
        "atpmatches2018 = pd.read_csv('https://raw.githubusercontent.com/JeffSackmann/tennis_atp/master/atp_matches_2018.csv')\n",
        "atpmatches2017 = pd.read_csv('https://raw.githubusercontent.com/JeffSackmann/tennis_atp/master/atp_matches_2017.csv')\n",
        "atpmatches2016 = pd.read_csv('https://raw.githubusercontent.com/JeffSackmann/tennis_atp/master/atp_matches_2016.csv')\n",
        "atpmatches2015 = pd.read_csv('https://raw.githubusercontent.com/JeffSackmann/tennis_atp/master/atp_matches_2015.csv')\n",
        "atpmatches2014 = pd.read_csv('https://raw.githubusercontent.com/JeffSackmann/tennis_atp/master/atp_matches_2014.csv')\n",
        "atpmatches2013 = pd.read_csv('https://raw.githubusercontent.com/JeffSackmann/tennis_atp/master/atp_matches_2013.csv')\n",
        "atpmatches2012 = pd.read_csv('https://raw.githubusercontent.com/JeffSackmann/tennis_atp/master/atp_matches_2012.csv')\n",
        "atpmatches2011 = pd.read_csv('https://raw.githubusercontent.com/JeffSackmann/tennis_atp/master/atp_matches_2011.csv')\n",
        "atpmatches2010 = pd.read_csv('https://raw.githubusercontent.com/JeffSackmann/tennis_atp/master/atp_matches_2010.csv')"
      ],
      "execution_count": 0,
      "outputs": []
    },
    {
      "metadata": {
        "id": "fLVP4QUvKk94",
        "colab_type": "code",
        "colab": {}
      },
      "cell_type": "code",
      "source": [
        "atpmatches2018 = atpmatches2018[atpmatches2018['winner_rank']<=100]\n",
        "atpmatches2018 = atpmatches2018[atpmatches2018['loser_rank']<=100]\n",
        "atpmatches2018 = atpmatches2018.replace({'R':0, 'U':0, 'L':1})"
      ],
      "execution_count": 0,
      "outputs": []
    },
    {
      "metadata": {
        "id": "ZiMWa1cOQvLA",
        "colab_type": "code",
        "colab": {}
      },
      "cell_type": "code",
      "source": [
        "atpmatches2017 = atpmatches2017[atpmatches2017['winner_rank']<=100]\n",
        "atpmatches2017 = atpmatches2017[atpmatches2017['loser_rank']<=100]\n",
        "atpmatches2017 = atpmatches2017.replace({'R':0, 'L':1})"
      ],
      "execution_count": 0,
      "outputs": []
    },
    {
      "metadata": {
        "id": "W0FsRn9EQ_5N",
        "colab_type": "code",
        "colab": {}
      },
      "cell_type": "code",
      "source": [
        "atpmatches2016 = atpmatches2016[atpmatches2016['winner_rank']<=100]\n",
        "atpmatches2016 = atpmatches2016[atpmatches2016['loser_rank']<=100]\n",
        "atpmatches2016 = atpmatches2016.replace({'R':0, 'L':1})"
      ],
      "execution_count": 0,
      "outputs": []
    },
    {
      "metadata": {
        "id": "ceNaa1u1SRkH",
        "colab_type": "code",
        "colab": {}
      },
      "cell_type": "code",
      "source": [
        "atpmatches2015 = atpmatches2015[atpmatches2015['winner_rank']<=100]\n",
        "atpmatches2015 = atpmatches2015[atpmatches2015['loser_rank']<=100]\n",
        "atpmatches2015 = atpmatches2015.replace({'R':0, 'L':1})"
      ],
      "execution_count": 0,
      "outputs": []
    },
    {
      "metadata": {
        "id": "v_RRiozHSWJ0",
        "colab_type": "code",
        "colab": {}
      },
      "cell_type": "code",
      "source": [
        "atpmatches2014 = atpmatches2014[atpmatches2014['winner_rank']<=100]\n",
        "atpmatches2014 = atpmatches2014[atpmatches2014['loser_rank']<=100]\n",
        "atpmatches2014 = atpmatches2014.replace({'R':0, 'L':1})"
      ],
      "execution_count": 0,
      "outputs": []
    },
    {
      "metadata": {
        "id": "mhS4Ba6ZSd1S",
        "colab_type": "code",
        "colab": {}
      },
      "cell_type": "code",
      "source": [
        "atpmatches2013 = atpmatches2013[atpmatches2013['winner_rank']<=100]\n",
        "atpmatches2013 = atpmatches2013[atpmatches2013['loser_rank']<=100]\n",
        "atpmatches2013 = atpmatches2013.replace({'R':0, 'L':1})"
      ],
      "execution_count": 0,
      "outputs": []
    },
    {
      "metadata": {
        "id": "cIbF57VTShsi",
        "colab_type": "code",
        "colab": {}
      },
      "cell_type": "code",
      "source": [
        "atpmatches2012 = atpmatches2012[atpmatches2012['winner_rank']<=100]\n",
        "atpmatches2012 = atpmatches2012[atpmatches2012['loser_rank']<=100]\n",
        "atpmatches2012 = atpmatches2012.replace({'R':0, 'L':1})"
      ],
      "execution_count": 0,
      "outputs": []
    },
    {
      "metadata": {
        "id": "4oE2x3XeSmOU",
        "colab_type": "code",
        "colab": {}
      },
      "cell_type": "code",
      "source": [
        "atpmatches2011 = atpmatches2011[atpmatches2011['winner_rank']<=100]\n",
        "atpmatches2011 = atpmatches2011[atpmatches2011['loser_rank']<=100]\n",
        "atpmatches2011 = atpmatches2011.replace({'R':0, 'L':1})"
      ],
      "execution_count": 0,
      "outputs": []
    },
    {
      "metadata": {
        "id": "4VghuqoBSrQ9",
        "colab_type": "code",
        "colab": {}
      },
      "cell_type": "code",
      "source": [
        "atpmatches2010 = atpmatches2010[atpmatches2010['winner_rank']<=100]\n",
        "atpmatches2010 = atpmatches2010[atpmatches2010['loser_rank']<=100]\n",
        "atpmatches2010 = atpmatches2010.replace({'R':0, 'L':1})"
      ],
      "execution_count": 0,
      "outputs": []
    },
    {
      "metadata": {
        "id": "2m9QIQegWev7",
        "colab_type": "code",
        "colab": {}
      },
      "cell_type": "code",
      "source": [
        "atp_matches = [atpmatches2018, atpmatches2017, atpmatches2016, atpmatches2015, atpmatches2014, atpmatches2013,\n",
        "              atpmatches2012, atpmatches2011, atpmatches2010]\n",
        "ATPmatchesdf = pd.concat(atp_matches)"
      ],
      "execution_count": 0,
      "outputs": []
    },
    {
      "metadata": {
        "id": "uILRc6GlW7JB",
        "colab_type": "code",
        "colab": {}
      },
      "cell_type": "code",
      "source": [
        "ATPmatchesdf = ATPmatchesdf.replace('U', 0)"
      ],
      "execution_count": 0,
      "outputs": []
    },
    {
      "metadata": {
        "id": "F7ey-vvQXguV",
        "colab_type": "code",
        "colab": {}
      },
      "cell_type": "code",
      "source": [
        "ATPmatchesdf['tourney_date'] = pd.to_datetime(ATPmatchesdf['tourney_date'], format='%Y%m%d')"
      ],
      "execution_count": 0,
      "outputs": []
    },
    {
      "metadata": {
        "id": "u2lymxxQYaZp",
        "colab_type": "code",
        "colab": {}
      },
      "cell_type": "code",
      "source": [
        "ATPmatchesct = pd.crosstab(ATPmatchesdf['tourney_date'].dt.year, ATPmatchesdf['winner_hand'], normalize='index')"
      ],
      "execution_count": 0,
      "outputs": []
    },
    {
      "metadata": {
        "id": "TT-QGqNEaNPS",
        "colab_type": "code",
        "colab": {
          "base_uri": "https://localhost:8080/",
          "height": 316
        },
        "outputId": "b41554a6-7587-4403-c4ec-d91c1e365e7b"
      },
      "cell_type": "code",
      "source": [
        "ATPct[1].plot.bar(color='blue')"
      ],
      "execution_count": 451,
      "outputs": [
        {
          "output_type": "execute_result",
          "data": {
            "text/plain": [
              "<matplotlib.axes._subplots.AxesSubplot at 0x7f85bcf540b8>"
            ]
          },
          "metadata": {
            "tags": []
          },
          "execution_count": 451
        },
        {
          "output_type": "display_data",
          "data": {
            "image/png": "[encoded data removed]",
            "text/plain": [
              "<Figure size 432x288 with 1 Axes>"
            ]
          },
          "metadata": {
            "tags": []
          }
        }
      ]
    },
    {
      "metadata": {
        "id": "oKrTWvzQvUyF",
        "colab_type": "code",
        "colab": {
          "base_uri": "https://localhost:8080/",
          "height": 316
        },
        "outputId": "fad6b80a-2a8e-4c67-fb3d-e59e3f5ce52e"
      },
      "cell_type": "code",
      "source": [
        "ATPmatchesct[1].plot.bar(color='lightblue')"
      ],
      "execution_count": 452,
      "outputs": [
        {
          "output_type": "execute_result",
          "data": {
            "text/plain": [
              "<matplotlib.axes._subplots.AxesSubplot at 0x7f85bc49dda0>"
            ]
          },
          "metadata": {
            "tags": []
          },
          "execution_count": 452
        },
        {
          "output_type": "display_data",
          "data": {
            "image/png": "[encoded data removed]",
            "text/plain": [
              "<Figure size 432x288 with 1 Axes>"
            ]
          },
          "metadata": {
            "tags": []
          }
        }
      ]
    },
    {
      "metadata": {
        "id": "kh20IdT-v4oe",
        "colab_type": "code",
        "colab": {}
      },
      "cell_type": "code",
      "source": [
        "# import wta 2018 matches\n",
        "wtamatches2018 = pd.read_csv('https://raw.githubusercontent.com/JeffSackmann/tennis_wta/master/wta_matches_2018.csv')\n",
        "wtamatches2017 = pd.read_csv('https://raw.githubusercontent.com/JeffSackmann/tennis_wta/master/wta_matches_2017.csv')\n",
        "wtamatches2016 = pd.read_csv('https://raw.githubusercontent.com/JeffSackmann/tennis_wta/master/wta_matches_2016.csv')\n",
        "wtamatches2015 = pd.read_csv('https://raw.githubusercontent.com/JeffSackmann/tennis_wta/master/wta_matches_2015.csv')\n",
        "wtamatches2014 = pd.read_csv('https://raw.githubusercontent.com/JeffSackmann/tennis_wta/master/wta_matches_2014.csv')\n",
        "wtamatches2013 = pd.read_csv('https://raw.githubusercontent.com/JeffSackmann/tennis_wta/master/wta_matches_2013.csv')\n",
        "wtamatches2012 = pd.read_csv('https://raw.githubusercontent.com/JeffSackmann/tennis_wta/master/wta_matches_2012.csv', encoding='ISO-8859-1')\n",
        "wtamatches2011 = pd.read_csv('https://raw.githubusercontent.com/JeffSackmann/tennis_wta/master/wta_matches_2011.csv')\n",
        "wtamatches2010 = pd.read_csv('https://raw.githubusercontent.com/JeffSackmann/tennis_wta/master/wta_matches_2010.csv')"
      ],
      "execution_count": 0,
      "outputs": []
    },
    {
      "metadata": {
        "id": "KCJj-r_txwMO",
        "colab_type": "code",
        "colab": {}
      },
      "cell_type": "code",
      "source": [
        "wtamatches2010 = wtamatches2010[wtamatches2010['winner_rank']<=100]\n",
        "wtamatches2010 = wtamatches2010[wtamatches2010['loser_rank']<=100]\n",
        "wtamatches2010 = wtamatches2010.replace({'R':0, 'L':1, 'U':0})\n",
        "\n",
        "wtamatches2011 = wtamatches2011[wtamatches2011['winner_rank']<=100]\n",
        "wtamatches2011 = wtamatches2011[wtamatches2011['loser_rank']<=100]\n",
        "wtamatches2011 = wtamatches2011.replace({'R':0, 'L':1, 'U':0})\n",
        "\n",
        "wtamatches2012 = wtamatches2012[wtamatches2012['winner_rank']<=100]\n",
        "wtamatches2012 = wtamatches2012[wtamatches2012['loser_rank']<=100]\n",
        "wtamatches2012 = wtamatches2012.replace({'R':0, 'L':1, 'U':0})\n",
        "\n",
        "wtamatches2013 = wtamatches2013[wtamatches2013['winner_rank']<=100]\n",
        "wtamatches2013 = wtamatches2013[wtamatches2013['loser_rank']<=100]\n",
        "wtamatches2013 = wtamatches2013.replace({'R':0, 'L':1, 'U':0})\n",
        "\n",
        "wtamatches2014 = wtamatches2014[wtamatches2014['winner_rank']<=100]\n",
        "wtamatches2014 = wtamatches2014[wtamatches2014['loser_rank']<=100]\n",
        "wtamatches2014 = wtamatches2014.replace({'R':0, 'L':1, 'U':0})\n",
        "\n",
        "wtamatches2015 = wtamatches2015[wtamatches2015['winner_rank']<=100]\n",
        "wtamatches2015 = wtamatches2015[wtamatches2015['loser_rank']<=100]\n",
        "wtamatches2015 = wtamatches2015.replace({'R':0, 'L':1, 'U':0})\n",
        "\n",
        "wtamatches2016 = wtamatches2016[wtamatches2016['winner_rank']<=100]\n",
        "wtamatches2016 = wtamatches2016[wtamatches2016['loser_rank']<=100]\n",
        "wtamatches2016 = wtamatches2016.replace({'R':0, 'L':1, 'U':0})\n",
        "\n",
        "wtamatches2017 = wtamatches2017[wtamatches2017['winner_rank']<=100]\n",
        "wtamatches2017 = wtamatches2017[wtamatches2017['loser_rank']<=100]\n",
        "wtamatches2017 = wtamatches2017.replace({'R':0, 'L':1, 'U':0})\n",
        "\n",
        "wtamatches2018 = wtamatches2018[wtamatches2018['winner_rank']<=100]\n",
        "wtamatches2018 = wtamatches2018[wtamatches2018['loser_rank']<=100]\n",
        "wtamatches2018 = wtamatches2018.replace({'R':0, 'L':1, 'U':0})"
      ],
      "execution_count": 0,
      "outputs": []
    },
    {
      "metadata": {
        "id": "trsy1zy-yPAL",
        "colab_type": "code",
        "colab": {}
      },
      "cell_type": "code",
      "source": [
        "wta_matches = [wtamatches2018, wtamatches2017, wtamatches2016, wtamatches2015, \n",
        "               wtamatches2014, wtamatches2013, wtamatches2012, wtamatches2011, \n",
        "               wtamatches2010]\n",
        "\n",
        "WTAmatchesdf = pd.concat(wta_matches)\n",
        "WTAmatchesdf['tourney_date'] = pd.to_datetime(WTAmatchesdf['tourney_date'], format='%Y%m%d')"
      ],
      "execution_count": 0,
      "outputs": []
    },
    {
      "metadata": {
        "id": "0e0yeIR71l5W",
        "colab_type": "code",
        "colab": {}
      },
      "cell_type": "code",
      "source": [
        "WTAmatchesct = pd.crosstab(WTAmatchesdf['tourney_date'].dt.year, WTAmatchesdf['winner_hand'], normalize='index')"
      ],
      "execution_count": 0,
      "outputs": []
    },
    {
      "metadata": {
        "id": "_nCQeFZ5CADk",
        "colab_type": "code",
        "colab": {
          "base_uri": "https://localhost:8080/",
          "height": 316
        },
        "outputId": "67fcf397-aeac-428a-eea8-5215e0d6b314"
      },
      "cell_type": "code",
      "source": [
        "(WTAct[1]).plot.bar(color='r')"
      ],
      "execution_count": 461,
      "outputs": [
        {
          "output_type": "execute_result",
          "data": {
            "text/plain": [
              "<matplotlib.axes._subplots.AxesSubplot at 0x7f85bc203240>"
            ]
          },
          "metadata": {
            "tags": []
          },
          "execution_count": 461
        },
        {
          "output_type": "display_data",
          "data": {
            "image/png": "[encoded data removed]",
            "text/plain": [
              "<Figure size 432x288 with 1 Axes>"
            ]
          },
          "metadata": {
            "tags": []
          }
        }
      ]
    },
    {
      "metadata": {
        "id": "_5vVyY0LBPcM",
        "colab_type": "code",
        "colab": {
          "base_uri": "https://localhost:8080/",
          "height": 316
        },
        "outputId": "08808146-f9d9-4c6e-9cfc-81b7fba828c2"
      },
      "cell_type": "code",
      "source": [
        "WTAmatchesct[1].plot.bar(color='pink')"
      ],
      "execution_count": 457,
      "outputs": [
        {
          "output_type": "execute_result",
          "data": {
            "text/plain": [
              "<matplotlib.axes._subplots.AxesSubplot at 0x7f85bc838d30>"
            ]
          },
          "metadata": {
            "tags": []
          },
          "execution_count": 457
        },
        {
          "output_type": "display_data",
          "data": {
            "image/png": "[encoded data removed]",
            "text/plain": [
              "<Figure size 432x288 with 1 Axes>"
            ]
          },
          "metadata": {
            "tags": []
          }
        }
      ]
    },
    {
      "metadata": {
        "id": "n5Kh-mVyEUXJ",
        "colab_type": "code",
        "colab": {
          "base_uri": "https://localhost:8080/",
          "height": 303
        },
        "outputId": "d95e9dbb-09f1-4eab-9073-1dfbb9332f10"
      },
      "cell_type": "code",
      "source": [
        "plt.style.use('fivethirtyeight')\n",
        "fig, ax = plt.subplots()\n",
        "\n",
        "ax.set_title('TENNIS')\n",
        "\n",
        "ind = np.arange(9)\n",
        "\n",
        "width = 0.35\n",
        "p1 = ax.bar(ind, WTAct[1], width, color='r')\n",
        "p2 = ax.bar(ind+width, WTAmatchesct[1], width, color='pink')\n",
        "\n",
        "p2 = ax.bar(ind, -ATPct[1], width, color='b')\n",
        "p3 = ax.bar(ind+width, -ATPmatchesct[1], width, color='lightblue')\n",
        "\n",
        "ax.set_xticks(ind + width / 2)\n",
        "ax.set_xticklabels(('\"10', '\"11', '\"12', '\"13', '\"14', \n",
        "                    '\"15', '\"16', '\"17', '\"18'))\n",
        "\n",
        "ax.set_yticklabels(('','', '10%', '', '0%', '', '10%'))\n",
        "\n",
        "ind1 = np.arange(.2)\n",
        "\n",
        "\n",
        "x1 = np.linspace(.1, .1, 10)\n",
        "x2 = np.linspace(-.1,-.1,10)\n",
        "\n",
        "ax.plot(x1, 'o', color='yellow')\n",
        "ax.plot(x2, 'o', color='yellow')\n",
        "\n",
        "\n",
        "\n",
        "plt.show()"
      ],
      "execution_count": 570,
      "outputs": [
        {
          "output_type": "display_data",
          "data": {
            "image/png": "[encoded data removed]",
            "text/plain": [
              "<Figure size 432x288 with 1 Axes>"
            ]
          },
          "metadata": {
            "tags": []
          }
        }
      ]
    },
    {
      "metadata": {
        "id": "-Y4HK3-DHSFx",
        "colab_type": "code",
        "colab": {
          "base_uri": "https://localhost:8080/",
          "height": 281
        },
        "outputId": "9623983f-d47b-41a1-ba07-627bd67d6e29"
      },
      "cell_type": "code",
      "source": [
        "fig, ax = plt.subplots()\n",
        "\n",
        "ax.set_title('TENNIS')\n",
        "\n",
        "ind = np.arange(9)\n",
        "ax.set_xticklabels(('2010', '2011', '2012', '2013', '2014', \n",
        "                    '2015', '2016', '2017', '2018'))\n",
        "width = .35\n",
        "p1 = ax.bar(ind, ATPct[1], width, color='b')\n",
        "p2 = ax.bar(ind+width, ATPmatchesct[1], width, color='lightblue')\n",
        "\n",
        "\n",
        "plt.show()"
      ],
      "execution_count": 480,
      "outputs": [
        {
          "output_type": "display_data",
          "data": {
            "image/png": "[encoded data removed]",
            "text/plain": [
              "<Figure size 432x288 with 1 Axes>"
            ]
          },
          "metadata": {
            "tags": []
          }
        }
      ]
    }
  ]
}