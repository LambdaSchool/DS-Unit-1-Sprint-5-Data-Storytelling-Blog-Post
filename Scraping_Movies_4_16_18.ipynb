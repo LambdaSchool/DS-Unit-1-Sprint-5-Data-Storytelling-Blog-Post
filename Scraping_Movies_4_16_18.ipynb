{
 "cells": [
  {
   "cell_type": "code",
   "execution_count": 1,
   "metadata": {
    "colab": {},
    "colab_type": "code",
    "id": "C5_KBoxsD_f3"
   },
   "outputs": [],
   "source": [
    "import pandas as pd\n",
    "import numpy as np\n",
    "import requests\n",
    "from bs4 import BeautifulSoup\n",
    "import matplotlib\n",
    "import matplotlib.pyplot as plt"
   ]
  },
  {
   "cell_type": "code",
   "execution_count": 0,
   "metadata": {
    "colab": {},
    "colab_type": "code",
    "id": "2wEi7lHsEtjF"
   },
   "outputs": [],
   "source": [
    "urls = ['https://www.the-numbers.com/movie/budgets/all', 'https://www.the-numbers.com/movie/budgets/all/101',\n",
    "      'https://www.the-numbers.com/movie/budgets/all/201', 'https://www.the-numbers.com/movie/budgets/all/301',\n",
    "      'https://www.the-numbers.com/movie/budgets/all/401', 'https://www.the-numbers.com/movie/budgets/all/501',\n",
    "       'https://www.the-numbers.com/movie/budgets/all/601', 'https://www.the-numbers.com/movie/budgets/all/701',\n",
    "       'https://www.the-numbers.com/movie/budgets/all/801', 'https://www.the-numbers.com/movie/budgets/all/901',\n",
    "       'https://www.the-numbers.com/movie/budgets/all/1001', 'https://www.the-numbers.com/movie/budgets/all/1101',\n",
    "       'https://www.the-numbers.com/movie/budgets/all/1201', 'https://www.the-numbers.com/movie/budgets/all/1301',\n",
    "       'https://www.the-numbers.com/movie/budgets/all/1401', 'https://www.the-numbers.com/movie/budgets/all/1501',\n",
    "        'https://www.the-numbers.com/movie/budgets/all/1601', 'https://www.the-numbers.com/movie/budgets/all/1701',\n",
    "        'https://www.the-numbers.com/movie/budgets/all/1801', 'https://www.the-numbers.com/movie/budgets/all/1901',\n",
    "        'https://www.the-numbers.com/movie/budgets/all/2001', 'https://www.the-numbers.com/movie/budgets/all/2101',\n",
    "        'https://www.the-numbers.com/movie/budgets/all/2201', 'https://www.the-numbers.com/movie/budgets/all/2301',\n",
    "        'https://www.the-numbers.com/movie/budgets/all/2401', 'https://www.the-numbers.com/movie/budgets/all/2501',\n",
    "        'https://www.the-numbers.com/movie/budgets/all/2601', 'https://www.the-numbers.com/movie/budgets/all/2701',\n",
    "        'https://www.the-numbers.com/movie/budgets/all/2801', 'https://www.the-numbers.com/movie/budgets/all/2901',\n",
    "        'https://www.the-numbers.com/movie/budgets/all/3001', 'https://www.the-numbers.com/movie/budgets/all/3101',\n",
    "        'https://www.the-numbers.com/movie/budgets/all/3201', 'https://www.the-numbers.com/movie/budgets/all/3301',\n",
    "        'https://www.the-numbers.com/movie/budgets/all/3401', 'https://www.the-numbers.com/movie/budgets/all/3501',\n",
    "        'https://www.the-numbers.com/movie/budgets/all/3601', 'https://www.the-numbers.com/movie/budgets/all/3701',\n",
    "        'https://www.the-numbers.com/movie/budgets/all/3801', 'https://www.the-numbers.com/movie/budgets/all/3901',\n",
    "        'https://www.the-numbers.com/movie/budgets/all/4001', 'https://www.the-numbers.com/movie/budgets/all/4101',\n",
    "        'https://www.the-numbers.com/movie/budgets/all/4201', 'https://www.the-numbers.com/movie/budgets/all/4301',\n",
    "        'https://www.the-numbers.com/movie/budgets/all/4401', 'https://www.the-numbers.com/movie/budgets/all/4501',\n",
    "        'https://www.the-numbers.com/movie/budgets/all/4601', 'https://www.the-numbers.com/movie/budgets/all/4701',\n",
    "        'https://www.the-numbers.com/movie/budgets/all/4801', 'https://www.the-numbers.com/movie/budgets/all/4901',\n",
    "        'https://www.the-numbers.com/movie/budgets/all/5001', 'https://www.the-numbers.com/movie/budgets/all/5101',\n",
    "        'https://www.the-numbers.com/movie/budgets/all/5201', 'https://www.the-numbers.com/movie/budgets/all/5301',\n",
    "        'https://www.the-numbers.com/movie/budgets/all/5401', 'https://www.the-numbers.com/movie/budgets/all/5501',\n",
    "        'https://www.the-numbers.com/movie/budgets/all/5601', 'https://www.the-numbers.com/movie/budgets/all/5701',\n",
    "        ]\n",
    "\n",
    "raw_list = []\n",
    "\n",
    "for url in urls:\n",
    "#   print(url)\n",
    "  r = requests.get(url)\n",
    "  soup = BeautifulSoup(r.text)\n",
    "  for x in soup.find_all('tr'):\n",
    "#     print(x.get_text())\n",
    "    raw_list.append(x.get_text())\n",
    "\n",
    "data = pd.Series(raw_list)\n",
    "df = data.str.split('\\n', expand=True)\n",
    "\n"
   ]
  },
  {
   "cell_type": "code",
   "execution_count": 0,
   "metadata": {
    "colab": {
     "base_uri": "https://localhost:8080/",
     "height": 195
    },
    "colab_type": "code",
    "executionInfo": {
     "elapsed": 528,
     "status": "ok",
     "timestamp": 1554423625690,
     "user": {
      "displayName": "Nedderlander Sup?",
      "photoUrl": "https://lh6.googleusercontent.com/-qzI8S3fvyi0/AAAAAAAAAAI/AAAAAAAAB-c/TpDRAnskIaM/s64/photo.jpg",
      "userId": "06599839148120495949"
     },
     "user_tz": 420
    },
    "id": "rt1Ub9e03OwO",
    "outputId": "267c7ee6-39d5-4414-e285-d26a2c5a66b5"
   },
   "outputs": [
    {
     "data": {
      "text/html": [
       "<div>\n",
       "<style scoped>\n",
       "    .dataframe tbody tr th:only-of-type {\n",
       "        vertical-align: middle;\n",
       "    }\n",
       "\n",
       "    .dataframe tbody tr th {\n",
       "        vertical-align: top;\n",
       "    }\n",
       "\n",
       "    .dataframe thead th {\n",
       "        text-align: right;\n",
       "    }\n",
       "</style>\n",
       "<table border=\"1\" class=\"dataframe\">\n",
       "  <thead>\n",
       "    <tr style=\"text-align: right;\">\n",
       "      <th></th>\n",
       "      <th>0</th>\n",
       "      <th>1</th>\n",
       "      <th>2</th>\n",
       "      <th>3</th>\n",
       "      <th>4</th>\n",
       "      <th>5</th>\n",
       "      <th>6</th>\n",
       "    </tr>\n",
       "  </thead>\n",
       "  <tbody>\n",
       "    <tr>\n",
       "      <th>0</th>\n",
       "      <td>Release DateMovieProduction BudgetDomestic Gr...</td>\n",
       "      <td>None</td>\n",
       "      <td>None</td>\n",
       "      <td>None</td>\n",
       "      <td>None</td>\n",
       "      <td>None</td>\n",
       "      <td>None</td>\n",
       "    </tr>\n",
       "    <tr>\n",
       "      <th>1</th>\n",
       "      <td>1</td>\n",
       "      <td>Dec 18, 2009</td>\n",
       "      <td>Avatar</td>\n",
       "      <td>$425,000,000</td>\n",
       "      <td>$760,507,625</td>\n",
       "      <td>$2,776,345,279</td>\n",
       "      <td></td>\n",
       "    </tr>\n",
       "    <tr>\n",
       "      <th>2</th>\n",
       "      <td>2</td>\n",
       "      <td>May 20, 2011</td>\n",
       "      <td>Pirates of the Caribbean: On Stranger Tides</td>\n",
       "      <td>$410,600,000</td>\n",
       "      <td>$241,063,875</td>\n",
       "      <td>$1,045,663,875</td>\n",
       "      <td></td>\n",
       "    </tr>\n",
       "    <tr>\n",
       "      <th>3</th>\n",
       "      <td>3</td>\n",
       "      <td>May 1, 2015</td>\n",
       "      <td>Avengers: Age of Ultron</td>\n",
       "      <td>$330,600,000</td>\n",
       "      <td>$459,005,868</td>\n",
       "      <td>$1,403,013,963</td>\n",
       "      <td></td>\n",
       "    </tr>\n",
       "    <tr>\n",
       "      <th>4</th>\n",
       "      <td>4</td>\n",
       "      <td>Dec 15, 2017</td>\n",
       "      <td>Star Wars Ep. VIII: The Last Jedi</td>\n",
       "      <td>$317,000,000</td>\n",
       "      <td>$620,181,382</td>\n",
       "      <td>$1,316,721,747</td>\n",
       "      <td></td>\n",
       "    </tr>\n",
       "  </tbody>\n",
       "</table>\n",
       "</div>"
      ],
      "text/plain": [
       "                                                   0             1  \\\n",
       "0   Release DateMovieProduction BudgetDomestic Gr...          None   \n",
       "1                                                  1  Dec 18, 2009   \n",
       "2                                                  2  May 20, 2011   \n",
       "3                                                  3   May 1, 2015   \n",
       "4                                                  4  Dec 15, 2017   \n",
       "\n",
       "                                             2             3             4  \\\n",
       "0                                         None          None          None   \n",
       "1                                       Avatar  $425,000,000  $760,507,625   \n",
       "2  Pirates of the Caribbean: On Stranger Tides  $410,600,000  $241,063,875   \n",
       "3                      Avengers: Age of Ultron  $330,600,000  $459,005,868   \n",
       "4            Star Wars Ep. VIII: The Last Jedi  $317,000,000  $620,181,382   \n",
       "\n",
       "                5     6  \n",
       "0            None  None  \n",
       "1  $2,776,345,279        \n",
       "2  $1,045,663,875        \n",
       "3  $1,403,013,963        \n",
       "4  $1,316,721,747        "
      ]
     },
     "execution_count": 164,
     "metadata": {
      "tags": []
     },
     "output_type": "execute_result"
    }
   ],
   "source": [
    "df.head()"
   ]
  },
  {
   "cell_type": "code",
   "execution_count": 0,
   "metadata": {
    "colab": {},
    "colab_type": "code",
    "id": "uGpBdRUr2k8W"
   },
   "outputs": [],
   "source": [
    "r = requests.get('https://www.the-numbers.com/movie/budgets/all')\n",
    "soup= BeautifulSoup(r.text)\n",
    "\n",
    "frames = pd.DataFrame()\n",
    "the_list = []\n",
    "\n",
    "for x in soup.find_all('tr'):\n",
    "  the_list.append(x.get_text())\n",
    "\n",
    "data = pd.Series(the_list)\n",
    "df = data.str.split('\\n', expand=True)"
   ]
  },
  {
   "cell_type": "code",
   "execution_count": 0,
   "metadata": {
    "colab": {},
    "colab_type": "code",
    "id": "w-OHgZl307CY"
   },
   "outputs": [],
   "source": [
    "# download data at the end of work\n",
    "from google.colab import files\n",
    "df.to_csv('df.csv')\n",
    "files.download('df.csv')"
   ]
  },
  {
   "cell_type": "code",
   "execution_count": 0,
   "metadata": {
    "colab": {
     "base_uri": "https://localhost:8080/",
     "height": 74,
     "resources": {
      "http://localhost:8080/nbextensions/google.colab/files.js": {
       "data": "Ly8gQ29weXJpZ2h0IDIwMTcgR29vZ2xlIExMQwovLwovLyBMaWNlbnNlZCB1bmRlciB0aGUgQXBhY2hlIExpY2Vuc2UsIFZlcnNpb24gMi4wICh0aGUgIkxpY2Vuc2UiKTsKLy8geW91IG1heSBub3QgdXNlIHRoaXMgZmlsZSBleGNlcHQgaW4gY29tcGxpYW5jZSB3aXRoIHRoZSBMaWNlbnNlLgovLyBZb3UgbWF5IG9idGFpbiBhIGNvcHkgb2YgdGhlIExpY2Vuc2UgYXQKLy8KLy8gICAgICBodHRwOi8vd3d3LmFwYWNoZS5vcmcvbGljZW5zZXMvTElDRU5TRS0yLjAKLy8KLy8gVW5sZXNzIHJlcXVpcmVkIGJ5IGFwcGxpY2FibGUgbGF3IG9yIGFncmVlZCB0byBpbiB3cml0aW5nLCBzb2Z0d2FyZQovLyBkaXN0cmlidXRlZCB1bmRlciB0aGUgTGljZW5zZSBpcyBkaXN0cmlidXRlZCBvbiBhbiAiQVMgSVMiIEJBU0lTLAovLyBXSVRIT1VUIFdBUlJBTlRJRVMgT1IgQ09ORElUSU9OUyBPRiBBTlkgS0lORCwgZWl0aGVyIGV4cHJlc3Mgb3IgaW1wbGllZC4KLy8gU2VlIHRoZSBMaWNlbnNlIGZvciB0aGUgc3BlY2lmaWMgbGFuZ3VhZ2UgZ292ZXJuaW5nIHBlcm1pc3Npb25zIGFuZAovLyBsaW1pdGF0aW9ucyB1bmRlciB0aGUgTGljZW5zZS4KCi8qKgogKiBAZmlsZW92ZXJ2aWV3IEhlbHBlcnMgZm9yIGdvb2dsZS5jb2xhYiBQeXRob24gbW9kdWxlLgogKi8KKGZ1bmN0aW9uKHNjb3BlKSB7CmZ1bmN0aW9uIHNwYW4odGV4dCwgc3R5bGVBdHRyaWJ1dGVzID0ge30pIHsKICBjb25zdCBlbGVtZW50ID0gZG9jdW1lbnQuY3JlYXRlRWxlbWVudCgnc3BhbicpOwogIGVsZW1lbnQudGV4dENvbnRlbnQgPSB0ZXh0OwogIGZvciAoY29uc3Qga2V5IG9mIE9iamVjdC5rZXlzKHN0eWxlQXR0cmlidXRlcykpIHsKICAgIGVsZW1lbnQuc3R5bGVba2V5XSA9IHN0eWxlQXR0cmlidXRlc1trZXldOwogIH0KICByZXR1cm4gZWxlbWVudDsKfQoKLy8gTWF4IG51bWJlciBvZiBieXRlcyB3aGljaCB3aWxsIGJlIHVwbG9hZGVkIGF0IGEgdGltZS4KY29uc3QgTUFYX1BBWUxPQURfU0laRSA9IDEwMCAqIDEwMjQ7Ci8vIE1heCBhbW91bnQgb2YgdGltZSB0byBibG9jayB3YWl0aW5nIGZvciB0aGUgdXNlci4KY29uc3QgRklMRV9DSEFOR0VfVElNRU9VVF9NUyA9IDMwICogMTAwMDsKCmZ1bmN0aW9uIF91cGxvYWRGaWxlcyhpbnB1dElkLCBvdXRwdXRJZCkgewogIGNvbnN0IHN0ZXBzID0gdXBsb2FkRmlsZXNTdGVwKGlucHV0SWQsIG91dHB1dElkKTsKICBjb25zdCBvdXRwdXRFbGVtZW50ID0gZG9jdW1lbnQuZ2V0RWxlbWVudEJ5SWQob3V0cHV0SWQpOwogIC8vIENhY2hlIHN0ZXBzIG9uIHRoZSBvdXRwdXRFbGVtZW50IHRvIG1ha2UgaXQgYXZhaWxhYmxlIGZvciB0aGUgbmV4dCBjYWxsCiAgLy8gdG8gdXBsb2FkRmlsZXNDb250aW51ZSBmcm9tIFB5dGhvbi4KICBvdXRwdXRFbGVtZW50LnN0ZXBzID0gc3RlcHM7CgogIHJldHVybiBfdXBsb2FkRmlsZXNDb250aW51ZShvdXRwdXRJZCk7Cn0KCi8vIFRoaXMgaXMgcm91Z2hseSBhbiBhc3luYyBnZW5lcmF0b3IgKG5vdCBzdXBwb3J0ZWQgaW4gdGhlIGJyb3dzZXIgeWV0KSwKLy8gd2hlcmUgdGhlcmUgYXJlIG11bHRpcGxlIGFzeW5jaHJvbm91cyBzdGVwcyBhbmQgdGhlIFB5dGhvbiBzaWRlIGlzIGdvaW5nCi8vIHRvIHBvbGwgZm9yIGNvbXBsZXRpb24gb2YgZWFjaCBzdGVwLgovLyBUaGlzIHVzZXMgYSBQcm9taXNlIHRvIGJsb2NrIHRoZSBweXRob24gc2lkZSBvbiBjb21wbGV0aW9uIG9mIGVhY2ggc3RlcCwKLy8gdGhlbiBwYXNzZXMgdGhlIHJlc3VsdCBvZiB0aGUgcHJldmlvdXMgc3RlcCBhcyB0aGUgaW5wdXQgdG8gdGhlIG5leHQgc3RlcC4KZnVuY3Rpb24gX3VwbG9hZEZpbGVzQ29udGludWUob3V0cHV0SWQpIHsKICBjb25zdCBvdXRwdXRFbGVtZW50ID0gZG9jdW1lbnQuZ2V0RWxlbWVudEJ5SWQob3V0cHV0SWQpOwogIGNvbnN0IHN0ZXBzID0gb3V0cHV0RWxlbWVudC5zdGVwczsKCiAgY29uc3QgbmV4dCA9IHN0ZXBzLm5leHQob3V0cHV0RWxlbWVudC5sYXN0UHJvbWlzZVZhbHVlKTsKICByZXR1cm4gUHJvbWlzZS5yZXNvbHZlKG5leHQudmFsdWUucHJvbWlzZSkudGhlbigodmFsdWUpID0+IHsKICAgIC8vIENhY2hlIHRoZSBsYXN0IHByb21pc2UgdmFsdWUgdG8gbWFrZSBpdCBhdmFpbGFibGUgdG8gdGhlIG5leHQKICAgIC8vIHN0ZXAgb2YgdGhlIGdlbmVyYXRvci4KICAgIG91dHB1dEVsZW1lbnQubGFzdFByb21pc2VWYWx1ZSA9IHZhbHVlOwogICAgcmV0dXJuIG5leHQudmFsdWUucmVzcG9uc2U7CiAgfSk7Cn0KCi8qKgogKiBHZW5lcmF0b3IgZnVuY3Rpb24gd2hpY2ggaXMgY2FsbGVkIGJldHdlZW4gZWFjaCBhc3luYyBzdGVwIG9mIHRoZSB1cGxvYWQKICogcHJvY2Vzcy4KICogQHBhcmFtIHtzdHJpbmd9IGlucHV0SWQgRWxlbWVudCBJRCBvZiB0aGUgaW5wdXQgZmlsZSBwaWNrZXIgZWxlbWVudC4KICogQHBhcmFtIHtzdHJpbmd9IG91dHB1dElkIEVsZW1lbnQgSUQgb2YgdGhlIG91dHB1dCBkaXNwbGF5LgogKiBAcmV0dXJuIHshSXRlcmFibGU8IU9iamVjdD59IEl0ZXJhYmxlIG9mIG5leHQgc3RlcHMuCiAqLwpmdW5jdGlvbiogdXBsb2FkRmlsZXNTdGVwKGlucHV0SWQsIG91dHB1dElkKSB7CiAgY29uc3QgaW5wdXRFbGVtZW50ID0gZG9jdW1lbnQuZ2V0RWxlbWVudEJ5SWQoaW5wdXRJZCk7CiAgaW5wdXRFbGVtZW50LmRpc2FibGVkID0gZmFsc2U7CgogIGNvbnN0IG91dHB1dEVsZW1lbnQgPSBkb2N1bWVudC5nZXRFbGVtZW50QnlJZChvdXRwdXRJZCk7CiAgb3V0cHV0RWxlbWVudC5pbm5lckhUTUwgPSAnJzsKCiAgY29uc3QgcGlja2VkUHJvbWlzZSA9IG5ldyBQcm9taXNlKChyZXNvbHZlKSA9PiB7CiAgICBpbnB1dEVsZW1lbnQuYWRkRXZlbnRMaXN0ZW5lcignY2hhbmdlJywgKGUpID0+IHsKICAgICAgcmVzb2x2ZShlLnRhcmdldC5maWxlcyk7CiAgICB9KTsKICB9KTsKCiAgY29uc3QgY2FuY2VsID0gZG9jdW1lbnQuY3JlYXRlRWxlbWVudCgnYnV0dG9uJyk7CiAgaW5wdXRFbGVtZW50LnBhcmVudEVsZW1lbnQuYXBwZW5kQ2hpbGQoY2FuY2VsKTsKICBjYW5jZWwudGV4dENvbnRlbnQgPSAnQ2FuY2VsIHVwbG9hZCc7CiAgY29uc3QgY2FuY2VsUHJvbWlzZSA9IG5ldyBQcm9taXNlKChyZXNvbHZlKSA9PiB7CiAgICBjYW5jZWwub25jbGljayA9ICgpID0+IHsKICAgICAgcmVzb2x2ZShudWxsKTsKICAgIH07CiAgfSk7CgogIC8vIENhbmNlbCB1cGxvYWQgaWYgdXNlciBoYXNuJ3QgcGlja2VkIGFueXRoaW5nIGluIHRpbWVvdXQuCiAgY29uc3QgdGltZW91dFByb21pc2UgPSBuZXcgUHJvbWlzZSgocmVzb2x2ZSkgPT4gewogICAgc2V0VGltZW91dCgoKSA9PiB7CiAgICAgIHJlc29sdmUobnVsbCk7CiAgICB9LCBGSUxFX0NIQU5HRV9USU1FT1VUX01TKTsKICB9KTsKCiAgLy8gV2FpdCBmb3IgdGhlIHVzZXIgdG8gcGljayB0aGUgZmlsZXMuCiAgY29uc3QgZmlsZXMgPSB5aWVsZCB7CiAgICBwcm9taXNlOiBQcm9taXNlLnJhY2UoW3BpY2tlZFByb21pc2UsIHRpbWVvdXRQcm9taXNlLCBjYW5jZWxQcm9taXNlXSksCiAgICByZXNwb25zZTogewogICAgICBhY3Rpb246ICdzdGFydGluZycsCiAgICB9CiAgfTsKCiAgaWYgKCFmaWxlcykgewogICAgcmV0dXJuIHsKICAgICAgcmVzcG9uc2U6IHsKICAgICAgICBhY3Rpb246ICdjb21wbGV0ZScsCiAgICAgIH0KICAgIH07CiAgfQoKICBjYW5jZWwucmVtb3ZlKCk7CgogIC8vIERpc2FibGUgdGhlIGlucHV0IGVsZW1lbnQgc2luY2UgZnVydGhlciBwaWNrcyBhcmUgbm90IGFsbG93ZWQuCiAgaW5wdXRFbGVtZW50LmRpc2FibGVkID0gdHJ1ZTsKCiAgZm9yIChjb25zdCBmaWxlIG9mIGZpbGVzKSB7CiAgICBjb25zdCBsaSA9IGRvY3VtZW50LmNyZWF0ZUVsZW1lbnQoJ2xpJyk7CiAgICBsaS5hcHBlbmQoc3BhbihmaWxlLm5hbWUsIHtmb250V2VpZ2h0OiAnYm9sZCd9KSk7CiAgICBsaS5hcHBlbmQoc3BhbigKICAgICAgICBgKCR7ZmlsZS50eXBlIHx8ICduL2EnfSkgLSAke2ZpbGUuc2l6ZX0gYnl0ZXMsIGAgKwogICAgICAgIGBsYXN0IG1vZGlmaWVkOiAkewogICAgICAgICAgICBmaWxlLmxhc3RNb2RpZmllZERhdGUgPyBmaWxlLmxhc3RNb2RpZmllZERhdGUudG9Mb2NhbGVEYXRlU3RyaW5nKCkgOgogICAgICAgICAgICAgICAgICAgICAgICAgICAgICAgICAgICAnbi9hJ30gLSBgKSk7CiAgICBjb25zdCBwZXJjZW50ID0gc3BhbignMCUgZG9uZScpOwogICAgbGkuYXBwZW5kQ2hpbGQocGVyY2VudCk7CgogICAgb3V0cHV0RWxlbWVudC5hcHBlbmRDaGlsZChsaSk7CgogICAgY29uc3QgZmlsZURhdGFQcm9taXNlID0gbmV3IFByb21pc2UoKHJlc29sdmUpID0+IHsKICAgICAgY29uc3QgcmVhZGVyID0gbmV3IEZpbGVSZWFkZXIoKTsKICAgICAgcmVhZGVyLm9ubG9hZCA9IChlKSA9PiB7CiAgICAgICAgcmVzb2x2ZShlLnRhcmdldC5yZXN1bHQpOwogICAgICB9OwogICAgICByZWFkZXIucmVhZEFzQXJyYXlCdWZmZXIoZmlsZSk7CiAgICB9KTsKICAgIC8vIFdhaXQgZm9yIHRoZSBkYXRhIHRvIGJlIHJlYWR5LgogICAgbGV0IGZpbGVEYXRhID0geWllbGQgewogICAgICBwcm9taXNlOiBmaWxlRGF0YVByb21pc2UsCiAgICAgIHJlc3BvbnNlOiB7CiAgICAgICAgYWN0aW9uOiAnY29udGludWUnLAogICAgICB9CiAgICB9OwoKICAgIC8vIFVzZSBhIGNodW5rZWQgc2VuZGluZyB0byBhdm9pZCBtZXNzYWdlIHNpemUgbGltaXRzLiBTZWUgYi82MjExNTY2MC4KICAgIGxldCBwb3NpdGlvbiA9IDA7CiAgICB3aGlsZSAocG9zaXRpb24gPCBmaWxlRGF0YS5ieXRlTGVuZ3RoKSB7CiAgICAgIGNvbnN0IGxlbmd0aCA9IE1hdGgubWluKGZpbGVEYXRhLmJ5dGVMZW5ndGggLSBwb3NpdGlvbiwgTUFYX1BBWUxPQURfU0laRSk7CiAgICAgIGNvbnN0IGNodW5rID0gbmV3IFVpbnQ4QXJyYXkoZmlsZURhdGEsIHBvc2l0aW9uLCBsZW5ndGgpOwogICAgICBwb3NpdGlvbiArPSBsZW5ndGg7CgogICAgICBjb25zdCBiYXNlNjQgPSBidG9hKFN0cmluZy5mcm9tQ2hhckNvZGUuYXBwbHkobnVsbCwgY2h1bmspKTsKICAgICAgeWllbGQgewogICAgICAgIHJlc3BvbnNlOiB7CiAgICAgICAgICBhY3Rpb246ICdhcHBlbmQnLAogICAgICAgICAgZmlsZTogZmlsZS5uYW1lLAogICAgICAgICAgZGF0YTogYmFzZTY0LAogICAgICAgIH0sCiAgICAgIH07CiAgICAgIHBlcmNlbnQudGV4dENvbnRlbnQgPQogICAgICAgICAgYCR7TWF0aC5yb3VuZCgocG9zaXRpb24gLyBmaWxlRGF0YS5ieXRlTGVuZ3RoKSAqIDEwMCl9JSBkb25lYDsKICAgIH0KICB9CgogIC8vIEFsbCBkb25lLgogIHlpZWxkIHsKICAgIHJlc3BvbnNlOiB7CiAgICAgIGFjdGlvbjogJ2NvbXBsZXRlJywKICAgIH0KICB9Owp9CgpzY29wZS5nb29nbGUgPSBzY29wZS5nb29nbGUgfHwge307CnNjb3BlLmdvb2dsZS5jb2xhYiA9IHNjb3BlLmdvb2dsZS5jb2xhYiB8fCB7fTsKc2NvcGUuZ29vZ2xlLmNvbGFiLl9maWxlcyA9IHsKICBfdXBsb2FkRmlsZXMsCiAgX3VwbG9hZEZpbGVzQ29udGludWUsCn07Cn0pKHNlbGYpOwo=",
       "headers": [
        [
         "content-type",
         "application/javascript"
        ]
       ],
       "ok": true,
       "status": 200,
       "status_text": ""
      }
     }
    },
    "colab_type": "code",
    "executionInfo": {
     "elapsed": 14276,
     "status": "ok",
     "timestamp": 1555343280097,
     "user": {
      "displayName": "Nedderlander Sup?",
      "photoUrl": "https://lh6.googleusercontent.com/-qzI8S3fvyi0/AAAAAAAAAAI/AAAAAAAAB-c/TpDRAnskIaM/s64/photo.jpg",
      "userId": "06599839148120495949"
     },
     "user_tz": 420
    },
    "id": "5_lxzJooj7Uf",
    "outputId": "38bdbdc0-beda-4e53-c239-2cd722f7e8e5"
   },
   "outputs": [
    {
     "data": {
      "text/html": [
       "\n",
       "     <input type=\"file\" id=\"files-4cef771e-efa2-4981-8774-b7901f16aefa\" name=\"files[]\" multiple disabled />\n",
       "     <output id=\"result-4cef771e-efa2-4981-8774-b7901f16aefa\">\n",
       "      Upload widget is only available when the cell has been executed in the\n",
       "      current browser session. Please rerun this cell to enable.\n",
       "      </output>\n",
       "      <script src=\"/nbextensions/google.colab/files.js\"></script> "
      ],
      "text/plain": [
       "<IPython.core.display.HTML object>"
      ]
     },
     "metadata": {
      "tags": []
     },
     "output_type": "display_data"
    },
    {
     "name": "stdout",
     "output_type": "stream",
     "text": [
      "Saving df (1).csv to df (1).csv\n"
     ]
    }
   ],
   "source": [
    "# upload work file\n",
    "from google.colab import files\n",
    "uploaded = files.upload()"
   ]
  },
  {
   "cell_type": "code",
   "execution_count": 32,
   "metadata": {
    "colab": {},
    "colab_type": "code",
    "id": "gGPyINXJoSwd"
   },
   "outputs": [],
   "source": [
    "# df = pd.read_csv('df (1).csv')"
   ]
  },
  {
   "cell_type": "code",
   "execution_count": 194,
   "metadata": {},
   "outputs": [],
   "source": [
    "df = pd.read_csv('the_numbers_2009.csv')"
   ]
  },
  {
   "cell_type": "code",
   "execution_count": 195,
   "metadata": {
    "colab": {
     "base_uri": "https://localhost:8080/",
     "height": 195
    },
    "colab_type": "code",
    "executionInfo": {
     "elapsed": 3688,
     "status": "ok",
     "timestamp": 1555343280102,
     "user": {
      "displayName": "Nedderlander Sup?",
      "photoUrl": "https://lh6.googleusercontent.com/-qzI8S3fvyi0/AAAAAAAAAAI/AAAAAAAAB-c/TpDRAnskIaM/s64/photo.jpg",
      "userId": "06599839148120495949"
     },
     "user_tz": 420
    },
    "id": "k9e9Bx9QAHHm",
    "outputId": "fad7fd6c-1c82-48cd-a681-6fe245796b45"
   },
   "outputs": [
    {
     "data": {
      "text/html": [
       "<div>\n",
       "<style scoped>\n",
       "    .dataframe tbody tr th:only-of-type {\n",
       "        vertical-align: middle;\n",
       "    }\n",
       "\n",
       "    .dataframe tbody tr th {\n",
       "        vertical-align: top;\n",
       "    }\n",
       "\n",
       "    .dataframe thead th {\n",
       "        text-align: right;\n",
       "    }\n",
       "</style>\n",
       "<table border=\"1\" class=\"dataframe\">\n",
       "  <thead>\n",
       "    <tr style=\"text-align: right;\">\n",
       "      <th></th>\n",
       "      <th>Unnamed: 0</th>\n",
       "      <th>0</th>\n",
       "      <th>1</th>\n",
       "      <th>2</th>\n",
       "      <th>3</th>\n",
       "      <th>4</th>\n",
       "      <th>5</th>\n",
       "      <th>6</th>\n",
       "    </tr>\n",
       "  </thead>\n",
       "  <tbody>\n",
       "    <tr>\n",
       "      <th>0</th>\n",
       "      <td>0</td>\n",
       "      <td>Release DateMovieProduction BudgetDomestic Gr...</td>\n",
       "      <td>NaN</td>\n",
       "      <td>NaN</td>\n",
       "      <td>NaN</td>\n",
       "      <td>NaN</td>\n",
       "      <td>NaN</td>\n",
       "      <td>$nan</td>\n",
       "    </tr>\n",
       "    <tr>\n",
       "      <th>1</th>\n",
       "      <td>1</td>\n",
       "      <td>1</td>\n",
       "      <td>18-Dec-09</td>\n",
       "      <td>Avatar</td>\n",
       "      <td>$425,000,000</td>\n",
       "      <td>$760,507,625</td>\n",
       "      <td>$2,776,345,279</td>\n",
       "      <td>$nan</td>\n",
       "    </tr>\n",
       "    <tr>\n",
       "      <th>2</th>\n",
       "      <td>2</td>\n",
       "      <td>2</td>\n",
       "      <td>20-May-11</td>\n",
       "      <td>Pirates of the Caribbean: On Stranger Tides</td>\n",
       "      <td>$410,600,000</td>\n",
       "      <td>$241,063,875</td>\n",
       "      <td>$1,045,663,875</td>\n",
       "      <td>$nan</td>\n",
       "    </tr>\n",
       "    <tr>\n",
       "      <th>3</th>\n",
       "      <td>3</td>\n",
       "      <td>3</td>\n",
       "      <td>1-May-15</td>\n",
       "      <td>Avengers: Age of Ultron</td>\n",
       "      <td>$330,600,000</td>\n",
       "      <td>$459,005,868</td>\n",
       "      <td>$1,403,013,963</td>\n",
       "      <td>$nan</td>\n",
       "    </tr>\n",
       "    <tr>\n",
       "      <th>4</th>\n",
       "      <td>4</td>\n",
       "      <td>4</td>\n",
       "      <td>15-Dec-17</td>\n",
       "      <td>Star Wars Ep. VIII: The Last Jedi</td>\n",
       "      <td>$317,000,000</td>\n",
       "      <td>$620,181,382</td>\n",
       "      <td>$1,316,721,747</td>\n",
       "      <td>$nan</td>\n",
       "    </tr>\n",
       "  </tbody>\n",
       "</table>\n",
       "</div>"
      ],
      "text/plain": [
       "   Unnamed: 0                                                  0          1  \\\n",
       "0           0   Release DateMovieProduction BudgetDomestic Gr...        NaN   \n",
       "1           1                                                  1  18-Dec-09   \n",
       "2           2                                                  2  20-May-11   \n",
       "3           3                                                  3   1-May-15   \n",
       "4           4                                                  4  15-Dec-17   \n",
       "\n",
       "                                             2              3              4  \\\n",
       "0                                          NaN            NaN            NaN   \n",
       "1                                       Avatar  $425,000,000   $760,507,625    \n",
       "2  Pirates of the Caribbean: On Stranger Tides  $410,600,000   $241,063,875    \n",
       "3                      Avengers: Age of Ultron  $330,600,000   $459,005,868    \n",
       "4            Star Wars Ep. VIII: The Last Jedi  $317,000,000   $620,181,382    \n",
       "\n",
       "                 5    6  \n",
       "0              NaN $nan  \n",
       "1  $2,776,345,279  $nan  \n",
       "2  $1,045,663,875  $nan  \n",
       "3  $1,403,013,963  $nan  \n",
       "4  $1,316,721,747  $nan  "
      ]
     },
     "execution_count": 195,
     "metadata": {},
     "output_type": "execute_result"
    }
   ],
   "source": [
    "df.head()"
   ]
  },
  {
   "cell_type": "code",
   "execution_count": 169,
   "metadata": {
    "colab": {
     "base_uri": "https://localhost:8080/",
     "height": 34
    },
    "colab_type": "code",
    "executionInfo": {
     "elapsed": 1811,
     "status": "ok",
     "timestamp": 1555343280104,
     "user": {
      "displayName": "Nedderlander Sup?",
      "photoUrl": "https://lh6.googleusercontent.com/-qzI8S3fvyi0/AAAAAAAAAAI/AAAAAAAAB-c/TpDRAnskIaM/s64/photo.jpg",
      "userId": "06599839148120495949"
     },
     "user_tz": 420
    },
    "id": "LNLJOFteknk_",
    "outputId": "cbfbfa98-dcf7-4615-99ce-6d10c1f107ee"
   },
   "outputs": [
    {
     "data": {
      "text/plain": [
       "['Unnamed: 0', '0', '1', '2', '3', '4', '5', '6']"
      ]
     },
     "execution_count": 169,
     "metadata": {},
     "output_type": "execute_result"
    }
   ],
   "source": [
    "df.columns.tolist()"
   ]
  },
  {
   "cell_type": "code",
   "execution_count": 5,
   "metadata": {
    "colab": {
     "base_uri": "https://localhost:8080/",
     "height": 34
    },
    "colab_type": "code",
    "executionInfo": {
     "elapsed": 345,
     "status": "ok",
     "timestamp": 1555343280320,
     "user": {
      "displayName": "Nedderlander Sup?",
      "photoUrl": "https://lh6.googleusercontent.com/-qzI8S3fvyi0/AAAAAAAAAAI/AAAAAAAAB-c/TpDRAnskIaM/s64/photo.jpg",
      "userId": "06599839148120495949"
     },
     "user_tz": 420
    },
    "id": "viSDodGSBLyd",
    "outputId": "1e675ef7-c9bf-496f-9a0c-815b14dc4535"
   },
   "outputs": [
    {
     "data": {
      "text/plain": [
       "(5787, 8)"
      ]
     },
     "execution_count": 5,
     "metadata": {},
     "output_type": "execute_result"
    }
   ],
   "source": [
    "df.shape"
   ]
  },
  {
   "cell_type": "code",
   "execution_count": 196,
   "metadata": {
    "colab": {
     "base_uri": "https://localhost:8080/",
     "height": 34
    },
    "colab_type": "code",
    "executionInfo": {
     "elapsed": 447,
     "status": "ok",
     "timestamp": 1555343283427,
     "user": {
      "displayName": "Nedderlander Sup?",
      "photoUrl": "https://lh6.googleusercontent.com/-qzI8S3fvyi0/AAAAAAAAAAI/AAAAAAAAB-c/TpDRAnskIaM/s64/photo.jpg",
      "userId": "06599839148120495949"
     },
     "user_tz": 420
    },
    "id": "a9Oer6BlExWj",
    "outputId": "86eb8dbc-c00a-41a1-fe25-19f1eb581cda"
   },
   "outputs": [
    {
     "data": {
      "text/plain": [
       "(5729, 5)"
      ]
     },
     "execution_count": 196,
     "metadata": {},
     "output_type": "execute_result"
    }
   ],
   "source": [
    "# cleaning column names, and dropping nans\n",
    "df = df.drop(columns = ['Unnamed: 0', '0', '6']).drop([0]).dropna(how='all').rename(columns={'1': 'Release Date', '2':'Movie',\n",
    "                                                                                        '3':'Production Budget', '4': 'Domestic Gross', '5':'Worldwide Gross'})\n",
    "df.shape"
   ]
  },
  {
   "cell_type": "code",
   "execution_count": 7,
   "metadata": {
    "colab": {
     "base_uri": "https://localhost:8080/",
     "height": 118
    },
    "colab_type": "code",
    "executionInfo": {
     "elapsed": 561,
     "status": "ok",
     "timestamp": 1555343285087,
     "user": {
      "displayName": "Nedderlander Sup?",
      "photoUrl": "https://lh6.googleusercontent.com/-qzI8S3fvyi0/AAAAAAAAAAI/AAAAAAAAB-c/TpDRAnskIaM/s64/photo.jpg",
      "userId": "06599839148120495949"
     },
     "user_tz": 420
    },
    "id": "ZFWtqKJjCIof",
    "outputId": "0588a437-0c7b-44fe-a75d-bfe56aaa8e7f"
   },
   "outputs": [
    {
     "data": {
      "text/plain": [
       "Release Date         object\n",
       "Movie                object\n",
       "Production Budget    object\n",
       "Domestic Gross       object\n",
       "Worldwide Gross      object\n",
       "dtype: object"
      ]
     },
     "execution_count": 7,
     "metadata": {},
     "output_type": "execute_result"
    }
   ],
   "source": [
    "# we lost 58 rows, which makes sense, the original list is of 5,731 movies so we lost about 2, \n",
    "# the dropped rows were mostly title rows that got caught in the webscraper\n",
    "\n",
    "# Now we can set dtypes before describing our data\n",
    "df.dtypes\n",
    "\n"
   ]
  },
  {
   "cell_type": "code",
   "execution_count": 197,
   "metadata": {
    "colab": {
     "base_uri": "https://localhost:8080/",
     "height": 195
    },
    "colab_type": "code",
    "executionInfo": {
     "elapsed": 495,
     "status": "ok",
     "timestamp": 1555343286516,
     "user": {
      "displayName": "Nedderlander Sup?",
      "photoUrl": "https://lh6.googleusercontent.com/-qzI8S3fvyi0/AAAAAAAAAAI/AAAAAAAAB-c/TpDRAnskIaM/s64/photo.jpg",
      "userId": "06599839148120495949"
     },
     "user_tz": 420
    },
    "id": "k8Q7bJo0Tw-8",
    "outputId": "d412786a-3925-4da3-812a-ebd772cebf49"
   },
   "outputs": [
    {
     "data": {
      "text/html": [
       "<div>\n",
       "<style scoped>\n",
       "    .dataframe tbody tr th:only-of-type {\n",
       "        vertical-align: middle;\n",
       "    }\n",
       "\n",
       "    .dataframe tbody tr th {\n",
       "        vertical-align: top;\n",
       "    }\n",
       "\n",
       "    .dataframe thead th {\n",
       "        text-align: right;\n",
       "    }\n",
       "</style>\n",
       "<table border=\"1\" class=\"dataframe\">\n",
       "  <thead>\n",
       "    <tr style=\"text-align: right;\">\n",
       "      <th></th>\n",
       "      <th>Release Date</th>\n",
       "      <th>Movie</th>\n",
       "      <th>Production Budget</th>\n",
       "      <th>Domestic Gross</th>\n",
       "      <th>Worldwide Gross</th>\n",
       "    </tr>\n",
       "  </thead>\n",
       "  <tbody>\n",
       "    <tr>\n",
       "      <th>1</th>\n",
       "      <td>18-Dec-09</td>\n",
       "      <td>Avatar</td>\n",
       "      <td>$425,000,000</td>\n",
       "      <td>$760,507,625</td>\n",
       "      <td>$2,776,345,279</td>\n",
       "    </tr>\n",
       "    <tr>\n",
       "      <th>2</th>\n",
       "      <td>20-May-11</td>\n",
       "      <td>Pirates of the Caribbean: On Stranger Tides</td>\n",
       "      <td>$410,600,000</td>\n",
       "      <td>$241,063,875</td>\n",
       "      <td>$1,045,663,875</td>\n",
       "    </tr>\n",
       "    <tr>\n",
       "      <th>3</th>\n",
       "      <td>1-May-15</td>\n",
       "      <td>Avengers: Age of Ultron</td>\n",
       "      <td>$330,600,000</td>\n",
       "      <td>$459,005,868</td>\n",
       "      <td>$1,403,013,963</td>\n",
       "    </tr>\n",
       "    <tr>\n",
       "      <th>4</th>\n",
       "      <td>15-Dec-17</td>\n",
       "      <td>Star Wars Ep. VIII: The Last Jedi</td>\n",
       "      <td>$317,000,000</td>\n",
       "      <td>$620,181,382</td>\n",
       "      <td>$1,316,721,747</td>\n",
       "    </tr>\n",
       "    <tr>\n",
       "      <th>5</th>\n",
       "      <td>18-Dec-15</td>\n",
       "      <td>Star Wars Ep. VII: The Force Awakens</td>\n",
       "      <td>$306,000,000</td>\n",
       "      <td>$936,662,225</td>\n",
       "      <td>$2,053,311,220</td>\n",
       "    </tr>\n",
       "  </tbody>\n",
       "</table>\n",
       "</div>"
      ],
      "text/plain": [
       "  Release Date                                        Movie Production Budget  \\\n",
       "1    18-Dec-09                                       Avatar     $425,000,000    \n",
       "2    20-May-11  Pirates of the Caribbean: On Stranger Tides     $410,600,000    \n",
       "3     1-May-15                      Avengers: Age of Ultron     $330,600,000    \n",
       "4    15-Dec-17            Star Wars Ep. VIII: The Last Jedi     $317,000,000    \n",
       "5    18-Dec-15         Star Wars Ep. VII: The Force Awakens     $306,000,000    \n",
       "\n",
       "  Domestic Gross  Worldwide Gross  \n",
       "1  $760,507,625   $2,776,345,279   \n",
       "2  $241,063,875   $1,045,663,875   \n",
       "3  $459,005,868   $1,403,013,963   \n",
       "4  $620,181,382   $1,316,721,747   \n",
       "5  $936,662,225   $2,053,311,220   "
      ]
     },
     "execution_count": 197,
     "metadata": {},
     "output_type": "execute_result"
    }
   ],
   "source": [
    "df.head()"
   ]
  },
  {
   "cell_type": "code",
   "execution_count": 198,
   "metadata": {
    "scrolled": true
   },
   "outputs": [
    {
     "data": {
      "text/html": [
       "<div>\n",
       "<style scoped>\n",
       "    .dataframe tbody tr th:only-of-type {\n",
       "        vertical-align: middle;\n",
       "    }\n",
       "\n",
       "    .dataframe tbody tr th {\n",
       "        vertical-align: top;\n",
       "    }\n",
       "\n",
       "    .dataframe thead th {\n",
       "        text-align: right;\n",
       "    }\n",
       "</style>\n",
       "<table border=\"1\" class=\"dataframe\">\n",
       "  <thead>\n",
       "    <tr style=\"text-align: right;\">\n",
       "      <th></th>\n",
       "      <th>Release Date</th>\n",
       "      <th>Movie</th>\n",
       "      <th>Production Budget</th>\n",
       "      <th>Domestic Gross</th>\n",
       "      <th>Worldwide Gross</th>\n",
       "    </tr>\n",
       "  </thead>\n",
       "  <tbody>\n",
       "    <tr>\n",
       "      <th>4817</th>\n",
       "      <td>29-May-63</td>\n",
       "      <td>Hud</td>\n",
       "      <td>$2,500,000</td>\n",
       "      <td>$10,000,000</td>\n",
       "      <td>$10,000,000</td>\n",
       "    </tr>\n",
       "  </tbody>\n",
       "</table>\n",
       "</div>"
      ],
      "text/plain": [
       "     Release Date Movie Production Budget Domestic Gross Worldwide Gross\n",
       "4817    29-May-63   Hud       $2,500,000    $10,000,000     $10,000,000 "
      ]
     },
     "execution_count": 198,
     "metadata": {},
     "output_type": "execute_result"
    }
   ],
   "source": [
    "df[df['Movie'] == 'Hud']\n",
    "# looks like some dates are encoded indirectly"
   ]
  },
  {
   "cell_type": "code",
   "execution_count": 202,
   "metadata": {
    "colab": {},
    "colab_type": "code",
    "id": "MNNjgDk_Cc-F"
   },
   "outputs": [
    {
     "data": {
      "text/html": [
       "<div>\n",
       "<style scoped>\n",
       "    .dataframe tbody tr th:only-of-type {\n",
       "        vertical-align: middle;\n",
       "    }\n",
       "\n",
       "    .dataframe tbody tr th {\n",
       "        vertical-align: top;\n",
       "    }\n",
       "\n",
       "    .dataframe thead th {\n",
       "        text-align: right;\n",
       "    }\n",
       "</style>\n",
       "<table border=\"1\" class=\"dataframe\">\n",
       "  <thead>\n",
       "    <tr style=\"text-align: right;\">\n",
       "      <th></th>\n",
       "      <th>Release Date</th>\n",
       "      <th>Movie</th>\n",
       "      <th>Production Budget</th>\n",
       "      <th>Domestic Gross</th>\n",
       "      <th>Worldwide Gross</th>\n",
       "      <th>Release Date Year</th>\n",
       "      <th>Release Date Month</th>\n",
       "      <th>Release Date Day</th>\n",
       "    </tr>\n",
       "  </thead>\n",
       "  <tbody>\n",
       "    <tr>\n",
       "      <th>1</th>\n",
       "      <td>2009-12-18</td>\n",
       "      <td>Avatar</td>\n",
       "      <td>$425,000,000.00</td>\n",
       "      <td>$760,507,625.00</td>\n",
       "      <td>$2,776,345,279.00</td>\n",
       "      <td>2009</td>\n",
       "      <td>12</td>\n",
       "      <td>18</td>\n",
       "    </tr>\n",
       "    <tr>\n",
       "      <th>2</th>\n",
       "      <td>2011-05-20</td>\n",
       "      <td>Pirates of the Caribbean: On Stranger Tides</td>\n",
       "      <td>$410,600,000.00</td>\n",
       "      <td>$241,063,875.00</td>\n",
       "      <td>$1,045,663,875.00</td>\n",
       "      <td>2011</td>\n",
       "      <td>5</td>\n",
       "      <td>20</td>\n",
       "    </tr>\n",
       "    <tr>\n",
       "      <th>3</th>\n",
       "      <td>2015-05-01</td>\n",
       "      <td>Avengers: Age of Ultron</td>\n",
       "      <td>$330,600,000.00</td>\n",
       "      <td>$459,005,868.00</td>\n",
       "      <td>$1,403,013,963.00</td>\n",
       "      <td>2015</td>\n",
       "      <td>5</td>\n",
       "      <td>1</td>\n",
       "    </tr>\n",
       "    <tr>\n",
       "      <th>4</th>\n",
       "      <td>2017-12-15</td>\n",
       "      <td>Star Wars Ep. VIII: The Last Jedi</td>\n",
       "      <td>$317,000,000.00</td>\n",
       "      <td>$620,181,382.00</td>\n",
       "      <td>$1,316,721,747.00</td>\n",
       "      <td>2017</td>\n",
       "      <td>12</td>\n",
       "      <td>15</td>\n",
       "    </tr>\n",
       "    <tr>\n",
       "      <th>5</th>\n",
       "      <td>2015-12-18</td>\n",
       "      <td>Star Wars Ep. VII: The Force Awakens</td>\n",
       "      <td>$306,000,000.00</td>\n",
       "      <td>$936,662,225.00</td>\n",
       "      <td>$2,053,311,220.00</td>\n",
       "      <td>2015</td>\n",
       "      <td>12</td>\n",
       "      <td>18</td>\n",
       "    </tr>\n",
       "  </tbody>\n",
       "</table>\n",
       "</div>"
      ],
      "text/plain": [
       "  Release Date                                        Movie  \\\n",
       "1   2009-12-18                                       Avatar   \n",
       "2   2011-05-20  Pirates of the Caribbean: On Stranger Tides   \n",
       "3   2015-05-01                      Avengers: Age of Ultron   \n",
       "4   2017-12-15            Star Wars Ep. VIII: The Last Jedi   \n",
       "5   2015-12-18         Star Wars Ep. VII: The Force Awakens   \n",
       "\n",
       "   Production Budget  Domestic Gross   Worldwide Gross  Release Date Year  \\\n",
       "1    $425,000,000.00 $760,507,625.00 $2,776,345,279.00               2009   \n",
       "2    $410,600,000.00 $241,063,875.00 $1,045,663,875.00               2011   \n",
       "3    $330,600,000.00 $459,005,868.00 $1,403,013,963.00               2015   \n",
       "4    $317,000,000.00 $620,181,382.00 $1,316,721,747.00               2017   \n",
       "5    $306,000,000.00 $936,662,225.00 $2,053,311,220.00               2015   \n",
       "\n",
       "   Release Date Month  Release Date Day  \n",
       "1                  12                18  \n",
       "2                   5                20  \n",
       "3                   5                 1  \n",
       "4                  12                15  \n",
       "5                  12                18  "
      ]
     },
     "execution_count": 202,
     "metadata": {},
     "output_type": "execute_result"
    }
   ],
   "source": [
    "# so everything is an object when we should have dates and budgets\n",
    "\n",
    "# I'm going to replace dollars with floats now:\n",
    "df[ df.columns[2:]] = df[df.columns[2:]].replace('[$,]', '', regex=True).astype(float)\n",
    "\n",
    "# and then this re-formats our floats as dollars:\n",
    "pd.options.display.float_format = '${:,.2f}'.format\n",
    "\n",
    "# and now I'll cast our dates into datetime objects\n",
    "df['Release Date'] = pd.to_datetime(df['Release Date'],infer_datetime_format=True)\n",
    "df['Release Date Year'] = df['Release Date'].dt.year \n",
    "df['Release Date Month'] = df['Release Date'].dt.month\n",
    "df['Release Date Day'] = df['Release Date'].dt.day\n",
    "df.head()"
   ]
  },
  {
   "cell_type": "code",
   "execution_count": 203,
   "metadata": {
    "colab": {
     "base_uri": "https://localhost:8080/",
     "height": 118
    },
    "colab_type": "code",
    "executionInfo": {
     "elapsed": 400,
     "status": "ok",
     "timestamp": 1555286879743,
     "user": {
      "displayName": "Nedderlander Sup?",
      "photoUrl": "https://lh6.googleusercontent.com/-qzI8S3fvyi0/AAAAAAAAAAI/AAAAAAAAB-c/TpDRAnskIaM/s64/photo.jpg",
      "userId": "06599839148120495949"
     },
     "user_tz": 420
    },
    "id": "8MNgTuK5YELG",
    "outputId": "2fff59b5-9c35-4ee9-ee02-7affcaaeb6d9"
   },
   "outputs": [
    {
     "data": {
      "text/plain": [
       "Release Date          datetime64[ns]\n",
       "Movie                         object\n",
       "Production Budget            float64\n",
       "Domestic Gross               float64\n",
       "Worldwide Gross              float64\n",
       "Release Date Year              int64\n",
       "Release Date Month             int64\n",
       "Release Date Day               int64\n",
       "dtype: object"
      ]
     },
     "execution_count": 203,
     "metadata": {},
     "output_type": "execute_result"
    }
   ],
   "source": [
    "df.dtypes\n",
    "# now we have dates and numbers along with a title, time to do some exploratory stats and graphing"
   ]
  },
  {
   "cell_type": "code",
   "execution_count": 204,
   "metadata": {
    "colab": {
     "base_uri": "https://localhost:8080/",
     "height": 284
    },
    "colab_type": "code",
    "executionInfo": {
     "elapsed": 308,
     "status": "ok",
     "timestamp": 1555286882295,
     "user": {
      "displayName": "Nedderlander Sup?",
      "photoUrl": "https://lh6.googleusercontent.com/-qzI8S3fvyi0/AAAAAAAAAAI/AAAAAAAAB-c/TpDRAnskIaM/s64/photo.jpg",
      "userId": "06599839148120495949"
     },
     "user_tz": 420
    },
    "id": "eIstdwAyaseU",
    "outputId": "86ec0628-4e83-4a0d-f22e-d9a1d827de01",
    "scrolled": true
   },
   "outputs": [
    {
     "data": {
      "text/plain": [
       "(       Production Budget  Domestic Gross   Worldwide Gross  Release Date Year  \\\n",
       " count          $5,193.00       $5,193.00         $5,193.00          $5,193.00   \n",
       " mean      $33,897,517.73  $46,286,351.62   $100,725,464.81          $2,005.80   \n",
       " std       $42,599,347.59  $70,346,865.13   $181,267,432.83             $12.38   \n",
       " min            $1,100.00         $388.00           $401.00          $1,969.00   \n",
       " 25%        $6,500,000.00   $4,299,773.00     $8,130,727.00          $2,000.00   \n",
       " 50%       $20,000,000.00  $21,995,263.00    $35,417,162.00          $2,006.00   \n",
       " 75%       $44,000,000.00  $57,712,751.00   $109,253,745.00          $2,012.00   \n",
       " max      $425,000,000.00 $936,662,225.00 $2,776,345,279.00          $2,068.00   \n",
       " \n",
       "        Release Date Month  Release Date Day  \n",
       " count           $5,193.00         $5,193.00  \n",
       " mean                $6.94            $16.09  \n",
       " std                 $3.42             $8.52  \n",
       " min                 $1.00             $1.00  \n",
       " 25%                 $4.00             $9.00  \n",
       " 50%                 $7.00            $16.00  \n",
       " 75%                $10.00            $23.00  \n",
       " max                $12.00            $31.00  , (5193, 8))"
      ]
     },
     "execution_count": 204,
     "metadata": {},
     "output_type": "execute_result"
    }
   ],
   "source": [
    "df.describe(), df.shape\n",
    "# we can see that our money format for floats is messing around with our description, but the count makes sense, no missing values.\n",
    "# The mean of our production budget is much higher than our mode, so this means we have a heavy skew to the right on budgets, \n",
    "# this won't surprise us based on what we know about hollywood"
   ]
  },
  {
   "cell_type": "code",
   "execution_count": 205,
   "metadata": {},
   "outputs": [
    {
     "data": {
      "text/plain": [
       "(       Production Budget  Domestic Gross   Worldwide Gross  Release Date Year  \\\n",
       " count          $5,193.00       $5,193.00         $5,193.00          $5,193.00   \n",
       " mean      $33,897,517.73  $46,286,351.62   $100,725,464.81          $2,005.80   \n",
       " std       $42,599,347.59  $70,346,865.13   $181,267,432.83             $12.38   \n",
       " min            $1,100.00         $388.00           $401.00          $1,969.00   \n",
       " 25%        $6,500,000.00   $4,299,773.00     $8,130,727.00          $2,000.00   \n",
       " 50%       $20,000,000.00  $21,995,263.00    $35,417,162.00          $2,006.00   \n",
       " 75%       $44,000,000.00  $57,712,751.00   $109,253,745.00          $2,012.00   \n",
       " max      $425,000,000.00 $936,662,225.00 $2,776,345,279.00          $2,068.00   \n",
       " \n",
       "        Release Date Month  Release Date Day  \n",
       " count           $5,193.00         $5,193.00  \n",
       " mean                $6.94            $16.09  \n",
       " std                 $3.42             $8.52  \n",
       " min                 $1.00             $1.00  \n",
       " 25%                 $4.00             $9.00  \n",
       " 50%                 $7.00            $16.00  \n",
       " 75%                $10.00            $23.00  \n",
       " max                $12.00            $31.00  , (5193, 8))"
      ]
     },
     "execution_count": 205,
     "metadata": {},
     "output_type": "execute_result"
    }
   ],
   "source": [
    "# However, we have some empty columns with Domestic Gross and Worldwide Gross, I think those are either errors or \n",
    "# unreleased films so I'm going to drop them\n",
    "\n",
    "df = df[df['Domestic Gross'] != 0]\n",
    "\n",
    "df.describe(), df.shape\n",
    "\n",
    "# this reduces our height by 536 movies, too bad but they were probably noise"
   ]
  },
  {
   "cell_type": "code",
   "execution_count": 214,
   "metadata": {
    "colab": {
     "base_uri": "https://localhost:8080/",
     "height": 298
    },
    "colab_type": "code",
    "executionInfo": {
     "elapsed": 480,
     "status": "ok",
     "timestamp": 1555286889095,
     "user": {
      "displayName": "Nedderlander Sup?",
      "photoUrl": "https://lh6.googleusercontent.com/-qzI8S3fvyi0/AAAAAAAAAAI/AAAAAAAAB-c/TpDRAnskIaM/s64/photo.jpg",
      "userId": "06599839148120495949"
     },
     "user_tz": 420
    },
    "id": "ewHF_DIBauES",
    "outputId": "5d3e0004-7b0f-4da8-baf6-2c3429608da1"
   },
   "outputs": [],
   "source": [
    "# from pandas.plotting import scatter_matrix\n",
    "# scatter_matrix(df, alpha=0.2, figsize=(12,12), diagonal = 'hist');\n",
    "\n",
    "# df['Production Budget'].hist()"
   ]
  },
  {
   "cell_type": "code",
   "execution_count": 206,
   "metadata": {
    "colab": {
     "base_uri": "https://localhost:8080/",
     "height": 136
    },
    "colab_type": "code",
    "executionInfo": {
     "elapsed": 362,
     "status": "ok",
     "timestamp": 1555343393128,
     "user": {
      "displayName": "Nedderlander Sup?",
      "photoUrl": "https://lh6.googleusercontent.com/-qzI8S3fvyi0/AAAAAAAAAAI/AAAAAAAAB-c/TpDRAnskIaM/s64/photo.jpg",
      "userId": "06599839148120495949"
     },
     "user_tz": 420
    },
    "id": "-NCzacD22WQ6",
    "outputId": "b7e99487-bf27-4a62-b378-5894b62a2224"
   },
   "outputs": [
    {
     "data": {
      "text/plain": [
       "Release Date          datetime64[ns]\n",
       "Movie                         object\n",
       "Production Budget            float64\n",
       "Domestic Gross               float64\n",
       "Worldwide Gross              float64\n",
       "Release Date Year              int64\n",
       "Release Date Month             int64\n",
       "Release Date Day               int64\n",
       "dtype: object"
      ]
     },
     "execution_count": 206,
     "metadata": {},
     "output_type": "execute_result"
    }
   ],
   "source": [
    "df.dtypes"
   ]
  },
  {
   "cell_type": "code",
   "execution_count": 207,
   "metadata": {
    "colab": {},
    "colab_type": "code",
    "id": "NtU-X83-QvAw"
   },
   "outputs": [
    {
     "data": {
      "text/html": [
       "<div>\n",
       "<style scoped>\n",
       "    .dataframe tbody tr th:only-of-type {\n",
       "        vertical-align: middle;\n",
       "    }\n",
       "\n",
       "    .dataframe tbody tr th {\n",
       "        vertical-align: top;\n",
       "    }\n",
       "\n",
       "    .dataframe thead th {\n",
       "        text-align: right;\n",
       "    }\n",
       "</style>\n",
       "<table border=\"1\" class=\"dataframe\">\n",
       "  <thead>\n",
       "    <tr style=\"text-align: right;\">\n",
       "      <th></th>\n",
       "      <th>Release Date</th>\n",
       "      <th>Movie</th>\n",
       "      <th>Production Budget</th>\n",
       "      <th>Domestic Gross</th>\n",
       "      <th>Worldwide Gross</th>\n",
       "      <th>Release Date Year</th>\n",
       "      <th>Release Date Month</th>\n",
       "      <th>Release Date Day</th>\n",
       "    </tr>\n",
       "  </thead>\n",
       "  <tbody>\n",
       "    <tr>\n",
       "      <th>2305</th>\n",
       "      <td>2006-01-06</td>\n",
       "      <td>BloodRayne</td>\n",
       "      <td>$25,000,000.00</td>\n",
       "      <td>$2,405,420.00</td>\n",
       "      <td>$3,711,633.00</td>\n",
       "      <td>2006</td>\n",
       "      <td>1</td>\n",
       "      <td>6</td>\n",
       "    </tr>\n",
       "    <tr>\n",
       "      <th>4086</th>\n",
       "      <td>1971-01-01</td>\n",
       "      <td>The Andromeda Strain</td>\n",
       "      <td>$6,500,000.00</td>\n",
       "      <td>$12,376,563.00</td>\n",
       "      <td>$12,376,563.00</td>\n",
       "      <td>1971</td>\n",
       "      <td>1</td>\n",
       "      <td>1</td>\n",
       "    </tr>\n",
       "    <tr>\n",
       "      <th>4081</th>\n",
       "      <td>1981-05-22</td>\n",
       "      <td>The Four Seasons</td>\n",
       "      <td>$6,500,000.00</td>\n",
       "      <td>$42,488,161.00</td>\n",
       "      <td>$42,488,161.00</td>\n",
       "      <td>1981</td>\n",
       "      <td>5</td>\n",
       "      <td>22</td>\n",
       "    </tr>\n",
       "    <tr>\n",
       "      <th>2610</th>\n",
       "      <td>2009-12-04</td>\n",
       "      <td>Armored</td>\n",
       "      <td>$20,000,000.00</td>\n",
       "      <td>$15,988,876.00</td>\n",
       "      <td>$23,661,038.00</td>\n",
       "      <td>2009</td>\n",
       "      <td>12</td>\n",
       "      <td>4</td>\n",
       "    </tr>\n",
       "  </tbody>\n",
       "</table>\n",
       "</div>"
      ],
      "text/plain": [
       "     Release Date                 Movie  Production Budget  Domestic Gross  \\\n",
       "2305   2006-01-06            BloodRayne     $25,000,000.00   $2,405,420.00   \n",
       "4086   1971-01-01  The Andromeda Strain      $6,500,000.00  $12,376,563.00   \n",
       "4081   1981-05-22      The Four Seasons      $6,500,000.00  $42,488,161.00   \n",
       "2610   2009-12-04               Armored     $20,000,000.00  $15,988,876.00   \n",
       "\n",
       "      Worldwide Gross  Release Date Year  Release Date Month  Release Date Day  \n",
       "2305    $3,711,633.00               2006                   1                 6  \n",
       "4086   $12,376,563.00               1971                   1                 1  \n",
       "4081   $42,488,161.00               1981                   5                22  \n",
       "2610   $23,661,038.00               2009                  12                 4  "
      ]
     },
     "execution_count": 207,
     "metadata": {},
     "output_type": "execute_result"
    }
   ],
   "source": [
    "df.sample(4)"
   ]
  },
  {
   "cell_type": "code",
   "execution_count": 208,
   "metadata": {
    "colab": {},
    "colab_type": "code",
    "id": "OGi7MHj2toyN"
   },
   "outputs": [
    {
     "data": {
      "text/plain": [
       "[<matplotlib.lines.Line2D at 0xd533ef0>]"
      ]
     },
     "execution_count": 208,
     "metadata": {},
     "output_type": "execute_result"
    },
    {
     "data": {
      "image/png": "[encoded data removed]",
      "text/plain": [
       "<Figure size 432x288 with 1 Axes>"
      ]
     },
     "metadata": {
      "needs_background": "light"
     },
     "output_type": "display_data"
    }
   ],
   "source": [
    "dates = matplotlib.dates.date2num(df['Release Date'])\n",
    "budgets = df['Production Budget']\n",
    "gross = df['Worldwide Gross']\n",
    "\n",
    "plt.plot_date(dates, budgets, c = 'red')\n",
    "\n",
    "# plt.scatter(df['Release Date'], df['Production Budget'], s=100, c = 'red')\n"
   ]
  },
  {
   "cell_type": "code",
   "execution_count": 17,
   "metadata": {},
   "outputs": [
    {
     "data": {
      "text/plain": [
       "count                    5193\n",
       "unique                   2207\n",
       "top       2000-12-22 00:00:00\n",
       "freq                        9\n",
       "first     1969-01-01 00:00:00\n",
       "last      2068-12-11 00:00:00\n",
       "Name: Release Date, dtype: object"
      ]
     },
     "execution_count": 17,
     "metadata": {},
     "output_type": "execute_result"
    }
   ],
   "source": [
    "df['Release Date'].describe()\n",
    "# This is problematic as we see movies being released in the future, some manual checking confirms that most of these are \n",
    "# filmes were 19xx has been inputed as 20xx "
   ]
  },
  {
   "cell_type": "code",
   "execution_count": 209,
   "metadata": {},
   "outputs": [
    {
     "data": {
      "text/html": [
       "<div>\n",
       "<style scoped>\n",
       "    .dataframe tbody tr th:only-of-type {\n",
       "        vertical-align: middle;\n",
       "    }\n",
       "\n",
       "    .dataframe tbody tr th {\n",
       "        vertical-align: top;\n",
       "    }\n",
       "\n",
       "    .dataframe thead th {\n",
       "        text-align: right;\n",
       "    }\n",
       "</style>\n",
       "<table border=\"1\" class=\"dataframe\">\n",
       "  <thead>\n",
       "    <tr style=\"text-align: right;\">\n",
       "      <th></th>\n",
       "      <th>Release Date</th>\n",
       "      <th>Movie</th>\n",
       "      <th>Production Budget</th>\n",
       "      <th>Domestic Gross</th>\n",
       "      <th>Worldwide Gross</th>\n",
       "      <th>Release Date Year</th>\n",
       "      <th>Release Date Month</th>\n",
       "      <th>Release Date Day</th>\n",
       "    </tr>\n",
       "  </thead>\n",
       "  <tbody>\n",
       "    <tr>\n",
       "      <th>3356</th>\n",
       "      <td>1970-01-01</td>\n",
       "      <td>Patton</td>\n",
       "      <td>$12,000,000.00</td>\n",
       "      <td>$62,500,000.00</td>\n",
       "      <td>$62,500,000.00</td>\n",
       "      <td>1970</td>\n",
       "      <td>1</td>\n",
       "      <td>1</td>\n",
       "    </tr>\n",
       "    <tr>\n",
       "      <th>2443</th>\n",
       "      <td>1970-01-01</td>\n",
       "      <td>Darling Lili</td>\n",
       "      <td>$22,000,000.00</td>\n",
       "      <td>$5,000,000.00</td>\n",
       "      <td>$5,000,000.00</td>\n",
       "      <td>1970</td>\n",
       "      <td>1</td>\n",
       "      <td>1</td>\n",
       "    </tr>\n",
       "    <tr>\n",
       "      <th>3507</th>\n",
       "      <td>1970-01-01</td>\n",
       "      <td>The Molly Maguires</td>\n",
       "      <td>$11,000,000.00</td>\n",
       "      <td>$2,200,000.00</td>\n",
       "      <td>$2,200,000.00</td>\n",
       "      <td>1970</td>\n",
       "      <td>1</td>\n",
       "      <td>1</td>\n",
       "    </tr>\n",
       "    <tr>\n",
       "      <th>4583</th>\n",
       "      <td>1970-01-01</td>\n",
       "      <td>M*A*S*H</td>\n",
       "      <td>$3,500,000.00</td>\n",
       "      <td>$81,600,000.00</td>\n",
       "      <td>$81,600,000.00</td>\n",
       "      <td>1970</td>\n",
       "      <td>1</td>\n",
       "      <td>1</td>\n",
       "    </tr>\n",
       "    <tr>\n",
       "      <th>5225</th>\n",
       "      <td>1970-01-01</td>\n",
       "      <td>Beyond the Valley of the Dolls</td>\n",
       "      <td>$1,000,000.00</td>\n",
       "      <td>$9,000,000.00</td>\n",
       "      <td>$9,000,000.00</td>\n",
       "      <td>1970</td>\n",
       "      <td>1</td>\n",
       "      <td>1</td>\n",
       "    </tr>\n",
       "    <tr>\n",
       "      <th>4816</th>\n",
       "      <td>1971-01-01</td>\n",
       "      <td>Escape from the Planet of the Apes</td>\n",
       "      <td>$2,500,000.00</td>\n",
       "      <td>$12,300,000.00</td>\n",
       "      <td>$12,300,000.00</td>\n",
       "      <td>1971</td>\n",
       "      <td>1</td>\n",
       "      <td>1</td>\n",
       "    </tr>\n",
       "    <tr>\n",
       "      <th>5658</th>\n",
       "      <td>1971-01-01</td>\n",
       "      <td>Sweet Sweetback's Baad Asssss Song</td>\n",
       "      <td>$150,000.00</td>\n",
       "      <td>$15,200,000.00</td>\n",
       "      <td>$15,200,000.00</td>\n",
       "      <td>1971</td>\n",
       "      <td>1</td>\n",
       "      <td>1</td>\n",
       "    </tr>\n",
       "    <tr>\n",
       "      <th>3768</th>\n",
       "      <td>1971-01-01</td>\n",
       "      <td>Fiddler on the Roof</td>\n",
       "      <td>$9,000,000.00</td>\n",
       "      <td>$80,500,000.00</td>\n",
       "      <td>$80,500,000.00</td>\n",
       "      <td>1971</td>\n",
       "      <td>1</td>\n",
       "      <td>1</td>\n",
       "    </tr>\n",
       "    <tr>\n",
       "      <th>5358</th>\n",
       "      <td>1971-01-01</td>\n",
       "      <td>Billy Jack</td>\n",
       "      <td>$800,000.00</td>\n",
       "      <td>$98,000,000.00</td>\n",
       "      <td>$98,000,000.00</td>\n",
       "      <td>1971</td>\n",
       "      <td>1</td>\n",
       "      <td>1</td>\n",
       "    </tr>\n",
       "    <tr>\n",
       "      <th>4086</th>\n",
       "      <td>1971-01-01</td>\n",
       "      <td>The Andromeda Strain</td>\n",
       "      <td>$6,500,000.00</td>\n",
       "      <td>$12,376,563.00</td>\n",
       "      <td>$12,376,563.00</td>\n",
       "      <td>1971</td>\n",
       "      <td>1</td>\n",
       "      <td>1</td>\n",
       "    </tr>\n",
       "    <tr>\n",
       "      <th>...</th>\n",
       "      <td>...</td>\n",
       "      <td>...</td>\n",
       "      <td>...</td>\n",
       "      <td>...</td>\n",
       "      <td>...</td>\n",
       "      <td>...</td>\n",
       "      <td>...</td>\n",
       "      <td>...</td>\n",
       "    </tr>\n",
       "    <tr>\n",
       "      <th>391</th>\n",
       "      <td>2019-03-15</td>\n",
       "      <td>Wonder Park</td>\n",
       "      <td>$100,000,000.00</td>\n",
       "      <td>$39,549,886.00</td>\n",
       "      <td>$53,769,245.00</td>\n",
       "      <td>2019</td>\n",
       "      <td>3</td>\n",
       "      <td>15</td>\n",
       "    </tr>\n",
       "    <tr>\n",
       "      <th>2293</th>\n",
       "      <td>2019-03-15</td>\n",
       "      <td>Captive State</td>\n",
       "      <td>$25,000,000.00</td>\n",
       "      <td>$5,949,855.00</td>\n",
       "      <td>$6,483,371.00</td>\n",
       "      <td>2019</td>\n",
       "      <td>3</td>\n",
       "      <td>15</td>\n",
       "    </tr>\n",
       "    <tr>\n",
       "      <th>5164</th>\n",
       "      <td>2051-09-18</td>\n",
       "      <td>The Day the Earth Stood Still</td>\n",
       "      <td>$1,200,000.00</td>\n",
       "      <td>$3,700,000.00</td>\n",
       "      <td>$3,700,000.00</td>\n",
       "      <td>2051</td>\n",
       "      <td>9</td>\n",
       "      <td>18</td>\n",
       "    </tr>\n",
       "    <tr>\n",
       "      <th>5018</th>\n",
       "      <td>2051-09-18</td>\n",
       "      <td>A Streetcar Named Desire</td>\n",
       "      <td>$1,800,000.00</td>\n",
       "      <td>$8,000,000.00</td>\n",
       "      <td>$8,000,000.00</td>\n",
       "      <td>2051</td>\n",
       "      <td>9</td>\n",
       "      <td>18</td>\n",
       "    </tr>\n",
       "    <tr>\n",
       "      <th>4689</th>\n",
       "      <td>2061-12-19</td>\n",
       "      <td>Judgment at Nuremberg</td>\n",
       "      <td>$3,000,000.00</td>\n",
       "      <td>$10,000,000.00</td>\n",
       "      <td>$10,000,000.00</td>\n",
       "      <td>2061</td>\n",
       "      <td>12</td>\n",
       "      <td>19</td>\n",
       "    </tr>\n",
       "    <tr>\n",
       "      <th>4774</th>\n",
       "      <td>2061-12-19</td>\n",
       "      <td>Pocketful of Miracles</td>\n",
       "      <td>$2,900,000.00</td>\n",
       "      <td>$5,000,000.00</td>\n",
       "      <td>$5,000,000.00</td>\n",
       "      <td>2061</td>\n",
       "      <td>12</td>\n",
       "      <td>19</td>\n",
       "    </tr>\n",
       "    <tr>\n",
       "      <th>4817</th>\n",
       "      <td>2063-05-29</td>\n",
       "      <td>Hud</td>\n",
       "      <td>$2,500,000.00</td>\n",
       "      <td>$10,000,000.00</td>\n",
       "      <td>$10,000,000.00</td>\n",
       "      <td>2063</td>\n",
       "      <td>5</td>\n",
       "      <td>29</td>\n",
       "    </tr>\n",
       "    <tr>\n",
       "      <th>2898</th>\n",
       "      <td>2063-05-29</td>\n",
       "      <td>55 Days at Peking</td>\n",
       "      <td>$17,000,000.00</td>\n",
       "      <td>$10,000,000.00</td>\n",
       "      <td>$10,000,000.00</td>\n",
       "      <td>2063</td>\n",
       "      <td>5</td>\n",
       "      <td>29</td>\n",
       "    </tr>\n",
       "    <tr>\n",
       "      <th>1345</th>\n",
       "      <td>2063-06-12</td>\n",
       "      <td>Cleopatra</td>\n",
       "      <td>$42,000,000.00</td>\n",
       "      <td>$57,000,000.00</td>\n",
       "      <td>$71,000,000.00</td>\n",
       "      <td>2063</td>\n",
       "      <td>6</td>\n",
       "      <td>12</td>\n",
       "    </tr>\n",
       "    <tr>\n",
       "      <th>4793</th>\n",
       "      <td>2063-06-12</td>\n",
       "      <td>Donovan's Reef</td>\n",
       "      <td>$2,686,000.00</td>\n",
       "      <td>$6,600,000.00</td>\n",
       "      <td>$6,600,000.00</td>\n",
       "      <td>2063</td>\n",
       "      <td>6</td>\n",
       "      <td>12</td>\n",
       "    </tr>\n",
       "  </tbody>\n",
       "</table>\n",
       "<p>4198 rows × 8 columns</p>\n",
       "</div>"
      ],
      "text/plain": [
       "     Release Date                               Movie  Production Budget  \\\n",
       "3356   1970-01-01                              Patton     $12,000,000.00   \n",
       "2443   1970-01-01                        Darling Lili     $22,000,000.00   \n",
       "3507   1970-01-01                  The Molly Maguires     $11,000,000.00   \n",
       "4583   1970-01-01                             M*A*S*H      $3,500,000.00   \n",
       "5225   1970-01-01      Beyond the Valley of the Dolls      $1,000,000.00   \n",
       "4816   1971-01-01  Escape from the Planet of the Apes      $2,500,000.00   \n",
       "5658   1971-01-01  Sweet Sweetback's Baad Asssss Song        $150,000.00   \n",
       "3768   1971-01-01                 Fiddler on the Roof      $9,000,000.00   \n",
       "5358   1971-01-01                          Billy Jack        $800,000.00   \n",
       "4086   1971-01-01                The Andromeda Strain      $6,500,000.00   \n",
       "...           ...                                 ...                ...   \n",
       "391    2019-03-15                         Wonder Park    $100,000,000.00   \n",
       "2293   2019-03-15                       Captive State     $25,000,000.00   \n",
       "5164   2051-09-18       The Day the Earth Stood Still      $1,200,000.00   \n",
       "5018   2051-09-18            A Streetcar Named Desire      $1,800,000.00   \n",
       "4689   2061-12-19               Judgment at Nuremberg      $3,000,000.00   \n",
       "4774   2061-12-19               Pocketful of Miracles      $2,900,000.00   \n",
       "4817   2063-05-29                                 Hud      $2,500,000.00   \n",
       "2898   2063-05-29                   55 Days at Peking     $17,000,000.00   \n",
       "1345   2063-06-12                           Cleopatra     $42,000,000.00   \n",
       "4793   2063-06-12                      Donovan's Reef      $2,686,000.00   \n",
       "\n",
       "      Domestic Gross  Worldwide Gross  Release Date Year  Release Date Month  \\\n",
       "3356  $62,500,000.00   $62,500,000.00               1970                   1   \n",
       "2443   $5,000,000.00    $5,000,000.00               1970                   1   \n",
       "3507   $2,200,000.00    $2,200,000.00               1970                   1   \n",
       "4583  $81,600,000.00   $81,600,000.00               1970                   1   \n",
       "5225   $9,000,000.00    $9,000,000.00               1970                   1   \n",
       "4816  $12,300,000.00   $12,300,000.00               1971                   1   \n",
       "5658  $15,200,000.00   $15,200,000.00               1971                   1   \n",
       "3768  $80,500,000.00   $80,500,000.00               1971                   1   \n",
       "5358  $98,000,000.00   $98,000,000.00               1971                   1   \n",
       "4086  $12,376,563.00   $12,376,563.00               1971                   1   \n",
       "...              ...              ...                ...                 ...   \n",
       "391   $39,549,886.00   $53,769,245.00               2019                   3   \n",
       "2293   $5,949,855.00    $6,483,371.00               2019                   3   \n",
       "5164   $3,700,000.00    $3,700,000.00               2051                   9   \n",
       "5018   $8,000,000.00    $8,000,000.00               2051                   9   \n",
       "4689  $10,000,000.00   $10,000,000.00               2061                  12   \n",
       "4774   $5,000,000.00    $5,000,000.00               2061                  12   \n",
       "4817  $10,000,000.00   $10,000,000.00               2063                   5   \n",
       "2898  $10,000,000.00   $10,000,000.00               2063                   5   \n",
       "1345  $57,000,000.00   $71,000,000.00               2063                   6   \n",
       "4793   $6,600,000.00    $6,600,000.00               2063                   6   \n",
       "\n",
       "      Release Date Day  \n",
       "3356                 1  \n",
       "2443                 1  \n",
       "3507                 1  \n",
       "4583                 1  \n",
       "5225                 1  \n",
       "4816                 1  \n",
       "5658                 1  \n",
       "3768                 1  \n",
       "5358                 1  \n",
       "4086                 1  \n",
       "...                ...  \n",
       "391                 15  \n",
       "2293                15  \n",
       "5164                18  \n",
       "5018                18  \n",
       "4689                19  \n",
       "4774                19  \n",
       "4817                29  \n",
       "2898                29  \n",
       "1345                12  \n",
       "4793                12  \n",
       "\n",
       "[4198 rows x 8 columns]"
      ]
     },
     "execution_count": 209,
     "metadata": {},
     "output_type": "execute_result"
    }
   ],
   "source": [
    "# df[df['Release Date'].dt.year > 2019].duplicated()#unique().sum()\n",
    "# looks like quite a few release dates are duplicated, this is important to keep in mind when I deal with the mis\n",
    "# labeled release dates\n",
    "df[df.duplicated(subset='Release Date', keep=False) == True].sort_values('Release Date')"
   ]
  },
  {
   "cell_type": "code",
   "execution_count": 222,
   "metadata": {},
   "outputs": [
    {
     "name": "stderr",
     "output_type": "stream",
     "text": [
      "C:\\Users\\Lenovo\\Anaconda3\\lib\\site-packages\\ipykernel_launcher.py:5: SettingWithCopyWarning: \n",
      "A value is trying to be set on a copy of a slice from a DataFrame.\n",
      "Try using .loc[row_indexer,col_indexer] = value instead\n",
      "\n",
      "See the caveats in the documentation: http://pandas.pydata.org/pandas-docs/stable/indexing.html#indexing-view-versus-copy\n",
      "  \"\"\"\n",
      "C:\\Users\\Lenovo\\Anaconda3\\lib\\site-packages\\ipykernel_launcher.py:7: SettingWithCopyWarning: \n",
      "A value is trying to be set on a copy of a slice from a DataFrame.\n",
      "Try using .loc[row_indexer,col_indexer] = value instead\n",
      "\n",
      "See the caveats in the documentation: http://pandas.pydata.org/pandas-docs/stable/indexing.html#indexing-view-versus-copy\n",
      "  import sys\n",
      "C:\\Users\\Lenovo\\Anaconda3\\lib\\site-packages\\ipykernel_launcher.py:8: SettingWithCopyWarning: \n",
      "A value is trying to be set on a copy of a slice from a DataFrame.\n",
      "Try using .loc[row_indexer,col_indexer] = value instead\n",
      "\n",
      "See the caveats in the documentation: http://pandas.pydata.org/pandas-docs/stable/indexing.html#indexing-view-versus-copy\n",
      "  \n",
      "C:\\Users\\Lenovo\\Anaconda3\\lib\\site-packages\\ipykernel_launcher.py:9: SettingWithCopyWarning: \n",
      "A value is trying to be set on a copy of a slice from a DataFrame.\n",
      "Try using .loc[row_indexer,col_indexer] = value instead\n",
      "\n",
      "See the caveats in the documentation: http://pandas.pydata.org/pandas-docs/stable/indexing.html#indexing-view-versus-copy\n",
      "  if __name__ == '__main__':\n"
     ]
    }
   ],
   "source": [
    "# so I create a mask of movies that have release dates in the future\n",
    "year_mask = df[df['Release Date'].dt.year > 2019]\n",
    "\n",
    "# Then I apply a lambda function that subtracts 100 years from these dates\n",
    "year_mask['Corrected Release Date'] = year_mask['Release Date'].apply(lambda x : pd.datetime(x.year -100, x.month, x.day))\n",
    "\n",
    "year_mask['Release Date Year'] = year_mask['Corrected Release Date'].dt.year \n",
    "year_mask['Release Date Month'] = year_mask['Corrected Release Date'].dt.month\n",
    "year_mask['Release Date Day'] = year_mask['Corrected Release Date'].dt.day\n",
    "\n",
    "# now they look about right\n",
    "# year_mask.head() #year_mask['Release Date'].describe() #, year_mask.shape\n"
   ]
  },
  {
   "cell_type": "code",
   "execution_count": 223,
   "metadata": {},
   "outputs": [
    {
     "data": {
      "text/plain": [
       "Release Date              0\n",
       "Movie                     0\n",
       "Production Budget         0\n",
       "Domestic Gross            0\n",
       "Worldwide Gross           0\n",
       "Release Date Year         0\n",
       "Release Date Month        0\n",
       "Release Date Day          0\n",
       "Corrected Release Date    0\n",
       "dtype: int64"
      ]
     },
     "execution_count": 223,
     "metadata": {},
     "output_type": "execute_result"
    }
   ],
   "source": [
    "year_mask.isna().sum()"
   ]
  },
  {
   "cell_type": "code",
   "execution_count": 236,
   "metadata": {},
   "outputs": [],
   "source": [
    "# I will now replace these new values into my original datasest\n",
    "# df.loc[((df['Movie'] == year_mask['Movie']) & ((df['Release Date Year']-100) == year_mask['Release Date Year'])), 'Release Date'] = year_mask['Corrected Release Date']\n",
    "\n",
    "df.loc[(df['Movie'].isin(year_mask['Movie'])) & ((df['Release Date Year']-100).isin(year_mask['Release Date Year'])), 'Release Date'] = year_mask['Corrected Release Date']"
   ]
  },
  {
   "cell_type": "code",
   "execution_count": 237,
   "metadata": {},
   "outputs": [
    {
     "data": {
      "text/html": [
       "<div>\n",
       "<style scoped>\n",
       "    .dataframe tbody tr th:only-of-type {\n",
       "        vertical-align: middle;\n",
       "    }\n",
       "\n",
       "    .dataframe tbody tr th {\n",
       "        vertical-align: top;\n",
       "    }\n",
       "\n",
       "    .dataframe thead th {\n",
       "        text-align: right;\n",
       "    }\n",
       "</style>\n",
       "<table border=\"1\" class=\"dataframe\">\n",
       "  <thead>\n",
       "    <tr style=\"text-align: right;\">\n",
       "      <th></th>\n",
       "      <th>Release Date</th>\n",
       "      <th>Movie</th>\n",
       "      <th>Production Budget</th>\n",
       "      <th>Domestic Gross</th>\n",
       "      <th>Worldwide Gross</th>\n",
       "      <th>Release Date Year</th>\n",
       "      <th>Release Date Month</th>\n",
       "      <th>Release Date Day</th>\n",
       "    </tr>\n",
       "  </thead>\n",
       "  <tbody>\n",
       "    <tr>\n",
       "      <th>39</th>\n",
       "      <td>2005-12-14</td>\n",
       "      <td>King Kong</td>\n",
       "      <td>$207,000,000.00</td>\n",
       "      <td>$218,080,025.00</td>\n",
       "      <td>$550,517,357.00</td>\n",
       "      <td>2005</td>\n",
       "      <td>12</td>\n",
       "      <td>14</td>\n",
       "    </tr>\n",
       "    <tr>\n",
       "      <th>2371</th>\n",
       "      <td>1976-12-17</td>\n",
       "      <td>King Kong</td>\n",
       "      <td>$23,000,000.00</td>\n",
       "      <td>$52,614,445.00</td>\n",
       "      <td>$90,614,445.00</td>\n",
       "      <td>1976</td>\n",
       "      <td>12</td>\n",
       "      <td>17</td>\n",
       "    </tr>\n",
       "    <tr>\n",
       "      <th>5397</th>\n",
       "      <td>1933-04-07</td>\n",
       "      <td>King Kong</td>\n",
       "      <td>$672,000.00</td>\n",
       "      <td>$10,000,000.00</td>\n",
       "      <td>$10,000,650.00</td>\n",
       "      <td>2033</td>\n",
       "      <td>4</td>\n",
       "      <td>7</td>\n",
       "    </tr>\n",
       "  </tbody>\n",
       "</table>\n",
       "</div>"
      ],
      "text/plain": [
       "     Release Date      Movie  Production Budget  Domestic Gross  \\\n",
       "39     2005-12-14  King Kong    $207,000,000.00 $218,080,025.00   \n",
       "2371   1976-12-17  King Kong     $23,000,000.00  $52,614,445.00   \n",
       "5397   1933-04-07  King Kong        $672,000.00  $10,000,000.00   \n",
       "\n",
       "      Worldwide Gross  Release Date Year  Release Date Month  Release Date Day  \n",
       "39    $550,517,357.00               2005                  12                14  \n",
       "2371   $90,614,445.00               1976                  12                17  \n",
       "5397   $10,000,650.00               2033                   4                 7  "
      ]
     },
     "execution_count": 237,
     "metadata": {},
     "output_type": "execute_result"
    }
   ],
   "source": [
    "df[df['Movie'] == 'King Kong']\n",
    "# ok so the updated matching worked without killing the date of this remake, now I'll check the others"
   ]
  },
  {
   "cell_type": "code",
   "execution_count": 238,
   "metadata": {},
   "outputs": [
    {
     "data": {
      "text/plain": [
       "(Release Date          0\n",
       " Movie                 0\n",
       " Production Budget     0\n",
       " Domestic Gross        0\n",
       " Worldwide Gross       0\n",
       " Release Date Year     0\n",
       " Release Date Month    0\n",
       " Release Date Day      0\n",
       " dtype: int64, (5193, 8))"
      ]
     },
     "execution_count": 238,
     "metadata": {},
     "output_type": "execute_result"
    }
   ],
   "source": [
    "df.isna().sum(), df.shape\n",
    "# ok it looks right"
   ]
  },
  {
   "cell_type": "code",
   "execution_count": 240,
   "metadata": {},
   "outputs": [
    {
     "data": {
      "image/png": "[encoded data removed]",
      "text/plain": [
       "<Figure size 432x288 with 1 Axes>"
      ]
     },
     "metadata": {
      "needs_background": "light"
     },
     "output_type": "display_data"
    }
   ],
   "source": [
    "dates = matplotlib.dates.date2num(df['Release Date'])\n",
    "budgets = df['Production Budget']\n",
    "gross = df['Worldwide Gross']\n",
    "plt.plot_date(dates, budgets, c = 'red', alpha=1);\n",
    "plt.plot_date(dates, gross, c = 'blue', alpha = 0.05);"
   ]
  },
  {
   "cell_type": "code",
   "execution_count": 244,
   "metadata": {
    "scrolled": false
   },
   "outputs": [
    {
     "data": {
      "text/html": [
       "<style  type=\"text/css\" >\n",
       "</style>  \n",
       "<table id=\"T_63f48f86_609b_11e9_8152_e8b1fcbff3b9\" > \n",
       "<thead>    <tr> \n",
       "        <th class=\"blank level0\" ></th> \n",
       "        <th class=\"col_heading level0 col0\" >Release Date</th> \n",
       "        <th class=\"col_heading level0 col1\" >Movie</th> \n",
       "        <th class=\"col_heading level0 col2\" >Production Budget</th> \n",
       "        <th class=\"col_heading level0 col3\" >Domestic Gross</th> \n",
       "        <th class=\"col_heading level0 col4\" >Worldwide Gross</th> \n",
       "        <th class=\"col_heading level0 col5\" >Release Date Year</th> \n",
       "        <th class=\"col_heading level0 col6\" >Release Date Month</th> \n",
       "        <th class=\"col_heading level0 col7\" >Release Date Day</th> \n",
       "        <th class=\"col_heading level0 col8\" >ROI</th> \n",
       "        <th class=\"col_heading level0 col9\" >Break Even</th> \n",
       "    </tr></thead> \n",
       "<tbody>    <tr> \n",
       "        <th id=\"T_63f48f86_609b_11e9_8152_e8b1fcbff3b9level0_row0\" class=\"row_heading level0 row0\" >1</th> \n",
       "        <td id=\"T_63f48f86_609b_11e9_8152_e8b1fcbff3b9row0_col0\" class=\"data row0 col0\" >2009-12-18 00:00:00</td> \n",
       "        <td id=\"T_63f48f86_609b_11e9_8152_e8b1fcbff3b9row0_col1\" class=\"data row0 col1\" >Avatar</td> \n",
       "        <td id=\"T_63f48f86_609b_11e9_8152_e8b1fcbff3b9row0_col2\" class=\"data row0 col2\" >$425,000,000.00</td> \n",
       "        <td id=\"T_63f48f86_609b_11e9_8152_e8b1fcbff3b9row0_col3\" class=\"data row0 col3\" >$760,507,625.00</td> \n",
       "        <td id=\"T_63f48f86_609b_11e9_8152_e8b1fcbff3b9row0_col4\" class=\"data row0 col4\" >$2,776,345,279.00</td> \n",
       "        <td id=\"T_63f48f86_609b_11e9_8152_e8b1fcbff3b9row0_col5\" class=\"data row0 col5\" >2009</td> \n",
       "        <td id=\"T_63f48f86_609b_11e9_8152_e8b1fcbff3b9row0_col6\" class=\"data row0 col6\" >12</td> \n",
       "        <td id=\"T_63f48f86_609b_11e9_8152_e8b1fcbff3b9row0_col7\" class=\"data row0 col7\" >18</td> \n",
       "        <td id=\"T_63f48f86_609b_11e9_8152_e8b1fcbff3b9row0_col8\" class=\"data row0 col8\" >359.29%</td> \n",
       "        <td id=\"T_63f48f86_609b_11e9_8152_e8b1fcbff3b9row0_col9\" class=\"data row0 col9\" >True</td> \n",
       "    </tr>    <tr> \n",
       "        <th id=\"T_63f48f86_609b_11e9_8152_e8b1fcbff3b9level0_row1\" class=\"row_heading level0 row1\" >2</th> \n",
       "        <td id=\"T_63f48f86_609b_11e9_8152_e8b1fcbff3b9row1_col0\" class=\"data row1 col0\" >2011-05-20 00:00:00</td> \n",
       "        <td id=\"T_63f48f86_609b_11e9_8152_e8b1fcbff3b9row1_col1\" class=\"data row1 col1\" >Pirates of the Caribbean: On Stranger Tides</td> \n",
       "        <td id=\"T_63f48f86_609b_11e9_8152_e8b1fcbff3b9row1_col2\" class=\"data row1 col2\" >$410,600,000.00</td> \n",
       "        <td id=\"T_63f48f86_609b_11e9_8152_e8b1fcbff3b9row1_col3\" class=\"data row1 col3\" >$241,063,875.00</td> \n",
       "        <td id=\"T_63f48f86_609b_11e9_8152_e8b1fcbff3b9row1_col4\" class=\"data row1 col4\" >$1,045,663,875.00</td> \n",
       "        <td id=\"T_63f48f86_609b_11e9_8152_e8b1fcbff3b9row1_col5\" class=\"data row1 col5\" >2011</td> \n",
       "        <td id=\"T_63f48f86_609b_11e9_8152_e8b1fcbff3b9row1_col6\" class=\"data row1 col6\" >5</td> \n",
       "        <td id=\"T_63f48f86_609b_11e9_8152_e8b1fcbff3b9row1_col7\" class=\"data row1 col7\" >20</td> \n",
       "        <td id=\"T_63f48f86_609b_11e9_8152_e8b1fcbff3b9row1_col8\" class=\"data row1 col8\" >140.07%</td> \n",
       "        <td id=\"T_63f48f86_609b_11e9_8152_e8b1fcbff3b9row1_col9\" class=\"data row1 col9\" >False</td> \n",
       "    </tr>    <tr> \n",
       "        <th id=\"T_63f48f86_609b_11e9_8152_e8b1fcbff3b9level0_row2\" class=\"row_heading level0 row2\" >3</th> \n",
       "        <td id=\"T_63f48f86_609b_11e9_8152_e8b1fcbff3b9row2_col0\" class=\"data row2 col0\" >2015-05-01 00:00:00</td> \n",
       "        <td id=\"T_63f48f86_609b_11e9_8152_e8b1fcbff3b9row2_col1\" class=\"data row2 col1\" >Avengers: Age of Ultron</td> \n",
       "        <td id=\"T_63f48f86_609b_11e9_8152_e8b1fcbff3b9row2_col2\" class=\"data row2 col2\" >$330,600,000.00</td> \n",
       "        <td id=\"T_63f48f86_609b_11e9_8152_e8b1fcbff3b9row2_col3\" class=\"data row2 col3\" >$459,005,868.00</td> \n",
       "        <td id=\"T_63f48f86_609b_11e9_8152_e8b1fcbff3b9row2_col4\" class=\"data row2 col4\" >$1,403,013,963.00</td> \n",
       "        <td id=\"T_63f48f86_609b_11e9_8152_e8b1fcbff3b9row2_col5\" class=\"data row2 col5\" >2015</td> \n",
       "        <td id=\"T_63f48f86_609b_11e9_8152_e8b1fcbff3b9row2_col6\" class=\"data row2 col6\" >5</td> \n",
       "        <td id=\"T_63f48f86_609b_11e9_8152_e8b1fcbff3b9row2_col7\" class=\"data row2 col7\" >1</td> \n",
       "        <td id=\"T_63f48f86_609b_11e9_8152_e8b1fcbff3b9row2_col8\" class=\"data row2 col8\" >233.41%</td> \n",
       "        <td id=\"T_63f48f86_609b_11e9_8152_e8b1fcbff3b9row2_col9\" class=\"data row2 col9\" >True</td> \n",
       "    </tr>    <tr> \n",
       "        <th id=\"T_63f48f86_609b_11e9_8152_e8b1fcbff3b9level0_row3\" class=\"row_heading level0 row3\" >4</th> \n",
       "        <td id=\"T_63f48f86_609b_11e9_8152_e8b1fcbff3b9row3_col0\" class=\"data row3 col0\" >2017-12-15 00:00:00</td> \n",
       "        <td id=\"T_63f48f86_609b_11e9_8152_e8b1fcbff3b9row3_col1\" class=\"data row3 col1\" >Star Wars Ep. VIII: The Last Jedi</td> \n",
       "        <td id=\"T_63f48f86_609b_11e9_8152_e8b1fcbff3b9row3_col2\" class=\"data row3 col2\" >$317,000,000.00</td> \n",
       "        <td id=\"T_63f48f86_609b_11e9_8152_e8b1fcbff3b9row3_col3\" class=\"data row3 col3\" >$620,181,382.00</td> \n",
       "        <td id=\"T_63f48f86_609b_11e9_8152_e8b1fcbff3b9row3_col4\" class=\"data row3 col4\" >$1,316,721,747.00</td> \n",
       "        <td id=\"T_63f48f86_609b_11e9_8152_e8b1fcbff3b9row3_col5\" class=\"data row3 col5\" >2017</td> \n",
       "        <td id=\"T_63f48f86_609b_11e9_8152_e8b1fcbff3b9row3_col6\" class=\"data row3 col6\" >12</td> \n",
       "        <td id=\"T_63f48f86_609b_11e9_8152_e8b1fcbff3b9row3_col7\" class=\"data row3 col7\" >15</td> \n",
       "        <td id=\"T_63f48f86_609b_11e9_8152_e8b1fcbff3b9row3_col8\" class=\"data row3 col8\" >228.45%</td> \n",
       "        <td id=\"T_63f48f86_609b_11e9_8152_e8b1fcbff3b9row3_col9\" class=\"data row3 col9\" >True</td> \n",
       "    </tr>    <tr> \n",
       "        <th id=\"T_63f48f86_609b_11e9_8152_e8b1fcbff3b9level0_row4\" class=\"row_heading level0 row4\" >5</th> \n",
       "        <td id=\"T_63f48f86_609b_11e9_8152_e8b1fcbff3b9row4_col0\" class=\"data row4 col0\" >2015-12-18 00:00:00</td> \n",
       "        <td id=\"T_63f48f86_609b_11e9_8152_e8b1fcbff3b9row4_col1\" class=\"data row4 col1\" >Star Wars Ep. VII: The Force Awakens</td> \n",
       "        <td id=\"T_63f48f86_609b_11e9_8152_e8b1fcbff3b9row4_col2\" class=\"data row4 col2\" >$306,000,000.00</td> \n",
       "        <td id=\"T_63f48f86_609b_11e9_8152_e8b1fcbff3b9row4_col3\" class=\"data row4 col3\" >$936,662,225.00</td> \n",
       "        <td id=\"T_63f48f86_609b_11e9_8152_e8b1fcbff3b9row4_col4\" class=\"data row4 col4\" >$2,053,311,220.00</td> \n",
       "        <td id=\"T_63f48f86_609b_11e9_8152_e8b1fcbff3b9row4_col5\" class=\"data row4 col5\" >2015</td> \n",
       "        <td id=\"T_63f48f86_609b_11e9_8152_e8b1fcbff3b9row4_col6\" class=\"data row4 col6\" >12</td> \n",
       "        <td id=\"T_63f48f86_609b_11e9_8152_e8b1fcbff3b9row4_col7\" class=\"data row4 col7\" >18</td> \n",
       "        <td id=\"T_63f48f86_609b_11e9_8152_e8b1fcbff3b9row4_col8\" class=\"data row4 col8\" >369.06%</td> \n",
       "        <td id=\"T_63f48f86_609b_11e9_8152_e8b1fcbff3b9row4_col9\" class=\"data row4 col9\" >True</td> \n",
       "    </tr></tbody> \n",
       "</table> "
      ],
      "text/plain": [
       "<pandas.io.formats.style.Styler at 0x928cba8>"
      ]
     },
     "execution_count": 244,
     "metadata": {},
     "output_type": "execute_result"
    }
   ],
   "source": [
    "# this is interesting, we can see that until the 80s, most films were not that profitable, but now there are quite\n",
    "# a few movies that have gross far above their budget, this seems like a good place to start data, exploration, what are \n",
    "# the concrete numbers on film profitability\n",
    "# https://io9.gizmodo.com/how-much-money-does-a-movie-need-to-make-to-be-profitab-5747305  \n",
    "# https://bombreport.com/articles/when-does-a-movie-break-even-at-the-box-office/\n",
    "# based on some reading, it is very hard to estimate movie profitability due to the opaque nature of studio accounting, in fact, \n",
    "# a model to perform financial analysis on box office and studio balance sheets is probably a good project down the line\n",
    "# The basic metric is 2x production budget = break even, but there is some economic work on film ROI that suggests 373% ROI \n",
    "# is necessary to break even, however, this means no movies have ever broken even with the exception of deep throat\n",
    "# so I will go with this metric: RoI = (0.55 x Box Office$ – Production Budget$) / Production Budget$ and count ROI > 2 as break even\n",
    "# https://storyality.wordpress.com/2012/12/17/storyality-24-on-feature-films-and-roi-return-on-investment/ see more on reasoning here\n",
    "\n",
    "df['ROI'] = (0.55* df['Worldwide Gross']) / df['Production Budget']\n",
    "\n",
    "df['Break Even'] = np.where(df['ROI'] >= 2, True, False)\n",
    "\n",
    "# Here I'll nail the formatting\n",
    "pd.options.display.float_format = '{:,.2f}'.format\n",
    "\n",
    "df.head().style.format({\n",
    "    'Production Budget': '${:,.2f}'.format,\n",
    "    'Domestic Gross': '${:,.2f}'.format,\n",
    "    'Worldwide Gross': '${:,.2f}'.format,\n",
    "    'ROI': '{:,.2%}'.format,\n",
    "})"
   ]
  },
  {
   "cell_type": "code",
   "execution_count": 58,
   "metadata": {},
   "outputs": [
    {
     "data": {
      "text/plain": [
       "Release Date        0.28\n",
       "Movie               0.28\n",
       "Production Budget   0.28\n",
       "Domestic Gross      0.28\n",
       "Worldwide Gross     0.28\n",
       "ROI                 0.28\n",
       "Break Even          0.28\n",
       "dtype: float64"
      ]
     },
     "execution_count": 58,
     "metadata": {},
     "output_type": "execute_result"
    }
   ],
   "source": [
    "df[df['Break Even']==True].count() /df.shape[0]\n",
    "# looks like only 28% of films in our list break even"
   ]
  },
  {
   "cell_type": "code",
   "execution_count": 245,
   "metadata": {},
   "outputs": [
    {
     "data": {
      "text/plain": [
       "[<matplotlib.lines.Line2D at 0xb945a90>]"
      ]
     },
     "execution_count": 245,
     "metadata": {},
     "output_type": "execute_result"
    },
    {
     "data": {
      "image/png": "[encoded data removed]",
      "text/plain": [
       "<Figure size 432x288 with 1 Axes>"
      ]
     },
     "metadata": {
      "needs_background": "light"
     },
     "output_type": "display_data"
    }
   ],
   "source": [
    "dates = matplotlib.dates.date2num(df['Release Date'])\n",
    "# budgets = df['Production Budget']\n",
    "# gross = df['Worldwide Gross']\n",
    "roi = df['ROI']\n",
    "plt.plot_date(dates, roi, c = 'red', alpha=1);\n",
    "# plt.plot_date(dates, gross, c = 'blue', alpha = 0.05)\n",
    "\n",
    "# It seems like ROI is pretty stable throughout time, though there are some outliers. That huge 1000x ROI? That's Deep Throat"
   ]
  },
  {
   "cell_type": "code",
   "execution_count": 73,
   "metadata": {},
   "outputs": [
    {
     "data": {
      "text/html": [
       "<div>\n",
       "<style scoped>\n",
       "    .dataframe tbody tr th:only-of-type {\n",
       "        vertical-align: middle;\n",
       "    }\n",
       "\n",
       "    .dataframe tbody tr th {\n",
       "        vertical-align: top;\n",
       "    }\n",
       "\n",
       "    .dataframe thead th {\n",
       "        text-align: right;\n",
       "    }\n",
       "</style>\n",
       "<table border=\"1\" class=\"dataframe\">\n",
       "  <thead>\n",
       "    <tr style=\"text-align: right;\">\n",
       "      <th></th>\n",
       "      <th>Production Budget</th>\n",
       "      <th>Domestic Gross</th>\n",
       "      <th>Worldwide Gross</th>\n",
       "      <th>ROI</th>\n",
       "      <th>Break Even</th>\n",
       "    </tr>\n",
       "  </thead>\n",
       "  <tbody>\n",
       "    <tr>\n",
       "      <th>Production Budget</th>\n",
       "      <td>1.00</td>\n",
       "      <td>0.68</td>\n",
       "      <td>0.75</td>\n",
       "      <td>-0.06</td>\n",
       "      <td>-0.02</td>\n",
       "    </tr>\n",
       "    <tr>\n",
       "      <th>Domestic Gross</th>\n",
       "      <td>0.68</td>\n",
       "      <td>1.00</td>\n",
       "      <td>0.94</td>\n",
       "      <td>0.05</td>\n",
       "      <td>0.39</td>\n",
       "    </tr>\n",
       "    <tr>\n",
       "      <th>Worldwide Gross</th>\n",
       "      <td>0.75</td>\n",
       "      <td>0.94</td>\n",
       "      <td>1.00</td>\n",
       "      <td>0.04</td>\n",
       "      <td>0.37</td>\n",
       "    </tr>\n",
       "    <tr>\n",
       "      <th>ROI</th>\n",
       "      <td>-0.06</td>\n",
       "      <td>0.05</td>\n",
       "      <td>0.04</td>\n",
       "      <td>1.00</td>\n",
       "      <td>0.20</td>\n",
       "    </tr>\n",
       "    <tr>\n",
       "      <th>Break Even</th>\n",
       "      <td>-0.02</td>\n",
       "      <td>0.39</td>\n",
       "      <td>0.37</td>\n",
       "      <td>0.20</td>\n",
       "      <td>1.00</td>\n",
       "    </tr>\n",
       "  </tbody>\n",
       "</table>\n",
       "</div>"
      ],
      "text/plain": [
       "                   Production Budget  Domestic Gross  Worldwide Gross   ROI  \\\n",
       "Production Budget               1.00            0.68             0.75 -0.06   \n",
       "Domestic Gross                  0.68            1.00             0.94  0.05   \n",
       "Worldwide Gross                 0.75            0.94             1.00  0.04   \n",
       "ROI                            -0.06            0.05             0.04  1.00   \n",
       "Break Even                     -0.02            0.39             0.37  0.20   \n",
       "\n",
       "                   Break Even  \n",
       "Production Budget       -0.02  \n",
       "Domestic Gross           0.39  \n",
       "Worldwide Gross          0.37  \n",
       "ROI                      0.20  \n",
       "Break Even               1.00  "
      ]
     },
     "execution_count": 73,
     "metadata": {},
     "output_type": "execute_result"
    }
   ],
   "source": [
    "df.corr()\n",
    "# ROI also looks basically uncorrelated with all other datafields so it's safe to assume it's a random variable"
   ]
  },
  {
   "cell_type": "code",
   "execution_count": 246,
   "metadata": {},
   "outputs": [
    {
     "data": {
      "text/plain": [
       "(DATE         object\n",
       " CPIAUCNS    float64\n",
       " dtype: object, ['DATE', 'CPIAUCNS'])"
      ]
     },
     "execution_count": 246,
     "metadata": {},
     "output_type": "execute_result"
    }
   ],
   "source": [
    "# Our first release date is 1920-0-7, which is important because this will be the start of our price adjustment for inflation\n",
    "df['Release Date'].min()\n",
    "# I've downloaded all urban consumers cpi from https://fred.stlouisfed.org/series/CPIAUCNS (I chose this metric because it starts\n",
    "# early enough for our dataset)\n",
    "# Index 1982-1984=100, Not Seasonally Adjusted\n",
    "\n",
    "i_df = pd.read_csv('CPIAUCNS.csv')\n",
    "i_df.dtypes, i_df.columns.tolist()"
   ]
  },
  {
   "cell_type": "code",
   "execution_count": 249,
   "metadata": {},
   "outputs": [
    {
     "data": {
      "text/html": [
       "<div>\n",
       "<style scoped>\n",
       "    .dataframe tbody tr th:only-of-type {\n",
       "        vertical-align: middle;\n",
       "    }\n",
       "\n",
       "    .dataframe tbody tr th {\n",
       "        vertical-align: top;\n",
       "    }\n",
       "\n",
       "    .dataframe thead th {\n",
       "        text-align: right;\n",
       "    }\n",
       "</style>\n",
       "<table border=\"1\" class=\"dataframe\">\n",
       "  <thead>\n",
       "    <tr style=\"text-align: right;\">\n",
       "      <th></th>\n",
       "      <th>DATE</th>\n",
       "      <th>CPIAUCNS</th>\n",
       "      <th>Release Date Year</th>\n",
       "      <th>Release Date Month</th>\n",
       "      <th>Release Date Day</th>\n",
       "    </tr>\n",
       "  </thead>\n",
       "  <tbody>\n",
       "    <tr>\n",
       "      <th>573</th>\n",
       "      <td>1960-10-01</td>\n",
       "      <td>29.80</td>\n",
       "      <td>1960</td>\n",
       "      <td>10</td>\n",
       "      <td>1</td>\n",
       "    </tr>\n",
       "    <tr>\n",
       "      <th>1058</th>\n",
       "      <td>2001-03-01</td>\n",
       "      <td>176.20</td>\n",
       "      <td>2001</td>\n",
       "      <td>3</td>\n",
       "      <td>1</td>\n",
       "    </tr>\n",
       "    <tr>\n",
       "      <th>995</th>\n",
       "      <td>1995-12-01</td>\n",
       "      <td>153.50</td>\n",
       "      <td>1995</td>\n",
       "      <td>12</td>\n",
       "      <td>1</td>\n",
       "    </tr>\n",
       "    <tr>\n",
       "      <th>593</th>\n",
       "      <td>1962-06-01</td>\n",
       "      <td>30.20</td>\n",
       "      <td>1962</td>\n",
       "      <td>6</td>\n",
       "      <td>1</td>\n",
       "    </tr>\n",
       "    <tr>\n",
       "      <th>1207</th>\n",
       "      <td>2013-08-01</td>\n",
       "      <td>233.88</td>\n",
       "      <td>2013</td>\n",
       "      <td>8</td>\n",
       "      <td>1</td>\n",
       "    </tr>\n",
       "    <tr>\n",
       "      <th>423</th>\n",
       "      <td>1948-04-01</td>\n",
       "      <td>23.80</td>\n",
       "      <td>1948</td>\n",
       "      <td>4</td>\n",
       "      <td>1</td>\n",
       "    </tr>\n",
       "    <tr>\n",
       "      <th>691</th>\n",
       "      <td>1970-08-01</td>\n",
       "      <td>39.00</td>\n",
       "      <td>1970</td>\n",
       "      <td>8</td>\n",
       "      <td>1</td>\n",
       "    </tr>\n",
       "    <tr>\n",
       "      <th>725</th>\n",
       "      <td>1973-06-01</td>\n",
       "      <td>44.20</td>\n",
       "      <td>1973</td>\n",
       "      <td>6</td>\n",
       "      <td>1</td>\n",
       "    </tr>\n",
       "    <tr>\n",
       "      <th>1245</th>\n",
       "      <td>2016-10-01</td>\n",
       "      <td>241.73</td>\n",
       "      <td>2016</td>\n",
       "      <td>10</td>\n",
       "      <td>1</td>\n",
       "    </tr>\n",
       "    <tr>\n",
       "      <th>1145</th>\n",
       "      <td>2008-06-01</td>\n",
       "      <td>218.81</td>\n",
       "      <td>2008</td>\n",
       "      <td>6</td>\n",
       "      <td>1</td>\n",
       "    </tr>\n",
       "  </tbody>\n",
       "</table>\n",
       "</div>"
      ],
      "text/plain": [
       "           DATE  CPIAUCNS  Release Date Year  Release Date Month  \\\n",
       "573  1960-10-01     29.80               1960                  10   \n",
       "1058 2001-03-01    176.20               2001                   3   \n",
       "995  1995-12-01    153.50               1995                  12   \n",
       "593  1962-06-01     30.20               1962                   6   \n",
       "1207 2013-08-01    233.88               2013                   8   \n",
       "423  1948-04-01     23.80               1948                   4   \n",
       "691  1970-08-01     39.00               1970                   8   \n",
       "725  1973-06-01     44.20               1973                   6   \n",
       "1245 2016-10-01    241.73               2016                  10   \n",
       "1145 2008-06-01    218.81               2008                   6   \n",
       "\n",
       "      Release Date Day  \n",
       "573                  1  \n",
       "1058                 1  \n",
       "995                  1  \n",
       "593                  1  \n",
       "1207                 1  \n",
       "423                  1  \n",
       "691                  1  \n",
       "725                  1  \n",
       "1245                 1  \n",
       "1145                 1  "
      ]
     },
     "execution_count": 249,
     "metadata": {},
     "output_type": "execute_result"
    }
   ],
   "source": [
    "# and now I'll cast our dates into datetime objectsb\n",
    "i_df['DATE'] = pd.to_datetime(i_df['DATE'],infer_datetime_format=True)\n",
    "\n",
    "i_df['Release Date Year'] = i_df['DATE'].dt.year \n",
    "i_df['Release Date Month'] = i_df['DATE'].dt.month\n",
    "i_df['Release Date Day'] = i_df['DATE'].dt.day\n",
    "\n",
    "i_df.sample(10)\n",
    "# i_df.isna().sum()"
   ]
  },
  {
   "cell_type": "code",
   "execution_count": 251,
   "metadata": {},
   "outputs": [
    {
     "ename": "ValueError",
     "evalue": "Can only compare identically-labeled Series objects",
     "output_type": "error",
     "traceback": [
      "\u001b[1;31m---------------------------------------------------------------------------\u001b[0m",
      "\u001b[1;31mValueError\u001b[0m                                Traceback (most recent call last)",
      "\u001b[1;32m<ipython-input-251-ead753d1a947>\u001b[0m in \u001b[0;36m<module>\u001b[1;34m()\u001b[0m\n\u001b[0;32m      5\u001b[0m \u001b[1;31m# df[df['Release Date'].isna() == True]\u001b[0m\u001b[1;33m\u001b[0m\u001b[1;33m\u001b[0m\u001b[0m\n\u001b[0;32m      6\u001b[0m \u001b[1;33m\u001b[0m\u001b[0m\n\u001b[1;32m----> 7\u001b[1;33m bool_filter = ((df['Release Date Year'] == i_df['Release Date Year']) \n\u001b[0m\u001b[0;32m      8\u001b[0m                & (df['Release Date Month'] == i_df['Release Date Month']))\n\u001b[0;32m      9\u001b[0m \u001b[1;33m\u001b[0m\u001b[0m\n",
      "\u001b[1;32m~\\Anaconda3\\lib\\site-packages\\pandas\\core\\ops.py\u001b[0m in \u001b[0;36mwrapper\u001b[1;34m(self, other, axis)\u001b[0m\n\u001b[0;32m   1188\u001b[0m \u001b[1;33m\u001b[0m\u001b[0m\n\u001b[0;32m   1189\u001b[0m         \u001b[1;32melif\u001b[0m \u001b[0misinstance\u001b[0m\u001b[1;33m(\u001b[0m\u001b[0mother\u001b[0m\u001b[1;33m,\u001b[0m \u001b[0mABCSeries\u001b[0m\u001b[1;33m)\u001b[0m \u001b[1;32mand\u001b[0m \u001b[1;32mnot\u001b[0m \u001b[0mself\u001b[0m\u001b[1;33m.\u001b[0m\u001b[0m_indexed_same\u001b[0m\u001b[1;33m(\u001b[0m\u001b[0mother\u001b[0m\u001b[1;33m)\u001b[0m\u001b[1;33m:\u001b[0m\u001b[1;33m\u001b[0m\u001b[0m\n\u001b[1;32m-> 1190\u001b[1;33m             raise ValueError(\"Can only compare identically-labeled \"\n\u001b[0m\u001b[0;32m   1191\u001b[0m                              \"Series objects\")\n\u001b[0;32m   1192\u001b[0m \u001b[1;33m\u001b[0m\u001b[0m\n",
      "\u001b[1;31mValueError\u001b[0m: Can only compare identically-labeled Series objects"
     ]
    }
   ],
   "source": [
    "# now that we have a datetime object associated with an inflation level, \n",
    "# I need to match these monthly datapoints \n",
    "\n",
    "\n",
    "# df[df['Release Date'].isna() == True]\n",
    "\n",
    "bool_filter = ((df['Release Date Year'] == i_df['Release Date Year']) \n",
    "               & (df['Release Date Month'] == i_df['Release Date Month']))\n",
    "\n",
    "df['Price Level'] = np.where(bool_filter, i_df['CPIAUCNS'])\n",
    "\n",
    "\n",
    "# df.loc[bool_filter, 'Price Level'] = i_df['CPIAUCNS']\n",
    "\n",
    "\n",
    "# type((i_df['DATE'].dt.year)[1])\n",
    "# pd.options.display.float_format = '{:.2f}'.format\n",
    "# (df['Release Date'].dt.year).isna().sum()\n",
    "# i_df['DATE'].dt.year.isna().sum()\n",
    "# i_df['DATE'].dt.month, i_df['DATE'].dt.year "
   ]
  },
  {
   "cell_type": "code",
   "execution_count": 134,
   "metadata": {},
   "outputs": [
    {
     "data": {
      "text/html": [
       "<div>\n",
       "<style scoped>\n",
       "    .dataframe tbody tr th:only-of-type {\n",
       "        vertical-align: middle;\n",
       "    }\n",
       "\n",
       "    .dataframe tbody tr th {\n",
       "        vertical-align: top;\n",
       "    }\n",
       "\n",
       "    .dataframe thead th {\n",
       "        text-align: right;\n",
       "    }\n",
       "</style>\n",
       "<table border=\"1\" class=\"dataframe\">\n",
       "  <thead>\n",
       "    <tr style=\"text-align: right;\">\n",
       "      <th></th>\n",
       "      <th>DATE</th>\n",
       "      <th>CPIAUCNS</th>\n",
       "    </tr>\n",
       "  </thead>\n",
       "  <tbody>\n",
       "    <tr>\n",
       "      <th>1128</th>\n",
       "      <td>2007-01-01</td>\n",
       "      <td>202.42</td>\n",
       "    </tr>\n",
       "    <tr>\n",
       "      <th>1129</th>\n",
       "      <td>2007-02-01</td>\n",
       "      <td>203.50</td>\n",
       "    </tr>\n",
       "    <tr>\n",
       "      <th>1130</th>\n",
       "      <td>2007-03-01</td>\n",
       "      <td>205.35</td>\n",
       "    </tr>\n",
       "    <tr>\n",
       "      <th>1131</th>\n",
       "      <td>2007-04-01</td>\n",
       "      <td>206.69</td>\n",
       "    </tr>\n",
       "    <tr>\n",
       "      <th>1132</th>\n",
       "      <td>2007-05-01</td>\n",
       "      <td>207.95</td>\n",
       "    </tr>\n",
       "    <tr>\n",
       "      <th>1133</th>\n",
       "      <td>2007-06-01</td>\n",
       "      <td>208.35</td>\n",
       "    </tr>\n",
       "    <tr>\n",
       "      <th>1134</th>\n",
       "      <td>2007-07-01</td>\n",
       "      <td>208.30</td>\n",
       "    </tr>\n",
       "    <tr>\n",
       "      <th>1135</th>\n",
       "      <td>2007-08-01</td>\n",
       "      <td>207.92</td>\n",
       "    </tr>\n",
       "    <tr>\n",
       "      <th>1136</th>\n",
       "      <td>2007-09-01</td>\n",
       "      <td>208.49</td>\n",
       "    </tr>\n",
       "    <tr>\n",
       "      <th>1137</th>\n",
       "      <td>2007-10-01</td>\n",
       "      <td>208.94</td>\n",
       "    </tr>\n",
       "    <tr>\n",
       "      <th>1138</th>\n",
       "      <td>2007-11-01</td>\n",
       "      <td>210.18</td>\n",
       "    </tr>\n",
       "    <tr>\n",
       "      <th>1139</th>\n",
       "      <td>2007-12-01</td>\n",
       "      <td>210.04</td>\n",
       "    </tr>\n",
       "  </tbody>\n",
       "</table>\n",
       "</div>"
      ],
      "text/plain": [
       "           DATE  CPIAUCNS\n",
       "1128 2007-01-01    202.42\n",
       "1129 2007-02-01    203.50\n",
       "1130 2007-03-01    205.35\n",
       "1131 2007-04-01    206.69\n",
       "1132 2007-05-01    207.95\n",
       "1133 2007-06-01    208.35\n",
       "1134 2007-07-01    208.30\n",
       "1135 2007-08-01    207.92\n",
       "1136 2007-09-01    208.49\n",
       "1137 2007-10-01    208.94\n",
       "1138 2007-11-01    210.18\n",
       "1139 2007-12-01    210.04"
      ]
     },
     "execution_count": 134,
     "metadata": {},
     "output_type": "execute_result"
    }
   ],
   "source": [
    "i_df[i_df['DATE'].dt.year == 2007]"
   ]
  },
  {
   "cell_type": "code",
   "execution_count": 129,
   "metadata": {},
   "outputs": [
    {
     "data": {
      "text/html": [
       "<div>\n",
       "<style scoped>\n",
       "    .dataframe tbody tr th:only-of-type {\n",
       "        vertical-align: middle;\n",
       "    }\n",
       "\n",
       "    .dataframe tbody tr th {\n",
       "        vertical-align: top;\n",
       "    }\n",
       "\n",
       "    .dataframe thead th {\n",
       "        text-align: right;\n",
       "    }\n",
       "</style>\n",
       "<table border=\"1\" class=\"dataframe\">\n",
       "  <thead>\n",
       "    <tr style=\"text-align: right;\">\n",
       "      <th></th>\n",
       "      <th>Release Date</th>\n",
       "      <th>Movie</th>\n",
       "      <th>Production Budget</th>\n",
       "      <th>Domestic Gross</th>\n",
       "      <th>Worldwide Gross</th>\n",
       "      <th>ROI</th>\n",
       "      <th>Break Even</th>\n",
       "      <th>Price Level</th>\n",
       "    </tr>\n",
       "  </thead>\n",
       "  <tbody>\n",
       "    <tr>\n",
       "      <th>2608</th>\n",
       "      <td>2007-03-16</td>\n",
       "      <td>Dead Silence</td>\n",
       "      <td>20,000,000.00</td>\n",
       "      <td>16,574,590.00</td>\n",
       "      <td>20,614,661.00</td>\n",
       "      <td>0.57</td>\n",
       "      <td>False</td>\n",
       "      <td>nan</td>\n",
       "    </tr>\n",
       "    <tr>\n",
       "      <th>5575</th>\n",
       "      <td>2011-10-28</td>\n",
       "      <td>Like Crazy</td>\n",
       "      <td>250,000.00</td>\n",
       "      <td>3,395,391.00</td>\n",
       "      <td>3,728,400.00</td>\n",
       "      <td>8.20</td>\n",
       "      <td>True</td>\n",
       "      <td>nan</td>\n",
       "    </tr>\n",
       "    <tr>\n",
       "      <th>4516</th>\n",
       "      <td>2011-09-23</td>\n",
       "      <td>Red State</td>\n",
       "      <td>4,000,000.00</td>\n",
       "      <td>1,065,429.00</td>\n",
       "      <td>1,983,596.00</td>\n",
       "      <td>0.27</td>\n",
       "      <td>False</td>\n",
       "      <td>nan</td>\n",
       "    </tr>\n",
       "    <tr>\n",
       "      <th>4095</th>\n",
       "      <td>2004-07-23</td>\n",
       "      <td>A Home at the End of the World</td>\n",
       "      <td>6,500,000.00</td>\n",
       "      <td>1,029,017.00</td>\n",
       "      <td>1,033,810.00</td>\n",
       "      <td>0.09</td>\n",
       "      <td>False</td>\n",
       "      <td>nan</td>\n",
       "    </tr>\n",
       "    <tr>\n",
       "      <th>3425</th>\n",
       "      <td>1981-11-13</td>\n",
       "      <td>The Pursuit of D.B. Cooper</td>\n",
       "      <td>12,000,000.00</td>\n",
       "      <td>2,104,164.00</td>\n",
       "      <td>2,104,164.00</td>\n",
       "      <td>0.10</td>\n",
       "      <td>False</td>\n",
       "      <td>nan</td>\n",
       "    </tr>\n",
       "    <tr>\n",
       "      <th>1920</th>\n",
       "      <td>2011-07-01</td>\n",
       "      <td>Larry Crowne</td>\n",
       "      <td>30,000,000.00</td>\n",
       "      <td>35,608,245.00</td>\n",
       "      <td>61,449,135.00</td>\n",
       "      <td>1.13</td>\n",
       "      <td>False</td>\n",
       "      <td>nan</td>\n",
       "    </tr>\n",
       "    <tr>\n",
       "      <th>882</th>\n",
       "      <td>2017-05-25</td>\n",
       "      <td>Baywatch</td>\n",
       "      <td>60,000,000.00</td>\n",
       "      <td>58,060,186.00</td>\n",
       "      <td>175,863,783.00</td>\n",
       "      <td>1.61</td>\n",
       "      <td>False</td>\n",
       "      <td>109.50</td>\n",
       "    </tr>\n",
       "    <tr>\n",
       "      <th>2335</th>\n",
       "      <td>2000-02-18</td>\n",
       "      <td>The Whole Nine Yards</td>\n",
       "      <td>24,000,000.00</td>\n",
       "      <td>57,262,492.00</td>\n",
       "      <td>85,527,867.00</td>\n",
       "      <td>1.96</td>\n",
       "      <td>False</td>\n",
       "      <td>nan</td>\n",
       "    </tr>\n",
       "    <tr>\n",
       "      <th>5061</th>\n",
       "      <td>2011-04-01</td>\n",
       "      <td>Insidious</td>\n",
       "      <td>1,500,000.00</td>\n",
       "      <td>54,009,150.00</td>\n",
       "      <td>99,870,886.00</td>\n",
       "      <td>36.62</td>\n",
       "      <td>True</td>\n",
       "      <td>nan</td>\n",
       "    </tr>\n",
       "    <tr>\n",
       "      <th>4465</th>\n",
       "      <td>2010-08-13</td>\n",
       "      <td>Animal Kingdom</td>\n",
       "      <td>4,200,000.00</td>\n",
       "      <td>1,044,039.00</td>\n",
       "      <td>8,078,683.00</td>\n",
       "      <td>1.06</td>\n",
       "      <td>False</td>\n",
       "      <td>nan</td>\n",
       "    </tr>\n",
       "    <tr>\n",
       "      <th>...</th>\n",
       "      <td>...</td>\n",
       "      <td>...</td>\n",
       "      <td>...</td>\n",
       "      <td>...</td>\n",
       "      <td>...</td>\n",
       "      <td>...</td>\n",
       "      <td>...</td>\n",
       "      <td>...</td>\n",
       "    </tr>\n",
       "    <tr>\n",
       "      <th>1582</th>\n",
       "      <td>2015-11-25</td>\n",
       "      <td>Creed</td>\n",
       "      <td>37,000,000.00</td>\n",
       "      <td>109,767,581.00</td>\n",
       "      <td>173,567,581.00</td>\n",
       "      <td>2.58</td>\n",
       "      <td>True</td>\n",
       "      <td>nan</td>\n",
       "    </tr>\n",
       "    <tr>\n",
       "      <th>4370</th>\n",
       "      <td>2007-11-16</td>\n",
       "      <td>Redacted</td>\n",
       "      <td>5,000,000.00</td>\n",
       "      <td>65,388.00</td>\n",
       "      <td>861,325.00</td>\n",
       "      <td>0.09</td>\n",
       "      <td>False</td>\n",
       "      <td>nan</td>\n",
       "    </tr>\n",
       "    <tr>\n",
       "      <th>4916</th>\n",
       "      <td>2005-06-17</td>\n",
       "      <td>Me and You and Everyone We Know</td>\n",
       "      <td>2,000,000.00</td>\n",
       "      <td>3,885,134.00</td>\n",
       "      <td>9,615,464.00</td>\n",
       "      <td>2.64</td>\n",
       "      <td>True</td>\n",
       "      <td>nan</td>\n",
       "    </tr>\n",
       "    <tr>\n",
       "      <th>3786</th>\n",
       "      <td>1984-03-16</td>\n",
       "      <td>The Ice Pirates</td>\n",
       "      <td>9,000,000.00</td>\n",
       "      <td>13,075,390.00</td>\n",
       "      <td>13,075,390.00</td>\n",
       "      <td>0.80</td>\n",
       "      <td>False</td>\n",
       "      <td>nan</td>\n",
       "    </tr>\n",
       "    <tr>\n",
       "      <th>978</th>\n",
       "      <td>2007-12-14</td>\n",
       "      <td>Alvin and the Chipmunks</td>\n",
       "      <td>55,000,000.00</td>\n",
       "      <td>217,326,974.00</td>\n",
       "      <td>362,605,033.00</td>\n",
       "      <td>3.63</td>\n",
       "      <td>True</td>\n",
       "      <td>148.40</td>\n",
       "    </tr>\n",
       "    <tr>\n",
       "      <th>3996</th>\n",
       "      <td>1976-01-01</td>\n",
       "      <td>Logan's Run</td>\n",
       "      <td>7,000,000.00</td>\n",
       "      <td>25,000,000.00</td>\n",
       "      <td>25,000,000.00</td>\n",
       "      <td>1.96</td>\n",
       "      <td>False</td>\n",
       "      <td>nan</td>\n",
       "    </tr>\n",
       "    <tr>\n",
       "      <th>4734</th>\n",
       "      <td>2016-12-09</td>\n",
       "      <td>The Bounce Back</td>\n",
       "      <td>3,000,000.00</td>\n",
       "      <td>321,910.00</td>\n",
       "      <td>421,404.00</td>\n",
       "      <td>0.08</td>\n",
       "      <td>False</td>\n",
       "      <td>nan</td>\n",
       "    </tr>\n",
       "    <tr>\n",
       "      <th>2941</th>\n",
       "      <td>1991-08-09</td>\n",
       "      <td>Double Impact</td>\n",
       "      <td>16,000,000.00</td>\n",
       "      <td>29,090,445.00</td>\n",
       "      <td>29,090,445.00</td>\n",
       "      <td>1.00</td>\n",
       "      <td>False</td>\n",
       "      <td>nan</td>\n",
       "    </tr>\n",
       "    <tr>\n",
       "      <th>1114</th>\n",
       "      <td>2004-11-24</td>\n",
       "      <td>Christmas with the Kranks</td>\n",
       "      <td>50,000,000.00</td>\n",
       "      <td>73,701,902.00</td>\n",
       "      <td>96,469,187.00</td>\n",
       "      <td>1.06</td>\n",
       "      <td>False</td>\n",
       "      <td>197.60</td>\n",
       "    </tr>\n",
       "    <tr>\n",
       "      <th>87</th>\n",
       "      <td>2011-11-23</td>\n",
       "      <td>Hugo</td>\n",
       "      <td>180,000,000.00</td>\n",
       "      <td>73,864,507.00</td>\n",
       "      <td>180,047,784.00</td>\n",
       "      <td>0.55</td>\n",
       "      <td>False</td>\n",
       "      <td>20.30</td>\n",
       "    </tr>\n",
       "  </tbody>\n",
       "</table>\n",
       "<p>50 rows × 8 columns</p>\n",
       "</div>"
      ],
      "text/plain": [
       "     Release Date                            Movie  Production Budget  \\\n",
       "2608   2007-03-16                     Dead Silence      20,000,000.00   \n",
       "5575   2011-10-28                       Like Crazy         250,000.00   \n",
       "4516   2011-09-23                        Red State       4,000,000.00   \n",
       "4095   2004-07-23   A Home at the End of the World       6,500,000.00   \n",
       "3425   1981-11-13       The Pursuit of D.B. Cooper      12,000,000.00   \n",
       "1920   2011-07-01                     Larry Crowne      30,000,000.00   \n",
       "882    2017-05-25                         Baywatch      60,000,000.00   \n",
       "2335   2000-02-18             The Whole Nine Yards      24,000,000.00   \n",
       "5061   2011-04-01                        Insidious       1,500,000.00   \n",
       "4465   2010-08-13                   Animal Kingdom       4,200,000.00   \n",
       "...           ...                              ...                ...   \n",
       "1582   2015-11-25                            Creed      37,000,000.00   \n",
       "4370   2007-11-16                         Redacted       5,000,000.00   \n",
       "4916   2005-06-17  Me and You and Everyone We Know       2,000,000.00   \n",
       "3786   1984-03-16                  The Ice Pirates       9,000,000.00   \n",
       "978    2007-12-14          Alvin and the Chipmunks      55,000,000.00   \n",
       "3996   1976-01-01                      Logan's Run       7,000,000.00   \n",
       "4734   2016-12-09                  The Bounce Back       3,000,000.00   \n",
       "2941   1991-08-09                    Double Impact      16,000,000.00   \n",
       "1114   2004-11-24        Christmas with the Kranks      50,000,000.00   \n",
       "87     2011-11-23                             Hugo     180,000,000.00   \n",
       "\n",
       "      Domestic Gross  Worldwide Gross   ROI  Break Even  Price Level  \n",
       "2608   16,574,590.00    20,614,661.00  0.57       False          nan  \n",
       "5575    3,395,391.00     3,728,400.00  8.20        True          nan  \n",
       "4516    1,065,429.00     1,983,596.00  0.27       False          nan  \n",
       "4095    1,029,017.00     1,033,810.00  0.09       False          nan  \n",
       "3425    2,104,164.00     2,104,164.00  0.10       False          nan  \n",
       "1920   35,608,245.00    61,449,135.00  1.13       False          nan  \n",
       "882    58,060,186.00   175,863,783.00  1.61       False       109.50  \n",
       "2335   57,262,492.00    85,527,867.00  1.96       False          nan  \n",
       "5061   54,009,150.00    99,870,886.00 36.62        True          nan  \n",
       "4465    1,044,039.00     8,078,683.00  1.06       False          nan  \n",
       "...              ...              ...   ...         ...          ...  \n",
       "1582  109,767,581.00   173,567,581.00  2.58        True          nan  \n",
       "4370       65,388.00       861,325.00  0.09       False          nan  \n",
       "4916    3,885,134.00     9,615,464.00  2.64        True          nan  \n",
       "3786   13,075,390.00    13,075,390.00  0.80       False          nan  \n",
       "978   217,326,974.00   362,605,033.00  3.63        True       148.40  \n",
       "3996   25,000,000.00    25,000,000.00  1.96       False          nan  \n",
       "4734      321,910.00       421,404.00  0.08       False          nan  \n",
       "2941   29,090,445.00    29,090,445.00  1.00       False          nan  \n",
       "1114   73,701,902.00    96,469,187.00  1.06       False       197.60  \n",
       "87     73,864,507.00   180,047,784.00  0.55       False        20.30  \n",
       "\n",
       "[50 rows x 8 columns]"
      ]
     },
     "execution_count": 129,
     "metadata": {},
     "output_type": "execute_result"
    }
   ],
   "source": [
    "# and add inflation index \n",
    "# df.loc[df['Release Date'].isin(year_mask['Movie']), 'Release Date'] = year_mask['Release Date']\n",
    "\n",
    "df.sample(50)"
   ]
  },
  {
   "cell_type": "code",
   "execution_count": null,
   "metadata": {},
   "outputs": [],
   "source": []
  }
 ],
 "metadata": {
  "colab": {
   "collapsed_sections": [],
   "name": "2019_4_5_Scraping_Movies.ipynb",
   "provenance": [
    {
     "file_id": "1YzBztTOFT86mrcKcDpzUK7mzY0GDSPeZ",
     "timestamp": 1554476216410
    }
   ],
   "version": "0.3.2"
  },
  "kernelspec": {
   "display_name": "Python 3",
   "language": "python",
   "name": "python3"
  },
  "language_info": {
   "codemirror_mode": {
    "name": "ipython",
    "version": 3
   },
   "file_extension": ".py",
   "mimetype": "text/x-python",
   "name": "python",
   "nbconvert_exporter": "python",
   "pygments_lexer": "ipython3",
   "version": "3.7.0"
  }
 },
 "nbformat": 4,
 "nbformat_minor": 1
}
