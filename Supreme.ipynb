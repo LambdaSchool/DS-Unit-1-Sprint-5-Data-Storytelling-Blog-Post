{
  "nbformat": 4,
  "nbformat_minor": 0,
  "metadata": {
    "colab": {
      "name": "Supreme.ipynb",
      "version": "0.3.2",
      "provenance": [],
      "collapsed_sections": [],
      "include_colab_link": true
    },
    "kernelspec": {
      "name": "python3",
      "display_name": "Python 3"
    }
  },
  "cells": [
    {
      "cell_type": "markdown",
      "metadata": {
        "id": "view-in-github",
        "colab_type": "text"
      },
      "source": [
        "<a href=\"https://colab.research.google.com/github/derek-shing/DS-Unit-1-Sprint-5-Data-Storytelling-Blog-Post/blob/master/Supreme.ipynb\" target=\"_parent\"><img src=\"https://colab.research.google.com/assets/colab-badge.svg\" alt=\"Open In Colab\"/></a>"
      ]
    },
    {
      "metadata": {
        "id": "B7ZPMQ47FF6U",
        "colab_type": "code",
        "colab": {}
      },
      "cell_type": "code",
      "source": [
        "#Load 1 product info\n",
        "\n",
        "import requests\n",
        "import bs4\n",
        "import pandas as pd\n",
        "import datetime\n",
        "import time\n",
        "\n",
        "\n"
      ],
      "execution_count": 0,
      "outputs": []
    },
    {
      "metadata": {
        "id": "Nk0jyWxzPRer",
        "colab_type": "text"
      },
      "cell_type": "markdown",
      "source": [
        "## Define function to extract the product information from HTML"
      ]
    },
    {
      "metadata": {
        "id": "V2y6I0mBJG7u",
        "colab_type": "code",
        "colab": {}
      },
      "cell_type": "code",
      "source": [
        "def extractinfo(url):\n",
        "  res = requests.get(url)\n",
        "  mysoup = bs4.BeautifulSoup(res.text)\n",
        "  info = mysoup.select('.info')\n",
        "  type(info[0])\n",
        "\n",
        "  infohtml = info[0]\n",
        "  name=infohtml.find('h3').get_text()\n",
        "  temp=infohtml.find_all('p')\n",
        "  releasedate=temp[0].get_text()\n",
        "  price=temp[1].get_text()\n",
        "  desc=temp[2].get_text()\n",
        "#infolist=list(infohtml.children)\n",
        "\n",
        "#infolist.\n",
        "\n",
        "\n",
        "  releasedate=pd.to_datetime(releasedate, infer_datetime_format=True)\n",
        "  price=float(price.strip('$').replace(',',''))\n",
        "  \n",
        "  info_dict = {'name':name,'price':price,'release_date':releasedate,'desc':desc}\n",
        "  return info_dict"
      ],
      "execution_count": 0,
      "outputs": []
    },
    {
      "metadata": {
        "id": "gbokzizxdH9U",
        "colab_type": "code",
        "colab": {}
      },
      "cell_type": "code",
      "source": [
        "def get_drop_info(url):\n",
        "  items=[]\n",
        "  res=requests.get(url)\n",
        "  mysoup=bs4.BeautifulSoup(res.text)\n",
        "  html=mysoup.select('.items a')\n",
        "  for item in html:\n",
        "    url='https://supremedatabase.com'+item['href']\n",
        "    items.append(extractinfo(url))\n",
        "    \n",
        "  return items\n",
        "\n",
        "#url = 'https://supremedatabase.com/seasons/fall-winter-2018/drops/2018-12-06'\n",
        "#get_drop_info(url)"
      ],
      "execution_count": 0,
      "outputs": []
    },
    {
      "metadata": {
        "id": "0HhWFHGcFL42",
        "colab_type": "code",
        "colab": {}
      },
      "cell_type": "code",
      "source": [
        "#Load different day\n",
        "\n",
        "def get_release_date_info(url):\n",
        "  items=[]\n",
        "  #url = 'https://supremedatabase.com/seasons/fall-winter-2018/drops'\n",
        "  res=requests.get(url)\n",
        "  mysoup=bs4.BeautifulSoup(res.text)\n",
        "  html=mysoup.select('.drops p a')\n",
        "  for item in html:\n",
        "    url='https://supremedatabase.com'+item['href']\n",
        "    items.extend(get_drop_info(url))\n",
        "    \n",
        "  return items\n"
      ],
      "execution_count": 0,
      "outputs": []
    },
    {
      "metadata": {
        "id": "LfUPeXWHPwKH",
        "colab_type": "text"
      },
      "cell_type": "markdown",
      "source": [
        "## Web scrap data from  https://supremedatabase.com/ and put in a Dataframe"
      ]
    },
    {
      "metadata": {
        "id": "wovOAmzys61e",
        "colab_type": "code",
        "colab": {}
      },
      "cell_type": "code",
      "source": [
        "product=[]\n",
        "url='https://supremedatabase.com/seasons/fall-winter-2018/drops'\n",
        "\n",
        "product.extend(get_release_date_info(url))"
      ],
      "execution_count": 0,
      "outputs": []
    },
    {
      "metadata": {
        "id": "TjKhi7I-uLu0",
        "colab_type": "code",
        "colab": {}
      },
      "cell_type": "code",
      "source": [
        "\n",
        "url='https://supremedatabase.com/seasons/spring-summer-2018/drops'\n",
        "product.extend(get_release_date_info(url))"
      ],
      "execution_count": 0,
      "outputs": []
    },
    {
      "metadata": {
        "id": "BtdMF4d1vWQc",
        "colab_type": "code",
        "outputId": "dc6bd3fc-cf17-42fb-e37e-ce9c611606ec",
        "colab": {
          "base_uri": "https://localhost:8080/",
          "height": 34
        }
      },
      "cell_type": "code",
      "source": [
        "len(product)\n",
        "#product"
      ],
      "execution_count": 10,
      "outputs": [
        {
          "output_type": "execute_result",
          "data": {
            "text/plain": [
              "405"
            ]
          },
          "metadata": {
            "tags": []
          },
          "execution_count": 10
        }
      ]
    },
    {
      "metadata": {
        "id": "G9QSJn-DvnwU",
        "colab_type": "code",
        "colab": {}
      },
      "cell_type": "code",
      "source": [
        "df = pd.DataFrame(product)"
      ],
      "execution_count": 0,
      "outputs": []
    },
    {
      "metadata": {
        "id": "0dSzDYUavsOF",
        "colab_type": "code",
        "outputId": "014d3fbd-b60c-42c0-9b64-ad4c3ea5156b",
        "colab": {
          "base_uri": "https://localhost:8080/",
          "height": 204
        }
      },
      "cell_type": "code",
      "source": [
        "df.sort_values(by='price', ascending=False).head()"
      ],
      "execution_count": 12,
      "outputs": [
        {
          "output_type": "execute_result",
          "data": {
            "text/html": [
              "<div>\n",
              "<style scoped>\n",
              "    .dataframe tbody tr th:only-of-type {\n",
              "        vertical-align: middle;\n",
              "    }\n",
              "\n",
              "    .dataframe tbody tr th {\n",
              "        vertical-align: top;\n",
              "    }\n",
              "\n",
              "    .dataframe thead th {\n",
              "        text-align: right;\n",
              "    }\n",
              "</style>\n",
              "<table border=\"1\" class=\"dataframe\">\n",
              "  <thead>\n",
              "    <tr style=\"text-align: right;\">\n",
              "      <th></th>\n",
              "      <th>desc</th>\n",
              "      <th>name</th>\n",
              "      <th>price</th>\n",
              "      <th>release_date</th>\n",
              "    </tr>\n",
              "  </thead>\n",
              "  <tbody>\n",
              "    <tr>\n",
              "      <th>240</th>\n",
              "      <td>Lambskin leather with poly and nylon lining. F...</td>\n",
              "      <td>Supreme®/The North Face® Leather Mountain Parka</td>\n",
              "      <td>1098.0</td>\n",
              "      <td>2018-10-19</td>\n",
              "    </tr>\n",
              "    <tr>\n",
              "      <th>124</th>\n",
              "      <td>Custom fit Schott® Perfecto leather jacket wit...</td>\n",
              "      <td>Supreme®/Comme des Garçons SHIRT® Schott® Pain...</td>\n",
              "      <td>998.0</td>\n",
              "      <td>2018-09-13</td>\n",
              "    </tr>\n",
              "    <tr>\n",
              "      <th>333</th>\n",
              "      <td>Sheepskin with full zip closure and D-ring str...</td>\n",
              "      <td>Patchwork Shearling B-3 Jacket</td>\n",
              "      <td>868.0</td>\n",
              "      <td>2018-11-23</td>\n",
              "    </tr>\n",
              "    <tr>\n",
              "      <th>36</th>\n",
              "      <td>Lambskin leather with satin lining and half zi...</td>\n",
              "      <td>Leather Anorak</td>\n",
              "      <td>698.0</td>\n",
              "      <td>2018-08-23</td>\n",
              "    </tr>\n",
              "    <tr>\n",
              "      <th>267</th>\n",
              "      <td>Diamond quilted lambskin leather with nickel l...</td>\n",
              "      <td>Quilted Studded Leather Jacket</td>\n",
              "      <td>698.0</td>\n",
              "      <td>2018-11-01</td>\n",
              "    </tr>\n",
              "  </tbody>\n",
              "</table>\n",
              "</div>"
            ],
            "text/plain": [
              "                                                  desc  \\\n",
              "240  Lambskin leather with poly and nylon lining. F...   \n",
              "124  Custom fit Schott® Perfecto leather jacket wit...   \n",
              "333  Sheepskin with full zip closure and D-ring str...   \n",
              "36   Lambskin leather with satin lining and half zi...   \n",
              "267  Diamond quilted lambskin leather with nickel l...   \n",
              "\n",
              "                                                  name   price release_date  \n",
              "240    Supreme®/The North Face® Leather Mountain Parka  1098.0   2018-10-19  \n",
              "124  Supreme®/Comme des Garçons SHIRT® Schott® Pain...   998.0   2018-09-13  \n",
              "333                     Patchwork Shearling B-3 Jacket   868.0   2018-11-23  \n",
              "36                                      Leather Anorak   698.0   2018-08-23  \n",
              "267                     Quilted Studded Leather Jacket   698.0   2018-11-01  "
            ]
          },
          "metadata": {
            "tags": []
          },
          "execution_count": 12
        }
      ]
    },
    {
      "metadata": {
        "id": "oLlkhy4LywJ1",
        "colab_type": "text"
      },
      "cell_type": "markdown",
      "source": [
        "# LOAD DATA FROM https://stockx.com/search?s=supreme"
      ]
    },
    {
      "metadata": {
        "colab_type": "text",
        "id": "OAJtyWxtVv9K"
      },
      "cell_type": "markdown",
      "source": [
        "## Set up to use selenium"
      ]
    },
    {
      "metadata": {
        "colab_type": "code",
        "id": "SdmBBWPAVv9N",
        "colab": {}
      },
      "cell_type": "code",
      "source": [
        "# install chromium, its driver, and selenium\n",
        "!apt install chromium-chromedriver\n",
        "!cp /usr/lib/chromium-browser/chromedriver /usr/bin\n",
        "!pip install selenium\n",
        "# set options to be headless, ..\n",
        "\n"
      ],
      "execution_count": 0,
      "outputs": []
    },
    {
      "metadata": {
        "colab_type": "code",
        "outputId": "1c9128f9-589a-46cf-805f-732d562802ab",
        "id": "6JIk43P_Vv9S",
        "colab": {
          "base_uri": "https://localhost:8080/",
          "height": 51
        }
      },
      "cell_type": "code",
      "source": [
        "\n",
        "!pip install selenium\n",
        "from selenium import webdriver\n",
        "options = webdriver.ChromeOptions()\n",
        "options.add_argument('--headless')\n",
        "options.add_argument('--no-sandbox')\n",
        "options.add_argument('--disable-dev-shm-usage')\n",
        "# open it, go to a website, and get results\n",
        "wd = webdriver.Chrome('chromedriver',options=options)"
      ],
      "execution_count": 14,
      "outputs": [
        {
          "output_type": "stream",
          "text": [
            "Requirement already satisfied: selenium in /usr/local/lib/python3.6/dist-packages (3.141.0)\n",
            "Requirement already satisfied: urllib3 in /usr/local/lib/python3.6/dist-packages (from selenium) (1.22)\n"
          ],
          "name": "stdout"
        }
      ]
    },
    {
      "metadata": {
        "id": "kmYkuvGpZmum",
        "colab_type": "code",
        "colab": {}
      },
      "cell_type": "code",
      "source": [
        "wd = webdriver.Chrome('chromedriver',options=options)"
      ],
      "execution_count": 0,
      "outputs": []
    },
    {
      "metadata": {
        "colab_type": "text",
        "id": "GVKhIzkrZBGm"
      },
      "cell_type": "markdown",
      "source": [
        "## Get the result-tile tag"
      ]
    },
    {
      "metadata": {
        "colab_type": "code",
        "id": "hm2rCvDGZBGp",
        "colab": {}
      },
      "cell_type": "code",
      "source": [
        "def get_result_tile(source):\n",
        "  xsoup = bs4.BeautifulSoup(source)\n",
        "  tile_list=xsoup.find(id='root').find(class_='wrapper').find(class_='page-container').find(id='search-wrapper').find(class_='search-results-grid').find_all(class_='result-tile')\n",
        "  return tile_list"
      ],
      "execution_count": 0,
      "outputs": []
    },
    {
      "metadata": {
        "colab_type": "text",
        "id": "rY-aLeJEZJi-"
      },
      "cell_type": "markdown",
      "source": [
        "## Get Name and ask price for a tile"
      ]
    },
    {
      "metadata": {
        "colab_type": "code",
        "id": "wZ6oqoStZJjA",
        "colab": {}
      },
      "cell_type": "code",
      "source": [
        "def extract_resell_price(tile,key):\n",
        "  name=tile.find('a').find('h4').get_text()\n",
        "  price=tile.find('a').find(class_='bid bid-button-b').find('a').find(class_='stats')\n",
        "  price=price.findChildren(\"div\")[0].get_text()\n",
        "  if price=='--':\n",
        "    price=0\n",
        "  else:\n",
        "    price=float(price.strip('$').replace(',',''))\n",
        "  return {'name':name,'resell_price':price,'key':key}\n",
        "  "
      ],
      "execution_count": 0,
      "outputs": []
    },
    {
      "metadata": {
        "id": "PTxaHUCkGrKY",
        "colab_type": "text"
      },
      "cell_type": "markdown",
      "source": [
        "## Get result page by searching product name"
      ]
    },
    {
      "metadata": {
        "id": "5UkYbVdkG3xB",
        "colab_type": "code",
        "colab": {}
      },
      "cell_type": "code",
      "source": [
        "xlist ={}\n",
        "\n",
        "#product_name= 'Supreme®/Hanes® Boxer Briefs (4 Pack)'#df.name\n",
        "#product_name.head()\n",
        "def get_search_result_page(product_name):\n",
        "  wd.get('https://stockx.com/search?s=')\n",
        "  xsoup = bs4.BeautifulSoup(wd.page_source)\n",
        "  #print(xsoup.find(id='root').find(class_='wrapper'))\n",
        "  search_bar = wd.find_element_by_id(\"page-search-bar\")\n",
        "  search_bar\n",
        "  search_bar.send_keys(product_name)\n",
        "  time.sleep(1)\n",
        "  return wd.page_source\n",
        "#print(wd.page_source)\n",
        "\n",
        "trial=df.sort_values(by='price', ascending=False)\n",
        "\n",
        "total = len(trial)\n",
        "resell_list=[]\n",
        "loading=0\n",
        "for product_name in trial.name:\n",
        "  loading=loading+1\n",
        "  print('loading', loading,'of',total)\n",
        "#for url in df.searchurl:\n",
        "#url=df.searchurl[0]\n",
        "#print(url)\n",
        "#result = requests.get(url)\n",
        "#type(result)\n",
        "  s=get_search_result_page(product_name)\n",
        "#print(s)\n",
        "\n",
        "  tile_list = get_result_tile(s)\n",
        "  if len(tile_list)>0:\n",
        "    for tile in tile_list:\n",
        "      resell_list.append(extract_resell_price(tile,product_name))\n",
        "  \n",
        "#resell_list  \n",
        "\n",
        "\n",
        "#search_box = xsoup.find(id='root').find(class_='wrapper').find(id='site-header').find(class_='page-container vacation-banner-padding').find(id='wrap')"
      ],
      "execution_count": 0,
      "outputs": []
    },
    {
      "metadata": {
        "id": "tp1gQfaju_SD",
        "colab_type": "code",
        "colab": {}
      },
      "cell_type": "code",
      "source": [
        "df_x = pd.DataFrame(resell_list)"
      ],
      "execution_count": 0,
      "outputs": []
    },
    {
      "metadata": {
        "id": "Ti3YP9dOvI4H",
        "colab_type": "code",
        "outputId": "53954d86-49b1-435a-a687-139e01a20544",
        "colab": {
          "base_uri": "https://localhost:8080/",
          "height": 204
        }
      },
      "cell_type": "code",
      "source": [
        "df_x.head()"
      ],
      "execution_count": 25,
      "outputs": [
        {
          "output_type": "execute_result",
          "data": {
            "text/html": [
              "<div>\n",
              "<style scoped>\n",
              "    .dataframe tbody tr th:only-of-type {\n",
              "        vertical-align: middle;\n",
              "    }\n",
              "\n",
              "    .dataframe tbody tr th {\n",
              "        vertical-align: top;\n",
              "    }\n",
              "\n",
              "    .dataframe thead th {\n",
              "        text-align: right;\n",
              "    }\n",
              "</style>\n",
              "<table border=\"1\" class=\"dataframe\">\n",
              "  <thead>\n",
              "    <tr style=\"text-align: right;\">\n",
              "      <th></th>\n",
              "      <th>key</th>\n",
              "      <th>name</th>\n",
              "      <th>resell_price</th>\n",
              "    </tr>\n",
              "  </thead>\n",
              "  <tbody>\n",
              "    <tr>\n",
              "      <th>0</th>\n",
              "      <td>Supreme®/The North Face® Leather Mountain Parka</td>\n",
              "      <td>Supreme The North Face Leather Mountain Parka ...</td>\n",
              "      <td>1084.0</td>\n",
              "    </tr>\n",
              "    <tr>\n",
              "      <th>1</th>\n",
              "      <td>Supreme®/The North Face® Leather Mountain Parka</td>\n",
              "      <td>Supreme The North Face Leather Mountain Parka ...</td>\n",
              "      <td>1134.0</td>\n",
              "    </tr>\n",
              "    <tr>\n",
              "      <th>2</th>\n",
              "      <td>Supreme®/The North Face® Leather Mountain Parka</td>\n",
              "      <td>Supreme The North Face Leather Mountain Parka Red</td>\n",
              "      <td>1200.0</td>\n",
              "    </tr>\n",
              "    <tr>\n",
              "      <th>3</th>\n",
              "      <td>Supreme®/The North Face® Leather Mountain Parka</td>\n",
              "      <td>Supreme The North Face Leather Mountain Parka ...</td>\n",
              "      <td>1050.0</td>\n",
              "    </tr>\n",
              "    <tr>\n",
              "      <th>4</th>\n",
              "      <td>Supreme®/Comme des Garçons SHIRT® Schott® Pain...</td>\n",
              "      <td>Supreme Comme des Garons SHIRT Schott Painted ...</td>\n",
              "      <td>1249.0</td>\n",
              "    </tr>\n",
              "  </tbody>\n",
              "</table>\n",
              "</div>"
            ],
            "text/plain": [
              "                                                 key  \\\n",
              "0    Supreme®/The North Face® Leather Mountain Parka   \n",
              "1    Supreme®/The North Face® Leather Mountain Parka   \n",
              "2    Supreme®/The North Face® Leather Mountain Parka   \n",
              "3    Supreme®/The North Face® Leather Mountain Parka   \n",
              "4  Supreme®/Comme des Garçons SHIRT® Schott® Pain...   \n",
              "\n",
              "                                                name  resell_price  \n",
              "0  Supreme The North Face Leather Mountain Parka ...        1084.0  \n",
              "1  Supreme The North Face Leather Mountain Parka ...        1134.0  \n",
              "2  Supreme The North Face Leather Mountain Parka Red        1200.0  \n",
              "3  Supreme The North Face Leather Mountain Parka ...        1050.0  \n",
              "4  Supreme Comme des Garons SHIRT Schott Painted ...        1249.0  "
            ]
          },
          "metadata": {
            "tags": []
          },
          "execution_count": 25
        }
      ]
    },
    {
      "metadata": {
        "id": "pZj0tzh_vfr2",
        "colab_type": "text"
      },
      "cell_type": "markdown",
      "source": [
        "## Saving web scrap result to CSV"
      ]
    },
    {
      "metadata": {
        "id": "mrSXmf3xvY72",
        "colab_type": "code",
        "colab": {}
      },
      "cell_type": "code",
      "source": [
        "from google.colab import files\n",
        "\n",
        "df_x.to_csv('resell.csv')\n",
        "files.download('resell.csv')"
      ],
      "execution_count": 0,
      "outputs": []
    },
    {
      "metadata": {
        "id": "74KNQysnyM_t",
        "colab_type": "code",
        "colab": {}
      },
      "cell_type": "code",
      "source": [
        "df.to_csv('product.csv')\n",
        "files.download('product.csv')"
      ],
      "execution_count": 0,
      "outputs": []
    },
    {
      "metadata": {
        "id": "L3lLSikg7E2z",
        "colab_type": "code",
        "colab": {}
      },
      "cell_type": "code",
      "source": [
        "trial.head(10)"
      ],
      "execution_count": 0,
      "outputs": []
    },
    {
      "metadata": {
        "id": "IXm7JS6fNIdb",
        "colab_type": "text"
      },
      "cell_type": "markdown",
      "source": [
        "## Simulate Scroll down to get more search result html tag ( Not used in this project)\n",
        "\n",
        "-This is some testing code that may be useful later\n"
      ]
    },
    {
      "metadata": {
        "id": "NxE4IsIwi8pQ",
        "colab_type": "code",
        "colab": {}
      },
      "cell_type": "code",
      "source": [
        "from selenium.webdriver.common.keys import Keys\n",
        "def scrollDown(browser, numberOfScrollDowns):\n",
        " body = browser.find_element_by_tag_name(\"body\")\n",
        " while numberOfScrollDowns >=0:\n",
        "  body.send_keys(Keys.PAGE_DOWN)\n",
        "  numberOfScrollDowns -= 1\n",
        " return browser"
      ],
      "execution_count": 0,
      "outputs": []
    },
    {
      "metadata": {
        "id": "szX09TR5NFJq",
        "colab_type": "code",
        "colab": {}
      },
      "cell_type": "code",
      "source": [
        "import time\n",
        "SCROLL_PAUSE_TIME = 2\n",
        "\n",
        "# Get scroll height\n",
        "last_height = wd.execute_script(\"return document.body.scrollHeight\")\n",
        "last_source=wd.page_source\n",
        "\n",
        "print('doc height:',last_height)\n",
        "\n",
        "#for i in range(2):\n",
        "while True:\n",
        "    # Scroll down to bottom\n",
        "    #wd.execute_script(\"window.scrollTo(0, document.body.scrollHeight);\")\n",
        "    wd=scrollDown(wd,10)\n",
        "    # Wait to load page\n",
        "    time.sleep(SCROLL_PAUSE_TIME)\n",
        "\n",
        "    # Calculate new scroll height and compare with last scroll height\n",
        "    new_source =wd.page_source\n",
        "    if new_source==last_source:\n",
        "        break\n",
        "    last_source = new_source\n",
        "    \n",
        "print(new_source)"
      ],
      "execution_count": 0,
      "outputs": []
    }
  ]
}