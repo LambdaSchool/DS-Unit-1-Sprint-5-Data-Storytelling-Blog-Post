{
  "nbformat": 4,
  "nbformat_minor": 0,
  "metadata": {
    "colab": {
      "name": "Supreme_data_handling.ipynb",
      "version": "0.3.2",
      "provenance": [],
      "collapsed_sections": [
        "3N_6jAKJ3A6m",
        "RKSMa5GK0lqU"
      ],
      "toc_visible": true,
      "include_colab_link": true
    },
    "kernelspec": {
      "name": "python3",
      "display_name": "Python 3"
    }
  },
  "cells": [
    {
      "cell_type": "markdown",
      "metadata": {
        "id": "view-in-github",
        "colab_type": "text"
      },
      "source": [
        "<a href=\"https://colab.research.google.com/github/derek-shing/DS-Unit-1-Sprint-5-Data-Storytelling-Blog-Post/blob/master/Supreme_data_handling.ipynb\" target=\"_parent\"><img src=\"https://colab.research.google.com/assets/colab-badge.svg\" alt=\"Open In Colab\"/></a>"
      ]
    },
    {
      "metadata": {
        "id": "btCuu4DZmiOf",
        "colab_type": "code",
        "colab": {}
      },
      "cell_type": "code",
      "source": [
        "#import session\n",
        "\n",
        "import pandas as pd\n",
        "import numpy as np\n",
        "from google.colab import drive\n",
        "import seaborn as sns\n",
        "import matplotlib.pyplot as plt\n"
      ],
      "execution_count": 0,
      "outputs": []
    },
    {
      "metadata": {
        "id": "KEQtBafL0Phs",
        "colab_type": "code",
        "colab": {}
      },
      "cell_type": "code",
      "source": [
        "!pip install seaborn==0.9.0"
      ],
      "execution_count": 0,
      "outputs": []
    },
    {
      "metadata": {
        "id": "If5-CAWcmz5-",
        "colab_type": "code",
        "colab": {
          "base_uri": "https://localhost:8080/",
          "height": 122
        },
        "outputId": "7b3ceda6-51fe-4770-e52c-b72e03816874"
      },
      "cell_type": "code",
      "source": [
        "#Loading data \n",
        "drive.mount('/content/gdrive', force_remount=True)"
      ],
      "execution_count": 2,
      "outputs": [
        {
          "output_type": "stream",
          "text": [
            "Go to this URL in a browser: https://accounts.google.com/o/oauth2/auth?client_id=947318989803-6bn6qk8qdgf4n4g3pfee6491hc0brc4i.apps.googleusercontent.com&redirect_uri=urn%3Aietf%3Awg%3Aoauth%3A2.0%3Aoob&scope=email%20https%3A%2F%2Fwww.googleapis.com%2Fauth%2Fdocs.test%20https%3A%2F%2Fwww.googleapis.com%2Fauth%2Fdrive%20https%3A%2F%2Fwww.googleapis.com%2Fauth%2Fdrive.photos.readonly%20https%3A%2F%2Fwww.googleapis.com%2Fauth%2Fpeopleapi.readonly&response_type=code\n",
            "\n",
            "Enter your authorization code:\n",
            "··········\n",
            "Mounted at /content/gdrive\n"
          ],
          "name": "stdout"
        }
      ]
    },
    {
      "metadata": {
        "id": "3N_6jAKJ3A6m",
        "colab_type": "text"
      },
      "cell_type": "markdown",
      "source": [
        "## Loading data and joining the table"
      ]
    },
    {
      "metadata": {
        "id": "Xv3BUoYvn397",
        "colab_type": "code",
        "colab": {}
      },
      "cell_type": "code",
      "source": [
        "product_df=pd.read_csv('/content/gdrive/My Drive/product_final.csv')"
      ],
      "execution_count": 0,
      "outputs": []
    },
    {
      "metadata": {
        "id": "G3Ud7awzoDv6",
        "colab_type": "code",
        "colab": {}
      },
      "cell_type": "code",
      "source": [
        "resell_df=pd.read_csv('/content/gdrive/My Drive/resell18_final.csv')"
      ],
      "execution_count": 0,
      "outputs": []
    },
    {
      "metadata": {
        "id": "cZU2Ksg5p0_Y",
        "colab_type": "code",
        "colab": {
          "base_uri": "https://localhost:8080/",
          "height": 34
        },
        "outputId": "0b73d0f3-d689-428c-c9d4-6404c5cd6eeb"
      },
      "cell_type": "code",
      "source": [
        "resell_df.shape"
      ],
      "execution_count": 6,
      "outputs": [
        {
          "output_type": "execute_result",
          "data": {
            "text/plain": [
              "(4141, 4)"
            ]
          },
          "metadata": {
            "tags": []
          },
          "execution_count": 6
        }
      ]
    },
    {
      "metadata": {
        "id": "fChjkNCUzUOs",
        "colab_type": "code",
        "colab": {
          "base_uri": "https://localhost:8080/",
          "height": 204
        },
        "outputId": "e43d6f2a-9727-4b66-bdbf-8e304d7a3185"
      },
      "cell_type": "code",
      "source": [
        "resell_df.head()"
      ],
      "execution_count": 7,
      "outputs": [
        {
          "output_type": "execute_result",
          "data": {
            "text/html": [
              "<div>\n",
              "<style scoped>\n",
              "    .dataframe tbody tr th:only-of-type {\n",
              "        vertical-align: middle;\n",
              "    }\n",
              "\n",
              "    .dataframe tbody tr th {\n",
              "        vertical-align: top;\n",
              "    }\n",
              "\n",
              "    .dataframe thead th {\n",
              "        text-align: right;\n",
              "    }\n",
              "</style>\n",
              "<table border=\"1\" class=\"dataframe\">\n",
              "  <thead>\n",
              "    <tr style=\"text-align: right;\">\n",
              "      <th></th>\n",
              "      <th>Unnamed: 0</th>\n",
              "      <th>name</th>\n",
              "      <th>full</th>\n",
              "      <th>resell_price</th>\n",
              "    </tr>\n",
              "  </thead>\n",
              "  <tbody>\n",
              "    <tr>\n",
              "      <th>0</th>\n",
              "      <td>2611.0</td>\n",
              "      <td>Supreme®/Pilot Marker</td>\n",
              "      <td>Supreme PilotMarker Red</td>\n",
              "      <td>19.0</td>\n",
              "    </tr>\n",
              "    <tr>\n",
              "      <th>1</th>\n",
              "      <td>2612.0</td>\n",
              "      <td>Supreme®/Pilot Marker</td>\n",
              "      <td>Supreme PilotMarker Black</td>\n",
              "      <td>19.0</td>\n",
              "    </tr>\n",
              "    <tr>\n",
              "      <th>2</th>\n",
              "      <td>2609.0</td>\n",
              "      <td>Payphone Keychain</td>\n",
              "      <td>Supreme PayphoneKeychain Red</td>\n",
              "      <td>20.0</td>\n",
              "    </tr>\n",
              "    <tr>\n",
              "      <th>3</th>\n",
              "      <td>2610.0</td>\n",
              "      <td>Payphone Keychain</td>\n",
              "      <td>Supreme PayphoneKeychain Blue</td>\n",
              "      <td>23.0</td>\n",
              "    </tr>\n",
              "    <tr>\n",
              "      <th>4</th>\n",
              "      <td>2600.0</td>\n",
              "      <td>Reflective Keychain</td>\n",
              "      <td>Supreme ReflectiveKeychain Silver</td>\n",
              "      <td>24.0</td>\n",
              "    </tr>\n",
              "  </tbody>\n",
              "</table>\n",
              "</div>"
            ],
            "text/plain": [
              "   Unnamed: 0                   name                               full  \\\n",
              "0      2611.0  Supreme®/Pilot Marker            Supreme PilotMarker Red   \n",
              "1      2612.0  Supreme®/Pilot Marker          Supreme PilotMarker Black   \n",
              "2      2609.0      Payphone Keychain       Supreme PayphoneKeychain Red   \n",
              "3      2610.0      Payphone Keychain      Supreme PayphoneKeychain Blue   \n",
              "4      2600.0    Reflective Keychain  Supreme ReflectiveKeychain Silver   \n",
              "\n",
              "   resell_price  \n",
              "0          19.0  \n",
              "1          19.0  \n",
              "2          20.0  \n",
              "3          23.0  \n",
              "4          24.0  "
            ]
          },
          "metadata": {
            "tags": []
          },
          "execution_count": 7
        }
      ]
    },
    {
      "metadata": {
        "id": "Dy3UOK3Qrg9m",
        "colab_type": "code",
        "colab": {
          "base_uri": "https://localhost:8080/",
          "height": 34
        },
        "outputId": "c4e366a0-5213-408c-85cd-176d01629900"
      },
      "cell_type": "code",
      "source": [
        "product_df.shape"
      ],
      "execution_count": 8,
      "outputs": [
        {
          "output_type": "execute_result",
          "data": {
            "text/plain": [
              "(829, 4)"
            ]
          },
          "metadata": {
            "tags": []
          },
          "execution_count": 8
        }
      ]
    },
    {
      "metadata": {
        "id": "cTkpO_nHtkOH",
        "colab_type": "code",
        "colab": {}
      },
      "cell_type": "code",
      "source": [
        "new_df = pd.merge(resell_df,product_df, how='inner', on='name')"
      ],
      "execution_count": 0,
      "outputs": []
    },
    {
      "metadata": {
        "id": "bdvGXlUquOsk",
        "colab_type": "code",
        "colab": {
          "base_uri": "https://localhost:8080/",
          "height": 306
        },
        "outputId": "d8722bb9-ba29-4bc8-a862-6d7a24d6aee5"
      },
      "cell_type": "code",
      "source": [
        "new_df.head()"
      ],
      "execution_count": 9,
      "outputs": [
        {
          "output_type": "execute_result",
          "data": {
            "text/html": [
              "<div>\n",
              "<style scoped>\n",
              "    .dataframe tbody tr th:only-of-type {\n",
              "        vertical-align: middle;\n",
              "    }\n",
              "\n",
              "    .dataframe tbody tr th {\n",
              "        vertical-align: top;\n",
              "    }\n",
              "\n",
              "    .dataframe thead th {\n",
              "        text-align: right;\n",
              "    }\n",
              "</style>\n",
              "<table border=\"1\" class=\"dataframe\">\n",
              "  <thead>\n",
              "    <tr style=\"text-align: right;\">\n",
              "      <th></th>\n",
              "      <th>Unnamed: 0</th>\n",
              "      <th>name</th>\n",
              "      <th>full</th>\n",
              "      <th>resell_price</th>\n",
              "      <th>desc</th>\n",
              "      <th>price</th>\n",
              "      <th>release_date</th>\n",
              "    </tr>\n",
              "  </thead>\n",
              "  <tbody>\n",
              "    <tr>\n",
              "      <th>0</th>\n",
              "      <td>2611.0</td>\n",
              "      <td>Supreme®/Pilot Marker</td>\n",
              "      <td>Supreme PilotMarker Red</td>\n",
              "      <td>19.0</td>\n",
              "      <td>Broad tip permanent marker with printed logo o...</td>\n",
              "      <td>10</td>\n",
              "      <td>2018-10-11</td>\n",
              "    </tr>\n",
              "    <tr>\n",
              "      <th>1</th>\n",
              "      <td>2612.0</td>\n",
              "      <td>Supreme®/Pilot Marker</td>\n",
              "      <td>Supreme PilotMarker Black</td>\n",
              "      <td>19.0</td>\n",
              "      <td>Broad tip permanent marker with printed logo o...</td>\n",
              "      <td>10</td>\n",
              "      <td>2018-10-11</td>\n",
              "    </tr>\n",
              "    <tr>\n",
              "      <th>2</th>\n",
              "      <td>2609.0</td>\n",
              "      <td>Payphone Keychain</td>\n",
              "      <td>Supreme PayphoneKeychain Red</td>\n",
              "      <td>20.0</td>\n",
              "      <td>Metal keychain with debossed enamel graphic on...</td>\n",
              "      <td>14</td>\n",
              "      <td>2018-08-30</td>\n",
              "    </tr>\n",
              "    <tr>\n",
              "      <th>3</th>\n",
              "      <td>2610.0</td>\n",
              "      <td>Payphone Keychain</td>\n",
              "      <td>Supreme PayphoneKeychain Blue</td>\n",
              "      <td>23.0</td>\n",
              "      <td>Metal keychain with debossed enamel graphic on...</td>\n",
              "      <td>14</td>\n",
              "      <td>2018-08-30</td>\n",
              "    </tr>\n",
              "    <tr>\n",
              "      <th>4</th>\n",
              "      <td>2600.0</td>\n",
              "      <td>Reflective Keychain</td>\n",
              "      <td>Supreme ReflectiveKeychain Silver</td>\n",
              "      <td>24.0</td>\n",
              "      <td>3M® Reflective keychain with printed logos on ...</td>\n",
              "      <td>14</td>\n",
              "      <td>2018-09-20</td>\n",
              "    </tr>\n",
              "  </tbody>\n",
              "</table>\n",
              "</div>"
            ],
            "text/plain": [
              "   Unnamed: 0                   name                               full  \\\n",
              "0      2611.0  Supreme®/Pilot Marker            Supreme PilotMarker Red   \n",
              "1      2612.0  Supreme®/Pilot Marker          Supreme PilotMarker Black   \n",
              "2      2609.0      Payphone Keychain       Supreme PayphoneKeychain Red   \n",
              "3      2610.0      Payphone Keychain      Supreme PayphoneKeychain Blue   \n",
              "4      2600.0    Reflective Keychain  Supreme ReflectiveKeychain Silver   \n",
              "\n",
              "   resell_price                                               desc  price  \\\n",
              "0          19.0  Broad tip permanent marker with printed logo o...     10   \n",
              "1          19.0  Broad tip permanent marker with printed logo o...     10   \n",
              "2          20.0  Metal keychain with debossed enamel graphic on...     14   \n",
              "3          23.0  Metal keychain with debossed enamel graphic on...     14   \n",
              "4          24.0  3M® Reflective keychain with printed logos on ...     14   \n",
              "\n",
              "  release_date  \n",
              "0   2018-10-11  \n",
              "1   2018-10-11  \n",
              "2   2018-08-30  \n",
              "3   2018-08-30  \n",
              "4   2018-09-20  "
            ]
          },
          "metadata": {
            "tags": []
          },
          "execution_count": 9
        }
      ]
    },
    {
      "metadata": {
        "id": "RKSMa5GK0lqU",
        "colab_type": "text"
      },
      "cell_type": "markdown",
      "source": [
        "## Adding 3 feature on each product\n",
        "\n",
        "\n",
        "1.   Increase in price in dollar amount\n",
        "2.   Increase in price in percentage\n",
        "3.   Color\n",
        "\n",
        "\n",
        "\n"
      ]
    },
    {
      "metadata": {
        "id": "pKJUcnWpyZ7D",
        "colab_type": "code",
        "colab": {}
      },
      "cell_type": "code",
      "source": [
        "new_df['increase']=new_df['resell_price']-new_df['price']"
      ],
      "execution_count": 0,
      "outputs": []
    },
    {
      "metadata": {
        "id": "TyxiM8pw1cAe",
        "colab_type": "code",
        "colab": {}
      },
      "cell_type": "code",
      "source": [
        "new_df['Percentage']=new_df['resell_price']/new_df['price']-1"
      ],
      "execution_count": 0,
      "outputs": []
    },
    {
      "metadata": {
        "id": "uFrRv03eUfcq",
        "colab_type": "code",
        "colab": {
          "base_uri": "https://localhost:8080/",
          "height": 34
        },
        "outputId": "a9f77845-2f82-4343-be48-21da9a24bc36"
      },
      "cell_type": "code",
      "source": [
        "new_df.shape"
      ],
      "execution_count": 12,
      "outputs": [
        {
          "output_type": "execute_result",
          "data": {
            "text/plain": [
              "(4231, 9)"
            ]
          },
          "metadata": {
            "tags": []
          },
          "execution_count": 12
        }
      ]
    },
    {
      "metadata": {
        "id": "B6eeK3JoLOP5",
        "colab_type": "code",
        "colab": {}
      },
      "cell_type": "code",
      "source": [
        "new_df['s']=new_df['full'].str.split()"
      ],
      "execution_count": 0,
      "outputs": []
    },
    {
      "metadata": {
        "id": "MhulgBSGPS8B",
        "colab_type": "code",
        "colab": {}
      },
      "cell_type": "code",
      "source": [
        "new_df.head()"
      ],
      "execution_count": 0,
      "outputs": []
    },
    {
      "metadata": {
        "id": "b0hVVW9cQL3d",
        "colab_type": "code",
        "colab": {}
      },
      "cell_type": "code",
      "source": [
        "def isSupreme(l):\n",
        "  return 'Supreme'in l\n",
        "\n",
        "def color(l):\n",
        "  return l[-1]\n",
        "\n",
        "def color_to_other(c):\n",
        "  if c in (clist):\n",
        "    return c\n",
        "  else:\n",
        "    return 'Other'"
      ],
      "execution_count": 0,
      "outputs": []
    },
    {
      "metadata": {
        "id": "MS7dPwcZWOjj",
        "colab_type": "code",
        "colab": {}
      },
      "cell_type": "code",
      "source": [
        "##Try to extract color\n",
        "\n",
        "new_df['color']=new_df['s'].apply(color)\n",
        "clist=new_df['color'].value_counts().head(20).index.tolist()"
      ],
      "execution_count": 0,
      "outputs": []
    },
    {
      "metadata": {
        "id": "4Vz95YsCYy7t",
        "colab_type": "code",
        "colab": {}
      },
      "cell_type": "code",
      "source": [
        "new_df['color']=new_df['color'].apply(color_to_other)"
      ],
      "execution_count": 0,
      "outputs": []
    },
    {
      "metadata": {
        "id": "MJAIytc8ZmBw",
        "colab_type": "code",
        "colab": {}
      },
      "cell_type": "code",
      "source": [
        "new_df['color'].value_counts()"
      ],
      "execution_count": 0,
      "outputs": []
    },
    {
      "metadata": {
        "id": "AxTi4dKNaqc0",
        "colab_type": "code",
        "colab": {}
      },
      "cell_type": "code",
      "source": [
        "final.groupby('color')['Percentage'].mean()"
      ],
      "execution_count": 0,
      "outputs": []
    },
    {
      "metadata": {
        "id": "XBz0IswyblTZ",
        "colab_type": "code",
        "colab": {}
      },
      "cell_type": "code",
      "source": [
        "final[final['color']=='Pink']"
      ],
      "execution_count": 0,
      "outputs": []
    },
    {
      "metadata": {
        "id": "mAwXle52P-C7",
        "colab_type": "code",
        "colab": {}
      },
      "cell_type": "code",
      "source": [
        "final = new_df[new_df['s'].apply(isSupreme)]"
      ],
      "execution_count": 0,
      "outputs": []
    },
    {
      "metadata": {
        "id": "KO8ootDVQmwf",
        "colab_type": "code",
        "colab": {
          "base_uri": "https://localhost:8080/",
          "height": 34
        },
        "outputId": "7db2d7a7-0662-4b6e-e9dd-948243e5f2eb"
      },
      "cell_type": "code",
      "source": [
        "final.shape"
      ],
      "execution_count": 19,
      "outputs": [
        {
          "output_type": "execute_result",
          "data": {
            "text/plain": [
              "(4105, 11)"
            ]
          },
          "metadata": {
            "tags": []
          },
          "execution_count": 19
        }
      ]
    },
    {
      "metadata": {
        "id": "SyrIpWxl2iSt",
        "colab_type": "text"
      },
      "cell_type": "markdown",
      "source": [
        "## Visualize the data"
      ]
    },
    {
      "metadata": {
        "id": "7gPSMfRfUGrl",
        "colab_type": "code",
        "colab": {}
      },
      "cell_type": "code",
      "source": [
        "product_df[~product_df['name'].isin(resell_df['name'])].sort_values('price', ascending=False)"
      ],
      "execution_count": 0,
      "outputs": []
    },
    {
      "metadata": {
        "id": "TDrT178UUYYZ",
        "colab_type": "code",
        "colab": {}
      },
      "cell_type": "code",
      "source": [
        "idx=final.groupby('name')['increase'].idxmax()"
      ],
      "execution_count": 0,
      "outputs": []
    },
    {
      "metadata": {
        "id": "EWw62UIxBEGN",
        "colab_type": "code",
        "colab": {}
      },
      "cell_type": "code",
      "source": [
        "top20 = final.loc[idx].sort_values(by='increase', ascending=False).head(20)"
      ],
      "execution_count": 0,
      "outputs": []
    },
    {
      "metadata": {
        "id": "oO8WtSahciKv",
        "colab_type": "code",
        "colab": {}
      },
      "cell_type": "code",
      "source": [
        "idx2=final.groupby('name')['Percentage'].idxmax()\n",
        "top20_p = final.loc[idx].sort_values(by='Percentage', ascending=False).head(20)"
      ],
      "execution_count": 0,
      "outputs": []
    },
    {
      "metadata": {
        "id": "o2LYIDbFDsSx",
        "colab_type": "text"
      },
      "cell_type": "markdown",
      "source": [
        "### Plot top 20 products with the most profit\n"
      ]
    },
    {
      "metadata": {
        "id": "bkl4DKuCBFON",
        "colab_type": "code",
        "colab": {}
      },
      "cell_type": "code",
      "source": [
        "import seaborn as sns\n",
        "import matplotlib.pyplot as plt\n"
      ],
      "execution_count": 0,
      "outputs": []
    },
    {
      "metadata": {
        "id": "rDhzNaDoD-Js",
        "colab_type": "code",
        "colab": {
          "base_uri": "https://localhost:8080/",
          "height": 308
        },
        "outputId": "ec0e0e38-8378-4350-9b25-22c2e61f38b3"
      },
      "cell_type": "code",
      "source": [
        "ax=sns.barplot(y='name',x='resell_price', data=top20, color='b', label='Resale Value')\n",
        "sns.barplot(y='name',x='price', data=top20, color='r', label='Original Price')\n",
        "plt.legend()\n",
        "plt.ylabel('Product')\n",
        "plt.xlabel('Price')\n",
        "ax.text(x=-2,y=-2,s=\"Profit over $2000 by flipping one Supreme product\", fontsize=16,fontweight='bold')\n",
        "ax.text(x=-2,y=-1,s=\"Product with the top 20 increase in resale value over orignal price\");\n"
      ],
      "execution_count": 29,
      "outputs": [
        {
          "output_type": "display_data",
          "data": {
            "image/png": "[encoded data removed]",
            "text/plain": [
              "<Figure size 432x288 with 1 Axes>"
            ]
          },
          "metadata": {
            "tags": []
          }
        }
      ]
    },
    {
      "metadata": {
        "id": "wgeZGRJ-EYtU",
        "colab_type": "code",
        "colab": {
          "base_uri": "https://localhost:8080/",
          "height": 283
        },
        "outputId": "26659f99-0c43-4916-b6b6-addf5e14d26d"
      },
      "cell_type": "code",
      "source": [
        "sns.barplot(y='name',x='Percentage', data=top20_p, color='g', label='Price change in percentage')\n",
        "plt.legend()\n",
        "plt.ylabel('Product')\n",
        "plt.xlabel('Percentage');\n"
      ],
      "execution_count": 33,
      "outputs": [
        {
          "output_type": "display_data",
          "data": {
            "image/png": "[encoded data removed]",
            "text/plain": [
              "<Figure size 432x288 with 1 Axes>"
            ]
          },
          "metadata": {
            "tags": []
          }
        }
      ]
    },
    {
      "metadata": {
        "id": "ZwazWwgafYoa",
        "colab_type": "code",
        "colab": {}
      },
      "cell_type": "code",
      "source": [
        "sns.scatterplot(y='name',x='color', data=final, hue='increase')\n",
        "plt.ylabel('Product')\n",
        "plt.xlabel('Color')\n",
        "\n"
      ],
      "execution_count": 0,
      "outputs": []
    },
    {
      "metadata": {
        "id": "AUhOuYuZ6MiQ",
        "colab_type": "code",
        "colab": {
          "base_uri": "https://localhost:8080/",
          "height": 202
        },
        "outputId": "10538321-e59e-4487-f29d-4a7dcd7ac7e8"
      },
      "cell_type": "code",
      "source": [
        "final.head(1)"
      ],
      "execution_count": 37,
      "outputs": [
        {
          "output_type": "execute_result",
          "data": {
            "text/html": [
              "<div>\n",
              "<style scoped>\n",
              "    .dataframe tbody tr th:only-of-type {\n",
              "        vertical-align: middle;\n",
              "    }\n",
              "\n",
              "    .dataframe tbody tr th {\n",
              "        vertical-align: top;\n",
              "    }\n",
              "\n",
              "    .dataframe thead th {\n",
              "        text-align: right;\n",
              "    }\n",
              "</style>\n",
              "<table border=\"1\" class=\"dataframe\">\n",
              "  <thead>\n",
              "    <tr style=\"text-align: right;\">\n",
              "      <th></th>\n",
              "      <th>Unnamed: 0</th>\n",
              "      <th>name</th>\n",
              "      <th>full</th>\n",
              "      <th>resell_price</th>\n",
              "      <th>desc</th>\n",
              "      <th>price</th>\n",
              "      <th>release_date</th>\n",
              "      <th>increase</th>\n",
              "      <th>Percentage</th>\n",
              "      <th>s</th>\n",
              "      <th>color</th>\n",
              "    </tr>\n",
              "  </thead>\n",
              "  <tbody>\n",
              "    <tr>\n",
              "      <th>0</th>\n",
              "      <td>2611.0</td>\n",
              "      <td>Supreme®/Pilot Marker</td>\n",
              "      <td>Supreme PilotMarker Red</td>\n",
              "      <td>19.0</td>\n",
              "      <td>Broad tip permanent marker with printed logo o...</td>\n",
              "      <td>10</td>\n",
              "      <td>2018-10-11</td>\n",
              "      <td>9.0</td>\n",
              "      <td>0.9</td>\n",
              "      <td>[Supreme, PilotMarker, Red]</td>\n",
              "      <td>Red</td>\n",
              "    </tr>\n",
              "  </tbody>\n",
              "</table>\n",
              "</div>"
            ],
            "text/plain": [
              "   Unnamed: 0                   name                     full  resell_price  \\\n",
              "0      2611.0  Supreme®/Pilot Marker  Supreme PilotMarker Red          19.0   \n",
              "\n",
              "                                                desc  price release_date  \\\n",
              "0  Broad tip permanent marker with printed logo o...     10   2018-10-11   \n",
              "\n",
              "   increase  Percentage                            s color  \n",
              "0       9.0         0.9  [Supreme, PilotMarker, Red]   Red  "
            ]
          },
          "metadata": {
            "tags": []
          },
          "execution_count": 37
        }
      ]
    },
    {
      "metadata": {
        "id": "w6g9ldHh4778",
        "colab_type": "code",
        "colab": {
          "base_uri": "https://localhost:8080/",
          "height": 139
        },
        "outputId": "168430b7-7795-49a6-85ee-43520695b880"
      },
      "cell_type": "code",
      "source": [
        "final.release_date = pd.to_datetime(final.release_date)"
      ],
      "execution_count": 42,
      "outputs": [
        {
          "output_type": "stream",
          "text": [
            "/usr/local/lib/python3.6/dist-packages/pandas/core/generic.py:3643: SettingWithCopyWarning: \n",
            "A value is trying to be set on a copy of a slice from a DataFrame.\n",
            "Try using .loc[row_indexer,col_indexer] = value instead\n",
            "\n",
            "See the caveats in the documentation: http://pandas.pydata.org/pandas-docs/stable/indexing.html#indexing-view-versus-copy\n",
            "  self[name] = value\n"
          ],
          "name": "stderr"
        }
      ]
    },
    {
      "metadata": {
        "id": "VqTANIrC7L3u",
        "colab_type": "code",
        "colab": {
          "base_uri": "https://localhost:8080/",
          "height": 139
        },
        "outputId": "0855aed0-3011-43c2-e9a0-d4812ab5db28"
      },
      "cell_type": "code",
      "source": [
        "final['month']=final.release_date.dt.month"
      ],
      "execution_count": 51,
      "outputs": [
        {
          "output_type": "stream",
          "text": [
            "/usr/local/lib/python3.6/dist-packages/ipykernel_launcher.py:1: SettingWithCopyWarning: \n",
            "A value is trying to be set on a copy of a slice from a DataFrame.\n",
            "Try using .loc[row_indexer,col_indexer] = value instead\n",
            "\n",
            "See the caveats in the documentation: http://pandas.pydata.org/pandas-docs/stable/indexing.html#indexing-view-versus-copy\n",
            "  \"\"\"Entry point for launching an IPython kernel.\n"
          ],
          "name": "stderr"
        }
      ]
    },
    {
      "metadata": {
        "id": "hkTeid7d89eE",
        "colab_type": "code",
        "colab": {}
      },
      "cell_type": "code",
      "source": [
        "final"
      ],
      "execution_count": 0,
      "outputs": []
    },
    {
      "metadata": {
        "id": "ET1s8mW49Kft",
        "colab_type": "code",
        "colab": {}
      },
      "cell_type": "code",
      "source": [
        "top_selling = final.loc[idx].sort_values(by='increase', ascending=False)"
      ],
      "execution_count": 0,
      "outputs": []
    },
    {
      "metadata": {
        "id": "zwz8odUg-Y_P",
        "colab_type": "code",
        "colab": {}
      },
      "cell_type": "code",
      "source": [
        "top_selling.sort_values(by='increase')"
      ],
      "execution_count": 0,
      "outputs": []
    },
    {
      "metadata": {
        "id": "T-A4-Pj9-2GJ",
        "colab_type": "code",
        "colab": {}
      },
      "cell_type": "code",
      "source": [
        "condition = top_selling.increase>100"
      ],
      "execution_count": 0,
      "outputs": []
    },
    {
      "metadata": {
        "id": "YfZ6YbLn_B4F",
        "colab_type": "code",
        "colab": {
          "base_uri": "https://localhost:8080/",
          "height": 34
        },
        "outputId": "fc72c7e7-600f-4ce0-ca8e-db0c8d456bbe"
      },
      "cell_type": "code",
      "source": [
        "len(top_selling[condition])"
      ],
      "execution_count": 24,
      "outputs": [
        {
          "output_type": "execute_result",
          "data": {
            "text/plain": [
              "173"
            ]
          },
          "metadata": {
            "tags": []
          },
          "execution_count": 24
        }
      ]
    },
    {
      "metadata": {
        "id": "GOLYnc6h_U5h",
        "colab_type": "code",
        "colab": {}
      },
      "cell_type": "code",
      "source": [
        "total_earn_by_month=top_selling[condition].groupby('month').increase.sum()"
      ],
      "execution_count": 0,
      "outputs": []
    },
    {
      "metadata": {
        "id": "if79rxBRGXQp",
        "colab_type": "code",
        "colab": {}
      },
      "cell_type": "code",
      "source": [
        "total_earn_by_month=pd.DataFrame(total_earn_by_month)"
      ],
      "execution_count": 0,
      "outputs": []
    },
    {
      "metadata": {
        "id": "qa3dBWJ9G8K7",
        "colab_type": "code",
        "colab": {}
      },
      "cell_type": "code",
      "source": [
        "total_earn_by_month= total_earn_by_month.reset_index()"
      ],
      "execution_count": 0,
      "outputs": []
    },
    {
      "metadata": {
        "id": "XtT_BPz2F2fe",
        "colab_type": "code",
        "colab": {
          "base_uri": "https://localhost:8080/",
          "height": 312
        },
        "outputId": "c5ff73d3-6d85-4f40-e353-619b4674ef10"
      },
      "cell_type": "code",
      "source": [
        "ax=sns.barplot(x='month',y='increase',data=total_earn_by_month, color = 'g')\n",
        "ax=sns.set_style(\"darkgrid\")\n",
        "plt.ylabel('Profit')\n",
        "plt.title('Profit on each month' ,fontweight=\"bold\" )"
      ],
      "execution_count": 98,
      "outputs": [
        {
          "output_type": "execute_result",
          "data": {
            "text/plain": [
              "Text(0.5, 1.0, 'Profit on each month')"
            ]
          },
          "metadata": {
            "tags": []
          },
          "execution_count": 98
        },
        {
          "output_type": "display_data",
          "data": {
            "image/png": "[encoded data removed]",
            "text/plain": [
              "<Figure size 432x288 with 1 Axes>"
            ]
          },
          "metadata": {
            "tags": []
          }
        }
      ]
    },
    {
      "metadata": {
        "id": "m7QyTzsK8_Be",
        "colab_type": "text"
      },
      "cell_type": "markdown",
      "source": [
        ""
      ]
    },
    {
      "metadata": {
        "id": "SRZQQ3H9oBHN",
        "colab_type": "text"
      },
      "cell_type": "markdown",
      "source": [
        "## Getting band name\n"
      ]
    },
    {
      "metadata": {
        "id": "pePLiD_7oAHb",
        "colab_type": "code",
        "colab": {}
      },
      "cell_type": "code",
      "source": [
        "product_df.name"
      ],
      "execution_count": 0,
      "outputs": []
    },
    {
      "metadata": {
        "id": "FNJ5jAr8oH8j",
        "colab_type": "code",
        "colab": {}
      },
      "cell_type": "code",
      "source": [
        "def joinband(name):\n",
        "  return '®' in name"
      ],
      "execution_count": 0,
      "outputs": []
    },
    {
      "metadata": {
        "id": "EPNYd11io-7P",
        "colab_type": "code",
        "colab": {}
      },
      "cell_type": "code",
      "source": [
        "bandname=final[final.name.apply(joinband)]"
      ],
      "execution_count": 0,
      "outputs": []
    },
    {
      "metadata": {
        "id": "UnEci6woIDGG",
        "colab_type": "code",
        "colab": {}
      },
      "cell_type": "code",
      "source": [
        "bandname"
      ],
      "execution_count": 0,
      "outputs": []
    },
    {
      "metadata": {
        "id": "Z70xMt_8pbFF",
        "colab_type": "code",
        "colab": {
          "base_uri": "https://localhost:8080/",
          "height": 139
        },
        "outputId": "54748d72-83f7-4e33-8c0e-62fcbd2a7103"
      },
      "cell_type": "code",
      "source": [
        "bandname['list']=bandname.name.str.split('®')"
      ],
      "execution_count": 36,
      "outputs": [
        {
          "output_type": "stream",
          "text": [
            "/usr/local/lib/python3.6/dist-packages/ipykernel_launcher.py:1: SettingWithCopyWarning: \n",
            "A value is trying to be set on a copy of a slice from a DataFrame.\n",
            "Try using .loc[row_indexer,col_indexer] = value instead\n",
            "\n",
            "See the caveats in the documentation: http://pandas.pydata.org/pandas-docs/stable/indexing.html#indexing-view-versus-copy\n",
            "  \"\"\"Entry point for launching an IPython kernel.\n"
          ],
          "name": "stderr"
        }
      ]
    },
    {
      "metadata": {
        "id": "TyJWikKeqGuG",
        "colab_type": "code",
        "colab": {}
      },
      "cell_type": "code",
      "source": [
        "bandname.list"
      ],
      "execution_count": 0,
      "outputs": []
    },
    {
      "metadata": {
        "id": "6fRWuf59qqK7",
        "colab_type": "code",
        "colab": {
          "base_uri": "https://localhost:8080/",
          "height": 139
        },
        "outputId": "c9b79d69-378f-4632-8609-bb58b96ebdc1"
      },
      "cell_type": "code",
      "source": [
        "bandname['bandsplit']=bandname.name.str.split('®')"
      ],
      "execution_count": 25,
      "outputs": [
        {
          "output_type": "stream",
          "text": [
            "/usr/local/lib/python3.6/dist-packages/ipykernel_launcher.py:1: SettingWithCopyWarning: \n",
            "A value is trying to be set on a copy of a slice from a DataFrame.\n",
            "Try using .loc[row_indexer,col_indexer] = value instead\n",
            "\n",
            "See the caveats in the documentation: http://pandas.pydata.org/pandas-docs/stable/indexing.html#indexing-view-versus-copy\n",
            "  \"\"\"Entry point for launching an IPython kernel.\n"
          ],
          "name": "stderr"
        }
      ]
    },
    {
      "metadata": {
        "id": "qppNKV_Hw5tu",
        "colab_type": "code",
        "colab": {}
      },
      "cell_type": "code",
      "source": [
        "bandname"
      ],
      "execution_count": 0,
      "outputs": []
    },
    {
      "metadata": {
        "id": "42V4wdKPw6tB",
        "colab_type": "code",
        "colab": {}
      },
      "cell_type": "code",
      "source": [
        "brandlist=[]\n",
        "\n",
        "for name in bandname.list:\n",
        "  brandlist=brandlist+name"
      ],
      "execution_count": 0,
      "outputs": []
    },
    {
      "metadata": {
        "id": "yz1DAGQWJYlg",
        "colab_type": "code",
        "colab": {
          "base_uri": "https://localhost:8080/",
          "height": 34
        },
        "outputId": "cd708c5b-213f-46ab-b809-3829b2fc1f84"
      },
      "cell_type": "code",
      "source": [
        "len(brandlist)"
      ],
      "execution_count": 39,
      "outputs": [
        {
          "output_type": "execute_result",
          "data": {
            "text/plain": [
              "1808"
            ]
          },
          "metadata": {
            "tags": []
          },
          "execution_count": 39
        }
      ]
    },
    {
      "metadata": {
        "id": "YKLeN0XjJaiH",
        "colab_type": "code",
        "colab": {}
      },
      "cell_type": "code",
      "source": [
        "from collections import Counter\n",
        "brandlist=Counter(brandlist)"
      ],
      "execution_count": 0,
      "outputs": []
    },
    {
      "metadata": {
        "id": "_ACJ4_5-JpA1",
        "colab_type": "code",
        "colab": {}
      },
      "cell_type": "code",
      "source": [
        "brandlist"
      ],
      "execution_count": 0,
      "outputs": []
    },
    {
      "metadata": {
        "id": "A0x8_XKnLP3_",
        "colab_type": "code",
        "colab": {}
      },
      "cell_type": "code",
      "source": [
        ""
      ],
      "execution_count": 0,
      "outputs": []
    }
  ]
}