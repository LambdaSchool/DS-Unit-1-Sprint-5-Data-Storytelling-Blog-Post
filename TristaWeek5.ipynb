{
  "nbformat": 4,
  "nbformat_minor": 0,
  "metadata": {
    "colab": {
      "name": "TristaWeek5.ipynb",
      "version": "0.3.2",
      "provenance": [],
      "collapsed_sections": [],
      "include_colab_link": true
    },
    "kernelspec": {
      "name": "python3",
      "display_name": "Python 3"
    }
  },
  "cells": [
    {
      "cell_type": "markdown",
      "metadata": {
        "id": "view-in-github",
        "colab_type": "text"
      },
      "source": [
        "<a href=\"https://colab.research.google.com/github/trista-paul/DS-Unit-1-Sprint-5-Data-Storytelling-Blog-Post/blob/master/TristaWeek5.ipynb\" target=\"_parent\"><img src=\"https://colab.research.google.com/assets/colab-badge.svg\" alt=\"Open In Colab\"/></a>"
      ]
    },
    {
      "metadata": {
        "id": "XZUFx8wcHlRZ",
        "colab_type": "code",
        "colab": {}
      },
      "cell_type": "code",
      "source": [
        "import pandas as pd\n",
        "import matplotlib.pyplot as plt\n",
        "import numpy as np"
      ],
      "execution_count": 0,
      "outputs": []
    },
    {
      "metadata": {
        "id": "p4U0hDxY86JN",
        "colab_type": "code",
        "outputId": "958eb54b-e597-4a09-9648-8fe1b11a7f49",
        "colab": {
          "base_uri": "https://localhost:8080/",
          "height": 255
        }
      },
      "cell_type": "code",
      "source": [
        "!pip install --upgrade seaborn"
      ],
      "execution_count": 58,
      "outputs": [
        {
          "output_type": "stream",
          "text": [
            "Requirement already up-to-date: seaborn in /usr/local/lib/python3.6/dist-packages (0.9.0)\n",
            "Requirement already satisfied, skipping upgrade: scipy>=0.14.0 in /usr/local/lib/python3.6/dist-packages (from seaborn) (1.1.0)\n",
            "Requirement already satisfied, skipping upgrade: matplotlib>=1.4.3 in /usr/local/lib/python3.6/dist-packages (from seaborn) (3.0.2)\n",
            "Requirement already satisfied, skipping upgrade: numpy>=1.9.3 in /usr/local/lib/python3.6/dist-packages (from seaborn) (1.14.6)\n",
            "Requirement already satisfied, skipping upgrade: pandas>=0.15.2 in /usr/local/lib/python3.6/dist-packages (from seaborn) (0.22.0)\n",
            "Requirement already satisfied, skipping upgrade: python-dateutil>=2.1 in /usr/local/lib/python3.6/dist-packages (from matplotlib>=1.4.3->seaborn) (2.5.3)\n",
            "Requirement already satisfied, skipping upgrade: kiwisolver>=1.0.1 in /usr/local/lib/python3.6/dist-packages (from matplotlib>=1.4.3->seaborn) (1.0.1)\n",
            "Requirement already satisfied, skipping upgrade: pyparsing!=2.0.4,!=2.1.2,!=2.1.6,>=2.0.1 in /usr/local/lib/python3.6/dist-packages (from matplotlib>=1.4.3->seaborn) (2.3.1)\n",
            "Requirement already satisfied, skipping upgrade: cycler>=0.10 in /usr/local/lib/python3.6/dist-packages (from matplotlib>=1.4.3->seaborn) (0.10.0)\n",
            "Requirement already satisfied, skipping upgrade: pytz>=2011k in /usr/local/lib/python3.6/dist-packages (from pandas>=0.15.2->seaborn) (2018.9)\n",
            "Requirement already satisfied, skipping upgrade: six>=1.5 in /usr/local/lib/python3.6/dist-packages (from python-dateutil>=2.1->matplotlib>=1.4.3->seaborn) (1.11.0)\n",
            "Requirement already satisfied, skipping upgrade: setuptools in /usr/local/lib/python3.6/dist-packages (from kiwisolver>=1.0.1->matplotlib>=1.4.3->seaborn) (40.7.3)\n",
            "^C\n"
          ],
          "name": "stdout"
        }
      ]
    },
    {
      "metadata": {
        "id": "wX24lGm_9JN4",
        "colab_type": "code",
        "colab": {}
      },
      "cell_type": "code",
      "source": [
        "import seaborn as sns"
      ],
      "execution_count": 0,
      "outputs": []
    },
    {
      "metadata": {
        "id": "YR-SAe-3JItM",
        "colab_type": "code",
        "outputId": "166219a1-3ab1-423c-a1d8-3aa9d44f5d1c",
        "colab": {
          "base_uri": "https://localhost:8080/",
          "height": 222
        }
      },
      "cell_type": "code",
      "source": [
        "#title of film\n",
        "title = pd.read_table(\"https://datasets.imdbws.com/title.akas.tsv.gz\")\n",
        "title.dtypes"
      ],
      "execution_count": 4,
      "outputs": [
        {
          "output_type": "stream",
          "text": [
            "/usr/local/lib/python3.6/dist-packages/IPython/core/interactiveshell.py:2718: DtypeWarning: Columns (7) have mixed types. Specify dtype option on import or set low_memory=False.\n",
            "  interactivity=interactivity, compiler=compiler, result=result)\n"
          ],
          "name": "stderr"
        },
        {
          "output_type": "execute_result",
          "data": {
            "text/plain": [
              "titleId            object\n",
              "ordering            int64\n",
              "title              object\n",
              "region             object\n",
              "language           object\n",
              "types              object\n",
              "attributes         object\n",
              "isOriginalTitle    object\n",
              "dtype: object"
            ]
          },
          "metadata": {
            "tags": []
          },
          "execution_count": 4
        }
      ]
    },
    {
      "metadata": {
        "id": "bceirtfyJ1YW",
        "colab_type": "code",
        "outputId": "a1da4d52-b872-44c1-8c27-a22ee464dc7a",
        "colab": {
          "base_uri": "https://localhost:8080/",
          "height": 249
        }
      },
      "cell_type": "code",
      "source": [
        "title.head()\n",
        "#redundant values, high quantities of NaNs"
      ],
      "execution_count": 5,
      "outputs": [
        {
          "output_type": "execute_result",
          "data": {
            "text/html": [
              "<div>\n",
              "<style scoped>\n",
              "    .dataframe tbody tr th:only-of-type {\n",
              "        vertical-align: middle;\n",
              "    }\n",
              "\n",
              "    .dataframe tbody tr th {\n",
              "        vertical-align: top;\n",
              "    }\n",
              "\n",
              "    .dataframe thead th {\n",
              "        text-align: right;\n",
              "    }\n",
              "</style>\n",
              "<table border=\"1\" class=\"dataframe\">\n",
              "  <thead>\n",
              "    <tr style=\"text-align: right;\">\n",
              "      <th></th>\n",
              "      <th>titleId</th>\n",
              "      <th>ordering</th>\n",
              "      <th>title</th>\n",
              "      <th>region</th>\n",
              "      <th>language</th>\n",
              "      <th>types</th>\n",
              "      <th>attributes</th>\n",
              "      <th>isOriginalTitle</th>\n",
              "    </tr>\n",
              "  </thead>\n",
              "  <tbody>\n",
              "    <tr>\n",
              "      <th>0</th>\n",
              "      <td>tt0000001</td>\n",
              "      <td>1</td>\n",
              "      <td>Carmencita - spanyol tánc</td>\n",
              "      <td>HU</td>\n",
              "      <td>\\N</td>\n",
              "      <td>imdbDisplay</td>\n",
              "      <td>\\N</td>\n",
              "      <td>0</td>\n",
              "    </tr>\n",
              "    <tr>\n",
              "      <th>1</th>\n",
              "      <td>tt0000001</td>\n",
              "      <td>2</td>\n",
              "      <td>Καρμενσίτα</td>\n",
              "      <td>GR</td>\n",
              "      <td>\\N</td>\n",
              "      <td>\\N</td>\n",
              "      <td>\\N</td>\n",
              "      <td>0</td>\n",
              "    </tr>\n",
              "    <tr>\n",
              "      <th>2</th>\n",
              "      <td>tt0000001</td>\n",
              "      <td>3</td>\n",
              "      <td>Карменсита</td>\n",
              "      <td>RU</td>\n",
              "      <td>\\N</td>\n",
              "      <td>\\N</td>\n",
              "      <td>\\N</td>\n",
              "      <td>0</td>\n",
              "    </tr>\n",
              "    <tr>\n",
              "      <th>3</th>\n",
              "      <td>tt0000001</td>\n",
              "      <td>4</td>\n",
              "      <td>Carmencita</td>\n",
              "      <td>US</td>\n",
              "      <td>\\N</td>\n",
              "      <td>\\N</td>\n",
              "      <td>\\N</td>\n",
              "      <td>0</td>\n",
              "    </tr>\n",
              "    <tr>\n",
              "      <th>4</th>\n",
              "      <td>tt0000001</td>\n",
              "      <td>5</td>\n",
              "      <td>Carmencita</td>\n",
              "      <td>\\N</td>\n",
              "      <td>\\N</td>\n",
              "      <td>original</td>\n",
              "      <td>\\N</td>\n",
              "      <td>1</td>\n",
              "    </tr>\n",
              "  </tbody>\n",
              "</table>\n",
              "</div>"
            ],
            "text/plain": [
              "     titleId  ordering                      title region language  \\\n",
              "0  tt0000001         1  Carmencita - spanyol tánc     HU       \\N   \n",
              "1  tt0000001         2                 Καρμενσίτα     GR       \\N   \n",
              "2  tt0000001         3                 Карменсита     RU       \\N   \n",
              "3  tt0000001         4                 Carmencita     US       \\N   \n",
              "4  tt0000001         5                 Carmencita     \\N       \\N   \n",
              "\n",
              "         types attributes isOriginalTitle  \n",
              "0  imdbDisplay         \\N               0  \n",
              "1           \\N         \\N               0  \n",
              "2           \\N         \\N               0  \n",
              "3           \\N         \\N               0  \n",
              "4     original         \\N               1  "
            ]
          },
          "metadata": {
            "tags": []
          },
          "execution_count": 5
        }
      ]
    },
    {
      "metadata": {
        "id": "RFW5wD4rKweo",
        "colab_type": "code",
        "outputId": "b442da67-f46b-49d7-fce5-d6aff423ead1",
        "colab": {
          "base_uri": "https://localhost:8080/",
          "height": 168
        }
      },
      "cell_type": "code",
      "source": [
        "title.isnull().sum() #...though they aren't encoded properly"
      ],
      "execution_count": 6,
      "outputs": [
        {
          "output_type": "execute_result",
          "data": {
            "text/plain": [
              "titleId             0\n",
              "ordering            0\n",
              "title               0\n",
              "region             55\n",
              "language            0\n",
              "types               0\n",
              "attributes          0\n",
              "isOriginalTitle     0\n",
              "dtype: int64"
            ]
          },
          "metadata": {
            "tags": []
          },
          "execution_count": 6
        }
      ]
    },
    {
      "metadata": {
        "id": "wOeFtemwKI8Y",
        "colab_type": "code",
        "outputId": "d0f66f41-b3b5-4ae5-bb36-9e4f30e7d3c8",
        "colab": {
          "base_uri": "https://localhost:8080/",
          "height": 195
        }
      },
      "cell_type": "code",
      "source": [
        "#Cleaning - drop emptiest cols and cols that aren't useful to main df, then filter by original title\n",
        "#Then rename and reorganize the title id to be compatible with further dfs\n",
        "title = title.drop(columns= ['types', 'attributes', 'language', 'region', 'ordering'])\n",
        "title = title[title['isOriginalTitle'] == 1]\n",
        "title = title.rename(columns = {'titleId':'tconst'})\n",
        "title = title.reset_index(drop=True)\n",
        "title.head()"
      ],
      "execution_count": 7,
      "outputs": [
        {
          "output_type": "execute_result",
          "data": {
            "text/html": [
              "<div>\n",
              "<style scoped>\n",
              "    .dataframe tbody tr th:only-of-type {\n",
              "        vertical-align: middle;\n",
              "    }\n",
              "\n",
              "    .dataframe tbody tr th {\n",
              "        vertical-align: top;\n",
              "    }\n",
              "\n",
              "    .dataframe thead th {\n",
              "        text-align: right;\n",
              "    }\n",
              "</style>\n",
              "<table border=\"1\" class=\"dataframe\">\n",
              "  <thead>\n",
              "    <tr style=\"text-align: right;\">\n",
              "      <th></th>\n",
              "      <th>tconst</th>\n",
              "      <th>title</th>\n",
              "      <th>isOriginalTitle</th>\n",
              "    </tr>\n",
              "  </thead>\n",
              "  <tbody>\n",
              "    <tr>\n",
              "      <th>0</th>\n",
              "      <td>tt0000001</td>\n",
              "      <td>Carmencita</td>\n",
              "      <td>1</td>\n",
              "    </tr>\n",
              "    <tr>\n",
              "      <th>1</th>\n",
              "      <td>tt0000002</td>\n",
              "      <td>Le clown et ses chiens</td>\n",
              "      <td>1</td>\n",
              "    </tr>\n",
              "    <tr>\n",
              "      <th>2</th>\n",
              "      <td>tt0000003</td>\n",
              "      <td>Pauvre Pierrot</td>\n",
              "      <td>1</td>\n",
              "    </tr>\n",
              "    <tr>\n",
              "      <th>3</th>\n",
              "      <td>tt0000004</td>\n",
              "      <td>Un bon bock</td>\n",
              "      <td>1</td>\n",
              "    </tr>\n",
              "    <tr>\n",
              "      <th>4</th>\n",
              "      <td>tt0000005</td>\n",
              "      <td>Blacksmith Scene</td>\n",
              "      <td>1</td>\n",
              "    </tr>\n",
              "  </tbody>\n",
              "</table>\n",
              "</div>"
            ],
            "text/plain": [
              "      tconst                   title isOriginalTitle\n",
              "0  tt0000001              Carmencita               1\n",
              "1  tt0000002  Le clown et ses chiens               1\n",
              "2  tt0000003          Pauvre Pierrot               1\n",
              "3  tt0000004             Un bon bock               1\n",
              "4  tt0000005        Blacksmith Scene               1"
            ]
          },
          "metadata": {
            "tags": []
          },
          "execution_count": 7
        }
      ]
    },
    {
      "metadata": {
        "id": "pIau0AAkSHC-",
        "colab_type": "code",
        "outputId": "a1a178dc-fe60-4444-82d4-6d22fae149c9",
        "colab": {
          "base_uri": "https://localhost:8080/",
          "height": 34
        }
      },
      "cell_type": "code",
      "source": [
        "title.shape"
      ],
      "execution_count": 8,
      "outputs": [
        {
          "output_type": "execute_result",
          "data": {
            "text/plain": [
              "(50718, 3)"
            ]
          },
          "metadata": {
            "tags": []
          },
          "execution_count": 8
        }
      ]
    },
    {
      "metadata": {
        "id": "Fa53zPkYSMY8",
        "colab_type": "code",
        "outputId": "4f9fe535-a21b-497f-ae16-e7245bb94d6b",
        "colab": {
          "base_uri": "https://localhost:8080/",
          "height": 34
        }
      },
      "cell_type": "code",
      "source": [
        "title = title.replace({r'\\N': np.nan}) #oh my god\n",
        "#titles with missing values are probably too obscure to matter, so I'll drop nan rows\n",
        "title = title.dropna()\n",
        "title.shape"
      ],
      "execution_count": 9,
      "outputs": [
        {
          "output_type": "execute_result",
          "data": {
            "text/plain": [
              "(50718, 3)"
            ]
          },
          "metadata": {
            "tags": []
          },
          "execution_count": 9
        }
      ]
    },
    {
      "metadata": {
        "id": "Su3MPjWxubaF",
        "colab_type": "code",
        "outputId": "276b8eb1-aa91-4927-f38f-df5cda059c49",
        "colab": {
          "base_uri": "https://localhost:8080/",
          "height": 238
        }
      },
      "cell_type": "code",
      "source": [
        "#Attributes of film\n",
        "basics = pd.read_table(\"https://datasets.imdbws.com/title.basics.tsv.gz\")\n",
        "basics.dtypes"
      ],
      "execution_count": 10,
      "outputs": [
        {
          "output_type": "stream",
          "text": [
            "/usr/local/lib/python3.6/dist-packages/IPython/core/interactiveshell.py:2718: DtypeWarning: Columns (5) have mixed types. Specify dtype option on import or set low_memory=False.\n",
            "  interactivity=interactivity, compiler=compiler, result=result)\n"
          ],
          "name": "stderr"
        },
        {
          "output_type": "execute_result",
          "data": {
            "text/plain": [
              "tconst            object\n",
              "titleType         object\n",
              "primaryTitle      object\n",
              "originalTitle     object\n",
              "isAdult            int64\n",
              "startYear         object\n",
              "endYear           object\n",
              "runtimeMinutes    object\n",
              "genres            object\n",
              "dtype: object"
            ]
          },
          "metadata": {
            "tags": []
          },
          "execution_count": 10
        }
      ]
    },
    {
      "metadata": {
        "id": "bIuOfHLhu87P",
        "colab_type": "code",
        "outputId": "46118848-7bd0-4e8b-bda1-97bb56f9f6cf",
        "colab": {
          "base_uri": "https://localhost:8080/",
          "height": 249
        }
      },
      "cell_type": "code",
      "source": [
        "basics.head()"
      ],
      "execution_count": 11,
      "outputs": [
        {
          "output_type": "execute_result",
          "data": {
            "text/html": [
              "<div>\n",
              "<style scoped>\n",
              "    .dataframe tbody tr th:only-of-type {\n",
              "        vertical-align: middle;\n",
              "    }\n",
              "\n",
              "    .dataframe tbody tr th {\n",
              "        vertical-align: top;\n",
              "    }\n",
              "\n",
              "    .dataframe thead th {\n",
              "        text-align: right;\n",
              "    }\n",
              "</style>\n",
              "<table border=\"1\" class=\"dataframe\">\n",
              "  <thead>\n",
              "    <tr style=\"text-align: right;\">\n",
              "      <th></th>\n",
              "      <th>tconst</th>\n",
              "      <th>titleType</th>\n",
              "      <th>primaryTitle</th>\n",
              "      <th>originalTitle</th>\n",
              "      <th>isAdult</th>\n",
              "      <th>startYear</th>\n",
              "      <th>endYear</th>\n",
              "      <th>runtimeMinutes</th>\n",
              "      <th>genres</th>\n",
              "    </tr>\n",
              "  </thead>\n",
              "  <tbody>\n",
              "    <tr>\n",
              "      <th>0</th>\n",
              "      <td>tt0000001</td>\n",
              "      <td>short</td>\n",
              "      <td>Carmencita</td>\n",
              "      <td>Carmencita</td>\n",
              "      <td>0</td>\n",
              "      <td>1894</td>\n",
              "      <td>\\N</td>\n",
              "      <td>1</td>\n",
              "      <td>Documentary,Short</td>\n",
              "    </tr>\n",
              "    <tr>\n",
              "      <th>1</th>\n",
              "      <td>tt0000002</td>\n",
              "      <td>short</td>\n",
              "      <td>Le clown et ses chiens</td>\n",
              "      <td>Le clown et ses chiens</td>\n",
              "      <td>0</td>\n",
              "      <td>1892</td>\n",
              "      <td>\\N</td>\n",
              "      <td>5</td>\n",
              "      <td>Animation,Short</td>\n",
              "    </tr>\n",
              "    <tr>\n",
              "      <th>2</th>\n",
              "      <td>tt0000003</td>\n",
              "      <td>short</td>\n",
              "      <td>Pauvre Pierrot</td>\n",
              "      <td>Pauvre Pierrot</td>\n",
              "      <td>0</td>\n",
              "      <td>1892</td>\n",
              "      <td>\\N</td>\n",
              "      <td>4</td>\n",
              "      <td>Animation,Comedy,Romance</td>\n",
              "    </tr>\n",
              "    <tr>\n",
              "      <th>3</th>\n",
              "      <td>tt0000004</td>\n",
              "      <td>short</td>\n",
              "      <td>Un bon bock</td>\n",
              "      <td>Un bon bock</td>\n",
              "      <td>0</td>\n",
              "      <td>1892</td>\n",
              "      <td>\\N</td>\n",
              "      <td>\\N</td>\n",
              "      <td>Animation,Short</td>\n",
              "    </tr>\n",
              "    <tr>\n",
              "      <th>4</th>\n",
              "      <td>tt0000005</td>\n",
              "      <td>short</td>\n",
              "      <td>Blacksmith Scene</td>\n",
              "      <td>Blacksmith Scene</td>\n",
              "      <td>0</td>\n",
              "      <td>1893</td>\n",
              "      <td>\\N</td>\n",
              "      <td>1</td>\n",
              "      <td>Comedy,Short</td>\n",
              "    </tr>\n",
              "  </tbody>\n",
              "</table>\n",
              "</div>"
            ],
            "text/plain": [
              "      tconst titleType            primaryTitle           originalTitle  \\\n",
              "0  tt0000001     short              Carmencita              Carmencita   \n",
              "1  tt0000002     short  Le clown et ses chiens  Le clown et ses chiens   \n",
              "2  tt0000003     short          Pauvre Pierrot          Pauvre Pierrot   \n",
              "3  tt0000004     short             Un bon bock             Un bon bock   \n",
              "4  tt0000005     short        Blacksmith Scene        Blacksmith Scene   \n",
              "\n",
              "   isAdult startYear endYear runtimeMinutes                    genres  \n",
              "0        0      1894      \\N              1         Documentary,Short  \n",
              "1        0      1892      \\N              5           Animation,Short  \n",
              "2        0      1892      \\N              4  Animation,Comedy,Romance  \n",
              "3        0      1892      \\N             \\N           Animation,Short  \n",
              "4        0      1893      \\N              1              Comedy,Short  "
            ]
          },
          "metadata": {
            "tags": []
          },
          "execution_count": 11
        }
      ]
    },
    {
      "metadata": {
        "id": "gVpdNdMgu9Ht",
        "colab_type": "code",
        "outputId": "233b4033-50b8-468d-bad9-8ebbad86dc5f",
        "colab": {
          "base_uri": "https://localhost:8080/",
          "height": 185
        }
      },
      "cell_type": "code",
      "source": [
        "basics = basics.replace({r'\\N': np.nan})\n",
        "basics.isnull().sum() #primary and original title aren't needed anyway #I think it's valuable to keep genre"
      ],
      "execution_count": 12,
      "outputs": [
        {
          "output_type": "execute_result",
          "data": {
            "text/plain": [
              "tconst                  0\n",
              "titleType               0\n",
              "primaryTitle            6\n",
              "originalTitle         181\n",
              "isAdult                 0\n",
              "startYear          310771\n",
              "endYear           5568278\n",
              "runtimeMinutes    3911351\n",
              "genres             442172\n",
              "dtype: int64"
            ]
          },
          "metadata": {
            "tags": []
          },
          "execution_count": 12
        }
      ]
    },
    {
      "metadata": {
        "id": "BCM41fwUwHmt",
        "colab_type": "code",
        "outputId": "e50242cc-03c8-4532-e066-22a52a9b9fb5",
        "colab": {
          "base_uri": "https://localhost:8080/",
          "height": 202
        }
      },
      "cell_type": "code",
      "source": [
        "basics.titleType.value_counts()"
      ],
      "execution_count": 13,
      "outputs": [
        {
          "output_type": "execute_result",
          "data": {
            "text/plain": [
              "tvEpisode       3860112\n",
              "short            664611\n",
              "movie            510202\n",
              "video            221628\n",
              "tvSeries         159323\n",
              "tvMovie          126053\n",
              "tvMiniSeries      24698\n",
              "videoGame         22882\n",
              "tvSpecial         15864\n",
              "tvShort            9028\n",
              "Name: titleType, dtype: int64"
            ]
          },
          "metadata": {
            "tags": []
          },
          "execution_count": 13
        }
      ]
    },
    {
      "metadata": {
        "id": "V2Sy3nHOvcc1",
        "colab_type": "code",
        "outputId": "d29bb582-2b65-4d63-95c9-f3e2649fa6cd",
        "colab": {
          "base_uri": "https://localhost:8080/",
          "height": 215
        }
      },
      "cell_type": "code",
      "source": [
        "basics = basics.drop(columns=['primaryTitle', 'originalTitle', 'endYear'])\n",
        "basics = basics[basics['titleType']=='movie']\n",
        "basics = basics.dropna()\n",
        "basics.head()"
      ],
      "execution_count": 14,
      "outputs": [
        {
          "output_type": "execute_result",
          "data": {
            "text/html": [
              "<div>\n",
              "<style scoped>\n",
              "    .dataframe tbody tr th:only-of-type {\n",
              "        vertical-align: middle;\n",
              "    }\n",
              "\n",
              "    .dataframe tbody tr th {\n",
              "        vertical-align: top;\n",
              "    }\n",
              "\n",
              "    .dataframe thead th {\n",
              "        text-align: right;\n",
              "    }\n",
              "</style>\n",
              "<table border=\"1\" class=\"dataframe\">\n",
              "  <thead>\n",
              "    <tr style=\"text-align: right;\">\n",
              "      <th></th>\n",
              "      <th>tconst</th>\n",
              "      <th>titleType</th>\n",
              "      <th>isAdult</th>\n",
              "      <th>startYear</th>\n",
              "      <th>runtimeMinutes</th>\n",
              "      <th>genres</th>\n",
              "    </tr>\n",
              "  </thead>\n",
              "  <tbody>\n",
              "    <tr>\n",
              "      <th>8</th>\n",
              "      <td>tt0000009</td>\n",
              "      <td>movie</td>\n",
              "      <td>0</td>\n",
              "      <td>1894</td>\n",
              "      <td>45</td>\n",
              "      <td>Romance</td>\n",
              "    </tr>\n",
              "    <tr>\n",
              "      <th>145</th>\n",
              "      <td>tt0000147</td>\n",
              "      <td>movie</td>\n",
              "      <td>0</td>\n",
              "      <td>1897</td>\n",
              "      <td>20</td>\n",
              "      <td>Documentary,News,Sport</td>\n",
              "    </tr>\n",
              "    <tr>\n",
              "      <th>571</th>\n",
              "      <td>tt0000574</td>\n",
              "      <td>movie</td>\n",
              "      <td>0</td>\n",
              "      <td>1906</td>\n",
              "      <td>70</td>\n",
              "      <td>Biography,Crime,Drama</td>\n",
              "    </tr>\n",
              "    <tr>\n",
              "      <th>673</th>\n",
              "      <td>tt0000679</td>\n",
              "      <td>movie</td>\n",
              "      <td>0</td>\n",
              "      <td>1908</td>\n",
              "      <td>120</td>\n",
              "      <td>Adventure,Fantasy</td>\n",
              "    </tr>\n",
              "    <tr>\n",
              "      <th>1173</th>\n",
              "      <td>tt0001184</td>\n",
              "      <td>movie</td>\n",
              "      <td>0</td>\n",
              "      <td>1910</td>\n",
              "      <td>58</td>\n",
              "      <td>Adventure,Drama</td>\n",
              "    </tr>\n",
              "  </tbody>\n",
              "</table>\n",
              "</div>"
            ],
            "text/plain": [
              "         tconst titleType  isAdult startYear runtimeMinutes  \\\n",
              "8     tt0000009     movie        0      1894             45   \n",
              "145   tt0000147     movie        0      1897             20   \n",
              "571   tt0000574     movie        0      1906             70   \n",
              "673   tt0000679     movie        0      1908            120   \n",
              "1173  tt0001184     movie        0      1910             58   \n",
              "\n",
              "                      genres  \n",
              "8                    Romance  \n",
              "145   Documentary,News,Sport  \n",
              "571    Biography,Crime,Drama  \n",
              "673        Adventure,Fantasy  \n",
              "1173         Adventure,Drama  "
            ]
          },
          "metadata": {
            "tags": []
          },
          "execution_count": 14
        }
      ]
    },
    {
      "metadata": {
        "id": "nsoUhosqN80z",
        "colab_type": "code",
        "outputId": "c613550c-4f84-42ba-d23d-ad08c5dc54d3",
        "colab": {
          "base_uri": "https://localhost:8080/",
          "height": 134
        }
      },
      "cell_type": "code",
      "source": [
        "#Directors and staff of film\n",
        "director = pd.read_table(\"https://datasets.imdbws.com/name.basics.tsv.gz\")\n",
        "director.dtypes"
      ],
      "execution_count": 15,
      "outputs": [
        {
          "output_type": "execute_result",
          "data": {
            "text/plain": [
              "nconst               object\n",
              "primaryName          object\n",
              "birthYear            object\n",
              "deathYear            object\n",
              "primaryProfession    object\n",
              "knownForTitles       object\n",
              "dtype: object"
            ]
          },
          "metadata": {
            "tags": []
          },
          "execution_count": 15
        }
      ]
    },
    {
      "metadata": {
        "id": "pes_NImMOaXw",
        "colab_type": "code",
        "outputId": "6089db22-fa5b-47d2-9058-600981699209",
        "colab": {
          "base_uri": "https://localhost:8080/",
          "height": 266
        }
      },
      "cell_type": "code",
      "source": [
        "director.head()"
      ],
      "execution_count": 16,
      "outputs": [
        {
          "output_type": "execute_result",
          "data": {
            "text/html": [
              "<div>\n",
              "<style scoped>\n",
              "    .dataframe tbody tr th:only-of-type {\n",
              "        vertical-align: middle;\n",
              "    }\n",
              "\n",
              "    .dataframe tbody tr th {\n",
              "        vertical-align: top;\n",
              "    }\n",
              "\n",
              "    .dataframe thead th {\n",
              "        text-align: right;\n",
              "    }\n",
              "</style>\n",
              "<table border=\"1\" class=\"dataframe\">\n",
              "  <thead>\n",
              "    <tr style=\"text-align: right;\">\n",
              "      <th></th>\n",
              "      <th>nconst</th>\n",
              "      <th>primaryName</th>\n",
              "      <th>birthYear</th>\n",
              "      <th>deathYear</th>\n",
              "      <th>primaryProfession</th>\n",
              "      <th>knownForTitles</th>\n",
              "    </tr>\n",
              "  </thead>\n",
              "  <tbody>\n",
              "    <tr>\n",
              "      <th>0</th>\n",
              "      <td>nm0000001</td>\n",
              "      <td>Fred Astaire</td>\n",
              "      <td>1899</td>\n",
              "      <td>1987</td>\n",
              "      <td>soundtrack,actor,miscellaneous</td>\n",
              "      <td>tt0072308,tt0050419,tt0053137,tt0043044</td>\n",
              "    </tr>\n",
              "    <tr>\n",
              "      <th>1</th>\n",
              "      <td>nm0000002</td>\n",
              "      <td>Lauren Bacall</td>\n",
              "      <td>1924</td>\n",
              "      <td>2014</td>\n",
              "      <td>actress,soundtrack</td>\n",
              "      <td>tt0038355,tt0037382,tt0071877,tt0117057</td>\n",
              "    </tr>\n",
              "    <tr>\n",
              "      <th>2</th>\n",
              "      <td>nm0000003</td>\n",
              "      <td>Brigitte Bardot</td>\n",
              "      <td>1934</td>\n",
              "      <td>\\N</td>\n",
              "      <td>actress,soundtrack,producer</td>\n",
              "      <td>tt0049189,tt0057345,tt0054452,tt0059956</td>\n",
              "    </tr>\n",
              "    <tr>\n",
              "      <th>3</th>\n",
              "      <td>nm0000004</td>\n",
              "      <td>John Belushi</td>\n",
              "      <td>1949</td>\n",
              "      <td>1982</td>\n",
              "      <td>actor,writer,soundtrack</td>\n",
              "      <td>tt0072562,tt0080455,tt0077975,tt0078723</td>\n",
              "    </tr>\n",
              "    <tr>\n",
              "      <th>4</th>\n",
              "      <td>nm0000005</td>\n",
              "      <td>Ingmar Bergman</td>\n",
              "      <td>1918</td>\n",
              "      <td>2007</td>\n",
              "      <td>writer,director,actor</td>\n",
              "      <td>tt0050986,tt0069467,tt0083922,tt0050976</td>\n",
              "    </tr>\n",
              "  </tbody>\n",
              "</table>\n",
              "</div>"
            ],
            "text/plain": [
              "      nconst      primaryName birthYear deathYear  \\\n",
              "0  nm0000001     Fred Astaire      1899      1987   \n",
              "1  nm0000002    Lauren Bacall      1924      2014   \n",
              "2  nm0000003  Brigitte Bardot      1934        \\N   \n",
              "3  nm0000004     John Belushi      1949      1982   \n",
              "4  nm0000005   Ingmar Bergman      1918      2007   \n",
              "\n",
              "                primaryProfession                           knownForTitles  \n",
              "0  soundtrack,actor,miscellaneous  tt0072308,tt0050419,tt0053137,tt0043044  \n",
              "1              actress,soundtrack  tt0038355,tt0037382,tt0071877,tt0117057  \n",
              "2     actress,soundtrack,producer  tt0049189,tt0057345,tt0054452,tt0059956  \n",
              "3         actor,writer,soundtrack  tt0072562,tt0080455,tt0077975,tt0078723  \n",
              "4           writer,director,actor  tt0050986,tt0069467,tt0083922,tt0050976  "
            ]
          },
          "metadata": {
            "tags": []
          },
          "execution_count": 16
        }
      ]
    },
    {
      "metadata": {
        "id": "f7BYn8ALeM6p",
        "colab_type": "code",
        "outputId": "d10caf9f-8271-4dcf-aad7-035cf3921d42",
        "colab": {
          "base_uri": "https://localhost:8080/",
          "height": 34
        }
      },
      "cell_type": "code",
      "source": [
        "director.shape"
      ],
      "execution_count": 17,
      "outputs": [
        {
          "output_type": "execute_result",
          "data": {
            "text/plain": [
              "(9119028, 6)"
            ]
          },
          "metadata": {
            "tags": []
          },
          "execution_count": 17
        }
      ]
    },
    {
      "metadata": {
        "id": "VqBXYsv8PjRx",
        "colab_type": "code",
        "outputId": "fba08445-a55f-4814-82dd-b3f65f49c2c8",
        "colab": {
          "base_uri": "https://localhost:8080/",
          "height": 134
        }
      },
      "cell_type": "code",
      "source": [
        "director = director.replace({r'\\N': np.nan})\n",
        "director.isnull().sum()"
      ],
      "execution_count": 18,
      "outputs": [
        {
          "output_type": "execute_result",
          "data": {
            "text/plain": [
              "nconst                     0\n",
              "primaryName                0\n",
              "birthYear            8646142\n",
              "deathYear            8955067\n",
              "primaryProfession    1633337\n",
              "knownForTitles       1213087\n",
              "dtype: int64"
            ]
          },
          "metadata": {
            "tags": []
          },
          "execution_count": 18
        }
      ]
    },
    {
      "metadata": {
        "id": "aZAd-KBqPrnB",
        "colab_type": "code",
        "outputId": "5fcc3466-1af3-40ca-a3e1-34b28aa83bca",
        "colab": {
          "base_uri": "https://localhost:8080/",
          "height": 195
        }
      },
      "cell_type": "code",
      "source": [
        "director = director.drop(columns=['primaryProfession', 'deathYear',\n",
        "                                  'knownForTitles', 'birthYear'])\n",
        "director = director.rename(columns = {'nconst':'directors'})\n",
        "director.head()"
      ],
      "execution_count": 19,
      "outputs": [
        {
          "output_type": "execute_result",
          "data": {
            "text/html": [
              "<div>\n",
              "<style scoped>\n",
              "    .dataframe tbody tr th:only-of-type {\n",
              "        vertical-align: middle;\n",
              "    }\n",
              "\n",
              "    .dataframe tbody tr th {\n",
              "        vertical-align: top;\n",
              "    }\n",
              "\n",
              "    .dataframe thead th {\n",
              "        text-align: right;\n",
              "    }\n",
              "</style>\n",
              "<table border=\"1\" class=\"dataframe\">\n",
              "  <thead>\n",
              "    <tr style=\"text-align: right;\">\n",
              "      <th></th>\n",
              "      <th>directors</th>\n",
              "      <th>primaryName</th>\n",
              "    </tr>\n",
              "  </thead>\n",
              "  <tbody>\n",
              "    <tr>\n",
              "      <th>0</th>\n",
              "      <td>nm0000001</td>\n",
              "      <td>Fred Astaire</td>\n",
              "    </tr>\n",
              "    <tr>\n",
              "      <th>1</th>\n",
              "      <td>nm0000002</td>\n",
              "      <td>Lauren Bacall</td>\n",
              "    </tr>\n",
              "    <tr>\n",
              "      <th>2</th>\n",
              "      <td>nm0000003</td>\n",
              "      <td>Brigitte Bardot</td>\n",
              "    </tr>\n",
              "    <tr>\n",
              "      <th>3</th>\n",
              "      <td>nm0000004</td>\n",
              "      <td>John Belushi</td>\n",
              "    </tr>\n",
              "    <tr>\n",
              "      <th>4</th>\n",
              "      <td>nm0000005</td>\n",
              "      <td>Ingmar Bergman</td>\n",
              "    </tr>\n",
              "  </tbody>\n",
              "</table>\n",
              "</div>"
            ],
            "text/plain": [
              "   directors      primaryName\n",
              "0  nm0000001     Fred Astaire\n",
              "1  nm0000002    Lauren Bacall\n",
              "2  nm0000003  Brigitte Bardot\n",
              "3  nm0000004     John Belushi\n",
              "4  nm0000005   Ingmar Bergman"
            ]
          },
          "metadata": {
            "tags": []
          },
          "execution_count": 19
        }
      ]
    },
    {
      "metadata": {
        "id": "IsOTvU8_QThO",
        "colab_type": "code",
        "outputId": "65cf618b-e4ca-44bb-efed-72f0fe5483f8",
        "colab": {
          "base_uri": "https://localhost:8080/",
          "height": 84
        }
      },
      "cell_type": "code",
      "source": [
        "#critical rating of film\n",
        "review = pd.read_table(\"https://datasets.imdbws.com/title.ratings.tsv.gz\")\n",
        "review.dtypes"
      ],
      "execution_count": 20,
      "outputs": [
        {
          "output_type": "execute_result",
          "data": {
            "text/plain": [
              "tconst            object\n",
              "averageRating    float64\n",
              "numVotes           int64\n",
              "dtype: object"
            ]
          },
          "metadata": {
            "tags": []
          },
          "execution_count": 20
        }
      ]
    },
    {
      "metadata": {
        "id": "9o0uePSYQZmh",
        "colab_type": "code",
        "outputId": "bf1f03b1-4a0f-4cec-8278-1d2aa188bda9",
        "colab": {
          "base_uri": "https://localhost:8080/",
          "height": 195
        }
      },
      "cell_type": "code",
      "source": [
        "review.head()"
      ],
      "execution_count": 21,
      "outputs": [
        {
          "output_type": "execute_result",
          "data": {
            "text/html": [
              "<div>\n",
              "<style scoped>\n",
              "    .dataframe tbody tr th:only-of-type {\n",
              "        vertical-align: middle;\n",
              "    }\n",
              "\n",
              "    .dataframe tbody tr th {\n",
              "        vertical-align: top;\n",
              "    }\n",
              "\n",
              "    .dataframe thead th {\n",
              "        text-align: right;\n",
              "    }\n",
              "</style>\n",
              "<table border=\"1\" class=\"dataframe\">\n",
              "  <thead>\n",
              "    <tr style=\"text-align: right;\">\n",
              "      <th></th>\n",
              "      <th>tconst</th>\n",
              "      <th>averageRating</th>\n",
              "      <th>numVotes</th>\n",
              "    </tr>\n",
              "  </thead>\n",
              "  <tbody>\n",
              "    <tr>\n",
              "      <th>0</th>\n",
              "      <td>tt0000001</td>\n",
              "      <td>5.8</td>\n",
              "      <td>1463</td>\n",
              "    </tr>\n",
              "    <tr>\n",
              "      <th>1</th>\n",
              "      <td>tt0000002</td>\n",
              "      <td>6.4</td>\n",
              "      <td>176</td>\n",
              "    </tr>\n",
              "    <tr>\n",
              "      <th>2</th>\n",
              "      <td>tt0000003</td>\n",
              "      <td>6.6</td>\n",
              "      <td>1079</td>\n",
              "    </tr>\n",
              "    <tr>\n",
              "      <th>3</th>\n",
              "      <td>tt0000004</td>\n",
              "      <td>6.5</td>\n",
              "      <td>105</td>\n",
              "    </tr>\n",
              "    <tr>\n",
              "      <th>4</th>\n",
              "      <td>tt0000005</td>\n",
              "      <td>6.2</td>\n",
              "      <td>1781</td>\n",
              "    </tr>\n",
              "  </tbody>\n",
              "</table>\n",
              "</div>"
            ],
            "text/plain": [
              "      tconst  averageRating  numVotes\n",
              "0  tt0000001            5.8      1463\n",
              "1  tt0000002            6.4       176\n",
              "2  tt0000003            6.6      1079\n",
              "3  tt0000004            6.5       105\n",
              "4  tt0000005            6.2      1781"
            ]
          },
          "metadata": {
            "tags": []
          },
          "execution_count": 21
        }
      ]
    },
    {
      "metadata": {
        "id": "E6QnRnydQjJE",
        "colab_type": "code",
        "outputId": "d70e9e65-31d0-4026-f65d-65ea0852d42b",
        "colab": {
          "base_uri": "https://localhost:8080/",
          "height": 84
        }
      },
      "cell_type": "code",
      "source": [
        "review = review.replace({r'\\N': np.nan})\n",
        "review.isnull().sum()"
      ],
      "execution_count": 22,
      "outputs": [
        {
          "output_type": "execute_result",
          "data": {
            "text/plain": [
              "tconst           0\n",
              "averageRating    0\n",
              "numVotes         0\n",
              "dtype: int64"
            ]
          },
          "metadata": {
            "tags": []
          },
          "execution_count": 22
        }
      ]
    },
    {
      "metadata": {
        "id": "tI6WxcJOQnW5",
        "colab_type": "code",
        "outputId": "36f8f946-5a5e-441a-cddb-3bd612d1d17c",
        "colab": {
          "base_uri": "https://localhost:8080/",
          "height": 195
        }
      },
      "cell_type": "code",
      "source": [
        "#cleaning - drop rows with 1000 or less votes\n",
        "review = review[review['numVotes']>= 1000]\n",
        "review = review.reset_index(drop=True)\n",
        "review.head()"
      ],
      "execution_count": 23,
      "outputs": [
        {
          "output_type": "execute_result",
          "data": {
            "text/html": [
              "<div>\n",
              "<style scoped>\n",
              "    .dataframe tbody tr th:only-of-type {\n",
              "        vertical-align: middle;\n",
              "    }\n",
              "\n",
              "    .dataframe tbody tr th {\n",
              "        vertical-align: top;\n",
              "    }\n",
              "\n",
              "    .dataframe thead th {\n",
              "        text-align: right;\n",
              "    }\n",
              "</style>\n",
              "<table border=\"1\" class=\"dataframe\">\n",
              "  <thead>\n",
              "    <tr style=\"text-align: right;\">\n",
              "      <th></th>\n",
              "      <th>tconst</th>\n",
              "      <th>averageRating</th>\n",
              "      <th>numVotes</th>\n",
              "    </tr>\n",
              "  </thead>\n",
              "  <tbody>\n",
              "    <tr>\n",
              "      <th>0</th>\n",
              "      <td>tt0000001</td>\n",
              "      <td>5.8</td>\n",
              "      <td>1463</td>\n",
              "    </tr>\n",
              "    <tr>\n",
              "      <th>1</th>\n",
              "      <td>tt0000003</td>\n",
              "      <td>6.6</td>\n",
              "      <td>1079</td>\n",
              "    </tr>\n",
              "    <tr>\n",
              "      <th>2</th>\n",
              "      <td>tt0000005</td>\n",
              "      <td>6.2</td>\n",
              "      <td>1781</td>\n",
              "    </tr>\n",
              "    <tr>\n",
              "      <th>3</th>\n",
              "      <td>tt0000008</td>\n",
              "      <td>5.6</td>\n",
              "      <td>1563</td>\n",
              "    </tr>\n",
              "    <tr>\n",
              "      <th>4</th>\n",
              "      <td>tt0000010</td>\n",
              "      <td>6.9</td>\n",
              "      <td>5217</td>\n",
              "    </tr>\n",
              "  </tbody>\n",
              "</table>\n",
              "</div>"
            ],
            "text/plain": [
              "      tconst  averageRating  numVotes\n",
              "0  tt0000001            5.8      1463\n",
              "1  tt0000003            6.6      1079\n",
              "2  tt0000005            6.2      1781\n",
              "3  tt0000008            5.6      1563\n",
              "4  tt0000010            6.9      5217"
            ]
          },
          "metadata": {
            "tags": []
          },
          "execution_count": 23
        }
      ]
    },
    {
      "metadata": {
        "id": "Z1Jo58h4XNpT",
        "colab_type": "code",
        "outputId": "2d549d79-91d5-4cfa-ff75-dbe25f5f5cba",
        "colab": {
          "base_uri": "https://localhost:8080/",
          "height": 84
        }
      },
      "cell_type": "code",
      "source": [
        "#directors and writers of film by internal id\n",
        "directorid =  pd.read_table(\"https://datasets.imdbws.com/title.crew.tsv.gz\")\n",
        "directorid.dtypes"
      ],
      "execution_count": 24,
      "outputs": [
        {
          "output_type": "execute_result",
          "data": {
            "text/plain": [
              "tconst       object\n",
              "directors    object\n",
              "writers      object\n",
              "dtype: object"
            ]
          },
          "metadata": {
            "tags": []
          },
          "execution_count": 24
        }
      ]
    },
    {
      "metadata": {
        "id": "uEZL9RlpXnsJ",
        "colab_type": "code",
        "outputId": "a364b856-3dce-4c28-c9f4-c72792be4a84",
        "colab": {
          "base_uri": "https://localhost:8080/",
          "height": 195
        }
      },
      "cell_type": "code",
      "source": [
        "directorid.head()"
      ],
      "execution_count": 25,
      "outputs": [
        {
          "output_type": "execute_result",
          "data": {
            "text/html": [
              "<div>\n",
              "<style scoped>\n",
              "    .dataframe tbody tr th:only-of-type {\n",
              "        vertical-align: middle;\n",
              "    }\n",
              "\n",
              "    .dataframe tbody tr th {\n",
              "        vertical-align: top;\n",
              "    }\n",
              "\n",
              "    .dataframe thead th {\n",
              "        text-align: right;\n",
              "    }\n",
              "</style>\n",
              "<table border=\"1\" class=\"dataframe\">\n",
              "  <thead>\n",
              "    <tr style=\"text-align: right;\">\n",
              "      <th></th>\n",
              "      <th>tconst</th>\n",
              "      <th>directors</th>\n",
              "      <th>writers</th>\n",
              "    </tr>\n",
              "  </thead>\n",
              "  <tbody>\n",
              "    <tr>\n",
              "      <th>0</th>\n",
              "      <td>tt0000001</td>\n",
              "      <td>nm0005690</td>\n",
              "      <td>\\N</td>\n",
              "    </tr>\n",
              "    <tr>\n",
              "      <th>1</th>\n",
              "      <td>tt0000002</td>\n",
              "      <td>nm0721526</td>\n",
              "      <td>\\N</td>\n",
              "    </tr>\n",
              "    <tr>\n",
              "      <th>2</th>\n",
              "      <td>tt0000003</td>\n",
              "      <td>nm0721526</td>\n",
              "      <td>\\N</td>\n",
              "    </tr>\n",
              "    <tr>\n",
              "      <th>3</th>\n",
              "      <td>tt0000004</td>\n",
              "      <td>nm0721526</td>\n",
              "      <td>\\N</td>\n",
              "    </tr>\n",
              "    <tr>\n",
              "      <th>4</th>\n",
              "      <td>tt0000005</td>\n",
              "      <td>nm0005690</td>\n",
              "      <td>\\N</td>\n",
              "    </tr>\n",
              "  </tbody>\n",
              "</table>\n",
              "</div>"
            ],
            "text/plain": [
              "      tconst  directors writers\n",
              "0  tt0000001  nm0005690      \\N\n",
              "1  tt0000002  nm0721526      \\N\n",
              "2  tt0000003  nm0721526      \\N\n",
              "3  tt0000004  nm0721526      \\N\n",
              "4  tt0000005  nm0005690      \\N"
            ]
          },
          "metadata": {
            "tags": []
          },
          "execution_count": 25
        }
      ]
    },
    {
      "metadata": {
        "id": "DxvYBzYZXz5w",
        "colab_type": "code",
        "outputId": "d3985ce4-b18b-4946-baa7-853c30503189",
        "colab": {
          "base_uri": "https://localhost:8080/",
          "height": 84
        }
      },
      "cell_type": "code",
      "source": [
        "directorid = directorid.replace({r'\\N': np.nan})\n",
        "directorid.isnull().sum()"
      ],
      "execution_count": 26,
      "outputs": [
        {
          "output_type": "execute_result",
          "data": {
            "text/plain": [
              "tconst             0\n",
              "directors    2368179\n",
              "writers      2789425\n",
              "dtype: int64"
            ]
          },
          "metadata": {
            "tags": []
          },
          "execution_count": 26
        }
      ]
    },
    {
      "metadata": {
        "id": "2H6lKYNoXr1d",
        "colab_type": "code",
        "outputId": "329db932-1188-4805-ea13-2085e48f5b17",
        "colab": {
          "base_uri": "https://localhost:8080/",
          "height": 195
        }
      },
      "cell_type": "code",
      "source": [
        "#cleaning - drop writers\n",
        "directorid = directorid.drop(columns='writers').dropna()\n",
        "directorid.head()"
      ],
      "execution_count": 27,
      "outputs": [
        {
          "output_type": "execute_result",
          "data": {
            "text/html": [
              "<div>\n",
              "<style scoped>\n",
              "    .dataframe tbody tr th:only-of-type {\n",
              "        vertical-align: middle;\n",
              "    }\n",
              "\n",
              "    .dataframe tbody tr th {\n",
              "        vertical-align: top;\n",
              "    }\n",
              "\n",
              "    .dataframe thead th {\n",
              "        text-align: right;\n",
              "    }\n",
              "</style>\n",
              "<table border=\"1\" class=\"dataframe\">\n",
              "  <thead>\n",
              "    <tr style=\"text-align: right;\">\n",
              "      <th></th>\n",
              "      <th>tconst</th>\n",
              "      <th>directors</th>\n",
              "    </tr>\n",
              "  </thead>\n",
              "  <tbody>\n",
              "    <tr>\n",
              "      <th>0</th>\n",
              "      <td>tt0000001</td>\n",
              "      <td>nm0005690</td>\n",
              "    </tr>\n",
              "    <tr>\n",
              "      <th>1</th>\n",
              "      <td>tt0000002</td>\n",
              "      <td>nm0721526</td>\n",
              "    </tr>\n",
              "    <tr>\n",
              "      <th>2</th>\n",
              "      <td>tt0000003</td>\n",
              "      <td>nm0721526</td>\n",
              "    </tr>\n",
              "    <tr>\n",
              "      <th>3</th>\n",
              "      <td>tt0000004</td>\n",
              "      <td>nm0721526</td>\n",
              "    </tr>\n",
              "    <tr>\n",
              "      <th>4</th>\n",
              "      <td>tt0000005</td>\n",
              "      <td>nm0005690</td>\n",
              "    </tr>\n",
              "  </tbody>\n",
              "</table>\n",
              "</div>"
            ],
            "text/plain": [
              "      tconst  directors\n",
              "0  tt0000001  nm0005690\n",
              "1  tt0000002  nm0721526\n",
              "2  tt0000003  nm0721526\n",
              "3  tt0000004  nm0721526\n",
              "4  tt0000005  nm0005690"
            ]
          },
          "metadata": {
            "tags": []
          },
          "execution_count": 27
        }
      ]
    },
    {
      "metadata": {
        "id": "8DShuLYSYVc4",
        "colab_type": "code",
        "outputId": "6e88112c-5b99-4ede-ccc2-fca0f4d1de21",
        "colab": {
          "base_uri": "https://localhost:8080/",
          "height": 316
        }
      },
      "cell_type": "code",
      "source": [
        "#merging the datasets\n",
        "tconst = directorid.merge(review, on='tconst', how='inner')\n",
        "tconst = tconst.merge(title, on='tconst', how='inner')\n",
        "tconst = tconst.merge(basics, on='tconst', how='inner')\n",
        "imdb = tconst.merge(director, on='directors', how='inner')\n",
        "imdb = imdb.drop(columns=['isOriginalTitle','tconst','directors', 'titleType'])\n",
        "imdb = imdb.rename(columns = {'primaryName':'director'})\n",
        "imdb = imdb.sort_values('averageRating', ascending=True)\n",
        "imdb = imdb.drop_duplicates()\n",
        "imdb.head()"
      ],
      "execution_count": 28,
      "outputs": [
        {
          "output_type": "execute_result",
          "data": {
            "text/html": [
              "<div>\n",
              "<style scoped>\n",
              "    .dataframe tbody tr th:only-of-type {\n",
              "        vertical-align: middle;\n",
              "    }\n",
              "\n",
              "    .dataframe tbody tr th {\n",
              "        vertical-align: top;\n",
              "    }\n",
              "\n",
              "    .dataframe thead th {\n",
              "        text-align: right;\n",
              "    }\n",
              "</style>\n",
              "<table border=\"1\" class=\"dataframe\">\n",
              "  <thead>\n",
              "    <tr style=\"text-align: right;\">\n",
              "      <th></th>\n",
              "      <th>averageRating</th>\n",
              "      <th>numVotes</th>\n",
              "      <th>title</th>\n",
              "      <th>isAdult</th>\n",
              "      <th>startYear</th>\n",
              "      <th>runtimeMinutes</th>\n",
              "      <th>genres</th>\n",
              "      <th>director</th>\n",
              "    </tr>\n",
              "  </thead>\n",
              "  <tbody>\n",
              "    <tr>\n",
              "      <th>3142</th>\n",
              "      <td>1.3</td>\n",
              "      <td>3211</td>\n",
              "      <td>Li hai le, wo de guo</td>\n",
              "      <td>0</td>\n",
              "      <td>2018</td>\n",
              "      <td>90</td>\n",
              "      <td>Documentary</td>\n",
              "      <td>Tie Wei</td>\n",
              "    </tr>\n",
              "    <tr>\n",
              "      <th>3075</th>\n",
              "      <td>1.5</td>\n",
              "      <td>1868</td>\n",
              "      <td>Namaste England</td>\n",
              "      <td>0</td>\n",
              "      <td>2018</td>\n",
              "      <td>141</td>\n",
              "      <td>Comedy,Drama,Romance</td>\n",
              "      <td>Vipul Amrutlal Shah</td>\n",
              "    </tr>\n",
              "    <tr>\n",
              "      <th>996</th>\n",
              "      <td>1.7</td>\n",
              "      <td>1046</td>\n",
              "      <td>Ring of Terror</td>\n",
              "      <td>0</td>\n",
              "      <td>1961</td>\n",
              "      <td>71</td>\n",
              "      <td>Drama,Horror</td>\n",
              "      <td>Clark L. Paylow</td>\n",
              "    </tr>\n",
              "    <tr>\n",
              "      <th>3129</th>\n",
              "      <td>1.8</td>\n",
              "      <td>6811</td>\n",
              "      <td>A Sniper's War</td>\n",
              "      <td>0</td>\n",
              "      <td>2018</td>\n",
              "      <td>83</td>\n",
              "      <td>Documentary</td>\n",
              "      <td>Olya Schechter</td>\n",
              "    </tr>\n",
              "    <tr>\n",
              "      <th>2631</th>\n",
              "      <td>1.9</td>\n",
              "      <td>11571</td>\n",
              "      <td>Going Overboard</td>\n",
              "      <td>0</td>\n",
              "      <td>1989</td>\n",
              "      <td>99</td>\n",
              "      <td>Comedy</td>\n",
              "      <td>Valerie Breiman</td>\n",
              "    </tr>\n",
              "  </tbody>\n",
              "</table>\n",
              "</div>"
            ],
            "text/plain": [
              "      averageRating  numVotes                 title  isAdult startYear  \\\n",
              "3142            1.3      3211  Li hai le, wo de guo        0      2018   \n",
              "3075            1.5      1868       Namaste England        0      2018   \n",
              "996             1.7      1046        Ring of Terror        0      1961   \n",
              "3129            1.8      6811        A Sniper's War        0      2018   \n",
              "2631            1.9     11571       Going Overboard        0      1989   \n",
              "\n",
              "     runtimeMinutes                genres             director  \n",
              "3142             90           Documentary              Tie Wei  \n",
              "3075            141  Comedy,Drama,Romance  Vipul Amrutlal Shah  \n",
              "996              71          Drama,Horror      Clark L. Paylow  \n",
              "3129             83           Documentary       Olya Schechter  \n",
              "2631             99                Comedy      Valerie Breiman  "
            ]
          },
          "metadata": {
            "tags": []
          },
          "execution_count": 28
        }
      ]
    },
    {
      "metadata": {
        "id": "o_gYqWxOfFML",
        "colab_type": "code",
        "outputId": "d2c5e6b5-7e8d-4357-9204-daea6261b6ba",
        "colab": {
          "base_uri": "https://localhost:8080/",
          "height": 34
        }
      },
      "cell_type": "code",
      "source": [
        "imdb.shape"
      ],
      "execution_count": 29,
      "outputs": [
        {
          "output_type": "execute_result",
          "data": {
            "text/plain": [
              "(3186, 8)"
            ]
          },
          "metadata": {
            "tags": []
          },
          "execution_count": 29
        }
      ]
    },
    {
      "metadata": {
        "id": "PrOMEuxXCq9t",
        "colab_type": "code",
        "outputId": "daad0f25-72ff-4dca-b53e-c7701aff6c75",
        "colab": {
          "base_uri": "https://localhost:8080/",
          "height": 168
        }
      },
      "cell_type": "code",
      "source": [
        "imdb = imdb.replace({r'\\N': np.nan})\n",
        "imdb.isnull().sum()"
      ],
      "execution_count": 30,
      "outputs": [
        {
          "output_type": "execute_result",
          "data": {
            "text/plain": [
              "averageRating     0\n",
              "numVotes          0\n",
              "title             0\n",
              "isAdult           0\n",
              "startYear         0\n",
              "runtimeMinutes    0\n",
              "genres            0\n",
              "director          0\n",
              "dtype: int64"
            ]
          },
          "metadata": {
            "tags": []
          },
          "execution_count": 30
        }
      ]
    },
    {
      "metadata": {
        "id": "Gb3NkH9EYpxk",
        "colab_type": "text"
      },
      "cell_type": "markdown",
      "source": [
        "# **What are the highest and lowest rated genres?**"
      ]
    },
    {
      "metadata": {
        "id": "wxvqmW7vYUn-",
        "colab_type": "code",
        "outputId": "887f710b-8602-4485-83b2-22df542135d2",
        "colab": {
          "base_uri": "https://localhost:8080/",
          "height": 195
        }
      },
      "cell_type": "code",
      "source": [
        "#What are the highest and lowest rated genres?\n",
        "genre = imdb[['genres', 'averageRating']]\n",
        "genre.head()"
      ],
      "execution_count": 31,
      "outputs": [
        {
          "output_type": "execute_result",
          "data": {
            "text/html": [
              "<div>\n",
              "<style scoped>\n",
              "    .dataframe tbody tr th:only-of-type {\n",
              "        vertical-align: middle;\n",
              "    }\n",
              "\n",
              "    .dataframe tbody tr th {\n",
              "        vertical-align: top;\n",
              "    }\n",
              "\n",
              "    .dataframe thead th {\n",
              "        text-align: right;\n",
              "    }\n",
              "</style>\n",
              "<table border=\"1\" class=\"dataframe\">\n",
              "  <thead>\n",
              "    <tr style=\"text-align: right;\">\n",
              "      <th></th>\n",
              "      <th>genres</th>\n",
              "      <th>averageRating</th>\n",
              "    </tr>\n",
              "  </thead>\n",
              "  <tbody>\n",
              "    <tr>\n",
              "      <th>3142</th>\n",
              "      <td>Documentary</td>\n",
              "      <td>1.3</td>\n",
              "    </tr>\n",
              "    <tr>\n",
              "      <th>3075</th>\n",
              "      <td>Comedy,Drama,Romance</td>\n",
              "      <td>1.5</td>\n",
              "    </tr>\n",
              "    <tr>\n",
              "      <th>996</th>\n",
              "      <td>Drama,Horror</td>\n",
              "      <td>1.7</td>\n",
              "    </tr>\n",
              "    <tr>\n",
              "      <th>3129</th>\n",
              "      <td>Documentary</td>\n",
              "      <td>1.8</td>\n",
              "    </tr>\n",
              "    <tr>\n",
              "      <th>2631</th>\n",
              "      <td>Comedy</td>\n",
              "      <td>1.9</td>\n",
              "    </tr>\n",
              "  </tbody>\n",
              "</table>\n",
              "</div>"
            ],
            "text/plain": [
              "                    genres  averageRating\n",
              "3142           Documentary            1.3\n",
              "3075  Comedy,Drama,Romance            1.5\n",
              "996           Drama,Horror            1.7\n",
              "3129           Documentary            1.8\n",
              "2631                Comedy            1.9"
            ]
          },
          "metadata": {
            "tags": []
          },
          "execution_count": 31
        }
      ]
    },
    {
      "metadata": {
        "id": "XwEWWKIdKOdP",
        "colab_type": "code",
        "outputId": "21067f53-9b20-4776-eff8-e38667bb288e",
        "colab": {
          "base_uri": "https://localhost:8080/",
          "height": 1075
        }
      },
      "cell_type": "code",
      "source": [
        "genre.groupby('genres').averageRating.nunique()\n",
        "#oh no"
      ],
      "execution_count": 32,
      "outputs": [
        {
          "output_type": "execute_result",
          "data": {
            "text/plain": [
              "genres\n",
              "Action                         7\n",
              "Action,Adventure               5\n",
              "Action,Adventure,Animation     4\n",
              "Action,Adventure,Biography     2\n",
              "Action,Adventure,Comedy       29\n",
              "Action,Adventure,Crime         8\n",
              "Action,Adventure,Drama        21\n",
              "Action,Adventure,Family        4\n",
              "Action,Adventure,Fantasy      16\n",
              "Action,Adventure,Horror        2\n",
              "Action,Adventure,Mystery       1\n",
              "Action,Adventure,Romance       2\n",
              "Action,Adventure,Sci-Fi       15\n",
              "Action,Adventure,Thriller     13\n",
              "Action,Adventure,Western       1\n",
              "Action,Animation,Comedy        3\n",
              "Action,Animation,Crime         1\n",
              "Action,Animation,Drama         1\n",
              "Action,Animation,Fantasy       2\n",
              "Action,Biography,Crime         1\n",
              "Action,Biography,Drama         3\n",
              "Action,Comedy                  9\n",
              "Action,Comedy,Crime           25\n",
              "Action,Comedy,Drama           13\n",
              "Action,Comedy,Family           4\n",
              "Action,Comedy,Fantasy          5\n",
              "Action,Comedy,History          1\n",
              "Action,Comedy,Horror           2\n",
              "Action,Comedy,Mystery          3\n",
              "Action,Comedy,Romance          6\n",
              "                              ..\n",
              "Fantasy,Sci-Fi,Thriller        1\n",
              "History,Romance,Western        1\n",
              "Horror                        37\n",
              "Horror,Music                   2\n",
              "Horror,Musical                 1\n",
              "Horror,Mystery                10\n",
              "Horror,Mystery,Romance         2\n",
              "Horror,Mystery,Sci-Fi          3\n",
              "Horror,Mystery,Thriller       15\n",
              "Horror,Romance                 1\n",
              "Horror,Romance,Sci-Fi          1\n",
              "Horror,Romance,Thriller        1\n",
              "Horror,Sci-Fi                 30\n",
              "Horror,Sci-Fi,Thriller         6\n",
              "Horror,Thriller               24\n",
              "Musical,Romance                1\n",
              "Musical,Romance,War            1\n",
              "Mystery                        2\n",
              "Mystery,Romance,Thriller       2\n",
              "Mystery,Thriller               8\n",
              "Romance                        3\n",
              "Romance,Sci-Fi                 1\n",
              "Romance,Thriller               2\n",
              "Romance,Thriller,Western       1\n",
              "Romance,Western                4\n",
              "Sci-Fi                         9\n",
              "Sci-Fi,Thriller                4\n",
              "Thriller                      10\n",
              "Thriller,War                   1\n",
              "Western                       11\n",
              "Name: averageRating, Length: 349, dtype: int64"
            ]
          },
          "metadata": {
            "tags": []
          },
          "execution_count": 32
        }
      ]
    },
    {
      "metadata": {
        "id": "yu8pXHxeIlzO",
        "colab_type": "code",
        "outputId": "43495e41-c07b-408b-879c-c733c0461b7d",
        "colab": {
          "base_uri": "https://localhost:8080/",
          "height": 339
        }
      },
      "cell_type": "code",
      "source": [
        "movielist = []\n",
        "moviemean = []\n",
        "\n",
        "for genres in ['Horror', 'Action', 'Romance', 'Adventure', 'Animation', 'Biography', 'Comedy', 'Crime', 'Drama',\n",
        "              'Family', 'Fantasy', 'Sci-Fi', 'Mystery', 'Thriller', 'Western']:\n",
        "  MoviesInGenre = genre[genre['genres'].str.contains(genres)]\n",
        "  m = MoviesInGenre.averageRating.mean()\n",
        "  movielist.append(genres)\n",
        "  moviemean.append(m)\n",
        "print(movielist)\n",
        "print(moviemean)\n",
        "Combined = pd.Series(data=moviemean, index=movielist).sort_values()\n",
        "Combined"
      ],
      "execution_count": 33,
      "outputs": [
        {
          "output_type": "stream",
          "text": [
            "['Horror', 'Action', 'Romance', 'Adventure', 'Animation', 'Biography', 'Comedy', 'Crime', 'Drama', 'Family', 'Fantasy', 'Sci-Fi', 'Mystery', 'Thriller', 'Western']\n",
            "[5.731554524361948, 6.13832684824902, 6.729857819905212, 6.285476190476186, 7.1924528301886825, 7.25441176470588, 6.397233864207871, 6.608943089430895, 6.958941176470582, 6.375144508670518, 6.146551724137929, 5.611627906976747, 6.650253807106594, 6.32102272727272, 6.831884057971015]\n"
          ],
          "name": "stdout"
        },
        {
          "output_type": "execute_result",
          "data": {
            "text/plain": [
              "Sci-Fi       5.611628\n",
              "Horror       5.731555\n",
              "Action       6.138327\n",
              "Fantasy      6.146552\n",
              "Adventure    6.285476\n",
              "Thriller     6.321023\n",
              "Family       6.375145\n",
              "Comedy       6.397234\n",
              "Crime        6.608943\n",
              "Mystery      6.650254\n",
              "Romance      6.729858\n",
              "Western      6.831884\n",
              "Drama        6.958941\n",
              "Animation    7.192453\n",
              "Biography    7.254412\n",
              "dtype: float64"
            ]
          },
          "metadata": {
            "tags": []
          },
          "execution_count": 33
        }
      ]
    },
    {
      "metadata": {
        "id": "UNSwZtnZM16T",
        "colab_type": "code",
        "outputId": "8f297465-4042-4373-edf3-2328ec78f057",
        "colab": {
          "base_uri": "https://localhost:8080/",
          "height": 118
        }
      },
      "cell_type": "code",
      "source": [
        "#The 5 lowest rated genres\n",
        "Combined.head()"
      ],
      "execution_count": 34,
      "outputs": [
        {
          "output_type": "execute_result",
          "data": {
            "text/plain": [
              "Sci-Fi       5.611628\n",
              "Horror       5.731555\n",
              "Action       6.138327\n",
              "Fantasy      6.146552\n",
              "Adventure    6.285476\n",
              "dtype: float64"
            ]
          },
          "metadata": {
            "tags": []
          },
          "execution_count": 34
        }
      ]
    },
    {
      "metadata": {
        "id": "2PW7K23WNJsl",
        "colab_type": "code",
        "outputId": "b616f7a7-59cc-4016-a150-b83415a25b45",
        "colab": {
          "base_uri": "https://localhost:8080/",
          "height": 118
        }
      },
      "cell_type": "code",
      "source": [
        "#The 5 highest rated genres\n",
        "Combined.tail()"
      ],
      "execution_count": 35,
      "outputs": [
        {
          "output_type": "execute_result",
          "data": {
            "text/plain": [
              "Romance      6.729858\n",
              "Western      6.831884\n",
              "Drama        6.958941\n",
              "Animation    7.192453\n",
              "Biography    7.254412\n",
              "dtype: float64"
            ]
          },
          "metadata": {
            "tags": []
          },
          "execution_count": 35
        }
      ]
    },
    {
      "metadata": {
        "id": "gUtJe7cTzvDl",
        "colab_type": "code",
        "outputId": "19352f2a-15e8-47c1-f22c-175b60bf6bee",
        "colab": {
          "base_uri": "https://localhost:8080/",
          "height": 347
        }
      },
      "cell_type": "code",
      "source": [
        "ax = Combined.plot.bar(color='#ED713A', width=0.8, legend=False);\n",
        "ax.text(x=-1, y=8.5, s=\"Biopics and animation dominate in popularity\", fontsize=18, fontweight='bold')\n",
        "ax.text(x=-1, y=8, s='IMDb movie genres by average user rating', fontsize=15);"
      ],
      "execution_count": 36,
      "outputs": [
        {
          "output_type": "display_data",
          "data": {
            "image/png": "[encoded data removed]",
            "text/plain": [
              "<Figure size 432x288 with 1 Axes>"
            ]
          },
          "metadata": {
            "tags": []
          }
        }
      ]
    },
    {
      "metadata": {
        "id": "-0BgPRGLY3SM",
        "colab_type": "text"
      },
      "cell_type": "markdown",
      "source": [
        "# **Who are the highest and lowest rated directors?**"
      ]
    },
    {
      "metadata": {
        "id": "wGrORiJQyEUm",
        "colab_type": "code",
        "outputId": "825b80b8-96b3-453f-dd33-54e1b5ef4535",
        "colab": {
          "base_uri": "https://localhost:8080/",
          "height": 195
        }
      },
      "cell_type": "code",
      "source": [
        "#Who are the highest and lowest rated directors?\n",
        "directors = imdb[['director', 'averageRating']]\n",
        "directors.head()\n",
        "directorCount = directors.director.value_counts()\n",
        "#lots of directors with only 1 film with more than 1000 votes *cries in Errol Morris*\n",
        "MoreThan5 = directorCount[directorCount.values >= 5]\n",
        "MoreThan5 = MoreThan5.index.tolist()\n",
        "#our conditional list - theatre films with more than 1000 votes from directors with 5 or more other movies with 1000 votes\n",
        "directors = directors[directors.director.isin(MoreThan5)]\n",
        "directors.head()"
      ],
      "execution_count": 37,
      "outputs": [
        {
          "output_type": "execute_result",
          "data": {
            "text/html": [
              "<div>\n",
              "<style scoped>\n",
              "    .dataframe tbody tr th:only-of-type {\n",
              "        vertical-align: middle;\n",
              "    }\n",
              "\n",
              "    .dataframe tbody tr th {\n",
              "        vertical-align: top;\n",
              "    }\n",
              "\n",
              "    .dataframe thead th {\n",
              "        text-align: right;\n",
              "    }\n",
              "</style>\n",
              "<table border=\"1\" class=\"dataframe\">\n",
              "  <thead>\n",
              "    <tr style=\"text-align: right;\">\n",
              "      <th></th>\n",
              "      <th>director</th>\n",
              "      <th>averageRating</th>\n",
              "    </tr>\n",
              "  </thead>\n",
              "  <tbody>\n",
              "    <tr>\n",
              "      <th>199</th>\n",
              "      <td>Roger Corman</td>\n",
              "      <td>2.9</td>\n",
              "    </tr>\n",
              "    <tr>\n",
              "      <th>200</th>\n",
              "      <td>Roger Corman</td>\n",
              "      <td>3.1</td>\n",
              "    </tr>\n",
              "    <tr>\n",
              "      <th>2143</th>\n",
              "      <td>Albert Pyun</td>\n",
              "      <td>3.1</td>\n",
              "    </tr>\n",
              "    <tr>\n",
              "      <th>363</th>\n",
              "      <td>Bert I. Gordon</td>\n",
              "      <td>3.4</td>\n",
              "    </tr>\n",
              "    <tr>\n",
              "      <th>204</th>\n",
              "      <td>Roger Corman</td>\n",
              "      <td>3.4</td>\n",
              "    </tr>\n",
              "  </tbody>\n",
              "</table>\n",
              "</div>"
            ],
            "text/plain": [
              "            director  averageRating\n",
              "199     Roger Corman            2.9\n",
              "200     Roger Corman            3.1\n",
              "2143     Albert Pyun            3.1\n",
              "363   Bert I. Gordon            3.4\n",
              "204     Roger Corman            3.4"
            ]
          },
          "metadata": {
            "tags": []
          },
          "execution_count": 37
        }
      ]
    },
    {
      "metadata": {
        "id": "jm_5UV4cZJ2O",
        "colab_type": "code",
        "outputId": "737407dc-f62b-42b3-a762-1bcb97d40ebf",
        "colab": {
          "base_uri": "https://localhost:8080/",
          "height": 225
        }
      },
      "cell_type": "code",
      "source": [
        "DirectorRating = directors.groupby(directors['director']).mean()\n",
        "type(DirectorRating) #dataframe\n",
        "DirectorRating.reset_index()\n",
        "DirectorRating = DirectorRating.sort_values(by = ['averageRating'])\n",
        "#The Absolute Worst\n",
        "DirectorRating.head()"
      ],
      "execution_count": 38,
      "outputs": [
        {
          "output_type": "execute_result",
          "data": {
            "text/html": [
              "<div>\n",
              "<style scoped>\n",
              "    .dataframe tbody tr th:only-of-type {\n",
              "        vertical-align: middle;\n",
              "    }\n",
              "\n",
              "    .dataframe tbody tr th {\n",
              "        vertical-align: top;\n",
              "    }\n",
              "\n",
              "    .dataframe thead th {\n",
              "        text-align: right;\n",
              "    }\n",
              "</style>\n",
              "<table border=\"1\" class=\"dataframe\">\n",
              "  <thead>\n",
              "    <tr style=\"text-align: right;\">\n",
              "      <th></th>\n",
              "      <th>averageRating</th>\n",
              "    </tr>\n",
              "    <tr>\n",
              "      <th>director</th>\n",
              "      <th></th>\n",
              "    </tr>\n",
              "  </thead>\n",
              "  <tbody>\n",
              "    <tr>\n",
              "      <th>Bert I. Gordon</th>\n",
              "      <td>4.140000</td>\n",
              "    </tr>\n",
              "    <tr>\n",
              "      <th>Albert Pyun</th>\n",
              "      <td>5.214286</td>\n",
              "    </tr>\n",
              "    <tr>\n",
              "      <th>Bob Clark</th>\n",
              "      <td>5.300000</td>\n",
              "    </tr>\n",
              "    <tr>\n",
              "      <th>Sam Firstenberg</th>\n",
              "      <td>5.383333</td>\n",
              "    </tr>\n",
              "    <tr>\n",
              "      <th>Mark L. Lester</th>\n",
              "      <td>5.633333</td>\n",
              "    </tr>\n",
              "  </tbody>\n",
              "</table>\n",
              "</div>"
            ],
            "text/plain": [
              "                 averageRating\n",
              "director                      \n",
              "Bert I. Gordon        4.140000\n",
              "Albert Pyun           5.214286\n",
              "Bob Clark             5.300000\n",
              "Sam Firstenberg       5.383333\n",
              "Mark L. Lester        5.633333"
            ]
          },
          "metadata": {
            "tags": []
          },
          "execution_count": 38
        }
      ]
    },
    {
      "metadata": {
        "id": "cfQy4BapRC15",
        "colab_type": "code",
        "outputId": "2e16b37b-9e20-4473-8bbf-b161b8f9ca96",
        "colab": {
          "base_uri": "https://localhost:8080/",
          "height": 225
        }
      },
      "cell_type": "code",
      "source": [
        "#The Best\n",
        "DirectorRating.tail()"
      ],
      "execution_count": 39,
      "outputs": [
        {
          "output_type": "execute_result",
          "data": {
            "text/html": [
              "<div>\n",
              "<style scoped>\n",
              "    .dataframe tbody tr th:only-of-type {\n",
              "        vertical-align: middle;\n",
              "    }\n",
              "\n",
              "    .dataframe tbody tr th {\n",
              "        vertical-align: top;\n",
              "    }\n",
              "\n",
              "    .dataframe thead th {\n",
              "        text-align: right;\n",
              "    }\n",
              "</style>\n",
              "<table border=\"1\" class=\"dataframe\">\n",
              "  <thead>\n",
              "    <tr style=\"text-align: right;\">\n",
              "      <th></th>\n",
              "      <th>averageRating</th>\n",
              "    </tr>\n",
              "    <tr>\n",
              "      <th>director</th>\n",
              "      <th></th>\n",
              "    </tr>\n",
              "  </thead>\n",
              "  <tbody>\n",
              "    <tr>\n",
              "      <th>Yasujirô Ozu</th>\n",
              "      <td>8.085714</td>\n",
              "    </tr>\n",
              "    <tr>\n",
              "      <th>Akira Kurosawa</th>\n",
              "      <td>8.085714</td>\n",
              "    </tr>\n",
              "    <tr>\n",
              "      <th>Stanley Kubrick</th>\n",
              "      <td>8.120000</td>\n",
              "    </tr>\n",
              "    <tr>\n",
              "      <th>Satyajit Ray</th>\n",
              "      <td>8.166667</td>\n",
              "    </tr>\n",
              "    <tr>\n",
              "      <th>Masaki Kobayashi</th>\n",
              "      <td>8.520000</td>\n",
              "    </tr>\n",
              "  </tbody>\n",
              "</table>\n",
              "</div>"
            ],
            "text/plain": [
              "                  averageRating\n",
              "director                       \n",
              "Yasujirô Ozu           8.085714\n",
              "Akira Kurosawa         8.085714\n",
              "Stanley Kubrick        8.120000\n",
              "Satyajit Ray           8.166667\n",
              "Masaki Kobayashi       8.520000"
            ]
          },
          "metadata": {
            "tags": []
          },
          "execution_count": 39
        }
      ]
    },
    {
      "metadata": {
        "id": "BDclZWUUEMQ3",
        "colab_type": "text"
      },
      "cell_type": "markdown",
      "source": [
        "#**How Does Runtime Effect Rating?**"
      ]
    },
    {
      "metadata": {
        "id": "DE0dDJn5DVQ0",
        "colab_type": "code",
        "outputId": "51d47d11-0e1d-4764-fcb3-6ccb9d2d387d",
        "colab": {
          "base_uri": "https://localhost:8080/",
          "height": 50
        }
      },
      "cell_type": "code",
      "source": [
        "#graph got 'no numeric types' error so I'm checking the value types\n",
        "print(type(imdb['runtimeMinutes'][0])) #need to convert to integer\n",
        "type(imdb['averageRating'][0])"
      ],
      "execution_count": 40,
      "outputs": [
        {
          "output_type": "stream",
          "text": [
            "<class 'str'>\n"
          ],
          "name": "stdout"
        },
        {
          "output_type": "execute_result",
          "data": {
            "text/plain": [
              "numpy.float64"
            ]
          },
          "metadata": {
            "tags": []
          },
          "execution_count": 40
        }
      ]
    },
    {
      "metadata": {
        "id": "bEXIm30WNEYq",
        "colab_type": "code",
        "colab": {}
      },
      "cell_type": "code",
      "source": [
        "imdb[['runtimeMinutes', 'averageRating']] = imdb[['runtimeMinutes',\n",
        "                                                  'averageRating']].astype(float)"
      ],
      "execution_count": 0,
      "outputs": []
    },
    {
      "metadata": {
        "id": "-4pw1PPlyP7p",
        "colab_type": "code",
        "outputId": "fe27c7cf-12f4-4b5a-8eb8-74e82bb05863",
        "colab": {
          "base_uri": "https://localhost:8080/"
        }
      },
      "cell_type": "code",
      "source": [
        "ax = sns.lineplot(data=imdb, x=imdb['runtimeMinutes'], y=imdb['averageRating'],\n",
        "                  color='#0491D5', dashes=False, legend=False);\n",
        "#Most of the data is clearly under the 250 minute mark;\n",
        "#it doesn't look like there's a relationship but slicing out outliers could help"
      ],
      "execution_count": 42,
      "outputs": [
        {
          "output_type": "display_data",
          "data": {
            "image/png": "[encoded data removed]",
            "text/plain": [
              "<Figure size 432x288 with 1 Axes>"
            ]
          },
          "metadata": {
            "tags": []
          }
        }
      ]
    },
    {
      "metadata": {
        "id": "Jz376wiGRTIe",
        "colab_type": "code",
        "outputId": "e8cf9b8a-eaa6-4b21-e580-ba36a84a6540",
        "colab": {
          "base_uri": "https://localhost:8080/",
          "height": 380
        }
      },
      "cell_type": "code",
      "source": [
        "length = imdb[['runtimeMinutes', 'averageRating']]\n",
        "length = length[length['runtimeMinutes']<=250]\n",
        "\n",
        "ratingRange = np.linspace(0, 10, 11)\n",
        "timeRange = [40, 60, 80, 100, 120, 140, 160, 180, 200, 250]\n",
        "runtimeBin = pd.cut(length['runtimeMinutes'], timeRange, right=False)\n",
        "ratingBin = pd.cut(length['averageRating'], ratingRange, right=False)\n",
        "ct = pd.crosstab(runtimeBin, ratingBin, normalize='columns');\n",
        "ct"
      ],
      "execution_count": 158,
      "outputs": [
        {
          "output_type": "execute_result",
          "data": {
            "text/html": [
              "<div>\n",
              "<style scoped>\n",
              "    .dataframe tbody tr th:only-of-type {\n",
              "        vertical-align: middle;\n",
              "    }\n",
              "\n",
              "    .dataframe tbody tr th {\n",
              "        vertical-align: top;\n",
              "    }\n",
              "\n",
              "    .dataframe thead th {\n",
              "        text-align: right;\n",
              "    }\n",
              "</style>\n",
              "<table border=\"1\" class=\"dataframe\">\n",
              "  <thead>\n",
              "    <tr style=\"text-align: right;\">\n",
              "      <th>averageRating</th>\n",
              "      <th>[0.0, 1.0)</th>\n",
              "      <th>[1.0, 2.0)</th>\n",
              "      <th>[2.0, 3.0)</th>\n",
              "      <th>[3.0, 4.0)</th>\n",
              "      <th>[4.0, 5.0)</th>\n",
              "      <th>[5.0, 6.0)</th>\n",
              "      <th>[6.0, 7.0)</th>\n",
              "      <th>[7.0, 8.0)</th>\n",
              "      <th>[8.0, 9.0)</th>\n",
              "      <th>[9.0, 10.0)</th>\n",
              "    </tr>\n",
              "    <tr>\n",
              "      <th>runtimeMinutes</th>\n",
              "      <th></th>\n",
              "      <th></th>\n",
              "      <th></th>\n",
              "      <th></th>\n",
              "      <th></th>\n",
              "      <th></th>\n",
              "      <th></th>\n",
              "      <th></th>\n",
              "      <th></th>\n",
              "      <th></th>\n",
              "    </tr>\n",
              "  </thead>\n",
              "  <tbody>\n",
              "    <tr>\n",
              "      <th>[40, 60)</th>\n",
              "      <td>0.0</td>\n",
              "      <td>0.0</td>\n",
              "      <td>0.024390</td>\n",
              "      <td>0.027397</td>\n",
              "      <td>0.005348</td>\n",
              "      <td>0.000000</td>\n",
              "      <td>0.004921</td>\n",
              "      <td>0.009166</td>\n",
              "      <td>0.007576</td>\n",
              "      <td>0.00</td>\n",
              "    </tr>\n",
              "    <tr>\n",
              "      <th>[60, 80)</th>\n",
              "      <td>0.0</td>\n",
              "      <td>0.2</td>\n",
              "      <td>0.292683</td>\n",
              "      <td>0.205479</td>\n",
              "      <td>0.074866</td>\n",
              "      <td>0.038229</td>\n",
              "      <td>0.030512</td>\n",
              "      <td>0.054995</td>\n",
              "      <td>0.045455</td>\n",
              "      <td>0.00</td>\n",
              "    </tr>\n",
              "    <tr>\n",
              "      <th>[80, 100)</th>\n",
              "      <td>0.0</td>\n",
              "      <td>0.6</td>\n",
              "      <td>0.585366</td>\n",
              "      <td>0.671233</td>\n",
              "      <td>0.695187</td>\n",
              "      <td>0.575453</td>\n",
              "      <td>0.410433</td>\n",
              "      <td>0.306141</td>\n",
              "      <td>0.250000</td>\n",
              "      <td>0.50</td>\n",
              "    </tr>\n",
              "    <tr>\n",
              "      <th>[100, 120)</th>\n",
              "      <td>0.0</td>\n",
              "      <td>0.0</td>\n",
              "      <td>0.073171</td>\n",
              "      <td>0.082192</td>\n",
              "      <td>0.181818</td>\n",
              "      <td>0.334004</td>\n",
              "      <td>0.419291</td>\n",
              "      <td>0.363886</td>\n",
              "      <td>0.246212</td>\n",
              "      <td>0.00</td>\n",
              "    </tr>\n",
              "    <tr>\n",
              "      <th>[120, 140)</th>\n",
              "      <td>0.0</td>\n",
              "      <td>0.0</td>\n",
              "      <td>0.024390</td>\n",
              "      <td>0.000000</td>\n",
              "      <td>0.016043</td>\n",
              "      <td>0.040241</td>\n",
              "      <td>0.096457</td>\n",
              "      <td>0.155820</td>\n",
              "      <td>0.219697</td>\n",
              "      <td>0.25</td>\n",
              "    </tr>\n",
              "    <tr>\n",
              "      <th>[140, 160)</th>\n",
              "      <td>0.0</td>\n",
              "      <td>0.2</td>\n",
              "      <td>0.000000</td>\n",
              "      <td>0.013699</td>\n",
              "      <td>0.021390</td>\n",
              "      <td>0.008048</td>\n",
              "      <td>0.023622</td>\n",
              "      <td>0.062328</td>\n",
              "      <td>0.121212</td>\n",
              "      <td>0.25</td>\n",
              "    </tr>\n",
              "    <tr>\n",
              "      <th>[160, 180)</th>\n",
              "      <td>0.0</td>\n",
              "      <td>0.0</td>\n",
              "      <td>0.000000</td>\n",
              "      <td>0.000000</td>\n",
              "      <td>0.005348</td>\n",
              "      <td>0.004024</td>\n",
              "      <td>0.009843</td>\n",
              "      <td>0.030247</td>\n",
              "      <td>0.060606</td>\n",
              "      <td>0.00</td>\n",
              "    </tr>\n",
              "    <tr>\n",
              "      <th>[180, 200)</th>\n",
              "      <td>0.0</td>\n",
              "      <td>0.0</td>\n",
              "      <td>0.000000</td>\n",
              "      <td>0.000000</td>\n",
              "      <td>0.000000</td>\n",
              "      <td>0.000000</td>\n",
              "      <td>0.003937</td>\n",
              "      <td>0.010999</td>\n",
              "      <td>0.026515</td>\n",
              "      <td>0.00</td>\n",
              "    </tr>\n",
              "    <tr>\n",
              "      <th>[200, 250)</th>\n",
              "      <td>0.0</td>\n",
              "      <td>0.0</td>\n",
              "      <td>0.000000</td>\n",
              "      <td>0.000000</td>\n",
              "      <td>0.000000</td>\n",
              "      <td>0.000000</td>\n",
              "      <td>0.000984</td>\n",
              "      <td>0.006416</td>\n",
              "      <td>0.022727</td>\n",
              "      <td>0.00</td>\n",
              "    </tr>\n",
              "  </tbody>\n",
              "</table>\n",
              "</div>"
            ],
            "text/plain": [
              "averageRating   [0.0, 1.0)  [1.0, 2.0)  [2.0, 3.0)  [3.0, 4.0)  [4.0, 5.0)  \\\n",
              "runtimeMinutes                                                               \n",
              "[40, 60)               0.0         0.0    0.024390    0.027397    0.005348   \n",
              "[60, 80)               0.0         0.2    0.292683    0.205479    0.074866   \n",
              "[80, 100)              0.0         0.6    0.585366    0.671233    0.695187   \n",
              "[100, 120)             0.0         0.0    0.073171    0.082192    0.181818   \n",
              "[120, 140)             0.0         0.0    0.024390    0.000000    0.016043   \n",
              "[140, 160)             0.0         0.2    0.000000    0.013699    0.021390   \n",
              "[160, 180)             0.0         0.0    0.000000    0.000000    0.005348   \n",
              "[180, 200)             0.0         0.0    0.000000    0.000000    0.000000   \n",
              "[200, 250)             0.0         0.0    0.000000    0.000000    0.000000   \n",
              "\n",
              "averageRating   [5.0, 6.0)  [6.0, 7.0)  [7.0, 8.0)  [8.0, 9.0)  [9.0, 10.0)  \n",
              "runtimeMinutes                                                               \n",
              "[40, 60)          0.000000    0.004921    0.009166    0.007576         0.00  \n",
              "[60, 80)          0.038229    0.030512    0.054995    0.045455         0.00  \n",
              "[80, 100)         0.575453    0.410433    0.306141    0.250000         0.50  \n",
              "[100, 120)        0.334004    0.419291    0.363886    0.246212         0.00  \n",
              "[120, 140)        0.040241    0.096457    0.155820    0.219697         0.25  \n",
              "[140, 160)        0.008048    0.023622    0.062328    0.121212         0.25  \n",
              "[160, 180)        0.004024    0.009843    0.030247    0.060606         0.00  \n",
              "[180, 200)        0.000000    0.003937    0.010999    0.026515         0.00  \n",
              "[200, 250)        0.000000    0.000984    0.006416    0.022727         0.00  "
            ]
          },
          "metadata": {
            "tags": []
          },
          "execution_count": 158
        }
      ]
    },
    {
      "metadata": {
        "id": "pZCPb1uzXZdG",
        "colab_type": "code",
        "outputId": "60bcc138-b9ae-4eb3-8109-a012d98f4c12",
        "colab": {
          "base_uri": "https://localhost:8080/",
          "height": 325
        }
      },
      "cell_type": "code",
      "source": [
        "ct.plot(kind='bar');\n",
        "#it appears that the longer length movies are most likely to have a 8-10 score\n",
        "#while the scores for 80-100 minute movies are fairly normally distributed\n",
        "#scores for 40-80 minute movies trend to 1-4 score"
      ],
      "execution_count": 159,
      "outputs": [
        {
          "output_type": "display_data",
          "data": {
            "image/png": "[encoded data removed]",
            "text/plain": [
              "<Figure size 432x288 with 1 Axes>"
            ]
          },
          "metadata": {
            "tags": []
          }
        }
      ]
    },
    {
      "metadata": {
        "id": "oAgzl9c2m2mr",
        "colab_type": "code",
        "outputId": "a628eb68-8b1e-44e4-c406-61877470e5bc",
        "colab": {
          "base_uri": "https://localhost:8080/",
          "height": 313
        }
      },
      "cell_type": "code",
      "source": [
        "ax = sns.lineplot(data=length, x=length['runtimeMinutes'],\n",
        "                  y=length['averageRating'],\n",
        "                  color='#0491D5', dashes=False, legend=False);\n",
        "ax.text(x=32, y=11, s=\"As runtime increases, average rating is higher and has less spread\", fontsize=15, fontweight='bold')\n",
        "ax.text(x=32, y=10.5, s='Runtime of movies over user submitted rating', fontsize=12);\n",
        "ax.set(yticks=range(0,11,1));\n",
        "ax.set(xticks=range(40, 250, 20));\n",
        "plt.xlabel('Runtime (minutes)');\n",
        "plt.ylabel('Average Rating (1-10)');"
      ],
      "execution_count": 160,
      "outputs": [
        {
          "output_type": "display_data",
          "data": {
            "image/png": "[encoded data removed]",
            "text/plain": [
              "<Figure size 432x288 with 1 Axes>"
            ]
          },
          "metadata": {
            "tags": []
          }
        }
      ]
    },
    {
      "metadata": {
        "id": "Vv4iLRa6pIv3",
        "colab_type": "code",
        "outputId": "37df83ef-630b-4169-e597-e992aa72ec1f",
        "colab": {
          "base_uri": "https://localhost:8080/",
          "height": 330
        }
      },
      "cell_type": "code",
      "source": [
        "#Line plot comparing 1-4, 5-6, 7-8, 9-10\n",
        "ratingRange = [0, 2, 4, 6, 8, 10]\n",
        "ratingBin = pd.cut(length['averageRating'], ratingRange, right=False)\n",
        "\n",
        "ax = sns.lineplot(data=length, x=length['runtimeMinutes'],\n",
        "                  y=length['averageRating'], hue=ratingBin,\n",
        "                  dashes=False, legend='brief');\n",
        "ax.set(yticks=range(0,11,1));\n",
        "ax.set(xticks=range(40, 250, 20));\n",
        "ax.text(x=32, y=11.8, s=\"There isn't a cutoff for how short a good movie can be,\", fontsize=15, fontweight='bold')\n",
        "ax.text(x=32, y=11.2, s=\"but there is a cutoff for how long a bad movie can be.\", fontsize=15, fontweight='bold')\n",
        "ax.text(x=32, y=10.5, s='Runtime of movies over rating by various levels of ratings', fontsize=12);\n",
        "plt.xlabel('Runtime (minutes)');\n",
        "plt.ylabel('Average Rating (1-10)');"
      ],
      "execution_count": 161,
      "outputs": [
        {
          "output_type": "display_data",
          "data": {
            "image/png": "[encoded data removed]",
            "text/plain": [
              "<Figure size 432x288 with 1 Axes>"
            ]
          },
          "metadata": {
            "tags": []
          }
        }
      ]
    },
    {
      "metadata": {
        "id": "o3wqbSVa14mB",
        "colab_type": "code",
        "outputId": "122e21d4-50b0-40a2-a814-d416d8efd7d2",
        "colab": {
          "base_uri": "https://localhost:8080/",
          "height": 358
        }
      },
      "cell_type": "code",
      "source": [
        "ratingRange = [0, 2, 4, 6, 8, 10]\n",
        "timeRange = [40, 60, 80, 100, 120, 140, 160, 180, 200, 250]\n",
        "runtimeBin = pd.cut(length['runtimeMinutes'], timeRange, right=False)\n",
        "ratingBin = pd.cut(length['averageRating'], ratingRange, right=False)\n",
        "ct = pd.crosstab(runtimeBin, ratingBin, normalize='columns');\n",
        "ax = ct.plot(kind='bar');\n",
        "ax.text(x=-1, y=0.75, s=\"As runtime increases, average rating proportion is higher.\", fontsize=15, fontweight='bold')\n",
        "ax.text(x=-1, y=0.7, s='Runtime of movies over user submitted rating', fontsize=12);\n",
        "plt.xlabel('Runtime (minutes)');\n",
        "plt.ylabel('Frequency of Rating');"
      ],
      "execution_count": 162,
      "outputs": [
        {
          "output_type": "display_data",
          "data": {
            "image/png": "[encoded data removed]",
            "text/plain": [
              "<Figure size 432x288 with 1 Axes>"
            ]
          },
          "metadata": {
            "tags": []
          }
        }
      ]
    },
    {
      "metadata": {
        "id": "HWJcdxo4tQcM",
        "colab_type": "text"
      },
      "cell_type": "markdown",
      "source": [
        "#**do adult films have a different rating trend than non-adult films?**"
      ]
    },
    {
      "metadata": {
        "id": "WqNke0GGyYHn",
        "colab_type": "code",
        "outputId": "62dfa40b-ac5c-483b-c260-40fa0ed5be2f",
        "colab": {
          "base_uri": "https://localhost:8080/",
          "height": 283
        }
      },
      "cell_type": "code",
      "source": [
        "#do adult films have a different rating trend than non-adult films?\n",
        "x = pd.crosstab(imdb['averageRating'], imdb['isAdult'], normalize='index')*100\n",
        "ax = sns.lineplot(data=x, color=['#0491D5', '#FF2801'], hue='isAdult', dashes=False, legend=False);\n",
        "#well darn\n",
        "#for nearly all ratings 100% of examples are non-adult films"
      ],
      "execution_count": 48,
      "outputs": [
        {
          "output_type": "display_data",
          "data": {
            "image/png": "[encoded data removed]",
            "text/plain": [
              "<Figure size 432x288 with 1 Axes>"
            ]
          },
          "metadata": {
            "tags": []
          }
        }
      ]
    },
    {
      "metadata": {
        "id": "XW3oXQetA1oO",
        "colab_type": "code",
        "outputId": "440023ad-1b7d-4cf2-b2ea-6e60b9b6e4ec",
        "colab": {
          "base_uri": "https://localhost:8080/",
          "height": 67
        }
      },
      "cell_type": "code",
      "source": [
        "imdb['isAdult'].value_counts() #lol\n",
        "#question cancelled"
      ],
      "execution_count": 49,
      "outputs": [
        {
          "output_type": "execute_result",
          "data": {
            "text/plain": [
              "0    3185\n",
              "1       1\n",
              "Name: isAdult, dtype: int64"
            ]
          },
          "metadata": {
            "tags": []
          },
          "execution_count": 49
        }
      ]
    },
    {
      "metadata": {
        "id": "6Q1IaHXxQKl4",
        "colab_type": "text"
      },
      "cell_type": "markdown",
      "source": [
        "#**What were the best and worst decades for film? **"
      ]
    },
    {
      "metadata": {
        "id": "fYqq_rie65Ze",
        "colab_type": "code",
        "colab": {}
      },
      "cell_type": "code",
      "source": [
        "imdb['startYear'] = imdb['startYear'].astype(int)"
      ],
      "execution_count": 0,
      "outputs": []
    },
    {
      "metadata": {
        "id": "zyPNLXXBLhkS",
        "colab_type": "code",
        "outputId": "357b9b5c-a915-4e5d-d0cd-c3d124c4513a",
        "colab": {
          "base_uri": "https://localhost:8080/",
          "height": 373
        }
      },
      "cell_type": "code",
      "source": [
        "timeline = imdb[['startYear', 'averageRating']]\n",
        "timeline = timeline[timeline['startYear']>=1920]\n",
        "\n",
        "decades = [1920, 1930, 1940, 1950, 1960, 1970, 1980, 1990, 2000, 2010, 2020]\n",
        "decadeBin = pd.cut(timeline['startYear'], decades, right=False)\n",
        "DecadeRating = timeline.groupby(decadeBin).count()\n",
        "DecadeRating[['yearMean', 'ratingMean']] = timeline.groupby(decadeBin).mean()\n",
        "DecadeRating\n",
        "#many categories have under 10 entries\n",
        "#the first category to have more than 10 has more than 100\n",
        "#so our cutoff will be >= 100"
      ],
      "execution_count": 167,
      "outputs": [
        {
          "output_type": "execute_result",
          "data": {
            "text/html": [
              "<div>\n",
              "<style scoped>\n",
              "    .dataframe tbody tr th:only-of-type {\n",
              "        vertical-align: middle;\n",
              "    }\n",
              "\n",
              "    .dataframe tbody tr th {\n",
              "        vertical-align: top;\n",
              "    }\n",
              "\n",
              "    .dataframe thead th {\n",
              "        text-align: right;\n",
              "    }\n",
              "</style>\n",
              "<table border=\"1\" class=\"dataframe\">\n",
              "  <thead>\n",
              "    <tr style=\"text-align: right;\">\n",
              "      <th></th>\n",
              "      <th>startYear</th>\n",
              "      <th>averageRating</th>\n",
              "      <th>yearMean</th>\n",
              "      <th>ratingMean</th>\n",
              "    </tr>\n",
              "    <tr>\n",
              "      <th>startYear</th>\n",
              "      <th></th>\n",
              "      <th></th>\n",
              "      <th></th>\n",
              "      <th></th>\n",
              "    </tr>\n",
              "  </thead>\n",
              "  <tbody>\n",
              "    <tr>\n",
              "      <th>[1920, 1930)</th>\n",
              "      <td>127</td>\n",
              "      <td>127</td>\n",
              "      <td>1925.566929</td>\n",
              "      <td>7.480315</td>\n",
              "    </tr>\n",
              "    <tr>\n",
              "      <th>[1930, 1940)</th>\n",
              "      <td>7</td>\n",
              "      <td>7</td>\n",
              "      <td>1930.714286</td>\n",
              "      <td>7.314286</td>\n",
              "    </tr>\n",
              "    <tr>\n",
              "      <th>[1940, 1950)</th>\n",
              "      <td>0</td>\n",
              "      <td>0</td>\n",
              "      <td>NaN</td>\n",
              "      <td>NaN</td>\n",
              "    </tr>\n",
              "    <tr>\n",
              "      <th>[1950, 1960)</th>\n",
              "      <td>268</td>\n",
              "      <td>268</td>\n",
              "      <td>1958.201493</td>\n",
              "      <td>6.778731</td>\n",
              "    </tr>\n",
              "    <tr>\n",
              "      <th>[1960, 1970)</th>\n",
              "      <td>569</td>\n",
              "      <td>569</td>\n",
              "      <td>1962.156415</td>\n",
              "      <td>6.944112</td>\n",
              "    </tr>\n",
              "    <tr>\n",
              "      <th>[1970, 1980)</th>\n",
              "      <td>3</td>\n",
              "      <td>3</td>\n",
              "      <td>1972.000000</td>\n",
              "      <td>5.966667</td>\n",
              "    </tr>\n",
              "    <tr>\n",
              "      <th>[1980, 1990)</th>\n",
              "      <td>1357</td>\n",
              "      <td>1357</td>\n",
              "      <td>1985.886514</td>\n",
              "      <td>6.359912</td>\n",
              "    </tr>\n",
              "    <tr>\n",
              "      <th>[1990, 2000)</th>\n",
              "      <td>673</td>\n",
              "      <td>673</td>\n",
              "      <td>1993.995542</td>\n",
              "      <td>6.339079</td>\n",
              "    </tr>\n",
              "    <tr>\n",
              "      <th>[2000, 2010)</th>\n",
              "      <td>19</td>\n",
              "      <td>19</td>\n",
              "      <td>2000.368421</td>\n",
              "      <td>6.573684</td>\n",
              "    </tr>\n",
              "    <tr>\n",
              "      <th>[2010, 2020)</th>\n",
              "      <td>137</td>\n",
              "      <td>137</td>\n",
              "      <td>2017.963504</td>\n",
              "      <td>6.751825</td>\n",
              "    </tr>\n",
              "  </tbody>\n",
              "</table>\n",
              "</div>"
            ],
            "text/plain": [
              "              startYear  averageRating     yearMean  ratingMean\n",
              "startYear                                                      \n",
              "[1920, 1930)        127            127  1925.566929    7.480315\n",
              "[1930, 1940)          7              7  1930.714286    7.314286\n",
              "[1940, 1950)          0              0          NaN         NaN\n",
              "[1950, 1960)        268            268  1958.201493    6.778731\n",
              "[1960, 1970)        569            569  1962.156415    6.944112\n",
              "[1970, 1980)          3              3  1972.000000    5.966667\n",
              "[1980, 1990)       1357           1357  1985.886514    6.359912\n",
              "[1990, 2000)        673            673  1993.995542    6.339079\n",
              "[2000, 2010)         19             19  2000.368421    6.573684\n",
              "[2010, 2020)        137            137  2017.963504    6.751825"
            ]
          },
          "metadata": {
            "tags": []
          },
          "execution_count": 167
        }
      ]
    },
    {
      "metadata": {
        "id": "4gNiwnxINMCc",
        "colab_type": "code",
        "outputId": "8103df82-194e-4493-e180-a25992439636",
        "colab": {
          "base_uri": "https://localhost:8080/",
          "height": 254
        }
      },
      "cell_type": "code",
      "source": [
        "DecadeRating = DecadeRating[DecadeRating.averageRating >= 100]\n",
        "DecadeRating = DecadeRating.drop(columns=['yearMean', 'startYear'])\n",
        "DecadeRating = DecadeRating.rename(columns = {'averageRating':'Number_of_films'})\n",
        "DecadeRating\n",
        "DecadeRating.sort_values(by='ratingMean')\n",
        "#there is no particular trend here"
      ],
      "execution_count": 168,
      "outputs": [
        {
          "output_type": "execute_result",
          "data": {
            "text/html": [
              "<div>\n",
              "<style scoped>\n",
              "    .dataframe tbody tr th:only-of-type {\n",
              "        vertical-align: middle;\n",
              "    }\n",
              "\n",
              "    .dataframe tbody tr th {\n",
              "        vertical-align: top;\n",
              "    }\n",
              "\n",
              "    .dataframe thead th {\n",
              "        text-align: right;\n",
              "    }\n",
              "</style>\n",
              "<table border=\"1\" class=\"dataframe\">\n",
              "  <thead>\n",
              "    <tr style=\"text-align: right;\">\n",
              "      <th></th>\n",
              "      <th>Number_of_films</th>\n",
              "      <th>ratingMean</th>\n",
              "    </tr>\n",
              "    <tr>\n",
              "      <th>startYear</th>\n",
              "      <th></th>\n",
              "      <th></th>\n",
              "    </tr>\n",
              "  </thead>\n",
              "  <tbody>\n",
              "    <tr>\n",
              "      <th>[1990, 2000)</th>\n",
              "      <td>673</td>\n",
              "      <td>6.339079</td>\n",
              "    </tr>\n",
              "    <tr>\n",
              "      <th>[1980, 1990)</th>\n",
              "      <td>1357</td>\n",
              "      <td>6.359912</td>\n",
              "    </tr>\n",
              "    <tr>\n",
              "      <th>[2010, 2020)</th>\n",
              "      <td>137</td>\n",
              "      <td>6.751825</td>\n",
              "    </tr>\n",
              "    <tr>\n",
              "      <th>[1950, 1960)</th>\n",
              "      <td>268</td>\n",
              "      <td>6.778731</td>\n",
              "    </tr>\n",
              "    <tr>\n",
              "      <th>[1960, 1970)</th>\n",
              "      <td>569</td>\n",
              "      <td>6.944112</td>\n",
              "    </tr>\n",
              "    <tr>\n",
              "      <th>[1920, 1930)</th>\n",
              "      <td>127</td>\n",
              "      <td>7.480315</td>\n",
              "    </tr>\n",
              "  </tbody>\n",
              "</table>\n",
              "</div>"
            ],
            "text/plain": [
              "              Number_of_films  ratingMean\n",
              "startYear                                \n",
              "[1990, 2000)              673    6.339079\n",
              "[1980, 1990)             1357    6.359912\n",
              "[2010, 2020)              137    6.751825\n",
              "[1950, 1960)              268    6.778731\n",
              "[1960, 1970)              569    6.944112\n",
              "[1920, 1930)              127    7.480315"
            ]
          },
          "metadata": {
            "tags": []
          },
          "execution_count": 168
        }
      ]
    },
    {
      "metadata": {
        "id": "rvRL9nr7Tg7L",
        "colab_type": "code",
        "colab": {}
      },
      "cell_type": "code",
      "source": [
        "DecadeRating = DecadeRating.drop(columns=['Number_of_films'])"
      ],
      "execution_count": 0,
      "outputs": []
    },
    {
      "metadata": {
        "id": "EBAr73X0TWis",
        "colab_type": "code",
        "colab": {
          "base_uri": "https://localhost:8080/",
          "height": 311
        },
        "outputId": "af49f200-8289-4a69-aaf3-3a6511edb458"
      },
      "cell_type": "code",
      "source": [
        "ax = DecadeRating.plot.bar(color='#ED713A', width=0.8, legend=False);\n",
        "ax.text(x=-1, y=8.5, s=\"There isn't a strong trend by the decades when averaged...\", fontsize=18, fontweight='bold')\n",
        "ax.text(x=-1, y=8, s='average rating of films by decade', fontsize=15);\n",
        "ax.set_xticklabels([1950, 1960, 1980, 1990, 2000, 2010]);\n",
        "ax.tick_params(axis='x', labelrotation=0)\n"
      ],
      "execution_count": 185,
      "outputs": [
        {
          "output_type": "display_data",
          "data": {
            "image/png": "[encoded data removed]",
            "text/plain": [
              "<Figure size 432x288 with 1 Axes>"
            ]
          },
          "metadata": {
            "tags": []
          }
        }
      ]
    },
    {
      "metadata": {
        "id": "Tk3Wr-cd_Chd",
        "colab_type": "code",
        "colab": {}
      },
      "cell_type": "code",
      "source": [
        "timeline = imdb[['startYear', 'averageRating']]\n",
        "timeline = timeline[timeline['startYear']>=1950]\n",
        "\n",
        "decades = [1950, 1960, 1970, 1980, 1990, 2000, 2010, 2020]\n",
        "decadeBin = pd.cut(timeline['startYear'], decades, right=False)\n",
        "ratingRange = [0, 2, 4, 6, 8, 10]\n",
        "ratingBin = pd.cut(timeline['averageRating'], ratingRange, right=False)\n",
        "ct = pd.crosstab(decadeBin, ratingBin, normalize='columns');"
      ],
      "execution_count": 0,
      "outputs": []
    },
    {
      "metadata": {
        "id": "J12ksrLyCfIa",
        "colab_type": "code",
        "outputId": "95699b65-c4a0-4f25-9f63-e11901457312",
        "colab": {
          "base_uri": "https://localhost:8080/",
          "height": 315
        }
      },
      "cell_type": "code",
      "source": [
        "ax = ct.plot(kind='bar');\n",
        "ax.set_xticklabels([1950, 1960, 1970, 1980, 1990, 2000, 2010]);\n",
        "ax.tick_params(axis='x', labelrotation=0)\n",
        "plt.xlabel('Decade of release');\n",
        "plt.ylabel('Frequency of rating');\n",
        "ax.text(x=-1, y=0.7, s=\"The 2010s were proportionally the worst decade for movies.\", fontsize=15, fontweight='bold')\n",
        "ax.text(x=-1, y=0.65, s='Rating frequency by decade', fontsize=12);"
      ],
      "execution_count": 173,
      "outputs": [
        {
          "output_type": "display_data",
          "data": {
            "image/png": "[encoded data removed]",
            "text/plain": [
              "<Figure size 432x288 with 1 Axes>"
            ]
          },
          "metadata": {
            "tags": []
          }
        }
      ]
    }
  ]
}