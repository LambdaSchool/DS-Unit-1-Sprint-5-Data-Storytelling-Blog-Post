{
  "nbformat": 4,
  "nbformat_minor": 0,
  "metadata": {
    "colab": {
      "name": "TristaWeek5.ipynb",
      "version": "0.3.2",
      "provenance": [],
      "collapsed_sections": [],
      "include_colab_link": true
    },
    "kernelspec": {
      "name": "python3",
      "display_name": "Python 3"
    }
  },
  "cells": [
    {
      "cell_type": "markdown",
      "metadata": {
        "id": "view-in-github",
        "colab_type": "text"
      },
      "source": [
        "<a href=\"https://colab.research.google.com/github/trista-paul/DS-Unit-1-Sprint-5-Data-Storytelling-Blog-Post/blob/master/TristaWeek5.ipynb\" target=\"_parent\"><img src=\"https://colab.research.google.com/assets/colab-badge.svg\" alt=\"Open In Colab\"/></a>"
      ]
    },
    {
      "metadata": {
        "id": "XZUFx8wcHlRZ",
        "colab_type": "code",
        "colab": {}
      },
      "cell_type": "code",
      "source": [
        "import pandas as pd\n",
        "import matplotlib.pyplot as plt\n",
        "import numpy as np"
      ],
      "execution_count": 0,
      "outputs": []
    },
    {
      "metadata": {
        "id": "p4U0hDxY86JN",
        "colab_type": "code",
        "colab": {
          "base_uri": "https://localhost:8080/",
          "height": 218
        },
        "outputId": "db01467b-800e-4f0a-ad80-4fb486633096"
      },
      "cell_type": "code",
      "source": [
        "!pip install --upgrade seaborn"
      ],
      "execution_count": 4,
      "outputs": [
        {
          "output_type": "stream",
          "text": [
            "Requirement already up-to-date: seaborn in /usr/local/lib/python3.6/dist-packages (0.9.0)\n",
            "Requirement already satisfied, skipping upgrade: numpy>=1.9.3 in /usr/local/lib/python3.6/dist-packages (from seaborn) (1.14.6)\n",
            "Requirement already satisfied, skipping upgrade: pandas>=0.15.2 in /usr/local/lib/python3.6/dist-packages (from seaborn) (0.22.0)\n",
            "Requirement already satisfied, skipping upgrade: matplotlib>=1.4.3 in /usr/local/lib/python3.6/dist-packages (from seaborn) (3.0.2)\n",
            "Requirement already satisfied, skipping upgrade: scipy>=0.14.0 in /usr/local/lib/python3.6/dist-packages (from seaborn) (1.1.0)\n",
            "Requirement already satisfied, skipping upgrade: pytz>=2011k in /usr/local/lib/python3.6/dist-packages (from pandas>=0.15.2->seaborn) (2018.9)\n",
            "Requirement already satisfied, skipping upgrade: python-dateutil>=2 in /usr/local/lib/python3.6/dist-packages (from pandas>=0.15.2->seaborn) (2.5.3)\n",
            "Requirement already satisfied, skipping upgrade: cycler>=0.10 in /usr/local/lib/python3.6/dist-packages (from matplotlib>=1.4.3->seaborn) (0.10.0)\n",
            "Requirement already satisfied, skipping upgrade: pyparsing!=2.0.4,!=2.1.2,!=2.1.6,>=2.0.1 in /usr/local/lib/python3.6/dist-packages (from matplotlib>=1.4.3->seaborn) (2.3.1)\n",
            "Requirement already satisfied, skipping upgrade: kiwisolver>=1.0.1 in /usr/local/lib/python3.6/dist-packages (from matplotlib>=1.4.3->seaborn) (1.0.1)\n",
            "Requirement already satisfied, skipping upgrade: six>=1.5 in /usr/local/lib/python3.6/dist-packages (from python-dateutil>=2->pandas>=0.15.2->seaborn) (1.11.0)\n",
            "Requirement already satisfied, skipping upgrade: setuptools in /usr/local/lib/python3.6/dist-packages (from kiwisolver>=1.0.1->matplotlib>=1.4.3->seaborn) (40.7.1)\n"
          ],
          "name": "stdout"
        }
      ]
    },
    {
      "metadata": {
        "id": "wX24lGm_9JN4",
        "colab_type": "code",
        "colab": {}
      },
      "cell_type": "code",
      "source": [
        "import seaborn as sns"
      ],
      "execution_count": 0,
      "outputs": []
    },
    {
      "metadata": {
        "id": "YR-SAe-3JItM",
        "colab_type": "code",
        "outputId": "19e87836-caaa-49ca-c55d-1bcbac3f5ab7",
        "colab": {
          "base_uri": "https://localhost:8080/",
          "height": 202
        }
      },
      "cell_type": "code",
      "source": [
        "#title of film\n",
        "title = pd.read_table(\"https://datasets.imdbws.com/title.akas.tsv.gz\")\n",
        "title.dtypes"
      ],
      "execution_count": 6,
      "outputs": [
        {
          "output_type": "stream",
          "text": [
            "/usr/local/lib/python3.6/dist-packages/IPython/core/interactiveshell.py:2718: DtypeWarning: Columns (7) have mixed types. Specify dtype option on import or set low_memory=False.\n",
            "  interactivity=interactivity, compiler=compiler, result=result)\n"
          ],
          "name": "stderr"
        },
        {
          "output_type": "execute_result",
          "data": {
            "text/plain": [
              "titleId            object\n",
              "ordering            int64\n",
              "title              object\n",
              "region             object\n",
              "language           object\n",
              "types              object\n",
              "attributes         object\n",
              "isOriginalTitle    object\n",
              "dtype: object"
            ]
          },
          "metadata": {
            "tags": []
          },
          "execution_count": 6
        }
      ]
    },
    {
      "metadata": {
        "id": "bceirtfyJ1YW",
        "colab_type": "code",
        "outputId": "e3e310e8-b8cf-45f4-c960-e22291d6d284",
        "colab": {
          "base_uri": "https://localhost:8080/",
          "height": 195
        }
      },
      "cell_type": "code",
      "source": [
        "title.head()\n",
        "#redundant values, high quantities of NaNs"
      ],
      "execution_count": 7,
      "outputs": [
        {
          "output_type": "execute_result",
          "data": {
            "text/html": [
              "<div>\n",
              "<style scoped>\n",
              "    .dataframe tbody tr th:only-of-type {\n",
              "        vertical-align: middle;\n",
              "    }\n",
              "\n",
              "    .dataframe tbody tr th {\n",
              "        vertical-align: top;\n",
              "    }\n",
              "\n",
              "    .dataframe thead th {\n",
              "        text-align: right;\n",
              "    }\n",
              "</style>\n",
              "<table border=\"1\" class=\"dataframe\">\n",
              "  <thead>\n",
              "    <tr style=\"text-align: right;\">\n",
              "      <th></th>\n",
              "      <th>titleId</th>\n",
              "      <th>ordering</th>\n",
              "      <th>title</th>\n",
              "      <th>region</th>\n",
              "      <th>language</th>\n",
              "      <th>types</th>\n",
              "      <th>attributes</th>\n",
              "      <th>isOriginalTitle</th>\n",
              "    </tr>\n",
              "  </thead>\n",
              "  <tbody>\n",
              "    <tr>\n",
              "      <th>0</th>\n",
              "      <td>tt0000001</td>\n",
              "      <td>1</td>\n",
              "      <td>Carmencita - spanyol tánc</td>\n",
              "      <td>HU</td>\n",
              "      <td>\\N</td>\n",
              "      <td>imdbDisplay</td>\n",
              "      <td>\\N</td>\n",
              "      <td>0</td>\n",
              "    </tr>\n",
              "    <tr>\n",
              "      <th>1</th>\n",
              "      <td>tt0000001</td>\n",
              "      <td>2</td>\n",
              "      <td>Καρμενσίτα</td>\n",
              "      <td>GR</td>\n",
              "      <td>\\N</td>\n",
              "      <td>\\N</td>\n",
              "      <td>\\N</td>\n",
              "      <td>0</td>\n",
              "    </tr>\n",
              "    <tr>\n",
              "      <th>2</th>\n",
              "      <td>tt0000001</td>\n",
              "      <td>3</td>\n",
              "      <td>Карменсита</td>\n",
              "      <td>RU</td>\n",
              "      <td>\\N</td>\n",
              "      <td>\\N</td>\n",
              "      <td>\\N</td>\n",
              "      <td>0</td>\n",
              "    </tr>\n",
              "    <tr>\n",
              "      <th>3</th>\n",
              "      <td>tt0000001</td>\n",
              "      <td>4</td>\n",
              "      <td>Carmencita</td>\n",
              "      <td>US</td>\n",
              "      <td>\\N</td>\n",
              "      <td>\\N</td>\n",
              "      <td>\\N</td>\n",
              "      <td>0</td>\n",
              "    </tr>\n",
              "    <tr>\n",
              "      <th>4</th>\n",
              "      <td>tt0000001</td>\n",
              "      <td>5</td>\n",
              "      <td>Carmencita</td>\n",
              "      <td>\\N</td>\n",
              "      <td>\\N</td>\n",
              "      <td>original</td>\n",
              "      <td>\\N</td>\n",
              "      <td>1</td>\n",
              "    </tr>\n",
              "  </tbody>\n",
              "</table>\n",
              "</div>"
            ],
            "text/plain": [
              "     titleId  ordering                      title region language  \\\n",
              "0  tt0000001         1  Carmencita - spanyol tánc     HU       \\N   \n",
              "1  tt0000001         2                 Καρμενσίτα     GR       \\N   \n",
              "2  tt0000001         3                 Карменсита     RU       \\N   \n",
              "3  tt0000001         4                 Carmencita     US       \\N   \n",
              "4  tt0000001         5                 Carmencita     \\N       \\N   \n",
              "\n",
              "         types attributes isOriginalTitle  \n",
              "0  imdbDisplay         \\N               0  \n",
              "1           \\N         \\N               0  \n",
              "2           \\N         \\N               0  \n",
              "3           \\N         \\N               0  \n",
              "4     original         \\N               1  "
            ]
          },
          "metadata": {
            "tags": []
          },
          "execution_count": 7
        }
      ]
    },
    {
      "metadata": {
        "id": "RFW5wD4rKweo",
        "colab_type": "code",
        "outputId": "c3c3fe38-dee0-4767-8644-c460280e5794",
        "colab": {
          "base_uri": "https://localhost:8080/",
          "height": 168
        }
      },
      "cell_type": "code",
      "source": [
        "title.isnull().sum() #...though they aren't encoded properly"
      ],
      "execution_count": 8,
      "outputs": [
        {
          "output_type": "execute_result",
          "data": {
            "text/plain": [
              "titleId             0\n",
              "ordering            0\n",
              "title               0\n",
              "region             55\n",
              "language            0\n",
              "types               0\n",
              "attributes          0\n",
              "isOriginalTitle     0\n",
              "dtype: int64"
            ]
          },
          "metadata": {
            "tags": []
          },
          "execution_count": 8
        }
      ]
    },
    {
      "metadata": {
        "id": "wOeFtemwKI8Y",
        "colab_type": "code",
        "outputId": "627ab909-4267-4747-a91c-aa188596165e",
        "colab": {
          "base_uri": "https://localhost:8080/",
          "height": 195
        }
      },
      "cell_type": "code",
      "source": [
        "#Cleaning - drop emptiest cols and cols that aren't useful to main df, then filter by original title\n",
        "#Then rename and reorganize the title id to be compatible with further dfs\n",
        "title = title.drop(columns= ['types', 'attributes', 'language', 'region', 'ordering'])\n",
        "title = title[title['isOriginalTitle'] == 1]\n",
        "title = title.rename(columns = {'titleId':'tconst'})\n",
        "title = title.reset_index(drop=True)\n",
        "title.head()"
      ],
      "execution_count": 9,
      "outputs": [
        {
          "output_type": "execute_result",
          "data": {
            "text/html": [
              "<div>\n",
              "<style scoped>\n",
              "    .dataframe tbody tr th:only-of-type {\n",
              "        vertical-align: middle;\n",
              "    }\n",
              "\n",
              "    .dataframe tbody tr th {\n",
              "        vertical-align: top;\n",
              "    }\n",
              "\n",
              "    .dataframe thead th {\n",
              "        text-align: right;\n",
              "    }\n",
              "</style>\n",
              "<table border=\"1\" class=\"dataframe\">\n",
              "  <thead>\n",
              "    <tr style=\"text-align: right;\">\n",
              "      <th></th>\n",
              "      <th>tconst</th>\n",
              "      <th>title</th>\n",
              "      <th>isOriginalTitle</th>\n",
              "    </tr>\n",
              "  </thead>\n",
              "  <tbody>\n",
              "    <tr>\n",
              "      <th>0</th>\n",
              "      <td>tt0000001</td>\n",
              "      <td>Carmencita</td>\n",
              "      <td>1</td>\n",
              "    </tr>\n",
              "    <tr>\n",
              "      <th>1</th>\n",
              "      <td>tt0000002</td>\n",
              "      <td>Le clown et ses chiens</td>\n",
              "      <td>1</td>\n",
              "    </tr>\n",
              "    <tr>\n",
              "      <th>2</th>\n",
              "      <td>tt0000003</td>\n",
              "      <td>Pauvre Pierrot</td>\n",
              "      <td>1</td>\n",
              "    </tr>\n",
              "    <tr>\n",
              "      <th>3</th>\n",
              "      <td>tt0000004</td>\n",
              "      <td>Un bon bock</td>\n",
              "      <td>1</td>\n",
              "    </tr>\n",
              "    <tr>\n",
              "      <th>4</th>\n",
              "      <td>tt0000005</td>\n",
              "      <td>Blacksmith Scene</td>\n",
              "      <td>1</td>\n",
              "    </tr>\n",
              "  </tbody>\n",
              "</table>\n",
              "</div>"
            ],
            "text/plain": [
              "      tconst                   title isOriginalTitle\n",
              "0  tt0000001              Carmencita               1\n",
              "1  tt0000002  Le clown et ses chiens               1\n",
              "2  tt0000003          Pauvre Pierrot               1\n",
              "3  tt0000004             Un bon bock               1\n",
              "4  tt0000005        Blacksmith Scene               1"
            ]
          },
          "metadata": {
            "tags": []
          },
          "execution_count": 9
        }
      ]
    },
    {
      "metadata": {
        "id": "pIau0AAkSHC-",
        "colab_type": "code",
        "outputId": "3e448476-58f5-4e54-b0b0-9a9d87e07873",
        "colab": {
          "base_uri": "https://localhost:8080/",
          "height": 34
        }
      },
      "cell_type": "code",
      "source": [
        "title.shape"
      ],
      "execution_count": 10,
      "outputs": [
        {
          "output_type": "execute_result",
          "data": {
            "text/plain": [
              "(50668, 3)"
            ]
          },
          "metadata": {
            "tags": []
          },
          "execution_count": 10
        }
      ]
    },
    {
      "metadata": {
        "id": "Fa53zPkYSMY8",
        "colab_type": "code",
        "outputId": "dd2493d4-bd83-4fce-80cf-481ddd90494f",
        "colab": {
          "base_uri": "https://localhost:8080/",
          "height": 34
        }
      },
      "cell_type": "code",
      "source": [
        "title = title.replace({r'\\N': np.nan}) #oh my god\n",
        "#titles with missing values are probably too obscure to matter, so I'll drop nan rows\n",
        "title = title.dropna()\n",
        "title.shape"
      ],
      "execution_count": 11,
      "outputs": [
        {
          "output_type": "execute_result",
          "data": {
            "text/plain": [
              "(50668, 3)"
            ]
          },
          "metadata": {
            "tags": []
          },
          "execution_count": 11
        }
      ]
    },
    {
      "metadata": {
        "id": "Su3MPjWxubaF",
        "colab_type": "code",
        "outputId": "1441c9c5-ad30-424c-b113-252a1f646ac2",
        "colab": {
          "base_uri": "https://localhost:8080/",
          "height": 218
        }
      },
      "cell_type": "code",
      "source": [
        "#Attributes of film\n",
        "basics = pd.read_table(\"https://datasets.imdbws.com/title.basics.tsv.gz\")\n",
        "basics.dtypes"
      ],
      "execution_count": 12,
      "outputs": [
        {
          "output_type": "stream",
          "text": [
            "/usr/local/lib/python3.6/dist-packages/IPython/core/interactiveshell.py:2718: DtypeWarning: Columns (5) have mixed types. Specify dtype option on import or set low_memory=False.\n",
            "  interactivity=interactivity, compiler=compiler, result=result)\n"
          ],
          "name": "stderr"
        },
        {
          "output_type": "execute_result",
          "data": {
            "text/plain": [
              "tconst            object\n",
              "titleType         object\n",
              "primaryTitle      object\n",
              "originalTitle     object\n",
              "isAdult            int64\n",
              "startYear         object\n",
              "endYear           object\n",
              "runtimeMinutes    object\n",
              "genres            object\n",
              "dtype: object"
            ]
          },
          "metadata": {
            "tags": []
          },
          "execution_count": 12
        }
      ]
    },
    {
      "metadata": {
        "id": "bIuOfHLhu87P",
        "colab_type": "code",
        "outputId": "a5ff0942-938e-45f7-93ab-debb4e1cf547",
        "colab": {
          "base_uri": "https://localhost:8080/",
          "height": 195
        }
      },
      "cell_type": "code",
      "source": [
        "basics.head()"
      ],
      "execution_count": 13,
      "outputs": [
        {
          "output_type": "execute_result",
          "data": {
            "text/html": [
              "<div>\n",
              "<style scoped>\n",
              "    .dataframe tbody tr th:only-of-type {\n",
              "        vertical-align: middle;\n",
              "    }\n",
              "\n",
              "    .dataframe tbody tr th {\n",
              "        vertical-align: top;\n",
              "    }\n",
              "\n",
              "    .dataframe thead th {\n",
              "        text-align: right;\n",
              "    }\n",
              "</style>\n",
              "<table border=\"1\" class=\"dataframe\">\n",
              "  <thead>\n",
              "    <tr style=\"text-align: right;\">\n",
              "      <th></th>\n",
              "      <th>tconst</th>\n",
              "      <th>titleType</th>\n",
              "      <th>primaryTitle</th>\n",
              "      <th>originalTitle</th>\n",
              "      <th>isAdult</th>\n",
              "      <th>startYear</th>\n",
              "      <th>endYear</th>\n",
              "      <th>runtimeMinutes</th>\n",
              "      <th>genres</th>\n",
              "    </tr>\n",
              "  </thead>\n",
              "  <tbody>\n",
              "    <tr>\n",
              "      <th>0</th>\n",
              "      <td>tt0000001</td>\n",
              "      <td>short</td>\n",
              "      <td>Carmencita</td>\n",
              "      <td>Carmencita</td>\n",
              "      <td>0</td>\n",
              "      <td>1894</td>\n",
              "      <td>\\N</td>\n",
              "      <td>1</td>\n",
              "      <td>Documentary,Short</td>\n",
              "    </tr>\n",
              "    <tr>\n",
              "      <th>1</th>\n",
              "      <td>tt0000002</td>\n",
              "      <td>short</td>\n",
              "      <td>Le clown et ses chiens</td>\n",
              "      <td>Le clown et ses chiens</td>\n",
              "      <td>0</td>\n",
              "      <td>1892</td>\n",
              "      <td>\\N</td>\n",
              "      <td>5</td>\n",
              "      <td>Animation,Short</td>\n",
              "    </tr>\n",
              "    <tr>\n",
              "      <th>2</th>\n",
              "      <td>tt0000003</td>\n",
              "      <td>short</td>\n",
              "      <td>Pauvre Pierrot</td>\n",
              "      <td>Pauvre Pierrot</td>\n",
              "      <td>0</td>\n",
              "      <td>1892</td>\n",
              "      <td>\\N</td>\n",
              "      <td>4</td>\n",
              "      <td>Animation,Comedy,Romance</td>\n",
              "    </tr>\n",
              "    <tr>\n",
              "      <th>3</th>\n",
              "      <td>tt0000004</td>\n",
              "      <td>short</td>\n",
              "      <td>Un bon bock</td>\n",
              "      <td>Un bon bock</td>\n",
              "      <td>0</td>\n",
              "      <td>1892</td>\n",
              "      <td>\\N</td>\n",
              "      <td>\\N</td>\n",
              "      <td>Animation,Short</td>\n",
              "    </tr>\n",
              "    <tr>\n",
              "      <th>4</th>\n",
              "      <td>tt0000005</td>\n",
              "      <td>short</td>\n",
              "      <td>Blacksmith Scene</td>\n",
              "      <td>Blacksmith Scene</td>\n",
              "      <td>0</td>\n",
              "      <td>1893</td>\n",
              "      <td>\\N</td>\n",
              "      <td>1</td>\n",
              "      <td>Comedy,Short</td>\n",
              "    </tr>\n",
              "  </tbody>\n",
              "</table>\n",
              "</div>"
            ],
            "text/plain": [
              "      tconst titleType            primaryTitle           originalTitle  \\\n",
              "0  tt0000001     short              Carmencita              Carmencita   \n",
              "1  tt0000002     short  Le clown et ses chiens  Le clown et ses chiens   \n",
              "2  tt0000003     short          Pauvre Pierrot          Pauvre Pierrot   \n",
              "3  tt0000004     short             Un bon bock             Un bon bock   \n",
              "4  tt0000005     short        Blacksmith Scene        Blacksmith Scene   \n",
              "\n",
              "   isAdult startYear endYear runtimeMinutes                    genres  \n",
              "0        0      1894      \\N              1         Documentary,Short  \n",
              "1        0      1892      \\N              5           Animation,Short  \n",
              "2        0      1892      \\N              4  Animation,Comedy,Romance  \n",
              "3        0      1892      \\N             \\N           Animation,Short  \n",
              "4        0      1893      \\N              1              Comedy,Short  "
            ]
          },
          "metadata": {
            "tags": []
          },
          "execution_count": 13
        }
      ]
    },
    {
      "metadata": {
        "id": "gVpdNdMgu9Ht",
        "colab_type": "code",
        "outputId": "f9cf6500-651c-448d-8356-9dee0504ad22",
        "colab": {
          "base_uri": "https://localhost:8080/",
          "height": 185
        }
      },
      "cell_type": "code",
      "source": [
        "basics = basics.replace({r'\\N': np.nan})\n",
        "basics.isnull().sum() #primary and original title aren't needed anyway #I think it's valuable to keep genre"
      ],
      "execution_count": 14,
      "outputs": [
        {
          "output_type": "execute_result",
          "data": {
            "text/plain": [
              "tconst                  0\n",
              "titleType               0\n",
              "primaryTitle            6\n",
              "originalTitle         181\n",
              "isAdult                 0\n",
              "startYear          310580\n",
              "endYear           5564893\n",
              "runtimeMinutes    3908439\n",
              "genres             441467\n",
              "dtype: int64"
            ]
          },
          "metadata": {
            "tags": []
          },
          "execution_count": 14
        }
      ]
    },
    {
      "metadata": {
        "id": "BCM41fwUwHmt",
        "colab_type": "code",
        "outputId": "106bfedf-d924-43cf-edf1-653472daa3f1",
        "colab": {
          "base_uri": "https://localhost:8080/",
          "height": 202
        }
      },
      "cell_type": "code",
      "source": [
        "basics.titleType.value_counts()"
      ],
      "execution_count": 15,
      "outputs": [
        {
          "output_type": "execute_result",
          "data": {
            "text/plain": [
              "tvEpisode       3857247\n",
              "short            664414\n",
              "movie            510078\n",
              "video            221482\n",
              "tvSeries         159274\n",
              "tvMovie          126138\n",
              "tvMiniSeries      24690\n",
              "videoGame         22880\n",
              "tvSpecial         15772\n",
              "tvShort            9025\n",
              "Name: titleType, dtype: int64"
            ]
          },
          "metadata": {
            "tags": []
          },
          "execution_count": 15
        }
      ]
    },
    {
      "metadata": {
        "id": "V2Sy3nHOvcc1",
        "colab_type": "code",
        "outputId": "0d0d7052-e7f7-48ab-99bb-d8100b852c08",
        "colab": {
          "base_uri": "https://localhost:8080/",
          "height": 195
        }
      },
      "cell_type": "code",
      "source": [
        "basics = basics.drop(columns=['primaryTitle', 'originalTitle', 'endYear'])\n",
        "basics = basics[basics['titleType']=='movie']\n",
        "basics = basics.dropna()\n",
        "basics.head()"
      ],
      "execution_count": 16,
      "outputs": [
        {
          "output_type": "execute_result",
          "data": {
            "text/html": [
              "<div>\n",
              "<style scoped>\n",
              "    .dataframe tbody tr th:only-of-type {\n",
              "        vertical-align: middle;\n",
              "    }\n",
              "\n",
              "    .dataframe tbody tr th {\n",
              "        vertical-align: top;\n",
              "    }\n",
              "\n",
              "    .dataframe thead th {\n",
              "        text-align: right;\n",
              "    }\n",
              "</style>\n",
              "<table border=\"1\" class=\"dataframe\">\n",
              "  <thead>\n",
              "    <tr style=\"text-align: right;\">\n",
              "      <th></th>\n",
              "      <th>tconst</th>\n",
              "      <th>titleType</th>\n",
              "      <th>isAdult</th>\n",
              "      <th>startYear</th>\n",
              "      <th>runtimeMinutes</th>\n",
              "      <th>genres</th>\n",
              "    </tr>\n",
              "  </thead>\n",
              "  <tbody>\n",
              "    <tr>\n",
              "      <th>8</th>\n",
              "      <td>tt0000009</td>\n",
              "      <td>movie</td>\n",
              "      <td>0</td>\n",
              "      <td>1894</td>\n",
              "      <td>45</td>\n",
              "      <td>Romance</td>\n",
              "    </tr>\n",
              "    <tr>\n",
              "      <th>145</th>\n",
              "      <td>tt0000147</td>\n",
              "      <td>movie</td>\n",
              "      <td>0</td>\n",
              "      <td>1897</td>\n",
              "      <td>20</td>\n",
              "      <td>Documentary,News,Sport</td>\n",
              "    </tr>\n",
              "    <tr>\n",
              "      <th>571</th>\n",
              "      <td>tt0000574</td>\n",
              "      <td>movie</td>\n",
              "      <td>0</td>\n",
              "      <td>1906</td>\n",
              "      <td>70</td>\n",
              "      <td>Biography,Crime,Drama</td>\n",
              "    </tr>\n",
              "    <tr>\n",
              "      <th>673</th>\n",
              "      <td>tt0000679</td>\n",
              "      <td>movie</td>\n",
              "      <td>0</td>\n",
              "      <td>1908</td>\n",
              "      <td>120</td>\n",
              "      <td>Adventure,Fantasy</td>\n",
              "    </tr>\n",
              "    <tr>\n",
              "      <th>1173</th>\n",
              "      <td>tt0001184</td>\n",
              "      <td>movie</td>\n",
              "      <td>0</td>\n",
              "      <td>1910</td>\n",
              "      <td>58</td>\n",
              "      <td>Adventure,Drama</td>\n",
              "    </tr>\n",
              "  </tbody>\n",
              "</table>\n",
              "</div>"
            ],
            "text/plain": [
              "         tconst titleType  isAdult startYear runtimeMinutes  \\\n",
              "8     tt0000009     movie        0      1894             45   \n",
              "145   tt0000147     movie        0      1897             20   \n",
              "571   tt0000574     movie        0      1906             70   \n",
              "673   tt0000679     movie        0      1908            120   \n",
              "1173  tt0001184     movie        0      1910             58   \n",
              "\n",
              "                      genres  \n",
              "8                    Romance  \n",
              "145   Documentary,News,Sport  \n",
              "571    Biography,Crime,Drama  \n",
              "673        Adventure,Fantasy  \n",
              "1173         Adventure,Drama  "
            ]
          },
          "metadata": {
            "tags": []
          },
          "execution_count": 16
        }
      ]
    },
    {
      "metadata": {
        "id": "nsoUhosqN80z",
        "colab_type": "code",
        "outputId": "d49190ee-c359-45ab-c9ef-682eb63dfd78",
        "colab": {
          "base_uri": "https://localhost:8080/",
          "height": 134
        }
      },
      "cell_type": "code",
      "source": [
        "#Directors and staff of film\n",
        "director = pd.read_table(\"https://datasets.imdbws.com/name.basics.tsv.gz\")\n",
        "director.dtypes"
      ],
      "execution_count": 17,
      "outputs": [
        {
          "output_type": "execute_result",
          "data": {
            "text/plain": [
              "nconst               object\n",
              "primaryName          object\n",
              "birthYear            object\n",
              "deathYear            object\n",
              "primaryProfession    object\n",
              "knownForTitles       object\n",
              "dtype: object"
            ]
          },
          "metadata": {
            "tags": []
          },
          "execution_count": 17
        }
      ]
    },
    {
      "metadata": {
        "id": "pes_NImMOaXw",
        "colab_type": "code",
        "outputId": "6f8ef968-0c48-47fb-d8ec-65d2e219b5b1",
        "colab": {
          "base_uri": "https://localhost:8080/",
          "height": 195
        }
      },
      "cell_type": "code",
      "source": [
        "director.head()"
      ],
      "execution_count": 18,
      "outputs": [
        {
          "output_type": "execute_result",
          "data": {
            "text/html": [
              "<div>\n",
              "<style scoped>\n",
              "    .dataframe tbody tr th:only-of-type {\n",
              "        vertical-align: middle;\n",
              "    }\n",
              "\n",
              "    .dataframe tbody tr th {\n",
              "        vertical-align: top;\n",
              "    }\n",
              "\n",
              "    .dataframe thead th {\n",
              "        text-align: right;\n",
              "    }\n",
              "</style>\n",
              "<table border=\"1\" class=\"dataframe\">\n",
              "  <thead>\n",
              "    <tr style=\"text-align: right;\">\n",
              "      <th></th>\n",
              "      <th>nconst</th>\n",
              "      <th>primaryName</th>\n",
              "      <th>birthYear</th>\n",
              "      <th>deathYear</th>\n",
              "      <th>primaryProfession</th>\n",
              "      <th>knownForTitles</th>\n",
              "    </tr>\n",
              "  </thead>\n",
              "  <tbody>\n",
              "    <tr>\n",
              "      <th>0</th>\n",
              "      <td>nm0000001</td>\n",
              "      <td>Fred Astaire</td>\n",
              "      <td>1899</td>\n",
              "      <td>1987</td>\n",
              "      <td>soundtrack,actor,miscellaneous</td>\n",
              "      <td>tt0072308,tt0053137,tt0050419,tt0043044</td>\n",
              "    </tr>\n",
              "    <tr>\n",
              "      <th>1</th>\n",
              "      <td>nm0000002</td>\n",
              "      <td>Lauren Bacall</td>\n",
              "      <td>1924</td>\n",
              "      <td>2014</td>\n",
              "      <td>actress,soundtrack</td>\n",
              "      <td>tt0037382,tt0117057,tt0038355,tt0071877</td>\n",
              "    </tr>\n",
              "    <tr>\n",
              "      <th>2</th>\n",
              "      <td>nm0000003</td>\n",
              "      <td>Brigitte Bardot</td>\n",
              "      <td>1934</td>\n",
              "      <td>\\N</td>\n",
              "      <td>actress,soundtrack,producer</td>\n",
              "      <td>tt0049189,tt0059956,tt0057345,tt0054452</td>\n",
              "    </tr>\n",
              "    <tr>\n",
              "      <th>3</th>\n",
              "      <td>nm0000004</td>\n",
              "      <td>John Belushi</td>\n",
              "      <td>1949</td>\n",
              "      <td>1982</td>\n",
              "      <td>actor,writer,soundtrack</td>\n",
              "      <td>tt0077975,tt0078723,tt0072562,tt0080455</td>\n",
              "    </tr>\n",
              "    <tr>\n",
              "      <th>4</th>\n",
              "      <td>nm0000005</td>\n",
              "      <td>Ingmar Bergman</td>\n",
              "      <td>1918</td>\n",
              "      <td>2007</td>\n",
              "      <td>writer,director,actor</td>\n",
              "      <td>tt0083922,tt0069467,tt0050986,tt0050976</td>\n",
              "    </tr>\n",
              "  </tbody>\n",
              "</table>\n",
              "</div>"
            ],
            "text/plain": [
              "      nconst      primaryName birthYear deathYear  \\\n",
              "0  nm0000001     Fred Astaire      1899      1987   \n",
              "1  nm0000002    Lauren Bacall      1924      2014   \n",
              "2  nm0000003  Brigitte Bardot      1934        \\N   \n",
              "3  nm0000004     John Belushi      1949      1982   \n",
              "4  nm0000005   Ingmar Bergman      1918      2007   \n",
              "\n",
              "                primaryProfession                           knownForTitles  \n",
              "0  soundtrack,actor,miscellaneous  tt0072308,tt0053137,tt0050419,tt0043044  \n",
              "1              actress,soundtrack  tt0037382,tt0117057,tt0038355,tt0071877  \n",
              "2     actress,soundtrack,producer  tt0049189,tt0059956,tt0057345,tt0054452  \n",
              "3         actor,writer,soundtrack  tt0077975,tt0078723,tt0072562,tt0080455  \n",
              "4           writer,director,actor  tt0083922,tt0069467,tt0050986,tt0050976  "
            ]
          },
          "metadata": {
            "tags": []
          },
          "execution_count": 18
        }
      ]
    },
    {
      "metadata": {
        "id": "f7BYn8ALeM6p",
        "colab_type": "code",
        "outputId": "58f72d7a-ffba-416d-f93a-71a11b5a5d7e",
        "colab": {
          "base_uri": "https://localhost:8080/",
          "height": 34
        }
      },
      "cell_type": "code",
      "source": [
        "director.shape"
      ],
      "execution_count": 19,
      "outputs": [
        {
          "output_type": "execute_result",
          "data": {
            "text/plain": [
              "(9117045, 6)"
            ]
          },
          "metadata": {
            "tags": []
          },
          "execution_count": 19
        }
      ]
    },
    {
      "metadata": {
        "id": "VqBXYsv8PjRx",
        "colab_type": "code",
        "outputId": "c8c28f46-1faa-478c-d221-a91f80e9e1df",
        "colab": {
          "base_uri": "https://localhost:8080/",
          "height": 134
        }
      },
      "cell_type": "code",
      "source": [
        "director = director.replace({r'\\N': np.nan})\n",
        "director.isnull().sum()"
      ],
      "execution_count": 20,
      "outputs": [
        {
          "output_type": "execute_result",
          "data": {
            "text/plain": [
              "nconst                     0\n",
              "primaryName                0\n",
              "birthYear            8644227\n",
              "deathYear            8953087\n",
              "primaryProfession    1632885\n",
              "knownForTitles       1212149\n",
              "dtype: int64"
            ]
          },
          "metadata": {
            "tags": []
          },
          "execution_count": 20
        }
      ]
    },
    {
      "metadata": {
        "id": "aZAd-KBqPrnB",
        "colab_type": "code",
        "outputId": "23bfa70d-7391-4edc-a768-e80c17a578e0",
        "colab": {
          "base_uri": "https://localhost:8080/",
          "height": 195
        }
      },
      "cell_type": "code",
      "source": [
        "director = director.drop(columns=['primaryProfession', 'deathYear',\n",
        "                                  'knownForTitles', 'birthYear'])\n",
        "director = director.rename(columns = {'nconst':'directors'})\n",
        "director.head()"
      ],
      "execution_count": 21,
      "outputs": [
        {
          "output_type": "execute_result",
          "data": {
            "text/html": [
              "<div>\n",
              "<style scoped>\n",
              "    .dataframe tbody tr th:only-of-type {\n",
              "        vertical-align: middle;\n",
              "    }\n",
              "\n",
              "    .dataframe tbody tr th {\n",
              "        vertical-align: top;\n",
              "    }\n",
              "\n",
              "    .dataframe thead th {\n",
              "        text-align: right;\n",
              "    }\n",
              "</style>\n",
              "<table border=\"1\" class=\"dataframe\">\n",
              "  <thead>\n",
              "    <tr style=\"text-align: right;\">\n",
              "      <th></th>\n",
              "      <th>directors</th>\n",
              "      <th>primaryName</th>\n",
              "    </tr>\n",
              "  </thead>\n",
              "  <tbody>\n",
              "    <tr>\n",
              "      <th>0</th>\n",
              "      <td>nm0000001</td>\n",
              "      <td>Fred Astaire</td>\n",
              "    </tr>\n",
              "    <tr>\n",
              "      <th>1</th>\n",
              "      <td>nm0000002</td>\n",
              "      <td>Lauren Bacall</td>\n",
              "    </tr>\n",
              "    <tr>\n",
              "      <th>2</th>\n",
              "      <td>nm0000003</td>\n",
              "      <td>Brigitte Bardot</td>\n",
              "    </tr>\n",
              "    <tr>\n",
              "      <th>3</th>\n",
              "      <td>nm0000004</td>\n",
              "      <td>John Belushi</td>\n",
              "    </tr>\n",
              "    <tr>\n",
              "      <th>4</th>\n",
              "      <td>nm0000005</td>\n",
              "      <td>Ingmar Bergman</td>\n",
              "    </tr>\n",
              "  </tbody>\n",
              "</table>\n",
              "</div>"
            ],
            "text/plain": [
              "   directors      primaryName\n",
              "0  nm0000001     Fred Astaire\n",
              "1  nm0000002    Lauren Bacall\n",
              "2  nm0000003  Brigitte Bardot\n",
              "3  nm0000004     John Belushi\n",
              "4  nm0000005   Ingmar Bergman"
            ]
          },
          "metadata": {
            "tags": []
          },
          "execution_count": 21
        }
      ]
    },
    {
      "metadata": {
        "id": "IsOTvU8_QThO",
        "colab_type": "code",
        "outputId": "c874169a-1ec7-4d90-dc94-519a84f570dd",
        "colab": {
          "base_uri": "https://localhost:8080/",
          "height": 84
        }
      },
      "cell_type": "code",
      "source": [
        "#critical rating of film\n",
        "review = pd.read_table(\"https://datasets.imdbws.com/title.ratings.tsv.gz\")\n",
        "review.dtypes"
      ],
      "execution_count": 22,
      "outputs": [
        {
          "output_type": "execute_result",
          "data": {
            "text/plain": [
              "tconst            object\n",
              "averageRating    float64\n",
              "numVotes           int64\n",
              "dtype: object"
            ]
          },
          "metadata": {
            "tags": []
          },
          "execution_count": 22
        }
      ]
    },
    {
      "metadata": {
        "id": "9o0uePSYQZmh",
        "colab_type": "code",
        "outputId": "e4eef614-b39e-41a3-d828-a9c473170e55",
        "colab": {
          "base_uri": "https://localhost:8080/",
          "height": 195
        }
      },
      "cell_type": "code",
      "source": [
        "review.head()"
      ],
      "execution_count": 23,
      "outputs": [
        {
          "output_type": "execute_result",
          "data": {
            "text/html": [
              "<div>\n",
              "<style scoped>\n",
              "    .dataframe tbody tr th:only-of-type {\n",
              "        vertical-align: middle;\n",
              "    }\n",
              "\n",
              "    .dataframe tbody tr th {\n",
              "        vertical-align: top;\n",
              "    }\n",
              "\n",
              "    .dataframe thead th {\n",
              "        text-align: right;\n",
              "    }\n",
              "</style>\n",
              "<table border=\"1\" class=\"dataframe\">\n",
              "  <thead>\n",
              "    <tr style=\"text-align: right;\">\n",
              "      <th></th>\n",
              "      <th>tconst</th>\n",
              "      <th>averageRating</th>\n",
              "      <th>numVotes</th>\n",
              "    </tr>\n",
              "  </thead>\n",
              "  <tbody>\n",
              "    <tr>\n",
              "      <th>0</th>\n",
              "      <td>tt0000001</td>\n",
              "      <td>5.8</td>\n",
              "      <td>1463</td>\n",
              "    </tr>\n",
              "    <tr>\n",
              "      <th>1</th>\n",
              "      <td>tt0000002</td>\n",
              "      <td>6.4</td>\n",
              "      <td>176</td>\n",
              "    </tr>\n",
              "    <tr>\n",
              "      <th>2</th>\n",
              "      <td>tt0000003</td>\n",
              "      <td>6.6</td>\n",
              "      <td>1079</td>\n",
              "    </tr>\n",
              "    <tr>\n",
              "      <th>3</th>\n",
              "      <td>tt0000004</td>\n",
              "      <td>6.5</td>\n",
              "      <td>105</td>\n",
              "    </tr>\n",
              "    <tr>\n",
              "      <th>4</th>\n",
              "      <td>tt0000005</td>\n",
              "      <td>6.2</td>\n",
              "      <td>1780</td>\n",
              "    </tr>\n",
              "  </tbody>\n",
              "</table>\n",
              "</div>"
            ],
            "text/plain": [
              "      tconst  averageRating  numVotes\n",
              "0  tt0000001            5.8      1463\n",
              "1  tt0000002            6.4       176\n",
              "2  tt0000003            6.6      1079\n",
              "3  tt0000004            6.5       105\n",
              "4  tt0000005            6.2      1780"
            ]
          },
          "metadata": {
            "tags": []
          },
          "execution_count": 23
        }
      ]
    },
    {
      "metadata": {
        "id": "E6QnRnydQjJE",
        "colab_type": "code",
        "outputId": "7c28e708-af52-4590-915b-297a3e0a429d",
        "colab": {
          "base_uri": "https://localhost:8080/",
          "height": 84
        }
      },
      "cell_type": "code",
      "source": [
        "review = review.replace({r'\\N': np.nan})\n",
        "review.isnull().sum()"
      ],
      "execution_count": 24,
      "outputs": [
        {
          "output_type": "execute_result",
          "data": {
            "text/plain": [
              "tconst           0\n",
              "averageRating    0\n",
              "numVotes         0\n",
              "dtype: int64"
            ]
          },
          "metadata": {
            "tags": []
          },
          "execution_count": 24
        }
      ]
    },
    {
      "metadata": {
        "id": "tI6WxcJOQnW5",
        "colab_type": "code",
        "outputId": "ca312ef9-d567-4fe0-8789-165fa545b5c6",
        "colab": {
          "base_uri": "https://localhost:8080/",
          "height": 195
        }
      },
      "cell_type": "code",
      "source": [
        "#cleaning - drop rows with 1000 or less votes\n",
        "review = review[review['numVotes']>= 1000]\n",
        "review = review.reset_index(drop=True)\n",
        "review.head()"
      ],
      "execution_count": 25,
      "outputs": [
        {
          "output_type": "execute_result",
          "data": {
            "text/html": [
              "<div>\n",
              "<style scoped>\n",
              "    .dataframe tbody tr th:only-of-type {\n",
              "        vertical-align: middle;\n",
              "    }\n",
              "\n",
              "    .dataframe tbody tr th {\n",
              "        vertical-align: top;\n",
              "    }\n",
              "\n",
              "    .dataframe thead th {\n",
              "        text-align: right;\n",
              "    }\n",
              "</style>\n",
              "<table border=\"1\" class=\"dataframe\">\n",
              "  <thead>\n",
              "    <tr style=\"text-align: right;\">\n",
              "      <th></th>\n",
              "      <th>tconst</th>\n",
              "      <th>averageRating</th>\n",
              "      <th>numVotes</th>\n",
              "    </tr>\n",
              "  </thead>\n",
              "  <tbody>\n",
              "    <tr>\n",
              "      <th>0</th>\n",
              "      <td>tt0000001</td>\n",
              "      <td>5.8</td>\n",
              "      <td>1463</td>\n",
              "    </tr>\n",
              "    <tr>\n",
              "      <th>1</th>\n",
              "      <td>tt0000003</td>\n",
              "      <td>6.6</td>\n",
              "      <td>1079</td>\n",
              "    </tr>\n",
              "    <tr>\n",
              "      <th>2</th>\n",
              "      <td>tt0000005</td>\n",
              "      <td>6.2</td>\n",
              "      <td>1780</td>\n",
              "    </tr>\n",
              "    <tr>\n",
              "      <th>3</th>\n",
              "      <td>tt0000008</td>\n",
              "      <td>5.6</td>\n",
              "      <td>1563</td>\n",
              "    </tr>\n",
              "    <tr>\n",
              "      <th>4</th>\n",
              "      <td>tt0000010</td>\n",
              "      <td>6.9</td>\n",
              "      <td>5217</td>\n",
              "    </tr>\n",
              "  </tbody>\n",
              "</table>\n",
              "</div>"
            ],
            "text/plain": [
              "      tconst  averageRating  numVotes\n",
              "0  tt0000001            5.8      1463\n",
              "1  tt0000003            6.6      1079\n",
              "2  tt0000005            6.2      1780\n",
              "3  tt0000008            5.6      1563\n",
              "4  tt0000010            6.9      5217"
            ]
          },
          "metadata": {
            "tags": []
          },
          "execution_count": 25
        }
      ]
    },
    {
      "metadata": {
        "id": "Z1Jo58h4XNpT",
        "colab_type": "code",
        "outputId": "bbe3fe84-4a29-4c3a-f1dc-fb31468d9418",
        "colab": {
          "base_uri": "https://localhost:8080/",
          "height": 84
        }
      },
      "cell_type": "code",
      "source": [
        "#directors and writers of film by internal id\n",
        "directorid =  pd.read_table(\"https://datasets.imdbws.com/title.crew.tsv.gz\")\n",
        "directorid.dtypes"
      ],
      "execution_count": 26,
      "outputs": [
        {
          "output_type": "execute_result",
          "data": {
            "text/plain": [
              "tconst       object\n",
              "directors    object\n",
              "writers      object\n",
              "dtype: object"
            ]
          },
          "metadata": {
            "tags": []
          },
          "execution_count": 26
        }
      ]
    },
    {
      "metadata": {
        "id": "uEZL9RlpXnsJ",
        "colab_type": "code",
        "outputId": "7802cc21-6309-4a2f-c0f7-7f6d9215830d",
        "colab": {
          "base_uri": "https://localhost:8080/",
          "height": 195
        }
      },
      "cell_type": "code",
      "source": [
        "directorid.head()"
      ],
      "execution_count": 27,
      "outputs": [
        {
          "output_type": "execute_result",
          "data": {
            "text/html": [
              "<div>\n",
              "<style scoped>\n",
              "    .dataframe tbody tr th:only-of-type {\n",
              "        vertical-align: middle;\n",
              "    }\n",
              "\n",
              "    .dataframe tbody tr th {\n",
              "        vertical-align: top;\n",
              "    }\n",
              "\n",
              "    .dataframe thead th {\n",
              "        text-align: right;\n",
              "    }\n",
              "</style>\n",
              "<table border=\"1\" class=\"dataframe\">\n",
              "  <thead>\n",
              "    <tr style=\"text-align: right;\">\n",
              "      <th></th>\n",
              "      <th>tconst</th>\n",
              "      <th>directors</th>\n",
              "      <th>writers</th>\n",
              "    </tr>\n",
              "  </thead>\n",
              "  <tbody>\n",
              "    <tr>\n",
              "      <th>0</th>\n",
              "      <td>tt0000001</td>\n",
              "      <td>nm0005690</td>\n",
              "      <td>\\N</td>\n",
              "    </tr>\n",
              "    <tr>\n",
              "      <th>1</th>\n",
              "      <td>tt0000002</td>\n",
              "      <td>nm0721526</td>\n",
              "      <td>\\N</td>\n",
              "    </tr>\n",
              "    <tr>\n",
              "      <th>2</th>\n",
              "      <td>tt0000003</td>\n",
              "      <td>nm0721526</td>\n",
              "      <td>\\N</td>\n",
              "    </tr>\n",
              "    <tr>\n",
              "      <th>3</th>\n",
              "      <td>tt0000004</td>\n",
              "      <td>nm0721526</td>\n",
              "      <td>\\N</td>\n",
              "    </tr>\n",
              "    <tr>\n",
              "      <th>4</th>\n",
              "      <td>tt0000005</td>\n",
              "      <td>nm0005690</td>\n",
              "      <td>\\N</td>\n",
              "    </tr>\n",
              "  </tbody>\n",
              "</table>\n",
              "</div>"
            ],
            "text/plain": [
              "      tconst  directors writers\n",
              "0  tt0000001  nm0005690      \\N\n",
              "1  tt0000002  nm0721526      \\N\n",
              "2  tt0000003  nm0721526      \\N\n",
              "3  tt0000004  nm0721526      \\N\n",
              "4  tt0000005  nm0005690      \\N"
            ]
          },
          "metadata": {
            "tags": []
          },
          "execution_count": 27
        }
      ]
    },
    {
      "metadata": {
        "id": "DxvYBzYZXz5w",
        "colab_type": "code",
        "outputId": "f9cd3a66-71af-4147-bd32-733c277319c5",
        "colab": {
          "base_uri": "https://localhost:8080/",
          "height": 84
        }
      },
      "cell_type": "code",
      "source": [
        "directorid = directorid.replace({r'\\N': np.nan})\n",
        "directorid.isnull().sum()"
      ],
      "execution_count": 28,
      "outputs": [
        {
          "output_type": "execute_result",
          "data": {
            "text/plain": [
              "tconst             0\n",
              "directors    2366514\n",
              "writers      2787645\n",
              "dtype: int64"
            ]
          },
          "metadata": {
            "tags": []
          },
          "execution_count": 28
        }
      ]
    },
    {
      "metadata": {
        "id": "2H6lKYNoXr1d",
        "colab_type": "code",
        "outputId": "7963041a-ebc3-4778-e60f-d236da5ba182",
        "colab": {
          "base_uri": "https://localhost:8080/",
          "height": 195
        }
      },
      "cell_type": "code",
      "source": [
        "#cleaning - drop writers\n",
        "directorid = directorid.drop(columns='writers').dropna()\n",
        "directorid.head()"
      ],
      "execution_count": 29,
      "outputs": [
        {
          "output_type": "execute_result",
          "data": {
            "text/html": [
              "<div>\n",
              "<style scoped>\n",
              "    .dataframe tbody tr th:only-of-type {\n",
              "        vertical-align: middle;\n",
              "    }\n",
              "\n",
              "    .dataframe tbody tr th {\n",
              "        vertical-align: top;\n",
              "    }\n",
              "\n",
              "    .dataframe thead th {\n",
              "        text-align: right;\n",
              "    }\n",
              "</style>\n",
              "<table border=\"1\" class=\"dataframe\">\n",
              "  <thead>\n",
              "    <tr style=\"text-align: right;\">\n",
              "      <th></th>\n",
              "      <th>tconst</th>\n",
              "      <th>directors</th>\n",
              "    </tr>\n",
              "  </thead>\n",
              "  <tbody>\n",
              "    <tr>\n",
              "      <th>0</th>\n",
              "      <td>tt0000001</td>\n",
              "      <td>nm0005690</td>\n",
              "    </tr>\n",
              "    <tr>\n",
              "      <th>1</th>\n",
              "      <td>tt0000002</td>\n",
              "      <td>nm0721526</td>\n",
              "    </tr>\n",
              "    <tr>\n",
              "      <th>2</th>\n",
              "      <td>tt0000003</td>\n",
              "      <td>nm0721526</td>\n",
              "    </tr>\n",
              "    <tr>\n",
              "      <th>3</th>\n",
              "      <td>tt0000004</td>\n",
              "      <td>nm0721526</td>\n",
              "    </tr>\n",
              "    <tr>\n",
              "      <th>4</th>\n",
              "      <td>tt0000005</td>\n",
              "      <td>nm0005690</td>\n",
              "    </tr>\n",
              "  </tbody>\n",
              "</table>\n",
              "</div>"
            ],
            "text/plain": [
              "      tconst  directors\n",
              "0  tt0000001  nm0005690\n",
              "1  tt0000002  nm0721526\n",
              "2  tt0000003  nm0721526\n",
              "3  tt0000004  nm0721526\n",
              "4  tt0000005  nm0005690"
            ]
          },
          "metadata": {
            "tags": []
          },
          "execution_count": 29
        }
      ]
    },
    {
      "metadata": {
        "id": "8DShuLYSYVc4",
        "colab_type": "code",
        "outputId": "9d1709af-2127-4651-dbf1-3f68ab673f05",
        "colab": {
          "base_uri": "https://localhost:8080/",
          "height": 316
        }
      },
      "cell_type": "code",
      "source": [
        "#merging the datasets\n",
        "tconst = directorid.merge(review, on='tconst', how='inner')\n",
        "tconst = tconst.merge(title, on='tconst', how='inner')\n",
        "tconst = tconst.merge(basics, on='tconst', how='inner')\n",
        "imdb = tconst.merge(director, on='directors', how='inner')\n",
        "imdb = imdb.drop(columns=['isOriginalTitle','tconst','directors', 'titleType'])\n",
        "imdb = imdb.rename(columns = {'primaryName':'director'})\n",
        "imdb = imdb.sort_values('averageRating', ascending=True)\n",
        "imdb = imdb.drop_duplicates()\n",
        "imdb.head()"
      ],
      "execution_count": 30,
      "outputs": [
        {
          "output_type": "execute_result",
          "data": {
            "text/html": [
              "<div>\n",
              "<style scoped>\n",
              "    .dataframe tbody tr th:only-of-type {\n",
              "        vertical-align: middle;\n",
              "    }\n",
              "\n",
              "    .dataframe tbody tr th {\n",
              "        vertical-align: top;\n",
              "    }\n",
              "\n",
              "    .dataframe thead th {\n",
              "        text-align: right;\n",
              "    }\n",
              "</style>\n",
              "<table border=\"1\" class=\"dataframe\">\n",
              "  <thead>\n",
              "    <tr style=\"text-align: right;\">\n",
              "      <th></th>\n",
              "      <th>averageRating</th>\n",
              "      <th>numVotes</th>\n",
              "      <th>title</th>\n",
              "      <th>isAdult</th>\n",
              "      <th>startYear</th>\n",
              "      <th>runtimeMinutes</th>\n",
              "      <th>genres</th>\n",
              "      <th>director</th>\n",
              "    </tr>\n",
              "  </thead>\n",
              "  <tbody>\n",
              "    <tr>\n",
              "      <th>3139</th>\n",
              "      <td>1.3</td>\n",
              "      <td>3211</td>\n",
              "      <td>Li hai le, wo de guo</td>\n",
              "      <td>0</td>\n",
              "      <td>2018</td>\n",
              "      <td>90</td>\n",
              "      <td>Documentary</td>\n",
              "      <td>Tie Wei</td>\n",
              "    </tr>\n",
              "    <tr>\n",
              "      <th>3072</th>\n",
              "      <td>1.5</td>\n",
              "      <td>1863</td>\n",
              "      <td>Namaste England</td>\n",
              "      <td>0</td>\n",
              "      <td>2018</td>\n",
              "      <td>141</td>\n",
              "      <td>Comedy,Drama,Romance</td>\n",
              "      <td>Vipul Amrutlal Shah</td>\n",
              "    </tr>\n",
              "    <tr>\n",
              "      <th>996</th>\n",
              "      <td>1.7</td>\n",
              "      <td>1046</td>\n",
              "      <td>Ring of Terror</td>\n",
              "      <td>0</td>\n",
              "      <td>1961</td>\n",
              "      <td>71</td>\n",
              "      <td>Drama,Horror</td>\n",
              "      <td>Clark L. Paylow</td>\n",
              "    </tr>\n",
              "    <tr>\n",
              "      <th>3126</th>\n",
              "      <td>1.8</td>\n",
              "      <td>6811</td>\n",
              "      <td>A Sniper's War</td>\n",
              "      <td>0</td>\n",
              "      <td>2018</td>\n",
              "      <td>83</td>\n",
              "      <td>Documentary</td>\n",
              "      <td>Olya Schechter</td>\n",
              "    </tr>\n",
              "    <tr>\n",
              "      <th>2630</th>\n",
              "      <td>1.9</td>\n",
              "      <td>11571</td>\n",
              "      <td>Going Overboard</td>\n",
              "      <td>0</td>\n",
              "      <td>1989</td>\n",
              "      <td>99</td>\n",
              "      <td>Comedy</td>\n",
              "      <td>Valerie Breiman</td>\n",
              "    </tr>\n",
              "  </tbody>\n",
              "</table>\n",
              "</div>"
            ],
            "text/plain": [
              "      averageRating  numVotes                 title  isAdult startYear  \\\n",
              "3139            1.3      3211  Li hai le, wo de guo        0      2018   \n",
              "3072            1.5      1863       Namaste England        0      2018   \n",
              "996             1.7      1046        Ring of Terror        0      1961   \n",
              "3126            1.8      6811        A Sniper's War        0      2018   \n",
              "2630            1.9     11571       Going Overboard        0      1989   \n",
              "\n",
              "     runtimeMinutes                genres             director  \n",
              "3139             90           Documentary              Tie Wei  \n",
              "3072            141  Comedy,Drama,Romance  Vipul Amrutlal Shah  \n",
              "996              71          Drama,Horror      Clark L. Paylow  \n",
              "3126             83           Documentary       Olya Schechter  \n",
              "2630             99                Comedy      Valerie Breiman  "
            ]
          },
          "metadata": {
            "tags": []
          },
          "execution_count": 30
        }
      ]
    },
    {
      "metadata": {
        "id": "o_gYqWxOfFML",
        "colab_type": "code",
        "outputId": "d3ff933c-5fb8-4358-f93f-4419c6b9c6b4",
        "colab": {
          "base_uri": "https://localhost:8080/",
          "height": 34
        }
      },
      "cell_type": "code",
      "source": [
        "imdb.shape"
      ],
      "execution_count": 31,
      "outputs": [
        {
          "output_type": "execute_result",
          "data": {
            "text/plain": [
              "(3183, 8)"
            ]
          },
          "metadata": {
            "tags": []
          },
          "execution_count": 31
        }
      ]
    },
    {
      "metadata": {
        "id": "PrOMEuxXCq9t",
        "colab_type": "code",
        "outputId": "f175b09e-e8af-483b-a892-8305a3fd218f",
        "colab": {
          "base_uri": "https://localhost:8080/",
          "height": 168
        }
      },
      "cell_type": "code",
      "source": [
        "imdb = imdb.replace({r'\\N': np.nan})\n",
        "imdb.isnull().sum()"
      ],
      "execution_count": 32,
      "outputs": [
        {
          "output_type": "execute_result",
          "data": {
            "text/plain": [
              "averageRating     0\n",
              "numVotes          0\n",
              "title             0\n",
              "isAdult           0\n",
              "startYear         0\n",
              "runtimeMinutes    0\n",
              "genres            0\n",
              "director          0\n",
              "dtype: int64"
            ]
          },
          "metadata": {
            "tags": []
          },
          "execution_count": 32
        }
      ]
    },
    {
      "metadata": {
        "id": "Gb3NkH9EYpxk",
        "colab_type": "text"
      },
      "cell_type": "markdown",
      "source": [
        "# **What are the highest and lowest rated genres?**"
      ]
    },
    {
      "metadata": {
        "id": "wxvqmW7vYUn-",
        "colab_type": "code",
        "outputId": "6316765e-9dc5-406c-9550-66baa96d16c4",
        "colab": {
          "base_uri": "https://localhost:8080/",
          "height": 195
        }
      },
      "cell_type": "code",
      "source": [
        "#What are the highest and lowest rated genres?\n",
        "genre = imdb[['genres', 'averageRating']]\n",
        "genre.head()"
      ],
      "execution_count": 33,
      "outputs": [
        {
          "output_type": "execute_result",
          "data": {
            "text/html": [
              "<div>\n",
              "<style scoped>\n",
              "    .dataframe tbody tr th:only-of-type {\n",
              "        vertical-align: middle;\n",
              "    }\n",
              "\n",
              "    .dataframe tbody tr th {\n",
              "        vertical-align: top;\n",
              "    }\n",
              "\n",
              "    .dataframe thead th {\n",
              "        text-align: right;\n",
              "    }\n",
              "</style>\n",
              "<table border=\"1\" class=\"dataframe\">\n",
              "  <thead>\n",
              "    <tr style=\"text-align: right;\">\n",
              "      <th></th>\n",
              "      <th>genres</th>\n",
              "      <th>averageRating</th>\n",
              "    </tr>\n",
              "  </thead>\n",
              "  <tbody>\n",
              "    <tr>\n",
              "      <th>3139</th>\n",
              "      <td>Documentary</td>\n",
              "      <td>1.3</td>\n",
              "    </tr>\n",
              "    <tr>\n",
              "      <th>3072</th>\n",
              "      <td>Comedy,Drama,Romance</td>\n",
              "      <td>1.5</td>\n",
              "    </tr>\n",
              "    <tr>\n",
              "      <th>996</th>\n",
              "      <td>Drama,Horror</td>\n",
              "      <td>1.7</td>\n",
              "    </tr>\n",
              "    <tr>\n",
              "      <th>3126</th>\n",
              "      <td>Documentary</td>\n",
              "      <td>1.8</td>\n",
              "    </tr>\n",
              "    <tr>\n",
              "      <th>2630</th>\n",
              "      <td>Comedy</td>\n",
              "      <td>1.9</td>\n",
              "    </tr>\n",
              "  </tbody>\n",
              "</table>\n",
              "</div>"
            ],
            "text/plain": [
              "                    genres  averageRating\n",
              "3139           Documentary            1.3\n",
              "3072  Comedy,Drama,Romance            1.5\n",
              "996           Drama,Horror            1.7\n",
              "3126           Documentary            1.8\n",
              "2630                Comedy            1.9"
            ]
          },
          "metadata": {
            "tags": []
          },
          "execution_count": 33
        }
      ]
    },
    {
      "metadata": {
        "id": "XwEWWKIdKOdP",
        "colab_type": "code",
        "outputId": "dfba7ad9-376a-4404-ffaa-eb8b93677445",
        "colab": {
          "base_uri": "https://localhost:8080/",
          "height": 1075
        }
      },
      "cell_type": "code",
      "source": [
        "genre.groupby('genres').averageRating.nunique()\n",
        "#oh no"
      ],
      "execution_count": 34,
      "outputs": [
        {
          "output_type": "execute_result",
          "data": {
            "text/plain": [
              "genres\n",
              "Action                         7\n",
              "Action,Adventure               5\n",
              "Action,Adventure,Animation     4\n",
              "Action,Adventure,Biography     2\n",
              "Action,Adventure,Comedy       29\n",
              "Action,Adventure,Crime         8\n",
              "Action,Adventure,Drama        21\n",
              "Action,Adventure,Family        4\n",
              "Action,Adventure,Fantasy      16\n",
              "Action,Adventure,Horror        2\n",
              "Action,Adventure,Mystery       1\n",
              "Action,Adventure,Romance       2\n",
              "Action,Adventure,Sci-Fi       15\n",
              "Action,Adventure,Thriller     13\n",
              "Action,Adventure,Western       1\n",
              "Action,Animation,Comedy        3\n",
              "Action,Animation,Crime         1\n",
              "Action,Animation,Drama         1\n",
              "Action,Animation,Fantasy       2\n",
              "Action,Biography,Crime         1\n",
              "Action,Biography,Drama         3\n",
              "Action,Comedy                  9\n",
              "Action,Comedy,Crime           25\n",
              "Action,Comedy,Drama           13\n",
              "Action,Comedy,Family           4\n",
              "Action,Comedy,Fantasy          5\n",
              "Action,Comedy,History          1\n",
              "Action,Comedy,Horror           2\n",
              "Action,Comedy,Mystery          3\n",
              "Action,Comedy,Romance          6\n",
              "                              ..\n",
              "Fantasy,Sci-Fi,Thriller        1\n",
              "History,Romance,Western        1\n",
              "Horror                        37\n",
              "Horror,Music                   2\n",
              "Horror,Musical                 1\n",
              "Horror,Mystery                10\n",
              "Horror,Mystery,Romance         2\n",
              "Horror,Mystery,Sci-Fi          3\n",
              "Horror,Mystery,Thriller       15\n",
              "Horror,Romance                 1\n",
              "Horror,Romance,Sci-Fi          1\n",
              "Horror,Romance,Thriller        1\n",
              "Horror,Sci-Fi                 30\n",
              "Horror,Sci-Fi,Thriller         6\n",
              "Horror,Thriller               24\n",
              "Musical,Romance                1\n",
              "Musical,Romance,War            1\n",
              "Mystery                        2\n",
              "Mystery,Romance,Thriller       2\n",
              "Mystery,Thriller               8\n",
              "Romance                        3\n",
              "Romance,Sci-Fi                 1\n",
              "Romance,Thriller               2\n",
              "Romance,Thriller,Western       1\n",
              "Romance,Western                4\n",
              "Sci-Fi                         9\n",
              "Sci-Fi,Thriller                4\n",
              "Thriller                      10\n",
              "Thriller,War                   1\n",
              "Western                       11\n",
              "Name: averageRating, Length: 349, dtype: int64"
            ]
          },
          "metadata": {
            "tags": []
          },
          "execution_count": 34
        }
      ]
    },
    {
      "metadata": {
        "id": "yu8pXHxeIlzO",
        "colab_type": "code",
        "outputId": "92ab20b6-0cf1-406a-d31d-2466160cd547",
        "colab": {
          "base_uri": "https://localhost:8080/",
          "height": 339
        }
      },
      "cell_type": "code",
      "source": [
        "movielist = []\n",
        "moviemean = []\n",
        "\n",
        "for genres in ['Horror', 'Action', 'Romance', 'Adventure', 'Animation', 'Biography', 'Comedy', 'Crime', 'Drama',\n",
        "              'Family', 'Fantasy', 'Sci-Fi', 'Mystery', 'Thriller', 'Western']:\n",
        "  MoviesInGenre = genre[genre['genres'].str.contains(genres)]\n",
        "  m = MoviesInGenre.averageRating.mean()\n",
        "  movielist.append(genres)\n",
        "  moviemean.append(m)\n",
        "print(movielist)\n",
        "print(moviemean)\n",
        "Combined = pd.Series(data=moviemean, index=movielist).sort_values()\n",
        "Combined"
      ],
      "execution_count": 35,
      "outputs": [
        {
          "output_type": "stream",
          "text": [
            "['Horror', 'Action', 'Romance', 'Adventure', 'Animation', 'Biography', 'Comedy', 'Crime', 'Drama', 'Family', 'Fantasy', 'Sci-Fi', 'Mystery', 'Thriller', 'Western']\n",
            "[5.731554524361948, 6.138715953307385, 6.7303797468354425, 6.285238095238092, 7.194339622641512, 7.25441176470588, 6.396224832214758, 6.608943089430895, 6.959187279151939, 6.374566473988438, 6.146982758620688, 5.611627906976747, 6.649746192893395, 6.32102272727272, 6.831884057971015]\n"
          ],
          "name": "stdout"
        },
        {
          "output_type": "execute_result",
          "data": {
            "text/plain": [
              "Sci-Fi       5.611628\n",
              "Horror       5.731555\n",
              "Action       6.138716\n",
              "Fantasy      6.146983\n",
              "Adventure    6.285238\n",
              "Thriller     6.321023\n",
              "Family       6.374566\n",
              "Comedy       6.396225\n",
              "Crime        6.608943\n",
              "Mystery      6.649746\n",
              "Romance      6.730380\n",
              "Western      6.831884\n",
              "Drama        6.959187\n",
              "Animation    7.194340\n",
              "Biography    7.254412\n",
              "dtype: float64"
            ]
          },
          "metadata": {
            "tags": []
          },
          "execution_count": 35
        }
      ]
    },
    {
      "metadata": {
        "id": "UNSwZtnZM16T",
        "colab_type": "code",
        "outputId": "9d7b40cc-8f63-4402-888b-f28aa50faff9",
        "colab": {
          "base_uri": "https://localhost:8080/",
          "height": 118
        }
      },
      "cell_type": "code",
      "source": [
        "#The 5 lowest rated genres\n",
        "Combined.head()"
      ],
      "execution_count": 36,
      "outputs": [
        {
          "output_type": "execute_result",
          "data": {
            "text/plain": [
              "Sci-Fi       5.611628\n",
              "Horror       5.731555\n",
              "Action       6.138716\n",
              "Fantasy      6.146983\n",
              "Adventure    6.285238\n",
              "dtype: float64"
            ]
          },
          "metadata": {
            "tags": []
          },
          "execution_count": 36
        }
      ]
    },
    {
      "metadata": {
        "id": "2PW7K23WNJsl",
        "colab_type": "code",
        "outputId": "a645ffcc-b4d7-43e4-cb33-07da8ed2ef74",
        "colab": {
          "base_uri": "https://localhost:8080/",
          "height": 118
        }
      },
      "cell_type": "code",
      "source": [
        "#The 5 highest rated genres\n",
        "Combined.tail()"
      ],
      "execution_count": 37,
      "outputs": [
        {
          "output_type": "execute_result",
          "data": {
            "text/plain": [
              "Romance      6.730380\n",
              "Western      6.831884\n",
              "Drama        6.959187\n",
              "Animation    7.194340\n",
              "Biography    7.254412\n",
              "dtype: float64"
            ]
          },
          "metadata": {
            "tags": []
          },
          "execution_count": 37
        }
      ]
    },
    {
      "metadata": {
        "id": "gUtJe7cTzvDl",
        "colab_type": "code",
        "colab": {
          "base_uri": "https://localhost:8080/",
          "height": 347
        },
        "outputId": "2b7b579f-fd71-4932-9244-14f8eccd732e"
      },
      "cell_type": "code",
      "source": [
        "ax = Combined.plot.bar(color='#ED713A', width=0.8, legend=False);\n",
        "ax.text(x=-1, y=8.5, s=\"Biopics and animation dominate in popularity\", fontsize=18, fontweight='bold')\n",
        "ax.text(x=-1, y=8, s='IMDb movie genres by average user rating', fontsize=15);"
      ],
      "execution_count": 38,
      "outputs": [
        {
          "output_type": "display_data",
          "data": {
            "image/png": "[encoded data removed]",
            "text/plain": [
              "<Figure size 432x288 with 1 Axes>"
            ]
          },
          "metadata": {
            "tags": []
          }
        }
      ]
    },
    {
      "metadata": {
        "id": "-0BgPRGLY3SM",
        "colab_type": "text"
      },
      "cell_type": "markdown",
      "source": [
        "# **Who are the highest and lowest rated directors?**"
      ]
    },
    {
      "metadata": {
        "id": "wGrORiJQyEUm",
        "colab_type": "code",
        "outputId": "dec2c95f-75f8-4898-8f14-4d0b085ad753",
        "colab": {
          "base_uri": "https://localhost:8080/",
          "height": 195
        }
      },
      "cell_type": "code",
      "source": [
        "#Who are the highest and lowest rated directors?\n",
        "directors = imdb[['director', 'averageRating']]\n",
        "directors.head()\n",
        "directorCount = directors.director.value_counts()\n",
        "#lots of directors with only 1 film with more than 1000 votes *cries in Errol Morris*\n",
        "MoreThan5 = directorCount[directorCount.values >= 5]\n",
        "MoreThan5 = MoreThan5.index.tolist()\n",
        "#our conditional list - theatre films with more than 1000 votes from directors with 5 or more other movies with 1000 votes\n",
        "directors = directors[directors.director.isin(MoreThan5)]\n",
        "directors.head()"
      ],
      "execution_count": 39,
      "outputs": [
        {
          "output_type": "execute_result",
          "data": {
            "text/html": [
              "<div>\n",
              "<style scoped>\n",
              "    .dataframe tbody tr th:only-of-type {\n",
              "        vertical-align: middle;\n",
              "    }\n",
              "\n",
              "    .dataframe tbody tr th {\n",
              "        vertical-align: top;\n",
              "    }\n",
              "\n",
              "    .dataframe thead th {\n",
              "        text-align: right;\n",
              "    }\n",
              "</style>\n",
              "<table border=\"1\" class=\"dataframe\">\n",
              "  <thead>\n",
              "    <tr style=\"text-align: right;\">\n",
              "      <th></th>\n",
              "      <th>director</th>\n",
              "      <th>averageRating</th>\n",
              "    </tr>\n",
              "  </thead>\n",
              "  <tbody>\n",
              "    <tr>\n",
              "      <th>199</th>\n",
              "      <td>Roger Corman</td>\n",
              "      <td>2.9</td>\n",
              "    </tr>\n",
              "    <tr>\n",
              "      <th>200</th>\n",
              "      <td>Roger Corman</td>\n",
              "      <td>3.1</td>\n",
              "    </tr>\n",
              "    <tr>\n",
              "      <th>2139</th>\n",
              "      <td>Albert Pyun</td>\n",
              "      <td>3.1</td>\n",
              "    </tr>\n",
              "    <tr>\n",
              "      <th>204</th>\n",
              "      <td>Roger Corman</td>\n",
              "      <td>3.4</td>\n",
              "    </tr>\n",
              "    <tr>\n",
              "      <th>363</th>\n",
              "      <td>Bert I. Gordon</td>\n",
              "      <td>3.4</td>\n",
              "    </tr>\n",
              "  </tbody>\n",
              "</table>\n",
              "</div>"
            ],
            "text/plain": [
              "            director  averageRating\n",
              "199     Roger Corman            2.9\n",
              "200     Roger Corman            3.1\n",
              "2139     Albert Pyun            3.1\n",
              "204     Roger Corman            3.4\n",
              "363   Bert I. Gordon            3.4"
            ]
          },
          "metadata": {
            "tags": []
          },
          "execution_count": 39
        }
      ]
    },
    {
      "metadata": {
        "id": "jm_5UV4cZJ2O",
        "colab_type": "code",
        "outputId": "3aa2d8c5-fc8f-4859-e47f-b5a25b37047d",
        "colab": {
          "base_uri": "https://localhost:8080/",
          "height": 225
        }
      },
      "cell_type": "code",
      "source": [
        "DirectorRating = directors.groupby(directors['director']).mean()\n",
        "type(DirectorRating) #dataframe\n",
        "DirectorRating.reset_index()\n",
        "DirectorRating = DirectorRating.sort_values(by = ['averageRating'])\n",
        "#The Absolute Worst\n",
        "DirectorRating.head()"
      ],
      "execution_count": 40,
      "outputs": [
        {
          "output_type": "execute_result",
          "data": {
            "text/html": [
              "<div>\n",
              "<style scoped>\n",
              "    .dataframe tbody tr th:only-of-type {\n",
              "        vertical-align: middle;\n",
              "    }\n",
              "\n",
              "    .dataframe tbody tr th {\n",
              "        vertical-align: top;\n",
              "    }\n",
              "\n",
              "    .dataframe thead th {\n",
              "        text-align: right;\n",
              "    }\n",
              "</style>\n",
              "<table border=\"1\" class=\"dataframe\">\n",
              "  <thead>\n",
              "    <tr style=\"text-align: right;\">\n",
              "      <th></th>\n",
              "      <th>averageRating</th>\n",
              "    </tr>\n",
              "    <tr>\n",
              "      <th>director</th>\n",
              "      <th></th>\n",
              "    </tr>\n",
              "  </thead>\n",
              "  <tbody>\n",
              "    <tr>\n",
              "      <th>Bert I. Gordon</th>\n",
              "      <td>4.140000</td>\n",
              "    </tr>\n",
              "    <tr>\n",
              "      <th>Albert Pyun</th>\n",
              "      <td>5.214286</td>\n",
              "    </tr>\n",
              "    <tr>\n",
              "      <th>Bob Clark</th>\n",
              "      <td>5.300000</td>\n",
              "    </tr>\n",
              "    <tr>\n",
              "      <th>Sam Firstenberg</th>\n",
              "      <td>5.383333</td>\n",
              "    </tr>\n",
              "    <tr>\n",
              "      <th>Mark L. Lester</th>\n",
              "      <td>5.633333</td>\n",
              "    </tr>\n",
              "  </tbody>\n",
              "</table>\n",
              "</div>"
            ],
            "text/plain": [
              "                 averageRating\n",
              "director                      \n",
              "Bert I. Gordon        4.140000\n",
              "Albert Pyun           5.214286\n",
              "Bob Clark             5.300000\n",
              "Sam Firstenberg       5.383333\n",
              "Mark L. Lester        5.633333"
            ]
          },
          "metadata": {
            "tags": []
          },
          "execution_count": 40
        }
      ]
    },
    {
      "metadata": {
        "id": "cfQy4BapRC15",
        "colab_type": "code",
        "outputId": "2bebd04d-3276-4578-91d1-76148f278018",
        "colab": {
          "base_uri": "https://localhost:8080/",
          "height": 225
        }
      },
      "cell_type": "code",
      "source": [
        "#The Best\n",
        "DirectorRating.tail()"
      ],
      "execution_count": 41,
      "outputs": [
        {
          "output_type": "execute_result",
          "data": {
            "text/html": [
              "<div>\n",
              "<style scoped>\n",
              "    .dataframe tbody tr th:only-of-type {\n",
              "        vertical-align: middle;\n",
              "    }\n",
              "\n",
              "    .dataframe tbody tr th {\n",
              "        vertical-align: top;\n",
              "    }\n",
              "\n",
              "    .dataframe thead th {\n",
              "        text-align: right;\n",
              "    }\n",
              "</style>\n",
              "<table border=\"1\" class=\"dataframe\">\n",
              "  <thead>\n",
              "    <tr style=\"text-align: right;\">\n",
              "      <th></th>\n",
              "      <th>averageRating</th>\n",
              "    </tr>\n",
              "    <tr>\n",
              "      <th>director</th>\n",
              "      <th></th>\n",
              "    </tr>\n",
              "  </thead>\n",
              "  <tbody>\n",
              "    <tr>\n",
              "      <th>Yasujirô Ozu</th>\n",
              "      <td>8.085714</td>\n",
              "    </tr>\n",
              "    <tr>\n",
              "      <th>Akira Kurosawa</th>\n",
              "      <td>8.085714</td>\n",
              "    </tr>\n",
              "    <tr>\n",
              "      <th>Stanley Kubrick</th>\n",
              "      <td>8.120000</td>\n",
              "    </tr>\n",
              "    <tr>\n",
              "      <th>Satyajit Ray</th>\n",
              "      <td>8.166667</td>\n",
              "    </tr>\n",
              "    <tr>\n",
              "      <th>Masaki Kobayashi</th>\n",
              "      <td>8.520000</td>\n",
              "    </tr>\n",
              "  </tbody>\n",
              "</table>\n",
              "</div>"
            ],
            "text/plain": [
              "                  averageRating\n",
              "director                       \n",
              "Yasujirô Ozu           8.085714\n",
              "Akira Kurosawa         8.085714\n",
              "Stanley Kubrick        8.120000\n",
              "Satyajit Ray           8.166667\n",
              "Masaki Kobayashi       8.520000"
            ]
          },
          "metadata": {
            "tags": []
          },
          "execution_count": 41
        }
      ]
    },
    {
      "metadata": {
        "id": "BDclZWUUEMQ3",
        "colab_type": "text"
      },
      "cell_type": "markdown",
      "source": [
        "#**How Does Runtime Effect Rating?**"
      ]
    },
    {
      "metadata": {
        "id": "DE0dDJn5DVQ0",
        "colab_type": "code",
        "colab": {
          "base_uri": "https://localhost:8080/",
          "height": 50
        },
        "outputId": "a626839b-58b9-4e0c-b52c-e1434b38f39a"
      },
      "cell_type": "code",
      "source": [
        "#graph got 'no numeric types' error so I'm checking the value types\n",
        "print(type(imdb['runtimeMinutes'][0])) #need to convert to integer\n",
        "type(imdb['averageRating'][0])"
      ],
      "execution_count": 87,
      "outputs": [
        {
          "output_type": "stream",
          "text": [
            "<class 'str'>\n"
          ],
          "name": "stdout"
        },
        {
          "output_type": "execute_result",
          "data": {
            "text/plain": [
              "numpy.float64"
            ]
          },
          "metadata": {
            "tags": []
          },
          "execution_count": 87
        }
      ]
    },
    {
      "metadata": {
        "id": "bEXIm30WNEYq",
        "colab_type": "code",
        "colab": {}
      },
      "cell_type": "code",
      "source": [
        "imdb[['runtimeMinutes', 'averageRating']] = imdb[['runtimeMinutes',\n",
        "                                                  'averageRating']].astype(float)"
      ],
      "execution_count": 0,
      "outputs": []
    },
    {
      "metadata": {
        "id": "-4pw1PPlyP7p",
        "colab_type": "code",
        "colab": {
          "base_uri": "https://localhost:8080/",
          "height": 283
        },
        "outputId": "0c0da482-997f-4fd9-b795-33f9ae04c0b7"
      },
      "cell_type": "code",
      "source": [
        "ax = sns.lineplot(data=imdb, x=imdb['runtimeMinutes'], y=imdb['averageRating'],\n",
        "                  color='#0491D5', dashes=False, legend=False);\n",
        "#Most of the data is clearly under the 250 minute mark;\n",
        "#it doesn't look like there's a relationship but slicing out outliers could help"
      ],
      "execution_count": 91,
      "outputs": [
        {
          "output_type": "display_data",
          "data": {
            "image/png": "[encoded data removed]",
            "text/plain": [
              "<Figure size 432x288 with 1 Axes>"
            ]
          },
          "metadata": {
            "tags": []
          }
        }
      ]
    },
    {
      "metadata": {
        "id": "Jz376wiGRTIe",
        "colab_type": "code",
        "colab": {
          "base_uri": "https://localhost:8080/",
          "height": 343
        },
        "outputId": "e5234ae5-5541-46a0-f478-45d11bef3a82"
      },
      "cell_type": "code",
      "source": [
        "length = imdb[['runtimeMinutes', 'averageRating']]\n",
        "length = length[length['runtimeMinutes']<=250]\n",
        "\n",
        "ratingRange = np.linspace(0, 10, 11)\n",
        "timeRange = [40, 60, 80, 100, 120, 140, 160, 180, 200, 250]\n",
        "runtimeBin = pd.cut(length['runtimeMinutes'], timeRange)\n",
        "ratingBin = pd.cut(length['averageRating'], ratingRange)\n",
        "ct = pd.crosstab(runtimeBin, ratingBin, normalize='columns');\n",
        "ct"
      ],
      "execution_count": 117,
      "outputs": [
        {
          "output_type": "execute_result",
          "data": {
            "text/html": [
              "<div>\n",
              "<style scoped>\n",
              "    .dataframe tbody tr th:only-of-type {\n",
              "        vertical-align: middle;\n",
              "    }\n",
              "\n",
              "    .dataframe tbody tr th {\n",
              "        vertical-align: top;\n",
              "    }\n",
              "\n",
              "    .dataframe thead th {\n",
              "        text-align: right;\n",
              "    }\n",
              "</style>\n",
              "<table border=\"1\" class=\"dataframe\">\n",
              "  <thead>\n",
              "    <tr style=\"text-align: right;\">\n",
              "      <th>averageRating</th>\n",
              "      <th>(0.0, 1.0]</th>\n",
              "      <th>(1.0, 2.0]</th>\n",
              "      <th>(2.0, 3.0]</th>\n",
              "      <th>(3.0, 4.0]</th>\n",
              "      <th>(4.0, 5.0]</th>\n",
              "      <th>(5.0, 6.0]</th>\n",
              "      <th>(6.0, 7.0]</th>\n",
              "      <th>(7.0, 8.0]</th>\n",
              "      <th>(8.0, 9.0]</th>\n",
              "      <th>(9.0, 10.0]</th>\n",
              "    </tr>\n",
              "    <tr>\n",
              "      <th>runtimeMinutes</th>\n",
              "      <th></th>\n",
              "      <th></th>\n",
              "      <th></th>\n",
              "      <th></th>\n",
              "      <th></th>\n",
              "      <th></th>\n",
              "      <th></th>\n",
              "      <th></th>\n",
              "      <th></th>\n",
              "      <th></th>\n",
              "    </tr>\n",
              "  </thead>\n",
              "  <tbody>\n",
              "    <tr>\n",
              "      <th>(40, 60]</th>\n",
              "      <td>0.0</td>\n",
              "      <td>0.000</td>\n",
              "      <td>0.025641</td>\n",
              "      <td>0.0375</td>\n",
              "      <td>0.004878</td>\n",
              "      <td>0.000000</td>\n",
              "      <td>0.004753</td>\n",
              "      <td>0.014354</td>\n",
              "      <td>0.005155</td>\n",
              "      <td>0.000000</td>\n",
              "    </tr>\n",
              "    <tr>\n",
              "      <th>(60, 80]</th>\n",
              "      <td>0.0</td>\n",
              "      <td>0.250</td>\n",
              "      <td>0.307692</td>\n",
              "      <td>0.2250</td>\n",
              "      <td>0.087805</td>\n",
              "      <td>0.051002</td>\n",
              "      <td>0.038973</td>\n",
              "      <td>0.059330</td>\n",
              "      <td>0.036082</td>\n",
              "      <td>0.000000</td>\n",
              "    </tr>\n",
              "    <tr>\n",
              "      <th>(80, 100]</th>\n",
              "      <td>0.0</td>\n",
              "      <td>0.500</td>\n",
              "      <td>0.589744</td>\n",
              "      <td>0.6375</td>\n",
              "      <td>0.692683</td>\n",
              "      <td>0.582878</td>\n",
              "      <td>0.429658</td>\n",
              "      <td>0.315789</td>\n",
              "      <td>0.268041</td>\n",
              "      <td>0.333333</td>\n",
              "    </tr>\n",
              "    <tr>\n",
              "      <th>(100, 120]</th>\n",
              "      <td>0.0</td>\n",
              "      <td>0.125</td>\n",
              "      <td>0.025641</td>\n",
              "      <td>0.1000</td>\n",
              "      <td>0.175610</td>\n",
              "      <td>0.320583</td>\n",
              "      <td>0.384981</td>\n",
              "      <td>0.362679</td>\n",
              "      <td>0.201031</td>\n",
              "      <td>0.000000</td>\n",
              "    </tr>\n",
              "    <tr>\n",
              "      <th>(120, 140]</th>\n",
              "      <td>0.0</td>\n",
              "      <td>0.000</td>\n",
              "      <td>0.051282</td>\n",
              "      <td>0.0000</td>\n",
              "      <td>0.014634</td>\n",
              "      <td>0.036430</td>\n",
              "      <td>0.102662</td>\n",
              "      <td>0.141627</td>\n",
              "      <td>0.242268</td>\n",
              "      <td>0.333333</td>\n",
              "    </tr>\n",
              "    <tr>\n",
              "      <th>(140, 160]</th>\n",
              "      <td>0.0</td>\n",
              "      <td>0.125</td>\n",
              "      <td>0.000000</td>\n",
              "      <td>0.0000</td>\n",
              "      <td>0.024390</td>\n",
              "      <td>0.005464</td>\n",
              "      <td>0.020913</td>\n",
              "      <td>0.060287</td>\n",
              "      <td>0.134021</td>\n",
              "      <td>0.333333</td>\n",
              "    </tr>\n",
              "    <tr>\n",
              "      <th>(160, 180]</th>\n",
              "      <td>0.0</td>\n",
              "      <td>0.000</td>\n",
              "      <td>0.000000</td>\n",
              "      <td>0.0000</td>\n",
              "      <td>0.000000</td>\n",
              "      <td>0.003643</td>\n",
              "      <td>0.012357</td>\n",
              "      <td>0.030622</td>\n",
              "      <td>0.051546</td>\n",
              "      <td>0.000000</td>\n",
              "    </tr>\n",
              "    <tr>\n",
              "      <th>(180, 200]</th>\n",
              "      <td>0.0</td>\n",
              "      <td>0.000</td>\n",
              "      <td>0.000000</td>\n",
              "      <td>0.0000</td>\n",
              "      <td>0.000000</td>\n",
              "      <td>0.000000</td>\n",
              "      <td>0.004753</td>\n",
              "      <td>0.008612</td>\n",
              "      <td>0.030928</td>\n",
              "      <td>0.000000</td>\n",
              "    </tr>\n",
              "    <tr>\n",
              "      <th>(200, 250]</th>\n",
              "      <td>0.0</td>\n",
              "      <td>0.000</td>\n",
              "      <td>0.000000</td>\n",
              "      <td>0.0000</td>\n",
              "      <td>0.000000</td>\n",
              "      <td>0.000000</td>\n",
              "      <td>0.000951</td>\n",
              "      <td>0.006699</td>\n",
              "      <td>0.030928</td>\n",
              "      <td>0.000000</td>\n",
              "    </tr>\n",
              "  </tbody>\n",
              "</table>\n",
              "</div>"
            ],
            "text/plain": [
              "averageRating   (0.0, 1.0]  (1.0, 2.0]  (2.0, 3.0]  (3.0, 4.0]  (4.0, 5.0]  \\\n",
              "runtimeMinutes                                                               \n",
              "(40, 60]               0.0       0.000    0.025641      0.0375    0.004878   \n",
              "(60, 80]               0.0       0.250    0.307692      0.2250    0.087805   \n",
              "(80, 100]              0.0       0.500    0.589744      0.6375    0.692683   \n",
              "(100, 120]             0.0       0.125    0.025641      0.1000    0.175610   \n",
              "(120, 140]             0.0       0.000    0.051282      0.0000    0.014634   \n",
              "(140, 160]             0.0       0.125    0.000000      0.0000    0.024390   \n",
              "(160, 180]             0.0       0.000    0.000000      0.0000    0.000000   \n",
              "(180, 200]             0.0       0.000    0.000000      0.0000    0.000000   \n",
              "(200, 250]             0.0       0.000    0.000000      0.0000    0.000000   \n",
              "\n",
              "averageRating   (5.0, 6.0]  (6.0, 7.0]  (7.0, 8.0]  (8.0, 9.0]  (9.0, 10.0]  \n",
              "runtimeMinutes                                                               \n",
              "(40, 60]          0.000000    0.004753    0.014354    0.005155     0.000000  \n",
              "(60, 80]          0.051002    0.038973    0.059330    0.036082     0.000000  \n",
              "(80, 100]         0.582878    0.429658    0.315789    0.268041     0.333333  \n",
              "(100, 120]        0.320583    0.384981    0.362679    0.201031     0.000000  \n",
              "(120, 140]        0.036430    0.102662    0.141627    0.242268     0.333333  \n",
              "(140, 160]        0.005464    0.020913    0.060287    0.134021     0.333333  \n",
              "(160, 180]        0.003643    0.012357    0.030622    0.051546     0.000000  \n",
              "(180, 200]        0.000000    0.004753    0.008612    0.030928     0.000000  \n",
              "(200, 250]        0.000000    0.000951    0.006699    0.030928     0.000000  "
            ]
          },
          "metadata": {
            "tags": []
          },
          "execution_count": 117
        }
      ]
    },
    {
      "metadata": {
        "id": "pZCPb1uzXZdG",
        "colab_type": "code",
        "colab": {
          "base_uri": "https://localhost:8080/",
          "height": 325
        },
        "outputId": "1a0a0312-5355-4fa4-f4da-94fa2c2f5928"
      },
      "cell_type": "code",
      "source": [
        "ct.plot(kind='bar');\n",
        "#it appears that the longer length movies are most likely to have a 8-10 score\n",
        "#while the scores for 80-100 minute movies are fairly normally distributed\n",
        "#scores for 40-80 minute movies trend to 1-4 score"
      ],
      "execution_count": 118,
      "outputs": [
        {
          "output_type": "display_data",
          "data": {
            "image/png": "[encoded data removed]",
            "text/plain": [
              "<Figure size 432x288 with 1 Axes>"
            ]
          },
          "metadata": {
            "tags": []
          }
        }
      ]
    },
    {
      "metadata": {
        "id": "oAgzl9c2m2mr",
        "colab_type": "code",
        "colab": {
          "base_uri": "https://localhost:8080/",
          "height": 313
        },
        "outputId": "991958cf-2e5d-4619-d1c6-ff37027da5f7"
      },
      "cell_type": "code",
      "source": [
        "ax = sns.lineplot(data=length, x=length['runtimeMinutes'],\n",
        "                  y=length['averageRating'],\n",
        "                  color='#0491D5', dashes=False, legend=False);\n",
        "ax.text(x=32, y=11, s=\"As runtime increases, average rating is higher and has less spread\", fontsize=15, fontweight='bold')\n",
        "ax.text(x=32, y=10.5, s='Runtime of movies over user submitted rating', fontsize=12);\n",
        "ax.set(yticks=range(0,11,1));\n",
        "ax.set(xticks=range(40, 250, 20));\n",
        "plt.xlabel('Runtime (minutes)');\n",
        "plt.ylabel('Average Rating (1-10)');"
      ],
      "execution_count": 138,
      "outputs": [
        {
          "output_type": "display_data",
          "data": {
            "image/png": "[encoded data removed]",
            "text/plain": [
              "<Figure size 432x288 with 1 Axes>"
            ]
          },
          "metadata": {
            "tags": []
          }
        }
      ]
    },
    {
      "metadata": {
        "id": "Vv4iLRa6pIv3",
        "colab_type": "code",
        "colab": {
          "base_uri": "https://localhost:8080/",
          "height": 330
        },
        "outputId": "81b6634b-d92d-4d33-f338-32d97e797154"
      },
      "cell_type": "code",
      "source": [
        "#Line plot comparing 1-4, 5-6, 7-8, 9-10\n",
        "ratingRange = [0, 4, 6, 8, 10]\n",
        "ratingBin = pd.cut(length['averageRating'], ratingRange)\n",
        "\n",
        "ax = sns.lineplot(data=length, x=length['runtimeMinutes'],\n",
        "                  y=length['averageRating'], hue=ratingBin,\n",
        "                  dashes=False, legend='brief');\n",
        "ax.set(yticks=range(0,11,1));\n",
        "ax.set(xticks=range(40, 250, 20));\n",
        "ax.text(x=32, y=11.8, s=\"There isn't a cutoff for how short a good movie can be,\", fontsize=15, fontweight='bold')\n",
        "ax.text(x=32, y=11.2, s=\"but there is a cutoff for how long a bad movie can be.\", fontsize=15, fontweight='bold')\n",
        "ax.text(x=32, y=10.5, s='Runtime of movies over rating by various levels of ratings', fontsize=12);\n",
        "plt.xlabel('Runtime (minutes)');\n",
        "plt.ylabel('Average Rating (1-10)');"
      ],
      "execution_count": 151,
      "outputs": [
        {
          "output_type": "display_data",
          "data": {
            "image/png": "[encoded data removed]",
            "text/plain": [
              "<Figure size 432x288 with 1 Axes>"
            ]
          },
          "metadata": {
            "tags": []
          }
        }
      ]
    },
    {
      "metadata": {
        "id": "HWJcdxo4tQcM",
        "colab_type": "text"
      },
      "cell_type": "markdown",
      "source": [
        "#**do adult films have a different rating trend than non-adult films?**"
      ]
    },
    {
      "metadata": {
        "id": "WqNke0GGyYHn",
        "colab_type": "code",
        "colab": {
          "base_uri": "https://localhost:8080/",
          "height": 283
        },
        "outputId": "8c65b473-45a9-4f65-c96b-8c0f203a740c"
      },
      "cell_type": "code",
      "source": [
        "#do adult films have a different rating trend than non-adult films?\n",
        "x = pd.crosstab(imdb['averageRating'], imdb['isAdult'], normalize='index')*100\n",
        "ax = sns.lineplot(data=x, color=['#0491D5', '#FF2801'], hue='isAdult', dashes=False, legend=False);\n",
        "#well darn\n",
        "#for nearly all ratings 100% of examples are non-adult films"
      ],
      "execution_count": 52,
      "outputs": [
        {
          "output_type": "display_data",
          "data": {
            "image/png": "[encoded data removed]",
            "text/plain": [
              "<Figure size 432x288 with 1 Axes>"
            ]
          },
          "metadata": {
            "tags": []
          }
        }
      ]
    },
    {
      "metadata": {
        "id": "XW3oXQetA1oO",
        "colab_type": "code",
        "colab": {
          "base_uri": "https://localhost:8080/",
          "height": 67
        },
        "outputId": "45c20bc4-d048-48ff-eb59-ab28b1d2b3a0"
      },
      "cell_type": "code",
      "source": [
        "imdb['isAdult'].value_counts() #lol\n",
        "#question cancelled"
      ],
      "execution_count": 50,
      "outputs": [
        {
          "output_type": "execute_result",
          "data": {
            "text/plain": [
              "0    3182\n",
              "1       1\n",
              "Name: isAdult, dtype: int64"
            ]
          },
          "metadata": {
            "tags": []
          },
          "execution_count": 50
        }
      ]
    },
    {
      "metadata": {
        "id": "6Q1IaHXxQKl4",
        "colab_type": "text"
      },
      "cell_type": "markdown",
      "source": [
        "#**What were the best and worst decades for film? **"
      ]
    },
    {
      "metadata": {
        "id": "tdgsHZJC0oUQ",
        "colab_type": "code",
        "colab": {}
      },
      "cell_type": "code",
      "source": [
        "#What were the best and worst decades for film? *cries in 2018*\n"
      ],
      "execution_count": 0,
      "outputs": []
    }
  ]
}