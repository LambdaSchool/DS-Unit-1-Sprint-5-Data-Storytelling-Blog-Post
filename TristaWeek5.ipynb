{
  "nbformat": 4,
  "nbformat_minor": 0,
  "metadata": {
    "colab": {
      "name": "TristaWeek5.ipynb",
      "version": "0.3.2",
      "provenance": [],
      "collapsed_sections": [],
      "include_colab_link": true
    },
    "kernelspec": {
      "name": "python3",
      "display_name": "Python 3"
    }
  },
  "cells": [
    {
      "cell_type": "markdown",
      "metadata": {
        "id": "view-in-github",
        "colab_type": "text"
      },
      "source": [
        "<a href=\"https://colab.research.google.com/github/trista-paul/DS-Unit-1-Sprint-5-Data-Storytelling-Blog-Post/blob/master/TristaWeek5.ipynb\" target=\"_parent\"><img src=\"https://colab.research.google.com/assets/colab-badge.svg\" alt=\"Open In Colab\"/></a>"
      ]
    },
    {
      "metadata": {
        "id": "XZUFx8wcHlRZ",
        "colab_type": "code",
        "colab": {}
      },
      "cell_type": "code",
      "source": [
        "import pandas as pd\n",
        "import matplotlib.pyplot as plt\n",
        "import numpy as np\n",
        "import seaborn as sns"
      ],
      "execution_count": 0,
      "outputs": []
    },
    {
      "metadata": {
        "id": "YR-SAe-3JItM",
        "colab_type": "code",
        "outputId": "00ab4930-732f-404f-d384-e62f025573f4",
        "colab": {
          "base_uri": "https://localhost:8080/",
          "height": 202
        }
      },
      "cell_type": "code",
      "source": [
        "#title of film\n",
        "title = pd.read_table(\"https://datasets.imdbws.com/title.akas.tsv.gz\")\n",
        "title.dtypes"
      ],
      "execution_count": 0,
      "outputs": [
        {
          "output_type": "stream",
          "text": [
            "/usr/local/lib/python3.6/dist-packages/IPython/core/interactiveshell.py:2718: DtypeWarning: Columns (7) have mixed types. Specify dtype option on import or set low_memory=False.\n",
            "  interactivity=interactivity, compiler=compiler, result=result)\n"
          ],
          "name": "stderr"
        },
        {
          "output_type": "execute_result",
          "data": {
            "text/plain": [
              "titleId            object\n",
              "ordering            int64\n",
              "title              object\n",
              "region             object\n",
              "language           object\n",
              "types              object\n",
              "attributes         object\n",
              "isOriginalTitle    object\n",
              "dtype: object"
            ]
          },
          "metadata": {
            "tags": []
          },
          "execution_count": 2
        }
      ]
    },
    {
      "metadata": {
        "id": "bceirtfyJ1YW",
        "colab_type": "code",
        "outputId": "55edac13-b4a3-4560-fb48-6b9945dc63da",
        "colab": {
          "base_uri": "https://localhost:8080/",
          "height": 195
        }
      },
      "cell_type": "code",
      "source": [
        "title.head()\n",
        "#redundant values, high quantities of NaNs"
      ],
      "execution_count": 0,
      "outputs": [
        {
          "output_type": "execute_result",
          "data": {
            "text/html": [
              "<div>\n",
              "<style scoped>\n",
              "    .dataframe tbody tr th:only-of-type {\n",
              "        vertical-align: middle;\n",
              "    }\n",
              "\n",
              "    .dataframe tbody tr th {\n",
              "        vertical-align: top;\n",
              "    }\n",
              "\n",
              "    .dataframe thead th {\n",
              "        text-align: right;\n",
              "    }\n",
              "</style>\n",
              "<table border=\"1\" class=\"dataframe\">\n",
              "  <thead>\n",
              "    <tr style=\"text-align: right;\">\n",
              "      <th></th>\n",
              "      <th>titleId</th>\n",
              "      <th>ordering</th>\n",
              "      <th>title</th>\n",
              "      <th>region</th>\n",
              "      <th>language</th>\n",
              "      <th>types</th>\n",
              "      <th>attributes</th>\n",
              "      <th>isOriginalTitle</th>\n",
              "    </tr>\n",
              "  </thead>\n",
              "  <tbody>\n",
              "    <tr>\n",
              "      <th>0</th>\n",
              "      <td>tt0000001</td>\n",
              "      <td>1</td>\n",
              "      <td>Carmencita - spanyol tánc</td>\n",
              "      <td>HU</td>\n",
              "      <td>\\N</td>\n",
              "      <td>imdbDisplay</td>\n",
              "      <td>\\N</td>\n",
              "      <td>0</td>\n",
              "    </tr>\n",
              "    <tr>\n",
              "      <th>1</th>\n",
              "      <td>tt0000001</td>\n",
              "      <td>2</td>\n",
              "      <td>Καρμενσίτα</td>\n",
              "      <td>GR</td>\n",
              "      <td>\\N</td>\n",
              "      <td>\\N</td>\n",
              "      <td>\\N</td>\n",
              "      <td>0</td>\n",
              "    </tr>\n",
              "    <tr>\n",
              "      <th>2</th>\n",
              "      <td>tt0000001</td>\n",
              "      <td>3</td>\n",
              "      <td>Карменсита</td>\n",
              "      <td>RU</td>\n",
              "      <td>\\N</td>\n",
              "      <td>\\N</td>\n",
              "      <td>\\N</td>\n",
              "      <td>0</td>\n",
              "    </tr>\n",
              "    <tr>\n",
              "      <th>3</th>\n",
              "      <td>tt0000001</td>\n",
              "      <td>4</td>\n",
              "      <td>Carmencita</td>\n",
              "      <td>US</td>\n",
              "      <td>\\N</td>\n",
              "      <td>\\N</td>\n",
              "      <td>\\N</td>\n",
              "      <td>0</td>\n",
              "    </tr>\n",
              "    <tr>\n",
              "      <th>4</th>\n",
              "      <td>tt0000001</td>\n",
              "      <td>5</td>\n",
              "      <td>Carmencita</td>\n",
              "      <td>\\N</td>\n",
              "      <td>\\N</td>\n",
              "      <td>original</td>\n",
              "      <td>\\N</td>\n",
              "      <td>1</td>\n",
              "    </tr>\n",
              "  </tbody>\n",
              "</table>\n",
              "</div>"
            ],
            "text/plain": [
              "     titleId  ordering                      title region language  \\\n",
              "0  tt0000001         1  Carmencita - spanyol tánc     HU       \\N   \n",
              "1  tt0000001         2                 Καρμενσίτα     GR       \\N   \n",
              "2  tt0000001         3                 Карменсита     RU       \\N   \n",
              "3  tt0000001         4                 Carmencita     US       \\N   \n",
              "4  tt0000001         5                 Carmencita     \\N       \\N   \n",
              "\n",
              "         types attributes isOriginalTitle  \n",
              "0  imdbDisplay         \\N               0  \n",
              "1           \\N         \\N               0  \n",
              "2           \\N         \\N               0  \n",
              "3           \\N         \\N               0  \n",
              "4     original         \\N               1  "
            ]
          },
          "metadata": {
            "tags": []
          },
          "execution_count": 3
        }
      ]
    },
    {
      "metadata": {
        "id": "RFW5wD4rKweo",
        "colab_type": "code",
        "outputId": "2e0a0be0-e1dd-4041-d49c-4370c0c0a535",
        "colab": {
          "base_uri": "https://localhost:8080/",
          "height": 168
        }
      },
      "cell_type": "code",
      "source": [
        "title.isnull().sum() #...though they aren't encoded properly"
      ],
      "execution_count": 0,
      "outputs": [
        {
          "output_type": "execute_result",
          "data": {
            "text/plain": [
              "titleId             0\n",
              "ordering            0\n",
              "title               0\n",
              "region             55\n",
              "language            0\n",
              "types               0\n",
              "attributes          0\n",
              "isOriginalTitle     0\n",
              "dtype: int64"
            ]
          },
          "metadata": {
            "tags": []
          },
          "execution_count": 4
        }
      ]
    },
    {
      "metadata": {
        "id": "wOeFtemwKI8Y",
        "colab_type": "code",
        "outputId": "5399bea4-7ac6-4316-c42a-9f7c742b3583",
        "colab": {
          "base_uri": "https://localhost:8080/",
          "height": 195
        }
      },
      "cell_type": "code",
      "source": [
        "#Cleaning - drop emptiest cols and cols that aren't useful to main df, then filter by original title\n",
        "#Then rename and reorganize the title id to be compatible with further dfs\n",
        "title = title.drop(columns= ['types', 'attributes', 'language', 'region', 'ordering'])\n",
        "title = title[title['isOriginalTitle'] == 1]\n",
        "title = title.rename(columns = {'titleId':'tconst'})\n",
        "title = title.reset_index(drop=True)\n",
        "title.head()"
      ],
      "execution_count": 0,
      "outputs": [
        {
          "output_type": "execute_result",
          "data": {
            "text/html": [
              "<div>\n",
              "<style scoped>\n",
              "    .dataframe tbody tr th:only-of-type {\n",
              "        vertical-align: middle;\n",
              "    }\n",
              "\n",
              "    .dataframe tbody tr th {\n",
              "        vertical-align: top;\n",
              "    }\n",
              "\n",
              "    .dataframe thead th {\n",
              "        text-align: right;\n",
              "    }\n",
              "</style>\n",
              "<table border=\"1\" class=\"dataframe\">\n",
              "  <thead>\n",
              "    <tr style=\"text-align: right;\">\n",
              "      <th></th>\n",
              "      <th>tconst</th>\n",
              "      <th>title</th>\n",
              "      <th>isOriginalTitle</th>\n",
              "    </tr>\n",
              "  </thead>\n",
              "  <tbody>\n",
              "    <tr>\n",
              "      <th>0</th>\n",
              "      <td>tt0000001</td>\n",
              "      <td>Carmencita</td>\n",
              "      <td>1</td>\n",
              "    </tr>\n",
              "    <tr>\n",
              "      <th>1</th>\n",
              "      <td>tt0000002</td>\n",
              "      <td>Le clown et ses chiens</td>\n",
              "      <td>1</td>\n",
              "    </tr>\n",
              "    <tr>\n",
              "      <th>2</th>\n",
              "      <td>tt0000003</td>\n",
              "      <td>Pauvre Pierrot</td>\n",
              "      <td>1</td>\n",
              "    </tr>\n",
              "    <tr>\n",
              "      <th>3</th>\n",
              "      <td>tt0000004</td>\n",
              "      <td>Un bon bock</td>\n",
              "      <td>1</td>\n",
              "    </tr>\n",
              "    <tr>\n",
              "      <th>4</th>\n",
              "      <td>tt0000005</td>\n",
              "      <td>Blacksmith Scene</td>\n",
              "      <td>1</td>\n",
              "    </tr>\n",
              "  </tbody>\n",
              "</table>\n",
              "</div>"
            ],
            "text/plain": [
              "      tconst                   title isOriginalTitle\n",
              "0  tt0000001              Carmencita               1\n",
              "1  tt0000002  Le clown et ses chiens               1\n",
              "2  tt0000003          Pauvre Pierrot               1\n",
              "3  tt0000004             Un bon bock               1\n",
              "4  tt0000005        Blacksmith Scene               1"
            ]
          },
          "metadata": {
            "tags": []
          },
          "execution_count": 3
        }
      ]
    },
    {
      "metadata": {
        "id": "pIau0AAkSHC-",
        "colab_type": "code",
        "outputId": "ab7a2ace-762d-4af6-cb20-43ccb2c16d6f",
        "colab": {
          "base_uri": "https://localhost:8080/",
          "height": 34
        }
      },
      "cell_type": "code",
      "source": [
        "title.shape"
      ],
      "execution_count": 0,
      "outputs": [
        {
          "output_type": "execute_result",
          "data": {
            "text/plain": [
              "(50581, 3)"
            ]
          },
          "metadata": {
            "tags": []
          },
          "execution_count": 6
        }
      ]
    },
    {
      "metadata": {
        "id": "Fa53zPkYSMY8",
        "colab_type": "code",
        "outputId": "287fe7e8-0e92-4c27-f34d-97d63ec0806e",
        "colab": {
          "base_uri": "https://localhost:8080/",
          "height": 34
        }
      },
      "cell_type": "code",
      "source": [
        "title = title.replace({r'\\N': np.nan}) #oh my god\n",
        "#titles with missing values are probably too obscure to matter, so I'll drop nan rows\n",
        "title = title.dropna()\n",
        "title.shape"
      ],
      "execution_count": 0,
      "outputs": [
        {
          "output_type": "execute_result",
          "data": {
            "text/plain": [
              "(50581, 3)"
            ]
          },
          "metadata": {
            "tags": []
          },
          "execution_count": 4
        }
      ]
    },
    {
      "metadata": {
        "id": "Su3MPjWxubaF",
        "colab_type": "code",
        "outputId": "d2d0e6f6-7cb4-462a-b0a3-db33cd87b9ba",
        "colab": {
          "base_uri": "https://localhost:8080/",
          "height": 218
        }
      },
      "cell_type": "code",
      "source": [
        "#Attributes of film\n",
        "basics = pd.read_table(\"https://datasets.imdbws.com/title.basics.tsv.gz\")\n",
        "basics.dtypes"
      ],
      "execution_count": 0,
      "outputs": [
        {
          "output_type": "stream",
          "text": [
            "/usr/local/lib/python3.6/dist-packages/IPython/core/interactiveshell.py:2718: DtypeWarning: Columns (5) have mixed types. Specify dtype option on import or set low_memory=False.\n",
            "  interactivity=interactivity, compiler=compiler, result=result)\n"
          ],
          "name": "stderr"
        },
        {
          "output_type": "execute_result",
          "data": {
            "text/plain": [
              "tconst            object\n",
              "titleType         object\n",
              "primaryTitle      object\n",
              "originalTitle     object\n",
              "isAdult            int64\n",
              "startYear         object\n",
              "endYear           object\n",
              "runtimeMinutes    object\n",
              "genres            object\n",
              "dtype: object"
            ]
          },
          "metadata": {
            "tags": []
          },
          "execution_count": 5
        }
      ]
    },
    {
      "metadata": {
        "id": "bIuOfHLhu87P",
        "colab_type": "code",
        "outputId": "8f71d0b3-0820-4140-a92e-4ce0ed70605d",
        "colab": {
          "base_uri": "https://localhost:8080/",
          "height": 195
        }
      },
      "cell_type": "code",
      "source": [
        "basics.head()"
      ],
      "execution_count": 0,
      "outputs": [
        {
          "output_type": "execute_result",
          "data": {
            "text/html": [
              "<div>\n",
              "<style scoped>\n",
              "    .dataframe tbody tr th:only-of-type {\n",
              "        vertical-align: middle;\n",
              "    }\n",
              "\n",
              "    .dataframe tbody tr th {\n",
              "        vertical-align: top;\n",
              "    }\n",
              "\n",
              "    .dataframe thead th {\n",
              "        text-align: right;\n",
              "    }\n",
              "</style>\n",
              "<table border=\"1\" class=\"dataframe\">\n",
              "  <thead>\n",
              "    <tr style=\"text-align: right;\">\n",
              "      <th></th>\n",
              "      <th>tconst</th>\n",
              "      <th>titleType</th>\n",
              "      <th>primaryTitle</th>\n",
              "      <th>originalTitle</th>\n",
              "      <th>isAdult</th>\n",
              "      <th>startYear</th>\n",
              "      <th>endYear</th>\n",
              "      <th>runtimeMinutes</th>\n",
              "      <th>genres</th>\n",
              "    </tr>\n",
              "  </thead>\n",
              "  <tbody>\n",
              "    <tr>\n",
              "      <th>0</th>\n",
              "      <td>tt0000001</td>\n",
              "      <td>short</td>\n",
              "      <td>Carmencita</td>\n",
              "      <td>Carmencita</td>\n",
              "      <td>0</td>\n",
              "      <td>1894</td>\n",
              "      <td>\\N</td>\n",
              "      <td>1</td>\n",
              "      <td>Documentary,Short</td>\n",
              "    </tr>\n",
              "    <tr>\n",
              "      <th>1</th>\n",
              "      <td>tt0000002</td>\n",
              "      <td>short</td>\n",
              "      <td>Le clown et ses chiens</td>\n",
              "      <td>Le clown et ses chiens</td>\n",
              "      <td>0</td>\n",
              "      <td>1892</td>\n",
              "      <td>\\N</td>\n",
              "      <td>5</td>\n",
              "      <td>Animation,Short</td>\n",
              "    </tr>\n",
              "    <tr>\n",
              "      <th>2</th>\n",
              "      <td>tt0000003</td>\n",
              "      <td>short</td>\n",
              "      <td>Pauvre Pierrot</td>\n",
              "      <td>Pauvre Pierrot</td>\n",
              "      <td>0</td>\n",
              "      <td>1892</td>\n",
              "      <td>\\N</td>\n",
              "      <td>4</td>\n",
              "      <td>Animation,Comedy,Romance</td>\n",
              "    </tr>\n",
              "    <tr>\n",
              "      <th>3</th>\n",
              "      <td>tt0000004</td>\n",
              "      <td>short</td>\n",
              "      <td>Un bon bock</td>\n",
              "      <td>Un bon bock</td>\n",
              "      <td>0</td>\n",
              "      <td>1892</td>\n",
              "      <td>\\N</td>\n",
              "      <td>\\N</td>\n",
              "      <td>Animation,Short</td>\n",
              "    </tr>\n",
              "    <tr>\n",
              "      <th>4</th>\n",
              "      <td>tt0000005</td>\n",
              "      <td>short</td>\n",
              "      <td>Blacksmith Scene</td>\n",
              "      <td>Blacksmith Scene</td>\n",
              "      <td>0</td>\n",
              "      <td>1893</td>\n",
              "      <td>\\N</td>\n",
              "      <td>1</td>\n",
              "      <td>Comedy,Short</td>\n",
              "    </tr>\n",
              "  </tbody>\n",
              "</table>\n",
              "</div>"
            ],
            "text/plain": [
              "      tconst titleType            primaryTitle           originalTitle  \\\n",
              "0  tt0000001     short              Carmencita              Carmencita   \n",
              "1  tt0000002     short  Le clown et ses chiens  Le clown et ses chiens   \n",
              "2  tt0000003     short          Pauvre Pierrot          Pauvre Pierrot   \n",
              "3  tt0000004     short             Un bon bock             Un bon bock   \n",
              "4  tt0000005     short        Blacksmith Scene        Blacksmith Scene   \n",
              "\n",
              "   isAdult startYear endYear runtimeMinutes                    genres  \n",
              "0        0      1894      \\N              1         Documentary,Short  \n",
              "1        0      1892      \\N              5           Animation,Short  \n",
              "2        0      1892      \\N              4  Animation,Comedy,Romance  \n",
              "3        0      1892      \\N             \\N           Animation,Short  \n",
              "4        0      1893      \\N              1              Comedy,Short  "
            ]
          },
          "metadata": {
            "tags": []
          },
          "execution_count": 8
        }
      ]
    },
    {
      "metadata": {
        "id": "gVpdNdMgu9Ht",
        "colab_type": "code",
        "outputId": "2008afd8-a312-4fb3-a125-dc97f0d9e1d7",
        "colab": {
          "base_uri": "https://localhost:8080/",
          "height": 185
        }
      },
      "cell_type": "code",
      "source": [
        "basics = basics.replace({r'\\N': np.nan})\n",
        "basics.isnull().sum() #primary and original title aren't needed anyway #I think it's valuable to keep genre"
      ],
      "execution_count": 0,
      "outputs": [
        {
          "output_type": "execute_result",
          "data": {
            "text/plain": [
              "tconst                  0\n",
              "titleType               0\n",
              "primaryTitle            6\n",
              "originalTitle         181\n",
              "isAdult                 0\n",
              "startYear          310240\n",
              "endYear           5558614\n",
              "runtimeMinutes    3903283\n",
              "genres             440614\n",
              "dtype: int64"
            ]
          },
          "metadata": {
            "tags": []
          },
          "execution_count": 6
        }
      ]
    },
    {
      "metadata": {
        "id": "BCM41fwUwHmt",
        "colab_type": "code",
        "outputId": "850d886e-0534-4d00-d883-0dd3504ed7ca",
        "colab": {
          "base_uri": "https://localhost:8080/",
          "height": 202
        }
      },
      "cell_type": "code",
      "source": [
        "basics.titleType.value_counts()"
      ],
      "execution_count": 0,
      "outputs": [
        {
          "output_type": "execute_result",
          "data": {
            "text/plain": [
              "tvEpisode       3851608\n",
              "short            664113\n",
              "movie            509937\n",
              "video            221370\n",
              "tvSeries         159202\n",
              "tvMovie          126278\n",
              "tvMiniSeries      24666\n",
              "videoGame         22868\n",
              "tvSpecial         15602\n",
              "tvShort            9018\n",
              "Name: titleType, dtype: int64"
            ]
          },
          "metadata": {
            "tags": []
          },
          "execution_count": 14
        }
      ]
    },
    {
      "metadata": {
        "id": "V2Sy3nHOvcc1",
        "colab_type": "code",
        "outputId": "5eeb9f43-1710-4841-d731-7567c99a2337",
        "colab": {
          "base_uri": "https://localhost:8080/",
          "height": 195
        }
      },
      "cell_type": "code",
      "source": [
        "basics = basics.drop(columns=['primaryTitle', 'originalTitle', 'endYear'])\n",
        "basics = basics[basics['titleType']=='movie']\n",
        "basics = basics.dropna()\n",
        "basics.head()"
      ],
      "execution_count": 0,
      "outputs": [
        {
          "output_type": "execute_result",
          "data": {
            "text/html": [
              "<div>\n",
              "<style scoped>\n",
              "    .dataframe tbody tr th:only-of-type {\n",
              "        vertical-align: middle;\n",
              "    }\n",
              "\n",
              "    .dataframe tbody tr th {\n",
              "        vertical-align: top;\n",
              "    }\n",
              "\n",
              "    .dataframe thead th {\n",
              "        text-align: right;\n",
              "    }\n",
              "</style>\n",
              "<table border=\"1\" class=\"dataframe\">\n",
              "  <thead>\n",
              "    <tr style=\"text-align: right;\">\n",
              "      <th></th>\n",
              "      <th>tconst</th>\n",
              "      <th>titleType</th>\n",
              "      <th>isAdult</th>\n",
              "      <th>startYear</th>\n",
              "      <th>runtimeMinutes</th>\n",
              "      <th>genres</th>\n",
              "    </tr>\n",
              "  </thead>\n",
              "  <tbody>\n",
              "    <tr>\n",
              "      <th>8</th>\n",
              "      <td>tt0000009</td>\n",
              "      <td>movie</td>\n",
              "      <td>0</td>\n",
              "      <td>1894</td>\n",
              "      <td>45</td>\n",
              "      <td>Romance</td>\n",
              "    </tr>\n",
              "    <tr>\n",
              "      <th>145</th>\n",
              "      <td>tt0000147</td>\n",
              "      <td>movie</td>\n",
              "      <td>0</td>\n",
              "      <td>1897</td>\n",
              "      <td>20</td>\n",
              "      <td>Documentary,News,Sport</td>\n",
              "    </tr>\n",
              "    <tr>\n",
              "      <th>571</th>\n",
              "      <td>tt0000574</td>\n",
              "      <td>movie</td>\n",
              "      <td>0</td>\n",
              "      <td>1906</td>\n",
              "      <td>70</td>\n",
              "      <td>Biography,Crime,Drama</td>\n",
              "    </tr>\n",
              "    <tr>\n",
              "      <th>673</th>\n",
              "      <td>tt0000679</td>\n",
              "      <td>movie</td>\n",
              "      <td>0</td>\n",
              "      <td>1908</td>\n",
              "      <td>120</td>\n",
              "      <td>Adventure,Fantasy</td>\n",
              "    </tr>\n",
              "    <tr>\n",
              "      <th>1173</th>\n",
              "      <td>tt0001184</td>\n",
              "      <td>movie</td>\n",
              "      <td>0</td>\n",
              "      <td>1910</td>\n",
              "      <td>58</td>\n",
              "      <td>Adventure,Drama</td>\n",
              "    </tr>\n",
              "  </tbody>\n",
              "</table>\n",
              "</div>"
            ],
            "text/plain": [
              "         tconst titleType  isAdult startYear runtimeMinutes  \\\n",
              "8     tt0000009     movie        0      1894             45   \n",
              "145   tt0000147     movie        0      1897             20   \n",
              "571   tt0000574     movie        0      1906             70   \n",
              "673   tt0000679     movie        0      1908            120   \n",
              "1173  tt0001184     movie        0      1910             58   \n",
              "\n",
              "                      genres  \n",
              "8                    Romance  \n",
              "145   Documentary,News,Sport  \n",
              "571    Biography,Crime,Drama  \n",
              "673        Adventure,Fantasy  \n",
              "1173         Adventure,Drama  "
            ]
          },
          "metadata": {
            "tags": []
          },
          "execution_count": 7
        }
      ]
    },
    {
      "metadata": {
        "id": "nsoUhosqN80z",
        "colab_type": "code",
        "outputId": "bbc5a279-b12f-4de1-e867-f7bc88568827",
        "colab": {
          "base_uri": "https://localhost:8080/",
          "height": 134
        }
      },
      "cell_type": "code",
      "source": [
        "#Directors and staff of film\n",
        "director = pd.read_table(\"https://datasets.imdbws.com/name.basics.tsv.gz\")\n",
        "director.dtypes"
      ],
      "execution_count": 0,
      "outputs": [
        {
          "output_type": "execute_result",
          "data": {
            "text/plain": [
              "nconst               object\n",
              "primaryName          object\n",
              "birthYear            object\n",
              "deathYear            object\n",
              "primaryProfession    object\n",
              "knownForTitles       object\n",
              "dtype: object"
            ]
          },
          "metadata": {
            "tags": []
          },
          "execution_count": 12
        }
      ]
    },
    {
      "metadata": {
        "id": "pes_NImMOaXw",
        "colab_type": "code",
        "outputId": "d91f9797-c98b-4b70-cae7-607a307962bc",
        "colab": {
          "base_uri": "https://localhost:8080/",
          "height": 195
        }
      },
      "cell_type": "code",
      "source": [
        "director.head()"
      ],
      "execution_count": 0,
      "outputs": [
        {
          "output_type": "execute_result",
          "data": {
            "text/html": [
              "<div>\n",
              "<style scoped>\n",
              "    .dataframe tbody tr th:only-of-type {\n",
              "        vertical-align: middle;\n",
              "    }\n",
              "\n",
              "    .dataframe tbody tr th {\n",
              "        vertical-align: top;\n",
              "    }\n",
              "\n",
              "    .dataframe thead th {\n",
              "        text-align: right;\n",
              "    }\n",
              "</style>\n",
              "<table border=\"1\" class=\"dataframe\">\n",
              "  <thead>\n",
              "    <tr style=\"text-align: right;\">\n",
              "      <th></th>\n",
              "      <th>nconst</th>\n",
              "      <th>primaryName</th>\n",
              "      <th>birthYear</th>\n",
              "      <th>deathYear</th>\n",
              "      <th>primaryProfession</th>\n",
              "      <th>knownForTitles</th>\n",
              "    </tr>\n",
              "  </thead>\n",
              "  <tbody>\n",
              "    <tr>\n",
              "      <th>0</th>\n",
              "      <td>nm0000001</td>\n",
              "      <td>Fred Astaire</td>\n",
              "      <td>1899</td>\n",
              "      <td>1987</td>\n",
              "      <td>soundtrack,actor,miscellaneous</td>\n",
              "      <td>tt0072308,tt0050419,tt0053137,tt0043044</td>\n",
              "    </tr>\n",
              "    <tr>\n",
              "      <th>1</th>\n",
              "      <td>nm0000002</td>\n",
              "      <td>Lauren Bacall</td>\n",
              "      <td>1924</td>\n",
              "      <td>2014</td>\n",
              "      <td>actress,soundtrack</td>\n",
              "      <td>tt0037382,tt0117057,tt0071877,tt0038355</td>\n",
              "    </tr>\n",
              "    <tr>\n",
              "      <th>2</th>\n",
              "      <td>nm0000003</td>\n",
              "      <td>Brigitte Bardot</td>\n",
              "      <td>1934</td>\n",
              "      <td>\\N</td>\n",
              "      <td>actress,soundtrack,producer</td>\n",
              "      <td>tt0057345,tt0049189,tt0059956,tt0054452</td>\n",
              "    </tr>\n",
              "    <tr>\n",
              "      <th>3</th>\n",
              "      <td>nm0000004</td>\n",
              "      <td>John Belushi</td>\n",
              "      <td>1949</td>\n",
              "      <td>1982</td>\n",
              "      <td>actor,writer,soundtrack</td>\n",
              "      <td>tt0080455,tt0072562,tt0077975,tt0078723</td>\n",
              "    </tr>\n",
              "    <tr>\n",
              "      <th>4</th>\n",
              "      <td>nm0000005</td>\n",
              "      <td>Ingmar Bergman</td>\n",
              "      <td>1918</td>\n",
              "      <td>2007</td>\n",
              "      <td>writer,director,actor</td>\n",
              "      <td>tt0050976,tt0083922,tt0069467,tt0050986</td>\n",
              "    </tr>\n",
              "  </tbody>\n",
              "</table>\n",
              "</div>"
            ],
            "text/plain": [
              "      nconst      primaryName birthYear deathYear  \\\n",
              "0  nm0000001     Fred Astaire      1899      1987   \n",
              "1  nm0000002    Lauren Bacall      1924      2014   \n",
              "2  nm0000003  Brigitte Bardot      1934        \\N   \n",
              "3  nm0000004     John Belushi      1949      1982   \n",
              "4  nm0000005   Ingmar Bergman      1918      2007   \n",
              "\n",
              "                primaryProfession                           knownForTitles  \n",
              "0  soundtrack,actor,miscellaneous  tt0072308,tt0050419,tt0053137,tt0043044  \n",
              "1              actress,soundtrack  tt0037382,tt0117057,tt0071877,tt0038355  \n",
              "2     actress,soundtrack,producer  tt0057345,tt0049189,tt0059956,tt0054452  \n",
              "3         actor,writer,soundtrack  tt0080455,tt0072562,tt0077975,tt0078723  \n",
              "4           writer,director,actor  tt0050976,tt0083922,tt0069467,tt0050986  "
            ]
          },
          "metadata": {
            "tags": []
          },
          "execution_count": 9
        }
      ]
    },
    {
      "metadata": {
        "id": "f7BYn8ALeM6p",
        "colab_type": "code",
        "outputId": "b402805e-cc20-4491-9d48-209f04ec20cb",
        "colab": {
          "base_uri": "https://localhost:8080/",
          "height": 34
        }
      },
      "cell_type": "code",
      "source": [
        "director.shape"
      ],
      "execution_count": 0,
      "outputs": [
        {
          "output_type": "execute_result",
          "data": {
            "text/plain": [
              "(9113821, 6)"
            ]
          },
          "metadata": {
            "tags": []
          },
          "execution_count": 19
        }
      ]
    },
    {
      "metadata": {
        "id": "VqBXYsv8PjRx",
        "colab_type": "code",
        "outputId": "3e0ec20f-d71f-463a-b28e-9a93e9e2373c",
        "colab": {
          "base_uri": "https://localhost:8080/",
          "height": 134
        }
      },
      "cell_type": "code",
      "source": [
        "director = director.replace({r'\\N': np.nan})\n",
        "director.isnull().sum()"
      ],
      "execution_count": 0,
      "outputs": [
        {
          "output_type": "execute_result",
          "data": {
            "text/plain": [
              "nconst                     0\n",
              "primaryName                0\n",
              "birthYear            8641098\n",
              "deathYear            8949865\n",
              "primaryProfession    1632075\n",
              "knownForTitles       1210998\n",
              "dtype: int64"
            ]
          },
          "metadata": {
            "tags": []
          },
          "execution_count": 13
        }
      ]
    },
    {
      "metadata": {
        "id": "aZAd-KBqPrnB",
        "colab_type": "code",
        "outputId": "6dccb913-fe14-4135-d3ec-92928a4296b2",
        "colab": {
          "base_uri": "https://localhost:8080/",
          "height": 195
        }
      },
      "cell_type": "code",
      "source": [
        "director = director.drop(columns=['primaryProfession', 'deathYear', 'knownForTitles', 'birthYear'])\n",
        "director = director.rename(columns = {'nconst':'directors'})\n",
        "director.head()"
      ],
      "execution_count": 0,
      "outputs": [
        {
          "output_type": "execute_result",
          "data": {
            "text/html": [
              "<div>\n",
              "<style scoped>\n",
              "    .dataframe tbody tr th:only-of-type {\n",
              "        vertical-align: middle;\n",
              "    }\n",
              "\n",
              "    .dataframe tbody tr th {\n",
              "        vertical-align: top;\n",
              "    }\n",
              "\n",
              "    .dataframe thead th {\n",
              "        text-align: right;\n",
              "    }\n",
              "</style>\n",
              "<table border=\"1\" class=\"dataframe\">\n",
              "  <thead>\n",
              "    <tr style=\"text-align: right;\">\n",
              "      <th></th>\n",
              "      <th>directors</th>\n",
              "      <th>primaryName</th>\n",
              "    </tr>\n",
              "  </thead>\n",
              "  <tbody>\n",
              "    <tr>\n",
              "      <th>0</th>\n",
              "      <td>nm0000001</td>\n",
              "      <td>Fred Astaire</td>\n",
              "    </tr>\n",
              "    <tr>\n",
              "      <th>1</th>\n",
              "      <td>nm0000002</td>\n",
              "      <td>Lauren Bacall</td>\n",
              "    </tr>\n",
              "    <tr>\n",
              "      <th>2</th>\n",
              "      <td>nm0000003</td>\n",
              "      <td>Brigitte Bardot</td>\n",
              "    </tr>\n",
              "    <tr>\n",
              "      <th>3</th>\n",
              "      <td>nm0000004</td>\n",
              "      <td>John Belushi</td>\n",
              "    </tr>\n",
              "    <tr>\n",
              "      <th>4</th>\n",
              "      <td>nm0000005</td>\n",
              "      <td>Ingmar Bergman</td>\n",
              "    </tr>\n",
              "  </tbody>\n",
              "</table>\n",
              "</div>"
            ],
            "text/plain": [
              "   directors      primaryName\n",
              "0  nm0000001     Fred Astaire\n",
              "1  nm0000002    Lauren Bacall\n",
              "2  nm0000003  Brigitte Bardot\n",
              "3  nm0000004     John Belushi\n",
              "4  nm0000005   Ingmar Bergman"
            ]
          },
          "metadata": {
            "tags": []
          },
          "execution_count": 15
        }
      ]
    },
    {
      "metadata": {
        "id": "IsOTvU8_QThO",
        "colab_type": "code",
        "outputId": "c8286667-8c8a-46ae-8f84-31faee02740e",
        "colab": {
          "base_uri": "https://localhost:8080/",
          "height": 84
        }
      },
      "cell_type": "code",
      "source": [
        "#critical rating of film\n",
        "review = pd.read_table(\"https://datasets.imdbws.com/title.ratings.tsv.gz\")\n",
        "review.dtypes"
      ],
      "execution_count": 0,
      "outputs": [
        {
          "output_type": "execute_result",
          "data": {
            "text/plain": [
              "tconst            object\n",
              "averageRating    float64\n",
              "numVotes           int64\n",
              "dtype: object"
            ]
          },
          "metadata": {
            "tags": []
          },
          "execution_count": 16
        }
      ]
    },
    {
      "metadata": {
        "id": "9o0uePSYQZmh",
        "colab_type": "code",
        "outputId": "314192b1-e1f9-440c-bf7b-47f817593790",
        "colab": {
          "base_uri": "https://localhost:8080/",
          "height": 195
        }
      },
      "cell_type": "code",
      "source": [
        "review.head()"
      ],
      "execution_count": 0,
      "outputs": [
        {
          "output_type": "execute_result",
          "data": {
            "text/html": [
              "<div>\n",
              "<style scoped>\n",
              "    .dataframe tbody tr th:only-of-type {\n",
              "        vertical-align: middle;\n",
              "    }\n",
              "\n",
              "    .dataframe tbody tr th {\n",
              "        vertical-align: top;\n",
              "    }\n",
              "\n",
              "    .dataframe thead th {\n",
              "        text-align: right;\n",
              "    }\n",
              "</style>\n",
              "<table border=\"1\" class=\"dataframe\">\n",
              "  <thead>\n",
              "    <tr style=\"text-align: right;\">\n",
              "      <th></th>\n",
              "      <th>tconst</th>\n",
              "      <th>averageRating</th>\n",
              "      <th>numVotes</th>\n",
              "    </tr>\n",
              "  </thead>\n",
              "  <tbody>\n",
              "    <tr>\n",
              "      <th>0</th>\n",
              "      <td>tt0000001</td>\n",
              "      <td>5.8</td>\n",
              "      <td>1457</td>\n",
              "    </tr>\n",
              "    <tr>\n",
              "      <th>1</th>\n",
              "      <td>tt0000002</td>\n",
              "      <td>6.4</td>\n",
              "      <td>175</td>\n",
              "    </tr>\n",
              "    <tr>\n",
              "      <th>2</th>\n",
              "      <td>tt0000002</td>\n",
              "      <td>6.4</td>\n",
              "      <td>175</td>\n",
              "    </tr>\n",
              "    <tr>\n",
              "      <th>3</th>\n",
              "      <td>tt0000003</td>\n",
              "      <td>6.5</td>\n",
              "      <td>1066</td>\n",
              "    </tr>\n",
              "    <tr>\n",
              "      <th>4</th>\n",
              "      <td>tt0000003</td>\n",
              "      <td>6.5</td>\n",
              "      <td>1066</td>\n",
              "    </tr>\n",
              "  </tbody>\n",
              "</table>\n",
              "</div>"
            ],
            "text/plain": [
              "      tconst  averageRating  numVotes\n",
              "0  tt0000001            5.8      1457\n",
              "1  tt0000002            6.4       175\n",
              "2  tt0000002            6.4       175\n",
              "3  tt0000003            6.5      1066\n",
              "4  tt0000003            6.5      1066"
            ]
          },
          "metadata": {
            "tags": []
          },
          "execution_count": 18
        }
      ]
    },
    {
      "metadata": {
        "id": "E6QnRnydQjJE",
        "colab_type": "code",
        "outputId": "940c492f-5ff6-4643-f151-829b977ac06f",
        "colab": {
          "base_uri": "https://localhost:8080/",
          "height": 84
        }
      },
      "cell_type": "code",
      "source": [
        "review = review.replace({r'\\N': np.nan})\n",
        "review.isnull().sum()"
      ],
      "execution_count": 0,
      "outputs": [
        {
          "output_type": "execute_result",
          "data": {
            "text/plain": [
              "tconst           0\n",
              "averageRating    0\n",
              "numVotes         0\n",
              "dtype: int64"
            ]
          },
          "metadata": {
            "tags": []
          },
          "execution_count": 17
        }
      ]
    },
    {
      "metadata": {
        "id": "tI6WxcJOQnW5",
        "colab_type": "code",
        "outputId": "0d4c7bc6-452d-4bd3-e3c5-b0021f3903f9",
        "colab": {
          "base_uri": "https://localhost:8080/",
          "height": 195
        }
      },
      "cell_type": "code",
      "source": [
        "#cleaning - drop rows with 1000 or less votes\n",
        "review = review[review['numVotes']>= 1000]\n",
        "review = review.reset_index(drop=True)\n",
        "review.head()"
      ],
      "execution_count": 0,
      "outputs": [
        {
          "output_type": "execute_result",
          "data": {
            "text/html": [
              "<div>\n",
              "<style scoped>\n",
              "    .dataframe tbody tr th:only-of-type {\n",
              "        vertical-align: middle;\n",
              "    }\n",
              "\n",
              "    .dataframe tbody tr th {\n",
              "        vertical-align: top;\n",
              "    }\n",
              "\n",
              "    .dataframe thead th {\n",
              "        text-align: right;\n",
              "    }\n",
              "</style>\n",
              "<table border=\"1\" class=\"dataframe\">\n",
              "  <thead>\n",
              "    <tr style=\"text-align: right;\">\n",
              "      <th></th>\n",
              "      <th>tconst</th>\n",
              "      <th>averageRating</th>\n",
              "      <th>numVotes</th>\n",
              "    </tr>\n",
              "  </thead>\n",
              "  <tbody>\n",
              "    <tr>\n",
              "      <th>0</th>\n",
              "      <td>tt0000001</td>\n",
              "      <td>5.8</td>\n",
              "      <td>1462</td>\n",
              "    </tr>\n",
              "    <tr>\n",
              "      <th>1</th>\n",
              "      <td>tt0000003</td>\n",
              "      <td>6.6</td>\n",
              "      <td>1075</td>\n",
              "    </tr>\n",
              "    <tr>\n",
              "      <th>2</th>\n",
              "      <td>tt0000005</td>\n",
              "      <td>6.2</td>\n",
              "      <td>1778</td>\n",
              "    </tr>\n",
              "    <tr>\n",
              "      <th>3</th>\n",
              "      <td>tt0000008</td>\n",
              "      <td>5.6</td>\n",
              "      <td>1562</td>\n",
              "    </tr>\n",
              "    <tr>\n",
              "      <th>4</th>\n",
              "      <td>tt0000010</td>\n",
              "      <td>6.9</td>\n",
              "      <td>5214</td>\n",
              "    </tr>\n",
              "  </tbody>\n",
              "</table>\n",
              "</div>"
            ],
            "text/plain": [
              "      tconst  averageRating  numVotes\n",
              "0  tt0000001            5.8      1462\n",
              "1  tt0000003            6.6      1075\n",
              "2  tt0000005            6.2      1778\n",
              "3  tt0000008            5.6      1562\n",
              "4  tt0000010            6.9      5214"
            ]
          },
          "metadata": {
            "tags": []
          },
          "execution_count": 18
        }
      ]
    },
    {
      "metadata": {
        "id": "Z1Jo58h4XNpT",
        "colab_type": "code",
        "outputId": "9ac6773e-10e4-4864-fd7f-e4493a4fea90",
        "colab": {
          "base_uri": "https://localhost:8080/",
          "height": 84
        }
      },
      "cell_type": "code",
      "source": [
        "#directors and writers of film by internal id\n",
        "directorid =  pd.read_table(\"https://datasets.imdbws.com/title.crew.tsv.gz\")\n",
        "directorid.dtypes"
      ],
      "execution_count": 0,
      "outputs": [
        {
          "output_type": "execute_result",
          "data": {
            "text/plain": [
              "tconst       object\n",
              "directors    object\n",
              "writers      object\n",
              "dtype: object"
            ]
          },
          "metadata": {
            "tags": []
          },
          "execution_count": 19
        }
      ]
    },
    {
      "metadata": {
        "id": "uEZL9RlpXnsJ",
        "colab_type": "code",
        "outputId": "0d03c8e6-2720-4bf2-cd1a-dc1bd26dc86f",
        "colab": {
          "base_uri": "https://localhost:8080/",
          "height": 195
        }
      },
      "cell_type": "code",
      "source": [
        "directorid.head()"
      ],
      "execution_count": 0,
      "outputs": [
        {
          "output_type": "execute_result",
          "data": {
            "text/html": [
              "<div>\n",
              "<style scoped>\n",
              "    .dataframe tbody tr th:only-of-type {\n",
              "        vertical-align: middle;\n",
              "    }\n",
              "\n",
              "    .dataframe tbody tr th {\n",
              "        vertical-align: top;\n",
              "    }\n",
              "\n",
              "    .dataframe thead th {\n",
              "        text-align: right;\n",
              "    }\n",
              "</style>\n",
              "<table border=\"1\" class=\"dataframe\">\n",
              "  <thead>\n",
              "    <tr style=\"text-align: right;\">\n",
              "      <th></th>\n",
              "      <th>tconst</th>\n",
              "      <th>directors</th>\n",
              "      <th>writers</th>\n",
              "    </tr>\n",
              "  </thead>\n",
              "  <tbody>\n",
              "    <tr>\n",
              "      <th>0</th>\n",
              "      <td>tt0000001</td>\n",
              "      <td>nm0005690</td>\n",
              "      <td>\\N</td>\n",
              "    </tr>\n",
              "    <tr>\n",
              "      <th>1</th>\n",
              "      <td>tt0000002</td>\n",
              "      <td>nm0721526</td>\n",
              "      <td>\\N</td>\n",
              "    </tr>\n",
              "    <tr>\n",
              "      <th>2</th>\n",
              "      <td>tt0000002</td>\n",
              "      <td>nm0721526</td>\n",
              "      <td>\\N</td>\n",
              "    </tr>\n",
              "    <tr>\n",
              "      <th>3</th>\n",
              "      <td>tt0000003</td>\n",
              "      <td>nm0721526</td>\n",
              "      <td>\\N</td>\n",
              "    </tr>\n",
              "    <tr>\n",
              "      <th>4</th>\n",
              "      <td>tt0000003</td>\n",
              "      <td>nm0721526</td>\n",
              "      <td>\\N</td>\n",
              "    </tr>\n",
              "  </tbody>\n",
              "</table>\n",
              "</div>"
            ],
            "text/plain": [
              "      tconst  directors writers\n",
              "0  tt0000001  nm0005690      \\N\n",
              "1  tt0000002  nm0721526      \\N\n",
              "2  tt0000002  nm0721526      \\N\n",
              "3  tt0000003  nm0721526      \\N\n",
              "4  tt0000003  nm0721526      \\N"
            ]
          },
          "metadata": {
            "tags": []
          },
          "execution_count": 22
        }
      ]
    },
    {
      "metadata": {
        "id": "DxvYBzYZXz5w",
        "colab_type": "code",
        "outputId": "36f26b3c-e3e2-4fb4-c94e-4fc9d9054be6",
        "colab": {
          "base_uri": "https://localhost:8080/",
          "height": 84
        }
      },
      "cell_type": "code",
      "source": [
        "directorid = directorid.replace({r'\\N': np.nan})\n",
        "directorid.isnull().sum()"
      ],
      "execution_count": 0,
      "outputs": [
        {
          "output_type": "execute_result",
          "data": {
            "text/plain": [
              "tconst             0\n",
              "directors    2363847\n",
              "writers      2784225\n",
              "dtype: int64"
            ]
          },
          "metadata": {
            "tags": []
          },
          "execution_count": 20
        }
      ]
    },
    {
      "metadata": {
        "id": "2H6lKYNoXr1d",
        "colab_type": "code",
        "outputId": "ddc6dd1d-c685-4a6c-e78f-0ba44ff4522b",
        "colab": {
          "base_uri": "https://localhost:8080/",
          "height": 195
        }
      },
      "cell_type": "code",
      "source": [
        "#cleaning - drop writers\n",
        "directorid = directorid.drop(columns='writers').dropna()\n",
        "directorid.head()"
      ],
      "execution_count": 0,
      "outputs": [
        {
          "output_type": "execute_result",
          "data": {
            "text/html": [
              "<div>\n",
              "<style scoped>\n",
              "    .dataframe tbody tr th:only-of-type {\n",
              "        vertical-align: middle;\n",
              "    }\n",
              "\n",
              "    .dataframe tbody tr th {\n",
              "        vertical-align: top;\n",
              "    }\n",
              "\n",
              "    .dataframe thead th {\n",
              "        text-align: right;\n",
              "    }\n",
              "</style>\n",
              "<table border=\"1\" class=\"dataframe\">\n",
              "  <thead>\n",
              "    <tr style=\"text-align: right;\">\n",
              "      <th></th>\n",
              "      <th>tconst</th>\n",
              "      <th>directors</th>\n",
              "    </tr>\n",
              "  </thead>\n",
              "  <tbody>\n",
              "    <tr>\n",
              "      <th>0</th>\n",
              "      <td>tt0000001</td>\n",
              "      <td>nm0005690</td>\n",
              "    </tr>\n",
              "    <tr>\n",
              "      <th>1</th>\n",
              "      <td>tt0000002</td>\n",
              "      <td>nm0721526</td>\n",
              "    </tr>\n",
              "    <tr>\n",
              "      <th>2</th>\n",
              "      <td>tt0000003</td>\n",
              "      <td>nm0721526</td>\n",
              "    </tr>\n",
              "    <tr>\n",
              "      <th>3</th>\n",
              "      <td>tt0000004</td>\n",
              "      <td>nm0721526</td>\n",
              "    </tr>\n",
              "    <tr>\n",
              "      <th>4</th>\n",
              "      <td>tt0000005</td>\n",
              "      <td>nm0005690</td>\n",
              "    </tr>\n",
              "  </tbody>\n",
              "</table>\n",
              "</div>"
            ],
            "text/plain": [
              "      tconst  directors\n",
              "0  tt0000001  nm0005690\n",
              "1  tt0000002  nm0721526\n",
              "2  tt0000003  nm0721526\n",
              "3  tt0000004  nm0721526\n",
              "4  tt0000005  nm0005690"
            ]
          },
          "metadata": {
            "tags": []
          },
          "execution_count": 21
        }
      ]
    },
    {
      "metadata": {
        "id": "8DShuLYSYVc4",
        "colab_type": "code",
        "outputId": "c7da56ca-63f7-4113-e00d-b97d1697c016",
        "colab": {
          "base_uri": "https://localhost:8080/",
          "height": 195
        }
      },
      "cell_type": "code",
      "source": [
        "#merging the datasets\n",
        "tconst = directorid.merge(review, on='tconst', how='inner')\n",
        "tconst = tconst.merge(title, on='tconst', how='inner')\n",
        "tconst = tconst.merge(basics, on='tconst', how='inner')\n",
        "imdb = tconst.merge(director, on='directors', how='inner')\n",
        "imdb = imdb.drop(columns=['isOriginalTitle','tconst','directors', 'titleType'])\n",
        "imdb = imdb.rename(columns = {'primaryName':'director'})\n",
        "imdb = imdb.sort_values('averageRating', ascending=True)\n",
        "imdb = imdb.drop_duplicates()\n",
        "imdb.head()"
      ],
      "execution_count": 0,
      "outputs": [
        {
          "output_type": "execute_result",
          "data": {
            "text/html": [
              "<div>\n",
              "<style scoped>\n",
              "    .dataframe tbody tr th:only-of-type {\n",
              "        vertical-align: middle;\n",
              "    }\n",
              "\n",
              "    .dataframe tbody tr th {\n",
              "        vertical-align: top;\n",
              "    }\n",
              "\n",
              "    .dataframe thead th {\n",
              "        text-align: right;\n",
              "    }\n",
              "</style>\n",
              "<table border=\"1\" class=\"dataframe\">\n",
              "  <thead>\n",
              "    <tr style=\"text-align: right;\">\n",
              "      <th></th>\n",
              "      <th>averageRating</th>\n",
              "      <th>numVotes</th>\n",
              "      <th>title</th>\n",
              "      <th>isAdult</th>\n",
              "      <th>startYear</th>\n",
              "      <th>runtimeMinutes</th>\n",
              "      <th>genres</th>\n",
              "      <th>director</th>\n",
              "    </tr>\n",
              "  </thead>\n",
              "  <tbody>\n",
              "    <tr>\n",
              "      <th>3136</th>\n",
              "      <td>1.3</td>\n",
              "      <td>3212</td>\n",
              "      <td>Li hai le, wo de guo</td>\n",
              "      <td>0</td>\n",
              "      <td>2018</td>\n",
              "      <td>90</td>\n",
              "      <td>Documentary</td>\n",
              "      <td>Tie Wei</td>\n",
              "    </tr>\n",
              "    <tr>\n",
              "      <th>3070</th>\n",
              "      <td>1.5</td>\n",
              "      <td>1859</td>\n",
              "      <td>Namaste England</td>\n",
              "      <td>0</td>\n",
              "      <td>2018</td>\n",
              "      <td>141</td>\n",
              "      <td>Comedy,Drama,Romance</td>\n",
              "      <td>Vipul Amrutlal Shah</td>\n",
              "    </tr>\n",
              "    <tr>\n",
              "      <th>996</th>\n",
              "      <td>1.7</td>\n",
              "      <td>1046</td>\n",
              "      <td>Ring of Terror</td>\n",
              "      <td>0</td>\n",
              "      <td>1961</td>\n",
              "      <td>71</td>\n",
              "      <td>Drama,Horror</td>\n",
              "      <td>Clark L. Paylow</td>\n",
              "    </tr>\n",
              "    <tr>\n",
              "      <th>3124</th>\n",
              "      <td>1.8</td>\n",
              "      <td>6810</td>\n",
              "      <td>A Sniper's War</td>\n",
              "      <td>0</td>\n",
              "      <td>2018</td>\n",
              "      <td>83</td>\n",
              "      <td>Documentary</td>\n",
              "      <td>Olya Schechter</td>\n",
              "    </tr>\n",
              "    <tr>\n",
              "      <th>2628</th>\n",
              "      <td>1.9</td>\n",
              "      <td>11570</td>\n",
              "      <td>Going Overboard</td>\n",
              "      <td>0</td>\n",
              "      <td>1989</td>\n",
              "      <td>99</td>\n",
              "      <td>Comedy</td>\n",
              "      <td>Valerie Breiman</td>\n",
              "    </tr>\n",
              "  </tbody>\n",
              "</table>\n",
              "</div>"
            ],
            "text/plain": [
              "      averageRating  numVotes                 title  isAdult startYear  \\\n",
              "3136            1.3      3212  Li hai le, wo de guo        0      2018   \n",
              "3070            1.5      1859       Namaste England        0      2018   \n",
              "996             1.7      1046        Ring of Terror        0      1961   \n",
              "3124            1.8      6810        A Sniper's War        0      2018   \n",
              "2628            1.9     11570       Going Overboard        0      1989   \n",
              "\n",
              "     runtimeMinutes                genres             director  \n",
              "3136             90           Documentary              Tie Wei  \n",
              "3070            141  Comedy,Drama,Romance  Vipul Amrutlal Shah  \n",
              "996              71          Drama,Horror      Clark L. Paylow  \n",
              "3124             83           Documentary       Olya Schechter  \n",
              "2628             99                Comedy      Valerie Breiman  "
            ]
          },
          "metadata": {
            "tags": []
          },
          "execution_count": 23
        }
      ]
    },
    {
      "metadata": {
        "id": "o_gYqWxOfFML",
        "colab_type": "code",
        "outputId": "2e55fa49-4875-479c-e3de-dca2042a9056",
        "colab": {
          "base_uri": "https://localhost:8080/",
          "height": 34
        }
      },
      "cell_type": "code",
      "source": [
        "imdb.shape"
      ],
      "execution_count": 0,
      "outputs": [
        {
          "output_type": "execute_result",
          "data": {
            "text/plain": [
              "(3179, 8)"
            ]
          },
          "metadata": {
            "tags": []
          },
          "execution_count": 24
        }
      ]
    },
    {
      "metadata": {
        "id": "PrOMEuxXCq9t",
        "colab_type": "code",
        "outputId": "7c731ea6-054c-4bcc-9a71-15ecbf3f69e7",
        "colab": {
          "base_uri": "https://localhost:8080/",
          "height": 168
        }
      },
      "cell_type": "code",
      "source": [
        "imdb = imdb.replace({r'\\N': np.nan})\n",
        "imdb.isnull().sum()"
      ],
      "execution_count": 0,
      "outputs": [
        {
          "output_type": "execute_result",
          "data": {
            "text/plain": [
              "averageRating     0\n",
              "numVotes          0\n",
              "title             0\n",
              "isAdult           0\n",
              "startYear         0\n",
              "runtimeMinutes    0\n",
              "genres            0\n",
              "director          0\n",
              "dtype: int64"
            ]
          },
          "metadata": {
            "tags": []
          },
          "execution_count": 26
        }
      ]
    },
    {
      "metadata": {
        "id": "Gb3NkH9EYpxk",
        "colab_type": "text"
      },
      "cell_type": "markdown",
      "source": [
        "# **What are the highest and lowest rated genres?**"
      ]
    },
    {
      "metadata": {
        "id": "wxvqmW7vYUn-",
        "colab_type": "code",
        "outputId": "bb5731fa-ab49-4e33-8929-de9083e09918",
        "colab": {
          "base_uri": "https://localhost:8080/",
          "height": 195
        }
      },
      "cell_type": "code",
      "source": [
        "#What are the highest and lowest rated genres?\n",
        "genre = imdb[['genres', 'averageRating']]\n",
        "genre.head()"
      ],
      "execution_count": 0,
      "outputs": [
        {
          "output_type": "execute_result",
          "data": {
            "text/html": [
              "<div>\n",
              "<style scoped>\n",
              "    .dataframe tbody tr th:only-of-type {\n",
              "        vertical-align: middle;\n",
              "    }\n",
              "\n",
              "    .dataframe tbody tr th {\n",
              "        vertical-align: top;\n",
              "    }\n",
              "\n",
              "    .dataframe thead th {\n",
              "        text-align: right;\n",
              "    }\n",
              "</style>\n",
              "<table border=\"1\" class=\"dataframe\">\n",
              "  <thead>\n",
              "    <tr style=\"text-align: right;\">\n",
              "      <th></th>\n",
              "      <th>genres</th>\n",
              "      <th>averageRating</th>\n",
              "    </tr>\n",
              "  </thead>\n",
              "  <tbody>\n",
              "    <tr>\n",
              "      <th>3136</th>\n",
              "      <td>Documentary</td>\n",
              "      <td>1.3</td>\n",
              "    </tr>\n",
              "    <tr>\n",
              "      <th>3070</th>\n",
              "      <td>Comedy,Drama,Romance</td>\n",
              "      <td>1.5</td>\n",
              "    </tr>\n",
              "    <tr>\n",
              "      <th>996</th>\n",
              "      <td>Drama,Horror</td>\n",
              "      <td>1.7</td>\n",
              "    </tr>\n",
              "    <tr>\n",
              "      <th>3124</th>\n",
              "      <td>Documentary</td>\n",
              "      <td>1.8</td>\n",
              "    </tr>\n",
              "    <tr>\n",
              "      <th>2628</th>\n",
              "      <td>Comedy</td>\n",
              "      <td>1.9</td>\n",
              "    </tr>\n",
              "  </tbody>\n",
              "</table>\n",
              "</div>"
            ],
            "text/plain": [
              "                    genres  averageRating\n",
              "3136           Documentary            1.3\n",
              "3070  Comedy,Drama,Romance            1.5\n",
              "996           Drama,Horror            1.7\n",
              "3124           Documentary            1.8\n",
              "2628                Comedy            1.9"
            ]
          },
          "metadata": {
            "tags": []
          },
          "execution_count": 27
        }
      ]
    },
    {
      "metadata": {
        "id": "XwEWWKIdKOdP",
        "colab_type": "code",
        "outputId": "5d30add0-e56d-4359-8ac0-66ba2f28647f",
        "colab": {
          "base_uri": "https://localhost:8080/",
          "height": 1075
        }
      },
      "cell_type": "code",
      "source": [
        "genre.groupby('genres').averageRating.nunique()\n",
        "#oh no"
      ],
      "execution_count": 0,
      "outputs": [
        {
          "output_type": "execute_result",
          "data": {
            "text/plain": [
              "genres\n",
              "Action                         6\n",
              "Action,Adventure               5\n",
              "Action,Adventure,Animation     4\n",
              "Action,Adventure,Biography     2\n",
              "Action,Adventure,Comedy       29\n",
              "Action,Adventure,Crime         8\n",
              "Action,Adventure,Drama        21\n",
              "Action,Adventure,Family        4\n",
              "Action,Adventure,Fantasy      16\n",
              "Action,Adventure,Horror        2\n",
              "Action,Adventure,Mystery       1\n",
              "Action,Adventure,Romance       2\n",
              "Action,Adventure,Sci-Fi       14\n",
              "Action,Adventure,Thriller     13\n",
              "Action,Adventure,Western       1\n",
              "Action,Animation,Comedy        3\n",
              "Action,Animation,Crime         1\n",
              "Action,Animation,Drama         1\n",
              "Action,Animation,Fantasy       2\n",
              "Action,Biography,Crime         1\n",
              "Action,Biography,Drama         3\n",
              "Action,Comedy                  9\n",
              "Action,Comedy,Crime           25\n",
              "Action,Comedy,Drama           13\n",
              "Action,Comedy,Family           4\n",
              "Action,Comedy,Fantasy          5\n",
              "Action,Comedy,History          1\n",
              "Action,Comedy,Horror           2\n",
              "Action,Comedy,Mystery          3\n",
              "Action,Comedy,Romance          6\n",
              "                              ..\n",
              "Fantasy,Sci-Fi,Thriller        1\n",
              "History,Romance,Western        1\n",
              "Horror                        38\n",
              "Horror,Music                   2\n",
              "Horror,Musical                 1\n",
              "Horror,Mystery                10\n",
              "Horror,Mystery,Romance         2\n",
              "Horror,Mystery,Sci-Fi          3\n",
              "Horror,Mystery,Thriller       15\n",
              "Horror,Romance                 1\n",
              "Horror,Romance,Sci-Fi          1\n",
              "Horror,Romance,Thriller        1\n",
              "Horror,Sci-Fi                 30\n",
              "Horror,Sci-Fi,Thriller         6\n",
              "Horror,Thriller               25\n",
              "Musical,Romance                1\n",
              "Musical,Romance,War            1\n",
              "Mystery                        2\n",
              "Mystery,Romance,Thriller       2\n",
              "Mystery,Thriller               8\n",
              "Romance                        3\n",
              "Romance,Sci-Fi                 1\n",
              "Romance,Thriller               2\n",
              "Romance,Thriller,Western       1\n",
              "Romance,Western                4\n",
              "Sci-Fi                         9\n",
              "Sci-Fi,Thriller                4\n",
              "Thriller                      10\n",
              "Thriller,War                   1\n",
              "Western                       11\n",
              "Name: averageRating, Length: 348, dtype: int64"
            ]
          },
          "metadata": {
            "tags": []
          },
          "execution_count": 28
        }
      ]
    },
    {
      "metadata": {
        "id": "yu8pXHxeIlzO",
        "colab_type": "code",
        "outputId": "d1a1a28e-b386-4c5e-f46b-71dc993fb728",
        "colab": {
          "base_uri": "https://localhost:8080/",
          "height": 339
        }
      },
      "cell_type": "code",
      "source": [
        "movielist = []\n",
        "moviemean = []\n",
        "\n",
        "for genres in ['Horror', 'Action', 'Romance', 'Adventure', 'Animation', 'Biography', 'Comedy', 'Crime', 'Drama',\n",
        "              'Family', 'Fantasy', 'Sci-Fi', 'Mystery', 'Thriller', 'Western']:\n",
        "  MoviesInGenre = genre[genre['genres'].str.contains(genres)]\n",
        "  m = MoviesInGenre.averageRating.mean()\n",
        "  movielist.append(genres)\n",
        "  moviemean.append(m)\n",
        "print(movielist)\n",
        "print(moviemean)\n",
        "Combined = pd.Series(data=moviemean, index=movielist).sort_values()\n",
        "Combined"
      ],
      "execution_count": 0,
      "outputs": [
        {
          "output_type": "stream",
          "text": [
            "['Horror', 'Action', 'Romance', 'Adventure', 'Animation', 'Biography', 'Comedy', 'Crime', 'Drama', 'Family', 'Fantasy', 'Sci-Fi', 'Mystery', 'Thriller', 'Western']\n",
            "[5.739767441860464, 6.140820312499994, 6.730537974683543, 6.299043062200953, 7.196226415094341, 7.25441176470588, 6.395976529756907, 6.610141987829615, 6.959988214496166, 6.373988439306356, 6.14655172413793, 5.632863849765261, 6.650253807106594, 6.321590909090902, 6.830434782608696]\n"
          ],
          "name": "stdout"
        },
        {
          "output_type": "execute_result",
          "data": {
            "text/plain": [
              "Sci-Fi       5.632864\n",
              "Horror       5.739767\n",
              "Action       6.140820\n",
              "Fantasy      6.146552\n",
              "Adventure    6.299043\n",
              "Thriller     6.321591\n",
              "Family       6.373988\n",
              "Comedy       6.395977\n",
              "Crime        6.610142\n",
              "Mystery      6.650254\n",
              "Romance      6.730538\n",
              "Western      6.830435\n",
              "Drama        6.959988\n",
              "Animation    7.196226\n",
              "Biography    7.254412\n",
              "dtype: float64"
            ]
          },
          "metadata": {
            "tags": []
          },
          "execution_count": 49
        }
      ]
    },
    {
      "metadata": {
        "id": "UNSwZtnZM16T",
        "colab_type": "code",
        "outputId": "d9ac3290-e86a-4379-f1b3-ccea2321ffa0",
        "colab": {
          "base_uri": "https://localhost:8080/",
          "height": 118
        }
      },
      "cell_type": "code",
      "source": [
        "#The 5 lowest rated genres\n",
        "Combined.head()"
      ],
      "execution_count": 0,
      "outputs": [
        {
          "output_type": "execute_result",
          "data": {
            "text/plain": [
              "Sci-Fi       5.632864\n",
              "Horror       5.739767\n",
              "Action       6.140820\n",
              "Fantasy      6.146552\n",
              "Adventure    6.299043\n",
              "dtype: float64"
            ]
          },
          "metadata": {
            "tags": []
          },
          "execution_count": 50
        }
      ]
    },
    {
      "metadata": {
        "id": "2PW7K23WNJsl",
        "colab_type": "code",
        "outputId": "5d8fc36a-7f61-4d32-c889-7f0f500b5579",
        "colab": {
          "base_uri": "https://localhost:8080/",
          "height": 118
        }
      },
      "cell_type": "code",
      "source": [
        "#The 5 highest rated genres\n",
        "Combined.tail()"
      ],
      "execution_count": 0,
      "outputs": [
        {
          "output_type": "execute_result",
          "data": {
            "text/plain": [
              "Romance      6.730538\n",
              "Western      6.830435\n",
              "Drama        6.959988\n",
              "Animation    7.196226\n",
              "Biography    7.254412\n",
              "dtype: float64"
            ]
          },
          "metadata": {
            "tags": []
          },
          "execution_count": 51
        }
      ]
    },
    {
      "metadata": {
        "id": "-0BgPRGLY3SM",
        "colab_type": "text"
      },
      "cell_type": "markdown",
      "source": [
        "# **Who are the highest and lowest rated directors?**"
      ]
    },
    {
      "metadata": {
        "id": "wGrORiJQyEUm",
        "colab_type": "code",
        "outputId": "cda1f6fd-a272-4401-8191-0db5938e7aa6",
        "colab": {
          "base_uri": "https://localhost:8080/",
          "height": 195
        }
      },
      "cell_type": "code",
      "source": [
        "#Who are the highest and lowest rated directors?\n",
        "directors = imdb[['director', 'averageRating']]\n",
        "directors.head()\n",
        "directorCount = directors.director.value_counts()\n",
        "#lots of directors with only 1 film with more than 1000 votes *cries in Errol Morris*\n",
        "MoreThan5 = directorCount[directorCount.values >= 5]\n",
        "MoreThan5 = MoreThan5.index.tolist()\n",
        "#our conditional list - theatre films with more than 1000 votes from directors with 5 or more other movies with 1000 votes\n",
        "directors = directors[directors.director.isin(MoreThan5)]\n",
        "directors.head()"
      ],
      "execution_count": 0,
      "outputs": [
        {
          "output_type": "execute_result",
          "data": {
            "text/html": [
              "<div>\n",
              "<style scoped>\n",
              "    .dataframe tbody tr th:only-of-type {\n",
              "        vertical-align: middle;\n",
              "    }\n",
              "\n",
              "    .dataframe tbody tr th {\n",
              "        vertical-align: top;\n",
              "    }\n",
              "\n",
              "    .dataframe thead th {\n",
              "        text-align: right;\n",
              "    }\n",
              "</style>\n",
              "<table border=\"1\" class=\"dataframe\">\n",
              "  <thead>\n",
              "    <tr style=\"text-align: right;\">\n",
              "      <th></th>\n",
              "      <th>director</th>\n",
              "      <th>averageRating</th>\n",
              "    </tr>\n",
              "  </thead>\n",
              "  <tbody>\n",
              "    <tr>\n",
              "      <th>198</th>\n",
              "      <td>Roger Corman</td>\n",
              "      <td>2.9</td>\n",
              "    </tr>\n",
              "    <tr>\n",
              "      <th>199</th>\n",
              "      <td>Roger Corman</td>\n",
              "      <td>3.1</td>\n",
              "    </tr>\n",
              "    <tr>\n",
              "      <th>2137</th>\n",
              "      <td>Albert Pyun</td>\n",
              "      <td>3.1</td>\n",
              "    </tr>\n",
              "    <tr>\n",
              "      <th>363</th>\n",
              "      <td>Bert I. Gordon</td>\n",
              "      <td>3.4</td>\n",
              "    </tr>\n",
              "    <tr>\n",
              "      <th>203</th>\n",
              "      <td>Roger Corman</td>\n",
              "      <td>3.4</td>\n",
              "    </tr>\n",
              "  </tbody>\n",
              "</table>\n",
              "</div>"
            ],
            "text/plain": [
              "            director  averageRating\n",
              "198     Roger Corman            2.9\n",
              "199     Roger Corman            3.1\n",
              "2137     Albert Pyun            3.1\n",
              "363   Bert I. Gordon            3.4\n",
              "203     Roger Corman            3.4"
            ]
          },
          "metadata": {
            "tags": []
          },
          "execution_count": 64
        }
      ]
    },
    {
      "metadata": {
        "id": "jm_5UV4cZJ2O",
        "colab_type": "code",
        "outputId": "a62de499-a496-49f0-c4bf-1d30618ffe54",
        "colab": {
          "base_uri": "https://localhost:8080/",
          "height": 225
        }
      },
      "cell_type": "code",
      "source": [
        "DirectorRating = directors.groupby(directors['director']).mean()\n",
        "#DirectorRating = DirectorRating.sort_values(by = DirectorRating.averageRating )\n",
        "type(DirectorRating) #dataframe\n",
        "DirectorRating.reset_index()\n",
        "DirectorRating = DirectorRating.sort_values(by = ['averageRating'])\n",
        "#The Absolute Worst\n",
        "DirectorRating.head()"
      ],
      "execution_count": 0,
      "outputs": [
        {
          "output_type": "execute_result",
          "data": {
            "text/html": [
              "<div>\n",
              "<style scoped>\n",
              "    .dataframe tbody tr th:only-of-type {\n",
              "        vertical-align: middle;\n",
              "    }\n",
              "\n",
              "    .dataframe tbody tr th {\n",
              "        vertical-align: top;\n",
              "    }\n",
              "\n",
              "    .dataframe thead th {\n",
              "        text-align: right;\n",
              "    }\n",
              "</style>\n",
              "<table border=\"1\" class=\"dataframe\">\n",
              "  <thead>\n",
              "    <tr style=\"text-align: right;\">\n",
              "      <th></th>\n",
              "      <th>averageRating</th>\n",
              "    </tr>\n",
              "    <tr>\n",
              "      <th>director</th>\n",
              "      <th></th>\n",
              "    </tr>\n",
              "  </thead>\n",
              "  <tbody>\n",
              "    <tr>\n",
              "      <th>Bert I. Gordon</th>\n",
              "      <td>4.140000</td>\n",
              "    </tr>\n",
              "    <tr>\n",
              "      <th>Albert Pyun</th>\n",
              "      <td>5.214286</td>\n",
              "    </tr>\n",
              "    <tr>\n",
              "      <th>Bob Clark</th>\n",
              "      <td>5.300000</td>\n",
              "    </tr>\n",
              "    <tr>\n",
              "      <th>Sam Firstenberg</th>\n",
              "      <td>5.383333</td>\n",
              "    </tr>\n",
              "    <tr>\n",
              "      <th>Mark L. Lester</th>\n",
              "      <td>5.633333</td>\n",
              "    </tr>\n",
              "  </tbody>\n",
              "</table>\n",
              "</div>"
            ],
            "text/plain": [
              "                 averageRating\n",
              "director                      \n",
              "Bert I. Gordon        4.140000\n",
              "Albert Pyun           5.214286\n",
              "Bob Clark             5.300000\n",
              "Sam Firstenberg       5.383333\n",
              "Mark L. Lester        5.633333"
            ]
          },
          "metadata": {
            "tags": []
          },
          "execution_count": 68
        }
      ]
    },
    {
      "metadata": {
        "id": "cfQy4BapRC15",
        "colab_type": "code",
        "outputId": "0290012a-c9b2-462e-b6b8-e004755d5982",
        "colab": {
          "base_uri": "https://localhost:8080/",
          "height": 225
        }
      },
      "cell_type": "code",
      "source": [
        "#The Best\n",
        "DirectorRating.tail()"
      ],
      "execution_count": 0,
      "outputs": [
        {
          "output_type": "execute_result",
          "data": {
            "text/html": [
              "<div>\n",
              "<style scoped>\n",
              "    .dataframe tbody tr th:only-of-type {\n",
              "        vertical-align: middle;\n",
              "    }\n",
              "\n",
              "    .dataframe tbody tr th {\n",
              "        vertical-align: top;\n",
              "    }\n",
              "\n",
              "    .dataframe thead th {\n",
              "        text-align: right;\n",
              "    }\n",
              "</style>\n",
              "<table border=\"1\" class=\"dataframe\">\n",
              "  <thead>\n",
              "    <tr style=\"text-align: right;\">\n",
              "      <th></th>\n",
              "      <th>averageRating</th>\n",
              "    </tr>\n",
              "    <tr>\n",
              "      <th>director</th>\n",
              "      <th></th>\n",
              "    </tr>\n",
              "  </thead>\n",
              "  <tbody>\n",
              "    <tr>\n",
              "      <th>Yasujirô Ozu</th>\n",
              "      <td>8.085714</td>\n",
              "    </tr>\n",
              "    <tr>\n",
              "      <th>Akira Kurosawa</th>\n",
              "      <td>8.085714</td>\n",
              "    </tr>\n",
              "    <tr>\n",
              "      <th>Stanley Kubrick</th>\n",
              "      <td>8.120000</td>\n",
              "    </tr>\n",
              "    <tr>\n",
              "      <th>Satyajit Ray</th>\n",
              "      <td>8.166667</td>\n",
              "    </tr>\n",
              "    <tr>\n",
              "      <th>Masaki Kobayashi</th>\n",
              "      <td>8.520000</td>\n",
              "    </tr>\n",
              "  </tbody>\n",
              "</table>\n",
              "</div>"
            ],
            "text/plain": [
              "                  averageRating\n",
              "director                       \n",
              "Yasujirô Ozu           8.085714\n",
              "Akira Kurosawa         8.085714\n",
              "Stanley Kubrick        8.120000\n",
              "Satyajit Ray           8.166667\n",
              "Masaki Kobayashi       8.520000"
            ]
          },
          "metadata": {
            "tags": []
          },
          "execution_count": 69
        }
      ]
    },
    {
      "metadata": {
        "id": "-4pw1PPlyP7p",
        "colab_type": "code",
        "colab": {}
      },
      "cell_type": "code",
      "source": [
        "#how does runtime effect rating?"
      ],
      "execution_count": 0,
      "outputs": []
    },
    {
      "metadata": {
        "id": "WqNke0GGyYHn",
        "colab_type": "code",
        "colab": {}
      },
      "cell_type": "code",
      "source": [
        "#do adult films have a different rating trend than non-adult films?"
      ],
      "execution_count": 0,
      "outputs": []
    },
    {
      "metadata": {
        "id": "tdgsHZJC0oUQ",
        "colab_type": "code",
        "colab": {}
      },
      "cell_type": "code",
      "source": [
        "#What were the best and worst decades for film? *cries in 2018*\n"
      ],
      "execution_count": 0,
      "outputs": []
    }
  ]
}