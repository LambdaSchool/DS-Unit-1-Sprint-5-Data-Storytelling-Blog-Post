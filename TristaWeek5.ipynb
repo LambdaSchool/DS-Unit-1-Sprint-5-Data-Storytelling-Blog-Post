{
  "nbformat": 4,
  "nbformat_minor": 0,
  "metadata": {
    "colab": {
      "name": "TristaWeek5.ipynb",
      "version": "0.3.2",
      "provenance": [],
      "collapsed_sections": [],
      "include_colab_link": true
    },
    "kernelspec": {
      "name": "python3",
      "display_name": "Python 3"
    }
  },
  "cells": [
    {
      "cell_type": "markdown",
      "metadata": {
        "id": "view-in-github",
        "colab_type": "text"
      },
      "source": [
        "<a href=\"https://colab.research.google.com/github/trista-paul/DS-Unit-1-Sprint-5-Data-Storytelling-Blog-Post/blob/master/TristaWeek5.ipynb\" target=\"_parent\"><img src=\"https://colab.research.google.com/assets/colab-badge.svg\" alt=\"Open In Colab\"/></a>"
      ]
    },
    {
      "metadata": {
        "id": "XZUFx8wcHlRZ",
        "colab_type": "code",
        "colab": {}
      },
      "cell_type": "code",
      "source": [
        "import pandas as pd\n",
        "import matplotlib.pyplot as plt\n",
        "import numpy as np"
      ],
      "execution_count": 0,
      "outputs": []
    },
    {
      "metadata": {
        "id": "p4U0hDxY86JN",
        "colab_type": "code",
        "outputId": "95111244-6ccd-4475-952d-0743a4c4f865",
        "colab": {
          "base_uri": "https://localhost:8080/",
          "height": 218
        }
      },
      "cell_type": "code",
      "source": [
        "!pip install --upgrade seaborn"
      ],
      "execution_count": 2,
      "outputs": [
        {
          "output_type": "stream",
          "text": [
            "Requirement already up-to-date: seaborn in /usr/local/lib/python3.6/dist-packages (0.9.0)\n",
            "Requirement already satisfied, skipping upgrade: scipy>=0.14.0 in /usr/local/lib/python3.6/dist-packages (from seaborn) (1.1.0)\n",
            "Requirement already satisfied, skipping upgrade: numpy>=1.9.3 in /usr/local/lib/python3.6/dist-packages (from seaborn) (1.14.6)\n",
            "Requirement already satisfied, skipping upgrade: matplotlib>=1.4.3 in /usr/local/lib/python3.6/dist-packages (from seaborn) (3.0.2)\n",
            "Requirement already satisfied, skipping upgrade: pandas>=0.15.2 in /usr/local/lib/python3.6/dist-packages (from seaborn) (0.22.0)\n",
            "Requirement already satisfied, skipping upgrade: kiwisolver>=1.0.1 in /usr/local/lib/python3.6/dist-packages (from matplotlib>=1.4.3->seaborn) (1.0.1)\n",
            "Requirement already satisfied, skipping upgrade: cycler>=0.10 in /usr/local/lib/python3.6/dist-packages (from matplotlib>=1.4.3->seaborn) (0.10.0)\n",
            "Requirement already satisfied, skipping upgrade: python-dateutil>=2.1 in /usr/local/lib/python3.6/dist-packages (from matplotlib>=1.4.3->seaborn) (2.5.3)\n",
            "Requirement already satisfied, skipping upgrade: pyparsing!=2.0.4,!=2.1.2,!=2.1.6,>=2.0.1 in /usr/local/lib/python3.6/dist-packages (from matplotlib>=1.4.3->seaborn) (2.3.1)\n",
            "Requirement already satisfied, skipping upgrade: pytz>=2011k in /usr/local/lib/python3.6/dist-packages (from pandas>=0.15.2->seaborn) (2018.9)\n",
            "Requirement already satisfied, skipping upgrade: setuptools in /usr/local/lib/python3.6/dist-packages (from kiwisolver>=1.0.1->matplotlib>=1.4.3->seaborn) (40.7.3)\n",
            "Requirement already satisfied, skipping upgrade: six in /usr/local/lib/python3.6/dist-packages (from cycler>=0.10->matplotlib>=1.4.3->seaborn) (1.11.0)\n"
          ],
          "name": "stdout"
        }
      ]
    },
    {
      "metadata": {
        "id": "wX24lGm_9JN4",
        "colab_type": "code",
        "colab": {}
      },
      "cell_type": "code",
      "source": [
        "import seaborn as sns"
      ],
      "execution_count": 0,
      "outputs": []
    },
    {
      "metadata": {
        "id": "YR-SAe-3JItM",
        "colab_type": "code",
        "outputId": "c4135d37-b927-4374-dd31-3a5a0f24a62d",
        "colab": {
          "base_uri": "https://localhost:8080/",
          "height": 202
        }
      },
      "cell_type": "code",
      "source": [
        "#title of film\n",
        "title = pd.read_table(\"https://datasets.imdbws.com/title.akas.tsv.gz\")\n",
        "title.dtypes"
      ],
      "execution_count": 4,
      "outputs": [
        {
          "output_type": "stream",
          "text": [
            "/usr/local/lib/python3.6/dist-packages/IPython/core/interactiveshell.py:2718: DtypeWarning: Columns (7) have mixed types. Specify dtype option on import or set low_memory=False.\n",
            "  interactivity=interactivity, compiler=compiler, result=result)\n"
          ],
          "name": "stderr"
        },
        {
          "output_type": "execute_result",
          "data": {
            "text/plain": [
              "titleId            object\n",
              "ordering            int64\n",
              "title              object\n",
              "region             object\n",
              "language           object\n",
              "types              object\n",
              "attributes         object\n",
              "isOriginalTitle    object\n",
              "dtype: object"
            ]
          },
          "metadata": {
            "tags": []
          },
          "execution_count": 4
        }
      ]
    },
    {
      "metadata": {
        "id": "bceirtfyJ1YW",
        "colab_type": "code",
        "outputId": "bc2bef7b-3d73-4213-8343-7e3dd9174e96",
        "colab": {
          "base_uri": "https://localhost:8080/",
          "height": 195
        }
      },
      "cell_type": "code",
      "source": [
        "title.head()\n",
        "#redundant values, high quantities of NaNs"
      ],
      "execution_count": 5,
      "outputs": [
        {
          "output_type": "execute_result",
          "data": {
            "text/html": [
              "<div>\n",
              "<style scoped>\n",
              "    .dataframe tbody tr th:only-of-type {\n",
              "        vertical-align: middle;\n",
              "    }\n",
              "\n",
              "    .dataframe tbody tr th {\n",
              "        vertical-align: top;\n",
              "    }\n",
              "\n",
              "    .dataframe thead th {\n",
              "        text-align: right;\n",
              "    }\n",
              "</style>\n",
              "<table border=\"1\" class=\"dataframe\">\n",
              "  <thead>\n",
              "    <tr style=\"text-align: right;\">\n",
              "      <th></th>\n",
              "      <th>titleId</th>\n",
              "      <th>ordering</th>\n",
              "      <th>title</th>\n",
              "      <th>region</th>\n",
              "      <th>language</th>\n",
              "      <th>types</th>\n",
              "      <th>attributes</th>\n",
              "      <th>isOriginalTitle</th>\n",
              "    </tr>\n",
              "  </thead>\n",
              "  <tbody>\n",
              "    <tr>\n",
              "      <th>0</th>\n",
              "      <td>tt0000001</td>\n",
              "      <td>1</td>\n",
              "      <td>Carmencita - spanyol tánc</td>\n",
              "      <td>HU</td>\n",
              "      <td>\\N</td>\n",
              "      <td>imdbDisplay</td>\n",
              "      <td>\\N</td>\n",
              "      <td>0</td>\n",
              "    </tr>\n",
              "    <tr>\n",
              "      <th>1</th>\n",
              "      <td>tt0000001</td>\n",
              "      <td>2</td>\n",
              "      <td>Καρμενσίτα</td>\n",
              "      <td>GR</td>\n",
              "      <td>\\N</td>\n",
              "      <td>\\N</td>\n",
              "      <td>\\N</td>\n",
              "      <td>0</td>\n",
              "    </tr>\n",
              "    <tr>\n",
              "      <th>2</th>\n",
              "      <td>tt0000001</td>\n",
              "      <td>3</td>\n",
              "      <td>Карменсита</td>\n",
              "      <td>RU</td>\n",
              "      <td>\\N</td>\n",
              "      <td>\\N</td>\n",
              "      <td>\\N</td>\n",
              "      <td>0</td>\n",
              "    </tr>\n",
              "    <tr>\n",
              "      <th>3</th>\n",
              "      <td>tt0000001</td>\n",
              "      <td>4</td>\n",
              "      <td>Carmencita</td>\n",
              "      <td>US</td>\n",
              "      <td>\\N</td>\n",
              "      <td>\\N</td>\n",
              "      <td>\\N</td>\n",
              "      <td>0</td>\n",
              "    </tr>\n",
              "    <tr>\n",
              "      <th>4</th>\n",
              "      <td>tt0000001</td>\n",
              "      <td>5</td>\n",
              "      <td>Carmencita</td>\n",
              "      <td>\\N</td>\n",
              "      <td>\\N</td>\n",
              "      <td>original</td>\n",
              "      <td>\\N</td>\n",
              "      <td>1</td>\n",
              "    </tr>\n",
              "  </tbody>\n",
              "</table>\n",
              "</div>"
            ],
            "text/plain": [
              "     titleId  ordering                      title region language  \\\n",
              "0  tt0000001         1  Carmencita - spanyol tánc     HU       \\N   \n",
              "1  tt0000001         2                 Καρμενσίτα     GR       \\N   \n",
              "2  tt0000001         3                 Карменсита     RU       \\N   \n",
              "3  tt0000001         4                 Carmencita     US       \\N   \n",
              "4  tt0000001         5                 Carmencita     \\N       \\N   \n",
              "\n",
              "         types attributes isOriginalTitle  \n",
              "0  imdbDisplay         \\N               0  \n",
              "1           \\N         \\N               0  \n",
              "2           \\N         \\N               0  \n",
              "3           \\N         \\N               0  \n",
              "4     original         \\N               1  "
            ]
          },
          "metadata": {
            "tags": []
          },
          "execution_count": 5
        }
      ]
    },
    {
      "metadata": {
        "id": "RFW5wD4rKweo",
        "colab_type": "code",
        "outputId": "6cb7993f-d7f5-40a6-dc48-0a3dccdd3f47",
        "colab": {
          "base_uri": "https://localhost:8080/",
          "height": 168
        }
      },
      "cell_type": "code",
      "source": [
        "title.isnull().sum() #...though they aren't encoded properly"
      ],
      "execution_count": 6,
      "outputs": [
        {
          "output_type": "execute_result",
          "data": {
            "text/plain": [
              "titleId             0\n",
              "ordering            0\n",
              "title               0\n",
              "region             55\n",
              "language            0\n",
              "types               0\n",
              "attributes          0\n",
              "isOriginalTitle     0\n",
              "dtype: int64"
            ]
          },
          "metadata": {
            "tags": []
          },
          "execution_count": 6
        }
      ]
    },
    {
      "metadata": {
        "id": "wOeFtemwKI8Y",
        "colab_type": "code",
        "outputId": "6f6b8680-7278-4160-ba9d-ece774eef7ac",
        "colab": {
          "base_uri": "https://localhost:8080/",
          "height": 195
        }
      },
      "cell_type": "code",
      "source": [
        "#Cleaning - drop emptiest cols and cols that aren't useful to main df, then filter by original title\n",
        "#Then rename and reorganize the title id to be compatible with further dfs\n",
        "title = title.drop(columns= ['types', 'attributes', 'language', 'region', 'ordering'])\n",
        "title = title[title['isOriginalTitle'] == 1]\n",
        "title = title.rename(columns = {'titleId':'tconst'})\n",
        "title = title.reset_index(drop=True)\n",
        "title.head()"
      ],
      "execution_count": 7,
      "outputs": [
        {
          "output_type": "execute_result",
          "data": {
            "text/html": [
              "<div>\n",
              "<style scoped>\n",
              "    .dataframe tbody tr th:only-of-type {\n",
              "        vertical-align: middle;\n",
              "    }\n",
              "\n",
              "    .dataframe tbody tr th {\n",
              "        vertical-align: top;\n",
              "    }\n",
              "\n",
              "    .dataframe thead th {\n",
              "        text-align: right;\n",
              "    }\n",
              "</style>\n",
              "<table border=\"1\" class=\"dataframe\">\n",
              "  <thead>\n",
              "    <tr style=\"text-align: right;\">\n",
              "      <th></th>\n",
              "      <th>tconst</th>\n",
              "      <th>title</th>\n",
              "      <th>isOriginalTitle</th>\n",
              "    </tr>\n",
              "  </thead>\n",
              "  <tbody>\n",
              "    <tr>\n",
              "      <th>0</th>\n",
              "      <td>tt0000001</td>\n",
              "      <td>Carmencita</td>\n",
              "      <td>1</td>\n",
              "    </tr>\n",
              "    <tr>\n",
              "      <th>1</th>\n",
              "      <td>tt0000002</td>\n",
              "      <td>Le clown et ses chiens</td>\n",
              "      <td>1</td>\n",
              "    </tr>\n",
              "    <tr>\n",
              "      <th>2</th>\n",
              "      <td>tt0000003</td>\n",
              "      <td>Pauvre Pierrot</td>\n",
              "      <td>1</td>\n",
              "    </tr>\n",
              "    <tr>\n",
              "      <th>3</th>\n",
              "      <td>tt0000004</td>\n",
              "      <td>Un bon bock</td>\n",
              "      <td>1</td>\n",
              "    </tr>\n",
              "    <tr>\n",
              "      <th>4</th>\n",
              "      <td>tt0000005</td>\n",
              "      <td>Blacksmith Scene</td>\n",
              "      <td>1</td>\n",
              "    </tr>\n",
              "  </tbody>\n",
              "</table>\n",
              "</div>"
            ],
            "text/plain": [
              "      tconst                   title isOriginalTitle\n",
              "0  tt0000001              Carmencita               1\n",
              "1  tt0000002  Le clown et ses chiens               1\n",
              "2  tt0000003          Pauvre Pierrot               1\n",
              "3  tt0000004             Un bon bock               1\n",
              "4  tt0000005        Blacksmith Scene               1"
            ]
          },
          "metadata": {
            "tags": []
          },
          "execution_count": 7
        }
      ]
    },
    {
      "metadata": {
        "id": "pIau0AAkSHC-",
        "colab_type": "code",
        "outputId": "c9156441-fc82-4e32-8095-ac78ab8e30d5",
        "colab": {
          "base_uri": "https://localhost:8080/",
          "height": 34
        }
      },
      "cell_type": "code",
      "source": [
        "title.shape"
      ],
      "execution_count": 8,
      "outputs": [
        {
          "output_type": "execute_result",
          "data": {
            "text/plain": [
              "(50769, 3)"
            ]
          },
          "metadata": {
            "tags": []
          },
          "execution_count": 8
        }
      ]
    },
    {
      "metadata": {
        "id": "Fa53zPkYSMY8",
        "colab_type": "code",
        "outputId": "71e88023-8317-492f-c35b-0e6039bf918c",
        "colab": {
          "base_uri": "https://localhost:8080/",
          "height": 34
        }
      },
      "cell_type": "code",
      "source": [
        "title = title.replace({r'\\N': np.nan}) #oh my god\n",
        "#titles with missing values are probably too obscure to matter, so I'll drop nan rows\n",
        "title = title.dropna()\n",
        "title.shape"
      ],
      "execution_count": 9,
      "outputs": [
        {
          "output_type": "execute_result",
          "data": {
            "text/plain": [
              "(50769, 3)"
            ]
          },
          "metadata": {
            "tags": []
          },
          "execution_count": 9
        }
      ]
    },
    {
      "metadata": {
        "id": "Su3MPjWxubaF",
        "colab_type": "code",
        "outputId": "df60ad2e-0e07-4cef-c982-b434875335b4",
        "colab": {
          "base_uri": "https://localhost:8080/",
          "height": 218
        }
      },
      "cell_type": "code",
      "source": [
        "#Attributes of film\n",
        "basics = pd.read_table(\"https://datasets.imdbws.com/title.basics.tsv.gz\")\n",
        "basics.dtypes"
      ],
      "execution_count": 10,
      "outputs": [
        {
          "output_type": "stream",
          "text": [
            "/usr/local/lib/python3.6/dist-packages/IPython/core/interactiveshell.py:2718: DtypeWarning: Columns (5) have mixed types. Specify dtype option on import or set low_memory=False.\n",
            "  interactivity=interactivity, compiler=compiler, result=result)\n"
          ],
          "name": "stderr"
        },
        {
          "output_type": "execute_result",
          "data": {
            "text/plain": [
              "tconst            object\n",
              "titleType         object\n",
              "primaryTitle      object\n",
              "originalTitle     object\n",
              "isAdult            int64\n",
              "startYear         object\n",
              "endYear           object\n",
              "runtimeMinutes    object\n",
              "genres            object\n",
              "dtype: object"
            ]
          },
          "metadata": {
            "tags": []
          },
          "execution_count": 10
        }
      ]
    },
    {
      "metadata": {
        "id": "bIuOfHLhu87P",
        "colab_type": "code",
        "outputId": "7c740ce4-6bc4-4dc5-a190-0a6b1a1d7fe1",
        "colab": {
          "base_uri": "https://localhost:8080/",
          "height": 195
        }
      },
      "cell_type": "code",
      "source": [
        "basics.head()"
      ],
      "execution_count": 11,
      "outputs": [
        {
          "output_type": "execute_result",
          "data": {
            "text/html": [
              "<div>\n",
              "<style scoped>\n",
              "    .dataframe tbody tr th:only-of-type {\n",
              "        vertical-align: middle;\n",
              "    }\n",
              "\n",
              "    .dataframe tbody tr th {\n",
              "        vertical-align: top;\n",
              "    }\n",
              "\n",
              "    .dataframe thead th {\n",
              "        text-align: right;\n",
              "    }\n",
              "</style>\n",
              "<table border=\"1\" class=\"dataframe\">\n",
              "  <thead>\n",
              "    <tr style=\"text-align: right;\">\n",
              "      <th></th>\n",
              "      <th>tconst</th>\n",
              "      <th>titleType</th>\n",
              "      <th>primaryTitle</th>\n",
              "      <th>originalTitle</th>\n",
              "      <th>isAdult</th>\n",
              "      <th>startYear</th>\n",
              "      <th>endYear</th>\n",
              "      <th>runtimeMinutes</th>\n",
              "      <th>genres</th>\n",
              "    </tr>\n",
              "  </thead>\n",
              "  <tbody>\n",
              "    <tr>\n",
              "      <th>0</th>\n",
              "      <td>tt0000001</td>\n",
              "      <td>short</td>\n",
              "      <td>Carmencita</td>\n",
              "      <td>Carmencita</td>\n",
              "      <td>0</td>\n",
              "      <td>1894</td>\n",
              "      <td>\\N</td>\n",
              "      <td>1</td>\n",
              "      <td>Documentary,Short</td>\n",
              "    </tr>\n",
              "    <tr>\n",
              "      <th>1</th>\n",
              "      <td>tt0000002</td>\n",
              "      <td>short</td>\n",
              "      <td>Le clown et ses chiens</td>\n",
              "      <td>Le clown et ses chiens</td>\n",
              "      <td>0</td>\n",
              "      <td>1892</td>\n",
              "      <td>\\N</td>\n",
              "      <td>5</td>\n",
              "      <td>Animation,Short</td>\n",
              "    </tr>\n",
              "    <tr>\n",
              "      <th>2</th>\n",
              "      <td>tt0000003</td>\n",
              "      <td>short</td>\n",
              "      <td>Pauvre Pierrot</td>\n",
              "      <td>Pauvre Pierrot</td>\n",
              "      <td>0</td>\n",
              "      <td>1892</td>\n",
              "      <td>\\N</td>\n",
              "      <td>4</td>\n",
              "      <td>Animation,Comedy,Romance</td>\n",
              "    </tr>\n",
              "    <tr>\n",
              "      <th>3</th>\n",
              "      <td>tt0000004</td>\n",
              "      <td>short</td>\n",
              "      <td>Un bon bock</td>\n",
              "      <td>Un bon bock</td>\n",
              "      <td>0</td>\n",
              "      <td>1892</td>\n",
              "      <td>\\N</td>\n",
              "      <td>\\N</td>\n",
              "      <td>Animation,Short</td>\n",
              "    </tr>\n",
              "    <tr>\n",
              "      <th>4</th>\n",
              "      <td>tt0000005</td>\n",
              "      <td>short</td>\n",
              "      <td>Blacksmith Scene</td>\n",
              "      <td>Blacksmith Scene</td>\n",
              "      <td>0</td>\n",
              "      <td>1893</td>\n",
              "      <td>\\N</td>\n",
              "      <td>1</td>\n",
              "      <td>Comedy,Short</td>\n",
              "    </tr>\n",
              "  </tbody>\n",
              "</table>\n",
              "</div>"
            ],
            "text/plain": [
              "      tconst titleType            primaryTitle           originalTitle  \\\n",
              "0  tt0000001     short              Carmencita              Carmencita   \n",
              "1  tt0000002     short  Le clown et ses chiens  Le clown et ses chiens   \n",
              "2  tt0000003     short          Pauvre Pierrot          Pauvre Pierrot   \n",
              "3  tt0000004     short             Un bon bock             Un bon bock   \n",
              "4  tt0000005     short        Blacksmith Scene        Blacksmith Scene   \n",
              "\n",
              "   isAdult startYear endYear runtimeMinutes                    genres  \n",
              "0        0      1894      \\N              1         Documentary,Short  \n",
              "1        0      1892      \\N              5           Animation,Short  \n",
              "2        0      1892      \\N              4  Animation,Comedy,Romance  \n",
              "3        0      1892      \\N             \\N           Animation,Short  \n",
              "4        0      1893      \\N              1              Comedy,Short  "
            ]
          },
          "metadata": {
            "tags": []
          },
          "execution_count": 11
        }
      ]
    },
    {
      "metadata": {
        "id": "gVpdNdMgu9Ht",
        "colab_type": "code",
        "outputId": "a6107beb-ee86-4300-9caa-d01973afe25f",
        "colab": {
          "base_uri": "https://localhost:8080/",
          "height": 185
        }
      },
      "cell_type": "code",
      "source": [
        "basics = basics.replace({r'\\N': np.nan})\n",
        "basics.isnull().sum() #primary and original title aren't needed anyway #I think it's valuable to keep genre"
      ],
      "execution_count": 12,
      "outputs": [
        {
          "output_type": "execute_result",
          "data": {
            "text/plain": [
              "tconst                  0\n",
              "titleType               0\n",
              "primaryTitle            6\n",
              "originalTitle         181\n",
              "isAdult                 0\n",
              "startYear          310771\n",
              "endYear           5568278\n",
              "runtimeMinutes    3911351\n",
              "genres             442172\n",
              "dtype: int64"
            ]
          },
          "metadata": {
            "tags": []
          },
          "execution_count": 12
        }
      ]
    },
    {
      "metadata": {
        "id": "BCM41fwUwHmt",
        "colab_type": "code",
        "outputId": "cbddbd9a-c7c4-4155-a759-6e4215a88d57",
        "colab": {
          "base_uri": "https://localhost:8080/",
          "height": 202
        }
      },
      "cell_type": "code",
      "source": [
        "basics.titleType.value_counts()"
      ],
      "execution_count": 13,
      "outputs": [
        {
          "output_type": "execute_result",
          "data": {
            "text/plain": [
              "tvEpisode       3860112\n",
              "short            664611\n",
              "movie            510202\n",
              "video            221628\n",
              "tvSeries         159323\n",
              "tvMovie          126053\n",
              "tvMiniSeries      24698\n",
              "videoGame         22882\n",
              "tvSpecial         15864\n",
              "tvShort            9028\n",
              "Name: titleType, dtype: int64"
            ]
          },
          "metadata": {
            "tags": []
          },
          "execution_count": 13
        }
      ]
    },
    {
      "metadata": {
        "id": "V2Sy3nHOvcc1",
        "colab_type": "code",
        "outputId": "6f9cfdd8-1829-469f-cc6b-b812af3cd188",
        "colab": {
          "base_uri": "https://localhost:8080/",
          "height": 195
        }
      },
      "cell_type": "code",
      "source": [
        "basics = basics.drop(columns=['primaryTitle', 'originalTitle', 'endYear'])\n",
        "basics = basics[basics['titleType']=='movie']\n",
        "basics = basics.dropna()\n",
        "basics.head()"
      ],
      "execution_count": 14,
      "outputs": [
        {
          "output_type": "execute_result",
          "data": {
            "text/html": [
              "<div>\n",
              "<style scoped>\n",
              "    .dataframe tbody tr th:only-of-type {\n",
              "        vertical-align: middle;\n",
              "    }\n",
              "\n",
              "    .dataframe tbody tr th {\n",
              "        vertical-align: top;\n",
              "    }\n",
              "\n",
              "    .dataframe thead th {\n",
              "        text-align: right;\n",
              "    }\n",
              "</style>\n",
              "<table border=\"1\" class=\"dataframe\">\n",
              "  <thead>\n",
              "    <tr style=\"text-align: right;\">\n",
              "      <th></th>\n",
              "      <th>tconst</th>\n",
              "      <th>titleType</th>\n",
              "      <th>isAdult</th>\n",
              "      <th>startYear</th>\n",
              "      <th>runtimeMinutes</th>\n",
              "      <th>genres</th>\n",
              "    </tr>\n",
              "  </thead>\n",
              "  <tbody>\n",
              "    <tr>\n",
              "      <th>8</th>\n",
              "      <td>tt0000009</td>\n",
              "      <td>movie</td>\n",
              "      <td>0</td>\n",
              "      <td>1894</td>\n",
              "      <td>45</td>\n",
              "      <td>Romance</td>\n",
              "    </tr>\n",
              "    <tr>\n",
              "      <th>145</th>\n",
              "      <td>tt0000147</td>\n",
              "      <td>movie</td>\n",
              "      <td>0</td>\n",
              "      <td>1897</td>\n",
              "      <td>20</td>\n",
              "      <td>Documentary,News,Sport</td>\n",
              "    </tr>\n",
              "    <tr>\n",
              "      <th>571</th>\n",
              "      <td>tt0000574</td>\n",
              "      <td>movie</td>\n",
              "      <td>0</td>\n",
              "      <td>1906</td>\n",
              "      <td>70</td>\n",
              "      <td>Biography,Crime,Drama</td>\n",
              "    </tr>\n",
              "    <tr>\n",
              "      <th>673</th>\n",
              "      <td>tt0000679</td>\n",
              "      <td>movie</td>\n",
              "      <td>0</td>\n",
              "      <td>1908</td>\n",
              "      <td>120</td>\n",
              "      <td>Adventure,Fantasy</td>\n",
              "    </tr>\n",
              "    <tr>\n",
              "      <th>1173</th>\n",
              "      <td>tt0001184</td>\n",
              "      <td>movie</td>\n",
              "      <td>0</td>\n",
              "      <td>1910</td>\n",
              "      <td>58</td>\n",
              "      <td>Adventure,Drama</td>\n",
              "    </tr>\n",
              "  </tbody>\n",
              "</table>\n",
              "</div>"
            ],
            "text/plain": [
              "         tconst titleType  isAdult startYear runtimeMinutes  \\\n",
              "8     tt0000009     movie        0      1894             45   \n",
              "145   tt0000147     movie        0      1897             20   \n",
              "571   tt0000574     movie        0      1906             70   \n",
              "673   tt0000679     movie        0      1908            120   \n",
              "1173  tt0001184     movie        0      1910             58   \n",
              "\n",
              "                      genres  \n",
              "8                    Romance  \n",
              "145   Documentary,News,Sport  \n",
              "571    Biography,Crime,Drama  \n",
              "673        Adventure,Fantasy  \n",
              "1173         Adventure,Drama  "
            ]
          },
          "metadata": {
            "tags": []
          },
          "execution_count": 14
        }
      ]
    },
    {
      "metadata": {
        "id": "nsoUhosqN80z",
        "colab_type": "code",
        "outputId": "a0a7afdb-30e0-4b60-fc60-f0dd2a0470a3",
        "colab": {
          "base_uri": "https://localhost:8080/",
          "height": 134
        }
      },
      "cell_type": "code",
      "source": [
        "#Directors and staff of film\n",
        "director = pd.read_table(\"https://datasets.imdbws.com/name.basics.tsv.gz\")\n",
        "director.dtypes"
      ],
      "execution_count": 15,
      "outputs": [
        {
          "output_type": "execute_result",
          "data": {
            "text/plain": [
              "nconst               object\n",
              "primaryName          object\n",
              "birthYear            object\n",
              "deathYear            object\n",
              "primaryProfession    object\n",
              "knownForTitles       object\n",
              "dtype: object"
            ]
          },
          "metadata": {
            "tags": []
          },
          "execution_count": 15
        }
      ]
    },
    {
      "metadata": {
        "id": "pes_NImMOaXw",
        "colab_type": "code",
        "outputId": "e3cc54a2-0680-4cf1-debe-15e2cfec7ea5",
        "colab": {
          "base_uri": "https://localhost:8080/",
          "height": 195
        }
      },
      "cell_type": "code",
      "source": [
        "director.head()"
      ],
      "execution_count": 16,
      "outputs": [
        {
          "output_type": "execute_result",
          "data": {
            "text/html": [
              "<div>\n",
              "<style scoped>\n",
              "    .dataframe tbody tr th:only-of-type {\n",
              "        vertical-align: middle;\n",
              "    }\n",
              "\n",
              "    .dataframe tbody tr th {\n",
              "        vertical-align: top;\n",
              "    }\n",
              "\n",
              "    .dataframe thead th {\n",
              "        text-align: right;\n",
              "    }\n",
              "</style>\n",
              "<table border=\"1\" class=\"dataframe\">\n",
              "  <thead>\n",
              "    <tr style=\"text-align: right;\">\n",
              "      <th></th>\n",
              "      <th>nconst</th>\n",
              "      <th>primaryName</th>\n",
              "      <th>birthYear</th>\n",
              "      <th>deathYear</th>\n",
              "      <th>primaryProfession</th>\n",
              "      <th>knownForTitles</th>\n",
              "    </tr>\n",
              "  </thead>\n",
              "  <tbody>\n",
              "    <tr>\n",
              "      <th>0</th>\n",
              "      <td>nm0000001</td>\n",
              "      <td>Fred Astaire</td>\n",
              "      <td>1899</td>\n",
              "      <td>1987</td>\n",
              "      <td>soundtrack,actor,miscellaneous</td>\n",
              "      <td>tt0072308,tt0050419,tt0053137,tt0043044</td>\n",
              "    </tr>\n",
              "    <tr>\n",
              "      <th>1</th>\n",
              "      <td>nm0000002</td>\n",
              "      <td>Lauren Bacall</td>\n",
              "      <td>1924</td>\n",
              "      <td>2014</td>\n",
              "      <td>actress,soundtrack</td>\n",
              "      <td>tt0117057,tt0071877,tt0038355,tt0037382</td>\n",
              "    </tr>\n",
              "    <tr>\n",
              "      <th>2</th>\n",
              "      <td>nm0000003</td>\n",
              "      <td>Brigitte Bardot</td>\n",
              "      <td>1934</td>\n",
              "      <td>\\N</td>\n",
              "      <td>actress,soundtrack,producer</td>\n",
              "      <td>tt0049189,tt0057345,tt0054452,tt0059956</td>\n",
              "    </tr>\n",
              "    <tr>\n",
              "      <th>3</th>\n",
              "      <td>nm0000004</td>\n",
              "      <td>John Belushi</td>\n",
              "      <td>1949</td>\n",
              "      <td>1982</td>\n",
              "      <td>actor,writer,soundtrack</td>\n",
              "      <td>tt0072562,tt0077975,tt0078723,tt0080455</td>\n",
              "    </tr>\n",
              "    <tr>\n",
              "      <th>4</th>\n",
              "      <td>nm0000005</td>\n",
              "      <td>Ingmar Bergman</td>\n",
              "      <td>1918</td>\n",
              "      <td>2007</td>\n",
              "      <td>writer,director,actor</td>\n",
              "      <td>tt0069467,tt0050976,tt0050986,tt0083922</td>\n",
              "    </tr>\n",
              "  </tbody>\n",
              "</table>\n",
              "</div>"
            ],
            "text/plain": [
              "      nconst      primaryName birthYear deathYear  \\\n",
              "0  nm0000001     Fred Astaire      1899      1987   \n",
              "1  nm0000002    Lauren Bacall      1924      2014   \n",
              "2  nm0000003  Brigitte Bardot      1934        \\N   \n",
              "3  nm0000004     John Belushi      1949      1982   \n",
              "4  nm0000005   Ingmar Bergman      1918      2007   \n",
              "\n",
              "                primaryProfession                           knownForTitles  \n",
              "0  soundtrack,actor,miscellaneous  tt0072308,tt0050419,tt0053137,tt0043044  \n",
              "1              actress,soundtrack  tt0117057,tt0071877,tt0038355,tt0037382  \n",
              "2     actress,soundtrack,producer  tt0049189,tt0057345,tt0054452,tt0059956  \n",
              "3         actor,writer,soundtrack  tt0072562,tt0077975,tt0078723,tt0080455  \n",
              "4           writer,director,actor  tt0069467,tt0050976,tt0050986,tt0083922  "
            ]
          },
          "metadata": {
            "tags": []
          },
          "execution_count": 16
        }
      ]
    },
    {
      "metadata": {
        "id": "f7BYn8ALeM6p",
        "colab_type": "code",
        "outputId": "b3eb5083-a8f6-4e8f-bbf9-2736be084052",
        "colab": {
          "base_uri": "https://localhost:8080/",
          "height": 34
        }
      },
      "cell_type": "code",
      "source": [
        "director.shape"
      ],
      "execution_count": 17,
      "outputs": [
        {
          "output_type": "execute_result",
          "data": {
            "text/plain": [
              "(9121414, 6)"
            ]
          },
          "metadata": {
            "tags": []
          },
          "execution_count": 17
        }
      ]
    },
    {
      "metadata": {
        "id": "VqBXYsv8PjRx",
        "colab_type": "code",
        "outputId": "36eb33fc-1d8e-450a-ed51-22279a1545b9",
        "colab": {
          "base_uri": "https://localhost:8080/",
          "height": 134
        }
      },
      "cell_type": "code",
      "source": [
        "director = director.replace({r'\\N': np.nan})\n",
        "director.isnull().sum()"
      ],
      "execution_count": 18,
      "outputs": [
        {
          "output_type": "execute_result",
          "data": {
            "text/plain": [
              "nconst                     0\n",
              "primaryName                0\n",
              "birthYear            8648352\n",
              "deathYear            8957311\n",
              "primaryProfession    1634026\n",
              "knownForTitles       1214605\n",
              "dtype: int64"
            ]
          },
          "metadata": {
            "tags": []
          },
          "execution_count": 18
        }
      ]
    },
    {
      "metadata": {
        "id": "aZAd-KBqPrnB",
        "colab_type": "code",
        "outputId": "6637f2e3-9526-4b58-d83b-3bf66700c53b",
        "colab": {
          "base_uri": "https://localhost:8080/",
          "height": 195
        }
      },
      "cell_type": "code",
      "source": [
        "director = director.drop(columns=['primaryProfession', 'deathYear',\n",
        "                                  'knownForTitles', 'birthYear'])\n",
        "director = director.rename(columns = {'nconst':'directors'})\n",
        "director.head()"
      ],
      "execution_count": 19,
      "outputs": [
        {
          "output_type": "execute_result",
          "data": {
            "text/html": [
              "<div>\n",
              "<style scoped>\n",
              "    .dataframe tbody tr th:only-of-type {\n",
              "        vertical-align: middle;\n",
              "    }\n",
              "\n",
              "    .dataframe tbody tr th {\n",
              "        vertical-align: top;\n",
              "    }\n",
              "\n",
              "    .dataframe thead th {\n",
              "        text-align: right;\n",
              "    }\n",
              "</style>\n",
              "<table border=\"1\" class=\"dataframe\">\n",
              "  <thead>\n",
              "    <tr style=\"text-align: right;\">\n",
              "      <th></th>\n",
              "      <th>directors</th>\n",
              "      <th>primaryName</th>\n",
              "    </tr>\n",
              "  </thead>\n",
              "  <tbody>\n",
              "    <tr>\n",
              "      <th>0</th>\n",
              "      <td>nm0000001</td>\n",
              "      <td>Fred Astaire</td>\n",
              "    </tr>\n",
              "    <tr>\n",
              "      <th>1</th>\n",
              "      <td>nm0000002</td>\n",
              "      <td>Lauren Bacall</td>\n",
              "    </tr>\n",
              "    <tr>\n",
              "      <th>2</th>\n",
              "      <td>nm0000003</td>\n",
              "      <td>Brigitte Bardot</td>\n",
              "    </tr>\n",
              "    <tr>\n",
              "      <th>3</th>\n",
              "      <td>nm0000004</td>\n",
              "      <td>John Belushi</td>\n",
              "    </tr>\n",
              "    <tr>\n",
              "      <th>4</th>\n",
              "      <td>nm0000005</td>\n",
              "      <td>Ingmar Bergman</td>\n",
              "    </tr>\n",
              "  </tbody>\n",
              "</table>\n",
              "</div>"
            ],
            "text/plain": [
              "   directors      primaryName\n",
              "0  nm0000001     Fred Astaire\n",
              "1  nm0000002    Lauren Bacall\n",
              "2  nm0000003  Brigitte Bardot\n",
              "3  nm0000004     John Belushi\n",
              "4  nm0000005   Ingmar Bergman"
            ]
          },
          "metadata": {
            "tags": []
          },
          "execution_count": 19
        }
      ]
    },
    {
      "metadata": {
        "id": "IsOTvU8_QThO",
        "colab_type": "code",
        "outputId": "1ca05f27-a0c7-47a2-dddf-1d9a48c4a8a7",
        "colab": {
          "base_uri": "https://localhost:8080/",
          "height": 84
        }
      },
      "cell_type": "code",
      "source": [
        "#critical rating of film\n",
        "review = pd.read_table(\"https://datasets.imdbws.com/title.ratings.tsv.gz\")\n",
        "review.dtypes"
      ],
      "execution_count": 20,
      "outputs": [
        {
          "output_type": "execute_result",
          "data": {
            "text/plain": [
              "tconst            object\n",
              "averageRating    float64\n",
              "numVotes           int64\n",
              "dtype: object"
            ]
          },
          "metadata": {
            "tags": []
          },
          "execution_count": 20
        }
      ]
    },
    {
      "metadata": {
        "id": "9o0uePSYQZmh",
        "colab_type": "code",
        "outputId": "81533d63-e465-45bb-a7b6-b5a6c6f9308c",
        "colab": {
          "base_uri": "https://localhost:8080/",
          "height": 195
        }
      },
      "cell_type": "code",
      "source": [
        "review.head()"
      ],
      "execution_count": 21,
      "outputs": [
        {
          "output_type": "execute_result",
          "data": {
            "text/html": [
              "<div>\n",
              "<style scoped>\n",
              "    .dataframe tbody tr th:only-of-type {\n",
              "        vertical-align: middle;\n",
              "    }\n",
              "\n",
              "    .dataframe tbody tr th {\n",
              "        vertical-align: top;\n",
              "    }\n",
              "\n",
              "    .dataframe thead th {\n",
              "        text-align: right;\n",
              "    }\n",
              "</style>\n",
              "<table border=\"1\" class=\"dataframe\">\n",
              "  <thead>\n",
              "    <tr style=\"text-align: right;\">\n",
              "      <th></th>\n",
              "      <th>tconst</th>\n",
              "      <th>averageRating</th>\n",
              "      <th>numVotes</th>\n",
              "    </tr>\n",
              "  </thead>\n",
              "  <tbody>\n",
              "    <tr>\n",
              "      <th>0</th>\n",
              "      <td>tt0000001</td>\n",
              "      <td>5.8</td>\n",
              "      <td>1463</td>\n",
              "    </tr>\n",
              "    <tr>\n",
              "      <th>1</th>\n",
              "      <td>tt0000002</td>\n",
              "      <td>6.4</td>\n",
              "      <td>176</td>\n",
              "    </tr>\n",
              "    <tr>\n",
              "      <th>2</th>\n",
              "      <td>tt0000003</td>\n",
              "      <td>6.6</td>\n",
              "      <td>1079</td>\n",
              "    </tr>\n",
              "    <tr>\n",
              "      <th>3</th>\n",
              "      <td>tt0000004</td>\n",
              "      <td>6.5</td>\n",
              "      <td>105</td>\n",
              "    </tr>\n",
              "    <tr>\n",
              "      <th>4</th>\n",
              "      <td>tt0000005</td>\n",
              "      <td>6.2</td>\n",
              "      <td>1781</td>\n",
              "    </tr>\n",
              "  </tbody>\n",
              "</table>\n",
              "</div>"
            ],
            "text/plain": [
              "      tconst  averageRating  numVotes\n",
              "0  tt0000001            5.8      1463\n",
              "1  tt0000002            6.4       176\n",
              "2  tt0000003            6.6      1079\n",
              "3  tt0000004            6.5       105\n",
              "4  tt0000005            6.2      1781"
            ]
          },
          "metadata": {
            "tags": []
          },
          "execution_count": 21
        }
      ]
    },
    {
      "metadata": {
        "id": "E6QnRnydQjJE",
        "colab_type": "code",
        "outputId": "3c980856-0679-46e2-f06e-5daf40e7b6a6",
        "colab": {
          "base_uri": "https://localhost:8080/",
          "height": 84
        }
      },
      "cell_type": "code",
      "source": [
        "review = review.replace({r'\\N': np.nan})\n",
        "review.isnull().sum()"
      ],
      "execution_count": 22,
      "outputs": [
        {
          "output_type": "execute_result",
          "data": {
            "text/plain": [
              "tconst           0\n",
              "averageRating    0\n",
              "numVotes         0\n",
              "dtype: int64"
            ]
          },
          "metadata": {
            "tags": []
          },
          "execution_count": 22
        }
      ]
    },
    {
      "metadata": {
        "id": "tI6WxcJOQnW5",
        "colab_type": "code",
        "outputId": "f09217d1-adab-478a-d049-fdde7e4141aa",
        "colab": {
          "base_uri": "https://localhost:8080/",
          "height": 195
        }
      },
      "cell_type": "code",
      "source": [
        "#cleaning - drop rows with 1000 or less votes\n",
        "review = review[review['numVotes']>= 1000]\n",
        "review = review.reset_index(drop=True)\n",
        "review.head()"
      ],
      "execution_count": 23,
      "outputs": [
        {
          "output_type": "execute_result",
          "data": {
            "text/html": [
              "<div>\n",
              "<style scoped>\n",
              "    .dataframe tbody tr th:only-of-type {\n",
              "        vertical-align: middle;\n",
              "    }\n",
              "\n",
              "    .dataframe tbody tr th {\n",
              "        vertical-align: top;\n",
              "    }\n",
              "\n",
              "    .dataframe thead th {\n",
              "        text-align: right;\n",
              "    }\n",
              "</style>\n",
              "<table border=\"1\" class=\"dataframe\">\n",
              "  <thead>\n",
              "    <tr style=\"text-align: right;\">\n",
              "      <th></th>\n",
              "      <th>tconst</th>\n",
              "      <th>averageRating</th>\n",
              "      <th>numVotes</th>\n",
              "    </tr>\n",
              "  </thead>\n",
              "  <tbody>\n",
              "    <tr>\n",
              "      <th>0</th>\n",
              "      <td>tt0000001</td>\n",
              "      <td>5.8</td>\n",
              "      <td>1463</td>\n",
              "    </tr>\n",
              "    <tr>\n",
              "      <th>1</th>\n",
              "      <td>tt0000003</td>\n",
              "      <td>6.6</td>\n",
              "      <td>1079</td>\n",
              "    </tr>\n",
              "    <tr>\n",
              "      <th>2</th>\n",
              "      <td>tt0000005</td>\n",
              "      <td>6.2</td>\n",
              "      <td>1781</td>\n",
              "    </tr>\n",
              "    <tr>\n",
              "      <th>3</th>\n",
              "      <td>tt0000008</td>\n",
              "      <td>5.6</td>\n",
              "      <td>1563</td>\n",
              "    </tr>\n",
              "    <tr>\n",
              "      <th>4</th>\n",
              "      <td>tt0000010</td>\n",
              "      <td>6.9</td>\n",
              "      <td>5219</td>\n",
              "    </tr>\n",
              "  </tbody>\n",
              "</table>\n",
              "</div>"
            ],
            "text/plain": [
              "      tconst  averageRating  numVotes\n",
              "0  tt0000001            5.8      1463\n",
              "1  tt0000003            6.6      1079\n",
              "2  tt0000005            6.2      1781\n",
              "3  tt0000008            5.6      1563\n",
              "4  tt0000010            6.9      5219"
            ]
          },
          "metadata": {
            "tags": []
          },
          "execution_count": 23
        }
      ]
    },
    {
      "metadata": {
        "id": "Z1Jo58h4XNpT",
        "colab_type": "code",
        "outputId": "0b9609b8-0a27-4a9a-d229-33f5ec97f0cd",
        "colab": {
          "base_uri": "https://localhost:8080/",
          "height": 84
        }
      },
      "cell_type": "code",
      "source": [
        "#directors and writers of film by internal id\n",
        "directorid =  pd.read_table(\"https://datasets.imdbws.com/title.crew.tsv.gz\")\n",
        "directorid.dtypes"
      ],
      "execution_count": 24,
      "outputs": [
        {
          "output_type": "execute_result",
          "data": {
            "text/plain": [
              "tconst       object\n",
              "directors    object\n",
              "writers      object\n",
              "dtype: object"
            ]
          },
          "metadata": {
            "tags": []
          },
          "execution_count": 24
        }
      ]
    },
    {
      "metadata": {
        "id": "uEZL9RlpXnsJ",
        "colab_type": "code",
        "outputId": "d2488570-c74c-44f8-a4a3-f4f13c3be171",
        "colab": {
          "base_uri": "https://localhost:8080/",
          "height": 195
        }
      },
      "cell_type": "code",
      "source": [
        "directorid.head()"
      ],
      "execution_count": 25,
      "outputs": [
        {
          "output_type": "execute_result",
          "data": {
            "text/html": [
              "<div>\n",
              "<style scoped>\n",
              "    .dataframe tbody tr th:only-of-type {\n",
              "        vertical-align: middle;\n",
              "    }\n",
              "\n",
              "    .dataframe tbody tr th {\n",
              "        vertical-align: top;\n",
              "    }\n",
              "\n",
              "    .dataframe thead th {\n",
              "        text-align: right;\n",
              "    }\n",
              "</style>\n",
              "<table border=\"1\" class=\"dataframe\">\n",
              "  <thead>\n",
              "    <tr style=\"text-align: right;\">\n",
              "      <th></th>\n",
              "      <th>tconst</th>\n",
              "      <th>directors</th>\n",
              "      <th>writers</th>\n",
              "    </tr>\n",
              "  </thead>\n",
              "  <tbody>\n",
              "    <tr>\n",
              "      <th>0</th>\n",
              "      <td>tt0000001</td>\n",
              "      <td>nm0005690</td>\n",
              "      <td>\\N</td>\n",
              "    </tr>\n",
              "    <tr>\n",
              "      <th>1</th>\n",
              "      <td>tt0000002</td>\n",
              "      <td>nm0721526</td>\n",
              "      <td>\\N</td>\n",
              "    </tr>\n",
              "    <tr>\n",
              "      <th>2</th>\n",
              "      <td>tt0000003</td>\n",
              "      <td>nm0721526</td>\n",
              "      <td>\\N</td>\n",
              "    </tr>\n",
              "    <tr>\n",
              "      <th>3</th>\n",
              "      <td>tt0000004</td>\n",
              "      <td>nm0721526</td>\n",
              "      <td>\\N</td>\n",
              "    </tr>\n",
              "    <tr>\n",
              "      <th>4</th>\n",
              "      <td>tt0000005</td>\n",
              "      <td>nm0005690</td>\n",
              "      <td>\\N</td>\n",
              "    </tr>\n",
              "  </tbody>\n",
              "</table>\n",
              "</div>"
            ],
            "text/plain": [
              "      tconst  directors writers\n",
              "0  tt0000001  nm0005690      \\N\n",
              "1  tt0000002  nm0721526      \\N\n",
              "2  tt0000003  nm0721526      \\N\n",
              "3  tt0000004  nm0721526      \\N\n",
              "4  tt0000005  nm0005690      \\N"
            ]
          },
          "metadata": {
            "tags": []
          },
          "execution_count": 25
        }
      ]
    },
    {
      "metadata": {
        "id": "DxvYBzYZXz5w",
        "colab_type": "code",
        "outputId": "2fe8486a-c6e1-4d6f-a912-aece17ce8a8a",
        "colab": {
          "base_uri": "https://localhost:8080/",
          "height": 84
        }
      },
      "cell_type": "code",
      "source": [
        "directorid = directorid.replace({r'\\N': np.nan})\n",
        "directorid.isnull().sum()"
      ],
      "execution_count": 26,
      "outputs": [
        {
          "output_type": "execute_result",
          "data": {
            "text/plain": [
              "tconst             0\n",
              "directors    2369650\n",
              "writers      2791304\n",
              "dtype: int64"
            ]
          },
          "metadata": {
            "tags": []
          },
          "execution_count": 26
        }
      ]
    },
    {
      "metadata": {
        "id": "2H6lKYNoXr1d",
        "colab_type": "code",
        "outputId": "a56ef300-9ab4-4c08-8096-7db3abdf8f61",
        "colab": {
          "base_uri": "https://localhost:8080/",
          "height": 195
        }
      },
      "cell_type": "code",
      "source": [
        "#cleaning - drop writers\n",
        "directorid = directorid.drop(columns='writers').dropna()\n",
        "directorid.head()"
      ],
      "execution_count": 27,
      "outputs": [
        {
          "output_type": "execute_result",
          "data": {
            "text/html": [
              "<div>\n",
              "<style scoped>\n",
              "    .dataframe tbody tr th:only-of-type {\n",
              "        vertical-align: middle;\n",
              "    }\n",
              "\n",
              "    .dataframe tbody tr th {\n",
              "        vertical-align: top;\n",
              "    }\n",
              "\n",
              "    .dataframe thead th {\n",
              "        text-align: right;\n",
              "    }\n",
              "</style>\n",
              "<table border=\"1\" class=\"dataframe\">\n",
              "  <thead>\n",
              "    <tr style=\"text-align: right;\">\n",
              "      <th></th>\n",
              "      <th>tconst</th>\n",
              "      <th>directors</th>\n",
              "    </tr>\n",
              "  </thead>\n",
              "  <tbody>\n",
              "    <tr>\n",
              "      <th>0</th>\n",
              "      <td>tt0000001</td>\n",
              "      <td>nm0005690</td>\n",
              "    </tr>\n",
              "    <tr>\n",
              "      <th>1</th>\n",
              "      <td>tt0000002</td>\n",
              "      <td>nm0721526</td>\n",
              "    </tr>\n",
              "    <tr>\n",
              "      <th>2</th>\n",
              "      <td>tt0000003</td>\n",
              "      <td>nm0721526</td>\n",
              "    </tr>\n",
              "    <tr>\n",
              "      <th>3</th>\n",
              "      <td>tt0000004</td>\n",
              "      <td>nm0721526</td>\n",
              "    </tr>\n",
              "    <tr>\n",
              "      <th>4</th>\n",
              "      <td>tt0000005</td>\n",
              "      <td>nm0005690</td>\n",
              "    </tr>\n",
              "  </tbody>\n",
              "</table>\n",
              "</div>"
            ],
            "text/plain": [
              "      tconst  directors\n",
              "0  tt0000001  nm0005690\n",
              "1  tt0000002  nm0721526\n",
              "2  tt0000003  nm0721526\n",
              "3  tt0000004  nm0721526\n",
              "4  tt0000005  nm0005690"
            ]
          },
          "metadata": {
            "tags": []
          },
          "execution_count": 27
        }
      ]
    },
    {
      "metadata": {
        "id": "8DShuLYSYVc4",
        "colab_type": "code",
        "outputId": "aa203dbb-f5bd-4964-a59e-809c0463e03c",
        "colab": {
          "base_uri": "https://localhost:8080/",
          "height": 195
        }
      },
      "cell_type": "code",
      "source": [
        "#merging the datasets\n",
        "tconst = directorid.merge(review, on='tconst', how='inner')\n",
        "tconst = tconst.merge(title, on='tconst', how='inner')\n",
        "tconst = tconst.merge(basics, on='tconst', how='inner')\n",
        "imdb = tconst.merge(director, on='directors', how='inner')\n",
        "imdb = imdb.drop(columns=['isOriginalTitle','tconst','directors', 'titleType'])\n",
        "imdb = imdb.rename(columns = {'primaryName':'director'})\n",
        "imdb = imdb.sort_values('averageRating', ascending=True)\n",
        "imdb = imdb.drop_duplicates()\n",
        "imdb.head()"
      ],
      "execution_count": 28,
      "outputs": [
        {
          "output_type": "execute_result",
          "data": {
            "text/html": [
              "<div>\n",
              "<style scoped>\n",
              "    .dataframe tbody tr th:only-of-type {\n",
              "        vertical-align: middle;\n",
              "    }\n",
              "\n",
              "    .dataframe tbody tr th {\n",
              "        vertical-align: top;\n",
              "    }\n",
              "\n",
              "    .dataframe thead th {\n",
              "        text-align: right;\n",
              "    }\n",
              "</style>\n",
              "<table border=\"1\" class=\"dataframe\">\n",
              "  <thead>\n",
              "    <tr style=\"text-align: right;\">\n",
              "      <th></th>\n",
              "      <th>averageRating</th>\n",
              "      <th>numVotes</th>\n",
              "      <th>title</th>\n",
              "      <th>isAdult</th>\n",
              "      <th>startYear</th>\n",
              "      <th>runtimeMinutes</th>\n",
              "      <th>genres</th>\n",
              "      <th>director</th>\n",
              "    </tr>\n",
              "  </thead>\n",
              "  <tbody>\n",
              "    <tr>\n",
              "      <th>3143</th>\n",
              "      <td>1.3</td>\n",
              "      <td>3211</td>\n",
              "      <td>Li hai le, wo de guo</td>\n",
              "      <td>0</td>\n",
              "      <td>2018</td>\n",
              "      <td>90</td>\n",
              "      <td>Documentary</td>\n",
              "      <td>Tie Wei</td>\n",
              "    </tr>\n",
              "    <tr>\n",
              "      <th>3076</th>\n",
              "      <td>1.5</td>\n",
              "      <td>1874</td>\n",
              "      <td>Namaste England</td>\n",
              "      <td>0</td>\n",
              "      <td>2018</td>\n",
              "      <td>141</td>\n",
              "      <td>Comedy,Drama,Romance</td>\n",
              "      <td>Vipul Amrutlal Shah</td>\n",
              "    </tr>\n",
              "    <tr>\n",
              "      <th>996</th>\n",
              "      <td>1.7</td>\n",
              "      <td>1046</td>\n",
              "      <td>Ring of Terror</td>\n",
              "      <td>0</td>\n",
              "      <td>1961</td>\n",
              "      <td>71</td>\n",
              "      <td>Drama,Horror</td>\n",
              "      <td>Clark L. Paylow</td>\n",
              "    </tr>\n",
              "    <tr>\n",
              "      <th>3130</th>\n",
              "      <td>1.8</td>\n",
              "      <td>6811</td>\n",
              "      <td>A Sniper's War</td>\n",
              "      <td>0</td>\n",
              "      <td>2018</td>\n",
              "      <td>83</td>\n",
              "      <td>Documentary</td>\n",
              "      <td>Olya Schechter</td>\n",
              "    </tr>\n",
              "    <tr>\n",
              "      <th>2632</th>\n",
              "      <td>1.9</td>\n",
              "      <td>11572</td>\n",
              "      <td>Going Overboard</td>\n",
              "      <td>0</td>\n",
              "      <td>1989</td>\n",
              "      <td>99</td>\n",
              "      <td>Comedy</td>\n",
              "      <td>Valerie Breiman</td>\n",
              "    </tr>\n",
              "  </tbody>\n",
              "</table>\n",
              "</div>"
            ],
            "text/plain": [
              "      averageRating  numVotes                 title  isAdult startYear  \\\n",
              "3143            1.3      3211  Li hai le, wo de guo        0      2018   \n",
              "3076            1.5      1874       Namaste England        0      2018   \n",
              "996             1.7      1046        Ring of Terror        0      1961   \n",
              "3130            1.8      6811        A Sniper's War        0      2018   \n",
              "2632            1.9     11572       Going Overboard        0      1989   \n",
              "\n",
              "     runtimeMinutes                genres             director  \n",
              "3143             90           Documentary              Tie Wei  \n",
              "3076            141  Comedy,Drama,Romance  Vipul Amrutlal Shah  \n",
              "996              71          Drama,Horror      Clark L. Paylow  \n",
              "3130             83           Documentary       Olya Schechter  \n",
              "2632             99                Comedy      Valerie Breiman  "
            ]
          },
          "metadata": {
            "tags": []
          },
          "execution_count": 28
        }
      ]
    },
    {
      "metadata": {
        "id": "o_gYqWxOfFML",
        "colab_type": "code",
        "outputId": "1658776d-01c3-46ec-f366-553b9d24b7b9",
        "colab": {
          "base_uri": "https://localhost:8080/",
          "height": 34
        }
      },
      "cell_type": "code",
      "source": [
        "imdb.shape"
      ],
      "execution_count": 29,
      "outputs": [
        {
          "output_type": "execute_result",
          "data": {
            "text/plain": [
              "(3187, 8)"
            ]
          },
          "metadata": {
            "tags": []
          },
          "execution_count": 29
        }
      ]
    },
    {
      "metadata": {
        "id": "PrOMEuxXCq9t",
        "colab_type": "code",
        "outputId": "58881c22-4a4b-408a-9719-139ed2d2c88e",
        "colab": {
          "base_uri": "https://localhost:8080/",
          "height": 168
        }
      },
      "cell_type": "code",
      "source": [
        "imdb = imdb.replace({r'\\N': np.nan})\n",
        "imdb.isnull().sum()"
      ],
      "execution_count": 30,
      "outputs": [
        {
          "output_type": "execute_result",
          "data": {
            "text/plain": [
              "averageRating     0\n",
              "numVotes          0\n",
              "title             0\n",
              "isAdult           0\n",
              "startYear         0\n",
              "runtimeMinutes    0\n",
              "genres            0\n",
              "director          0\n",
              "dtype: int64"
            ]
          },
          "metadata": {
            "tags": []
          },
          "execution_count": 30
        }
      ]
    },
    {
      "metadata": {
        "id": "Gb3NkH9EYpxk",
        "colab_type": "text"
      },
      "cell_type": "markdown",
      "source": [
        "# **What are the highest and lowest rated genres?**"
      ]
    },
    {
      "metadata": {
        "id": "wxvqmW7vYUn-",
        "colab_type": "code",
        "outputId": "de7fdd26-63f5-4406-8d95-afec8db24e2e",
        "colab": {
          "base_uri": "https://localhost:8080/",
          "height": 195
        }
      },
      "cell_type": "code",
      "source": [
        "#What are the highest and lowest rated genres?\n",
        "genre = imdb[['genres', 'averageRating']]\n",
        "genre.head()"
      ],
      "execution_count": 31,
      "outputs": [
        {
          "output_type": "execute_result",
          "data": {
            "text/html": [
              "<div>\n",
              "<style scoped>\n",
              "    .dataframe tbody tr th:only-of-type {\n",
              "        vertical-align: middle;\n",
              "    }\n",
              "\n",
              "    .dataframe tbody tr th {\n",
              "        vertical-align: top;\n",
              "    }\n",
              "\n",
              "    .dataframe thead th {\n",
              "        text-align: right;\n",
              "    }\n",
              "</style>\n",
              "<table border=\"1\" class=\"dataframe\">\n",
              "  <thead>\n",
              "    <tr style=\"text-align: right;\">\n",
              "      <th></th>\n",
              "      <th>genres</th>\n",
              "      <th>averageRating</th>\n",
              "    </tr>\n",
              "  </thead>\n",
              "  <tbody>\n",
              "    <tr>\n",
              "      <th>3143</th>\n",
              "      <td>Documentary</td>\n",
              "      <td>1.3</td>\n",
              "    </tr>\n",
              "    <tr>\n",
              "      <th>3076</th>\n",
              "      <td>Comedy,Drama,Romance</td>\n",
              "      <td>1.5</td>\n",
              "    </tr>\n",
              "    <tr>\n",
              "      <th>996</th>\n",
              "      <td>Drama,Horror</td>\n",
              "      <td>1.7</td>\n",
              "    </tr>\n",
              "    <tr>\n",
              "      <th>3130</th>\n",
              "      <td>Documentary</td>\n",
              "      <td>1.8</td>\n",
              "    </tr>\n",
              "    <tr>\n",
              "      <th>2632</th>\n",
              "      <td>Comedy</td>\n",
              "      <td>1.9</td>\n",
              "    </tr>\n",
              "  </tbody>\n",
              "</table>\n",
              "</div>"
            ],
            "text/plain": [
              "                    genres  averageRating\n",
              "3143           Documentary            1.3\n",
              "3076  Comedy,Drama,Romance            1.5\n",
              "996           Drama,Horror            1.7\n",
              "3130           Documentary            1.8\n",
              "2632                Comedy            1.9"
            ]
          },
          "metadata": {
            "tags": []
          },
          "execution_count": 31
        }
      ]
    },
    {
      "metadata": {
        "id": "XwEWWKIdKOdP",
        "colab_type": "code",
        "outputId": "69c987f8-525f-4a80-b648-32c7e16d9d7f",
        "colab": {
          "base_uri": "https://localhost:8080/",
          "height": 1075
        }
      },
      "cell_type": "code",
      "source": [
        "genre.groupby('genres').averageRating.nunique()\n",
        "#oh no"
      ],
      "execution_count": 32,
      "outputs": [
        {
          "output_type": "execute_result",
          "data": {
            "text/plain": [
              "genres\n",
              "Action                         7\n",
              "Action,Adventure               5\n",
              "Action,Adventure,Animation     4\n",
              "Action,Adventure,Biography     2\n",
              "Action,Adventure,Comedy       29\n",
              "Action,Adventure,Crime         8\n",
              "Action,Adventure,Drama        21\n",
              "Action,Adventure,Family        4\n",
              "Action,Adventure,Fantasy      16\n",
              "Action,Adventure,Horror        2\n",
              "Action,Adventure,Mystery       1\n",
              "Action,Adventure,Romance       2\n",
              "Action,Adventure,Sci-Fi       15\n",
              "Action,Adventure,Thriller     13\n",
              "Action,Adventure,Western       1\n",
              "Action,Animation,Comedy        3\n",
              "Action,Animation,Crime         1\n",
              "Action,Animation,Drama         1\n",
              "Action,Animation,Fantasy       2\n",
              "Action,Biography,Crime         1\n",
              "Action,Biography,Drama         3\n",
              "Action,Comedy                  9\n",
              "Action,Comedy,Crime           25\n",
              "Action,Comedy,Drama           13\n",
              "Action,Comedy,Family           4\n",
              "Action,Comedy,Fantasy          5\n",
              "Action,Comedy,History          1\n",
              "Action,Comedy,Horror           2\n",
              "Action,Comedy,Mystery          3\n",
              "Action,Comedy,Romance          6\n",
              "                              ..\n",
              "Fantasy,Sci-Fi,Thriller        1\n",
              "History,Romance,Western        1\n",
              "Horror                        37\n",
              "Horror,Music                   2\n",
              "Horror,Musical                 1\n",
              "Horror,Mystery                10\n",
              "Horror,Mystery,Romance         2\n",
              "Horror,Mystery,Sci-Fi          3\n",
              "Horror,Mystery,Thriller       15\n",
              "Horror,Romance                 1\n",
              "Horror,Romance,Sci-Fi          1\n",
              "Horror,Romance,Thriller        1\n",
              "Horror,Sci-Fi                 30\n",
              "Horror,Sci-Fi,Thriller         6\n",
              "Horror,Thriller               24\n",
              "Musical,Romance                1\n",
              "Musical,Romance,War            1\n",
              "Mystery                        2\n",
              "Mystery,Romance,Thriller       2\n",
              "Mystery,Thriller               8\n",
              "Romance                        3\n",
              "Romance,Sci-Fi                 1\n",
              "Romance,Thriller               2\n",
              "Romance,Thriller,Western       1\n",
              "Romance,Western                4\n",
              "Sci-Fi                         9\n",
              "Sci-Fi,Thriller                4\n",
              "Thriller                      10\n",
              "Thriller,War                   1\n",
              "Western                       11\n",
              "Name: averageRating, Length: 349, dtype: int64"
            ]
          },
          "metadata": {
            "tags": []
          },
          "execution_count": 32
        }
      ]
    },
    {
      "metadata": {
        "id": "yu8pXHxeIlzO",
        "colab_type": "code",
        "outputId": "e85cf3dc-70af-4399-f7f5-bfae31d17d73",
        "colab": {
          "base_uri": "https://localhost:8080/",
          "height": 339
        }
      },
      "cell_type": "code",
      "source": [
        "movielist = []\n",
        "moviemean = []\n",
        "\n",
        "for genres in ['Horror', 'Action', 'Romance', 'Adventure', 'Animation', 'Biography', 'Comedy', 'Crime', 'Drama',\n",
        "              'Family', 'Fantasy', 'Sci-Fi', 'Mystery', 'Thriller', 'Western']:\n",
        "  MoviesInGenre = genre[genre['genres'].str.contains(genres)]\n",
        "  m = MoviesInGenre.averageRating.mean()\n",
        "  movielist.append(genres)\n",
        "  moviemean.append(m)\n",
        "print(movielist)\n",
        "print(moviemean)\n",
        "Combined = pd.Series(data=moviemean, index=movielist).sort_values()\n",
        "Combined"
      ],
      "execution_count": 33,
      "outputs": [
        {
          "output_type": "stream",
          "text": [
            "['Horror', 'Action', 'Romance', 'Adventure', 'Animation', 'Biography', 'Comedy', 'Crime', 'Drama', 'Family', 'Fantasy', 'Sci-Fi', 'Mystery', 'Thriller', 'Western']\n",
            "[5.7326388888888875, 6.13832684824902, 6.729699842022115, 6.285476190476186, 7.1924528301886825, 7.25441176470588, 6.397233864207871, 6.6079107505070995, 6.958999999999995, 6.375144508670518, 6.146982758620688, 5.613888888888892, 6.650761421319792, 6.32102272727272, 6.831884057971015]\n"
          ],
          "name": "stdout"
        },
        {
          "output_type": "execute_result",
          "data": {
            "text/plain": [
              "Sci-Fi       5.613889\n",
              "Horror       5.732639\n",
              "Action       6.138327\n",
              "Fantasy      6.146983\n",
              "Adventure    6.285476\n",
              "Thriller     6.321023\n",
              "Family       6.375145\n",
              "Comedy       6.397234\n",
              "Crime        6.607911\n",
              "Mystery      6.650761\n",
              "Romance      6.729700\n",
              "Western      6.831884\n",
              "Drama        6.959000\n",
              "Animation    7.192453\n",
              "Biography    7.254412\n",
              "dtype: float64"
            ]
          },
          "metadata": {
            "tags": []
          },
          "execution_count": 33
        }
      ]
    },
    {
      "metadata": {
        "id": "UNSwZtnZM16T",
        "colab_type": "code",
        "outputId": "0df2b033-a361-4b8f-ad1f-2457cc5980a8",
        "colab": {
          "base_uri": "https://localhost:8080/",
          "height": 118
        }
      },
      "cell_type": "code",
      "source": [
        "#The 5 lowest rated genres\n",
        "Combined.head()"
      ],
      "execution_count": 34,
      "outputs": [
        {
          "output_type": "execute_result",
          "data": {
            "text/plain": [
              "Sci-Fi       5.613889\n",
              "Horror       5.732639\n",
              "Action       6.138327\n",
              "Fantasy      6.146983\n",
              "Adventure    6.285476\n",
              "dtype: float64"
            ]
          },
          "metadata": {
            "tags": []
          },
          "execution_count": 34
        }
      ]
    },
    {
      "metadata": {
        "id": "2PW7K23WNJsl",
        "colab_type": "code",
        "outputId": "445d776b-3dd7-4955-ba9f-6f928e9ebbff",
        "colab": {
          "base_uri": "https://localhost:8080/",
          "height": 118
        }
      },
      "cell_type": "code",
      "source": [
        "#The 5 highest rated genres\n",
        "Combined.tail()"
      ],
      "execution_count": 35,
      "outputs": [
        {
          "output_type": "execute_result",
          "data": {
            "text/plain": [
              "Romance      6.729700\n",
              "Western      6.831884\n",
              "Drama        6.959000\n",
              "Animation    7.192453\n",
              "Biography    7.254412\n",
              "dtype: float64"
            ]
          },
          "metadata": {
            "tags": []
          },
          "execution_count": 35
        }
      ]
    },
    {
      "metadata": {
        "id": "gUtJe7cTzvDl",
        "colab_type": "code",
        "outputId": "49c63fc7-9943-4fa7-9b7d-25e6ddb099e6",
        "colab": {
          "base_uri": "https://localhost:8080/",
          "height": 316
        }
      },
      "cell_type": "code",
      "source": [
        "plt.style.use('ggplot')\n",
        "ax = Combined.plot.barh(color='#5EC962', width=0.8, legend=False);\n",
        "ax.set(xticks=range(0, 11, 1));\n",
        "ax.tick_params(axis='both', labelcolor='black')\n",
        "ax.set_xlabel('average rating (out of 10)')\n",
        "ax.text(x=0, y=16, s=\"Biopics and animation lead in quality\", fontsize=18, fontweight='bold')\n",
        "ax.text(x=0, y=15, s='IMDb movie genres by average user rating', fontsize=15, color='#424242');"
      ],
      "execution_count": 149,
      "outputs": [
        {
          "output_type": "display_data",
          "data": {
            "image/png": "[encoded data removed]",
            "text/plain": [
              "<Figure size 432x288 with 1 Axes>"
            ]
          },
          "metadata": {
            "tags": []
          }
        }
      ]
    },
    {
      "metadata": {
        "id": "v5vOn-dXEp7v",
        "colab_type": "code",
        "outputId": "d7c0f916-f6e0-4cd6-bb1b-b39dd40cbff1",
        "colab": {
          "base_uri": "https://localhost:8080/",
          "height": 302
        }
      },
      "cell_type": "code",
      "source": [
        "SciFi = genre[genre['genres'].str.contains('Sci-Fi')]\n",
        "\n",
        "Count = SciFi.genres.value_counts()\n",
        "MoreThan5 = Count[Count.values >= 5]\n",
        "MoreThan5 = MoreThan5.index.tolist()\n",
        "SciFi = SciFi[SciFi.genres.isin(MoreThan5)]\n",
        "\n",
        "SciFi = SciFi.groupby('genres').averageRating.mean()\n",
        "SciFi = SciFi.sort_values(ascending=False)\n",
        "SciFi"
      ],
      "execution_count": 37,
      "outputs": [
        {
          "output_type": "execute_result",
          "data": {
            "text/plain": [
              "genres\n",
              "Drama,Sci-Fi                7.460000\n",
              "Adventure,Comedy,Sci-Fi     6.916667\n",
              "Drama,Horror,Sci-Fi         6.462500\n",
              "Comedy,Romance,Sci-Fi       6.175000\n",
              "Action,Crime,Sci-Fi         5.966667\n",
              "Adventure,Fantasy,Sci-Fi    5.940000\n",
              "Horror,Sci-Fi,Thriller      5.800000\n",
              "Action,Adventure,Sci-Fi     5.711765\n",
              "Adventure,Sci-Fi            5.657143\n",
              "Comedy,Horror,Sci-Fi        5.636842\n",
              "Action,Horror,Sci-Fi        5.557143\n",
              "Comedy,Sci-Fi               5.316667\n",
              "Action,Sci-Fi               5.066667\n",
              "Horror,Sci-Fi               4.876596\n",
              "Sci-Fi                      3.833333\n",
              "Name: averageRating, dtype: float64"
            ]
          },
          "metadata": {
            "tags": []
          },
          "execution_count": 37
        }
      ]
    },
    {
      "metadata": {
        "id": "gNlJyA2uH2mu",
        "colab_type": "code",
        "outputId": "b6d8f2d2-24a9-4c25-faeb-5a5c1c7bc39e",
        "colab": {
          "base_uri": "https://localhost:8080/",
          "height": 316
        }
      },
      "cell_type": "code",
      "source": [
        "plt.style.use('ggplot')\n",
        "ax = SciFi.plot.barh(color='#21918C', width=0.8, legend=False);\n",
        "ax.set(xticks=range(0, 11, 1));\n",
        "ax.tick_params(axis='both', labelcolor='black')\n",
        "ax.set_xlabel('average rating (out of 10)')\n",
        "ax.set_ylabel('')\n",
        "ax.text(x=0, y=16, s=\"The schlockiest of Sci-Fi is by itself\", fontsize=18, fontweight='bold')\n",
        "ax.text(x=0, y=15, s='Ratings on subgenres of sci-fi with five or more films', fontsize=15, color='#424242');"
      ],
      "execution_count": 150,
      "outputs": [
        {
          "output_type": "display_data",
          "data": {
            "image/png": "[encoded data removed]",
            "text/plain": [
              "<Figure size 432x288 with 1 Axes>"
            ]
          },
          "metadata": {
            "tags": []
          }
        }
      ]
    },
    {
      "metadata": {
        "id": "-0BgPRGLY3SM",
        "colab_type": "text"
      },
      "cell_type": "markdown",
      "source": [
        "# **Who are the highest and lowest rated directors?**"
      ]
    },
    {
      "metadata": {
        "id": "wGrORiJQyEUm",
        "colab_type": "code",
        "outputId": "e193cc14-1194-4a05-dcd3-3f605f6c9bd1",
        "colab": {
          "base_uri": "https://localhost:8080/",
          "height": 195
        }
      },
      "cell_type": "code",
      "source": [
        "#Who are the highest and lowest rated directors?\n",
        "directors = imdb[['director', 'averageRating']]\n",
        "directors.head()\n",
        "directorCount = directors.director.value_counts()\n",
        "#lots of directors with only 1 film with more than 1000 votes *cries in Errol Morris*\n",
        "MoreThan5 = directorCount[directorCount.values >= 5]\n",
        "MoreThan5 = MoreThan5.index.tolist()\n",
        "#our conditional list - theatre films with more than 1000 votes from directors with 5 or more other movies with 1000 votes\n",
        "directors = directors[directors.director.isin(MoreThan5)]\n",
        "directors.head()"
      ],
      "execution_count": 39,
      "outputs": [
        {
          "output_type": "execute_result",
          "data": {
            "text/html": [
              "<div>\n",
              "<style scoped>\n",
              "    .dataframe tbody tr th:only-of-type {\n",
              "        vertical-align: middle;\n",
              "    }\n",
              "\n",
              "    .dataframe tbody tr th {\n",
              "        vertical-align: top;\n",
              "    }\n",
              "\n",
              "    .dataframe thead th {\n",
              "        text-align: right;\n",
              "    }\n",
              "</style>\n",
              "<table border=\"1\" class=\"dataframe\">\n",
              "  <thead>\n",
              "    <tr style=\"text-align: right;\">\n",
              "      <th></th>\n",
              "      <th>director</th>\n",
              "      <th>averageRating</th>\n",
              "    </tr>\n",
              "  </thead>\n",
              "  <tbody>\n",
              "    <tr>\n",
              "      <th>199</th>\n",
              "      <td>Roger Corman</td>\n",
              "      <td>2.9</td>\n",
              "    </tr>\n",
              "    <tr>\n",
              "      <th>200</th>\n",
              "      <td>Roger Corman</td>\n",
              "      <td>3.1</td>\n",
              "    </tr>\n",
              "    <tr>\n",
              "      <th>2144</th>\n",
              "      <td>Albert Pyun</td>\n",
              "      <td>3.1</td>\n",
              "    </tr>\n",
              "    <tr>\n",
              "      <th>204</th>\n",
              "      <td>Roger Corman</td>\n",
              "      <td>3.4</td>\n",
              "    </tr>\n",
              "    <tr>\n",
              "      <th>363</th>\n",
              "      <td>Bert I. Gordon</td>\n",
              "      <td>3.4</td>\n",
              "    </tr>\n",
              "  </tbody>\n",
              "</table>\n",
              "</div>"
            ],
            "text/plain": [
              "            director  averageRating\n",
              "199     Roger Corman            2.9\n",
              "200     Roger Corman            3.1\n",
              "2144     Albert Pyun            3.1\n",
              "204     Roger Corman            3.4\n",
              "363   Bert I. Gordon            3.4"
            ]
          },
          "metadata": {
            "tags": []
          },
          "execution_count": 39
        }
      ]
    },
    {
      "metadata": {
        "id": "jm_5UV4cZJ2O",
        "colab_type": "code",
        "outputId": "f0163453-1346-43e8-c667-5d7392c7154a",
        "colab": {
          "base_uri": "https://localhost:8080/",
          "height": 225
        }
      },
      "cell_type": "code",
      "source": [
        "DirectorRating = directors.groupby(directors['director']).mean()\n",
        "type(DirectorRating) #dataframe\n",
        "DirectorRating.reset_index()\n",
        "DirectorRating = DirectorRating.sort_values(by = ['averageRating'])\n",
        "#The Absolute Worst\n",
        "DirectorRating.head()"
      ],
      "execution_count": 40,
      "outputs": [
        {
          "output_type": "execute_result",
          "data": {
            "text/html": [
              "<div>\n",
              "<style scoped>\n",
              "    .dataframe tbody tr th:only-of-type {\n",
              "        vertical-align: middle;\n",
              "    }\n",
              "\n",
              "    .dataframe tbody tr th {\n",
              "        vertical-align: top;\n",
              "    }\n",
              "\n",
              "    .dataframe thead th {\n",
              "        text-align: right;\n",
              "    }\n",
              "</style>\n",
              "<table border=\"1\" class=\"dataframe\">\n",
              "  <thead>\n",
              "    <tr style=\"text-align: right;\">\n",
              "      <th></th>\n",
              "      <th>averageRating</th>\n",
              "    </tr>\n",
              "    <tr>\n",
              "      <th>director</th>\n",
              "      <th></th>\n",
              "    </tr>\n",
              "  </thead>\n",
              "  <tbody>\n",
              "    <tr>\n",
              "      <th>Bert I. Gordon</th>\n",
              "      <td>4.140000</td>\n",
              "    </tr>\n",
              "    <tr>\n",
              "      <th>Albert Pyun</th>\n",
              "      <td>5.214286</td>\n",
              "    </tr>\n",
              "    <tr>\n",
              "      <th>Bob Clark</th>\n",
              "      <td>5.300000</td>\n",
              "    </tr>\n",
              "    <tr>\n",
              "      <th>Sam Firstenberg</th>\n",
              "      <td>5.383333</td>\n",
              "    </tr>\n",
              "    <tr>\n",
              "      <th>Mark L. Lester</th>\n",
              "      <td>5.633333</td>\n",
              "    </tr>\n",
              "  </tbody>\n",
              "</table>\n",
              "</div>"
            ],
            "text/plain": [
              "                 averageRating\n",
              "director                      \n",
              "Bert I. Gordon        4.140000\n",
              "Albert Pyun           5.214286\n",
              "Bob Clark             5.300000\n",
              "Sam Firstenberg       5.383333\n",
              "Mark L. Lester        5.633333"
            ]
          },
          "metadata": {
            "tags": []
          },
          "execution_count": 40
        }
      ]
    },
    {
      "metadata": {
        "id": "cfQy4BapRC15",
        "colab_type": "code",
        "outputId": "aa45020d-7404-41fd-a3f1-a1aa40075be8",
        "colab": {
          "base_uri": "https://localhost:8080/",
          "height": 225
        }
      },
      "cell_type": "code",
      "source": [
        "#The Best\n",
        "DirectorRating.tail()"
      ],
      "execution_count": 41,
      "outputs": [
        {
          "output_type": "execute_result",
          "data": {
            "text/html": [
              "<div>\n",
              "<style scoped>\n",
              "    .dataframe tbody tr th:only-of-type {\n",
              "        vertical-align: middle;\n",
              "    }\n",
              "\n",
              "    .dataframe tbody tr th {\n",
              "        vertical-align: top;\n",
              "    }\n",
              "\n",
              "    .dataframe thead th {\n",
              "        text-align: right;\n",
              "    }\n",
              "</style>\n",
              "<table border=\"1\" class=\"dataframe\">\n",
              "  <thead>\n",
              "    <tr style=\"text-align: right;\">\n",
              "      <th></th>\n",
              "      <th>averageRating</th>\n",
              "    </tr>\n",
              "    <tr>\n",
              "      <th>director</th>\n",
              "      <th></th>\n",
              "    </tr>\n",
              "  </thead>\n",
              "  <tbody>\n",
              "    <tr>\n",
              "      <th>Yasujirô Ozu</th>\n",
              "      <td>8.085714</td>\n",
              "    </tr>\n",
              "    <tr>\n",
              "      <th>Akira Kurosawa</th>\n",
              "      <td>8.085714</td>\n",
              "    </tr>\n",
              "    <tr>\n",
              "      <th>Stanley Kubrick</th>\n",
              "      <td>8.120000</td>\n",
              "    </tr>\n",
              "    <tr>\n",
              "      <th>Satyajit Ray</th>\n",
              "      <td>8.166667</td>\n",
              "    </tr>\n",
              "    <tr>\n",
              "      <th>Masaki Kobayashi</th>\n",
              "      <td>8.520000</td>\n",
              "    </tr>\n",
              "  </tbody>\n",
              "</table>\n",
              "</div>"
            ],
            "text/plain": [
              "                  averageRating\n",
              "director                       \n",
              "Yasujirô Ozu           8.085714\n",
              "Akira Kurosawa         8.085714\n",
              "Stanley Kubrick        8.120000\n",
              "Satyajit Ray           8.166667\n",
              "Masaki Kobayashi       8.520000"
            ]
          },
          "metadata": {
            "tags": []
          },
          "execution_count": 41
        }
      ]
    },
    {
      "metadata": {
        "id": "BDclZWUUEMQ3",
        "colab_type": "text"
      },
      "cell_type": "markdown",
      "source": [
        "#**How Does Runtime Effect Rating?**"
      ]
    },
    {
      "metadata": {
        "id": "DE0dDJn5DVQ0",
        "colab_type": "code",
        "outputId": "08653c00-44a8-4e11-8515-82240019563b",
        "colab": {
          "base_uri": "https://localhost:8080/",
          "height": 50
        }
      },
      "cell_type": "code",
      "source": [
        "#graph got 'no numeric types' error so I'm checking the value types\n",
        "print(type(imdb['runtimeMinutes'][0])) #need to convert to integer\n",
        "type(imdb['averageRating'][0])"
      ],
      "execution_count": 42,
      "outputs": [
        {
          "output_type": "stream",
          "text": [
            "<class 'str'>\n"
          ],
          "name": "stdout"
        },
        {
          "output_type": "execute_result",
          "data": {
            "text/plain": [
              "numpy.float64"
            ]
          },
          "metadata": {
            "tags": []
          },
          "execution_count": 42
        }
      ]
    },
    {
      "metadata": {
        "id": "bEXIm30WNEYq",
        "colab_type": "code",
        "colab": {}
      },
      "cell_type": "code",
      "source": [
        "imdb[['runtimeMinutes', 'averageRating']] = imdb[['runtimeMinutes',\n",
        "                                                  'averageRating']].astype(float)"
      ],
      "execution_count": 0,
      "outputs": []
    },
    {
      "metadata": {
        "id": "-4pw1PPlyP7p",
        "colab_type": "code",
        "outputId": "96615918-2db2-4036-b744-338b492d7c73",
        "colab": {
          "base_uri": "https://localhost:8080/",
          "height": 286
        }
      },
      "cell_type": "code",
      "source": [
        "ax = sns.lineplot(data=imdb, x=imdb['runtimeMinutes'], y=imdb['averageRating'],\n",
        "                  color='#0491D5', dashes=False, legend=False);\n",
        "#Most of the data is clearly under the 250 minute mark;\n",
        "#it doesn't look like there's a relationship but slicing out outliers could help"
      ],
      "execution_count": 44,
      "outputs": [
        {
          "output_type": "display_data",
          "data": {
            "image/png": "[encoded data removed]",
            "text/plain": [
              "<Figure size 432x288 with 1 Axes>"
            ]
          },
          "metadata": {
            "tags": []
          }
        }
      ]
    },
    {
      "metadata": {
        "id": "Jz376wiGRTIe",
        "colab_type": "code",
        "outputId": "ce7de6eb-7320-4574-96a8-77410b3875cf",
        "colab": {
          "base_uri": "https://localhost:8080/",
          "height": 343
        }
      },
      "cell_type": "code",
      "source": [
        "length = imdb[['runtimeMinutes', 'averageRating']]\n",
        "length = length[length['runtimeMinutes']<=250]\n",
        "\n",
        "ratingRange = np.linspace(0, 10, 11)\n",
        "timeRange = [40, 60, 80, 100, 120, 140, 160, 180, 200, 250]\n",
        "runtimeBin = pd.cut(length['runtimeMinutes'], timeRange, right=False)\n",
        "ratingBin = pd.cut(length['averageRating'], ratingRange, right=False)\n",
        "ct = pd.crosstab(runtimeBin, ratingBin, normalize='columns');\n",
        "ct"
      ],
      "execution_count": 147,
      "outputs": [
        {
          "output_type": "execute_result",
          "data": {
            "text/html": [
              "<div>\n",
              "<style scoped>\n",
              "    .dataframe tbody tr th:only-of-type {\n",
              "        vertical-align: middle;\n",
              "    }\n",
              "\n",
              "    .dataframe tbody tr th {\n",
              "        vertical-align: top;\n",
              "    }\n",
              "\n",
              "    .dataframe thead th {\n",
              "        text-align: right;\n",
              "    }\n",
              "</style>\n",
              "<table border=\"1\" class=\"dataframe\">\n",
              "  <thead>\n",
              "    <tr style=\"text-align: right;\">\n",
              "      <th>averageRating</th>\n",
              "      <th>[0.0, 1.0)</th>\n",
              "      <th>[1.0, 2.0)</th>\n",
              "      <th>[2.0, 3.0)</th>\n",
              "      <th>[3.0, 4.0)</th>\n",
              "      <th>[4.0, 5.0)</th>\n",
              "      <th>[5.0, 6.0)</th>\n",
              "      <th>[6.0, 7.0)</th>\n",
              "      <th>[7.0, 8.0)</th>\n",
              "      <th>[8.0, 9.0)</th>\n",
              "      <th>[9.0, 10.0)</th>\n",
              "    </tr>\n",
              "    <tr>\n",
              "      <th>runtimeMinutes</th>\n",
              "      <th></th>\n",
              "      <th></th>\n",
              "      <th></th>\n",
              "      <th></th>\n",
              "      <th></th>\n",
              "      <th></th>\n",
              "      <th></th>\n",
              "      <th></th>\n",
              "      <th></th>\n",
              "      <th></th>\n",
              "    </tr>\n",
              "  </thead>\n",
              "  <tbody>\n",
              "    <tr>\n",
              "      <th>[40, 60)</th>\n",
              "      <td>0.0</td>\n",
              "      <td>0.0</td>\n",
              "      <td>0.024390</td>\n",
              "      <td>0.027397</td>\n",
              "      <td>0.005348</td>\n",
              "      <td>0.000000</td>\n",
              "      <td>0.004916</td>\n",
              "      <td>0.009166</td>\n",
              "      <td>0.007576</td>\n",
              "      <td>0.00</td>\n",
              "    </tr>\n",
              "    <tr>\n",
              "      <th>[60, 80)</th>\n",
              "      <td>0.0</td>\n",
              "      <td>0.2</td>\n",
              "      <td>0.292683</td>\n",
              "      <td>0.205479</td>\n",
              "      <td>0.074866</td>\n",
              "      <td>0.038229</td>\n",
              "      <td>0.030482</td>\n",
              "      <td>0.054995</td>\n",
              "      <td>0.045455</td>\n",
              "      <td>0.00</td>\n",
              "    </tr>\n",
              "    <tr>\n",
              "      <th>[80, 100)</th>\n",
              "      <td>0.0</td>\n",
              "      <td>0.6</td>\n",
              "      <td>0.585366</td>\n",
              "      <td>0.671233</td>\n",
              "      <td>0.695187</td>\n",
              "      <td>0.575453</td>\n",
              "      <td>0.411013</td>\n",
              "      <td>0.307058</td>\n",
              "      <td>0.250000</td>\n",
              "      <td>0.50</td>\n",
              "    </tr>\n",
              "    <tr>\n",
              "      <th>[100, 120)</th>\n",
              "      <td>0.0</td>\n",
              "      <td>0.0</td>\n",
              "      <td>0.073171</td>\n",
              "      <td>0.082192</td>\n",
              "      <td>0.181818</td>\n",
              "      <td>0.334004</td>\n",
              "      <td>0.418879</td>\n",
              "      <td>0.362970</td>\n",
              "      <td>0.246212</td>\n",
              "      <td>0.00</td>\n",
              "    </tr>\n",
              "    <tr>\n",
              "      <th>[120, 140)</th>\n",
              "      <td>0.0</td>\n",
              "      <td>0.0</td>\n",
              "      <td>0.024390</td>\n",
              "      <td>0.000000</td>\n",
              "      <td>0.016043</td>\n",
              "      <td>0.040241</td>\n",
              "      <td>0.096362</td>\n",
              "      <td>0.155820</td>\n",
              "      <td>0.219697</td>\n",
              "      <td>0.25</td>\n",
              "    </tr>\n",
              "    <tr>\n",
              "      <th>[140, 160)</th>\n",
              "      <td>0.0</td>\n",
              "      <td>0.2</td>\n",
              "      <td>0.000000</td>\n",
              "      <td>0.013699</td>\n",
              "      <td>0.021390</td>\n",
              "      <td>0.008048</td>\n",
              "      <td>0.023599</td>\n",
              "      <td>0.062328</td>\n",
              "      <td>0.121212</td>\n",
              "      <td>0.25</td>\n",
              "    </tr>\n",
              "    <tr>\n",
              "      <th>[160, 180)</th>\n",
              "      <td>0.0</td>\n",
              "      <td>0.0</td>\n",
              "      <td>0.000000</td>\n",
              "      <td>0.000000</td>\n",
              "      <td>0.005348</td>\n",
              "      <td>0.004024</td>\n",
              "      <td>0.009833</td>\n",
              "      <td>0.030247</td>\n",
              "      <td>0.060606</td>\n",
              "      <td>0.00</td>\n",
              "    </tr>\n",
              "    <tr>\n",
              "      <th>[180, 200)</th>\n",
              "      <td>0.0</td>\n",
              "      <td>0.0</td>\n",
              "      <td>0.000000</td>\n",
              "      <td>0.000000</td>\n",
              "      <td>0.000000</td>\n",
              "      <td>0.000000</td>\n",
              "      <td>0.003933</td>\n",
              "      <td>0.010999</td>\n",
              "      <td>0.026515</td>\n",
              "      <td>0.00</td>\n",
              "    </tr>\n",
              "    <tr>\n",
              "      <th>[200, 250)</th>\n",
              "      <td>0.0</td>\n",
              "      <td>0.0</td>\n",
              "      <td>0.000000</td>\n",
              "      <td>0.000000</td>\n",
              "      <td>0.000000</td>\n",
              "      <td>0.000000</td>\n",
              "      <td>0.000983</td>\n",
              "      <td>0.006416</td>\n",
              "      <td>0.022727</td>\n",
              "      <td>0.00</td>\n",
              "    </tr>\n",
              "  </tbody>\n",
              "</table>\n",
              "</div>"
            ],
            "text/plain": [
              "averageRating   [0.0, 1.0)  [1.0, 2.0)  [2.0, 3.0)  [3.0, 4.0)  [4.0, 5.0)  \\\n",
              "runtimeMinutes                                                               \n",
              "[40, 60)               0.0         0.0    0.024390    0.027397    0.005348   \n",
              "[60, 80)               0.0         0.2    0.292683    0.205479    0.074866   \n",
              "[80, 100)              0.0         0.6    0.585366    0.671233    0.695187   \n",
              "[100, 120)             0.0         0.0    0.073171    0.082192    0.181818   \n",
              "[120, 140)             0.0         0.0    0.024390    0.000000    0.016043   \n",
              "[140, 160)             0.0         0.2    0.000000    0.013699    0.021390   \n",
              "[160, 180)             0.0         0.0    0.000000    0.000000    0.005348   \n",
              "[180, 200)             0.0         0.0    0.000000    0.000000    0.000000   \n",
              "[200, 250)             0.0         0.0    0.000000    0.000000    0.000000   \n",
              "\n",
              "averageRating   [5.0, 6.0)  [6.0, 7.0)  [7.0, 8.0)  [8.0, 9.0)  [9.0, 10.0)  \n",
              "runtimeMinutes                                                               \n",
              "[40, 60)          0.000000    0.004916    0.009166    0.007576         0.00  \n",
              "[60, 80)          0.038229    0.030482    0.054995    0.045455         0.00  \n",
              "[80, 100)         0.575453    0.411013    0.307058    0.250000         0.50  \n",
              "[100, 120)        0.334004    0.418879    0.362970    0.246212         0.00  \n",
              "[120, 140)        0.040241    0.096362    0.155820    0.219697         0.25  \n",
              "[140, 160)        0.008048    0.023599    0.062328    0.121212         0.25  \n",
              "[160, 180)        0.004024    0.009833    0.030247    0.060606         0.00  \n",
              "[180, 200)        0.000000    0.003933    0.010999    0.026515         0.00  \n",
              "[200, 250)        0.000000    0.000983    0.006416    0.022727         0.00  "
            ]
          },
          "metadata": {
            "tags": []
          },
          "execution_count": 147
        }
      ]
    },
    {
      "metadata": {
        "id": "pZCPb1uzXZdG",
        "colab_type": "code",
        "outputId": "13cfc736-186e-4a1e-9330-abbcbcb42752",
        "colab": {
          "base_uri": "https://localhost:8080/",
          "height": 324
        }
      },
      "cell_type": "code",
      "source": [
        "ct.plot(kind='bar');\n",
        "#it appears that the longer length movies are most likely to have a 8-10 score\n",
        "#while the scores for 80-100 minute movies are fairly normally distributed\n",
        "#scores for 40-80 minute movies trend to 1-4 score"
      ],
      "execution_count": 123,
      "outputs": [
        {
          "output_type": "display_data",
          "data": {
            "image/png": "[encoded data removed]",
            "text/plain": [
              "<Figure size 432x288 with 1 Axes>"
            ]
          },
          "metadata": {
            "tags": []
          }
        }
      ]
    },
    {
      "metadata": {
        "id": "oAgzl9c2m2mr",
        "colab_type": "code",
        "outputId": "d8e428e1-a920-4ed2-e988-6542a68c8a75",
        "colab": {
          "base_uri": "https://localhost:8080/",
          "height": 334
        }
      },
      "cell_type": "code",
      "source": [
        "plt.style.use('ggplot')\n",
        "ax = sns.lineplot(data=length, x=length['runtimeMinutes'],\n",
        "                  y=length['averageRating'],\n",
        "                  color='#21918C', dashes=False, legend=False);\n",
        "ax.text(x=32, y=11.8, s=\"As runtime increases, average rating\", fontsize=15, fontweight='bold')\n",
        "ax.text(x=32, y=11.1, s=\"is higher and has less spread\", fontsize=15, fontweight='bold')\n",
        "ax.text(x=32, y=10.5, s='Runtime of movies over user submitted rating', fontsize=12, color='#424242');\n",
        "ax.set(yticks=range(0,11,1));\n",
        "ax.set(xticks=range(40, 260, 20));\n",
        "ax.tick_params(axis='both', labelcolor='black')\n",
        "plt.xlabel('Runtime (minutes)', color='#424242');\n",
        "plt.ylabel('Average Rating (1-10)', color='#424242');\n",
        "#up to 4 hours"
      ],
      "execution_count": 148,
      "outputs": [
        {
          "output_type": "display_data",
          "data": {
            "image/png": "[encoded data removed]",
            "text/plain": [
              "<Figure size 432x288 with 1 Axes>"
            ]
          },
          "metadata": {
            "tags": []
          }
        }
      ]
    },
    {
      "metadata": {
        "id": "Vv4iLRa6pIv3",
        "colab_type": "code",
        "outputId": "7c855fb6-26c4-47fb-8c8b-221855321966",
        "colab": {
          "base_uri": "https://localhost:8080/",
          "height": 334
        }
      },
      "cell_type": "code",
      "source": [
        "#Line plot comparing 1-4, 5-6, 7-8, 9-10\n",
        "ratingRange = [0, 2, 4, 6, 8, 10]\n",
        "ratingBin = pd.cut(length['averageRating'], ratingRange, right=False)\n",
        "\n",
        "plt.style.use('ggplot')\n",
        "ax = sns.lineplot(data=length, x=length['runtimeMinutes'],\n",
        "                  y=length['averageRating'], hue=ratingBin,\n",
        "                  dashes=False, legend='brief', palette='viridis');\n",
        "ax.set(yticks=range(0,11,1));\n",
        "ax.set(xticks=range(40, 260, 20));\n",
        "ax.tick_params(axis='both', labelcolor='black')\n",
        "ax.text(x=33, y=11.8, s=\"There isn't a cutoff for how short a good movie can be,\", fontsize=15, fontweight='bold')\n",
        "ax.text(x=33, y=11.2, s=\"but there is a cutoff for how long a bad movie can be.\", fontsize=15, fontweight='bold')\n",
        "ax.text(x=33, y=10.5, s='Runtime of movies over rating by various levels of ratings', fontsize=12, color='#424242');\n",
        "plt.xlabel('Runtime (minutes)', color='#424242');\n",
        "plt.ylabel('Average Rating (1-10)', color='#424242');"
      ],
      "execution_count": 146,
      "outputs": [
        {
          "output_type": "display_data",
          "data": {
            "image/png": "[encoded data removed]",
            "text/plain": [
              "<Figure size 432x288 with 1 Axes>"
            ]
          },
          "metadata": {
            "tags": []
          }
        }
      ]
    },
    {
      "metadata": {
        "id": "HWJcdxo4tQcM",
        "colab_type": "text"
      },
      "cell_type": "markdown",
      "source": [
        "#**do adult films have a different rating trend than non-adult films?**"
      ]
    },
    {
      "metadata": {
        "id": "WqNke0GGyYHn",
        "colab_type": "code",
        "outputId": "81ce13c7-0898-45f7-906c-e88c056ab4b2",
        "colab": {
          "base_uri": "https://localhost:8080/",
          "height": 284
        }
      },
      "cell_type": "code",
      "source": [
        "#do adult films have a different rating trend than non-adult films?\n",
        "x = pd.crosstab(imdb['averageRating'], imdb['isAdult'], normalize='index')*100\n",
        "ax = sns.lineplot(data=x, color=['#0491D5', '#FF2801'], hue='isAdult', dashes=False, legend=False);\n",
        "#well darn\n",
        "#for nearly all ratings 100% of examples are non-adult films"
      ],
      "execution_count": 50,
      "outputs": [
        {
          "output_type": "display_data",
          "data": {
            "image/png": "[encoded data removed]",
            "text/plain": [
              "<Figure size 432x288 with 1 Axes>"
            ]
          },
          "metadata": {
            "tags": []
          }
        }
      ]
    },
    {
      "metadata": {
        "id": "XW3oXQetA1oO",
        "colab_type": "code",
        "outputId": "ad4aeb01-14b0-4585-b60d-01c9cd88d98a",
        "colab": {
          "base_uri": "https://localhost:8080/",
          "height": 67
        }
      },
      "cell_type": "code",
      "source": [
        "imdb['isAdult'].value_counts() #lol\n",
        "#question cancelled"
      ],
      "execution_count": 51,
      "outputs": [
        {
          "output_type": "execute_result",
          "data": {
            "text/plain": [
              "0    3186\n",
              "1       1\n",
              "Name: isAdult, dtype: int64"
            ]
          },
          "metadata": {
            "tags": []
          },
          "execution_count": 51
        }
      ]
    },
    {
      "metadata": {
        "id": "6Q1IaHXxQKl4",
        "colab_type": "text"
      },
      "cell_type": "markdown",
      "source": [
        "#**What were the best and worst decades for film? **"
      ]
    },
    {
      "metadata": {
        "id": "fYqq_rie65Ze",
        "colab_type": "code",
        "colab": {}
      },
      "cell_type": "code",
      "source": [
        "imdb['startYear'] = imdb['startYear'].astype(int)"
      ],
      "execution_count": 0,
      "outputs": []
    },
    {
      "metadata": {
        "id": "zyPNLXXBLhkS",
        "colab_type": "code",
        "outputId": "eb1b5132-0574-4079-b6dc-fddb4ecd683a",
        "colab": {
          "base_uri": "https://localhost:8080/",
          "height": 373
        }
      },
      "cell_type": "code",
      "source": [
        "timeline = imdb[['startYear', 'averageRating']]\n",
        "timeline = timeline[timeline['startYear']>=1920]\n",
        "\n",
        "decades = [1920, 1930, 1940, 1950, 1960, 1970, 1980, 1990, 2000, 2010, 2020]\n",
        "decadeBin = pd.cut(timeline['startYear'], decades, right=False)\n",
        "DecadeRating = timeline.groupby(decadeBin).count()\n",
        "DecadeRating[['yearMean', 'ratingMean']] = timeline.groupby(decadeBin).mean()\n",
        "DecadeRating\n",
        "#many categories have under 10 entries\n",
        "#the first category to have more than 10 has more than 100\n",
        "#so our cutoff will be >= 100"
      ],
      "execution_count": 53,
      "outputs": [
        {
          "output_type": "execute_result",
          "data": {
            "text/html": [
              "<div>\n",
              "<style scoped>\n",
              "    .dataframe tbody tr th:only-of-type {\n",
              "        vertical-align: middle;\n",
              "    }\n",
              "\n",
              "    .dataframe tbody tr th {\n",
              "        vertical-align: top;\n",
              "    }\n",
              "\n",
              "    .dataframe thead th {\n",
              "        text-align: right;\n",
              "    }\n",
              "</style>\n",
              "<table border=\"1\" class=\"dataframe\">\n",
              "  <thead>\n",
              "    <tr style=\"text-align: right;\">\n",
              "      <th></th>\n",
              "      <th>startYear</th>\n",
              "      <th>averageRating</th>\n",
              "      <th>yearMean</th>\n",
              "      <th>ratingMean</th>\n",
              "    </tr>\n",
              "    <tr>\n",
              "      <th>startYear</th>\n",
              "      <th></th>\n",
              "      <th></th>\n",
              "      <th></th>\n",
              "      <th></th>\n",
              "    </tr>\n",
              "  </thead>\n",
              "  <tbody>\n",
              "    <tr>\n",
              "      <th>[1920, 1930)</th>\n",
              "      <td>127</td>\n",
              "      <td>127</td>\n",
              "      <td>1925.566929</td>\n",
              "      <td>7.480315</td>\n",
              "    </tr>\n",
              "    <tr>\n",
              "      <th>[1930, 1940)</th>\n",
              "      <td>7</td>\n",
              "      <td>7</td>\n",
              "      <td>1930.714286</td>\n",
              "      <td>7.314286</td>\n",
              "    </tr>\n",
              "    <tr>\n",
              "      <th>[1940, 1950)</th>\n",
              "      <td>0</td>\n",
              "      <td>0</td>\n",
              "      <td>NaN</td>\n",
              "      <td>NaN</td>\n",
              "    </tr>\n",
              "    <tr>\n",
              "      <th>[1950, 1960)</th>\n",
              "      <td>269</td>\n",
              "      <td>269</td>\n",
              "      <td>1958.200743</td>\n",
              "      <td>6.776580</td>\n",
              "    </tr>\n",
              "    <tr>\n",
              "      <th>[1960, 1970)</th>\n",
              "      <td>568</td>\n",
              "      <td>568</td>\n",
              "      <td>1962.153169</td>\n",
              "      <td>6.942958</td>\n",
              "    </tr>\n",
              "    <tr>\n",
              "      <th>[1970, 1980)</th>\n",
              "      <td>3</td>\n",
              "      <td>3</td>\n",
              "      <td>1972.000000</td>\n",
              "      <td>5.966667</td>\n",
              "    </tr>\n",
              "    <tr>\n",
              "      <th>[1980, 1990)</th>\n",
              "      <td>1358</td>\n",
              "      <td>1358</td>\n",
              "      <td>1985.885125</td>\n",
              "      <td>6.360825</td>\n",
              "    </tr>\n",
              "    <tr>\n",
              "      <th>[1990, 2000)</th>\n",
              "      <td>673</td>\n",
              "      <td>673</td>\n",
              "      <td>1993.995542</td>\n",
              "      <td>6.339079</td>\n",
              "    </tr>\n",
              "    <tr>\n",
              "      <th>[2000, 2010)</th>\n",
              "      <td>19</td>\n",
              "      <td>19</td>\n",
              "      <td>2000.368421</td>\n",
              "      <td>6.573684</td>\n",
              "    </tr>\n",
              "    <tr>\n",
              "      <th>[2010, 2020)</th>\n",
              "      <td>137</td>\n",
              "      <td>137</td>\n",
              "      <td>2017.963504</td>\n",
              "      <td>6.752555</td>\n",
              "    </tr>\n",
              "  </tbody>\n",
              "</table>\n",
              "</div>"
            ],
            "text/plain": [
              "              startYear  averageRating     yearMean  ratingMean\n",
              "startYear                                                      \n",
              "[1920, 1930)        127            127  1925.566929    7.480315\n",
              "[1930, 1940)          7              7  1930.714286    7.314286\n",
              "[1940, 1950)          0              0          NaN         NaN\n",
              "[1950, 1960)        269            269  1958.200743    6.776580\n",
              "[1960, 1970)        568            568  1962.153169    6.942958\n",
              "[1970, 1980)          3              3  1972.000000    5.966667\n",
              "[1980, 1990)       1358           1358  1985.885125    6.360825\n",
              "[1990, 2000)        673            673  1993.995542    6.339079\n",
              "[2000, 2010)         19             19  2000.368421    6.573684\n",
              "[2010, 2020)        137            137  2017.963504    6.752555"
            ]
          },
          "metadata": {
            "tags": []
          },
          "execution_count": 53
        }
      ]
    },
    {
      "metadata": {
        "id": "4gNiwnxINMCc",
        "colab_type": "code",
        "outputId": "3ca3b832-03f2-4254-fce6-41907ef8beaf",
        "colab": {
          "base_uri": "https://localhost:8080/",
          "height": 254
        }
      },
      "cell_type": "code",
      "source": [
        "DecadeRating = DecadeRating[DecadeRating.averageRating >= 100]\n",
        "DecadeRating = DecadeRating.drop(columns=['yearMean', 'startYear'])\n",
        "DecadeRating = DecadeRating.rename(columns = {'averageRating':'Number_of_films'})\n",
        "DecadeRating\n",
        "DecadeRating.sort_values(by='ratingMean')\n",
        "#there is no particular trend here"
      ],
      "execution_count": 54,
      "outputs": [
        {
          "output_type": "execute_result",
          "data": {
            "text/html": [
              "<div>\n",
              "<style scoped>\n",
              "    .dataframe tbody tr th:only-of-type {\n",
              "        vertical-align: middle;\n",
              "    }\n",
              "\n",
              "    .dataframe tbody tr th {\n",
              "        vertical-align: top;\n",
              "    }\n",
              "\n",
              "    .dataframe thead th {\n",
              "        text-align: right;\n",
              "    }\n",
              "</style>\n",
              "<table border=\"1\" class=\"dataframe\">\n",
              "  <thead>\n",
              "    <tr style=\"text-align: right;\">\n",
              "      <th></th>\n",
              "      <th>Number_of_films</th>\n",
              "      <th>ratingMean</th>\n",
              "    </tr>\n",
              "    <tr>\n",
              "      <th>startYear</th>\n",
              "      <th></th>\n",
              "      <th></th>\n",
              "    </tr>\n",
              "  </thead>\n",
              "  <tbody>\n",
              "    <tr>\n",
              "      <th>[1990, 2000)</th>\n",
              "      <td>673</td>\n",
              "      <td>6.339079</td>\n",
              "    </tr>\n",
              "    <tr>\n",
              "      <th>[1980, 1990)</th>\n",
              "      <td>1358</td>\n",
              "      <td>6.360825</td>\n",
              "    </tr>\n",
              "    <tr>\n",
              "      <th>[2010, 2020)</th>\n",
              "      <td>137</td>\n",
              "      <td>6.752555</td>\n",
              "    </tr>\n",
              "    <tr>\n",
              "      <th>[1950, 1960)</th>\n",
              "      <td>269</td>\n",
              "      <td>6.776580</td>\n",
              "    </tr>\n",
              "    <tr>\n",
              "      <th>[1960, 1970)</th>\n",
              "      <td>568</td>\n",
              "      <td>6.942958</td>\n",
              "    </tr>\n",
              "    <tr>\n",
              "      <th>[1920, 1930)</th>\n",
              "      <td>127</td>\n",
              "      <td>7.480315</td>\n",
              "    </tr>\n",
              "  </tbody>\n",
              "</table>\n",
              "</div>"
            ],
            "text/plain": [
              "              Number_of_films  ratingMean\n",
              "startYear                                \n",
              "[1990, 2000)              673    6.339079\n",
              "[1980, 1990)             1358    6.360825\n",
              "[2010, 2020)              137    6.752555\n",
              "[1950, 1960)              269    6.776580\n",
              "[1960, 1970)              568    6.942958\n",
              "[1920, 1930)              127    7.480315"
            ]
          },
          "metadata": {
            "tags": []
          },
          "execution_count": 54
        }
      ]
    },
    {
      "metadata": {
        "id": "rvRL9nr7Tg7L",
        "colab_type": "code",
        "colab": {}
      },
      "cell_type": "code",
      "source": [
        "DecadeRating = DecadeRating.drop(columns=['Number_of_films'])"
      ],
      "execution_count": 0,
      "outputs": []
    },
    {
      "metadata": {
        "id": "EBAr73X0TWis",
        "colab_type": "code",
        "outputId": "f72695bd-99d8-4e88-b333-0999d4299cf7",
        "colab": {
          "base_uri": "https://localhost:8080/",
          "height": 312
        }
      },
      "cell_type": "code",
      "source": [
        "ax = DecadeRating.plot.bar(color='#ED713A', width=0.8, legend=False);\n",
        "ax.text(x=-1, y=8.5, s=\"There isn't a strong trend by the decades when averaged...\", fontsize=18, fontweight='bold')\n",
        "ax.text(x=-1, y=8, s='average rating of films by decade', fontsize=15);\n",
        "ax.set_xticklabels([1950, 1960, 1980, 1990, 2000, 2010]);\n",
        "ax.tick_params(axis='x', labelrotation=0)\n"
      ],
      "execution_count": 56,
      "outputs": [
        {
          "output_type": "display_data",
          "data": {
            "image/png": "[encoded data removed]",
            "text/plain": [
              "<Figure size 432x288 with 1 Axes>"
            ]
          },
          "metadata": {
            "tags": []
          }
        }
      ]
    },
    {
      "metadata": {
        "id": "Tk3Wr-cd_Chd",
        "colab_type": "code",
        "colab": {
          "base_uri": "https://localhost:8080/",
          "height": 284
        },
        "outputId": "36786336-b1b6-42fa-cdeb-cdb6160ee6da"
      },
      "cell_type": "code",
      "source": [
        "timeline = imdb[['startYear', 'averageRating']]\n",
        "timeline = timeline[timeline['startYear']>=1950]\n",
        "\n",
        "decades = [1950, 1960, 1970, 1980, 1990, 2000, 2010, 2020]\n",
        "decadeBin = pd.cut(timeline['startYear'], decades, right=False)\n",
        "ratingRange = [0, 2, 4, 6, 8, 10]\n",
        "ratingBin = pd.cut(timeline['averageRating'], ratingRange, right=False)\n",
        "ct = pd.crosstab(decadeBin, ratingBin, normalize='columns');\n",
        "ct"
      ],
      "execution_count": 127,
      "outputs": [
        {
          "output_type": "execute_result",
          "data": {
            "text/html": [
              "<div>\n",
              "<style scoped>\n",
              "    .dataframe tbody tr th:only-of-type {\n",
              "        vertical-align: middle;\n",
              "    }\n",
              "\n",
              "    .dataframe tbody tr th {\n",
              "        vertical-align: top;\n",
              "    }\n",
              "\n",
              "    .dataframe thead th {\n",
              "        text-align: right;\n",
              "    }\n",
              "</style>\n",
              "<table border=\"1\" class=\"dataframe\">\n",
              "  <thead>\n",
              "    <tr style=\"text-align: right;\">\n",
              "      <th>averageRating</th>\n",
              "      <th>[0, 2)</th>\n",
              "      <th>[2, 4)</th>\n",
              "      <th>[4, 6)</th>\n",
              "      <th>[6, 8)</th>\n",
              "      <th>[8, 10)</th>\n",
              "    </tr>\n",
              "    <tr>\n",
              "      <th>startYear</th>\n",
              "      <th></th>\n",
              "      <th></th>\n",
              "      <th></th>\n",
              "      <th></th>\n",
              "      <th></th>\n",
              "    </tr>\n",
              "  </thead>\n",
              "  <tbody>\n",
              "    <tr>\n",
              "      <th>[1950, 1960)</th>\n",
              "      <td>0.0</td>\n",
              "      <td>0.149123</td>\n",
              "      <td>0.035294</td>\n",
              "      <td>0.096076</td>\n",
              "      <td>0.154167</td>\n",
              "    </tr>\n",
              "    <tr>\n",
              "      <th>[1960, 1970)</th>\n",
              "      <td>0.2</td>\n",
              "      <td>0.192982</td>\n",
              "      <td>0.054412</td>\n",
              "      <td>0.217807</td>\n",
              "      <td>0.312500</td>\n",
              "    </tr>\n",
              "    <tr>\n",
              "      <th>[1970, 1980)</th>\n",
              "      <td>0.0</td>\n",
              "      <td>0.008772</td>\n",
              "      <td>0.000000</td>\n",
              "      <td>0.001006</td>\n",
              "      <td>0.000000</td>\n",
              "    </tr>\n",
              "    <tr>\n",
              "      <th>[1980, 1990)</th>\n",
              "      <td>0.2</td>\n",
              "      <td>0.412281</td>\n",
              "      <td>0.575000</td>\n",
              "      <td>0.425050</td>\n",
              "      <td>0.308333</td>\n",
              "    </tr>\n",
              "    <tr>\n",
              "      <th>[1990, 2000)</th>\n",
              "      <td>0.0</td>\n",
              "      <td>0.201754</td>\n",
              "      <td>0.295588</td>\n",
              "      <td>0.211268</td>\n",
              "      <td>0.120833</td>\n",
              "    </tr>\n",
              "    <tr>\n",
              "      <th>[2000, 2010)</th>\n",
              "      <td>0.0</td>\n",
              "      <td>0.000000</td>\n",
              "      <td>0.005882</td>\n",
              "      <td>0.006036</td>\n",
              "      <td>0.012500</td>\n",
              "    </tr>\n",
              "    <tr>\n",
              "      <th>[2010, 2020)</th>\n",
              "      <td>0.6</td>\n",
              "      <td>0.035088</td>\n",
              "      <td>0.033824</td>\n",
              "      <td>0.042757</td>\n",
              "      <td>0.091667</td>\n",
              "    </tr>\n",
              "  </tbody>\n",
              "</table>\n",
              "</div>"
            ],
            "text/plain": [
              "averageRating  [0, 2)    [2, 4)    [4, 6)    [6, 8)   [8, 10)\n",
              "startYear                                                    \n",
              "[1950, 1960)      0.0  0.149123  0.035294  0.096076  0.154167\n",
              "[1960, 1970)      0.2  0.192982  0.054412  0.217807  0.312500\n",
              "[1970, 1980)      0.0  0.008772  0.000000  0.001006  0.000000\n",
              "[1980, 1990)      0.2  0.412281  0.575000  0.425050  0.308333\n",
              "[1990, 2000)      0.0  0.201754  0.295588  0.211268  0.120833\n",
              "[2000, 2010)      0.0  0.000000  0.005882  0.006036  0.012500\n",
              "[2010, 2020)      0.6  0.035088  0.033824  0.042757  0.091667"
            ]
          },
          "metadata": {
            "tags": []
          },
          "execution_count": 127
        }
      ]
    },
    {
      "metadata": {
        "id": "J12ksrLyCfIa",
        "colab_type": "code",
        "outputId": "f50933b9-4d16-424d-c78d-8f4e67674619",
        "colab": {
          "base_uri": "https://localhost:8080/",
          "height": 336
        }
      },
      "cell_type": "code",
      "source": [
        "plt.style.use('ggplot')\n",
        "ax = ct.plot.bar(stacked=True, cmap=plt.get_cmap('viridis'));\n",
        "ax.set_xticklabels([1950, 1960, 1970, 1980, 1990, 2000, 2010, 2020]);\n",
        "ax.tick_params(axis='x', labelrotation=0)\n",
        "ax.tick_params(axis='both', labelcolor='black')\n",
        "plt.xlabel('Decade of release', color='#424242');\n",
        "plt.ylabel('Frequency of rating', color='#424242');\n",
        "ax.text(x=-0.5, y=2.4, s=\"The 2010s were proportionally\", fontsize=15, fontweight='bold')\n",
        "ax.text(x=-0.5, y=2.25, s=\"the worst decade for movies.\", fontsize=15, fontweight='bold')\n",
        "ax.text(x=-0.5, y=2.1, s='Rating frequency by decade', fontsize=12, color='#424242');\n",
        "#In this stacked bar frequency graph I dropped movies before 1950. The 1920s consist of entirely 6-10 movies, but film preservation was not the same as it was now so we can assume only the\n",
        "#decade's best got saved. The 1930s and 40s had too few movies with more than 1000 IMDb votes to make a visible bar."
      ],
      "execution_count": 135,
      "outputs": [
        {
          "output_type": "display_data",
          "data": {
            "image/png": "[encoded data removed]",
            "text/plain": [
              "<Figure size 432x288 with 1 Axes>"
            ]
          },
          "metadata": {
            "tags": []
          }
        }
      ]
    }
  ]
}