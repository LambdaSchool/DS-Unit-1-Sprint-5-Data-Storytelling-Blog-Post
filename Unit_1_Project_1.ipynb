{
  "nbformat": 4,
  "nbformat_minor": 0,
  "metadata": {
    "colab": {
      "name": "Unit 1 - Project 1.ipynb",
      "version": "0.3.2",
      "provenance": [],
      "collapsed_sections": [],
      "include_colab_link": true
    },
    "kernelspec": {
      "name": "python3",
      "display_name": "Python 3"
    }
  },
  "cells": [
    {
      "cell_type": "markdown",
      "metadata": {
        "id": "view-in-github",
        "colab_type": "text"
      },
      "source": [
        "<a href=\"https://colab.research.google.com/github/danhorsley/DS-Unit-1-Sprint-5-Data-Storytelling-Blog-Post/blob/master/Unit_1_Project_1.ipynb\" target=\"_parent\"><img src=\"https://colab.research.google.com/assets/colab-badge.svg\" alt=\"Open In Colab\"/></a>"
      ]
    },
    {
      "metadata": {
        "id": "vGFZZ6ptCXhy",
        "colab_type": "code",
        "colab": {}
      },
      "cell_type": "code",
      "source": [
        "import pandas as pd\n",
        "import numpy as np\n",
        "import matplotlib.pyplot as plt\n",
        "from pandas_datareader import data, wb\n",
        "# data downloaded for free from 'https://www.stoxx.com/document/Indices/Current/HistoricalData/hbrbcpe.txt'\n",
        "# data downloaded for free from 'https://www.stoxx.com/document/Indices/Current/HistoricalData/h_vstoxx.txt'"
      ],
      "execution_count": 0,
      "outputs": []
    },
    {
      "metadata": {
        "id": "g0twKfaWESZG",
        "colab_type": "code",
        "colab": {
          "resources": {
            "http://localhost:8080/nbextensions/google.colab/files.js": {
              "data": "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",
              "ok": true,
              "headers": [
                [
                  "content-type",
                  "application/javascript"
                ]
              ],
              "status": 200,
              "status_text": ""
            }
          },
          "base_uri": "https://localhost:8080/",
          "height": 75
        },
        "outputId": "6735a114-a147-4938-e508-a4bbae370af1"
      },
      "cell_type": "code",
      "source": [
        "from google.colab import files\n",
        "uploaded = files.upload()"
      ],
      "execution_count": 5,
      "outputs": [
        {
          "output_type": "display_data",
          "data": {
            "text/html": [
              "\n",
              "     <input type=\"file\" id=\"files-16f653c4-d477-4548-b348-6b644c8d3d35\" name=\"files[]\" multiple disabled />\n",
              "     <output id=\"result-16f653c4-d477-4548-b348-6b644c8d3d35\">\n",
              "      Upload widget is only available when the cell has been executed in the\n",
              "      current browser session. Please rerun this cell to enable.\n",
              "      </output>\n",
              "      <script src=\"/nbextensions/google.colab/files.js\"></script> "
            ],
            "text/plain": [
              "<IPython.core.display.HTML object>"
            ]
          },
          "metadata": {
            "tags": []
          }
        },
        {
          "output_type": "stream",
          "text": [
            "Saving estoxx clean.txt to estoxx clean.txt\n"
          ],
          "name": "stdout"
        }
      ]
    },
    {
      "metadata": {
        "id": "qV2JQx25EeTa",
        "colab_type": "code",
        "colab": {}
      },
      "cell_type": "code",
      "source": [
        "vs = pd.read_csv('vstoxx_hist.txt',header=2,parse_dates=True,sep=',')\n",
        "vs['Date'] = pd.to_datetime(vs['Date'],format='%d.%m.%Y')\n"
      ],
      "execution_count": 0,
      "outputs": []
    },
    {
      "metadata": {
        "id": "loJfJ7lTE7hu",
        "colab_type": "code",
        "colab": {}
      },
      "cell_type": "code",
      "source": [
        "stoxx=pd.read_csv('estoxx clean.txt',skiprows=3,parse_dates=True,sep=';')\n",
        "stoxx.rename(columns={'Unnamed: 0':'Date'}, inplace=True)\n",
        "#stoxx = df.drop([7535, 7536]) #dropping rows with 0 values\n",
        "stoxx['Date'] = pd.to_datetime(stoxx['Date'],format='%d.%m.%Y')\n",
        "stoxx = stoxx.reset_index(drop=True)"
      ],
      "execution_count": 0,
      "outputs": []
    },
    {
      "metadata": {
        "id": "LyrftuccFW8J",
        "colab_type": "code",
        "colab": {
          "base_uri": "https://localhost:8080/",
          "height": 72
        },
        "outputId": "a87e8cd1-61b2-4462-d48d-fc13f2bf7d7d"
      },
      "cell_type": "code",
      "source": [
        "import datetime as dt\n",
        "df = stoxx[stoxx['Date']>dt.datetime(1999,1,1)].copy()\n",
        "df = pd.merge(df,vs,on='Date',how='outer')\n",
        "df = df.set_index('Date')\n",
        "df = df.fillna(method='ffill')\n",
        "df = df.drop(dt.datetime(2016,3,25)) #dropping good friday as prices are zeros\n",
        "df = df.drop(dt.datetime(2016,3,28)) #and easter monday 2016\n",
        "df = df.set_value(dt.datetime(2006,6,21),'V6I1',29.4794)"
      ],
      "execution_count": 62,
      "outputs": [
        {
          "output_type": "stream",
          "text": [
            "/usr/local/lib/python3.6/dist-packages/ipykernel_launcher.py:8: FutureWarning: set_value is deprecated and will be removed in a future release. Please use .at[] or .iat[] accessors instead\n",
            "  \n"
          ],
          "name": "stderr"
        }
      ]
    },
    {
      "metadata": {
        "id": "5TiM4LLxFRux",
        "colab_type": "code",
        "colab": {
          "base_uri": "https://localhost:8080/",
          "height": 223
        },
        "outputId": "dbe0a290-24f4-4304-d389-78f08806df23"
      },
      "cell_type": "code",
      "source": [
        "df.head()"
      ],
      "execution_count": 64,
      "outputs": [
        {
          "output_type": "execute_result",
          "data": {
            "text/html": [
              "<div>\n",
              "<style scoped>\n",
              "    .dataframe tbody tr th:only-of-type {\n",
              "        vertical-align: middle;\n",
              "    }\n",
              "\n",
              "    .dataframe tbody tr th {\n",
              "        vertical-align: top;\n",
              "    }\n",
              "\n",
              "    .dataframe thead th {\n",
              "        text-align: right;\n",
              "    }\n",
              "</style>\n",
              "<table border=\"1\" class=\"dataframe\">\n",
              "  <thead>\n",
              "    <tr style=\"text-align: right;\">\n",
              "      <th></th>\n",
              "      <th>SX5P</th>\n",
              "      <th>SX5E</th>\n",
              "      <th>SXXP</th>\n",
              "      <th>SXXE</th>\n",
              "      <th>SXXF</th>\n",
              "      <th>SXXA</th>\n",
              "      <th>DK5F</th>\n",
              "      <th>DKXF</th>\n",
              "      <th>V2TX</th>\n",
              "      <th>V6I1</th>\n",
              "      <th>V6I2</th>\n",
              "      <th>V6I3</th>\n",
              "      <th>V6I4</th>\n",
              "      <th>V6I5</th>\n",
              "      <th>V6I6</th>\n",
              "      <th>V6I7</th>\n",
              "      <th>V6I8</th>\n",
              "    </tr>\n",
              "    <tr>\n",
              "      <th>Date</th>\n",
              "      <th></th>\n",
              "      <th></th>\n",
              "      <th></th>\n",
              "      <th></th>\n",
              "      <th></th>\n",
              "      <th></th>\n",
              "      <th></th>\n",
              "      <th></th>\n",
              "      <th></th>\n",
              "      <th></th>\n",
              "      <th></th>\n",
              "      <th></th>\n",
              "      <th></th>\n",
              "      <th></th>\n",
              "      <th></th>\n",
              "      <th></th>\n",
              "      <th></th>\n",
              "    </tr>\n",
              "  </thead>\n",
              "  <tbody>\n",
              "    <tr>\n",
              "      <th>1999-01-04</th>\n",
              "      <td>3474.14</td>\n",
              "      <td>3543.10</td>\n",
              "      <td>287.81</td>\n",
              "      <td>313.92</td>\n",
              "      <td>326.93</td>\n",
              "      <td>261.55</td>\n",
              "      <td>3968.54</td>\n",
              "      <td>300.47</td>\n",
              "      <td>18.2033</td>\n",
              "      <td>21.2458</td>\n",
              "      <td>17.5555</td>\n",
              "      <td>31.2179</td>\n",
              "      <td>33.3124</td>\n",
              "      <td>33.7327</td>\n",
              "      <td>33.2232</td>\n",
              "      <td>31.8535</td>\n",
              "      <td>23.8209</td>\n",
              "    </tr>\n",
              "    <tr>\n",
              "      <th>1999-01-05</th>\n",
              "      <td>3535.30</td>\n",
              "      <td>3604.67</td>\n",
              "      <td>291.40</td>\n",
              "      <td>316.97</td>\n",
              "      <td>331.00</td>\n",
              "      <td>265.68</td>\n",
              "      <td>4030.95</td>\n",
              "      <td>305.37</td>\n",
              "      <td>29.6912</td>\n",
              "      <td>36.6400</td>\n",
              "      <td>28.4274</td>\n",
              "      <td>32.6922</td>\n",
              "      <td>33.7326</td>\n",
              "      <td>33.1724</td>\n",
              "      <td>32.8457</td>\n",
              "      <td>32.2904</td>\n",
              "      <td>25.0532</td>\n",
              "    </tr>\n",
              "    <tr>\n",
              "      <th>1999-01-06</th>\n",
              "      <td>3615.93</td>\n",
              "      <td>3685.36</td>\n",
              "      <td>298.11</td>\n",
              "      <td>323.16</td>\n",
              "      <td>336.96</td>\n",
              "      <td>272.98</td>\n",
              "      <td>4068.85</td>\n",
              "      <td>308.34</td>\n",
              "      <td>25.1670</td>\n",
              "      <td>25.4107</td>\n",
              "      <td>25.1351</td>\n",
              "      <td>32.2186</td>\n",
              "      <td>32.6459</td>\n",
              "      <td>31.9673</td>\n",
              "      <td>32.9260</td>\n",
              "      <td>33.2871</td>\n",
              "      <td>26.0107</td>\n",
              "    </tr>\n",
              "    <tr>\n",
              "      <th>1999-01-07</th>\n",
              "      <td>3566.02</td>\n",
              "      <td>3627.87</td>\n",
              "      <td>294.55</td>\n",
              "      <td>318.27</td>\n",
              "      <td>332.70</td>\n",
              "      <td>270.80</td>\n",
              "      <td>4100.77</td>\n",
              "      <td>311.57</td>\n",
              "      <td>32.5205</td>\n",
              "      <td>35.4410</td>\n",
              "      <td>32.2004</td>\n",
              "      <td>36.1265</td>\n",
              "      <td>34.5150</td>\n",
              "      <td>33.1095</td>\n",
              "      <td>33.2843</td>\n",
              "      <td>33.7269</td>\n",
              "      <td>26.2205</td>\n",
              "    </tr>\n",
              "    <tr>\n",
              "      <th>1999-01-08</th>\n",
              "      <td>3569.24</td>\n",
              "      <td>3616.57</td>\n",
              "      <td>296.03</td>\n",
              "      <td>318.02</td>\n",
              "      <td>333.38</td>\n",
              "      <td>274.12</td>\n",
              "      <td>4126.04</td>\n",
              "      <td>313.56</td>\n",
              "      <td>33.2296</td>\n",
              "      <td>35.8846</td>\n",
              "      <td>33.0020</td>\n",
              "      <td>36.0813</td>\n",
              "      <td>36.3964</td>\n",
              "      <td>33.4658</td>\n",
              "      <td>33.4837</td>\n",
              "      <td>33.9227</td>\n",
              "      <td>26.3672</td>\n",
              "    </tr>\n",
              "  </tbody>\n",
              "</table>\n",
              "</div>"
            ],
            "text/plain": [
              "               SX5P     SX5E    SXXP    SXXE    SXXF    SXXA     DK5F    DKXF  \\\n",
              "Date                                                                            \n",
              "1999-01-04  3474.14  3543.10  287.81  313.92  326.93  261.55  3968.54  300.47   \n",
              "1999-01-05  3535.30  3604.67  291.40  316.97  331.00  265.68  4030.95  305.37   \n",
              "1999-01-06  3615.93  3685.36  298.11  323.16  336.96  272.98  4068.85  308.34   \n",
              "1999-01-07  3566.02  3627.87  294.55  318.27  332.70  270.80  4100.77  311.57   \n",
              "1999-01-08  3569.24  3616.57  296.03  318.02  333.38  274.12  4126.04  313.56   \n",
              "\n",
              "               V2TX     V6I1     V6I2     V6I3     V6I4     V6I5     V6I6  \\\n",
              "Date                                                                        \n",
              "1999-01-04  18.2033  21.2458  17.5555  31.2179  33.3124  33.7327  33.2232   \n",
              "1999-01-05  29.6912  36.6400  28.4274  32.6922  33.7326  33.1724  32.8457   \n",
              "1999-01-06  25.1670  25.4107  25.1351  32.2186  32.6459  31.9673  32.9260   \n",
              "1999-01-07  32.5205  35.4410  32.2004  36.1265  34.5150  33.1095  33.2843   \n",
              "1999-01-08  33.2296  35.8846  33.0020  36.0813  36.3964  33.4658  33.4837   \n",
              "\n",
              "               V6I7     V6I8  \n",
              "Date                          \n",
              "1999-01-04  31.8535  23.8209  \n",
              "1999-01-05  32.2904  25.0532  \n",
              "1999-01-06  33.2871  26.0107  \n",
              "1999-01-07  33.7269  26.2205  \n",
              "1999-01-08  33.9227  26.3672  "
            ]
          },
          "metadata": {
            "tags": []
          },
          "execution_count": 64
        }
      ]
    },
    {
      "metadata": {
        "id": "-z14nsRpCjU1",
        "colab_type": "code",
        "colab": {}
      },
      "cell_type": "code",
      "source": [
        "usdata = data.DataReader([\"^GSPC\", \"^VIX\"], \"yahoo\",start='1999-1-1')"
      ],
      "execution_count": 0,
      "outputs": []
    },
    {
      "metadata": {
        "id": "_RWirtQMHout",
        "colab_type": "code",
        "colab": {
          "base_uri": "https://localhost:8080/",
          "height": 252
        },
        "outputId": "3c6a1678-21c8-458e-dd18-1bf64b39a3a1"
      },
      "cell_type": "code",
      "source": [
        "usdata.head()"
      ],
      "execution_count": 17,
      "outputs": [
        {
          "output_type": "execute_result",
          "data": {
            "text/html": [
              "<div>\n",
              "<style scoped>\n",
              "    .dataframe tbody tr th:only-of-type {\n",
              "        vertical-align: middle;\n",
              "    }\n",
              "\n",
              "    .dataframe tbody tr th {\n",
              "        vertical-align: top;\n",
              "    }\n",
              "\n",
              "    .dataframe thead tr th {\n",
              "        text-align: left;\n",
              "    }\n",
              "\n",
              "    .dataframe thead tr:last-of-type th {\n",
              "        text-align: right;\n",
              "    }\n",
              "</style>\n",
              "<table border=\"1\" class=\"dataframe\">\n",
              "  <thead>\n",
              "    <tr>\n",
              "      <th>Attributes</th>\n",
              "      <th colspan=\"2\" halign=\"left\">High</th>\n",
              "      <th colspan=\"2\" halign=\"left\">Low</th>\n",
              "      <th colspan=\"2\" halign=\"left\">Open</th>\n",
              "      <th colspan=\"2\" halign=\"left\">Close</th>\n",
              "      <th colspan=\"2\" halign=\"left\">Volume</th>\n",
              "      <th colspan=\"2\" halign=\"left\">Adj Close</th>\n",
              "    </tr>\n",
              "    <tr>\n",
              "      <th>Symbols</th>\n",
              "      <th>^GSPC</th>\n",
              "      <th>^VIX</th>\n",
              "      <th>^GSPC</th>\n",
              "      <th>^VIX</th>\n",
              "      <th>^GSPC</th>\n",
              "      <th>^VIX</th>\n",
              "      <th>^GSPC</th>\n",
              "      <th>^VIX</th>\n",
              "      <th>^GSPC</th>\n",
              "      <th>^VIX</th>\n",
              "      <th>^GSPC</th>\n",
              "      <th>^VIX</th>\n",
              "    </tr>\n",
              "    <tr>\n",
              "      <th>Date</th>\n",
              "      <th></th>\n",
              "      <th></th>\n",
              "      <th></th>\n",
              "      <th></th>\n",
              "      <th></th>\n",
              "      <th></th>\n",
              "      <th></th>\n",
              "      <th></th>\n",
              "      <th></th>\n",
              "      <th></th>\n",
              "      <th></th>\n",
              "      <th></th>\n",
              "    </tr>\n",
              "  </thead>\n",
              "  <tbody>\n",
              "    <tr>\n",
              "      <th>1999-01-04</th>\n",
              "      <td>1248.810059</td>\n",
              "      <td>26.959999</td>\n",
              "      <td>1219.099976</td>\n",
              "      <td>24.740000</td>\n",
              "      <td>1229.229980</td>\n",
              "      <td>25.379999</td>\n",
              "      <td>1228.099976</td>\n",
              "      <td>26.170000</td>\n",
              "      <td>877000000</td>\n",
              "      <td>0</td>\n",
              "      <td>1228.099976</td>\n",
              "      <td>26.170000</td>\n",
              "    </tr>\n",
              "    <tr>\n",
              "      <th>1999-01-05</th>\n",
              "      <td>1246.109985</td>\n",
              "      <td>25.980000</td>\n",
              "      <td>1228.099976</td>\n",
              "      <td>24.360001</td>\n",
              "      <td>1228.099976</td>\n",
              "      <td>25.920000</td>\n",
              "      <td>1244.780029</td>\n",
              "      <td>24.459999</td>\n",
              "      <td>775000000</td>\n",
              "      <td>0</td>\n",
              "      <td>1244.780029</td>\n",
              "      <td>24.459999</td>\n",
              "    </tr>\n",
              "    <tr>\n",
              "      <th>1999-01-06</th>\n",
              "      <td>1272.500000</td>\n",
              "      <td>23.379999</td>\n",
              "      <td>1244.780029</td>\n",
              "      <td>22.680000</td>\n",
              "      <td>1244.780029</td>\n",
              "      <td>23.360001</td>\n",
              "      <td>1272.339966</td>\n",
              "      <td>23.340000</td>\n",
              "      <td>986900000</td>\n",
              "      <td>0</td>\n",
              "      <td>1272.339966</td>\n",
              "      <td>23.340000</td>\n",
              "    </tr>\n",
              "    <tr>\n",
              "      <th>1999-01-07</th>\n",
              "      <td>1272.339966</td>\n",
              "      <td>24.900000</td>\n",
              "      <td>1257.680054</td>\n",
              "      <td>24.040001</td>\n",
              "      <td>1272.339966</td>\n",
              "      <td>24.420000</td>\n",
              "      <td>1269.729980</td>\n",
              "      <td>24.370001</td>\n",
              "      <td>863000000</td>\n",
              "      <td>0</td>\n",
              "      <td>1269.729980</td>\n",
              "      <td>24.370001</td>\n",
              "    </tr>\n",
              "    <tr>\n",
              "      <th>1999-01-08</th>\n",
              "      <td>1278.239990</td>\n",
              "      <td>24.080000</td>\n",
              "      <td>1261.819946</td>\n",
              "      <td>22.809999</td>\n",
              "      <td>1269.729980</td>\n",
              "      <td>22.950001</td>\n",
              "      <td>1275.089966</td>\n",
              "      <td>23.280001</td>\n",
              "      <td>937800000</td>\n",
              "      <td>0</td>\n",
              "      <td>1275.089966</td>\n",
              "      <td>23.280001</td>\n",
              "    </tr>\n",
              "  </tbody>\n",
              "</table>\n",
              "</div>"
            ],
            "text/plain": [
              "Attributes         High                     Low                    Open  \\\n",
              "Symbols           ^GSPC       ^VIX        ^GSPC       ^VIX        ^GSPC   \n",
              "Date                                                                      \n",
              "1999-01-04  1248.810059  26.959999  1219.099976  24.740000  1229.229980   \n",
              "1999-01-05  1246.109985  25.980000  1228.099976  24.360001  1228.099976   \n",
              "1999-01-06  1272.500000  23.379999  1244.780029  22.680000  1244.780029   \n",
              "1999-01-07  1272.339966  24.900000  1257.680054  24.040001  1272.339966   \n",
              "1999-01-08  1278.239990  24.080000  1261.819946  22.809999  1269.729980   \n",
              "\n",
              "Attributes                   Close                Volume         Adj Close  \\\n",
              "Symbols          ^VIX        ^GSPC       ^VIX      ^GSPC ^VIX        ^GSPC   \n",
              "Date                                                                         \n",
              "1999-01-04  25.379999  1228.099976  26.170000  877000000    0  1228.099976   \n",
              "1999-01-05  25.920000  1244.780029  24.459999  775000000    0  1244.780029   \n",
              "1999-01-06  23.360001  1272.339966  23.340000  986900000    0  1272.339966   \n",
              "1999-01-07  24.420000  1269.729980  24.370001  863000000    0  1269.729980   \n",
              "1999-01-08  22.950001  1275.089966  23.280001  937800000    0  1275.089966   \n",
              "\n",
              "Attributes             \n",
              "Symbols          ^VIX  \n",
              "Date                   \n",
              "1999-01-04  26.170000  \n",
              "1999-01-05  24.459999  \n",
              "1999-01-06  23.340000  \n",
              "1999-01-07  24.370001  \n",
              "1999-01-08  23.280001  "
            ]
          },
          "metadata": {
            "tags": []
          },
          "execution_count": 17
        }
      ]
    },
    {
      "metadata": {
        "id": "874J25LFLHD3",
        "colab_type": "code",
        "colab": {
          "base_uri": "https://localhost:8080/",
          "height": 70
        },
        "outputId": "6762f35a-8bf2-407d-8b7a-d2a97b94b8dc"
      },
      "cell_type": "code",
      "source": [
        "usdata.columns"
      ],
      "execution_count": 22,
      "outputs": [
        {
          "output_type": "execute_result",
          "data": {
            "text/plain": [
              "MultiIndex(levels=[['High', 'Low', 'Open', 'Close', 'Volume', 'Adj Close'], ['^GSPC', '^VIX']],\n",
              "           labels=[[0, 0, 1, 1, 2, 2, 3, 3, 4, 4, 5, 5], [0, 1, 0, 1, 0, 1, 0, 1, 0, 1, 0, 1]],\n",
              "           names=['Attributes', 'Symbols'])"
            ]
          },
          "metadata": {
            "tags": []
          },
          "execution_count": 22
        }
      ]
    },
    {
      "metadata": {
        "id": "psMCQN4TMlD9",
        "colab_type": "code",
        "colab": {}
      },
      "cell_type": "code",
      "source": [
        "df_strip = df.copy()[['SX5E','V2TX']]"
      ],
      "execution_count": 0,
      "outputs": []
    },
    {
      "metadata": {
        "id": "J3qKG3dAM--L",
        "colab_type": "code",
        "colab": {}
      },
      "cell_type": "code",
      "source": [
        "usdata_strip = usdata['Close'].copy()[:4466]\n",
        "usdata_strip.columns=['S&P500','VIX']\n",
        "#usdata_strip.columns = usdata_strip.columns.droplevel()"
      ],
      "execution_count": 0,
      "outputs": []
    },
    {
      "metadata": {
        "id": "RXysQXksQoQi",
        "colab_type": "code",
        "colab": {
          "base_uri": "https://localhost:8080/",
          "height": 223
        },
        "outputId": "44c9c740-081a-4343-8f41-4c1c6518030d"
      },
      "cell_type": "code",
      "source": [
        "usdata_strip.head()"
      ],
      "execution_count": 54,
      "outputs": [
        {
          "output_type": "execute_result",
          "data": {
            "text/html": [
              "<div>\n",
              "<style scoped>\n",
              "    .dataframe tbody tr th:only-of-type {\n",
              "        vertical-align: middle;\n",
              "    }\n",
              "\n",
              "    .dataframe tbody tr th {\n",
              "        vertical-align: top;\n",
              "    }\n",
              "\n",
              "    .dataframe thead th {\n",
              "        text-align: right;\n",
              "    }\n",
              "</style>\n",
              "<table border=\"1\" class=\"dataframe\">\n",
              "  <thead>\n",
              "    <tr style=\"text-align: right;\">\n",
              "      <th></th>\n",
              "      <th>S&amp;P500</th>\n",
              "      <th>VIX</th>\n",
              "    </tr>\n",
              "    <tr>\n",
              "      <th>Date</th>\n",
              "      <th></th>\n",
              "      <th></th>\n",
              "    </tr>\n",
              "  </thead>\n",
              "  <tbody>\n",
              "    <tr>\n",
              "      <th>1999-01-04</th>\n",
              "      <td>1228.099976</td>\n",
              "      <td>26.170000</td>\n",
              "    </tr>\n",
              "    <tr>\n",
              "      <th>1999-01-05</th>\n",
              "      <td>1244.780029</td>\n",
              "      <td>24.459999</td>\n",
              "    </tr>\n",
              "    <tr>\n",
              "      <th>1999-01-06</th>\n",
              "      <td>1272.339966</td>\n",
              "      <td>23.340000</td>\n",
              "    </tr>\n",
              "    <tr>\n",
              "      <th>1999-01-07</th>\n",
              "      <td>1269.729980</td>\n",
              "      <td>24.370001</td>\n",
              "    </tr>\n",
              "    <tr>\n",
              "      <th>1999-01-08</th>\n",
              "      <td>1275.089966</td>\n",
              "      <td>23.280001</td>\n",
              "    </tr>\n",
              "  </tbody>\n",
              "</table>\n",
              "</div>"
            ],
            "text/plain": [
              "                 S&P500        VIX\n",
              "Date                              \n",
              "1999-01-04  1228.099976  26.170000\n",
              "1999-01-05  1244.780029  24.459999\n",
              "1999-01-06  1272.339966  23.340000\n",
              "1999-01-07  1269.729980  24.370001\n",
              "1999-01-08  1275.089966  23.280001"
            ]
          },
          "metadata": {
            "tags": []
          },
          "execution_count": 54
        }
      ]
    },
    {
      "metadata": {
        "id": "12g0hxKqN6D4",
        "colab_type": "code",
        "colab": {}
      },
      "cell_type": "code",
      "source": [
        "mf = pd.merge(df_strip,usdata_strip,on='Date',how='outer')"
      ],
      "execution_count": 0,
      "outputs": []
    },
    {
      "metadata": {
        "id": "MIf0GoGsNBIv",
        "colab_type": "code",
        "colab": {
          "base_uri": "https://localhost:8080/",
          "height": 223
        },
        "outputId": "98f01b5b-5431-4480-8ae5-9fdb1257c47f"
      },
      "cell_type": "code",
      "source": [
        "mf.head()"
      ],
      "execution_count": 67,
      "outputs": [
        {
          "output_type": "execute_result",
          "data": {
            "text/html": [
              "<div>\n",
              "<style scoped>\n",
              "    .dataframe tbody tr th:only-of-type {\n",
              "        vertical-align: middle;\n",
              "    }\n",
              "\n",
              "    .dataframe tbody tr th {\n",
              "        vertical-align: top;\n",
              "    }\n",
              "\n",
              "    .dataframe thead th {\n",
              "        text-align: right;\n",
              "    }\n",
              "</style>\n",
              "<table border=\"1\" class=\"dataframe\">\n",
              "  <thead>\n",
              "    <tr style=\"text-align: right;\">\n",
              "      <th></th>\n",
              "      <th>SX5E</th>\n",
              "      <th>V2TX</th>\n",
              "      <th>S&amp;P500</th>\n",
              "      <th>VIX</th>\n",
              "    </tr>\n",
              "    <tr>\n",
              "      <th>Date</th>\n",
              "      <th></th>\n",
              "      <th></th>\n",
              "      <th></th>\n",
              "      <th></th>\n",
              "    </tr>\n",
              "  </thead>\n",
              "  <tbody>\n",
              "    <tr>\n",
              "      <th>1999-01-04</th>\n",
              "      <td>3543.10</td>\n",
              "      <td>18.2033</td>\n",
              "      <td>1228.099976</td>\n",
              "      <td>26.170000</td>\n",
              "    </tr>\n",
              "    <tr>\n",
              "      <th>1999-01-05</th>\n",
              "      <td>3604.67</td>\n",
              "      <td>29.6912</td>\n",
              "      <td>1244.780029</td>\n",
              "      <td>24.459999</td>\n",
              "    </tr>\n",
              "    <tr>\n",
              "      <th>1999-01-06</th>\n",
              "      <td>3685.36</td>\n",
              "      <td>25.1670</td>\n",
              "      <td>1272.339966</td>\n",
              "      <td>23.340000</td>\n",
              "    </tr>\n",
              "    <tr>\n",
              "      <th>1999-01-07</th>\n",
              "      <td>3627.87</td>\n",
              "      <td>32.5205</td>\n",
              "      <td>1269.729980</td>\n",
              "      <td>24.370001</td>\n",
              "    </tr>\n",
              "    <tr>\n",
              "      <th>1999-01-08</th>\n",
              "      <td>3616.57</td>\n",
              "      <td>33.2296</td>\n",
              "      <td>1275.089966</td>\n",
              "      <td>23.280001</td>\n",
              "    </tr>\n",
              "  </tbody>\n",
              "</table>\n",
              "</div>"
            ],
            "text/plain": [
              "               SX5E     V2TX       S&P500        VIX\n",
              "Date                                                \n",
              "1999-01-04  3543.10  18.2033  1228.099976  26.170000\n",
              "1999-01-05  3604.67  29.6912  1244.780029  24.459999\n",
              "1999-01-06  3685.36  25.1670  1272.339966  23.340000\n",
              "1999-01-07  3627.87  32.5205  1269.729980  24.370001\n",
              "1999-01-08  3616.57  33.2296  1275.089966  23.280001"
            ]
          },
          "metadata": {
            "tags": []
          },
          "execution_count": 67
        }
      ]
    },
    {
      "metadata": {
        "id": "tH339oEJQCSF",
        "colab_type": "code",
        "colab": {
          "base_uri": "https://localhost:8080/",
          "height": 223
        },
        "outputId": "177bb960-8d89-4d5b-a8df-14c17144c996"
      },
      "cell_type": "code",
      "source": [
        "logs = np.log(mf/mf.shift(1))\n",
        "logs=logs.dropna()\n",
        "\n",
        "logs.head()"
      ],
      "execution_count": 68,
      "outputs": [
        {
          "output_type": "execute_result",
          "data": {
            "text/html": [
              "<div>\n",
              "<style scoped>\n",
              "    .dataframe tbody tr th:only-of-type {\n",
              "        vertical-align: middle;\n",
              "    }\n",
              "\n",
              "    .dataframe tbody tr th {\n",
              "        vertical-align: top;\n",
              "    }\n",
              "\n",
              "    .dataframe thead th {\n",
              "        text-align: right;\n",
              "    }\n",
              "</style>\n",
              "<table border=\"1\" class=\"dataframe\">\n",
              "  <thead>\n",
              "    <tr style=\"text-align: right;\">\n",
              "      <th></th>\n",
              "      <th>SX5E</th>\n",
              "      <th>V2TX</th>\n",
              "      <th>S&amp;P500</th>\n",
              "      <th>VIX</th>\n",
              "    </tr>\n",
              "    <tr>\n",
              "      <th>Date</th>\n",
              "      <th></th>\n",
              "      <th></th>\n",
              "      <th></th>\n",
              "      <th></th>\n",
              "    </tr>\n",
              "  </thead>\n",
              "  <tbody>\n",
              "    <tr>\n",
              "      <th>1999-01-05</th>\n",
              "      <td>0.017228</td>\n",
              "      <td>0.489248</td>\n",
              "      <td>0.013491</td>\n",
              "      <td>-0.067575</td>\n",
              "    </tr>\n",
              "    <tr>\n",
              "      <th>1999-01-06</th>\n",
              "      <td>0.022138</td>\n",
              "      <td>-0.165317</td>\n",
              "      <td>0.021899</td>\n",
              "      <td>-0.046870</td>\n",
              "    </tr>\n",
              "    <tr>\n",
              "      <th>1999-01-07</th>\n",
              "      <td>-0.015723</td>\n",
              "      <td>0.256337</td>\n",
              "      <td>-0.002053</td>\n",
              "      <td>0.043184</td>\n",
              "    </tr>\n",
              "    <tr>\n",
              "      <th>1999-01-08</th>\n",
              "      <td>-0.003120</td>\n",
              "      <td>0.021570</td>\n",
              "      <td>0.004212</td>\n",
              "      <td>-0.045758</td>\n",
              "    </tr>\n",
              "    <tr>\n",
              "      <th>1999-01-11</th>\n",
              "      <td>-0.019593</td>\n",
              "      <td>0.103173</td>\n",
              "      <td>-0.008830</td>\n",
              "      <td>0.089514</td>\n",
              "    </tr>\n",
              "  </tbody>\n",
              "</table>\n",
              "</div>"
            ],
            "text/plain": [
              "                SX5E      V2TX    S&P500       VIX\n",
              "Date                                              \n",
              "1999-01-05  0.017228  0.489248  0.013491 -0.067575\n",
              "1999-01-06  0.022138 -0.165317  0.021899 -0.046870\n",
              "1999-01-07 -0.015723  0.256337 -0.002053  0.043184\n",
              "1999-01-08 -0.003120  0.021570  0.004212 -0.045758\n",
              "1999-01-11 -0.019593  0.103173 -0.008830  0.089514"
            ]
          },
          "metadata": {
            "tags": []
          },
          "execution_count": 68
        }
      ]
    },
    {
      "metadata": {
        "id": "SBxgeIDVTSuc",
        "colab_type": "code",
        "colab": {
          "base_uri": "https://localhost:8080/",
          "height": 282
        },
        "outputId": "70bf2040-97f6-4b64-84a8-dc4a40673aa4"
      },
      "cell_type": "code",
      "source": [
        "logs.describe()"
      ],
      "execution_count": 69,
      "outputs": [
        {
          "output_type": "execute_result",
          "data": {
            "text/html": [
              "<div>\n",
              "<style scoped>\n",
              "    .dataframe tbody tr th:only-of-type {\n",
              "        vertical-align: middle;\n",
              "    }\n",
              "\n",
              "    .dataframe tbody tr th {\n",
              "        vertical-align: top;\n",
              "    }\n",
              "\n",
              "    .dataframe thead th {\n",
              "        text-align: right;\n",
              "    }\n",
              "</style>\n",
              "<table border=\"1\" class=\"dataframe\">\n",
              "  <thead>\n",
              "    <tr style=\"text-align: right;\">\n",
              "      <th></th>\n",
              "      <th>SX5E</th>\n",
              "      <th>V2TX</th>\n",
              "      <th>S&amp;P500</th>\n",
              "      <th>VIX</th>\n",
              "    </tr>\n",
              "  </thead>\n",
              "  <tbody>\n",
              "    <tr>\n",
              "      <th>count</th>\n",
              "      <td>4313.000000</td>\n",
              "      <td>4313.000000</td>\n",
              "      <td>4313.000000</td>\n",
              "      <td>4313.000000</td>\n",
              "    </tr>\n",
              "    <tr>\n",
              "      <th>mean</th>\n",
              "      <td>-0.000047</td>\n",
              "      <td>-0.000378</td>\n",
              "      <td>0.000138</td>\n",
              "      <td>-0.001239</td>\n",
              "    </tr>\n",
              "    <tr>\n",
              "      <th>std</th>\n",
              "      <td>0.015059</td>\n",
              "      <td>0.056860</td>\n",
              "      <td>0.012479</td>\n",
              "      <td>0.065818</td>\n",
              "    </tr>\n",
              "    <tr>\n",
              "      <th>min</th>\n",
              "      <td>-0.090110</td>\n",
              "      <td>-0.326505</td>\n",
              "      <td>-0.094695</td>\n",
              "      <td>-0.350589</td>\n",
              "    </tr>\n",
              "    <tr>\n",
              "      <th>25%</th>\n",
              "      <td>-0.007501</td>\n",
              "      <td>-0.033819</td>\n",
              "      <td>-0.005545</td>\n",
              "      <td>-0.038733</td>\n",
              "    </tr>\n",
              "    <tr>\n",
              "      <th>50%</th>\n",
              "      <td>0.000230</td>\n",
              "      <td>-0.002415</td>\n",
              "      <td>0.000506</td>\n",
              "      <td>-0.005316</td>\n",
              "    </tr>\n",
              "    <tr>\n",
              "      <th>75%</th>\n",
              "      <td>0.007830</td>\n",
              "      <td>0.027039</td>\n",
              "      <td>0.006032</td>\n",
              "      <td>0.031615</td>\n",
              "    </tr>\n",
              "    <tr>\n",
              "      <th>max</th>\n",
              "      <td>0.104376</td>\n",
              "      <td>0.489248</td>\n",
              "      <td>0.109572</td>\n",
              "      <td>0.496008</td>\n",
              "    </tr>\n",
              "  </tbody>\n",
              "</table>\n",
              "</div>"
            ],
            "text/plain": [
              "              SX5E         V2TX       S&P500          VIX\n",
              "count  4313.000000  4313.000000  4313.000000  4313.000000\n",
              "mean     -0.000047    -0.000378     0.000138    -0.001239\n",
              "std       0.015059     0.056860     0.012479     0.065818\n",
              "min      -0.090110    -0.326505    -0.094695    -0.350589\n",
              "25%      -0.007501    -0.033819    -0.005545    -0.038733\n",
              "50%       0.000230    -0.002415     0.000506    -0.005316\n",
              "75%       0.007830     0.027039     0.006032     0.031615\n",
              "max       0.104376     0.489248     0.109572     0.496008"
            ]
          },
          "metadata": {
            "tags": []
          },
          "execution_count": 69
        }
      ]
    },
    {
      "metadata": {
        "id": "RWzXOWWOTVei",
        "colab_type": "code",
        "colab": {
          "base_uri": "https://localhost:8080/",
          "height": 164
        },
        "outputId": "dbc26bd4-f753-4a8d-facb-04481c3a1abe"
      },
      "cell_type": "code",
      "source": [
        "logs.corr().head()"
      ],
      "execution_count": 70,
      "outputs": [
        {
          "output_type": "execute_result",
          "data": {
            "text/html": [
              "<div>\n",
              "<style scoped>\n",
              "    .dataframe tbody tr th:only-of-type {\n",
              "        vertical-align: middle;\n",
              "    }\n",
              "\n",
              "    .dataframe tbody tr th {\n",
              "        vertical-align: top;\n",
              "    }\n",
              "\n",
              "    .dataframe thead th {\n",
              "        text-align: right;\n",
              "    }\n",
              "</style>\n",
              "<table border=\"1\" class=\"dataframe\">\n",
              "  <thead>\n",
              "    <tr style=\"text-align: right;\">\n",
              "      <th></th>\n",
              "      <th>SX5E</th>\n",
              "      <th>V2TX</th>\n",
              "      <th>S&amp;P500</th>\n",
              "      <th>VIX</th>\n",
              "    </tr>\n",
              "  </thead>\n",
              "  <tbody>\n",
              "    <tr>\n",
              "      <th>SX5E</th>\n",
              "      <td>1.000000</td>\n",
              "      <td>-0.721534</td>\n",
              "      <td>0.583362</td>\n",
              "      <td>-0.474611</td>\n",
              "    </tr>\n",
              "    <tr>\n",
              "      <th>V2TX</th>\n",
              "      <td>-0.721534</td>\n",
              "      <td>1.000000</td>\n",
              "      <td>-0.427889</td>\n",
              "      <td>0.514786</td>\n",
              "    </tr>\n",
              "    <tr>\n",
              "      <th>S&amp;P500</th>\n",
              "      <td>0.583362</td>\n",
              "      <td>-0.427889</td>\n",
              "      <td>1.000000</td>\n",
              "      <td>-0.750662</td>\n",
              "    </tr>\n",
              "    <tr>\n",
              "      <th>VIX</th>\n",
              "      <td>-0.474611</td>\n",
              "      <td>0.514786</td>\n",
              "      <td>-0.750662</td>\n",
              "      <td>1.000000</td>\n",
              "    </tr>\n",
              "  </tbody>\n",
              "</table>\n",
              "</div>"
            ],
            "text/plain": [
              "            SX5E      V2TX    S&P500       VIX\n",
              "SX5E    1.000000 -0.721534  0.583362 -0.474611\n",
              "V2TX   -0.721534  1.000000 -0.427889  0.514786\n",
              "S&P500  0.583362 -0.427889  1.000000 -0.750662\n",
              "VIX    -0.474611  0.514786 -0.750662  1.000000"
            ]
          },
          "metadata": {
            "tags": []
          },
          "execution_count": 70
        }
      ]
    },
    {
      "metadata": {
        "id": "ff1B43ZBTZco",
        "colab_type": "code",
        "colab": {
          "base_uri": "https://localhost:8080/",
          "height": 269
        },
        "outputId": "24451b08-3d70-4842-f013-83ba3d710b15"
      },
      "cell_type": "code",
      "source": [
        "from sklearn.linear_model import LinearRegression\n",
        "X=logs['SX5E'].values.reshape(-1, 1)\n",
        "y=logs['V2TX'].values.reshape(-1, 1)\n",
        "\n",
        "reg = LinearRegression().fit(X, y)\n",
        "reg.score(X,y)\n",
        "plt.scatter(logs['SX5E'],logs['V2TX'])\n",
        "ax_logs = plt.axis()\n",
        "x_reg = np.linspace(ax_logs[0],ax_logs[1]+0.01 )\n",
        "slope = reg.coef_[0][0]\n",
        "intercept = reg.intercept_[0]\n",
        "  \n",
        "plt.plot(x_reg, intercept+slope*x_reg,c='r');"
      ],
      "execution_count": 79,
      "outputs": [
        {
          "output_type": "display_data",
          "data": {
            "image/png": "[encoded data removed]",
            "text/plain": [
              "<Figure size 432x288 with 1 Axes>"
            ]
          },
          "metadata": {
            "tags": []
          }
        }
      ]
    },
    {
      "metadata": {
        "id": "8dx4aRdBaWOu",
        "colab_type": "code",
        "colab": {
          "base_uri": "https://localhost:8080/",
          "height": 35
        },
        "outputId": "0703c7fd-c563-4dbf-c19a-6a5b89a91226"
      },
      "cell_type": "code",
      "source": [
        "reg.score(X,y)"
      ],
      "execution_count": 80,
      "outputs": [
        {
          "output_type": "execute_result",
          "data": {
            "text/plain": [
              "0.5206113344914376"
            ]
          },
          "metadata": {
            "tags": []
          },
          "execution_count": 80
        }
      ]
    },
    {
      "metadata": {
        "id": "LWsa4qoUThBv",
        "colab_type": "code",
        "colab": {
          "base_uri": "https://localhost:8080/",
          "height": 269
        },
        "outputId": "0404720a-a53f-4649-d926-3616e3d45d68"
      },
      "cell_type": "code",
      "source": [
        "XX=logs['S&P500'].values.reshape(-1, 1)\n",
        "yy=logs['VIX'].values.reshape(-1, 1)\n",
        "\n",
        "reg2 = LinearRegression().fit(XX, yy)\n",
        "reg2.score(XX,yy)\n",
        "plt.scatter(logs['SX5E'],logs['V2TX'])\n",
        "ax_logs2 = plt.axis()\n",
        "x_reg2 = np.linspace(ax_logs2[0],ax_logs[1]+0.01 )\n",
        "slope2 = reg2.coef_[0][0]\n",
        "intercept2=reg2.intercept_[0]\n",
        "  \n",
        "plt.plot(x_reg2, intercept2+slope2*x_reg2,c='r');"
      ],
      "execution_count": 78,
      "outputs": [
        {
          "output_type": "display_data",
          "data": {
            "image/png": "[encoded data removed]",
            "text/plain": [
              "<Figure size 432x288 with 1 Axes>"
            ]
          },
          "metadata": {
            "tags": []
          }
        }
      ]
    },
    {
      "metadata": {
        "id": "iEamJBqJaZcP",
        "colab_type": "code",
        "colab": {
          "base_uri": "https://localhost:8080/",
          "height": 35
        },
        "outputId": "7f82ee9e-ce90-4d2a-b0ee-782757377a2d"
      },
      "cell_type": "code",
      "source": [
        "reg2.score(XX,yy)"
      ],
      "execution_count": 81,
      "outputs": [
        {
          "output_type": "execute_result",
          "data": {
            "text/plain": [
              "0.5634929191196121"
            ]
          },
          "metadata": {
            "tags": []
          },
          "execution_count": 81
        }
      ]
    },
    {
      "metadata": {
        "id": "JAFjjq_5VhTf",
        "colab_type": "code",
        "colab": {}
      },
      "cell_type": "code",
      "source": [
        ""
      ],
      "execution_count": 0,
      "outputs": []
    }
  ]
}