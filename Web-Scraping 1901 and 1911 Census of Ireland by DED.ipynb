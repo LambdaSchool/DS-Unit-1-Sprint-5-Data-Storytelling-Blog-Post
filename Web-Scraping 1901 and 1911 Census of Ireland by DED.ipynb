{
 "cells": [
  {
   "cell_type": "code",
   "execution_count": null,
   "metadata": {},
   "outputs": [],
   "source": [
    "import requests\n",
    "from bs4 import BeautifulSoup\n",
    "import pandas as pd"
   ]
  },
  {
   "cell_type": "code",
   "execution_count": null,
   "metadata": {},
   "outputs": [],
   "source": [
    "seed_url = 'http://www.census.nationalarchives.ie/pages/1911/Down/Kilkeel/'\n",
    "request = requests.get(seed_url)\n",
    "soup = BeautifulSoup(request.content, \"html.parser\")\n",
    "\n",
    "townland_url_extensions = []\n",
    "seed_url_extension = seed_url.replace(\n",
    "    'http://www.census.nationalarchives.ie', '')\n",
    "for link in soup.find_all('a'):\n",
    "    if link.get('href').startswith(seed_url_extension):\n",
    "        if link.get('href') != seed_url_extension:\n",
    "            townland_url_extensions.append(link.get('href'))\n",
    "            \n",
    "townland_url_extensions"
   ]
  },
  {
   "cell_type": "code",
   "execution_count": null,
   "metadata": {},
   "outputs": [],
   "source": [
    "house_urls = []\n",
    "\n",
    "for url_extension in townland_url_extensions:\n",
    "    request = requests.get('http://www.census.nationalarchives.ie' \n",
    "                           + url_extension)\n",
    "    soup = BeautifulSoup(request.content, \"html.parser\")\n",
    "    \n",
    "    for link in soup.find_all('a'):\n",
    "        if link.get('href').startswith(url_extension):\n",
    "            if link.get('href') != (url_extension):\n",
    "                house_urls.append('http://www.census.nationalarchives.ie' +\n",
    "                                  link.get('href'))\n",
    "                \n",
    "house_urls = list(set(house_urls))\n",
    "\n",
    "house_urls"
   ]
  },
  {
   "cell_type": "code",
   "execution_count": null,
   "metadata": {},
   "outputs": [],
   "source": [
    "residents = []\n",
    "\n",
    "for url in house_urls:\n",
    "    split_url = url.split('/')\n",
    "    townland_or_street = split_url[-3]\n",
    "    house_id = split_url[-2]\n",
    "    \n",
    "    request = requests.get(url)\n",
    "    soup = BeautifulSoup(request.content, \"html.parser\")\n",
    "    \n",
    "    heading = (str(soup.find_all('h1')[0]))\n",
    "    trimmed_heading = heading.replace('<h1>Residents of a house ', '')\n",
    "    split_heading = trimmed_heading.split(' ', 1)\n",
    "    house = split_heading[0]\n",
    "    house\n",
    "\n",
    "    table = soup.find('table')\n",
    "    table_body = table.find('tbody')\n",
    "    rows = table_body.find_all('tr')\n",
    "    \n",
    "    resident_number = 1\n",
    "    for row in rows:\n",
    "        cols = row.find_all('td')\n",
    "        cols = [ele.text.strip() for ele in cols]\n",
    "        cols.insert(0, resident_number)\n",
    "        cols.insert(0, house)\n",
    "        cols.insert(0, townland_or_street)\n",
    "        cols.insert(0, house_id)\n",
    "        residents.append([ele for ele in cols])\n",
    "        resident_number += 1\n",
    "\n",
    "column_headers_1901 = ['house_id', 'townland_or_street', 'house',\n",
    "                  'resident_number', 'surname', 'forename', 'age', 'sex', \n",
    "                  'relation_to_head', 'religion', 'birthplace', 'occupation', \n",
    "                  'literacy', 'irish_language', 'marital_status', \n",
    "                  'specified_illnesses']\n",
    "\n",
    "column_headers_1911 = ['house_id', 'townland_or_street', 'house',\n",
    "                  'resident_number', 'surname', 'forename', 'age', 'sex', \n",
    "                  'relation_to_head', 'religion', 'birthplace', 'occupation', \n",
    "                  'literacy', 'irish_language', 'marital_status', \n",
    "                  'specified_illnesses', 'years_married', 'children_born',\n",
    "                  'children_living']\n",
    "\n",
    "year = seed_url.split('/')[-4]\n",
    "county = seed_url.split('/')[-3]\n",
    "ded = seed_url.split('/')[-2]\n",
    "\n",
    "if year == '1901':\n",
    "    seed_DED_df = pd.DataFrame(residents, columns=column_headers_1901)\n",
    "\n",
    "if year == '1911':\n",
    "    seed_DED_df = pd.DataFrame(residents, columns=column_headers_1911)\n",
    "\n",
    "seed_DED_df.insert(1, 'ded', ded)\n",
    "seed_DED_df.insert(1, 'county', county)\n",
    "\n",
    "seed_DED_df = seed_DED_df.sort_values(by=['house_id', 'resident_number'])\n",
    "seed_DED_df = seed_DED_df.reset_index(drop='True')\n",
    "\n",
    "seed_DED_df"
   ]
  },
  {
   "cell_type": "code",
   "execution_count": null,
   "metadata": {},
   "outputs": [],
   "source": [
    "seed_DED_df.to_csv(year + '_' + county + '_' + ded + '_raw.csv')"
   ]
  }
 ],
 "metadata": {
  "kernelspec": {
   "display_name": "Python 3",
   "language": "python",
   "name": "python3"
  },
  "language_info": {
   "codemirror_mode": {
    "name": "ipython",
    "version": 3
   },
   "file_extension": ".py",
   "mimetype": "text/x-python",
   "name": "python",
   "nbconvert_exporter": "python",
   "pygments_lexer": "ipython3",
   "version": "3.7.3"
  }
 },
 "nbformat": 4,
 "nbformat_minor": 2
}
