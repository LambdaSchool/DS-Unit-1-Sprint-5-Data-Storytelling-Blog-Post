{
  "nbformat": 4,
  "nbformat_minor": 0,
  "metadata": {
    "colab": {
      "name": "clean_and_prep_fx_data.ipynb",
      "version": "0.3.2",
      "provenance": []
    },
    "kernelspec": {
      "name": "python3",
      "display_name": "Python 3"
    }
  },
  "cells": [
    {
      "cell_type": "code",
      "metadata": {
        "id": "TaqsLWbzI6CG",
        "colab_type": "code",
        "colab": {}
      },
      "source": [
        "# import libraries \n",
        "import pandas as pd\n",
        "import numpy as np\n",
        "from google.colab import files"
      ],
      "execution_count": 0,
      "outputs": []
    },
    {
      "cell_type": "code",
      "metadata": {
        "id": "TGdzNWXmJEpP",
        "colab_type": "code",
        "outputId": "4305b01f-62b7-4a64-c628-6d597e1e086d",
        "colab": {
          "base_uri": "https://localhost:8080/",
          "height": 204
        }
      },
      "source": [
        "# load FX price history data\n",
        "# show first 5 rows\n",
        "fx = pd.read_csv('https://raw.githubusercontent.com/AndrewMarksArt/DS-Unit-1-Sprint-5-Data-Storytelling-Blog-Post/master/historical_fx_rates.csv')\n",
        "fx.head()"
      ],
      "execution_count": 38,
      "outputs": [
        {
          "output_type": "execute_result",
          "data": {
            "text/html": [
              "<div>\n",
              "<style scoped>\n",
              "    .dataframe tbody tr th:only-of-type {\n",
              "        vertical-align: middle;\n",
              "    }\n",
              "\n",
              "    .dataframe tbody tr th {\n",
              "        vertical-align: top;\n",
              "    }\n",
              "\n",
              "    .dataframe thead th {\n",
              "        text-align: right;\n",
              "    }\n",
              "</style>\n",
              "<table border=\"1\" class=\"dataframe\">\n",
              "  <thead>\n",
              "    <tr style=\"text-align: right;\">\n",
              "      <th></th>\n",
              "      <th>DATE</th>\n",
              "      <th>DEXCHUS</th>\n",
              "      <th>DEXDNUS</th>\n",
              "      <th>DEXHKUS</th>\n",
              "      <th>DEXJPUS</th>\n",
              "      <th>DEXKOUS</th>\n",
              "      <th>DEXMXUS</th>\n",
              "      <th>DEXNOUS</th>\n",
              "      <th>DEXSDUS</th>\n",
              "      <th>DEXSIUS</th>\n",
              "      <th>DEXSZUS</th>\n",
              "      <th>DEXTAUS</th>\n",
              "      <th>DEXUSAL</th>\n",
              "      <th>DEXUSEU</th>\n",
              "      <th>DEXUSNZ</th>\n",
              "      <th>DEXUSUK</th>\n",
              "    </tr>\n",
              "  </thead>\n",
              "  <tbody>\n",
              "    <tr>\n",
              "      <th>0</th>\n",
              "      <td>1971-01-04</td>\n",
              "      <td>NaN</td>\n",
              "      <td>7.4850</td>\n",
              "      <td>NaN</td>\n",
              "      <td>357.73</td>\n",
              "      <td>NaN</td>\n",
              "      <td>NaN</td>\n",
              "      <td>7.1359</td>\n",
              "      <td>5.1643</td>\n",
              "      <td>NaN</td>\n",
              "      <td>4.3180</td>\n",
              "      <td>NaN</td>\n",
              "      <td>1.1127</td>\n",
              "      <td>NaN</td>\n",
              "      <td>1.1138</td>\n",
              "      <td>2.3938</td>\n",
              "    </tr>\n",
              "    <tr>\n",
              "      <th>1</th>\n",
              "      <td>1971-01-05</td>\n",
              "      <td>NaN</td>\n",
              "      <td>7.4872</td>\n",
              "      <td>NaN</td>\n",
              "      <td>357.81</td>\n",
              "      <td>NaN</td>\n",
              "      <td>NaN</td>\n",
              "      <td>7.1422</td>\n",
              "      <td>5.1628</td>\n",
              "      <td>NaN</td>\n",
              "      <td>4.3117</td>\n",
              "      <td>NaN</td>\n",
              "      <td>1.1132</td>\n",
              "      <td>NaN</td>\n",
              "      <td>1.1143</td>\n",
              "      <td>2.3949</td>\n",
              "    </tr>\n",
              "    <tr>\n",
              "      <th>2</th>\n",
              "      <td>1971-01-06</td>\n",
              "      <td>NaN</td>\n",
              "      <td>7.4839</td>\n",
              "      <td>NaN</td>\n",
              "      <td>357.86</td>\n",
              "      <td>NaN</td>\n",
              "      <td>NaN</td>\n",
              "      <td>7.1367</td>\n",
              "      <td>5.1614</td>\n",
              "      <td>NaN</td>\n",
              "      <td>4.3113</td>\n",
              "      <td>NaN</td>\n",
              "      <td>1.1140</td>\n",
              "      <td>NaN</td>\n",
              "      <td>1.1151</td>\n",
              "      <td>2.3967</td>\n",
              "    </tr>\n",
              "    <tr>\n",
              "      <th>3</th>\n",
              "      <td>1971-01-07</td>\n",
              "      <td>NaN</td>\n",
              "      <td>7.4850</td>\n",
              "      <td>NaN</td>\n",
              "      <td>357.87</td>\n",
              "      <td>NaN</td>\n",
              "      <td>NaN</td>\n",
              "      <td>7.1386</td>\n",
              "      <td>5.1649</td>\n",
              "      <td>NaN</td>\n",
              "      <td>4.3103</td>\n",
              "      <td>NaN</td>\n",
              "      <td>1.1138</td>\n",
              "      <td>NaN</td>\n",
              "      <td>1.1150</td>\n",
              "      <td>2.3963</td>\n",
              "    </tr>\n",
              "    <tr>\n",
              "      <th>4</th>\n",
              "      <td>1971-01-08</td>\n",
              "      <td>NaN</td>\n",
              "      <td>7.4850</td>\n",
              "      <td>NaN</td>\n",
              "      <td>357.82</td>\n",
              "      <td>NaN</td>\n",
              "      <td>NaN</td>\n",
              "      <td>7.1382</td>\n",
              "      <td>5.1631</td>\n",
              "      <td>NaN</td>\n",
              "      <td>4.3109</td>\n",
              "      <td>NaN</td>\n",
              "      <td>1.1124</td>\n",
              "      <td>NaN</td>\n",
              "      <td>1.1154</td>\n",
              "      <td>2.3972</td>\n",
              "    </tr>\n",
              "  </tbody>\n",
              "</table>\n",
              "</div>"
            ],
            "text/plain": [
              "         DATE  DEXCHUS  DEXDNUS  DEXHKUS  ...  DEXUSAL  DEXUSEU  DEXUSNZ  DEXUSUK\n",
              "0  1971-01-04      NaN   7.4850      NaN  ...   1.1127      NaN   1.1138   2.3938\n",
              "1  1971-01-05      NaN   7.4872      NaN  ...   1.1132      NaN   1.1143   2.3949\n",
              "2  1971-01-06      NaN   7.4839      NaN  ...   1.1140      NaN   1.1151   2.3967\n",
              "3  1971-01-07      NaN   7.4850      NaN  ...   1.1138      NaN   1.1150   2.3963\n",
              "4  1971-01-08      NaN   7.4850      NaN  ...   1.1124      NaN   1.1154   2.3972\n",
              "\n",
              "[5 rows x 16 columns]"
            ]
          },
          "metadata": {
            "tags": []
          },
          "execution_count": 38
        }
      ]
    },
    {
      "cell_type": "code",
      "metadata": {
        "id": "_MyDELHdWq33",
        "colab_type": "code",
        "outputId": "07faec1e-87b8-4628-843d-652b1203facc",
        "colab": {
          "base_uri": "https://localhost:8080/",
          "height": 289
        }
      },
      "source": [
        "# load auction price history data\n",
        "# drop un-needed columns and show first five rows\n",
        "auction = pd.read_csv('https://raw.githubusercontent.com/AndrewMarksArt/DS-Unit-1-Sprint-5-Data-Storytelling-Blog-Post/master/Damien_Hirst_Auction_Results.csv')\n",
        "auction.drop(['ID_Batch_Loop#', 'Artist_Name', 'Date_Created', 'Size'], axis=1, inplace=True)\n",
        "auction = auction.rename(columns={'Sale_Date': 'Date'})\n",
        "auction.head()"
      ],
      "execution_count": 39,
      "outputs": [
        {
          "output_type": "execute_result",
          "data": {
            "text/html": [
              "<div>\n",
              "<style scoped>\n",
              "    .dataframe tbody tr th:only-of-type {\n",
              "        vertical-align: middle;\n",
              "    }\n",
              "\n",
              "    .dataframe tbody tr th {\n",
              "        vertical-align: top;\n",
              "    }\n",
              "\n",
              "    .dataframe thead th {\n",
              "        text-align: right;\n",
              "    }\n",
              "</style>\n",
              "<table border=\"1\" class=\"dataframe\">\n",
              "  <thead>\n",
              "    <tr style=\"text-align: right;\">\n",
              "      <th></th>\n",
              "      <th>Title</th>\n",
              "      <th>Medium</th>\n",
              "      <th>Signed_Edition</th>\n",
              "      <th>Estimate_Range</th>\n",
              "      <th>Realized_Price</th>\n",
              "      <th>Sale</th>\n",
              "      <th>Auction_House</th>\n",
              "      <th>Date</th>\n",
              "    </tr>\n",
              "  </thead>\n",
              "  <tbody>\n",
              "    <tr>\n",
              "      <th>0</th>\n",
              "      <td>SPOT DRAWING NO. 2, 1990</td>\n",
              "      <td>coloured pencil on paper</td>\n",
              "      <td>Signed</td>\n",
              "      <td>80,000 - 120,000 GBP</td>\n",
              "      <td>175,000 GBP</td>\n",
              "      <td>Contemporary Art Day Auction</td>\n",
              "      <td>Sotheby's London</td>\n",
              "      <td>Jun. 27, 2018</td>\n",
              "    </tr>\n",
              "    <tr>\n",
              "      <th>1</th>\n",
              "      <td>Supreme Skate Deck Red #7, 1987</td>\n",
              "      <td>Color silkscreen on plywood in original</td>\n",
              "      <td>from an edition of 500</td>\n",
              "      <td>800 - 1,200 USD</td>\n",
              "      <td>450 USD*</td>\n",
              "      <td>Public Art Auction: Modern &amp; Contemporary Art,...</td>\n",
              "      <td>Santa Monica Auctions</td>\n",
              "      <td>Jun. 04, 2017</td>\n",
              "    </tr>\n",
              "    <tr>\n",
              "      <th>2</th>\n",
              "      <td>Supreme Skate Deck Yellow #6, 1987</td>\n",
              "      <td>Color silkscreen on plywood in original bag</td>\n",
              "      <td>from an edition of 500</td>\n",
              "      <td>800 - 1,200 USD</td>\n",
              "      <td>475 USD*</td>\n",
              "      <td>Public Art Auction: Modern &amp; Contemporary Art,...</td>\n",
              "      <td>Santa Monica Auctions</td>\n",
              "      <td>Jun. 04, 2017</td>\n",
              "    </tr>\n",
              "    <tr>\n",
              "      <th>3</th>\n",
              "      <td>Pharmacy, circa1990</td>\n",
              "      <td>offset lithograph printed in colours</td>\n",
              "      <td>42/200</td>\n",
              "      <td>1,500 - 2,000 GBP</td>\n",
              "      <td>1,500 GBP</td>\n",
              "      <td>Mixed Media: 20th Century Art</td>\n",
              "      <td>Dreweatts &amp; Bloomsbury Auctions, Bloomsbury House</td>\n",
              "      <td>Jul. 16, 2015</td>\n",
              "    </tr>\n",
              "    <tr>\n",
              "      <th>4</th>\n",
              "      <td>The Complete Spot Paintings, 1986-2011</td>\n",
              "      <td>with butterfly and heart drawing on the slipca...</td>\n",
              "      <td>Signed</td>\n",
              "      <td>1,000 - 1,500 GBP</td>\n",
              "      <td>2,375 GBP</td>\n",
              "      <td>Prints &amp; Multiples</td>\n",
              "      <td>Bonhams Knightsbridge</td>\n",
              "      <td>Jun. 03, 2015</td>\n",
              "    </tr>\n",
              "  </tbody>\n",
              "</table>\n",
              "</div>"
            ],
            "text/plain": [
              "                                    Title  ...           Date\n",
              "0                SPOT DRAWING NO. 2, 1990  ...  Jun. 27, 2018\n",
              "1         Supreme Skate Deck Red #7, 1987  ...  Jun. 04, 2017\n",
              "2      Supreme Skate Deck Yellow #6, 1987  ...  Jun. 04, 2017\n",
              "3                     Pharmacy, circa1990  ...  Jul. 16, 2015\n",
              "4  The Complete Spot Paintings, 1986-2011  ...  Jun. 03, 2015\n",
              "\n",
              "[5 rows x 8 columns]"
            ]
          },
          "metadata": {
            "tags": []
          },
          "execution_count": 39
        }
      ]
    },
    {
      "cell_type": "code",
      "metadata": {
        "id": "fO0-SLUoZeKs",
        "colab_type": "code",
        "colab": {}
      },
      "source": [
        "# create var for the estimate range column from auction data\n",
        "estimate = auction['Estimate_Range']\n",
        "\n",
        "# create empty lists that will be used to create new columns \n",
        "low = []\n",
        "high = []\n",
        "currency = []\n",
        "\n",
        "# loop through elements in the estimate range\n",
        "# pull out low estimate, high estimate and currency\n",
        "for i in range(len(estimate)):\n",
        "  est = estimate[i]\n",
        "  try:\n",
        "    temp = est.split()\n",
        "    if len(temp) == 4:\n",
        "      low.append(temp[0])\n",
        "      high.append(temp[2])\n",
        "      currency.append(temp[3])\n",
        "    elif len(temp) == 2:\n",
        "      low.append(temp[0])\n",
        "      high.append(np.nan)\n",
        "      currency.append(temp[1])\n",
        "    else:\n",
        "      low.append(np.nan)\n",
        "      high.append(np.nan)\n",
        "      currency.append(np.nan)\n",
        "  except:\n",
        "    pass\n",
        "\n",
        "# use the lists to create new columns for the auction data \n",
        "auction['Low Estimate'] = low\n",
        "auction['High Estimate'] = high\n",
        "auction['Currency'] = currency\n",
        "\n",
        "# drop estimate range since it is now redundant \n",
        "auction.drop(['Estimate_Range'], axis=1, inplace=True)"
      ],
      "execution_count": 0,
      "outputs": []
    },
    {
      "cell_type": "code",
      "metadata": {
        "id": "ypqiTUMrZtkt",
        "colab_type": "code",
        "colab": {}
      },
      "source": [
        "# create var to hold realized prices from aution data\n",
        "prices = auction['Realized_Price']\n",
        "\n",
        "# loop through realized prices to remove currency codes\n",
        "for i in range(len(prices)):\n",
        "  try:\n",
        "    temp = prices[i].split()\n",
        "    if len(temp) < 2:\n",
        "      prices[i] = -1\n",
        "    else:\n",
        "      prices[i] = temp[0]\n",
        "  except:\n",
        "    pass\n",
        "  \n",
        "# replace realized prices so new values have no currency codes\n",
        "auction['Realized_Price'] = prices"
      ],
      "execution_count": 0,
      "outputs": []
    },
    {
      "cell_type": "code",
      "metadata": {
        "id": "bDAUDIxaZ3VV",
        "colab_type": "code",
        "colab": {}
      },
      "source": [
        "# set var for currency column\n",
        "currency = auction['Currency']\n",
        "\n",
        "# loop through currency and remove * and Sold values\n",
        "for i in range(len(currency)):\n",
        "  try:\n",
        "    if '*' in currency[i]:\n",
        "      currency[i] = 'EUR'\n",
        "    if 'Sold' in currency[i]:\n",
        "      currency[i] = np.nan\n",
        "  except:\n",
        "    pass\n",
        "\n",
        "# replace currency with new list that removed * and Sold\n",
        "auction['Currency'] = currency"
      ],
      "execution_count": 0,
      "outputs": []
    },
    {
      "cell_type": "code",
      "metadata": {
        "id": "RbnV5c4vZ5vt",
        "colab_type": "code",
        "colab": {}
      },
      "source": [
        "# fill remaining NaN's in currency column with 'USD'\n",
        "auction['Currency'].fillna('USD', inplace=True)"
      ],
      "execution_count": 0,
      "outputs": []
    },
    {
      "cell_type": "code",
      "metadata": {
        "id": "oOKZR_JuaDM9",
        "colab_type": "code",
        "colab": {}
      },
      "source": [
        "# set up dictionary with currency code as keys and country names as the values\n",
        "country_dict = {'GBP': 'United Kingdom', 'USD': 'United States', 'EUR': 'Europe', 'HKD': 'Hong Kong', 'CNY': 'China', 'CHF': 'Switzerland',\n",
        "             'SEK': 'Sweden', 'JPY': 'Japan', 'KRW': 'South Korea', 'AUD': 'Australia', 'NOK': 'Norway', 'ZAR': 'South Africa', 'DKK': 'Denmark', 'NZD': 'New Zealand', \n",
        "               'TWD': 'Taiwan', 'SGD': 'Singapore', 'MXN': 'Mexico', 'CZK': 'Czech Republic'}"
      ],
      "execution_count": 0,
      "outputs": []
    },
    {
      "cell_type": "code",
      "metadata": {
        "id": "vkTFGgQTaFW0",
        "colab_type": "code",
        "colab": {}
      },
      "source": [
        "# set currency column to new var and create list for countries\n",
        "currency = auction['Currency']\n",
        "country = []\n",
        "\n",
        "# loop through currency column and get the country name that corresponds to the currency code \n",
        "for i in range(len(currency)):\n",
        "  try:\n",
        "    country.append(country_dict.get(currency[i]))\n",
        "  except:\n",
        "    pass\n",
        "    \n",
        "# create a county column with the counrty list\n",
        "auction['Country'] = country"
      ],
      "execution_count": 0,
      "outputs": []
    },
    {
      "cell_type": "code",
      "metadata": {
        "id": "4oDwJo4BaJs0",
        "colab_type": "code",
        "colab": {}
      },
      "source": [
        "# replace no sale date listed with NaN\n",
        "sale = auction['Date']\n",
        "for i in range(len(sale)):\n",
        "  try:\n",
        "    if 'no' in sale[i]:\n",
        "      sale[i] = np.nan\n",
        "  except:\n",
        "    pass"
      ],
      "execution_count": 0,
      "outputs": []
    },
    {
      "cell_type": "code",
      "metadata": {
        "id": "3jL4Om1_aLwM",
        "colab_type": "code",
        "colab": {}
      },
      "source": [
        "# make sure date column is a DateTime type\n",
        "auction['Date'] = pd.to_datetime(auction['Date'])"
      ],
      "execution_count": 0,
      "outputs": []
    },
    {
      "cell_type": "code",
      "metadata": {
        "id": "ksOcyp8udKFz",
        "colab_type": "code",
        "outputId": "b1140752-b0bc-4ea5-a081-32bd966f6dfd",
        "colab": {
          "base_uri": "https://localhost:8080/",
          "height": 204
        }
      },
      "source": [
        "# create a new df with the date and country from the auction data\n",
        "auction_location = auction[['Date', 'Country']]\n",
        "auction_location.head()"
      ],
      "execution_count": 48,
      "outputs": [
        {
          "output_type": "execute_result",
          "data": {
            "text/html": [
              "<div>\n",
              "<style scoped>\n",
              "    .dataframe tbody tr th:only-of-type {\n",
              "        vertical-align: middle;\n",
              "    }\n",
              "\n",
              "    .dataframe tbody tr th {\n",
              "        vertical-align: top;\n",
              "    }\n",
              "\n",
              "    .dataframe thead th {\n",
              "        text-align: right;\n",
              "    }\n",
              "</style>\n",
              "<table border=\"1\" class=\"dataframe\">\n",
              "  <thead>\n",
              "    <tr style=\"text-align: right;\">\n",
              "      <th></th>\n",
              "      <th>Date</th>\n",
              "      <th>Country</th>\n",
              "    </tr>\n",
              "  </thead>\n",
              "  <tbody>\n",
              "    <tr>\n",
              "      <th>0</th>\n",
              "      <td>2018-06-27</td>\n",
              "      <td>United Kingdom</td>\n",
              "    </tr>\n",
              "    <tr>\n",
              "      <th>1</th>\n",
              "      <td>2017-06-04</td>\n",
              "      <td>United States</td>\n",
              "    </tr>\n",
              "    <tr>\n",
              "      <th>2</th>\n",
              "      <td>2017-06-04</td>\n",
              "      <td>United States</td>\n",
              "    </tr>\n",
              "    <tr>\n",
              "      <th>3</th>\n",
              "      <td>2015-07-16</td>\n",
              "      <td>United Kingdom</td>\n",
              "    </tr>\n",
              "    <tr>\n",
              "      <th>4</th>\n",
              "      <td>2015-06-03</td>\n",
              "      <td>United Kingdom</td>\n",
              "    </tr>\n",
              "  </tbody>\n",
              "</table>\n",
              "</div>"
            ],
            "text/plain": [
              "        Date         Country\n",
              "0 2018-06-27  United Kingdom\n",
              "1 2017-06-04   United States\n",
              "2 2017-06-04   United States\n",
              "3 2015-07-16  United Kingdom\n",
              "4 2015-06-03  United Kingdom"
            ]
          },
          "metadata": {
            "tags": []
          },
          "execution_count": 48
        }
      ]
    },
    {
      "cell_type": "markdown",
      "metadata": {
        "id": "GNUgXvrYAwVF",
        "colab_type": "text"
      },
      "source": [
        "## Want to refactor and write a function to handle this when time allows, don't like repeating so much\n",
        "\n",
        "*   take the fx df and break out each country, add the country name, and chage the column names to 'Date', 'Value', and 'Country' into there own df.\n",
        "*  Make sure all FX rates are in currency / USD ratio.\n",
        "*  Concat all df's into one df\n",
        "\n"
      ]
    },
    {
      "cell_type": "code",
      "metadata": {
        "id": "wHefDcMaJJeS",
        "colab_type": "code",
        "outputId": "048c393f-8993-4a02-e18d-6f4df39f9615",
        "colab": {
          "base_uri": "https://localhost:8080/",
          "height": 119
        }
      },
      "source": [
        "china = fx[['DATE', 'DEXCHUS']]\n",
        "china['Country'] = 'China'\n",
        "china = china.rename(columns={'DATE': 'Date', 'DEXCHUS': 'Value'})\n",
        "china = china[['Date', 'Country', 'Value']]"
      ],
      "execution_count": 49,
      "outputs": [
        {
          "output_type": "stream",
          "text": [
            "/usr/local/lib/python3.6/dist-packages/ipykernel_launcher.py:2: SettingWithCopyWarning: \n",
            "A value is trying to be set on a copy of a slice from a DataFrame.\n",
            "Try using .loc[row_indexer,col_indexer] = value instead\n",
            "\n",
            "See the caveats in the documentation: http://pandas.pydata.org/pandas-docs/stable/indexing.html#indexing-view-versus-copy\n",
            "  \n"
          ],
          "name": "stderr"
        }
      ]
    },
    {
      "cell_type": "code",
      "metadata": {
        "id": "-81RRRzXJTMW",
        "colab_type": "code",
        "outputId": "c5e9cc18-a94c-48c4-f7cb-b2d209e20baa",
        "colab": {
          "base_uri": "https://localhost:8080/",
          "height": 119
        }
      },
      "source": [
        "denmark = fx[['DATE', 'DEXDNUS']]\n",
        "denmark['Country'] = 'Denmark'\n",
        "denmark = denmark.rename(columns={'DATE': 'Date', 'DEXDNUS': 'Value'})\n",
        "denmark = denmark[['Date', 'Country', 'Value']]"
      ],
      "execution_count": 50,
      "outputs": [
        {
          "output_type": "stream",
          "text": [
            "/usr/local/lib/python3.6/dist-packages/ipykernel_launcher.py:2: SettingWithCopyWarning: \n",
            "A value is trying to be set on a copy of a slice from a DataFrame.\n",
            "Try using .loc[row_indexer,col_indexer] = value instead\n",
            "\n",
            "See the caveats in the documentation: http://pandas.pydata.org/pandas-docs/stable/indexing.html#indexing-view-versus-copy\n",
            "  \n"
          ],
          "name": "stderr"
        }
      ]
    },
    {
      "cell_type": "code",
      "metadata": {
        "id": "cWoUwlltJilP",
        "colab_type": "code",
        "outputId": "b90d4334-1871-417f-b49c-054b00713da0",
        "colab": {
          "base_uri": "https://localhost:8080/",
          "height": 119
        }
      },
      "source": [
        "hong_kong = fx[['DATE', 'DEXHKUS']]\n",
        "hong_kong['Country'] = 'Hong Kong'\n",
        "hong_kong = hong_kong.rename(columns={'DATE': 'Date', 'DEXHKUS': 'Value'})\n",
        "hong_kong = hong_kong[['Date', 'Country', 'Value']]"
      ],
      "execution_count": 51,
      "outputs": [
        {
          "output_type": "stream",
          "text": [
            "/usr/local/lib/python3.6/dist-packages/ipykernel_launcher.py:2: SettingWithCopyWarning: \n",
            "A value is trying to be set on a copy of a slice from a DataFrame.\n",
            "Try using .loc[row_indexer,col_indexer] = value instead\n",
            "\n",
            "See the caveats in the documentation: http://pandas.pydata.org/pandas-docs/stable/indexing.html#indexing-view-versus-copy\n",
            "  \n"
          ],
          "name": "stderr"
        }
      ]
    },
    {
      "cell_type": "code",
      "metadata": {
        "id": "f0lCbwFnJ5_A",
        "colab_type": "code",
        "outputId": "0d59098b-7e69-4471-aa11-0f5eb13e66bc",
        "colab": {
          "base_uri": "https://localhost:8080/",
          "height": 119
        }
      },
      "source": [
        "japan = fx[['DATE', 'DEXJPUS']]\n",
        "japan['Country'] = 'Japan'\n",
        "japan = japan.rename(columns={'DATE': 'Date', 'DEXJPUS': 'Value'})\n",
        "japan = japan[['Date', 'Country', 'Value']]"
      ],
      "execution_count": 52,
      "outputs": [
        {
          "output_type": "stream",
          "text": [
            "/usr/local/lib/python3.6/dist-packages/ipykernel_launcher.py:2: SettingWithCopyWarning: \n",
            "A value is trying to be set on a copy of a slice from a DataFrame.\n",
            "Try using .loc[row_indexer,col_indexer] = value instead\n",
            "\n",
            "See the caveats in the documentation: http://pandas.pydata.org/pandas-docs/stable/indexing.html#indexing-view-versus-copy\n",
            "  \n"
          ],
          "name": "stderr"
        }
      ]
    },
    {
      "cell_type": "code",
      "metadata": {
        "id": "q-8fdjuuKMKW",
        "colab_type": "code",
        "outputId": "deb38325-0cbb-4f5f-9c65-d22c4b46282c",
        "colab": {
          "base_uri": "https://localhost:8080/",
          "height": 119
        }
      },
      "source": [
        "south_korea = fx[['DATE', 'DEXKOUS']]\n",
        "south_korea['Country'] = 'South Korea'\n",
        "south_korea = south_korea.rename(columns={'DATE': 'Date', 'DEXKOUS': 'Value'})\n",
        "south_korea = south_korea[['Date', 'Country', 'Value']]"
      ],
      "execution_count": 53,
      "outputs": [
        {
          "output_type": "stream",
          "text": [
            "/usr/local/lib/python3.6/dist-packages/ipykernel_launcher.py:2: SettingWithCopyWarning: \n",
            "A value is trying to be set on a copy of a slice from a DataFrame.\n",
            "Try using .loc[row_indexer,col_indexer] = value instead\n",
            "\n",
            "See the caveats in the documentation: http://pandas.pydata.org/pandas-docs/stable/indexing.html#indexing-view-versus-copy\n",
            "  \n"
          ],
          "name": "stderr"
        }
      ]
    },
    {
      "cell_type": "code",
      "metadata": {
        "id": "aoZhRb7NKaK-",
        "colab_type": "code",
        "outputId": "1733e268-8c16-4223-faf2-606dbaf23da2",
        "colab": {
          "base_uri": "https://localhost:8080/",
          "height": 119
        }
      },
      "source": [
        "mexico = fx[['DATE', 'DEXMXUS']]\n",
        "mexico['Country'] = 'Mexico'\n",
        "mexico = mexico.rename(columns={'DATE': 'Date', 'DEXMXUS': 'Value'})\n",
        "mexico = mexico[['Date', 'Country', 'Value']]"
      ],
      "execution_count": 54,
      "outputs": [
        {
          "output_type": "stream",
          "text": [
            "/usr/local/lib/python3.6/dist-packages/ipykernel_launcher.py:2: SettingWithCopyWarning: \n",
            "A value is trying to be set on a copy of a slice from a DataFrame.\n",
            "Try using .loc[row_indexer,col_indexer] = value instead\n",
            "\n",
            "See the caveats in the documentation: http://pandas.pydata.org/pandas-docs/stable/indexing.html#indexing-view-versus-copy\n",
            "  \n"
          ],
          "name": "stderr"
        }
      ]
    },
    {
      "cell_type": "code",
      "metadata": {
        "id": "OxxvMtxMKlBV",
        "colab_type": "code",
        "outputId": "9a302147-6a78-4e4e-a652-113d12c80f9b",
        "colab": {
          "base_uri": "https://localhost:8080/",
          "height": 119
        }
      },
      "source": [
        "norway = fx[['DATE', 'DEXNOUS']]\n",
        "norway['Country'] = 'Norway'\n",
        "norway = norway.rename(columns={'DATE': 'Date', 'DEXNOUS': 'Value'})\n",
        "norway = norway[['Date', 'Country', 'Value']]"
      ],
      "execution_count": 55,
      "outputs": [
        {
          "output_type": "stream",
          "text": [
            "/usr/local/lib/python3.6/dist-packages/ipykernel_launcher.py:2: SettingWithCopyWarning: \n",
            "A value is trying to be set on a copy of a slice from a DataFrame.\n",
            "Try using .loc[row_indexer,col_indexer] = value instead\n",
            "\n",
            "See the caveats in the documentation: http://pandas.pydata.org/pandas-docs/stable/indexing.html#indexing-view-versus-copy\n",
            "  \n"
          ],
          "name": "stderr"
        }
      ]
    },
    {
      "cell_type": "code",
      "metadata": {
        "id": "CYcmeB6IK1R-",
        "colab_type": "code",
        "outputId": "01f81407-3453-4e1d-dffc-41d9946ced0c",
        "colab": {
          "base_uri": "https://localhost:8080/",
          "height": 119
        }
      },
      "source": [
        "sweden = fx[['DATE', 'DEXSDUS']]\n",
        "sweden['Country'] = 'Sweden'\n",
        "sweden = sweden.rename(columns={'DATE': 'Date', 'DEXSDUS': 'Value'})\n",
        "sweden = sweden[['Date', 'Country', 'Value']]"
      ],
      "execution_count": 56,
      "outputs": [
        {
          "output_type": "stream",
          "text": [
            "/usr/local/lib/python3.6/dist-packages/ipykernel_launcher.py:2: SettingWithCopyWarning: \n",
            "A value is trying to be set on a copy of a slice from a DataFrame.\n",
            "Try using .loc[row_indexer,col_indexer] = value instead\n",
            "\n",
            "See the caveats in the documentation: http://pandas.pydata.org/pandas-docs/stable/indexing.html#indexing-view-versus-copy\n",
            "  \n"
          ],
          "name": "stderr"
        }
      ]
    },
    {
      "cell_type": "code",
      "metadata": {
        "id": "TB1191akLMC1",
        "colab_type": "code",
        "outputId": "eb4b6b18-66d8-4905-b7d1-6d3554733711",
        "colab": {
          "base_uri": "https://localhost:8080/",
          "height": 119
        }
      },
      "source": [
        "singapore = fx[['DATE', 'DEXSIUS']]\n",
        "singapore['Country'] = 'Singapore'\n",
        "singapore = singapore.rename(columns={'DATE': 'Date', 'DEXSIUS': 'Value'})\n",
        "singapore = singapore[['Date', 'Country', 'Value']]"
      ],
      "execution_count": 57,
      "outputs": [
        {
          "output_type": "stream",
          "text": [
            "/usr/local/lib/python3.6/dist-packages/ipykernel_launcher.py:2: SettingWithCopyWarning: \n",
            "A value is trying to be set on a copy of a slice from a DataFrame.\n",
            "Try using .loc[row_indexer,col_indexer] = value instead\n",
            "\n",
            "See the caveats in the documentation: http://pandas.pydata.org/pandas-docs/stable/indexing.html#indexing-view-versus-copy\n",
            "  \n"
          ],
          "name": "stderr"
        }
      ]
    },
    {
      "cell_type": "code",
      "metadata": {
        "id": "655o1Ng-LWE9",
        "colab_type": "code",
        "outputId": "11ed8ac0-0019-4705-f8f8-fc6e2acc90fa",
        "colab": {
          "base_uri": "https://localhost:8080/",
          "height": 119
        }
      },
      "source": [
        "switzerland = fx[['DATE', 'DEXSZUS']]\n",
        "switzerland['Country'] = 'Switzerland'\n",
        "switzerland = switzerland.rename(columns={'DATE': 'Date', 'DEXSZUS': 'Value'})\n",
        "switzerland = switzerland[['Date', 'Country', 'Value']]"
      ],
      "execution_count": 58,
      "outputs": [
        {
          "output_type": "stream",
          "text": [
            "/usr/local/lib/python3.6/dist-packages/ipykernel_launcher.py:2: SettingWithCopyWarning: \n",
            "A value is trying to be set on a copy of a slice from a DataFrame.\n",
            "Try using .loc[row_indexer,col_indexer] = value instead\n",
            "\n",
            "See the caveats in the documentation: http://pandas.pydata.org/pandas-docs/stable/indexing.html#indexing-view-versus-copy\n",
            "  \n"
          ],
          "name": "stderr"
        }
      ]
    },
    {
      "cell_type": "code",
      "metadata": {
        "id": "6ye4tZnJLoj9",
        "colab_type": "code",
        "outputId": "494c53c5-e9fc-4727-a6f8-ebcd8991f95f",
        "colab": {
          "base_uri": "https://localhost:8080/",
          "height": 119
        }
      },
      "source": [
        "taiwan = fx[['DATE', 'DEXTAUS']]\n",
        "taiwan['Country'] = 'Taiwan'\n",
        "taiwan = taiwan.rename(columns={'DATE': 'Date', 'DEXTAUS': 'Value'})\n",
        "taiwan = taiwan[['Date', 'Country', 'Value']]"
      ],
      "execution_count": 59,
      "outputs": [
        {
          "output_type": "stream",
          "text": [
            "/usr/local/lib/python3.6/dist-packages/ipykernel_launcher.py:2: SettingWithCopyWarning: \n",
            "A value is trying to be set on a copy of a slice from a DataFrame.\n",
            "Try using .loc[row_indexer,col_indexer] = value instead\n",
            "\n",
            "See the caveats in the documentation: http://pandas.pydata.org/pandas-docs/stable/indexing.html#indexing-view-versus-copy\n",
            "  \n"
          ],
          "name": "stderr"
        }
      ]
    },
    {
      "cell_type": "code",
      "metadata": {
        "id": "7IJmKR69L1Qs",
        "colab_type": "code",
        "colab": {
          "base_uri": "https://localhost:8080/",
          "height": 119
        },
        "outputId": "45dd51b8-6feb-4fd9-9fab-8984540512ca"
      },
      "source": [
        "australia = fx[['DATE', 'DEXUSAL']]\n",
        "australia['Country'] = 'Australia'\n",
        "australia = australia.rename(columns={'DATE': 'Date', 'DEXUSAL': 'Value'})\n",
        "australia['Value'] = australia['Value'].apply(lambda x: 1/x)\n",
        "australia = australia[['Date', 'Country', 'Value']]"
      ],
      "execution_count": 60,
      "outputs": [
        {
          "output_type": "stream",
          "text": [
            "/usr/local/lib/python3.6/dist-packages/ipykernel_launcher.py:2: SettingWithCopyWarning: \n",
            "A value is trying to be set on a copy of a slice from a DataFrame.\n",
            "Try using .loc[row_indexer,col_indexer] = value instead\n",
            "\n",
            "See the caveats in the documentation: http://pandas.pydata.org/pandas-docs/stable/indexing.html#indexing-view-versus-copy\n",
            "  \n"
          ],
          "name": "stderr"
        }
      ]
    },
    {
      "cell_type": "code",
      "metadata": {
        "id": "tI6lsec8MDHt",
        "colab_type": "code",
        "colab": {
          "base_uri": "https://localhost:8080/",
          "height": 119
        },
        "outputId": "e07467a8-62c5-444e-f17f-669436586190"
      },
      "source": [
        "europe = fx[['DATE', 'DEXUSEU']]\n",
        "europe['Country'] = 'Europe'\n",
        "europe = europe.rename(columns={'DATE': 'Date', 'DEXUSEU': 'Value'})\n",
        "europe['Value'] = europe['Value'].apply(lambda x: 1/x)\n",
        "europe = europe[['Date', 'Country', 'Value']]"
      ],
      "execution_count": 61,
      "outputs": [
        {
          "output_type": "stream",
          "text": [
            "/usr/local/lib/python3.6/dist-packages/ipykernel_launcher.py:2: SettingWithCopyWarning: \n",
            "A value is trying to be set on a copy of a slice from a DataFrame.\n",
            "Try using .loc[row_indexer,col_indexer] = value instead\n",
            "\n",
            "See the caveats in the documentation: http://pandas.pydata.org/pandas-docs/stable/indexing.html#indexing-view-versus-copy\n",
            "  \n"
          ],
          "name": "stderr"
        }
      ]
    },
    {
      "cell_type": "code",
      "metadata": {
        "id": "HLsDqhewMRfM",
        "colab_type": "code",
        "colab": {
          "base_uri": "https://localhost:8080/",
          "height": 119
        },
        "outputId": "67e993ab-4e0b-418a-dd64-1eb2345ce6cf"
      },
      "source": [
        "new_zealand = fx[['DATE', 'DEXUSNZ']]\n",
        "new_zealand['Country'] = 'New Zealand'\n",
        "new_zealand = new_zealand.rename(columns={'DATE': 'Date', 'DEXUSNZ': 'Value'})\n",
        "new_zealand['Value'] = new_zealand['Value'].apply(lambda x: 1/x)\n",
        "new_zealand = new_zealand[['Date', 'Country', 'Value']]"
      ],
      "execution_count": 62,
      "outputs": [
        {
          "output_type": "stream",
          "text": [
            "/usr/local/lib/python3.6/dist-packages/ipykernel_launcher.py:2: SettingWithCopyWarning: \n",
            "A value is trying to be set on a copy of a slice from a DataFrame.\n",
            "Try using .loc[row_indexer,col_indexer] = value instead\n",
            "\n",
            "See the caveats in the documentation: http://pandas.pydata.org/pandas-docs/stable/indexing.html#indexing-view-versus-copy\n",
            "  \n"
          ],
          "name": "stderr"
        }
      ]
    },
    {
      "cell_type": "code",
      "metadata": {
        "id": "3uTYna6rMg50",
        "colab_type": "code",
        "colab": {
          "base_uri": "https://localhost:8080/",
          "height": 119
        },
        "outputId": "8822a46e-8d0f-43a8-f85b-7b7883dcc952"
      },
      "source": [
        "united_kingdom = fx[['DATE', 'DEXUSUK']]\n",
        "united_kingdom['Country'] = 'United Kingdom'\n",
        "united_kingdom = united_kingdom.rename(columns={'DATE': 'Date', 'DEXUSUK': 'Value'})\n",
        "united_kingdom['Value'] = united_kingdom['Value'].apply(lambda x: 1/x)\n",
        "united_kingdom = united_kingdom[['Date', 'Country', 'Value']]"
      ],
      "execution_count": 63,
      "outputs": [
        {
          "output_type": "stream",
          "text": [
            "/usr/local/lib/python3.6/dist-packages/ipykernel_launcher.py:2: SettingWithCopyWarning: \n",
            "A value is trying to be set on a copy of a slice from a DataFrame.\n",
            "Try using .loc[row_indexer,col_indexer] = value instead\n",
            "\n",
            "See the caveats in the documentation: http://pandas.pydata.org/pandas-docs/stable/indexing.html#indexing-view-versus-copy\n",
            "  \n"
          ],
          "name": "stderr"
        }
      ]
    },
    {
      "cell_type": "code",
      "metadata": {
        "id": "3HlcoG1_Mruc",
        "colab_type": "code",
        "outputId": "b5c87cfd-2521-4dfb-fa67-c60b08d41266",
        "colab": {
          "base_uri": "https://localhost:8080/",
          "height": 34
        }
      },
      "source": [
        "results = pd.concat([china, denmark, hong_kong, japan, south_korea, mexico,\n",
        "                     norway, sweden, singapore, switzerland, taiwan, australia,\n",
        "                     europe, new_zealand, united_kingdom])\n",
        "results.shape"
      ],
      "execution_count": 64,
      "outputs": [
        {
          "output_type": "execute_result",
          "data": {
            "text/plain": [
              "(189675, 3)"
            ]
          },
          "metadata": {
            "tags": []
          },
          "execution_count": 64
        }
      ]
    },
    {
      "cell_type": "code",
      "metadata": {
        "id": "gltepjFJgQ_v",
        "colab_type": "code",
        "colab": {}
      },
      "source": [
        "results['Date'] = pd.to_datetime(results['Date'])"
      ],
      "execution_count": 0,
      "outputs": []
    },
    {
      "cell_type": "code",
      "metadata": {
        "id": "FeoYqWTUgcgv",
        "colab_type": "code",
        "outputId": "632c580c-ea13-4700-d1a2-fb0322c21674",
        "colab": {
          "base_uri": "https://localhost:8080/",
          "height": 85
        }
      },
      "source": [
        "results.dtypes"
      ],
      "execution_count": 66,
      "outputs": [
        {
          "output_type": "execute_result",
          "data": {
            "text/plain": [
              "Date       datetime64[ns]\n",
              "Country            object\n",
              "Value             float64\n",
              "dtype: object"
            ]
          },
          "metadata": {
            "tags": []
          },
          "execution_count": 66
        }
      ]
    },
    {
      "cell_type": "code",
      "metadata": {
        "id": "ybHP-3kaf-Vq",
        "colab_type": "code",
        "outputId": "6863fdbe-7e6c-48ab-a55f-e17579c21d53",
        "colab": {
          "base_uri": "https://localhost:8080/",
          "height": 204
        }
      },
      "source": [
        "merged = pd.merge(auction_location,\n",
        "                  results,\n",
        "                  on=['Date', 'Country'],\n",
        "                  how='left')\n",
        "merged.head()"
      ],
      "execution_count": 67,
      "outputs": [
        {
          "output_type": "execute_result",
          "data": {
            "text/html": [
              "<div>\n",
              "<style scoped>\n",
              "    .dataframe tbody tr th:only-of-type {\n",
              "        vertical-align: middle;\n",
              "    }\n",
              "\n",
              "    .dataframe tbody tr th {\n",
              "        vertical-align: top;\n",
              "    }\n",
              "\n",
              "    .dataframe thead th {\n",
              "        text-align: right;\n",
              "    }\n",
              "</style>\n",
              "<table border=\"1\" class=\"dataframe\">\n",
              "  <thead>\n",
              "    <tr style=\"text-align: right;\">\n",
              "      <th></th>\n",
              "      <th>Date</th>\n",
              "      <th>Country</th>\n",
              "      <th>Value</th>\n",
              "    </tr>\n",
              "  </thead>\n",
              "  <tbody>\n",
              "    <tr>\n",
              "      <th>0</th>\n",
              "      <td>2018-06-27</td>\n",
              "      <td>United Kingdom</td>\n",
              "      <td>0.761093</td>\n",
              "    </tr>\n",
              "    <tr>\n",
              "      <th>1</th>\n",
              "      <td>2017-06-04</td>\n",
              "      <td>United States</td>\n",
              "      <td>NaN</td>\n",
              "    </tr>\n",
              "    <tr>\n",
              "      <th>2</th>\n",
              "      <td>2017-06-04</td>\n",
              "      <td>United States</td>\n",
              "      <td>NaN</td>\n",
              "    </tr>\n",
              "    <tr>\n",
              "      <th>3</th>\n",
              "      <td>2015-07-16</td>\n",
              "      <td>United Kingdom</td>\n",
              "      <td>0.640985</td>\n",
              "    </tr>\n",
              "    <tr>\n",
              "      <th>4</th>\n",
              "      <td>2015-06-03</td>\n",
              "      <td>United Kingdom</td>\n",
              "      <td>0.651423</td>\n",
              "    </tr>\n",
              "  </tbody>\n",
              "</table>\n",
              "</div>"
            ],
            "text/plain": [
              "        Date         Country     Value\n",
              "0 2018-06-27  United Kingdom  0.761093\n",
              "1 2017-06-04   United States       NaN\n",
              "2 2017-06-04   United States       NaN\n",
              "3 2015-07-16  United Kingdom  0.640985\n",
              "4 2015-06-03  United Kingdom  0.651423"
            ]
          },
          "metadata": {
            "tags": []
          },
          "execution_count": 67
        }
      ]
    },
    {
      "cell_type": "code",
      "metadata": {
        "id": "RxiSbfSRn4Cx",
        "colab_type": "code",
        "outputId": "a3f5049f-7eeb-45d7-893a-a5edacc536dc",
        "colab": {
          "base_uri": "https://localhost:8080/",
          "height": 34
        }
      },
      "source": [
        "merged.shape"
      ],
      "execution_count": 68,
      "outputs": [
        {
          "output_type": "execute_result",
          "data": {
            "text/plain": [
              "(6541, 3)"
            ]
          },
          "metadata": {
            "tags": []
          },
          "execution_count": 68
        }
      ]
    },
    {
      "cell_type": "code",
      "metadata": {
        "id": "B7ty0g3ikF0-",
        "colab_type": "code",
        "outputId": "1fe80854-4cff-43c5-be38-c8e46c11000e",
        "colab": {
          "base_uri": "https://localhost:8080/",
          "height": 85
        }
      },
      "source": [
        "countries = merged['Country'].unique()\n",
        "countries"
      ],
      "execution_count": 69,
      "outputs": [
        {
          "output_type": "execute_result",
          "data": {
            "text/plain": [
              "array(['United Kingdom', 'United States', 'Europe', 'Hong Kong', 'China',\n",
              "       'Switzerland', 'Sweden', 'Japan', 'South Korea', 'Australia',\n",
              "       'Norway', 'South Africa', 'Denmark', 'New Zealand', 'Taiwan',\n",
              "       'Singapore', 'Mexico', 'Czech Republic'], dtype=object)"
            ]
          },
          "metadata": {
            "tags": []
          },
          "execution_count": 69
        }
      ]
    },
    {
      "cell_type": "code",
      "metadata": {
        "id": "Bbu2s1cGDEIo",
        "colab_type": "code",
        "colab": {
          "base_uri": "https://localhost:8080/",
          "height": 85
        },
        "outputId": "fa70599c-1520-4b8c-cb9b-8e96539b2356"
      },
      "source": [
        "merged.isnull().sum()"
      ],
      "execution_count": 72,
      "outputs": [
        {
          "output_type": "execute_result",
          "data": {
            "text/plain": [
              "Date         51\n",
              "Country       0\n",
              "Value      2659\n",
              "dtype: int64"
            ]
          },
          "metadata": {
            "tags": []
          },
          "execution_count": 72
        }
      ]
    },
    {
      "cell_type": "code",
      "metadata": {
        "id": "BJbU2W-0l9ZD",
        "colab_type": "code",
        "colab": {}
      },
      "source": [
        "# clean up FX data to match dates needed for the auction data\n",
        "df = pd.DataFrame()\n",
        "count = 0\n",
        "\n",
        "# Set value to 1 if US\n",
        "# Drop missing dates \n",
        "# Forward fill NaN values for the 'Value' column\n",
        "for i in range(len(countries)):\n",
        "  country = countries[i]\n",
        "  temp = merged[merged['Country'] == country]\n",
        "  \n",
        "  if country == 'United States':\n",
        "    temp['Value'] = 1\n",
        "  \n",
        "  temp = temp.dropna(subset=['Date'])\n",
        "  temp = temp.fillna(method='ffill')\n",
        "  \n",
        "  if count == 0:\n",
        "    df = temp\n",
        "    count += 1\n",
        "  else:\n",
        "    df = pd.concat([df, temp])\n",
        "  "
      ],
      "execution_count": 0,
      "outputs": []
    },
    {
      "cell_type": "code",
      "metadata": {
        "id": "56Ti1V3Fnho6",
        "colab_type": "code",
        "outputId": "f89c755f-a028-4f6d-8b26-0cb0e6b3e727",
        "colab": {
          "base_uri": "https://localhost:8080/",
          "height": 204
        }
      },
      "source": [
        "df.head()"
      ],
      "execution_count": 74,
      "outputs": [
        {
          "output_type": "execute_result",
          "data": {
            "text/html": [
              "<div>\n",
              "<style scoped>\n",
              "    .dataframe tbody tr th:only-of-type {\n",
              "        vertical-align: middle;\n",
              "    }\n",
              "\n",
              "    .dataframe tbody tr th {\n",
              "        vertical-align: top;\n",
              "    }\n",
              "\n",
              "    .dataframe thead th {\n",
              "        text-align: right;\n",
              "    }\n",
              "</style>\n",
              "<table border=\"1\" class=\"dataframe\">\n",
              "  <thead>\n",
              "    <tr style=\"text-align: right;\">\n",
              "      <th></th>\n",
              "      <th>Date</th>\n",
              "      <th>Country</th>\n",
              "      <th>Value</th>\n",
              "    </tr>\n",
              "  </thead>\n",
              "  <tbody>\n",
              "    <tr>\n",
              "      <th>0</th>\n",
              "      <td>2018-06-27</td>\n",
              "      <td>United Kingdom</td>\n",
              "      <td>0.761093</td>\n",
              "    </tr>\n",
              "    <tr>\n",
              "      <th>3</th>\n",
              "      <td>2015-07-16</td>\n",
              "      <td>United Kingdom</td>\n",
              "      <td>0.640985</td>\n",
              "    </tr>\n",
              "    <tr>\n",
              "      <th>4</th>\n",
              "      <td>2015-06-03</td>\n",
              "      <td>United Kingdom</td>\n",
              "      <td>0.651423</td>\n",
              "    </tr>\n",
              "    <tr>\n",
              "      <th>5</th>\n",
              "      <td>2015-03-10</td>\n",
              "      <td>United Kingdom</td>\n",
              "      <td>0.662866</td>\n",
              "    </tr>\n",
              "    <tr>\n",
              "      <th>6</th>\n",
              "      <td>2014-10-23</td>\n",
              "      <td>United Kingdom</td>\n",
              "      <td>0.623558</td>\n",
              "    </tr>\n",
              "  </tbody>\n",
              "</table>\n",
              "</div>"
            ],
            "text/plain": [
              "        Date         Country     Value\n",
              "0 2018-06-27  United Kingdom  0.761093\n",
              "3 2015-07-16  United Kingdom  0.640985\n",
              "4 2015-06-03  United Kingdom  0.651423\n",
              "5 2015-03-10  United Kingdom  0.662866\n",
              "6 2014-10-23  United Kingdom  0.623558"
            ]
          },
          "metadata": {
            "tags": []
          },
          "execution_count": 74
        }
      ]
    },
    {
      "cell_type": "code",
      "metadata": {
        "id": "24IaiJDTnkul",
        "colab_type": "code",
        "outputId": "d6b949dd-fcb2-44c5-e7bd-88d15c7e50cc",
        "colab": {
          "base_uri": "https://localhost:8080/",
          "height": 34
        }
      },
      "source": [
        "df.shape"
      ],
      "execution_count": 75,
      "outputs": [
        {
          "output_type": "execute_result",
          "data": {
            "text/plain": [
              "(6490, 3)"
            ]
          },
          "metadata": {
            "tags": []
          },
          "execution_count": 75
        }
      ]
    },
    {
      "cell_type": "code",
      "metadata": {
        "id": "ItO0vWy1Y44g",
        "colab_type": "code",
        "outputId": "e3886e7b-3aba-40d9-a95c-0dd9400b4971",
        "colab": {
          "base_uri": "https://localhost:8080/",
          "height": 85
        }
      },
      "source": [
        "df.isnull().sum()"
      ],
      "execution_count": 76,
      "outputs": [
        {
          "output_type": "execute_result",
          "data": {
            "text/plain": [
              "Date        0\n",
              "Country     0\n",
              "Value      32\n",
              "dtype: int64"
            ]
          },
          "metadata": {
            "tags": []
          },
          "execution_count": 76
        }
      ]
    },
    {
      "cell_type": "code",
      "metadata": {
        "id": "V8YEkW2rO2nW",
        "colab_type": "code",
        "colab": {}
      },
      "source": [
        "# save data frame as csv and download the file\n",
        "file_name = 'cleaned_fx_data.csv'\n",
        "export_csv = df.to_csv(file_name, index=None, header=True)\n",
        "files.download('cleaned_fx_data.csv')"
      ],
      "execution_count": 0,
      "outputs": []
    }
  ]
}