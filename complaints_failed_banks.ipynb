{
  "nbformat": 4,
  "nbformat_minor": 0,
  "metadata": {
    "colab": {
      "name": "complaints-failed_banks.ipynb",
      "version": "0.3.2",
      "provenance": [],
      "collapsed_sections": [],
      "include_colab_link": true
    },
    "kernelspec": {
      "name": "python3",
      "display_name": "Python 3"
    }
  },
  "cells": [
    {
      "cell_type": "markdown",
      "metadata": {
        "id": "view-in-github",
        "colab_type": "text"
      },
      "source": [
        "<a href=\"https://colab.research.google.com/github/Nov05/DS-Unit-1-Sprint-5-Data-Storytelling-Blog-Post/blob/master/complaints_failed_banks.ipynb\" target=\"_parent\"><img src=\"https://colab.research.google.com/assets/colab-badge.svg\" alt=\"Open In Colab\"/></a>"
      ]
    },
    {
      "cell_type": "code",
      "metadata": {
        "id": "2kJcvKxzFyzk",
        "colab_type": "code",
        "colab": {}
      },
      "source": [
        "# created by Nov05 on 2019-06-25"
      ],
      "execution_count": 0,
      "outputs": []
    },
    {
      "cell_type": "code",
      "metadata": {
        "id": "4YSM8xnSF9nv",
        "colab_type": "code",
        "colab": {
          "base_uri": "https://localhost:8080/",
          "height": 125
        },
        "outputId": "d0ce1d02-d25b-4f04-e4c0-4652cbe97a2f"
      },
      "source": [
        "# Run this cell to mount your Google Drive.\n",
        "from google.colab import drive\n",
        "drive.mount('/content/drive')"
      ],
      "execution_count": 2,
      "outputs": [
        {
          "output_type": "stream",
          "text": [
            "Go to this URL in a browser: https://accounts.google.com/o/oauth2/auth?client_id=947318989803-6bn6qk8qdgf4n4g3pfee6491hc0brc4i.apps.googleusercontent.com&redirect_uri=urn%3Aietf%3Awg%3Aoauth%3A2.0%3Aoob&scope=email%20https%3A%2F%2Fwww.googleapis.com%2Fauth%2Fdocs.test%20https%3A%2F%2Fwww.googleapis.com%2Fauth%2Fdrive%20https%3A%2F%2Fwww.googleapis.com%2Fauth%2Fdrive.photos.readonly%20https%3A%2F%2Fwww.googleapis.com%2Fauth%2Fpeopleapi.readonly&response_type=code\n",
            "\n",
            "Enter your authorization code:\n",
            "··········\n",
            "Mounted at /content/drive\n"
          ],
          "name": "stdout"
        }
      ]
    },
    {
      "cell_type": "code",
      "metadata": {
        "id": "fQ4eMiUeF_6v",
        "colab_type": "code",
        "colab": {}
      },
      "source": [
        "import pandas as pd\n",
        "import numpy as np\n",
        "from datetime import datetime\n",
        "from scipy import stats\n",
        "\n",
        "import matplotlib.pyplot as plt\n",
        "from matplotlib.pyplot import cm\n",
        "import seaborn as sns\n",
        "\n",
        "%matplotlib inline\n",
        "pd.set_option('display.max_rows', 500)\n",
        "pd.set_option('display.max_columns', 500)"
      ],
      "execution_count": 0,
      "outputs": []
    },
    {
      "cell_type": "markdown",
      "metadata": {
        "id": "WdBx59afHV64",
        "colab_type": "text"
      },
      "source": [
        "# Consumer Complaints"
      ]
    },
    {
      "cell_type": "code",
      "metadata": {
        "id": "IsTsIChMGCmu",
        "colab_type": "code",
        "outputId": "a981f797-1f22-4dff-d55a-dc5749971b9b",
        "colab": {
          "base_uri": "https://localhost:8080/",
          "height": 72
        }
      },
      "source": [
        "# CAUTION: this dataset is 719 MB in size.\n",
        "\n",
        "# this doesn't work for this large file \n",
        "# (seems that it would work for file under 50 MB)\n",
        "# url = \"https://drive.google.com/uc?id=1giGHkApdv3ehRI7uw4LoLhGT6rN_uR0r\"\n",
        "\n",
        "# this works\n",
        "# url = \"https://data.consumerfinance.gov/api/views/s6ew-h6mp/rows.csv?accessType=DOWNLOAD\"\n",
        "# df = pd.read_csv(url)\n",
        "\n",
        "# this works\n",
        "path = \"/content/drive/My Drive/data/cfpd_consumer_complaints/Consumer_Complaints.csv\"\n",
        "df = pd.read_csv(path)"
      ],
      "execution_count": 4,
      "outputs": [
        {
          "output_type": "stream",
          "text": [
            "/usr/local/lib/python3.6/dist-packages/IPython/core/interactiveshell.py:2718: DtypeWarning: Columns (4,5,6,11,16) have mixed types. Specify dtype option on import or set low_memory=False.\n",
            "  interactivity=interactivity, compiler=compiler, result=result)\n"
          ],
          "name": "stderr"
        }
      ]
    },
    {
      "cell_type": "code",
      "metadata": {
        "id": "8JLiCj_tGONm",
        "colab_type": "code",
        "outputId": "5093925a-0db1-451c-c5d1-acf7d2f3152f",
        "colab": {
          "base_uri": "https://localhost:8080/",
          "height": 329
        }
      },
      "source": [
        "# describe non-numeric columns\n",
        "df.describe(exclude=np.number)"
      ],
      "execution_count": 5,
      "outputs": [
        {
          "output_type": "execute_result",
          "data": {
            "text/html": [
              "<div>\n",
              "<style scoped>\n",
              "    .dataframe tbody tr th:only-of-type {\n",
              "        vertical-align: middle;\n",
              "    }\n",
              "\n",
              "    .dataframe tbody tr th {\n",
              "        vertical-align: top;\n",
              "    }\n",
              "\n",
              "    .dataframe thead th {\n",
              "        text-align: right;\n",
              "    }\n",
              "</style>\n",
              "<table border=\"1\" class=\"dataframe\">\n",
              "  <thead>\n",
              "    <tr style=\"text-align: right;\">\n",
              "      <th></th>\n",
              "      <th>Date received</th>\n",
              "      <th>Product</th>\n",
              "      <th>Sub-product</th>\n",
              "      <th>Issue</th>\n",
              "      <th>Sub-issue</th>\n",
              "      <th>Consumer complaint narrative</th>\n",
              "      <th>Company public response</th>\n",
              "      <th>Company</th>\n",
              "      <th>State</th>\n",
              "      <th>ZIP code</th>\n",
              "      <th>Tags</th>\n",
              "      <th>Consumer consent provided?</th>\n",
              "      <th>Submitted via</th>\n",
              "      <th>Date sent to company</th>\n",
              "      <th>Company response to consumer</th>\n",
              "      <th>Timely response?</th>\n",
              "      <th>Consumer disputed?</th>\n",
              "    </tr>\n",
              "  </thead>\n",
              "  <tbody>\n",
              "    <tr>\n",
              "      <th>count</th>\n",
              "      <td>1315085</td>\n",
              "      <td>1315085</td>\n",
              "      <td>1079919</td>\n",
              "      <td>1315085</td>\n",
              "      <td>779909</td>\n",
              "      <td>389859</td>\n",
              "      <td>466544</td>\n",
              "      <td>1315085</td>\n",
              "      <td>1294526</td>\n",
              "      <td>1195259</td>\n",
              "      <td>179965</td>\n",
              "      <td>710315</td>\n",
              "      <td>1315085</td>\n",
              "      <td>1315085</td>\n",
              "      <td>1315078</td>\n",
              "      <td>1315085</td>\n",
              "      <td>768501</td>\n",
              "    </tr>\n",
              "    <tr>\n",
              "      <th>unique</th>\n",
              "      <td>2760</td>\n",
              "      <td>18</td>\n",
              "      <td>76</td>\n",
              "      <td>167</td>\n",
              "      <td>218</td>\n",
              "      <td>372832</td>\n",
              "      <td>10</td>\n",
              "      <td>5321</td>\n",
              "      <td>63</td>\n",
              "      <td>22769</td>\n",
              "      <td>3</td>\n",
              "      <td>4</td>\n",
              "      <td>6</td>\n",
              "      <td>2709</td>\n",
              "      <td>8</td>\n",
              "      <td>2</td>\n",
              "      <td>2</td>\n",
              "    </tr>\n",
              "    <tr>\n",
              "      <th>top</th>\n",
              "      <td>09/08/2017</td>\n",
              "      <td>Mortgage</td>\n",
              "      <td>Credit reporting</td>\n",
              "      <td>Incorrect information on your report</td>\n",
              "      <td>Information belongs to someone else</td>\n",
              "      <td>There are many mistakes appear in my report wi...</td>\n",
              "      <td>Company has responded to the consumer and the ...</td>\n",
              "      <td>EQUIFAX, INC.</td>\n",
              "      <td>CA</td>\n",
              "      <td>300XX</td>\n",
              "      <td>Servicemember</td>\n",
              "      <td>Consent provided</td>\n",
              "      <td>Web</td>\n",
              "      <td>09/08/2017</td>\n",
              "      <td>Closed with explanation</td>\n",
              "      <td>Yes</td>\n",
              "      <td>No</td>\n",
              "    </tr>\n",
              "    <tr>\n",
              "      <th>freq</th>\n",
              "      <td>3553</td>\n",
              "      <td>280698</td>\n",
              "      <td>237652</td>\n",
              "      <td>144799</td>\n",
              "      <td>65707</td>\n",
              "      <td>993</td>\n",
              "      <td>327095</td>\n",
              "      <td>120371</td>\n",
              "      <td>180075</td>\n",
              "      <td>7600</td>\n",
              "      <td>87235</td>\n",
              "      <td>390181</td>\n",
              "      <td>972343</td>\n",
              "      <td>3387</td>\n",
              "      <td>1019300</td>\n",
              "      <td>1282414</td>\n",
              "      <td>620123</td>\n",
              "    </tr>\n",
              "  </tbody>\n",
              "</table>\n",
              "</div>"
            ],
            "text/plain": [
              "       Date received   Product       Sub-product  \\\n",
              "count        1315085   1315085           1079919   \n",
              "unique          2760        18                76   \n",
              "top       09/08/2017  Mortgage  Credit reporting   \n",
              "freq            3553    280698            237652   \n",
              "\n",
              "                                       Issue  \\\n",
              "count                                1315085   \n",
              "unique                                   167   \n",
              "top     Incorrect information on your report   \n",
              "freq                                  144799   \n",
              "\n",
              "                                  Sub-issue  \\\n",
              "count                                779909   \n",
              "unique                                  218   \n",
              "top     Information belongs to someone else   \n",
              "freq                                  65707   \n",
              "\n",
              "                             Consumer complaint narrative  \\\n",
              "count                                              389859   \n",
              "unique                                             372832   \n",
              "top     There are many mistakes appear in my report wi...   \n",
              "freq                                                  993   \n",
              "\n",
              "                                  Company public response        Company  \\\n",
              "count                                              466544        1315085   \n",
              "unique                                                 10           5321   \n",
              "top     Company has responded to the consumer and the ...  EQUIFAX, INC.   \n",
              "freq                                               327095         120371   \n",
              "\n",
              "          State ZIP code           Tags Consumer consent provided?  \\\n",
              "count   1294526  1195259         179965                     710315   \n",
              "unique       63    22769              3                          4   \n",
              "top          CA    300XX  Servicemember           Consent provided   \n",
              "freq     180075     7600          87235                     390181   \n",
              "\n",
              "       Submitted via Date sent to company Company response to consumer  \\\n",
              "count        1315085              1315085                      1315078   \n",
              "unique             6                 2709                            8   \n",
              "top              Web           09/08/2017      Closed with explanation   \n",
              "freq          972343                 3387                      1019300   \n",
              "\n",
              "       Timely response? Consumer disputed?  \n",
              "count           1315085             768501  \n",
              "unique                2                  2  \n",
              "top                 Yes                 No  \n",
              "freq            1282414             620123  "
            ]
          },
          "metadata": {
            "tags": []
          },
          "execution_count": 5
        }
      ]
    },
    {
      "cell_type": "code",
      "metadata": {
        "id": "qD4sgop3HBtz",
        "colab_type": "code",
        "outputId": "c394f7cf-c733-48dd-b11b-a6ff50379990",
        "colab": {
          "base_uri": "https://localhost:8080/",
          "height": 110
        }
      },
      "source": [
        "df['datereceived'] = pd.to_datetime(df['Date received'], \n",
        "                                    format=\"%m/%d/%Y\")\n",
        "df['datesent'] = pd.to_datetime(df['Date sent to company'],\n",
        "                                format=\"%m/%d/%Y\")\n",
        "df[['datereceived', 'datesent']].sample(2)"
      ],
      "execution_count": 6,
      "outputs": [
        {
          "output_type": "execute_result",
          "data": {
            "text/html": [
              "<div>\n",
              "<style scoped>\n",
              "    .dataframe tbody tr th:only-of-type {\n",
              "        vertical-align: middle;\n",
              "    }\n",
              "\n",
              "    .dataframe tbody tr th {\n",
              "        vertical-align: top;\n",
              "    }\n",
              "\n",
              "    .dataframe thead th {\n",
              "        text-align: right;\n",
              "    }\n",
              "</style>\n",
              "<table border=\"1\" class=\"dataframe\">\n",
              "  <thead>\n",
              "    <tr style=\"text-align: right;\">\n",
              "      <th></th>\n",
              "      <th>datereceived</th>\n",
              "      <th>datesent</th>\n",
              "    </tr>\n",
              "  </thead>\n",
              "  <tbody>\n",
              "    <tr>\n",
              "      <th>626166</th>\n",
              "      <td>2016-12-15</td>\n",
              "      <td>2016-12-16</td>\n",
              "    </tr>\n",
              "    <tr>\n",
              "      <th>781416</th>\n",
              "      <td>2016-03-02</td>\n",
              "      <td>2016-03-02</td>\n",
              "    </tr>\n",
              "  </tbody>\n",
              "</table>\n",
              "</div>"
            ],
            "text/plain": [
              "       datereceived   datesent\n",
              "626166   2016-12-15 2016-12-16\n",
              "781416   2016-03-02 2016-03-02"
            ]
          },
          "metadata": {
            "tags": []
          },
          "execution_count": 6
        }
      ]
    },
    {
      "cell_type": "code",
      "metadata": {
        "id": "EKWHWJh8HMB5",
        "colab_type": "code",
        "outputId": "4f753aaa-e05c-408f-810b-ee9b13524186",
        "colab": {
          "base_uri": "https://localhost:8080/",
          "height": 35
        }
      },
      "source": [
        "# total row count = 1315204\n",
        "len(df['Complaint ID'].unique())"
      ],
      "execution_count": 7,
      "outputs": [
        {
          "output_type": "execute_result",
          "data": {
            "text/plain": [
              "1315085"
            ]
          },
          "metadata": {
            "tags": []
          },
          "execution_count": 7
        }
      ]
    },
    {
      "cell_type": "markdown",
      "metadata": {
        "id": "Bmkp-W7ZHRYa",
        "colab_type": "text"
      },
      "source": [
        "# Failed Banks  "
      ]
    },
    {
      "cell_type": "code",
      "metadata": {
        "id": "DynbIK6ZHP-R",
        "colab_type": "code",
        "colab": {}
      },
      "source": [
        "# url=\"http://www.fdic.gov/bank/individual/failed/banklist_utf8.csv\"\n",
        "url = \"https://drive.google.com/uc?id=16R-U0x0Cc3tt4UfzmtvTy3z7rjdW8AkJ\"\n",
        "df_banks = pd.read_csv(url, encoding='8859') # seriously? 8859?"
      ],
      "execution_count": 0,
      "outputs": []
    },
    {
      "cell_type": "code",
      "metadata": {
        "id": "BwcNAcY0I_UG",
        "colab_type": "code",
        "colab": {}
      },
      "source": [
        "# convert datetime 31-May-19\n",
        "df_banks[\"closingdate\"] = pd.to_datetime(df_banks[\"Closing Date\"], \n",
        "                                         format=\"%d-%b-%y\")\n",
        "df_banks[\"updateddate\"] = pd.to_datetime(df_banks[\"Updated Date\"], \n",
        "                                         format=\"%d-%b-%y\")"
      ],
      "execution_count": 0,
      "outputs": []
    },
    {
      "cell_type": "code",
      "metadata": {
        "id": "MuDqh277Hj-Y",
        "colab_type": "code",
        "outputId": "e15a85d9-89a4-469e-ddcb-27a82714b591",
        "colab": {
          "base_uri": "https://localhost:8080/",
          "height": 159
        }
      },
      "source": [
        "print(df_banks.shape)\n",
        "df_banks.head(3)"
      ],
      "execution_count": 10,
      "outputs": [
        {
          "output_type": "stream",
          "text": [
            "(556, 9)\n"
          ],
          "name": "stdout"
        },
        {
          "output_type": "execute_result",
          "data": {
            "text/html": [
              "<div>\n",
              "<style scoped>\n",
              "    .dataframe tbody tr th:only-of-type {\n",
              "        vertical-align: middle;\n",
              "    }\n",
              "\n",
              "    .dataframe tbody tr th {\n",
              "        vertical-align: top;\n",
              "    }\n",
              "\n",
              "    .dataframe thead th {\n",
              "        text-align: right;\n",
              "    }\n",
              "</style>\n",
              "<table border=\"1\" class=\"dataframe\">\n",
              "  <thead>\n",
              "    <tr style=\"text-align: right;\">\n",
              "      <th></th>\n",
              "      <th>Bank Name</th>\n",
              "      <th>City</th>\n",
              "      <th>ST</th>\n",
              "      <th>CERT</th>\n",
              "      <th>Acquiring Institution</th>\n",
              "      <th>Closing Date</th>\n",
              "      <th>Updated Date</th>\n",
              "      <th>closingdate</th>\n",
              "      <th>updateddate</th>\n",
              "    </tr>\n",
              "  </thead>\n",
              "  <tbody>\n",
              "    <tr>\n",
              "      <th>0</th>\n",
              "      <td>The Enloe State Bank</td>\n",
              "      <td>Cooper</td>\n",
              "      <td>TX</td>\n",
              "      <td>10716</td>\n",
              "      <td>Legend Bank, N. A.</td>\n",
              "      <td>31-May-19</td>\n",
              "      <td>18-Jun-19</td>\n",
              "      <td>2019-05-31</td>\n",
              "      <td>2019-06-18</td>\n",
              "    </tr>\n",
              "    <tr>\n",
              "      <th>1</th>\n",
              "      <td>Washington Federal Bank for Savings</td>\n",
              "      <td>Chicago</td>\n",
              "      <td>IL</td>\n",
              "      <td>30570</td>\n",
              "      <td>Royal Savings Bank</td>\n",
              "      <td>15-Dec-17</td>\n",
              "      <td>1-Feb-19</td>\n",
              "      <td>2017-12-15</td>\n",
              "      <td>2019-02-01</td>\n",
              "    </tr>\n",
              "    <tr>\n",
              "      <th>2</th>\n",
              "      <td>The Farmers and Merchants State Bank of Argonia</td>\n",
              "      <td>Argonia</td>\n",
              "      <td>KS</td>\n",
              "      <td>17719</td>\n",
              "      <td>Conway Bank</td>\n",
              "      <td>13-Oct-17</td>\n",
              "      <td>21-Feb-18</td>\n",
              "      <td>2017-10-13</td>\n",
              "      <td>2018-02-21</td>\n",
              "    </tr>\n",
              "  </tbody>\n",
              "</table>\n",
              "</div>"
            ],
            "text/plain": [
              "                                         Bank Name     City  ST   CERT  \\\n",
              "0                             The Enloe State Bank   Cooper  TX  10716   \n",
              "1              Washington Federal Bank for Savings  Chicago  IL  30570   \n",
              "2  The Farmers and Merchants State Bank of Argonia  Argonia  KS  17719   \n",
              "\n",
              "  Acquiring Institution Closing Date Updated Date closingdate updateddate  \n",
              "0    Legend Bank, N. A.    31-May-19    18-Jun-19  2019-05-31  2019-06-18  \n",
              "1    Royal Savings Bank    15-Dec-17     1-Feb-19  2017-12-15  2019-02-01  \n",
              "2           Conway Bank    13-Oct-17    21-Feb-18  2017-10-13  2018-02-21  "
            ]
          },
          "metadata": {
            "tags": []
          },
          "execution_count": 10
        }
      ]
    },
    {
      "cell_type": "markdown",
      "metadata": {
        "id": "Bun2ZoznKlN9",
        "colab_type": "text"
      },
      "source": [
        "# join the datasets"
      ]
    },
    {
      "cell_type": "code",
      "metadata": {
        "id": "W-YDqmRWNqLL",
        "colab_type": "code",
        "colab": {}
      },
      "source": [
        "df['comp'] = df['Company'].str.upper()\n",
        "df['comp'].unique()"
      ],
      "execution_count": 0,
      "outputs": []
    },
    {
      "cell_type": "code",
      "metadata": {
        "id": "gv3xFUx9PLkA",
        "colab_type": "code",
        "colab": {}
      },
      "source": [
        "df_banks['bnk'] = df_banks['Bank Name'].str.upper()\n",
        "df_banks['bnk'].unique()"
      ],
      "execution_count": 0,
      "outputs": []
    },
    {
      "cell_type": "code",
      "metadata": {
        "id": "w7Ues2rXET5W",
        "colab_type": "code",
        "colab": {}
      },
      "source": [
        "df_banks['acq'] = df_banks['Acquiring Institution'].str.upper()\n",
        "df_banks['acq'].unique()"
      ],
      "execution_count": 0,
      "outputs": []
    },
    {
      "cell_type": "code",
      "metadata": {
        "id": "nlLziHPgKoHR",
        "colab_type": "code",
        "outputId": "059c1332-93e9-467b-fa32-f27f866632e4",
        "colab": {
          "base_uri": "https://localhost:8080/",
          "height": 138
        }
      },
      "source": [
        "df1 = (pd.merge(df_banks, df, how='inner',\n",
        "                left_on='bnk',\n",
        "                right_on='comp'\n",
        "               ))\n",
        "print(df1.shape)\n",
        "df1.head()"
      ],
      "execution_count": 13,
      "outputs": [
        {
          "output_type": "stream",
          "text": [
            "(0, 31)\n"
          ],
          "name": "stdout"
        },
        {
          "output_type": "execute_result",
          "data": {
            "text/html": [
              "<div>\n",
              "<style scoped>\n",
              "    .dataframe tbody tr th:only-of-type {\n",
              "        vertical-align: middle;\n",
              "    }\n",
              "\n",
              "    .dataframe tbody tr th {\n",
              "        vertical-align: top;\n",
              "    }\n",
              "\n",
              "    .dataframe thead th {\n",
              "        text-align: right;\n",
              "    }\n",
              "</style>\n",
              "<table border=\"1\" class=\"dataframe\">\n",
              "  <thead>\n",
              "    <tr style=\"text-align: right;\">\n",
              "      <th></th>\n",
              "      <th>Bank Name</th>\n",
              "      <th>City</th>\n",
              "      <th>ST</th>\n",
              "      <th>CERT</th>\n",
              "      <th>Acquiring Institution</th>\n",
              "      <th>Closing Date</th>\n",
              "      <th>Updated Date</th>\n",
              "      <th>closingdate</th>\n",
              "      <th>updateddate</th>\n",
              "      <th>bnk</th>\n",
              "      <th>Date received</th>\n",
              "      <th>Product</th>\n",
              "      <th>Sub-product</th>\n",
              "      <th>Issue</th>\n",
              "      <th>Sub-issue</th>\n",
              "      <th>Consumer complaint narrative</th>\n",
              "      <th>Company public response</th>\n",
              "      <th>Company</th>\n",
              "      <th>State</th>\n",
              "      <th>ZIP code</th>\n",
              "      <th>Tags</th>\n",
              "      <th>Consumer consent provided?</th>\n",
              "      <th>Submitted via</th>\n",
              "      <th>Date sent to company</th>\n",
              "      <th>Company response to consumer</th>\n",
              "      <th>Timely response?</th>\n",
              "      <th>Consumer disputed?</th>\n",
              "      <th>Complaint ID</th>\n",
              "      <th>datereceived</th>\n",
              "      <th>datesent</th>\n",
              "      <th>comp</th>\n",
              "    </tr>\n",
              "  </thead>\n",
              "  <tbody>\n",
              "  </tbody>\n",
              "</table>\n",
              "</div>"
            ],
            "text/plain": [
              "Empty DataFrame\n",
              "Columns: [Bank Name, City, ST, CERT, Acquiring Institution, Closing Date, Updated Date, closingdate, updateddate, bnk, Date received, Product, Sub-product, Issue, Sub-issue, Consumer complaint narrative, Company public response, Company, State, ZIP code, Tags, Consumer consent provided?, Submitted via, Date sent to company, Company response to consumer, Timely response?, Consumer disputed?, Complaint ID, datereceived, datesent, comp]\n",
              "Index: []"
            ]
          },
          "metadata": {
            "tags": []
          },
          "execution_count": 13
        }
      ]
    },
    {
      "cell_type": "code",
      "metadata": {
        "id": "qZAFrBVuEeih",
        "colab_type": "code",
        "colab": {
          "base_uri": "https://localhost:8080/",
          "height": 371
        },
        "outputId": "e2337a78-fea9-4905-85ce-3988469daec5"
      },
      "source": [
        "df2 = (pd.merge(df_banks, df, how='inner',\n",
        "                left_on='acq',\n",
        "                right_on='comp'\n",
        "               ))\n",
        "print(df2.shape)\n",
        "df2.head(2)"
      ],
      "execution_count": 18,
      "outputs": [
        {
          "output_type": "stream",
          "text": [
            "(5666, 32)\n"
          ],
          "name": "stdout"
        },
        {
          "output_type": "execute_result",
          "data": {
            "text/html": [
              "<div>\n",
              "<style scoped>\n",
              "    .dataframe tbody tr th:only-of-type {\n",
              "        vertical-align: middle;\n",
              "    }\n",
              "\n",
              "    .dataframe tbody tr th {\n",
              "        vertical-align: top;\n",
              "    }\n",
              "\n",
              "    .dataframe thead th {\n",
              "        text-align: right;\n",
              "    }\n",
              "</style>\n",
              "<table border=\"1\" class=\"dataframe\">\n",
              "  <thead>\n",
              "    <tr style=\"text-align: right;\">\n",
              "      <th></th>\n",
              "      <th>Bank Name</th>\n",
              "      <th>City</th>\n",
              "      <th>ST</th>\n",
              "      <th>CERT</th>\n",
              "      <th>Acquiring Institution</th>\n",
              "      <th>Closing Date</th>\n",
              "      <th>Updated Date</th>\n",
              "      <th>closingdate</th>\n",
              "      <th>updateddate</th>\n",
              "      <th>bnk</th>\n",
              "      <th>acq</th>\n",
              "      <th>Date received</th>\n",
              "      <th>Product</th>\n",
              "      <th>Sub-product</th>\n",
              "      <th>Issue</th>\n",
              "      <th>Sub-issue</th>\n",
              "      <th>Consumer complaint narrative</th>\n",
              "      <th>Company public response</th>\n",
              "      <th>Company</th>\n",
              "      <th>State</th>\n",
              "      <th>ZIP code</th>\n",
              "      <th>Tags</th>\n",
              "      <th>Consumer consent provided?</th>\n",
              "      <th>Submitted via</th>\n",
              "      <th>Date sent to company</th>\n",
              "      <th>Company response to consumer</th>\n",
              "      <th>Timely response?</th>\n",
              "      <th>Consumer disputed?</th>\n",
              "      <th>Complaint ID</th>\n",
              "      <th>datereceived</th>\n",
              "      <th>datesent</th>\n",
              "      <th>comp</th>\n",
              "    </tr>\n",
              "  </thead>\n",
              "  <tbody>\n",
              "    <tr>\n",
              "      <th>0</th>\n",
              "      <td>Doral Bank</td>\n",
              "      <td>San Juan</td>\n",
              "      <td>PR</td>\n",
              "      <td>32102</td>\n",
              "      <td>Banco Popular de Puerto Rico</td>\n",
              "      <td>27-Feb-15</td>\n",
              "      <td>29-Jan-19</td>\n",
              "      <td>2015-02-27</td>\n",
              "      <td>2019-01-29</td>\n",
              "      <td>DORAL BANK</td>\n",
              "      <td>BANCO POPULAR DE PUERTO RICO</td>\n",
              "      <td>06/18/2019</td>\n",
              "      <td>Money transfer, virtual currency, or money ser...</td>\n",
              "      <td>International money transfer</td>\n",
              "      <td>Fraud or scam</td>\n",
              "      <td>NaN</td>\n",
              "      <td>NaN</td>\n",
              "      <td>NaN</td>\n",
              "      <td>BANCO POPULAR DE PUERTO RICO</td>\n",
              "      <td>TX</td>\n",
              "      <td>NaN</td>\n",
              "      <td>Older American</td>\n",
              "      <td>NaN</td>\n",
              "      <td>Web</td>\n",
              "      <td>06/18/2019</td>\n",
              "      <td>Closed with explanation</td>\n",
              "      <td>Yes</td>\n",
              "      <td>NaN</td>\n",
              "      <td>3278572</td>\n",
              "      <td>2019-06-18</td>\n",
              "      <td>2019-06-18</td>\n",
              "      <td>BANCO POPULAR DE PUERTO RICO</td>\n",
              "    </tr>\n",
              "    <tr>\n",
              "      <th>1</th>\n",
              "      <td>Doral Bank</td>\n",
              "      <td>San Juan</td>\n",
              "      <td>PR</td>\n",
              "      <td>32102</td>\n",
              "      <td>Banco Popular de Puerto Rico</td>\n",
              "      <td>27-Feb-15</td>\n",
              "      <td>29-Jan-19</td>\n",
              "      <td>2015-02-27</td>\n",
              "      <td>2019-01-29</td>\n",
              "      <td>DORAL BANK</td>\n",
              "      <td>BANCO POPULAR DE PUERTO RICO</td>\n",
              "      <td>06/12/2019</td>\n",
              "      <td>Debt collection</td>\n",
              "      <td>Auto debt</td>\n",
              "      <td>False statements or representation</td>\n",
              "      <td>Indicated you were committing crime by not pay...</td>\n",
              "      <td>NaN</td>\n",
              "      <td>Company has responded to the consumer and the ...</td>\n",
              "      <td>BANCO POPULAR DE PUERTO RICO</td>\n",
              "      <td>FL</td>\n",
              "      <td>34741</td>\n",
              "      <td>NaN</td>\n",
              "      <td>Consent not provided</td>\n",
              "      <td>Web</td>\n",
              "      <td>06/12/2019</td>\n",
              "      <td>Closed with explanation</td>\n",
              "      <td>Yes</td>\n",
              "      <td>NaN</td>\n",
              "      <td>3272924</td>\n",
              "      <td>2019-06-12</td>\n",
              "      <td>2019-06-12</td>\n",
              "      <td>BANCO POPULAR DE PUERTO RICO</td>\n",
              "    </tr>\n",
              "  </tbody>\n",
              "</table>\n",
              "</div>"
            ],
            "text/plain": [
              "    Bank Name      City  ST   CERT         Acquiring Institution Closing Date  \\\n",
              "0  Doral Bank  San Juan  PR  32102  Banco Popular de Puerto Rico    27-Feb-15   \n",
              "1  Doral Bank  San Juan  PR  32102  Banco Popular de Puerto Rico    27-Feb-15   \n",
              "\n",
              "  Updated Date closingdate updateddate         bnk  \\\n",
              "0    29-Jan-19  2015-02-27  2019-01-29  DORAL BANK   \n",
              "1    29-Jan-19  2015-02-27  2019-01-29  DORAL BANK   \n",
              "\n",
              "                            acq Date received  \\\n",
              "0  BANCO POPULAR DE PUERTO RICO    06/18/2019   \n",
              "1  BANCO POPULAR DE PUERTO RICO    06/12/2019   \n",
              "\n",
              "                                             Product  \\\n",
              "0  Money transfer, virtual currency, or money ser...   \n",
              "1                                    Debt collection   \n",
              "\n",
              "                    Sub-product                               Issue  \\\n",
              "0  International money transfer                       Fraud or scam   \n",
              "1                     Auto debt  False statements or representation   \n",
              "\n",
              "                                           Sub-issue  \\\n",
              "0                                                NaN   \n",
              "1  Indicated you were committing crime by not pay...   \n",
              "\n",
              "  Consumer complaint narrative  \\\n",
              "0                          NaN   \n",
              "1                          NaN   \n",
              "\n",
              "                             Company public response  \\\n",
              "0                                                NaN   \n",
              "1  Company has responded to the consumer and the ...   \n",
              "\n",
              "                        Company State ZIP code            Tags  \\\n",
              "0  BANCO POPULAR DE PUERTO RICO    TX      NaN  Older American   \n",
              "1  BANCO POPULAR DE PUERTO RICO    FL    34741             NaN   \n",
              "\n",
              "  Consumer consent provided? Submitted via Date sent to company  \\\n",
              "0                        NaN           Web           06/18/2019   \n",
              "1       Consent not provided           Web           06/12/2019   \n",
              "\n",
              "  Company response to consumer Timely response? Consumer disputed?  \\\n",
              "0      Closed with explanation              Yes                NaN   \n",
              "1      Closed with explanation              Yes                NaN   \n",
              "\n",
              "   Complaint ID datereceived   datesent                          comp  \n",
              "0       3278572   2019-06-18 2019-06-18  BANCO POPULAR DE PUERTO RICO  \n",
              "1       3272924   2019-06-12 2019-06-12  BANCO POPULAR DE PUERTO RICO  "
            ]
          },
          "metadata": {
            "tags": []
          },
          "execution_count": 18
        }
      ]
    },
    {
      "cell_type": "code",
      "metadata": {
        "id": "cT1vR8-FE7yq",
        "colab_type": "code",
        "colab": {
          "base_uri": "https://localhost:8080/",
          "height": 418
        },
        "outputId": "79e0242c-f88e-4c52-dd99-97f4a5a20163"
      },
      "source": [
        "(df2.groupby(by='Acquiring Institution')\n",
        "    .agg({\"Complaint ID\": pd.Series.nunique})\n",
        "    .sort_values(\"Complaint ID\", ascending=False)\n",
        ")"
      ],
      "execution_count": 21,
      "outputs": [
        {
          "output_type": "execute_result",
          "data": {
            "text/html": [
              "<div>\n",
              "<style scoped>\n",
              "    .dataframe tbody tr th:only-of-type {\n",
              "        vertical-align: middle;\n",
              "    }\n",
              "\n",
              "    .dataframe tbody tr th {\n",
              "        vertical-align: top;\n",
              "    }\n",
              "\n",
              "    .dataframe thead th {\n",
              "        text-align: right;\n",
              "    }\n",
              "</style>\n",
              "<table border=\"1\" class=\"dataframe\">\n",
              "  <thead>\n",
              "    <tr style=\"text-align: right;\">\n",
              "      <th></th>\n",
              "      <th>Complaint ID</th>\n",
              "    </tr>\n",
              "    <tr>\n",
              "      <th>Acquiring Institution</th>\n",
              "      <th></th>\n",
              "    </tr>\n",
              "  </thead>\n",
              "  <tbody>\n",
              "    <tr>\n",
              "      <th>Banco Popular de Puerto Rico</th>\n",
              "      <td>763</td>\n",
              "    </tr>\n",
              "    <tr>\n",
              "      <th>Synovus Bank</th>\n",
              "      <td>672</td>\n",
              "    </tr>\n",
              "    <tr>\n",
              "      <th>New York Community Bank</th>\n",
              "      <td>489</td>\n",
              "    </tr>\n",
              "    <tr>\n",
              "      <th>MidFirst Bank</th>\n",
              "      <td>307</td>\n",
              "    </tr>\n",
              "    <tr>\n",
              "      <th>IBERIABANK</th>\n",
              "      <td>226</td>\n",
              "    </tr>\n",
              "    <tr>\n",
              "      <th>Old National Bank</th>\n",
              "      <td>109</td>\n",
              "    </tr>\n",
              "    <tr>\n",
              "      <th>East West Bank</th>\n",
              "      <td>102</td>\n",
              "    </tr>\n",
              "    <tr>\n",
              "      <th>First Midwest Bank</th>\n",
              "      <td>79</td>\n",
              "    </tr>\n",
              "    <tr>\n",
              "      <th>City National Bank</th>\n",
              "      <td>68</td>\n",
              "    </tr>\n",
              "    <tr>\n",
              "      <th>Pacific Western Bank</th>\n",
              "      <td>19</td>\n",
              "    </tr>\n",
              "    <tr>\n",
              "      <th>United Community Bank</th>\n",
              "      <td>14</td>\n",
              "    </tr>\n",
              "  </tbody>\n",
              "</table>\n",
              "</div>"
            ],
            "text/plain": [
              "                              Complaint ID\n",
              "Acquiring Institution                     \n",
              "Banco Popular de Puerto Rico           763\n",
              "Synovus Bank                           672\n",
              "New York Community Bank                489\n",
              "MidFirst Bank                          307\n",
              "IBERIABANK                             226\n",
              "Old National Bank                      109\n",
              "East West Bank                         102\n",
              "First Midwest Bank                      79\n",
              "City National Bank                      68\n",
              "Pacific Western Bank                    19\n",
              "United Community Bank                   14"
            ]
          },
          "metadata": {
            "tags": []
          },
          "execution_count": 21
        }
      ]
    },
    {
      "cell_type": "code",
      "metadata": {
        "id": "IG3A9Y0ZGrtg",
        "colab_type": "code",
        "colab": {
          "base_uri": "https://localhost:8080/",
          "height": 603
        },
        "outputId": "07326fbe-23d5-43b9-a260-b65f93af5559"
      },
      "source": [
        "(df2.groupby(by='Product')\n",
        "    .agg({\"Complaint ID\": pd.Series.nunique})\n",
        "    .sort_values(\"Complaint ID\", ascending=False)\n",
        ")"
      ],
      "execution_count": 22,
      "outputs": [
        {
          "output_type": "execute_result",
          "data": {
            "text/html": [
              "<div>\n",
              "<style scoped>\n",
              "    .dataframe tbody tr th:only-of-type {\n",
              "        vertical-align: middle;\n",
              "    }\n",
              "\n",
              "    .dataframe tbody tr th {\n",
              "        vertical-align: top;\n",
              "    }\n",
              "\n",
              "    .dataframe thead th {\n",
              "        text-align: right;\n",
              "    }\n",
              "</style>\n",
              "<table border=\"1\" class=\"dataframe\">\n",
              "  <thead>\n",
              "    <tr style=\"text-align: right;\">\n",
              "      <th></th>\n",
              "      <th>Complaint ID</th>\n",
              "    </tr>\n",
              "    <tr>\n",
              "      <th>Product</th>\n",
              "      <th></th>\n",
              "    </tr>\n",
              "  </thead>\n",
              "  <tbody>\n",
              "    <tr>\n",
              "      <th>Mortgage</th>\n",
              "      <td>1059</td>\n",
              "    </tr>\n",
              "    <tr>\n",
              "      <th>Bank account or service</th>\n",
              "      <td>649</td>\n",
              "    </tr>\n",
              "    <tr>\n",
              "      <th>Checking or savings account</th>\n",
              "      <td>344</td>\n",
              "    </tr>\n",
              "    <tr>\n",
              "      <th>Credit card</th>\n",
              "      <td>231</td>\n",
              "    </tr>\n",
              "    <tr>\n",
              "      <th>Credit card or prepaid card</th>\n",
              "      <td>182</td>\n",
              "    </tr>\n",
              "    <tr>\n",
              "      <th>Credit reporting, credit repair services, or other personal consumer reports</th>\n",
              "      <td>147</td>\n",
              "    </tr>\n",
              "    <tr>\n",
              "      <th>Debt collection</th>\n",
              "      <td>104</td>\n",
              "    </tr>\n",
              "    <tr>\n",
              "      <th>Consumer Loan</th>\n",
              "      <td>43</td>\n",
              "    </tr>\n",
              "    <tr>\n",
              "      <th>Payday loan, title loan, or personal loan</th>\n",
              "      <td>21</td>\n",
              "    </tr>\n",
              "    <tr>\n",
              "      <th>Money transfer, virtual currency, or money service</th>\n",
              "      <td>19</td>\n",
              "    </tr>\n",
              "    <tr>\n",
              "      <th>Vehicle loan or lease</th>\n",
              "      <td>15</td>\n",
              "    </tr>\n",
              "    <tr>\n",
              "      <th>Credit reporting</th>\n",
              "      <td>13</td>\n",
              "    </tr>\n",
              "    <tr>\n",
              "      <th>Prepaid card</th>\n",
              "      <td>10</td>\n",
              "    </tr>\n",
              "    <tr>\n",
              "      <th>Money transfers</th>\n",
              "      <td>5</td>\n",
              "    </tr>\n",
              "    <tr>\n",
              "      <th>Other financial service</th>\n",
              "      <td>2</td>\n",
              "    </tr>\n",
              "    <tr>\n",
              "      <th>Payday loan</th>\n",
              "      <td>2</td>\n",
              "    </tr>\n",
              "    <tr>\n",
              "      <th>Student loan</th>\n",
              "      <td>2</td>\n",
              "    </tr>\n",
              "  </tbody>\n",
              "</table>\n",
              "</div>"
            ],
            "text/plain": [
              "                                                    Complaint ID\n",
              "Product                                                         \n",
              "Mortgage                                                    1059\n",
              "Bank account or service                                      649\n",
              "Checking or savings account                                  344\n",
              "Credit card                                                  231\n",
              "Credit card or prepaid card                                  182\n",
              "Credit reporting, credit repair services, or ot...           147\n",
              "Debt collection                                              104\n",
              "Consumer Loan                                                 43\n",
              "Payday loan, title loan, or personal loan                     21\n",
              "Money transfer, virtual currency, or money service            19\n",
              "Vehicle loan or lease                                         15\n",
              "Credit reporting                                              13\n",
              "Prepaid card                                                  10\n",
              "Money transfers                                                5\n",
              "Other financial service                                        2\n",
              "Payday loan                                                    2\n",
              "Student loan                                                   2"
            ]
          },
          "metadata": {
            "tags": []
          },
          "execution_count": 22
        }
      ]
    },
    {
      "cell_type": "markdown",
      "metadata": {
        "id": "JivNdKNjRLnd",
        "colab_type": "text"
      },
      "source": [
        "# Result: didn't find much information from the Failed Bank List."
      ]
    }
  ]
}