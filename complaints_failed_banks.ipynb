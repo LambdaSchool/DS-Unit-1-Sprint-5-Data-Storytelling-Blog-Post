{
  "nbformat": 4,
  "nbformat_minor": 0,
  "metadata": {
    "colab": {
      "name": "complaints-failed_banks.ipynb",
      "version": "0.3.2",
      "provenance": [],
      "collapsed_sections": [],
      "include_colab_link": true
    },
    "kernelspec": {
      "name": "python3",
      "display_name": "Python 3"
    }
  },
  "cells": [
    {
      "cell_type": "markdown",
      "metadata": {
        "id": "view-in-github",
        "colab_type": "text"
      },
      "source": [
        "<a href=\"https://colab.research.google.com/github/Nov05/DS-Unit-1-Sprint-5-Data-Storytelling-Blog-Post/blob/master/complaints_failed_banks.ipynb\" target=\"_parent\"><img src=\"https://colab.research.google.com/assets/colab-badge.svg\" alt=\"Open In Colab\"/></a>"
      ]
    },
    {
      "cell_type": "code",
      "metadata": {
        "id": "2kJcvKxzFyzk",
        "colab_type": "code",
        "colab": {}
      },
      "source": [
        "# created by Nov05 on 2019-06-25"
      ],
      "execution_count": 0,
      "outputs": []
    },
    {
      "cell_type": "code",
      "metadata": {
        "id": "4YSM8xnSF9nv",
        "colab_type": "code",
        "colab": {
          "base_uri": "https://localhost:8080/",
          "height": 125
        },
        "outputId": "d0ce1d02-d25b-4f04-e4c0-4652cbe97a2f"
      },
      "source": [
        "# Run this cell to mount your Google Drive.\n",
        "from google.colab import drive\n",
        "drive.mount('/content/drive')"
      ],
      "execution_count": 2,
      "outputs": [
        {
          "output_type": "stream",
          "text": [
            "Go to this URL in a browser: https://accounts.google.com/o/oauth2/auth?client_id=947318989803-6bn6qk8qdgf4n4g3pfee6491hc0brc4i.apps.googleusercontent.com&redirect_uri=urn%3Aietf%3Awg%3Aoauth%3A2.0%3Aoob&scope=email%20https%3A%2F%2Fwww.googleapis.com%2Fauth%2Fdocs.test%20https%3A%2F%2Fwww.googleapis.com%2Fauth%2Fdrive%20https%3A%2F%2Fwww.googleapis.com%2Fauth%2Fdrive.photos.readonly%20https%3A%2F%2Fwww.googleapis.com%2Fauth%2Fpeopleapi.readonly&response_type=code\n",
            "\n",
            "Enter your authorization code:\n",
            "··········\n",
            "Mounted at /content/drive\n"
          ],
          "name": "stdout"
        }
      ]
    },
    {
      "cell_type": "code",
      "metadata": {
        "id": "fQ4eMiUeF_6v",
        "colab_type": "code",
        "colab": {}
      },
      "source": [
        "import pandas as pd\n",
        "import numpy as np\n",
        "from datetime import datetime\n",
        "from scipy import stats\n",
        "\n",
        "import matplotlib.pyplot as plt\n",
        "from matplotlib.pyplot import cm\n",
        "import seaborn as sns\n",
        "\n",
        "%matplotlib inline\n",
        "pd.set_option('display.max_rows', 500)\n",
        "pd.set_option('display.max_columns', 500)"
      ],
      "execution_count": 0,
      "outputs": []
    },
    {
      "cell_type": "markdown",
      "metadata": {
        "id": "WdBx59afHV64",
        "colab_type": "text"
      },
      "source": [
        "# Consumer Complaints"
      ]
    },
    {
      "cell_type": "code",
      "metadata": {
        "id": "IsTsIChMGCmu",
        "colab_type": "code",
        "outputId": "a981f797-1f22-4dff-d55a-dc5749971b9b",
        "colab": {
          "base_uri": "https://localhost:8080/",
          "height": 72
        }
      },
      "source": [
        "# CAUTION: this dataset is 719 MB in size.\n",
        "\n",
        "# this doesn't work for this large file \n",
        "# (seems that it would work for file under 50 MB)\n",
        "# url = \"https://drive.google.com/uc?id=1giGHkApdv3ehRI7uw4LoLhGT6rN_uR0r\"\n",
        "\n",
        "# this works\n",
        "# url = \"https://data.consumerfinance.gov/api/views/s6ew-h6mp/rows.csv?accessType=DOWNLOAD\"\n",
        "# df = pd.read_csv(url)\n",
        "\n",
        "# this works\n",
        "path = \"/content/drive/My Drive/data/cfpd_consumer_complaints/Consumer_Complaints.csv\"\n",
        "df = pd.read_csv(path)"
      ],
      "execution_count": 4,
      "outputs": [
        {
          "output_type": "stream",
          "text": [
            "/usr/local/lib/python3.6/dist-packages/IPython/core/interactiveshell.py:2718: DtypeWarning: Columns (4,5,6,11,16) have mixed types. Specify dtype option on import or set low_memory=False.\n",
            "  interactivity=interactivity, compiler=compiler, result=result)\n"
          ],
          "name": "stderr"
        }
      ]
    },
    {
      "cell_type": "code",
      "metadata": {
        "id": "8JLiCj_tGONm",
        "colab_type": "code",
        "outputId": "5093925a-0db1-451c-c5d1-acf7d2f3152f",
        "colab": {
          "base_uri": "https://localhost:8080/",
          "height": 329
        }
      },
      "source": [
        "# describe non-numeric columns\n",
        "df.describe(exclude=np.number)"
      ],
      "execution_count": 5,
      "outputs": [
        {
          "output_type": "execute_result",
          "data": {
            "text/html": [
              "<div>\n",
              "<style scoped>\n",
              "    .dataframe tbody tr th:only-of-type {\n",
              "        vertical-align: middle;\n",
              "    }\n",
              "\n",
              "    .dataframe tbody tr th {\n",
              "        vertical-align: top;\n",
              "    }\n",
              "\n",
              "    .dataframe thead th {\n",
              "        text-align: right;\n",
              "    }\n",
              "</style>\n",
              "<table border=\"1\" class=\"dataframe\">\n",
              "  <thead>\n",
              "    <tr style=\"text-align: right;\">\n",
              "      <th></th>\n",
              "      <th>Date received</th>\n",
              "      <th>Product</th>\n",
              "      <th>Sub-product</th>\n",
              "      <th>Issue</th>\n",
              "      <th>Sub-issue</th>\n",
              "      <th>Consumer complaint narrative</th>\n",
              "      <th>Company public response</th>\n",
              "      <th>Company</th>\n",
              "      <th>State</th>\n",
              "      <th>ZIP code</th>\n",
              "      <th>Tags</th>\n",
              "      <th>Consumer consent provided?</th>\n",
              "      <th>Submitted via</th>\n",
              "      <th>Date sent to company</th>\n",
              "      <th>Company response to consumer</th>\n",
              "      <th>Timely response?</th>\n",
              "      <th>Consumer disputed?</th>\n",
              "    </tr>\n",
              "  </thead>\n",
              "  <tbody>\n",
              "    <tr>\n",
              "      <th>count</th>\n",
              "      <td>1315085</td>\n",
              "      <td>1315085</td>\n",
              "      <td>1079919</td>\n",
              "      <td>1315085</td>\n",
              "      <td>779909</td>\n",
              "      <td>389859</td>\n",
              "      <td>466544</td>\n",
              "      <td>1315085</td>\n",
              "      <td>1294526</td>\n",
              "      <td>1195259</td>\n",
              "      <td>179965</td>\n",
              "      <td>710315</td>\n",
              "      <td>1315085</td>\n",
              "      <td>1315085</td>\n",
              "      <td>1315078</td>\n",
              "      <td>1315085</td>\n",
              "      <td>768501</td>\n",
              "    </tr>\n",
              "    <tr>\n",
              "      <th>unique</th>\n",
              "      <td>2760</td>\n",
              "      <td>18</td>\n",
              "      <td>76</td>\n",
              "      <td>167</td>\n",
              "      <td>218</td>\n",
              "      <td>372832</td>\n",
              "      <td>10</td>\n",
              "      <td>5321</td>\n",
              "      <td>63</td>\n",
              "      <td>22769</td>\n",
              "      <td>3</td>\n",
              "      <td>4</td>\n",
              "      <td>6</td>\n",
              "      <td>2709</td>\n",
              "      <td>8</td>\n",
              "      <td>2</td>\n",
              "      <td>2</td>\n",
              "    </tr>\n",
              "    <tr>\n",
              "      <th>top</th>\n",
              "      <td>09/08/2017</td>\n",
              "      <td>Mortgage</td>\n",
              "      <td>Credit reporting</td>\n",
              "      <td>Incorrect information on your report</td>\n",
              "      <td>Information belongs to someone else</td>\n",
              "      <td>There are many mistakes appear in my report wi...</td>\n",
              "      <td>Company has responded to the consumer and the ...</td>\n",
              "      <td>EQUIFAX, INC.</td>\n",
              "      <td>CA</td>\n",
              "      <td>300XX</td>\n",
              "      <td>Servicemember</td>\n",
              "      <td>Consent provided</td>\n",
              "      <td>Web</td>\n",
              "      <td>09/08/2017</td>\n",
              "      <td>Closed with explanation</td>\n",
              "      <td>Yes</td>\n",
              "      <td>No</td>\n",
              "    </tr>\n",
              "    <tr>\n",
              "      <th>freq</th>\n",
              "      <td>3553</td>\n",
              "      <td>280698</td>\n",
              "      <td>237652</td>\n",
              "      <td>144799</td>\n",
              "      <td>65707</td>\n",
              "      <td>993</td>\n",
              "      <td>327095</td>\n",
              "      <td>120371</td>\n",
              "      <td>180075</td>\n",
              "      <td>7600</td>\n",
              "      <td>87235</td>\n",
              "      <td>390181</td>\n",
              "      <td>972343</td>\n",
              "      <td>3387</td>\n",
              "      <td>1019300</td>\n",
              "      <td>1282414</td>\n",
              "      <td>620123</td>\n",
              "    </tr>\n",
              "  </tbody>\n",
              "</table>\n",
              "</div>"
            ],
            "text/plain": [
              "       Date received   Product       Sub-product  \\\n",
              "count        1315085   1315085           1079919   \n",
              "unique          2760        18                76   \n",
              "top       09/08/2017  Mortgage  Credit reporting   \n",
              "freq            3553    280698            237652   \n",
              "\n",
              "                                       Issue  \\\n",
              "count                                1315085   \n",
              "unique                                   167   \n",
              "top     Incorrect information on your report   \n",
              "freq                                  144799   \n",
              "\n",
              "                                  Sub-issue  \\\n",
              "count                                779909   \n",
              "unique                                  218   \n",
              "top     Information belongs to someone else   \n",
              "freq                                  65707   \n",
              "\n",
              "                             Consumer complaint narrative  \\\n",
              "count                                              389859   \n",
              "unique                                             372832   \n",
              "top     There are many mistakes appear in my report wi...   \n",
              "freq                                                  993   \n",
              "\n",
              "                                  Company public response        Company  \\\n",
              "count                                              466544        1315085   \n",
              "unique                                                 10           5321   \n",
              "top     Company has responded to the consumer and the ...  EQUIFAX, INC.   \n",
              "freq                                               327095         120371   \n",
              "\n",
              "          State ZIP code           Tags Consumer consent provided?  \\\n",
              "count   1294526  1195259         179965                     710315   \n",
              "unique       63    22769              3                          4   \n",
              "top          CA    300XX  Servicemember           Consent provided   \n",
              "freq     180075     7600          87235                     390181   \n",
              "\n",
              "       Submitted via Date sent to company Company response to consumer  \\\n",
              "count        1315085              1315085                      1315078   \n",
              "unique             6                 2709                            8   \n",
              "top              Web           09/08/2017      Closed with explanation   \n",
              "freq          972343                 3387                      1019300   \n",
              "\n",
              "       Timely response? Consumer disputed?  \n",
              "count           1315085             768501  \n",
              "unique                2                  2  \n",
              "top                 Yes                 No  \n",
              "freq            1282414             620123  "
            ]
          },
          "metadata": {
            "tags": []
          },
          "execution_count": 5
        }
      ]
    },
    {
      "cell_type": "code",
      "metadata": {
        "id": "qD4sgop3HBtz",
        "colab_type": "code",
        "outputId": "c394f7cf-c733-48dd-b11b-a6ff50379990",
        "colab": {
          "base_uri": "https://localhost:8080/",
          "height": 110
        }
      },
      "source": [
        "df['datereceived'] = pd.to_datetime(df['Date received'], \n",
        "                                    format=\"%m/%d/%Y\")\n",
        "df['datesent'] = pd.to_datetime(df['Date sent to company'],\n",
        "                                format=\"%m/%d/%Y\")\n",
        "df[['datereceived', 'datesent']].sample(2)"
      ],
      "execution_count": 6,
      "outputs": [
        {
          "output_type": "execute_result",
          "data": {
            "text/html": [
              "<div>\n",
              "<style scoped>\n",
              "    .dataframe tbody tr th:only-of-type {\n",
              "        vertical-align: middle;\n",
              "    }\n",
              "\n",
              "    .dataframe tbody tr th {\n",
              "        vertical-align: top;\n",
              "    }\n",
              "\n",
              "    .dataframe thead th {\n",
              "        text-align: right;\n",
              "    }\n",
              "</style>\n",
              "<table border=\"1\" class=\"dataframe\">\n",
              "  <thead>\n",
              "    <tr style=\"text-align: right;\">\n",
              "      <th></th>\n",
              "      <th>datereceived</th>\n",
              "      <th>datesent</th>\n",
              "    </tr>\n",
              "  </thead>\n",
              "  <tbody>\n",
              "    <tr>\n",
              "      <th>626166</th>\n",
              "      <td>2016-12-15</td>\n",
              "      <td>2016-12-16</td>\n",
              "    </tr>\n",
              "    <tr>\n",
              "      <th>781416</th>\n",
              "      <td>2016-03-02</td>\n",
              "      <td>2016-03-02</td>\n",
              "    </tr>\n",
              "  </tbody>\n",
              "</table>\n",
              "</div>"
            ],
            "text/plain": [
              "       datereceived   datesent\n",
              "626166   2016-12-15 2016-12-16\n",
              "781416   2016-03-02 2016-03-02"
            ]
          },
          "metadata": {
            "tags": []
          },
          "execution_count": 6
        }
      ]
    },
    {
      "cell_type": "code",
      "metadata": {
        "id": "EKWHWJh8HMB5",
        "colab_type": "code",
        "outputId": "4f753aaa-e05c-408f-810b-ee9b13524186",
        "colab": {
          "base_uri": "https://localhost:8080/",
          "height": 35
        }
      },
      "source": [
        "# total row count = 1315204\n",
        "len(df['Complaint ID'].unique())"
      ],
      "execution_count": 7,
      "outputs": [
        {
          "output_type": "execute_result",
          "data": {
            "text/plain": [
              "1315085"
            ]
          },
          "metadata": {
            "tags": []
          },
          "execution_count": 7
        }
      ]
    },
    {
      "cell_type": "markdown",
      "metadata": {
        "id": "G8xj_IB0AKcq",
        "colab_type": "text"
      },
      "source": [
        "#### Consolidate changes in products"
      ]
    },
    {
      "cell_type": "markdown",
      "metadata": {
        "id": "xrtXYyEP-etI",
        "colab_type": "text"
      },
      "source": [
        "https://files.consumerfinance.gov/f/documents/201704_cfpb_Summary_of_Product_and_Sub-product_Changes.pdf  "
      ]
    },
    {
      "cell_type": "code",
      "metadata": {
        "id": "l751H3LV_Emv",
        "colab_type": "code",
        "colab": {
          "base_uri": "https://localhost:8080/",
          "height": 35
        },
        "outputId": "f65c522c-7176-4a4a-d246-bb32ed0d5f76"
      },
      "source": [
        "df_prd = (df.fillna('-')\n",
        "   .groupby(by=['Product', 'Sub-product'], as_index=False)\n",
        "   .agg({'Complaint ID': pd.Series.nunique})\n",
        "   .sort_values(by=['Product', 'Complaint ID'], \n",
        "                ascending=(True, False))\n",
        ")\n",
        "print(df_prd.shape)"
      ],
      "execution_count": 23,
      "outputs": [
        {
          "output_type": "stream",
          "text": [
            "(99, 3)\n"
          ],
          "name": "stdout"
        }
      ]
    },
    {
      "cell_type": "code",
      "metadata": {
        "id": "u-_VBIUl_LxB",
        "colab_type": "code",
        "colab": {}
      },
      "source": [
        "prds = df_prd['Product'].unique()\n",
        "subs = df_prd['Sub-product'].unique()"
      ],
      "execution_count": 0,
      "outputs": []
    },
    {
      "cell_type": "code",
      "metadata": {
        "id": "j4xSDZW6-dWj",
        "colab_type": "code",
        "colab": {}
      },
      "source": [
        "# consolidate changes in products - such a pain\n",
        "\n",
        "def new_prd(row):\n",
        "  prd, sub = row[0], row[1]\n",
        "  new_prd = \"\"\n",
        "  \n",
        "  # Debt collection (no change to product name)\n",
        "  if prd in [prds[7]]:\n",
        "    new_prd = prds[7]\n",
        "  # Credit reporting, credit repair services, or other \n",
        "  # personal consumer reports (previously “Credit reporting”\n",
        "  # and sub-products of “Other financial service”)\n",
        "  elif prd in [prds[5], prds[6]]:\n",
        "    new_prd = prds[6]\n",
        "  # Mortgage (no change to product name)\n",
        "  elif prd in [prds[10]]:\n",
        "    new_prd = prds[10]\n",
        "  # Credit card or prepaid card (previously “Credit card” \n",
        "  # and “Prepaid card”)  \n",
        "  elif prd in [prds[3], prds[14], prds[4]]:\n",
        "    new_prd = prds[4]\n",
        "  # Checking or savings account (previously Bank account \n",
        "  # or service)  \n",
        "  elif prd in [prds[0], prds[1]]:\n",
        "    new_prd = prds[1]\n",
        "  # Vehicle loan or lease (previously sub-product of \n",
        "  # Consumer loan)  \n",
        "  elif prd==prds[16] or (prd==prds[2] and sub==subs[8]):\n",
        "    new_prd = prds[16]\n",
        "  # Student loan (no change to product name)  \n",
        "  elif prd in [prds[15]]:\n",
        "    new_prd = prds[15]\n",
        "  # Payday loan, title loan, or personal loan (previously \n",
        "  # “Consumer loan” and “Payday loan”)\n",
        "  elif prd in [prds[13], prds[12]] or (prd==prds[2] \n",
        "                                       and sub!=subs[8]):\n",
        "    new_prd = prds[13]\n",
        "  # Money transfer, virtual currency, or money service \n",
        "  # (previously “Money transfers,” “Other financial \n",
        "  # service,” and “Prepaid card”)  \n",
        "  elif prd in [prds[8], prds[17], prds[9], prds[11], \n",
        "               prds[14]]:\n",
        "    new_prd = prds[8]\n",
        "  \n",
        "  return new_prd"
      ],
      "execution_count": 0,
      "outputs": []
    },
    {
      "cell_type": "code",
      "metadata": {
        "id": "s2BiJsEU_bLa",
        "colab_type": "code",
        "colab": {
          "base_uri": "https://localhost:8080/",
          "height": 120
        },
        "outputId": "f00825dc-6203-44a4-900a-01f897b88f3f"
      },
      "source": [
        "# consolidate products for the whole dataset\n",
        "df['new'] = df.iloc[:,1:3].apply(new_prd, axis=1)\n",
        "# verify consolidation\n",
        "df[df['new']=='']"
      ],
      "execution_count": 26,
      "outputs": [
        {
          "output_type": "execute_result",
          "data": {
            "text/html": [
              "<div>\n",
              "<style scoped>\n",
              "    .dataframe tbody tr th:only-of-type {\n",
              "        vertical-align: middle;\n",
              "    }\n",
              "\n",
              "    .dataframe tbody tr th {\n",
              "        vertical-align: top;\n",
              "    }\n",
              "\n",
              "    .dataframe thead th {\n",
              "        text-align: right;\n",
              "    }\n",
              "</style>\n",
              "<table border=\"1\" class=\"dataframe\">\n",
              "  <thead>\n",
              "    <tr style=\"text-align: right;\">\n",
              "      <th></th>\n",
              "      <th>Date received</th>\n",
              "      <th>Product</th>\n",
              "      <th>Sub-product</th>\n",
              "      <th>Issue</th>\n",
              "      <th>Sub-issue</th>\n",
              "      <th>Consumer complaint narrative</th>\n",
              "      <th>Company public response</th>\n",
              "      <th>Company</th>\n",
              "      <th>State</th>\n",
              "      <th>ZIP code</th>\n",
              "      <th>Tags</th>\n",
              "      <th>Consumer consent provided?</th>\n",
              "      <th>Submitted via</th>\n",
              "      <th>Date sent to company</th>\n",
              "      <th>Company response to consumer</th>\n",
              "      <th>Timely response?</th>\n",
              "      <th>Consumer disputed?</th>\n",
              "      <th>Complaint ID</th>\n",
              "      <th>datereceived</th>\n",
              "      <th>datesent</th>\n",
              "      <th>comp</th>\n",
              "      <th>new</th>\n",
              "    </tr>\n",
              "  </thead>\n",
              "  <tbody>\n",
              "  </tbody>\n",
              "</table>\n",
              "</div>"
            ],
            "text/plain": [
              "Empty DataFrame\n",
              "Columns: [Date received, Product, Sub-product, Issue, Sub-issue, Consumer complaint narrative, Company public response, Company, State, ZIP code, Tags, Consumer consent provided?, Submitted via, Date sent to company, Company response to consumer, Timely response?, Consumer disputed?, Complaint ID, datereceived, datesent, comp, new]\n",
              "Index: []"
            ]
          },
          "metadata": {
            "tags": []
          },
          "execution_count": 26
        }
      ]
    },
    {
      "cell_type": "markdown",
      "metadata": {
        "id": "Bmkp-W7ZHRYa",
        "colab_type": "text"
      },
      "source": [
        "# Failed Banks  "
      ]
    },
    {
      "cell_type": "code",
      "metadata": {
        "id": "DynbIK6ZHP-R",
        "colab_type": "code",
        "colab": {}
      },
      "source": [
        "# url=\"http://www.fdic.gov/bank/individual/failed/banklist_utf8.csv\"\n",
        "url = \"https://drive.google.com/uc?id=16R-U0x0Cc3tt4UfzmtvTy3z7rjdW8AkJ\"\n",
        "df_banks = pd.read_csv(url, encoding='8859') # seriously? 8859?"
      ],
      "execution_count": 0,
      "outputs": []
    },
    {
      "cell_type": "code",
      "metadata": {
        "id": "BwcNAcY0I_UG",
        "colab_type": "code",
        "colab": {}
      },
      "source": [
        "# convert datetime 31-May-19\n",
        "df_banks[\"closingdate\"] = pd.to_datetime(df_banks[\"Closing Date\"], \n",
        "                                         format=\"%d-%b-%y\")\n",
        "df_banks[\"updateddate\"] = pd.to_datetime(df_banks[\"Updated Date\"], \n",
        "                                         format=\"%d-%b-%y\")"
      ],
      "execution_count": 0,
      "outputs": []
    },
    {
      "cell_type": "code",
      "metadata": {
        "id": "MuDqh277Hj-Y",
        "colab_type": "code",
        "outputId": "6676f41f-5d1c-4045-bd41-2eb591900dbf",
        "colab": {
          "base_uri": "https://localhost:8080/",
          "height": 159
        }
      },
      "source": [
        "print(df_banks.shape)\n",
        "df_banks.head(3)"
      ],
      "execution_count": 30,
      "outputs": [
        {
          "output_type": "stream",
          "text": [
            "(556, 9)\n"
          ],
          "name": "stdout"
        },
        {
          "output_type": "execute_result",
          "data": {
            "text/html": [
              "<div>\n",
              "<style scoped>\n",
              "    .dataframe tbody tr th:only-of-type {\n",
              "        vertical-align: middle;\n",
              "    }\n",
              "\n",
              "    .dataframe tbody tr th {\n",
              "        vertical-align: top;\n",
              "    }\n",
              "\n",
              "    .dataframe thead th {\n",
              "        text-align: right;\n",
              "    }\n",
              "</style>\n",
              "<table border=\"1\" class=\"dataframe\">\n",
              "  <thead>\n",
              "    <tr style=\"text-align: right;\">\n",
              "      <th></th>\n",
              "      <th>Bank Name</th>\n",
              "      <th>City</th>\n",
              "      <th>ST</th>\n",
              "      <th>CERT</th>\n",
              "      <th>Acquiring Institution</th>\n",
              "      <th>Closing Date</th>\n",
              "      <th>Updated Date</th>\n",
              "      <th>closingdate</th>\n",
              "      <th>updateddate</th>\n",
              "    </tr>\n",
              "  </thead>\n",
              "  <tbody>\n",
              "    <tr>\n",
              "      <th>0</th>\n",
              "      <td>The Enloe State Bank</td>\n",
              "      <td>Cooper</td>\n",
              "      <td>TX</td>\n",
              "      <td>10716</td>\n",
              "      <td>Legend Bank, N. A.</td>\n",
              "      <td>31-May-19</td>\n",
              "      <td>18-Jun-19</td>\n",
              "      <td>2019-05-31</td>\n",
              "      <td>2019-06-18</td>\n",
              "    </tr>\n",
              "    <tr>\n",
              "      <th>1</th>\n",
              "      <td>Washington Federal Bank for Savings</td>\n",
              "      <td>Chicago</td>\n",
              "      <td>IL</td>\n",
              "      <td>30570</td>\n",
              "      <td>Royal Savings Bank</td>\n",
              "      <td>15-Dec-17</td>\n",
              "      <td>1-Feb-19</td>\n",
              "      <td>2017-12-15</td>\n",
              "      <td>2019-02-01</td>\n",
              "    </tr>\n",
              "    <tr>\n",
              "      <th>2</th>\n",
              "      <td>The Farmers and Merchants State Bank of Argonia</td>\n",
              "      <td>Argonia</td>\n",
              "      <td>KS</td>\n",
              "      <td>17719</td>\n",
              "      <td>Conway Bank</td>\n",
              "      <td>13-Oct-17</td>\n",
              "      <td>21-Feb-18</td>\n",
              "      <td>2017-10-13</td>\n",
              "      <td>2018-02-21</td>\n",
              "    </tr>\n",
              "  </tbody>\n",
              "</table>\n",
              "</div>"
            ],
            "text/plain": [
              "                                         Bank Name     City  ST   CERT  \\\n",
              "0                             The Enloe State Bank   Cooper  TX  10716   \n",
              "1              Washington Federal Bank for Savings  Chicago  IL  30570   \n",
              "2  The Farmers and Merchants State Bank of Argonia  Argonia  KS  17719   \n",
              "\n",
              "  Acquiring Institution Closing Date Updated Date closingdate updateddate  \n",
              "0    Legend Bank, N. A.    31-May-19    18-Jun-19  2019-05-31  2019-06-18  \n",
              "1    Royal Savings Bank    15-Dec-17     1-Feb-19  2017-12-15  2019-02-01  \n",
              "2           Conway Bank    13-Oct-17    21-Feb-18  2017-10-13  2018-02-21  "
            ]
          },
          "metadata": {
            "tags": []
          },
          "execution_count": 30
        }
      ]
    },
    {
      "cell_type": "markdown",
      "metadata": {
        "id": "Bun2ZoznKlN9",
        "colab_type": "text"
      },
      "source": [
        "# join the datasets"
      ]
    },
    {
      "cell_type": "code",
      "metadata": {
        "id": "W-YDqmRWNqLL",
        "colab_type": "code",
        "outputId": "99f30f13-5f0c-4d8b-cf1b-ff9a72ac8422",
        "colab": {
          "base_uri": "https://localhost:8080/",
          "height": 105
        }
      },
      "source": [
        "df['comp'] = df['Company'].str.upper()\n",
        "df['comp'].unique()"
      ],
      "execution_count": 33,
      "outputs": [
        {
          "output_type": "execute_result",
          "data": {
            "text/plain": [
              "array(['NATIONWIDE RECOVERY GROUP LLC',\n",
              "       'ONEMAIN FINANCIAL HOLDINGS, LLC.',\n",
              "       'HCFS HEALTH CARE FINANCIAL SERVICES, INC.', ...,\n",
              "       'JLM R.E. INVESTMENTS', 'VALLEY ESTATES ESCROW',\n",
              "       'ASPEN HOME MORTGAGE GROUP'], dtype=object)"
            ]
          },
          "metadata": {
            "tags": []
          },
          "execution_count": 33
        }
      ]
    },
    {
      "cell_type": "code",
      "metadata": {
        "id": "gv3xFUx9PLkA",
        "colab_type": "code",
        "outputId": "de4b6ed4-0ee7-4aee-ec23-3d7bd0eb26ab",
        "colab": {
          "base_uri": "https://localhost:8080/",
          "height": 1000
        }
      },
      "source": [
        "df_banks['bnk'] = df_banks['Bank Name'].str.upper()\n",
        "df_banks['bnk'].unique()"
      ],
      "execution_count": 32,
      "outputs": [
        {
          "output_type": "execute_result",
          "data": {
            "text/plain": [
              "array(['THE ENLOE STATE BANK', 'WASHINGTON FEDERAL BANK FOR SAVINGS',\n",
              "       'THE FARMERS AND MERCHANTS STATE BANK OF ARGONIA',\n",
              "       'FAYETTE COUNTY BANK',\n",
              "       'GUARANTY BANK, (D/B/A BESTBANK IN GEORGIA & MICHIGAN)',\n",
              "       'FIRST NBC BANK', 'PROFICIO BANK', 'SEAWAY BANK AND TRUST COMPANY',\n",
              "       'HARVEST COMMUNITY BANK', 'ALLIED BANK',\n",
              "       'THE WOODBURY BANKING COMPANY', 'FIRST CORNERSTONE BANK',\n",
              "       'TRUST COMPANY BANK', 'NORTH MILWAUKEE STATE BANK',\n",
              "       'HOMETOWN NATIONAL BANK', 'THE BANK OF GEORGIA', 'PREMIER BANK',\n",
              "       'EDGEBROOK BANK', 'DORAL BANK',\n",
              "       'CAPITOL CITY BANK & TRUST COMPANY', 'HIGHLAND COMMUNITY BANK',\n",
              "       'FIRST NATIONAL BANK OF CRESTVIEW', 'NORTHERN STAR BANK',\n",
              "       'FRONTIER BANK, FSB D/B/A EL PASEO BANK',\n",
              "       'THE NATIONAL REPUBLIC BANK OF CHICAGO', 'NBRS FINANCIAL',\n",
              "       'GREENCHOICE BANK, FSB', 'EASTSIDE COMMERCIAL BANK',\n",
              "       'THE FREEDOM STATE BANK', 'VALLEY BANK',\n",
              "       'SLAVIE FEDERAL SAVINGS BANK', 'COLUMBIA SAVINGS BANK',\n",
              "       'AZTECAMERICA BANK\\xa0', 'ALLENDALE COUNTY BANK',\n",
              "       'VANTAGE POINT BANK', 'MILLENNIUM BANK, NATIONAL ASSOCIATION',\n",
              "       'SYRINGA BANK', 'THE BANK OF UNION', 'DUPAGE NATIONAL BANK',\n",
              "       'TEXAS COMMUNITY BANK, NATIONAL ASSOCIATION',\n",
              "       'BANK OF JACKSON COUNTY',\n",
              "       'FIRST NATIONAL BANK ALSO OPERATING AS THE NATIONAL BANK OF EL PASO\\xa0',\n",
              "       \"THE COMMUNITY'S BANK\", 'SUNRISE BANK OF ARIZONA',\n",
              "       'COMMUNITY SOUTH BANK', 'BANK OF WAUSAU',\n",
              "       'FIRST COMMUNITY BANK OF SOUTHWEST FLORIDA (ALSO OPERATING AS COMMUNITY BANK OF CAPE CORAL)',\n",
              "       'MOUNTAIN NATIONAL BANK', '1ST COMMERCE BANK',\n",
              "       'BANKS OF WISCONSIN D/B/A BANK OF KENOSHA', 'CENTRAL ARIZONA BANK',\n",
              "       'SUNRISE BANK', 'PISGAH COMMUNITY BANK', 'DOUGLAS COUNTY BANK',\n",
              "       'PARKWAY BANK', 'CHIPOLA COMMUNITY BANK',\n",
              "       'HERITAGE BANK OF NORTH FLORIDA', 'FIRST FEDERAL BANK',\n",
              "       'GOLD CANYON BANK', 'FRONTIER BANK', 'COVENANT BANK',\n",
              "       '1ST REGENTS BANK', 'WESTSIDE COMMUNITY BANK',\n",
              "       'COMMUNITY BANK OF THE OZARKS', 'HOMETOWN COMMUNITY BANK',\n",
              "       'CITIZENS FIRST NATIONAL BANK', 'HERITAGE BANK OF FLORIDA',\n",
              "       'NOVA BANK', 'EXCEL BANK', 'FIRST EAST SIDE SAVINGS BANK',\n",
              "       'GULFSOUTH PRIVATE BANK', 'FIRST UNITED BANK', 'TRUMAN BANK',\n",
              "       'FIRST COMMERCIAL BANK', 'WAUKEGAN SAVINGS BANK',\n",
              "       'JASPER BANKING COMPANY',\n",
              "       'SECOND FEDERAL SAVINGS AND LOAN ASSOCIATION OF CHICAGO',\n",
              "       'HEARTLAND BANK', 'FIRST CHEROKEE STATE BANK',\n",
              "       'GEORGIA TRUST BANK', 'THE ROYAL PALM BANK OF FLORIDA',\n",
              "       'GLASGOW SAVINGS BANK', 'MONTGOMERY BANK & TRUST',\n",
              "       'THE FARMERS BANK OF LYNCHBURG', 'SECURITY EXCHANGE BANK',\n",
              "       'PUTNAM STATE BANK', 'WACCAMAW BANK',\n",
              "       \"FARMERS' AND TRADERS' STATE BANK\",\n",
              "       'CAROLINA FEDERAL SAVINGS BANK', 'FIRST CAPITAL BANK',\n",
              "       'ALABAMA TRUST BANK, NATIONAL ASSOCIATION',\n",
              "       'SECURITY BANK, NATIONAL ASSOCIATION', 'PALM DESERT NATIONAL BANK',\n",
              "       'PLANTATION FEDERAL BANK',\n",
              "       'INTER SAVINGS BANK, FSB D/B/A INTERBANK, FSB',\n",
              "       'HARVEST BANK OF MARYLAND', 'BANK OF THE EASTERN SHORE',\n",
              "       'FORT LEE FEDERAL SAVINGS BANK, FSB', 'FIDELITY BANK',\n",
              "       'COVENANT BANK & TRUST', 'NEW CITY BANK', 'GLOBAL COMMERCE BANK',\n",
              "       'HOME SAVINGS OF AMERICA', 'CENTRAL BANK OF GEORGIA', 'SCB BANK',\n",
              "       'CHARTER NATIONAL BANK AND TRUST', 'BANKEAST',\n",
              "       'PATRIOT BANK MINNESOTA', 'TENNESSEE COMMERCE BANK',\n",
              "       'FIRST GUARANTY BANK AND TRUST COMPANY OF JACKSONVILLE',\n",
              "       'AMERICAN EAGLE SAVINGS BANK', 'THE FIRST STATE BANK',\n",
              "       'CENTRAL FLORIDA STATE BANK', 'WESTERN NATIONAL BANK',\n",
              "       'PREMIER COMMUNITY BANK OF THE EMERALD COAST',\n",
              "       'CENTRAL PROGRESSIVE BANK', 'POLK COUNTY BANK',\n",
              "       'COMMUNITY BANK OF ROCKMART', 'SUNFIRST BANK',\n",
              "       'MID CITY BANK, INC.', 'ALL AMERICAN BANK',\n",
              "       'COMMUNITY BANKS OF COLORADO', 'COMMUNITY CAPITAL BANK',\n",
              "       'DECATUR FIRST BANK', 'OLD HARBOR BANK', 'COUNTRY BANK',\n",
              "       'FIRST STATE BANK', 'BLUE RIDGE SAVINGS BANK, INC.',\n",
              "       'PIEDMONT COMMUNITY BANK', 'SUN SECURITY BANK', 'THE RIVERBANK',\n",
              "       'FIRST INTERNATIONAL BANK', 'CITIZENS BANK OF NORTHERN CALIFORNIA',\n",
              "       'BANK OF THE COMMONWEALTH', 'THE FIRST NATIONAL BANK OF FLORIDA',\n",
              "       'CREEKSIDE BANK', 'PATRIOT BANK OF GEORGIA', 'FIRST CHOICE BANK',\n",
              "       'FIRST SOUTHERN NATIONAL BANK', 'LYDIAN PRIVATE BANK',\n",
              "       'PUBLIC SAVINGS BANK', 'THE FIRST NATIONAL BANK OF OLATHE',\n",
              "       'BANK OF WHITMAN', 'BANK OF SHOREWOOD',\n",
              "       'INTEGRA BANK NATIONAL ASSOCIATION', 'BANKMERIDIAN, N.A.',\n",
              "       'VIRGINIA BUSINESS BANK', 'BANK OF CHOICE',\n",
              "       'LANDMARK BANK OF FLORIDA', 'SOUTHSHORE COMMUNITY BANK',\n",
              "       'SUMMIT BANK', 'FIRST PEOPLES BANK', 'HIGH TRUST BANK',\n",
              "       'ONE GEORGIA BANK', 'SIGNATURE BANK', 'COLORADO CAPITAL BANK',\n",
              "       'FIRST CHICAGO BANK & TRUST', 'MOUNTAIN HERITAGE BANK',\n",
              "       'FIRST COMMERCIAL BANK OF TAMPA BAY', 'MCINTOSH STATE BANK',\n",
              "       'ATLANTIC BANK AND TRUST', 'FIRST HERITAGE BANK',\n",
              "       'FIRST GEORGIA BANKING COMPANY', 'ATLANTIC SOUTHERN BANK',\n",
              "       'COASTAL BANK', 'COMMUNITY CENTRAL BANK', 'THE PARK AVENUE BANK',\n",
              "       'FIRST CHOICE COMMUNITY BANK', 'CORTEZ COMMUNITY BANK',\n",
              "       'FIRST NATIONAL BANK OF CENTRAL FLORIDA', 'HERITAGE BANKING GROUP',\n",
              "       'ROSEMOUNT NATIONAL BANK', 'SUPERIOR BANK', 'NEXITY BANK',\n",
              "       'NEW HORIZONS BANK', 'BARTOW COUNTY BANK', 'NEVADA COMMERCE BANK',\n",
              "       'WESTERN SPRINGS NATIONAL BANK AND TRUST', 'THE BANK OF COMMERCE',\n",
              "       'LEGACY BANK', 'FIRST NATIONAL BANK OF DAVIS',\n",
              "       'VALLEY COMMUNITY BANK', 'SAN LUIS TRUST BANK, FSB',\n",
              "       'CHARTER OAK BANK', 'CITIZENS BANK OF EFFINGHAM', 'HABERSHAM BANK',\n",
              "       'CANYON NATIONAL BANK', 'BADGER STATE BANK', 'PEOPLES STATE BANK',\n",
              "       'SUNSHINE STATE COMMUNITY BANK', 'COMMUNITY FIRST BANK CHICAGO',\n",
              "       'NORTH GEORGIA BANK', 'AMERICAN TRUST BANK',\n",
              "       'FIRST COMMUNITY BANK', 'FIRSTIER BANK', 'EVERGREEN STATE BANK',\n",
              "       'UNITED WESTERN BANK', 'THE BANK OF ASHEVILLE',\n",
              "       'COMMUNITYSOUTH BANK & TRUST', 'ENTERPRISE BANKING COMPANY',\n",
              "       'OGLETHORPE BANK', 'FIRST COMMERCIAL BANK OF FLORIDA',\n",
              "       'COMMUNITY NATIONAL BANK', 'FIRST SOUTHERN BANK',\n",
              "       'UNITED AMERICAS BANK, N.A.', 'APPALACHIAN COMMUNITY BANK, FSB',\n",
              "       'CHESTATEE STATE BANK', 'THE BANK OF MIAMI,N.A.', 'EARTHSTAR BANK',\n",
              "       'PARAMOUNT BANK', 'FIRST BANKING CENTER',\n",
              "       'ALLEGIANCE BANK OF NORTH AMERICA', 'GULF STATE COMMUNITY BANK',\n",
              "       'COPPER STAR BANK', 'DARBY BANK & TRUST CO.',\n",
              "       'TIFTON BANKING COMPANY', 'FIRST VIETNAMESE AMERICAN BANK',\n",
              "       'PIERCE COMMERCIAL BANK', 'WESTERN COMMERCIAL BANK', 'K BANK',\n",
              "       'FIRST ARIZONA SAVINGS, A FSB', 'HILLCREST BANK',\n",
              "       'FIRST SUBURBAN NATIONAL BANK',\n",
              "       'THE FIRST NATIONAL BANK OF BARNESVILLE', 'THE GORDON BANK',\n",
              "       'PROGRESS BANK OF FLORIDA', 'FIRST BANK OF JACKSONVILLE',\n",
              "       'WESTBRIDGE BANK AND TRUST COMPANY',\n",
              "       'SECURITY SAVINGS BANK, F.S.B.', 'SHORELINE BANK', 'WAKULLA BANK',\n",
              "       'NORTH COUNTY BANK', 'HAVEN TRUST BANK FLORIDA',\n",
              "       'MARITIME SAVINGS BANK', 'BRAMBLE SAVINGS BANK',\n",
              "       'THE PEOPLES BANK', 'FIRST COMMERCE COMMUNITY BANK',\n",
              "       'BANK OF ELLIJAY', 'ISN BANK', 'HORIZON BANK',\n",
              "       'SONOMA VALLEY BANK', 'LOS PADRES BANK', 'BUTTE COMMUNITY BANK',\n",
              "       'PACIFIC STATE BANK', 'SHOREBANK',\n",
              "       'IMPERIAL SAVINGS AND LOAN ASSOCIATION',\n",
              "       'INDEPENDENT NATIONAL BANK', 'COMMUNITY NATIONAL BANK AT BARTOW',\n",
              "       'PALOS BANK AND TRUST COMPANY', 'RAVENSWOOD BANK', 'LIBERTYBANK',\n",
              "       'THE COWLITZ BANK', 'COASTAL COMMUNITY BANK',\n",
              "       'BAYSIDE SAVINGS BANK', 'NORTHWEST BANK & TRUST',\n",
              "       'HOME VALLEY BANK', 'SOUTHWESTUSA BANK', 'COMMUNITY SECURITY BANK',\n",
              "       'THUNDER BANK', 'WILLIAMSBURG FIRST NATIONAL BANK',\n",
              "       'CRESCENT BANK AND TRUST COMPANY', 'STERLING BANK',\n",
              "       'MAINSTREET SAVINGS BANK, FSB', 'OLDE CYPRESS COMMUNITY BANK',\n",
              "       'TURNBERRY BANK', 'METRO BANK OF DADE COUNTY',\n",
              "       'FIRST NATIONAL BANK OF THE SOUTH', 'WOODLANDS BANK',\n",
              "       'HOME NATIONAL BANK', 'USA BANK', 'IDEAL FEDERAL SAVINGS BANK',\n",
              "       'BAY NATIONAL BANK', 'HIGH DESERT STATE BANK',\n",
              "       'FIRST NATIONAL BANK', 'PENINSULA BANK', 'NEVADA SECURITY BANK',\n",
              "       'WASHINGTON FIRST INTERNATIONAL BANK', 'TIERONE BANK',\n",
              "       'ARCOLA HOMESTEAD SAVINGS BANK', 'SUN WEST BANK',\n",
              "       'GRANITE COMMUNITY BANK, NA', 'BANK OF FLORIDA - TAMPA',\n",
              "       'BANK OF FLORIDA - SOUTHWEST', 'BANK OF FLORIDA - SOUTHEAST',\n",
              "       'PINEHURST BANK', 'MIDWEST BANK AND TRUST COMPANY',\n",
              "       'SOUTHWEST COMMUNITY BANK', 'NEW LIBERTY BANK',\n",
              "       'SATILLA COMMUNITY BANK', '1ST PACIFIC BANK OF CALIFORNIA',\n",
              "       'TOWNE BANK OF ARIZONA', 'ACCESS BANK', 'THE BANK OF BONIFAY',\n",
              "       'BC NATIONAL BANKS', 'CHAMPION BANK', 'CF BANCORP',\n",
              "       'WESTERNBANK PUERTO RICO', 'R-G PREMIER BANK OF PUERTO RICO',\n",
              "       'EUROBANK', 'WHEATLAND BANK', 'PEOTONE BANK AND TRUST COMPANY',\n",
              "       'LINCOLN PARK SAVINGS BANK', 'NEW CENTURY BANK',\n",
              "       'CITIZENS BANK AND TRUST COMPANY OF CHICAGO', 'BROADWAY BANK',\n",
              "       'AMCORE BANK, NATIONAL ASSOCIATION', 'CITY BANK', 'TAMALPAIS BANK',\n",
              "       'INNOVATIVE BANK', 'BUTLER BANK',\n",
              "       'RIVERSIDE NATIONAL BANK OF FLORIDA', 'AMERICANFIRST BANK',\n",
              "       'FIRST FEDERAL BANK OF NORTH FLORIDA', 'LAKESIDE COMMUNITY BANK',\n",
              "       'BEACH FIRST NATIONAL BANK', 'DESERT HILLS BANK',\n",
              "       'UNITY NATIONAL BANK', 'KEY WEST BANK', 'MCINTOSH COMMERCIAL BANK',\n",
              "       'STATE BANK OF AURORA', 'FIRST LOWNDES BANK', 'BANK OF HIAWASSEE',\n",
              "       'APPALACHIAN COMMUNITY BANK', 'ADVANTA BANK CORP.',\n",
              "       'CENTURY SECURITY BANK', 'AMERICAN NATIONAL BANK',\n",
              "       'STATEWIDE BANK', 'OLD SOUTHERN BANK', 'LIBERTYPOINTE BANK',\n",
              "       'CENTENNIAL BANK', 'WATERFIELD BANK', 'BANK OF ILLINOIS',\n",
              "       'SUN AMERICAN BANK', 'RAINIER PACIFIC BANK',\n",
              "       'CARSON RIVER COMMUNITY BANK', 'LA JOLLA BANK, FSB',\n",
              "       'GEORGE WASHINGTON SAVINGS BANK', 'THE LA COSTE NATIONAL BANK',\n",
              "       'MARCO COMMUNITY BANK', '1ST AMERICAN STATE BANK OF MINNESOTA',\n",
              "       'AMERICAN MARINE BANK', 'FIRST REGIONAL BANK',\n",
              "       'COMMUNITY BANK AND TRUST', 'MARSHALL BANK, N.A.',\n",
              "       'FLORIDA COMMUNITY BANK', 'FIRST NATIONAL BANK OF GEORGIA',\n",
              "       'COLUMBIA RIVER BANK', 'EVERGREEN BANK', 'CHARTER BANK',\n",
              "       'BANK OF LEETON', 'PREMIER AMERICAN BANK',\n",
              "       'BARNES BANKING COMPANY', 'ST. STEPHEN STATE BANK',\n",
              "       'TOWN COMMUNITY BANK & TRUST',\n",
              "       'FIRST FEDERAL BANK OF CALIFORNIA, F.S.B.',\n",
              "       'IMPERIAL CAPITAL BANK', \"INDEPENDENT BANKERS' BANK\",\n",
              "       'NEW SOUTH FEDERAL SAVINGS BANK', 'CITIZENS STATE BANK',\n",
              "       'PEOPLES FIRST COMMUNITY BANK', 'ROCKBRIDGE COMMERCIAL BANK',\n",
              "       'SOLUTIONSBANK', 'VALLEY CAPITAL BANK, N.A.',\n",
              "       'REPUBLIC FEDERAL BANK, N.A.', 'GREATER ATLANTIC BANK',\n",
              "       'BENCHMARK BANK', 'AMTRUST BANK', 'THE TATTNALL BANK',\n",
              "       'FIRST SECURITY NATIONAL BANK', 'THE BUCKHEAD COMMUNITY BANK',\n",
              "       'COMMERCE BANK OF SOUTHWEST FLORIDA',\n",
              "       'PACIFIC COAST NATIONAL BANK', 'ORION BANK',\n",
              "       'CENTURY BANK, F.S.B.', 'UNITED COMMERCIAL BANK',\n",
              "       'GATEWAY BANK OF ST. LOUIS', 'PROSPERAN BANK',\n",
              "       'HOME FEDERAL SAVINGS BANK', 'UNITED SECURITY BANK',\n",
              "       'NORTH HOUSTON BANK', 'MADISONVILLE STATE BANK',\n",
              "       'CITIZENS NATIONAL BANK', 'PARK NATIONAL BANK',\n",
              "       'PACIFIC NATIONAL BANK', 'CALIFORNIA NATIONAL BANK',\n",
              "       'SAN DIEGO NATIONAL BANK', 'COMMUNITY BANK OF LEMONT',\n",
              "       'BANK USA, N.A.', 'FIRST DUPAGE BANK', 'RIVERVIEW COMMUNITY BANK',\n",
              "       'BANK OF ELMWOOD', 'FLAGSHIP NATIONAL BANK',\n",
              "       'HILLCREST BANK FLORIDA', 'AMERICAN UNITED BANK', 'PARTNERS BANK',\n",
              "       'SAN JOAQUIN BANK', 'SOUTHERN COLORADO NATIONAL BANK',\n",
              "       'JENNINGS STATE BANK', 'WARREN BANK', 'GEORGIAN BANK',\n",
              "       'IRWIN UNION BANK, F.S.B.', 'IRWIN UNION BANK AND TRUST COMPANY',\n",
              "       'VENTURE BANK', 'BRICKWELL COMMUNITY BANK', 'CORUS BANK, N.A.',\n",
              "       'PLATINUM COMMUNITY BANK', 'VANTUS BANK', 'INBANK',\n",
              "       'FIRST BANK OF KANSAS CITY', 'AFFINITY BANK', 'MAINSTREET BANK',\n",
              "       'BRADFORD BANK', 'GUARANTY BANK', 'CAPITALSOUTH BANK',\n",
              "       'FIRST COWETA BANK', 'EBANK', 'COMMUNITY BANK OF NEVADA',\n",
              "       'COMMUNITY BANK OF ARIZONA', 'UNION BANK, NATIONAL ASSOCIATION',\n",
              "       'COLONIAL BANK', 'DWELLING HOUSE SAVINGS AND LOAN ASSOCIATION',\n",
              "       'COMMUNITY FIRST BANK',\n",
              "       'COMMUNITY NATIONAL BANK OF SARASOTA COUNTY', 'MUTUAL BANK',\n",
              "       'FIRST BANKAMERICANO', 'PEOPLES COMMUNITY BANK', 'INTEGRITY BANK',\n",
              "       'FIRST STATE BANK OF ALTUS', 'SECURITY BANK OF JONES COUNTY',\n",
              "       'SECURITY BANK OF HOUSTON COUNTY', 'SECURITY BANK OF BIBB COUNTY',\n",
              "       'SECURITY BANK OF NORTH METRO', 'SECURITY BANK OF NORTH FULTON',\n",
              "       'SECURITY BANK OF GWINNETT COUNTY', 'WATERFORD VILLAGE BANK',\n",
              "       'TEMECULA VALLEY BANK', 'VINEYARD BANK', 'BANKFIRST',\n",
              "       'FIRST PIEDMONT BANK', 'BANK OF WYOMING', 'FOUNDERS BANK',\n",
              "       'MILLENNIUM STATE BANK OF TEXAS',\n",
              "       'FIRST NATIONAL BANK OF DANVILLE', 'THE ELIZABETH STATE BANK',\n",
              "       'ROCK RIVER BANK', 'FIRST STATE BANK OF WINCHESTER',\n",
              "       'JOHN WARNER BANK', 'MIRAE BANK', 'METROPACIFIC BANK',\n",
              "       'NEIGHBORHOOD COMMUNITY BANK', 'COMMUNITY BANK OF WEST GEORGIA',\n",
              "       'FIRST NATIONAL BANK OF ANTHONY', 'COOPERATIVE BANK',\n",
              "       'SOUTHERN COMMUNITY BANK', 'BANK OF LINCOLNWOOD',\n",
              "       'STRATEGIC CAPITAL BANK', 'BANKUNITED, FSB', 'WESTSOUND BANK',\n",
              "       'AMERICA WEST BANK', 'CITIZENS COMMUNITY BANK',\n",
              "       'SILVERTON BANK, NA', 'FIRST BANK OF IDAHO',\n",
              "       'FIRST BANK OF BEVERLY HILLS', 'MICHIGAN HERITAGE BANK',\n",
              "       'AMERICAN SOUTHERN BANK', 'GREAT BASIN BANK OF NEVADA',\n",
              "       'AMERICAN STERLING BANK', 'NEW FRONTIER BANK', 'CAPE FEAR BANK',\n",
              "       'OMNI NATIONAL BANK', 'TEAMBANK, NA', 'COLORADO NATIONAL BANK',\n",
              "       'FIRSTCITY BANK', 'FREEDOM BANK OF GEORGIA',\n",
              "       'SECURITY SAVINGS BANK', 'HERITAGE COMMUNITY BANK',\n",
              "       'SILVER FALLS BANK', 'PINNACLE BANK OF OREGON',\n",
              "       'CORN BELT BANK & TRUST CO.', 'RIVERSIDE BANK OF THE GULF COAST',\n",
              "       'SHERMAN COUNTY BANK', 'COUNTY BANK', 'ALLIANCE BANK',\n",
              "       'FIRSTBANK FINANCIAL SERVICES', 'OCALA NATIONAL BANK',\n",
              "       'SUBURBAN FSB', 'MAGNETBANK', '1ST CENTENNIAL BANK',\n",
              "       'BANK OF CLARK COUNTY', 'NATIONAL BANK OF COMMERCE',\n",
              "       'SANDERSON STATE BANK', 'HAVEN TRUST BANK',\n",
              "       'FIRST GEORGIA COMMUNITY BANK', 'PFF BANK & TRUST',\n",
              "       'DOWNEY SAVINGS & LOAN', 'COMMUNITY BANK', 'SECURITY PACIFIC BANK',\n",
              "       'FRANKLIN BANK, SSB', 'FREEDOM BANK', 'ALPHA BANK & TRUST',\n",
              "       'MERIDIAN BANK', 'MAIN STREET BANK',\n",
              "       'WASHINGTON MUTUAL BANK, (INCLUDING ITS SUBSIDIARY WASHINGTON MUTUAL BANK FSB)',\n",
              "       'AMERIBANK', 'SILVER STATE BANK', 'COLUMBIAN BANK & TRUST',\n",
              "       'FIRST PRIORITY BANK', 'FIRST HERITAGE BANK, NA',\n",
              "       'FIRST NATIONAL BANK OF NEVADA', 'INDYMAC BANK',\n",
              "       'FIRST INTEGRITY BANK, NA', 'ANB FINANCIAL, NA', 'HUME BANK',\n",
              "       'DOUGLASS NATIONAL BANK', 'MIAMI VALLEY BANK', 'NETBANK',\n",
              "       'METROPOLITAN SAVINGS BANK', 'BANK OF EPHRAIM', 'RELIANCE BANK',\n",
              "       'GUARANTY NATIONAL BANK OF TALLAHASSEE', 'DOLLAR SAVINGS BANK',\n",
              "       'PULASKI SAVINGS BANK', 'FIRST NATIONAL BANK OF BLANCHARDVILLE',\n",
              "       'SOUTHERN PACIFIC BANK', 'FARMERS BANK OF CHENEYVILLE',\n",
              "       'BANK OF ALAMO', 'AMTRADE INTERNATIONAL BANK',\n",
              "       'UNIVERSAL FEDERAL SAVINGS BANK', 'CONNECTICUT BANK OF COMMERCE',\n",
              "       'NET 1ST NATIONAL BANK', 'NEXTBANK, NA',\n",
              "       'OAKWOOD DEPOSIT BANK CO.', 'BANK OF SIERRA BLANCA',\n",
              "       'HAMILTON BANK, NA', 'SINCLAIR NATIONAL BANK',\n",
              "       'SUPERIOR BANK, FSB', 'MALTA NATIONAL BANK',\n",
              "       'FIRST ALLIANCE BANK & TRUST CO.',\n",
              "       'NATIONAL STATE BANK OF METROPOLIS', 'BANK OF HONOLULU'],\n",
              "      dtype=object)"
            ]
          },
          "metadata": {
            "tags": []
          },
          "execution_count": 32
        }
      ]
    },
    {
      "cell_type": "code",
      "metadata": {
        "id": "w7Ues2rXET5W",
        "colab_type": "code",
        "colab": {
          "base_uri": "https://localhost:8080/",
          "height": 1000
        },
        "outputId": "58739f6a-bb30-4490-9da7-788ecd36104f"
      },
      "source": [
        "df_banks['acq'] = df_banks['Acquiring Institution'].str.upper()\n",
        "df_banks['acq'].unique()"
      ],
      "execution_count": 34,
      "outputs": [
        {
          "output_type": "execute_result",
          "data": {
            "text/plain": [
              "array(['LEGEND BANK, N. A.', 'ROYAL SAVINGS BANK', 'CONWAY BANK',\n",
              "       'UNITED FIDELITY BANK, FSB', 'FIRST-CITIZENS BANK & TRUST COMPANY',\n",
              "       'WHITNEY BANK', 'CACHE VALLEY BANK', 'STATE BANK OF TEXAS',\n",
              "       \"TODAY'S BANK\", 'UNITED BANK', 'THE BANK OF FAYETTE COUNTY',\n",
              "       'TWIN CITY BANK', 'FIDELITY BANK', 'REPUBLIC BANK OF CHICAGO',\n",
              "       'BANCO POPULAR DE PUERTO RICO', 'FIRST NBC BANK', 'BANKVISTA',\n",
              "       'BANK OF SOUTHERN CALIFORNIA, N.A.', 'HOWARD BANK',\n",
              "       'PROVIDENCE BANK, LLC', 'COMMUNITY & SOUTHERN BANK',\n",
              "       'ALVA STATE BANK & TRUST COMPANY',\n",
              "       'LANDMARK BANK, NATIONAL ASSOCIATION', 'GREAT SOUTHERN BANK',\n",
              "       'BAY BANK, FSB', 'PALMETTO STATE BANK', 'FIRST CHOICE BANK',\n",
              "       'WASHINGTONFIRST BANK', 'SUNWEST BANK', 'BANCFIRST',\n",
              "       'SPIRIT OF TEXAS BANK, SSB', 'FIRST FEDERAL BANK OF FLORIDA',\n",
              "       'PLAINSCAPITAL BANK', 'NO ACQUIRER',\n",
              "       'FIRST FIDELITY BANK, NATIONAL ASSOCIATION', 'CB&S BANK, INC.',\n",
              "       'NICOLET NATIONAL BANK', 'C1 BANK',\n",
              "       'FIRST TENNESSEE BANK, NATIONAL ASSOCIATION', 'PLAZA BANK',\n",
              "       'NORTH SHORE BANK, FSB', 'WESTERN STATE BANK', 'SYNOVUS BANK',\n",
              "       'CAPITAL BANK, N.A.', 'HAMILTON STATE BANK',\n",
              "       'CERTUSBANK, NATIONAL ASSOCIATION', 'FIRSTATLANTIC BANK',\n",
              "       'YOUR COMMUNITY BANK',\n",
              "       'FIRST SCOTTSDALE BANK, NATIONAL ASSOCIATION',\n",
              "       'HERITAGEBANK OF THE SOUTH', 'LIBERTY BANK AND TRUST COMPANY',\n",
              "       'FIRST MINNESOTA BANK', 'BANK OF SULLIVAN',\n",
              "       'HEARTLAND BANK AND TRUST COMPANY', 'CENTENNIAL BANK',\n",
              "       'SIMMONS FIRST NATIONAL BANK', 'STEARNS BANK N.A.', 'SMARTBANK',\n",
              "       'OLD PLANK TRAIL COMMUNITY BANK, NATIONAL ASSOCIATION',\n",
              "       'REPUBLIC BANK & TRUST COMPANY', 'FIRST MIDWEST BANK',\n",
              "       'HINSDALE BANK & TRUST COMPANY', 'METCALF BANK',\n",
              "       'FIRST NATIONAL BANK OF THE GULF COAST', 'REGIONAL MISSOURI BANK',\n",
              "       'AMERIS BANK', 'CLAYTON BANK AND TRUST', 'HARBOR COMMUNITY BANK',\n",
              "       'FIRST COMMUNITY BANK', 'FIRST STATE BANK',\n",
              "       'BANK OF NORTH CAROLINA', 'F & M BANK', 'SOUTHERN STATES BANK',\n",
              "       'BANESCO USA', 'PACIFIC PREMIER BANK', 'FIRST FEDERAL BANK',\n",
              "       'SONABANK', 'ALMA BANK', 'THE HUNTINGTON NATIONAL BANK',\n",
              "       'INTERNATIONAL BANK OF CHICAGO', 'STEARNS BANK, N.A.',\n",
              "       'METRO CITY BANK', 'FIRST MERCHANTS BANK, NATIONAL ASSOCIATION',\n",
              "       'BARRINGTON BANK & TRUST COMPANY, NATIONAL ASSOCIATION',\n",
              "       'U.S. BANK, N.A.', 'FIRST RESOURCE BANK',\n",
              "       'CENTERSTATE BANK OF FLORIDA, N.A.', 'WASHINGTON FEDERAL',\n",
              "       'SUMMIT BANK', 'GRINNELL STATE BANK', 'CENTURY BANK OF GEORGIA',\n",
              "       'PREMIER BANK', 'BANK MIDWEST, N.A.',\n",
              "       'STATE BANK AND TRUST COMPANY', '1ST UNITED BANK',\n",
              "       'BLACKHAWK BANK & TRUST', 'NORTHFIELD BANK', 'CENTRAL BANK',\n",
              "       'AMERICAN FIRST NATIONAL BANK', 'TRI COUNTIES BANK',\n",
              "       'SOUTHERN BANK AND TRUST COMPANY', 'CHARTERBANK',\n",
              "       'GEORGIA COMMERCE BANK', 'INLAND BANK & TRUST',\n",
              "       'HERITAGE BANK OF THE SOUTH', 'SABADELL UNITED BANK, N.A.',\n",
              "       'ENTERPRISE BANK & TRUST', 'COLUMBIA STATE BANK',\n",
              "       'OLD NATIONAL BANK', 'SCBT NATIONAL ASSOCIATION', 'XENITH BANK',\n",
              "       'AMERICAN MOMENTUM BANK', 'THE FOOTHILLS BANK',\n",
              "       'PREMIER AMERICAN BANK, N.A.', 'POINTS WEST COMMUNITY BANK',\n",
              "       'NORTHBROOK BANK & TRUST COMPANY',\n",
              "       'FIRST AMERICAN BANK AND TRUST COMPANY', 'STONEGATE BANK',\n",
              "       'FIRST CITIZENS BANK AND TRUST COMPANY, INC.',\n",
              "       'FLORIDA COMMUNITY BANK, A DIVISION OF PREMIER AMERICAN BANK, N.A.',\n",
              "       'TALMER BANK & TRUST', 'BANK OF THE OZARKS',\n",
              "       'TRUSTMARK NATIONAL BANK', 'SUPERIOR BANK, NATIONAL ASSOCIATION',\n",
              "       'ALOSTAR BANK OF COMMERCE', 'CITIZENS SOUTH BANK',\n",
              "       'CITY NATIONAL BANK', 'ADVANTAGE NATIONAL BANK GROUP',\n",
              "       'SEAWAY BANK AND TRUST COMPANY', 'THE PAULS VALLEY NATIONAL BANK',\n",
              "       'FIRST CALIFORNIA BANK', 'BANK OF MARIN', 'ROYAL BANK',\n",
              "       'FIRST MICHIGAN BANK', 'BANKSOUTH', 'RENASANT BANK',\n",
              "       'MCFARLAND STATE BANK', 'BANK 7', 'FIRST BANK',\n",
              "       'FIRST SOUTHERN BANK', 'FARMERS & MERCHANTS SAVINGS BANK',\n",
              "       'SOUTHERN BANK', 'PEOPLES BANK OF EAST TENNESSEE', 'POLONIA BANK',\n",
              "       'LEVEL ONE BANK', 'VIST BANK', 'GRANDPOINT BANK', 'HERITAGE BANK',\n",
              "       'MANUFACTURERS AND TRADERS TRUST COMPANY (M&T BANK)',\n",
              "       'HILLCREST BANK, N.A.', 'MORRIS BANK', 'BAY CITIES BANK',\n",
              "       'PROVIDENCE BANK', 'MIDLAND STATES BANK', 'GBC INTERNATIONAL BANK',\n",
              "       'WHIDBEY ISLAND BANK', 'FOUNDATION BANK', 'CUSTOMERS BANK',\n",
              "       'WESTAMERICA BANK', 'PACIFIC WESTERN BANK', 'RABOBANK, N.A.',\n",
              "       'URBAN PARTNERSHIP BANK', 'RIVER COMMUNITY BANK, N.A.',\n",
              "       'HOME FEDERAL BANK', 'SOUTH VALLEY BANK & TRUST', 'ROUNDBANK',\n",
              "       'THE BENNINGTON STATE BANK', 'IBERIABANK', 'COMMERCIAL BANK',\n",
              "       'NAFH NATIONAL BANK', 'RCB BANK', 'NEW CENTURY BANK',\n",
              "       'FIRST AMERICAN BANK', 'THE SAVANNAH BANK, N.A.', 'UMPQUA BANK',\n",
              "       'EAST WEST BANK', 'GREAT WESTERN BANK', 'THE JEFFERSON BANK',\n",
              "       'EVERBANK', 'COULEE BANK', 'FIRSTMERIT BANK, N.A.',\n",
              "       'BANK OF ANN ARBOR', 'COMMERCE BANK OF ARIZONA', 'PRINSBANK',\n",
              "       'UNION BANK, N.A.', 'COMMUNITY FIRST BANK', 'BANKLIBERTY',\n",
              "       'SCOTIABANK DE PUERTO RICO', 'ORIENTAL BANK AND TRUST',\n",
              "       'WHEATON BANK & TRUST', 'MB FINANCIAL BANK, N.A.', 'HARRIS N.A.',\n",
              "       'CENTER BANK', \"PEOPLE'S UNITED BANK\", 'TD BANK, N.A.',\n",
              "       'NEW YORK COMMUNITY BANK', 'NORTHERN STATE BANK',\n",
              "       'FIRST CITIZENS BANK', 'BANK OF UPSON',\n",
              "       'THE NATIONAL BANK AND TRUST COMPANY', 'HOME BANK',\n",
              "       'VALLEY NATIONAL BANK', 'HERITAGE BANK OF NEVADA',\n",
              "       'ONEWEST BANK, FSB', 'COMMUNITY NATIONAL BANK',\n",
              "       'MUTUAL OF OMAHA BANK', 'COMMUNITY DEVELOPMENT BANK, FSB',\n",
              "       'UNITED VALLEY BANK', 'CHARTER BANK', 'SUNFLOWER BANK, N.A.',\n",
              "       'FIRST STATE BANK OF ST. JOSEPH',\n",
              "       'WASHINGTON FEDERAL SAVINGS AND LOAN ASSOCIATION',\n",
              "       'THE INDEPENDENT BANKERSBANK (TIB)', 'BEAL BANK', 'HANCOCK BANK',\n",
              "       'ARVEST BANK', 'CENTRAL BANK OF KANSAS CITY',\n",
              "       'ALERUS FINANCIAL, N.A.', 'U.S. BANK N.A.',\n",
              "       'TRI CITY NATIONAL BANK', 'CITIZENS BUSINESS BANK', 'LEGACY BANK',\n",
              "       'FIRST FINANCIAL BANK, N.A.', 'CORTRUST BANK N.A.',\n",
              "       'GREAT AMERICAN BANK', 'BBVA COMPASS', 'MIDFIRST BANK',\n",
              "       'BRANCH BANKING & TRUST COMPANY, (BB&T)', 'PNC BANK, N.A.',\n",
              "       'UNITED CENTRAL BANK', 'CROWN BANK', 'HERRING BANK',\n",
              "       'EVANS BANK, N.A.', 'CALIFORNIA BANK & TRUST',\n",
              "       'CENTRAL BANK & TRUST', 'THE PRIVATEBANK AND TRUST COMPANY',\n",
              "       'GALENA STATE BANK AND TRUST COMPANY', 'THE HARVARD STATE BANK',\n",
              "       'THE FIRST NATIONAL BANK OF BEARDSTOWN', 'STATE BANK OF LINCOLN',\n",
              "       'WILSHIRE STATE BANK', 'BANK OF KANSAS', 'UNITED COMMUNITY BANK',\n",
              "       'MORTON COMMUNITY BANK', 'BANKUNITED', 'KITSAP BANK',\n",
              "       'NORTH JERSEY COMMUNITY BANK', 'BANK OF NORTH GEORGIA',\n",
              "       'NEVADA STATE BANK', 'FIRST FEDERAL SAVINGS AND LOAN ASSOCIATION',\n",
              "       'NORTHEAST GEORGIA BANK', 'BANK OF NEVADA', 'CITIZENS BANK',\n",
              "       'WASHINGTON TRUST BANK OF SPOKANE',\n",
              "       'THE CARLINVILLE NATIONAL BANK', 'TIB BANK', 'REGIONS BANK',\n",
              "       'BANK OF ESSEX', 'THE PECOS COUNTY STATE BANK', 'PROSPERITY BANK',\n",
              "       'FIFTH THIRD BANK', 'NATIONAL BANK', 'MONROE BANK & TRUST',\n",
              "       'JP MORGAN CHASE BANK',\n",
              "       'THE CITIZENS SAVINGS BANK, PIONEER COMMUNITY BANK, INC.',\n",
              "       'CITIZENS BANK & TRUST', 'SUNTRUST BANK',\n",
              "       'FIRST INTERNATIONAL BANK AND TRUST',\n",
              "       'PULASKI BANK AND TRUST COMPANY', 'SECURITY BANK',\n",
              "       'THE CITIZENS BANKING COMPANY', 'ING DIRECT',\n",
              "       'ALLEGHENY VALLEY BANK OF PITTSBURGH', 'FAR WEST BANK',\n",
              "       'UNION STATE BANK', 'HANCOCK BANK OF FLORIDA', 'EARTHSTAR BANK',\n",
              "       'THE PARK BANK', 'SABINE STATE BANK & TRUST',\n",
              "       'CHICAGO COMMUNITY BANK', 'HUDSON UNITED BANK', 'BANK LEUMI USA',\n",
              "       'THE STATE BANK & TRUST COMPANY',\n",
              "       'THE SECURITY STATE BANK OF PECOS',\n",
              "       'ISRAEL DISCOUNT BANK OF NEW YORK', 'DELTA TRUST & BANK',\n",
              "       'SUPERIOR FEDERAL, FSB', 'NORTH VALLEY BANK',\n",
              "       'SOUTHERN NEW HAMPSHIRE BANK & TRUST', 'BANTERRA BANK OF MARION',\n",
              "       'BANK OF THE ORIENT'], dtype=object)"
            ]
          },
          "metadata": {
            "tags": []
          },
          "execution_count": 34
        }
      ]
    },
    {
      "cell_type": "code",
      "metadata": {
        "id": "nlLziHPgKoHR",
        "colab_type": "code",
        "outputId": "97a96908-f576-4d02-ade9-4eaad17c486c",
        "colab": {
          "base_uri": "https://localhost:8080/",
          "height": 138
        }
      },
      "source": [
        "df1 = (pd.merge(df_banks, df, how='inner',\n",
        "                left_on='bnk',\n",
        "                right_on='comp'\n",
        "               ))\n",
        "print(df1.shape)\n",
        "df1.head()\n",
        "\n",
        "# didn't find anything for the failed banks"
      ],
      "execution_count": 35,
      "outputs": [
        {
          "output_type": "stream",
          "text": [
            "(0, 33)\n"
          ],
          "name": "stdout"
        },
        {
          "output_type": "execute_result",
          "data": {
            "text/html": [
              "<div>\n",
              "<style scoped>\n",
              "    .dataframe tbody tr th:only-of-type {\n",
              "        vertical-align: middle;\n",
              "    }\n",
              "\n",
              "    .dataframe tbody tr th {\n",
              "        vertical-align: top;\n",
              "    }\n",
              "\n",
              "    .dataframe thead th {\n",
              "        text-align: right;\n",
              "    }\n",
              "</style>\n",
              "<table border=\"1\" class=\"dataframe\">\n",
              "  <thead>\n",
              "    <tr style=\"text-align: right;\">\n",
              "      <th></th>\n",
              "      <th>Bank Name</th>\n",
              "      <th>City</th>\n",
              "      <th>ST</th>\n",
              "      <th>CERT</th>\n",
              "      <th>Acquiring Institution</th>\n",
              "      <th>Closing Date</th>\n",
              "      <th>Updated Date</th>\n",
              "      <th>closingdate</th>\n",
              "      <th>updateddate</th>\n",
              "      <th>bnk</th>\n",
              "      <th>acq</th>\n",
              "      <th>Date received</th>\n",
              "      <th>Product</th>\n",
              "      <th>Sub-product</th>\n",
              "      <th>Issue</th>\n",
              "      <th>Sub-issue</th>\n",
              "      <th>Consumer complaint narrative</th>\n",
              "      <th>Company public response</th>\n",
              "      <th>Company</th>\n",
              "      <th>State</th>\n",
              "      <th>ZIP code</th>\n",
              "      <th>Tags</th>\n",
              "      <th>Consumer consent provided?</th>\n",
              "      <th>Submitted via</th>\n",
              "      <th>Date sent to company</th>\n",
              "      <th>Company response to consumer</th>\n",
              "      <th>Timely response?</th>\n",
              "      <th>Consumer disputed?</th>\n",
              "      <th>Complaint ID</th>\n",
              "      <th>datereceived</th>\n",
              "      <th>datesent</th>\n",
              "      <th>comp</th>\n",
              "      <th>new</th>\n",
              "    </tr>\n",
              "  </thead>\n",
              "  <tbody>\n",
              "  </tbody>\n",
              "</table>\n",
              "</div>"
            ],
            "text/plain": [
              "Empty DataFrame\n",
              "Columns: [Bank Name, City, ST, CERT, Acquiring Institution, Closing Date, Updated Date, closingdate, updateddate, bnk, acq, Date received, Product, Sub-product, Issue, Sub-issue, Consumer complaint narrative, Company public response, Company, State, ZIP code, Tags, Consumer consent provided?, Submitted via, Date sent to company, Company response to consumer, Timely response?, Consumer disputed?, Complaint ID, datereceived, datesent, comp, new]\n",
              "Index: []"
            ]
          },
          "metadata": {
            "tags": []
          },
          "execution_count": 35
        }
      ]
    },
    {
      "cell_type": "code",
      "metadata": {
        "id": "qZAFrBVuEeih",
        "colab_type": "code",
        "colab": {
          "base_uri": "https://localhost:8080/",
          "height": 371
        },
        "outputId": "84f2fe00-c7f4-4ad3-f6d7-39f2a48d685d"
      },
      "source": [
        "df2 = (pd.merge(df_banks, df, how='inner',\n",
        "                left_on='acq',\n",
        "                right_on='comp'\n",
        "               ))\n",
        "print(df2.shape)\n",
        "df2.head(2)\n",
        "\n",
        "# there are some complaints about the Acquiring Institutions"
      ],
      "execution_count": 36,
      "outputs": [
        {
          "output_type": "stream",
          "text": [
            "(5666, 33)\n"
          ],
          "name": "stdout"
        },
        {
          "output_type": "execute_result",
          "data": {
            "text/html": [
              "<div>\n",
              "<style scoped>\n",
              "    .dataframe tbody tr th:only-of-type {\n",
              "        vertical-align: middle;\n",
              "    }\n",
              "\n",
              "    .dataframe tbody tr th {\n",
              "        vertical-align: top;\n",
              "    }\n",
              "\n",
              "    .dataframe thead th {\n",
              "        text-align: right;\n",
              "    }\n",
              "</style>\n",
              "<table border=\"1\" class=\"dataframe\">\n",
              "  <thead>\n",
              "    <tr style=\"text-align: right;\">\n",
              "      <th></th>\n",
              "      <th>Bank Name</th>\n",
              "      <th>City</th>\n",
              "      <th>ST</th>\n",
              "      <th>CERT</th>\n",
              "      <th>Acquiring Institution</th>\n",
              "      <th>Closing Date</th>\n",
              "      <th>Updated Date</th>\n",
              "      <th>closingdate</th>\n",
              "      <th>updateddate</th>\n",
              "      <th>bnk</th>\n",
              "      <th>acq</th>\n",
              "      <th>Date received</th>\n",
              "      <th>Product</th>\n",
              "      <th>Sub-product</th>\n",
              "      <th>Issue</th>\n",
              "      <th>Sub-issue</th>\n",
              "      <th>Consumer complaint narrative</th>\n",
              "      <th>Company public response</th>\n",
              "      <th>Company</th>\n",
              "      <th>State</th>\n",
              "      <th>ZIP code</th>\n",
              "      <th>Tags</th>\n",
              "      <th>Consumer consent provided?</th>\n",
              "      <th>Submitted via</th>\n",
              "      <th>Date sent to company</th>\n",
              "      <th>Company response to consumer</th>\n",
              "      <th>Timely response?</th>\n",
              "      <th>Consumer disputed?</th>\n",
              "      <th>Complaint ID</th>\n",
              "      <th>datereceived</th>\n",
              "      <th>datesent</th>\n",
              "      <th>comp</th>\n",
              "      <th>new</th>\n",
              "    </tr>\n",
              "  </thead>\n",
              "  <tbody>\n",
              "    <tr>\n",
              "      <th>0</th>\n",
              "      <td>Doral Bank</td>\n",
              "      <td>San Juan</td>\n",
              "      <td>PR</td>\n",
              "      <td>32102</td>\n",
              "      <td>Banco Popular de Puerto Rico</td>\n",
              "      <td>27-Feb-15</td>\n",
              "      <td>29-Jan-19</td>\n",
              "      <td>2015-02-27</td>\n",
              "      <td>2019-01-29</td>\n",
              "      <td>DORAL BANK</td>\n",
              "      <td>BANCO POPULAR DE PUERTO RICO</td>\n",
              "      <td>06/18/2019</td>\n",
              "      <td>Money transfer, virtual currency, or money ser...</td>\n",
              "      <td>International money transfer</td>\n",
              "      <td>Fraud or scam</td>\n",
              "      <td>NaN</td>\n",
              "      <td>NaN</td>\n",
              "      <td>NaN</td>\n",
              "      <td>BANCO POPULAR DE PUERTO RICO</td>\n",
              "      <td>TX</td>\n",
              "      <td>NaN</td>\n",
              "      <td>Older American</td>\n",
              "      <td>NaN</td>\n",
              "      <td>Web</td>\n",
              "      <td>06/18/2019</td>\n",
              "      <td>Closed with explanation</td>\n",
              "      <td>Yes</td>\n",
              "      <td>NaN</td>\n",
              "      <td>3278572</td>\n",
              "      <td>2019-06-18</td>\n",
              "      <td>2019-06-18</td>\n",
              "      <td>BANCO POPULAR DE PUERTO RICO</td>\n",
              "      <td>Money transfer, virtual currency, or money ser...</td>\n",
              "    </tr>\n",
              "    <tr>\n",
              "      <th>1</th>\n",
              "      <td>Doral Bank</td>\n",
              "      <td>San Juan</td>\n",
              "      <td>PR</td>\n",
              "      <td>32102</td>\n",
              "      <td>Banco Popular de Puerto Rico</td>\n",
              "      <td>27-Feb-15</td>\n",
              "      <td>29-Jan-19</td>\n",
              "      <td>2015-02-27</td>\n",
              "      <td>2019-01-29</td>\n",
              "      <td>DORAL BANK</td>\n",
              "      <td>BANCO POPULAR DE PUERTO RICO</td>\n",
              "      <td>06/12/2019</td>\n",
              "      <td>Debt collection</td>\n",
              "      <td>Auto debt</td>\n",
              "      <td>False statements or representation</td>\n",
              "      <td>Indicated you were committing crime by not pay...</td>\n",
              "      <td>NaN</td>\n",
              "      <td>Company has responded to the consumer and the ...</td>\n",
              "      <td>BANCO POPULAR DE PUERTO RICO</td>\n",
              "      <td>FL</td>\n",
              "      <td>34741</td>\n",
              "      <td>NaN</td>\n",
              "      <td>Consent not provided</td>\n",
              "      <td>Web</td>\n",
              "      <td>06/12/2019</td>\n",
              "      <td>Closed with explanation</td>\n",
              "      <td>Yes</td>\n",
              "      <td>NaN</td>\n",
              "      <td>3272924</td>\n",
              "      <td>2019-06-12</td>\n",
              "      <td>2019-06-12</td>\n",
              "      <td>BANCO POPULAR DE PUERTO RICO</td>\n",
              "      <td>Debt collection</td>\n",
              "    </tr>\n",
              "  </tbody>\n",
              "</table>\n",
              "</div>"
            ],
            "text/plain": [
              "    Bank Name      City  ST   CERT         Acquiring Institution Closing Date  \\\n",
              "0  Doral Bank  San Juan  PR  32102  Banco Popular de Puerto Rico    27-Feb-15   \n",
              "1  Doral Bank  San Juan  PR  32102  Banco Popular de Puerto Rico    27-Feb-15   \n",
              "\n",
              "  Updated Date closingdate updateddate         bnk  \\\n",
              "0    29-Jan-19  2015-02-27  2019-01-29  DORAL BANK   \n",
              "1    29-Jan-19  2015-02-27  2019-01-29  DORAL BANK   \n",
              "\n",
              "                            acq Date received  \\\n",
              "0  BANCO POPULAR DE PUERTO RICO    06/18/2019   \n",
              "1  BANCO POPULAR DE PUERTO RICO    06/12/2019   \n",
              "\n",
              "                                             Product  \\\n",
              "0  Money transfer, virtual currency, or money ser...   \n",
              "1                                    Debt collection   \n",
              "\n",
              "                    Sub-product                               Issue  \\\n",
              "0  International money transfer                       Fraud or scam   \n",
              "1                     Auto debt  False statements or representation   \n",
              "\n",
              "                                           Sub-issue  \\\n",
              "0                                                NaN   \n",
              "1  Indicated you were committing crime by not pay...   \n",
              "\n",
              "  Consumer complaint narrative  \\\n",
              "0                          NaN   \n",
              "1                          NaN   \n",
              "\n",
              "                             Company public response  \\\n",
              "0                                                NaN   \n",
              "1  Company has responded to the consumer and the ...   \n",
              "\n",
              "                        Company State ZIP code            Tags  \\\n",
              "0  BANCO POPULAR DE PUERTO RICO    TX      NaN  Older American   \n",
              "1  BANCO POPULAR DE PUERTO RICO    FL    34741             NaN   \n",
              "\n",
              "  Consumer consent provided? Submitted via Date sent to company  \\\n",
              "0                        NaN           Web           06/18/2019   \n",
              "1       Consent not provided           Web           06/12/2019   \n",
              "\n",
              "  Company response to consumer Timely response? Consumer disputed?  \\\n",
              "0      Closed with explanation              Yes                NaN   \n",
              "1      Closed with explanation              Yes                NaN   \n",
              "\n",
              "   Complaint ID datereceived   datesent                          comp  \\\n",
              "0       3278572   2019-06-18 2019-06-18  BANCO POPULAR DE PUERTO RICO   \n",
              "1       3272924   2019-06-12 2019-06-12  BANCO POPULAR DE PUERTO RICO   \n",
              "\n",
              "                                                 new  \n",
              "0  Money transfer, virtual currency, or money ser...  \n",
              "1                                    Debt collection  "
            ]
          },
          "metadata": {
            "tags": []
          },
          "execution_count": 36
        }
      ]
    },
    {
      "cell_type": "code",
      "metadata": {
        "id": "cT1vR8-FE7yq",
        "colab_type": "code",
        "colab": {
          "base_uri": "https://localhost:8080/",
          "height": 418
        },
        "outputId": "9ae28a10-56d1-41e3-ab96-9a5b9b343ff7"
      },
      "source": [
        "(df2.groupby(by='Acquiring Institution')\n",
        "    .agg({\"Complaint ID\": pd.Series.nunique})\n",
        "    .sort_values(\"Complaint ID\", ascending=False)\n",
        ")"
      ],
      "execution_count": 37,
      "outputs": [
        {
          "output_type": "execute_result",
          "data": {
            "text/html": [
              "<div>\n",
              "<style scoped>\n",
              "    .dataframe tbody tr th:only-of-type {\n",
              "        vertical-align: middle;\n",
              "    }\n",
              "\n",
              "    .dataframe tbody tr th {\n",
              "        vertical-align: top;\n",
              "    }\n",
              "\n",
              "    .dataframe thead th {\n",
              "        text-align: right;\n",
              "    }\n",
              "</style>\n",
              "<table border=\"1\" class=\"dataframe\">\n",
              "  <thead>\n",
              "    <tr style=\"text-align: right;\">\n",
              "      <th></th>\n",
              "      <th>Complaint ID</th>\n",
              "    </tr>\n",
              "    <tr>\n",
              "      <th>Acquiring Institution</th>\n",
              "      <th></th>\n",
              "    </tr>\n",
              "  </thead>\n",
              "  <tbody>\n",
              "    <tr>\n",
              "      <th>Banco Popular de Puerto Rico</th>\n",
              "      <td>763</td>\n",
              "    </tr>\n",
              "    <tr>\n",
              "      <th>Synovus Bank</th>\n",
              "      <td>672</td>\n",
              "    </tr>\n",
              "    <tr>\n",
              "      <th>New York Community Bank</th>\n",
              "      <td>489</td>\n",
              "    </tr>\n",
              "    <tr>\n",
              "      <th>MidFirst Bank</th>\n",
              "      <td>307</td>\n",
              "    </tr>\n",
              "    <tr>\n",
              "      <th>IBERIABANK</th>\n",
              "      <td>226</td>\n",
              "    </tr>\n",
              "    <tr>\n",
              "      <th>Old National Bank</th>\n",
              "      <td>109</td>\n",
              "    </tr>\n",
              "    <tr>\n",
              "      <th>East West Bank</th>\n",
              "      <td>102</td>\n",
              "    </tr>\n",
              "    <tr>\n",
              "      <th>First Midwest Bank</th>\n",
              "      <td>79</td>\n",
              "    </tr>\n",
              "    <tr>\n",
              "      <th>City National Bank</th>\n",
              "      <td>68</td>\n",
              "    </tr>\n",
              "    <tr>\n",
              "      <th>Pacific Western Bank</th>\n",
              "      <td>19</td>\n",
              "    </tr>\n",
              "    <tr>\n",
              "      <th>United Community Bank</th>\n",
              "      <td>14</td>\n",
              "    </tr>\n",
              "  </tbody>\n",
              "</table>\n",
              "</div>"
            ],
            "text/plain": [
              "                              Complaint ID\n",
              "Acquiring Institution                     \n",
              "Banco Popular de Puerto Rico           763\n",
              "Synovus Bank                           672\n",
              "New York Community Bank                489\n",
              "MidFirst Bank                          307\n",
              "IBERIABANK                             226\n",
              "Old National Bank                      109\n",
              "East West Bank                         102\n",
              "First Midwest Bank                      79\n",
              "City National Bank                      68\n",
              "Pacific Western Bank                    19\n",
              "United Community Bank                   14"
            ]
          },
          "metadata": {
            "tags": []
          },
          "execution_count": 37
        }
      ]
    },
    {
      "cell_type": "code",
      "metadata": {
        "id": "IG3A9Y0ZGrtg",
        "colab_type": "code",
        "colab": {
          "base_uri": "https://localhost:8080/",
          "height": 357
        },
        "outputId": "c2bbfc8d-969c-4c10-b9d0-4555c7c90050"
      },
      "source": [
        "(df2.groupby(by='new')\n",
        "    .agg({\"Complaint ID\": pd.Series.nunique})\n",
        "    .sort_values(\"Complaint ID\", ascending=False)\n",
        ")"
      ],
      "execution_count": 38,
      "outputs": [
        {
          "output_type": "execute_result",
          "data": {
            "text/html": [
              "<div>\n",
              "<style scoped>\n",
              "    .dataframe tbody tr th:only-of-type {\n",
              "        vertical-align: middle;\n",
              "    }\n",
              "\n",
              "    .dataframe tbody tr th {\n",
              "        vertical-align: top;\n",
              "    }\n",
              "\n",
              "    .dataframe thead th {\n",
              "        text-align: right;\n",
              "    }\n",
              "</style>\n",
              "<table border=\"1\" class=\"dataframe\">\n",
              "  <thead>\n",
              "    <tr style=\"text-align: right;\">\n",
              "      <th></th>\n",
              "      <th>Complaint ID</th>\n",
              "    </tr>\n",
              "    <tr>\n",
              "      <th>new</th>\n",
              "      <th></th>\n",
              "    </tr>\n",
              "  </thead>\n",
              "  <tbody>\n",
              "    <tr>\n",
              "      <th>Mortgage</th>\n",
              "      <td>1059</td>\n",
              "    </tr>\n",
              "    <tr>\n",
              "      <th>Checking or savings account</th>\n",
              "      <td>993</td>\n",
              "    </tr>\n",
              "    <tr>\n",
              "      <th>Credit card or prepaid card</th>\n",
              "      <td>423</td>\n",
              "    </tr>\n",
              "    <tr>\n",
              "      <th>Credit reporting, credit repair services, or other personal consumer reports</th>\n",
              "      <td>160</td>\n",
              "    </tr>\n",
              "    <tr>\n",
              "      <th>Debt collection</th>\n",
              "      <td>104</td>\n",
              "    </tr>\n",
              "    <tr>\n",
              "      <th>Payday loan, title loan, or personal loan</th>\n",
              "      <td>55</td>\n",
              "    </tr>\n",
              "    <tr>\n",
              "      <th>Money transfer, virtual currency, or money service</th>\n",
              "      <td>26</td>\n",
              "    </tr>\n",
              "    <tr>\n",
              "      <th>Vehicle loan or lease</th>\n",
              "      <td>26</td>\n",
              "    </tr>\n",
              "    <tr>\n",
              "      <th>Student loan</th>\n",
              "      <td>2</td>\n",
              "    </tr>\n",
              "  </tbody>\n",
              "</table>\n",
              "</div>"
            ],
            "text/plain": [
              "                                                    Complaint ID\n",
              "new                                                             \n",
              "Mortgage                                                    1059\n",
              "Checking or savings account                                  993\n",
              "Credit card or prepaid card                                  423\n",
              "Credit reporting, credit repair services, or ot...           160\n",
              "Debt collection                                              104\n",
              "Payday loan, title loan, or personal loan                     55\n",
              "Money transfer, virtual currency, or money service            26\n",
              "Vehicle loan or lease                                         26\n",
              "Student loan                                                   2"
            ]
          },
          "metadata": {
            "tags": []
          },
          "execution_count": 38
        }
      ]
    },
    {
      "cell_type": "markdown",
      "metadata": {
        "id": "JivNdKNjRLnd",
        "colab_type": "text"
      },
      "source": [
        "# Result: didn't find much information from the Failed Bank List."
      ]
    }
  ]
}