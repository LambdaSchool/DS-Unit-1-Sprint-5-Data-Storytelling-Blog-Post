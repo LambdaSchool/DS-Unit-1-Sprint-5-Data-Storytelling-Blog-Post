{
  "nbformat": 4,
  "nbformat_minor": 0,
  "metadata": {
    "colab": {
      "name": "fdic-failed-bank-list.ipynb",
      "version": "0.3.2",
      "provenance": [],
      "collapsed_sections": [],
      "include_colab_link": true
    },
    "kernelspec": {
      "name": "python3",
      "display_name": "Python 3"
    }
  },
  "cells": [
    {
      "cell_type": "markdown",
      "metadata": {
        "id": "view-in-github",
        "colab_type": "text"
      },
      "source": [
        "<a href=\"https://colab.research.google.com/github/Nov05/DS-Unit-1-Sprint-5-Data-Storytelling-Blog-Post/blob/master/fdic_failed_bank_list.ipynb\" target=\"_parent\"><img src=\"https://colab.research.google.com/assets/colab-badge.svg\" alt=\"Open In Colab\"/></a>"
      ]
    },
    {
      "cell_type": "code",
      "metadata": {
        "id": "8gg-MFXa7E4i",
        "colab_type": "code",
        "colab": {}
      },
      "source": [
        "# created by nov05 on 2019-06-24"
      ],
      "execution_count": 0,
      "outputs": []
    },
    {
      "cell_type": "markdown",
      "metadata": {
        "id": "T5V3pdDUHtEs",
        "colab_type": "text"
      },
      "source": [
        "**Failed Bank List (Since October 1, 2000)**  \n",
        "The FDIC is often appointed as receiver for failed banks. This page contains useful information for the customers and vendors of these banks. This includes information on the acquiring bank (if applicable), how your accounts and loans are affected, and how vendors can file claims against the receivership.\n",
        "\n",
        "**Bank Failures in Brief**  \n",
        "Brief summary of each bank failure from 2001 to the present.\n",
        "\n",
        "**Bank Failures and Assistance Data**  \n",
        "A complete look at bank failures and assistance transactions of FDIC-insured institutions from 1934 to the present. The data is updated after a bank failure or assistance transaction."
      ]
    },
    {
      "cell_type": "code",
      "metadata": {
        "id": "T_Xi-pcy62cz",
        "colab_type": "code",
        "colab": {}
      },
      "source": [
        "import pandas as pd\n",
        "import numpy as np\n",
        "import matplotlib.pyplot as plt\n",
        "import seaborn as sns\n",
        "from datetime import datetime"
      ],
      "execution_count": 0,
      "outputs": []
    },
    {
      "cell_type": "markdown",
      "metadata": {
        "id": "jAXauGVm86ml",
        "colab_type": "text"
      },
      "source": [
        "https://catalog.data.gov/dataset/fdic-failed-bank-list  \n",
        "https://docs.python.org/3/howto/unicode.html#the-string-type  "
      ]
    },
    {
      "cell_type": "code",
      "metadata": {
        "id": "6RWkvqJf7K6E",
        "colab_type": "code",
        "colab": {}
      },
      "source": [
        "# url=\"http://www.fdic.gov/bank/individual/failed/banklist_utf8.csv\"\n",
        "url = \"https://drive.google.com/uc?id=16R-U0x0Cc3tt4UfzmtvTy3z7rjdW8AkJ\"\n",
        "df = pd.read_csv(url, encoding='8859') # seriously? 8859?"
      ],
      "execution_count": 0,
      "outputs": []
    },
    {
      "cell_type": "code",
      "metadata": {
        "id": "J-ezIgB5-kWq",
        "colab_type": "code",
        "colab": {
          "base_uri": "https://localhost:8080/",
          "height": 220
        },
        "outputId": "e757d32a-0cbf-4a11-af79-e1d2c541a1d1"
      },
      "source": [
        "print(df.shape)\n",
        "df.head()"
      ],
      "execution_count": 5,
      "outputs": [
        {
          "output_type": "stream",
          "text": [
            "(556, 7)\n"
          ],
          "name": "stdout"
        },
        {
          "output_type": "execute_result",
          "data": {
            "text/html": [
              "<div>\n",
              "<style scoped>\n",
              "    .dataframe tbody tr th:only-of-type {\n",
              "        vertical-align: middle;\n",
              "    }\n",
              "\n",
              "    .dataframe tbody tr th {\n",
              "        vertical-align: top;\n",
              "    }\n",
              "\n",
              "    .dataframe thead th {\n",
              "        text-align: right;\n",
              "    }\n",
              "</style>\n",
              "<table border=\"1\" class=\"dataframe\">\n",
              "  <thead>\n",
              "    <tr style=\"text-align: right;\">\n",
              "      <th></th>\n",
              "      <th>Bank Name</th>\n",
              "      <th>City</th>\n",
              "      <th>ST</th>\n",
              "      <th>CERT</th>\n",
              "      <th>Acquiring Institution</th>\n",
              "      <th>Closing Date</th>\n",
              "      <th>Updated Date</th>\n",
              "    </tr>\n",
              "  </thead>\n",
              "  <tbody>\n",
              "    <tr>\n",
              "      <th>0</th>\n",
              "      <td>The Enloe State Bank</td>\n",
              "      <td>Cooper</td>\n",
              "      <td>TX</td>\n",
              "      <td>10716</td>\n",
              "      <td>Legend Bank, N. A.</td>\n",
              "      <td>31-May-19</td>\n",
              "      <td>18-Jun-19</td>\n",
              "    </tr>\n",
              "    <tr>\n",
              "      <th>1</th>\n",
              "      <td>Washington Federal Bank for Savings</td>\n",
              "      <td>Chicago</td>\n",
              "      <td>IL</td>\n",
              "      <td>30570</td>\n",
              "      <td>Royal Savings Bank</td>\n",
              "      <td>15-Dec-17</td>\n",
              "      <td>1-Feb-19</td>\n",
              "    </tr>\n",
              "    <tr>\n",
              "      <th>2</th>\n",
              "      <td>The Farmers and Merchants State Bank of Argonia</td>\n",
              "      <td>Argonia</td>\n",
              "      <td>KS</td>\n",
              "      <td>17719</td>\n",
              "      <td>Conway Bank</td>\n",
              "      <td>13-Oct-17</td>\n",
              "      <td>21-Feb-18</td>\n",
              "    </tr>\n",
              "    <tr>\n",
              "      <th>3</th>\n",
              "      <td>Fayette County Bank</td>\n",
              "      <td>Saint Elmo</td>\n",
              "      <td>IL</td>\n",
              "      <td>1802</td>\n",
              "      <td>United Fidelity Bank, fsb</td>\n",
              "      <td>26-May-17</td>\n",
              "      <td>29-Jan-19</td>\n",
              "    </tr>\n",
              "    <tr>\n",
              "      <th>4</th>\n",
              "      <td>Guaranty Bank, (d/b/a BestBank in Georgia &amp; Mi...</td>\n",
              "      <td>Milwaukee</td>\n",
              "      <td>WI</td>\n",
              "      <td>30003</td>\n",
              "      <td>First-Citizens Bank &amp; Trust Company</td>\n",
              "      <td>5-May-17</td>\n",
              "      <td>22-Mar-18</td>\n",
              "    </tr>\n",
              "  </tbody>\n",
              "</table>\n",
              "</div>"
            ],
            "text/plain": [
              "                                           Bank Name  ... Updated Date\n",
              "0                               The Enloe State Bank  ...    18-Jun-19\n",
              "1                Washington Federal Bank for Savings  ...     1-Feb-19\n",
              "2    The Farmers and Merchants State Bank of Argonia  ...    21-Feb-18\n",
              "3                                Fayette County Bank  ...    29-Jan-19\n",
              "4  Guaranty Bank, (d/b/a BestBank in Georgia & Mi...  ...    22-Mar-18\n",
              "\n",
              "[5 rows x 7 columns]"
            ]
          },
          "metadata": {
            "tags": []
          },
          "execution_count": 5
        }
      ]
    },
    {
      "cell_type": "code",
      "metadata": {
        "id": "agxZQLb9--MQ",
        "colab_type": "code",
        "colab": {
          "base_uri": "https://localhost:8080/",
          "height": 156
        },
        "outputId": "07fd5b9e-e3d2-4b94-c36f-f4b6417a19f3"
      },
      "source": [
        "# check NAs\n",
        "df.isnull().sum()"
      ],
      "execution_count": 6,
      "outputs": [
        {
          "output_type": "execute_result",
          "data": {
            "text/plain": [
              "Bank Name                0\n",
              "City                     0\n",
              "ST                       0\n",
              "CERT                     0\n",
              "Acquiring Institution    0\n",
              "Closing Date             0\n",
              "Updated Date             0\n",
              "dtype: int64"
            ]
          },
          "metadata": {
            "tags": []
          },
          "execution_count": 6
        }
      ]
    },
    {
      "cell_type": "code",
      "metadata": {
        "id": "HTm9q_LWFp83",
        "colab_type": "code",
        "colab": {
          "base_uri": "https://localhost:8080/",
          "height": 220
        },
        "outputId": "edfd482b-d822-4c3f-ff42-bb2eaa8c4450"
      },
      "source": [
        "# There are fifty states in the U.S.\n",
        "cert_per_state = df.groupby('ST')['CERT'].nunique().reset_index()\n",
        "cert_per_state.sort_values(by='CERT', ascending=False, inplace=True)\n",
        "print(cert_per_state.shape)\n",
        "cert_per_state.head()"
      ],
      "execution_count": 7,
      "outputs": [
        {
          "output_type": "stream",
          "text": [
            "(44, 2)\n"
          ],
          "name": "stdout"
        },
        {
          "output_type": "execute_result",
          "data": {
            "text/html": [
              "<div>\n",
              "<style scoped>\n",
              "    .dataframe tbody tr th:only-of-type {\n",
              "        vertical-align: middle;\n",
              "    }\n",
              "\n",
              "    .dataframe tbody tr th {\n",
              "        vertical-align: top;\n",
              "    }\n",
              "\n",
              "    .dataframe thead th {\n",
              "        text-align: right;\n",
              "    }\n",
              "</style>\n",
              "<table border=\"1\" class=\"dataframe\">\n",
              "  <thead>\n",
              "    <tr style=\"text-align: right;\">\n",
              "      <th></th>\n",
              "      <th>ST</th>\n",
              "      <th>CERT</th>\n",
              "    </tr>\n",
              "  </thead>\n",
              "  <tbody>\n",
              "    <tr>\n",
              "      <th>7</th>\n",
              "      <td>GA</td>\n",
              "      <td>93</td>\n",
              "    </tr>\n",
              "    <tr>\n",
              "      <th>6</th>\n",
              "      <td>FL</td>\n",
              "      <td>75</td>\n",
              "    </tr>\n",
              "    <tr>\n",
              "      <th>11</th>\n",
              "      <td>IL</td>\n",
              "      <td>69</td>\n",
              "    </tr>\n",
              "    <tr>\n",
              "      <th>3</th>\n",
              "      <td>CA</td>\n",
              "      <td>41</td>\n",
              "    </tr>\n",
              "    <tr>\n",
              "      <th>19</th>\n",
              "      <td>MN</td>\n",
              "      <td>23</td>\n",
              "    </tr>\n",
              "  </tbody>\n",
              "</table>\n",
              "</div>"
            ],
            "text/plain": [
              "    ST  CERT\n",
              "7   GA    93\n",
              "6   FL    75\n",
              "11  IL    69\n",
              "3   CA    41\n",
              "19  MN    23"
            ]
          },
          "metadata": {
            "tags": []
          },
          "execution_count": 7
        }
      ]
    },
    {
      "cell_type": "code",
      "metadata": {
        "id": "hEFB1cAFW09R",
        "colab_type": "code",
        "colab": {
          "base_uri": "https://localhost:8080/",
          "height": 221
        },
        "outputId": "5a5da483-a6c0-40ea-aee3-fc6e27eac509"
      },
      "source": [
        "plt.style.use('seaborn-darkgrid')\n",
        "fig, ax = plt.subplots(1,1, figsize=(15, 3))\n",
        "sns.barplot(x='ST', y='CERT', data=cert_per_state,\n",
        "            color='black'\n",
        "           );"
      ],
      "execution_count": 8,
      "outputs": [
        {
          "output_type": "display_data",
          "data": {
            "image/png": "[encoded data removed]",
            "text/plain": [
              "<Figure size 1080x216 with 1 Axes>"
            ]
          },
          "metadata": {
            "tags": []
          }
        }
      ]
    },
    {
      "cell_type": "code",
      "metadata": {
        "id": "0CbAiaKOX9Ro",
        "colab_type": "code",
        "colab": {
          "base_uri": "https://localhost:8080/",
          "height": 220
        },
        "outputId": "bd32d5e5-6721-42ae-9f4e-e408769cfb4d"
      },
      "source": [
        "cert_per_acq = df.groupby('Acquiring Institution')['CERT'].nunique().reset_index()\n",
        "cert_per_acq.sort_values(by='CERT', ascending=False, inplace=True)\n",
        "print(cert_per_acq.shape)\n",
        "cert_per_acq.head()"
      ],
      "execution_count": 9,
      "outputs": [
        {
          "output_type": "stream",
          "text": [
            "(291, 2)\n"
          ],
          "name": "stdout"
        },
        {
          "output_type": "execute_result",
          "data": {
            "text/html": [
              "<div>\n",
              "<style scoped>\n",
              "    .dataframe tbody tr th:only-of-type {\n",
              "        vertical-align: middle;\n",
              "    }\n",
              "\n",
              "    .dataframe tbody tr th {\n",
              "        vertical-align: top;\n",
              "    }\n",
              "\n",
              "    .dataframe thead th {\n",
              "        text-align: right;\n",
              "    }\n",
              "</style>\n",
              "<table border=\"1\" class=\"dataframe\">\n",
              "  <thead>\n",
              "    <tr style=\"text-align: right;\">\n",
              "      <th></th>\n",
              "      <th>Acquiring Institution</th>\n",
              "      <th>CERT</th>\n",
              "    </tr>\n",
              "  </thead>\n",
              "  <tbody>\n",
              "    <tr>\n",
              "      <th>171</th>\n",
              "      <td>No Acquirer</td>\n",
              "      <td>31</td>\n",
              "    </tr>\n",
              "    <tr>\n",
              "      <th>226</th>\n",
              "      <td>State Bank and Trust Company</td>\n",
              "      <td>12</td>\n",
              "    </tr>\n",
              "    <tr>\n",
              "      <th>112</th>\n",
              "      <td>First-Citizens Bank &amp; Trust Company</td>\n",
              "      <td>11</td>\n",
              "    </tr>\n",
              "    <tr>\n",
              "      <th>9</th>\n",
              "      <td>Ameris Bank</td>\n",
              "      <td>10</td>\n",
              "    </tr>\n",
              "    <tr>\n",
              "      <th>266</th>\n",
              "      <td>U.S. Bank N.A.</td>\n",
              "      <td>9</td>\n",
              "    </tr>\n",
              "  </tbody>\n",
              "</table>\n",
              "</div>"
            ],
            "text/plain": [
              "                   Acquiring Institution  CERT\n",
              "171                          No Acquirer    31\n",
              "226         State Bank and Trust Company    12\n",
              "112  First-Citizens Bank & Trust Company    11\n",
              "9                            Ameris Bank    10\n",
              "266                       U.S. Bank N.A.     9"
            ]
          },
          "metadata": {
            "tags": []
          },
          "execution_count": 9
        }
      ]
    },
    {
      "cell_type": "code",
      "metadata": {
        "id": "G3g0_tn6dENV",
        "colab_type": "code",
        "colab": {
          "base_uri": "https://localhost:8080/",
          "height": 211
        },
        "outputId": "87dca02f-9e23-4d62-c9ba-257138b6706a"
      },
      "source": [
        "plt.style.use('seaborn-darkgrid')\n",
        "fig, ax = plt.subplots(1,1, figsize=(16, 3))\n",
        "g = sns.barplot(x='Acquiring Institution', y='CERT', \n",
        "               data=cert_per_acq[1:70],\n",
        "               color='black'\n",
        "               )\n",
        "g.set(xticklabels=[]);"
      ],
      "execution_count": 18,
      "outputs": [
        {
          "output_type": "display_data",
          "data": {
            "image/png": "[encoded data removed]",
            "text/plain": [
              "<Figure size 1152x216 with 1 Axes>"
            ]
          },
          "metadata": {
            "tags": []
          }
        }
      ]
    },
    {
      "cell_type": "code",
      "metadata": {
        "id": "ZECTDTthcVcY",
        "colab_type": "code",
        "colab": {
          "base_uri": "https://localhost:8080/",
          "height": 110
        },
        "outputId": "78865d7f-7789-4ca6-97cc-035b62b3abe9"
      },
      "source": [
        "# convert datetime 31-May-19\n",
        "df[\"closingdate\"] = pd.to_datetime(df[\"Closing Date\"], \n",
        "                                   format=\"%d-%b-%y\")\n",
        "df[\"updateddate\"] = pd.to_datetime(df[\"Updated Date\"], \n",
        "                                   format=\"%d-%b-%y\")\n",
        "df.sample(2)"
      ],
      "execution_count": 23,
      "outputs": [
        {
          "output_type": "execute_result",
          "data": {
            "text/html": [
              "<div>\n",
              "<style scoped>\n",
              "    .dataframe tbody tr th:only-of-type {\n",
              "        vertical-align: middle;\n",
              "    }\n",
              "\n",
              "    .dataframe tbody tr th {\n",
              "        vertical-align: top;\n",
              "    }\n",
              "\n",
              "    .dataframe thead th {\n",
              "        text-align: right;\n",
              "    }\n",
              "</style>\n",
              "<table border=\"1\" class=\"dataframe\">\n",
              "  <thead>\n",
              "    <tr style=\"text-align: right;\">\n",
              "      <th></th>\n",
              "      <th>Bank Name</th>\n",
              "      <th>City</th>\n",
              "      <th>ST</th>\n",
              "      <th>CERT</th>\n",
              "      <th>Acquiring Institution</th>\n",
              "      <th>Closing Date</th>\n",
              "      <th>Updated Date</th>\n",
              "      <th>closingdate</th>\n",
              "      <th>updateddate</th>\n",
              "    </tr>\n",
              "  </thead>\n",
              "  <tbody>\n",
              "    <tr>\n",
              "      <th>334</th>\n",
              "      <td>Statewide Bank</td>\n",
              "      <td>Covington</td>\n",
              "      <td>LA</td>\n",
              "      <td>29561</td>\n",
              "      <td>Home Bank</td>\n",
              "      <td>12-Mar-10</td>\n",
              "      <td>31-Jan-19</td>\n",
              "      <td>2010-03-12</td>\n",
              "      <td>2019-01-31</td>\n",
              "    </tr>\n",
              "    <tr>\n",
              "      <th>345</th>\n",
              "      <td>George Washington Savings Bank</td>\n",
              "      <td>Orland Park</td>\n",
              "      <td>IL</td>\n",
              "      <td>29952</td>\n",
              "      <td>FirstMerit Bank, N.A.</td>\n",
              "      <td>19-Feb-10</td>\n",
              "      <td>31-Jan-19</td>\n",
              "      <td>2010-02-19</td>\n",
              "      <td>2019-01-31</td>\n",
              "    </tr>\n",
              "  </tbody>\n",
              "</table>\n",
              "</div>"
            ],
            "text/plain": [
              "                          Bank Name         City  ... closingdate  updateddate\n",
              "334                  Statewide Bank    Covington  ...  2010-03-12   2019-01-31\n",
              "345  George Washington Savings Bank  Orland Park  ...  2010-02-19   2019-01-31\n",
              "\n",
              "[2 rows x 9 columns]"
            ]
          },
          "metadata": {
            "tags": []
          },
          "execution_count": 23
        }
      ]
    },
    {
      "cell_type": "code",
      "metadata": {
        "id": "ReRDKCzJObr1",
        "colab_type": "code",
        "colab": {
          "base_uri": "https://localhost:8080/",
          "height": 234
        },
        "outputId": "178bf929-f446-489c-9e60-7566fc3cb7a8"
      },
      "source": [
        "# check date range\n",
        "df.describe(exclude=np.number)"
      ],
      "execution_count": 25,
      "outputs": [
        {
          "output_type": "execute_result",
          "data": {
            "text/html": [
              "<div>\n",
              "<style scoped>\n",
              "    .dataframe tbody tr th:only-of-type {\n",
              "        vertical-align: middle;\n",
              "    }\n",
              "\n",
              "    .dataframe tbody tr th {\n",
              "        vertical-align: top;\n",
              "    }\n",
              "\n",
              "    .dataframe thead th {\n",
              "        text-align: right;\n",
              "    }\n",
              "</style>\n",
              "<table border=\"1\" class=\"dataframe\">\n",
              "  <thead>\n",
              "    <tr style=\"text-align: right;\">\n",
              "      <th></th>\n",
              "      <th>Bank Name</th>\n",
              "      <th>City</th>\n",
              "      <th>ST</th>\n",
              "      <th>Acquiring Institution</th>\n",
              "      <th>Closing Date</th>\n",
              "      <th>Updated Date</th>\n",
              "      <th>closingdate</th>\n",
              "      <th>updateddate</th>\n",
              "    </tr>\n",
              "  </thead>\n",
              "  <tbody>\n",
              "    <tr>\n",
              "      <th>count</th>\n",
              "      <td>556</td>\n",
              "      <td>556</td>\n",
              "      <td>556</td>\n",
              "      <td>556</td>\n",
              "      <td>556</td>\n",
              "      <td>556</td>\n",
              "      <td>556</td>\n",
              "      <td>556</td>\n",
              "    </tr>\n",
              "    <tr>\n",
              "      <th>unique</th>\n",
              "      <td>540</td>\n",
              "      <td>427</td>\n",
              "      <td>44</td>\n",
              "      <td>291</td>\n",
              "      <td>252</td>\n",
              "      <td>113</td>\n",
              "      <td>252</td>\n",
              "      <td>113</td>\n",
              "    </tr>\n",
              "    <tr>\n",
              "      <th>top</th>\n",
              "      <td>Horizon Bank</td>\n",
              "      <td>Chicago</td>\n",
              "      <td>GA</td>\n",
              "      <td>No Acquirer</td>\n",
              "      <td>30-Oct-09</td>\n",
              "      <td>29-Jan-19</td>\n",
              "      <td>2009-10-30 00:00:00</td>\n",
              "      <td>2019-01-29 00:00:00</td>\n",
              "    </tr>\n",
              "    <tr>\n",
              "      <th>freq</th>\n",
              "      <td>3</td>\n",
              "      <td>20</td>\n",
              "      <td>93</td>\n",
              "      <td>31</td>\n",
              "      <td>9</td>\n",
              "      <td>97</td>\n",
              "      <td>9</td>\n",
              "      <td>97</td>\n",
              "    </tr>\n",
              "    <tr>\n",
              "      <th>first</th>\n",
              "      <td>NaN</td>\n",
              "      <td>NaN</td>\n",
              "      <td>NaN</td>\n",
              "      <td>NaN</td>\n",
              "      <td>NaN</td>\n",
              "      <td>NaN</td>\n",
              "      <td>2000-10-13 00:00:00</td>\n",
              "      <td>2002-11-18 00:00:00</td>\n",
              "    </tr>\n",
              "    <tr>\n",
              "      <th>last</th>\n",
              "      <td>NaN</td>\n",
              "      <td>NaN</td>\n",
              "      <td>NaN</td>\n",
              "      <td>NaN</td>\n",
              "      <td>NaN</td>\n",
              "      <td>NaN</td>\n",
              "      <td>2019-05-31 00:00:00</td>\n",
              "      <td>2019-06-19 00:00:00</td>\n",
              "    </tr>\n",
              "  </tbody>\n",
              "</table>\n",
              "</div>"
            ],
            "text/plain": [
              "           Bank Name     City  ...          closingdate          updateddate\n",
              "count            556      556  ...                  556                  556\n",
              "unique           540      427  ...                  252                  113\n",
              "top     Horizon Bank  Chicago  ...  2009-10-30 00:00:00  2019-01-29 00:00:00\n",
              "freq               3       20  ...                    9                   97\n",
              "first            NaN      NaN  ...  2000-10-13 00:00:00  2002-11-18 00:00:00\n",
              "last             NaN      NaN  ...  2019-05-31 00:00:00  2019-06-19 00:00:00\n",
              "\n",
              "[6 rows x 8 columns]"
            ]
          },
          "metadata": {
            "tags": []
          },
          "execution_count": 25
        }
      ]
    },
    {
      "cell_type": "code",
      "metadata": {
        "id": "5DwEOTp_Pq1i",
        "colab_type": "code",
        "colab": {
          "base_uri": "https://localhost:8080/",
          "height": 156
        },
        "outputId": "78d2fb07-7c1c-4cc3-c546-61b312cb8f9b"
      },
      "source": [
        "df_days = (df['updateddate']-df['closingdate']).dt.days\n",
        "print(type(df_days))\n",
        "df_days[:6]"
      ],
      "execution_count": 53,
      "outputs": [
        {
          "output_type": "stream",
          "text": [
            "<class 'pandas.core.series.Series'>\n"
          ],
          "name": "stdout"
        },
        {
          "output_type": "execute_result",
          "data": {
            "text/plain": [
              "0     18\n",
              "1    413\n",
              "2    131\n",
              "3    613\n",
              "4    321\n",
              "5    641\n",
              "dtype: int64"
            ]
          },
          "metadata": {
            "tags": []
          },
          "execution_count": 53
        }
      ]
    },
    {
      "cell_type": "code",
      "metadata": {
        "id": "v4aNI90GO3Z0",
        "colab_type": "code",
        "colab": {
          "base_uri": "https://localhost:8080/",
          "height": 276
        },
        "outputId": "d1bced42-f75c-4cdd-9583-33cfcdbc644f"
      },
      "source": [
        "# how many years after the closing date the info would be upated\n",
        "sns.distplot(df_days/365);\n",
        "plt.xlabel('years');"
      ],
      "execution_count": 54,
      "outputs": [
        {
          "output_type": "display_data",
          "data": {
            "image/png": "[encoded data removed]",
            "text/plain": [
              "<Figure size 432x288 with 1 Axes>"
            ]
          },
          "metadata": {
            "tags": []
          }
        }
      ]
    },
    {
      "cell_type": "code",
      "metadata": {
        "id": "lXNmZPZ-SVlS",
        "colab_type": "code",
        "colab": {
          "base_uri": "https://localhost:8080/",
          "height": 276
        },
        "outputId": "eb08550a-1449-447d-eafb-297aec99414a"
      },
      "source": [
        "# how long the bank has been closed\n",
        "df_days = (datetime.now()-df['closingdate']).dt.days\n",
        "sns.distplot(df_days/365)\n",
        "plt.xlabel('years');\n",
        "plt.axvline((df_days/365).median());\n",
        "plt.axvline((df_days/365).mean(), color='red');"
      ],
      "execution_count": 61,
      "outputs": [
        {
          "output_type": "display_data",
          "data": {
            "image/png": "[encoded data removed]",
            "text/plain": [
              "<Figure size 432x288 with 1 Axes>"
            ]
          },
          "metadata": {
            "tags": []
          }
        }
      ]
    }
  ]
}