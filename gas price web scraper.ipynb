{
 "cells": [
  {
   "cell_type": "code",
   "execution_count": null,
   "metadata": {},
   "outputs": [],
   "source": [
    "from bs4 import BeautifulSoup as bs\n",
    "import requests"
   ]
  },
  {
   "cell_type": "code",
   "execution_count": null,
   "metadata": {},
   "outputs": [],
   "source": [
    "zips = [\"75248\",\n",
    "       '75082',\n",
    "       '75210']\n",
    "baseurl= 'https://www.autoblog.com/'\n",
    "#base_rl = 'http://www.autoblog.com/75248-gas-prices/'"
   ]
  },
  {
   "cell_type": "code",
   "execution_count": null,
   "metadata": {},
   "outputs": [],
   "source": [
    "from time import sleep \n",
    "addresses = []\n",
    "station_ids = []\n",
    "prices = []\n",
    "date = []\n",
    "\n",
    "for zipcode in data['ZipCode'].astype('str'):\n",
    "    #First page of price in zip\n",
    "    url = baseurl + zipcode + '-gas-prices/'\n",
    "    page = requests.get(url, headers ={\"referer\": 'https://www.autoblog.com/cheap-gas-prices/'}).text\n",
    "    soup = bs(page)\n",
    "#get furtherest distance\n",
    "    d=[float(tag['value']) for tag in soup.find_all('data', {'class': 'distance'})][-1]\n",
    "    i=1\n",
    "    \n",
    "    while d <=10:\n",
    "        print(f\"pulled data\\t {zipcode} \\tPage {i}\")\n",
    "#update address set\n",
    "        addresses.extend(tag.text for tag in soup.find_all('address'))\n",
    "    #pull stations with in ten mile radius of zipcode    \n",
    "        station_ids.extend(tag.find_previous_sibling('h4').text for tag in soup.find_all('address'))\n",
    "    #price of regular gas\n",
    "        prices.extend(float(tag['value']) for tag in soup.find_all('data', {'class': 'price'}))\n",
    "    #date\n",
    "        date.extend(tag.text for tag in soup.find_all('time'))\n",
    "        sleep(3)\n",
    "    #go to next page\n",
    "        new_url = baseurl + soup.find('div', {'class': 'pagi-nav pagi-next'}).find('a')['href'][1:]\n",
    "        page = requests.get(new_url, headers = {\"referer\":url}).text\n",
    "        soup = bs(page)\n",
    "       \n",
    "        d=[float(tag['value']) for tag in soup.find_all('data', {'class': 'distance'})][-1]\n",
    "        i +=1\n",
    "        url = new_url\n",
    "\n",
    "#data structure:\n",
    "#address, station name/id, price of reg gas, last udpated\n"
   ]
  }
 ],
 "metadata": {
  "kernelspec": {
   "display_name": "Python 3",
   "language": "python",
   "name": "python3"
  },
  "language_info": {
   "codemirror_mode": {
    "name": "ipython",
    "version": 3
   },
   "file_extension": ".py",
   "mimetype": "text/x-python",
   "name": "python",
   "nbconvert_exporter": "python",
   "pygments_lexer": "ipython3",
   "version": "3.7.0"
  }
 },
 "nbformat": 4,
 "nbformat_minor": 2
}
