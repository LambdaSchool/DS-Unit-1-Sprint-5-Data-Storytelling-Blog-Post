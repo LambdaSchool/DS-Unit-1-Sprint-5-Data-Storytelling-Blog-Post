{
 "cells": [
  {
   "cell_type": "code",
   "execution_count": 1,
   "metadata": {},
   "outputs": [],
   "source": [
    "#Wrangling imports\n",
    "import pandas as pd\n",
    "import glob\n",
    "import numpy as np\n",
    "from datetime import datetime\n",
    "import re\n",
    "from scipy import stats\n",
    "\n",
    "#Graphing imports\n",
    "import seaborn as sns\n",
    "import matplotlib.pyplot as plt\n",
    "import plotly.plotly as py\n",
    "import plotly.graph_objs as go\n",
    "\n",
    "pd.set_option('display.max_columns', 50)"
   ]
  },
  {
   "cell_type": "markdown",
   "metadata": {},
   "source": [
    "## Data wrangling"
   ]
  },
  {
   "cell_type": "code",
   "execution_count": 2,
   "metadata": {},
   "outputs": [],
   "source": [
    "path = \"/Users/ridleyleisy/Documents/lambda/unit_one/DS-Unit-1-Sprint-5-Data-Storytelling-Blog-Post/kickstarter_data/\""
   ]
  },
  {
   "cell_type": "code",
   "execution_count": 3,
   "metadata": {},
   "outputs": [],
   "source": [
    "all_files = glob.glob(path + \"/*.csv\")\n",
    "\n",
    "cols = ['backers_count','blurb','category','converted_pledged_amount','country', 'created_at','currency',\n",
    "      'deadline','goal','launched_at','location','pledged','slug','spotlight','staff_pick','state',\n",
    "       'state_changed_at','usd_pledged']"
   ]
  },
  {
   "cell_type": "code",
   "execution_count": 4,
   "metadata": {},
   "outputs": [],
   "source": [
    "li = []\n",
    "\n",
    "for filename in all_files:\n",
    "    df = pd.read_csv(filename, index_col=None, header=0,encoding='utf-8',usecols=cols)\n",
    "    li.append(df)"
   ]
  },
  {
   "cell_type": "code",
   "execution_count": 5,
   "metadata": {},
   "outputs": [],
   "source": [
    "df = pd.concat(li, axis=0, ignore_index=True)\n",
    "df = df.sort_values('created_at',ascending=False)\n",
    "df.dropna(inplace=True)"
   ]
  },
  {
   "cell_type": "code",
   "execution_count": 6,
   "metadata": {},
   "outputs": [],
   "source": [
    "df['state_changed_at'] = pd.to_datetime(df['state_changed_at'], unit='s').dt.date\n",
    "df['launched_at'] = pd.to_datetime(df['launched_at'], unit='s').dt.date\n",
    "df['deadline'] = pd.to_datetime(df['deadline'], unit='s').dt.date\n",
    "df['created_at'] = pd.to_datetime(df['created_at'], unit='s').dt.date"
   ]
  },
  {
   "cell_type": "code",
   "execution_count": 7,
   "metadata": {},
   "outputs": [],
   "source": [
    "def strip_name(s):\n",
    "    result = re.search('\"name\":\"(.*)\",\"slug\"',s)\n",
    "    return result.group(1)"
   ]
  },
  {
   "cell_type": "code",
   "execution_count": 8,
   "metadata": {},
   "outputs": [],
   "source": [
    "def strip_slug(s):\n",
    "    result = re.search('\"slug\":\"(.*)\",\"position\"',s)\n",
    "    return result.group(1)"
   ]
  },
  {
   "cell_type": "code",
   "execution_count": 9,
   "metadata": {},
   "outputs": [],
   "source": [
    "def strip_state(s):\n",
    "    result = re.search('\"state\":\"(.*)\",\"type\"',s)\n",
    "  \n",
    "    if result == None:\n",
    "        return np.nan\n",
    "    else:\n",
    "        return result.group(1)"
   ]
  },
  {
   "cell_type": "code",
   "execution_count": 10,
   "metadata": {},
   "outputs": [],
   "source": [
    "def strip_city(s):\n",
    "    result = re.search('\"localized_name\":\"(.*)\",\"country\"',s)\n",
    "    if result == None:\n",
    "        return np.nan\n",
    "    else:\n",
    "        return result.group(1)"
   ]
  },
  {
   "cell_type": "code",
   "execution_count": 11,
   "metadata": {},
   "outputs": [],
   "source": [
    "def strip_type(s):\n",
    "    result = re.search('\"type\":\"(.*)\",\"is_root\"',s)\n",
    "    return result.group(1)"
   ]
  },
  {
   "cell_type": "code",
   "execution_count": 12,
   "metadata": {},
   "outputs": [],
   "source": [
    "df['category_name'] = df['category'].apply(strip_name)\n",
    "df['slug_name'] = df['category'].apply(strip_slug)"
   ]
  },
  {
   "cell_type": "code",
   "execution_count": 13,
   "metadata": {},
   "outputs": [],
   "source": [
    "df['state_abv'] = df['location'].apply(strip_state)\n",
    "df['city'] = df['location'].apply(strip_city)\n",
    "df['city_type'] = df['location'].apply(strip_type)"
   ]
  },
  {
   "cell_type": "code",
   "execution_count": 14,
   "metadata": {},
   "outputs": [],
   "source": [
    "df = df.drop(['category','location'],axis=1)"
   ]
  },
  {
   "cell_type": "code",
   "execution_count": 15,
   "metadata": {},
   "outputs": [],
   "source": [
    "df['length'] = (df['deadline'] - df['launched_at']).dt.days\n",
    "df['avg_pledge_amount'] = df['converted_pledged_amount'] / df['backers_count']"
   ]
  },
  {
   "cell_type": "markdown",
   "metadata": {},
   "source": [
    "# Blog post\n",
    "\n",
    "My blog post will dive into the nitty gritty of Kickstarter for individuals curious about running their own campaign. It will give them best cateogies to choose from, highest probability timeframe and time of year, and what they can typically expect from their pledges and backers."
   ]
  },
  {
   "cell_type": "markdown",
   "metadata": {},
   "source": [
    "# Questions\n",
    "1. What are the top categories for Kickstarters\n",
    "2. How does being staff picked enhance your campaign? \n",
    "3. When should you launch your Kickstarter campaign?\n",
    "4. How many backers should you expect based on the length of your campaign?\n",
    "5. How successful are Kickstarter campaigns based on length of time\n",
    "6. What cities are the most \"creative\" and produce the most Kickstarter results\n",
    "\n",
    "\n"
   ]
  },
  {
   "cell_type": "markdown",
   "metadata": {},
   "source": [
    "## What are the most/least kickstarted categories?"
   ]
  },
  {
   "cell_type": "code",
   "execution_count": 16,
   "metadata": {},
   "outputs": [],
   "source": [
    "top_ten = df['category_name'].value_counts().head(10)\n",
    "bottom_ten = df['category_name'].value_counts().tail(10)"
   ]
  },
  {
   "cell_type": "code",
   "execution_count": 17,
   "metadata": {
    "scrolled": false
   },
   "outputs": [
    {
     "data": {
      "image/png": "[encoded data removed]",
      "text/plain": [
       "<Figure size 842.4x595.44 with 1 Axes>"
      ]
     },
     "metadata": {
      "needs_background": "light"
     },
     "output_type": "display_data"
    }
   ],
   "source": [
    "dims = (11.7, 8.27)\n",
    "fig, ax = plt.subplots(figsize=dims)\n",
    "sns.set_style(\"ticks\")\n",
    "sns.barplot(top_ten.index,top_ten,ax=ax, palette='pastel')\n",
    "sns.despine()\n",
    "plt.title('Top Ten Categories on Kickstarter, 2009-Today',fontweight='bold',size=16)\n",
    "plt.ylabel('Campaign Count',fontweight='bold',size=14)\n",
    "plt.xlabel('Kickstarter Category',fontweight='bold',size=14)\n",
    "plt.xticks(rotation=-20);\n"
   ]
  },
  {
   "cell_type": "code",
   "execution_count": 18,
   "metadata": {},
   "outputs": [
    {
     "data": {
      "image/png": "[encoded data removed]",
      "text/plain": [
       "<Figure size 842.4x595.44 with 1 Axes>"
      ]
     },
     "metadata": {},
     "output_type": "display_data"
    }
   ],
   "source": [
    "dims = (11.7, 8.27)\n",
    "fig, ax = plt.subplots(figsize=dims)\n",
    "sns.set_style(\"ticks\")\n",
    "sns.barplot(bottom_ten.index,bottom_ten,palette='pastel')\n",
    "sns.despine()\n",
    "plt.title('Bottom Ten Categories on Kickstarter, 2009-Today',fontweight='bold',size=16)\n",
    "plt.ylabel('Campaign Count',fontweight='bold',size=14)\n",
    "plt.xlabel('Kickstarter Category',fontweight='bold',size=14)\n",
    "plt.xticks(rotation=-20);"
   ]
  },
  {
   "cell_type": "markdown",
   "metadata": {},
   "source": [
    "### Average of staff picked campaigns under 1000"
   ]
  },
  {
   "cell_type": "code",
   "execution_count": 19,
   "metadata": {
    "scrolled": true
   },
   "outputs": [
    {
     "data": {
      "text/plain": [
       "1000.0    9318\n",
       "500.0     7560\n",
       "300.0     2519\n",
       "600.0     1970\n",
       "100.0     1962\n",
       "Name: goal, dtype: int64"
      ]
     },
     "execution_count": 19,
     "metadata": {},
     "output_type": "execute_result"
    }
   ],
   "source": [
    "df.loc[(df['staff_pick'] == False) & (df['goal'] <= 1000)]['goal'].value_counts().head()"
   ]
  },
  {
   "cell_type": "code",
   "execution_count": 20,
   "metadata": {
    "scrolled": true
   },
   "outputs": [
    {
     "data": {
      "text/plain": [
       "1000.0    653\n",
       "500.0     362\n",
       "600.0     133\n",
       "800.0     130\n",
       "300.0      94\n",
       "Name: goal, dtype: int64"
      ]
     },
     "execution_count": 20,
     "metadata": {},
     "output_type": "execute_result"
    }
   ],
   "source": [
    "df.loc[(df['staff_pick'] == True) & (df['goal'] <= 1000)]['goal'].value_counts().head()"
   ]
  },
  {
   "cell_type": "code",
   "execution_count": 21,
   "metadata": {
    "scrolled": true
   },
   "outputs": [
    {
     "data": {
      "text/plain": [
       "10000.0    1944\n",
       "5000.0     1708\n",
       "15000.0    1377\n",
       "20000.0    1202\n",
       "50000.0     983\n",
       "25000.0     971\n",
       "3000.0      901\n",
       "30000.0     858\n",
       "2000.0      760\n",
       "1000.0      653\n",
       "Name: goal, dtype: int64"
      ]
     },
     "execution_count": 21,
     "metadata": {},
     "output_type": "execute_result"
    }
   ],
   "source": [
    "df.loc[df['staff_pick'] == True]['goal'].value_counts().head(10)"
   ]
  },
  {
   "cell_type": "markdown",
   "metadata": {},
   "source": [
    "### Effect of being promoted"
   ]
  },
  {
   "cell_type": "markdown",
   "metadata": {},
   "source": [
    "#### Success Rates"
   ]
  },
  {
   "cell_type": "code",
   "execution_count": 22,
   "metadata": {
    "scrolled": true
   },
   "outputs": [
    {
     "data": {
      "text/plain": [
       "array(['live', 'canceled', 'suspended', 'successful', 'failed'],\n",
       "      dtype=object)"
      ]
     },
     "execution_count": 22,
     "metadata": {},
     "output_type": "execute_result"
    }
   ],
   "source": [
    "df['state'].unique()"
   ]
  },
  {
   "cell_type": "code",
   "execution_count": 23,
   "metadata": {},
   "outputs": [],
   "source": [
    "staff_pick_successful_count = df[(df['staff_pick'] == True) & (df['state'] == 'successful')]['state'].value_counts()\n",
    "staff_pick_fail_count = df[(df['staff_pick'] == True) & (df['state'] == 'failed')]['state'].value_counts()"
   ]
  },
  {
   "cell_type": "code",
   "execution_count": 24,
   "metadata": {},
   "outputs": [],
   "source": [
    "no_staff_successful_count = df[(df['staff_pick'] == False) & (df['state'] == 'successful')]['state'].value_counts()\n",
    "no_staff_fail_count = df[(df['staff_pick'] == False) & (df['state'] == 'failed')]['state'].value_counts()"
   ]
  },
  {
   "cell_type": "code",
   "execution_count": 25,
   "metadata": {},
   "outputs": [],
   "source": [
    "total_campaigns = df.shape[0]"
   ]
  },
  {
   "cell_type": "code",
   "execution_count": 26,
   "metadata": {},
   "outputs": [],
   "source": [
    "total_staff_picks = df.loc[df['staff_pick'] == True]['state'].count()\n",
    "total_no_staff_picks = df.loc[df['staff_pick'] == False]['state'].count()"
   ]
  },
  {
   "cell_type": "code",
   "execution_count": 27,
   "metadata": {},
   "outputs": [
    {
     "data": {
      "text/plain": [
       "successful    0.882536\n",
       "Name: state, dtype: float64"
      ]
     },
     "execution_count": 27,
     "metadata": {},
     "output_type": "execute_result"
    }
   ],
   "source": [
    "staff_pick_successful_count / total_staff_picks"
   ]
  },
  {
   "cell_type": "code",
   "execution_count": 28,
   "metadata": {},
   "outputs": [
    {
     "data": {
      "text/plain": [
       "successful    0.516499\n",
       "Name: state, dtype: float64"
      ]
     },
     "execution_count": 28,
     "metadata": {},
     "output_type": "execute_result"
    }
   ],
   "source": [
    "no_staff_successful_count / total_no_staff_picks"
   ]
  },
  {
   "cell_type": "code",
   "execution_count": 29,
   "metadata": {},
   "outputs": [
    {
     "data": {
      "text/plain": [
       "0.5635396762619067"
      ]
     },
     "execution_count": 29,
     "metadata": {},
     "output_type": "execute_result"
    }
   ],
   "source": [
    "df.loc[df['state'] == 'successful'].count()[0] / total_campaigns"
   ]
  },
  {
   "cell_type": "code",
   "execution_count": 30,
   "metadata": {},
   "outputs": [],
   "source": [
    "staff_picks_suc = pd.DataFrame({'Success':staff_pick_successful_count[0],'Failed':staff_pick_fail_count[0]\n",
    "                                ,'Staff Picked':True},index=[0])\n",
    "no_staff_picks_suc = pd.DataFrame({'Success':no_staff_successful_count[0],'Failed':no_staff_fail_count[0]\n",
    "                                   ,'Staff Picked':False},index=[0])"
   ]
  },
  {
   "cell_type": "code",
   "execution_count": 31,
   "metadata": {},
   "outputs": [],
   "source": [
    "df_s = pd.concat([staff_picks_suc,no_staff_picks_suc],ignore_index=True)"
   ]
  },
  {
   "cell_type": "code",
   "execution_count": 32,
   "metadata": {},
   "outputs": [],
   "source": [
    "df_s.loc[:,'Success':'Failed'] = df_s.loc[:,'Success':'Failed'].div(df_s.loc[:,'Success':'Failed'].sum(axis=1), axis=0)"
   ]
  },
  {
   "cell_type": "code",
   "execution_count": 33,
   "metadata": {},
   "outputs": [
    {
     "data": {
      "image/png": "[encoded data removed]",
      "text/plain": [
       "<Figure size 432x288 with 1 Axes>"
      ]
     },
     "metadata": {},
     "output_type": "display_data"
    }
   ],
   "source": [
    "sns.set(palette='pastel',style='white')\n",
    "df_s.set_index('Staff Picked').plot(kind='bar',stacked=True)\n",
    "sns.despine()\n",
    "plt.title('Success Rate Based on Staff Picked Campaigns',fontweight='bold')\n",
    "plt.ylabel('Success Rate')\n",
    "plt.legend(loc=(.9,.8))\n",
    "plt.xticks(rotation=360);"
   ]
  },
  {
   "cell_type": "markdown",
   "metadata": {},
   "source": [
    "#### Backers by Staff Pick"
   ]
  },
  {
   "cell_type": "code",
   "execution_count": 34,
   "metadata": {},
   "outputs": [],
   "source": [
    "df_pledge = df[(np.abs(stats.zscore(df['backers_count'])) < 3)]"
   ]
  },
  {
   "cell_type": "code",
   "execution_count": 35,
   "metadata": {},
   "outputs": [],
   "source": [
    "backer_total_mean = df_pledge['backers_count'].mean()\n",
    "backer_total_median = df_pledge['backers_count'].median()"
   ]
  },
  {
   "cell_type": "code",
   "execution_count": 36,
   "metadata": {
    "scrolled": true
   },
   "outputs": [],
   "source": [
    "backer_staff_mean = df_pledge.loc[df['staff_pick'] == True]['backers_count'].mean()\n",
    "backer_staff_median = df_pledge.loc[df['staff_pick'] == True]['backers_count'].median()"
   ]
  },
  {
   "cell_type": "code",
   "execution_count": 37,
   "metadata": {},
   "outputs": [],
   "source": [
    "backer_no_staff_mean = df_pledge.loc[df['staff_pick'] == False]['backers_count'].mean()\n",
    "backer_no_staff_median = df_pledge.loc[df['staff_pick'] == False]['backers_count'].median()"
   ]
  },
  {
   "cell_type": "code",
   "execution_count": 38,
   "metadata": {},
   "outputs": [],
   "source": [
    "pledge_median = pd.DataFrame({'All':backer_total_median,\n",
    "             'Staff Picked': backer_staff_median,\n",
    "             \"Staff Didn't Pick\":backer_no_staff_median},\n",
    "            index=['Backers'])"
   ]
  },
  {
   "cell_type": "code",
   "execution_count": 39,
   "metadata": {},
   "outputs": [],
   "source": [
    "pledge_mean = pd.DataFrame({'All':backer_total_mean,\n",
    "             'Staff Picked': backer_staff_mean,\n",
    "             \"Staff Didn't Pick\":backer_no_staff_mean},\n",
    "            index=['Backers'])"
   ]
  },
  {
   "cell_type": "code",
   "execution_count": 40,
   "metadata": {
    "scrolled": false
   },
   "outputs": [
    {
     "data": {
      "image/png": "[encoded data removed]",
      "text/plain": [
       "<Figure size 432x288 with 1 Axes>"
      ]
     },
     "metadata": {},
     "output_type": "display_data"
    }
   ],
   "source": [
    "sns.barplot(pledge_mean.columns,pledge_mean.values[0],palette='pastel')\n",
    "sns.despine()\n",
    "plt.ylim(0,350)\n",
    "plt.xticks(fontsize=13)\n",
    "plt.ylabel('Mean Backers',fontsize=13)\n",
    "plt.title('Backers Count - Mean',fontsize=15)\n",
    "plt.text(x=-.15,y=110,s=round(pledge_mean['All'][0]),fontsize=12,fontweight='bold')\n",
    "plt.text(x=0.9,y=300,s=round(pledge_mean['Staff Picked'][0]),fontsize=12,fontweight='bold')\n",
    "plt.text(x=1.9,y=80,s=round(pledge_mean[\"Staff Didn't Pick\"][0]),fontsize=12,fontweight='bold');"
   ]
  },
  {
   "cell_type": "code",
   "execution_count": 41,
   "metadata": {},
   "outputs": [
    {
     "data": {
      "image/png": "[encoded data removed]",
      "text/plain": [
       "<Figure size 432x288 with 1 Axes>"
      ]
     },
     "metadata": {},
     "output_type": "display_data"
    }
   ],
   "source": [
    "sns.barplot(pledge_median.columns,pledge_median.values[0],palette='pastel')\n",
    "sns.despine()\n",
    "plt.ylim(0,200)\n",
    "plt.ylabel('Median Backers',fontsize=13)\n",
    "plt.title('Backers Count - Median',fontsize=15)\n",
    "plt.xticks(fontsize=13)\n",
    "plt.text(x=-.1,y=30,s=pledge_median['All'][0],fontsize=12,fontweight='bold')\n",
    "plt.text(x=0.9,y=150,s=pledge_median['Staff Picked'][0],fontsize=12,fontweight='bold')\n",
    "plt.text(x=1.9,y=25,s=pledge_median[\"Staff Didn't Pick\"][0],fontsize=12,fontweight='bold');"
   ]
  },
  {
   "cell_type": "markdown",
   "metadata": {},
   "source": [
    "#### Categories picked by kickstarter"
   ]
  },
  {
   "cell_type": "code",
   "execution_count": 42,
   "metadata": {
    "scrolled": true
   },
   "outputs": [],
   "source": [
    "kickstart_select = (df.loc[df['staff_pick'] == True]['category_name'].value_counts() / df.loc[df['staff_pick'] == True]['category_name'].count()).sort_values().tail(10)"
   ]
  },
  {
   "cell_type": "code",
   "execution_count": 43,
   "metadata": {},
   "outputs": [],
   "source": [
    "kickstart_select = pd.DataFrame(kickstart_select).reset_index()\n",
    "kickstart_select.columns = ['Categories','Percent Selected']"
   ]
  },
  {
   "cell_type": "code",
   "execution_count": 44,
   "metadata": {},
   "outputs": [
    {
     "data": {
      "text/html": [
       "<div>\n",
       "<style scoped>\n",
       "    .dataframe tbody tr th:only-of-type {\n",
       "        vertical-align: middle;\n",
       "    }\n",
       "\n",
       "    .dataframe tbody tr th {\n",
       "        vertical-align: top;\n",
       "    }\n",
       "\n",
       "    .dataframe thead th {\n",
       "        text-align: right;\n",
       "    }\n",
       "</style>\n",
       "<table border=\"1\" class=\"dataframe\">\n",
       "  <thead>\n",
       "    <tr style=\"text-align: right;\">\n",
       "      <th></th>\n",
       "      <th>Categories</th>\n",
       "      <th>Percent Selected</th>\n",
       "    </tr>\n",
       "  </thead>\n",
       "  <tbody>\n",
       "    <tr>\n",
       "      <th>9</th>\n",
       "      <td>Video Games</td>\n",
       "      <td>0.035780</td>\n",
       "    </tr>\n",
       "    <tr>\n",
       "      <th>8</th>\n",
       "      <td>Documentary</td>\n",
       "      <td>0.033370</td>\n",
       "    </tr>\n",
       "    <tr>\n",
       "      <th>7</th>\n",
       "      <td>Art Books</td>\n",
       "      <td>0.032332</td>\n",
       "    </tr>\n",
       "    <tr>\n",
       "      <th>6</th>\n",
       "      <td>Graphic Novels</td>\n",
       "      <td>0.031924</td>\n",
       "    </tr>\n",
       "    <tr>\n",
       "      <th>5</th>\n",
       "      <td>Photobooks</td>\n",
       "      <td>0.025621</td>\n",
       "    </tr>\n",
       "    <tr>\n",
       "      <th>4</th>\n",
       "      <td>Children's Books</td>\n",
       "      <td>0.024397</td>\n",
       "    </tr>\n",
       "    <tr>\n",
       "      <th>3</th>\n",
       "      <td>Comic Books</td>\n",
       "      <td>0.022877</td>\n",
       "    </tr>\n",
       "    <tr>\n",
       "      <th>2</th>\n",
       "      <td>Performances</td>\n",
       "      <td>0.021246</td>\n",
       "    </tr>\n",
       "    <tr>\n",
       "      <th>1</th>\n",
       "      <td>Narrative Film</td>\n",
       "      <td>0.019355</td>\n",
       "    </tr>\n",
       "    <tr>\n",
       "      <th>0</th>\n",
       "      <td>Hardware</td>\n",
       "      <td>0.018799</td>\n",
       "    </tr>\n",
       "  </tbody>\n",
       "</table>\n",
       "</div>"
      ],
      "text/plain": [
       "         Categories  Percent Selected\n",
       "9       Video Games          0.035780\n",
       "8       Documentary          0.033370\n",
       "7         Art Books          0.032332\n",
       "6    Graphic Novels          0.031924\n",
       "5        Photobooks          0.025621\n",
       "4  Children's Books          0.024397\n",
       "3       Comic Books          0.022877\n",
       "2      Performances          0.021246\n",
       "1    Narrative Film          0.019355\n",
       "0          Hardware          0.018799"
      ]
     },
     "execution_count": 44,
     "metadata": {},
     "output_type": "execute_result"
    }
   ],
   "source": [
    "kickstart_select.sort_values(['Percent Selected'],ascending=False)"
   ]
  },
  {
   "cell_type": "markdown",
   "metadata": {},
   "source": [
    "### Best Time of Year"
   ]
  },
  {
   "cell_type": "code",
   "execution_count": 47,
   "metadata": {},
   "outputs": [],
   "source": [
    "launch = df.copy()"
   ]
  },
  {
   "cell_type": "code",
   "execution_count": 48,
   "metadata": {},
   "outputs": [],
   "source": [
    "def month_to_quarter(dt):\n",
    "    return (dt.month-1)//3 + 1"
   ]
  },
  {
   "cell_type": "code",
   "execution_count": 49,
   "metadata": {},
   "outputs": [],
   "source": [
    "def year_col(dt):\n",
    "    return dt.year"
   ]
  },
  {
   "cell_type": "code",
   "execution_count": 50,
   "metadata": {},
   "outputs": [],
   "source": [
    "launch['quarter'] = launch['launched_at'].map(month_to_quarter)\n",
    "launch['year'] = launch['launched_at'].map(year_col)"
   ]
  },
  {
   "cell_type": "code",
   "execution_count": 51,
   "metadata": {
    "scrolled": true
   },
   "outputs": [],
   "source": [
    "launch = pd.DataFrame(launch.groupby(['year','quarter'])['state'].value_counts())"
   ]
  },
  {
   "cell_type": "code",
   "execution_count": 52,
   "metadata": {
    "scrolled": true
   },
   "outputs": [],
   "source": [
    "launch = launch.unstack(level=2)"
   ]
  },
  {
   "cell_type": "code",
   "execution_count": 53,
   "metadata": {},
   "outputs": [],
   "source": [
    "launch = launch['state'][['failed','successful','canceled']]"
   ]
  },
  {
   "cell_type": "code",
   "execution_count": 54,
   "metadata": {},
   "outputs": [],
   "source": [
    "launch['total'] = launch['successful'] / (launch['failed']+launch['successful']+launch['canceled'])"
   ]
  },
  {
   "cell_type": "code",
   "execution_count": 55,
   "metadata": {
    "scrolled": true
   },
   "outputs": [],
   "source": [
    "launch = launch.reset_index()\n",
    "launch = launch.loc[(launch['year'] > 2014) & (launch['year'] < 2019)]"
   ]
  },
  {
   "cell_type": "code",
   "execution_count": 56,
   "metadata": {},
   "outputs": [],
   "source": [
    "q1_mean = launch.loc[(launch['quarter'] == 1) & (launch['year'] > 2014) & (launch['year'] < 2019)]['total'].mean()\n",
    "q2_mean = launch.loc[(launch['quarter'] == 2) & (launch['year'] > 2014) & (launch['year'] < 2019)]['total'].mean()\n",
    "q3_mean = launch.loc[(launch['quarter'] == 3) & (launch['year'] > 2014) & (launch['year'] < 2019)]['total'].mean()\n",
    "q4_mean = launch.loc[(launch['quarter'] == 4) & (launch['year'] > 2014) & (launch['year'] < 2019)]['total'].mean()"
   ]
  },
  {
   "cell_type": "code",
   "execution_count": 57,
   "metadata": {
    "scrolled": true
   },
   "outputs": [
    {
     "data": {
      "image/png": "[encoded data removed]",
      "text/plain": [
       "<Figure size 432x288 with 1 Axes>"
      ]
     },
     "metadata": {},
     "output_type": "display_data"
    }
   ],
   "source": [
    "sns.barplot(x=launch['quarter'],y=launch['total'],hue=launch['year'],data=launch,palette='pastel')\n",
    "plt.legend(loc=(1,.7))\n",
    "sns.despine()\n",
    "plt.xlabel('Quarter',fontweight='bold',labelpad=20)\n",
    "plt.ylabel('Successfully Funded Perc',fontweight='bold')\n",
    "plt.title('Successful Funding by Quarter',fontweight='bold',fontsize=14)\n",
    "plt.text(x=-.25,y=-.12,s='M: {}'.format(round(q1_mean,ndigits=2)))\n",
    "plt.text(x=.75,y=-.12,s='M: {}'.format(round(q2_mean,ndigits=2)))\n",
    "plt.text(x=1.8,y=-.12,s='M: {}'.format(round(q3_mean,ndigits=2)))\n",
    "plt.text(x=2.7,y=-.12,s='M: {}'.format(round(q4_mean,ndigits=2)));"
   ]
  },
  {
   "cell_type": "markdown",
   "metadata": {},
   "source": [
    "### Expected Backers by Length of Kickstarter"
   ]
  },
  {
   "cell_type": "code",
   "execution_count": 58,
   "metadata": {
    "scrolled": true
   },
   "outputs": [],
   "source": [
    "suc_len = pd.DataFrame((df.loc[df['state'] == 'successful']['length'].value_counts() / df.shape[0]).head(20).sort_values())"
   ]
  },
  {
   "cell_type": "code",
   "execution_count": 59,
   "metadata": {},
   "outputs": [],
   "source": [
    "fail_len = pd.DataFrame((df.loc[(df['state'] == 'failed') | (df['state'] == 'canceled') | (df['state']=='suspended')]['length'].value_counts() / df.shape[0]).head(20).sort_values())"
   ]
  },
  {
   "cell_type": "code",
   "execution_count": 60,
   "metadata": {
    "scrolled": true
   },
   "outputs": [],
   "source": [
    "s_avg_backers = df.loc[df['state'] == 'successful'].groupby('length')['backers_count'].median()\n",
    "f_avg_backers = df.loc[(df['state'] == 'failed') | (df['state'] == 'canceled') | (df['state']=='suspended')].groupby('length')['backers_count'].median()"
   ]
  },
  {
   "cell_type": "code",
   "execution_count": 61,
   "metadata": {},
   "outputs": [],
   "source": [
    "fail_len = pd.merge(fail_len,f_avg_backers,left_index=True,right_index=True)\n",
    "suc_len = pd.merge(suc_len,s_avg_backers,left_index=True,right_index=True)"
   ]
  },
  {
   "cell_type": "code",
   "execution_count": 62,
   "metadata": {},
   "outputs": [],
   "source": [
    "fail_len['success?'] = False\n",
    "suc_len['success?'] = True"
   ]
  },
  {
   "cell_type": "code",
   "execution_count": 63,
   "metadata": {},
   "outputs": [],
   "source": [
    "df1 = pd.concat([fail_len,suc_len],join='inner').reset_index()\n",
    "df1.columns = ['Days','Perecentage','Backers Count','Successful?']"
   ]
  },
  {
   "cell_type": "code",
   "execution_count": 64,
   "metadata": {},
   "outputs": [
    {
     "data": {
      "text/html": [
       "<div>\n",
       "<style scoped>\n",
       "    .dataframe tbody tr th:only-of-type {\n",
       "        vertical-align: middle;\n",
       "    }\n",
       "\n",
       "    .dataframe tbody tr th {\n",
       "        vertical-align: top;\n",
       "    }\n",
       "\n",
       "    .dataframe thead th {\n",
       "        text-align: right;\n",
       "    }\n",
       "</style>\n",
       "<table border=\"1\" class=\"dataframe\">\n",
       "  <thead>\n",
       "    <tr style=\"text-align: right;\">\n",
       "      <th></th>\n",
       "      <th>Days</th>\n",
       "      <th>Perecentage</th>\n",
       "      <th>Backers Count</th>\n",
       "      <th>Successful?</th>\n",
       "    </tr>\n",
       "  </thead>\n",
       "  <tbody>\n",
       "    <tr>\n",
       "      <th>0</th>\n",
       "      <td>36</td>\n",
       "      <td>0.002587</td>\n",
       "      <td>6.0</td>\n",
       "      <td>False</td>\n",
       "    </tr>\n",
       "    <tr>\n",
       "      <th>1</th>\n",
       "      <td>10</td>\n",
       "      <td>0.002664</td>\n",
       "      <td>1.0</td>\n",
       "      <td>False</td>\n",
       "    </tr>\n",
       "    <tr>\n",
       "      <th>2</th>\n",
       "      <td>59</td>\n",
       "      <td>0.002878</td>\n",
       "      <td>2.0</td>\n",
       "      <td>False</td>\n",
       "    </tr>\n",
       "    <tr>\n",
       "      <th>3</th>\n",
       "      <td>34</td>\n",
       "      <td>0.002921</td>\n",
       "      <td>6.0</td>\n",
       "      <td>False</td>\n",
       "    </tr>\n",
       "    <tr>\n",
       "      <th>4</th>\n",
       "      <td>50</td>\n",
       "      <td>0.003126</td>\n",
       "      <td>3.0</td>\n",
       "      <td>False</td>\n",
       "    </tr>\n",
       "  </tbody>\n",
       "</table>\n",
       "</div>"
      ],
      "text/plain": [
       "   Days  Perecentage  Backers Count  Successful?\n",
       "0    36     0.002587            6.0        False\n",
       "1    10     0.002664            1.0        False\n",
       "2    59     0.002878            2.0        False\n",
       "3    34     0.002921            6.0        False\n",
       "4    50     0.003126            3.0        False"
      ]
     },
     "execution_count": 64,
     "metadata": {},
     "output_type": "execute_result"
    }
   ],
   "source": [
    "df1.head()"
   ]
  },
  {
   "cell_type": "code",
   "execution_count": 73,
   "metadata": {
    "scrolled": true
   },
   "outputs": [
    {
     "data": {
      "image/png": "[encoded data removed]",
      "text/plain": [
       "<Figure size 432x288 with 1 Axes>"
      ]
     },
     "metadata": {},
     "output_type": "display_data"
    }
   ],
   "source": [
    "sns.scatterplot(x='Days',y='Backers Count',data=df1,palette='pastel',hue='Successful?')\n",
    "sns.despine()\n",
    "plt.xlabel('Length in Days')\n",
    "plt.legend(loc=(.85,.75))\n",
    "plt.title('Backer Count by Length of Campaign',fontweight='bold',pad=20);"
   ]
  },
  {
   "cell_type": "markdown",
   "metadata": {},
   "source": [
    "### Ideal length of time for your Kickstarter\n",
    "\n",
    "looking at successful kickstarters and their success percentage between launch/end times"
   ]
  },
  {
   "cell_type": "code",
   "execution_count": 74,
   "metadata": {},
   "outputs": [],
   "source": [
    "time_frames = [[0,15],[15,30],[30,45],[45,60],[60,75],[75,90],[90,105]]"
   ]
  },
  {
   "cell_type": "code",
   "execution_count": 75,
   "metadata": {},
   "outputs": [],
   "source": [
    "l = []"
   ]
  },
  {
   "cell_type": "code",
   "execution_count": 76,
   "metadata": {},
   "outputs": [],
   "source": [
    "for time in time_frames:\n",
    "    l.append((df[(df['state'] == 'successful') & (df['length'] > time[0]) & (df['length'] <= time[1])]).count()[0] / df.loc[(df['length'] > time[0]) & (df['length'] <= time[1])].count()[0])"
   ]
  },
  {
   "cell_type": "code",
   "execution_count": 77,
   "metadata": {},
   "outputs": [],
   "source": [
    "time_string = [str(x) for x in time_frames]"
   ]
  },
  {
   "cell_type": "code",
   "execution_count": 78,
   "metadata": {},
   "outputs": [],
   "source": [
    "df2 = pd.DataFrame([l,time_string]).T"
   ]
  },
  {
   "cell_type": "code",
   "execution_count": 79,
   "metadata": {},
   "outputs": [],
   "source": [
    "df2.columns = ['perc','length']"
   ]
  },
  {
   "cell_type": "code",
   "execution_count": 80,
   "metadata": {},
   "outputs": [
    {
     "data": {
      "text/html": [
       "<div>\n",
       "<style scoped>\n",
       "    .dataframe tbody tr th:only-of-type {\n",
       "        vertical-align: middle;\n",
       "    }\n",
       "\n",
       "    .dataframe tbody tr th {\n",
       "        vertical-align: top;\n",
       "    }\n",
       "\n",
       "    .dataframe thead th {\n",
       "        text-align: right;\n",
       "    }\n",
       "</style>\n",
       "<table border=\"1\" class=\"dataframe\">\n",
       "  <thead>\n",
       "    <tr style=\"text-align: right;\">\n",
       "      <th></th>\n",
       "      <th>perc</th>\n",
       "      <th>length</th>\n",
       "    </tr>\n",
       "  </thead>\n",
       "  <tbody>\n",
       "    <tr>\n",
       "      <th>0</th>\n",
       "      <td>0.66968</td>\n",
       "      <td>[0, 15]</td>\n",
       "    </tr>\n",
       "    <tr>\n",
       "      <th>1</th>\n",
       "      <td>0.574509</td>\n",
       "      <td>[15, 30]</td>\n",
       "    </tr>\n",
       "    <tr>\n",
       "      <th>2</th>\n",
       "      <td>0.620389</td>\n",
       "      <td>[30, 45]</td>\n",
       "    </tr>\n",
       "    <tr>\n",
       "      <th>3</th>\n",
       "      <td>0.350347</td>\n",
       "      <td>[45, 60]</td>\n",
       "    </tr>\n",
       "    <tr>\n",
       "      <th>4</th>\n",
       "      <td>0.569832</td>\n",
       "      <td>[60, 75]</td>\n",
       "    </tr>\n",
       "    <tr>\n",
       "      <th>5</th>\n",
       "      <td>0.59322</td>\n",
       "      <td>[75, 90]</td>\n",
       "    </tr>\n",
       "    <tr>\n",
       "      <th>6</th>\n",
       "      <td>0.659574</td>\n",
       "      <td>[90, 105]</td>\n",
       "    </tr>\n",
       "  </tbody>\n",
       "</table>\n",
       "</div>"
      ],
      "text/plain": [
       "       perc     length\n",
       "0   0.66968    [0, 15]\n",
       "1  0.574509   [15, 30]\n",
       "2  0.620389   [30, 45]\n",
       "3  0.350347   [45, 60]\n",
       "4  0.569832   [60, 75]\n",
       "5   0.59322   [75, 90]\n",
       "6  0.659574  [90, 105]"
      ]
     },
     "execution_count": 80,
     "metadata": {},
     "output_type": "execute_result"
    }
   ],
   "source": [
    "df2"
   ]
  },
  {
   "cell_type": "code",
   "execution_count": 88,
   "metadata": {
    "scrolled": true
   },
   "outputs": [
    {
     "data": {
      "image/png": "[encoded data removed]",
      "text/plain": [
       "<Figure size 432x288 with 1 Axes>"
      ]
     },
     "metadata": {},
     "output_type": "display_data"
    }
   ],
   "source": [
    "sns.scatterplot(y='perc',x='length',data=df2,palette='pastel',s=80)\n",
    "sns.despine()\n",
    "plt.ylim(.30,.80)\n",
    "plt.xlabel('Kickstarter Length (Days)',labelpad=15)\n",
    "plt.ylabel('Success Percentage')\n",
    "plt.title('Success Percentage Based on Length of Kickstarter',fontweight='bold',pad=20)\n",
    "plt.text(x=-.1,y=.7,s='67%')\n",
    "plt.text(x=.8,y=.6,s='57%')\n",
    "plt.text(x=1.8,y=.65,s='62%')\n",
    "plt.text(x=2.8,y=.38,s='35%')\n",
    "plt.text(x=3.8,y=.6,s='57%')\n",
    "plt.text(x=4.8,y=.62,s='59%')\n",
    "plt.text(x=5.8,y=.69,s='66%');"
   ]
  },
  {
   "cell_type": "markdown",
   "metadata": {},
   "source": [
    "### Where are Kickstarters Started?\n"
   ]
  },
  {
   "cell_type": "code",
   "execution_count": 342,
   "metadata": {},
   "outputs": [],
   "source": [
    "us_df = df.loc[(df['country'] == 'US') & (df['state_abv'].str.len() <= 2)]"
   ]
  },
  {
   "cell_type": "code",
   "execution_count": 338,
   "metadata": {
    "scrolled": true
   },
   "outputs": [],
   "source": [
    "counts = pd.DataFrame(us_df.groupby('state_abv')['state_abv'].value_counts(),index=None)"
   ]
  },
  {
   "cell_type": "code",
   "execution_count": 350,
   "metadata": {
    "scrolled": true
   },
   "outputs": [],
   "source": [
    "counts = counts.reset_index(level=1, drop=True)\n",
    "counts.columns = ['count']\n",
    "counts.reset_index(inplace=True)"
   ]
  },
  {
   "cell_type": "code",
   "execution_count": 382,
   "metadata": {},
   "outputs": [],
   "source": [
    "data = [go.Choropleth(\n",
    "    autocolorscale = True,\n",
    "    locations = counts['state_abv'],\n",
    "    z = counts['count'],\n",
    "    locationmode = 'USA-states',\n",
    "    marker = go.choropleth.Marker(\n",
    "        line = go.choropleth.marker.Line(\n",
    "            color = 'rgb(255,255,255)',\n",
    "            width = 2\n",
    "        )),\n",
    "    colorbar = go.choropleth.ColorBar(\n",
    "        title = \"Number of Kickstarters\")\n",
    ")]\n",
    "\n",
    "layout = go.Layout(\n",
    "    title = go.layout.Title(\n",
    "        text = 'Kickstarters By State'\n",
    "    ),\n",
    "    geo = go.layout.Geo(\n",
    "        scope = 'usa',\n",
    "        projection = go.layout.geo.Projection(type = 'albers usa'),\n",
    "        showlakes = True,\n",
    "        lakecolor = 'rgb(255, 255, 255)'),\n",
    ")"
   ]
  },
  {
   "cell_type": "code",
   "execution_count": 383,
   "metadata": {},
   "outputs": [
    {
     "name": "stderr",
     "output_type": "stream",
     "text": [
      "/usr/local/anaconda3/lib/python3.7/site-packages/IPython/core/display.py:689: UserWarning:\n",
      "\n",
      "Consider using IPython.display.IFrame instead\n",
      "\n"
     ]
    },
    {
     "data": {
      "text/html": [
       "<iframe id=\"igraph\" scrolling=\"no\" style=\"border:none;\" seamless=\"seamless\" src=\"https://plot.ly/~RidleyLeisy/44.embed\" height=\"525px\" width=\"100%\"></iframe>"
      ],
      "text/plain": [
       "<chart_studio.tools.PlotlyDisplay object>"
      ]
     },
     "execution_count": 383,
     "metadata": {},
     "output_type": "execute_result"
    }
   ],
   "source": [
    "fig = go.Figure(data = data, layout = layout)\n",
    "py.iplot(fig, filename = 'kickstarter_map')"
   ]
  },
  {
   "cell_type": "code",
   "execution_count": null,
   "metadata": {},
   "outputs": [],
   "source": []
  }
 ],
 "metadata": {
  "kernelspec": {
   "display_name": "Python 3",
   "language": "python",
   "name": "python3"
  },
  "language_info": {
   "codemirror_mode": {
    "name": "ipython",
    "version": 3
   },
   "file_extension": ".py",
   "mimetype": "text/x-python",
   "name": "python",
   "nbconvert_exporter": "python",
   "pygments_lexer": "ipython3",
   "version": "3.7.3"
  },
  "varInspector": {
   "cols": {
    "lenName": 16,
    "lenType": 16,
    "lenVar": 40
   },
   "kernels_config": {
    "python": {
     "delete_cmd_postfix": "",
     "delete_cmd_prefix": "del ",
     "library": "var_list.py",
     "varRefreshCmd": "print(var_dic_list())"
    },
    "r": {
     "delete_cmd_postfix": ") ",
     "delete_cmd_prefix": "rm(",
     "library": "var_list.r",
     "varRefreshCmd": "cat(var_dic_list()) "
    }
   },
   "types_to_exclude": [
    "module",
    "function",
    "builtin_function_or_method",
    "instance",
    "_Feature"
   ],
   "window_display": false
  }
 },
 "nbformat": 4,
 "nbformat_minor": 2
}
