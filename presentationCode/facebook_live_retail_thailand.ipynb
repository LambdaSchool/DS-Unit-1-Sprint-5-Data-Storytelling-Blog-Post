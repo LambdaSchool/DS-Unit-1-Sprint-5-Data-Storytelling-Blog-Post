{
  "nbformat": 4,
  "nbformat_minor": 0,
  "metadata": {
    "colab": {
      "name": "facebook_live_retail_thailand.ipynb",
      "version": "0.3.2",
      "provenance": [],
      "collapsed_sections": [],
      "include_colab_link": true
    },
    "kernelspec": {
      "name": "python3",
      "display_name": "Python 3"
    }
  },
  "cells": [
    {
      "cell_type": "markdown",
      "metadata": {
        "id": "view-in-github",
        "colab_type": "text"
      },
      "source": [
        "<a href=\"https://colab.research.google.com/github/grommitt/DS-Unit-1-Sprint-5-Data-Storytelling-Blog-Post/blob/master/presentationCode/facebook_live_retail_thailand.ipynb\" target=\"_parent\"><img src=\"https://colab.research.google.com/assets/colab-badge.svg\" alt=\"Open In Colab\"/></a>"
      ]
    },
    {
      "cell_type": "markdown",
      "metadata": {
        "id": "T3AZcy86bWJ4",
        "colab_type": "text"
      },
      "source": [
        "**H0(Null hypothesis):**  There is no relationship between status_type and number of reactions.\n",
        "\n",
        "**Ha(Alternative hypothesis):**  There is a relationship between status_type and number of reactions."
      ]
    },
    {
      "cell_type": "code",
      "metadata": {
        "id": "Wzd7al164T78",
        "colab_type": "code",
        "colab": {
          "base_uri": "https://localhost:8080/",
          "height": 215
        },
        "outputId": "c909de96-2d3d-43e0-ac6a-d087cfcaa1c3"
      },
      "source": [
        "# import dataframe\n",
        "import pandas as pd\n",
        "\n",
        "df = pd.read_csv('https://archive.ics.uci.edu/ml/machine-learning-databases/00488/Live.csv')\n",
        "\n",
        "df.head()"
      ],
      "execution_count": 1,
      "outputs": [
        {
          "output_type": "execute_result",
          "data": {
            "text/html": [
              "<div>\n",
              "<style scoped>\n",
              "    .dataframe tbody tr th:only-of-type {\n",
              "        vertical-align: middle;\n",
              "    }\n",
              "\n",
              "    .dataframe tbody tr th {\n",
              "        vertical-align: top;\n",
              "    }\n",
              "\n",
              "    .dataframe thead th {\n",
              "        text-align: right;\n",
              "    }\n",
              "</style>\n",
              "<table border=\"1\" class=\"dataframe\">\n",
              "  <thead>\n",
              "    <tr style=\"text-align: right;\">\n",
              "      <th></th>\n",
              "      <th>status_id</th>\n",
              "      <th>status_type</th>\n",
              "      <th>status_published</th>\n",
              "      <th>num_reactions</th>\n",
              "      <th>num_comments</th>\n",
              "      <th>num_shares</th>\n",
              "      <th>num_likes</th>\n",
              "      <th>num_loves</th>\n",
              "      <th>num_wows</th>\n",
              "      <th>num_hahas</th>\n",
              "      <th>num_sads</th>\n",
              "      <th>num_angrys</th>\n",
              "      <th>Column1</th>\n",
              "      <th>Column2</th>\n",
              "      <th>Column3</th>\n",
              "      <th>Column4</th>\n",
              "    </tr>\n",
              "  </thead>\n",
              "  <tbody>\n",
              "    <tr>\n",
              "      <th>0</th>\n",
              "      <td>246675545449582_1649696485147474</td>\n",
              "      <td>video</td>\n",
              "      <td>4/22/2018 6:00</td>\n",
              "      <td>529</td>\n",
              "      <td>512</td>\n",
              "      <td>262</td>\n",
              "      <td>432</td>\n",
              "      <td>92</td>\n",
              "      <td>3</td>\n",
              "      <td>1</td>\n",
              "      <td>1</td>\n",
              "      <td>0</td>\n",
              "      <td>NaN</td>\n",
              "      <td>NaN</td>\n",
              "      <td>NaN</td>\n",
              "      <td>NaN</td>\n",
              "    </tr>\n",
              "    <tr>\n",
              "      <th>1</th>\n",
              "      <td>246675545449582_1649426988507757</td>\n",
              "      <td>photo</td>\n",
              "      <td>4/21/2018 22:45</td>\n",
              "      <td>150</td>\n",
              "      <td>0</td>\n",
              "      <td>0</td>\n",
              "      <td>150</td>\n",
              "      <td>0</td>\n",
              "      <td>0</td>\n",
              "      <td>0</td>\n",
              "      <td>0</td>\n",
              "      <td>0</td>\n",
              "      <td>NaN</td>\n",
              "      <td>NaN</td>\n",
              "      <td>NaN</td>\n",
              "      <td>NaN</td>\n",
              "    </tr>\n",
              "    <tr>\n",
              "      <th>2</th>\n",
              "      <td>246675545449582_1648730588577397</td>\n",
              "      <td>video</td>\n",
              "      <td>4/21/2018 6:17</td>\n",
              "      <td>227</td>\n",
              "      <td>236</td>\n",
              "      <td>57</td>\n",
              "      <td>204</td>\n",
              "      <td>21</td>\n",
              "      <td>1</td>\n",
              "      <td>1</td>\n",
              "      <td>0</td>\n",
              "      <td>0</td>\n",
              "      <td>NaN</td>\n",
              "      <td>NaN</td>\n",
              "      <td>NaN</td>\n",
              "      <td>NaN</td>\n",
              "    </tr>\n",
              "    <tr>\n",
              "      <th>3</th>\n",
              "      <td>246675545449582_1648576705259452</td>\n",
              "      <td>photo</td>\n",
              "      <td>4/21/2018 2:29</td>\n",
              "      <td>111</td>\n",
              "      <td>0</td>\n",
              "      <td>0</td>\n",
              "      <td>111</td>\n",
              "      <td>0</td>\n",
              "      <td>0</td>\n",
              "      <td>0</td>\n",
              "      <td>0</td>\n",
              "      <td>0</td>\n",
              "      <td>NaN</td>\n",
              "      <td>NaN</td>\n",
              "      <td>NaN</td>\n",
              "      <td>NaN</td>\n",
              "    </tr>\n",
              "    <tr>\n",
              "      <th>4</th>\n",
              "      <td>246675545449582_1645700502213739</td>\n",
              "      <td>photo</td>\n",
              "      <td>4/18/2018 3:22</td>\n",
              "      <td>213</td>\n",
              "      <td>0</td>\n",
              "      <td>0</td>\n",
              "      <td>204</td>\n",
              "      <td>9</td>\n",
              "      <td>0</td>\n",
              "      <td>0</td>\n",
              "      <td>0</td>\n",
              "      <td>0</td>\n",
              "      <td>NaN</td>\n",
              "      <td>NaN</td>\n",
              "      <td>NaN</td>\n",
              "      <td>NaN</td>\n",
              "    </tr>\n",
              "  </tbody>\n",
              "</table>\n",
              "</div>"
            ],
            "text/plain": [
              "                          status_id status_type  ... Column3  Column4\n",
              "0  246675545449582_1649696485147474       video  ...     NaN      NaN\n",
              "1  246675545449582_1649426988507757       photo  ...     NaN      NaN\n",
              "2  246675545449582_1648730588577397       video  ...     NaN      NaN\n",
              "3  246675545449582_1648576705259452       photo  ...     NaN      NaN\n",
              "4  246675545449582_1645700502213739       photo  ...     NaN      NaN\n",
              "\n",
              "[5 rows x 16 columns]"
            ]
          },
          "metadata": {
            "tags": []
          },
          "execution_count": 1
        }
      ]
    },
    {
      "cell_type": "code",
      "metadata": {
        "id": "fZyTzcujC-cD",
        "colab_type": "code",
        "colab": {}
      },
      "source": [
        "# get rid of unnecessary columns\n",
        "df.drop('status_id', axis=1, inplace=True)\n",
        "df.drop('Column1', axis=1, inplace=True)\n",
        "df.drop('Column2', axis=1, inplace=True)\n",
        "df.drop('Column3', axis=1, inplace=True)\n",
        "df.drop('Column4', axis=1, inplace=True)"
      ],
      "execution_count": 0,
      "outputs": []
    },
    {
      "cell_type": "code",
      "metadata": {
        "id": "sX2xHbTe2JWV",
        "colab_type": "code",
        "colab": {
          "base_uri": "https://localhost:8080/",
          "height": 195
        },
        "outputId": "5ce1f832-1cd4-4587-9765-eca11b18aca1"
      },
      "source": [
        "# we're only looking at information regarding photos and videos so let's adjust the dataframe to only include those two\n",
        "video = df[df['status_type'] == 'video']\n",
        "photo = df[df['status_type'] == 'photo']\n",
        "\n",
        "frames = [video, photo]\n",
        "\n",
        "df = pd.concat(frames)\n",
        "\n",
        "df.head()"
      ],
      "execution_count": 3,
      "outputs": [
        {
          "output_type": "execute_result",
          "data": {
            "text/html": [
              "<div>\n",
              "<style scoped>\n",
              "    .dataframe tbody tr th:only-of-type {\n",
              "        vertical-align: middle;\n",
              "    }\n",
              "\n",
              "    .dataframe tbody tr th {\n",
              "        vertical-align: top;\n",
              "    }\n",
              "\n",
              "    .dataframe thead th {\n",
              "        text-align: right;\n",
              "    }\n",
              "</style>\n",
              "<table border=\"1\" class=\"dataframe\">\n",
              "  <thead>\n",
              "    <tr style=\"text-align: right;\">\n",
              "      <th></th>\n",
              "      <th>status_type</th>\n",
              "      <th>status_published</th>\n",
              "      <th>num_reactions</th>\n",
              "      <th>num_comments</th>\n",
              "      <th>num_shares</th>\n",
              "      <th>num_likes</th>\n",
              "      <th>num_loves</th>\n",
              "      <th>num_wows</th>\n",
              "      <th>num_hahas</th>\n",
              "      <th>num_sads</th>\n",
              "      <th>num_angrys</th>\n",
              "    </tr>\n",
              "  </thead>\n",
              "  <tbody>\n",
              "    <tr>\n",
              "      <th>0</th>\n",
              "      <td>video</td>\n",
              "      <td>4/22/2018 6:00</td>\n",
              "      <td>529</td>\n",
              "      <td>512</td>\n",
              "      <td>262</td>\n",
              "      <td>432</td>\n",
              "      <td>92</td>\n",
              "      <td>3</td>\n",
              "      <td>1</td>\n",
              "      <td>1</td>\n",
              "      <td>0</td>\n",
              "    </tr>\n",
              "    <tr>\n",
              "      <th>2</th>\n",
              "      <td>video</td>\n",
              "      <td>4/21/2018 6:17</td>\n",
              "      <td>227</td>\n",
              "      <td>236</td>\n",
              "      <td>57</td>\n",
              "      <td>204</td>\n",
              "      <td>21</td>\n",
              "      <td>1</td>\n",
              "      <td>1</td>\n",
              "      <td>0</td>\n",
              "      <td>0</td>\n",
              "    </tr>\n",
              "    <tr>\n",
              "      <th>6</th>\n",
              "      <td>video</td>\n",
              "      <td>4/18/2018 0:24</td>\n",
              "      <td>503</td>\n",
              "      <td>614</td>\n",
              "      <td>72</td>\n",
              "      <td>418</td>\n",
              "      <td>70</td>\n",
              "      <td>10</td>\n",
              "      <td>2</td>\n",
              "      <td>0</td>\n",
              "      <td>3</td>\n",
              "    </tr>\n",
              "    <tr>\n",
              "      <th>7</th>\n",
              "      <td>video</td>\n",
              "      <td>4/17/2018 7:42</td>\n",
              "      <td>295</td>\n",
              "      <td>453</td>\n",
              "      <td>53</td>\n",
              "      <td>260</td>\n",
              "      <td>32</td>\n",
              "      <td>1</td>\n",
              "      <td>1</td>\n",
              "      <td>0</td>\n",
              "      <td>1</td>\n",
              "    </tr>\n",
              "    <tr>\n",
              "      <th>15</th>\n",
              "      <td>video</td>\n",
              "      <td>4/1/2018 5:16</td>\n",
              "      <td>332</td>\n",
              "      <td>100</td>\n",
              "      <td>30</td>\n",
              "      <td>303</td>\n",
              "      <td>23</td>\n",
              "      <td>1</td>\n",
              "      <td>5</td>\n",
              "      <td>0</td>\n",
              "      <td>0</td>\n",
              "    </tr>\n",
              "  </tbody>\n",
              "</table>\n",
              "</div>"
            ],
            "text/plain": [
              "   status_type status_published  num_reactions  ...  num_hahas  num_sads  num_angrys\n",
              "0        video   4/22/2018 6:00            529  ...          1         1           0\n",
              "2        video   4/21/2018 6:17            227  ...          1         0           0\n",
              "6        video   4/18/2018 0:24            503  ...          2         0           3\n",
              "7        video   4/17/2018 7:42            295  ...          1         0           1\n",
              "15       video    4/1/2018 5:16            332  ...          5         0           0\n",
              "\n",
              "[5 rows x 11 columns]"
            ]
          },
          "metadata": {
            "tags": []
          },
          "execution_count": 3
        }
      ]
    },
    {
      "cell_type": "code",
      "metadata": {
        "id": "rB1l2zFby9AA",
        "colab_type": "code",
        "colab": {
          "base_uri": "https://localhost:8080/",
          "height": 218
        },
        "outputId": "b5b9520d-957f-4d30-e2e2-f44f3dda0461"
      },
      "source": [
        "# check for null values\n",
        "df.isnull().sum()"
      ],
      "execution_count": 4,
      "outputs": [
        {
          "output_type": "execute_result",
          "data": {
            "text/plain": [
              "status_type         0\n",
              "status_published    0\n",
              "num_reactions       0\n",
              "num_comments        0\n",
              "num_shares          0\n",
              "num_likes           0\n",
              "num_loves           0\n",
              "num_wows            0\n",
              "num_hahas           0\n",
              "num_sads            0\n",
              "num_angrys          0\n",
              "dtype: int64"
            ]
          },
          "metadata": {
            "tags": []
          },
          "execution_count": 4
        }
      ]
    },
    {
      "cell_type": "code",
      "metadata": {
        "id": "DiP6dd0q7Fp_",
        "colab_type": "code",
        "colab": {
          "base_uri": "https://localhost:8080/",
          "height": 284
        },
        "outputId": "883617ae-5e6e-4d31-962b-e3aa9f187f56"
      },
      "source": [
        "df.describe()\n"
      ],
      "execution_count": 5,
      "outputs": [
        {
          "output_type": "execute_result",
          "data": {
            "text/html": [
              "<div>\n",
              "<style scoped>\n",
              "    .dataframe tbody tr th:only-of-type {\n",
              "        vertical-align: middle;\n",
              "    }\n",
              "\n",
              "    .dataframe tbody tr th {\n",
              "        vertical-align: top;\n",
              "    }\n",
              "\n",
              "    .dataframe thead th {\n",
              "        text-align: right;\n",
              "    }\n",
              "</style>\n",
              "<table border=\"1\" class=\"dataframe\">\n",
              "  <thead>\n",
              "    <tr style=\"text-align: right;\">\n",
              "      <th></th>\n",
              "      <th>num_reactions</th>\n",
              "      <th>num_comments</th>\n",
              "      <th>num_shares</th>\n",
              "      <th>num_likes</th>\n",
              "      <th>num_loves</th>\n",
              "      <th>num_wows</th>\n",
              "      <th>num_hahas</th>\n",
              "      <th>num_sads</th>\n",
              "      <th>num_angrys</th>\n",
              "    </tr>\n",
              "  </thead>\n",
              "  <tbody>\n",
              "    <tr>\n",
              "      <th>count</th>\n",
              "      <td>6622.000000</td>\n",
              "      <td>6622.000000</td>\n",
              "      <td>6622.000000</td>\n",
              "      <td>6622.000000</td>\n",
              "      <td>6622.000000</td>\n",
              "      <td>6622.000000</td>\n",
              "      <td>6622.000000</td>\n",
              "      <td>6622.000000</td>\n",
              "      <td>6622.000000</td>\n",
              "    </tr>\n",
              "    <tr>\n",
              "      <th>mean</th>\n",
              "      <td>217.283449</td>\n",
              "      <td>236.805195</td>\n",
              "      <td>42.426457</td>\n",
              "      <td>201.419511</td>\n",
              "      <td>13.462398</td>\n",
              "      <td>1.306252</td>\n",
              "      <td>0.735125</td>\n",
              "      <td>0.238146</td>\n",
              "      <td>0.119148</td>\n",
              "    </tr>\n",
              "    <tr>\n",
              "      <th>std</th>\n",
              "      <td>447.236932</td>\n",
              "      <td>916.268048</td>\n",
              "      <td>135.414421</td>\n",
              "      <td>432.454699</td>\n",
              "      <td>41.124854</td>\n",
              "      <td>8.923553</td>\n",
              "      <td>4.078215</td>\n",
              "      <td>1.606485</td>\n",
              "      <td>0.747446</td>\n",
              "    </tr>\n",
              "    <tr>\n",
              "      <th>min</th>\n",
              "      <td>0.000000</td>\n",
              "      <td>0.000000</td>\n",
              "      <td>0.000000</td>\n",
              "      <td>0.000000</td>\n",
              "      <td>0.000000</td>\n",
              "      <td>0.000000</td>\n",
              "      <td>0.000000</td>\n",
              "      <td>0.000000</td>\n",
              "      <td>0.000000</td>\n",
              "    </tr>\n",
              "    <tr>\n",
              "      <th>25%</th>\n",
              "      <td>16.000000</td>\n",
              "      <td>0.000000</td>\n",
              "      <td>0.000000</td>\n",
              "      <td>16.000000</td>\n",
              "      <td>0.000000</td>\n",
              "      <td>0.000000</td>\n",
              "      <td>0.000000</td>\n",
              "      <td>0.000000</td>\n",
              "      <td>0.000000</td>\n",
              "    </tr>\n",
              "    <tr>\n",
              "      <th>50%</th>\n",
              "      <td>55.000000</td>\n",
              "      <td>4.000000</td>\n",
              "      <td>0.000000</td>\n",
              "      <td>53.000000</td>\n",
              "      <td>0.000000</td>\n",
              "      <td>0.000000</td>\n",
              "      <td>0.000000</td>\n",
              "      <td>0.000000</td>\n",
              "      <td>0.000000</td>\n",
              "    </tr>\n",
              "    <tr>\n",
              "      <th>75%</th>\n",
              "      <td>214.000000</td>\n",
              "      <td>24.000000</td>\n",
              "      <td>5.000000</td>\n",
              "      <td>179.000000</td>\n",
              "      <td>4.000000</td>\n",
              "      <td>1.000000</td>\n",
              "      <td>0.000000</td>\n",
              "      <td>0.000000</td>\n",
              "      <td>0.000000</td>\n",
              "    </tr>\n",
              "    <tr>\n",
              "      <th>max</th>\n",
              "      <td>4710.000000</td>\n",
              "      <td>20990.000000</td>\n",
              "      <td>3424.000000</td>\n",
              "      <td>4710.000000</td>\n",
              "      <td>657.000000</td>\n",
              "      <td>278.000000</td>\n",
              "      <td>157.000000</td>\n",
              "      <td>51.000000</td>\n",
              "      <td>31.000000</td>\n",
              "    </tr>\n",
              "  </tbody>\n",
              "</table>\n",
              "</div>"
            ],
            "text/plain": [
              "       num_reactions  num_comments  ...     num_sads   num_angrys\n",
              "count    6622.000000   6622.000000  ...  6622.000000  6622.000000\n",
              "mean      217.283449    236.805195  ...     0.238146     0.119148\n",
              "std       447.236932    916.268048  ...     1.606485     0.747446\n",
              "min         0.000000      0.000000  ...     0.000000     0.000000\n",
              "25%        16.000000      0.000000  ...     0.000000     0.000000\n",
              "50%        55.000000      4.000000  ...     0.000000     0.000000\n",
              "75%       214.000000     24.000000  ...     0.000000     0.000000\n",
              "max      4710.000000  20990.000000  ...    51.000000    31.000000\n",
              "\n",
              "[8 rows x 9 columns]"
            ]
          },
          "metadata": {
            "tags": []
          },
          "execution_count": 5
        }
      ]
    },
    {
      "cell_type": "code",
      "metadata": {
        "id": "NOTLQ_sRVioD",
        "colab_type": "code",
        "colab": {
          "base_uri": "https://localhost:8080/",
          "height": 314
        },
        "outputId": "242dbca7-e434-4f35-ac3b-bcc685a5ec00"
      },
      "source": [
        "# Compute pairwise correlation of columns, excluding NA/null values.\n",
        "df.corr()"
      ],
      "execution_count": 6,
      "outputs": [
        {
          "output_type": "execute_result",
          "data": {
            "text/html": [
              "<div>\n",
              "<style scoped>\n",
              "    .dataframe tbody tr th:only-of-type {\n",
              "        vertical-align: middle;\n",
              "    }\n",
              "\n",
              "    .dataframe tbody tr th {\n",
              "        vertical-align: top;\n",
              "    }\n",
              "\n",
              "    .dataframe thead th {\n",
              "        text-align: right;\n",
              "    }\n",
              "</style>\n",
              "<table border=\"1\" class=\"dataframe\">\n",
              "  <thead>\n",
              "    <tr style=\"text-align: right;\">\n",
              "      <th></th>\n",
              "      <th>num_reactions</th>\n",
              "      <th>num_comments</th>\n",
              "      <th>num_shares</th>\n",
              "      <th>num_likes</th>\n",
              "      <th>num_loves</th>\n",
              "      <th>num_wows</th>\n",
              "      <th>num_hahas</th>\n",
              "      <th>num_sads</th>\n",
              "      <th>num_angrys</th>\n",
              "    </tr>\n",
              "  </thead>\n",
              "  <tbody>\n",
              "    <tr>\n",
              "      <th>num_reactions</th>\n",
              "      <td>1.000000</td>\n",
              "      <td>0.165083</td>\n",
              "      <td>0.275475</td>\n",
              "      <td>0.994314</td>\n",
              "      <td>0.334020</td>\n",
              "      <td>0.277242</td>\n",
              "      <td>0.193290</td>\n",
              "      <td>0.086087</td>\n",
              "      <td>0.137463</td>\n",
              "    </tr>\n",
              "    <tr>\n",
              "      <th>num_comments</th>\n",
              "      <td>0.165083</td>\n",
              "      <td>1.000000</td>\n",
              "      <td>0.639468</td>\n",
              "      <td>0.113644</td>\n",
              "      <td>0.519473</td>\n",
              "      <td>0.161609</td>\n",
              "      <td>0.323891</td>\n",
              "      <td>0.243706</td>\n",
              "      <td>0.224546</td>\n",
              "    </tr>\n",
              "    <tr>\n",
              "      <th>num_shares</th>\n",
              "      <td>0.275475</td>\n",
              "      <td>0.639468</td>\n",
              "      <td>1.000000</td>\n",
              "      <td>0.193418</td>\n",
              "      <td>0.819376</td>\n",
              "      <td>0.411332</td>\n",
              "      <td>0.398617</td>\n",
              "      <td>0.206909</td>\n",
              "      <td>0.312120</td>\n",
              "    </tr>\n",
              "    <tr>\n",
              "      <th>num_likes</th>\n",
              "      <td>0.994314</td>\n",
              "      <td>0.113644</td>\n",
              "      <td>0.193418</td>\n",
              "      <td>1.000000</td>\n",
              "      <td>0.233537</td>\n",
              "      <td>0.213954</td>\n",
              "      <td>0.135355</td>\n",
              "      <td>0.061451</td>\n",
              "      <td>0.098809</td>\n",
              "    </tr>\n",
              "    <tr>\n",
              "      <th>num_loves</th>\n",
              "      <td>0.334020</td>\n",
              "      <td>0.519473</td>\n",
              "      <td>0.819376</td>\n",
              "      <td>0.233537</td>\n",
              "      <td>1.000000</td>\n",
              "      <td>0.512554</td>\n",
              "      <td>0.507085</td>\n",
              "      <td>0.214488</td>\n",
              "      <td>0.370991</td>\n",
              "    </tr>\n",
              "    <tr>\n",
              "      <th>num_wows</th>\n",
              "      <td>0.277242</td>\n",
              "      <td>0.161609</td>\n",
              "      <td>0.411332</td>\n",
              "      <td>0.213954</td>\n",
              "      <td>0.512554</td>\n",
              "      <td>1.000000</td>\n",
              "      <td>0.290016</td>\n",
              "      <td>0.089554</td>\n",
              "      <td>0.184718</td>\n",
              "    </tr>\n",
              "    <tr>\n",
              "      <th>num_hahas</th>\n",
              "      <td>0.193290</td>\n",
              "      <td>0.323891</td>\n",
              "      <td>0.398617</td>\n",
              "      <td>0.135355</td>\n",
              "      <td>0.507085</td>\n",
              "      <td>0.290016</td>\n",
              "      <td>1.000000</td>\n",
              "      <td>0.145182</td>\n",
              "      <td>0.211421</td>\n",
              "    </tr>\n",
              "    <tr>\n",
              "      <th>num_sads</th>\n",
              "      <td>0.086087</td>\n",
              "      <td>0.243706</td>\n",
              "      <td>0.206909</td>\n",
              "      <td>0.061451</td>\n",
              "      <td>0.214488</td>\n",
              "      <td>0.089554</td>\n",
              "      <td>0.145182</td>\n",
              "      <td>1.000000</td>\n",
              "      <td>0.145040</td>\n",
              "    </tr>\n",
              "    <tr>\n",
              "      <th>num_angrys</th>\n",
              "      <td>0.137463</td>\n",
              "      <td>0.224546</td>\n",
              "      <td>0.312120</td>\n",
              "      <td>0.098809</td>\n",
              "      <td>0.370991</td>\n",
              "      <td>0.184718</td>\n",
              "      <td>0.211421</td>\n",
              "      <td>0.145040</td>\n",
              "      <td>1.000000</td>\n",
              "    </tr>\n",
              "  </tbody>\n",
              "</table>\n",
              "</div>"
            ],
            "text/plain": [
              "               num_reactions  num_comments  ...  num_sads  num_angrys\n",
              "num_reactions       1.000000      0.165083  ...  0.086087    0.137463\n",
              "num_comments        0.165083      1.000000  ...  0.243706    0.224546\n",
              "num_shares          0.275475      0.639468  ...  0.206909    0.312120\n",
              "num_likes           0.994314      0.113644  ...  0.061451    0.098809\n",
              "num_loves           0.334020      0.519473  ...  0.214488    0.370991\n",
              "num_wows            0.277242      0.161609  ...  0.089554    0.184718\n",
              "num_hahas           0.193290      0.323891  ...  0.145182    0.211421\n",
              "num_sads            0.086087      0.243706  ...  1.000000    0.145040\n",
              "num_angrys          0.137463      0.224546  ...  0.145040    1.000000\n",
              "\n",
              "[9 rows x 9 columns]"
            ]
          },
          "metadata": {
            "tags": []
          },
          "execution_count": 6
        }
      ]
    },
    {
      "cell_type": "code",
      "metadata": {
        "id": "zqERDhvPd5Ot",
        "colab_type": "code",
        "colab": {
          "base_uri": "https://localhost:8080/",
          "height": 398
        },
        "outputId": "6f1c09f7-7be8-493d-c839-031aa93d7be0"
      },
      "source": [
        "import seaborn as sns \n",
        "import matplotlib.pyplot as plt\n",
        "\n",
        "#scatter plot with two features in df\n",
        "sns.relplot(x=\"num_reactions\", y=\"num_loves\", data=video);\n",
        "plt.title('Number of love reactions for video posts')\n"
      ],
      "execution_count": 15,
      "outputs": [
        {
          "output_type": "execute_result",
          "data": {
            "text/plain": [
              "Text(0.5, 1.0, 'Number of love reactions for video posts')"
            ]
          },
          "metadata": {
            "tags": []
          },
          "execution_count": 15
        },
        {
          "output_type": "display_data",
          "data": {
            "image/png": "[encoded data removed]",
            "text/plain": [
              "<Figure size 360x360 with 1 Axes>"
            ]
          },
          "metadata": {
            "tags": []
          }
        }
      ]
    },
    {
      "cell_type": "code",
      "metadata": {
        "id": "DY318f4feIXj",
        "colab_type": "code",
        "colab": {
          "base_uri": "https://localhost:8080/",
          "height": 398
        },
        "outputId": "b579383e-fb8c-4666-b656-deeb738b2b82"
      },
      "source": [
        "#scatter plot with two features in df\n",
        "sns.relplot(x=\"num_reactions\", y=\"num_loves\", data=photo)\n",
        "plt.title('Number of love reactions for photo posts')\n"
      ],
      "execution_count": 16,
      "outputs": [
        {
          "output_type": "execute_result",
          "data": {
            "text/plain": [
              "Text(0.5, 1.0, 'Number of love reactions for photo posts')"
            ]
          },
          "metadata": {
            "tags": []
          },
          "execution_count": 16
        },
        {
          "output_type": "display_data",
          "data": {
            "image/png": "[encoded data removed]",
            "text/plain": [
              "<Figure size 360x360 with 1 Axes>"
            ]
          },
          "metadata": {
            "tags": []
          }
        }
      ]
    },
    {
      "cell_type": "code",
      "metadata": {
        "id": "jA-E8B30eO5q",
        "colab_type": "code",
        "colab": {
          "base_uri": "https://localhost:8080/",
          "height": 369
        },
        "outputId": "70bee51b-f05d-411c-b14c-8cf2b6364135"
      },
      "source": [
        "# look at plots side by side on same scale\n",
        "g = sns.relplot(x=\"num_reactions\", y=\"num_loves\", hue=\"status_type\", size=\"num_reactions\",\n",
        "                   palette=[\"b\", \"r\"], sizes=(10, 100),\n",
        "                   col=\"status_type\", data=df)"
      ],
      "execution_count": 17,
      "outputs": [
        {
          "output_type": "display_data",
          "data": {
            "image/png": "[encoded data removed]",
            "text/plain": [
              "<Figure size 829.625x360 with 2 Axes>"
            ]
          },
          "metadata": {
            "tags": []
          }
        }
      ]
    },
    {
      "cell_type": "code",
      "metadata": {
        "id": "Osji90ZUVqvB",
        "colab_type": "code",
        "colab": {}
      },
      "source": [
        "#import libraries necessary for doing some statistics\n",
        "from scipy.stats import ttest_ind, ttest_ind_from_stats, ttest_rel\n",
        "from scipy import stats\n",
        "import seaborn as sns\n",
        "import numpy as np"
      ],
      "execution_count": 0,
      "outputs": []
    },
    {
      "cell_type": "code",
      "metadata": {
        "id": "pmfDLwFgikEt",
        "colab_type": "code",
        "colab": {
          "base_uri": "https://localhost:8080/",
          "height": 84
        },
        "outputId": "38f4bac7-bc01-4ceb-891c-924dd8a1493e"
      },
      "source": [
        "# t-test the status types\n",
        "ttest_ind(video.loc[0:, 'num_reactions': 'num_angrys'],\n",
        "          photo.loc[0:, 'num_reactions': 'num_angrys'])"
      ],
      "execution_count": 9,
      "outputs": [
        {
          "output_type": "execute_result",
          "data": {
            "text/plain": [
              "Ttest_indResult(statistic=array([ 8.92935643, 28.12178693, 35.4184757 ,  5.78883679, 35.09923905,\n",
              "        7.71652409, 14.96866549,  6.58852894, 10.93387355]), pvalue=array([5.46974529e-019, 1.80532776e-164, 8.66267133e-252, 7.41199495e-009,\n",
              "       1.13884641e-247, 1.37171997e-014, 7.63999277e-050, 4.78365048e-011,\n",
              "       1.36531179e-027]))"
            ]
          },
          "metadata": {
            "tags": []
          },
          "execution_count": 9
        }
      ]
    },
    {
      "cell_type": "code",
      "metadata": {
        "id": "oJa0g5q0i3Tx",
        "colab_type": "code",
        "colab": {
          "base_uri": "https://localhost:8080/",
          "height": 34
        },
        "outputId": "553a9806-2e77-4823-b75f-075575b8d883"
      },
      "source": [
        "# video number of shares vs. photo number of shares\n",
        "ttest_ind(video.loc[0:, 'num_shares'],\n",
        "          photo.loc[0:, 'num_shares'])"
      ],
      "execution_count": 10,
      "outputs": [
        {
          "output_type": "execute_result",
          "data": {
            "text/plain": [
              "Ttest_indResult(statistic=35.41847570179075, pvalue=8.662671334544129e-252)"
            ]
          },
          "metadata": {
            "tags": []
          },
          "execution_count": 10
        }
      ]
    },
    {
      "cell_type": "code",
      "metadata": {
        "id": "qYIVvrQCsQOL",
        "colab_type": "code",
        "colab": {
          "base_uri": "https://localhost:8080/",
          "height": 195
        },
        "outputId": "1a3549f3-599e-4921-d1b2-32da871586a0"
      },
      "source": [
        "# create a column that categorizes reaction counts\n",
        "cut_points = [0,99,199,299,399,499,10000]\n",
        "label_names = ['0-99', '100-199', '200-299', '300-399', '400-499', '500+']\n",
        "df['reactions_categories'] = pd.cut(df['num_reactions'], cut_points, labels=label_names)\n",
        "\n",
        "df.head()"
      ],
      "execution_count": 11,
      "outputs": [
        {
          "output_type": "execute_result",
          "data": {
            "text/html": [
              "<div>\n",
              "<style scoped>\n",
              "    .dataframe tbody tr th:only-of-type {\n",
              "        vertical-align: middle;\n",
              "    }\n",
              "\n",
              "    .dataframe tbody tr th {\n",
              "        vertical-align: top;\n",
              "    }\n",
              "\n",
              "    .dataframe thead th {\n",
              "        text-align: right;\n",
              "    }\n",
              "</style>\n",
              "<table border=\"1\" class=\"dataframe\">\n",
              "  <thead>\n",
              "    <tr style=\"text-align: right;\">\n",
              "      <th></th>\n",
              "      <th>status_type</th>\n",
              "      <th>status_published</th>\n",
              "      <th>num_reactions</th>\n",
              "      <th>num_comments</th>\n",
              "      <th>num_shares</th>\n",
              "      <th>num_likes</th>\n",
              "      <th>num_loves</th>\n",
              "      <th>num_wows</th>\n",
              "      <th>num_hahas</th>\n",
              "      <th>num_sads</th>\n",
              "      <th>num_angrys</th>\n",
              "      <th>reactions_categories</th>\n",
              "    </tr>\n",
              "  </thead>\n",
              "  <tbody>\n",
              "    <tr>\n",
              "      <th>0</th>\n",
              "      <td>video</td>\n",
              "      <td>4/22/2018 6:00</td>\n",
              "      <td>529</td>\n",
              "      <td>512</td>\n",
              "      <td>262</td>\n",
              "      <td>432</td>\n",
              "      <td>92</td>\n",
              "      <td>3</td>\n",
              "      <td>1</td>\n",
              "      <td>1</td>\n",
              "      <td>0</td>\n",
              "      <td>500+</td>\n",
              "    </tr>\n",
              "    <tr>\n",
              "      <th>2</th>\n",
              "      <td>video</td>\n",
              "      <td>4/21/2018 6:17</td>\n",
              "      <td>227</td>\n",
              "      <td>236</td>\n",
              "      <td>57</td>\n",
              "      <td>204</td>\n",
              "      <td>21</td>\n",
              "      <td>1</td>\n",
              "      <td>1</td>\n",
              "      <td>0</td>\n",
              "      <td>0</td>\n",
              "      <td>200-299</td>\n",
              "    </tr>\n",
              "    <tr>\n",
              "      <th>6</th>\n",
              "      <td>video</td>\n",
              "      <td>4/18/2018 0:24</td>\n",
              "      <td>503</td>\n",
              "      <td>614</td>\n",
              "      <td>72</td>\n",
              "      <td>418</td>\n",
              "      <td>70</td>\n",
              "      <td>10</td>\n",
              "      <td>2</td>\n",
              "      <td>0</td>\n",
              "      <td>3</td>\n",
              "      <td>500+</td>\n",
              "    </tr>\n",
              "    <tr>\n",
              "      <th>7</th>\n",
              "      <td>video</td>\n",
              "      <td>4/17/2018 7:42</td>\n",
              "      <td>295</td>\n",
              "      <td>453</td>\n",
              "      <td>53</td>\n",
              "      <td>260</td>\n",
              "      <td>32</td>\n",
              "      <td>1</td>\n",
              "      <td>1</td>\n",
              "      <td>0</td>\n",
              "      <td>1</td>\n",
              "      <td>200-299</td>\n",
              "    </tr>\n",
              "    <tr>\n",
              "      <th>15</th>\n",
              "      <td>video</td>\n",
              "      <td>4/1/2018 5:16</td>\n",
              "      <td>332</td>\n",
              "      <td>100</td>\n",
              "      <td>30</td>\n",
              "      <td>303</td>\n",
              "      <td>23</td>\n",
              "      <td>1</td>\n",
              "      <td>5</td>\n",
              "      <td>0</td>\n",
              "      <td>0</td>\n",
              "      <td>300-399</td>\n",
              "    </tr>\n",
              "  </tbody>\n",
              "</table>\n",
              "</div>"
            ],
            "text/plain": [
              "   status_type status_published  ...  num_angrys  reactions_categories\n",
              "0        video   4/22/2018 6:00  ...           0                  500+\n",
              "2        video   4/21/2018 6:17  ...           0               200-299\n",
              "6        video   4/18/2018 0:24  ...           3                  500+\n",
              "7        video   4/17/2018 7:42  ...           1               200-299\n",
              "15       video    4/1/2018 5:16  ...           0               300-399\n",
              "\n",
              "[5 rows x 12 columns]"
            ]
          },
          "metadata": {
            "tags": []
          },
          "execution_count": 11
        }
      ]
    },
    {
      "cell_type": "code",
      "metadata": {
        "id": "W5w0W19vtksr",
        "colab_type": "code",
        "colab": {
          "base_uri": "https://localhost:8080/",
          "height": 195
        },
        "outputId": "2512d54f-4fe2-434a-bee8-8fc4e159d9fd"
      },
      "source": [
        "data = df[['status_type', 'reactions_categories']]\n",
        "data.head()"
      ],
      "execution_count": 12,
      "outputs": [
        {
          "output_type": "execute_result",
          "data": {
            "text/html": [
              "<div>\n",
              "<style scoped>\n",
              "    .dataframe tbody tr th:only-of-type {\n",
              "        vertical-align: middle;\n",
              "    }\n",
              "\n",
              "    .dataframe tbody tr th {\n",
              "        vertical-align: top;\n",
              "    }\n",
              "\n",
              "    .dataframe thead th {\n",
              "        text-align: right;\n",
              "    }\n",
              "</style>\n",
              "<table border=\"1\" class=\"dataframe\">\n",
              "  <thead>\n",
              "    <tr style=\"text-align: right;\">\n",
              "      <th></th>\n",
              "      <th>status_type</th>\n",
              "      <th>reactions_categories</th>\n",
              "    </tr>\n",
              "  </thead>\n",
              "  <tbody>\n",
              "    <tr>\n",
              "      <th>0</th>\n",
              "      <td>video</td>\n",
              "      <td>500+</td>\n",
              "    </tr>\n",
              "    <tr>\n",
              "      <th>2</th>\n",
              "      <td>video</td>\n",
              "      <td>200-299</td>\n",
              "    </tr>\n",
              "    <tr>\n",
              "      <th>6</th>\n",
              "      <td>video</td>\n",
              "      <td>500+</td>\n",
              "    </tr>\n",
              "    <tr>\n",
              "      <th>7</th>\n",
              "      <td>video</td>\n",
              "      <td>200-299</td>\n",
              "    </tr>\n",
              "    <tr>\n",
              "      <th>15</th>\n",
              "      <td>video</td>\n",
              "      <td>300-399</td>\n",
              "    </tr>\n",
              "  </tbody>\n",
              "</table>\n",
              "</div>"
            ],
            "text/plain": [
              "   status_type reactions_categories\n",
              "0        video                 500+\n",
              "2        video              200-299\n",
              "6        video                 500+\n",
              "7        video              200-299\n",
              "15       video              300-399"
            ]
          },
          "metadata": {
            "tags": []
          },
          "execution_count": 12
        }
      ]
    },
    {
      "cell_type": "code",
      "metadata": {
        "id": "n8dFSgWYtvUT",
        "colab_type": "code",
        "colab": {
          "base_uri": "https://localhost:8080/",
          "height": 134
        },
        "outputId": "1cb39ad5-7f18-42ff-8162-66b44fe5f1ca"
      },
      "source": [
        "data['reactions_categories'].value_counts()"
      ],
      "execution_count": 13,
      "outputs": [
        {
          "output_type": "execute_result",
          "data": {
            "text/plain": [
              "0-99       3787\n",
              "100-199     956\n",
              "200-299     641\n",
              "500+        619\n",
              "300-399     343\n",
              "400-499     155\n",
              "Name: reactions_categories, dtype: int64"
            ]
          },
          "metadata": {
            "tags": []
          },
          "execution_count": 13
        }
      ]
    },
    {
      "cell_type": "code",
      "metadata": {
        "id": "2f-nMU34uQOa",
        "colab_type": "code",
        "colab": {
          "base_uri": "https://localhost:8080/",
          "height": 166
        },
        "outputId": "05d2dd55-0211-47ee-fdfd-6360fb2e2951"
      },
      "source": [
        "# find the information\n",
        "contingency_table = pd.crosstab(data['status_type'], data['reactions_categories'], margins=True)\n",
        "\n",
        "contingency_table"
      ],
      "execution_count": 17,
      "outputs": [
        {
          "output_type": "execute_result",
          "data": {
            "text/html": [
              "<div>\n",
              "<style scoped>\n",
              "    .dataframe tbody tr th:only-of-type {\n",
              "        vertical-align: middle;\n",
              "    }\n",
              "\n",
              "    .dataframe tbody tr th {\n",
              "        vertical-align: top;\n",
              "    }\n",
              "\n",
              "    .dataframe thead th {\n",
              "        text-align: right;\n",
              "    }\n",
              "</style>\n",
              "<table border=\"1\" class=\"dataframe\">\n",
              "  <thead>\n",
              "    <tr style=\"text-align: right;\">\n",
              "      <th>reactions_categories</th>\n",
              "      <th>0-99</th>\n",
              "      <th>100-199</th>\n",
              "      <th>200-299</th>\n",
              "      <th>300-399</th>\n",
              "      <th>400-499</th>\n",
              "      <th>500+</th>\n",
              "      <th>All</th>\n",
              "    </tr>\n",
              "    <tr>\n",
              "      <th>status_type</th>\n",
              "      <th></th>\n",
              "      <th></th>\n",
              "      <th></th>\n",
              "      <th></th>\n",
              "      <th></th>\n",
              "      <th></th>\n",
              "      <th></th>\n",
              "    </tr>\n",
              "  </thead>\n",
              "  <tbody>\n",
              "    <tr>\n",
              "      <th>photo</th>\n",
              "      <td>3012</td>\n",
              "      <td>458</td>\n",
              "      <td>250</td>\n",
              "      <td>156</td>\n",
              "      <td>66</td>\n",
              "      <td>319</td>\n",
              "      <td>4261</td>\n",
              "    </tr>\n",
              "    <tr>\n",
              "      <th>video</th>\n",
              "      <td>775</td>\n",
              "      <td>498</td>\n",
              "      <td>391</td>\n",
              "      <td>187</td>\n",
              "      <td>89</td>\n",
              "      <td>300</td>\n",
              "      <td>2240</td>\n",
              "    </tr>\n",
              "    <tr>\n",
              "      <th>All</th>\n",
              "      <td>155</td>\n",
              "      <td>343</td>\n",
              "      <td>956</td>\n",
              "      <td>641</td>\n",
              "      <td>619</td>\n",
              "      <td>3787</td>\n",
              "      <td>6501</td>\n",
              "    </tr>\n",
              "  </tbody>\n",
              "</table>\n",
              "</div>"
            ],
            "text/plain": [
              "reactions_categories  0-99  100-199  200-299  300-399  400-499  500+   All\n",
              "status_type                                                               \n",
              "photo                 3012      458      250      156       66   319  4261\n",
              "video                  775      498      391      187       89   300  2240\n",
              "All                    155      343      956      641      619  3787  6501"
            ]
          },
          "metadata": {
            "tags": []
          },
          "execution_count": 17
        }
      ]
    },
    {
      "cell_type": "code",
      "metadata": {
        "id": "XLO427JlyH-u",
        "colab_type": "code",
        "colab": {
          "base_uri": "https://localhost:8080/",
          "height": 34
        },
        "outputId": "f986f86a-286a-4c84-c57b-74560dba96be"
      },
      "source": [
        "photocount = contingency_table.iloc[0][0:6].values\n",
        "photocount"
      ],
      "execution_count": 18,
      "outputs": [
        {
          "output_type": "execute_result",
          "data": {
            "text/plain": [
              "array([3012,  458,  250,  156,   66,  319])"
            ]
          },
          "metadata": {
            "tags": []
          },
          "execution_count": 18
        }
      ]
    },
    {
      "cell_type": "code",
      "metadata": {
        "id": "U5p1-kr-5Ahd",
        "colab_type": "code",
        "colab": {
          "base_uri": "https://localhost:8080/",
          "height": 34
        },
        "outputId": "59d28dc2-ac91-48bb-9abe-aa431a6a947d"
      },
      "source": [
        "videocount = contingency_table.iloc[1][0:6].values\n",
        "videocount"
      ],
      "execution_count": 19,
      "outputs": [
        {
          "output_type": "execute_result",
          "data": {
            "text/plain": [
              "array([775, 498, 391, 187,  89, 300])"
            ]
          },
          "metadata": {
            "tags": []
          },
          "execution_count": 19
        }
      ]
    },
    {
      "cell_type": "code",
      "metadata": {
        "id": "YAi9SxojBL20",
        "colab_type": "code",
        "colab": {
          "base_uri": "https://localhost:8080/",
          "height": 50
        },
        "outputId": "1a45e149-b684-4c49-c8ba-b9f4b64a347c"
      },
      "source": [
        "# Get Row Sums\n",
        "row_sums = contingency_table.iloc[0:2, 6].values\n",
        "col_sums = contingency_table.iloc[2, 0:6].values\n",
        "\n",
        "print(row_sums)\n",
        "print(col_sums)"
      ],
      "execution_count": 21,
      "outputs": [
        {
          "output_type": "stream",
          "text": [
            "[4261 2240]\n",
            "[ 155  343  956  641  619 3787]\n"
          ],
          "name": "stdout"
        }
      ]
    },
    {
      "cell_type": "code",
      "metadata": {
        "id": "xUfTwyR6BONF",
        "colab_type": "code",
        "colab": {
          "base_uri": "https://localhost:8080/",
          "height": 101
        },
        "outputId": "8b82acbf-a9c0-4345-f64e-23c7bb89c273"
      },
      "source": [
        "# create expected values to plug into chi-squared formula\n",
        "total = contingency_table.loc['All', 'All']\n",
        "print(total)\n",
        "\n",
        "expected = []\n",
        "for i in range(len(row_sums)):\n",
        "  expected_row = []\n",
        "  for column in col_sums:\n",
        "    expected_val = column*row_sums[i]/total\n",
        "    expected_row.append(expected_val)\n",
        "  expected.append(expected_row)\n",
        "  \n",
        "print(np.array(expected))"
      ],
      "execution_count": 22,
      "outputs": [
        {
          "output_type": "stream",
          "text": [
            "6501\n",
            "[[ 101.59283187  224.81510537  626.59836948  420.13551761  405.71588986\n",
            "  2482.1422858 ]\n",
            " [  53.40716813  118.18489463  329.40163052  220.86448239  213.28411014\n",
            "  1304.8577142 ]]\n"
          ],
          "name": "stdout"
        }
      ]
    },
    {
      "cell_type": "code",
      "metadata": {
        "id": "cPULNpLuBTw8",
        "colab_type": "code",
        "colab": {
          "base_uri": "https://localhost:8080/",
          "height": 67
        },
        "outputId": "632274e0-3151-42cd-bf72-fa4ef2316030"
      },
      "source": [
        "contingency = pd.crosstab(data['status_type'],\n",
        "                          data['reactions_categories'])\n",
        "contingency = contingency.values\n",
        "\n",
        "print(contingency.shape)\n",
        "print(contingency)"
      ],
      "execution_count": 23,
      "outputs": [
        {
          "output_type": "stream",
          "text": [
            "(2, 6)\n",
            "[[3012  458  250  156   66  319]\n",
            " [ 775  498  391  187   89  300]]\n"
          ],
          "name": "stdout"
        }
      ]
    },
    {
      "cell_type": "code",
      "metadata": {
        "id": "C1sBABwkBcuO",
        "colab_type": "code",
        "colab": {
          "base_uri": "https://localhost:8080/",
          "height": 34
        },
        "outputId": "5563202e-1f62-4a8b-bdc7-b3c42f64497d"
      },
      "source": [
        "# create chi-squared variable\n",
        "chi_squared = ((contingency - expected)**2/(expected)).sum()\n",
        "print(f\"Chi-Squared: {chi_squared}\")"
      ],
      "execution_count": 24,
      "outputs": [
        {
          "output_type": "stream",
          "text": [
            "Chi-Squared: 98013.65703627488\n"
          ],
          "name": "stdout"
        }
      ]
    },
    {
      "cell_type": "code",
      "metadata": {
        "id": "0l2_-QRiBjsg",
        "colab_type": "code",
        "colab": {
          "base_uri": "https://localhost:8080/",
          "height": 34
        },
        "outputId": "12e27ae6-da36-4ae2-b1be-3d4e282941f7"
      },
      "source": [
        "# Calculate Degrees of Freedom\n",
        "dof = (len(row_sums)-1)*(len(col_sums)-1)\n",
        "print(f\"Degrees of Freedom: {dof}\") "
      ],
      "execution_count": 25,
      "outputs": [
        {
          "output_type": "stream",
          "text": [
            "Degrees of Freedom: 5\n"
          ],
          "name": "stdout"
        }
      ]
    },
    {
      "cell_type": "code",
      "metadata": {
        "id": "ter24GhEBndL",
        "colab_type": "code",
        "colab": {
          "base_uri": "https://localhost:8080/",
          "height": 34
        },
        "outputId": "ccde4ca6-c21c-4b4c-be74-8a0f8b77a8c6"
      },
      "source": [
        "# Calculate the p-value from the chi_squared and dof\n",
        "p_value = stats.chi2.sf(chi_squared, dof)\n",
        "print(f\"P-value: {p_value}\")"
      ],
      "execution_count": 26,
      "outputs": [
        {
          "output_type": "stream",
          "text": [
            "P-value: 0.0\n"
          ],
          "name": "stdout"
        }
      ]
    },
    {
      "cell_type": "code",
      "metadata": {
        "id": "Vgp4evmdCAdT",
        "colab_type": "code",
        "colab": {
          "base_uri": "https://localhost:8080/",
          "height": 151
        },
        "outputId": "667f0b7e-b84d-4bd8-8c93-7fa2e9c5b2b8"
      },
      "source": [
        "# finalized chi-squared test. print out results\n",
        "chi_squared, p_value, dof, expected = stats.chi2_contingency(contingency)\n",
        "\n",
        "print(f\"Chi-Squared: {chi_squared}\")\n",
        "print(f\"P-value: {p_value}\")\n",
        "print(f\"Degrees of Freedom: {dof}\") \n",
        "print(\"Expected: \\n\", np.array(expected))"
      ],
      "execution_count": 27,
      "outputs": [
        {
          "output_type": "stream",
          "text": [
            "Chi-Squared: 810.9924822070991\n",
            "P-value: 4.843615298931457e-173\n",
            "Degrees of Freedom: 5\n",
            "Expected: \n",
            " [[2482.1422858   626.59836948  420.13551761  224.81510537  101.59283187\n",
            "   405.71588986]\n",
            " [1304.8577142   329.40163052  220.86448239  118.18489463   53.40716813\n",
            "   213.28411014]]\n"
          ],
          "name": "stdout"
        }
      ]
    },
    {
      "cell_type": "markdown",
      "metadata": {
        "id": "ZGnSGJ9fdBzb",
        "colab_type": "text"
      },
      "source": [
        "Due to these results of the low P-value, I reject the null hypothesis that there is no relationship between status_type and number of reactions to a post. The alternative hypothesis is true."
      ]
    }
  ]
}