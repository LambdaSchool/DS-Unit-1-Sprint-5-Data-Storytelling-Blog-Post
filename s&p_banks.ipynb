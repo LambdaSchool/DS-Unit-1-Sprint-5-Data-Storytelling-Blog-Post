{
  "nbformat": 4,
  "nbformat_minor": 0,
  "metadata": {
    "colab": {
      "name": "s&p_banks.ipynb",
      "version": "0.3.2",
      "provenance": [],
      "collapsed_sections": [],
      "include_colab_link": true
    },
    "kernelspec": {
      "name": "python3",
      "display_name": "Python 3"
    }
  },
  "cells": [
    {
      "cell_type": "markdown",
      "metadata": {
        "id": "view-in-github",
        "colab_type": "text"
      },
      "source": [
        "<a href=\"https://colab.research.google.com/github/Nov05/DS-Unit-1-Sprint-5-Data-Storytelling-Blog-Post/blob/master/s%26p_banks.ipynb\" target=\"_parent\"><img src=\"https://colab.research.google.com/assets/colab-badge.svg\" alt=\"Open In Colab\"/></a>"
      ]
    },
    {
      "cell_type": "code",
      "metadata": {
        "id": "FFW87KoDxXIX",
        "colab_type": "code",
        "colab": {}
      },
      "source": [
        "# created by nov05 on 2019-06-27"
      ],
      "execution_count": 0,
      "outputs": []
    },
    {
      "cell_type": "code",
      "metadata": {
        "id": "ueGKEX2L9xUL",
        "colab_type": "code",
        "colab": {
          "base_uri": "https://localhost:8080/",
          "height": 125
        },
        "outputId": "9f271feb-9cb0-4469-bb44-46ea0005cb56"
      },
      "source": [
        "# Run this cell to mount your Google Drive.\n",
        "from google.colab import drive\n",
        "drive.mount('/content/drive')"
      ],
      "execution_count": 4,
      "outputs": [
        {
          "output_type": "stream",
          "text": [
            "Go to this URL in a browser: https://accounts.google.com/o/oauth2/auth?client_id=947318989803-6bn6qk8qdgf4n4g3pfee6491hc0brc4i.apps.googleusercontent.com&redirect_uri=urn%3Aietf%3Awg%3Aoauth%3A2.0%3Aoob&scope=email%20https%3A%2F%2Fwww.googleapis.com%2Fauth%2Fdocs.test%20https%3A%2F%2Fwww.googleapis.com%2Fauth%2Fdrive%20https%3A%2F%2Fwww.googleapis.com%2Fauth%2Fdrive.photos.readonly%20https%3A%2F%2Fwww.googleapis.com%2Fauth%2Fpeopleapi.readonly&response_type=code\n",
            "\n",
            "Enter your authorization code:\n",
            "··········\n",
            "Mounted at /content/drive\n"
          ],
          "name": "stdout"
        }
      ]
    },
    {
      "cell_type": "code",
      "metadata": {
        "id": "JIL5G9Fx90Ql",
        "colab_type": "code",
        "colab": {}
      },
      "source": [
        "import pandas as pd\n",
        "import numpy as np\n",
        "from datetime import datetime\n",
        "from scipy import stats\n",
        "\n",
        "import matplotlib.pyplot as plt\n",
        "from matplotlib.pyplot import cm\n",
        "import seaborn as sns\n",
        "\n",
        "%matplotlib inline\n",
        "pd.set_option('display.max_rows', 500)\n",
        "pd.set_option('display.max_columns', 500)"
      ],
      "execution_count": 0,
      "outputs": []
    },
    {
      "cell_type": "code",
      "metadata": {
        "id": "0VwZ0tMC-Df4",
        "colab_type": "code",
        "colab": {
          "base_uri": "https://localhost:8080/",
          "height": 72
        },
        "outputId": "c37283b7-0130-4257-fe74-3eaab0157898"
      },
      "source": [
        "# CAUTION: this dataset is 719 MB in size.\n",
        "\n",
        "# this doesn't work for this large file (seems that it would work for file under 50 MB)\n",
        "# url = \"https://drive.google.com/uc?id=1giGHkApdv3ehRI7uw4LoLhGT6rN_uR0r\"\n",
        "\n",
        "# this works\n",
        "# url = \"https://data.consumerfinance.gov/api/views/s6ew-h6mp/rows.csv?accessType=DOWNLOAD\"\n",
        "# df = pd.read_csv(url)\n",
        "\n",
        "# this works\n",
        "path = \"/content/drive/My Drive/data/cfpd_consumer_complaints/Consumer_Complaints.csv\"\n",
        "df = pd.read_csv(path)"
      ],
      "execution_count": 6,
      "outputs": [
        {
          "output_type": "stream",
          "text": [
            "/usr/local/lib/python3.6/dist-packages/IPython/core/interactiveshell.py:2718: DtypeWarning: Columns (4,5,6,11,16) have mixed types. Specify dtype option on import or set low_memory=False.\n",
            "  interactivity=interactivity, compiler=compiler, result=result)\n"
          ],
          "name": "stderr"
        }
      ]
    },
    {
      "cell_type": "code",
      "metadata": {
        "id": "-FtlyoKU-Kqr",
        "colab_type": "code",
        "colab": {
          "base_uri": "https://localhost:8080/",
          "height": 172
        },
        "outputId": "cfbe73fe-1422-4429-a7bf-0c8372154417"
      },
      "source": [
        "# convert datetime\n",
        "df['datereceived'] = pd.to_datetime(df['Date received'], \n",
        "                                    format=\"%m/%d/%Y\")\n",
        "df['datesent'] = pd.to_datetime(df['Date sent to company'],\n",
        "                                format=\"%m/%d/%Y\")\n",
        "df[['datereceived', 'datesent']].sample(4)"
      ],
      "execution_count": 7,
      "outputs": [
        {
          "output_type": "execute_result",
          "data": {
            "text/html": [
              "<div>\n",
              "<style scoped>\n",
              "    .dataframe tbody tr th:only-of-type {\n",
              "        vertical-align: middle;\n",
              "    }\n",
              "\n",
              "    .dataframe tbody tr th {\n",
              "        vertical-align: top;\n",
              "    }\n",
              "\n",
              "    .dataframe thead th {\n",
              "        text-align: right;\n",
              "    }\n",
              "</style>\n",
              "<table border=\"1\" class=\"dataframe\">\n",
              "  <thead>\n",
              "    <tr style=\"text-align: right;\">\n",
              "      <th></th>\n",
              "      <th>datereceived</th>\n",
              "      <th>datesent</th>\n",
              "    </tr>\n",
              "  </thead>\n",
              "  <tbody>\n",
              "    <tr>\n",
              "      <th>588326</th>\n",
              "      <td>2017-02-14</td>\n",
              "      <td>2017-02-14</td>\n",
              "    </tr>\n",
              "    <tr>\n",
              "      <th>762594</th>\n",
              "      <td>2016-04-07</td>\n",
              "      <td>2016-04-07</td>\n",
              "    </tr>\n",
              "    <tr>\n",
              "      <th>1121965</th>\n",
              "      <td>2014-01-26</td>\n",
              "      <td>2014-01-27</td>\n",
              "    </tr>\n",
              "    <tr>\n",
              "      <th>405061</th>\n",
              "      <td>2017-11-14</td>\n",
              "      <td>2017-11-14</td>\n",
              "    </tr>\n",
              "  </tbody>\n",
              "</table>\n",
              "</div>"
            ],
            "text/plain": [
              "        datereceived   datesent\n",
              "588326    2017-02-14 2017-02-14\n",
              "762594    2016-04-07 2016-04-07\n",
              "1121965   2014-01-26 2014-01-27\n",
              "405061    2017-11-14 2017-11-14"
            ]
          },
          "metadata": {
            "tags": []
          },
          "execution_count": 7
        }
      ]
    },
    {
      "cell_type": "code",
      "metadata": {
        "id": "iiDKNi5n-ZbQ",
        "colab_type": "code",
        "colab": {}
      },
      "source": [
        "# consolidate changes in products - such a pain\n",
        "\n",
        "def new_prd(row):\n",
        "  prd, sub = row[0], row[1]\n",
        "  new_prd = \"\"\n",
        "  \n",
        "  # Debt collection (no change to product name)\n",
        "  if prd in [prds[7]]:\n",
        "    new_prd = prds[7]\n",
        "  # Credit reporting, credit repair services, or other \n",
        "  # personal consumer reports (previously “Credit reporting”\n",
        "  # and sub-products of “Other financial service”)\n",
        "  elif prd in [prds[5], prds[6]]:\n",
        "    new_prd = prds[6]\n",
        "  # Mortgage (no change to product name)\n",
        "  elif prd in [prds[10]]:\n",
        "    new_prd = prds[10]\n",
        "  # Credit card or prepaid card (previously “Credit card” \n",
        "  # and “Prepaid card”)  \n",
        "  elif prd in [prds[3], prds[14], prds[4]]:\n",
        "    new_prd = prds[4]\n",
        "  # Checking or savings account (previously Bank account \n",
        "  # or service)  \n",
        "  elif prd in [prds[0], prds[1]]:\n",
        "    new_prd = prds[1]\n",
        "  # Vehicle loan or lease (previously sub-product of \n",
        "  # Consumer loan)  \n",
        "  elif prd==prds[16] or (prd==prds[2] and sub==subs[8]):\n",
        "    new_prd = prds[16]\n",
        "  # Student loan (no change to product name)  \n",
        "  elif prd in [prds[15]]:\n",
        "    new_prd = prds[15]\n",
        "  # Payday loan, title loan, or personal loan (previously \n",
        "  # “Consumer loan” and “Payday loan”)\n",
        "  elif prd in [prds[13], prds[12]] or (prd==prds[2] \n",
        "                                       and sub!=subs[8]):\n",
        "    new_prd = prds[13]\n",
        "  # Money transfer, virtual currency, or money service \n",
        "  # (previously “Money transfers,” “Other financial \n",
        "  # service,” and “Prepaid card”)  \n",
        "  elif prd in [prds[8], prds[17], prds[9], prds[11], \n",
        "               prds[14]]:\n",
        "    new_prd = prds[8]\n",
        "  \n",
        "  return new_prd"
      ],
      "execution_count": 0,
      "outputs": []
    },
    {
      "cell_type": "code",
      "metadata": {
        "id": "E_Wc0-eQ-dAC",
        "colab_type": "code",
        "colab": {
          "base_uri": "https://localhost:8080/",
          "height": 120
        },
        "outputId": "c23cc438-c71d-4186-8599-b07b219187c8"
      },
      "source": [
        "df_prd = (df.fillna('-')\n",
        "   .groupby(by=['Product', 'Sub-product'], as_index=False)\n",
        "   .agg({'Complaint ID': pd.Series.nunique})\n",
        "   .sort_values(by=['Product', 'Complaint ID'], \n",
        "                ascending=(True, False))\n",
        ")\n",
        "# print(df_prd.shape) # (99, 3)\n",
        "\n",
        "prds = df_prd['Product'].unique()\n",
        "subs = df_prd['Sub-product'].unique()\n",
        "\n",
        "# consolidate products for the whole dataset\n",
        "df['new'] = df.iloc[:,1:3].apply(new_prd, axis=1)\n",
        "# verify consolidation - result data frame should be empty\n",
        "df[df['new']=='']"
      ],
      "execution_count": 9,
      "outputs": [
        {
          "output_type": "execute_result",
          "data": {
            "text/html": [
              "<div>\n",
              "<style scoped>\n",
              "    .dataframe tbody tr th:only-of-type {\n",
              "        vertical-align: middle;\n",
              "    }\n",
              "\n",
              "    .dataframe tbody tr th {\n",
              "        vertical-align: top;\n",
              "    }\n",
              "\n",
              "    .dataframe thead th {\n",
              "        text-align: right;\n",
              "    }\n",
              "</style>\n",
              "<table border=\"1\" class=\"dataframe\">\n",
              "  <thead>\n",
              "    <tr style=\"text-align: right;\">\n",
              "      <th></th>\n",
              "      <th>Date received</th>\n",
              "      <th>Product</th>\n",
              "      <th>Sub-product</th>\n",
              "      <th>Issue</th>\n",
              "      <th>Sub-issue</th>\n",
              "      <th>Consumer complaint narrative</th>\n",
              "      <th>Company public response</th>\n",
              "      <th>Company</th>\n",
              "      <th>State</th>\n",
              "      <th>ZIP code</th>\n",
              "      <th>Tags</th>\n",
              "      <th>Consumer consent provided?</th>\n",
              "      <th>Submitted via</th>\n",
              "      <th>Date sent to company</th>\n",
              "      <th>Company response to consumer</th>\n",
              "      <th>Timely response?</th>\n",
              "      <th>Consumer disputed?</th>\n",
              "      <th>Complaint ID</th>\n",
              "      <th>datereceived</th>\n",
              "      <th>datesent</th>\n",
              "      <th>new</th>\n",
              "    </tr>\n",
              "  </thead>\n",
              "  <tbody>\n",
              "  </tbody>\n",
              "</table>\n",
              "</div>"
            ],
            "text/plain": [
              "Empty DataFrame\n",
              "Columns: [Date received, Product, Sub-product, Issue, Sub-issue, Consumer complaint narrative, Company public response, Company, State, ZIP code, Tags, Consumer consent provided?, Submitted via, Date sent to company, Company response to consumer, Timely response?, Consumer disputed?, Complaint ID, datereceived, datesent, new]\n",
              "Index: []"
            ]
          },
          "metadata": {
            "tags": []
          },
          "execution_count": 9
        }
      ]
    },
    {
      "cell_type": "markdown",
      "metadata": {
        "id": "gEL8pJkMxir2",
        "colab_type": "text"
      },
      "source": [
        "S&P Banks Select Industry Index  \n",
        "Ticker:  SPSIBK  \n",
        "https://us.spindices.com/indices/equity/sp-banks-select-industry-index  \n",
        "\n",
        "**S&P Select Industry Index**                      \n",
        "S&P Banks Select Industry Index    \n",
        "**Theoretical Portfolio Value**    \n",
        "$2,000,000,000  \n",
        "https://us.spindices.com/documents/methodologies/methodology-sp-select-industry-indices.pdf?force_download=true  \n",
        "\n",
        "**Large Commercial Banks**  \n",
        "https://www.federalreserve.gov/releases/lbr/current/  \n",
        "https://www.federalreserve.gov/releases/lbr/  \n",
        "\n",
        "**CSV file on Gist**  \n",
        "https://gist.githubusercontent.com/Nov05/91a6ba49ede748ad32998e0c31a2fa35/raw/c92e0b758087b16723f11832432a033efec89bf5/9.csv  "
      ]
    },
    {
      "cell_type": "code",
      "metadata": {
        "id": "qPt5Y8IQ0gSp",
        "colab_type": "code",
        "colab": {
          "base_uri": "https://localhost:8080/",
          "height": 197
        },
        "outputId": "ea0c4333-aee8-4ae4-ee68-2b4c3b8ed493"
      },
      "source": [
        "# url = \"https://www.federalreserve.gov/releases/lbr/current/lrg_bnk_lst.txt\"\n",
        "\n",
        "# ASCII file - better find a better data source\n",
        "# yeah copy the table data then convert it from tab separated file to CSV\n",
        "# I love myself. Haha.\n",
        "\n",
        "url = \"https://gist.githubusercontent.com/Nov05/91a6ba49ede748ad32998e0c31a2fa35/raw/c92e0b758087b16723f11832432a033efec89bf5/9.csv\"\n",
        "df_banks = pd.read_csv(url)\n",
        "print(df_banks.shape)\n",
        "df_banks.head(2)"
      ],
      "execution_count": 10,
      "outputs": [
        {
          "output_type": "stream",
          "text": [
            "(1817, 13)\n"
          ],
          "name": "stdout"
        },
        {
          "output_type": "execute_result",
          "data": {
            "text/html": [
              "<div>\n",
              "<style scoped>\n",
              "    .dataframe tbody tr th:only-of-type {\n",
              "        vertical-align: middle;\n",
              "    }\n",
              "\n",
              "    .dataframe tbody tr th {\n",
              "        vertical-align: top;\n",
              "    }\n",
              "\n",
              "    .dataframe thead th {\n",
              "        text-align: right;\n",
              "    }\n",
              "</style>\n",
              "<table border=\"1\" class=\"dataframe\">\n",
              "  <thead>\n",
              "    <tr style=\"text-align: right;\">\n",
              "      <th></th>\n",
              "      <th>Bank Name / Holding Co Name</th>\n",
              "      <th>Nat'l Rank</th>\n",
              "      <th>Bank ID</th>\n",
              "      <th>Bank Location</th>\n",
              "      <th>Charter</th>\n",
              "      <th>Consol Assets (Mil $)</th>\n",
              "      <th>Domestic Assets (Mil $)</th>\n",
              "      <th>Pct Domestic Assets</th>\n",
              "      <th>Pct Cumulative Assets</th>\n",
              "      <th>Domestic Branches</th>\n",
              "      <th>Foreign Branches</th>\n",
              "      <th>IBF</th>\n",
              "      <th>Pct Foreign Owned</th>\n",
              "    </tr>\n",
              "  </thead>\n",
              "  <tbody>\n",
              "    <tr>\n",
              "      <th>0</th>\n",
              "      <td>JPMORGAN CHASE BK NA/JPMORGAN CHASE &amp; CO</td>\n",
              "      <td>1</td>\n",
              "      <td>852218</td>\n",
              "      <td>COLUMBUS, OH</td>\n",
              "      <td>NAT</td>\n",
              "      <td>2,218,960</td>\n",
              "      <td>1,659,733</td>\n",
              "      <td>75</td>\n",
              "      <td>14</td>\n",
              "      <td>5,041</td>\n",
              "      <td>33</td>\n",
              "      <td>Y</td>\n",
              "      <td>0.00</td>\n",
              "    </tr>\n",
              "    <tr>\n",
              "      <th>1</th>\n",
              "      <td>BANK OF AMER NA/BANK OF AMER CORP</td>\n",
              "      <td>2</td>\n",
              "      <td>480228</td>\n",
              "      <td>CHARLOTTE, NC</td>\n",
              "      <td>NAT</td>\n",
              "      <td>1,782,639</td>\n",
              "      <td>1,690,841</td>\n",
              "      <td>95</td>\n",
              "      <td>25</td>\n",
              "      <td>4,338</td>\n",
              "      <td>27</td>\n",
              "      <td>Y</td>\n",
              "      <td>0.00</td>\n",
              "    </tr>\n",
              "  </tbody>\n",
              "</table>\n",
              "</div>"
            ],
            "text/plain": [
              "                Bank Name / Holding Co Name  Nat'l Rank  Bank ID  \\\n",
              "0  JPMORGAN CHASE BK NA/JPMORGAN CHASE & CO           1   852218   \n",
              "1         BANK OF AMER NA/BANK OF AMER CORP           2   480228   \n",
              "\n",
              "   Bank Location Charter Consol Assets (Mil $) Domestic Assets (Mil $)  \\\n",
              "0   COLUMBUS, OH     NAT             2,218,960               1,659,733   \n",
              "1  CHARLOTTE, NC     NAT             1,782,639               1,690,841   \n",
              "\n",
              "  Pct Domestic Assets Pct Cumulative Assets Domestic Branches  \\\n",
              "0                  75                    14             5,041   \n",
              "1                  95                    25             4,338   \n",
              "\n",
              "  Foreign Branches IBF Pct Foreign Owned  \n",
              "0               33   Y              0.00  \n",
              "1               27   Y              0.00  "
            ]
          },
          "metadata": {
            "tags": []
          },
          "execution_count": 10
        }
      ]
    },
    {
      "cell_type": "code",
      "metadata": {
        "id": "bAs412ATLCwb",
        "colab_type": "code",
        "colab": {
          "base_uri": "https://localhost:8080/",
          "height": 35
        },
        "outputId": "130b7490-5b05-4cea-b0d2-b0f623b57123"
      },
      "source": [
        "# check NAs\n",
        "print(df_banks.isna().sum().sum(),\n",
        "df['Company'].isna().sum())"
      ],
      "execution_count": 11,
      "outputs": [
        {
          "output_type": "stream",
          "text": [
            "0 0\n"
          ],
          "name": "stdout"
        }
      ]
    },
    {
      "cell_type": "code",
      "metadata": {
        "id": "ltgIWNkn4fd6",
        "colab_type": "code",
        "colab": {
          "base_uri": "https://localhost:8080/",
          "height": 35
        },
        "outputId": "34cf06d0-009d-455d-f90e-c8d92588824f"
      },
      "source": [
        "type(df_banks['Consol Assets (Mil $)'])"
      ],
      "execution_count": 12,
      "outputs": [
        {
          "output_type": "execute_result",
          "data": {
            "text/plain": [
              "pandas.core.series.Series"
            ]
          },
          "metadata": {
            "tags": []
          },
          "execution_count": 12
        }
      ]
    },
    {
      "cell_type": "code",
      "metadata": {
        "id": "9KlAOotsIMG-",
        "colab_type": "code",
        "colab": {
          "base_uri": "https://localhost:8080/",
          "height": 70
        },
        "outputId": "3da62972-f3ba-447a-eb05-50a835fb83e6"
      },
      "source": [
        "# convert numeric field\n",
        "(df_banks['Consol Assets (Mil $)']\n",
        " .replace([\",\",\"\\.\"], [\"\",\"\"], \n",
        "          regex=True, inplace=True)\n",
        ")\n",
        "df_banks['Consol Assets (Mil $)'] = pd.to_numeric(df_banks['Consol Assets (Mil $)'])\n",
        "df_banks['Consol Assets (Mil $)'].head(2)"
      ],
      "execution_count": 13,
      "outputs": [
        {
          "output_type": "execute_result",
          "data": {
            "text/plain": [
              "0    2218960.0\n",
              "1    1782639.0\n",
              "Name: Consol Assets (Mil $), dtype: float64"
            ]
          },
          "metadata": {
            "tags": []
          },
          "execution_count": 13
        }
      ]
    },
    {
      "cell_type": "code",
      "metadata": {
        "id": "HKpLtAD5KXs3",
        "colab_type": "code",
        "colab": {
          "base_uri": "https://localhost:8080/",
          "height": 35
        },
        "outputId": "93c37f08-be6c-44d9-c991-ead75b5834ee"
      },
      "source": [
        "type(df_banks.iloc[0,5])"
      ],
      "execution_count": 14,
      "outputs": [
        {
          "output_type": "execute_result",
          "data": {
            "text/plain": [
              "numpy.float64"
            ]
          },
          "metadata": {
            "tags": []
          },
          "execution_count": 14
        }
      ]
    },
    {
      "cell_type": "code",
      "metadata": {
        "id": "0LJz5K8PFWt-",
        "colab_type": "code",
        "colab": {
          "base_uri": "https://localhost:8080/",
          "height": 220
        },
        "outputId": "a5e3e1bb-48d0-4533-9a68-af1563609931"
      },
      "source": [
        "# check unique bank names and test text processing\n",
        "df_names = pd.DataFrame(df['Company'].unique())\n",
        "df_names[0] = df_names[0].str.upper()\n",
        "df_names.replace('\\.', '', regex=True, inplace=True)\n",
        "print(df_names.shape)\n",
        "df_names.head()"
      ],
      "execution_count": 15,
      "outputs": [
        {
          "output_type": "stream",
          "text": [
            "(5321, 1)\n"
          ],
          "name": "stdout"
        },
        {
          "output_type": "execute_result",
          "data": {
            "text/html": [
              "<div>\n",
              "<style scoped>\n",
              "    .dataframe tbody tr th:only-of-type {\n",
              "        vertical-align: middle;\n",
              "    }\n",
              "\n",
              "    .dataframe tbody tr th {\n",
              "        vertical-align: top;\n",
              "    }\n",
              "\n",
              "    .dataframe thead th {\n",
              "        text-align: right;\n",
              "    }\n",
              "</style>\n",
              "<table border=\"1\" class=\"dataframe\">\n",
              "  <thead>\n",
              "    <tr style=\"text-align: right;\">\n",
              "      <th></th>\n",
              "      <th>0</th>\n",
              "    </tr>\n",
              "  </thead>\n",
              "  <tbody>\n",
              "    <tr>\n",
              "      <th>0</th>\n",
              "      <td>NATIONWIDE RECOVERY GROUP LLC</td>\n",
              "    </tr>\n",
              "    <tr>\n",
              "      <th>1</th>\n",
              "      <td>ONEMAIN FINANCIAL HOLDINGS, LLC</td>\n",
              "    </tr>\n",
              "    <tr>\n",
              "      <th>2</th>\n",
              "      <td>HCFS HEALTH CARE FINANCIAL SERVICES, INC</td>\n",
              "    </tr>\n",
              "    <tr>\n",
              "      <th>3</th>\n",
              "      <td>NAVY FEDERAL CREDIT UNION</td>\n",
              "    </tr>\n",
              "    <tr>\n",
              "      <th>4</th>\n",
              "      <td>FIRST CREDIT FINANCE</td>\n",
              "    </tr>\n",
              "  </tbody>\n",
              "</table>\n",
              "</div>"
            ],
            "text/plain": [
              "                                          0\n",
              "0             NATIONWIDE RECOVERY GROUP LLC\n",
              "1           ONEMAIN FINANCIAL HOLDINGS, LLC\n",
              "2  HCFS HEALTH CARE FINANCIAL SERVICES, INC\n",
              "3                 NAVY FEDERAL CREDIT UNION\n",
              "4                      FIRST CREDIT FINANCE"
            ]
          },
          "metadata": {
            "tags": []
          },
          "execution_count": 15
        }
      ]
    },
    {
      "cell_type": "code",
      "metadata": {
        "id": "EkS9HUPxON7B",
        "colab_type": "code",
        "colab": {
          "base_uri": "https://localhost:8080/",
          "height": 123
        },
        "outputId": "26949181-b123-4ae2-98dc-0d2142eb1700"
      },
      "source": [
        "# process texts\n",
        "df['bankname'] = (df['Company']\n",
        "                  .str\n",
        "                  .upper()\n",
        "                  .replace('\\.', '', regex=True))\n",
        "df['bankname'].head()"
      ],
      "execution_count": 16,
      "outputs": [
        {
          "output_type": "execute_result",
          "data": {
            "text/plain": [
              "0               NATIONWIDE RECOVERY GROUP LLC\n",
              "1             ONEMAIN FINANCIAL HOLDINGS, LLC\n",
              "2    HCFS HEALTH CARE FINANCIAL SERVICES, INC\n",
              "3                   NAVY FEDERAL CREDIT UNION\n",
              "4                        FIRST CREDIT FINANCE\n",
              "Name: bankname, dtype: object"
            ]
          },
          "metadata": {
            "tags": []
          },
          "execution_count": 16
        }
      ]
    },
    {
      "cell_type": "code",
      "metadata": {
        "id": "MgLLAK2WQum1",
        "colab_type": "code",
        "colab": {
          "base_uri": "https://localhost:8080/",
          "height": 66
        },
        "outputId": "37c5fda4-e0bb-4579-a855-6d349072ab70"
      },
      "source": [
        "# join two tables by name, god bless you\n",
        "# (should be joined by bank id, but there are no bank ids\n",
        "#  in the complaint dataset...)\n",
        "\n",
        "df_all = pd.merge(df, df_banks, how='inner',\n",
        "                  left_on = 'bankname',\n",
        "                  right_on = 'Bank Name / Holding Co Name'\n",
        "                 )\n",
        "print(df_all.shape)\n",
        "df_all[['bankname', 'Consol Assets (Mil $)']].head()"
      ],
      "execution_count": 17,
      "outputs": [
        {
          "output_type": "stream",
          "text": [
            "(0, 35)\n"
          ],
          "name": "stdout"
        },
        {
          "output_type": "execute_result",
          "data": {
            "text/html": [
              "<div>\n",
              "<style scoped>\n",
              "    .dataframe tbody tr th:only-of-type {\n",
              "        vertical-align: middle;\n",
              "    }\n",
              "\n",
              "    .dataframe tbody tr th {\n",
              "        vertical-align: top;\n",
              "    }\n",
              "\n",
              "    .dataframe thead th {\n",
              "        text-align: right;\n",
              "    }\n",
              "</style>\n",
              "<table border=\"1\" class=\"dataframe\">\n",
              "  <thead>\n",
              "    <tr style=\"text-align: right;\">\n",
              "      <th></th>\n",
              "      <th>bankname</th>\n",
              "      <th>Consol Assets (Mil $)</th>\n",
              "    </tr>\n",
              "  </thead>\n",
              "  <tbody>\n",
              "  </tbody>\n",
              "</table>\n",
              "</div>"
            ],
            "text/plain": [
              "Empty DataFrame\n",
              "Columns: [bankname, Consol Assets (Mil $)]\n",
              "Index: []"
            ]
          },
          "metadata": {
            "tags": []
          },
          "execution_count": 17
        }
      ]
    },
    {
      "cell_type": "code",
      "metadata": {
        "id": "RN0iREwiSGAv",
        "colab_type": "code",
        "colab": {
          "base_uri": "https://localhost:8080/",
          "height": 79
        },
        "outputId": "ce11f859-cce6-4da8-c75c-dc149630626b"
      },
      "source": [
        "# test contains\n",
        "df_names[df_names[0].str.contains('BANK OF AMERICA')]"
      ],
      "execution_count": 18,
      "outputs": [
        {
          "output_type": "execute_result",
          "data": {
            "text/html": [
              "<div>\n",
              "<style scoped>\n",
              "    .dataframe tbody tr th:only-of-type {\n",
              "        vertical-align: middle;\n",
              "    }\n",
              "\n",
              "    .dataframe tbody tr th {\n",
              "        vertical-align: top;\n",
              "    }\n",
              "\n",
              "    .dataframe thead th {\n",
              "        text-align: right;\n",
              "    }\n",
              "</style>\n",
              "<table border=\"1\" class=\"dataframe\">\n",
              "  <thead>\n",
              "    <tr style=\"text-align: right;\">\n",
              "      <th></th>\n",
              "      <th>0</th>\n",
              "    </tr>\n",
              "  </thead>\n",
              "  <tbody>\n",
              "    <tr>\n",
              "      <th>123</th>\n",
              "      <td>BANK OF AMERICA, NATIONAL ASSOCIATION</td>\n",
              "    </tr>\n",
              "  </tbody>\n",
              "</table>\n",
              "</div>"
            ],
            "text/plain": [
              "                                         0\n",
              "123  BANK OF AMERICA, NATIONAL ASSOCIATION"
            ]
          },
          "metadata": {
            "tags": []
          },
          "execution_count": 18
        }
      ]
    },
    {
      "cell_type": "code",
      "metadata": {
        "id": "yhOkm_xwT83m",
        "colab_type": "code",
        "colab": {
          "base_uri": "https://localhost:8080/",
          "height": 79
        },
        "outputId": "c4e92e43-4442-4820-d55a-ab3b5bfbe10b"
      },
      "source": [
        "df_names[df_names[0].str.contains('JPMORGAN')]"
      ],
      "execution_count": 19,
      "outputs": [
        {
          "output_type": "execute_result",
          "data": {
            "text/html": [
              "<div>\n",
              "<style scoped>\n",
              "    .dataframe tbody tr th:only-of-type {\n",
              "        vertical-align: middle;\n",
              "    }\n",
              "\n",
              "    .dataframe tbody tr th {\n",
              "        vertical-align: top;\n",
              "    }\n",
              "\n",
              "    .dataframe thead th {\n",
              "        text-align: right;\n",
              "    }\n",
              "</style>\n",
              "<table border=\"1\" class=\"dataframe\">\n",
              "  <thead>\n",
              "    <tr style=\"text-align: right;\">\n",
              "      <th></th>\n",
              "      <th>0</th>\n",
              "    </tr>\n",
              "  </thead>\n",
              "  <tbody>\n",
              "    <tr>\n",
              "      <th>49</th>\n",
              "      <td>JPMORGAN CHASE &amp; CO</td>\n",
              "    </tr>\n",
              "  </tbody>\n",
              "</table>\n",
              "</div>"
            ],
            "text/plain": [
              "                      0\n",
              "49  JPMORGAN CHASE & CO"
            ]
          },
          "metadata": {
            "tags": []
          },
          "execution_count": 19
        }
      ]
    },
    {
      "cell_type": "code",
      "metadata": {
        "id": "r16eDW9zUNYa",
        "colab_type": "code",
        "colab": {
          "base_uri": "https://localhost:8080/",
          "height": 700
        },
        "outputId": "ceb11e1f-9cd8-46c1-f90e-a96135ac2a38"
      },
      "source": [
        "# ok. match records manually for a few banks...\n",
        "# s[s.str.contains('|'.join(searchfor))]\n",
        "top20 = ['JPMORGAN',  \n",
        "         'BANK OF AMER', \n",
        "         'WELLS FARGO',\n",
        "         'CITIBANK',\n",
        "         'US BANC',\n",
        "         'PNC BANK',\n",
        "         'CAPITAL ONE',\n",
        "         'TD BANK',\n",
        "         'NY MELLON',\n",
        "         'STATE STREET',\n",
        "         'BB&T',\n",
        "         'SUNTRUST',\n",
        "         'GOLDMAN SACHS',\n",
        "         'HSBC',\n",
        "         'ALLY F', \n",
        "         'MORGAN STANLEY',\n",
        "         'FIFTH THIRD',\n",
        "         'KEYCORP',\n",
        "         'CHASE', # not found, it is probably with JPMORGAN\n",
        "         'NORTHERN T',\n",
        "         'MUFG'\n",
        "        ]\n",
        "df_matches = df_names[df_names[0].str.contains('|'.join(top20))]\n",
        "print(len(top20))\n",
        "print(df_matches.shape)\n",
        "df_matches"
      ],
      "execution_count": 20,
      "outputs": [
        {
          "output_type": "stream",
          "text": [
            "21\n",
            "(20, 1)\n"
          ],
          "name": "stdout"
        },
        {
          "output_type": "execute_result",
          "data": {
            "text/html": [
              "<div>\n",
              "<style scoped>\n",
              "    .dataframe tbody tr th:only-of-type {\n",
              "        vertical-align: middle;\n",
              "    }\n",
              "\n",
              "    .dataframe tbody tr th {\n",
              "        vertical-align: top;\n",
              "    }\n",
              "\n",
              "    .dataframe thead th {\n",
              "        text-align: right;\n",
              "    }\n",
              "</style>\n",
              "<table border=\"1\" class=\"dataframe\">\n",
              "  <thead>\n",
              "    <tr style=\"text-align: right;\">\n",
              "      <th></th>\n",
              "      <th>0</th>\n",
              "    </tr>\n",
              "  </thead>\n",
              "  <tbody>\n",
              "    <tr>\n",
              "      <th>8</th>\n",
              "      <td>ALLY FINANCIAL INC</td>\n",
              "    </tr>\n",
              "    <tr>\n",
              "      <th>29</th>\n",
              "      <td>US BANCORP</td>\n",
              "    </tr>\n",
              "    <tr>\n",
              "      <th>35</th>\n",
              "      <td>HSBC NORTH AMERICA HOLDINGS INC</td>\n",
              "    </tr>\n",
              "    <tr>\n",
              "      <th>49</th>\n",
              "      <td>JPMORGAN CHASE &amp; CO</td>\n",
              "    </tr>\n",
              "    <tr>\n",
              "      <th>50</th>\n",
              "      <td>CITIBANK, NA</td>\n",
              "    </tr>\n",
              "    <tr>\n",
              "      <th>78</th>\n",
              "      <td>WELLS FARGO &amp; COMPANY</td>\n",
              "    </tr>\n",
              "    <tr>\n",
              "      <th>123</th>\n",
              "      <td>BANK OF AMERICA, NATIONAL ASSOCIATION</td>\n",
              "    </tr>\n",
              "    <tr>\n",
              "      <th>147</th>\n",
              "      <td>BB&amp;T CORPORATION</td>\n",
              "    </tr>\n",
              "    <tr>\n",
              "      <th>155</th>\n",
              "      <td>FIFTH THIRD FINANCIAL CORPORATION</td>\n",
              "    </tr>\n",
              "    <tr>\n",
              "      <th>182</th>\n",
              "      <td>CAPITAL ONE FINANCIAL CORPORATION</td>\n",
              "    </tr>\n",
              "    <tr>\n",
              "      <th>244</th>\n",
              "      <td>SUNTRUST BANKS, INC</td>\n",
              "    </tr>\n",
              "    <tr>\n",
              "      <th>292</th>\n",
              "      <td>GOLDMAN SACHS BANK USA</td>\n",
              "    </tr>\n",
              "    <tr>\n",
              "      <th>327</th>\n",
              "      <td>TD BANK US HOLDING COMPANY</td>\n",
              "    </tr>\n",
              "    <tr>\n",
              "      <th>394</th>\n",
              "      <td>KEYCORP</td>\n",
              "    </tr>\n",
              "    <tr>\n",
              "      <th>447</th>\n",
              "      <td>PNC BANK NA</td>\n",
              "    </tr>\n",
              "    <tr>\n",
              "      <th>558</th>\n",
              "      <td>BNY MELLON, NATIONAL ASSOCIATION</td>\n",
              "    </tr>\n",
              "    <tr>\n",
              "      <th>662</th>\n",
              "      <td>MUFG UNION BANK, NATIONAL ASSOCIATION</td>\n",
              "    </tr>\n",
              "    <tr>\n",
              "      <th>696</th>\n",
              "      <td>MORGAN STANLEY &amp; CO LLC</td>\n",
              "    </tr>\n",
              "    <tr>\n",
              "      <th>1316</th>\n",
              "      <td>NORTHERN TRUST COMPANY, THE</td>\n",
              "    </tr>\n",
              "    <tr>\n",
              "      <th>1416</th>\n",
              "      <td>STATE STREET BANK AND TRUST COMPANY</td>\n",
              "    </tr>\n",
              "  </tbody>\n",
              "</table>\n",
              "</div>"
            ],
            "text/plain": [
              "                                          0\n",
              "8                        ALLY FINANCIAL INC\n",
              "29                               US BANCORP\n",
              "35          HSBC NORTH AMERICA HOLDINGS INC\n",
              "49                      JPMORGAN CHASE & CO\n",
              "50                             CITIBANK, NA\n",
              "78                    WELLS FARGO & COMPANY\n",
              "123   BANK OF AMERICA, NATIONAL ASSOCIATION\n",
              "147                        BB&T CORPORATION\n",
              "155       FIFTH THIRD FINANCIAL CORPORATION\n",
              "182       CAPITAL ONE FINANCIAL CORPORATION\n",
              "244                     SUNTRUST BANKS, INC\n",
              "292                  GOLDMAN SACHS BANK USA\n",
              "327              TD BANK US HOLDING COMPANY\n",
              "394                                 KEYCORP\n",
              "447                             PNC BANK NA\n",
              "558        BNY MELLON, NATIONAL ASSOCIATION\n",
              "662   MUFG UNION BANK, NATIONAL ASSOCIATION\n",
              "696                 MORGAN STANLEY & CO LLC\n",
              "1316            NORTHERN TRUST COMPANY, THE\n",
              "1416    STATE STREET BANK AND TRUST COMPANY"
            ]
          },
          "metadata": {
            "tags": []
          },
          "execution_count": 20
        }
      ]
    },
    {
      "cell_type": "code",
      "metadata": {
        "id": "KA2Yyl2kZ4tc",
        "colab_type": "code",
        "colab": {
          "base_uri": "https://localhost:8080/",
          "height": 79
        },
        "outputId": "1455c903-81f4-4eac-f148-af722510aaae"
      },
      "source": [
        "# 1. JPMORGAN CHASE BK NA/JPMORGAN CHASE & CO\n",
        "# 20. CHASE BK USA NA/JPMORGAN CHASE & CO\n",
        "df_names[df_names[0].str.contains('CHASE')]"
      ],
      "execution_count": 21,
      "outputs": [
        {
          "output_type": "execute_result",
          "data": {
            "text/html": [
              "<div>\n",
              "<style scoped>\n",
              "    .dataframe tbody tr th:only-of-type {\n",
              "        vertical-align: middle;\n",
              "    }\n",
              "\n",
              "    .dataframe tbody tr th {\n",
              "        vertical-align: top;\n",
              "    }\n",
              "\n",
              "    .dataframe thead th {\n",
              "        text-align: right;\n",
              "    }\n",
              "</style>\n",
              "<table border=\"1\" class=\"dataframe\">\n",
              "  <thead>\n",
              "    <tr style=\"text-align: right;\">\n",
              "      <th></th>\n",
              "      <th>0</th>\n",
              "    </tr>\n",
              "  </thead>\n",
              "  <tbody>\n",
              "    <tr>\n",
              "      <th>49</th>\n",
              "      <td>JPMORGAN CHASE &amp; CO</td>\n",
              "    </tr>\n",
              "  </tbody>\n",
              "</table>\n",
              "</div>"
            ],
            "text/plain": [
              "                      0\n",
              "49  JPMORGAN CHASE & CO"
            ]
          },
          "metadata": {
            "tags": []
          },
          "execution_count": 21
        }
      ]
    },
    {
      "cell_type": "code",
      "metadata": {
        "id": "KG79dsrAbMBc",
        "colab_type": "code",
        "colab": {
          "base_uri": "https://localhost:8080/",
          "height": 35
        },
        "outputId": "b5c371cf-e71e-48b0-b218-2ba9f57c819b"
      },
      "source": [
        "condition = (df['datereceived']<=datetime(2018,12,31))\n",
        "df_all = pd.merge(df_matches, df[condition], how='inner',\n",
        "                  left_on=0, right_on='bankname'\n",
        "                 )\n",
        "condition = ((df['datereceived']<=datetime(2018,12,31)) &\n",
        "             (df['datereceived']>=datetime(2018,1,1))\n",
        "            )\n",
        "df_2018 = pd.merge(df_matches, df[condition], how='inner',\n",
        "                  left_on=0, right_on='bankname'\n",
        "                 )\n",
        "print(df_all.shape, df_2018.shape)"
      ],
      "execution_count": 22,
      "outputs": [
        {
          "output_type": "stream",
          "text": [
            "(358110, 23) (52794, 23)\n"
          ],
          "name": "stdout"
        }
      ]
    },
    {
      "cell_type": "markdown",
      "metadata": {
        "id": "7hGoK35gbw22",
        "colab_type": "text"
      },
      "source": [
        "# Finally it worked. Such a pain. Hate joining data on texts."
      ]
    },
    {
      "cell_type": "code",
      "metadata": {
        "id": "y5Z7ls8ccMJ8",
        "colab_type": "code",
        "colab": {
          "base_uri": "https://localhost:8080/",
          "height": 682
        },
        "outputId": "612403e1-b78d-4c63-b9b1-a4d2f5a852fb"
      },
      "source": [
        "df_tops = (df_all\n",
        " .groupby(by='bankname', as_index=False)\n",
        " .agg({'Complaint ID':pd.Series.nunique})\n",
        " .sort_values(by='Complaint ID',\n",
        "              ascending=False)\n",
        ")\n",
        "df_tops.index=[x for x in np.arange(20)]\n",
        "print(df_tops.shape)\n",
        "df_tops"
      ],
      "execution_count": 23,
      "outputs": [
        {
          "output_type": "stream",
          "text": [
            "(20, 2)\n"
          ],
          "name": "stdout"
        },
        {
          "output_type": "execute_result",
          "data": {
            "text/html": [
              "<div>\n",
              "<style scoped>\n",
              "    .dataframe tbody tr th:only-of-type {\n",
              "        vertical-align: middle;\n",
              "    }\n",
              "\n",
              "    .dataframe tbody tr th {\n",
              "        vertical-align: top;\n",
              "    }\n",
              "\n",
              "    .dataframe thead th {\n",
              "        text-align: right;\n",
              "    }\n",
              "</style>\n",
              "<table border=\"1\" class=\"dataframe\">\n",
              "  <thead>\n",
              "    <tr style=\"text-align: right;\">\n",
              "      <th></th>\n",
              "      <th>bankname</th>\n",
              "      <th>Complaint ID</th>\n",
              "    </tr>\n",
              "  </thead>\n",
              "  <tbody>\n",
              "    <tr>\n",
              "      <th>0</th>\n",
              "      <td>BANK OF AMERICA, NATIONAL ASSOCIATION</td>\n",
              "      <td>80084</td>\n",
              "    </tr>\n",
              "    <tr>\n",
              "      <th>1</th>\n",
              "      <td>WELLS FARGO &amp; COMPANY</td>\n",
              "      <td>68341</td>\n",
              "    </tr>\n",
              "    <tr>\n",
              "      <th>2</th>\n",
              "      <td>JPMORGAN CHASE &amp; CO</td>\n",
              "      <td>57414</td>\n",
              "    </tr>\n",
              "    <tr>\n",
              "      <th>3</th>\n",
              "      <td>CITIBANK, NA</td>\n",
              "      <td>46746</td>\n",
              "    </tr>\n",
              "    <tr>\n",
              "      <th>4</th>\n",
              "      <td>CAPITAL ONE FINANCIAL CORPORATION</td>\n",
              "      <td>32240</td>\n",
              "    </tr>\n",
              "    <tr>\n",
              "      <th>5</th>\n",
              "      <td>US BANCORP</td>\n",
              "      <td>16404</td>\n",
              "    </tr>\n",
              "    <tr>\n",
              "      <th>6</th>\n",
              "      <td>PNC BANK NA</td>\n",
              "      <td>11312</td>\n",
              "    </tr>\n",
              "    <tr>\n",
              "      <th>7</th>\n",
              "      <td>TD BANK US HOLDING COMPANY</td>\n",
              "      <td>9160</td>\n",
              "    </tr>\n",
              "    <tr>\n",
              "      <th>8</th>\n",
              "      <td>HSBC NORTH AMERICA HOLDINGS INC</td>\n",
              "      <td>8462</td>\n",
              "    </tr>\n",
              "    <tr>\n",
              "      <th>9</th>\n",
              "      <td>SUNTRUST BANKS, INC</td>\n",
              "      <td>8234</td>\n",
              "    </tr>\n",
              "    <tr>\n",
              "      <th>10</th>\n",
              "      <td>ALLY FINANCIAL INC</td>\n",
              "      <td>5181</td>\n",
              "    </tr>\n",
              "    <tr>\n",
              "      <th>11</th>\n",
              "      <td>FIFTH THIRD FINANCIAL CORPORATION</td>\n",
              "      <td>5037</td>\n",
              "    </tr>\n",
              "    <tr>\n",
              "      <th>12</th>\n",
              "      <td>BB&amp;T CORPORATION</td>\n",
              "      <td>4679</td>\n",
              "    </tr>\n",
              "    <tr>\n",
              "      <th>13</th>\n",
              "      <td>KEYCORP</td>\n",
              "      <td>3122</td>\n",
              "    </tr>\n",
              "    <tr>\n",
              "      <th>14</th>\n",
              "      <td>MUFG UNION BANK, NATIONAL ASSOCIATION</td>\n",
              "      <td>760</td>\n",
              "    </tr>\n",
              "    <tr>\n",
              "      <th>15</th>\n",
              "      <td>MORGAN STANLEY &amp; CO LLC</td>\n",
              "      <td>326</td>\n",
              "    </tr>\n",
              "    <tr>\n",
              "      <th>16</th>\n",
              "      <td>BNY MELLON, NATIONAL ASSOCIATION</td>\n",
              "      <td>258</td>\n",
              "    </tr>\n",
              "    <tr>\n",
              "      <th>17</th>\n",
              "      <td>GOLDMAN SACHS BANK USA</td>\n",
              "      <td>253</td>\n",
              "    </tr>\n",
              "    <tr>\n",
              "      <th>18</th>\n",
              "      <td>NORTHERN TRUST COMPANY, THE</td>\n",
              "      <td>77</td>\n",
              "    </tr>\n",
              "    <tr>\n",
              "      <th>19</th>\n",
              "      <td>STATE STREET BANK AND TRUST COMPANY</td>\n",
              "      <td>20</td>\n",
              "    </tr>\n",
              "  </tbody>\n",
              "</table>\n",
              "</div>"
            ],
            "text/plain": [
              "                                 bankname  Complaint ID\n",
              "0   BANK OF AMERICA, NATIONAL ASSOCIATION         80084\n",
              "1                   WELLS FARGO & COMPANY         68341\n",
              "2                     JPMORGAN CHASE & CO         57414\n",
              "3                            CITIBANK, NA         46746\n",
              "4       CAPITAL ONE FINANCIAL CORPORATION         32240\n",
              "5                              US BANCORP         16404\n",
              "6                             PNC BANK NA         11312\n",
              "7              TD BANK US HOLDING COMPANY          9160\n",
              "8         HSBC NORTH AMERICA HOLDINGS INC          8462\n",
              "9                     SUNTRUST BANKS, INC          8234\n",
              "10                     ALLY FINANCIAL INC          5181\n",
              "11      FIFTH THIRD FINANCIAL CORPORATION          5037\n",
              "12                       BB&T CORPORATION          4679\n",
              "13                                KEYCORP          3122\n",
              "14  MUFG UNION BANK, NATIONAL ASSOCIATION           760\n",
              "15                MORGAN STANLEY & CO LLC           326\n",
              "16       BNY MELLON, NATIONAL ASSOCIATION           258\n",
              "17                 GOLDMAN SACHS BANK USA           253\n",
              "18            NORTHERN TRUST COMPANY, THE            77\n",
              "19    STATE STREET BANK AND TRUST COMPANY            20"
            ]
          },
          "metadata": {
            "tags": []
          },
          "execution_count": 23
        }
      ]
    },
    {
      "cell_type": "code",
      "metadata": {
        "id": "U2EOoK-idJHK",
        "colab_type": "code",
        "colab": {
          "base_uri": "https://localhost:8080/",
          "height": 404
        },
        "outputId": "b3091430-f54a-416e-e11f-8317e78c2cc7"
      },
      "source": [
        "df_banks.iloc[:21,0] \n",
        "# [1,2,0,3,6,4,5,7,13,11,14,16,10,17,20,15,12,8,19,9]"
      ],
      "execution_count": 24,
      "outputs": [
        {
          "output_type": "execute_result",
          "data": {
            "text/plain": [
              "0         JPMORGAN CHASE BK NA/JPMORGAN CHASE & CO\n",
              "1                BANK OF AMER NA/BANK OF AMER CORP\n",
              "2               WELLS FARGO BK NA/WELLS FARGO & CO\n",
              "3                            CITIBANK NA/CITIGROUP\n",
              "4                                 U S BK NA/U S BC\n",
              "5                     PNC BK NA/PNC FNCL SVC GROUP\n",
              "6                    CAPITAL ONE NA/CAPITAL ONE FC\n",
              "7                    T D BK NA/TD GRP US HOLDS LLC\n",
              "8         BANK OF NY MELLON/BANK OF NY MELLON CORP\n",
              "9              STATE STREET B&TC/STATE STREET CORP\n",
              "10                         BRANCH BKG&TC/BB&T CORP\n",
              "11                         SUNTRUST BK/SUNTRUST BK\n",
              "12    GOLDMAN SACHS BK USA/GOLDMAN SACHS GROUP THE\n",
              "13                HSBC BK USA NA/HSBC N AMER HOLDS\n",
              "14                               ALLY BK/ALLY FNCL\n",
              "15             MORGAN STANLEY BK NA/MORGAN STANLEY\n",
              "16                   FIFTH THIRD BK/FIFTH THIRD BC\n",
              "17                              KEYBANK NA/KEYCORP\n",
              "18             CHASE BK USA NA/JPMORGAN CHASE & CO\n",
              "19                    NORTHERN TC/NORTHERN TR CORP\n",
              "20          MUFG UNION BK NA/MUFG AMERS HOLDS CORP\n",
              "Name: Bank Name / Holding Co Name, dtype: object"
            ]
          },
          "metadata": {
            "tags": []
          },
          "execution_count": 24
        }
      ]
    },
    {
      "cell_type": "code",
      "metadata": {
        "id": "qJ4YqufAfbbl",
        "colab_type": "code",
        "colab": {
          "base_uri": "https://localhost:8080/",
          "height": 35
        },
        "outputId": "54cb98f5-b45a-4746-b795-2fab05ae9ecc"
      },
      "source": [
        "seq = [1,2,0,3,6,4,5,7,13,11,14,16,10,17,20,15,12,8,19,9]\n",
        "len(seq)"
      ],
      "execution_count": 25,
      "outputs": [
        {
          "output_type": "execute_result",
          "data": {
            "text/plain": [
              "20"
            ]
          },
          "metadata": {
            "tags": []
          },
          "execution_count": 25
        }
      ]
    },
    {
      "cell_type": "code",
      "metadata": {
        "id": "1pDhDgJQfkTJ",
        "colab_type": "code",
        "colab": {
          "base_uri": "https://localhost:8080/",
          "height": 141
        },
        "outputId": "294e7b29-88b8-4bb3-9179-c0d797d7cf24"
      },
      "source": [
        "df_topbanks = pd.DataFrame([df_banks.iloc[:21,[0,1,2,5]].values[s] for s in seq])\n",
        "df_topbanks.head(3)"
      ],
      "execution_count": 26,
      "outputs": [
        {
          "output_type": "execute_result",
          "data": {
            "text/html": [
              "<div>\n",
              "<style scoped>\n",
              "    .dataframe tbody tr th:only-of-type {\n",
              "        vertical-align: middle;\n",
              "    }\n",
              "\n",
              "    .dataframe tbody tr th {\n",
              "        vertical-align: top;\n",
              "    }\n",
              "\n",
              "    .dataframe thead th {\n",
              "        text-align: right;\n",
              "    }\n",
              "</style>\n",
              "<table border=\"1\" class=\"dataframe\">\n",
              "  <thead>\n",
              "    <tr style=\"text-align: right;\">\n",
              "      <th></th>\n",
              "      <th>0</th>\n",
              "      <th>1</th>\n",
              "      <th>2</th>\n",
              "      <th>3</th>\n",
              "    </tr>\n",
              "  </thead>\n",
              "  <tbody>\n",
              "    <tr>\n",
              "      <th>0</th>\n",
              "      <td>BANK OF AMER NA/BANK OF AMER CORP</td>\n",
              "      <td>2</td>\n",
              "      <td>480228</td>\n",
              "      <td>1782639.0</td>\n",
              "    </tr>\n",
              "    <tr>\n",
              "      <th>1</th>\n",
              "      <td>WELLS FARGO BK NA/WELLS FARGO &amp; CO</td>\n",
              "      <td>3</td>\n",
              "      <td>451965</td>\n",
              "      <td>1689351.0</td>\n",
              "    </tr>\n",
              "    <tr>\n",
              "      <th>2</th>\n",
              "      <td>JPMORGAN CHASE BK NA/JPMORGAN CHASE &amp; CO</td>\n",
              "      <td>1</td>\n",
              "      <td>852218</td>\n",
              "      <td>2218960.0</td>\n",
              "    </tr>\n",
              "  </tbody>\n",
              "</table>\n",
              "</div>"
            ],
            "text/plain": [
              "                                          0  1       2          3\n",
              "0         BANK OF AMER NA/BANK OF AMER CORP  2  480228  1782639.0\n",
              "1        WELLS FARGO BK NA/WELLS FARGO & CO  3  451965  1689351.0\n",
              "2  JPMORGAN CHASE BK NA/JPMORGAN CHASE & CO  1  852218  2218960.0"
            ]
          },
          "metadata": {
            "tags": []
          },
          "execution_count": 26
        }
      ]
    },
    {
      "cell_type": "code",
      "metadata": {
        "id": "Odw_XpnOhsrE",
        "colab_type": "code",
        "colab": {
          "base_uri": "https://localhost:8080/",
          "height": 682
        },
        "outputId": "9e84d8c6-4f07-43a2-a3da-e865cb10c039"
      },
      "source": [
        "df_rank = pd.concat([df_tops, df_topbanks], axis=1)\n",
        "print(df_rank.columns)\n",
        "df_rank.columns = ['Bank Name', 'Complaint Count',  'Bank Name 2', 'Nat\\'l Rank', 'Bank ID', 'Consol Assets (Mil $)']\n",
        "df_rank['Compl/Bil $'] = df_rank['Complaint Count'] * 1000 / df_rank['Consol Assets (Mil $)']\n",
        "df_rank = df_rank.sort_values(by=\"Compl/Bil $\", ascending=False).iloc[:,[0,3,5,1,6]]\n",
        "df_rank[\"Compl/Bil $\"] = df_rank[\"Compl/Bil $\"].round(3)\n",
        "df_rank.index = [x for x in np.arange(20)]\n",
        "df_rank.to_csv(\"alltime.csv\", index=False)\n",
        "df_rank"
      ],
      "execution_count": 27,
      "outputs": [
        {
          "output_type": "stream",
          "text": [
            "Index(['bankname', 'Complaint ID', 0, 1, 2, 3], dtype='object')\n"
          ],
          "name": "stdout"
        },
        {
          "output_type": "execute_result",
          "data": {
            "text/html": [
              "<div>\n",
              "<style scoped>\n",
              "    .dataframe tbody tr th:only-of-type {\n",
              "        vertical-align: middle;\n",
              "    }\n",
              "\n",
              "    .dataframe tbody tr th {\n",
              "        vertical-align: top;\n",
              "    }\n",
              "\n",
              "    .dataframe thead th {\n",
              "        text-align: right;\n",
              "    }\n",
              "</style>\n",
              "<table border=\"1\" class=\"dataframe\">\n",
              "  <thead>\n",
              "    <tr style=\"text-align: right;\">\n",
              "      <th></th>\n",
              "      <th>Bank Name</th>\n",
              "      <th>Nat'l Rank</th>\n",
              "      <th>Consol Assets (Mil $)</th>\n",
              "      <th>Complaint Count</th>\n",
              "      <th>Compl/Bil $</th>\n",
              "    </tr>\n",
              "  </thead>\n",
              "  <tbody>\n",
              "    <tr>\n",
              "      <th>0</th>\n",
              "      <td>CAPITAL ONE FINANCIAL CORPORATION</td>\n",
              "      <td>7</td>\n",
              "      <td>304658.0</td>\n",
              "      <td>32240</td>\n",
              "      <td>105.824</td>\n",
              "    </tr>\n",
              "    <tr>\n",
              "      <th>1</th>\n",
              "      <td>HSBC NORTH AMERICA HOLDINGS INC</td>\n",
              "      <td>14</td>\n",
              "      <td>169812.0</td>\n",
              "      <td>8462</td>\n",
              "      <td>49.832</td>\n",
              "    </tr>\n",
              "    <tr>\n",
              "      <th>2</th>\n",
              "      <td>BANK OF AMERICA, NATIONAL ASSOCIATION</td>\n",
              "      <td>2</td>\n",
              "      <td>1782639.0</td>\n",
              "      <td>80084</td>\n",
              "      <td>44.924</td>\n",
              "    </tr>\n",
              "    <tr>\n",
              "      <th>3</th>\n",
              "      <td>WELLS FARGO &amp; COMPANY</td>\n",
              "      <td>3</td>\n",
              "      <td>1689351.0</td>\n",
              "      <td>68341</td>\n",
              "      <td>40.454</td>\n",
              "    </tr>\n",
              "    <tr>\n",
              "      <th>4</th>\n",
              "      <td>SUNTRUST BANKS, INC</td>\n",
              "      <td>12</td>\n",
              "      <td>209720.0</td>\n",
              "      <td>8234</td>\n",
              "      <td>39.262</td>\n",
              "    </tr>\n",
              "    <tr>\n",
              "      <th>5</th>\n",
              "      <td>US BANCORP</td>\n",
              "      <td>5</td>\n",
              "      <td>459477.0</td>\n",
              "      <td>16404</td>\n",
              "      <td>35.701</td>\n",
              "    </tr>\n",
              "    <tr>\n",
              "      <th>6</th>\n",
              "      <td>FIFTH THIRD FINANCIAL CORPORATION</td>\n",
              "      <td>17</td>\n",
              "      <td>144453.0</td>\n",
              "      <td>5037</td>\n",
              "      <td>34.869</td>\n",
              "    </tr>\n",
              "    <tr>\n",
              "      <th>7</th>\n",
              "      <td>CITIBANK, NA</td>\n",
              "      <td>4</td>\n",
              "      <td>1406717.0</td>\n",
              "      <td>46746</td>\n",
              "      <td>33.231</td>\n",
              "    </tr>\n",
              "    <tr>\n",
              "      <th>8</th>\n",
              "      <td>ALLY FINANCIAL INC</td>\n",
              "      <td>15</td>\n",
              "      <td>159291.0</td>\n",
              "      <td>5181</td>\n",
              "      <td>32.525</td>\n",
              "    </tr>\n",
              "    <tr>\n",
              "      <th>9</th>\n",
              "      <td>PNC BANK NA</td>\n",
              "      <td>6</td>\n",
              "      <td>370501.0</td>\n",
              "      <td>11312</td>\n",
              "      <td>30.532</td>\n",
              "    </tr>\n",
              "    <tr>\n",
              "      <th>10</th>\n",
              "      <td>TD BANK US HOLDING COMPANY</td>\n",
              "      <td>8</td>\n",
              "      <td>302669.0</td>\n",
              "      <td>9160</td>\n",
              "      <td>30.264</td>\n",
              "    </tr>\n",
              "    <tr>\n",
              "      <th>11</th>\n",
              "      <td>JPMORGAN CHASE &amp; CO</td>\n",
              "      <td>1</td>\n",
              "      <td>2218960.0</td>\n",
              "      <td>57414</td>\n",
              "      <td>25.874</td>\n",
              "    </tr>\n",
              "    <tr>\n",
              "      <th>12</th>\n",
              "      <td>KEYCORP</td>\n",
              "      <td>18</td>\n",
              "      <td>137977.0</td>\n",
              "      <td>3122</td>\n",
              "      <td>22.627</td>\n",
              "    </tr>\n",
              "    <tr>\n",
              "      <th>13</th>\n",
              "      <td>BB&amp;T CORPORATION</td>\n",
              "      <td>11</td>\n",
              "      <td>219071.0</td>\n",
              "      <td>4679</td>\n",
              "      <td>21.358</td>\n",
              "    </tr>\n",
              "    <tr>\n",
              "      <th>14</th>\n",
              "      <td>MUFG UNION BANK, NATIONAL ASSOCIATION</td>\n",
              "      <td>21</td>\n",
              "      <td>130783.0</td>\n",
              "      <td>760</td>\n",
              "      <td>5.811</td>\n",
              "    </tr>\n",
              "    <tr>\n",
              "      <th>15</th>\n",
              "      <td>MORGAN STANLEY &amp; CO LLC</td>\n",
              "      <td>16</td>\n",
              "      <td>149817.0</td>\n",
              "      <td>326</td>\n",
              "      <td>2.176</td>\n",
              "    </tr>\n",
              "    <tr>\n",
              "      <th>16</th>\n",
              "      <td>BNY MELLON, NATIONAL ASSOCIATION</td>\n",
              "      <td>13</td>\n",
              "      <td>191517.0</td>\n",
              "      <td>258</td>\n",
              "      <td>1.347</td>\n",
              "    </tr>\n",
              "    <tr>\n",
              "      <th>17</th>\n",
              "      <td>GOLDMAN SACHS BANK USA</td>\n",
              "      <td>9</td>\n",
              "      <td>286411.0</td>\n",
              "      <td>253</td>\n",
              "      <td>0.883</td>\n",
              "    </tr>\n",
              "    <tr>\n",
              "      <th>18</th>\n",
              "      <td>NORTHERN TRUST COMPANY, THE</td>\n",
              "      <td>20</td>\n",
              "      <td>131696.0</td>\n",
              "      <td>77</td>\n",
              "      <td>0.585</td>\n",
              "    </tr>\n",
              "    <tr>\n",
              "      <th>19</th>\n",
              "      <td>STATE STREET BANK AND TRUST COMPANY</td>\n",
              "      <td>10</td>\n",
              "      <td>242038.0</td>\n",
              "      <td>20</td>\n",
              "      <td>0.083</td>\n",
              "    </tr>\n",
              "  </tbody>\n",
              "</table>\n",
              "</div>"
            ],
            "text/plain": [
              "                                Bank Name  Nat'l Rank  Consol Assets (Mil $)  \\\n",
              "0       CAPITAL ONE FINANCIAL CORPORATION           7               304658.0   \n",
              "1         HSBC NORTH AMERICA HOLDINGS INC          14               169812.0   \n",
              "2   BANK OF AMERICA, NATIONAL ASSOCIATION           2              1782639.0   \n",
              "3                   WELLS FARGO & COMPANY           3              1689351.0   \n",
              "4                     SUNTRUST BANKS, INC          12               209720.0   \n",
              "5                              US BANCORP           5               459477.0   \n",
              "6       FIFTH THIRD FINANCIAL CORPORATION          17               144453.0   \n",
              "7                            CITIBANK, NA           4              1406717.0   \n",
              "8                      ALLY FINANCIAL INC          15               159291.0   \n",
              "9                             PNC BANK NA           6               370501.0   \n",
              "10             TD BANK US HOLDING COMPANY           8               302669.0   \n",
              "11                    JPMORGAN CHASE & CO           1              2218960.0   \n",
              "12                                KEYCORP          18               137977.0   \n",
              "13                       BB&T CORPORATION          11               219071.0   \n",
              "14  MUFG UNION BANK, NATIONAL ASSOCIATION          21               130783.0   \n",
              "15                MORGAN STANLEY & CO LLC          16               149817.0   \n",
              "16       BNY MELLON, NATIONAL ASSOCIATION          13               191517.0   \n",
              "17                 GOLDMAN SACHS BANK USA           9               286411.0   \n",
              "18            NORTHERN TRUST COMPANY, THE          20               131696.0   \n",
              "19    STATE STREET BANK AND TRUST COMPANY          10               242038.0   \n",
              "\n",
              "    Complaint Count  Compl/Bil $  \n",
              "0             32240      105.824  \n",
              "1              8462       49.832  \n",
              "2             80084       44.924  \n",
              "3             68341       40.454  \n",
              "4              8234       39.262  \n",
              "5             16404       35.701  \n",
              "6              5037       34.869  \n",
              "7             46746       33.231  \n",
              "8              5181       32.525  \n",
              "9             11312       30.532  \n",
              "10             9160       30.264  \n",
              "11            57414       25.874  \n",
              "12             3122       22.627  \n",
              "13             4679       21.358  \n",
              "14              760        5.811  \n",
              "15              326        2.176  \n",
              "16              258        1.347  \n",
              "17              253        0.883  \n",
              "18               77        0.585  \n",
              "19               20        0.083  "
            ]
          },
          "metadata": {
            "tags": []
          },
          "execution_count": 27
        }
      ]
    },
    {
      "cell_type": "markdown",
      "metadata": {
        "id": "68UV3xhskF80",
        "colab_type": "text"
      },
      "source": [
        "**Reference**  \n",
        "https://lendedu.com/blog/banks-cfpb-complaints-2018/  "
      ]
    },
    {
      "cell_type": "code",
      "metadata": {
        "id": "qh-dAPHFBqnG",
        "colab_type": "code",
        "colab": {
          "base_uri": "https://localhost:8080/",
          "height": 220
        },
        "outputId": "b2e54476-c5bf-4ad0-b6ca-1520aa2e63c2"
      },
      "source": [
        "df_tops_2018 = (df_2018\n",
        " .groupby(by='bankname', as_index=False)\n",
        " .agg({'Complaint ID':pd.Series.nunique})\n",
        " .sort_values(by='Complaint ID',\n",
        "              ascending=False)\n",
        ")\n",
        "df_tops_2018.index=[x for x in np.arange(20)]\n",
        "print(df_tops_2018.shape)\n",
        "df_tops_2018.head()"
      ],
      "execution_count": 28,
      "outputs": [
        {
          "output_type": "stream",
          "text": [
            "(20, 2)\n"
          ],
          "name": "stdout"
        },
        {
          "output_type": "execute_result",
          "data": {
            "text/html": [
              "<div>\n",
              "<style scoped>\n",
              "    .dataframe tbody tr th:only-of-type {\n",
              "        vertical-align: middle;\n",
              "    }\n",
              "\n",
              "    .dataframe tbody tr th {\n",
              "        vertical-align: top;\n",
              "    }\n",
              "\n",
              "    .dataframe thead th {\n",
              "        text-align: right;\n",
              "    }\n",
              "</style>\n",
              "<table border=\"1\" class=\"dataframe\">\n",
              "  <thead>\n",
              "    <tr style=\"text-align: right;\">\n",
              "      <th></th>\n",
              "      <th>bankname</th>\n",
              "      <th>Complaint ID</th>\n",
              "    </tr>\n",
              "  </thead>\n",
              "  <tbody>\n",
              "    <tr>\n",
              "      <th>0</th>\n",
              "      <td>JPMORGAN CHASE &amp; CO</td>\n",
              "      <td>8906</td>\n",
              "    </tr>\n",
              "    <tr>\n",
              "      <th>1</th>\n",
              "      <td>WELLS FARGO &amp; COMPANY</td>\n",
              "      <td>8789</td>\n",
              "    </tr>\n",
              "    <tr>\n",
              "      <th>2</th>\n",
              "      <td>BANK OF AMERICA, NATIONAL ASSOCIATION</td>\n",
              "      <td>8312</td>\n",
              "    </tr>\n",
              "    <tr>\n",
              "      <th>3</th>\n",
              "      <td>CAPITAL ONE FINANCIAL CORPORATION</td>\n",
              "      <td>7676</td>\n",
              "    </tr>\n",
              "    <tr>\n",
              "      <th>4</th>\n",
              "      <td>CITIBANK, NA</td>\n",
              "      <td>7263</td>\n",
              "    </tr>\n",
              "  </tbody>\n",
              "</table>\n",
              "</div>"
            ],
            "text/plain": [
              "                                bankname  Complaint ID\n",
              "0                    JPMORGAN CHASE & CO          8906\n",
              "1                  WELLS FARGO & COMPANY          8789\n",
              "2  BANK OF AMERICA, NATIONAL ASSOCIATION          8312\n",
              "3      CAPITAL ONE FINANCIAL CORPORATION          7676\n",
              "4                           CITIBANK, NA          7263"
            ]
          },
          "metadata": {
            "tags": []
          },
          "execution_count": 28
        }
      ]
    },
    {
      "cell_type": "code",
      "metadata": {
        "id": "EG4EqX5qCn5X",
        "colab_type": "code",
        "colab": {
          "base_uri": "https://localhost:8080/",
          "height": 665
        },
        "outputId": "9255006a-456d-4d05-d5d8-b6793cd7c8c9"
      },
      "source": [
        "df_rank_2018 = pd.concat([df_tops_2018, df_topbanks], axis=1)\n",
        "df_rank_2018.columns = ['Bank Name', 'Complaint Count',  'Bank Name 2', 'Nat\\'l Rank', 'Bank ID', 'Consol Assets (Mil $)']\n",
        "df_rank_2018['Compl/Bil $'] = df_rank_2018['Complaint Count'] * 1000 / df_rank_2018['Consol Assets (Mil $)']\n",
        "df_rank_2018 = df_rank_2018.sort_values(by=\"Compl/Bil $\", ascending=False).iloc[:,[0,3,5,1,6]]\n",
        "df_rank_2018.iloc[:,4] = df_rank_2018.iloc[:,4].round(3)\n",
        "df_rank_2018.index = [x for x in np.arange(20)]\n",
        "df_rank_2018.to_csv(\"2018.csv\", index=False)\n",
        "df_rank_2018"
      ],
      "execution_count": 29,
      "outputs": [
        {
          "output_type": "execute_result",
          "data": {
            "text/html": [
              "<div>\n",
              "<style scoped>\n",
              "    .dataframe tbody tr th:only-of-type {\n",
              "        vertical-align: middle;\n",
              "    }\n",
              "\n",
              "    .dataframe tbody tr th {\n",
              "        vertical-align: top;\n",
              "    }\n",
              "\n",
              "    .dataframe thead th {\n",
              "        text-align: right;\n",
              "    }\n",
              "</style>\n",
              "<table border=\"1\" class=\"dataframe\">\n",
              "  <thead>\n",
              "    <tr style=\"text-align: right;\">\n",
              "      <th></th>\n",
              "      <th>Bank Name</th>\n",
              "      <th>Nat'l Rank</th>\n",
              "      <th>Consol Assets (Mil $)</th>\n",
              "      <th>Complaint Count</th>\n",
              "      <th>Compl/Bil $</th>\n",
              "    </tr>\n",
              "  </thead>\n",
              "  <tbody>\n",
              "    <tr>\n",
              "      <th>0</th>\n",
              "      <td>CITIBANK, NA</td>\n",
              "      <td>7</td>\n",
              "      <td>304658.0</td>\n",
              "      <td>7263</td>\n",
              "      <td>23.840</td>\n",
              "    </tr>\n",
              "    <tr>\n",
              "      <th>1</th>\n",
              "      <td>SUNTRUST BANKS, INC</td>\n",
              "      <td>14</td>\n",
              "      <td>169812.0</td>\n",
              "      <td>1175</td>\n",
              "      <td>6.919</td>\n",
              "    </tr>\n",
              "    <tr>\n",
              "      <th>2</th>\n",
              "      <td>TD BANK US HOLDING COMPANY</td>\n",
              "      <td>6</td>\n",
              "      <td>370501.0</td>\n",
              "      <td>2117</td>\n",
              "      <td>5.714</td>\n",
              "    </tr>\n",
              "    <tr>\n",
              "      <th>3</th>\n",
              "      <td>FIFTH THIRD FINANCIAL CORPORATION</td>\n",
              "      <td>17</td>\n",
              "      <td>144453.0</td>\n",
              "      <td>824</td>\n",
              "      <td>5.704</td>\n",
              "    </tr>\n",
              "    <tr>\n",
              "      <th>4</th>\n",
              "      <td>CAPITAL ONE FINANCIAL CORPORATION</td>\n",
              "      <td>4</td>\n",
              "      <td>1406717.0</td>\n",
              "      <td>7676</td>\n",
              "      <td>5.457</td>\n",
              "    </tr>\n",
              "    <tr>\n",
              "      <th>5</th>\n",
              "      <td>PNC BANK NA</td>\n",
              "      <td>8</td>\n",
              "      <td>302669.0</td>\n",
              "      <td>1650</td>\n",
              "      <td>5.451</td>\n",
              "    </tr>\n",
              "    <tr>\n",
              "      <th>6</th>\n",
              "      <td>ALLY FINANCIAL INC</td>\n",
              "      <td>12</td>\n",
              "      <td>209720.0</td>\n",
              "      <td>1119</td>\n",
              "      <td>5.336</td>\n",
              "    </tr>\n",
              "    <tr>\n",
              "      <th>7</th>\n",
              "      <td>HSBC NORTH AMERICA HOLDINGS INC</td>\n",
              "      <td>15</td>\n",
              "      <td>159291.0</td>\n",
              "      <td>839</td>\n",
              "      <td>5.267</td>\n",
              "    </tr>\n",
              "    <tr>\n",
              "      <th>8</th>\n",
              "      <td>US BANCORP</td>\n",
              "      <td>5</td>\n",
              "      <td>459477.0</td>\n",
              "      <td>2391</td>\n",
              "      <td>5.204</td>\n",
              "    </tr>\n",
              "    <tr>\n",
              "      <th>9</th>\n",
              "      <td>WELLS FARGO &amp; COMPANY</td>\n",
              "      <td>3</td>\n",
              "      <td>1689351.0</td>\n",
              "      <td>8789</td>\n",
              "      <td>5.203</td>\n",
              "    </tr>\n",
              "    <tr>\n",
              "      <th>10</th>\n",
              "      <td>JPMORGAN CHASE &amp; CO</td>\n",
              "      <td>2</td>\n",
              "      <td>1782639.0</td>\n",
              "      <td>8906</td>\n",
              "      <td>4.996</td>\n",
              "    </tr>\n",
              "    <tr>\n",
              "      <th>11</th>\n",
              "      <td>KEYCORP</td>\n",
              "      <td>18</td>\n",
              "      <td>137977.0</td>\n",
              "      <td>593</td>\n",
              "      <td>4.298</td>\n",
              "    </tr>\n",
              "    <tr>\n",
              "      <th>12</th>\n",
              "      <td>BB&amp;T CORPORATION</td>\n",
              "      <td>11</td>\n",
              "      <td>219071.0</td>\n",
              "      <td>823</td>\n",
              "      <td>3.757</td>\n",
              "    </tr>\n",
              "    <tr>\n",
              "      <th>13</th>\n",
              "      <td>BANK OF AMERICA, NATIONAL ASSOCIATION</td>\n",
              "      <td>1</td>\n",
              "      <td>2218960.0</td>\n",
              "      <td>8312</td>\n",
              "      <td>3.746</td>\n",
              "    </tr>\n",
              "    <tr>\n",
              "      <th>14</th>\n",
              "      <td>MUFG UNION BANK, NATIONAL ASSOCIATION</td>\n",
              "      <td>21</td>\n",
              "      <td>130783.0</td>\n",
              "      <td>140</td>\n",
              "      <td>1.070</td>\n",
              "    </tr>\n",
              "    <tr>\n",
              "      <th>15</th>\n",
              "      <td>GOLDMAN SACHS BANK USA</td>\n",
              "      <td>16</td>\n",
              "      <td>149817.0</td>\n",
              "      <td>106</td>\n",
              "      <td>0.708</td>\n",
              "    </tr>\n",
              "    <tr>\n",
              "      <th>16</th>\n",
              "      <td>BNY MELLON, NATIONAL ASSOCIATION</td>\n",
              "      <td>13</td>\n",
              "      <td>191517.0</td>\n",
              "      <td>40</td>\n",
              "      <td>0.209</td>\n",
              "    </tr>\n",
              "    <tr>\n",
              "      <th>17</th>\n",
              "      <td>MORGAN STANLEY &amp; CO LLC</td>\n",
              "      <td>20</td>\n",
              "      <td>131696.0</td>\n",
              "      <td>12</td>\n",
              "      <td>0.091</td>\n",
              "    </tr>\n",
              "    <tr>\n",
              "      <th>18</th>\n",
              "      <td>NORTHERN TRUST COMPANY, THE</td>\n",
              "      <td>9</td>\n",
              "      <td>286411.0</td>\n",
              "      <td>15</td>\n",
              "      <td>0.052</td>\n",
              "    </tr>\n",
              "    <tr>\n",
              "      <th>19</th>\n",
              "      <td>STATE STREET BANK AND TRUST COMPANY</td>\n",
              "      <td>10</td>\n",
              "      <td>242038.0</td>\n",
              "      <td>4</td>\n",
              "      <td>0.017</td>\n",
              "    </tr>\n",
              "  </tbody>\n",
              "</table>\n",
              "</div>"
            ],
            "text/plain": [
              "                                Bank Name  Nat'l Rank  Consol Assets (Mil $)  \\\n",
              "0                            CITIBANK, NA           7               304658.0   \n",
              "1                     SUNTRUST BANKS, INC          14               169812.0   \n",
              "2              TD BANK US HOLDING COMPANY           6               370501.0   \n",
              "3       FIFTH THIRD FINANCIAL CORPORATION          17               144453.0   \n",
              "4       CAPITAL ONE FINANCIAL CORPORATION           4              1406717.0   \n",
              "5                             PNC BANK NA           8               302669.0   \n",
              "6                      ALLY FINANCIAL INC          12               209720.0   \n",
              "7         HSBC NORTH AMERICA HOLDINGS INC          15               159291.0   \n",
              "8                              US BANCORP           5               459477.0   \n",
              "9                   WELLS FARGO & COMPANY           3              1689351.0   \n",
              "10                    JPMORGAN CHASE & CO           2              1782639.0   \n",
              "11                                KEYCORP          18               137977.0   \n",
              "12                       BB&T CORPORATION          11               219071.0   \n",
              "13  BANK OF AMERICA, NATIONAL ASSOCIATION           1              2218960.0   \n",
              "14  MUFG UNION BANK, NATIONAL ASSOCIATION          21               130783.0   \n",
              "15                 GOLDMAN SACHS BANK USA          16               149817.0   \n",
              "16       BNY MELLON, NATIONAL ASSOCIATION          13               191517.0   \n",
              "17                MORGAN STANLEY & CO LLC          20               131696.0   \n",
              "18            NORTHERN TRUST COMPANY, THE           9               286411.0   \n",
              "19    STATE STREET BANK AND TRUST COMPANY          10               242038.0   \n",
              "\n",
              "    Complaint Count  Compl/Bil $  \n",
              "0              7263       23.840  \n",
              "1              1175        6.919  \n",
              "2              2117        5.714  \n",
              "3               824        5.704  \n",
              "4              7676        5.457  \n",
              "5              1650        5.451  \n",
              "6              1119        5.336  \n",
              "7               839        5.267  \n",
              "8              2391        5.204  \n",
              "9              8789        5.203  \n",
              "10             8906        4.996  \n",
              "11              593        4.298  \n",
              "12              823        3.757  \n",
              "13             8312        3.746  \n",
              "14              140        1.070  \n",
              "15              106        0.708  \n",
              "16               40        0.209  \n",
              "17               12        0.091  \n",
              "18               15        0.052  \n",
              "19                4        0.017  "
            ]
          },
          "metadata": {
            "tags": []
          },
          "execution_count": 29
        }
      ]
    },
    {
      "cell_type": "markdown",
      "metadata": {
        "id": "IXUxHdZRp-vA",
        "colab_type": "text"
      },
      "source": [
        "# Time to plot  _(:з」∠) _"
      ]
    },
    {
      "cell_type": "code",
      "metadata": {
        "id": "GIfN7_hxIrP2",
        "colab_type": "code",
        "colab": {
          "base_uri": "https://localhost:8080/",
          "height": 203
        },
        "outputId": "54169776-efbf-4d49-e4f5-e85e0bd41420"
      },
      "source": [
        "# df_rank['log']= np.log10(df_rank['Compl/Bil $']*1000)\n",
        "# df_rank_2018['log']= np.log10(df_rank_2018['Compl/Bil $']*1000)\n",
        "df_rank_2018.sort_values(by=\"Compl/Bil $\",\n",
        "                         inplace=True\n",
        "                        )\n",
        "seq=[df_rank['Bank Name'].tolist().index(b) for b in df_rank_2018['Bank Name']]\n",
        "df_rank = pd.DataFrame([df_rank.loc[s].tolist() for s in seq])\n",
        "df_rank.columns = df_rank_2018.columns\n",
        "df_rank.head()"
      ],
      "execution_count": 30,
      "outputs": [
        {
          "output_type": "execute_result",
          "data": {
            "text/html": [
              "<div>\n",
              "<style scoped>\n",
              "    .dataframe tbody tr th:only-of-type {\n",
              "        vertical-align: middle;\n",
              "    }\n",
              "\n",
              "    .dataframe tbody tr th {\n",
              "        vertical-align: top;\n",
              "    }\n",
              "\n",
              "    .dataframe thead th {\n",
              "        text-align: right;\n",
              "    }\n",
              "</style>\n",
              "<table border=\"1\" class=\"dataframe\">\n",
              "  <thead>\n",
              "    <tr style=\"text-align: right;\">\n",
              "      <th></th>\n",
              "      <th>Bank Name</th>\n",
              "      <th>Nat'l Rank</th>\n",
              "      <th>Consol Assets (Mil $)</th>\n",
              "      <th>Complaint Count</th>\n",
              "      <th>Compl/Bil $</th>\n",
              "    </tr>\n",
              "  </thead>\n",
              "  <tbody>\n",
              "    <tr>\n",
              "      <th>0</th>\n",
              "      <td>STATE STREET BANK AND TRUST COMPANY</td>\n",
              "      <td>10</td>\n",
              "      <td>242038.0</td>\n",
              "      <td>20</td>\n",
              "      <td>0.083</td>\n",
              "    </tr>\n",
              "    <tr>\n",
              "      <th>1</th>\n",
              "      <td>NORTHERN TRUST COMPANY, THE</td>\n",
              "      <td>20</td>\n",
              "      <td>131696.0</td>\n",
              "      <td>77</td>\n",
              "      <td>0.585</td>\n",
              "    </tr>\n",
              "    <tr>\n",
              "      <th>2</th>\n",
              "      <td>MORGAN STANLEY &amp; CO LLC</td>\n",
              "      <td>16</td>\n",
              "      <td>149817.0</td>\n",
              "      <td>326</td>\n",
              "      <td>2.176</td>\n",
              "    </tr>\n",
              "    <tr>\n",
              "      <th>3</th>\n",
              "      <td>BNY MELLON, NATIONAL ASSOCIATION</td>\n",
              "      <td>13</td>\n",
              "      <td>191517.0</td>\n",
              "      <td>258</td>\n",
              "      <td>1.347</td>\n",
              "    </tr>\n",
              "    <tr>\n",
              "      <th>4</th>\n",
              "      <td>GOLDMAN SACHS BANK USA</td>\n",
              "      <td>9</td>\n",
              "      <td>286411.0</td>\n",
              "      <td>253</td>\n",
              "      <td>0.883</td>\n",
              "    </tr>\n",
              "  </tbody>\n",
              "</table>\n",
              "</div>"
            ],
            "text/plain": [
              "                             Bank Name  Nat'l Rank  Consol Assets (Mil $)  \\\n",
              "0  STATE STREET BANK AND TRUST COMPANY          10               242038.0   \n",
              "1          NORTHERN TRUST COMPANY, THE          20               131696.0   \n",
              "2              MORGAN STANLEY & CO LLC          16               149817.0   \n",
              "3     BNY MELLON, NATIONAL ASSOCIATION          13               191517.0   \n",
              "4               GOLDMAN SACHS BANK USA           9               286411.0   \n",
              "\n",
              "   Complaint Count  Compl/Bil $  \n",
              "0               20        0.083  \n",
              "1               77        0.585  \n",
              "2              326        2.176  \n",
              "3              258        1.347  \n",
              "4              253        0.883  "
            ]
          },
          "metadata": {
            "tags": []
          },
          "execution_count": 30
        }
      ]
    },
    {
      "cell_type": "code",
      "metadata": {
        "id": "N7L6l4W-0U1a",
        "colab_type": "code",
        "colab": {
          "base_uri": "https://localhost:8080/",
          "height": 478
        },
        "outputId": "392606c3-dbf0-4e8f-fb21-89bbb10f9410"
      },
      "source": [
        "import matplotlib.pyplot as plt\n",
        "from matplotlib.pyplot import cm\n",
        "plt.style.use('seaborn-whitegrid')\n",
        "colors=cm.Blues(np.linspace(0.2,0.8,5))\n",
        "\n",
        "fig, ax = plt.subplots(1,1,figsize=(10,6))\n",
        "\n",
        "\n",
        "b1 = ax.barh(y='Bank Name',\n",
        "             width='Compl/Bil $',\n",
        "             data=df_rank,\n",
        "             color=colors[0],\n",
        "             label='2011-2018'\n",
        "            );\n",
        "b2 = ax.barh(y='Bank Name',\n",
        "             width='Compl/Bil $',\n",
        "             data=df_rank_2018,\n",
        "             color=colors[4],\n",
        "             label='2018'\n",
        "            );\n",
        "ax.legend();\n",
        "xpos=-0.4\n",
        "plt.text(s=\"Complaint Count per Billion USD Asset\",\n",
        "         x=xpos, y=1.13,\n",
        "         fontsize=36, fontweight='bold',\n",
        "         transform=ax.transAxes\n",
        "        )\n",
        "str=\"For Top 20 Large Commercial Banks\"\n",
        "plt.text(s=str,\n",
        "         x=xpos, y=1.05,\n",
        "         fontsize=20, color='gray',\n",
        "         transform=ax.transAxes\n",
        "        );\n",
        "str=\"Data Source: https://www.consumerfinance.gov/data-research/consumer-complaints/\\n                      https://www.federalreserve.gov/releases/lbr/\"\n",
        "plt.text(s=str, x=xpos, y=-0.15,\n",
        "         fontsize=13, color='gray',\n",
        "         transform=ax.transAxes\n",
        "        );\n",
        "plt.text(s=str, x=xpos, y=-0.15,\n",
        "         fontsize=13, color='gray',\n",
        "         transform=ax.transAxes\n",
        "        );"
      ],
      "execution_count": 31,
      "outputs": [
        {
          "output_type": "display_data",
          "data": {
            "image/png": "[encoded data removed]",
            "text/plain": [
              "<Figure size 720x432 with 1 Axes>"
            ]
          },
          "metadata": {
            "tags": []
          }
        }
      ]
    }
  ]
}