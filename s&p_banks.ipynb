{
  "nbformat": 4,
  "nbformat_minor": 0,
  "metadata": {
    "colab": {
      "name": "s&p_banks.ipynb",
      "version": "0.3.2",
      "provenance": [],
      "collapsed_sections": [],
      "include_colab_link": true
    },
    "kernelspec": {
      "name": "python3",
      "display_name": "Python 3"
    }
  },
  "cells": [
    {
      "cell_type": "markdown",
      "metadata": {
        "id": "view-in-github",
        "colab_type": "text"
      },
      "source": [
        "<a href=\"https://colab.research.google.com/github/Nov05/DS-Unit-1-Sprint-5-Data-Storytelling-Blog-Post/blob/master/s%26p_banks.ipynb\" target=\"_parent\"><img src=\"https://colab.research.google.com/assets/colab-badge.svg\" alt=\"Open In Colab\"/></a>"
      ]
    },
    {
      "cell_type": "code",
      "metadata": {
        "id": "FFW87KoDxXIX",
        "colab_type": "code",
        "colab": {}
      },
      "source": [
        "# created by nov05 on 2019-06-27"
      ],
      "execution_count": 0,
      "outputs": []
    },
    {
      "cell_type": "code",
      "metadata": {
        "id": "ueGKEX2L9xUL",
        "colab_type": "code",
        "colab": {
          "base_uri": "https://localhost:8080/",
          "height": 35
        },
        "outputId": "4db1d92d-4450-45ab-c2db-b01909af8566"
      },
      "source": [
        "# Run this cell to mount your Google Drive.\n",
        "from google.colab import drive\n",
        "drive.mount('/content/drive')"
      ],
      "execution_count": 2,
      "outputs": [
        {
          "output_type": "stream",
          "text": [
            "Drive already mounted at /content/drive; to attempt to forcibly remount, call drive.mount(\"/content/drive\", force_remount=True).\n"
          ],
          "name": "stdout"
        }
      ]
    },
    {
      "cell_type": "code",
      "metadata": {
        "id": "JIL5G9Fx90Ql",
        "colab_type": "code",
        "colab": {}
      },
      "source": [
        "import pandas as pd\n",
        "import numpy as np\n",
        "from datetime import datetime\n",
        "from scipy import stats\n",
        "\n",
        "import matplotlib.pyplot as plt\n",
        "from matplotlib.pyplot import cm\n",
        "import seaborn as sns\n",
        "\n",
        "%matplotlib inline\n",
        "pd.set_option('display.max_rows', 500)\n",
        "pd.set_option('display.max_columns', 500)"
      ],
      "execution_count": 0,
      "outputs": []
    },
    {
      "cell_type": "code",
      "metadata": {
        "id": "0VwZ0tMC-Df4",
        "colab_type": "code",
        "colab": {
          "base_uri": "https://localhost:8080/",
          "height": 72
        },
        "outputId": "4ead239c-8430-4cf6-c310-9cdff0e13459"
      },
      "source": [
        "# CAUTION: this dataset is 719 MB in size.\n",
        "\n",
        "# this doesn't work for this large file (seems that it would work for file under 50 MB)\n",
        "# url = \"https://drive.google.com/uc?id=1giGHkApdv3ehRI7uw4LoLhGT6rN_uR0r\"\n",
        "\n",
        "# this works\n",
        "# url = \"https://data.consumerfinance.gov/api/views/s6ew-h6mp/rows.csv?accessType=DOWNLOAD\"\n",
        "# df = pd.read_csv(url)\n",
        "\n",
        "# this works\n",
        "path = \"/content/drive/My Drive/data/cfpd_consumer_complaints/Consumer_Complaints.csv\"\n",
        "df = pd.read_csv(path)"
      ],
      "execution_count": 5,
      "outputs": [
        {
          "output_type": "stream",
          "text": [
            "/usr/local/lib/python3.6/dist-packages/IPython/core/interactiveshell.py:2718: DtypeWarning: Columns (4,5,6,11,16) have mixed types. Specify dtype option on import or set low_memory=False.\n",
            "  interactivity=interactivity, compiler=compiler, result=result)\n"
          ],
          "name": "stderr"
        }
      ]
    },
    {
      "cell_type": "code",
      "metadata": {
        "id": "-FtlyoKU-Kqr",
        "colab_type": "code",
        "colab": {
          "base_uri": "https://localhost:8080/",
          "height": 172
        },
        "outputId": "2b87b86f-ea24-4fe1-ac2d-56c8b92c185b"
      },
      "source": [
        "# convert datetime\n",
        "df['datereceived'] = pd.to_datetime(df['Date received'], \n",
        "                                    format=\"%m/%d/%Y\")\n",
        "df['datesent'] = pd.to_datetime(df['Date sent to company'],\n",
        "                                format=\"%m/%d/%Y\")\n",
        "df[['datereceived', 'datesent']].sample(4)"
      ],
      "execution_count": 6,
      "outputs": [
        {
          "output_type": "execute_result",
          "data": {
            "text/html": [
              "<div>\n",
              "<style scoped>\n",
              "    .dataframe tbody tr th:only-of-type {\n",
              "        vertical-align: middle;\n",
              "    }\n",
              "\n",
              "    .dataframe tbody tr th {\n",
              "        vertical-align: top;\n",
              "    }\n",
              "\n",
              "    .dataframe thead th {\n",
              "        text-align: right;\n",
              "    }\n",
              "</style>\n",
              "<table border=\"1\" class=\"dataframe\">\n",
              "  <thead>\n",
              "    <tr style=\"text-align: right;\">\n",
              "      <th></th>\n",
              "      <th>datereceived</th>\n",
              "      <th>datesent</th>\n",
              "    </tr>\n",
              "  </thead>\n",
              "  <tbody>\n",
              "    <tr>\n",
              "      <th>1060358</th>\n",
              "      <td>2014-06-16</td>\n",
              "      <td>2014-06-16</td>\n",
              "    </tr>\n",
              "    <tr>\n",
              "      <th>358098</th>\n",
              "      <td>2018-01-24</td>\n",
              "      <td>2018-01-24</td>\n",
              "    </tr>\n",
              "    <tr>\n",
              "      <th>361060</th>\n",
              "      <td>2018-01-20</td>\n",
              "      <td>2018-01-20</td>\n",
              "    </tr>\n",
              "    <tr>\n",
              "      <th>295889</th>\n",
              "      <td>2018-04-12</td>\n",
              "      <td>2018-04-13</td>\n",
              "    </tr>\n",
              "  </tbody>\n",
              "</table>\n",
              "</div>"
            ],
            "text/plain": [
              "        datereceived   datesent\n",
              "1060358   2014-06-16 2014-06-16\n",
              "358098    2018-01-24 2018-01-24\n",
              "361060    2018-01-20 2018-01-20\n",
              "295889    2018-04-12 2018-04-13"
            ]
          },
          "metadata": {
            "tags": []
          },
          "execution_count": 6
        }
      ]
    },
    {
      "cell_type": "code",
      "metadata": {
        "id": "iiDKNi5n-ZbQ",
        "colab_type": "code",
        "colab": {}
      },
      "source": [
        "# consolidate changes in products - such a pain\n",
        "\n",
        "def new_prd(row):\n",
        "  prd, sub = row[0], row[1]\n",
        "  new_prd = \"\"\n",
        "  \n",
        "  # Debt collection (no change to product name)\n",
        "  if prd in [prds[7]]:\n",
        "    new_prd = prds[7]\n",
        "  # Credit reporting, credit repair services, or other \n",
        "  # personal consumer reports (previously “Credit reporting”\n",
        "  # and sub-products of “Other financial service”)\n",
        "  elif prd in [prds[5], prds[6]]:\n",
        "    new_prd = prds[6]\n",
        "  # Mortgage (no change to product name)\n",
        "  elif prd in [prds[10]]:\n",
        "    new_prd = prds[10]\n",
        "  # Credit card or prepaid card (previously “Credit card” \n",
        "  # and “Prepaid card”)  \n",
        "  elif prd in [prds[3], prds[14], prds[4]]:\n",
        "    new_prd = prds[4]\n",
        "  # Checking or savings account (previously Bank account \n",
        "  # or service)  \n",
        "  elif prd in [prds[0], prds[1]]:\n",
        "    new_prd = prds[1]\n",
        "  # Vehicle loan or lease (previously sub-product of \n",
        "  # Consumer loan)  \n",
        "  elif prd==prds[16] or (prd==prds[2] and sub==subs[8]):\n",
        "    new_prd = prds[16]\n",
        "  # Student loan (no change to product name)  \n",
        "  elif prd in [prds[15]]:\n",
        "    new_prd = prds[15]\n",
        "  # Payday loan, title loan, or personal loan (previously \n",
        "  # “Consumer loan” and “Payday loan”)\n",
        "  elif prd in [prds[13], prds[12]] or (prd==prds[2] \n",
        "                                       and sub!=subs[8]):\n",
        "    new_prd = prds[13]\n",
        "  # Money transfer, virtual currency, or money service \n",
        "  # (previously “Money transfers,” “Other financial \n",
        "  # service,” and “Prepaid card”)  \n",
        "  elif prd in [prds[8], prds[17], prds[9], prds[11], \n",
        "               prds[14]]:\n",
        "    new_prd = prds[8]\n",
        "  \n",
        "  return new_prd"
      ],
      "execution_count": 0,
      "outputs": []
    },
    {
      "cell_type": "code",
      "metadata": {
        "id": "E_Wc0-eQ-dAC",
        "colab_type": "code",
        "colab": {
          "base_uri": "https://localhost:8080/",
          "height": 120
        },
        "outputId": "6ee368f8-555a-4534-c896-11913ae469d8"
      },
      "source": [
        "df_prd = (df.fillna('-')\n",
        "   .groupby(by=['Product', 'Sub-product'], as_index=False)\n",
        "   .agg({'Complaint ID': pd.Series.nunique})\n",
        "   .sort_values(by=['Product', 'Complaint ID'], \n",
        "                ascending=(True, False))\n",
        ")\n",
        "# print(df_prd.shape) # (99, 3)\n",
        "\n",
        "prds = df_prd['Product'].unique()\n",
        "subs = df_prd['Sub-product'].unique()\n",
        "\n",
        "# consolidate products for the whole dataset\n",
        "df['new'] = df.iloc[:,1:3].apply(new_prd, axis=1)\n",
        "# verify consolidation - result data frame should be empty\n",
        "df[df['new']=='']"
      ],
      "execution_count": 8,
      "outputs": [
        {
          "output_type": "execute_result",
          "data": {
            "text/html": [
              "<div>\n",
              "<style scoped>\n",
              "    .dataframe tbody tr th:only-of-type {\n",
              "        vertical-align: middle;\n",
              "    }\n",
              "\n",
              "    .dataframe tbody tr th {\n",
              "        vertical-align: top;\n",
              "    }\n",
              "\n",
              "    .dataframe thead th {\n",
              "        text-align: right;\n",
              "    }\n",
              "</style>\n",
              "<table border=\"1\" class=\"dataframe\">\n",
              "  <thead>\n",
              "    <tr style=\"text-align: right;\">\n",
              "      <th></th>\n",
              "      <th>Date received</th>\n",
              "      <th>Product</th>\n",
              "      <th>Sub-product</th>\n",
              "      <th>Issue</th>\n",
              "      <th>Sub-issue</th>\n",
              "      <th>Consumer complaint narrative</th>\n",
              "      <th>Company public response</th>\n",
              "      <th>Company</th>\n",
              "      <th>State</th>\n",
              "      <th>ZIP code</th>\n",
              "      <th>Tags</th>\n",
              "      <th>Consumer consent provided?</th>\n",
              "      <th>Submitted via</th>\n",
              "      <th>Date sent to company</th>\n",
              "      <th>Company response to consumer</th>\n",
              "      <th>Timely response?</th>\n",
              "      <th>Consumer disputed?</th>\n",
              "      <th>Complaint ID</th>\n",
              "      <th>datereceived</th>\n",
              "      <th>datesent</th>\n",
              "      <th>new</th>\n",
              "    </tr>\n",
              "  </thead>\n",
              "  <tbody>\n",
              "  </tbody>\n",
              "</table>\n",
              "</div>"
            ],
            "text/plain": [
              "Empty DataFrame\n",
              "Columns: [Date received, Product, Sub-product, Issue, Sub-issue, Consumer complaint narrative, Company public response, Company, State, ZIP code, Tags, Consumer consent provided?, Submitted via, Date sent to company, Company response to consumer, Timely response?, Consumer disputed?, Complaint ID, datereceived, datesent, new]\n",
              "Index: []"
            ]
          },
          "metadata": {
            "tags": []
          },
          "execution_count": 8
        }
      ]
    },
    {
      "cell_type": "markdown",
      "metadata": {
        "id": "gEL8pJkMxir2",
        "colab_type": "text"
      },
      "source": [
        "S&P Banks Select Industry Index  \n",
        "Ticker:  SPSIBK  \n",
        "https://us.spindices.com/indices/equity/sp-banks-select-industry-index  \n",
        "\n",
        "**S&P Select Industry Index**                      \n",
        "S&P Banks Select Industry Index    \n",
        "**Theoretical Portfolio Value**    \n",
        "$2,000,000,000  \n",
        "https://us.spindices.com/documents/methodologies/methodology-sp-select-industry-indices.pdf?force_download=true  \n",
        "\n",
        "**Large Commercial Banks**  \n",
        "https://www.federalreserve.gov/releases/lbr/current/  \n",
        "https://www.federalreserve.gov/releases/lbr/  \n",
        "\n",
        "**CSV file on Gist**  \n",
        "https://gist.githubusercontent.com/Nov05/91a6ba49ede748ad32998e0c31a2fa35/raw/c92e0b758087b16723f11832432a033efec89bf5/9.csv  "
      ]
    },
    {
      "cell_type": "code",
      "metadata": {
        "id": "qPt5Y8IQ0gSp",
        "colab_type": "code",
        "colab": {
          "base_uri": "https://localhost:8080/",
          "height": 197
        },
        "outputId": "03ee63e2-ca69-4f76-b324-b168b3299773"
      },
      "source": [
        "# url = \"https://www.federalreserve.gov/releases/lbr/current/lrg_bnk_lst.txt\"\n",
        "\n",
        "# ASCII file - better find a better data source\n",
        "# yeah copy the table data then convert it from tab separated file to CSV\n",
        "# I love myself. Haha.\n",
        "\n",
        "url = \"https://gist.githubusercontent.com/Nov05/91a6ba49ede748ad32998e0c31a2fa35/raw/c92e0b758087b16723f11832432a033efec89bf5/9.csv\"\n",
        "df_banks = pd.read_csv(url)\n",
        "print(df_banks.shape)\n",
        "df_banks.head(2)"
      ],
      "execution_count": 34,
      "outputs": [
        {
          "output_type": "stream",
          "text": [
            "(1817, 13)\n"
          ],
          "name": "stdout"
        },
        {
          "output_type": "execute_result",
          "data": {
            "text/html": [
              "<div>\n",
              "<style scoped>\n",
              "    .dataframe tbody tr th:only-of-type {\n",
              "        vertical-align: middle;\n",
              "    }\n",
              "\n",
              "    .dataframe tbody tr th {\n",
              "        vertical-align: top;\n",
              "    }\n",
              "\n",
              "    .dataframe thead th {\n",
              "        text-align: right;\n",
              "    }\n",
              "</style>\n",
              "<table border=\"1\" class=\"dataframe\">\n",
              "  <thead>\n",
              "    <tr style=\"text-align: right;\">\n",
              "      <th></th>\n",
              "      <th>Bank Name / Holding Co Name</th>\n",
              "      <th>Nat'l Rank</th>\n",
              "      <th>Bank ID</th>\n",
              "      <th>Bank Location</th>\n",
              "      <th>Charter</th>\n",
              "      <th>Consol Assets (Mil $)</th>\n",
              "      <th>Domestic Assets (Mil $)</th>\n",
              "      <th>Pct Domestic Assets</th>\n",
              "      <th>Pct Cumulative Assets</th>\n",
              "      <th>Domestic Branches</th>\n",
              "      <th>Foreign Branches</th>\n",
              "      <th>IBF</th>\n",
              "      <th>Pct Foreign Owned</th>\n",
              "    </tr>\n",
              "  </thead>\n",
              "  <tbody>\n",
              "    <tr>\n",
              "      <th>0</th>\n",
              "      <td>JPMORGAN CHASE BK NA/JPMORGAN CHASE &amp; CO</td>\n",
              "      <td>1</td>\n",
              "      <td>852218</td>\n",
              "      <td>COLUMBUS, OH</td>\n",
              "      <td>NAT</td>\n",
              "      <td>2,218,960</td>\n",
              "      <td>1,659,733</td>\n",
              "      <td>75</td>\n",
              "      <td>14</td>\n",
              "      <td>5,041</td>\n",
              "      <td>33</td>\n",
              "      <td>Y</td>\n",
              "      <td>0.00</td>\n",
              "    </tr>\n",
              "    <tr>\n",
              "      <th>1</th>\n",
              "      <td>BANK OF AMER NA/BANK OF AMER CORP</td>\n",
              "      <td>2</td>\n",
              "      <td>480228</td>\n",
              "      <td>CHARLOTTE, NC</td>\n",
              "      <td>NAT</td>\n",
              "      <td>1,782,639</td>\n",
              "      <td>1,690,841</td>\n",
              "      <td>95</td>\n",
              "      <td>25</td>\n",
              "      <td>4,338</td>\n",
              "      <td>27</td>\n",
              "      <td>Y</td>\n",
              "      <td>0.00</td>\n",
              "    </tr>\n",
              "  </tbody>\n",
              "</table>\n",
              "</div>"
            ],
            "text/plain": [
              "                Bank Name / Holding Co Name  Nat'l Rank  Bank ID  \\\n",
              "0  JPMORGAN CHASE BK NA/JPMORGAN CHASE & CO           1   852218   \n",
              "1         BANK OF AMER NA/BANK OF AMER CORP           2   480228   \n",
              "\n",
              "   Bank Location Charter Consol Assets (Mil $) Domestic Assets (Mil $)  \\\n",
              "0   COLUMBUS, OH     NAT             2,218,960               1,659,733   \n",
              "1  CHARLOTTE, NC     NAT             1,782,639               1,690,841   \n",
              "\n",
              "  Pct Domestic Assets Pct Cumulative Assets Domestic Branches  \\\n",
              "0                  75                    14             5,041   \n",
              "1                  95                    25             4,338   \n",
              "\n",
              "  Foreign Branches IBF Pct Foreign Owned  \n",
              "0               33   Y              0.00  \n",
              "1               27   Y              0.00  "
            ]
          },
          "metadata": {
            "tags": []
          },
          "execution_count": 34
        }
      ]
    },
    {
      "cell_type": "code",
      "metadata": {
        "id": "bAs412ATLCwb",
        "colab_type": "code",
        "colab": {
          "base_uri": "https://localhost:8080/",
          "height": 35
        },
        "outputId": "646fba61-c34f-45df-ef3d-e34d1ea00428"
      },
      "source": [
        "# check NAs\n",
        "print(df_banks.isna().sum().sum(),\n",
        "df['Company'].isna().sum())"
      ],
      "execution_count": 44,
      "outputs": [
        {
          "output_type": "stream",
          "text": [
            "0 0\n"
          ],
          "name": "stdout"
        }
      ]
    },
    {
      "cell_type": "code",
      "metadata": {
        "id": "9KlAOotsIMG-",
        "colab_type": "code",
        "colab": {
          "base_uri": "https://localhost:8080/",
          "height": 70
        },
        "outputId": "333731c4-537d-40b3-8618-f5ba74b22b4b"
      },
      "source": [
        "# convert numeric field\n",
        "(df_banks['Consol Assets (Mil $)']\n",
        " .replace(\",\", \"\", regex=True, inplace=True)\n",
        ")\n",
        "df_banks['Consol Assets (Mil $)'].head(2)"
      ],
      "execution_count": 39,
      "outputs": [
        {
          "output_type": "execute_result",
          "data": {
            "text/plain": [
              "0    2218960\n",
              "1    1782639\n",
              "Name: Consol Assets (Mil $), dtype: object"
            ]
          },
          "metadata": {
            "tags": []
          },
          "execution_count": 39
        }
      ]
    },
    {
      "cell_type": "code",
      "metadata": {
        "id": "HKpLtAD5KXs3",
        "colab_type": "code",
        "colab": {
          "base_uri": "https://localhost:8080/",
          "height": 35
        },
        "outputId": "e9f1b862-1ec8-48a6-fd2d-9810c76ce1c7"
      },
      "source": [
        "type(df_banks.iloc[0,6])"
      ],
      "execution_count": 40,
      "outputs": [
        {
          "output_type": "execute_result",
          "data": {
            "text/plain": [
              "str"
            ]
          },
          "metadata": {
            "tags": []
          },
          "execution_count": 40
        }
      ]
    },
    {
      "cell_type": "code",
      "metadata": {
        "id": "0LJz5K8PFWt-",
        "colab_type": "code",
        "colab": {
          "base_uri": "https://localhost:8080/",
          "height": 220
        },
        "outputId": "b795110d-f1d2-4fa5-c3fc-67ef343874a0"
      },
      "source": [
        "# check unique bank names and test text processing\n",
        "df_names = pd.DataFrame(df['Company'].unique())\n",
        "df_names[0] = df_names[0].str.upper()\n",
        "df_names.replace('\\.', '', regex=True, inplace=True)\n",
        "print(df_names.shape)\n",
        "df_names.head()"
      ],
      "execution_count": 55,
      "outputs": [
        {
          "output_type": "stream",
          "text": [
            "(5321, 1)\n"
          ],
          "name": "stdout"
        },
        {
          "output_type": "execute_result",
          "data": {
            "text/html": [
              "<div>\n",
              "<style scoped>\n",
              "    .dataframe tbody tr th:only-of-type {\n",
              "        vertical-align: middle;\n",
              "    }\n",
              "\n",
              "    .dataframe tbody tr th {\n",
              "        vertical-align: top;\n",
              "    }\n",
              "\n",
              "    .dataframe thead th {\n",
              "        text-align: right;\n",
              "    }\n",
              "</style>\n",
              "<table border=\"1\" class=\"dataframe\">\n",
              "  <thead>\n",
              "    <tr style=\"text-align: right;\">\n",
              "      <th></th>\n",
              "      <th>0</th>\n",
              "    </tr>\n",
              "  </thead>\n",
              "  <tbody>\n",
              "    <tr>\n",
              "      <th>0</th>\n",
              "      <td>NATIONWIDE RECOVERY GROUP LLC</td>\n",
              "    </tr>\n",
              "    <tr>\n",
              "      <th>1</th>\n",
              "      <td>ONEMAIN FINANCIAL HOLDINGS, LLC</td>\n",
              "    </tr>\n",
              "    <tr>\n",
              "      <th>2</th>\n",
              "      <td>HCFS HEALTH CARE FINANCIAL SERVICES, INC</td>\n",
              "    </tr>\n",
              "    <tr>\n",
              "      <th>3</th>\n",
              "      <td>NAVY FEDERAL CREDIT UNION</td>\n",
              "    </tr>\n",
              "    <tr>\n",
              "      <th>4</th>\n",
              "      <td>FIRST CREDIT FINANCE</td>\n",
              "    </tr>\n",
              "  </tbody>\n",
              "</table>\n",
              "</div>"
            ],
            "text/plain": [
              "                                          0\n",
              "0             NATIONWIDE RECOVERY GROUP LLC\n",
              "1           ONEMAIN FINANCIAL HOLDINGS, LLC\n",
              "2  HCFS HEALTH CARE FINANCIAL SERVICES, INC\n",
              "3                 NAVY FEDERAL CREDIT UNION\n",
              "4                      FIRST CREDIT FINANCE"
            ]
          },
          "metadata": {
            "tags": []
          },
          "execution_count": 55
        }
      ]
    },
    {
      "cell_type": "code",
      "metadata": {
        "id": "EkS9HUPxON7B",
        "colab_type": "code",
        "colab": {
          "base_uri": "https://localhost:8080/",
          "height": 123
        },
        "outputId": "4a0354c0-9303-40c9-ffd6-848e14a491d7"
      },
      "source": [
        "# process texts\n",
        "df['bankname'] = (df['Company']\n",
        "                  .str\n",
        "                  .upper()\n",
        "                  .replace('\\.', '', regex=True))\n",
        "df['bankname'].head()"
      ],
      "execution_count": 64,
      "outputs": [
        {
          "output_type": "execute_result",
          "data": {
            "text/plain": [
              "0               NATIONWIDE RECOVERY GROUP LLC\n",
              "1             ONEMAIN FINANCIAL HOLDINGS, LLC\n",
              "2    HCFS HEALTH CARE FINANCIAL SERVICES, INC\n",
              "3                   NAVY FEDERAL CREDIT UNION\n",
              "4                        FIRST CREDIT FINANCE\n",
              "Name: bankname, dtype: object"
            ]
          },
          "metadata": {
            "tags": []
          },
          "execution_count": 64
        }
      ]
    },
    {
      "cell_type": "code",
      "metadata": {
        "id": "MgLLAK2WQum1",
        "colab_type": "code",
        "colab": {
          "base_uri": "https://localhost:8080/",
          "height": 66
        },
        "outputId": "a92419a8-4978-4139-f60c-371944f187af"
      },
      "source": [
        "# join two tables by name, god bless you\n",
        "# (should be joined by bank id, but there are no bank ids\n",
        "#  in the complaint dataset...)\n",
        "\n",
        "df_all = pd.merge(df, df_banks, how='inner',\n",
        "                  left_on = 'bankname',\n",
        "                  right_on = 'Bank Name / Holding Co Name'\n",
        "                 )\n",
        "print(df_all.shape)\n",
        "df_all[['bankname', 'Consol Assets (Mil $)']].head()"
      ],
      "execution_count": 67,
      "outputs": [
        {
          "output_type": "stream",
          "text": [
            "(0, 35)\n"
          ],
          "name": "stdout"
        },
        {
          "output_type": "execute_result",
          "data": {
            "text/html": [
              "<div>\n",
              "<style scoped>\n",
              "    .dataframe tbody tr th:only-of-type {\n",
              "        vertical-align: middle;\n",
              "    }\n",
              "\n",
              "    .dataframe tbody tr th {\n",
              "        vertical-align: top;\n",
              "    }\n",
              "\n",
              "    .dataframe thead th {\n",
              "        text-align: right;\n",
              "    }\n",
              "</style>\n",
              "<table border=\"1\" class=\"dataframe\">\n",
              "  <thead>\n",
              "    <tr style=\"text-align: right;\">\n",
              "      <th></th>\n",
              "      <th>bankname</th>\n",
              "      <th>Consol Assets (Mil $)</th>\n",
              "    </tr>\n",
              "  </thead>\n",
              "  <tbody>\n",
              "  </tbody>\n",
              "</table>\n",
              "</div>"
            ],
            "text/plain": [
              "Empty DataFrame\n",
              "Columns: [bankname, Consol Assets (Mil $)]\n",
              "Index: []"
            ]
          },
          "metadata": {
            "tags": []
          },
          "execution_count": 67
        }
      ]
    },
    {
      "cell_type": "code",
      "metadata": {
        "id": "RN0iREwiSGAv",
        "colab_type": "code",
        "colab": {
          "base_uri": "https://localhost:8080/",
          "height": 79
        },
        "outputId": "bcbef4b1-f63c-4597-9e42-3e6d1940e69d"
      },
      "source": [
        "# test contains\n",
        "df_names[df_names[0].str.contains('BANK OF AMERICA')]"
      ],
      "execution_count": 79,
      "outputs": [
        {
          "output_type": "execute_result",
          "data": {
            "text/html": [
              "<div>\n",
              "<style scoped>\n",
              "    .dataframe tbody tr th:only-of-type {\n",
              "        vertical-align: middle;\n",
              "    }\n",
              "\n",
              "    .dataframe tbody tr th {\n",
              "        vertical-align: top;\n",
              "    }\n",
              "\n",
              "    .dataframe thead th {\n",
              "        text-align: right;\n",
              "    }\n",
              "</style>\n",
              "<table border=\"1\" class=\"dataframe\">\n",
              "  <thead>\n",
              "    <tr style=\"text-align: right;\">\n",
              "      <th></th>\n",
              "      <th>0</th>\n",
              "    </tr>\n",
              "  </thead>\n",
              "  <tbody>\n",
              "    <tr>\n",
              "      <th>123</th>\n",
              "      <td>BANK OF AMERICA, NATIONAL ASSOCIATION</td>\n",
              "    </tr>\n",
              "  </tbody>\n",
              "</table>\n",
              "</div>"
            ],
            "text/plain": [
              "                                         0\n",
              "123  BANK OF AMERICA, NATIONAL ASSOCIATION"
            ]
          },
          "metadata": {
            "tags": []
          },
          "execution_count": 79
        }
      ]
    },
    {
      "cell_type": "code",
      "metadata": {
        "id": "yhOkm_xwT83m",
        "colab_type": "code",
        "colab": {
          "base_uri": "https://localhost:8080/",
          "height": 79
        },
        "outputId": "ed3b77e9-7a3e-4cbd-ce85-fec7be13f5f7"
      },
      "source": [
        "df_names[df_names[0].str.contains('JPMORGAN')]"
      ],
      "execution_count": 80,
      "outputs": [
        {
          "output_type": "execute_result",
          "data": {
            "text/html": [
              "<div>\n",
              "<style scoped>\n",
              "    .dataframe tbody tr th:only-of-type {\n",
              "        vertical-align: middle;\n",
              "    }\n",
              "\n",
              "    .dataframe tbody tr th {\n",
              "        vertical-align: top;\n",
              "    }\n",
              "\n",
              "    .dataframe thead th {\n",
              "        text-align: right;\n",
              "    }\n",
              "</style>\n",
              "<table border=\"1\" class=\"dataframe\">\n",
              "  <thead>\n",
              "    <tr style=\"text-align: right;\">\n",
              "      <th></th>\n",
              "      <th>0</th>\n",
              "    </tr>\n",
              "  </thead>\n",
              "  <tbody>\n",
              "    <tr>\n",
              "      <th>49</th>\n",
              "      <td>JPMORGAN CHASE &amp; CO</td>\n",
              "    </tr>\n",
              "  </tbody>\n",
              "</table>\n",
              "</div>"
            ],
            "text/plain": [
              "                      0\n",
              "49  JPMORGAN CHASE & CO"
            ]
          },
          "metadata": {
            "tags": []
          },
          "execution_count": 80
        }
      ]
    },
    {
      "cell_type": "code",
      "metadata": {
        "id": "r16eDW9zUNYa",
        "colab_type": "code",
        "colab": {
          "base_uri": "https://localhost:8080/",
          "height": 700
        },
        "outputId": "599ea581-7c18-422a-ae85-dbf4ac17dcf3"
      },
      "source": [
        "# ok. match records manually for a few banks...\n",
        "# s[s.str.contains('|'.join(searchfor))]\n",
        "top20 = ['JPMORGAN',  \n",
        "         'BANK OF AMER', \n",
        "         'WELLS FARGO',\n",
        "         'CITIBANK',\n",
        "         'US BANC',\n",
        "         'PNC BANK',\n",
        "         'CAPITAL ONE',\n",
        "         'TD BANK',\n",
        "         'NY MELLON',\n",
        "         'STATE STREET',\n",
        "         'BB&T',\n",
        "         'SUNTRUST',\n",
        "         'GOLDMAN SACHS',\n",
        "         'HSBC',\n",
        "         'ALLY F', \n",
        "         'MORGAN STANLEY',\n",
        "         'FIFTH THIRD',\n",
        "         'KEYCORP',\n",
        "         'CHASE', # not found, it is probably with JPMORGAN\n",
        "         'NORTHERN T',\n",
        "         'MUFG'\n",
        "        ]\n",
        "df_matches = df_names[df_names[0].str.contains('|'.join(top20))]\n",
        "print(len(top20))\n",
        "print(df_matches.shape)\n",
        "df_matches"
      ],
      "execution_count": 121,
      "outputs": [
        {
          "output_type": "stream",
          "text": [
            "21\n",
            "(20, 1)\n"
          ],
          "name": "stdout"
        },
        {
          "output_type": "execute_result",
          "data": {
            "text/html": [
              "<div>\n",
              "<style scoped>\n",
              "    .dataframe tbody tr th:only-of-type {\n",
              "        vertical-align: middle;\n",
              "    }\n",
              "\n",
              "    .dataframe tbody tr th {\n",
              "        vertical-align: top;\n",
              "    }\n",
              "\n",
              "    .dataframe thead th {\n",
              "        text-align: right;\n",
              "    }\n",
              "</style>\n",
              "<table border=\"1\" class=\"dataframe\">\n",
              "  <thead>\n",
              "    <tr style=\"text-align: right;\">\n",
              "      <th></th>\n",
              "      <th>0</th>\n",
              "    </tr>\n",
              "  </thead>\n",
              "  <tbody>\n",
              "    <tr>\n",
              "      <th>8</th>\n",
              "      <td>ALLY FINANCIAL INC</td>\n",
              "    </tr>\n",
              "    <tr>\n",
              "      <th>29</th>\n",
              "      <td>US BANCORP</td>\n",
              "    </tr>\n",
              "    <tr>\n",
              "      <th>35</th>\n",
              "      <td>HSBC NORTH AMERICA HOLDINGS INC</td>\n",
              "    </tr>\n",
              "    <tr>\n",
              "      <th>49</th>\n",
              "      <td>JPMORGAN CHASE &amp; CO</td>\n",
              "    </tr>\n",
              "    <tr>\n",
              "      <th>50</th>\n",
              "      <td>CITIBANK, NA</td>\n",
              "    </tr>\n",
              "    <tr>\n",
              "      <th>78</th>\n",
              "      <td>WELLS FARGO &amp; COMPANY</td>\n",
              "    </tr>\n",
              "    <tr>\n",
              "      <th>123</th>\n",
              "      <td>BANK OF AMERICA, NATIONAL ASSOCIATION</td>\n",
              "    </tr>\n",
              "    <tr>\n",
              "      <th>147</th>\n",
              "      <td>BB&amp;T CORPORATION</td>\n",
              "    </tr>\n",
              "    <tr>\n",
              "      <th>155</th>\n",
              "      <td>FIFTH THIRD FINANCIAL CORPORATION</td>\n",
              "    </tr>\n",
              "    <tr>\n",
              "      <th>182</th>\n",
              "      <td>CAPITAL ONE FINANCIAL CORPORATION</td>\n",
              "    </tr>\n",
              "    <tr>\n",
              "      <th>244</th>\n",
              "      <td>SUNTRUST BANKS, INC</td>\n",
              "    </tr>\n",
              "    <tr>\n",
              "      <th>292</th>\n",
              "      <td>GOLDMAN SACHS BANK USA</td>\n",
              "    </tr>\n",
              "    <tr>\n",
              "      <th>327</th>\n",
              "      <td>TD BANK US HOLDING COMPANY</td>\n",
              "    </tr>\n",
              "    <tr>\n",
              "      <th>394</th>\n",
              "      <td>KEYCORP</td>\n",
              "    </tr>\n",
              "    <tr>\n",
              "      <th>447</th>\n",
              "      <td>PNC BANK NA</td>\n",
              "    </tr>\n",
              "    <tr>\n",
              "      <th>558</th>\n",
              "      <td>BNY MELLON, NATIONAL ASSOCIATION</td>\n",
              "    </tr>\n",
              "    <tr>\n",
              "      <th>662</th>\n",
              "      <td>MUFG UNION BANK, NATIONAL ASSOCIATION</td>\n",
              "    </tr>\n",
              "    <tr>\n",
              "      <th>696</th>\n",
              "      <td>MORGAN STANLEY &amp; CO LLC</td>\n",
              "    </tr>\n",
              "    <tr>\n",
              "      <th>1316</th>\n",
              "      <td>NORTHERN TRUST COMPANY, THE</td>\n",
              "    </tr>\n",
              "    <tr>\n",
              "      <th>1416</th>\n",
              "      <td>STATE STREET BANK AND TRUST COMPANY</td>\n",
              "    </tr>\n",
              "  </tbody>\n",
              "</table>\n",
              "</div>"
            ],
            "text/plain": [
              "                                          0\n",
              "8                        ALLY FINANCIAL INC\n",
              "29                               US BANCORP\n",
              "35          HSBC NORTH AMERICA HOLDINGS INC\n",
              "49                      JPMORGAN CHASE & CO\n",
              "50                             CITIBANK, NA\n",
              "78                    WELLS FARGO & COMPANY\n",
              "123   BANK OF AMERICA, NATIONAL ASSOCIATION\n",
              "147                        BB&T CORPORATION\n",
              "155       FIFTH THIRD FINANCIAL CORPORATION\n",
              "182       CAPITAL ONE FINANCIAL CORPORATION\n",
              "244                     SUNTRUST BANKS, INC\n",
              "292                  GOLDMAN SACHS BANK USA\n",
              "327              TD BANK US HOLDING COMPANY\n",
              "394                                 KEYCORP\n",
              "447                             PNC BANK NA\n",
              "558        BNY MELLON, NATIONAL ASSOCIATION\n",
              "662   MUFG UNION BANK, NATIONAL ASSOCIATION\n",
              "696                 MORGAN STANLEY & CO LLC\n",
              "1316            NORTHERN TRUST COMPANY, THE\n",
              "1416    STATE STREET BANK AND TRUST COMPANY"
            ]
          },
          "metadata": {
            "tags": []
          },
          "execution_count": 121
        }
      ]
    },
    {
      "cell_type": "code",
      "metadata": {
        "id": "KA2Yyl2kZ4tc",
        "colab_type": "code",
        "colab": {
          "base_uri": "https://localhost:8080/",
          "height": 79
        },
        "outputId": "037c7362-d5ef-4217-ad61-4715b819b76d"
      },
      "source": [
        "# 1. JPMORGAN CHASE BK NA/JPMORGAN CHASE & CO\n",
        "# 20. CHASE BK USA NA/JPMORGAN CHASE & CO\n",
        "df_names[df_names[0].str.contains('CHASE')]"
      ],
      "execution_count": 119,
      "outputs": [
        {
          "output_type": "execute_result",
          "data": {
            "text/html": [
              "<div>\n",
              "<style scoped>\n",
              "    .dataframe tbody tr th:only-of-type {\n",
              "        vertical-align: middle;\n",
              "    }\n",
              "\n",
              "    .dataframe tbody tr th {\n",
              "        vertical-align: top;\n",
              "    }\n",
              "\n",
              "    .dataframe thead th {\n",
              "        text-align: right;\n",
              "    }\n",
              "</style>\n",
              "<table border=\"1\" class=\"dataframe\">\n",
              "  <thead>\n",
              "    <tr style=\"text-align: right;\">\n",
              "      <th></th>\n",
              "      <th>0</th>\n",
              "    </tr>\n",
              "  </thead>\n",
              "  <tbody>\n",
              "    <tr>\n",
              "      <th>49</th>\n",
              "      <td>JPMORGAN CHASE &amp; CO</td>\n",
              "    </tr>\n",
              "  </tbody>\n",
              "</table>\n",
              "</div>"
            ],
            "text/plain": [
              "                      0\n",
              "49  JPMORGAN CHASE & CO"
            ]
          },
          "metadata": {
            "tags": []
          },
          "execution_count": 119
        }
      ]
    },
    {
      "cell_type": "code",
      "metadata": {
        "id": "KG79dsrAbMBc",
        "colab_type": "code",
        "colab": {
          "base_uri": "https://localhost:8080/",
          "height": 35
        },
        "outputId": "6449be02-b6bc-40a7-9879-6f2c521b21cb"
      },
      "source": [
        "df_all = pd.merge(df_matches, df, how='inner',\n",
        "                  left_on=0, right_on='bankname'\n",
        "                 )\n",
        "print(df_all.shape)"
      ],
      "execution_count": 122,
      "outputs": [
        {
          "output_type": "stream",
          "text": [
            "(379862, 23)\n"
          ],
          "name": "stdout"
        }
      ]
    },
    {
      "cell_type": "markdown",
      "metadata": {
        "id": "7hGoK35gbw22",
        "colab_type": "text"
      },
      "source": [
        "# Finally it worked. Such a pain. Hate joining data on texts."
      ]
    },
    {
      "cell_type": "code",
      "metadata": {
        "id": "y5Z7ls8ccMJ8",
        "colab_type": "code",
        "colab": {
          "base_uri": "https://localhost:8080/",
          "height": 682
        },
        "outputId": "71250436-20d6-491a-baec-a7528c0ce10c"
      },
      "source": [
        "df_tops = (df_all\n",
        " .groupby(by='bankname', as_index=False)\n",
        " .agg({'Complaint ID':pd.Series.nunique})\n",
        " .sort_values(by='Complaint ID',\n",
        "              ascending=False)\n",
        ")\n",
        "df_tops.index=[x for x in np.arange(20)]\n",
        "print(df_tops.shape)\n",
        "df_tops"
      ],
      "execution_count": 165,
      "outputs": [
        {
          "output_type": "stream",
          "text": [
            "(20, 2)\n"
          ],
          "name": "stdout"
        },
        {
          "output_type": "execute_result",
          "data": {
            "text/html": [
              "<div>\n",
              "<style scoped>\n",
              "    .dataframe tbody tr th:only-of-type {\n",
              "        vertical-align: middle;\n",
              "    }\n",
              "\n",
              "    .dataframe tbody tr th {\n",
              "        vertical-align: top;\n",
              "    }\n",
              "\n",
              "    .dataframe thead th {\n",
              "        text-align: right;\n",
              "    }\n",
              "</style>\n",
              "<table border=\"1\" class=\"dataframe\">\n",
              "  <thead>\n",
              "    <tr style=\"text-align: right;\">\n",
              "      <th></th>\n",
              "      <th>bankname</th>\n",
              "      <th>Complaint ID</th>\n",
              "    </tr>\n",
              "  </thead>\n",
              "  <tbody>\n",
              "    <tr>\n",
              "      <th>0</th>\n",
              "      <td>BANK OF AMERICA, NATIONAL ASSOCIATION</td>\n",
              "      <td>83053</td>\n",
              "    </tr>\n",
              "    <tr>\n",
              "      <th>1</th>\n",
              "      <td>WELLS FARGO &amp; COMPANY</td>\n",
              "      <td>71931</td>\n",
              "    </tr>\n",
              "    <tr>\n",
              "      <th>2</th>\n",
              "      <td>JPMORGAN CHASE &amp; CO</td>\n",
              "      <td>61283</td>\n",
              "    </tr>\n",
              "    <tr>\n",
              "      <th>3</th>\n",
              "      <td>CITIBANK, NA</td>\n",
              "      <td>49887</td>\n",
              "    </tr>\n",
              "    <tr>\n",
              "      <th>4</th>\n",
              "      <td>CAPITAL ONE FINANCIAL CORPORATION</td>\n",
              "      <td>35406</td>\n",
              "    </tr>\n",
              "    <tr>\n",
              "      <th>5</th>\n",
              "      <td>US BANCORP</td>\n",
              "      <td>17402</td>\n",
              "    </tr>\n",
              "    <tr>\n",
              "      <th>6</th>\n",
              "      <td>PNC BANK NA</td>\n",
              "      <td>11990</td>\n",
              "    </tr>\n",
              "    <tr>\n",
              "      <th>7</th>\n",
              "      <td>TD BANK US HOLDING COMPANY</td>\n",
              "      <td>9922</td>\n",
              "    </tr>\n",
              "    <tr>\n",
              "      <th>8</th>\n",
              "      <td>HSBC NORTH AMERICA HOLDINGS INC</td>\n",
              "      <td>8840</td>\n",
              "    </tr>\n",
              "    <tr>\n",
              "      <th>9</th>\n",
              "      <td>SUNTRUST BANKS, INC</td>\n",
              "      <td>8800</td>\n",
              "    </tr>\n",
              "    <tr>\n",
              "      <th>10</th>\n",
              "      <td>ALLY FINANCIAL INC</td>\n",
              "      <td>5713</td>\n",
              "    </tr>\n",
              "    <tr>\n",
              "      <th>11</th>\n",
              "      <td>FIFTH THIRD FINANCIAL CORPORATION</td>\n",
              "      <td>5450</td>\n",
              "    </tr>\n",
              "    <tr>\n",
              "      <th>12</th>\n",
              "      <td>BB&amp;T CORPORATION</td>\n",
              "      <td>5024</td>\n",
              "    </tr>\n",
              "    <tr>\n",
              "      <th>13</th>\n",
              "      <td>KEYCORP</td>\n",
              "      <td>3346</td>\n",
              "    </tr>\n",
              "    <tr>\n",
              "      <th>14</th>\n",
              "      <td>MUFG UNION BANK, NATIONAL ASSOCIATION</td>\n",
              "      <td>809</td>\n",
              "    </tr>\n",
              "    <tr>\n",
              "      <th>15</th>\n",
              "      <td>MORGAN STANLEY &amp; CO LLC</td>\n",
              "      <td>330</td>\n",
              "    </tr>\n",
              "    <tr>\n",
              "      <th>16</th>\n",
              "      <td>GOLDMAN SACHS BANK USA</td>\n",
              "      <td>298</td>\n",
              "    </tr>\n",
              "    <tr>\n",
              "      <th>17</th>\n",
              "      <td>BNY MELLON, NATIONAL ASSOCIATION</td>\n",
              "      <td>273</td>\n",
              "    </tr>\n",
              "    <tr>\n",
              "      <th>18</th>\n",
              "      <td>NORTHERN TRUST COMPANY, THE</td>\n",
              "      <td>84</td>\n",
              "    </tr>\n",
              "    <tr>\n",
              "      <th>19</th>\n",
              "      <td>STATE STREET BANK AND TRUST COMPANY</td>\n",
              "      <td>21</td>\n",
              "    </tr>\n",
              "  </tbody>\n",
              "</table>\n",
              "</div>"
            ],
            "text/plain": [
              "                                 bankname  Complaint ID\n",
              "0   BANK OF AMERICA, NATIONAL ASSOCIATION         83053\n",
              "1                   WELLS FARGO & COMPANY         71931\n",
              "2                     JPMORGAN CHASE & CO         61283\n",
              "3                            CITIBANK, NA         49887\n",
              "4       CAPITAL ONE FINANCIAL CORPORATION         35406\n",
              "5                              US BANCORP         17402\n",
              "6                             PNC BANK NA         11990\n",
              "7              TD BANK US HOLDING COMPANY          9922\n",
              "8         HSBC NORTH AMERICA HOLDINGS INC          8840\n",
              "9                     SUNTRUST BANKS, INC          8800\n",
              "10                     ALLY FINANCIAL INC          5713\n",
              "11      FIFTH THIRD FINANCIAL CORPORATION          5450\n",
              "12                       BB&T CORPORATION          5024\n",
              "13                                KEYCORP          3346\n",
              "14  MUFG UNION BANK, NATIONAL ASSOCIATION           809\n",
              "15                MORGAN STANLEY & CO LLC           330\n",
              "16                 GOLDMAN SACHS BANK USA           298\n",
              "17       BNY MELLON, NATIONAL ASSOCIATION           273\n",
              "18            NORTHERN TRUST COMPANY, THE            84\n",
              "19    STATE STREET BANK AND TRUST COMPANY            21"
            ]
          },
          "metadata": {
            "tags": []
          },
          "execution_count": 165
        }
      ]
    },
    {
      "cell_type": "code",
      "metadata": {
        "id": "U2EOoK-idJHK",
        "colab_type": "code",
        "colab": {
          "base_uri": "https://localhost:8080/",
          "height": 404
        },
        "outputId": "7644bab0-f8af-46e0-873f-b112f9c4559e"
      },
      "source": [
        "df_banks.iloc[:21,0] \n",
        "# [1,2,0,3,6,4,5,7,13,11,14,16,10,17,20,15,12,8,19,9]"
      ],
      "execution_count": 143,
      "outputs": [
        {
          "output_type": "execute_result",
          "data": {
            "text/plain": [
              "0         JPMORGAN CHASE BK NA/JPMORGAN CHASE & CO\n",
              "1                BANK OF AMER NA/BANK OF AMER CORP\n",
              "2               WELLS FARGO BK NA/WELLS FARGO & CO\n",
              "3                            CITIBANK NA/CITIGROUP\n",
              "4                                 U S BK NA/U S BC\n",
              "5                     PNC BK NA/PNC FNCL SVC GROUP\n",
              "6                    CAPITAL ONE NA/CAPITAL ONE FC\n",
              "7                    T D BK NA/TD GRP US HOLDS LLC\n",
              "8         BANK OF NY MELLON/BANK OF NY MELLON CORP\n",
              "9              STATE STREET B&TC/STATE STREET CORP\n",
              "10                         BRANCH BKG&TC/BB&T CORP\n",
              "11                         SUNTRUST BK/SUNTRUST BK\n",
              "12    GOLDMAN SACHS BK USA/GOLDMAN SACHS GROUP THE\n",
              "13                HSBC BK USA NA/HSBC N AMER HOLDS\n",
              "14                               ALLY BK/ALLY FNCL\n",
              "15             MORGAN STANLEY BK NA/MORGAN STANLEY\n",
              "16                   FIFTH THIRD BK/FIFTH THIRD BC\n",
              "17                              KEYBANK NA/KEYCORP\n",
              "18             CHASE BK USA NA/JPMORGAN CHASE & CO\n",
              "19                    NORTHERN TC/NORTHERN TR CORP\n",
              "20          MUFG UNION BK NA/MUFG AMERS HOLDS CORP\n",
              "Name: Bank Name / Holding Co Name, dtype: object"
            ]
          },
          "metadata": {
            "tags": []
          },
          "execution_count": 143
        }
      ]
    },
    {
      "cell_type": "code",
      "metadata": {
        "id": "qJ4YqufAfbbl",
        "colab_type": "code",
        "colab": {
          "base_uri": "https://localhost:8080/",
          "height": 35
        },
        "outputId": "4e3dcdac-986d-43b9-ab9c-17e2e26e8b8f"
      },
      "source": [
        "seq = [1,2,0,3,6,4,5,7,13,11,14,16,10,17,20,15,12,8,19,9]\n",
        "len(seq)"
      ],
      "execution_count": 145,
      "outputs": [
        {
          "output_type": "execute_result",
          "data": {
            "text/plain": [
              "20"
            ]
          },
          "metadata": {
            "tags": []
          },
          "execution_count": 145
        }
      ]
    },
    {
      "cell_type": "code",
      "metadata": {
        "id": "1pDhDgJQfkTJ",
        "colab_type": "code",
        "colab": {
          "base_uri": "https://localhost:8080/",
          "height": 141
        },
        "outputId": "ceb60050-5849-44a9-fddd-84f14ecf4b00"
      },
      "source": [
        "df_topbanks = pd.DataFrame([df_banks.iloc[:21,[0,1,2,5,6]].values[s] for s in seq])\n",
        "df_topbanks.head(3)"
      ],
      "execution_count": 155,
      "outputs": [
        {
          "output_type": "execute_result",
          "data": {
            "text/html": [
              "<div>\n",
              "<style scoped>\n",
              "    .dataframe tbody tr th:only-of-type {\n",
              "        vertical-align: middle;\n",
              "    }\n",
              "\n",
              "    .dataframe tbody tr th {\n",
              "        vertical-align: top;\n",
              "    }\n",
              "\n",
              "    .dataframe thead th {\n",
              "        text-align: right;\n",
              "    }\n",
              "</style>\n",
              "<table border=\"1\" class=\"dataframe\">\n",
              "  <thead>\n",
              "    <tr style=\"text-align: right;\">\n",
              "      <th></th>\n",
              "      <th>0</th>\n",
              "      <th>1</th>\n",
              "      <th>2</th>\n",
              "      <th>3</th>\n",
              "      <th>4</th>\n",
              "    </tr>\n",
              "  </thead>\n",
              "  <tbody>\n",
              "    <tr>\n",
              "      <th>0</th>\n",
              "      <td>BANK OF AMER NA/BANK OF AMER CORP</td>\n",
              "      <td>2</td>\n",
              "      <td>480228</td>\n",
              "      <td>1782639</td>\n",
              "      <td>1,690,841</td>\n",
              "    </tr>\n",
              "    <tr>\n",
              "      <th>1</th>\n",
              "      <td>WELLS FARGO BK NA/WELLS FARGO &amp; CO</td>\n",
              "      <td>3</td>\n",
              "      <td>451965</td>\n",
              "      <td>1689351</td>\n",
              "      <td>1,635,096</td>\n",
              "    </tr>\n",
              "    <tr>\n",
              "      <th>2</th>\n",
              "      <td>JPMORGAN CHASE BK NA/JPMORGAN CHASE &amp; CO</td>\n",
              "      <td>1</td>\n",
              "      <td>852218</td>\n",
              "      <td>2218960</td>\n",
              "      <td>1,659,733</td>\n",
              "    </tr>\n",
              "  </tbody>\n",
              "</table>\n",
              "</div>"
            ],
            "text/plain": [
              "                                          0  1       2        3          4\n",
              "0         BANK OF AMER NA/BANK OF AMER CORP  2  480228  1782639  1,690,841\n",
              "1        WELLS FARGO BK NA/WELLS FARGO & CO  3  451965  1689351  1,635,096\n",
              "2  JPMORGAN CHASE BK NA/JPMORGAN CHASE & CO  1  852218  2218960  1,659,733"
            ]
          },
          "metadata": {
            "tags": []
          },
          "execution_count": 155
        }
      ]
    },
    {
      "cell_type": "code",
      "metadata": {
        "id": "Odw_XpnOhsrE",
        "colab_type": "code",
        "colab": {
          "base_uri": "https://localhost:8080/",
          "height": 665
        },
        "outputId": "ea073a32-9887-4a57-a6e5-682707bb683a"
      },
      "source": [
        "pd.concat([df_tops, df_topbanks], axis=1)"
      ],
      "execution_count": 166,
      "outputs": [
        {
          "output_type": "execute_result",
          "data": {
            "text/html": [
              "<div>\n",
              "<style scoped>\n",
              "    .dataframe tbody tr th:only-of-type {\n",
              "        vertical-align: middle;\n",
              "    }\n",
              "\n",
              "    .dataframe tbody tr th {\n",
              "        vertical-align: top;\n",
              "    }\n",
              "\n",
              "    .dataframe thead th {\n",
              "        text-align: right;\n",
              "    }\n",
              "</style>\n",
              "<table border=\"1\" class=\"dataframe\">\n",
              "  <thead>\n",
              "    <tr style=\"text-align: right;\">\n",
              "      <th></th>\n",
              "      <th>bankname</th>\n",
              "      <th>Complaint ID</th>\n",
              "      <th>0</th>\n",
              "      <th>1</th>\n",
              "      <th>2</th>\n",
              "      <th>3</th>\n",
              "      <th>4</th>\n",
              "    </tr>\n",
              "  </thead>\n",
              "  <tbody>\n",
              "    <tr>\n",
              "      <th>0</th>\n",
              "      <td>BANK OF AMERICA, NATIONAL ASSOCIATION</td>\n",
              "      <td>83053</td>\n",
              "      <td>BANK OF AMER NA/BANK OF AMER CORP</td>\n",
              "      <td>2</td>\n",
              "      <td>480228</td>\n",
              "      <td>1782639</td>\n",
              "      <td>1,690,841</td>\n",
              "    </tr>\n",
              "    <tr>\n",
              "      <th>1</th>\n",
              "      <td>WELLS FARGO &amp; COMPANY</td>\n",
              "      <td>71931</td>\n",
              "      <td>WELLS FARGO BK NA/WELLS FARGO &amp; CO</td>\n",
              "      <td>3</td>\n",
              "      <td>451965</td>\n",
              "      <td>1689351</td>\n",
              "      <td>1,635,096</td>\n",
              "    </tr>\n",
              "    <tr>\n",
              "      <th>2</th>\n",
              "      <td>JPMORGAN CHASE &amp; CO</td>\n",
              "      <td>61283</td>\n",
              "      <td>JPMORGAN CHASE BK NA/JPMORGAN CHASE &amp; CO</td>\n",
              "      <td>1</td>\n",
              "      <td>852218</td>\n",
              "      <td>2218960</td>\n",
              "      <td>1,659,733</td>\n",
              "    </tr>\n",
              "    <tr>\n",
              "      <th>3</th>\n",
              "      <td>CITIBANK, NA</td>\n",
              "      <td>49887</td>\n",
              "      <td>CITIBANK NA/CITIGROUP</td>\n",
              "      <td>4</td>\n",
              "      <td>476810</td>\n",
              "      <td>1406717</td>\n",
              "      <td>826,848</td>\n",
              "    </tr>\n",
              "    <tr>\n",
              "      <th>4</th>\n",
              "      <td>CAPITAL ONE FINANCIAL CORPORATION</td>\n",
              "      <td>35406</td>\n",
              "      <td>CAPITAL ONE NA/CAPITAL ONE FC</td>\n",
              "      <td>7</td>\n",
              "      <td>112837</td>\n",
              "      <td>304658</td>\n",
              "      <td>304,654</td>\n",
              "    </tr>\n",
              "    <tr>\n",
              "      <th>5</th>\n",
              "      <td>US BANCORP</td>\n",
              "      <td>17402</td>\n",
              "      <td>U S BK NA/U S BC</td>\n",
              "      <td>5</td>\n",
              "      <td>504713</td>\n",
              "      <td>459477</td>\n",
              "      <td>449,994</td>\n",
              "    </tr>\n",
              "    <tr>\n",
              "      <th>6</th>\n",
              "      <td>PNC BANK NA</td>\n",
              "      <td>11990</td>\n",
              "      <td>PNC BK NA/PNC FNCL SVC GROUP</td>\n",
              "      <td>6</td>\n",
              "      <td>817824</td>\n",
              "      <td>370501</td>\n",
              "      <td>366,312</td>\n",
              "    </tr>\n",
              "    <tr>\n",
              "      <th>7</th>\n",
              "      <td>TD BANK US HOLDING COMPANY</td>\n",
              "      <td>9922</td>\n",
              "      <td>T D BK NA/TD GRP US HOLDS LLC</td>\n",
              "      <td>8</td>\n",
              "      <td>497404</td>\n",
              "      <td>302669</td>\n",
              "      <td>302,669</td>\n",
              "    </tr>\n",
              "    <tr>\n",
              "      <th>8</th>\n",
              "      <td>HSBC NORTH AMERICA HOLDINGS INC</td>\n",
              "      <td>8840</td>\n",
              "      <td>HSBC BK USA NA/HSBC N AMER HOLDS</td>\n",
              "      <td>14</td>\n",
              "      <td>413208</td>\n",
              "      <td>169812</td>\n",
              "      <td>168,096</td>\n",
              "    </tr>\n",
              "    <tr>\n",
              "      <th>9</th>\n",
              "      <td>SUNTRUST BANKS, INC</td>\n",
              "      <td>8800</td>\n",
              "      <td>SUNTRUST BK/SUNTRUST BK</td>\n",
              "      <td>12</td>\n",
              "      <td>675332</td>\n",
              "      <td>209720</td>\n",
              "      <td>209,720</td>\n",
              "    </tr>\n",
              "    <tr>\n",
              "      <th>10</th>\n",
              "      <td>ALLY FINANCIAL INC</td>\n",
              "      <td>5713</td>\n",
              "      <td>ALLY BK/ALLY FNCL</td>\n",
              "      <td>15</td>\n",
              "      <td>3284070</td>\n",
              "      <td>159291</td>\n",
              "      <td>159,291</td>\n",
              "    </tr>\n",
              "    <tr>\n",
              "      <th>11</th>\n",
              "      <td>FIFTH THIRD FINANCIAL CORPORATION</td>\n",
              "      <td>5450</td>\n",
              "      <td>FIFTH THIRD BK/FIFTH THIRD BC</td>\n",
              "      <td>17</td>\n",
              "      <td>723112</td>\n",
              "      <td>144453</td>\n",
              "      <td>143,880</td>\n",
              "    </tr>\n",
              "    <tr>\n",
              "      <th>12</th>\n",
              "      <td>BB&amp;T CORPORATION</td>\n",
              "      <td>5024</td>\n",
              "      <td>BRANCH BKG&amp;TC/BB&amp;T CORP</td>\n",
              "      <td>11</td>\n",
              "      <td>852320</td>\n",
              "      <td>219071</td>\n",
              "      <td>218,860</td>\n",
              "    </tr>\n",
              "    <tr>\n",
              "      <th>13</th>\n",
              "      <td>KEYCORP</td>\n",
              "      <td>3346</td>\n",
              "      <td>KEYBANK NA/KEYCORP</td>\n",
              "      <td>18</td>\n",
              "      <td>280110</td>\n",
              "      <td>137977</td>\n",
              "      <td>137,963</td>\n",
              "    </tr>\n",
              "    <tr>\n",
              "      <th>14</th>\n",
              "      <td>MUFG UNION BANK, NATIONAL ASSOCIATION</td>\n",
              "      <td>809</td>\n",
              "      <td>MUFG UNION BK NA/MUFG AMERS HOLDS CORP</td>\n",
              "      <td>21</td>\n",
              "      <td>212465</td>\n",
              "      <td>130783</td>\n",
              "      <td>130,783</td>\n",
              "    </tr>\n",
              "    <tr>\n",
              "      <th>15</th>\n",
              "      <td>MORGAN STANLEY &amp; CO LLC</td>\n",
              "      <td>330</td>\n",
              "      <td>MORGAN STANLEY BK NA/MORGAN STANLEY</td>\n",
              "      <td>16</td>\n",
              "      <td>1456501</td>\n",
              "      <td>149817</td>\n",
              "      <td>149,817</td>\n",
              "    </tr>\n",
              "    <tr>\n",
              "      <th>16</th>\n",
              "      <td>GOLDMAN SACHS BANK USA</td>\n",
              "      <td>298</td>\n",
              "      <td>GOLDMAN SACHS BK USA/GOLDMAN SACHS GROUP THE</td>\n",
              "      <td>13</td>\n",
              "      <td>2182786</td>\n",
              "      <td>191517</td>\n",
              "      <td>191,517</td>\n",
              "    </tr>\n",
              "    <tr>\n",
              "      <th>17</th>\n",
              "      <td>BNY MELLON, NATIONAL ASSOCIATION</td>\n",
              "      <td>273</td>\n",
              "      <td>BANK OF NY MELLON/BANK OF NY MELLON CORP</td>\n",
              "      <td>9</td>\n",
              "      <td>541101</td>\n",
              "      <td>286411</td>\n",
              "      <td>184,030</td>\n",
              "    </tr>\n",
              "    <tr>\n",
              "      <th>18</th>\n",
              "      <td>NORTHERN TRUST COMPANY, THE</td>\n",
              "      <td>84</td>\n",
              "      <td>NORTHERN TC/NORTHERN TR CORP</td>\n",
              "      <td>20</td>\n",
              "      <td>210434</td>\n",
              "      <td>131696</td>\n",
              "      <td>90,988</td>\n",
              "    </tr>\n",
              "    <tr>\n",
              "      <th>19</th>\n",
              "      <td>STATE STREET BANK AND TRUST COMPANY</td>\n",
              "      <td>21</td>\n",
              "      <td>STATE STREET B&amp;TC/STATE STREET CORP</td>\n",
              "      <td>10</td>\n",
              "      <td>35301</td>\n",
              "      <td>242038</td>\n",
              "      <td>153,292</td>\n",
              "    </tr>\n",
              "  </tbody>\n",
              "</table>\n",
              "</div>"
            ],
            "text/plain": [
              "                                 bankname  Complaint ID  \\\n",
              "0   BANK OF AMERICA, NATIONAL ASSOCIATION         83053   \n",
              "1                   WELLS FARGO & COMPANY         71931   \n",
              "2                     JPMORGAN CHASE & CO         61283   \n",
              "3                            CITIBANK, NA         49887   \n",
              "4       CAPITAL ONE FINANCIAL CORPORATION         35406   \n",
              "5                              US BANCORP         17402   \n",
              "6                             PNC BANK NA         11990   \n",
              "7              TD BANK US HOLDING COMPANY          9922   \n",
              "8         HSBC NORTH AMERICA HOLDINGS INC          8840   \n",
              "9                     SUNTRUST BANKS, INC          8800   \n",
              "10                     ALLY FINANCIAL INC          5713   \n",
              "11      FIFTH THIRD FINANCIAL CORPORATION          5450   \n",
              "12                       BB&T CORPORATION          5024   \n",
              "13                                KEYCORP          3346   \n",
              "14  MUFG UNION BANK, NATIONAL ASSOCIATION           809   \n",
              "15                MORGAN STANLEY & CO LLC           330   \n",
              "16                 GOLDMAN SACHS BANK USA           298   \n",
              "17       BNY MELLON, NATIONAL ASSOCIATION           273   \n",
              "18            NORTHERN TRUST COMPANY, THE            84   \n",
              "19    STATE STREET BANK AND TRUST COMPANY            21   \n",
              "\n",
              "                                               0   1        2        3  \\\n",
              "0              BANK OF AMER NA/BANK OF AMER CORP   2   480228  1782639   \n",
              "1             WELLS FARGO BK NA/WELLS FARGO & CO   3   451965  1689351   \n",
              "2       JPMORGAN CHASE BK NA/JPMORGAN CHASE & CO   1   852218  2218960   \n",
              "3                          CITIBANK NA/CITIGROUP   4   476810  1406717   \n",
              "4                  CAPITAL ONE NA/CAPITAL ONE FC   7   112837   304658   \n",
              "5                               U S BK NA/U S BC   5   504713   459477   \n",
              "6                   PNC BK NA/PNC FNCL SVC GROUP   6   817824   370501   \n",
              "7                  T D BK NA/TD GRP US HOLDS LLC   8   497404   302669   \n",
              "8               HSBC BK USA NA/HSBC N AMER HOLDS  14   413208   169812   \n",
              "9                        SUNTRUST BK/SUNTRUST BK  12   675332   209720   \n",
              "10                             ALLY BK/ALLY FNCL  15  3284070   159291   \n",
              "11                 FIFTH THIRD BK/FIFTH THIRD BC  17   723112   144453   \n",
              "12                       BRANCH BKG&TC/BB&T CORP  11   852320   219071   \n",
              "13                            KEYBANK NA/KEYCORP  18   280110   137977   \n",
              "14        MUFG UNION BK NA/MUFG AMERS HOLDS CORP  21   212465   130783   \n",
              "15           MORGAN STANLEY BK NA/MORGAN STANLEY  16  1456501   149817   \n",
              "16  GOLDMAN SACHS BK USA/GOLDMAN SACHS GROUP THE  13  2182786   191517   \n",
              "17      BANK OF NY MELLON/BANK OF NY MELLON CORP   9   541101   286411   \n",
              "18                  NORTHERN TC/NORTHERN TR CORP  20   210434   131696   \n",
              "19           STATE STREET B&TC/STATE STREET CORP  10    35301   242038   \n",
              "\n",
              "            4  \n",
              "0   1,690,841  \n",
              "1   1,635,096  \n",
              "2   1,659,733  \n",
              "3     826,848  \n",
              "4     304,654  \n",
              "5     449,994  \n",
              "6     366,312  \n",
              "7     302,669  \n",
              "8     168,096  \n",
              "9     209,720  \n",
              "10    159,291  \n",
              "11    143,880  \n",
              "12    218,860  \n",
              "13    137,963  \n",
              "14    130,783  \n",
              "15    149,817  \n",
              "16    191,517  \n",
              "17    184,030  \n",
              "18     90,988  \n",
              "19    153,292  "
            ]
          },
          "metadata": {
            "tags": []
          },
          "execution_count": 166
        }
      ]
    }
  ]
}